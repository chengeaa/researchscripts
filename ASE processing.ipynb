{
 "cells": [
  {
   "cell_type": "code",
   "execution_count": 41,
   "metadata": {
    "ExecuteTime": {
     "end_time": "2021-04-27T00:24:58.921460Z",
     "start_time": "2021-04-27T00:24:58.911421Z"
    },
    "scrolled": true
   },
   "outputs": [
    {
     "ename": "ModuleNotFoundError",
     "evalue": "No module named 'dependencies'",
     "output_type": "error",
     "traceback": [
      "\u001b[0;31m---------------------------------------------------------------------------\u001b[0m",
      "\u001b[0;31mModuleNotFoundError\u001b[0m                       Traceback (most recent call last)",
      "\u001b[0;32m<ipython-input-41-1845259712d5>\u001b[0m in \u001b[0;36m<module>\u001b[0;34m\u001b[0m\n\u001b[0;32m----> 1\u001b[0;31m \u001b[0;32mfrom\u001b[0m \u001b[0mdependencies\u001b[0m \u001b[0;32mimport\u001b[0m \u001b[0;34m*\u001b[0m\u001b[0;34m\u001b[0m\u001b[0;34m\u001b[0m\u001b[0m\n\u001b[0m",
      "\u001b[0;31mModuleNotFoundError\u001b[0m: No module named 'dependencies'"
     ]
    }
   ],
   "source": [
    "from dependencies import *"
   ]
  },
  {
   "cell_type": "code",
   "execution_count": null,
   "metadata": {
    "ExecuteTime": {
     "end_time": "2021-04-27T00:24:58.922937Z",
     "start_time": "2021-04-27T00:24:58.915Z"
    }
   },
   "outputs": [],
   "source": [
    "temp = amorphous.copy()\n",
    "del temp[[atom.index for atom in temp if atom.symbol not in [\"Si\", \"N\"]]]\n",
    "zmax = max([atom.position[2] for atom in temp])\n",
    "Nsurf = len([atom for atom in temp if atom.symbol == \"N\" and atom.position[2] > zmax - 6])\n",
    "Sisurf = len([atom for atom in temp if atom.symbol == \"Si\" and atom.position[2] > zmax - 6])\n",
    "Nsurf, Sisurf, Nsurf/len(temp), Sisurf/len(temp)"
   ]
  },
  {
   "cell_type": "code",
   "execution_count": 42,
   "metadata": {
    "ExecuteTime": {
     "end_time": "2021-04-27T00:24:59.542088Z",
     "start_time": "2021-04-27T00:24:59.025053Z"
    }
   },
   "outputs": [
    {
     "data": {
      "text/plain": [
       "Text(0, 0.5, 'formation energy $\\\\Delta$ E')"
      ]
     },
     "execution_count": 42,
     "metadata": {},
     "output_type": "execute_result"
    },
    {
     "data": {
      "image/png": "[encoded data removed]",
      "text/plain": [
       "<Figure size 576x288 with 1 Axes>"
      ]
     },
     "metadata": {
      "needs_background": "light"
     },
     "output_type": "display_data"
    }
   ],
   "source": [
    "plt.figure(figsize = (8,4))\n",
    "x1 = np.array([-7.9332, -6.8634, -6.9211])\n",
    "x2 = x1 + 1.7427\n",
    "x3 = x1 + 6.5849\n",
    "x4 = x2 + 6.5849\n",
    "\n",
    "x = [0, 1, 2]\n",
    "\n",
    "plt.plot(x, x1, label = 'ref: F*', marker = 'o')\n",
    "plt.plot(x, x2, label = 'ref: 1/2 F2', marker = 'o')\n",
    "plt.plot(x, x3, label = 'ref: F* + MeF decomposition', marker = 'o')\n",
    "plt.plot(x, x4, label = 'ref: 1/2 F2 + MeF decomposition', marker = 'o')\n",
    "\n",
    "plt.grid()\n",
    "plt.legend()\n",
    "plt.title(r'formation energy for reaction $Si(NH_2)_3$ + F $\\rightarrow$ $Si(NH_2)_3F$ with different charges and reference energies')\n",
    "plt.xlabel('# excess electrons in system')\n",
    "plt.ylabel(r'formation energy $\\Delta$ E')"
   ]
  },
  {
   "cell_type": "markdown",
   "metadata": {},
   "source": [
    "\n",
    "# Analysis"
   ]
  },
  {
   "cell_type": "markdown",
   "metadata": {
    "heading_collapsed": true
   },
   "source": [
    "## Data read"
   ]
  },
  {
   "cell_type": "markdown",
   "metadata": {
    "hidden": true
   },
   "source": [
    "Read data (and wrap periodic images)"
   ]
  },
  {
   "cell_type": "code",
   "execution_count": 43,
   "metadata": {
    "ExecuteTime": {
     "end_time": "2021-04-27T00:24:59.557835Z",
     "start_time": "2021-04-27T00:24:59.543810Z"
    },
    "hidden": true
   },
   "outputs": [
    {
     "ename": "NameError",
     "evalue": "name 'gen' is not defined",
     "output_type": "error",
     "traceback": [
      "\u001b[0;31m---------------------------------------------------------------------------\u001b[0m",
      "\u001b[0;31mNameError\u001b[0m                                 Traceback (most recent call last)",
      "\u001b[0;32m<ipython-input-43-a97f675bd4fb>\u001b[0m in \u001b[0;36m<module>\u001b[0;34m\u001b[0m\n\u001b[1;32m      3\u001b[0m \u001b[0mfile_nums\u001b[0m \u001b[0;34m=\u001b[0m \u001b[0;34m[\u001b[0m\u001b[0;36m2\u001b[0m\u001b[0;34m,\u001b[0m\u001b[0;36m4\u001b[0m\u001b[0;34m,\u001b[0m\u001b[0;36m5\u001b[0m\u001b[0;34m,\u001b[0m\u001b[0;36m7\u001b[0m\u001b[0;34m,\u001b[0m\u001b[0;36m11\u001b[0m\u001b[0;34m,\u001b[0m\u001b[0;36m14\u001b[0m\u001b[0;34m,\u001b[0m\u001b[0;36m15\u001b[0m\u001b[0;34m,\u001b[0m\u001b[0;36m16\u001b[0m\u001b[0;34m,\u001b[0m\u001b[0;36m17\u001b[0m\u001b[0;34m,\u001b[0m\u001b[0;36m20\u001b[0m\u001b[0;34m,\u001b[0m\u001b[0;36m21\u001b[0m\u001b[0;34m,\u001b[0m\u001b[0;36m22\u001b[0m\u001b[0;34m,\u001b[0m \u001b[0;36m24\u001b[0m\u001b[0;34m,\u001b[0m\u001b[0;36m25\u001b[0m\u001b[0;34m]\u001b[0m\u001b[0;34m\u001b[0m\u001b[0;34m\u001b[0m\u001b[0m\n\u001b[1;32m      4\u001b[0m \u001b[0;31m# file_nums = range(first_file_num, last_file_num + 1)\u001b[0m\u001b[0;34m\u001b[0m\u001b[0;34m\u001b[0m\u001b[0;34m\u001b[0m\u001b[0m\n\u001b[0;32m----> 5\u001b[0;31m \u001b[0mdata\u001b[0m \u001b[0;34m=\u001b[0m \u001b[0;34m[\u001b[0m\u001b[0mgen\u001b[0m\u001b[0;34m.\u001b[0m\u001b[0mread_gen\u001b[0m\u001b[0;34m(\u001b[0m\u001b[0;34m\"../\"\u001b[0m \u001b[0;34m+\u001b[0m \u001b[0mprefix\u001b[0m \u001b[0;34m+\u001b[0m \u001b[0mstr\u001b[0m\u001b[0;34m(\u001b[0m\u001b[0mi\u001b[0m\u001b[0;34m)\u001b[0m \u001b[0;34m+\u001b[0m \u001b[0;34m\".gen\"\u001b[0m\u001b[0;34m)\u001b[0m \u001b[0;32mfor\u001b[0m \u001b[0mi\u001b[0m \u001b[0;32min\u001b[0m \u001b[0mfile_nums\u001b[0m\u001b[0;34m]\u001b[0m\u001b[0;34m\u001b[0m\u001b[0;34m\u001b[0m\u001b[0m\n\u001b[0m\u001b[1;32m      6\u001b[0m \u001b[0;32mfor\u001b[0m \u001b[0mi\u001b[0m \u001b[0;32min\u001b[0m \u001b[0mdata\u001b[0m\u001b[0;34m:\u001b[0m\u001b[0;34m\u001b[0m\u001b[0;34m\u001b[0m\u001b[0m\n\u001b[1;32m      7\u001b[0m     \u001b[0mi\u001b[0m\u001b[0;34m.\u001b[0m\u001b[0mwrap\u001b[0m\u001b[0;34m(\u001b[0m\u001b[0;34m)\u001b[0m\u001b[0;34m\u001b[0m\u001b[0;34m\u001b[0m\u001b[0m\n",
      "\u001b[0;32m<ipython-input-43-a97f675bd4fb>\u001b[0m in \u001b[0;36m<listcomp>\u001b[0;34m(.0)\u001b[0m\n\u001b[1;32m      3\u001b[0m \u001b[0mfile_nums\u001b[0m \u001b[0;34m=\u001b[0m \u001b[0;34m[\u001b[0m\u001b[0;36m2\u001b[0m\u001b[0;34m,\u001b[0m\u001b[0;36m4\u001b[0m\u001b[0;34m,\u001b[0m\u001b[0;36m5\u001b[0m\u001b[0;34m,\u001b[0m\u001b[0;36m7\u001b[0m\u001b[0;34m,\u001b[0m\u001b[0;36m11\u001b[0m\u001b[0;34m,\u001b[0m\u001b[0;36m14\u001b[0m\u001b[0;34m,\u001b[0m\u001b[0;36m15\u001b[0m\u001b[0;34m,\u001b[0m\u001b[0;36m16\u001b[0m\u001b[0;34m,\u001b[0m\u001b[0;36m17\u001b[0m\u001b[0;34m,\u001b[0m\u001b[0;36m20\u001b[0m\u001b[0;34m,\u001b[0m\u001b[0;36m21\u001b[0m\u001b[0;34m,\u001b[0m\u001b[0;36m22\u001b[0m\u001b[0;34m,\u001b[0m \u001b[0;36m24\u001b[0m\u001b[0;34m,\u001b[0m\u001b[0;36m25\u001b[0m\u001b[0;34m]\u001b[0m\u001b[0;34m\u001b[0m\u001b[0;34m\u001b[0m\u001b[0m\n\u001b[1;32m      4\u001b[0m \u001b[0;31m# file_nums = range(first_file_num, last_file_num + 1)\u001b[0m\u001b[0;34m\u001b[0m\u001b[0;34m\u001b[0m\u001b[0;34m\u001b[0m\u001b[0m\n\u001b[0;32m----> 5\u001b[0;31m \u001b[0mdata\u001b[0m \u001b[0;34m=\u001b[0m \u001b[0;34m[\u001b[0m\u001b[0mgen\u001b[0m\u001b[0;34m.\u001b[0m\u001b[0mread_gen\u001b[0m\u001b[0;34m(\u001b[0m\u001b[0;34m\"../\"\u001b[0m \u001b[0;34m+\u001b[0m \u001b[0mprefix\u001b[0m \u001b[0;34m+\u001b[0m \u001b[0mstr\u001b[0m\u001b[0;34m(\u001b[0m\u001b[0mi\u001b[0m\u001b[0;34m)\u001b[0m \u001b[0;34m+\u001b[0m \u001b[0;34m\".gen\"\u001b[0m\u001b[0;34m)\u001b[0m \u001b[0;32mfor\u001b[0m \u001b[0mi\u001b[0m \u001b[0;32min\u001b[0m \u001b[0mfile_nums\u001b[0m\u001b[0;34m]\u001b[0m\u001b[0;34m\u001b[0m\u001b[0;34m\u001b[0m\u001b[0m\n\u001b[0m\u001b[1;32m      6\u001b[0m \u001b[0;32mfor\u001b[0m \u001b[0mi\u001b[0m \u001b[0;32min\u001b[0m \u001b[0mdata\u001b[0m\u001b[0;34m:\u001b[0m\u001b[0;34m\u001b[0m\u001b[0;34m\u001b[0m\u001b[0m\n\u001b[1;32m      7\u001b[0m     \u001b[0mi\u001b[0m\u001b[0;34m.\u001b[0m\u001b[0mwrap\u001b[0m\u001b[0;34m(\u001b[0m\u001b[0;34m)\u001b[0m\u001b[0;34m\u001b[0m\u001b[0;34m\u001b[0m\u001b[0m\n",
      "\u001b[0;31mNameError\u001b[0m: name 'gen' is not defined"
     ]
    }
   ],
   "source": [
    "first_file_num, last_file_num = 1, 25\n",
    "prefix = \"output\"\n",
    "file_nums = [2,4,5,7,11,14,15,16,17,20,21,22, 24,25]\n",
    "# file_nums = range(first_file_num, last_file_num + 1)\n",
    "data = [gen.read_gen(\"../\" + prefix + str(i) + \".gen\") for i in file_nums]\n",
    "for i in data:\n",
    "    i.wrap()\n",
    "#exclude errored runs\n",
    "# error_list = [6, 10, 12, 13, 21]"
   ]
  },
  {
   "cell_type": "markdown",
   "metadata": {
    "hidden": true
   },
   "source": [
    "Show atoms, save image"
   ]
  },
  {
   "cell_type": "code",
   "execution_count": null,
   "metadata": {
    "ExecuteTime": {
     "end_time": "2021-04-27T00:24:59.733300Z",
     "start_time": "2021-04-27T00:24:58.945Z"
    },
    "hidden": true
   },
   "outputs": [],
   "source": [
    "show_atoms_grid(data)\n",
    "    \n",
    "# fig.savefig(\"allconfigs.png\")"
   ]
  },
  {
   "cell_type": "markdown",
   "metadata": {
    "heading_collapsed": true
   },
   "source": [
    "## RDF"
   ]
  },
  {
   "cell_type": "code",
   "execution_count": null,
   "metadata": {
    "ExecuteTime": {
     "end_time": "2021-04-27T00:24:59.734990Z",
     "start_time": "2021-04-27T00:24:58.956Z"
    },
    "hidden": true
   },
   "outputs": [],
   "source": [
    "datadir = \"../bomb/\" #bare bombardment, v0.13 = 35.0 eV, 0.135 = 37.7 eV, .14 = 40.55 eV\n",
    "geometries = {}\n",
    "for i in os.listdir(datadir):\n",
    "    if \".gen\" in i:\n",
    "        key = re.search(r\"\\d+-\\d+\", i)\n",
    "#         key = re.search(r\"\\d+\", i)\n",
    "        if key:\n",
    "            key = key.group(0)\n",
    "#             print(key)\n",
    "            geometries[key] =  gen.read_gen(datadir + i)"
   ]
  },
  {
   "cell_type": "markdown",
   "metadata": {
    "hidden": true
   },
   "source": [
    "Make crystalline analysis object for reference"
   ]
  },
  {
   "cell_type": "code",
   "execution_count": null,
   "metadata": {
    "ExecuteTime": {
     "end_time": "2021-04-27T00:24:59.736536Z",
     "start_time": "2021-04-27T00:24:58.966Z"
    },
    "hidden": true
   },
   "outputs": [],
   "source": [
    "rmax_global = 5\n",
    "nbins_global = 100"
   ]
  },
  {
   "cell_type": "code",
   "execution_count": null,
   "metadata": {
    "ExecuteTime": {
     "end_time": "2021-04-27T00:24:59.738264Z",
     "start_time": "2021-04-27T00:24:58.974Z"
    },
    "hidden": true
   },
   "outputs": [],
   "source": [
    "# P = np.array([[2, 0, 0], \n",
    "#           [0, 2, 0], \n",
    "#           [0, 0, 1]]).reshape(3,-1)\n",
    "xtl_y, xtl_x = Analysis(xtl2x2).get_rdf(rmax = rmax_global, \n",
    "                                     nbins = nbins_global, \n",
    "                                     elements = [\"Si\", \"N\"], \n",
    "                                     return_dists = True)[0]\n",
    "xtl_y = normalize(xtl_y, xtl_x)\n",
    "plt.plot(xtl_x, xtl_y);"
   ]
  },
  {
   "cell_type": "markdown",
   "metadata": {
    "hidden": true
   },
   "source": [
    "Make amorphous analysis object for reference:"
   ]
  },
  {
   "cell_type": "code",
   "execution_count": null,
   "metadata": {
    "ExecuteTime": {
     "end_time": "2021-04-27T00:24:59.739794Z",
     "start_time": "2021-04-27T00:24:58.986Z"
    },
    "hidden": true
   },
   "outputs": [],
   "source": [
    "P = np.array([[2, 0, 0], \n",
    "          [0, 2, 0], \n",
    "          [0, 0, 2]]).reshape(3,-1)\n",
    "amorphous_y, amorphous_x = Analysis(amorphous).get_rdf(rmax = rmax_global, \n",
    "                                     nbins = nbins_global, \n",
    "                                     elements = [\"Si\", \"N\"], \n",
    "                                     return_dists = True)[0]\n",
    "amorphous_y = normalize(amorphous_y, amorphous_x)\n",
    "plt.plot(amorphous_x, amorphous_y);"
   ]
  },
  {
   "cell_type": "markdown",
   "metadata": {
    "hidden": true
   },
   "source": [
    "Construct analysis objects:"
   ]
  },
  {
   "cell_type": "code",
   "execution_count": null,
   "metadata": {
    "ExecuteTime": {
     "end_time": "2021-04-27T00:24:59.741684Z",
     "start_time": "2021-04-27T00:24:58.997Z"
    },
    "hidden": true
   },
   "outputs": [],
   "source": [
    "#construct supercells for analysis, otherwise RDF doesn't work\n",
    "data = list(geometries.values())\n",
    "\n",
    "xmult, ymult, zmult = 2, 2 , 1\n",
    "P = np.array([[xmult, 0, 0], \n",
    "          [0, ymult, 0], \n",
    "          [0, 0, zmult]]).reshape(3,-1)\n",
    "\n",
    "# anal = [Analysis(j) for i, j in enumerate(data, start = 1) if i not in error_list]\n",
    "anal = [Analysis(j) for i, j in enumerate(data, start = 1)]\n",
    "#took 22.9 seconds for a 2x2 cell to be multiplied to 4x4"
   ]
  },
  {
   "cell_type": "markdown",
   "metadata": {
    "hidden": true
   },
   "source": [
    "Get and plot RDF(s):"
   ]
  },
  {
   "cell_type": "code",
   "execution_count": null,
   "metadata": {
    "ExecuteTime": {
     "end_time": "2021-04-27T00:24:59.743765Z",
     "start_time": "2021-04-27T00:24:59.009Z"
    },
    "hidden": true
   },
   "outputs": [],
   "source": [
    "rmax = np.floor(data[0].cell[1,1] * xmult / 2)\n",
    "rdfs = np.array([i.get_rdf(rmax=rmax_global,\n",
    "                             nbins = nbins_global, \n",
    "                             elements = [\"Si\", \"N\"], \n",
    "                             return_dists = True)[0]\n",
    "        for i in anal\n",
    "       ])"
   ]
  },
  {
   "cell_type": "markdown",
   "metadata": {
    "hidden": true
   },
   "source": [
    "Process rdf files to get mean and 95% CI (assuming Gaussian error) "
   ]
  },
  {
   "cell_type": "code",
   "execution_count": null,
   "metadata": {
    "ExecuteTime": {
     "end_time": "2021-04-27T00:24:59.746440Z",
     "start_time": "2021-04-27T00:24:59.020Z"
    },
    "hidden": true
   },
   "outputs": [],
   "source": [
    "data_y_rdfs, data_x_rdf = rdfs[:,0], rdfs[:, 1][0] # x arrays are all identical \n",
    "data_y_rdfs = np.array([normalize(i, data_x_rdf) for i in data_y_rdfs])\n",
    "data_rdf_mean_y = np.mean(data_y_rdfs, axis=0)\n",
    "data_rdf_sd_y = np.std(data_y_rdfs, axis=0)"
   ]
  },
  {
   "cell_type": "code",
   "execution_count": null,
   "metadata": {
    "ExecuteTime": {
     "end_time": "2021-04-27T00:24:59.748103Z",
     "start_time": "2021-04-27T00:24:59.029Z"
    },
    "hidden": true,
    "scrolled": false
   },
   "outputs": [],
   "source": [
    "plt.plot(xtl_x, xtl_y, label = \"crystalline case\")\n",
    "# plt.plot(amorphous_x, amorphous_y, label = \"amorphous case (T=100K)\")\n",
    "\n",
    "plt.plot(data_x_rdf, data_rdf_mean_y, label = \"average bombarded case\")\n",
    "\n",
    "plt.fill_between(data_x_rdf, data_rdf_mean_y - 1.96*data_rdf_sd_y, data_rdf_mean_y + 1.96*data_rdf_sd_y,\n",
    "                 color='gray', alpha=0.2)\n",
    "\n",
    "plt.xlim(1, rmax_global)\n",
    "v = 0.13\n",
    "plt.title(\"Random bombardment of amorphous slab, v={}, KE = {} eV\".format(v, round(KE(v),2)), \n",
    "          fontsize = \"x-large\")\n",
    "plt.xlabel(\"r (Å)\", fontsize = 'x-large')\n",
    "plt.ylabel(\"g(r)\", fontsize = 'x-large')\n",
    "plt.legend(fontsize = 'x-large');"
   ]
  },
  {
   "cell_type": "markdown",
   "metadata": {
    "hidden": true
   },
   "source": [
    "Distance measures (extreme cases)"
   ]
  },
  {
   "cell_type": "code",
   "execution_count": null,
   "metadata": {
    "ExecuteTime": {
     "end_time": "2021-04-27T00:24:59.749552Z",
     "start_time": "2021-04-27T00:24:59.042Z"
    },
    "hidden": true
   },
   "outputs": [],
   "source": [
    "xtl_data = np.append(xtl_x, xtl_y).reshape((2, xtl_x.shape[-1])).T\n",
    "amorphous_data = np.append(amorphous_x, amorphous_y).reshape((2,amorphous_x.shape[-1])).T\n",
    "\n",
    "# data format: two columns, x and y\n",
    "\n",
    "pcm = similaritymeasures.pcm(xtl_data, amorphous_data)\n",
    "\n",
    "df = similaritymeasures.frechet_dist(xtl_data, amorphous_data)\n",
    "\n",
    "area = similaritymeasures.area_between_two_curves(xtl_data, amorphous_data)\n",
    "\n",
    "cl = similaritymeasures.curve_length_measure(xtl_data, amorphous_data)\n",
    "\n",
    "dtw, d = similaritymeasures.dtw(xtl_data, amorphous_data)\n",
    "\n",
    "tss = sum((xtl_y - amorphous_y)**2) #assume data points at same location!!!!\n",
    "tsa = sum(np.abs(xtl_y - amorphous_y)) #assume data points at same location!!!!\n",
    "dot = np.trapz(xtl_y * amorphous_y) #assume data points at same location!!!!\n",
    "\n",
    "# print the results\n",
    "print(\" PCM: {}\\n DF: {}\\n Area: {}\\n CL: {}\\n DTW: {}\\n TSS: {}\\n TSA: {}\\n <f*g>: {}\".format(\n",
    "    pcm, df, area, cl, dtw, tss, tsa, dot))"
   ]
  },
  {
   "cell_type": "markdown",
   "metadata": {
    "hidden": true
   },
   "source": [
    "Now comparing to thermal cases:"
   ]
  },
  {
   "cell_type": "code",
   "execution_count": null,
   "metadata": {
    "ExecuteTime": {
     "end_time": "2021-04-27T00:24:59.750953Z",
     "start_time": "2021-04-27T00:24:59.052Z"
    },
    "hidden": true
   },
   "outputs": [],
   "source": [
    "def ip(f, g, x):\n",
    "    fnorm = f / np.trapz(f * f, x)\n",
    "    gnorm = g / np.trapz(g * g, x)\n",
    "    return np.trapz(fnorm * gnorm, x)\n",
    "\n",
    "ip(xtl_y, xtl_y, xtl_x)"
   ]
  },
  {
   "cell_type": "markdown",
   "metadata": {
    "heading_collapsed": true
   },
   "source": [
    "## Descriptors"
   ]
  },
  {
   "cell_type": "code",
   "execution_count": null,
   "metadata": {
    "ExecuteTime": {
     "end_time": "2021-04-27T00:24:59.752334Z",
     "start_time": "2021-04-27T00:24:59.063Z"
    },
    "hidden": true
   },
   "outputs": [],
   "source": [
    "\"\"\"Demostrates how global similarity kernels can be built from local atomic\n",
    "environments.\n",
    "\"\"\"\n",
    "from dscribe.descriptors import SOAP\n",
    "from dscribe.descriptors import MBTR\n",
    "from dscribe.kernels import REMatchKernel\n",
    "from dscribe.kernels import AverageKernel\n",
    "\n",
    "from sklearn import preprocessing\n",
    "\n",
    "a = xtl_n\n",
    "b = xtl2x2\n",
    "compare = [xtl_n, xtl2x2, xtl_si, amorphous]\n",
    "# outlier = [gen.read_gen(\"../output6.gen\")]\n",
    "# compare = [xtl2x2]\n",
    "# temp = []\n",
    "xmult, ymult, zmult = 2, 2, 1\n",
    "P = np.array([[xmult, 0, 0], \n",
    "          [0, ymult, 0], \n",
    "          [0, 0, zmult]]).reshape(3,-1)\n",
    "supercell = make_supercell(xtl_n, P)\n",
    "\n",
    "temp = [supercell, heavy_bomb]\n",
    "compare = compare + temp \n",
    "\n",
    "#preprocess, only use Si and N structure\n",
    "for atoms in compare:\n",
    "    del atoms[[atom.index for atom in atoms if atom.symbol not in ['Si', 'N']]]\n",
    "    \n",
    "structlabels = [\"nrich\", \"2x2nrich\", \"sirich\", \"amorphous\", \"supercell\", \"heavy_bomb\", \"outlier\"]\n",
    "# show_atoms_grid(compare)"
   ]
  },
  {
   "cell_type": "code",
   "execution_count": null,
   "metadata": {
    "ExecuteTime": {
     "end_time": "2021-04-27T00:24:59.754015Z",
     "start_time": "2021-04-27T00:24:59.071Z"
    },
    "hidden": true
   },
   "outputs": [],
   "source": [
    "#SOAP\n",
    "desc1 = SOAP(species=[7, 14, 6, 9], \n",
    "             rcut=5.0, \n",
    "             nmax=10, \n",
    "             lmax=9, \n",
    "             sigma=0.5, \n",
    "             periodic=True, \n",
    "             crossover=True, \n",
    "             sparse=False)\n",
    "features = [preprocessing.normalize(desc1.create(i)) for i in compare]\n",
    "re = REMatchKernel(metric=\"rbf\", alpha=1e-2, threshold=1e-6)\n",
    "\n",
    "\n",
    "sorted(zip(structlabels, re.create(features)[0]), key = lambda x: x[1])"
   ]
  },
  {
   "cell_type": "code",
   "execution_count": null,
   "metadata": {
    "ExecuteTime": {
     "end_time": "2021-04-27T00:24:59.755563Z",
     "start_time": "2021-04-27T00:24:59.080Z"
    },
    "code_folding": [],
    "hidden": true,
    "scrolled": false
   },
   "outputs": [],
   "source": [
    "#SOAP\n",
    "desc1 = SOAP(species=[7, 14, 6, 9], \n",
    "             rcut=5.0, \n",
    "             nmax=10, \n",
    "             lmax=9, \n",
    "             sigma=0.5, \n",
    "             periodic=True, \n",
    "             crossover=False, \n",
    "             sparse=False)\n",
    "# MTBR\n",
    "desc2 = MBTR(\n",
    "    species=[\"N\",\"Si\", \"C\", \"F\"],\n",
    "    periodic=True,\n",
    "#     k1={\n",
    "#         \"geometry\": {\"function\": \"atomic_number\"},\n",
    "#         \"grid\": {\"min\": 0, \"max\": 2, \"sigma\": 0.01, \"n\": 100},\n",
    "#     },\n",
    "    k2={\n",
    "        \"geometry\": {\"function\": \"distance\"},\n",
    "        \"grid\": {\"min\": 0, \"max\": 3.0, \"sigma\": 0.02, \"n\": 200},\n",
    "        \"weighting\": {\"function\": \"exponential\", \"scale\": 1.0, \"cutoff\": 1e-3},\n",
    "    },\n",
    "    k3={\n",
    "        \"geometry\": {\"function\": \"cosine\"},\n",
    "        \"grid\": {\"min\": -1.0, \"max\": 1.0, \"sigma\": 0.02, \"n\": 200},\n",
    "        \"weighting\": {\"function\": \"exponential\", \"scale\": 1.0, \"cutoff\": 1e-3},\n",
    "    },\n",
    "    flatten=True,\n",
    "    sparse=False,\n",
    ")\n",
    "desc2.normalization = \"l2_each\"\n",
    "output = [desc2.create(i) for i in compare]\n",
    "\n",
    "features = [preprocessing.normalize(desc1.create(i)) for i in compare]\n",
    "\n",
    "\n",
    "re = REMatchKernel(metric=\"rbf\", alpha=1e-2, threshold=1e-6)\n",
    "re_kernel = re.create(features)\n",
    "ax = sns.heatmap(re_kernel, linewidth=0.5, xticklabels = structlabels, yticklabels = structlabels)\n",
    "# plt.savefig(\"soap_linear_smallalpha.png\")\n",
    "plt.show()\n",
    "\n",
    "\n",
    "re = REMatchKernel(metric=\"rbf\", gamma=1, alpha=2, threshold=1e-6)\n",
    "re_kernel = re.create(features)\n",
    "ax = sns.heatmap(re_kernel, linewidth=0.5, xticklabels = structlabels, yticklabels = structlabels)\n",
    "# plt.savefig(\"soap_rbf_bigalpha.png\")\n",
    "plt.show()\n",
    "\n",
    "re = REMatchKernel(metric=\"rbf\", gamma=1, alpha=1e-2, threshold=1e-6)\n",
    "re_kernel = re.create(output)\n",
    "ax = sns.heatmap(re_kernel, linewidth=0.5, xticklabels = structlabels, yticklabels = structlabels)\n",
    "# plt.savefig(\"mtbr_rbf_smallalpha.png\")\n",
    "plt.show()\n",
    "\n",
    "re = REMatchKernel(metric=\"rbf\", gamma=1, alpha=1.5, threshold=1e-6)\n",
    "re_kernel = re.create(output)\n",
    "ax = sns.heatmap(re_kernel, linewidth=0.5, xticklabels = structlabels, yticklabels = structlabels)\n",
    "# plt.savefig(\"mtbr_rbf_bigalpha.png\")\n",
    "plt.show()"
   ]
  },
  {
   "cell_type": "code",
   "execution_count": null,
   "metadata": {
    "ExecuteTime": {
     "end_time": "2021-04-27T00:24:59.756774Z",
     "start_time": "2021-04-27T00:24:59.088Z"
    },
    "hidden": true
   },
   "outputs": [],
   "source": [
    "import ase.data\n",
    "from ase.build import bulk\n",
    "\n",
    "# The MBTR-object is configured with flatten=False so that we can easily\n",
    "# visualize the different terms.\n",
    "nacl = bulk(\"NaCl\", \"rocksalt\", a=5.64)\n",
    "decay = 0.5\n",
    "mbtr = MBTR(\n",
    "    species=[\"Na\", \"Cl\"],\n",
    "    k2={\n",
    "        \"geometry\": {\"function\": \"inverse_distance\"},\n",
    "        \"grid\": {\"min\": 0, \"max\": 0.5, \"sigma\": 0.01, \"n\": 200},\n",
    "        \"weighting\": {\"function\": \"exponential\", \"scale\": decay, \"cutoff\": 1e-3},\n",
    "    },\n",
    "    periodic=True,\n",
    "    flatten=False,\n",
    "    sparse=False\n",
    ")\n",
    "mbtr_output = mbtr.create(nacl)\n",
    "\n",
    "# Create the mapping between an index in the output and the corresponding\n",
    "# chemical symbol\n",
    "n_elements = len(mbtr.species)\n",
    "imap = mbtr.index_to_atomic_number\n",
    "x = np.linspace(0, 0.5, 200)\n",
    "smap = {index: ase.data.chemical_symbols[number] for index, number in imap.items()}\n",
    "\n",
    "# Plot k=2\n",
    "fig, ax = plt.subplots()\n",
    "for i in range(n_elements):\n",
    "    for j in range(n_elements):\n",
    "        if j >= i:\n",
    "            plt.plot(x, mbtr_output[\"k2\"][i, j, :], label=\"{}-{}\".format(smap[i], smap[j]))\n",
    "ax.set_xlabel(\"Inverse distance (1/angstrom)\")"
   ]
  },
  {
   "cell_type": "code",
   "execution_count": null,
   "metadata": {
    "ExecuteTime": {
     "end_time": "2021-04-27T00:24:59.758095Z",
     "start_time": "2021-04-27T00:24:59.095Z"
    },
    "hidden": true,
    "scrolled": false
   },
   "outputs": [],
   "source": [
    "# Plot k=2\n",
    "x = np.linspace(0, 3, 200)\n",
    "fig, ax = plt.subplots()\n",
    "for i in range(5):\n",
    "    for j in range(5):\n",
    "        if j >= i:\n",
    "            plt.plot(x, output[0][\"k2\"][i, j, :], label=\"{}-{}\".format(smap[i], smap[j]))\n",
    "ax.set_xlabel(\"Inverse distance (1/angstrom)\")"
   ]
  },
  {
   "cell_type": "markdown",
   "metadata": {},
   "source": [
    "## Damage analysis"
   ]
  },
  {
   "cell_type": "code",
   "execution_count": null,
   "metadata": {
    "ExecuteTime": {
     "end_time": "2021-04-27T00:24:59.759105Z",
     "start_time": "2021-04-27T00:24:59.106Z"
    }
   },
   "outputs": [],
   "source": [
    "copy = xtl_n.copy()\n",
    "del copy[[atom.index for atom in copy if atom.position[2] > 15]]\n",
    "view(copy)\n",
    "view(xtl_n)"
   ]
  },
  {
   "attachments": {
    "image.png": {
     "image/png": "[encoded data removed]"
    }
   },
   "cell_type": "markdown",
   "metadata": {},
   "source": [
    "Testing for heavy bombard: ![image.png](attachment:image.png)\n",
    "\n",
    "Visually estimate that it's between 0.36977 to 0.40572 C."
   ]
  },
  {
   "cell_type": "code",
   "execution_count": null,
   "metadata": {
    "ExecuteTime": {
     "end_time": "2021-04-27T00:24:59.759919Z",
     "start_time": "2021-04-27T00:24:59.116Z"
    }
   },
   "outputs": [],
   "source": [
    "np.array([0.36977, 0.40572]) * heavy_bomb.cell[2,2]"
   ]
  },
  {
   "cell_type": "code",
   "execution_count": null,
   "metadata": {
    "ExecuteTime": {
     "end_time": "2021-04-27T00:24:59.761211Z",
     "start_time": "2021-04-27T00:24:59.123Z"
    },
    "code_folding": [],
    "scrolled": false
   },
   "outputs": [],
   "source": [
    "from scipy.interpolate import interp1d\n",
    "\n",
    "\n",
    "def damage_analysis(struct, crystal = xtl_n, \n",
    "                    resolution = 1, tolerance = 1e-2, \n",
    "                    rmax = 3, nbins = 200, \n",
    "                    elements = [\"Si\", \"N\"],\n",
    "                    species=[7, 14, 6, 9], \n",
    "                    mindist = 10,\n",
    "                    rcut=5.0, \n",
    "                    nmax=10,\n",
    "                    lmax=9, \n",
    "                    sigma=0.5, \n",
    "                    periodic=1, #bool \n",
    "                    crossover=1,#bool\n",
    "                    sparse=0, \n",
    "                    metric = 'rbf',\n",
    "                    alpha = 1e-2,\n",
    "                    threshold = 1e-6\n",
    "                   ):\n",
    "    \n",
    "    cellheight = struct.cell[2,2]\n",
    "    heights = np.arange(mindist, cellheight, resolution)\n",
    "    copies = []\n",
    "    rdfs = []\n",
    "    soap_similarities = []\n",
    "    \n",
    "    desc = SOAP(species=species, \n",
    "             rcut=rcut, \n",
    "             nmax=nmax, \n",
    "             lmax=lmax, \n",
    "             sigma=sigma, \n",
    "             periodic=1, \n",
    "             crossover=1, \n",
    "             sparse=0)\n",
    "\n",
    "\n",
    "    \n",
    "    for zi in heights:\n",
    "        copy = struct.copy()\n",
    "        del copy[[atom.index for atom in copy if atom.position[2] > zi]]\n",
    "        copies += [copy]\n",
    "        \n",
    "#         features = [preprocessing.normalize(desc.create(i)) for i in [crystal, copy]]\n",
    "#         re = REMatchKernel(metric=metric, alpha=alpha, threshold=threshold)\n",
    "#         soap_similarities += [re.create(features)[0, 1]]\n",
    "        rdfs += Analysis(copy).get_rdf(rmax = rmax, \n",
    "                             nbins = nbins, \n",
    "                             elements = elements, \n",
    "                             return_dists = True)\n",
    "#     plt.plot(heights, soap_similarities)\n",
    "#     plt.vlines([16.2, 17.8], min(soap_similarities), max(soap_similarities))\n",
    "#     plt.title('soap curve')\n",
    "#     plt.show()\n",
    "\n",
    "    xtlrdf, xtlr = Analysis(crystal).get_rdf(rmax = rmax, nbins = nbins, \n",
    "                                             elements = elements, return_dists = True)[0]\n",
    "    xtlrdf = normalize(xtlrdf, xtlr)\n",
    "    xtlrdf = interp1d(xtlr, xtlrdf)\n",
    "    \n",
    "    absdiffs = []\n",
    "    sqdiffs = []\n",
    "    \n",
    "    for rdf,r in rdfs:\n",
    "        rdf = normalize(rdf, r)\n",
    "        absdiffs += [np.sum(np.abs(xtlrdf(r) - rdf))]\n",
    "        sqdiffs += [np.sum((xtlrdf(r) - rdf)**2)]\n",
    "    plt.plot(heights, absdiffs, label = \"l1\")\n",
    "    plt.plot(heights, sqdiffs, label = \"l2\")\n",
    "    plt.hlines(0, rmax, cellheight)\n",
    "    plt.vlines([16.2, 17.8], 0, 30)\n",
    "    plt.legend()\n",
    "    plt.title('rdf comparison')\n",
    "    \n",
    "    return soap_similarities, absdiffs, sqdiffs, heights\n",
    "    \n",
    "    \n",
    "        \n",
    "damage_analysis_results = damage_analysis(heavy_bomb_copy, mindist=7)"
   ]
  },
  {
   "cell_type": "code",
   "execution_count": null,
   "metadata": {
    "ExecuteTime": {
     "end_time": "2021-04-27T00:24:59.762226Z",
     "start_time": "2021-04-27T00:24:59.131Z"
    }
   },
   "outputs": [],
   "source": [
    "damage_analyses = [damage_analysis(thicc_bombarded[i], mindist = 7) for i in range(5)]"
   ]
  },
  {
   "cell_type": "code",
   "execution_count": null,
   "metadata": {
    "ExecuteTime": {
     "end_time": "2021-04-27T00:24:59.764291Z",
     "start_time": "2021-04-27T00:24:59.138Z"
    },
    "code_folding": [
     0
    ]
   },
   "outputs": [],
   "source": [
    "def soap_fitter(struct, \n",
    "                species = [7, 14, 6, 0],\n",
    "                periodic=True, \n",
    "                crossover=True,\n",
    "                sparse=False, \n",
    "                metric = 'rbf', \n",
    "                crystal = xtl_n,\n",
    "                mindist = 5,\n",
    "               ):\n",
    "    \n",
    "    def soap_fitter_base(x,\n",
    "                    rcut=5.0, \n",
    "                    nmax=10,\n",
    "                    lmax=9, \n",
    "                    sigma=0.5, alpha = 1e-2,\n",
    "                    threshold = 1e-6\n",
    "                   ):\n",
    "        nmax, lmax = int(np.floor(nmax)), int(np.floor(lmax))\n",
    "    \n",
    "        cellheight = struct.cell[2,2]\n",
    "        heights = x\n",
    "        copies = []\n",
    "        soap_similarities = []\n",
    "\n",
    "        desc = SOAP(species=species, \n",
    "                 rcut=rcut, \n",
    "                 nmax=nmax, \n",
    "                 lmax=lmax, \n",
    "                 sigma=sigma, \n",
    "                 periodic=periodic, \n",
    "                 crossover=crossover, \n",
    "                 sparse=sparse)\n",
    "\n",
    "\n",
    "\n",
    "        for zi in heights:\n",
    "            copy = struct.copy()\n",
    "            del copy[[atom.index for atom in copy if atom.position[2] > zi]]\n",
    "            copies += [copy]\n",
    "\n",
    "            features = [preprocessing.normalize(desc.create(i)) for i in [crystal, copy]]\n",
    "            re = REMatchKernel(metric=metric, alpha=alpha, threshold=threshold)\n",
    "            soap_similarities += [re.create(features)[0, 1]]\n",
    "\n",
    "\n",
    "        return soap_similarities\n",
    "    \n",
    "    return soap_fitter_base\n",
    "\n",
    "def mbtr_fitter(struct, \n",
    "                species=[\"N\",\"Si\", \"C\", \"F\"],\n",
    "                periodic=True, \n",
    "                crossover=True,\n",
    "                sparse=False, \n",
    "                metric = 'rbf', \n",
    "                crystal = xtl_n,\n",
    "                mindist = 5,\n",
    "               ):\n",
    "    \n",
    "    def mbtr_fitter_base(x,\n",
    "                         amplitude, bias,\n",
    "                         rcut=5.0, \n",
    "                         n = 200,\n",
    "                         scale=1,\n",
    "                         sigma=0.02, \n",
    "                         alpha = 1e-2,\n",
    "                         cutoff = 1e-3,\n",
    "                         threshold = 1e-6,\n",
    "                   ):\n",
    "        n = int(n)\n",
    "        \n",
    "        del crystal[[atom.index for atom in crystal if atom.symbol not in species]]\n",
    "        cellheight = struct.cell[2,2]\n",
    "        heights = x\n",
    "        copies = []\n",
    "        similarities = []\n",
    "\n",
    "        desc = MBTR(\n",
    "            species = species,\n",
    "            periodic=True,\n",
    "            k2={\n",
    "                \"geometry\": {\"function\": \"distance\"},\n",
    "                \"grid\": {\"min\": 0, \"max\": rcut, \"sigma\": sigma, \"n\": n},\n",
    "                \"weighting\": {\"function\": \"exponential\", \"scale\": scale, \"cutoff\": cutoff},\n",
    "            },\n",
    "            k3={\n",
    "                \"geometry\": {\"function\": \"cosine\"},\n",
    "                \"grid\": {\"min\": -1.0, \"max\": 1.0, \"sigma\": sigma , \"n\": n},\n",
    "                \"weighting\": {\"function\": \"exponential\", \"scale\": scale, \"cutoff\": cutoff},\n",
    "            },\n",
    "            flatten=True,\n",
    "            sparse=False,\n",
    "        )\n",
    "        desc.normalization = \"l2_each\"\n",
    "\n",
    "\n",
    "        for zi in heights:\n",
    "            copy = struct.copy()\n",
    "            del copy[[atom.index for atom in copy if atom.position[2] > zi]]\n",
    "            copies += [copy]\n",
    "\n",
    "            features = [preprocessing.normalize(desc.create(i)) for i in [crystal, copy]]\n",
    "            re = REMatchKernel(metric=metric, alpha=alpha, threshold=threshold)\n",
    "            similarities += [re.create(features)[0, 1]]\n",
    "\n",
    "\n",
    "\n",
    "        return scale*(np.array(similarities) - bias)\n",
    "    \n",
    "    return mbtr_fitter_base\n",
    "\n",
    "\n"
   ]
  },
  {
   "cell_type": "code",
   "execution_count": null,
   "metadata": {
    "ExecuteTime": {
     "end_time": "2021-04-27T00:24:59.765479Z",
     "start_time": "2021-04-27T00:24:59.146Z"
    },
    "scrolled": false
   },
   "outputs": [],
   "source": [
    "x = np.arange(7, thicc_bombarded[0].cell[2,2])\n",
    "plt.plot(x, soap_fitter(heavy_bomb_copy)(x))"
   ]
  },
  {
   "cell_type": "code",
   "execution_count": null,
   "metadata": {
    "ExecuteTime": {
     "end_time": "2021-04-27T00:24:59.766678Z",
     "start_time": "2021-04-27T00:24:59.153Z"
    }
   },
   "outputs": [],
   "source": [
    "thicc_bombarded = [vasp.read_vasp(\"../CONTCAR%d\" % (i)) for i in range(1,6)]\n",
    "for atoms in thicc_bombarded:\n",
    "    del atoms[[atom.index for atom in atoms if atom.symbol not in ['Si', 'N']]]\n",
    "\n",
    "x = np.arange(7, thicc_bombarded[0].cell[2,2])\n",
    "mbtr_curves = []\n",
    "for i, a in enumerate(thicc_bombarded):\n",
    "    mbtr_curves += [mbtr_fitter(a)(x, 1, 0, rcut=5.0, \n",
    "                         n = 200,\n",
    "                         scale=1,\n",
    "                         sigma=0.02, \n",
    "                         alpha = 2,\n",
    "                         cutoff = 1e-3,\n",
    "                         threshold = 1e-6)]"
   ]
  },
  {
   "cell_type": "code",
   "execution_count": null,
   "metadata": {
    "ExecuteTime": {
     "end_time": "2021-04-27T00:24:59.767749Z",
     "start_time": "2021-04-27T00:24:59.161Z"
    }
   },
   "outputs": [],
   "source": [
    "fig, axs = plt.subplots(5, 1, figsize = (30, 30))\n",
    "for i, data in enumerate(mbtr_curves):\n",
    "    axs[i].plot(x, data)"
   ]
  },
  {
   "cell_type": "code",
   "execution_count": null,
   "metadata": {
    "ExecuteTime": {
     "end_time": "2021-04-27T00:24:59.768902Z",
     "start_time": "2021-04-27T00:24:59.168Z"
    }
   },
   "outputs": [],
   "source": [
    "soap_curves = []\n",
    "for i, a in enumerate(thicc_bombarded):\n",
    "    soap_curves += [soap_fitter(a)(x)]"
   ]
  },
  {
   "cell_type": "code",
   "execution_count": null,
   "metadata": {
    "ExecuteTime": {
     "end_time": "2021-04-27T00:24:59.770191Z",
     "start_time": "2021-04-27T00:24:59.176Z"
    }
   },
   "outputs": [],
   "source": [
    "fig, axs = plt.subplots(5, 1, figsize = (30, 30))\n",
    "for i, data in enumerate(soap_curves):\n",
    "    axs[i].plot(x, data)"
   ]
  },
  {
   "cell_type": "code",
   "execution_count": null,
   "metadata": {
    "ExecuteTime": {
     "end_time": "2021-04-27T00:24:59.771295Z",
     "start_time": "2021-04-27T00:24:59.183Z"
    }
   },
   "outputs": [],
   "source": [
    "thicc_bombarded = [vasp.read_vasp(\"../CONTCAR%d\" % (i)) for i in range(1,6)]\n",
    "for atoms in thicc_bombarded:\n",
    "    del atoms[[atom.index for atom in atoms if atom.symbol not in ['Si', 'N']]]\n",
    "\n",
    "x = np.arange(0, thicc_bombarded[0].cell[2,2])\n",
    "for i, a in enumerate(thicc_bombarded):\n",
    "    damage_analysis(a)\n",
    "plt.legend()"
   ]
  },
  {
   "cell_type": "code",
   "execution_count": null,
   "metadata": {
    "ExecuteTime": {
     "end_time": "2021-04-27T00:24:59.772702Z",
     "start_time": "2021-04-27T00:24:59.191Z"
    }
   },
   "outputs": [],
   "source": [
    "heavy_bomb_copy = heavy_bomb.copy()\n",
    "del heavy_bomb_copy[[atom.index for atom in heavy_bomb_copy if atom.symbol not in [\"Si\", \"N\"]]]\n",
    "plt.plot(x, mbtr_fitter(heavy_bomb_copy)(x, 1, 0))"
   ]
  },
  {
   "cell_type": "markdown",
   "metadata": {},
   "source": [
    "Fitting curves:"
   ]
  },
  {
   "cell_type": "code",
   "execution_count": null,
   "metadata": {
    "ExecuteTime": {
     "end_time": "2021-04-27T00:24:59.774231Z",
     "start_time": "2021-04-27T00:24:59.200Z"
    }
   },
   "outputs": [],
   "source": [
    "x = damage_analysis_results[3]\n",
    "soap_trial_f = soap_fitter(heavy_bomb)\n",
    "mbtr_trial_f = mbtr_fitter(heavy_bomb)\n",
    "\n",
    "reference = max(damage_analysis_results[1]) - damage_analysis_results[1]\n",
    "reference = reference/max(reference)\n",
    "# soap_params, soap_cov = curve_fit(trial_f, x, reference, \n",
    "#                         bounds = (np.array([1, 1, 1, 1e-3, 1e-3, 1e-10]),\n",
    "#                                   np.array([30, 30, 9, 1e2, 1e2, 1])\n",
    "#                                  )\n",
    "#                        )\n",
    "mbtr_params, mbtr_cov = curve_fit(mbtr_trial_f, x, reference,\n",
    "                                  p0 = [20, .999, 5, 200, 1, .02, 1e-2, 1e-3, 1e-6],\n",
    "                                  bounds = (np.array([0, 0, 0, 1, 0, 0, 0, 0, 0]),\n",
    "                                            np.array([1e2, 1, 30, 1000, 9, 1e2, 1e2, 1e2, 1])\n",
    "                                           )\n",
    "                                 )"
   ]
  },
  {
   "cell_type": "code",
   "execution_count": null,
   "metadata": {
    "ExecuteTime": {
     "end_time": "2021-04-27T00:24:59.775888Z",
     "start_time": "2021-04-27T00:24:59.208Z"
    }
   },
   "outputs": [],
   "source": [
    "mbtr_params"
   ]
  },
  {
   "cell_type": "code",
   "execution_count": null,
   "metadata": {
    "ExecuteTime": {
     "end_time": "2021-04-27T00:24:59.777348Z",
     "start_time": "2021-04-27T00:24:59.215Z"
    }
   },
   "outputs": [],
   "source": [
    "plt.plot(x, 20*np.array(mbtr_fitter(heavy_bomb)(x, *mbtr_params)))\n",
    "plt.plot(x, reference)"
   ]
  },
  {
   "cell_type": "code",
   "execution_count": null,
   "metadata": {
    "ExecuteTime": {
     "end_time": "2021-04-27T00:24:59.778863Z",
     "start_time": "2021-04-27T00:24:59.223Z"
    }
   },
   "outputs": [],
   "source": [
    "fit_result_soap_curve = trial_f(x, *params)"
   ]
  },
  {
   "cell_type": "code",
   "execution_count": null,
   "metadata": {
    "ExecuteTime": {
     "end_time": "2021-04-27T00:24:59.780229Z",
     "start_time": "2021-04-27T00:24:59.230Z"
    }
   },
   "outputs": [],
   "source": [
    "plt.plot(x, fit_result_soap_curve)\n",
    "plt.show()\n",
    "plt.plot(x, reference);"
   ]
  },
  {
   "cell_type": "markdown",
   "metadata": {
    "heading_collapsed": true
   },
   "source": [
    "## Diffusion"
   ]
  },
  {
   "cell_type": "code",
   "execution_count": null,
   "metadata": {
    "ExecuteTime": {
     "end_time": "2021-04-27T00:24:59.781801Z",
     "start_time": "2021-04-27T00:24:59.240Z"
    },
    "hidden": true
   },
   "outputs": [],
   "source": [
    "from ase.md.analysis import DiffusionCoefficient\n",
    "from ase import units\n",
    "\n",
    "traj = vasp.read_vasp_xml(\"../vasprun.xml\", index = slice(0, -1))\n",
    "traj = [i for i in traj]\n",
    "timestep = 1 * units.fs\n",
    "natom = range(len(traj[0]) - 4, len(traj[0]))\n",
    "D = DiffusionCoefficient(traj, timestep, natom)"
   ]
  },
  {
   "cell_type": "code",
   "execution_count": null,
   "metadata": {
    "ExecuteTime": {
     "end_time": "2021-04-27T00:24:59.782674Z",
     "start_time": "2021-04-27T00:24:59.247Z"
    },
    "hidden": true
   },
   "outputs": [],
   "source": [
    "D.get_diffusion_coefficients()"
   ]
  },
  {
   "cell_type": "markdown",
   "metadata": {
    "heading_collapsed": true
   },
   "source": [
    "## Postprocessing for amorphous batch structure"
   ]
  },
  {
   "cell_type": "code",
   "execution_count": null,
   "metadata": {
    "ExecuteTime": {
     "end_time": "2021-04-27T00:24:59.783714Z",
     "start_time": "2021-04-27T00:24:59.257Z"
    },
    "hidden": true
   },
   "outputs": [],
   "source": [
    "aggregated['0-bomb'] -= pd.Series({\"Si\": 36, \n",
    "                        \"N\":57,\n",
    "                        \"H\":37,\n",
    "                        \"Ar\":1,\n",
    "                        \"F\":13,\n",
    "                        \"C\":14\n",
    "                       })"
   ]
  },
  {
   "cell_type": "code",
   "execution_count": null,
   "metadata": {
    "ExecuteTime": {
     "end_time": "2021-04-27T00:24:59.785686Z",
     "start_time": "2021-04-27T00:24:59.265Z"
    },
    "hidden": true
   },
   "outputs": [],
   "source": [
    "aggregated['0-quench'] -= pd.Series({\"Si\": 56, \n",
    "                        \"N\":75,\n",
    "                        \"H\":7,\n",
    "                        \"Ar\":1,\n",
    "                        \"F\":1,\n",
    "                        \"C\":2\n",
    "                       })"
   ]
  },
  {
   "cell_type": "code",
   "execution_count": 57,
   "metadata": {
    "ExecuteTime": {
     "end_time": "2021-04-27T00:27:14.238975Z",
     "start_time": "2021-04-27T00:27:14.020664Z"
    },
    "cell_style": "center",
    "hidden": true
   },
   "outputs": [
    {
     "data": {
      "text/html": [
       "<style  type=\"text/css\" >\n",
       "</style><table id=\"T_5075fbe2_a6ef_11eb_bfad_4074e049f0d4\" ><caption>removed species</caption><thead>    <tr>        <th class=\"blank level0\" ></th>        <th class=\"col_heading level0 col0\" >0-bomb</th>        <th class=\"col_heading level0 col1\" >0-quench</th>        <th class=\"col_heading level0 col2\" >0-eq</th>        <th class=\"col_heading level0 col3\" >1-bomb</th>        <th class=\"col_heading level0 col4\" >1-quench</th>        <th class=\"col_heading level0 col5\" >1-eq</th>        <th class=\"col_heading level0 col6\" >2-bomb</th>        <th class=\"col_heading level0 col7\" >2-quench</th>        <th class=\"col_heading level0 col8\" >2-eq</th>        <th class=\"col_heading level0 col9\" >3-bomb</th>        <th class=\"col_heading level0 col10\" >3-quench</th>        <th class=\"col_heading level0 col11\" >3-eq</th>        <th class=\"col_heading level0 col12\" >4-bomb</th>        <th class=\"col_heading level0 col13\" >4-quench</th>        <th class=\"col_heading level0 col14\" >4-eq</th>        <th class=\"col_heading level0 col15\" >5-bomb</th>        <th class=\"col_heading level0 col16\" >5-quench</th>        <th class=\"col_heading level0 col17\" >5-eq</th>        <th class=\"col_heading level0 col18\" >6-bomb</th>        <th class=\"col_heading level0 col19\" >6-quench</th>        <th class=\"col_heading level0 col20\" >6-eq</th>        <th class=\"col_heading level0 col21\" >7-bomb</th>        <th class=\"col_heading level0 col22\" >7-quench</th>        <th class=\"col_heading level0 col23\" >7-eq</th>        <th class=\"col_heading level0 col24\" >8-bomb</th>        <th class=\"col_heading level0 col25\" >8-quench</th>        <th class=\"col_heading level0 col26\" >8-eq</th>        <th class=\"col_heading level0 col27\" >9-bomb</th>        <th class=\"col_heading level0 col28\" >9-quench</th>        <th class=\"col_heading level0 col29\" >9-eq</th>        <th class=\"col_heading level0 col30\" >10-bomb</th>        <th class=\"col_heading level0 col31\" >10-quench</th>        <th class=\"col_heading level0 col32\" >10-eq</th>        <th class=\"col_heading level0 col33\" >11-bomb</th>        <th class=\"col_heading level0 col34\" >11-quench</th>        <th class=\"col_heading level0 col35\" >11-eq</th>        <th class=\"col_heading level0 col36\" >12-bomb</th>        <th class=\"col_heading level0 col37\" >12-quench</th>        <th class=\"col_heading level0 col38\" >12-eq</th>        <th class=\"col_heading level0 col39\" >13-bomb</th>        <th class=\"col_heading level0 col40\" >13-quench</th>        <th class=\"col_heading level0 col41\" >13-eq</th>        <th class=\"col_heading level0 col42\" >14-bomb</th>        <th class=\"col_heading level0 col43\" >14-quench</th>        <th class=\"col_heading level0 col44\" >14-eq</th>        <th class=\"col_heading level0 col45\" >15-bomb</th>        <th class=\"col_heading level0 col46\" >15-quench</th>        <th class=\"col_heading level0 col47\" >15-eq</th>        <th class=\"col_heading level0 col48\" >16-bomb</th>        <th class=\"col_heading level0 col49\" >16-quench</th>        <th class=\"col_heading level0 col50\" >16-eq</th>        <th class=\"col_heading level0 col51\" >17-bomb</th>        <th class=\"col_heading level0 col52\" >17-quench</th>        <th class=\"col_heading level0 col53\" >17-eq</th>        <th class=\"col_heading level0 col54\" >18-bomb</th>        <th class=\"col_heading level0 col55\" >18-quench</th>        <th class=\"col_heading level0 col56\" >18-eq</th>        <th class=\"col_heading level0 col57\" >19-bomb</th>        <th class=\"col_heading level0 col58\" >19-quench</th>        <th class=\"col_heading level0 col59\" >19-eq</th>    </tr></thead><tbody>\n",
       "                <tr>\n",
       "                        <th id=\"T_5075fbe2_a6ef_11eb_bfad_4074e049f0d4level0_row0\" class=\"row_heading level0 row0\" >Si</th>\n",
       "                        <td id=\"T_5075fbe2_a6ef_11eb_bfad_4074e049f0d4row0_col0\" class=\"data row0 col0\" >3</td>\n",
       "                        <td id=\"T_5075fbe2_a6ef_11eb_bfad_4074e049f0d4row0_col1\" class=\"data row0 col1\" >3</td>\n",
       "                        <td id=\"T_5075fbe2_a6ef_11eb_bfad_4074e049f0d4row0_col2\" class=\"data row0 col2\" >103</td>\n",
       "                        <td id=\"T_5075fbe2_a6ef_11eb_bfad_4074e049f0d4row0_col3\" class=\"data row0 col3\" >121</td>\n",
       "                        <td id=\"T_5075fbe2_a6ef_11eb_bfad_4074e049f0d4row0_col4\" class=\"data row0 col4\" >0</td>\n",
       "                        <td id=\"T_5075fbe2_a6ef_11eb_bfad_4074e049f0d4row0_col5\" class=\"data row0 col5\" >0</td>\n",
       "                        <td id=\"T_5075fbe2_a6ef_11eb_bfad_4074e049f0d4row0_col6\" class=\"data row0 col6\" >1</td>\n",
       "                        <td id=\"T_5075fbe2_a6ef_11eb_bfad_4074e049f0d4row0_col7\" class=\"data row0 col7\" >0</td>\n",
       "                        <td id=\"T_5075fbe2_a6ef_11eb_bfad_4074e049f0d4row0_col8\" class=\"data row0 col8\" >0</td>\n",
       "                        <td id=\"T_5075fbe2_a6ef_11eb_bfad_4074e049f0d4row0_col9\" class=\"data row0 col9\" >1</td>\n",
       "                        <td id=\"T_5075fbe2_a6ef_11eb_bfad_4074e049f0d4row0_col10\" class=\"data row0 col10\" >6</td>\n",
       "                        <td id=\"T_5075fbe2_a6ef_11eb_bfad_4074e049f0d4row0_col11\" class=\"data row0 col11\" >0</td>\n",
       "                        <td id=\"T_5075fbe2_a6ef_11eb_bfad_4074e049f0d4row0_col12\" class=\"data row0 col12\" >1</td>\n",
       "                        <td id=\"T_5075fbe2_a6ef_11eb_bfad_4074e049f0d4row0_col13\" class=\"data row0 col13\" >4</td>\n",
       "                        <td id=\"T_5075fbe2_a6ef_11eb_bfad_4074e049f0d4row0_col14\" class=\"data row0 col14\" >0</td>\n",
       "                        <td id=\"T_5075fbe2_a6ef_11eb_bfad_4074e049f0d4row0_col15\" class=\"data row0 col15\" >0</td>\n",
       "                        <td id=\"T_5075fbe2_a6ef_11eb_bfad_4074e049f0d4row0_col16\" class=\"data row0 col16\" >0</td>\n",
       "                        <td id=\"T_5075fbe2_a6ef_11eb_bfad_4074e049f0d4row0_col17\" class=\"data row0 col17\" >0</td>\n",
       "                        <td id=\"T_5075fbe2_a6ef_11eb_bfad_4074e049f0d4row0_col18\" class=\"data row0 col18\" >3</td>\n",
       "                        <td id=\"T_5075fbe2_a6ef_11eb_bfad_4074e049f0d4row0_col19\" class=\"data row0 col19\" >0</td>\n",
       "                        <td id=\"T_5075fbe2_a6ef_11eb_bfad_4074e049f0d4row0_col20\" class=\"data row0 col20\" >0</td>\n",
       "                        <td id=\"T_5075fbe2_a6ef_11eb_bfad_4074e049f0d4row0_col21\" class=\"data row0 col21\" >5</td>\n",
       "                        <td id=\"T_5075fbe2_a6ef_11eb_bfad_4074e049f0d4row0_col22\" class=\"data row0 col22\" >1</td>\n",
       "                        <td id=\"T_5075fbe2_a6ef_11eb_bfad_4074e049f0d4row0_col23\" class=\"data row0 col23\" >0</td>\n",
       "                        <td id=\"T_5075fbe2_a6ef_11eb_bfad_4074e049f0d4row0_col24\" class=\"data row0 col24\" >3</td>\n",
       "                        <td id=\"T_5075fbe2_a6ef_11eb_bfad_4074e049f0d4row0_col25\" class=\"data row0 col25\" >1</td>\n",
       "                        <td id=\"T_5075fbe2_a6ef_11eb_bfad_4074e049f0d4row0_col26\" class=\"data row0 col26\" >0</td>\n",
       "                        <td id=\"T_5075fbe2_a6ef_11eb_bfad_4074e049f0d4row0_col27\" class=\"data row0 col27\" >2</td>\n",
       "                        <td id=\"T_5075fbe2_a6ef_11eb_bfad_4074e049f0d4row0_col28\" class=\"data row0 col28\" >1</td>\n",
       "                        <td id=\"T_5075fbe2_a6ef_11eb_bfad_4074e049f0d4row0_col29\" class=\"data row0 col29\" >0</td>\n",
       "                        <td id=\"T_5075fbe2_a6ef_11eb_bfad_4074e049f0d4row0_col30\" class=\"data row0 col30\" >1</td>\n",
       "                        <td id=\"T_5075fbe2_a6ef_11eb_bfad_4074e049f0d4row0_col31\" class=\"data row0 col31\" >1</td>\n",
       "                        <td id=\"T_5075fbe2_a6ef_11eb_bfad_4074e049f0d4row0_col32\" class=\"data row0 col32\" >0</td>\n",
       "                        <td id=\"T_5075fbe2_a6ef_11eb_bfad_4074e049f0d4row0_col33\" class=\"data row0 col33\" >1</td>\n",
       "                        <td id=\"T_5075fbe2_a6ef_11eb_bfad_4074e049f0d4row0_col34\" class=\"data row0 col34\" >4</td>\n",
       "                        <td id=\"T_5075fbe2_a6ef_11eb_bfad_4074e049f0d4row0_col35\" class=\"data row0 col35\" >0</td>\n",
       "                        <td id=\"T_5075fbe2_a6ef_11eb_bfad_4074e049f0d4row0_col36\" class=\"data row0 col36\" >2</td>\n",
       "                        <td id=\"T_5075fbe2_a6ef_11eb_bfad_4074e049f0d4row0_col37\" class=\"data row0 col37\" >1</td>\n",
       "                        <td id=\"T_5075fbe2_a6ef_11eb_bfad_4074e049f0d4row0_col38\" class=\"data row0 col38\" >0</td>\n",
       "                        <td id=\"T_5075fbe2_a6ef_11eb_bfad_4074e049f0d4row0_col39\" class=\"data row0 col39\" >1</td>\n",
       "                        <td id=\"T_5075fbe2_a6ef_11eb_bfad_4074e049f0d4row0_col40\" class=\"data row0 col40\" >2</td>\n",
       "                        <td id=\"T_5075fbe2_a6ef_11eb_bfad_4074e049f0d4row0_col41\" class=\"data row0 col41\" >0</td>\n",
       "                        <td id=\"T_5075fbe2_a6ef_11eb_bfad_4074e049f0d4row0_col42\" class=\"data row0 col42\" >3</td>\n",
       "                        <td id=\"T_5075fbe2_a6ef_11eb_bfad_4074e049f0d4row0_col43\" class=\"data row0 col43\" >7</td>\n",
       "                        <td id=\"T_5075fbe2_a6ef_11eb_bfad_4074e049f0d4row0_col44\" class=\"data row0 col44\" >0</td>\n",
       "                        <td id=\"T_5075fbe2_a6ef_11eb_bfad_4074e049f0d4row0_col45\" class=\"data row0 col45\" >0</td>\n",
       "                        <td id=\"T_5075fbe2_a6ef_11eb_bfad_4074e049f0d4row0_col46\" class=\"data row0 col46\" >1</td>\n",
       "                        <td id=\"T_5075fbe2_a6ef_11eb_bfad_4074e049f0d4row0_col47\" class=\"data row0 col47\" >0</td>\n",
       "                        <td id=\"T_5075fbe2_a6ef_11eb_bfad_4074e049f0d4row0_col48\" class=\"data row0 col48\" >1</td>\n",
       "                        <td id=\"T_5075fbe2_a6ef_11eb_bfad_4074e049f0d4row0_col49\" class=\"data row0 col49\" >2</td>\n",
       "                        <td id=\"T_5075fbe2_a6ef_11eb_bfad_4074e049f0d4row0_col50\" class=\"data row0 col50\" >0</td>\n",
       "                        <td id=\"T_5075fbe2_a6ef_11eb_bfad_4074e049f0d4row0_col51\" class=\"data row0 col51\" >5</td>\n",
       "                        <td id=\"T_5075fbe2_a6ef_11eb_bfad_4074e049f0d4row0_col52\" class=\"data row0 col52\" >4</td>\n",
       "                        <td id=\"T_5075fbe2_a6ef_11eb_bfad_4074e049f0d4row0_col53\" class=\"data row0 col53\" >0</td>\n",
       "                        <td id=\"T_5075fbe2_a6ef_11eb_bfad_4074e049f0d4row0_col54\" class=\"data row0 col54\" >2</td>\n",
       "                        <td id=\"T_5075fbe2_a6ef_11eb_bfad_4074e049f0d4row0_col55\" class=\"data row0 col55\" >4</td>\n",
       "                        <td id=\"T_5075fbe2_a6ef_11eb_bfad_4074e049f0d4row0_col56\" class=\"data row0 col56\" >0</td>\n",
       "                        <td id=\"T_5075fbe2_a6ef_11eb_bfad_4074e049f0d4row0_col57\" class=\"data row0 col57\" >1</td>\n",
       "                        <td id=\"T_5075fbe2_a6ef_11eb_bfad_4074e049f0d4row0_col58\" class=\"data row0 col58\" >0</td>\n",
       "                        <td id=\"T_5075fbe2_a6ef_11eb_bfad_4074e049f0d4row0_col59\" class=\"data row0 col59\" >1</td>\n",
       "            </tr>\n",
       "            <tr>\n",
       "                        <th id=\"T_5075fbe2_a6ef_11eb_bfad_4074e049f0d4level0_row1\" class=\"row_heading level0 row1\" >N</th>\n",
       "                        <td id=\"T_5075fbe2_a6ef_11eb_bfad_4074e049f0d4row1_col0\" class=\"data row1 col0\" >43</td>\n",
       "                        <td id=\"T_5075fbe2_a6ef_11eb_bfad_4074e049f0d4row1_col1\" class=\"data row1 col1\" >13</td>\n",
       "                        <td id=\"T_5075fbe2_a6ef_11eb_bfad_4074e049f0d4row1_col2\" class=\"data row1 col2\" >181</td>\n",
       "                        <td id=\"T_5075fbe2_a6ef_11eb_bfad_4074e049f0d4row1_col3\" class=\"data row1 col3\" >294</td>\n",
       "                        <td id=\"T_5075fbe2_a6ef_11eb_bfad_4074e049f0d4row1_col4\" class=\"data row1 col4\" >1</td>\n",
       "                        <td id=\"T_5075fbe2_a6ef_11eb_bfad_4074e049f0d4row1_col5\" class=\"data row1 col5\" >0</td>\n",
       "                        <td id=\"T_5075fbe2_a6ef_11eb_bfad_4074e049f0d4row1_col6\" class=\"data row1 col6\" >26</td>\n",
       "                        <td id=\"T_5075fbe2_a6ef_11eb_bfad_4074e049f0d4row1_col7\" class=\"data row1 col7\" >4</td>\n",
       "                        <td id=\"T_5075fbe2_a6ef_11eb_bfad_4074e049f0d4row1_col8\" class=\"data row1 col8\" >0</td>\n",
       "                        <td id=\"T_5075fbe2_a6ef_11eb_bfad_4074e049f0d4row1_col9\" class=\"data row1 col9\" >28</td>\n",
       "                        <td id=\"T_5075fbe2_a6ef_11eb_bfad_4074e049f0d4row1_col10\" class=\"data row1 col10\" >12</td>\n",
       "                        <td id=\"T_5075fbe2_a6ef_11eb_bfad_4074e049f0d4row1_col11\" class=\"data row1 col11\" >0</td>\n",
       "                        <td id=\"T_5075fbe2_a6ef_11eb_bfad_4074e049f0d4row1_col12\" class=\"data row1 col12\" >33</td>\n",
       "                        <td id=\"T_5075fbe2_a6ef_11eb_bfad_4074e049f0d4row1_col13\" class=\"data row1 col13\" >13</td>\n",
       "                        <td id=\"T_5075fbe2_a6ef_11eb_bfad_4074e049f0d4row1_col14\" class=\"data row1 col14\" >1</td>\n",
       "                        <td id=\"T_5075fbe2_a6ef_11eb_bfad_4074e049f0d4row1_col15\" class=\"data row1 col15\" >29</td>\n",
       "                        <td id=\"T_5075fbe2_a6ef_11eb_bfad_4074e049f0d4row1_col16\" class=\"data row1 col16\" >8</td>\n",
       "                        <td id=\"T_5075fbe2_a6ef_11eb_bfad_4074e049f0d4row1_col17\" class=\"data row1 col17\" >0</td>\n",
       "                        <td id=\"T_5075fbe2_a6ef_11eb_bfad_4074e049f0d4row1_col18\" class=\"data row1 col18\" >29</td>\n",
       "                        <td id=\"T_5075fbe2_a6ef_11eb_bfad_4074e049f0d4row1_col19\" class=\"data row1 col19\" >5</td>\n",
       "                        <td id=\"T_5075fbe2_a6ef_11eb_bfad_4074e049f0d4row1_col20\" class=\"data row1 col20\" >0</td>\n",
       "                        <td id=\"T_5075fbe2_a6ef_11eb_bfad_4074e049f0d4row1_col21\" class=\"data row1 col21\" >44</td>\n",
       "                        <td id=\"T_5075fbe2_a6ef_11eb_bfad_4074e049f0d4row1_col22\" class=\"data row1 col22\" >6</td>\n",
       "                        <td id=\"T_5075fbe2_a6ef_11eb_bfad_4074e049f0d4row1_col23\" class=\"data row1 col23\" >1</td>\n",
       "                        <td id=\"T_5075fbe2_a6ef_11eb_bfad_4074e049f0d4row1_col24\" class=\"data row1 col24\" >32</td>\n",
       "                        <td id=\"T_5075fbe2_a6ef_11eb_bfad_4074e049f0d4row1_col25\" class=\"data row1 col25\" >7</td>\n",
       "                        <td id=\"T_5075fbe2_a6ef_11eb_bfad_4074e049f0d4row1_col26\" class=\"data row1 col26\" >1</td>\n",
       "                        <td id=\"T_5075fbe2_a6ef_11eb_bfad_4074e049f0d4row1_col27\" class=\"data row1 col27\" >38</td>\n",
       "                        <td id=\"T_5075fbe2_a6ef_11eb_bfad_4074e049f0d4row1_col28\" class=\"data row1 col28\" >6</td>\n",
       "                        <td id=\"T_5075fbe2_a6ef_11eb_bfad_4074e049f0d4row1_col29\" class=\"data row1 col29\" >0</td>\n",
       "                        <td id=\"T_5075fbe2_a6ef_11eb_bfad_4074e049f0d4row1_col30\" class=\"data row1 col30\" >39</td>\n",
       "                        <td id=\"T_5075fbe2_a6ef_11eb_bfad_4074e049f0d4row1_col31\" class=\"data row1 col31\" >13</td>\n",
       "                        <td id=\"T_5075fbe2_a6ef_11eb_bfad_4074e049f0d4row1_col32\" class=\"data row1 col32\" >0</td>\n",
       "                        <td id=\"T_5075fbe2_a6ef_11eb_bfad_4074e049f0d4row1_col33\" class=\"data row1 col33\" >36</td>\n",
       "                        <td id=\"T_5075fbe2_a6ef_11eb_bfad_4074e049f0d4row1_col34\" class=\"data row1 col34\" >9</td>\n",
       "                        <td id=\"T_5075fbe2_a6ef_11eb_bfad_4074e049f0d4row1_col35\" class=\"data row1 col35\" >0</td>\n",
       "                        <td id=\"T_5075fbe2_a6ef_11eb_bfad_4074e049f0d4row1_col36\" class=\"data row1 col36\" >44</td>\n",
       "                        <td id=\"T_5075fbe2_a6ef_11eb_bfad_4074e049f0d4row1_col37\" class=\"data row1 col37\" >10</td>\n",
       "                        <td id=\"T_5075fbe2_a6ef_11eb_bfad_4074e049f0d4row1_col38\" class=\"data row1 col38\" >0</td>\n",
       "                        <td id=\"T_5075fbe2_a6ef_11eb_bfad_4074e049f0d4row1_col39\" class=\"data row1 col39\" >31</td>\n",
       "                        <td id=\"T_5075fbe2_a6ef_11eb_bfad_4074e049f0d4row1_col40\" class=\"data row1 col40\" >10</td>\n",
       "                        <td id=\"T_5075fbe2_a6ef_11eb_bfad_4074e049f0d4row1_col41\" class=\"data row1 col41\" >0</td>\n",
       "                        <td id=\"T_5075fbe2_a6ef_11eb_bfad_4074e049f0d4row1_col42\" class=\"data row1 col42\" >40</td>\n",
       "                        <td id=\"T_5075fbe2_a6ef_11eb_bfad_4074e049f0d4row1_col43\" class=\"data row1 col43\" >14</td>\n",
       "                        <td id=\"T_5075fbe2_a6ef_11eb_bfad_4074e049f0d4row1_col44\" class=\"data row1 col44\" >0</td>\n",
       "                        <td id=\"T_5075fbe2_a6ef_11eb_bfad_4074e049f0d4row1_col45\" class=\"data row1 col45\" >35</td>\n",
       "                        <td id=\"T_5075fbe2_a6ef_11eb_bfad_4074e049f0d4row1_col46\" class=\"data row1 col46\" >7</td>\n",
       "                        <td id=\"T_5075fbe2_a6ef_11eb_bfad_4074e049f0d4row1_col47\" class=\"data row1 col47\" >1</td>\n",
       "                        <td id=\"T_5075fbe2_a6ef_11eb_bfad_4074e049f0d4row1_col48\" class=\"data row1 col48\" >33</td>\n",
       "                        <td id=\"T_5075fbe2_a6ef_11eb_bfad_4074e049f0d4row1_col49\" class=\"data row1 col49\" >10</td>\n",
       "                        <td id=\"T_5075fbe2_a6ef_11eb_bfad_4074e049f0d4row1_col50\" class=\"data row1 col50\" >0</td>\n",
       "                        <td id=\"T_5075fbe2_a6ef_11eb_bfad_4074e049f0d4row1_col51\" class=\"data row1 col51\" >32</td>\n",
       "                        <td id=\"T_5075fbe2_a6ef_11eb_bfad_4074e049f0d4row1_col52\" class=\"data row1 col52\" >20</td>\n",
       "                        <td id=\"T_5075fbe2_a6ef_11eb_bfad_4074e049f0d4row1_col53\" class=\"data row1 col53\" >1</td>\n",
       "                        <td id=\"T_5075fbe2_a6ef_11eb_bfad_4074e049f0d4row1_col54\" class=\"data row1 col54\" >41</td>\n",
       "                        <td id=\"T_5075fbe2_a6ef_11eb_bfad_4074e049f0d4row1_col55\" class=\"data row1 col55\" >11</td>\n",
       "                        <td id=\"T_5075fbe2_a6ef_11eb_bfad_4074e049f0d4row1_col56\" class=\"data row1 col56\" >1</td>\n",
       "                        <td id=\"T_5075fbe2_a6ef_11eb_bfad_4074e049f0d4row1_col57\" class=\"data row1 col57\" >38</td>\n",
       "                        <td id=\"T_5075fbe2_a6ef_11eb_bfad_4074e049f0d4row1_col58\" class=\"data row1 col58\" >10</td>\n",
       "                        <td id=\"T_5075fbe2_a6ef_11eb_bfad_4074e049f0d4row1_col59\" class=\"data row1 col59\" >0</td>\n",
       "            </tr>\n",
       "            <tr>\n",
       "                        <th id=\"T_5075fbe2_a6ef_11eb_bfad_4074e049f0d4level0_row2\" class=\"row_heading level0 row2\" >H</th>\n",
       "                        <td id=\"T_5075fbe2_a6ef_11eb_bfad_4074e049f0d4row2_col0\" class=\"data row2 col0\" >106</td>\n",
       "                        <td id=\"T_5075fbe2_a6ef_11eb_bfad_4074e049f0d4row2_col1\" class=\"data row2 col1\" >29</td>\n",
       "                        <td id=\"T_5075fbe2_a6ef_11eb_bfad_4074e049f0d4row2_col2\" class=\"data row2 col2\" >230</td>\n",
       "                        <td id=\"T_5075fbe2_a6ef_11eb_bfad_4074e049f0d4row2_col3\" class=\"data row2 col3\" >401</td>\n",
       "                        <td id=\"T_5075fbe2_a6ef_11eb_bfad_4074e049f0d4row2_col4\" class=\"data row2 col4\" >7</td>\n",
       "                        <td id=\"T_5075fbe2_a6ef_11eb_bfad_4074e049f0d4row2_col5\" class=\"data row2 col5\" >0</td>\n",
       "                        <td id=\"T_5075fbe2_a6ef_11eb_bfad_4074e049f0d4row2_col6\" class=\"data row2 col6\" >63</td>\n",
       "                        <td id=\"T_5075fbe2_a6ef_11eb_bfad_4074e049f0d4row2_col7\" class=\"data row2 col7\" >11</td>\n",
       "                        <td id=\"T_5075fbe2_a6ef_11eb_bfad_4074e049f0d4row2_col8\" class=\"data row2 col8\" >0</td>\n",
       "                        <td id=\"T_5075fbe2_a6ef_11eb_bfad_4074e049f0d4row2_col9\" class=\"data row2 col9\" >45</td>\n",
       "                        <td id=\"T_5075fbe2_a6ef_11eb_bfad_4074e049f0d4row2_col10\" class=\"data row2 col10\" >16</td>\n",
       "                        <td id=\"T_5075fbe2_a6ef_11eb_bfad_4074e049f0d4row2_col11\" class=\"data row2 col11\" >0</td>\n",
       "                        <td id=\"T_5075fbe2_a6ef_11eb_bfad_4074e049f0d4row2_col12\" class=\"data row2 col12\" >56</td>\n",
       "                        <td id=\"T_5075fbe2_a6ef_11eb_bfad_4074e049f0d4row2_col13\" class=\"data row2 col13\" >12</td>\n",
       "                        <td id=\"T_5075fbe2_a6ef_11eb_bfad_4074e049f0d4row2_col14\" class=\"data row2 col14\" >2</td>\n",
       "                        <td id=\"T_5075fbe2_a6ef_11eb_bfad_4074e049f0d4row2_col15\" class=\"data row2 col15\" >49</td>\n",
       "                        <td id=\"T_5075fbe2_a6ef_11eb_bfad_4074e049f0d4row2_col16\" class=\"data row2 col16\" >10</td>\n",
       "                        <td id=\"T_5075fbe2_a6ef_11eb_bfad_4074e049f0d4row2_col17\" class=\"data row2 col17\" >0</td>\n",
       "                        <td id=\"T_5075fbe2_a6ef_11eb_bfad_4074e049f0d4row2_col18\" class=\"data row2 col18\" >59</td>\n",
       "                        <td id=\"T_5075fbe2_a6ef_11eb_bfad_4074e049f0d4row2_col19\" class=\"data row2 col19\" >16</td>\n",
       "                        <td id=\"T_5075fbe2_a6ef_11eb_bfad_4074e049f0d4row2_col20\" class=\"data row2 col20\" >0</td>\n",
       "                        <td id=\"T_5075fbe2_a6ef_11eb_bfad_4074e049f0d4row2_col21\" class=\"data row2 col21\" >58</td>\n",
       "                        <td id=\"T_5075fbe2_a6ef_11eb_bfad_4074e049f0d4row2_col22\" class=\"data row2 col22\" >7</td>\n",
       "                        <td id=\"T_5075fbe2_a6ef_11eb_bfad_4074e049f0d4row2_col23\" class=\"data row2 col23\" >0</td>\n",
       "                        <td id=\"T_5075fbe2_a6ef_11eb_bfad_4074e049f0d4row2_col24\" class=\"data row2 col24\" >40</td>\n",
       "                        <td id=\"T_5075fbe2_a6ef_11eb_bfad_4074e049f0d4row2_col25\" class=\"data row2 col25\" >10</td>\n",
       "                        <td id=\"T_5075fbe2_a6ef_11eb_bfad_4074e049f0d4row2_col26\" class=\"data row2 col26\" >1</td>\n",
       "                        <td id=\"T_5075fbe2_a6ef_11eb_bfad_4074e049f0d4row2_col27\" class=\"data row2 col27\" >39</td>\n",
       "                        <td id=\"T_5075fbe2_a6ef_11eb_bfad_4074e049f0d4row2_col28\" class=\"data row2 col28\" >11</td>\n",
       "                        <td id=\"T_5075fbe2_a6ef_11eb_bfad_4074e049f0d4row2_col29\" class=\"data row2 col29\" >0</td>\n",
       "                        <td id=\"T_5075fbe2_a6ef_11eb_bfad_4074e049f0d4row2_col30\" class=\"data row2 col30\" >34</td>\n",
       "                        <td id=\"T_5075fbe2_a6ef_11eb_bfad_4074e049f0d4row2_col31\" class=\"data row2 col31\" >7</td>\n",
       "                        <td id=\"T_5075fbe2_a6ef_11eb_bfad_4074e049f0d4row2_col32\" class=\"data row2 col32\" >0</td>\n",
       "                        <td id=\"T_5075fbe2_a6ef_11eb_bfad_4074e049f0d4row2_col33\" class=\"data row2 col33\" >31</td>\n",
       "                        <td id=\"T_5075fbe2_a6ef_11eb_bfad_4074e049f0d4row2_col34\" class=\"data row2 col34\" >10</td>\n",
       "                        <td id=\"T_5075fbe2_a6ef_11eb_bfad_4074e049f0d4row2_col35\" class=\"data row2 col35\" >0</td>\n",
       "                        <td id=\"T_5075fbe2_a6ef_11eb_bfad_4074e049f0d4row2_col36\" class=\"data row2 col36\" >53</td>\n",
       "                        <td id=\"T_5075fbe2_a6ef_11eb_bfad_4074e049f0d4row2_col37\" class=\"data row2 col37\" >9</td>\n",
       "                        <td id=\"T_5075fbe2_a6ef_11eb_bfad_4074e049f0d4row2_col38\" class=\"data row2 col38\" >0</td>\n",
       "                        <td id=\"T_5075fbe2_a6ef_11eb_bfad_4074e049f0d4row2_col39\" class=\"data row2 col39\" >30</td>\n",
       "                        <td id=\"T_5075fbe2_a6ef_11eb_bfad_4074e049f0d4row2_col40\" class=\"data row2 col40\" >7</td>\n",
       "                        <td id=\"T_5075fbe2_a6ef_11eb_bfad_4074e049f0d4row2_col41\" class=\"data row2 col41\" >0</td>\n",
       "                        <td id=\"T_5075fbe2_a6ef_11eb_bfad_4074e049f0d4row2_col42\" class=\"data row2 col42\" >34</td>\n",
       "                        <td id=\"T_5075fbe2_a6ef_11eb_bfad_4074e049f0d4row2_col43\" class=\"data row2 col43\" >6</td>\n",
       "                        <td id=\"T_5075fbe2_a6ef_11eb_bfad_4074e049f0d4row2_col44\" class=\"data row2 col44\" >0</td>\n",
       "                        <td id=\"T_5075fbe2_a6ef_11eb_bfad_4074e049f0d4row2_col45\" class=\"data row2 col45\" >30</td>\n",
       "                        <td id=\"T_5075fbe2_a6ef_11eb_bfad_4074e049f0d4row2_col46\" class=\"data row2 col46\" >10</td>\n",
       "                        <td id=\"T_5075fbe2_a6ef_11eb_bfad_4074e049f0d4row2_col47\" class=\"data row2 col47\" >1</td>\n",
       "                        <td id=\"T_5075fbe2_a6ef_11eb_bfad_4074e049f0d4row2_col48\" class=\"data row2 col48\" >38</td>\n",
       "                        <td id=\"T_5075fbe2_a6ef_11eb_bfad_4074e049f0d4row2_col49\" class=\"data row2 col49\" >7</td>\n",
       "                        <td id=\"T_5075fbe2_a6ef_11eb_bfad_4074e049f0d4row2_col50\" class=\"data row2 col50\" >0</td>\n",
       "                        <td id=\"T_5075fbe2_a6ef_11eb_bfad_4074e049f0d4row2_col51\" class=\"data row2 col51\" >30</td>\n",
       "                        <td id=\"T_5075fbe2_a6ef_11eb_bfad_4074e049f0d4row2_col52\" class=\"data row2 col52\" >10</td>\n",
       "                        <td id=\"T_5075fbe2_a6ef_11eb_bfad_4074e049f0d4row2_col53\" class=\"data row2 col53\" >1</td>\n",
       "                        <td id=\"T_5075fbe2_a6ef_11eb_bfad_4074e049f0d4row2_col54\" class=\"data row2 col54\" >42</td>\n",
       "                        <td id=\"T_5075fbe2_a6ef_11eb_bfad_4074e049f0d4row2_col55\" class=\"data row2 col55\" >8</td>\n",
       "                        <td id=\"T_5075fbe2_a6ef_11eb_bfad_4074e049f0d4row2_col56\" class=\"data row2 col56\" >0</td>\n",
       "                        <td id=\"T_5075fbe2_a6ef_11eb_bfad_4074e049f0d4row2_col57\" class=\"data row2 col57\" >31</td>\n",
       "                        <td id=\"T_5075fbe2_a6ef_11eb_bfad_4074e049f0d4row2_col58\" class=\"data row2 col58\" >5</td>\n",
       "                        <td id=\"T_5075fbe2_a6ef_11eb_bfad_4074e049f0d4row2_col59\" class=\"data row2 col59\" >0</td>\n",
       "            </tr>\n",
       "            <tr>\n",
       "                        <th id=\"T_5075fbe2_a6ef_11eb_bfad_4074e049f0d4level0_row3\" class=\"row_heading level0 row3\" >Ar</th>\n",
       "                        <td id=\"T_5075fbe2_a6ef_11eb_bfad_4074e049f0d4row3_col0\" class=\"data row3 col0\" >141</td>\n",
       "                        <td id=\"T_5075fbe2_a6ef_11eb_bfad_4074e049f0d4row3_col1\" class=\"data row3 col1\" >14</td>\n",
       "                        <td id=\"T_5075fbe2_a6ef_11eb_bfad_4074e049f0d4row3_col2\" class=\"data row3 col2\" >3</td>\n",
       "                        <td id=\"T_5075fbe2_a6ef_11eb_bfad_4074e049f0d4row3_col3\" class=\"data row3 col3\" >164</td>\n",
       "                        <td id=\"T_5075fbe2_a6ef_11eb_bfad_4074e049f0d4row3_col4\" class=\"data row3 col4\" >0</td>\n",
       "                        <td id=\"T_5075fbe2_a6ef_11eb_bfad_4074e049f0d4row3_col5\" class=\"data row3 col5\" >2</td>\n",
       "                        <td id=\"T_5075fbe2_a6ef_11eb_bfad_4074e049f0d4row3_col6\" class=\"data row3 col6\" >128</td>\n",
       "                        <td id=\"T_5075fbe2_a6ef_11eb_bfad_4074e049f0d4row3_col7\" class=\"data row3 col7\" >38</td>\n",
       "                        <td id=\"T_5075fbe2_a6ef_11eb_bfad_4074e049f0d4row3_col8\" class=\"data row3 col8\" >1</td>\n",
       "                        <td id=\"T_5075fbe2_a6ef_11eb_bfad_4074e049f0d4row3_col9\" class=\"data row3 col9\" >105</td>\n",
       "                        <td id=\"T_5075fbe2_a6ef_11eb_bfad_4074e049f0d4row3_col10\" class=\"data row3 col10\" >51</td>\n",
       "                        <td id=\"T_5075fbe2_a6ef_11eb_bfad_4074e049f0d4row3_col11\" class=\"data row3 col11\" >0</td>\n",
       "                        <td id=\"T_5075fbe2_a6ef_11eb_bfad_4074e049f0d4row3_col12\" class=\"data row3 col12\" >108</td>\n",
       "                        <td id=\"T_5075fbe2_a6ef_11eb_bfad_4074e049f0d4row3_col13\" class=\"data row3 col13\" >48</td>\n",
       "                        <td id=\"T_5075fbe2_a6ef_11eb_bfad_4074e049f0d4row3_col14\" class=\"data row3 col14\" >0</td>\n",
       "                        <td id=\"T_5075fbe2_a6ef_11eb_bfad_4074e049f0d4row3_col15\" class=\"data row3 col15\" >110</td>\n",
       "                        <td id=\"T_5075fbe2_a6ef_11eb_bfad_4074e049f0d4row3_col16\" class=\"data row3 col16\" >51</td>\n",
       "                        <td id=\"T_5075fbe2_a6ef_11eb_bfad_4074e049f0d4row3_col17\" class=\"data row3 col17\" >4</td>\n",
       "                        <td id=\"T_5075fbe2_a6ef_11eb_bfad_4074e049f0d4row3_col18\" class=\"data row3 col18\" >86</td>\n",
       "                        <td id=\"T_5075fbe2_a6ef_11eb_bfad_4074e049f0d4row3_col19\" class=\"data row3 col19\" >60</td>\n",
       "                        <td id=\"T_5075fbe2_a6ef_11eb_bfad_4074e049f0d4row3_col20\" class=\"data row3 col20\" >4</td>\n",
       "                        <td id=\"T_5075fbe2_a6ef_11eb_bfad_4074e049f0d4row3_col21\" class=\"data row3 col21\" >101</td>\n",
       "                        <td id=\"T_5075fbe2_a6ef_11eb_bfad_4074e049f0d4row3_col22\" class=\"data row3 col22\" >58</td>\n",
       "                        <td id=\"T_5075fbe2_a6ef_11eb_bfad_4074e049f0d4row3_col23\" class=\"data row3 col23\" >2</td>\n",
       "                        <td id=\"T_5075fbe2_a6ef_11eb_bfad_4074e049f0d4row3_col24\" class=\"data row3 col24\" >100</td>\n",
       "                        <td id=\"T_5075fbe2_a6ef_11eb_bfad_4074e049f0d4row3_col25\" class=\"data row3 col25\" >62</td>\n",
       "                        <td id=\"T_5075fbe2_a6ef_11eb_bfad_4074e049f0d4row3_col26\" class=\"data row3 col26\" >6</td>\n",
       "                        <td id=\"T_5075fbe2_a6ef_11eb_bfad_4074e049f0d4row3_col27\" class=\"data row3 col27\" >103</td>\n",
       "                        <td id=\"T_5075fbe2_a6ef_11eb_bfad_4074e049f0d4row3_col28\" class=\"data row3 col28\" >66</td>\n",
       "                        <td id=\"T_5075fbe2_a6ef_11eb_bfad_4074e049f0d4row3_col29\" class=\"data row3 col29\" >2</td>\n",
       "                        <td id=\"T_5075fbe2_a6ef_11eb_bfad_4074e049f0d4row3_col30\" class=\"data row3 col30\" >92</td>\n",
       "                        <td id=\"T_5075fbe2_a6ef_11eb_bfad_4074e049f0d4row3_col31\" class=\"data row3 col31\" >70</td>\n",
       "                        <td id=\"T_5075fbe2_a6ef_11eb_bfad_4074e049f0d4row3_col32\" class=\"data row3 col32\" >1</td>\n",
       "                        <td id=\"T_5075fbe2_a6ef_11eb_bfad_4074e049f0d4row3_col33\" class=\"data row3 col33\" >105</td>\n",
       "                        <td id=\"T_5075fbe2_a6ef_11eb_bfad_4074e049f0d4row3_col34\" class=\"data row3 col34\" >51</td>\n",
       "                        <td id=\"T_5075fbe2_a6ef_11eb_bfad_4074e049f0d4row3_col35\" class=\"data row3 col35\" >2</td>\n",
       "                        <td id=\"T_5075fbe2_a6ef_11eb_bfad_4074e049f0d4row3_col36\" class=\"data row3 col36\" >97</td>\n",
       "                        <td id=\"T_5075fbe2_a6ef_11eb_bfad_4074e049f0d4row3_col37\" class=\"data row3 col37\" >67</td>\n",
       "                        <td id=\"T_5075fbe2_a6ef_11eb_bfad_4074e049f0d4row3_col38\" class=\"data row3 col38\" >1</td>\n",
       "                        <td id=\"T_5075fbe2_a6ef_11eb_bfad_4074e049f0d4row3_col39\" class=\"data row3 col39\" >106</td>\n",
       "                        <td id=\"T_5075fbe2_a6ef_11eb_bfad_4074e049f0d4row3_col40\" class=\"data row3 col40\" >55</td>\n",
       "                        <td id=\"T_5075fbe2_a6ef_11eb_bfad_4074e049f0d4row3_col41\" class=\"data row3 col41\" >4</td>\n",
       "                        <td id=\"T_5075fbe2_a6ef_11eb_bfad_4074e049f0d4row3_col42\" class=\"data row3 col42\" >90</td>\n",
       "                        <td id=\"T_5075fbe2_a6ef_11eb_bfad_4074e049f0d4row3_col43\" class=\"data row3 col43\" >68</td>\n",
       "                        <td id=\"T_5075fbe2_a6ef_11eb_bfad_4074e049f0d4row3_col44\" class=\"data row3 col44\" >4</td>\n",
       "                        <td id=\"T_5075fbe2_a6ef_11eb_bfad_4074e049f0d4row3_col45\" class=\"data row3 col45\" >98</td>\n",
       "                        <td id=\"T_5075fbe2_a6ef_11eb_bfad_4074e049f0d4row3_col46\" class=\"data row3 col46\" >55</td>\n",
       "                        <td id=\"T_5075fbe2_a6ef_11eb_bfad_4074e049f0d4row3_col47\" class=\"data row3 col47\" >7</td>\n",
       "                        <td id=\"T_5075fbe2_a6ef_11eb_bfad_4074e049f0d4row3_col48\" class=\"data row3 col48\" >103</td>\n",
       "                        <td id=\"T_5075fbe2_a6ef_11eb_bfad_4074e049f0d4row3_col49\" class=\"data row3 col49\" >66</td>\n",
       "                        <td id=\"T_5075fbe2_a6ef_11eb_bfad_4074e049f0d4row3_col50\" class=\"data row3 col50\" >5</td>\n",
       "                        <td id=\"T_5075fbe2_a6ef_11eb_bfad_4074e049f0d4row3_col51\" class=\"data row3 col51\" >77</td>\n",
       "                        <td id=\"T_5075fbe2_a6ef_11eb_bfad_4074e049f0d4row3_col52\" class=\"data row3 col52\" >72</td>\n",
       "                        <td id=\"T_5075fbe2_a6ef_11eb_bfad_4074e049f0d4row3_col53\" class=\"data row3 col53\" >10</td>\n",
       "                        <td id=\"T_5075fbe2_a6ef_11eb_bfad_4074e049f0d4row3_col54\" class=\"data row3 col54\" >80</td>\n",
       "                        <td id=\"T_5075fbe2_a6ef_11eb_bfad_4074e049f0d4row3_col55\" class=\"data row3 col55\" >77</td>\n",
       "                        <td id=\"T_5075fbe2_a6ef_11eb_bfad_4074e049f0d4row3_col56\" class=\"data row3 col56\" >3</td>\n",
       "                        <td id=\"T_5075fbe2_a6ef_11eb_bfad_4074e049f0d4row3_col57\" class=\"data row3 col57\" >89</td>\n",
       "                        <td id=\"T_5075fbe2_a6ef_11eb_bfad_4074e049f0d4row3_col58\" class=\"data row3 col58\" >87</td>\n",
       "                        <td id=\"T_5075fbe2_a6ef_11eb_bfad_4074e049f0d4row3_col59\" class=\"data row3 col59\" >1</td>\n",
       "            </tr>\n",
       "            <tr>\n",
       "                        <th id=\"T_5075fbe2_a6ef_11eb_bfad_4074e049f0d4level0_row4\" class=\"row_heading level0 row4\" >F</th>\n",
       "                        <td id=\"T_5075fbe2_a6ef_11eb_bfad_4074e049f0d4row4_col0\" class=\"data row4 col0\" >0</td>\n",
       "                        <td id=\"T_5075fbe2_a6ef_11eb_bfad_4074e049f0d4row4_col1\" class=\"data row4 col1\" >0</td>\n",
       "                        <td id=\"T_5075fbe2_a6ef_11eb_bfad_4074e049f0d4row4_col2\" class=\"data row4 col2\" >0</td>\n",
       "                        <td id=\"T_5075fbe2_a6ef_11eb_bfad_4074e049f0d4row4_col3\" class=\"data row4 col3\" >0</td>\n",
       "                        <td id=\"T_5075fbe2_a6ef_11eb_bfad_4074e049f0d4row4_col4\" class=\"data row4 col4\" >0</td>\n",
       "                        <td id=\"T_5075fbe2_a6ef_11eb_bfad_4074e049f0d4row4_col5\" class=\"data row4 col5\" >0</td>\n",
       "                        <td id=\"T_5075fbe2_a6ef_11eb_bfad_4074e049f0d4row4_col6\" class=\"data row4 col6\" >0</td>\n",
       "                        <td id=\"T_5075fbe2_a6ef_11eb_bfad_4074e049f0d4row4_col7\" class=\"data row4 col7\" >0</td>\n",
       "                        <td id=\"T_5075fbe2_a6ef_11eb_bfad_4074e049f0d4row4_col8\" class=\"data row4 col8\" >0</td>\n",
       "                        <td id=\"T_5075fbe2_a6ef_11eb_bfad_4074e049f0d4row4_col9\" class=\"data row4 col9\" >0</td>\n",
       "                        <td id=\"T_5075fbe2_a6ef_11eb_bfad_4074e049f0d4row4_col10\" class=\"data row4 col10\" >0</td>\n",
       "                        <td id=\"T_5075fbe2_a6ef_11eb_bfad_4074e049f0d4row4_col11\" class=\"data row4 col11\" >0</td>\n",
       "                        <td id=\"T_5075fbe2_a6ef_11eb_bfad_4074e049f0d4row4_col12\" class=\"data row4 col12\" >0</td>\n",
       "                        <td id=\"T_5075fbe2_a6ef_11eb_bfad_4074e049f0d4row4_col13\" class=\"data row4 col13\" >0</td>\n",
       "                        <td id=\"T_5075fbe2_a6ef_11eb_bfad_4074e049f0d4row4_col14\" class=\"data row4 col14\" >0</td>\n",
       "                        <td id=\"T_5075fbe2_a6ef_11eb_bfad_4074e049f0d4row4_col15\" class=\"data row4 col15\" >0</td>\n",
       "                        <td id=\"T_5075fbe2_a6ef_11eb_bfad_4074e049f0d4row4_col16\" class=\"data row4 col16\" >0</td>\n",
       "                        <td id=\"T_5075fbe2_a6ef_11eb_bfad_4074e049f0d4row4_col17\" class=\"data row4 col17\" >0</td>\n",
       "                        <td id=\"T_5075fbe2_a6ef_11eb_bfad_4074e049f0d4row4_col18\" class=\"data row4 col18\" >0</td>\n",
       "                        <td id=\"T_5075fbe2_a6ef_11eb_bfad_4074e049f0d4row4_col19\" class=\"data row4 col19\" >0</td>\n",
       "                        <td id=\"T_5075fbe2_a6ef_11eb_bfad_4074e049f0d4row4_col20\" class=\"data row4 col20\" >0</td>\n",
       "                        <td id=\"T_5075fbe2_a6ef_11eb_bfad_4074e049f0d4row4_col21\" class=\"data row4 col21\" >0</td>\n",
       "                        <td id=\"T_5075fbe2_a6ef_11eb_bfad_4074e049f0d4row4_col22\" class=\"data row4 col22\" >0</td>\n",
       "                        <td id=\"T_5075fbe2_a6ef_11eb_bfad_4074e049f0d4row4_col23\" class=\"data row4 col23\" >0</td>\n",
       "                        <td id=\"T_5075fbe2_a6ef_11eb_bfad_4074e049f0d4row4_col24\" class=\"data row4 col24\" >0</td>\n",
       "                        <td id=\"T_5075fbe2_a6ef_11eb_bfad_4074e049f0d4row4_col25\" class=\"data row4 col25\" >0</td>\n",
       "                        <td id=\"T_5075fbe2_a6ef_11eb_bfad_4074e049f0d4row4_col26\" class=\"data row4 col26\" >0</td>\n",
       "                        <td id=\"T_5075fbe2_a6ef_11eb_bfad_4074e049f0d4row4_col27\" class=\"data row4 col27\" >0</td>\n",
       "                        <td id=\"T_5075fbe2_a6ef_11eb_bfad_4074e049f0d4row4_col28\" class=\"data row4 col28\" >0</td>\n",
       "                        <td id=\"T_5075fbe2_a6ef_11eb_bfad_4074e049f0d4row4_col29\" class=\"data row4 col29\" >0</td>\n",
       "                        <td id=\"T_5075fbe2_a6ef_11eb_bfad_4074e049f0d4row4_col30\" class=\"data row4 col30\" >0</td>\n",
       "                        <td id=\"T_5075fbe2_a6ef_11eb_bfad_4074e049f0d4row4_col31\" class=\"data row4 col31\" >0</td>\n",
       "                        <td id=\"T_5075fbe2_a6ef_11eb_bfad_4074e049f0d4row4_col32\" class=\"data row4 col32\" >0</td>\n",
       "                        <td id=\"T_5075fbe2_a6ef_11eb_bfad_4074e049f0d4row4_col33\" class=\"data row4 col33\" >0</td>\n",
       "                        <td id=\"T_5075fbe2_a6ef_11eb_bfad_4074e049f0d4row4_col34\" class=\"data row4 col34\" >0</td>\n",
       "                        <td id=\"T_5075fbe2_a6ef_11eb_bfad_4074e049f0d4row4_col35\" class=\"data row4 col35\" >0</td>\n",
       "                        <td id=\"T_5075fbe2_a6ef_11eb_bfad_4074e049f0d4row4_col36\" class=\"data row4 col36\" >0</td>\n",
       "                        <td id=\"T_5075fbe2_a6ef_11eb_bfad_4074e049f0d4row4_col37\" class=\"data row4 col37\" >0</td>\n",
       "                        <td id=\"T_5075fbe2_a6ef_11eb_bfad_4074e049f0d4row4_col38\" class=\"data row4 col38\" >0</td>\n",
       "                        <td id=\"T_5075fbe2_a6ef_11eb_bfad_4074e049f0d4row4_col39\" class=\"data row4 col39\" >0</td>\n",
       "                        <td id=\"T_5075fbe2_a6ef_11eb_bfad_4074e049f0d4row4_col40\" class=\"data row4 col40\" >0</td>\n",
       "                        <td id=\"T_5075fbe2_a6ef_11eb_bfad_4074e049f0d4row4_col41\" class=\"data row4 col41\" >0</td>\n",
       "                        <td id=\"T_5075fbe2_a6ef_11eb_bfad_4074e049f0d4row4_col42\" class=\"data row4 col42\" >0</td>\n",
       "                        <td id=\"T_5075fbe2_a6ef_11eb_bfad_4074e049f0d4row4_col43\" class=\"data row4 col43\" >0</td>\n",
       "                        <td id=\"T_5075fbe2_a6ef_11eb_bfad_4074e049f0d4row4_col44\" class=\"data row4 col44\" >0</td>\n",
       "                        <td id=\"T_5075fbe2_a6ef_11eb_bfad_4074e049f0d4row4_col45\" class=\"data row4 col45\" >0</td>\n",
       "                        <td id=\"T_5075fbe2_a6ef_11eb_bfad_4074e049f0d4row4_col46\" class=\"data row4 col46\" >0</td>\n",
       "                        <td id=\"T_5075fbe2_a6ef_11eb_bfad_4074e049f0d4row4_col47\" class=\"data row4 col47\" >0</td>\n",
       "                        <td id=\"T_5075fbe2_a6ef_11eb_bfad_4074e049f0d4row4_col48\" class=\"data row4 col48\" >0</td>\n",
       "                        <td id=\"T_5075fbe2_a6ef_11eb_bfad_4074e049f0d4row4_col49\" class=\"data row4 col49\" >0</td>\n",
       "                        <td id=\"T_5075fbe2_a6ef_11eb_bfad_4074e049f0d4row4_col50\" class=\"data row4 col50\" >0</td>\n",
       "                        <td id=\"T_5075fbe2_a6ef_11eb_bfad_4074e049f0d4row4_col51\" class=\"data row4 col51\" >0</td>\n",
       "                        <td id=\"T_5075fbe2_a6ef_11eb_bfad_4074e049f0d4row4_col52\" class=\"data row4 col52\" >0</td>\n",
       "                        <td id=\"T_5075fbe2_a6ef_11eb_bfad_4074e049f0d4row4_col53\" class=\"data row4 col53\" >0</td>\n",
       "                        <td id=\"T_5075fbe2_a6ef_11eb_bfad_4074e049f0d4row4_col54\" class=\"data row4 col54\" >0</td>\n",
       "                        <td id=\"T_5075fbe2_a6ef_11eb_bfad_4074e049f0d4row4_col55\" class=\"data row4 col55\" >0</td>\n",
       "                        <td id=\"T_5075fbe2_a6ef_11eb_bfad_4074e049f0d4row4_col56\" class=\"data row4 col56\" >0</td>\n",
       "                        <td id=\"T_5075fbe2_a6ef_11eb_bfad_4074e049f0d4row4_col57\" class=\"data row4 col57\" >0</td>\n",
       "                        <td id=\"T_5075fbe2_a6ef_11eb_bfad_4074e049f0d4row4_col58\" class=\"data row4 col58\" >0</td>\n",
       "                        <td id=\"T_5075fbe2_a6ef_11eb_bfad_4074e049f0d4row4_col59\" class=\"data row4 col59\" >0</td>\n",
       "            </tr>\n",
       "            <tr>\n",
       "                        <th id=\"T_5075fbe2_a6ef_11eb_bfad_4074e049f0d4level0_row5\" class=\"row_heading level0 row5\" >C</th>\n",
       "                        <td id=\"T_5075fbe2_a6ef_11eb_bfad_4074e049f0d4row5_col0\" class=\"data row5 col0\" >0</td>\n",
       "                        <td id=\"T_5075fbe2_a6ef_11eb_bfad_4074e049f0d4row5_col1\" class=\"data row5 col1\" >0</td>\n",
       "                        <td id=\"T_5075fbe2_a6ef_11eb_bfad_4074e049f0d4row5_col2\" class=\"data row5 col2\" >0</td>\n",
       "                        <td id=\"T_5075fbe2_a6ef_11eb_bfad_4074e049f0d4row5_col3\" class=\"data row5 col3\" >0</td>\n",
       "                        <td id=\"T_5075fbe2_a6ef_11eb_bfad_4074e049f0d4row5_col4\" class=\"data row5 col4\" >0</td>\n",
       "                        <td id=\"T_5075fbe2_a6ef_11eb_bfad_4074e049f0d4row5_col5\" class=\"data row5 col5\" >0</td>\n",
       "                        <td id=\"T_5075fbe2_a6ef_11eb_bfad_4074e049f0d4row5_col6\" class=\"data row5 col6\" >0</td>\n",
       "                        <td id=\"T_5075fbe2_a6ef_11eb_bfad_4074e049f0d4row5_col7\" class=\"data row5 col7\" >0</td>\n",
       "                        <td id=\"T_5075fbe2_a6ef_11eb_bfad_4074e049f0d4row5_col8\" class=\"data row5 col8\" >0</td>\n",
       "                        <td id=\"T_5075fbe2_a6ef_11eb_bfad_4074e049f0d4row5_col9\" class=\"data row5 col9\" >0</td>\n",
       "                        <td id=\"T_5075fbe2_a6ef_11eb_bfad_4074e049f0d4row5_col10\" class=\"data row5 col10\" >0</td>\n",
       "                        <td id=\"T_5075fbe2_a6ef_11eb_bfad_4074e049f0d4row5_col11\" class=\"data row5 col11\" >0</td>\n",
       "                        <td id=\"T_5075fbe2_a6ef_11eb_bfad_4074e049f0d4row5_col12\" class=\"data row5 col12\" >0</td>\n",
       "                        <td id=\"T_5075fbe2_a6ef_11eb_bfad_4074e049f0d4row5_col13\" class=\"data row5 col13\" >0</td>\n",
       "                        <td id=\"T_5075fbe2_a6ef_11eb_bfad_4074e049f0d4row5_col14\" class=\"data row5 col14\" >0</td>\n",
       "                        <td id=\"T_5075fbe2_a6ef_11eb_bfad_4074e049f0d4row5_col15\" class=\"data row5 col15\" >0</td>\n",
       "                        <td id=\"T_5075fbe2_a6ef_11eb_bfad_4074e049f0d4row5_col16\" class=\"data row5 col16\" >0</td>\n",
       "                        <td id=\"T_5075fbe2_a6ef_11eb_bfad_4074e049f0d4row5_col17\" class=\"data row5 col17\" >0</td>\n",
       "                        <td id=\"T_5075fbe2_a6ef_11eb_bfad_4074e049f0d4row5_col18\" class=\"data row5 col18\" >0</td>\n",
       "                        <td id=\"T_5075fbe2_a6ef_11eb_bfad_4074e049f0d4row5_col19\" class=\"data row5 col19\" >0</td>\n",
       "                        <td id=\"T_5075fbe2_a6ef_11eb_bfad_4074e049f0d4row5_col20\" class=\"data row5 col20\" >0</td>\n",
       "                        <td id=\"T_5075fbe2_a6ef_11eb_bfad_4074e049f0d4row5_col21\" class=\"data row5 col21\" >0</td>\n",
       "                        <td id=\"T_5075fbe2_a6ef_11eb_bfad_4074e049f0d4row5_col22\" class=\"data row5 col22\" >0</td>\n",
       "                        <td id=\"T_5075fbe2_a6ef_11eb_bfad_4074e049f0d4row5_col23\" class=\"data row5 col23\" >0</td>\n",
       "                        <td id=\"T_5075fbe2_a6ef_11eb_bfad_4074e049f0d4row5_col24\" class=\"data row5 col24\" >0</td>\n",
       "                        <td id=\"T_5075fbe2_a6ef_11eb_bfad_4074e049f0d4row5_col25\" class=\"data row5 col25\" >0</td>\n",
       "                        <td id=\"T_5075fbe2_a6ef_11eb_bfad_4074e049f0d4row5_col26\" class=\"data row5 col26\" >0</td>\n",
       "                        <td id=\"T_5075fbe2_a6ef_11eb_bfad_4074e049f0d4row5_col27\" class=\"data row5 col27\" >0</td>\n",
       "                        <td id=\"T_5075fbe2_a6ef_11eb_bfad_4074e049f0d4row5_col28\" class=\"data row5 col28\" >0</td>\n",
       "                        <td id=\"T_5075fbe2_a6ef_11eb_bfad_4074e049f0d4row5_col29\" class=\"data row5 col29\" >0</td>\n",
       "                        <td id=\"T_5075fbe2_a6ef_11eb_bfad_4074e049f0d4row5_col30\" class=\"data row5 col30\" >0</td>\n",
       "                        <td id=\"T_5075fbe2_a6ef_11eb_bfad_4074e049f0d4row5_col31\" class=\"data row5 col31\" >0</td>\n",
       "                        <td id=\"T_5075fbe2_a6ef_11eb_bfad_4074e049f0d4row5_col32\" class=\"data row5 col32\" >0</td>\n",
       "                        <td id=\"T_5075fbe2_a6ef_11eb_bfad_4074e049f0d4row5_col33\" class=\"data row5 col33\" >0</td>\n",
       "                        <td id=\"T_5075fbe2_a6ef_11eb_bfad_4074e049f0d4row5_col34\" class=\"data row5 col34\" >0</td>\n",
       "                        <td id=\"T_5075fbe2_a6ef_11eb_bfad_4074e049f0d4row5_col35\" class=\"data row5 col35\" >0</td>\n",
       "                        <td id=\"T_5075fbe2_a6ef_11eb_bfad_4074e049f0d4row5_col36\" class=\"data row5 col36\" >0</td>\n",
       "                        <td id=\"T_5075fbe2_a6ef_11eb_bfad_4074e049f0d4row5_col37\" class=\"data row5 col37\" >0</td>\n",
       "                        <td id=\"T_5075fbe2_a6ef_11eb_bfad_4074e049f0d4row5_col38\" class=\"data row5 col38\" >0</td>\n",
       "                        <td id=\"T_5075fbe2_a6ef_11eb_bfad_4074e049f0d4row5_col39\" class=\"data row5 col39\" >0</td>\n",
       "                        <td id=\"T_5075fbe2_a6ef_11eb_bfad_4074e049f0d4row5_col40\" class=\"data row5 col40\" >0</td>\n",
       "                        <td id=\"T_5075fbe2_a6ef_11eb_bfad_4074e049f0d4row5_col41\" class=\"data row5 col41\" >0</td>\n",
       "                        <td id=\"T_5075fbe2_a6ef_11eb_bfad_4074e049f0d4row5_col42\" class=\"data row5 col42\" >0</td>\n",
       "                        <td id=\"T_5075fbe2_a6ef_11eb_bfad_4074e049f0d4row5_col43\" class=\"data row5 col43\" >0</td>\n",
       "                        <td id=\"T_5075fbe2_a6ef_11eb_bfad_4074e049f0d4row5_col44\" class=\"data row5 col44\" >0</td>\n",
       "                        <td id=\"T_5075fbe2_a6ef_11eb_bfad_4074e049f0d4row5_col45\" class=\"data row5 col45\" >0</td>\n",
       "                        <td id=\"T_5075fbe2_a6ef_11eb_bfad_4074e049f0d4row5_col46\" class=\"data row5 col46\" >0</td>\n",
       "                        <td id=\"T_5075fbe2_a6ef_11eb_bfad_4074e049f0d4row5_col47\" class=\"data row5 col47\" >0</td>\n",
       "                        <td id=\"T_5075fbe2_a6ef_11eb_bfad_4074e049f0d4row5_col48\" class=\"data row5 col48\" >0</td>\n",
       "                        <td id=\"T_5075fbe2_a6ef_11eb_bfad_4074e049f0d4row5_col49\" class=\"data row5 col49\" >0</td>\n",
       "                        <td id=\"T_5075fbe2_a6ef_11eb_bfad_4074e049f0d4row5_col50\" class=\"data row5 col50\" >0</td>\n",
       "                        <td id=\"T_5075fbe2_a6ef_11eb_bfad_4074e049f0d4row5_col51\" class=\"data row5 col51\" >0</td>\n",
       "                        <td id=\"T_5075fbe2_a6ef_11eb_bfad_4074e049f0d4row5_col52\" class=\"data row5 col52\" >0</td>\n",
       "                        <td id=\"T_5075fbe2_a6ef_11eb_bfad_4074e049f0d4row5_col53\" class=\"data row5 col53\" >0</td>\n",
       "                        <td id=\"T_5075fbe2_a6ef_11eb_bfad_4074e049f0d4row5_col54\" class=\"data row5 col54\" >0</td>\n",
       "                        <td id=\"T_5075fbe2_a6ef_11eb_bfad_4074e049f0d4row5_col55\" class=\"data row5 col55\" >0</td>\n",
       "                        <td id=\"T_5075fbe2_a6ef_11eb_bfad_4074e049f0d4row5_col56\" class=\"data row5 col56\" >0</td>\n",
       "                        <td id=\"T_5075fbe2_a6ef_11eb_bfad_4074e049f0d4row5_col57\" class=\"data row5 col57\" >0</td>\n",
       "                        <td id=\"T_5075fbe2_a6ef_11eb_bfad_4074e049f0d4row5_col58\" class=\"data row5 col58\" >0</td>\n",
       "                        <td id=\"T_5075fbe2_a6ef_11eb_bfad_4074e049f0d4row5_col59\" class=\"data row5 col59\" >0</td>\n",
       "            </tr>\n",
       "    </tbody></table>"
      ],
      "text/plain": [
       "<pandas.io.formats.style.Styler at 0x7fe49968d590>"
      ]
     },
     "execution_count": 57,
     "metadata": {},
     "output_type": "execute_result"
    }
   ],
   "source": [
    "from postprocessing import postprocessAggregated\n",
    "# simindices = np.append(np.arange(2, 10), np.arange(16, 22))\n",
    "simindices = np.arange(0, 20)\n",
    "\n",
    "aggregated = postprocessAggregated(simindices, \"../\")\n",
    "aggregated.style.set_caption(\"removed species\")\n"
   ]
  },
  {
   "cell_type": "code",
   "execution_count": 58,
   "metadata": {
    "ExecuteTime": {
     "end_time": "2021-04-27T00:27:14.944898Z",
     "start_time": "2021-04-27T00:27:14.937960Z"
    },
    "hidden": true
   },
   "outputs": [
    {
     "data": {
      "text/plain": [
       "Si     1.782353\n",
       "N      7.888235\n",
       "H     10.070588\n",
       "Ar    19.182353\n",
       "F      0.000000\n",
       "C      0.000000\n",
       "dtype: float64"
      ]
     },
     "execution_count": 58,
     "metadata": {},
     "output_type": "execute_result"
    }
   ],
   "source": [
    "(aggregated/170).sum(axis = 1)"
   ]
  },
  {
   "cell_type": "code",
   "execution_count": 59,
   "metadata": {
    "ExecuteTime": {
     "end_time": "2021-04-27T00:27:15.651331Z",
     "start_time": "2021-04-27T00:27:15.632840Z"
    },
    "hidden": true
   },
   "outputs": [
    {
     "data": {
      "text/html": [
       "<style  type=\"text/css\" >\n",
       "</style><table id=\"T_514d4a34_a6ef_11eb_bfad_4074e049f0d4\" ><caption>normalized by #runs</caption><thead>    <tr>        <th class=\"blank level0\" ></th>        <th class=\"col_heading level0 col0\" >0-bomb</th>        <th class=\"col_heading level0 col1\" >0-quench</th>        <th class=\"col_heading level0 col2\" >0-eq</th>        <th class=\"col_heading level0 col3\" >1-bomb</th>        <th class=\"col_heading level0 col4\" >1-quench</th>        <th class=\"col_heading level0 col5\" >1-eq</th>        <th class=\"col_heading level0 col6\" >2-bomb</th>        <th class=\"col_heading level0 col7\" >2-quench</th>        <th class=\"col_heading level0 col8\" >2-eq</th>        <th class=\"col_heading level0 col9\" >3-bomb</th>        <th class=\"col_heading level0 col10\" >3-quench</th>        <th class=\"col_heading level0 col11\" >3-eq</th>        <th class=\"col_heading level0 col12\" >4-bomb</th>        <th class=\"col_heading level0 col13\" >4-quench</th>        <th class=\"col_heading level0 col14\" >4-eq</th>        <th class=\"col_heading level0 col15\" >5-bomb</th>        <th class=\"col_heading level0 col16\" >5-quench</th>        <th class=\"col_heading level0 col17\" >5-eq</th>        <th class=\"col_heading level0 col18\" >6-bomb</th>        <th class=\"col_heading level0 col19\" >6-quench</th>        <th class=\"col_heading level0 col20\" >6-eq</th>        <th class=\"col_heading level0 col21\" >7-bomb</th>        <th class=\"col_heading level0 col22\" >7-quench</th>        <th class=\"col_heading level0 col23\" >7-eq</th>        <th class=\"col_heading level0 col24\" >8-bomb</th>        <th class=\"col_heading level0 col25\" >8-quench</th>        <th class=\"col_heading level0 col26\" >8-eq</th>        <th class=\"col_heading level0 col27\" >9-bomb</th>        <th class=\"col_heading level0 col28\" >9-quench</th>        <th class=\"col_heading level0 col29\" >9-eq</th>        <th class=\"col_heading level0 col30\" >10-bomb</th>        <th class=\"col_heading level0 col31\" >10-quench</th>        <th class=\"col_heading level0 col32\" >10-eq</th>        <th class=\"col_heading level0 col33\" >11-bomb</th>        <th class=\"col_heading level0 col34\" >11-quench</th>        <th class=\"col_heading level0 col35\" >11-eq</th>        <th class=\"col_heading level0 col36\" >12-bomb</th>        <th class=\"col_heading level0 col37\" >12-quench</th>        <th class=\"col_heading level0 col38\" >12-eq</th>        <th class=\"col_heading level0 col39\" >13-bomb</th>        <th class=\"col_heading level0 col40\" >13-quench</th>        <th class=\"col_heading level0 col41\" >13-eq</th>        <th class=\"col_heading level0 col42\" >14-bomb</th>        <th class=\"col_heading level0 col43\" >14-quench</th>        <th class=\"col_heading level0 col44\" >14-eq</th>        <th class=\"col_heading level0 col45\" >15-bomb</th>        <th class=\"col_heading level0 col46\" >15-quench</th>        <th class=\"col_heading level0 col47\" >15-eq</th>        <th class=\"col_heading level0 col48\" >16-bomb</th>        <th class=\"col_heading level0 col49\" >16-quench</th>        <th class=\"col_heading level0 col50\" >16-eq</th>        <th class=\"col_heading level0 col51\" >17-bomb</th>        <th class=\"col_heading level0 col52\" >17-quench</th>        <th class=\"col_heading level0 col53\" >17-eq</th>        <th class=\"col_heading level0 col54\" >18-bomb</th>        <th class=\"col_heading level0 col55\" >18-quench</th>        <th class=\"col_heading level0 col56\" >18-eq</th>        <th class=\"col_heading level0 col57\" >19-bomb</th>        <th class=\"col_heading level0 col58\" >19-quench</th>        <th class=\"col_heading level0 col59\" >19-eq</th>    </tr></thead><tbody>\n",
       "                <tr>\n",
       "                        <th id=\"T_514d4a34_a6ef_11eb_bfad_4074e049f0d4level0_row0\" class=\"row_heading level0 row0\" >Si</th>\n",
       "                        <td id=\"T_514d4a34_a6ef_11eb_bfad_4074e049f0d4row0_col0\" class=\"data row0 col0\" >0.017647</td>\n",
       "                        <td id=\"T_514d4a34_a6ef_11eb_bfad_4074e049f0d4row0_col1\" class=\"data row0 col1\" >0.017647</td>\n",
       "                        <td id=\"T_514d4a34_a6ef_11eb_bfad_4074e049f0d4row0_col2\" class=\"data row0 col2\" >0.605882</td>\n",
       "                        <td id=\"T_514d4a34_a6ef_11eb_bfad_4074e049f0d4row0_col3\" class=\"data row0 col3\" >0.711765</td>\n",
       "                        <td id=\"T_514d4a34_a6ef_11eb_bfad_4074e049f0d4row0_col4\" class=\"data row0 col4\" >0.000000</td>\n",
       "                        <td id=\"T_514d4a34_a6ef_11eb_bfad_4074e049f0d4row0_col5\" class=\"data row0 col5\" >0.000000</td>\n",
       "                        <td id=\"T_514d4a34_a6ef_11eb_bfad_4074e049f0d4row0_col6\" class=\"data row0 col6\" >0.005882</td>\n",
       "                        <td id=\"T_514d4a34_a6ef_11eb_bfad_4074e049f0d4row0_col7\" class=\"data row0 col7\" >0.000000</td>\n",
       "                        <td id=\"T_514d4a34_a6ef_11eb_bfad_4074e049f0d4row0_col8\" class=\"data row0 col8\" >0.000000</td>\n",
       "                        <td id=\"T_514d4a34_a6ef_11eb_bfad_4074e049f0d4row0_col9\" class=\"data row0 col9\" >0.005882</td>\n",
       "                        <td id=\"T_514d4a34_a6ef_11eb_bfad_4074e049f0d4row0_col10\" class=\"data row0 col10\" >0.035294</td>\n",
       "                        <td id=\"T_514d4a34_a6ef_11eb_bfad_4074e049f0d4row0_col11\" class=\"data row0 col11\" >0.000000</td>\n",
       "                        <td id=\"T_514d4a34_a6ef_11eb_bfad_4074e049f0d4row0_col12\" class=\"data row0 col12\" >0.005882</td>\n",
       "                        <td id=\"T_514d4a34_a6ef_11eb_bfad_4074e049f0d4row0_col13\" class=\"data row0 col13\" >0.023529</td>\n",
       "                        <td id=\"T_514d4a34_a6ef_11eb_bfad_4074e049f0d4row0_col14\" class=\"data row0 col14\" >0.000000</td>\n",
       "                        <td id=\"T_514d4a34_a6ef_11eb_bfad_4074e049f0d4row0_col15\" class=\"data row0 col15\" >0.000000</td>\n",
       "                        <td id=\"T_514d4a34_a6ef_11eb_bfad_4074e049f0d4row0_col16\" class=\"data row0 col16\" >0.000000</td>\n",
       "                        <td id=\"T_514d4a34_a6ef_11eb_bfad_4074e049f0d4row0_col17\" class=\"data row0 col17\" >0.000000</td>\n",
       "                        <td id=\"T_514d4a34_a6ef_11eb_bfad_4074e049f0d4row0_col18\" class=\"data row0 col18\" >0.017647</td>\n",
       "                        <td id=\"T_514d4a34_a6ef_11eb_bfad_4074e049f0d4row0_col19\" class=\"data row0 col19\" >0.000000</td>\n",
       "                        <td id=\"T_514d4a34_a6ef_11eb_bfad_4074e049f0d4row0_col20\" class=\"data row0 col20\" >0.000000</td>\n",
       "                        <td id=\"T_514d4a34_a6ef_11eb_bfad_4074e049f0d4row0_col21\" class=\"data row0 col21\" >0.029412</td>\n",
       "                        <td id=\"T_514d4a34_a6ef_11eb_bfad_4074e049f0d4row0_col22\" class=\"data row0 col22\" >0.005882</td>\n",
       "                        <td id=\"T_514d4a34_a6ef_11eb_bfad_4074e049f0d4row0_col23\" class=\"data row0 col23\" >0.000000</td>\n",
       "                        <td id=\"T_514d4a34_a6ef_11eb_bfad_4074e049f0d4row0_col24\" class=\"data row0 col24\" >0.017647</td>\n",
       "                        <td id=\"T_514d4a34_a6ef_11eb_bfad_4074e049f0d4row0_col25\" class=\"data row0 col25\" >0.005882</td>\n",
       "                        <td id=\"T_514d4a34_a6ef_11eb_bfad_4074e049f0d4row0_col26\" class=\"data row0 col26\" >0.000000</td>\n",
       "                        <td id=\"T_514d4a34_a6ef_11eb_bfad_4074e049f0d4row0_col27\" class=\"data row0 col27\" >0.011765</td>\n",
       "                        <td id=\"T_514d4a34_a6ef_11eb_bfad_4074e049f0d4row0_col28\" class=\"data row0 col28\" >0.005882</td>\n",
       "                        <td id=\"T_514d4a34_a6ef_11eb_bfad_4074e049f0d4row0_col29\" class=\"data row0 col29\" >0.000000</td>\n",
       "                        <td id=\"T_514d4a34_a6ef_11eb_bfad_4074e049f0d4row0_col30\" class=\"data row0 col30\" >0.005882</td>\n",
       "                        <td id=\"T_514d4a34_a6ef_11eb_bfad_4074e049f0d4row0_col31\" class=\"data row0 col31\" >0.005882</td>\n",
       "                        <td id=\"T_514d4a34_a6ef_11eb_bfad_4074e049f0d4row0_col32\" class=\"data row0 col32\" >0.000000</td>\n",
       "                        <td id=\"T_514d4a34_a6ef_11eb_bfad_4074e049f0d4row0_col33\" class=\"data row0 col33\" >0.005882</td>\n",
       "                        <td id=\"T_514d4a34_a6ef_11eb_bfad_4074e049f0d4row0_col34\" class=\"data row0 col34\" >0.023529</td>\n",
       "                        <td id=\"T_514d4a34_a6ef_11eb_bfad_4074e049f0d4row0_col35\" class=\"data row0 col35\" >0.000000</td>\n",
       "                        <td id=\"T_514d4a34_a6ef_11eb_bfad_4074e049f0d4row0_col36\" class=\"data row0 col36\" >0.011765</td>\n",
       "                        <td id=\"T_514d4a34_a6ef_11eb_bfad_4074e049f0d4row0_col37\" class=\"data row0 col37\" >0.005882</td>\n",
       "                        <td id=\"T_514d4a34_a6ef_11eb_bfad_4074e049f0d4row0_col38\" class=\"data row0 col38\" >0.000000</td>\n",
       "                        <td id=\"T_514d4a34_a6ef_11eb_bfad_4074e049f0d4row0_col39\" class=\"data row0 col39\" >0.005882</td>\n",
       "                        <td id=\"T_514d4a34_a6ef_11eb_bfad_4074e049f0d4row0_col40\" class=\"data row0 col40\" >0.011765</td>\n",
       "                        <td id=\"T_514d4a34_a6ef_11eb_bfad_4074e049f0d4row0_col41\" class=\"data row0 col41\" >0.000000</td>\n",
       "                        <td id=\"T_514d4a34_a6ef_11eb_bfad_4074e049f0d4row0_col42\" class=\"data row0 col42\" >0.017647</td>\n",
       "                        <td id=\"T_514d4a34_a6ef_11eb_bfad_4074e049f0d4row0_col43\" class=\"data row0 col43\" >0.041176</td>\n",
       "                        <td id=\"T_514d4a34_a6ef_11eb_bfad_4074e049f0d4row0_col44\" class=\"data row0 col44\" >0.000000</td>\n",
       "                        <td id=\"T_514d4a34_a6ef_11eb_bfad_4074e049f0d4row0_col45\" class=\"data row0 col45\" >0.000000</td>\n",
       "                        <td id=\"T_514d4a34_a6ef_11eb_bfad_4074e049f0d4row0_col46\" class=\"data row0 col46\" >0.005882</td>\n",
       "                        <td id=\"T_514d4a34_a6ef_11eb_bfad_4074e049f0d4row0_col47\" class=\"data row0 col47\" >0.000000</td>\n",
       "                        <td id=\"T_514d4a34_a6ef_11eb_bfad_4074e049f0d4row0_col48\" class=\"data row0 col48\" >0.005882</td>\n",
       "                        <td id=\"T_514d4a34_a6ef_11eb_bfad_4074e049f0d4row0_col49\" class=\"data row0 col49\" >0.011765</td>\n",
       "                        <td id=\"T_514d4a34_a6ef_11eb_bfad_4074e049f0d4row0_col50\" class=\"data row0 col50\" >0.000000</td>\n",
       "                        <td id=\"T_514d4a34_a6ef_11eb_bfad_4074e049f0d4row0_col51\" class=\"data row0 col51\" >0.029412</td>\n",
       "                        <td id=\"T_514d4a34_a6ef_11eb_bfad_4074e049f0d4row0_col52\" class=\"data row0 col52\" >0.023529</td>\n",
       "                        <td id=\"T_514d4a34_a6ef_11eb_bfad_4074e049f0d4row0_col53\" class=\"data row0 col53\" >0.000000</td>\n",
       "                        <td id=\"T_514d4a34_a6ef_11eb_bfad_4074e049f0d4row0_col54\" class=\"data row0 col54\" >0.011765</td>\n",
       "                        <td id=\"T_514d4a34_a6ef_11eb_bfad_4074e049f0d4row0_col55\" class=\"data row0 col55\" >0.023529</td>\n",
       "                        <td id=\"T_514d4a34_a6ef_11eb_bfad_4074e049f0d4row0_col56\" class=\"data row0 col56\" >0.000000</td>\n",
       "                        <td id=\"T_514d4a34_a6ef_11eb_bfad_4074e049f0d4row0_col57\" class=\"data row0 col57\" >0.005882</td>\n",
       "                        <td id=\"T_514d4a34_a6ef_11eb_bfad_4074e049f0d4row0_col58\" class=\"data row0 col58\" >0.000000</td>\n",
       "                        <td id=\"T_514d4a34_a6ef_11eb_bfad_4074e049f0d4row0_col59\" class=\"data row0 col59\" >0.005882</td>\n",
       "            </tr>\n",
       "            <tr>\n",
       "                        <th id=\"T_514d4a34_a6ef_11eb_bfad_4074e049f0d4level0_row1\" class=\"row_heading level0 row1\" >N</th>\n",
       "                        <td id=\"T_514d4a34_a6ef_11eb_bfad_4074e049f0d4row1_col0\" class=\"data row1 col0\" >0.252941</td>\n",
       "                        <td id=\"T_514d4a34_a6ef_11eb_bfad_4074e049f0d4row1_col1\" class=\"data row1 col1\" >0.076471</td>\n",
       "                        <td id=\"T_514d4a34_a6ef_11eb_bfad_4074e049f0d4row1_col2\" class=\"data row1 col2\" >1.064706</td>\n",
       "                        <td id=\"T_514d4a34_a6ef_11eb_bfad_4074e049f0d4row1_col3\" class=\"data row1 col3\" >1.729412</td>\n",
       "                        <td id=\"T_514d4a34_a6ef_11eb_bfad_4074e049f0d4row1_col4\" class=\"data row1 col4\" >0.005882</td>\n",
       "                        <td id=\"T_514d4a34_a6ef_11eb_bfad_4074e049f0d4row1_col5\" class=\"data row1 col5\" >0.000000</td>\n",
       "                        <td id=\"T_514d4a34_a6ef_11eb_bfad_4074e049f0d4row1_col6\" class=\"data row1 col6\" >0.152941</td>\n",
       "                        <td id=\"T_514d4a34_a6ef_11eb_bfad_4074e049f0d4row1_col7\" class=\"data row1 col7\" >0.023529</td>\n",
       "                        <td id=\"T_514d4a34_a6ef_11eb_bfad_4074e049f0d4row1_col8\" class=\"data row1 col8\" >0.000000</td>\n",
       "                        <td id=\"T_514d4a34_a6ef_11eb_bfad_4074e049f0d4row1_col9\" class=\"data row1 col9\" >0.164706</td>\n",
       "                        <td id=\"T_514d4a34_a6ef_11eb_bfad_4074e049f0d4row1_col10\" class=\"data row1 col10\" >0.070588</td>\n",
       "                        <td id=\"T_514d4a34_a6ef_11eb_bfad_4074e049f0d4row1_col11\" class=\"data row1 col11\" >0.000000</td>\n",
       "                        <td id=\"T_514d4a34_a6ef_11eb_bfad_4074e049f0d4row1_col12\" class=\"data row1 col12\" >0.194118</td>\n",
       "                        <td id=\"T_514d4a34_a6ef_11eb_bfad_4074e049f0d4row1_col13\" class=\"data row1 col13\" >0.076471</td>\n",
       "                        <td id=\"T_514d4a34_a6ef_11eb_bfad_4074e049f0d4row1_col14\" class=\"data row1 col14\" >0.005882</td>\n",
       "                        <td id=\"T_514d4a34_a6ef_11eb_bfad_4074e049f0d4row1_col15\" class=\"data row1 col15\" >0.170588</td>\n",
       "                        <td id=\"T_514d4a34_a6ef_11eb_bfad_4074e049f0d4row1_col16\" class=\"data row1 col16\" >0.047059</td>\n",
       "                        <td id=\"T_514d4a34_a6ef_11eb_bfad_4074e049f0d4row1_col17\" class=\"data row1 col17\" >0.000000</td>\n",
       "                        <td id=\"T_514d4a34_a6ef_11eb_bfad_4074e049f0d4row1_col18\" class=\"data row1 col18\" >0.170588</td>\n",
       "                        <td id=\"T_514d4a34_a6ef_11eb_bfad_4074e049f0d4row1_col19\" class=\"data row1 col19\" >0.029412</td>\n",
       "                        <td id=\"T_514d4a34_a6ef_11eb_bfad_4074e049f0d4row1_col20\" class=\"data row1 col20\" >0.000000</td>\n",
       "                        <td id=\"T_514d4a34_a6ef_11eb_bfad_4074e049f0d4row1_col21\" class=\"data row1 col21\" >0.258824</td>\n",
       "                        <td id=\"T_514d4a34_a6ef_11eb_bfad_4074e049f0d4row1_col22\" class=\"data row1 col22\" >0.035294</td>\n",
       "                        <td id=\"T_514d4a34_a6ef_11eb_bfad_4074e049f0d4row1_col23\" class=\"data row1 col23\" >0.005882</td>\n",
       "                        <td id=\"T_514d4a34_a6ef_11eb_bfad_4074e049f0d4row1_col24\" class=\"data row1 col24\" >0.188235</td>\n",
       "                        <td id=\"T_514d4a34_a6ef_11eb_bfad_4074e049f0d4row1_col25\" class=\"data row1 col25\" >0.041176</td>\n",
       "                        <td id=\"T_514d4a34_a6ef_11eb_bfad_4074e049f0d4row1_col26\" class=\"data row1 col26\" >0.005882</td>\n",
       "                        <td id=\"T_514d4a34_a6ef_11eb_bfad_4074e049f0d4row1_col27\" class=\"data row1 col27\" >0.223529</td>\n",
       "                        <td id=\"T_514d4a34_a6ef_11eb_bfad_4074e049f0d4row1_col28\" class=\"data row1 col28\" >0.035294</td>\n",
       "                        <td id=\"T_514d4a34_a6ef_11eb_bfad_4074e049f0d4row1_col29\" class=\"data row1 col29\" >0.000000</td>\n",
       "                        <td id=\"T_514d4a34_a6ef_11eb_bfad_4074e049f0d4row1_col30\" class=\"data row1 col30\" >0.229412</td>\n",
       "                        <td id=\"T_514d4a34_a6ef_11eb_bfad_4074e049f0d4row1_col31\" class=\"data row1 col31\" >0.076471</td>\n",
       "                        <td id=\"T_514d4a34_a6ef_11eb_bfad_4074e049f0d4row1_col32\" class=\"data row1 col32\" >0.000000</td>\n",
       "                        <td id=\"T_514d4a34_a6ef_11eb_bfad_4074e049f0d4row1_col33\" class=\"data row1 col33\" >0.211765</td>\n",
       "                        <td id=\"T_514d4a34_a6ef_11eb_bfad_4074e049f0d4row1_col34\" class=\"data row1 col34\" >0.052941</td>\n",
       "                        <td id=\"T_514d4a34_a6ef_11eb_bfad_4074e049f0d4row1_col35\" class=\"data row1 col35\" >0.000000</td>\n",
       "                        <td id=\"T_514d4a34_a6ef_11eb_bfad_4074e049f0d4row1_col36\" class=\"data row1 col36\" >0.258824</td>\n",
       "                        <td id=\"T_514d4a34_a6ef_11eb_bfad_4074e049f0d4row1_col37\" class=\"data row1 col37\" >0.058824</td>\n",
       "                        <td id=\"T_514d4a34_a6ef_11eb_bfad_4074e049f0d4row1_col38\" class=\"data row1 col38\" >0.000000</td>\n",
       "                        <td id=\"T_514d4a34_a6ef_11eb_bfad_4074e049f0d4row1_col39\" class=\"data row1 col39\" >0.182353</td>\n",
       "                        <td id=\"T_514d4a34_a6ef_11eb_bfad_4074e049f0d4row1_col40\" class=\"data row1 col40\" >0.058824</td>\n",
       "                        <td id=\"T_514d4a34_a6ef_11eb_bfad_4074e049f0d4row1_col41\" class=\"data row1 col41\" >0.000000</td>\n",
       "                        <td id=\"T_514d4a34_a6ef_11eb_bfad_4074e049f0d4row1_col42\" class=\"data row1 col42\" >0.235294</td>\n",
       "                        <td id=\"T_514d4a34_a6ef_11eb_bfad_4074e049f0d4row1_col43\" class=\"data row1 col43\" >0.082353</td>\n",
       "                        <td id=\"T_514d4a34_a6ef_11eb_bfad_4074e049f0d4row1_col44\" class=\"data row1 col44\" >0.000000</td>\n",
       "                        <td id=\"T_514d4a34_a6ef_11eb_bfad_4074e049f0d4row1_col45\" class=\"data row1 col45\" >0.205882</td>\n",
       "                        <td id=\"T_514d4a34_a6ef_11eb_bfad_4074e049f0d4row1_col46\" class=\"data row1 col46\" >0.041176</td>\n",
       "                        <td id=\"T_514d4a34_a6ef_11eb_bfad_4074e049f0d4row1_col47\" class=\"data row1 col47\" >0.005882</td>\n",
       "                        <td id=\"T_514d4a34_a6ef_11eb_bfad_4074e049f0d4row1_col48\" class=\"data row1 col48\" >0.194118</td>\n",
       "                        <td id=\"T_514d4a34_a6ef_11eb_bfad_4074e049f0d4row1_col49\" class=\"data row1 col49\" >0.058824</td>\n",
       "                        <td id=\"T_514d4a34_a6ef_11eb_bfad_4074e049f0d4row1_col50\" class=\"data row1 col50\" >0.000000</td>\n",
       "                        <td id=\"T_514d4a34_a6ef_11eb_bfad_4074e049f0d4row1_col51\" class=\"data row1 col51\" >0.188235</td>\n",
       "                        <td id=\"T_514d4a34_a6ef_11eb_bfad_4074e049f0d4row1_col52\" class=\"data row1 col52\" >0.117647</td>\n",
       "                        <td id=\"T_514d4a34_a6ef_11eb_bfad_4074e049f0d4row1_col53\" class=\"data row1 col53\" >0.005882</td>\n",
       "                        <td id=\"T_514d4a34_a6ef_11eb_bfad_4074e049f0d4row1_col54\" class=\"data row1 col54\" >0.241176</td>\n",
       "                        <td id=\"T_514d4a34_a6ef_11eb_bfad_4074e049f0d4row1_col55\" class=\"data row1 col55\" >0.064706</td>\n",
       "                        <td id=\"T_514d4a34_a6ef_11eb_bfad_4074e049f0d4row1_col56\" class=\"data row1 col56\" >0.005882</td>\n",
       "                        <td id=\"T_514d4a34_a6ef_11eb_bfad_4074e049f0d4row1_col57\" class=\"data row1 col57\" >0.223529</td>\n",
       "                        <td id=\"T_514d4a34_a6ef_11eb_bfad_4074e049f0d4row1_col58\" class=\"data row1 col58\" >0.058824</td>\n",
       "                        <td id=\"T_514d4a34_a6ef_11eb_bfad_4074e049f0d4row1_col59\" class=\"data row1 col59\" >0.000000</td>\n",
       "            </tr>\n",
       "            <tr>\n",
       "                        <th id=\"T_514d4a34_a6ef_11eb_bfad_4074e049f0d4level0_row2\" class=\"row_heading level0 row2\" >H</th>\n",
       "                        <td id=\"T_514d4a34_a6ef_11eb_bfad_4074e049f0d4row2_col0\" class=\"data row2 col0\" >0.623529</td>\n",
       "                        <td id=\"T_514d4a34_a6ef_11eb_bfad_4074e049f0d4row2_col1\" class=\"data row2 col1\" >0.170588</td>\n",
       "                        <td id=\"T_514d4a34_a6ef_11eb_bfad_4074e049f0d4row2_col2\" class=\"data row2 col2\" >1.352941</td>\n",
       "                        <td id=\"T_514d4a34_a6ef_11eb_bfad_4074e049f0d4row2_col3\" class=\"data row2 col3\" >2.358824</td>\n",
       "                        <td id=\"T_514d4a34_a6ef_11eb_bfad_4074e049f0d4row2_col4\" class=\"data row2 col4\" >0.041176</td>\n",
       "                        <td id=\"T_514d4a34_a6ef_11eb_bfad_4074e049f0d4row2_col5\" class=\"data row2 col5\" >0.000000</td>\n",
       "                        <td id=\"T_514d4a34_a6ef_11eb_bfad_4074e049f0d4row2_col6\" class=\"data row2 col6\" >0.370588</td>\n",
       "                        <td id=\"T_514d4a34_a6ef_11eb_bfad_4074e049f0d4row2_col7\" class=\"data row2 col7\" >0.064706</td>\n",
       "                        <td id=\"T_514d4a34_a6ef_11eb_bfad_4074e049f0d4row2_col8\" class=\"data row2 col8\" >0.000000</td>\n",
       "                        <td id=\"T_514d4a34_a6ef_11eb_bfad_4074e049f0d4row2_col9\" class=\"data row2 col9\" >0.264706</td>\n",
       "                        <td id=\"T_514d4a34_a6ef_11eb_bfad_4074e049f0d4row2_col10\" class=\"data row2 col10\" >0.094118</td>\n",
       "                        <td id=\"T_514d4a34_a6ef_11eb_bfad_4074e049f0d4row2_col11\" class=\"data row2 col11\" >0.000000</td>\n",
       "                        <td id=\"T_514d4a34_a6ef_11eb_bfad_4074e049f0d4row2_col12\" class=\"data row2 col12\" >0.329412</td>\n",
       "                        <td id=\"T_514d4a34_a6ef_11eb_bfad_4074e049f0d4row2_col13\" class=\"data row2 col13\" >0.070588</td>\n",
       "                        <td id=\"T_514d4a34_a6ef_11eb_bfad_4074e049f0d4row2_col14\" class=\"data row2 col14\" >0.011765</td>\n",
       "                        <td id=\"T_514d4a34_a6ef_11eb_bfad_4074e049f0d4row2_col15\" class=\"data row2 col15\" >0.288235</td>\n",
       "                        <td id=\"T_514d4a34_a6ef_11eb_bfad_4074e049f0d4row2_col16\" class=\"data row2 col16\" >0.058824</td>\n",
       "                        <td id=\"T_514d4a34_a6ef_11eb_bfad_4074e049f0d4row2_col17\" class=\"data row2 col17\" >0.000000</td>\n",
       "                        <td id=\"T_514d4a34_a6ef_11eb_bfad_4074e049f0d4row2_col18\" class=\"data row2 col18\" >0.347059</td>\n",
       "                        <td id=\"T_514d4a34_a6ef_11eb_bfad_4074e049f0d4row2_col19\" class=\"data row2 col19\" >0.094118</td>\n",
       "                        <td id=\"T_514d4a34_a6ef_11eb_bfad_4074e049f0d4row2_col20\" class=\"data row2 col20\" >0.000000</td>\n",
       "                        <td id=\"T_514d4a34_a6ef_11eb_bfad_4074e049f0d4row2_col21\" class=\"data row2 col21\" >0.341176</td>\n",
       "                        <td id=\"T_514d4a34_a6ef_11eb_bfad_4074e049f0d4row2_col22\" class=\"data row2 col22\" >0.041176</td>\n",
       "                        <td id=\"T_514d4a34_a6ef_11eb_bfad_4074e049f0d4row2_col23\" class=\"data row2 col23\" >0.000000</td>\n",
       "                        <td id=\"T_514d4a34_a6ef_11eb_bfad_4074e049f0d4row2_col24\" class=\"data row2 col24\" >0.235294</td>\n",
       "                        <td id=\"T_514d4a34_a6ef_11eb_bfad_4074e049f0d4row2_col25\" class=\"data row2 col25\" >0.058824</td>\n",
       "                        <td id=\"T_514d4a34_a6ef_11eb_bfad_4074e049f0d4row2_col26\" class=\"data row2 col26\" >0.005882</td>\n",
       "                        <td id=\"T_514d4a34_a6ef_11eb_bfad_4074e049f0d4row2_col27\" class=\"data row2 col27\" >0.229412</td>\n",
       "                        <td id=\"T_514d4a34_a6ef_11eb_bfad_4074e049f0d4row2_col28\" class=\"data row2 col28\" >0.064706</td>\n",
       "                        <td id=\"T_514d4a34_a6ef_11eb_bfad_4074e049f0d4row2_col29\" class=\"data row2 col29\" >0.000000</td>\n",
       "                        <td id=\"T_514d4a34_a6ef_11eb_bfad_4074e049f0d4row2_col30\" class=\"data row2 col30\" >0.200000</td>\n",
       "                        <td id=\"T_514d4a34_a6ef_11eb_bfad_4074e049f0d4row2_col31\" class=\"data row2 col31\" >0.041176</td>\n",
       "                        <td id=\"T_514d4a34_a6ef_11eb_bfad_4074e049f0d4row2_col32\" class=\"data row2 col32\" >0.000000</td>\n",
       "                        <td id=\"T_514d4a34_a6ef_11eb_bfad_4074e049f0d4row2_col33\" class=\"data row2 col33\" >0.182353</td>\n",
       "                        <td id=\"T_514d4a34_a6ef_11eb_bfad_4074e049f0d4row2_col34\" class=\"data row2 col34\" >0.058824</td>\n",
       "                        <td id=\"T_514d4a34_a6ef_11eb_bfad_4074e049f0d4row2_col35\" class=\"data row2 col35\" >0.000000</td>\n",
       "                        <td id=\"T_514d4a34_a6ef_11eb_bfad_4074e049f0d4row2_col36\" class=\"data row2 col36\" >0.311765</td>\n",
       "                        <td id=\"T_514d4a34_a6ef_11eb_bfad_4074e049f0d4row2_col37\" class=\"data row2 col37\" >0.052941</td>\n",
       "                        <td id=\"T_514d4a34_a6ef_11eb_bfad_4074e049f0d4row2_col38\" class=\"data row2 col38\" >0.000000</td>\n",
       "                        <td id=\"T_514d4a34_a6ef_11eb_bfad_4074e049f0d4row2_col39\" class=\"data row2 col39\" >0.176471</td>\n",
       "                        <td id=\"T_514d4a34_a6ef_11eb_bfad_4074e049f0d4row2_col40\" class=\"data row2 col40\" >0.041176</td>\n",
       "                        <td id=\"T_514d4a34_a6ef_11eb_bfad_4074e049f0d4row2_col41\" class=\"data row2 col41\" >0.000000</td>\n",
       "                        <td id=\"T_514d4a34_a6ef_11eb_bfad_4074e049f0d4row2_col42\" class=\"data row2 col42\" >0.200000</td>\n",
       "                        <td id=\"T_514d4a34_a6ef_11eb_bfad_4074e049f0d4row2_col43\" class=\"data row2 col43\" >0.035294</td>\n",
       "                        <td id=\"T_514d4a34_a6ef_11eb_bfad_4074e049f0d4row2_col44\" class=\"data row2 col44\" >0.000000</td>\n",
       "                        <td id=\"T_514d4a34_a6ef_11eb_bfad_4074e049f0d4row2_col45\" class=\"data row2 col45\" >0.176471</td>\n",
       "                        <td id=\"T_514d4a34_a6ef_11eb_bfad_4074e049f0d4row2_col46\" class=\"data row2 col46\" >0.058824</td>\n",
       "                        <td id=\"T_514d4a34_a6ef_11eb_bfad_4074e049f0d4row2_col47\" class=\"data row2 col47\" >0.005882</td>\n",
       "                        <td id=\"T_514d4a34_a6ef_11eb_bfad_4074e049f0d4row2_col48\" class=\"data row2 col48\" >0.223529</td>\n",
       "                        <td id=\"T_514d4a34_a6ef_11eb_bfad_4074e049f0d4row2_col49\" class=\"data row2 col49\" >0.041176</td>\n",
       "                        <td id=\"T_514d4a34_a6ef_11eb_bfad_4074e049f0d4row2_col50\" class=\"data row2 col50\" >0.000000</td>\n",
       "                        <td id=\"T_514d4a34_a6ef_11eb_bfad_4074e049f0d4row2_col51\" class=\"data row2 col51\" >0.176471</td>\n",
       "                        <td id=\"T_514d4a34_a6ef_11eb_bfad_4074e049f0d4row2_col52\" class=\"data row2 col52\" >0.058824</td>\n",
       "                        <td id=\"T_514d4a34_a6ef_11eb_bfad_4074e049f0d4row2_col53\" class=\"data row2 col53\" >0.005882</td>\n",
       "                        <td id=\"T_514d4a34_a6ef_11eb_bfad_4074e049f0d4row2_col54\" class=\"data row2 col54\" >0.247059</td>\n",
       "                        <td id=\"T_514d4a34_a6ef_11eb_bfad_4074e049f0d4row2_col55\" class=\"data row2 col55\" >0.047059</td>\n",
       "                        <td id=\"T_514d4a34_a6ef_11eb_bfad_4074e049f0d4row2_col56\" class=\"data row2 col56\" >0.000000</td>\n",
       "                        <td id=\"T_514d4a34_a6ef_11eb_bfad_4074e049f0d4row2_col57\" class=\"data row2 col57\" >0.182353</td>\n",
       "                        <td id=\"T_514d4a34_a6ef_11eb_bfad_4074e049f0d4row2_col58\" class=\"data row2 col58\" >0.029412</td>\n",
       "                        <td id=\"T_514d4a34_a6ef_11eb_bfad_4074e049f0d4row2_col59\" class=\"data row2 col59\" >0.000000</td>\n",
       "            </tr>\n",
       "            <tr>\n",
       "                        <th id=\"T_514d4a34_a6ef_11eb_bfad_4074e049f0d4level0_row3\" class=\"row_heading level0 row3\" >Ar</th>\n",
       "                        <td id=\"T_514d4a34_a6ef_11eb_bfad_4074e049f0d4row3_col0\" class=\"data row3 col0\" >0.829412</td>\n",
       "                        <td id=\"T_514d4a34_a6ef_11eb_bfad_4074e049f0d4row3_col1\" class=\"data row3 col1\" >0.082353</td>\n",
       "                        <td id=\"T_514d4a34_a6ef_11eb_bfad_4074e049f0d4row3_col2\" class=\"data row3 col2\" >0.017647</td>\n",
       "                        <td id=\"T_514d4a34_a6ef_11eb_bfad_4074e049f0d4row3_col3\" class=\"data row3 col3\" >0.964706</td>\n",
       "                        <td id=\"T_514d4a34_a6ef_11eb_bfad_4074e049f0d4row3_col4\" class=\"data row3 col4\" >0.000000</td>\n",
       "                        <td id=\"T_514d4a34_a6ef_11eb_bfad_4074e049f0d4row3_col5\" class=\"data row3 col5\" >0.011765</td>\n",
       "                        <td id=\"T_514d4a34_a6ef_11eb_bfad_4074e049f0d4row3_col6\" class=\"data row3 col6\" >0.752941</td>\n",
       "                        <td id=\"T_514d4a34_a6ef_11eb_bfad_4074e049f0d4row3_col7\" class=\"data row3 col7\" >0.223529</td>\n",
       "                        <td id=\"T_514d4a34_a6ef_11eb_bfad_4074e049f0d4row3_col8\" class=\"data row3 col8\" >0.005882</td>\n",
       "                        <td id=\"T_514d4a34_a6ef_11eb_bfad_4074e049f0d4row3_col9\" class=\"data row3 col9\" >0.617647</td>\n",
       "                        <td id=\"T_514d4a34_a6ef_11eb_bfad_4074e049f0d4row3_col10\" class=\"data row3 col10\" >0.300000</td>\n",
       "                        <td id=\"T_514d4a34_a6ef_11eb_bfad_4074e049f0d4row3_col11\" class=\"data row3 col11\" >0.000000</td>\n",
       "                        <td id=\"T_514d4a34_a6ef_11eb_bfad_4074e049f0d4row3_col12\" class=\"data row3 col12\" >0.635294</td>\n",
       "                        <td id=\"T_514d4a34_a6ef_11eb_bfad_4074e049f0d4row3_col13\" class=\"data row3 col13\" >0.282353</td>\n",
       "                        <td id=\"T_514d4a34_a6ef_11eb_bfad_4074e049f0d4row3_col14\" class=\"data row3 col14\" >0.000000</td>\n",
       "                        <td id=\"T_514d4a34_a6ef_11eb_bfad_4074e049f0d4row3_col15\" class=\"data row3 col15\" >0.647059</td>\n",
       "                        <td id=\"T_514d4a34_a6ef_11eb_bfad_4074e049f0d4row3_col16\" class=\"data row3 col16\" >0.300000</td>\n",
       "                        <td id=\"T_514d4a34_a6ef_11eb_bfad_4074e049f0d4row3_col17\" class=\"data row3 col17\" >0.023529</td>\n",
       "                        <td id=\"T_514d4a34_a6ef_11eb_bfad_4074e049f0d4row3_col18\" class=\"data row3 col18\" >0.505882</td>\n",
       "                        <td id=\"T_514d4a34_a6ef_11eb_bfad_4074e049f0d4row3_col19\" class=\"data row3 col19\" >0.352941</td>\n",
       "                        <td id=\"T_514d4a34_a6ef_11eb_bfad_4074e049f0d4row3_col20\" class=\"data row3 col20\" >0.023529</td>\n",
       "                        <td id=\"T_514d4a34_a6ef_11eb_bfad_4074e049f0d4row3_col21\" class=\"data row3 col21\" >0.594118</td>\n",
       "                        <td id=\"T_514d4a34_a6ef_11eb_bfad_4074e049f0d4row3_col22\" class=\"data row3 col22\" >0.341176</td>\n",
       "                        <td id=\"T_514d4a34_a6ef_11eb_bfad_4074e049f0d4row3_col23\" class=\"data row3 col23\" >0.011765</td>\n",
       "                        <td id=\"T_514d4a34_a6ef_11eb_bfad_4074e049f0d4row3_col24\" class=\"data row3 col24\" >0.588235</td>\n",
       "                        <td id=\"T_514d4a34_a6ef_11eb_bfad_4074e049f0d4row3_col25\" class=\"data row3 col25\" >0.364706</td>\n",
       "                        <td id=\"T_514d4a34_a6ef_11eb_bfad_4074e049f0d4row3_col26\" class=\"data row3 col26\" >0.035294</td>\n",
       "                        <td id=\"T_514d4a34_a6ef_11eb_bfad_4074e049f0d4row3_col27\" class=\"data row3 col27\" >0.605882</td>\n",
       "                        <td id=\"T_514d4a34_a6ef_11eb_bfad_4074e049f0d4row3_col28\" class=\"data row3 col28\" >0.388235</td>\n",
       "                        <td id=\"T_514d4a34_a6ef_11eb_bfad_4074e049f0d4row3_col29\" class=\"data row3 col29\" >0.011765</td>\n",
       "                        <td id=\"T_514d4a34_a6ef_11eb_bfad_4074e049f0d4row3_col30\" class=\"data row3 col30\" >0.541176</td>\n",
       "                        <td id=\"T_514d4a34_a6ef_11eb_bfad_4074e049f0d4row3_col31\" class=\"data row3 col31\" >0.411765</td>\n",
       "                        <td id=\"T_514d4a34_a6ef_11eb_bfad_4074e049f0d4row3_col32\" class=\"data row3 col32\" >0.005882</td>\n",
       "                        <td id=\"T_514d4a34_a6ef_11eb_bfad_4074e049f0d4row3_col33\" class=\"data row3 col33\" >0.617647</td>\n",
       "                        <td id=\"T_514d4a34_a6ef_11eb_bfad_4074e049f0d4row3_col34\" class=\"data row3 col34\" >0.300000</td>\n",
       "                        <td id=\"T_514d4a34_a6ef_11eb_bfad_4074e049f0d4row3_col35\" class=\"data row3 col35\" >0.011765</td>\n",
       "                        <td id=\"T_514d4a34_a6ef_11eb_bfad_4074e049f0d4row3_col36\" class=\"data row3 col36\" >0.570588</td>\n",
       "                        <td id=\"T_514d4a34_a6ef_11eb_bfad_4074e049f0d4row3_col37\" class=\"data row3 col37\" >0.394118</td>\n",
       "                        <td id=\"T_514d4a34_a6ef_11eb_bfad_4074e049f0d4row3_col38\" class=\"data row3 col38\" >0.005882</td>\n",
       "                        <td id=\"T_514d4a34_a6ef_11eb_bfad_4074e049f0d4row3_col39\" class=\"data row3 col39\" >0.623529</td>\n",
       "                        <td id=\"T_514d4a34_a6ef_11eb_bfad_4074e049f0d4row3_col40\" class=\"data row3 col40\" >0.323529</td>\n",
       "                        <td id=\"T_514d4a34_a6ef_11eb_bfad_4074e049f0d4row3_col41\" class=\"data row3 col41\" >0.023529</td>\n",
       "                        <td id=\"T_514d4a34_a6ef_11eb_bfad_4074e049f0d4row3_col42\" class=\"data row3 col42\" >0.529412</td>\n",
       "                        <td id=\"T_514d4a34_a6ef_11eb_bfad_4074e049f0d4row3_col43\" class=\"data row3 col43\" >0.400000</td>\n",
       "                        <td id=\"T_514d4a34_a6ef_11eb_bfad_4074e049f0d4row3_col44\" class=\"data row3 col44\" >0.023529</td>\n",
       "                        <td id=\"T_514d4a34_a6ef_11eb_bfad_4074e049f0d4row3_col45\" class=\"data row3 col45\" >0.576471</td>\n",
       "                        <td id=\"T_514d4a34_a6ef_11eb_bfad_4074e049f0d4row3_col46\" class=\"data row3 col46\" >0.323529</td>\n",
       "                        <td id=\"T_514d4a34_a6ef_11eb_bfad_4074e049f0d4row3_col47\" class=\"data row3 col47\" >0.041176</td>\n",
       "                        <td id=\"T_514d4a34_a6ef_11eb_bfad_4074e049f0d4row3_col48\" class=\"data row3 col48\" >0.605882</td>\n",
       "                        <td id=\"T_514d4a34_a6ef_11eb_bfad_4074e049f0d4row3_col49\" class=\"data row3 col49\" >0.388235</td>\n",
       "                        <td id=\"T_514d4a34_a6ef_11eb_bfad_4074e049f0d4row3_col50\" class=\"data row3 col50\" >0.029412</td>\n",
       "                        <td id=\"T_514d4a34_a6ef_11eb_bfad_4074e049f0d4row3_col51\" class=\"data row3 col51\" >0.452941</td>\n",
       "                        <td id=\"T_514d4a34_a6ef_11eb_bfad_4074e049f0d4row3_col52\" class=\"data row3 col52\" >0.423529</td>\n",
       "                        <td id=\"T_514d4a34_a6ef_11eb_bfad_4074e049f0d4row3_col53\" class=\"data row3 col53\" >0.058824</td>\n",
       "                        <td id=\"T_514d4a34_a6ef_11eb_bfad_4074e049f0d4row3_col54\" class=\"data row3 col54\" >0.470588</td>\n",
       "                        <td id=\"T_514d4a34_a6ef_11eb_bfad_4074e049f0d4row3_col55\" class=\"data row3 col55\" >0.452941</td>\n",
       "                        <td id=\"T_514d4a34_a6ef_11eb_bfad_4074e049f0d4row3_col56\" class=\"data row3 col56\" >0.017647</td>\n",
       "                        <td id=\"T_514d4a34_a6ef_11eb_bfad_4074e049f0d4row3_col57\" class=\"data row3 col57\" >0.523529</td>\n",
       "                        <td id=\"T_514d4a34_a6ef_11eb_bfad_4074e049f0d4row3_col58\" class=\"data row3 col58\" >0.511765</td>\n",
       "                        <td id=\"T_514d4a34_a6ef_11eb_bfad_4074e049f0d4row3_col59\" class=\"data row3 col59\" >0.005882</td>\n",
       "            </tr>\n",
       "            <tr>\n",
       "                        <th id=\"T_514d4a34_a6ef_11eb_bfad_4074e049f0d4level0_row4\" class=\"row_heading level0 row4\" >F</th>\n",
       "                        <td id=\"T_514d4a34_a6ef_11eb_bfad_4074e049f0d4row4_col0\" class=\"data row4 col0\" >0.000000</td>\n",
       "                        <td id=\"T_514d4a34_a6ef_11eb_bfad_4074e049f0d4row4_col1\" class=\"data row4 col1\" >0.000000</td>\n",
       "                        <td id=\"T_514d4a34_a6ef_11eb_bfad_4074e049f0d4row4_col2\" class=\"data row4 col2\" >0.000000</td>\n",
       "                        <td id=\"T_514d4a34_a6ef_11eb_bfad_4074e049f0d4row4_col3\" class=\"data row4 col3\" >0.000000</td>\n",
       "                        <td id=\"T_514d4a34_a6ef_11eb_bfad_4074e049f0d4row4_col4\" class=\"data row4 col4\" >0.000000</td>\n",
       "                        <td id=\"T_514d4a34_a6ef_11eb_bfad_4074e049f0d4row4_col5\" class=\"data row4 col5\" >0.000000</td>\n",
       "                        <td id=\"T_514d4a34_a6ef_11eb_bfad_4074e049f0d4row4_col6\" class=\"data row4 col6\" >0.000000</td>\n",
       "                        <td id=\"T_514d4a34_a6ef_11eb_bfad_4074e049f0d4row4_col7\" class=\"data row4 col7\" >0.000000</td>\n",
       "                        <td id=\"T_514d4a34_a6ef_11eb_bfad_4074e049f0d4row4_col8\" class=\"data row4 col8\" >0.000000</td>\n",
       "                        <td id=\"T_514d4a34_a6ef_11eb_bfad_4074e049f0d4row4_col9\" class=\"data row4 col9\" >0.000000</td>\n",
       "                        <td id=\"T_514d4a34_a6ef_11eb_bfad_4074e049f0d4row4_col10\" class=\"data row4 col10\" >0.000000</td>\n",
       "                        <td id=\"T_514d4a34_a6ef_11eb_bfad_4074e049f0d4row4_col11\" class=\"data row4 col11\" >0.000000</td>\n",
       "                        <td id=\"T_514d4a34_a6ef_11eb_bfad_4074e049f0d4row4_col12\" class=\"data row4 col12\" >0.000000</td>\n",
       "                        <td id=\"T_514d4a34_a6ef_11eb_bfad_4074e049f0d4row4_col13\" class=\"data row4 col13\" >0.000000</td>\n",
       "                        <td id=\"T_514d4a34_a6ef_11eb_bfad_4074e049f0d4row4_col14\" class=\"data row4 col14\" >0.000000</td>\n",
       "                        <td id=\"T_514d4a34_a6ef_11eb_bfad_4074e049f0d4row4_col15\" class=\"data row4 col15\" >0.000000</td>\n",
       "                        <td id=\"T_514d4a34_a6ef_11eb_bfad_4074e049f0d4row4_col16\" class=\"data row4 col16\" >0.000000</td>\n",
       "                        <td id=\"T_514d4a34_a6ef_11eb_bfad_4074e049f0d4row4_col17\" class=\"data row4 col17\" >0.000000</td>\n",
       "                        <td id=\"T_514d4a34_a6ef_11eb_bfad_4074e049f0d4row4_col18\" class=\"data row4 col18\" >0.000000</td>\n",
       "                        <td id=\"T_514d4a34_a6ef_11eb_bfad_4074e049f0d4row4_col19\" class=\"data row4 col19\" >0.000000</td>\n",
       "                        <td id=\"T_514d4a34_a6ef_11eb_bfad_4074e049f0d4row4_col20\" class=\"data row4 col20\" >0.000000</td>\n",
       "                        <td id=\"T_514d4a34_a6ef_11eb_bfad_4074e049f0d4row4_col21\" class=\"data row4 col21\" >0.000000</td>\n",
       "                        <td id=\"T_514d4a34_a6ef_11eb_bfad_4074e049f0d4row4_col22\" class=\"data row4 col22\" >0.000000</td>\n",
       "                        <td id=\"T_514d4a34_a6ef_11eb_bfad_4074e049f0d4row4_col23\" class=\"data row4 col23\" >0.000000</td>\n",
       "                        <td id=\"T_514d4a34_a6ef_11eb_bfad_4074e049f0d4row4_col24\" class=\"data row4 col24\" >0.000000</td>\n",
       "                        <td id=\"T_514d4a34_a6ef_11eb_bfad_4074e049f0d4row4_col25\" class=\"data row4 col25\" >0.000000</td>\n",
       "                        <td id=\"T_514d4a34_a6ef_11eb_bfad_4074e049f0d4row4_col26\" class=\"data row4 col26\" >0.000000</td>\n",
       "                        <td id=\"T_514d4a34_a6ef_11eb_bfad_4074e049f0d4row4_col27\" class=\"data row4 col27\" >0.000000</td>\n",
       "                        <td id=\"T_514d4a34_a6ef_11eb_bfad_4074e049f0d4row4_col28\" class=\"data row4 col28\" >0.000000</td>\n",
       "                        <td id=\"T_514d4a34_a6ef_11eb_bfad_4074e049f0d4row4_col29\" class=\"data row4 col29\" >0.000000</td>\n",
       "                        <td id=\"T_514d4a34_a6ef_11eb_bfad_4074e049f0d4row4_col30\" class=\"data row4 col30\" >0.000000</td>\n",
       "                        <td id=\"T_514d4a34_a6ef_11eb_bfad_4074e049f0d4row4_col31\" class=\"data row4 col31\" >0.000000</td>\n",
       "                        <td id=\"T_514d4a34_a6ef_11eb_bfad_4074e049f0d4row4_col32\" class=\"data row4 col32\" >0.000000</td>\n",
       "                        <td id=\"T_514d4a34_a6ef_11eb_bfad_4074e049f0d4row4_col33\" class=\"data row4 col33\" >0.000000</td>\n",
       "                        <td id=\"T_514d4a34_a6ef_11eb_bfad_4074e049f0d4row4_col34\" class=\"data row4 col34\" >0.000000</td>\n",
       "                        <td id=\"T_514d4a34_a6ef_11eb_bfad_4074e049f0d4row4_col35\" class=\"data row4 col35\" >0.000000</td>\n",
       "                        <td id=\"T_514d4a34_a6ef_11eb_bfad_4074e049f0d4row4_col36\" class=\"data row4 col36\" >0.000000</td>\n",
       "                        <td id=\"T_514d4a34_a6ef_11eb_bfad_4074e049f0d4row4_col37\" class=\"data row4 col37\" >0.000000</td>\n",
       "                        <td id=\"T_514d4a34_a6ef_11eb_bfad_4074e049f0d4row4_col38\" class=\"data row4 col38\" >0.000000</td>\n",
       "                        <td id=\"T_514d4a34_a6ef_11eb_bfad_4074e049f0d4row4_col39\" class=\"data row4 col39\" >0.000000</td>\n",
       "                        <td id=\"T_514d4a34_a6ef_11eb_bfad_4074e049f0d4row4_col40\" class=\"data row4 col40\" >0.000000</td>\n",
       "                        <td id=\"T_514d4a34_a6ef_11eb_bfad_4074e049f0d4row4_col41\" class=\"data row4 col41\" >0.000000</td>\n",
       "                        <td id=\"T_514d4a34_a6ef_11eb_bfad_4074e049f0d4row4_col42\" class=\"data row4 col42\" >0.000000</td>\n",
       "                        <td id=\"T_514d4a34_a6ef_11eb_bfad_4074e049f0d4row4_col43\" class=\"data row4 col43\" >0.000000</td>\n",
       "                        <td id=\"T_514d4a34_a6ef_11eb_bfad_4074e049f0d4row4_col44\" class=\"data row4 col44\" >0.000000</td>\n",
       "                        <td id=\"T_514d4a34_a6ef_11eb_bfad_4074e049f0d4row4_col45\" class=\"data row4 col45\" >0.000000</td>\n",
       "                        <td id=\"T_514d4a34_a6ef_11eb_bfad_4074e049f0d4row4_col46\" class=\"data row4 col46\" >0.000000</td>\n",
       "                        <td id=\"T_514d4a34_a6ef_11eb_bfad_4074e049f0d4row4_col47\" class=\"data row4 col47\" >0.000000</td>\n",
       "                        <td id=\"T_514d4a34_a6ef_11eb_bfad_4074e049f0d4row4_col48\" class=\"data row4 col48\" >0.000000</td>\n",
       "                        <td id=\"T_514d4a34_a6ef_11eb_bfad_4074e049f0d4row4_col49\" class=\"data row4 col49\" >0.000000</td>\n",
       "                        <td id=\"T_514d4a34_a6ef_11eb_bfad_4074e049f0d4row4_col50\" class=\"data row4 col50\" >0.000000</td>\n",
       "                        <td id=\"T_514d4a34_a6ef_11eb_bfad_4074e049f0d4row4_col51\" class=\"data row4 col51\" >0.000000</td>\n",
       "                        <td id=\"T_514d4a34_a6ef_11eb_bfad_4074e049f0d4row4_col52\" class=\"data row4 col52\" >0.000000</td>\n",
       "                        <td id=\"T_514d4a34_a6ef_11eb_bfad_4074e049f0d4row4_col53\" class=\"data row4 col53\" >0.000000</td>\n",
       "                        <td id=\"T_514d4a34_a6ef_11eb_bfad_4074e049f0d4row4_col54\" class=\"data row4 col54\" >0.000000</td>\n",
       "                        <td id=\"T_514d4a34_a6ef_11eb_bfad_4074e049f0d4row4_col55\" class=\"data row4 col55\" >0.000000</td>\n",
       "                        <td id=\"T_514d4a34_a6ef_11eb_bfad_4074e049f0d4row4_col56\" class=\"data row4 col56\" >0.000000</td>\n",
       "                        <td id=\"T_514d4a34_a6ef_11eb_bfad_4074e049f0d4row4_col57\" class=\"data row4 col57\" >0.000000</td>\n",
       "                        <td id=\"T_514d4a34_a6ef_11eb_bfad_4074e049f0d4row4_col58\" class=\"data row4 col58\" >0.000000</td>\n",
       "                        <td id=\"T_514d4a34_a6ef_11eb_bfad_4074e049f0d4row4_col59\" class=\"data row4 col59\" >0.000000</td>\n",
       "            </tr>\n",
       "            <tr>\n",
       "                        <th id=\"T_514d4a34_a6ef_11eb_bfad_4074e049f0d4level0_row5\" class=\"row_heading level0 row5\" >C</th>\n",
       "                        <td id=\"T_514d4a34_a6ef_11eb_bfad_4074e049f0d4row5_col0\" class=\"data row5 col0\" >0.000000</td>\n",
       "                        <td id=\"T_514d4a34_a6ef_11eb_bfad_4074e049f0d4row5_col1\" class=\"data row5 col1\" >0.000000</td>\n",
       "                        <td id=\"T_514d4a34_a6ef_11eb_bfad_4074e049f0d4row5_col2\" class=\"data row5 col2\" >0.000000</td>\n",
       "                        <td id=\"T_514d4a34_a6ef_11eb_bfad_4074e049f0d4row5_col3\" class=\"data row5 col3\" >0.000000</td>\n",
       "                        <td id=\"T_514d4a34_a6ef_11eb_bfad_4074e049f0d4row5_col4\" class=\"data row5 col4\" >0.000000</td>\n",
       "                        <td id=\"T_514d4a34_a6ef_11eb_bfad_4074e049f0d4row5_col5\" class=\"data row5 col5\" >0.000000</td>\n",
       "                        <td id=\"T_514d4a34_a6ef_11eb_bfad_4074e049f0d4row5_col6\" class=\"data row5 col6\" >0.000000</td>\n",
       "                        <td id=\"T_514d4a34_a6ef_11eb_bfad_4074e049f0d4row5_col7\" class=\"data row5 col7\" >0.000000</td>\n",
       "                        <td id=\"T_514d4a34_a6ef_11eb_bfad_4074e049f0d4row5_col8\" class=\"data row5 col8\" >0.000000</td>\n",
       "                        <td id=\"T_514d4a34_a6ef_11eb_bfad_4074e049f0d4row5_col9\" class=\"data row5 col9\" >0.000000</td>\n",
       "                        <td id=\"T_514d4a34_a6ef_11eb_bfad_4074e049f0d4row5_col10\" class=\"data row5 col10\" >0.000000</td>\n",
       "                        <td id=\"T_514d4a34_a6ef_11eb_bfad_4074e049f0d4row5_col11\" class=\"data row5 col11\" >0.000000</td>\n",
       "                        <td id=\"T_514d4a34_a6ef_11eb_bfad_4074e049f0d4row5_col12\" class=\"data row5 col12\" >0.000000</td>\n",
       "                        <td id=\"T_514d4a34_a6ef_11eb_bfad_4074e049f0d4row5_col13\" class=\"data row5 col13\" >0.000000</td>\n",
       "                        <td id=\"T_514d4a34_a6ef_11eb_bfad_4074e049f0d4row5_col14\" class=\"data row5 col14\" >0.000000</td>\n",
       "                        <td id=\"T_514d4a34_a6ef_11eb_bfad_4074e049f0d4row5_col15\" class=\"data row5 col15\" >0.000000</td>\n",
       "                        <td id=\"T_514d4a34_a6ef_11eb_bfad_4074e049f0d4row5_col16\" class=\"data row5 col16\" >0.000000</td>\n",
       "                        <td id=\"T_514d4a34_a6ef_11eb_bfad_4074e049f0d4row5_col17\" class=\"data row5 col17\" >0.000000</td>\n",
       "                        <td id=\"T_514d4a34_a6ef_11eb_bfad_4074e049f0d4row5_col18\" class=\"data row5 col18\" >0.000000</td>\n",
       "                        <td id=\"T_514d4a34_a6ef_11eb_bfad_4074e049f0d4row5_col19\" class=\"data row5 col19\" >0.000000</td>\n",
       "                        <td id=\"T_514d4a34_a6ef_11eb_bfad_4074e049f0d4row5_col20\" class=\"data row5 col20\" >0.000000</td>\n",
       "                        <td id=\"T_514d4a34_a6ef_11eb_bfad_4074e049f0d4row5_col21\" class=\"data row5 col21\" >0.000000</td>\n",
       "                        <td id=\"T_514d4a34_a6ef_11eb_bfad_4074e049f0d4row5_col22\" class=\"data row5 col22\" >0.000000</td>\n",
       "                        <td id=\"T_514d4a34_a6ef_11eb_bfad_4074e049f0d4row5_col23\" class=\"data row5 col23\" >0.000000</td>\n",
       "                        <td id=\"T_514d4a34_a6ef_11eb_bfad_4074e049f0d4row5_col24\" class=\"data row5 col24\" >0.000000</td>\n",
       "                        <td id=\"T_514d4a34_a6ef_11eb_bfad_4074e049f0d4row5_col25\" class=\"data row5 col25\" >0.000000</td>\n",
       "                        <td id=\"T_514d4a34_a6ef_11eb_bfad_4074e049f0d4row5_col26\" class=\"data row5 col26\" >0.000000</td>\n",
       "                        <td id=\"T_514d4a34_a6ef_11eb_bfad_4074e049f0d4row5_col27\" class=\"data row5 col27\" >0.000000</td>\n",
       "                        <td id=\"T_514d4a34_a6ef_11eb_bfad_4074e049f0d4row5_col28\" class=\"data row5 col28\" >0.000000</td>\n",
       "                        <td id=\"T_514d4a34_a6ef_11eb_bfad_4074e049f0d4row5_col29\" class=\"data row5 col29\" >0.000000</td>\n",
       "                        <td id=\"T_514d4a34_a6ef_11eb_bfad_4074e049f0d4row5_col30\" class=\"data row5 col30\" >0.000000</td>\n",
       "                        <td id=\"T_514d4a34_a6ef_11eb_bfad_4074e049f0d4row5_col31\" class=\"data row5 col31\" >0.000000</td>\n",
       "                        <td id=\"T_514d4a34_a6ef_11eb_bfad_4074e049f0d4row5_col32\" class=\"data row5 col32\" >0.000000</td>\n",
       "                        <td id=\"T_514d4a34_a6ef_11eb_bfad_4074e049f0d4row5_col33\" class=\"data row5 col33\" >0.000000</td>\n",
       "                        <td id=\"T_514d4a34_a6ef_11eb_bfad_4074e049f0d4row5_col34\" class=\"data row5 col34\" >0.000000</td>\n",
       "                        <td id=\"T_514d4a34_a6ef_11eb_bfad_4074e049f0d4row5_col35\" class=\"data row5 col35\" >0.000000</td>\n",
       "                        <td id=\"T_514d4a34_a6ef_11eb_bfad_4074e049f0d4row5_col36\" class=\"data row5 col36\" >0.000000</td>\n",
       "                        <td id=\"T_514d4a34_a6ef_11eb_bfad_4074e049f0d4row5_col37\" class=\"data row5 col37\" >0.000000</td>\n",
       "                        <td id=\"T_514d4a34_a6ef_11eb_bfad_4074e049f0d4row5_col38\" class=\"data row5 col38\" >0.000000</td>\n",
       "                        <td id=\"T_514d4a34_a6ef_11eb_bfad_4074e049f0d4row5_col39\" class=\"data row5 col39\" >0.000000</td>\n",
       "                        <td id=\"T_514d4a34_a6ef_11eb_bfad_4074e049f0d4row5_col40\" class=\"data row5 col40\" >0.000000</td>\n",
       "                        <td id=\"T_514d4a34_a6ef_11eb_bfad_4074e049f0d4row5_col41\" class=\"data row5 col41\" >0.000000</td>\n",
       "                        <td id=\"T_514d4a34_a6ef_11eb_bfad_4074e049f0d4row5_col42\" class=\"data row5 col42\" >0.000000</td>\n",
       "                        <td id=\"T_514d4a34_a6ef_11eb_bfad_4074e049f0d4row5_col43\" class=\"data row5 col43\" >0.000000</td>\n",
       "                        <td id=\"T_514d4a34_a6ef_11eb_bfad_4074e049f0d4row5_col44\" class=\"data row5 col44\" >0.000000</td>\n",
       "                        <td id=\"T_514d4a34_a6ef_11eb_bfad_4074e049f0d4row5_col45\" class=\"data row5 col45\" >0.000000</td>\n",
       "                        <td id=\"T_514d4a34_a6ef_11eb_bfad_4074e049f0d4row5_col46\" class=\"data row5 col46\" >0.000000</td>\n",
       "                        <td id=\"T_514d4a34_a6ef_11eb_bfad_4074e049f0d4row5_col47\" class=\"data row5 col47\" >0.000000</td>\n",
       "                        <td id=\"T_514d4a34_a6ef_11eb_bfad_4074e049f0d4row5_col48\" class=\"data row5 col48\" >0.000000</td>\n",
       "                        <td id=\"T_514d4a34_a6ef_11eb_bfad_4074e049f0d4row5_col49\" class=\"data row5 col49\" >0.000000</td>\n",
       "                        <td id=\"T_514d4a34_a6ef_11eb_bfad_4074e049f0d4row5_col50\" class=\"data row5 col50\" >0.000000</td>\n",
       "                        <td id=\"T_514d4a34_a6ef_11eb_bfad_4074e049f0d4row5_col51\" class=\"data row5 col51\" >0.000000</td>\n",
       "                        <td id=\"T_514d4a34_a6ef_11eb_bfad_4074e049f0d4row5_col52\" class=\"data row5 col52\" >0.000000</td>\n",
       "                        <td id=\"T_514d4a34_a6ef_11eb_bfad_4074e049f0d4row5_col53\" class=\"data row5 col53\" >0.000000</td>\n",
       "                        <td id=\"T_514d4a34_a6ef_11eb_bfad_4074e049f0d4row5_col54\" class=\"data row5 col54\" >0.000000</td>\n",
       "                        <td id=\"T_514d4a34_a6ef_11eb_bfad_4074e049f0d4row5_col55\" class=\"data row5 col55\" >0.000000</td>\n",
       "                        <td id=\"T_514d4a34_a6ef_11eb_bfad_4074e049f0d4row5_col56\" class=\"data row5 col56\" >0.000000</td>\n",
       "                        <td id=\"T_514d4a34_a6ef_11eb_bfad_4074e049f0d4row5_col57\" class=\"data row5 col57\" >0.000000</td>\n",
       "                        <td id=\"T_514d4a34_a6ef_11eb_bfad_4074e049f0d4row5_col58\" class=\"data row5 col58\" >0.000000</td>\n",
       "                        <td id=\"T_514d4a34_a6ef_11eb_bfad_4074e049f0d4row5_col59\" class=\"data row5 col59\" >0.000000</td>\n",
       "            </tr>\n",
       "    </tbody></table>"
      ],
      "text/plain": [
       "<pandas.io.formats.style.Styler at 0x7fe4766f49d0>"
      ]
     },
     "execution_count": 59,
     "metadata": {},
     "output_type": "execute_result"
    }
   ],
   "source": [
    "(aggregated/170).style.set_caption(\"normalized by #runs\")"
   ]
  },
  {
   "cell_type": "code",
   "execution_count": 78,
   "metadata": {
    "ExecuteTime": {
     "end_time": "2021-04-27T00:35:23.424210Z",
     "start_time": "2021-04-27T00:35:22.618132Z"
    },
    "hidden": true
   },
   "outputs": [
    {
     "data": {
      "image/png": "[encoded data removed]",
      "text/plain": [
       "<Figure size 576x216 with 1 Axes>"
      ]
     },
     "metadata": {
      "needs_background": "light"
     },
     "output_type": "display_data"
    }
   ],
   "source": [
    "import re\n",
    "grouped = aggregated.groupby(by = lambda x: int(re.search(r\"\\d+\", x)[0]), axis = 1).sum()/170\n",
    "grouped = grouped.loc[[\"Si\",\"N\",\"H\"], 2:]\n",
    "grouped.T.plot(marker = '.' ,figsize = (8,3), title = \"# atoms removed as a function of bombardment\")\n",
    "plt.xticks(np.arange(2,20))\n",
    "plt.ylabel(\"#atoms removed per Ar+\")\n",
    "plt.xlabel(\"bombardment number\")\n",
    "plt.savefig(\"bareSputterYields.png\", bbox_inches = 'tight', dpi = 400)"
   ]
  },
  {
   "cell_type": "code",
   "execution_count": null,
   "metadata": {
    "ExecuteTime": {
     "end_time": "2021-04-27T00:24:59.792851Z",
     "start_time": "2021-04-27T00:24:59.307Z"
    },
    "hidden": true
   },
   "outputs": [],
   "source": [
    "grouped = aggregated.groupby(by = lambda x: x[0], axis = 1).sum()/170\n",
    "grouped.T.plot(marker = 'o', figsize = (8,4))\n",
    "# plt.ylim(0, 2)"
   ]
  },
  {
   "cell_type": "code",
   "execution_count": null,
   "metadata": {
    "ExecuteTime": {
     "end_time": "2021-04-27T00:24:59.794043Z",
     "start_time": "2021-04-27T00:24:59.316Z"
    },
    "hidden": true
   },
   "outputs": [],
   "source": [
    "(aggregated/170).T.plot(marker = 'o', figsize = (8,4))\n",
    "plt.ylim(0, 1)\n",
    "plt.title(\"number of atoms per species, normalized by #runs\")"
   ]
  },
  {
   "cell_type": "code",
   "execution_count": null,
   "metadata": {
    "ExecuteTime": {
     "end_time": "2021-04-27T00:24:59.794954Z",
     "start_time": "2021-04-27T00:24:59.324Z"
    },
    "hidden": true
   },
   "outputs": [],
   "source": [
    "bombdata.keys()"
   ]
  },
  {
   "cell_type": "code",
   "execution_count": null,
   "metadata": {
    "ExecuteTime": {
     "end_time": "2021-04-27T00:24:59.795938Z",
     "start_time": "2021-04-27T00:24:59.332Z"
    },
    "hidden": true
   },
   "outputs": [],
   "source": [
    "aggregated.sum()/ (170 * 360)"
   ]
  },
  {
   "cell_type": "code",
   "execution_count": null,
   "metadata": {
    "ExecuteTime": {
     "end_time": "2021-04-27T00:24:59.797069Z",
     "start_time": "2021-04-27T00:24:59.340Z"
    },
    "hidden": true
   },
   "outputs": [],
   "source": [
    "traj = [i for i in vasp.read_vasp_xml(\"../vasprun.xml\", index = slice(0, -1))]"
   ]
  },
  {
   "cell_type": "code",
   "execution_count": null,
   "metadata": {
    "ExecuteTime": {
     "end_time": "2021-04-27T00:24:59.798750Z",
     "start_time": "2021-04-27T00:24:59.348Z"
    },
    "hidden": true
   },
   "outputs": [],
   "source": [
    "view(traj)"
   ]
  },
  {
   "cell_type": "code",
   "execution_count": null,
   "metadata": {
    "ExecuteTime": {
     "end_time": "2021-04-27T00:24:59.799759Z",
     "start_time": "2021-04-27T00:24:59.356Z"
    },
    "hidden": true
   },
   "outputs": [],
   "source": [
    "out = traj[15]\n",
    "P = [[3, 0, 0], [0, 3, 0], [0, 0, 1]]\n",
    "out = make_supercell(out, P)\n",
    "xyz.write_xyz('../POSCAR0.xyz', out)"
   ]
  },
  {
   "cell_type": "code",
   "execution_count": null,
   "metadata": {
    "ExecuteTime": {
     "end_time": "2021-04-27T00:24:59.800690Z",
     "start_time": "2021-04-27T00:24:59.364Z"
    },
    "hidden": true
   },
   "outputs": [],
   "source": [
    "# plt.figure(figsize = (5, 2))\n",
    "(aggregated.T / (170 * 350)).plot(y = ['Si', 'N', 'H'], figsize = (10, 5));\n",
    "plt.ylabel(\"Sputter yield (# atoms ejected/total atoms)\")\n",
    "plt.xlabel(\"Bombardment progress\")"
   ]
  },
  {
   "cell_type": "code",
   "execution_count": null,
   "metadata": {
    "ExecuteTime": {
     "end_time": "2021-04-27T00:24:59.801791Z",
     "start_time": "2021-04-27T00:24:59.372Z"
    },
    "hidden": true
   },
   "outputs": [],
   "source": [
    "# for i, tbl in enumerate(bonds):\n",
    "#     tbl.to_csv(\"bonds%\")"
   ]
  },
  {
   "cell_type": "code",
   "execution_count": null,
   "metadata": {
    "ExecuteTime": {
     "end_time": "2021-04-27T00:24:59.803092Z",
     "start_time": "2021-04-27T00:24:59.380Z"
    },
    "hidden": true
   },
   "outputs": [],
   "source": [
    "siremoved = {key:i for key, i in enumerate(data) if sum(i.loc[\"Si\"]) > 0 }"
   ]
  },
  {
   "cell_type": "code",
   "execution_count": null,
   "metadata": {
    "ExecuteTime": {
     "end_time": "2021-04-27T00:24:59.804442Z",
     "start_time": "2021-04-27T00:24:59.388Z"
    },
    "hidden": true
   },
   "outputs": [],
   "source": [
    "siremoved.keys()"
   ]
  },
  {
   "cell_type": "code",
   "execution_count": null,
   "metadata": {
    "ExecuteTime": {
     "end_time": "2021-04-27T00:24:59.805606Z",
     "start_time": "2021-04-27T00:24:59.396Z"
    },
    "hidden": true
   },
   "outputs": [],
   "source": [
    "siremoved[8]"
   ]
  },
  {
   "cell_type": "code",
   "execution_count": null,
   "metadata": {
    "ExecuteTime": {
     "end_time": "2021-04-27T00:24:59.806459Z",
     "start_time": "2021-04-27T00:24:59.404Z"
    },
    "hidden": true
   },
   "outputs": [],
   "source": [
    "siremoved[9]"
   ]
  },
  {
   "cell_type": "code",
   "execution_count": null,
   "metadata": {
    "ExecuteTime": {
     "end_time": "2021-04-27T00:24:59.807432Z",
     "start_time": "2021-04-27T00:24:59.412Z"
    },
    "cell_style": "center",
    "hidden": true
   },
   "outputs": [],
   "source": [
    "print(sum(aggregated.loc[\"N\"]))\n",
    "print(sum(aggregated.loc[\"Si\"]))"
   ]
  },
  {
   "cell_type": "markdown",
   "metadata": {
    "heading_collapsed": true
   },
   "source": [
    "## Analyze composition change"
   ]
  },
  {
   "cell_type": "code",
   "execution_count": null,
   "metadata": {
    "ExecuteTime": {
     "end_time": "2021-04-27T00:24:59.808598Z",
     "start_time": "2021-04-27T00:24:59.423Z"
    },
    "hidden": true
   },
   "outputs": [],
   "source": [
    "datadir = \"../cf4_bomb/\" #bare bombardment, v0.13 = 35.0 eV, 0.135 = 37.7 eV, .14 = 40.55 eV\n",
    "geometries = {}\n",
    "for i in os.listdir(datadir):\n",
    "    if \".gen\" in i:\n",
    "        key = re.search(r\"\\d+-\\d+\", i)\n",
    "#         key = re.search(r\"\\d+\", i)\n",
    "        if key:\n",
    "            key = key.group(0)\n",
    "#             print(key)\n",
    "            geometries[key] =  gen.read_gen(datadir + i)\n",
    "# geometries = {'lol': xtl2x2}"
   ]
  },
  {
   "cell_type": "code",
   "execution_count": null,
   "metadata": {
    "ExecuteTime": {
     "end_time": "2021-04-27T00:24:59.809518Z",
     "start_time": "2021-04-27T00:24:59.431Z"
    },
    "hidden": true
   },
   "outputs": [],
   "source": [
    "view([geom for geom in geometries.values()])"
   ]
  },
  {
   "cell_type": "code",
   "execution_count": null,
   "metadata": {
    "ExecuteTime": {
     "end_time": "2021-04-27T00:24:59.810237Z",
     "start_time": "2021-04-27T00:24:59.439Z"
    },
    "hidden": true
   },
   "outputs": [],
   "source": [
    "view(xtl2x2)"
   ]
  },
  {
   "cell_type": "code",
   "execution_count": null,
   "metadata": {
    "ExecuteTime": {
     "end_time": "2021-04-27T00:24:59.811177Z",
     "start_time": "2021-04-27T00:24:59.447Z"
    },
    "hidden": true
   },
   "outputs": [],
   "source": [
    "# show distribution of undercoordination as a function of z\n",
    "import seaborn as sns\n",
    "sns.set_theme(style=\"darkgrid\")\n",
    "\n",
    "zs = []\n",
    "for i, frame in enumerate(geometries.values()):\n",
    "    Si = frame[[atom.index for atom in frame if atom.symbol == \"Si\"]]\n",
    "    zs += [atom.z for atom in Si]\n",
    "temp = sns.kdeplot(zs, bw_adjust = 0.5, label = i, common_norm=True)\n",
    "numSi = len(zs)\n",
    "# plt.legend()\n",
    "# plt.xlim(0, 22)\n",
    "plt.xlabel(\"z (Å)\")\n",
    "plt.ylabel(\"density\")\n",
    "plt.title(\"Z distribution of Si in amorphous bombardment\")"
   ]
  },
  {
   "cell_type": "code",
   "execution_count": null,
   "metadata": {
    "ExecuteTime": {
     "end_time": "2021-04-27T00:24:59.812068Z",
     "start_time": "2021-04-27T00:24:59.454Z"
    },
    "hidden": true
   },
   "outputs": [],
   "source": [
    "zs = []\n",
    "for i, frame in enumerate(geometries.values()):\n",
    "    Si = frame[[atom.index for atom in frame if atom.symbol == \"N\"]]\n",
    "    zs += [atom.z for atom in Si]\n",
    "temp2 = sns.kdeplot(zs, bw_adjust = 0.5, label = i, common_norm=True)\n",
    "numN = len(zs)\n",
    "# plt.legend()\n",
    "plt.xlabel(\"z (Å)\")\n",
    "plt.ylabel(\"density\")\n",
    "plt.title(\"Z distribution of N in amorphous bombardment\")\n"
   ]
  },
  {
   "cell_type": "code",
   "execution_count": null,
   "metadata": {
    "ExecuteTime": {
     "end_time": "2021-04-27T00:24:59.813070Z",
     "start_time": "2021-04-27T00:24:59.462Z"
    },
    "hidden": true
   },
   "outputs": [],
   "source": [
    "zs = []\n",
    "for i, frame in enumerate(geometries.values()):\n",
    "    N = frame[[atom.index for atom in frame if atom.symbol == \"N\"]]\n",
    "    Si = frame[[atom.index for atom in frame if atom.symbol == \"Si\"]]\n",
    "    zs += [atom.z for atom in Si]\n",
    "    zs += [atom.z for atom in N]\n",
    "temp3 = sns.kdeplot(zs, bw_adjust = 0.5, label = i, common_norm=True)\n",
    "# plt.legend()\n",
    "plt.xlabel(\"z (Å)\")\n",
    "plt.ylabel(\"density\")\n",
    "plt.title(\"Z distribution of all atoms in amorphous bombardment\")\n"
   ]
  },
  {
   "cell_type": "code",
   "execution_count": null,
   "metadata": {
    "ExecuteTime": {
     "end_time": "2021-04-27T00:24:59.814075Z",
     "start_time": "2021-04-27T00:24:59.470Z"
    },
    "hidden": true
   },
   "outputs": [],
   "source": [
    "# zs = []\n",
    "# for i, frame in enumerate(geometries.values()):\n",
    "#     N = frame[[atom.index for atom in frame if atom.symbol == \"N\"]]\n",
    "#     Si = frame[[atom.index for atom in frame if atom.symbol == \"Si\"]]\n",
    "#     zs += [atom.z for atom in Si]\n",
    "#     zs += [atom.z for atom in N]\n",
    "# numN = len(zs)\n",
    "# plt.legend()\n",
    "# plt.xlabel(\"z (Å)\")\n",
    "# plt.ylabel(\"density\")\n",
    "# plt.title(\"Z distribution of all atoms in amorphous bombardment\")"
   ]
  },
  {
   "cell_type": "code",
   "execution_count": null,
   "metadata": {
    "ExecuteTime": {
     "end_time": "2021-04-27T00:24:59.815035Z",
     "start_time": "2021-04-27T00:24:59.478Z"
    },
    "hidden": true
   },
   "outputs": [],
   "source": [
    "numSi/numN,numSi, numN"
   ]
  },
  {
   "cell_type": "code",
   "execution_count": null,
   "metadata": {
    "ExecuteTime": {
     "end_time": "2021-04-27T00:24:59.815772Z",
     "start_time": "2021-04-27T00:24:59.486Z"
    },
    "hidden": true
   },
   "outputs": [],
   "source": [
    "3/7"
   ]
  },
  {
   "cell_type": "code",
   "execution_count": null,
   "metadata": {
    "ExecuteTime": {
     "end_time": "2021-04-27T00:24:59.816537Z",
     "start_time": "2021-04-27T00:24:59.494Z"
    },
    "hidden": true
   },
   "outputs": [],
   "source": [
    "from scipy.integrate import quad,trapz\n",
    "quad(interp, min(plotx), max(plotx)), trapz(interp(plotx), x = plotx)"
   ]
  },
  {
   "cell_type": "code",
   "execution_count": null,
   "metadata": {
    "ExecuteTime": {
     "end_time": "2021-04-27T00:24:59.817452Z",
     "start_time": "2021-04-27T00:24:59.502Z"
    },
    "hidden": true,
    "scrolled": false
   },
   "outputs": [],
   "source": [
    "from scipy.interpolate import interp1d\n",
    "x, y = temp.lines[0].get_xdata(), temp.lines[0].get_ydata()\n",
    "x2, y2 = temp2.lines[0].get_xdata(), temp2.lines[0].get_ydata()\n",
    "interp = interp1d(x, y*1, kind = 'cubic')\n",
    "interp2 = interp1d(x2, y2*1, kind = 'cubic')\n",
    "minx = max(min(x), min(x2))\n",
    "maxx = min(max(x), max(x2))\n",
    "#     plotx = np.arange(minx, maxx, .1)    \n",
    "plotx = np.arange(minx, maxx, .1)\n",
    "plt.plot(plotx, numSi * interp(plotx)/(numSi * interp2(plotx) + numN * interp(plotx)), label = i)\n",
    "plt.hlines(3/7, minx, maxx)\n",
    "plt.xlim(minx, 22)\n",
    "plt.ylim(-0.0, 1)\n",
    "# plt.legend()\n",
    "plt.title(\"relative ratio of Si/N as estimated by KDE \")\n",
    "plt.xlabel(\"height in slab (Å)\")"
   ]
  },
  {
   "cell_type": "code",
   "execution_count": null,
   "metadata": {
    "ExecuteTime": {
     "end_time": "2021-04-27T00:24:59.818838Z",
     "start_time": "2021-04-27T00:24:59.510Z"
    },
    "hidden": true
   },
   "outputs": [],
   "source": [
    "plt.plot(plotx, interp(plotx))\n",
    "plt.plot(plotx, interp2(plotx) + interp(plotx))\n",
    "plt.legend(['Si dist', 'Si + N dist'])"
   ]
  },
  {
   "cell_type": "code",
   "execution_count": null,
   "metadata": {
    "ExecuteTime": {
     "end_time": "2021-04-27T00:24:59.819983Z",
     "start_time": "2021-04-27T00:24:59.518Z"
    },
    "hidden": true
   },
   "outputs": [],
   "source": [
    "plt.plot(plotx, 3 * interp(plotx))\n",
    "plt.plot(plotx, 4 * interp2(plotx) + 3 * interp(plotx))\n",
    "plt.legend(['Si dist', 'Si + N dist'])"
   ]
  },
  {
   "cell_type": "code",
   "execution_count": null,
   "metadata": {
    "ExecuteTime": {
     "end_time": "2021-04-27T00:24:59.821071Z",
     "start_time": "2021-04-27T00:24:59.526Z"
    },
    "hidden": true
   },
   "outputs": [],
   "source": [
    "plt.plot(plotx, interp2(plotx)/interp(plotx))\n",
    "plt.xlim(0, 20)\n",
    "plt.ylim(0, 5)"
   ]
  },
  {
   "cell_type": "code",
   "execution_count": null,
   "metadata": {
    "ExecuteTime": {
     "end_time": "2021-04-27T00:24:59.822358Z",
     "start_time": "2021-04-27T00:24:59.534Z"
    },
    "hidden": true
   },
   "outputs": [],
   "source": [
    "# show distribution of undercoordination as a function of z\n",
    "import seaborn as sns\n",
    "sns.set_theme(style=\"darkgrid\")\n",
    "\n",
    "\n",
    "\n",
    "for i, frame in enumerate(traj[::5]):\n",
    "    Si = frame[[atom.index for atom in frame if atom.symbol == \"Si\"]]\n",
    "    zs = [atom.z for atom in Si]\n",
    "    temp = sns.kdeplot(zs, bw_adjust = 0.1, label = i)\n",
    "plt.legend()\n",
    "plt.xlabel(\"z (Å)\")\n",
    "plt.ylabel(\"density\")\n",
    "plt.title(\"Z distribution of Si in amorphous bombardment\")"
   ]
  },
  {
   "cell_type": "code",
   "execution_count": null,
   "metadata": {
    "ExecuteTime": {
     "end_time": "2021-04-27T00:24:59.823466Z",
     "start_time": "2021-04-27T00:24:59.543Z"
    },
    "hidden": true,
    "scrolled": false
   },
   "outputs": [],
   "source": [
    "for i, frame in enumerate(traj[::5]):\n",
    "    Si = frame[[atom.index for atom in frame if atom.symbol == \"N\"]]\n",
    "    zs = [atom.z for atom in Si]\n",
    "    temp2 = sns.kdeplot(zs, bw_adjust = 0.1, label = i)\n",
    "plt.legend()\n",
    "plt.xlabel(\"z (Å)\")\n",
    "plt.ylabel(\"density\")\n",
    "plt.title(\"Z distribution of N in amorphous bombardment\")"
   ]
  },
  {
   "cell_type": "code",
   "execution_count": null,
   "metadata": {
    "ExecuteTime": {
     "end_time": "2021-04-27T00:24:59.824506Z",
     "start_time": "2021-04-27T00:24:59.551Z"
    },
    "hidden": true,
    "scrolled": false
   },
   "outputs": [],
   "source": [
    "from scipy.interpolate import interp1d\n",
    "for i in range(4):\n",
    "    x, y = temp.lines[i].get_xdata(), temp.lines[i].get_ydata()\n",
    "    x2, y2 = temp2.lines[i].get_xdata(), temp2.lines[i].get_ydata()\n",
    "    interp = interp1d(x, y, kind = 'cubic')\n",
    "    interp2 = interp1d(x2, y2, kind = 'cubic')\n",
    "    minx = max(min(x), min(x2))\n",
    "    maxx = min(max(x), max(x2))\n",
    "#     plotx = np.arange(minx, maxx, .1)    \n",
    "    plotx = np.arange(5, 16, .1)\n",
    "    plt.plot(plotx, interp(plotx)/interp2(plotx), label = i)\n",
    "    plt.hlines(1, 5, 15)\n",
    "plt.legend()\n",
    "plt.title(\"relative ratio of Si/N as estimated by KDE \")"
   ]
  },
  {
   "cell_type": "markdown",
   "metadata": {
    "heading_collapsed": true
   },
   "source": [
    "## Density calculation"
   ]
  },
  {
   "cell_type": "code",
   "execution_count": null,
   "metadata": {
    "ExecuteTime": {
     "end_time": "2021-04-27T00:24:59.825824Z",
     "start_time": "2021-04-27T00:24:59.564Z"
    },
    "hidden": true
   },
   "outputs": [],
   "source": [
    "datadir = \"../postbomb/\" #bare bombardment, v0.13 = 35.0 eV, 0.135 = 37.7 eV, .14 = 40.55 eV\n",
    "geometries = {}\n",
    "for i in os.listdir(datadir):\n",
    "    if \".gen\" in i:\n",
    "        key = re.search(r\"\\d+-\\d+\", i)\n",
    "#         key = re.search(r\"\\d+\", i)\n",
    "        if key:\n",
    "            key = key.group(0)\n",
    "#             print(key)\n",
    "            geometries[key] =  gen.read_gen(datadir + i)"
   ]
  },
  {
   "cell_type": "code",
   "execution_count": null,
   "metadata": {
    "ExecuteTime": {
     "end_time": "2021-04-27T00:24:59.826963Z",
     "start_time": "2021-04-27T00:24:59.575Z"
    },
    "hidden": true
   },
   "outputs": [],
   "source": [
    "total = 0\n",
    "for i in geometries.values():\n",
    "    for atom in i:\n",
    "        if atom.symbol == \"C\" and atom.position[2] < 18.0:\n",
    "            total+=1\n",
    "            \n",
    "total\n",
    "        "
   ]
  },
  {
   "cell_type": "markdown",
   "metadata": {
    "hidden": true
   },
   "source": [
    "Calculate reference density:"
   ]
  },
  {
   "cell_type": "code",
   "execution_count": null,
   "metadata": {
    "ExecuteTime": {
     "end_time": "2021-04-27T00:24:59.828225Z",
     "start_time": "2021-04-27T00:24:59.588Z"
    },
    "hidden": true
   },
   "outputs": [],
   "source": [
    "view(amorphous)"
   ]
  },
  {
   "cell_type": "code",
   "execution_count": null,
   "metadata": {
    "ExecuteTime": {
     "end_time": "2021-04-27T00:24:59.829636Z",
     "start_time": "2021-04-27T00:24:59.598Z"
    },
    "hidden": true
   },
   "outputs": [],
   "source": [
    "# base density of silicon nitride = 3.17 g/cm^3 according to Google\n",
    "\n",
    "# maxz = np.max([atom.position[2] for atom in amorphous if atom.symbol in ['Si', 'N']])\n",
    "# minz = np.min([atom.position[2] for atom in amorphous if atom.symbol in ['Si', 'N']])\n",
    "height = maxz - minz\n",
    "boxlen = amorphous.cell[0, 0]\n",
    "np.sum(amorphous.get_masses() * amu2g)/ (boxlen ** 2 * height * a2cm**3)  "
   ]
  },
  {
   "cell_type": "code",
   "execution_count": null,
   "metadata": {
    "ExecuteTime": {
     "end_time": "2021-04-27T00:24:59.830840Z",
     "start_time": "2021-04-27T00:24:59.610Z"
    },
    "hidden": true
   },
   "outputs": [],
   "source": [
    "def density_dist(slab, binwidth = 2, maxz = 30, elems = None):\n",
    "    bins = np.arange(0, maxz, binwidth)\n",
    "    \n",
    "    boxlen = slab.cell[0, 0]\n",
    "    buckets = bins * 0\n",
    "    buckets = np.array(buckets)\n",
    "\n",
    "    for atom in slab:\n",
    "        if elems and atom.symbol not in elems:\n",
    "            continue\n",
    "        zpos = atom.position[2]\n",
    "        bucket = int(zpos//binwidth)\n",
    "        buckets[bucket] += atom.mass\n",
    "    volume = boxlen**2 * binwidth * a2cm**3\n",
    "    density = buckets * amu2g / volume\n",
    "    \n",
    "    return bins, density\n",
    "\n",
    "\n",
    "# plt.step(bins, density)\n",
    "# plt.xlabel(\"height (Å)\")\n",
    "# plt.ylabel(\"density (g/cm3)\")"
   ]
  },
  {
   "cell_type": "code",
   "execution_count": null,
   "metadata": {
    "ExecuteTime": {
     "end_time": "2021-04-27T00:24:59.831894Z",
     "start_time": "2021-04-27T00:24:59.620Z"
    },
    "hidden": true,
    "scrolled": true
   },
   "outputs": [],
   "source": [
    "plt.figure(figsize = (10, 5))\n",
    "binwidth,maxz = 1, 30\n",
    "\n",
    "bins, density = density_dist(amorphous, binwidth, maxz)\n",
    "\n",
    "for run, color in zip([2,9,16], ['lime', 'blue', 'red']):\n",
    "    datadir = \"../bomb%d_results/\" % run #bare bombardment, v0.13 = 35.0 eV, 0.135 = 37.7 eV, .14 = 40.55 eV\n",
    "    geometries = {}\n",
    "    for i in os.listdir(datadir):\n",
    "        if \".gen\" in i:\n",
    "            key = re.search(r\"\\d+-\\d+\", i)\n",
    "    #         key = re.search(r\"\\d+\", i)\n",
    "            if key:\n",
    "                key = key.group(0)\n",
    "    #             print(key)\n",
    "                geometries[key] =  gen.read_gen(datadir + i)\n",
    "\n",
    "    plotx = np.arange(0, maxz, binwidth)\n",
    "    \n",
    "    Sidensity = [density_dist(geom,binwidth, maxz, [\"Si\"])[1] for geom in geometries.values()]\n",
    "    totaldensity = [density_dist(geom, binwidth, maxz)[1] for geom in geometries.values()]\n",
    "    reldensities = [[x/y if y > 0 else 0 for x, y in zip(i, j)] \n",
    "                    for i, j in zip (Sidensity, totaldensity)]\n",
    "    \n",
    "#     densities = np.vstack(reldensities)\n",
    "    densities = np.vstack(totaldensity)\n",
    "                           \n",
    "    avg_densities = np.mean([i for i in densities], axis = 0)\n",
    "    sd_densities = np.std([i for i in densities], axis = 0)\n",
    "    plt.plot(plotx, avg_densities, color = color, label = 'bombarded densities %s' % run)\n",
    "#     plt.fill_between(plotx, avg_densities - 1.96*sd_densities, avg_densities + 1.96*sd_densities,\n",
    "#                      color=color, alpha=0.1, label = '95 percent CI, %d' % run)\n",
    "basebins, basedensity = density_dist(amorphous, binwidth, maxz)\n",
    "basebinsSi, basedensitySi = density_dist(amorphous, binwidth, maxz, ['Si'])\n",
    "baseRelDensity = [x/y if y > 0 else 0 for x,y in zip(basedensitySi, basedensity)]\n",
    "# plt.plot(basebins, baseRelDensity, label = 'amorphous base case', color = 'brown')\n",
    "plt.plot(basebins, basedensity)\n",
    "# plt.vlines(18, ymin = 0, ymax = 0.7, label = 'approximate slab surf')\n",
    "plt.vlines(18, ymin = 0, ymax = 4, label = 'approximate slab surf')\n",
    "plt.hlines(3.2, xmin = 0, xmax = maxz, label = 'bulk density')\n",
    "plt.title('Relative density of film (Si) vs height; binwidth = %d' % binwidth)\n",
    "plt.xlabel(\"height (Å)\")\n",
    "plt.ylabel(\"relative density, Si: total (g/cm3)/(g/cm3)\")\n",
    "plt.legend();"
   ]
  },
  {
   "cell_type": "code",
   "execution_count": null,
   "metadata": {
    "ExecuteTime": {
     "end_time": "2021-04-27T00:24:59.833013Z",
     "start_time": "2021-04-27T00:24:59.630Z"
    },
    "hidden": true
   },
   "outputs": [],
   "source": [
    "np.mean(basedensity[np.bitwise_and(basebins < 15, basebins > 5)])"
   ]
  },
  {
   "cell_type": "markdown",
   "metadata": {},
   "source": [
    "## Charge distribution"
   ]
  },
  {
   "cell_type": "code",
   "execution_count": 3,
   "metadata": {
    "ExecuteTime": {
     "end_time": "2021-04-30T00:56:42.515136Z",
     "start_time": "2021-04-30T00:56:42.270601Z"
    }
   },
   "outputs": [
    {
     "data": {
      "text/html": [
       "<div>\n",
       "<style scoped>\n",
       "    .dataframe tbody tr th:only-of-type {\n",
       "        vertical-align: middle;\n",
       "    }\n",
       "\n",
       "    .dataframe tbody tr th {\n",
       "        vertical-align: top;\n",
       "    }\n",
       "\n",
       "    .dataframe thead th {\n",
       "        text-align: right;\n",
       "    }\n",
       "</style>\n",
       "<table border=\"1\" class=\"dataframe\">\n",
       "  <thead>\n",
       "    <tr style=\"text-align: right;\">\n",
       "      <th></th>\n",
       "      <th>geom</th>\n",
       "      <th>z</th>\n",
       "      <th>charges</th>\n",
       "    </tr>\n",
       "  </thead>\n",
       "  <tbody>\n",
       "    <tr>\n",
       "      <th>../withoutH.xyz</th>\n",
       "      <td>(Atom('H', [6.14105214, 11.22574118, 1.2153391...</td>\n",
       "      <td>[1.21533912, 0.45512612, 1.59616579, 1.0399228...</td>\n",
       "      <td>[1.14386847, 1.17377312, 1.239695, 1.16945496,...</td>\n",
       "    </tr>\n",
       "    <tr>\n",
       "      <th>../withH.xyz</th>\n",
       "      <td>(Atom('H', [6.14105214, 11.22574118, 1.2153391...</td>\n",
       "      <td>[1.21533912, 0.45512612, 1.59616579, 1.0399228...</td>\n",
       "      <td>[1.13585699, 1.17020164, 1.24179997, 1.1764522...</td>\n",
       "    </tr>\n",
       "  </tbody>\n",
       "</table>\n",
       "</div>"
      ],
      "text/plain": [
       "                                                              geom  \\\n",
       "../withoutH.xyz  (Atom('H', [6.14105214, 11.22574118, 1.2153391...   \n",
       "../withH.xyz     (Atom('H', [6.14105214, 11.22574118, 1.2153391...   \n",
       "\n",
       "                                                                 z  \\\n",
       "../withoutH.xyz  [1.21533912, 0.45512612, 1.59616579, 1.0399228...   \n",
       "../withH.xyz     [1.21533912, 0.45512612, 1.59616579, 1.0399228...   \n",
       "\n",
       "                                                           charges  \n",
       "../withoutH.xyz  [1.14386847, 1.17377312, 1.239695, 1.16945496,...  \n",
       "../withH.xyz     [1.13585699, 1.17020164, 1.24179997, 1.1764522...  "
      ]
     },
     "execution_count": 3,
     "metadata": {},
     "output_type": "execute_result"
    }
   ],
   "source": [
    "import pandas as pd\n",
    "from ase.io import xyz\n",
    "datadirs = [\"../withoutH.xyz\", \"../withH.xyz\"]\n",
    "data = pd.Series({path: list(xyz.read_xyz(path))[0]\n",
    "                  for path in datadirs})\n",
    "data = pd.DataFrame({'geom': data})\n",
    "data['z'] = data['geom'].apply(lambda geom: [i.position[2] for i in geom])\n",
    "data['charges'] = data['geom'].apply(lambda geom: geom.get_initial_charges())\n",
    "data"
   ]
  },
  {
   "cell_type": "code",
   "execution_count": 5,
   "metadata": {
    "ExecuteTime": {
     "end_time": "2021-04-30T00:56:51.340637Z",
     "start_time": "2021-04-30T00:56:51.331938Z"
    }
   },
   "outputs": [
    {
     "data": {
      "text/plain": [
       "(1390.00000001, 1395.99999993)"
      ]
     },
     "execution_count": 5,
     "metadata": {},
     "output_type": "execute_result"
    }
   ],
   "source": [
    "import numpy as np\n",
    "np.sum(data['charges'].iloc[0]), np.sum(data['charges'].iloc[1])"
   ]
  },
  {
   "cell_type": "code",
   "execution_count": 8,
   "metadata": {
    "ExecuteTime": {
     "end_time": "2021-04-30T00:57:08.947992Z",
     "start_time": "2021-04-30T00:57:07.978922Z"
    }
   },
   "outputs": [
    {
     "data": {
      "image/png": "[encoded data removed]",
      "text/plain": [
       "<Figure size 720x720 with 4 Axes>"
      ]
     },
     "metadata": {
      "needs_background": "light"
     },
     "output_type": "display_data"
    }
   ],
   "source": [
    "import matplotlib.pyplot as plt\n",
    "plt.subplots(2, 2, figsize = (10, 10), sharex=True)\n",
    "\n",
    "\n",
    "nbins = 20\n",
    "bins = np.linspace(0, np.max([max(i) for i in data['z']]), nbins)\n",
    "plt.subplot(221)\n",
    "\n",
    "p1 = plt.hist(data['z'].loc[datadirs[0]], \n",
    "         weights = data['charges'].loc[datadirs[0]],\n",
    "         alpha = 0.5,\n",
    "         bins = bins,\n",
    "         label = datadirs[0],\n",
    "         density = True,\n",
    "         cumulative=False,\n",
    "        )\n",
    "p2 = plt.hist(data['z'].loc[datadirs[1]], \n",
    "         weights = data['charges'].loc[datadirs[1]],\n",
    "         alpha = 0.5,\n",
    "         bins = bins,\n",
    "         label = datadirs[1],\n",
    "         density = True,\n",
    "         cumulative=False,\n",
    "        )\n",
    "plt.xlabel(\"Slab position (z) (Å)\")\n",
    "plt.title(\"Density distribution vs height\")\n",
    "\n",
    "plt.subplot(222)\n",
    "for i in data.index:\n",
    "    plt.hist(data['z'].loc[i], \n",
    "             weights = data['charges'].loc[i],\n",
    "             alpha = 0.5,\n",
    "             label = i,\n",
    "             bins = bins,\n",
    "             density = True,\n",
    "             cumulative=True,\n",
    "             histtype='step'\n",
    "            )\n",
    "plt.title(\"Cumulative density\")\n",
    "plt.xlabel(\"Slab position (z) (Å)\")\n",
    "plt.legend()\n",
    "\n",
    "plt.subplot(223)\n",
    "diff=plt.bar(bins[:-1],\n",
    "             height=(p1[0]-p2[0]), \n",
    "             linewidth=1.2, width = 1, align = 'edge') \n",
    "plt.title(\"withoutH-withH (pointwise)\")\n",
    "plt.xlabel(\"Slab position (z) (Å)\")\n",
    "\n",
    "plt.subplot(224)\n",
    "diff=plt.bar(bins[:-1],\n",
    "             height=np.cumsum(p1[0]-p2[0]), \n",
    "             linewidth=1.2, width = 1, align = 'edge') \n",
    "plt.title(\"withoutH-withH (cumulative)\")\n",
    "plt.xlabel(\"Slab position (z) (Å)\")\n",
    "\n",
    "plt.show()"
   ]
  },
  {
   "cell_type": "code",
   "execution_count": null,
   "metadata": {},
   "outputs": [],
   "source": [
    "plt.hist(data['z'].loc[datadirs[0]], \n",
    "         weights = data['charges'].loc[datadirs[0]],\n",
    "         alpha = 0.5,\n",
    "         bins = bins,\n",
    "         label = datadirs[0],\n",
    "         density = True,\n",
    "         cumulative=False,\n",
    "        )"
   ]
  },
  {
   "cell_type": "markdown",
   "metadata": {},
   "source": [
    "## VASP"
   ]
  },
  {
   "cell_type": "code",
   "execution_count": 9,
   "metadata": {
    "ExecuteTime": {
     "end_time": "2021-04-30T00:58:37.415698Z",
     "start_time": "2021-04-30T00:58:29.657414Z"
    }
   },
   "outputs": [],
   "source": [
    "from ase.calculators.vasp import *\n",
    "C = VaspChargeDensity(\"../CHGCAR\")\n",
    "charge = C.chg[0]"
   ]
  },
  {
   "cell_type": "code",
   "execution_count": 10,
   "metadata": {
    "ExecuteTime": {
     "end_time": "2021-04-30T00:58:47.648141Z",
     "start_time": "2021-04-30T00:58:39.733652Z"
    }
   },
   "outputs": [],
   "source": [
    "C2 = VaspChargeDensity(\"../CHGCAR_withH\")\n",
    "charge2 = C2.chg[0]"
   ]
  },
  {
   "cell_type": "code",
   "execution_count": 30,
   "metadata": {
    "ExecuteTime": {
     "end_time": "2021-04-30T01:11:32.415818Z",
     "start_time": "2021-04-30T01:11:32.411877Z"
    }
   },
   "outputs": [
    {
     "data": {
      "text/plain": [
       "(160, 160, 420)"
      ]
     },
     "execution_count": 30,
     "metadata": {},
     "output_type": "execute_result"
    }
   ],
   "source": [
    "charge.shape"
   ]
  },
  {
   "cell_type": "code",
   "execution_count": 35,
   "metadata": {
    "ExecuteTime": {
     "end_time": "2021-04-30T01:18:18.507286Z",
     "start_time": "2021-04-30T01:18:18.502928Z"
    }
   },
   "outputs": [
    {
     "data": {
      "text/plain": [
       "1396"
      ]
     },
     "execution_count": 35,
     "metadata": {},
     "output_type": "execute_result"
    }
   ],
   "source": [
    "nelect = 1396\n",
    "nelect"
   ]
  },
  {
   "cell_type": "code",
   "execution_count": 36,
   "metadata": {
    "ExecuteTime": {
     "end_time": "2021-04-30T01:22:31.571001Z",
     "start_time": "2021-04-30T01:22:31.559480Z"
    }
   },
   "outputs": [
    {
     "data": {
      "text/plain": [
       "182.77398056911326"
      ]
     },
     "execution_count": 36,
     "metadata": {},
     "output_type": "execute_result"
    }
   ],
   "source": [
    "np.sum(charge)/(15*15*40)"
   ]
  },
  {
   "cell_type": "code",
   "execution_count": 41,
   "metadata": {
    "ExecuteTime": {
     "end_time": "2021-04-30T01:32:42.503175Z",
     "start_time": "2021-04-30T01:32:42.492476Z"
    }
   },
   "outputs": [
    {
     "data": {
      "text/plain": [
       "182.77398056911326"
      ]
     },
     "execution_count": 41,
     "metadata": {},
     "output_type": "execute_result"
    }
   ],
   "source": [
    "tcharge_per_cubicA = np.sum(charge)/V\n",
    "tcharge_per_cubicA"
   ]
  },
  {
   "cell_type": "code",
   "execution_count": 45,
   "metadata": {
    "ExecuteTime": {
     "end_time": "2021-04-30T01:35:54.665864Z",
     "start_time": "2021-04-30T01:35:54.657051Z"
    }
   },
   "outputs": [],
   "source": [
    "zAng_per_point = 40/420"
   ]
  },
  {
   "cell_type": "code",
   "execution_count": 39,
   "metadata": {
    "ExecuteTime": {
     "end_time": "2021-04-30T01:32:06.017850Z",
     "start_time": "2021-04-30T01:32:06.015238Z"
    }
   },
   "outputs": [],
   "source": [
    "V = (15*15*40)"
   ]
  },
  {
   "cell_type": "code",
   "execution_count": 48,
   "metadata": {
    "ExecuteTime": {
     "end_time": "2021-04-30T01:36:54.275754Z",
     "start_time": "2021-04-30T01:36:53.985130Z"
    }
   },
   "outputs": [
    {
     "data": {
      "text/plain": [
       "<matplotlib.legend.Legend at 0x7efcc370a4d0>"
      ]
     },
     "execution_count": 48,
     "metadata": {},
     "output_type": "execute_result"
    },
    {
     "data": {
      "image/png": "[encoded data removed]",
      "text/plain": [
       "<Figure size 720x360 with 1 Axes>"
      ]
     },
     "metadata": {
      "needs_background": "light"
     },
     "output_type": "display_data"
    }
   ],
   "source": [
    "plt.figure(figsize = (10,5))\n",
    "xticks = np.arange(0, len(np.sum(charge, axis = (0,1))))/(420/40)\n",
    "plt.plot(xticks, np.sum(charge, axis = (0,1))/V, label = 'without H')\n",
    "plt.plot(xticks, np.sum(charge2, axis = (0,1))/V, label = 'with H')\n",
    "plt.xlabel(\"Height in slab (Å)\")\n",
    "plt.ylabel(\"charge density (e per $Å^2$)\")\n",
    "plt.title(\"Charge density plots for structure with, without 6 overcoordinating H\")\n",
    "plt.legend()"
   ]
  },
  {
   "cell_type": "code",
   "execution_count": null,
   "metadata": {
    "ExecuteTime": {
     "end_time": "2021-04-27T00:24:59.842542Z",
     "start_time": "2021-04-27T00:24:59.718Z"
    }
   },
   "outputs": [],
   "source": [
    "plt.figure(figsize = (10,5))\n",
    "plt.plot(np.cumsum(np.sum(charge, axis = (0,1))), label = 'without H')\n",
    "plt.plot(np.cumsum(np.sum(charge2, axis = (0,1))), label = 'with H')\n",
    "plt.ylim(100000, 1700000)\n",
    "plt.legend()"
   ]
  },
  {
   "cell_type": "code",
   "execution_count": 44,
   "metadata": {
    "ExecuteTime": {
     "end_time": "2021-04-27T00:24:59.955262Z",
     "start_time": "2021-04-27T00:24:59.943728Z"
    }
   },
   "outputs": [
    {
     "ename": "NameError",
     "evalue": "name 'charge' is not defined",
     "output_type": "error",
     "traceback": [
      "\u001b[0;31m---------------------------------------------------------------------------\u001b[0m",
      "\u001b[0;31mNameError\u001b[0m                                 Traceback (most recent call last)",
      "\u001b[0;32m<ipython-input-44-827514e4fe7a>\u001b[0m in \u001b[0;36m<module>\u001b[0;34m\u001b[0m\n\u001b[1;32m      1\u001b[0m \u001b[0mplt\u001b[0m\u001b[0;34m.\u001b[0m\u001b[0mfigure\u001b[0m\u001b[0;34m(\u001b[0m\u001b[0mfigsize\u001b[0m \u001b[0;34m=\u001b[0m \u001b[0;34m(\u001b[0m\u001b[0;36m10\u001b[0m\u001b[0;34m,\u001b[0m\u001b[0;36m5\u001b[0m\u001b[0;34m)\u001b[0m\u001b[0;34m)\u001b[0m\u001b[0;34m\u001b[0m\u001b[0;34m\u001b[0m\u001b[0m\n\u001b[0;32m----> 2\u001b[0;31m plt.plot(np.cumsum(np.sum(charge, axis = (0,1))) - np.cumsum(np.sum(charge2, axis = (0,1))), \n\u001b[0m\u001b[1;32m      3\u001b[0m          label = 'withoutH - withH')\n\u001b[1;32m      4\u001b[0m \u001b[0;31m# plt.ylim(100000, 1700000)\u001b[0m\u001b[0;34m\u001b[0m\u001b[0;34m\u001b[0m\u001b[0;34m\u001b[0m\u001b[0m\n\u001b[1;32m      5\u001b[0m \u001b[0mplt\u001b[0m\u001b[0;34m.\u001b[0m\u001b[0mlegend\u001b[0m\u001b[0;34m(\u001b[0m\u001b[0;34m)\u001b[0m\u001b[0;34m\u001b[0m\u001b[0;34m\u001b[0m\u001b[0m\n",
      "\u001b[0;31mNameError\u001b[0m: name 'charge' is not defined"
     ]
    },
    {
     "data": {
      "text/plain": [
       "<Figure size 720x360 with 0 Axes>"
      ]
     },
     "metadata": {},
     "output_type": "display_data"
    }
   ],
   "source": [
    "plt.figure(figsize = (10,5))\n",
    "plt.plot(np.cumsum(np.sum(charge, axis = (0,1))) - np.cumsum(np.sum(charge2, axis = (0,1))), \n",
    "         label = 'withoutH - withH')\n",
    "# plt.ylim(100000, 1700000)\n",
    "plt.legend()"
   ]
  },
  {
   "cell_type": "code",
   "execution_count": null,
   "metadata": {
    "ExecuteTime": {
     "end_time": "2021-04-27T00:24:59.956912Z",
     "start_time": "2021-04-27T00:24:59.741Z"
    }
   },
   "outputs": [],
   "source": [
    "np.sum(np.sum(charge, axis = (0,1)) - np.sum(charge2,axis = (0,1)))"
   ]
  },
  {
   "cell_type": "markdown",
   "metadata": {},
   "source": [
    "# Miscellaneous editing"
   ]
  },
  {
   "cell_type": "code",
   "execution_count": null,
   "metadata": {
    "ExecuteTime": {
     "end_time": "2021-04-27T00:24:59.958001Z",
     "start_time": "2021-04-27T00:24:59.755Z"
    }
   },
   "outputs": [],
   "source": [
    "tempstruct = Atoms(sorted(outstruct, key = lambda atom: atom.position[2]))\n",
    "del outstruct[[atom.index for atom in outstruct]]\n",
    "outstruct += tempstruct\n",
    "outstruct.constraints = FixAtoms(np.arange(32))\n",
    "view(outstruct)"
   ]
  },
  {
   "cell_type": "code",
   "execution_count": null,
   "metadata": {
    "ExecuteTime": {
     "end_time": "2021-04-27T00:24:59.959458Z",
     "start_time": "2021-04-27T00:24:59.764Z"
    }
   },
   "outputs": [],
   "source": [
    "temp = gen.read_gen(\"../thick_amorphous_bottomterm.gen\")\n",
    "order = [atom.index for atom in sorted(temp, key = lambda atom: atom.position[2])]\n",
    "temp.set_constraint(FixAtoms(np.arange(200)))\n",
    "view(temp)"
   ]
  },
  {
   "cell_type": "code",
   "execution_count": null,
   "metadata": {
    "ExecuteTime": {
     "end_time": "2021-04-27T00:24:59.960895Z",
     "start_time": "2021-04-27T00:24:59.773Z"
    }
   },
   "outputs": [],
   "source": [
    "temp = gen.read_gen(\"input.gen\")\n",
    "for atom in temp:\n",
    "    if atom.index >= 627:\n",
    "        atom.position[2] += 15\n",
    "view(temp)\n",
    "gen.write_gen(\"input.gen\", temp)"
   ]
  },
  {
   "cell_type": "code",
   "execution_count": null,
   "metadata": {
    "ExecuteTime": {
     "end_time": "2021-04-27T00:24:59.961822Z",
     "start_time": "2021-04-27T00:24:59.784Z"
    }
   },
   "outputs": [],
   "source": [
    "temp = gen.read_gen(\"../sifrich.gen\")\n",
    "temp.set_constraint(FixAtoms(np.arange(200)))\n",
    "# temp = vasp.read_vasp(\"../CONTCAR\")\n",
    "# add_vacuum(temp, 15)\n",
    "# gen.write_gen(\"../thickamorphous.gen\", temp)\n",
    "# vasp.write_vasp(\"../POSCAR\", temp, sort = True, vasp5 = True)\n",
    "view(temp)\n",
    "# temp.edit()"
   ]
  },
  {
   "cell_type": "code",
   "execution_count": null,
   "metadata": {
    "ExecuteTime": {
     "end_time": "2021-04-27T00:24:59.962614Z",
     "start_time": "2021-04-27T00:24:59.795Z"
    }
   },
   "outputs": [],
   "source": [
    "vasp.write_vasp(\"../POSCAR\", temp, sort = True, vasp5 = True)"
   ]
  },
  {
   "cell_type": "code",
   "execution_count": null,
   "metadata": {
    "ExecuteTime": {
     "end_time": "2021-04-27T00:24:59.963679Z",
     "start_time": "2021-04-27T00:24:59.803Z"
    }
   },
   "outputs": [],
   "source": [
    "view(gen.read_gen(\"input.gen\"))\n",
    "# view(vasp.read_vasp(\"../POSCAR\"))"
   ]
  },
  {
   "cell_type": "markdown",
   "metadata": {},
   "source": [
    "## DB detection"
   ]
  },
  {
   "cell_type": "markdown",
   "metadata": {
    "heading_collapsed": true
   },
   "source": [
    "### For a trajectory"
   ]
  },
  {
   "cell_type": "code",
   "execution_count": null,
   "metadata": {
    "ExecuteTime": {
     "end_time": "2021-04-27T00:24:59.964626Z",
     "start_time": "2021-04-27T00:24:59.818Z"
    },
    "hidden": true
   },
   "outputs": [],
   "source": [
    "traj = xyz.read_xyz(\"../0-0.xyz\", index = slice(0, -1, 1000))\n",
    "traj = [i for i in traj]\n",
    "for i in traj:\n",
    "    i.cell = gen.read_gen(\"../input_hterm.gen\").cell\n",
    "    i.pbc = [True, True, True]\n",
    "view(traj)"
   ]
  },
  {
   "cell_type": "code",
   "execution_count": null,
   "metadata": {
    "ExecuteTime": {
     "end_time": "2021-04-27T00:24:59.965970Z",
     "start_time": "2021-04-27T00:24:59.828Z"
    },
    "hidden": true
   },
   "outputs": [],
   "source": [
    "traj_coord = [coordLabeller(slab, 0, angle_tolerance = 0.25, bond_tolerance = 0.15) for slab in traj]\n",
    "for i, slab in enumerate(traj):\n",
    "    relCoord = traj_coord[i][0]\n",
    "    bonds = traj_coord[i][1]\n",
    "    slab.set_initial_charges([relCoord[atom.index] for atom in slab])\n",
    "view(traj)"
   ]
  },
  {
   "cell_type": "code",
   "execution_count": null,
   "metadata": {
    "ExecuteTime": {
     "end_time": "2021-04-27T00:24:59.967011Z",
     "start_time": "2021-04-27T00:24:59.839Z"
    },
    "hidden": true
   },
   "outputs": [],
   "source": [
    "unders = []\n",
    "overs = []\n",
    "for i, slab in enumerate(traj):\n",
    "    relCoord = traj_coord[i][0]\n",
    "    bonds = traj_coord[i][1]\n",
    "    unders += [np.sum([j == -1 for j in relCoord.values()])]\n",
    "    overs += [np.sum([j == 1 for j in relCoord.values()])]\n",
    "plt.plot(unders, label = 'unders')\n",
    "plt.plot(overs, label = 'overs')\n",
    "plt.legend()\n"
   ]
  },
  {
   "cell_type": "code",
   "execution_count": null,
   "metadata": {
    "ExecuteTime": {
     "end_time": "2021-04-27T00:24:59.968104Z",
     "start_time": "2021-04-27T00:24:59.851Z"
    },
    "hidden": true
   },
   "outputs": [],
   "source": [
    "fullbonds = {\"Si\": 4, \"N\": 3, \"H\":1, \"Ar\": 0}\n",
    "coordinationlists = {}\n",
    "for i in np.arange(-3, 4):\n",
    "    coordinationlists[i] = []\n",
    "\n",
    "for i, slab in enumerate(traj):\n",
    "    bonds = traj_coord[i][1]\n",
    "    charges = {}\n",
    "    for atom in slab:\n",
    "        idx = atom.index\n",
    "        species = atom.symbol\n",
    "        numbonds = len(bonds[idx])\n",
    "        charges[idx] = numbonds - fullbonds[species]\n",
    "    for i in coordinationlists.keys():\n",
    "        coordinationlists[i] += [sum([charges[j] == i for j in charges.keys()])]\n",
    "    \n",
    "    \n",
    "# slab.set_initial_charges([charges[atom.index] for atom in slab])\n",
    "# view(traj)\n",
    "        \n",
    "for i, values in coordinationlists.items():\n",
    "    if i == 0:\n",
    "        continue\n",
    "    plt.plot(np.linspace(0, 10, 22), np.array(values)/len(slab), label = i)\n",
    "plt.legend()\n",
    "plt.title(\"Coordination defects vs time\")\n",
    "plt.xlabel(\"bombardment progress\")\n",
    "plt.ylabel(\"number of atoms with {#} coordination defects\")\n",
    "        "
   ]
  },
  {
   "cell_type": "code",
   "execution_count": null,
   "metadata": {
    "ExecuteTime": {
     "end_time": "2021-04-27T00:24:59.969241Z",
     "start_time": "2021-04-27T00:24:59.858Z"
    },
    "hidden": true
   },
   "outputs": [],
   "source": [
    "np.unique(list(charges.values()))"
   ]
  },
  {
   "cell_type": "markdown",
   "metadata": {},
   "source": [
    "### For single structure"
   ]
  },
  {
   "cell_type": "code",
   "execution_count": null,
   "metadata": {
    "ExecuteTime": {
     "end_time": "2021-04-27T00:24:59.970329Z",
     "start_time": "2021-04-27T00:24:59.869Z"
    }
   },
   "outputs": [],
   "source": [
    "slab = gen.read_gen(\"../geom.out.gen\")\n",
    "# view(slab)"
   ]
  },
  {
   "cell_type": "code",
   "execution_count": null,
   "metadata": {
    "ExecuteTime": {
     "end_time": "2021-04-27T00:24:59.971433Z",
     "start_time": "2021-04-27T00:24:59.877Z"
    }
   },
   "outputs": [],
   "source": [
    "coords = coordLabeller(slab, 0, angle_tolerance = 0.15, bond_tolerance = 0.25, minz = 15)"
   ]
  },
  {
   "cell_type": "code",
   "execution_count": null,
   "metadata": {
    "ExecuteTime": {
     "end_time": "2021-04-27T00:24:59.972471Z",
     "start_time": "2021-04-27T00:24:59.885Z"
    }
   },
   "outputs": [],
   "source": [
    "slab.set_initial_charges([coords[0][atom.index] for atom in slab])\n",
    "view(slab)"
   ]
  },
  {
   "cell_type": "code",
   "execution_count": null,
   "metadata": {
    "ExecuteTime": {
     "end_time": "2021-04-27T00:24:59.973348Z",
     "start_time": "2021-04-27T00:24:59.893Z"
    }
   },
   "outputs": [],
   "source": [
    ".85 * 90"
   ]
  },
  {
   "cell_type": "code",
   "execution_count": null,
   "metadata": {
    "ExecuteTime": {
     "end_time": "2021-04-27T00:24:59.974088Z",
     "start_time": "2021-04-27T00:24:59.901Z"
    }
   },
   "outputs": [],
   "source": [
    "coords[1][533]"
   ]
  },
  {
   "cell_type": "code",
   "execution_count": null,
   "metadata": {
    "ExecuteTime": {
     "end_time": "2021-04-27T00:24:59.975508Z",
     "start_time": "2021-04-27T00:24:59.909Z"
    },
    "scrolled": true
   },
   "outputs": [],
   "source": [
    "for tol in np.arange(0, .5, .05):\n",
    "    slab = gen.read_gen(\"../input_hterm.gen\") #crystalline, more bomb\n",
    "    slab = traj[0]\n",
    "    relCoord, bonds = coordLabeller(slab, 0, angle_tolerance=.25, bond_tolerance = tol)\n",
    "    slab.set_initial_charges([relCoord[atom.index] for atom in slab])\n",
    "    print(\"tol: \", tol, \"defects: \", sum([abs(i) for i in relCoord.values()]))\n",
    "    # slab.edit()\n",
    "    # view(slab)\n"
   ]
  },
  {
   "cell_type": "markdown",
   "metadata": {},
   "source": [
    "### For collection of geometries"
   ]
  },
  {
   "cell_type": "code",
   "execution_count": null,
   "metadata": {
    "ExecuteTime": {
     "end_time": "2021-04-27T00:24:59.976702Z",
     "start_time": "2021-04-27T00:24:59.920Z"
    }
   },
   "outputs": [],
   "source": [
    "[atom.symbol == \"Si\" and atom.position[2] > 15 for atom in amorphous]/[atom.symbol == \"Si\" and atom.position[2] > 15 for atom in amorphous]"
   ]
  },
  {
   "cell_type": "code",
   "execution_count": null,
   "metadata": {
    "ExecuteTime": {
     "end_time": "2021-04-27T00:24:59.977872Z",
     "start_time": "2021-04-27T00:24:59.928Z"
    }
   },
   "outputs": [],
   "source": [
    "for i in [19]:\n",
    "    surface = False\n",
    "    subset = False\n",
    "    zcut = 10\n",
    "    datadir = \"../bomb{}_results/\".format(i) #bare bombardment, v0.13 = 35.0 eV, 0.135 = 37.7 eV, .14 = 40.55 eV\n",
    "    geometries = {}\n",
    "    for i in os.listdir(datadir):\n",
    "        if \".gen\" in i:\n",
    "            key = re.search(r\"\\d+-\\d+\", i)\n",
    "            if key:\n",
    "                key = key.group(0)\n",
    "                geometries[key] =  gen.read_gen(datadir + i)\n",
    "\n",
    "    #subset:\n",
    "    if subset:\n",
    "        np.random.seed(429)\n",
    "        choices = np.random.choice(list(geometries.keys()), size = 50)\n",
    "        geometries = {choice: geometries[choice] for choice in choices}\n",
    "\n",
    "    if surface:\n",
    "        for key, value in geometries.items():\n",
    "            geometries[key] = value[[atom.position[2] > zcut for atom in value]]\n",
    "    \n",
    "    simean = np.mean([\n",
    "        np.sum(\n",
    "            [atom.symbol == \"Si\" and atom.position[2] > 15 for atom in g]\n",
    "        ) for g in geometries.values()\n",
    "    ])\n",
    "    sistd = np.std([\n",
    "        np.sum(\n",
    "            [atom.symbol == \"Si\" and atom.position[2] > 15 for atom in g]\n",
    "        ) for g in geometries.values()\n",
    "    ])\n",
    "    nmean = np.mean([\n",
    "        np.sum(\n",
    "            [atom.symbol == \"N\" and atom.position[2] > 15 for atom in g]\n",
    "        ) for g in geometries.values()\n",
    "    ])\n",
    "    nstd = np.std([\n",
    "        np.sum(\n",
    "            [atom.symbol == \"N\" and atom.position[2] > 15 for atom in g]\n",
    "        ) for g in geometries.values()\n",
    "    ])\n",
    "    print(simean/nmean, simean, nmean, sistd, nstd)"
   ]
  },
  {
   "cell_type": "code",
   "execution_count": null,
   "metadata": {
    "ExecuteTime": {
     "end_time": "2021-04-27T00:24:59.978758Z",
     "start_time": "2021-04-27T00:24:59.936Z"
    }
   },
   "outputs": [],
   "source": [
    "maxz = np.max([atom.position[2] for atom in amorphous])\n",
    "np.sum([atom.position[2] > maxz - 6 for atom in amorphous])"
   ]
  },
  {
   "cell_type": "code",
   "execution_count": null,
   "metadata": {
    "ExecuteTime": {
     "end_time": "2021-04-27T00:24:59.980088Z",
     "start_time": "2021-04-27T00:24:59.945Z"
    }
   },
   "outputs": [],
   "source": [
    "simean"
   ]
  },
  {
   "cell_type": "code",
   "execution_count": 45,
   "metadata": {
    "ExecuteTime": {
     "end_time": "2021-04-27T00:25:00.091205Z",
     "start_time": "2021-04-27T00:25:00.082205Z"
    }
   },
   "outputs": [
    {
     "ename": "NameError",
     "evalue": "name 'nmean' is not defined",
     "output_type": "error",
     "traceback": [
      "\u001b[0;31m---------------------------------------------------------------------------\u001b[0m",
      "\u001b[0;31mNameError\u001b[0m                                 Traceback (most recent call last)",
      "\u001b[0;32m<ipython-input-45-cc9a40fadc53>\u001b[0m in \u001b[0;36m<module>\u001b[0;34m\u001b[0m\n\u001b[1;32m      1\u001b[0m np.sqrt(\n\u001b[0;32m----> 2\u001b[0;31m     \u001b[0;34m(\u001b[0m\u001b[0;36m1\u001b[0m\u001b[0;34m/\u001b[0m\u001b[0mnmean\u001b[0m \u001b[0;34m*\u001b[0m \u001b[0msistd\u001b[0m\u001b[0;34m)\u001b[0m\u001b[0;34m**\u001b[0m\u001b[0;36m2\u001b[0m\u001b[0;31m \u001b[0m\u001b[0;31m\\\u001b[0m\u001b[0;34m\u001b[0m\u001b[0;34m\u001b[0m\u001b[0m\n\u001b[0m\u001b[1;32m      3\u001b[0m     \u001b[0;34m+\u001b[0m \u001b[0;34m(\u001b[0m\u001b[0;34m-\u001b[0m\u001b[0msimean\u001b[0m\u001b[0;34m/\u001b[0m\u001b[0mnmean\u001b[0m\u001b[0;34m**\u001b[0m\u001b[0;36m2\u001b[0m \u001b[0;34m*\u001b[0m \u001b[0mnstd\u001b[0m\u001b[0;34m)\u001b[0m\u001b[0;34m**\u001b[0m\u001b[0;36m2\u001b[0m\u001b[0;34m\u001b[0m\u001b[0;34m\u001b[0m\u001b[0m\n\u001b[1;32m      4\u001b[0m )\n",
      "\u001b[0;31mNameError\u001b[0m: name 'nmean' is not defined"
     ]
    }
   ],
   "source": [
    "np.sqrt(\n",
    "    (1/nmean * sistd)**2 \\\n",
    "    + (-simean/nmean**2 * nstd)**2\n",
    ")"
   ]
  },
  {
   "cell_type": "code",
   "execution_count": null,
   "metadata": {
    "ExecuteTime": {
     "end_time": "2021-04-27T00:25:00.093210Z",
     "start_time": "2021-04-27T00:24:59.962Z"
    }
   },
   "outputs": [],
   "source": [
    "view(list(geometries.values()))\n"
   ]
  },
  {
   "cell_type": "code",
   "execution_count": null,
   "metadata": {
    "ExecuteTime": {
     "end_time": "2021-04-27T00:25:00.094310Z",
     "start_time": "2021-04-27T00:24:59.971Z"
    }
   },
   "outputs": [],
   "source": [
    "traj_coord = {key: coordLabeller(slab, 0, angle_tolerance = 0.25, bond_tolerance = 0.15, minz = 15 ) \n",
    "              for key, slab in geometries.items()}"
   ]
  },
  {
   "cell_type": "code",
   "execution_count": null,
   "metadata": {
    "ExecuteTime": {
     "end_time": "2021-04-27T00:25:00.095340Z",
     "start_time": "2021-04-27T00:24:59.980Z"
    }
   },
   "outputs": [],
   "source": [
    "np.mean([np.sum([i.position[2] > 15 for i in g]) for g in geometries.values()])"
   ]
  },
  {
   "cell_type": "code",
   "execution_count": null,
   "metadata": {
    "ExecuteTime": {
     "end_time": "2021-04-27T00:25:00.096573Z",
     "start_time": "2021-04-27T00:24:59.988Z"
    }
   },
   "outputs": [],
   "source": [
    "overs2 = overs\n",
    "unders2 = unders"
   ]
  },
  {
   "cell_type": "code",
   "execution_count": null,
   "metadata": {
    "ExecuteTime": {
     "end_time": "2021-04-27T00:25:00.097463Z",
     "start_time": "2021-04-27T00:24:59.996Z"
    }
   },
   "outputs": [],
   "source": [
    "overs9 = overs\n",
    "unders9 = unders "
   ]
  },
  {
   "cell_type": "code",
   "execution_count": null,
   "metadata": {
    "ExecuteTime": {
     "end_time": "2021-04-27T00:25:00.098758Z",
     "start_time": "2021-04-27T00:25:00.004Z"
    }
   },
   "outputs": [],
   "source": [
    "overs16 = overs\n",
    "unders16 = unders"
   ]
  },
  {
   "cell_type": "code",
   "execution_count": null,
   "metadata": {
    "ExecuteTime": {
     "end_time": "2021-04-27T00:25:00.099673Z",
     "start_time": "2021-04-27T00:25:00.013Z"
    }
   },
   "outputs": [],
   "source": [
    "np.mean(unders2), np.mean(unders9), np.mean(unders16)"
   ]
  },
  {
   "cell_type": "code",
   "execution_count": null,
   "metadata": {
    "ExecuteTime": {
     "end_time": "2021-04-27T00:25:00.100586Z",
     "start_time": "2021-04-27T00:25:00.021Z"
    }
   },
   "outputs": [],
   "source": [
    "np.mean(unders)"
   ]
  },
  {
   "cell_type": "code",
   "execution_count": null,
   "metadata": {
    "ExecuteTime": {
     "end_time": "2021-04-27T00:25:00.101880Z",
     "start_time": "2021-04-27T00:25:00.030Z"
    }
   },
   "outputs": [],
   "source": [
    "y = [0.7391304347826086,\n",
    "     0.7614574437802448,\n",
    "0.7821693907875186,\n",
    "0.8032886723507917,\n",
    "0.8215845290081097\n",
    "    ]\n",
    "plt.figure(figsize = (4,3))\n",
    "plt.title(\"Si:N ratio as a function of simulated bombardment events\")\n",
    "plt.ylabel(\"Si:N ratio\")\n",
    "plt.xlabel(\"# of bombardments\")\n",
    "plt.xticks(np.arange(0,21, 5))\n",
    "plt.scatter(x, y)\n",
    "plt.savefig(\"sinratio.png\", dpi = 400, bbox_inches = 'tight')"
   ]
  },
  {
   "cell_type": "code",
   "execution_count": 9,
   "metadata": {
    "ExecuteTime": {
     "end_time": "2021-06-18T21:35:31.208916Z",
     "start_time": "2021-06-18T21:35:30.289585Z"
    }
   },
   "outputs": [
    {
     "data": {
      "image/png": "[encoded data removed]",
      "text/plain": [
       "<Figure size 288x216 with 1 Axes>"
      ]
     },
     "metadata": {
      "needs_background": "light"
     },
     "output_type": "display_data"
    }
   ],
   "source": [
    "import numpy as np\n",
    "import matplotlib.pyplot as plt\n",
    "from scipy.optimize import curve_fit\n",
    "from scipy.special import expit\n",
    "def f(x, a, b, c):\n",
    "    return a * x**(1/c) + b\n",
    "\n",
    "# def f(x, a, b, c):\n",
    "#     return a * expit(x) + b\n",
    "\n",
    "x = [0, 2,9, 15, 20]\n",
    "y = [0, 21.7, 27.4, 30.78, 32.5] # percent of coordination defects\n",
    "# y = [3/4, \n",
    "#      0.7614574437802448,\n",
    "# 0.7821693907875186,\n",
    "# 0.8032886723507917,\n",
    "# 0.8215845290081097\n",
    "#     ] # Si stoichiometry\n",
    "params = curve_fit(f, x, y)[0]\n",
    "plt.figure(figsize = (4,3))\n",
    "plotx = np.arange(0, 300, 10)\n",
    "plt.scatter(x, y)\n",
    "plt.title(\"% surface defect density \\n as a function of simulated bombardment events\")\n",
    "plt.ylabel(\"%  defect density\\n (#defects/#atoms)\")\n",
    "plt.xlabel(\"# of bombardments\")\n",
    "plt.plot(plotx, f(plotx, *params))\n",
    "plt.savefig(\"defectdensity.png\", bbox_inches = 'tight', dpi = 400)"
   ]
  },
  {
   "cell_type": "code",
   "execution_count": 2,
   "metadata": {
    "ExecuteTime": {
     "end_time": "2021-06-18T21:30:54.848710Z",
     "start_time": "2021-06-18T21:30:54.843053Z"
    }
   },
   "outputs": [
    {
     "data": {
      "text/plain": [
       "array([1.89587823e+01, 1.06483910e-02, 5.63896493e+00])"
      ]
     },
     "execution_count": 2,
     "metadata": {},
     "output_type": "execute_result"
    }
   ],
   "source": [
    "params"
   ]
  },
  {
   "cell_type": "code",
   "execution_count": null,
   "metadata": {
    "ExecuteTime": {
     "end_time": "2021-04-27T00:25:00.104635Z",
     "start_time": "2021-04-27T00:25:00.054Z"
    }
   },
   "outputs": [],
   "source": [
    "overs = [np.sum([i == 1 for i in relCoord.values()]) for relCoord, bonds in traj_coord.values()]\n",
    "unders = [np.sum([i == -1 for i in relCoord.values()]) for relCoord, bonds in traj_coord.values()]\n",
    "plt.figure(figsize = (5, 10))\n",
    "plt.boxplot(np.array([overs,unders]).T, labels = ['overcoordinated', 'undercoordinated'], );\n",
    "# plt.yticks(np.arange(0, 25, 2));"
   ]
  },
  {
   "cell_type": "markdown",
   "metadata": {
    "heading_collapsed": true
   },
   "source": [
    "### From saved data"
   ]
  },
  {
   "cell_type": "code",
   "execution_count": null,
   "metadata": {
    "ExecuteTime": {
     "end_time": "2021-04-27T00:25:00.105726Z",
     "start_time": "2021-04-27T00:25:00.066Z"
    },
    "hidden": true
   },
   "outputs": [],
   "source": [
    "coordination_tables = [pd.read_csv(\"coordination_table%d.csv\" % i, index_col = 0) for i in range(7)]"
   ]
  },
  {
   "cell_type": "code",
   "execution_count": null,
   "metadata": {
    "ExecuteTime": {
     "end_time": "2021-04-27T00:25:00.106647Z",
     "start_time": "2021-04-27T00:25:00.075Z"
    },
    "hidden": true
   },
   "outputs": [],
   "source": [
    "relative_coordinations = [pd.read_csv(\"relativeCoordinations%d.csv\" % i, index_col = 0) for i in range(7)]"
   ]
  },
  {
   "cell_type": "code",
   "execution_count": null,
   "metadata": {
    "ExecuteTime": {
     "end_time": "2021-04-27T00:25:00.108222Z",
     "start_time": "2021-04-27T00:25:00.083Z"
    },
    "hidden": true
   },
   "outputs": [],
   "source": [
    "coordination_tables[0]"
   ]
  },
  {
   "cell_type": "code",
   "execution_count": 46,
   "metadata": {
    "ExecuteTime": {
     "end_time": "2021-04-27T00:25:00.220939Z",
     "start_time": "2021-04-27T00:25:00.210702Z"
    },
    "hidden": true,
    "scrolled": true
   },
   "outputs": [
    {
     "ename": "NameError",
     "evalue": "name 'relative_coordinations' is not defined",
     "output_type": "error",
     "traceback": [
      "\u001b[0;31m---------------------------------------------------------------------------\u001b[0m",
      "\u001b[0;31mNameError\u001b[0m                                 Traceback (most recent call last)",
      "\u001b[0;32m<ipython-input-46-3936c86060fd>\u001b[0m in \u001b[0;36m<module>\u001b[0;34m\u001b[0m\n\u001b[0;32m----> 1\u001b[0;31m \u001b[0mrelative_coordinations\u001b[0m\u001b[0;34m[\u001b[0m\u001b[0;36m0\u001b[0m\u001b[0;34m]\u001b[0m\u001b[0;34m\u001b[0m\u001b[0;34m\u001b[0m\u001b[0m\n\u001b[0m",
      "\u001b[0;31mNameError\u001b[0m: name 'relative_coordinations' is not defined"
     ]
    }
   ],
   "source": [
    "relative_coordinations[0]"
   ]
  },
  {
   "cell_type": "code",
   "execution_count": null,
   "metadata": {
    "ExecuteTime": {
     "end_time": "2021-04-27T00:25:00.222859Z",
     "start_time": "2021-04-27T00:25:00.101Z"
    },
    "hidden": true,
    "scrolled": true
   },
   "outputs": [],
   "source": [
    "coordination_zs = []\n",
    "for i, tbl in enumerate(relative_coordinations):\n",
    "    undercoordinated_z = []\n",
    "    overcoordinated_z = []\n",
    "    fully_coordinated_z = []\n",
    "    for trial in tbl.columns:\n",
    "        struct = gen.read_gen(\"../bomb%d/output%s.gen\" % (i, trial))\n",
    "        for idx in tbl.index:\n",
    "            if tbl[trial][idx] == -1:\n",
    "                zloc = struct[idx].z\n",
    "                if zloc > 0 and zloc < 13:\n",
    "                    undercoordinated_z += [zloc]\n",
    "            elif tbl[trial][idx] == 0:\n",
    "                zloc = struct[idx].z\n",
    "                if zloc > 0 and zloc < 13:\n",
    "                    fully_coordinated_z += [zloc]\n",
    "    coordination_zs += [(undercoordinated_z, overcoordinated_z, fully_coordinated_z)]"
   ]
  },
  {
   "cell_type": "code",
   "execution_count": null,
   "metadata": {
    "ExecuteTime": {
     "end_time": "2021-04-27T00:25:00.223880Z",
     "start_time": "2021-04-27T00:25:00.113Z"
    },
    "hidden": true,
    "scrolled": false
   },
   "outputs": [],
   "source": [
    "sns.set_theme(style=\"darkgrid\")\n",
    "for i, t in enumerate(coordination_zs):\n",
    "    if i % 2 != 0:\n",
    "        continue\n",
    "    u, o, f = t\n",
    "#     sns.kdeplot(u, bw_adjust = 0.1, label = 'undercoordinated atoms')\n",
    "#     sns.kdeplot(u, bw_adjust = 0.05, label = 'full - %d' % i, common_norm=True)\n",
    "    plt.hist(u, bins = np.arange(0, 13, 0.05), density = False, \n",
    "             histtype=u'step', label = 'batch %d' %i)\n",
    "#     print(min(u), max(u))\n",
    "    plt.legend()\n",
    "    plt.xlim(5, 13)\n",
    "    plt.ylim(0, 700)\n",
    "    plt.xlabel(\"z (Å)\")\n",
    "    plt.ylabel(\"density\")\n",
    "    plt.title(\"Total of undercoordinated atoms by batch\")"
   ]
  },
  {
   "cell_type": "code",
   "execution_count": null,
   "metadata": {
    "ExecuteTime": {
     "end_time": "2021-04-27T00:25:00.225196Z",
     "start_time": "2021-04-27T00:25:00.122Z"
    },
    "hidden": true
   },
   "outputs": [],
   "source": [
    "sns.set_theme(style=\"darkgrid\")\n",
    "for i, t in enumerate(coordination_zs):\n",
    "    if i % 2 != 0:\n",
    "        continue\n",
    "    u, o, f = t\n",
    "#     sns.kdeplot(u, bw_adjust = 0.1, label = 'undercoordinated atoms')\n",
    "#     sns.kdeplot(u, bw_adjust = 0.05, label = 'full - %d' % i, common_norm=True)\n",
    "    plt.hist(f, bins = np.arange(0, 13, 0.05), density = False, \n",
    "             histtype=u'step', label = 'full - %d' %i)\n",
    "#     print(min(u), max(u))\n",
    "    plt.legend()\n",
    "#     plt.xlim(0, 5)\n",
    "    \n",
    "    plt.xlabel(\"z (Å)\")\n",
    "    plt.ylabel(\"density\")\n",
    "    plt.title(\"Total of fully coordinated atoms by batch\")"
   ]
  },
  {
   "cell_type": "code",
   "execution_count": null,
   "metadata": {
    "ExecuteTime": {
     "end_time": "2021-04-27T00:25:00.226158Z",
     "start_time": "2021-04-27T00:25:00.130Z"
    },
    "hidden": true,
    "scrolled": false
   },
   "outputs": [],
   "source": [
    "# show distribution of undercoordination as a function of z\n",
    "import seaborn as sns\n",
    "# sns.set_theme(style=\"darkgrid\")\n",
    "\n",
    "path1 = \"../hterm_final.gen\"\n",
    "path2 = \"../amorphous_bombed_0.gen\"\n",
    "test1 = gen.read_gen(path1).copy()\n",
    "test2 = gen.read_gen(path2).copy()\n",
    "del test1[[atom.index for atom in test1 if atom.symbol not in [\"Si\", \"N\"]]]\n",
    "del test2[[atom.index for atom in test2 if atom.symbol not in [\"Si\", \"N\"]]]\n",
    "\n",
    "\n",
    "zs1 = [atom.z for atom in test1]\n",
    "zs2= [atom.z for atom in test2]\n",
    "sns.kdeplot(zs1, bw_adjust = 0.1, label = 'amorphous')\n",
    "sns.kdeplot(zs2, bw_adjust = 0.1, label = 'amorphous, bombed 0')\n",
    "plt.legend()\n",
    "plt.xlabel(\"z (Å)\")\n",
    "plt.ylabel(\"density\")\n",
    "plt.title(\"Z distribution of Si, N atoms in amorphous bombardment\")"
   ]
  },
  {
   "cell_type": "code",
   "execution_count": null,
   "metadata": {
    "ExecuteTime": {
     "end_time": "2021-04-27T00:25:00.226955Z",
     "start_time": "2021-04-27T00:25:00.138Z"
    },
    "hidden": true
   },
   "outputs": [],
   "source": [
    "bombfiles = [\"../bomb%d/\" % i for i in np.arange(7)]\n",
    "coordination_tables = []\n",
    "relCoords_all = []\n",
    "bonds_all = []\n",
    "for datadir in bombfiles:\n",
    "    coordination_dict = {}\n",
    "    relCoord_dict = {}\n",
    "    bonds_dict = {}\n",
    "    for i in os.listdir(datadir):\n",
    "        if \".gen\" in i:\n",
    "            key = re.search(r\"\\d+-\\d+\", i)\n",
    "            if key:\n",
    "                key = key.group(0)\n",
    "                struct = gen.read_gen(datadir + i)\n",
    "                relativeCoordinations, bonds = coordLabeller(struct, image = 0)\n",
    "                relcounts = {\n",
    "                    \"undercoordinated\": len([i for i in relativeCoordinations.values() if i == -1]),\n",
    "                    \"overcoordinated\": len([i for i in relativeCoordinations.values() if i == 1]),\n",
    "                    \"fully coordinated\": len([i for i in relativeCoordinations.values() if i == 0])}\n",
    "                coordination_dict[key] = relcounts\n",
    "                relCoord_dict[key] = relativeCoordinations\n",
    "                bonds_dict[key] = bonds\n",
    "    coordination_tables += [pd.DataFrame(coordination_dict)]\n",
    "    relCoords_all += [pd.DataFrame(relCoord_dict)]\n",
    "    bonds_all += [pd.DataFrame(bonds_dict)]\n",
    "    "
   ]
  },
  {
   "cell_type": "code",
   "execution_count": null,
   "metadata": {
    "ExecuteTime": {
     "end_time": "2021-04-27T00:25:00.228024Z",
     "start_time": "2021-04-27T00:25:00.146Z"
    },
    "hidden": true
   },
   "outputs": [],
   "source": [
    "for i in coordination_tables:\n",
    "    print(i.mean(axis = 1))\n",
    "plotx = np.arange(7)\n",
    "plt.plot(plotx, [i.mean(axis = 1)['undercoordinated'] for i in coordination_tables], label = 'undercoordinated')\n",
    "plt.plot(plotx, [i.mean(axis = 1)['overcoordinated'] for i in coordination_tables], label = 'overcoordinated')\n",
    "plt.plot(plotx, [i.mean(axis = 1)['fully coordinated'] for i in coordination_tables], label = 'fully coordinated')\n",
    "plt.legend()\n",
    "plt.xlabel(\"\")"
   ]
  },
  {
   "cell_type": "code",
   "execution_count": null,
   "metadata": {
    "ExecuteTime": {
     "end_time": "2021-04-27T00:25:00.228805Z",
     "start_time": "2021-04-27T00:25:00.155Z"
    },
    "hidden": true
   },
   "outputs": [],
   "source": [
    "from ase.neighborlist import neighbor_list\n",
    "nl = neighbor_list('i', slab, \n",
    "              cutoff = {\n",
    "                  (\"Si\", \"Si\"): 2.6,\n",
    "                  (\"Si\", \"H\"): 1.82002,\n",
    "                  (\"Si\", \"N\"): 2.12002,\n",
    "                  (\"N\", \"N\"): 1.8826,\n",
    "                  (\"H\", \"N\"): 1.2,\n",
    "              }\n",
    "             )\n",
    "print(np.bincount(nl))"
   ]
  },
  {
   "cell_type": "code",
   "execution_count": null,
   "metadata": {
    "ExecuteTime": {
     "end_time": "2021-04-27T00:25:00.229810Z",
     "start_time": "2021-04-27T00:25:00.163Z"
    },
    "hidden": true,
    "scrolled": true
   },
   "outputs": [],
   "source": [
    "#amorphous editing\n",
    "# slab = gen.read_gen(\"../amorphous_input.gen\")\n",
    "# slab = gen.read_gen(\"../amorphous_input_hterm.gen\")\n",
    "amorphous_slab = gen.read_gen(\"../geom.out.gen\")\n",
    "slab.constraints = FixAtoms(np.arange(80))\n",
    "# view(slab)\n",
    "# slab.edit()"
   ]
  },
  {
   "cell_type": "code",
   "execution_count": null,
   "metadata": {
    "ExecuteTime": {
     "end_time": "2021-04-27T00:25:00.231119Z",
     "start_time": "2021-04-27T00:25:00.171Z"
    },
    "hidden": true
   },
   "outputs": [],
   "source": [
    "view(slab)"
   ]
  },
  {
   "cell_type": "code",
   "execution_count": null,
   "metadata": {
    "ExecuteTime": {
     "end_time": "2021-04-27T00:25:00.231961Z",
     "start_time": "2021-04-27T00:25:00.179Z"
    },
    "hidden": true
   },
   "outputs": [],
   "source": [
    "view(heavy_bomb)"
   ]
  },
  {
   "cell_type": "code",
   "execution_count": null,
   "metadata": {
    "ExecuteTime": {
     "end_time": "2021-04-27T00:25:00.233151Z",
     "start_time": "2021-04-27T00:25:00.189Z"
    },
    "hidden": true
   },
   "outputs": [],
   "source": [
    "coordinations = [coordLabeller(slab, image = 0, tolerance = .25) for slab in \n",
    "                 [amorphous_slab, xtl2x2_sifterm, xtl2x2, heavy_bomb]]"
   ]
  },
  {
   "cell_type": "code",
   "execution_count": null,
   "metadata": {
    "ExecuteTime": {
     "end_time": "2021-04-27T00:25:00.234162Z",
     "start_time": "2021-04-27T00:25:00.199Z"
    },
    "hidden": true
   },
   "outputs": [],
   "source": [
    "relcounts = [(\n",
    "    len([i for i in relativeCoordinations.values() if i == -1]),\n",
    "    len([i for i in relativeCoordinations.values() if i == 1]),\n",
    "    len([i for i in relativeCoordinations.values() if i == 0])\n",
    " ) \n",
    " for relativeCoordinations, newBonds in coordinations]"
   ]
  },
  {
   "cell_type": "code",
   "execution_count": null,
   "metadata": {
    "ExecuteTime": {
     "end_time": "2021-04-27T00:25:00.235113Z",
     "start_time": "2021-04-27T00:25:00.208Z"
    },
    "hidden": true
   },
   "outputs": [],
   "source": [
    "relcounts"
   ]
  },
  {
   "cell_type": "code",
   "execution_count": null,
   "metadata": {
    "ExecuteTime": {
     "end_time": "2021-04-27T00:25:00.235862Z",
     "start_time": "2021-04-27T00:25:00.217Z"
    },
    "hidden": true
   },
   "outputs": [],
   "source": [
    "([slab[i] for i, value in coordinations.items() if value == -1])"
   ]
  },
  {
   "cell_type": "code",
   "execution_count": 47,
   "metadata": {
    "ExecuteTime": {
     "end_time": "2021-04-27T00:25:00.346350Z",
     "start_time": "2021-04-27T00:25:00.338033Z"
    },
    "hidden": true
   },
   "outputs": [
    {
     "ename": "NameError",
     "evalue": "name 'coordinations' is not defined",
     "output_type": "error",
     "traceback": [
      "\u001b[0;31m---------------------------------------------------------------------------\u001b[0m",
      "\u001b[0;31mNameError\u001b[0m                                 Traceback (most recent call last)",
      "\u001b[0;32m<ipython-input-47-32eb9b07fd9c>\u001b[0m in \u001b[0;36m<module>\u001b[0;34m\u001b[0m\n\u001b[0;32m----> 1\u001b[0;31m \u001b[0;34m(\u001b[0m\u001b[0;34m[\u001b[0m\u001b[0mslab\u001b[0m\u001b[0;34m[\u001b[0m\u001b[0mi\u001b[0m\u001b[0;34m]\u001b[0m \u001b[0;32mfor\u001b[0m \u001b[0mi\u001b[0m\u001b[0;34m,\u001b[0m \u001b[0mvalue\u001b[0m \u001b[0;32min\u001b[0m \u001b[0mcoordinations\u001b[0m\u001b[0;34m.\u001b[0m\u001b[0mitems\u001b[0m\u001b[0;34m(\u001b[0m\u001b[0;34m)\u001b[0m \u001b[0;32mif\u001b[0m \u001b[0mvalue\u001b[0m \u001b[0;34m==\u001b[0m \u001b[0;36m1\u001b[0m\u001b[0;34m]\u001b[0m\u001b[0;34m)\u001b[0m\u001b[0;34m\u001b[0m\u001b[0;34m\u001b[0m\u001b[0m\n\u001b[0m",
      "\u001b[0;31mNameError\u001b[0m: name 'coordinations' is not defined"
     ]
    }
   ],
   "source": [
    "([slab[i] for i, value in coordinations.items() if value == 1])"
   ]
  },
  {
   "cell_type": "code",
   "execution_count": null,
   "metadata": {
    "ExecuteTime": {
     "end_time": "2021-04-27T00:25:00.348063Z",
     "start_time": "2021-04-27T00:25:00.236Z"
    },
    "hidden": true,
    "scrolled": false
   },
   "outputs": [],
   "source": [
    "print(len([slab[i] for i, value in coordinations.items() if value == -1]))\n",
    "print(len([slab[i] for i, value in coordinations.items() if value == 1]))"
   ]
  },
  {
   "cell_type": "code",
   "execution_count": null,
   "metadata": {
    "ExecuteTime": {
     "end_time": "2021-04-27T00:25:00.349280Z",
     "start_time": "2021-04-27T00:25:00.245Z"
    },
    "hidden": true,
    "scrolled": false
   },
   "outputs": [],
   "source": [
    "coordinations, undercoordinated =  coordLabeller(slab)\n",
    "slab.set_initial_charges([int(coordinations[atom.index]) for atom in slab])\n",
    "view(slab)\n",
    "# sum([atom.charge for atom in slab])\n",
    "# slab.edit()"
   ]
  },
  {
   "cell_type": "code",
   "execution_count": null,
   "metadata": {
    "ExecuteTime": {
     "end_time": "2021-04-27T00:25:00.350261Z",
     "start_time": "2021-04-27T00:25:00.252Z"
    },
    "hidden": true
   },
   "outputs": [],
   "source": [
    "#EUV slab, no SCC\n",
    "energies = pd.read_csv(\"../euv/f2adsorbed/energies\", header = None)\n",
    "reference = -11015.3982\n",
    "f2ref = -234.4398\n",
    "energies = energies - reference - f2ref\n",
    "energies.describe()"
   ]
  },
  {
   "cell_type": "code",
   "execution_count": null,
   "metadata": {
    "ExecuteTime": {
     "end_time": "2021-04-27T00:25:00.351482Z",
     "start_time": "2021-04-27T00:25:00.261Z"
    },
    "hidden": true
   },
   "outputs": [],
   "source": [
    "#EUV slab, no SCC\n",
    "energies = pd.read_csv(\"../euv/fadsorbed/energies\", header = None)\n",
    "reference = -11015.3982\n",
    "# fref = -115.2462\n",
    "fref = f2ref/2 \n",
    "energies = energies - reference - fref\n",
    "energies.describe()"
   ]
  },
  {
   "cell_type": "code",
   "execution_count": null,
   "metadata": {
    "ExecuteTime": {
     "end_time": "2021-04-27T00:25:00.352550Z",
     "start_time": "2021-04-27T00:25:00.269Z"
    },
    "hidden": true
   },
   "outputs": [],
   "source": [
    "temp = gen.read_gen(\"../newinput.gen\")\n",
    "temp.constraints = FixAtoms(np.arange(80))\n",
    "# constrainedindices = np.concatenate((np.arange(4, 25), \n",
    "#                                     np.arange(29,69),\n",
    "#                                     np.arange(72, 93),\n",
    "#                                     np.arange(97, 137),\n",
    "#                                     np.arange(140, 161),\n",
    "#                                     np.arange(165, 205),\n",
    "#                                     np.arange(208, 229),\n",
    "#                                     np.arange(233, len(temp))\n",
    "#                                    ))\n",
    "# temp.constraints = FixAtoms(constrainedindices)\n",
    "view(temp)\n",
    "# temp.edit()"
   ]
  },
  {
   "cell_type": "code",
   "execution_count": null,
   "metadata": {
    "ExecuteTime": {
     "end_time": "2021-04-27T00:25:00.353785Z",
     "start_time": "2021-04-27T00:25:00.278Z"
    },
    "hidden": true
   },
   "outputs": [],
   "source": [
    "view(gen.read_gen(\"../input.gen\"))"
   ]
  },
  {
   "cell_type": "code",
   "execution_count": null,
   "metadata": {
    "ExecuteTime": {
     "end_time": "2021-04-27T00:25:00.354840Z",
     "start_time": "2021-04-27T00:25:00.286Z"
    },
    "hidden": true
   },
   "outputs": [],
   "source": [
    "gen.write_gen(\"../input.gen\", vasp.read_vasp(\"../CONTCAR_amorphous\"))"
   ]
  },
  {
   "cell_type": "code",
   "execution_count": null,
   "metadata": {
    "ExecuteTime": {
     "end_time": "2021-04-27T00:25:00.355874Z",
     "start_time": "2021-04-27T00:25:00.294Z"
    },
    "hidden": true
   },
   "outputs": [],
   "source": [
    "gen.write_gen(\"../h2nsif3.gen\", list(xyz.read_xyz(\"../h2nsif3.xyz\"))[0])"
   ]
  },
  {
   "cell_type": "code",
   "execution_count": null,
   "metadata": {
    "ExecuteTime": {
     "end_time": "2021-04-27T00:25:00.356864Z",
     "start_time": "2021-04-27T00:25:00.303Z"
    },
    "hidden": true
   },
   "outputs": [],
   "source": [
    "view(gen.read_gen(\"../h2nsif3.gen\"))"
   ]
  },
  {
   "cell_type": "code",
   "execution_count": null,
   "metadata": {
    "ExecuteTime": {
     "end_time": "2021-04-27T00:25:00.357843Z",
     "start_time": "2021-04-27T00:25:00.311Z"
    },
    "hidden": true
   },
   "outputs": [],
   "source": [
    "temp = gen.read_gen(\"../h2nsif3.gen\")\n",
    "temp.cell = Cell(np.array([[15,0,0],\n",
    "                  [0,15,0],\n",
    "                  [0,0,15]], dtype = float)\n",
    "                  )\n",
    "temp.pbc = True\n",
    "# vasp.write_vasp(\"../POSCAR\", temp, sort=True, vasp5=True)\n",
    "gen.write_gen(\"../h2nsif3.gen\", temp)"
   ]
  },
  {
   "cell_type": "code",
   "execution_count": null,
   "metadata": {
    "ExecuteTime": {
     "end_time": "2021-04-27T00:25:00.358991Z",
     "start_time": "2021-04-27T00:25:00.319Z"
    },
    "hidden": true
   },
   "outputs": [],
   "source": [
    "temp = list(xyz.read_xyz(\"../anneal0-0.xyz\", slice(0, -1)))\n",
    "for i in temp:\n",
    "    i.cell = xtl2x2.cell\n",
    "view(temp)"
   ]
  },
  {
   "cell_type": "code",
   "execution_count": null,
   "metadata": {
    "ExecuteTime": {
     "end_time": "2021-04-27T00:25:00.360090Z",
     "start_time": "2021-04-27T00:25:00.328Z"
    },
    "hidden": true
   },
   "outputs": [],
   "source": [
    "hindices = [atom.index for atom in temp[1002] if atom.symbol == \"H\"]\n",
    "hpositions = []\n",
    "for frame in temp:\n",
    "    hpositions += [[atom.position for atom in frame[hindices]]]\n",
    "hpositions = np.array(hpositions)"
   ]
  },
  {
   "cell_type": "code",
   "execution_count": null,
   "metadata": {
    "ExecuteTime": {
     "end_time": "2021-04-27T00:25:00.361754Z",
     "start_time": "2021-04-27T00:25:00.337Z"
    },
    "hidden": true
   },
   "outputs": [],
   "source": [
    "hpositions.shape"
   ]
  },
  {
   "cell_type": "markdown",
   "metadata": {
    "hidden": true
   },
   "source": [
    "Sanity check"
   ]
  },
  {
   "cell_type": "code",
   "execution_count": 48,
   "metadata": {
    "ExecuteTime": {
     "end_time": "2021-04-27T00:25:00.474026Z",
     "start_time": "2021-04-27T00:25:00.464048Z"
    },
    "hidden": true
   },
   "outputs": [
    {
     "ename": "NameError",
     "evalue": "name 'temp' is not defined",
     "output_type": "error",
     "traceback": [
      "\u001b[0;31m---------------------------------------------------------------------------\u001b[0m",
      "\u001b[0;31mNameError\u001b[0m                                 Traceback (most recent call last)",
      "\u001b[0;32m<ipython-input-48-c8bf6e2fd19e>\u001b[0m in \u001b[0;36m<module>\u001b[0;34m\u001b[0m\n\u001b[0;32m----> 1\u001b[0;31m \u001b[0mnp\u001b[0m\u001b[0;34m.\u001b[0m\u001b[0mall\u001b[0m\u001b[0;34m(\u001b[0m\u001b[0mnp\u001b[0m\u001b[0;34m.\u001b[0m\u001b[0marray\u001b[0m\u001b[0;34m(\u001b[0m\u001b[0;34m[\u001b[0m\u001b[0matom\u001b[0m\u001b[0;34m.\u001b[0m\u001b[0mposition\u001b[0m \u001b[0;32mfor\u001b[0m \u001b[0matom\u001b[0m \u001b[0;32min\u001b[0m \u001b[0mtemp\u001b[0m\u001b[0;34m[\u001b[0m\u001b[0;36m1002\u001b[0m\u001b[0;34m]\u001b[0m \u001b[0;32mif\u001b[0m \u001b[0matom\u001b[0m\u001b[0;34m.\u001b[0m\u001b[0msymbol\u001b[0m \u001b[0;34m==\u001b[0m \u001b[0;34m'H'\u001b[0m\u001b[0;34m]\u001b[0m\u001b[0;34m)\u001b[0m \u001b[0;34m==\u001b[0m \u001b[0mhpositions\u001b[0m\u001b[0;34m[\u001b[0m\u001b[0;36m1002\u001b[0m\u001b[0;34m,\u001b[0m \u001b[0;34m:\u001b[0m\u001b[0;34m,\u001b[0m \u001b[0;34m:\u001b[0m\u001b[0;34m]\u001b[0m\u001b[0;34m)\u001b[0m\u001b[0;34m\u001b[0m\u001b[0;34m\u001b[0m\u001b[0m\n\u001b[0m",
      "\u001b[0;31mNameError\u001b[0m: name 'temp' is not defined"
     ]
    }
   ],
   "source": [
    "np.all(np.array([atom.position for atom in temp[1002] if atom.symbol == 'H']) == hpositions[1002, :, :])"
   ]
  },
  {
   "cell_type": "code",
   "execution_count": null,
   "metadata": {
    "ExecuteTime": {
     "end_time": "2021-04-27T00:25:00.476000Z",
     "start_time": "2021-04-27T00:25:00.357Z"
    },
    "hidden": true
   },
   "outputs": [],
   "source": [
    "reference_positions = hpositions[2002, :, :]"
   ]
  },
  {
   "cell_type": "code",
   "execution_count": null,
   "metadata": {
    "ExecuteTime": {
     "end_time": "2021-04-27T00:25:00.477106Z",
     "start_time": "2021-04-27T00:25:00.366Z"
    },
    "hidden": true
   },
   "outputs": [],
   "source": [
    "differences = (hpositions - reference_positions)"
   ]
  },
  {
   "cell_type": "code",
   "execution_count": null,
   "metadata": {
    "ExecuteTime": {
     "end_time": "2021-04-27T00:25:00.478090Z",
     "start_time": "2021-04-27T00:25:00.374Z"
    },
    "hidden": true
   },
   "outputs": [],
   "source": [
    "distances = np.sum(differences**2, axis = 2)"
   ]
  },
  {
   "cell_type": "code",
   "execution_count": null,
   "metadata": {
    "ExecuteTime": {
     "end_time": "2021-04-27T00:25:00.479076Z",
     "start_time": "2021-04-27T00:25:00.382Z"
    },
    "hidden": true
   },
   "outputs": [],
   "source": [
    "distances.shape"
   ]
  },
  {
   "cell_type": "code",
   "execution_count": null,
   "metadata": {
    "ExecuteTime": {
     "end_time": "2021-04-27T00:25:00.480069Z",
     "start_time": "2021-04-27T00:25:00.390Z"
    },
    "hidden": true
   },
   "outputs": [],
   "source": [
    "for i in np.arange(distances.shape[1]):\n",
    "    plt.plot(np.arange(distances.shape[0])/2, distances[:, i])\n",
    "plt.xlabel(\"time (fs) from start of bombardment run\")\n",
    "plt.ylabel(\"displacement (Å)\")\n",
    "plt.title(\"H displacement (referenced to end of quench run) as a function of time;\\n\\\n",
    "0.5 ps NVE bombardment, 0.5 ps quench to 300 K, and 5 ps NVT;\\n Run 0-0\");"
   ]
  },
  {
   "cell_type": "markdown",
   "metadata": {},
   "source": [
    "### C deprivation"
   ]
  },
  {
   "cell_type": "code",
   "execution_count": null,
   "metadata": {
    "ExecuteTime": {
     "end_time": "2021-04-27T00:25:00.481316Z",
     "start_time": "2021-04-27T00:25:00.400Z"
    }
   },
   "outputs": [],
   "source": [
    "plt.figure(figsize = (5,5))\n",
    "plt.plot([2720, 708, 466, 348])\n",
    "plt.xlabel(\"bombardment step\")\n",
    "plt.ylabel(\"remaining C\");"
   ]
  },
  {
   "cell_type": "code",
   "execution_count": null,
   "metadata": {
    "ExecuteTime": {
     "end_time": "2021-04-27T00:25:00.482200Z",
     "start_time": "2021-04-27T00:25:00.409Z"
    }
   },
   "outputs": [],
   "source": [
    "ccountdir = '../cf4_bomb3_inputs/'\n",
    "count = 0\n",
    "for i in os.listdir(ccountdir):\n",
    "# for i in os.listdir(datadir):\n",
    "    if \".gen\" in i:\n",
    "        key = re.search(r\"\\d+-\\d+\", i)\n",
    "        if key:\n",
    "            key = key.group(0)\n",
    "            try:\n",
    "                count +=  gen.read_gen(ccountdir + i).symbols.formula.count()['C']\n",
    "#                 count +=  gen.read_gen(datadir + i).symbols.formula.count()['C']\n",
    "            except:\n",
    "                count += 0\n",
    "count\n",
    "\n"
   ]
  },
  {
   "cell_type": "code",
   "execution_count": null,
   "metadata": {
    "ExecuteTime": {
     "end_time": "2021-04-27T00:25:00.483174Z",
     "start_time": "2021-04-27T00:25:00.417Z"
    },
    "scrolled": true
   },
   "outputs": [],
   "source": [
    "for geom in geometries:\n",
    "    print(geom)"
   ]
  },
  {
   "cell_type": "markdown",
   "metadata": {},
   "source": [
    "### Bond formation"
   ]
  },
  {
   "cell_type": "code",
   "execution_count": null,
   "metadata": {
    "ExecuteTime": {
     "end_time": "2021-04-27T00:25:00.483951Z",
     "start_time": "2021-04-27T00:25:00.428Z"
    }
   },
   "outputs": [],
   "source": [
    "(geometries.index[62])"
   ]
  },
  {
   "cell_type": "code",
   "execution_count": null,
   "metadata": {
    "ExecuteTime": {
     "end_time": "2021-04-27T00:25:00.484862Z",
     "start_time": "2021-04-27T00:25:00.437Z"
    }
   },
   "outputs": [],
   "source": [
    "datadir = \"../cf4\"\n",
    "readStructs(datadir, name = \"output\", shallow = False)"
   ]
  },
  {
   "cell_type": "code",
   "execution_count": 84,
   "metadata": {
    "ExecuteTime": {
     "end_time": "2021-04-27T02:22:43.680814Z",
     "start_time": "2021-04-27T02:22:43.318137Z"
    }
   },
   "outputs": [
    {
     "name": "stdout",
     "output_type": "stream",
     "text": [
      "170\n"
     ]
    }
   ],
   "source": [
    "import os\n",
    "import pandas as pd\n",
    "from ase.io import gen\n",
    "datadir = \"../cf4_bomb3_inputs/\" #bare bombardment, v0.13 = 35.0 eV, 0.135 = 37.7 eV, .14 = 40.55 eV\n",
    "geometries = {}\n",
    "name = \"input\"\n",
    "for i in os.listdir(datadir):\n",
    "    if \".gen\" in i:\n",
    "        key = re.search(r\"{}.*(\\d+-\\d+)\".format(name), i)\n",
    "#         print(key if key else i)\n",
    "        if key:\n",
    "            key = key.group(1)\n",
    "#             print(key)\n",
    "            geometries[key] =  gen.read_gen(datadir + i)\n",
    "\n",
    "#subset:\n",
    "# np.random.seed(429)\n",
    "# choices = np.random.choice(list(geometries.keys()), size = 10)\n",
    "# geometries = {choice: geometries[choice] for choice in choices}\n",
    "\n",
    "# for key, value in geometries.items():\n",
    "#     geometries[key] = value[[atom.position[2] > zcut for atom in value]]\n",
    "geometries = pd.Series(geometries)\n",
    "print(len(geometries))"
   ]
  },
  {
   "cell_type": "code",
   "execution_count": null,
   "metadata": {
    "ExecuteTime": {
     "end_time": "2021-04-27T00:25:00.486567Z",
     "start_time": "2021-04-27T00:25:00.455Z"
    }
   },
   "outputs": [],
   "source": [
    "view([struct for struct in geometries])"
   ]
  },
  {
   "cell_type": "code",
   "execution_count": null,
   "metadata": {
    "ExecuteTime": {
     "end_time": "2021-04-27T00:25:00.487470Z",
     "start_time": "2021-04-27T00:25:00.463Z"
    }
   },
   "outputs": [],
   "source": [
    "view(geometries['4-8'])"
   ]
  },
  {
   "cell_type": "code",
   "execution_count": 86,
   "metadata": {
    "ExecuteTime": {
     "end_time": "2021-04-27T02:23:26.184216Z",
     "start_time": "2021-04-27T02:22:58.799982Z"
    }
   },
   "outputs": [],
   "source": [
    "from ase.geometry.analysis import Analysis\n",
    "analyses = {key: Analysis(item) for key, item in geometries.items()}\n",
    "analyses = pd.Series(analyses)"
   ]
  },
  {
   "cell_type": "code",
   "execution_count": 88,
   "metadata": {
    "ExecuteTime": {
     "end_time": "2021-04-27T02:34:16.061300Z",
     "start_time": "2021-04-27T02:29:21.123503Z"
    }
   },
   "outputs": [],
   "source": [
    "from structure import Graph\n",
    "\n",
    "fragmentLists = []\n",
    "for struct in geometries:\n",
    "    adjmat = Analysis(struct).adjacency_matrix[0]\n",
    "    numnodes = adjmat.shape[0]\n",
    "    g = Graph(numnodes)\n",
    "    for i in range(numnodes):\n",
    "        for j in range(numnodes):\n",
    "            if adjmat[i,j]:\n",
    "                g.addEdge(i,j)\n",
    "    cc = g.connectedComponents()\n",
    "    isSmallgraph = np.array([len(i) for i in cc]) < 10\n",
    "    smallgraphs = []\n",
    "    for i, subgraph in enumerate(cc):\n",
    "        if isSmallgraph[i]:\n",
    "            smallgraphs += [struct[[atom.index for atom in struct if atom.index in subgraph]]]\n",
    "    fragmentLists += [smallgraphs]\n",
    "\n",
    "\n"
   ]
  },
  {
   "cell_type": "code",
   "execution_count": 89,
   "metadata": {
    "ExecuteTime": {
     "end_time": "2021-04-27T02:34:16.351343Z",
     "start_time": "2021-04-27T02:34:16.062618Z"
    }
   },
   "outputs": [
    {
     "data": {
      "text/html": [
       "<div>\n",
       "<style scoped>\n",
       "    .dataframe tbody tr th:only-of-type {\n",
       "        vertical-align: middle;\n",
       "    }\n",
       "\n",
       "    .dataframe tbody tr th {\n",
       "        vertical-align: top;\n",
       "    }\n",
       "\n",
       "    .dataframe thead th {\n",
       "        text-align: right;\n",
       "    }\n",
       "</style>\n",
       "<table border=\"1\" class=\"dataframe\">\n",
       "  <thead>\n",
       "    <tr style=\"text-align: right;\">\n",
       "      <th></th>\n",
       "      <th>Ar</th>\n",
       "      <th>C2</th>\n",
       "      <th>CF</th>\n",
       "      <th>CF2</th>\n",
       "      <th>CF3</th>\n",
       "      <th>CF4</th>\n",
       "      <th>CHN</th>\n",
       "      <th>CN</th>\n",
       "      <th>CSi</th>\n",
       "      <th>F</th>\n",
       "      <th>H</th>\n",
       "      <th>H2N2Si</th>\n",
       "      <th>H3N</th>\n",
       "      <th>HN</th>\n",
       "      <th>N</th>\n",
       "      <th>NSi</th>\n",
       "      <th>Si</th>\n",
       "    </tr>\n",
       "  </thead>\n",
       "  <tbody>\n",
       "    <tr>\n",
       "      <th>4-5</th>\n",
       "      <td>1</td>\n",
       "      <td>0</td>\n",
       "      <td>0</td>\n",
       "      <td>0</td>\n",
       "      <td>0</td>\n",
       "      <td>2</td>\n",
       "      <td>0</td>\n",
       "      <td>0</td>\n",
       "      <td>0</td>\n",
       "      <td>1</td>\n",
       "      <td>0</td>\n",
       "      <td>0</td>\n",
       "      <td>0</td>\n",
       "      <td>0</td>\n",
       "      <td>0</td>\n",
       "      <td>0</td>\n",
       "      <td>0</td>\n",
       "    </tr>\n",
       "    <tr>\n",
       "      <th>5-16</th>\n",
       "      <td>2</td>\n",
       "      <td>0</td>\n",
       "      <td>0</td>\n",
       "      <td>0</td>\n",
       "      <td>0</td>\n",
       "      <td>2</td>\n",
       "      <td>0</td>\n",
       "      <td>0</td>\n",
       "      <td>0</td>\n",
       "      <td>4</td>\n",
       "      <td>0</td>\n",
       "      <td>0</td>\n",
       "      <td>0</td>\n",
       "      <td>0</td>\n",
       "      <td>0</td>\n",
       "      <td>0</td>\n",
       "      <td>0</td>\n",
       "    </tr>\n",
       "    <tr>\n",
       "      <th>4-10</th>\n",
       "      <td>1</td>\n",
       "      <td>0</td>\n",
       "      <td>0</td>\n",
       "      <td>0</td>\n",
       "      <td>0</td>\n",
       "      <td>0</td>\n",
       "      <td>0</td>\n",
       "      <td>0</td>\n",
       "      <td>0</td>\n",
       "      <td>1</td>\n",
       "      <td>0</td>\n",
       "      <td>0</td>\n",
       "      <td>0</td>\n",
       "      <td>0</td>\n",
       "      <td>0</td>\n",
       "      <td>0</td>\n",
       "      <td>0</td>\n",
       "    </tr>\n",
       "    <tr>\n",
       "      <th>3-11</th>\n",
       "      <td>1</td>\n",
       "      <td>0</td>\n",
       "      <td>0</td>\n",
       "      <td>0</td>\n",
       "      <td>0</td>\n",
       "      <td>0</td>\n",
       "      <td>0</td>\n",
       "      <td>0</td>\n",
       "      <td>0</td>\n",
       "      <td>7</td>\n",
       "      <td>0</td>\n",
       "      <td>0</td>\n",
       "      <td>0</td>\n",
       "      <td>1</td>\n",
       "      <td>0</td>\n",
       "      <td>0</td>\n",
       "      <td>0</td>\n",
       "    </tr>\n",
       "    <tr>\n",
       "      <th>2-4</th>\n",
       "      <td>1</td>\n",
       "      <td>0</td>\n",
       "      <td>0</td>\n",
       "      <td>0</td>\n",
       "      <td>0</td>\n",
       "      <td>1</td>\n",
       "      <td>0</td>\n",
       "      <td>0</td>\n",
       "      <td>0</td>\n",
       "      <td>2</td>\n",
       "      <td>0</td>\n",
       "      <td>0</td>\n",
       "      <td>0</td>\n",
       "      <td>1</td>\n",
       "      <td>0</td>\n",
       "      <td>0</td>\n",
       "      <td>0</td>\n",
       "    </tr>\n",
       "    <tr>\n",
       "      <th>...</th>\n",
       "      <td>...</td>\n",
       "      <td>...</td>\n",
       "      <td>...</td>\n",
       "      <td>...</td>\n",
       "      <td>...</td>\n",
       "      <td>...</td>\n",
       "      <td>...</td>\n",
       "      <td>...</td>\n",
       "      <td>...</td>\n",
       "      <td>...</td>\n",
       "      <td>...</td>\n",
       "      <td>...</td>\n",
       "      <td>...</td>\n",
       "      <td>...</td>\n",
       "      <td>...</td>\n",
       "      <td>...</td>\n",
       "      <td>...</td>\n",
       "    </tr>\n",
       "    <tr>\n",
       "      <th>1-10</th>\n",
       "      <td>1</td>\n",
       "      <td>0</td>\n",
       "      <td>0</td>\n",
       "      <td>0</td>\n",
       "      <td>0</td>\n",
       "      <td>1</td>\n",
       "      <td>0</td>\n",
       "      <td>0</td>\n",
       "      <td>0</td>\n",
       "      <td>3</td>\n",
       "      <td>0</td>\n",
       "      <td>0</td>\n",
       "      <td>0</td>\n",
       "      <td>1</td>\n",
       "      <td>0</td>\n",
       "      <td>0</td>\n",
       "      <td>0</td>\n",
       "    </tr>\n",
       "    <tr>\n",
       "      <th>0-1</th>\n",
       "      <td>2</td>\n",
       "      <td>0</td>\n",
       "      <td>0</td>\n",
       "      <td>0</td>\n",
       "      <td>0</td>\n",
       "      <td>1</td>\n",
       "      <td>0</td>\n",
       "      <td>0</td>\n",
       "      <td>0</td>\n",
       "      <td>2</td>\n",
       "      <td>0</td>\n",
       "      <td>0</td>\n",
       "      <td>0</td>\n",
       "      <td>0</td>\n",
       "      <td>0</td>\n",
       "      <td>0</td>\n",
       "      <td>0</td>\n",
       "    </tr>\n",
       "    <tr>\n",
       "      <th>1-9</th>\n",
       "      <td>1</td>\n",
       "      <td>0</td>\n",
       "      <td>0</td>\n",
       "      <td>0</td>\n",
       "      <td>0</td>\n",
       "      <td>0</td>\n",
       "      <td>0</td>\n",
       "      <td>0</td>\n",
       "      <td>0</td>\n",
       "      <td>5</td>\n",
       "      <td>0</td>\n",
       "      <td>0</td>\n",
       "      <td>0</td>\n",
       "      <td>0</td>\n",
       "      <td>0</td>\n",
       "      <td>0</td>\n",
       "      <td>0</td>\n",
       "    </tr>\n",
       "    <tr>\n",
       "      <th>4-7</th>\n",
       "      <td>1</td>\n",
       "      <td>0</td>\n",
       "      <td>0</td>\n",
       "      <td>0</td>\n",
       "      <td>0</td>\n",
       "      <td>1</td>\n",
       "      <td>0</td>\n",
       "      <td>0</td>\n",
       "      <td>0</td>\n",
       "      <td>1</td>\n",
       "      <td>0</td>\n",
       "      <td>0</td>\n",
       "      <td>0</td>\n",
       "      <td>0</td>\n",
       "      <td>0</td>\n",
       "      <td>0</td>\n",
       "      <td>0</td>\n",
       "    </tr>\n",
       "    <tr>\n",
       "      <th>9-3</th>\n",
       "      <td>1</td>\n",
       "      <td>0</td>\n",
       "      <td>0</td>\n",
       "      <td>0</td>\n",
       "      <td>0</td>\n",
       "      <td>0</td>\n",
       "      <td>0</td>\n",
       "      <td>0</td>\n",
       "      <td>0</td>\n",
       "      <td>3</td>\n",
       "      <td>0</td>\n",
       "      <td>0</td>\n",
       "      <td>0</td>\n",
       "      <td>0</td>\n",
       "      <td>0</td>\n",
       "      <td>0</td>\n",
       "      <td>0</td>\n",
       "    </tr>\n",
       "  </tbody>\n",
       "</table>\n",
       "<p>170 rows × 17 columns</p>\n",
       "</div>"
      ],
      "text/plain": [
       "      Ar  C2  CF  CF2  CF3  CF4  CHN  CN  CSi  F  H  H2N2Si  H3N  HN  N  NSi  Si\n",
       "4-5    1   0   0    0    0    2    0   0    0  1  0       0    0   0  0    0   0\n",
       "5-16   2   0   0    0    0    2    0   0    0  4  0       0    0   0  0    0   0\n",
       "4-10   1   0   0    0    0    0    0   0    0  1  0       0    0   0  0    0   0\n",
       "3-11   1   0   0    0    0    0    0   0    0  7  0       0    0   1  0    0   0\n",
       "2-4    1   0   0    0    0    1    0   0    0  2  0       0    0   1  0    0   0\n",
       "...   ..  ..  ..  ...  ...  ...  ...  ..  ... .. ..     ...  ...  .. ..  ...  ..\n",
       "1-10   1   0   0    0    0    1    0   0    0  3  0       0    0   1  0    0   0\n",
       "0-1    2   0   0    0    0    1    0   0    0  2  0       0    0   0  0    0   0\n",
       "1-9    1   0   0    0    0    0    0   0    0  5  0       0    0   0  0    0   0\n",
       "4-7    1   0   0    0    0    1    0   0    0  1  0       0    0   0  0    0   0\n",
       "9-3    1   0   0    0    0    0    0   0    0  3  0       0    0   0  0    0   0\n",
       "\n",
       "[170 rows x 17 columns]"
      ]
     },
     "execution_count": 89,
     "metadata": {},
     "output_type": "execute_result"
    }
   ],
   "source": [
    "flatten = lambda t: [item for sublist in t for item in sublist]\n",
    "fragmentTypes = np.unique([i.symbols.get_chemical_formula() for i in flatten(fragmentLists)])\n",
    "fragdict = {i:j for i, j in zip(geometries.keys(), fragmentLists)}\n",
    "\n",
    "fragmentData = pd.DataFrame({key: [0] * len(geometries) for key in fragmentTypes})\n",
    "\n",
    "fragmentData.index = fragdict.keys()\n",
    "\n",
    "for key, fragmentList in fragdict.items():\n",
    "    for fragment in fragmentList:\n",
    "        _symbol = fragment.symbols.get_chemical_formula()\n",
    "        fragmentData[_symbol].loc[key] += 1\n",
    "fragmentData.to_csv(datadir + \"fragdata.csv\")\n",
    "        \n",
    "            \n",
    "            \n",
    "\n",
    "fragmentData"
   ]
  },
  {
   "cell_type": "markdown",
   "metadata": {},
   "source": [
    "View specific fragment "
   ]
  },
  {
   "cell_type": "code",
   "execution_count": null,
   "metadata": {
    "ExecuteTime": {
     "end_time": "2021-04-27T00:25:00.603849Z",
     "start_time": "2021-04-27T00:25:00.502Z"
    }
   },
   "outputs": [],
   "source": [
    "fragmentname = 'CSi'\n",
    "tempgeoms = [i.copy() for i in geometries.iloc[[i > 0 for i in fragmentData[fragmentname]]]]\n",
    "[i.wrap() for i in tempgeoms]\n",
    "view(tempgeoms)"
   ]
  },
  {
   "cell_type": "code",
   "execution_count": null,
   "metadata": {
    "ExecuteTime": {
     "end_time": "2021-04-27T00:25:00.604770Z",
     "start_time": "2021-04-27T00:25:00.510Z"
    }
   },
   "outputs": [],
   "source": [
    "fragmentData.sum(axis = 0)"
   ]
  },
  {
   "cell_type": "code",
   "execution_count": null,
   "metadata": {
    "ExecuteTime": {
     "end_time": "2021-04-27T00:25:00.605665Z",
     "start_time": "2021-04-27T00:25:00.518Z"
    }
   },
   "outputs": [],
   "source": [
    "analyses['0-0'].get_bonds(e1,e2)"
   ]
  },
  {
   "cell_type": "code",
   "execution_count": 90,
   "metadata": {
    "ExecuteTime": {
     "end_time": "2021-04-27T02:35:48.062814Z",
     "start_time": "2021-04-27T02:34:47.497942Z"
    },
    "scrolled": false
   },
   "outputs": [
    {
     "name": "stdout",
     "output_type": "stream",
     "text": [
      "average number of final Si-N bonds = 470.4235294117647\n"
     ]
    },
    {
     "data": {
      "image/png": "[encoded data removed]",
      "text/plain": [
       "<Figure size 432x288 with 1 Axes>"
      ]
     },
     "metadata": {
      "needs_background": "light"
     },
     "output_type": "display_data"
    }
   ],
   "source": [
    "totalbonds = []\n",
    "bondcounts = {}\n",
    "e1 = \"Si\"\n",
    "e2 = \"N\"\n",
    "form = False\n",
    "for key, analysis in analyses.items(): \n",
    "    try:\n",
    "        totalbonds += [len(analysis.get_bonds(e1, e2, unique = True)[0])]\n",
    "        bondcounts[key] =  len(analysis.get_bonds(e1, e2, unique = True)[0])\n",
    "    except:\n",
    "        print('error on {}'.format(key))\n",
    "totalbonds = np.array(totalbonds)\n",
    "if form:\n",
    "    print('percent runs with {}-{} bond formation = {}'.format(e1, e2, np.sum(totalbonds > 0)/170))\n",
    "else:\n",
    "    print('average number of final {}-{} bonds = {}'.format(e1, e2, np.sum(totalbonds)/170))\n",
    "# plt.hist(totalbonds, bins = np.arange(0, np.max(totalbonds) + 1))\n",
    "# plt.hist(totalbonds, bins = np.arange(5, 14))\n",
    "if form:\n",
    "    plt.title('distribution of # of {}-{} bonds formed'.format(e1, e2));\n",
    "else:\n",
    "    plt.title('distribution of # of {}-{} bonds count'.format(e1, e2));"
   ]
  },
  {
   "cell_type": "code",
   "execution_count": 91,
   "metadata": {
    "ExecuteTime": {
     "end_time": "2021-04-27T02:36:32.156075Z",
     "start_time": "2021-04-27T02:35:48.064309Z"
    }
   },
   "outputs": [],
   "source": [
    "from itertools import combinations\n",
    "elems = [\"Si\", \"F\", \"N\", \"C\", \"H\", \"Ar\"]\n",
    "\n",
    "result = {}\n",
    "for e1, e2 in combinations(elems, 2):\n",
    "    bondcounts = {}\n",
    "    for key, analysis in analyses.items(): \n",
    "        bondcounts[key] =  len(analysis.get_bonds(e1, e2, unique = True)[0])\n",
    "    bondcounts = pd.Series(bondcounts)\n",
    "    result[\"{}-{}\".format(e1, e2)] = bondcounts\n"
   ]
  },
  {
   "cell_type": "code",
   "execution_count": 93,
   "metadata": {
    "ExecuteTime": {
     "end_time": "2021-04-27T02:36:49.485651Z",
     "start_time": "2021-04-27T02:36:49.458218Z"
    }
   },
   "outputs": [
    {
     "data": {
      "text/html": [
       "<div>\n",
       "<style scoped>\n",
       "    .dataframe tbody tr th:only-of-type {\n",
       "        vertical-align: middle;\n",
       "    }\n",
       "\n",
       "    .dataframe tbody tr th {\n",
       "        vertical-align: top;\n",
       "    }\n",
       "\n",
       "    .dataframe thead th {\n",
       "        text-align: right;\n",
       "    }\n",
       "</style>\n",
       "<table border=\"1\" class=\"dataframe\">\n",
       "  <thead>\n",
       "    <tr style=\"text-align: right;\">\n",
       "      <th></th>\n",
       "      <th>Si-F</th>\n",
       "      <th>Si-N</th>\n",
       "      <th>Si-C</th>\n",
       "      <th>Si-H</th>\n",
       "      <th>Si-Ar</th>\n",
       "      <th>F-N</th>\n",
       "      <th>F-C</th>\n",
       "      <th>F-H</th>\n",
       "      <th>F-Ar</th>\n",
       "      <th>N-C</th>\n",
       "      <th>N-H</th>\n",
       "      <th>N-Ar</th>\n",
       "      <th>C-H</th>\n",
       "      <th>C-Ar</th>\n",
       "      <th>H-Ar</th>\n",
       "    </tr>\n",
       "  </thead>\n",
       "  <tbody>\n",
       "    <tr>\n",
       "      <th>4-5</th>\n",
       "      <td>0</td>\n",
       "      <td>469</td>\n",
       "      <td>0</td>\n",
       "      <td>20</td>\n",
       "      <td>0</td>\n",
       "      <td>0</td>\n",
       "      <td>8</td>\n",
       "      <td>0</td>\n",
       "      <td>0</td>\n",
       "      <td>0</td>\n",
       "      <td>46</td>\n",
       "      <td>0</td>\n",
       "      <td>0</td>\n",
       "      <td>0</td>\n",
       "      <td>0</td>\n",
       "    </tr>\n",
       "    <tr>\n",
       "      <th>5-16</th>\n",
       "      <td>1</td>\n",
       "      <td>476</td>\n",
       "      <td>0</td>\n",
       "      <td>20</td>\n",
       "      <td>0</td>\n",
       "      <td>0</td>\n",
       "      <td>8</td>\n",
       "      <td>0</td>\n",
       "      <td>0</td>\n",
       "      <td>0</td>\n",
       "      <td>47</td>\n",
       "      <td>0</td>\n",
       "      <td>0</td>\n",
       "      <td>0</td>\n",
       "      <td>0</td>\n",
       "    </tr>\n",
       "    <tr>\n",
       "      <th>4-10</th>\n",
       "      <td>0</td>\n",
       "      <td>467</td>\n",
       "      <td>6</td>\n",
       "      <td>20</td>\n",
       "      <td>0</td>\n",
       "      <td>0</td>\n",
       "      <td>2</td>\n",
       "      <td>0</td>\n",
       "      <td>0</td>\n",
       "      <td>1</td>\n",
       "      <td>47</td>\n",
       "      <td>0</td>\n",
       "      <td>0</td>\n",
       "      <td>0</td>\n",
       "      <td>0</td>\n",
       "    </tr>\n",
       "    <tr>\n",
       "      <th>3-11</th>\n",
       "      <td>0</td>\n",
       "      <td>474</td>\n",
       "      <td>0</td>\n",
       "      <td>20</td>\n",
       "      <td>0</td>\n",
       "      <td>0</td>\n",
       "      <td>0</td>\n",
       "      <td>0</td>\n",
       "      <td>0</td>\n",
       "      <td>0</td>\n",
       "      <td>47</td>\n",
       "      <td>0</td>\n",
       "      <td>0</td>\n",
       "      <td>0</td>\n",
       "      <td>0</td>\n",
       "    </tr>\n",
       "    <tr>\n",
       "      <th>2-4</th>\n",
       "      <td>0</td>\n",
       "      <td>466</td>\n",
       "      <td>0</td>\n",
       "      <td>20</td>\n",
       "      <td>0</td>\n",
       "      <td>0</td>\n",
       "      <td>4</td>\n",
       "      <td>0</td>\n",
       "      <td>0</td>\n",
       "      <td>0</td>\n",
       "      <td>47</td>\n",
       "      <td>0</td>\n",
       "      <td>0</td>\n",
       "      <td>0</td>\n",
       "      <td>0</td>\n",
       "    </tr>\n",
       "    <tr>\n",
       "      <th>...</th>\n",
       "      <td>...</td>\n",
       "      <td>...</td>\n",
       "      <td>...</td>\n",
       "      <td>...</td>\n",
       "      <td>...</td>\n",
       "      <td>...</td>\n",
       "      <td>...</td>\n",
       "      <td>...</td>\n",
       "      <td>...</td>\n",
       "      <td>...</td>\n",
       "      <td>...</td>\n",
       "      <td>...</td>\n",
       "      <td>...</td>\n",
       "      <td>...</td>\n",
       "      <td>...</td>\n",
       "    </tr>\n",
       "    <tr>\n",
       "      <th>1-10</th>\n",
       "      <td>0</td>\n",
       "      <td>470</td>\n",
       "      <td>2</td>\n",
       "      <td>21</td>\n",
       "      <td>0</td>\n",
       "      <td>0</td>\n",
       "      <td>4</td>\n",
       "      <td>0</td>\n",
       "      <td>0</td>\n",
       "      <td>1</td>\n",
       "      <td>46</td>\n",
       "      <td>0</td>\n",
       "      <td>0</td>\n",
       "      <td>0</td>\n",
       "      <td>0</td>\n",
       "    </tr>\n",
       "    <tr>\n",
       "      <th>0-1</th>\n",
       "      <td>1</td>\n",
       "      <td>471</td>\n",
       "      <td>5</td>\n",
       "      <td>18</td>\n",
       "      <td>0</td>\n",
       "      <td>0</td>\n",
       "      <td>4</td>\n",
       "      <td>0</td>\n",
       "      <td>0</td>\n",
       "      <td>2</td>\n",
       "      <td>46</td>\n",
       "      <td>0</td>\n",
       "      <td>1</td>\n",
       "      <td>0</td>\n",
       "      <td>0</td>\n",
       "    </tr>\n",
       "    <tr>\n",
       "      <th>1-9</th>\n",
       "      <td>0</td>\n",
       "      <td>473</td>\n",
       "      <td>1</td>\n",
       "      <td>21</td>\n",
       "      <td>0</td>\n",
       "      <td>0</td>\n",
       "      <td>0</td>\n",
       "      <td>0</td>\n",
       "      <td>0</td>\n",
       "      <td>1</td>\n",
       "      <td>47</td>\n",
       "      <td>0</td>\n",
       "      <td>0</td>\n",
       "      <td>0</td>\n",
       "      <td>0</td>\n",
       "    </tr>\n",
       "    <tr>\n",
       "      <th>4-7</th>\n",
       "      <td>0</td>\n",
       "      <td>467</td>\n",
       "      <td>2</td>\n",
       "      <td>19</td>\n",
       "      <td>0</td>\n",
       "      <td>0</td>\n",
       "      <td>4</td>\n",
       "      <td>0</td>\n",
       "      <td>0</td>\n",
       "      <td>0</td>\n",
       "      <td>46</td>\n",
       "      <td>0</td>\n",
       "      <td>1</td>\n",
       "      <td>0</td>\n",
       "      <td>0</td>\n",
       "    </tr>\n",
       "    <tr>\n",
       "      <th>9-3</th>\n",
       "      <td>0</td>\n",
       "      <td>469</td>\n",
       "      <td>5</td>\n",
       "      <td>18</td>\n",
       "      <td>0</td>\n",
       "      <td>0</td>\n",
       "      <td>1</td>\n",
       "      <td>0</td>\n",
       "      <td>0</td>\n",
       "      <td>1</td>\n",
       "      <td>48</td>\n",
       "      <td>0</td>\n",
       "      <td>0</td>\n",
       "      <td>0</td>\n",
       "      <td>0</td>\n",
       "    </tr>\n",
       "  </tbody>\n",
       "</table>\n",
       "<p>170 rows × 15 columns</p>\n",
       "</div>"
      ],
      "text/plain": [
       "      Si-F  Si-N  Si-C  Si-H  Si-Ar  F-N  F-C  F-H  F-Ar  N-C  N-H  N-Ar  C-H  C-Ar  H-Ar\n",
       "4-5      0   469     0    20      0    0    8    0     0    0   46     0    0     0     0\n",
       "5-16     1   476     0    20      0    0    8    0     0    0   47     0    0     0     0\n",
       "4-10     0   467     6    20      0    0    2    0     0    1   47     0    0     0     0\n",
       "3-11     0   474     0    20      0    0    0    0     0    0   47     0    0     0     0\n",
       "2-4      0   466     0    20      0    0    4    0     0    0   47     0    0     0     0\n",
       "...    ...   ...   ...   ...    ...  ...  ...  ...   ...  ...  ...   ...  ...   ...   ...\n",
       "1-10     0   470     2    21      0    0    4    0     0    1   46     0    0     0     0\n",
       "0-1      1   471     5    18      0    0    4    0     0    2   46     0    1     0     0\n",
       "1-9      0   473     1    21      0    0    0    0     0    1   47     0    0     0     0\n",
       "4-7      0   467     2    19      0    0    4    0     0    0   46     0    1     0     0\n",
       "9-3      0   469     5    18      0    0    1    0     0    1   48     0    0     0     0\n",
       "\n",
       "[170 rows x 15 columns]"
      ]
     },
     "execution_count": 93,
     "metadata": {},
     "output_type": "execute_result"
    }
   ],
   "source": [
    "pd.DataFrame(result)"
   ]
  },
  {
   "cell_type": "code",
   "execution_count": 92,
   "metadata": {
    "ExecuteTime": {
     "end_time": "2021-04-27T02:36:32.171611Z",
     "start_time": "2021-04-27T02:36:32.157391Z"
    }
   },
   "outputs": [],
   "source": [
    "pd.DataFrame(result).to_csv(datadir+\"bondcounts.csv\")"
   ]
  },
  {
   "cell_type": "code",
   "execution_count": null,
   "metadata": {
    "ExecuteTime": {
     "end_time": "2021-04-27T00:25:00.609789Z",
     "start_time": "2021-04-27T00:25:00.551Z"
    }
   },
   "outputs": [],
   "source": [
    "len(Analysis(gen.read_gen(\"../bomb_inputs/input0-0.gen\"))\\\n",
    "    .get_bonds(\"C\", \"F\", unique = True)[0])"
   ]
  },
  {
   "cell_type": "markdown",
   "metadata": {},
   "source": [
    "## xyz to POSCAR"
   ]
  },
  {
   "cell_type": "code",
   "execution_count": null,
   "metadata": {
    "ExecuteTime": {
     "end_time": "2021-04-27T00:25:00.611535Z",
     "start_time": "2021-04-27T00:25:00.567Z"
    },
    "scrolled": true
   },
   "outputs": [],
   "source": [
    "temp = pd.read_clipboard(header = None)\n",
    "temp"
   ]
  },
  {
   "cell_type": "code",
   "execution_count": null,
   "metadata": {
    "ExecuteTime": {
     "end_time": "2021-04-27T00:25:00.613149Z",
     "start_time": "2021-04-27T00:25:00.577Z"
    }
   },
   "outputs": [],
   "source": [
    "plt.plot(np.arange(3), temp[::2], label = 'F*')\n",
    "plt.plot(np.arange(3), temp[1::2], label = '1/2 F2')\n",
    "plt.legend()"
   ]
  },
  {
   "cell_type": "code",
   "execution_count": null,
   "metadata": {
    "ExecuteTime": {
     "end_time": "2021-04-27T00:25:00.614755Z",
     "start_time": "2021-04-27T00:25:00.585Z"
    }
   },
   "outputs": [],
   "source": [
    "s = xyz.read_xyz(\"../output.xyz\")\n",
    "s = list(s)[0]\n",
    "# s.euler_rotate(45, 0, 0, center = 'COM')\n",
    "s.translate([10, 10, 10])\n",
    "s.cell = [20,20,20]\n",
    "view(s)\n",
    "vasp.write_vasp(\"../POSCAR\", s, direct = True, sort=True, vasp5=True)\n",
    "# s.edit()"
   ]
  },
  {
   "cell_type": "code",
   "execution_count": null,
   "metadata": {
    "ExecuteTime": {
     "end_time": "2021-04-27T00:25:00.616616Z",
     "start_time": "2021-04-27T00:25:00.594Z"
    }
   },
   "outputs": [],
   "source": [
    "P = np.array([\n",
    "    [1, 0, 0],\n",
    "    [0, 2, 0],\n",
    "    [0, 0, 1]\n",
    "])\n",
    "supercell = make_supercell(s, P)\n",
    "view(supercell)\n",
    "# supercell.edit()"
   ]
  },
  {
   "cell_type": "markdown",
   "metadata": {
    "heading_collapsed": true
   },
   "source": [
    "## Basic optimization"
   ]
  },
  {
   "cell_type": "code",
   "execution_count": 50,
   "metadata": {
    "ExecuteTime": {
     "end_time": "2021-04-27T00:25:00.935080Z",
     "start_time": "2021-04-27T00:25:00.718477Z"
    },
    "hidden": true
   },
   "outputs": [
    {
     "name": "stdout",
     "output_type": "stream",
     "text": [
      "      Step     Time          Energy         fmax\n",
      "*Force-consistent energies used in optimization.\n",
      "FIRE:    0 19:25:00        3.078940*       4.0124\n",
      "FIRE:    1 19:25:00        2.530571*       3.5061\n",
      "FIRE:    2 19:25:00        1.950051*       2.5381\n",
      "FIRE:    3 19:25:00        1.752270*       1.1485\n",
      "FIRE:    4 19:25:00        1.732747*       1.1083\n",
      "FIRE:    5 19:25:00        1.696342*       1.0277\n",
      "FIRE:    6 19:25:00        1.648051*       0.9072\n",
      "FIRE:    7 19:25:00        1.594621*       0.7482\n",
      "FIRE:    8 19:25:00        1.543597*       0.5548\n",
      "FIRE:    9 19:25:00        1.502047*       0.5320\n",
      "FIRE:   10 19:25:00        1.475189*       0.5166\n",
      "FIRE:   11 19:25:00        1.465461*       0.3387\n",
      "FIRE:   12 19:25:00        1.465228*       0.3255\n",
      "FIRE:   13 19:25:00        1.464795*       0.2996\n",
      "FIRE:   14 19:25:00        1.464228*       0.2617\n",
      "FIRE:   15 19:25:00        1.463608*       0.2132\n",
      "FIRE:   16 19:25:00        1.463029*       0.1558\n",
      "FIRE:   17 19:25:00        1.462575*       0.0917\n",
      "FIRE:   18 19:25:00        1.462314*       0.0294\n"
     ]
    },
    {
     "ename": "NameError",
     "evalue": "name 'xtl_n' is not defined",
     "output_type": "error",
     "traceback": [
      "\u001b[0;31m---------------------------------------------------------------------------\u001b[0m",
      "\u001b[0;31mNameError\u001b[0m                                 Traceback (most recent call last)",
      "\u001b[0;32m<ipython-input-50-6790b3807f8f>\u001b[0m in \u001b[0;36m<module>\u001b[0;34m\u001b[0m\n\u001b[1;32m      9\u001b[0m \u001b[0mrelax\u001b[0m\u001b[0;34m.\u001b[0m\u001b[0mrun\u001b[0m\u001b[0;34m(\u001b[0m\u001b[0mfmax\u001b[0m\u001b[0;34m=\u001b[0m\u001b[0;36m0.05\u001b[0m\u001b[0;34m)\u001b[0m\u001b[0;34m\u001b[0m\u001b[0;34m\u001b[0m\u001b[0m\n\u001b[1;32m     10\u001b[0m \u001b[0;34m\u001b[0m\u001b[0m\n\u001b[0;32m---> 11\u001b[0;31m \u001b[0minitial\u001b[0m\u001b[0;34m.\u001b[0m\u001b[0mcell\u001b[0m \u001b[0;34m=\u001b[0m \u001b[0mxtl_n\u001b[0m\u001b[0;34m.\u001b[0m\u001b[0mcell\u001b[0m\u001b[0;34m\u001b[0m\u001b[0;34m\u001b[0m\u001b[0m\n\u001b[0m\u001b[1;32m     12\u001b[0m \u001b[0;34m\u001b[0m\u001b[0m\n\u001b[1;32m     13\u001b[0m \u001b[0mvasp\u001b[0m\u001b[0;34m.\u001b[0m\u001b[0mwrite_vasp\u001b[0m\u001b[0;34m(\u001b[0m\u001b[0;34m\"../POSCAR_ethane\"\u001b[0m\u001b[0;34m,\u001b[0m \u001b[0minitial\u001b[0m\u001b[0;34m,\u001b[0m \u001b[0mvasp5\u001b[0m\u001b[0;34m=\u001b[0m \u001b[0;32mTrue\u001b[0m\u001b[0;34m)\u001b[0m\u001b[0;34m\u001b[0m\u001b[0;34m\u001b[0m\u001b[0m\n",
      "\u001b[0;31mNameError\u001b[0m: name 'xtl_n' is not defined"
     ]
    }
   ],
   "source": [
    "from ase.build import molecule\n",
    "from ase.calculators.emt import EMT\n",
    "from ase.optimize.fire import FIRE as QuasiNewton\n",
    "\n",
    "# Optimise molecule\n",
    "initial = molecule('C2H6')\n",
    "initial.set_calculator(EMT())\n",
    "relax = QuasiNewton(initial)\n",
    "relax.run(fmax=0.05)\n",
    "\n",
    "initial.cell = xtl_n.cell\n",
    "\n",
    "vasp.write_vasp(\"../POSCAR_ethane\", initial, vasp5= True)\n",
    "\n",
    "view(initial)"
   ]
  },
  {
   "cell_type": "markdown",
   "metadata": {},
   "source": [
    "## Gridding"
   ]
  },
  {
   "cell_type": "markdown",
   "metadata": {},
   "source": [
    "### DFTB"
   ]
  },
  {
   "cell_type": "markdown",
   "metadata": {},
   "source": [
    "#### Random gridding"
   ]
  },
  {
   "cell_type": "code",
   "execution_count": null,
   "metadata": {
    "ExecuteTime": {
     "end_time": "2021-04-27T00:25:00.937705Z",
     "start_time": "2021-04-27T00:25:00.628Z"
    }
   },
   "outputs": [],
   "source": [
    "from ase.build import add_vacuum\n",
    "# ref = gen.read_gen(\"../16bomb_slabs/input8-7.gen\")\n",
    "# ref = gen.read_gen(\"../16bomb_slabs/input4-15.gen\")\n",
    "# ref = gen.read_gen(\"../16bomb_slabs/input1-11.gen\")\n",
    "# ref = gen.read_gen(\"../16bomb_slabs/input5-4.gen\")\n",
    "ref = gen.read_gen(\"../input.gen\")\n",
    "# ref = gen.read_gen(\"../bomb16_results/output0-0.gen\")\n",
    "# ref = gen.read_gen(\"../cf4bomb_slabs/input8-7.gen\")\n",
    "# ref = ref[:-1]\n",
    "ref.wrap()\n",
    "# ref = vasp.read_vasp(\"../CONTCAR\")\n",
    "# ref.constraints = FixAtoms(np.arange(80))\n",
    "# add_vacuum(ref, 15)\n",
    "del ref[[atom.index for atom in ref if atom.symbol in ['Ar']]]\n",
    "view(ref)\n",
    "\n",
    "# ref.edit()"
   ]
  },
  {
   "cell_type": "code",
   "execution_count": null,
   "metadata": {
    "ExecuteTime": {
     "end_time": "2021-04-27T00:25:00.938749Z",
     "start_time": "2021-04-27T00:25:00.635Z"
    }
   },
   "outputs": [],
   "source": [
    "vasp.write_vasp(\"../POSCAR\", ref, sort = True, vasp5 = True)"
   ]
  },
  {
   "cell_type": "markdown",
   "metadata": {},
   "source": [
    "Add adsorbate"
   ]
  },
  {
   "cell_type": "code",
   "execution_count": null,
   "metadata": {
    "ExecuteTime": {
     "end_time": "2021-04-27T00:25:00.939758Z",
     "start_time": "2021-04-27T00:25:00.645Z"
    }
   },
   "outputs": [],
   "source": [
    "refPosition = [8.9, 5.58]"
   ]
  },
  {
   "cell_type": "code",
   "execution_count": null,
   "metadata": {
    "ExecuteTime": {
     "end_time": "2021-04-27T00:25:00.940975Z",
     "start_time": "2021-04-27T00:25:00.653Z"
    }
   },
   "outputs": [],
   "source": [
    "mef = (vasp.read_vasp(('reference_files/CONTCAR_mef')))"
   ]
  },
  {
   "cell_type": "code",
   "execution_count": null,
   "metadata": {
    "ExecuteTime": {
     "end_time": "2021-04-27T00:25:00.942212Z",
     "start_time": "2021-04-27T00:25:00.661Z"
    }
   },
   "outputs": [],
   "source": [
    "points.shape"
   ]
  },
  {
   "cell_type": "code",
   "execution_count": null,
   "metadata": {
    "ExecuteTime": {
     "end_time": "2021-04-27T00:25:00.942741Z",
     "start_time": "2021-04-27T00:25:00.669Z"
    }
   },
   "outputs": [],
   "source": [
    "x, y = np.meshgrid(np.linspace(0, 1, 10), \n",
    "            np.linspace(0, 1, 10)\n",
    "           )\n",
    "x, y = x.reshape(-1), y.reshape(-1)\n",
    "points = np.vstack([x, y])\n",
    "points = np.vstack([x, y, np.zeros(x.shape[0])])\n",
    "choices = np.random.choice(np.arange(points.shape[1]), size = numParticles, replace = False)\n",
    "positions = ref.cell.cartesian_positions(points[:, choices].T)\n",
    "positions"
   ]
  },
  {
   "cell_type": "code",
   "execution_count": null,
   "metadata": {
    "ExecuteTime": {
     "end_time": "2021-04-27T00:25:00.943457Z",
     "start_time": "2021-04-27T00:25:00.678Z"
    }
   },
   "outputs": [],
   "source": [
    "x, y = np.random.random(size = 2)\n",
    "x, y"
   ]
  },
  {
   "cell_type": "code",
   "execution_count": null,
   "metadata": {
    "ExecuteTime": {
     "end_time": "2021-04-27T00:25:00.944296Z",
     "start_time": "2021-04-27T00:25:00.686Z"
    }
   },
   "outputs": [],
   "source": [
    "mef.get_chemical_formula()"
   ]
  },
  {
   "cell_type": "code",
   "execution_count": null,
   "metadata": {
    "ExecuteTime": {
     "end_time": "2021-04-27T00:25:00.945087Z",
     "start_time": "2021-04-27T00:25:00.695Z"
    },
    "scrolled": true
   },
   "outputs": [],
   "source": [
    "np.random.seed(429)\n",
    "\n",
    "numParticles = 5\n",
    "gridspacing = 8\n",
    "\n",
    "assert numParticles < gridspacing **2 \n",
    "\n",
    "# ref = xtl2x2 \n",
    "num_dirs = 10\n",
    "runs_per_dir = 17 #4 cores per run, 68 cores on st2/ 24 cores on ls5\n",
    "output_dir = \"../inputs/\"\n",
    "i = 0\n",
    "# refz = ref.positions[-1,2]\n",
    "# s = ref.copy()\n",
    "for d in range(num_dirs):\n",
    "    for run in range(runs_per_dir):\n",
    "        s = gen.read_gen(\"\".copy()\n",
    "        x, y = np.meshgrid(np.linspace(0, 1, gridspacing, endpoint = False),\n",
    "                           np.linspace(0, 1, gridspacing, endpoint = False)\n",
    "                          )\n",
    "        x, y = x.reshape((-1)), y.reshape((-1))\n",
    "        points = np.vstack([x,y, np.zeros(x.shape[0])])\n",
    "        choices = np.random.choice(np.arange(points.shape[1]), size = numParticles, replace = False)\n",
    "        positions = ref.cell.cartesian_positions(points[:, choices].T)\n",
    "        \n",
    "        for p in positions:\n",
    "    #         P = np.array([[2, 0, 0],\n",
    "    #                       [0, 1, 0],\n",
    "    #                       [0, 0, 2]\n",
    "    #                      ])\n",
    "    #         supercell = make_supercell(s, P, wrap=False)\n",
    "    #         zcoord = 2\n",
    "    #         offset = 6\n",
    "    #         slabmax = max(s, key = lambda x: x.position[1]).position[1]\n",
    "    #         \n",
    "    #         p = np.array(refPosition) + np.random.random(2) * offset - offset/2\n",
    "    #         add_adsorbate(s, 'Ar', height =  6, position = p[:2])\n",
    "            add_adsorbate(s, 'C', height =  1.5, position = p[:2])\n",
    "    #         hf = Atoms(\"HF\", positions = [[0,0,0], [1.0, 0,0 ]])\n",
    "    #         add_adsorbate(s, hf, height =  2, position = p[:2])\n",
    "    #         add_adsorbate(s, mef, height =  2, position = p[:2])\n",
    "    #         nearbyAtoms = [np.linalg.norm(p[::2] - atom.position[::2]) < 1.5 \n",
    "    #                        for atom in supercell] # hacky way of omitting y from list of x, y, z\n",
    "    #         try:\n",
    "    #             sitemax = max(supercell[nearbyAtoms], key = lambda x: x.position[1]).position[1]\n",
    "    #         except:\n",
    "    #             sitemax = max(s, key = lambda x: x.position[1]).position[1]\n",
    "    #         if sitemax > 50:\n",
    "    #             print(p)\n",
    "    #             print('%d-%d' % (d,run))\n",
    "\n",
    "    #         s.append(Atom('Ar', position = (p[0], slabmax + zcoord, p[2])))\n",
    "    #         s.append(Atom('F', position = (p[0], sitemax + zcoord, p[2])))\n",
    "    #         s.append(Atom('F', position = (p[0], sitemax + zcoord + 1.2, p[2])))\n",
    "        gen.write_gen(output_dir + \"input%d-%d.gen\" % (d, run), s)\n",
    "    #         gen.write_gen(output_dir + \"input%d.gen\" % (d * runs_per_dir + run), s)\n",
    "    #         gen.write_gen(output_dir + \"input%d\" % (run + 1), s)\n",
    "    #         i += 1\n",
    "\n",
    "#     vasp.write_vasp(\"../POSCAR\", s, sort = True, vasp5 = True)\n",
    "# view(s)\n",
    "view([gen.read_gen(output_dir + i) for i in os.listdir(output_dir)])"
   ]
  },
  {
   "cell_type": "code",
   "execution_count": null,
   "metadata": {
    "ExecuteTime": {
     "end_time": "2021-04-27T00:25:00.945981Z",
     "start_time": "2021-04-27T00:25:00.704Z"
    }
   },
   "outputs": [],
   "source": [
    "ref.constraints = FixAtoms(np.arange(80))\n",
    "view(ref)"
   ]
  },
  {
   "cell_type": "code",
   "execution_count": null,
   "metadata": {
    "ExecuteTime": {
     "end_time": "2021-04-27T00:25:00.946760Z",
     "start_time": "2021-04-27T00:25:00.712Z"
    }
   },
   "outputs": [],
   "source": [
    "len(os.listdir(output_dir))"
   ]
  },
  {
   "cell_type": "code",
   "execution_count": null,
   "metadata": {
    "ExecuteTime": {
     "end_time": "2021-04-27T00:25:00.947451Z",
     "start_time": "2021-04-27T00:25:00.720Z"
    }
   },
   "outputs": [],
   "source": [
    "temp = gen.read_gen('../inputs/input7-3')\n",
    "temp.constraints = FixAtoms(np.arange(32))\n",
    "view(temp)"
   ]
  },
  {
   "cell_type": "markdown",
   "metadata": {},
   "source": [
    "#### Regular gridding\n"
   ]
  },
  {
   "cell_type": "code",
   "execution_count": null,
   "metadata": {
    "ExecuteTime": {
     "end_time": "2021-04-27T00:25:00.948037Z",
     "start_time": "2021-04-27T00:25:00.732Z"
    }
   },
   "outputs": [],
   "source": [
    "view(xtl2x2)"
   ]
  },
  {
   "cell_type": "code",
   "execution_count": null,
   "metadata": {
    "ExecuteTime": {
     "end_time": "2021-04-27T00:25:00.948610Z",
     "start_time": "2021-04-27T00:25:00.742Z"
    }
   },
   "outputs": [],
   "source": [
    "# xtl2x2 = gen.read_gen(\"../input.gen\")\n",
    "# outstruct = list(xyz.read_xyz(\"../training/crystal/100K.xyz\"))[0]\n",
    "# outstruct = [i for i in xyz.read_xyz(\"../training/crystal/1000K.xyz\", index = -1)][0]\n",
    "# outstruct = vasp.read_vasp(\"../CONTCAR\")\n",
    "outstruct = gen.read_gen(\"../input.gen\")\n",
    "del outstruct[[atom.index for atom in outstruct if atom.symbol == 'Ar']]\n",
    "# outstruct.cell = xtl2x2.cell\n",
    "# outstruct.cell[2, 2] += 10\n",
    "outstruct.pbc = True\n",
    "order = [atom.index for atom in sorted(outstruct, key = lambda atom: atom.position[2])]\n",
    "\n",
    "tempstruct = Atoms(sorted(outstruct, key = lambda atom: atom.position[2]))\n",
    "del outstruct[[atom.index for atom in outstruct]]\n",
    "outstruct += tempstruct\n",
    "outstruct.constraints = FixAtoms(np.arange(32))\n",
    "# view(outstruct)\n",
    "\n",
    "hf = Atoms(\"HF\", positions=np.array([(0,0,0), (0,0,1)]))\n",
    "numpoints = 5\n",
    "gridpts = np.linspace(0, 1 - 1/numpoints, numpoints)\n",
    "x, y = np.meshgrid(gridpts, gridpts)\n",
    "z = np.zeros(x.shape)\n",
    "coords = list(zip(x.flatten(),y.flatten(),z.flatten()))\n",
    "coords = list(map(outstruct.cell.cartesian_positions, coords))\n",
    "adsorbedStructs= []\n",
    "for xi, yi, zi in coords:\n",
    "#     adsorbedStruct = outstruct.copy() \n",
    "    adsorbedStruct = outstruct\n",
    "    xi += np.random.normal(scale = 0.5)\n",
    "    yi += np.random.normal(scale = 0.5)\n",
    "    add_adsorbate(adsorbedStruct, hf, position = (xi, yi), height = 1 + np.random.normal())\n",
    "#     adsorbedStructs += [adsorbedStruct]\n",
    "    \n",
    "# view(adsorbedStructs)\n",
    "view(outstruct)\n",
    "# vasp.write_vasp(\"../POSCAR\", outstruct, sort = True, vasp5 = True)\n",
    "gen.write_gen(\"../hflayer.gen\", outstruct)\n",
    "# for i, s in enumerate(adsorbedStructs):\n",
    "#     gen.write_gen(\"input%d\" % i, s)\n",
    "#     vasp.write_vasp(\"input%d\"%i, s, sort = True, vasp5= True)"
   ]
  },
  {
   "cell_type": "code",
   "execution_count": null,
   "metadata": {
    "ExecuteTime": {
     "end_time": "2021-04-27T00:25:00.949279Z",
     "start_time": "2021-04-27T00:25:00.751Z"
    }
   },
   "outputs": [],
   "source": [
    "view(outstruct)"
   ]
  },
  {
   "cell_type": "markdown",
   "metadata": {
    "heading_collapsed": true
   },
   "source": [
    "### VASP"
   ]
  },
  {
   "cell_type": "code",
   "execution_count": null,
   "metadata": {
    "ExecuteTime": {
     "end_time": "2021-04-27T00:25:00.949971Z",
     "start_time": "2021-04-27T00:25:00.764Z"
    },
    "hidden": true,
    "scrolled": false
   },
   "outputs": [],
   "source": [
    "#for 25 grid pts\n",
    "\n",
    "i = 1\n",
    "for _x in np.arange(0, 1, .2):\n",
    "    for _y in np.arange(0, 1, .2):\n",
    "        s = xtl_si.copy()\n",
    "        x, y, z = xtl_si.cell.cartesian_positions([_x, _y, 0])\n",
    "        add_adsorbate(s, cf4, height = 2, position = (x, y))\n",
    "        s = Atoms(sorted(s, key = lambda x: x.symbol))\n",
    "        s.cell = xtl_si.cell\n",
    "        vasp.write_vasp(\"../POSCAR\" + str(i), s, \n",
    "                        label = 'cf4 on nrich', vasp5=True)\n",
    "        i += 1\n",
    "\n",
    "show_atoms_grid([vasp.read_vasp(\"../POSCAR\" + str(i)) for i in range(1,26)])"
   ]
  },
  {
   "cell_type": "markdown",
   "metadata": {},
   "source": [
    "## Seeding random velocities\n"
   ]
  },
  {
   "cell_type": "code",
   "execution_count": null,
   "metadata": {
    "ExecuteTime": {
     "end_time": "2021-04-27T00:25:00.950667Z",
     "start_time": "2021-04-27T00:25:00.777Z"
    }
   },
   "outputs": [],
   "source": [
    "np.cos(-np.pi/2)"
   ]
  },
  {
   "cell_type": "code",
   "execution_count": null,
   "metadata": {
    "ExecuteTime": {
     "end_time": "2021-04-27T00:25:00.951507Z",
     "start_time": "2021-04-27T00:25:00.789Z"
    }
   },
   "outputs": [],
   "source": [
    "temp = vasp.read_vasp(\"../CONTCAR\")\n",
    "len(temp)"
   ]
  },
  {
   "cell_type": "code",
   "execution_count": null,
   "metadata": {
    "ExecuteTime": {
     "end_time": "2021-04-27T00:25:00.952272Z",
     "start_time": "2021-04-27T00:25:00.798Z"
    }
   },
   "outputs": [],
   "source": [
    "np.random.seed(429)\n",
    "velodir = \"../velodir/\"\n",
    "for i in os.listdir(velodir):\n",
    "    with open(velodir + i, 'a') as f:\n",
    "        print(f)\n",
    "        f.write(\" \".join(np.array([0, -np.random.randint(100, 200), 0], dtype = str)))"
   ]
  },
  {
   "cell_type": "markdown",
   "metadata": {},
   "source": [
    "## Finding atoms above/below some z coordinate"
   ]
  },
  {
   "cell_type": "markdown",
   "metadata": {
    "heading_collapsed": true
   },
   "source": [
    "### Create dangling bond on each site"
   ]
  },
  {
   "cell_type": "code",
   "execution_count": null,
   "metadata": {
    "ExecuteTime": {
     "end_time": "2021-04-27T00:25:00.953751Z",
     "start_time": "2021-04-27T00:25:00.818Z"
    },
    "hidden": true,
    "scrolled": false
   },
   "outputs": [],
   "source": [
    "src = vasp.read_vasp(\"reference_files/CONTCAR_sirich\") \n",
    "cutoff_elems = ['H']\n",
    "zcutoff = 10\n",
    "cutoff_atoms = [atom for atom in src if \n",
    " atom.symbol in cutoff_elems and atom.position[2] > zcutoff]\n",
    "cutoff_indices = [atom.index for atom in cutoff_atoms]\n",
    "\n",
    "db_structs = [src[[atom.index for atom in src if atom.index!=i]] \n",
    "              for i in cutoff_indices] #remove one H each\n",
    "for atom, struct in zip(cutoff_atoms, db_structs):\n",
    "    x, y, z = atom.position\n",
    "    add_adsorbate(struct, \"Cl\", height = 1, position = (x, y))\n",
    "\n",
    "show_atoms_grid(db_structs)\n",
    "\n",
    "for i, s in enumerate(db_structs, start = 1):\n",
    "    vasp.write_vasp(\"POSCAR_SiCl\" + str(i), s,vasp5=True)"
   ]
  },
  {
   "cell_type": "markdown",
   "metadata": {},
   "source": [
    "### Finding bottom layer"
   ]
  },
  {
   "cell_type": "code",
   "execution_count": null,
   "metadata": {
    "ExecuteTime": {
     "end_time": "2021-04-27T00:25:00.954546Z",
     "start_time": "2021-04-27T00:25:00.836Z"
    }
   },
   "outputs": [],
   "source": [
    "# src = gen.read_gen(\"geo_end.gen\")\n",
    "# # src = gen.read_gen(\"../training/bomb0.13/output0-0.gen\")\n",
    "# # src = gen.read_gen(\"../trimmedgeoms/input.gen\")\n",
    "# cutoff_elems = ['Si', 'N', 'H']\n",
    "# zcutoff = 4\n",
    "# cutoff_atoms = [atom for atom in src if \n",
    "#  atom.symbol in cutoff_elems and atom.position[2] < zcutoff]\n",
    "# cutoff_indices = [atom.index for atom in cutoff_atoms]\n",
    "\n",
    "# # db_structs = [src[[atom.index for atom in src if atom.index!=i]] \n",
    "# #               for i in cutoff_indices] #remove one H each\n",
    "\n",
    "# src.constraints = [FixAtoms(indices = cutoff_indices)]\n",
    "# view(src)\n",
    "\n",
    "\n",
    "# gen.write_gen(\"test.gen\", src)\n",
    "# print(np.array(cutoff_indices) + 1)\n",
    "# movedatoms = np.array([atom.index for atom in src if atom.index not in cutoff_indices]) + 1\n",
    "# \" \".join(np.array(movedatoms, dtype = str))\n",
    "\n",
    "\n",
    "src = gen.read_gen(\"../thick_amorphous_bottomterm.gen\")\n",
    "# src = xtl2x2\n",
    "order = [atom.index for atom in sorted(src, key = lambda atom: atom.position[2])]\n",
    "\n",
    "tempstruct = Atoms(sorted(src, key = lambda atom: atom.position[2]))\n",
    "del src[[atom.index for atom in src]]\n",
    "src += tempstruct\n",
    "src.constraints = FixAtoms(np.arange(80))\n",
    "view(src)\n",
    "gen.write_gen(\"../thick_amorphous_bottomterm.gen\", src)"
   ]
  },
  {
   "cell_type": "code",
   "execution_count": null,
   "metadata": {
    "ExecuteTime": {
     "end_time": "2021-04-27T00:25:00.955298Z",
     "start_time": "2021-04-27T00:25:00.850Z"
    }
   },
   "outputs": [],
   "source": [
    "view(xtl2x2)"
   ]
  },
  {
   "cell_type": "code",
   "execution_count": null,
   "metadata": {
    "ExecuteTime": {
     "end_time": "2021-04-27T00:25:00.956094Z",
     "start_time": "2021-04-27T00:25:00.863Z"
    }
   },
   "outputs": [],
   "source": [
    "\" \".join([str(a.index + 1) for a in gen.read_gen(\"../inputs/input1\") if a.position[2] > 3.4])"
   ]
  },
  {
   "cell_type": "code",
   "execution_count": null,
   "metadata": {
    "ExecuteTime": {
     "end_time": "2021-04-27T00:25:00.956617Z",
     "start_time": "2021-04-27T00:25:00.877Z"
    }
   },
   "outputs": [],
   "source": [
    "for i in range(len(src)):\n",
    "    if src[i].symbol == 'F':\n",
    "        src[i].symbol = 'H'\n",
    "view(src)\n",
    "gen.write_gen(\"../input.gen\", src)"
   ]
  },
  {
   "cell_type": "markdown",
   "metadata": {
    "heading_collapsed": true
   },
   "source": [
    "## Editing trajectories"
   ]
  },
  {
   "cell_type": "code",
   "execution_count": null,
   "metadata": {
    "ExecuteTime": {
     "end_time": "2021-04-27T00:25:00.957424Z",
     "start_time": "2021-04-27T00:25:00.893Z"
    },
    "hidden": true
   },
   "outputs": [],
   "source": [
    "temp = gen.read_gen(\"../geom.out.gen\")\n",
    "temp.wrap()\n",
    "xyz.write_xyz(\"../temp.xyz\", temp)"
   ]
  },
  {
   "cell_type": "code",
   "execution_count": null,
   "metadata": {
    "ExecuteTime": {
     "end_time": "2021-04-27T00:25:00.958108Z",
     "start_time": "2021-04-27T00:25:00.905Z"
    },
    "hidden": true
   },
   "outputs": [],
   "source": [
    "for i in range(10):\n",
    "    traj = xyz.read_xyz(\"../movie.xyz\", index = i)\n",
    "    print(next(traj))"
   ]
  },
  {
   "cell_type": "markdown",
   "metadata": {},
   "source": [
    "## File conversion"
   ]
  },
  {
   "cell_type": "markdown",
   "metadata": {},
   "source": [
    "DFTB to VASP"
   ]
  },
  {
   "cell_type": "code",
   "execution_count": null,
   "metadata": {
    "ExecuteTime": {
     "end_time": "2021-04-27T00:25:00.958783Z",
     "start_time": "2021-04-27T00:25:00.924Z"
    }
   },
   "outputs": [],
   "source": [
    "temp = gen.read_gen(\"../geom.out.gen\")\n",
    "# s.cell = temp.cell\n",
    "\n",
    "temp.constraints = FixAtoms(np.arange(80))\n",
    "vasp.write_vasp(\"../POSCAR\", temp, label = 'bomb16(0-0)', sort = True, vasp5=True)"
   ]
  },
  {
   "cell_type": "code",
   "execution_count": 51,
   "metadata": {
    "ExecuteTime": {
     "end_time": "2021-04-27T00:25:01.068464Z",
     "start_time": "2021-04-27T00:25:01.060484Z"
    }
   },
   "outputs": [
    {
     "ename": "NameError",
     "evalue": "name 'view' is not defined",
     "output_type": "error",
     "traceback": [
      "\u001b[0;31m---------------------------------------------------------------------------\u001b[0m",
      "\u001b[0;31mNameError\u001b[0m                                 Traceback (most recent call last)",
      "\u001b[0;32m<ipython-input-51-d1529a45e947>\u001b[0m in \u001b[0;36m<module>\u001b[0;34m\u001b[0m\n\u001b[0;32m----> 1\u001b[0;31m \u001b[0mview\u001b[0m\u001b[0;34m(\u001b[0m\u001b[0mtemp\u001b[0m\u001b[0;34m)\u001b[0m\u001b[0;34m\u001b[0m\u001b[0;34m\u001b[0m\u001b[0m\n\u001b[0m",
      "\u001b[0;31mNameError\u001b[0m: name 'view' is not defined"
     ]
    }
   ],
   "source": [
    "view(temp)"
   ]
  },
  {
   "cell_type": "markdown",
   "metadata": {},
   "source": [
    "VASP to DFTB"
   ]
  },
  {
   "cell_type": "code",
   "execution_count": null,
   "metadata": {
    "ExecuteTime": {
     "end_time": "2021-04-27T00:25:01.070888Z",
     "start_time": "2021-04-27T00:25:00.948Z"
    }
   },
   "outputs": [],
   "source": [
    "temp = vasp.read_vasp(\"../POSCAR\")\n",
    "gen.write_gen(\"../input.gen\", temp)\n",
    "view(gen.read_gen(\"../input.gen\"))"
   ]
  },
  {
   "cell_type": "markdown",
   "metadata": {},
   "source": [
    "XYZ to VASP"
   ]
  },
  {
   "cell_type": "code",
   "execution_count": null,
   "metadata": {
    "ExecuteTime": {
     "end_time": "2021-04-27T00:25:01.072306Z",
     "start_time": "2021-04-27T00:25:00.957Z"
    }
   },
   "outputs": [],
   "source": [
    "temp = list(xyz.read_xyz(\"../GEOMETRY.xyz\"))[0]\n",
    "temp.cell = Cell([[11.29, 0, 0], [0, 11.29, 0], [0, 0, 11.29]])\n",
    "vasp.write_vasp(\"../POSCAR_ec\", temp, sort = True, vasp5=True)"
   ]
  },
  {
   "cell_type": "code",
   "execution_count": null,
   "metadata": {
    "ExecuteTime": {
     "end_time": "2021-04-27T00:25:01.073751Z",
     "start_time": "2021-04-27T00:25:00.964Z"
    }
   },
   "outputs": [],
   "source": [
    "temp.cell"
   ]
  },
  {
   "cell_type": "markdown",
   "metadata": {},
   "source": [
    "VASP (Direct) to VASP (Cartesian)"
   ]
  },
  {
   "cell_type": "code",
   "execution_count": null,
   "metadata": {
    "ExecuteTime": {
     "end_time": "2021-04-27T00:25:01.075585Z",
     "start_time": "2021-04-27T00:25:00.973Z"
    }
   },
   "outputs": [],
   "source": [
    "temp = vasp.read_vasp(\"../CONTCAR\")\n",
    "vasp.write_vasp(\"../POSCAR\", temp,sort = True,vasp5=True)"
   ]
  },
  {
   "cell_type": "markdown",
   "metadata": {},
   "source": [
    "## Makin a supercell and maybe shuffling some atoms around etc idk"
   ]
  },
  {
   "cell_type": "code",
   "execution_count": null,
   "metadata": {
    "ExecuteTime": {
     "end_time": "2021-04-27T00:25:01.076615Z",
     "start_time": "2021-04-27T00:25:00.984Z"
    },
    "scrolled": false
   },
   "outputs": [],
   "source": [
    "vasp.write_vasp(\"../POSCAR\", temp, sort = True, vasp5=True)"
   ]
  },
  {
   "cell_type": "code",
   "execution_count": null,
   "metadata": {
    "ExecuteTime": {
     "end_time": "2021-04-27T00:25:01.077580Z",
     "start_time": "2021-04-27T00:25:00.991Z"
    }
   },
   "outputs": [],
   "source": [
    "tempsource = \"../POSCAR.gen\"\n",
    "# temp = vasp.read_vasp(tempsource) # for vasp\n",
    "temp = gen.read_gen(tempsource) # for gen\n",
    "# temp = list(xyz.read_xyz(tempsource))[0] # for xyz\n",
    "m = 3 \n",
    "P = np.array([[m, 0, 0],\n",
    "              [0, m, 0],\n",
    "              [0, 0, m]\n",
    "             ])\n",
    "s = make_supercell(temp, P)\n",
    "\n",
    "deletestuff = False\n",
    "\n",
    "# deletion operations go here\n",
    "if deletestuff:\n",
    "    atomstoremove = [70, 71, 72, 73, 74,\n",
    "                     145, 146, 147, 148, 149,\n",
    "                     295, 296, 297, 297, 298, 299\n",
    "                     , 220, 221, 222, 223, 224 #uncomment to get bare surface\n",
    "                    ]\n",
    "    del s[[atom.index for atom in s if atom.index in atomstoremove]]\n",
    "    \n",
    "\n",
    "# for sorting:\n",
    "outstruct = s\n",
    "order = [atom.index for atom in sorted(outstruct, key = lambda atom: atom.position[2])]\n",
    "\n",
    "tempstruct = Atoms(sorted(outstruct, key = lambda atom: atom.position[2]))\n",
    "del outstruct[[atom.index for atom in outstruct]]\n",
    "outstruct += tempstruct\n",
    "s = outstruct\n",
    "    \n",
    "    \n",
    "gen.write_gen(tempsource + \"%dx%dcell.gen\" % (m, m), s)\n",
    "temp = s\n",
    "# temp.constraints = FixAtoms(np.arange(72))\n",
    "\n",
    "#if cell modification/addition is needed\n",
    "# temp.cell = gen.read_gen(\"../geom.out.gen\").cell * np.array([1.5, 1.5, 1])\n",
    "# temp.pbc = True\n",
    "\n",
    "print(len(temp))\n",
    "view(temp)\n",
    "gen.write_gen(\"../input.gen\", temp)"
   ]
  },
  {
   "cell_type": "code",
   "execution_count": null,
   "metadata": {
    "ExecuteTime": {
     "end_time": "2021-04-27T00:25:01.078484Z",
     "start_time": "2021-04-27T00:25:00.999Z"
    }
   },
   "outputs": [],
   "source": [
    "view(gen.read_gen(\"../input.gen\"))"
   ]
  },
  {
   "cell_type": "code",
   "execution_count": null,
   "metadata": {
    "ExecuteTime": {
     "end_time": "2021-04-27T00:25:01.079300Z",
     "start_time": "2021-04-27T00:25:01.007Z"
    }
   },
   "outputs": [],
   "source": [
    "KE(.15), KE(.2)"
   ]
  },
  {
   "cell_type": "code",
   "execution_count": null,
   "metadata": {
    "ExecuteTime": {
     "end_time": "2021-04-27T00:25:01.080180Z",
     "start_time": "2021-04-27T00:25:01.015Z"
    }
   },
   "outputs": [],
   "source": [
    "temp.cell"
   ]
  },
  {
   "cell_type": "code",
   "execution_count": null,
   "metadata": {
    "ExecuteTime": {
     "end_time": "2021-04-27T00:25:01.081137Z",
     "start_time": "2021-04-27T00:25:01.023Z"
    }
   },
   "outputs": [],
   "source": [
    "from ase.build import add_vacuum\n",
    "\n",
    "tempsource = \"../harc/SiO2_mp-7000_computed.vasp\"\n",
    "temp = vasp.read_vasp(tempsource)\n",
    "\n",
    "m = 2\n",
    "n = 3\n",
    "P = np.array([[m, 0, 0],\n",
    "              [0, m, 0],\n",
    "              [0, 0, n]\n",
    "             ])\n",
    "s = make_supercell(temp, P)\n",
    "add_vacuum(s, 17)\n",
    "s.translate([0,0, 2])\n",
    "del s[[atom.index for atom in s if atom.symbol == \"O\" and atom.position[2] > 17]]\n",
    "# s.edit()\n",
    "view(s)"
   ]
  },
  {
   "cell_type": "code",
   "execution_count": null,
   "metadata": {
    "ExecuteTime": {
     "end_time": "2021-04-27T00:25:01.081898Z",
     "start_time": "2021-04-27T00:25:01.031Z"
    }
   },
   "outputs": [],
   "source": [
    "temp = gen.read_gen(\"../harc/fterm.gen\")\n",
    "temp.constraints = FixAtoms(indices = [atom.index for atom in temp if atom.position[2] < 3])\n",
    "view(temp)\n",
    "vasp.write_vasp(\"../harc/POSCAR_f\", temp, sort=True, vasp5= True)"
   ]
  },
  {
   "cell_type": "code",
   "execution_count": null,
   "metadata": {
    "ExecuteTime": {
     "end_time": "2021-04-27T00:25:01.082822Z",
     "start_time": "2021-04-27T00:25:01.040Z"
    }
   },
   "outputs": [],
   "source": [
    "from ase.build import add_vacuum\n",
    "\n",
    "tempsource = \"../CONTCAR\"\n",
    "temp = vasp.read_vasp(tempsource)\n",
    "\n",
    "m = 2\n",
    "n = 3\n",
    "P = np.array([[m, 0, 0],\n",
    "              [0, m, 0],\n",
    "              [0, 0, n]\n",
    "             ])\n",
    "s = make_supercell(temp, P)\n",
    "add_vacuum(s, 17)\n",
    "s.translate([0,0, 2])\n",
    "del s[[atom.index for atom in s if atom.symbol == \"O\" and atom.position[2] > 17]]\n",
    "s.edit()"
   ]
  },
  {
   "cell_type": "code",
   "execution_count": null,
   "metadata": {
    "ExecuteTime": {
     "end_time": "2021-04-27T00:25:01.083794Z",
     "start_time": "2021-04-27T00:25:01.049Z"
    }
   },
   "outputs": [],
   "source": [
    "s = gen.read_gen(\"sislab.gen\")\n",
    "s.edit()"
   ]
  },
  {
   "cell_type": "code",
   "execution_count": null,
   "metadata": {
    "ExecuteTime": {
     "end_time": "2021-04-27T00:25:01.084532Z",
     "start_time": "2021-04-27T00:25:01.057Z"
    }
   },
   "outputs": [],
   "source": [
    "calc = Dftb(label='relax', atoms=s,\n",
    "            run_manyDftb_steps=True,\n",
    "            Driver_='ConjugateGradient',\n",
    "            Driver_MaxForceComponent='1E-4',\n",
    "            Driver_MaxSteps=1000,\n",
    "            kpts = (1,1,1),\n",
    "            Hamiltonian_MaxAngularMomentum_='',\n",
    "            Hamiltonian_MaxAngularMomentum_Si='\"p\"',\n",
    "            Hamiltonian_MaxAngularMomentum_H='\"s\"',\n",
    "            Hamiltonian_MaxAngularMomentum_F='\"p\"')\n",
    "\n",
    "\n",
    "s.calc = calc\n",
    "calc.calculate(s)\n",
    "final = gen.read_gen('geo_end.gen')\n",
    "gen.write_gen('test.final.xyz', final)\n",
    "view(s)"
   ]
  },
  {
   "cell_type": "code",
   "execution_count": 52,
   "metadata": {
    "ExecuteTime": {
     "end_time": "2021-04-27T00:25:01.198017Z",
     "start_time": "2021-04-27T00:25:01.186831Z"
    }
   },
   "outputs": [
    {
     "ename": "NameError",
     "evalue": "name 'temp' is not defined",
     "output_type": "error",
     "traceback": [
      "\u001b[0;31m---------------------------------------------------------------------------\u001b[0m",
      "\u001b[0;31mNameError\u001b[0m                                 Traceback (most recent call last)",
      "\u001b[0;32m<ipython-input-52-da77557ed0c8>\u001b[0m in \u001b[0;36m<module>\u001b[0;34m\u001b[0m\n\u001b[0;32m----> 1\u001b[0;31m \u001b[0mtemp\u001b[0m\u001b[0;34m\u001b[0m\u001b[0;34m\u001b[0m\u001b[0m\n\u001b[0m",
      "\u001b[0;31mNameError\u001b[0m: name 'temp' is not defined"
     ]
    }
   ],
   "source": [
    "temp"
   ]
  },
  {
   "cell_type": "code",
   "execution_count": null,
   "metadata": {
    "ExecuteTime": {
     "end_time": "2021-04-27T00:25:01.200190Z",
     "start_time": "2021-04-27T00:25:01.080Z"
    }
   },
   "outputs": [],
   "source": [
    "from ase.build import add_vacuum\n",
    "# temp = list(xyz.read_xyz(\"../euv/linearabab.xyz\"))[0]\n",
    "temp = gen.read_gen(\"../euv/euvslab.gen\")\n",
    "fixedatoms = [82, 172, 262, 352]\n",
    "temp.constraints = FixAtoms(fixedatoms)\n",
    "view(temp)\n",
    "\" \".join([str(atom.index + 1) for atom in temp if atom.index not in fixedatoms])"
   ]
  },
  {
   "cell_type": "code",
   "execution_count": null,
   "metadata": {
    "ExecuteTime": {
     "end_time": "2021-04-27T00:25:01.201720Z",
     "start_time": "2021-04-27T00:25:01.092Z"
    }
   },
   "outputs": [],
   "source": [
    "1.24 * 10000/3600"
   ]
  },
  {
   "cell_type": "markdown",
   "metadata": {
    "heading_collapsed": true
   },
   "source": [
    "## Miscellaneous molecule generation"
   ]
  },
  {
   "cell_type": "code",
   "execution_count": null,
   "metadata": {
    "ExecuteTime": {
     "end_time": "2021-04-27T00:25:01.203076Z",
     "start_time": "2021-04-27T00:25:01.109Z"
    },
    "hidden": true
   },
   "outputs": [],
   "source": [
    "template = gen.read_gen(\"../input.gen\")\n",
    "del template[[atom.index for atom in template if atom.symbol == \"F\"]]\n",
    "for atom in template:\n",
    "    if atom.symbol == \"C\":\n",
    "        atom.symbol = \"N\"\n",
    "view(template)\n",
    "gen.write_gen(\"../input_isobomb.gen\", template)\n",
    "vasp.write_vasp(\"../POSCAR_isobomb\", template, vasp5= True, sort = True)"
   ]
  },
  {
   "cell_type": "markdown",
   "metadata": {},
   "source": [
    "## Manual editing"
   ]
  },
  {
   "cell_type": "code",
   "execution_count": null,
   "metadata": {
    "ExecuteTime": {
     "end_time": "2021-04-27T00:25:01.204703Z",
     "start_time": "2021-04-27T00:25:01.125Z"
    }
   },
   "outputs": [],
   "source": [
    "temp = gen.read_gen(\"../geom.out.gen\")\n",
    "vasp.write_vasp(\"../POSCAR\", temp, sort = True, vasp5= True)\n",
    "view(temp)\n",
    "# temp.edit()"
   ]
  },
  {
   "cell_type": "markdown",
   "metadata": {},
   "source": [
    "## Angle/bond sweeps"
   ]
  },
  {
   "cell_type": "code",
   "execution_count": null,
   "metadata": {
    "ExecuteTime": {
     "end_time": "2021-04-27T00:25:01.206473Z",
     "start_time": "2021-04-27T00:25:01.135Z"
    }
   },
   "outputs": [],
   "source": [
    "x"
   ]
  },
  {
   "cell_type": "code",
   "execution_count": null,
   "metadata": {
    "ExecuteTime": {
     "end_time": "2021-04-27T00:25:01.207874Z",
     "start_time": "2021-04-27T00:25:01.143Z"
    }
   },
   "outputs": [],
   "source": [
    "from numpy import cross, eye, dot\n",
    "from scipy.linalg import expm, norm\n",
    "\n",
    "\n",
    "\n",
    "temp = vasp.read_vasp(\"../CONTCAR\") # for si(nh2)_3\n",
    "si = temp[[atom.index for atom in temp if atom.symbol == \"Si\"]][0]\n",
    "ns = temp[[atom.index for atom in temp if atom.symbol == \"N\"]]\n",
    "x1, x2 = n1.position - n2.position, n2.position - n3.position\n",
    "x = np.cross(x1, x2)\n",
    "x = x/np.linalg.norm(x)\n",
    "if (si.position + x)[2] > si.position[2]:\n",
    "    x = -x\n",
    "    \n",
    "def M(axis, theta):\n",
    "    return expm(cross(eye(3), axis/norm(axis)*theta))\n",
    "\n",
    "newgeoms = []\n",
    "for i, angle in enumerate(np.linspace(0, -np.pi/2 * 1/3, 10)):\n",
    "    copy = temp.copy()\n",
    "    copy.append(Atom(\"F\", position = si.position + x * 1.5))\n",
    "    del copy[[atom.index for atom in temp if atom.symbol != 'Si']]\n",
    "    for n in ns:\n",
    "        axis = np.cross(x, si.position - n.position)\n",
    "        M0 = M(axis, angle)\n",
    "        copy.append(Atom(\"N\", position = si.position + np.dot(M0, n.position - si.position)))\n",
    "        for h in temp[[atom.index for atom in temp if atom.symbol == \"H\"]]:\n",
    "            if np.linalg.norm(n.position - h.position) < 1.5:\n",
    "                copy.append(Atom(\"H\", position = si.position + np.dot(M0, h.position - si.position)))\n",
    "        copy.constraints = FixAtoms([atom.index for atom in copy if atom.symbol != \"F\"])\n",
    "    vasp.write_vasp(\"../POSCAR{}\".format(i), copy, vasp5=True, sort = True)\n",
    "    newgeoms += [copy]\n",
    "view(newgeoms)"
   ]
  },
  {
   "cell_type": "markdown",
   "metadata": {},
   "source": [
    "# Visualization"
   ]
  },
  {
   "cell_type": "code",
   "execution_count": null,
   "metadata": {
    "ExecuteTime": {
     "end_time": "2021-04-27T00:25:01.209212Z",
     "start_time": "2021-04-27T00:25:01.154Z"
    }
   },
   "outputs": [],
   "source": [
    "view(gen.read_gen(\"../input4.gen\"))"
   ]
  },
  {
   "cell_type": "code",
   "execution_count": null,
   "metadata": {
    "ExecuteTime": {
     "end_time": "2021-04-27T00:25:01.210522Z",
     "start_time": "2021-04-27T00:25:01.162Z"
    }
   },
   "outputs": [],
   "source": [
    "view(vasp.read_vasp(\"../CONTCAR\"))"
   ]
  },
  {
   "cell_type": "code",
   "execution_count": null,
   "metadata": {
    "ExecuteTime": {
     "end_time": "2021-04-27T00:25:01.211742Z",
     "start_time": "2021-04-27T00:25:01.171Z"
    }
   },
   "outputs": [],
   "source": [
    "view([gen.read_gen(\"../input%d.gen\"%i) for i in range(4)])"
   ]
  },
  {
   "cell_type": "code",
   "execution_count": null,
   "metadata": {
    "ExecuteTime": {
     "end_time": "2021-04-27T00:25:01.213087Z",
     "start_time": "2021-04-27T00:25:01.180Z"
    }
   },
   "outputs": [],
   "source": [
    "for i in range(4):\n",
    "    temp = gen.read_gen(\"../slab%d.gen\"%i)\n",
    "    vasp.write_vasp(\"../POSCAR%i\"%(i), temp, sort= True, vasp5=True)"
   ]
  },
  {
   "cell_type": "code",
   "execution_count": null,
   "metadata": {
    "ExecuteTime": {
     "end_time": "2021-04-27T00:25:01.214362Z",
     "start_time": "2021-04-27T00:25:01.190Z"
    }
   },
   "outputs": [],
   "source": [
    "view([vasp.read_vasp(\"../POSCAR%i\" %i) for i in range (4)])"
   ]
  },
  {
   "cell_type": "markdown",
   "metadata": {
    "heading_collapsed": true
   },
   "source": [
    "## Adsorbate plotting + energy contour plot"
   ]
  },
  {
   "cell_type": "code",
   "execution_count": 53,
   "metadata": {
    "ExecuteTime": {
     "end_time": "2021-04-27T00:25:01.379333Z",
     "start_time": "2021-04-27T00:25:01.316332Z"
    },
    "hidden": true,
    "scrolled": false
   },
   "outputs": [
    {
     "ename": "NameError",
     "evalue": "name 'vasp' is not defined",
     "output_type": "error",
     "traceback": [
      "\u001b[0;31m---------------------------------------------------------------------------\u001b[0m",
      "\u001b[0;31mNameError\u001b[0m                                 Traceback (most recent call last)",
      "\u001b[0;32m<ipython-input-53-57b6ee5ce17c>\u001b[0m in \u001b[0;36m<module>\u001b[0;34m\u001b[0m\n\u001b[1;32m     21\u001b[0m \u001b[0;34m\u001b[0m\u001b[0m\n\u001b[1;32m     22\u001b[0m \u001b[0;31m#read structures\u001b[0m\u001b[0;34m\u001b[0m\u001b[0;34m\u001b[0m\u001b[0;34m\u001b[0m\u001b[0m\n\u001b[0;32m---> 23\u001b[0;31m \u001b[0mdata1\u001b[0m \u001b[0;34m=\u001b[0m \u001b[0;34m(\u001b[0m\u001b[0;34m[\u001b[0m\u001b[0mvasp\u001b[0m\u001b[0;34m.\u001b[0m\u001b[0mread_vasp\u001b[0m\u001b[0;34m(\u001b[0m\u001b[0;34m\"../CONTCAR\"\u001b[0m\u001b[0;34m+\u001b[0m\u001b[0mstr\u001b[0m\u001b[0;34m(\u001b[0m\u001b[0mi\u001b[0m\u001b[0;34m)\u001b[0m\u001b[0;34m)\u001b[0m \u001b[0;32mfor\u001b[0m \u001b[0mi\u001b[0m \u001b[0;32min\u001b[0m \u001b[0mrange\u001b[0m\u001b[0;34m(\u001b[0m\u001b[0;36m0\u001b[0m\u001b[0;34m,\u001b[0m \u001b[0mnum_structs\u001b[0m\u001b[0;34m)\u001b[0m\u001b[0;34m]\u001b[0m\u001b[0;34m)\u001b[0m\u001b[0;34m\u001b[0m\u001b[0;34m\u001b[0m\u001b[0m\n\u001b[0m\u001b[1;32m     24\u001b[0m \u001b[0mdata2\u001b[0m \u001b[0;34m=\u001b[0m \u001b[0;34m(\u001b[0m\u001b[0;34m[\u001b[0m\u001b[0mvasp\u001b[0m\u001b[0;34m.\u001b[0m\u001b[0mread_vasp\u001b[0m\u001b[0;34m(\u001b[0m\u001b[0;34m\"../POSCAR\"\u001b[0m\u001b[0;34m+\u001b[0m\u001b[0mstr\u001b[0m\u001b[0;34m(\u001b[0m\u001b[0mi\u001b[0m\u001b[0;34m)\u001b[0m\u001b[0;34m)\u001b[0m \u001b[0;32mfor\u001b[0m \u001b[0mi\u001b[0m \u001b[0;32min\u001b[0m \u001b[0mrange\u001b[0m\u001b[0;34m(\u001b[0m\u001b[0;36m0\u001b[0m\u001b[0;34m,\u001b[0m \u001b[0mnum_structs\u001b[0m\u001b[0;34m)\u001b[0m\u001b[0;34m]\u001b[0m\u001b[0;34m)\u001b[0m\u001b[0;34m\u001b[0m\u001b[0;34m\u001b[0m\u001b[0m\n\u001b[1;32m     25\u001b[0m \u001b[0mslab\u001b[0m \u001b[0;34m=\u001b[0m \u001b[0mvasp\u001b[0m\u001b[0;34m.\u001b[0m\u001b[0mread_vasp\u001b[0m\u001b[0;34m(\u001b[0m\u001b[0;34m\"../CONTCAR\"\u001b[0m\u001b[0;34m)\u001b[0m\u001b[0;34m\u001b[0m\u001b[0;34m\u001b[0m\u001b[0m\n",
      "\u001b[0;32m<ipython-input-53-57b6ee5ce17c>\u001b[0m in \u001b[0;36m<listcomp>\u001b[0;34m(.0)\u001b[0m\n\u001b[1;32m     21\u001b[0m \u001b[0;34m\u001b[0m\u001b[0m\n\u001b[1;32m     22\u001b[0m \u001b[0;31m#read structures\u001b[0m\u001b[0;34m\u001b[0m\u001b[0;34m\u001b[0m\u001b[0;34m\u001b[0m\u001b[0m\n\u001b[0;32m---> 23\u001b[0;31m \u001b[0mdata1\u001b[0m \u001b[0;34m=\u001b[0m \u001b[0;34m(\u001b[0m\u001b[0;34m[\u001b[0m\u001b[0mvasp\u001b[0m\u001b[0;34m.\u001b[0m\u001b[0mread_vasp\u001b[0m\u001b[0;34m(\u001b[0m\u001b[0;34m\"../CONTCAR\"\u001b[0m\u001b[0;34m+\u001b[0m\u001b[0mstr\u001b[0m\u001b[0;34m(\u001b[0m\u001b[0mi\u001b[0m\u001b[0;34m)\u001b[0m\u001b[0;34m)\u001b[0m \u001b[0;32mfor\u001b[0m \u001b[0mi\u001b[0m \u001b[0;32min\u001b[0m \u001b[0mrange\u001b[0m\u001b[0;34m(\u001b[0m\u001b[0;36m0\u001b[0m\u001b[0;34m,\u001b[0m \u001b[0mnum_structs\u001b[0m\u001b[0;34m)\u001b[0m\u001b[0;34m]\u001b[0m\u001b[0;34m)\u001b[0m\u001b[0;34m\u001b[0m\u001b[0;34m\u001b[0m\u001b[0m\n\u001b[0m\u001b[1;32m     24\u001b[0m \u001b[0mdata2\u001b[0m \u001b[0;34m=\u001b[0m \u001b[0;34m(\u001b[0m\u001b[0;34m[\u001b[0m\u001b[0mvasp\u001b[0m\u001b[0;34m.\u001b[0m\u001b[0mread_vasp\u001b[0m\u001b[0;34m(\u001b[0m\u001b[0;34m\"../POSCAR\"\u001b[0m\u001b[0;34m+\u001b[0m\u001b[0mstr\u001b[0m\u001b[0;34m(\u001b[0m\u001b[0mi\u001b[0m\u001b[0;34m)\u001b[0m\u001b[0;34m)\u001b[0m \u001b[0;32mfor\u001b[0m \u001b[0mi\u001b[0m \u001b[0;32min\u001b[0m \u001b[0mrange\u001b[0m\u001b[0;34m(\u001b[0m\u001b[0;36m0\u001b[0m\u001b[0;34m,\u001b[0m \u001b[0mnum_structs\u001b[0m\u001b[0;34m)\u001b[0m\u001b[0;34m]\u001b[0m\u001b[0;34m)\u001b[0m\u001b[0;34m\u001b[0m\u001b[0;34m\u001b[0m\u001b[0m\n\u001b[1;32m     25\u001b[0m \u001b[0mslab\u001b[0m \u001b[0;34m=\u001b[0m \u001b[0mvasp\u001b[0m\u001b[0;34m.\u001b[0m\u001b[0mread_vasp\u001b[0m\u001b[0;34m(\u001b[0m\u001b[0;34m\"../CONTCAR\"\u001b[0m\u001b[0;34m)\u001b[0m\u001b[0;34m\u001b[0m\u001b[0;34m\u001b[0m\u001b[0m\n",
      "\u001b[0;31mNameError\u001b[0m: name 'vasp' is not defined"
     ]
    }
   ],
   "source": [
    "from scipy.interpolate import griddata\n",
    "\n",
    "wrapvis = False\n",
    "num_structs = 25 # number of structures; meant for files with 0-indexed numbering scheme\n",
    "periodicity = 3\n",
    "zmax = 18.015 # for SiO2 fterm\n",
    "# zmax = 17.765 # for SiO2 hterm\n",
    "\n",
    "if periodicity == 1:\n",
    "    offset = np.array([-5.39811637, -1.34676731,  0.        ]) # for 1x1 SiO2 fterm surf\n",
    "if periodicity == 2:\n",
    "    offset = np.array([-10.79623274,   -1.56420473,    0.] ) # for 2x2 SiO2 fterm surf\n",
    "if periodicity == 3:\n",
    "    offset = np.array([[-16.19434911,  -1.78164215,   0.        ]]) # for 3x3 SiO2 fterm surf\n",
    "\n",
    "P = np.array([\n",
    "    [periodicity, 0, 0],\n",
    "    [0, periodicity, 0],\n",
    "    [0, 0, 1],\n",
    "])\n",
    "\n",
    "#read structures\n",
    "data1 = ([vasp.read_vasp(\"../CONTCAR\"+str(i)) for i in range(0, num_structs)])\n",
    "data2 = ([vasp.read_vasp(\"../POSCAR\"+str(i)) for i in range(0, num_structs)])\n",
    "slab = vasp.read_vasp(\"../CONTCAR\")\n",
    "tempcell = slab.copy().cell\n",
    "slab = make_supercell(slab.copy(), P)\n",
    "slab.cell = tempcell\n",
    "\n",
    "data1 = [make_supercell(i, P) for i in data1]\n",
    "data2 = [make_supercell(i, P) for i in data2]\n",
    "\n",
    "\n",
    "if wrapvis:\n",
    "    for i, j in zip(data1, data2):\n",
    "        i.wrap()\n",
    "        j.wrap()\n",
    "    slab.wrap()\n",
    "\n",
    "results = pd.read_csv(\"../results\", header = None)[0]\n",
    "results = pd.Series(np.repeat(results, periodicity ** 2))\n",
    "\n",
    "Eads = -7.9768\n",
    "Eslab = -.84373706E+03\n",
    "# Eslab = -.89020398E+03 \n",
    "results = results - (Eads + Eslab) # compute adsorption energies from raw energies\n",
    "htermresults = results\n",
    "\n",
    "positions1 = [[i.position for i in struct if i.symbol==\"H\" and i.position[2] > zmax] \n",
    "                         for struct in data1]\n",
    "positions2 = [[i.position for i in struct if i.symbol==\"H\" and i.position[2] > zmax]  \n",
    "                         for struct in data2]\n",
    "\n",
    "positions1 = np.array(positions1).reshape(-1, 3)\n",
    "positions2 = np.array(positions2).reshape(-1, 3)\n",
    "\n",
    "samplemask = [True]\n",
    "for i in np.arange(1, len(positions1)):\n",
    "    add = True\n",
    "    for j in np.arange(0, i): \n",
    "        pos1 = positions1[i][:2]\n",
    "        pos2 = positions1[j][:2]\n",
    "        if np.linalg.norm(pos1 - pos2) <  1:\n",
    "            add = False\n",
    "    samplemask += [add]\n",
    "\n",
    "positions1 = np.array(positions1)\n",
    "positions2 = np.array(positions2)\n",
    "vispositions1 = positions1[samplemask] - offset\n",
    "vispositions2 = positions2[samplemask] - offset\n",
    "visresults = results[samplemask]\n",
    "\n",
    "\n",
    "fig, ax = plt.subplots(figsize = (20,10))\n",
    "\n",
    "obj = plot_atoms(slab, ax, show_unit_cell = 0)\n",
    "\n",
    "\n",
    "print(len(vispositions1))\n",
    "ax.scatter(vispositions1[:, 0], vispositions1[:, 1], \n",
    "           s = 60, color = 'k', zorder = 2, label = \"final position\")\n",
    "\n",
    "# ax.scatter(vispositions2[:, 0], vispositions2[:, 1],\n",
    "#            s = 60, color = 'g', zorder = 2, label = \"initial position\")\n",
    "\n",
    "# for start, final in zip(vispositions2, vispositions1):\n",
    "#     ax.plot([start[0], final[0]], [start[1], final[1]], color = 'k')\n",
    "origin = np.array([0,0,0])\n",
    "vertices = np.array([ #center of 3x3\n",
    "    origin + slab.cell[0] + slab.cell[1],\n",
    "    origin + slab.cell[0] * 2 + slab.cell[1],\n",
    "    origin + (slab.cell[1] + slab.cell[0]) * 2,\n",
    "    origin + slab.cell[1] * 2 + slab.cell[0],\n",
    "    origin + slab.cell[0] + slab.cell[1]\n",
    "#     origin,\n",
    "#     origin + slab.cell[0],\n",
    "#     origin + (slab.cell[1] + slab.cell[0]) * 1,\n",
    "#     origin + slab.cell[1],\n",
    "#     origin\n",
    "])\n",
    "\n",
    "X, Y, Z = vispositions1[:, 0], vispositions1[:, 1], visresults\n",
    "\n",
    "# Zfunc = interp2d(X, Y, visresults, kind = 'linear', fill_value=0)\n",
    "# plotx, ploty = np.arange(0, 13, .1), np.arange(0, 8, .1)\n",
    "# plotx = np.arange(slab.cell[1,0] - .5, slab.cell[0, 0] + slab.cell[1,0] - .5 + 1, .1)\n",
    "# ploty = np.arange(-1, 8 , .1)\n",
    "\n",
    "npts = 10\n",
    "plotpts = []\n",
    "for i in np.linspace(0, 1, npts):\n",
    "    for j in np.linspace(0, 1, npts):\n",
    "        plotpts += [i * slab.cell[0] + j * slab.cell[1]] \n",
    "\n",
    "plotpts = sorted(plotpts, key = lambda x: (x[0], x[1]))\n",
    "plotpts = np.array(plotpts) - offset\n",
    "plotx = plotpts[:, 0]\n",
    "ploty = plotpts[:, 1]\n",
    "\n",
    "# ax.scatter(plotx, ploty, marker = 'x', s = 220, color = 'k')\n",
    "\n",
    "plotx = np.arange(ax.get_xlim()[0], ax.get_xlim()[1], .1)\n",
    "ploty = np.arange(ax.get_ylim()[0], ax.get_ylim()[1], .1)\n",
    "# plotz = Zfunc(plotx, ploty)\n",
    "# plotx, ploty = np.meshgrid(plotx, ploty)\n",
    "# plotz = Zfunc(X, Y)\n",
    "# plotz =  griddata(list(zip(X, Y)), visresults, list(zip(plotx,ploty)))\n",
    "plotz = griddata((X, Y), visresults, (plotx[None, :], ploty[:, None]), \n",
    "                 method='linear', fill_value=np.nan)\n",
    "plotx, ploty = np.meshgrid(plotx, ploty)\n",
    "\n",
    "\n",
    "for i in range(len(results)):\n",
    "    if samplemask[i]:\n",
    "#         text = str(i) + \"\\n\" + str(round(results.iloc[i], 3)) \n",
    "        text = str(round(results.iloc[i], 3)) \n",
    "        textpositions = positions1 - offset\n",
    "#         textpositions += np.array([0, np.random.normal(scale = .9), 0]) \n",
    "        ax.text((textpositions[i, 0]), (textpositions[i, 1]), s = text, fontsize = 12)\n",
    "    else:\n",
    "        continue\n",
    "visvertices = vertices - offset\n",
    "\n",
    "\n",
    "# ax.contour(plotx, ploty, plotz, levels=14, linewidths=0.5, colors='k')\n",
    "# cntr1 = ax.contourf(plotx,ploty,plotz, levels=3, cmap=\"RdBu_r\", zorder = 2, alpha = .5)\n",
    "cntr1 = ax.contourf(plotx,ploty,plotz, levels=np.linspace(np.min(results), 0, 12),\n",
    "                    cmap=\"RdBu_r\", zorder = 2, alpha = .4)\n",
    "fig.colorbar(cntr1, ax = ax, label = 'Adsorption Energy (eV)')\n",
    "ax.plot(visvertices[:, 0], visvertices[:, 1], linestyle = '-', color = 'k', zorder = 2)\n",
    "\n",
    "# cbar = fig.colorbar(cntr1, ax=ax, levels = np.linspace(np.min(results), 0, 6),\n",
    "#              label = \"adsorption energy (eV)\")\n",
    "\n",
    "\n",
    "# plt.title(\"Adsorption energy surface of HF on F-terminated SiO$_2$\")\n",
    "plt.title(\"Final vs initial positions of HF on surface (F-terminated)\")\n",
    "# plt.legend()\n",
    "plt.savefig(\"temp.png\", dpi = 400)\n",
    "\n",
    "\n",
    "# plt.legend();\n",
    "# ax.set_xlim(20, 40)\n",
    "# ax.set_ylim(5, 25)"
   ]
  },
  {
   "cell_type": "code",
   "execution_count": null,
   "metadata": {
    "ExecuteTime": {
     "end_time": "2021-04-27T00:25:01.381074Z",
     "start_time": "2021-04-27T00:25:01.214Z"
    },
    "hidden": true
   },
   "outputs": [],
   "source": [
    "plt.boxplot([htermresults, ftermresults], labels = ['H-terminated', 'F-terminated']);\n",
    "plt.ylabel(\"Adsorption energy (eV)\")\n",
    "plt.title(\"Energy variation compared: H-terminated vs. F-terminated SiO$_2$ surface\")"
   ]
  },
  {
   "cell_type": "code",
   "execution_count": null,
   "metadata": {
    "ExecuteTime": {
     "end_time": "2021-04-27T00:25:01.381944Z",
     "start_time": "2021-04-27T00:25:01.222Z"
    },
    "hidden": true
   },
   "outputs": [],
   "source": [
    "htermresults.describe()"
   ]
  },
  {
   "cell_type": "code",
   "execution_count": null,
   "metadata": {
    "ExecuteTime": {
     "end_time": "2021-04-27T00:25:01.382878Z",
     "start_time": "2021-04-27T00:25:01.230Z"
    },
    "hidden": true
   },
   "outputs": [],
   "source": [
    "dist = np.array([0, 0, 2])\n",
    "view(Atoms(\"HFOSi\", positions = [dist*0, dist*1, dist*2, dist*3] ))"
   ]
  },
  {
   "cell_type": "markdown",
   "metadata": {
    "heading_collapsed": true
   },
   "source": [
    "## Energy contour plots"
   ]
  },
  {
   "cell_type": "code",
   "execution_count": null,
   "metadata": {
    "ExecuteTime": {
     "end_time": "2021-04-27T00:25:01.383971Z",
     "start_time": "2021-04-27T00:25:01.242Z"
    },
    "hidden": true
   },
   "outputs": [],
   "source": [
    "from mpl_toolkits.mplot3d import Axes3D  # noqa: F401 unused import\n",
    "\n",
    "import matplotlib.pyplot as plt\n",
    "from matplotlib import cm\n",
    "from matplotlib.ticker import LinearLocator, FormatStrFormatter\n",
    "import numpy as np\n",
    "\n",
    "results = pd.read_csv(\"../results\", header = None)[0]\n",
    "\n",
    "fig = plt.figure()\n",
    "ax = fig.gca(projection='3d')\n",
    "\n",
    "X, Y, Z = positions1[:, 0], positions1[:, 1], results\n",
    "results = results - (Ecf4 + Enslab)\n",
    "\n",
    "\n",
    "Zfunc = interp2d(X, Y, results, kind = 'linear')\n",
    "plotx, ploty = np.arange(min(X), max(X), .1), np.arange(min(Y), max(Y) , .1)\n",
    "plotz = Zfunc(plotx, ploty)\n",
    "plotx, ploty = np.meshgrid(plotx, ploty)\n",
    "\n",
    "\n",
    "\n",
    "# Plot the surface.\n",
    "surf = ax.plot_surface(plotx, ploty, plotz, cmap=cm.coolwarm,\n",
    "                       linewidth=0, antialiased=False)\n",
    "\n",
    "\n",
    "# Add a color bar which maps values to colors.\n",
    "fig.colorbar(surf, shrink=0.5, aspect=5)\n",
    "\n",
    "plt.show()"
   ]
  },
  {
   "cell_type": "code",
   "execution_count": null,
   "metadata": {
    "ExecuteTime": {
     "end_time": "2021-04-27T00:25:01.384801Z",
     "start_time": "2021-04-27T00:25:01.250Z"
    },
    "hidden": true
   },
   "outputs": [],
   "source": [
    "from mpl_toolkits.mplot3d import Axes3D  # noqa: F401 unused import\n",
    "\n",
    "import matplotlib.pyplot as plt\n",
    "from matplotlib import cm\n",
    "from matplotlib.ticker import LinearLocator, FormatStrFormatter\n",
    "import numpy as np\n",
    "\n",
    "Ecf4 = -25.9547\n",
    "Enslab = -549.47\n",
    "results = pd.read_csv(\"../results\", header = None)[0]\n",
    "\n",
    "fig = plt.figure()\n",
    "ax = fig.gca(projection='3d')\n",
    "\n",
    "X, Y, Z = positions1[:, 0], positions1[:, 1], results\n",
    "results = results - (Ecf4 + Enslab)\n",
    "\n",
    "\n",
    "Zfunc = interp2d(X, Y, results, kind = 'cubic')\n",
    "plotx, ploty = np.arange(min(X), max(X) - 1, .1), np.arange(min(Y), max(Y) -1 , .1)\n",
    "plotz = Zfunc(plotx, ploty)\n",
    "plotx, ploty = np.meshgrid(plotx, ploty)\n",
    "\n",
    "\n",
    "\n",
    "# Plot the surface.\n",
    "surf = ax.plot_surface(plotx, ploty, plotz, cmap=cm.coolwarm,\n",
    "                       linewidth=0, antialiased=False)\n",
    "\n",
    "\n",
    "# Add a color bar which maps values to colors.\n",
    "fig.colorbar(surf, shrink=0.5, aspect=5)\n",
    "\n",
    "plt.show()"
   ]
  },
  {
   "cell_type": "code",
   "execution_count": null,
   "metadata": {
    "ExecuteTime": {
     "end_time": "2021-04-27T00:25:01.385784Z",
     "start_time": "2021-04-27T00:25:01.258Z"
    },
    "hidden": true
   },
   "outputs": [],
   "source": [
    "import plotly.graph_objects as go\n",
    "import pandas as pd\n",
    "import numpy as np\n",
    "# Read data from a csv\n",
    "fig = go.Figure(data=[go.Surface(z=plotz, x=plotx, y=ploty)])\n",
    "fig.update_layout(title='PES of CF4 on N rich surface', autosize=False,\n",
    "                  width=500, height=500,\n",
    "                  margin=dict(l=65, r=50, b=65, t=90))\n",
    "fig.show()\n"
   ]
  },
  {
   "cell_type": "code",
   "execution_count": null,
   "metadata": {
    "ExecuteTime": {
     "end_time": "2021-04-27T00:25:01.387184Z",
     "start_time": "2021-04-27T00:25:01.266Z"
    },
    "hidden": true
   },
   "outputs": [],
   "source": [
    "P = np.array([[2, 0, 0], \n",
    "          [0, 2, 0], \n",
    "          [0, 0, 1]]).reshape(3,-1)\n",
    "anal = [Analysis(make_supercell(i, P)) for i in data]"
   ]
  },
  {
   "cell_type": "code",
   "execution_count": null,
   "metadata": {
    "ExecuteTime": {
     "end_time": "2021-04-27T00:25:01.388340Z",
     "start_time": "2021-04-27T00:25:01.275Z"
    },
    "hidden": true
   },
   "outputs": [],
   "source": [
    "bonds = [i.get_bonds(\"Cl\", \"H\") for i in anal]"
   ]
  },
  {
   "cell_type": "code",
   "execution_count": null,
   "metadata": {
    "ExecuteTime": {
     "end_time": "2021-04-27T00:25:01.389758Z",
     "start_time": "2021-04-27T00:25:01.284Z"
    },
    "hidden": true
   },
   "outputs": [],
   "source": [
    "bondlengths = [i.get_values(j) for i, j in zip(anal, bonds)]\n",
    "np.std(bondlengths)"
   ]
  },
  {
   "cell_type": "code",
   "execution_count": null,
   "metadata": {
    "ExecuteTime": {
     "end_time": "2021-04-27T00:25:01.391281Z",
     "start_time": "2021-04-27T00:25:01.292Z"
    },
    "hidden": true
   },
   "outputs": [],
   "source": [
    "from ase.io import gaussian\n",
    "view(gaussian.read_gaussian(\"../vcproj/vc_li2\"))"
   ]
  },
  {
   "cell_type": "markdown",
   "metadata": {},
   "source": [
    "## Structure/trajectory visualization"
   ]
  },
  {
   "cell_type": "code",
   "execution_count": null,
   "metadata": {
    "ExecuteTime": {
     "end_time": "2021-04-27T00:25:01.393464Z",
     "start_time": "2021-04-27T00:25:01.304Z"
    }
   },
   "outputs": [],
   "source": [
    "x = np.arange(3, 100)\n",
    "plt.plot(x, x * np.tan(np.pi/x))\n",
    "plt.plot(x, np.pi + x*0)\n",
    "plt.xscale(\"log\")\n",
    "plt.yscale(\"log\")"
   ]
  },
  {
   "cell_type": "code",
   "execution_count": null,
   "metadata": {
    "ExecuteTime": {
     "end_time": "2021-04-27T00:25:01.394607Z",
     "start_time": "2021-04-27T00:25:01.313Z"
    }
   },
   "outputs": [],
   "source": [
    "view(gen.read_gen(\"../input.gen\"))"
   ]
  },
  {
   "cell_type": "code",
   "execution_count": null,
   "metadata": {
    "ExecuteTime": {
     "end_time": "2021-04-27T00:25:01.395676Z",
     "start_time": "2021-04-27T00:25:01.323Z"
    }
   },
   "outputs": [],
   "source": [
    "plt.plot([frame.get_distance(702, 641, mic=1) for frame in traj])\n",
    "plt.ylim(0, 5)"
   ]
  },
  {
   "cell_type": "code",
   "execution_count": null,
   "metadata": {
    "ExecuteTime": {
     "end_time": "2021-04-27T00:25:01.396735Z",
     "start_time": "2021-04-27T00:25:01.331Z"
    }
   },
   "outputs": [],
   "source": [
    "plt.plot(np.diff(\n",
    "    np.diff(\n",
    "        [frame.get_distance(702, 641, mic=1) for frame in traj]\n",
    "    )\n",
    "), marker = 'o'\n",
    ")"
   ]
  },
  {
   "cell_type": "code",
   "execution_count": 54,
   "metadata": {
    "ExecuteTime": {
     "end_time": "2021-04-30T01:47:43.888102Z",
     "start_time": "2021-04-30T01:47:34.442391Z"
    }
   },
   "outputs": [],
   "source": [
    "# traj = xyz.read_xyz(\"../heat.xyz\", index = slice(0, -1, 1))\n",
    "from ase.geometry import Cell\n",
    "traj = xyz.read_xyz(\"../geom.out.xyz\", index = slice(0, -1, 5))\n",
    "# traj2 = xyz.read_xyz(\"../const.xyz\", index = slice(0, -1, 10))\n",
    "# ref = gen.read_gen(\"../input.gen\")\n",
    "refcell = Cell(np.array([[15.06, 0, 0], [0, 15.06, 0], [0, 0, 40.06]]), \n",
    "               pbc = np.array([True, True, True]))\n",
    "traj = [i for i in traj]\n",
    "# traj = traj + [i for i in traj2]\n",
    "# m = 2\n",
    "# P = [[m, 0, 0],\n",
    "#      [0, m, 0],\n",
    "#      [0, 0, 1]\n",
    "#     ]\n",
    "# newtraj = []\n",
    "for i in traj:\n",
    "    i.cell = refcell\n",
    "    i.pbc = True\n",
    "    i.wrap()\n",
    "#     newtraj += [make_supercell(i, P)]\n",
    "    \n",
    "# view(traj)\n",
    "# view(newtraj)\n",
    "xyz.write_xyz(\"../vis.xyz\", traj)"
   ]
  },
  {
   "cell_type": "code",
   "execution_count": null,
   "metadata": {
    "ExecuteTime": {
     "end_time": "2021-04-27T00:25:01.398746Z",
     "start_time": "2021-04-27T00:25:01.348Z"
    }
   },
   "outputs": [],
   "source": [
    "view(traj[-1])"
   ]
  },
  {
   "cell_type": "markdown",
   "metadata": {
    "heading_collapsed": true
   },
   "source": [
    "# DFTB potential testing"
   ]
  },
  {
   "cell_type": "code",
   "execution_count": null,
   "metadata": {
    "ExecuteTime": {
     "end_time": "2021-04-27T00:25:01.399681Z",
     "start_time": "2021-04-27T00:25:01.360Z"
    },
    "cell_style": "center",
    "code_folding": [],
    "hidden": true
   },
   "outputs": [],
   "source": [
    "distances = np.arange(0.05, 4.05, 0.05)\n",
    "\n",
    "# nh3 = Atoms('NH3', positions =\n",
    "#               [(0,0,0), (1,0,-.3), (-.7, -.7, -.2), (-.7, .7, -.3)])\n",
    "\n",
    "\n",
    "\n",
    "\n",
    "# calculator = Dftb(\n",
    "#             label='nh3',\n",
    "#             atoms=nh3,\n",
    "#             Driver_MovedAtoms = \"2:-2\",\n",
    "#             Hamiltonian_MaxAngularMomentum_Ar='\"p\"',\n",
    "#             Hamiltonian_MaxAngularMomentum_N='\"p\"',\n",
    "#             Hamiltonian_MaxAngularMomentum_Si='\"p\"',\n",
    "#             Hamiltonian_MaxAngularMomentum_H='\"p\"',\n",
    "#             Hamiltonian_MaxAngularMomentum_C='\"p\"',\n",
    "#             Driver_='ConjugateGradient',\n",
    "#             Driver_KeepStationary='No',\n",
    "#             Driver_MaxForceComponent='1E-10',\n",
    "#             Driver_MaxSteps=1000,\n",
    "#         )\n",
    "\n",
    "# nh3.set_calculator(calculator)\n",
    "\n",
    "# calculator.calculate(nh3)\n",
    "# nh3 = gen.read_gen('geo_end.gen')\n",
    "\n",
    "data = {}\n",
    "\n",
    "\n",
    "cAtom = Atoms(\"C\", positions = [(0,0,0)])\n",
    "images = []\n",
    "for element in [\"C\"]:\n",
    "    atomdata = np.array([])\n",
    "    for d in distances:\n",
    "        atoms = cAtom.copy()\n",
    "        add_adsorbate(atoms, \"Ar\", height = d)\n",
    "        calculator = Dftb(\n",
    "            label='nh3',\n",
    "            atoms=atoms,\n",
    "            Hamiltonian_MaxAngularMomentum_Ar='\"p\"',\n",
    "            Hamiltonian_MaxAngularMomentum_N='\"p\"',\n",
    "            Hamiltonian_MaxAngularMomentum_Si='\"p\"',\n",
    "            Hamiltonian_MaxAngularMomentum_H='\"s\"',\n",
    "            Hamiltonian_MaxAngularMomentum_C='\"p\"',\n",
    "            Hamiltonian_PolynomialRepulsive = \"{C-Ar=Yes \\n Ar-C=Yes}\",\n",
    "            Driver_='ConjugateGradient',\n",
    "            Driver_MaxForceComponent='1E10',\n",
    "            Driver_KeepStationary='No',\n",
    "            Driver_MaxSteps = 0\n",
    "        )\n",
    "        atoms.set_calculator(calculator)\n",
    "        atomdata = np.append(atomdata, atoms.get_potential_energy())\n",
    "        images += [atoms]\n",
    "    data[element] = atomdata\n",
    "data = pd.DataFrame(data)\n",
    "data.index = distances\n",
    "data.index.name = \"Distance (Å)\""
   ]
  },
  {
   "cell_type": "code",
   "execution_count": null,
   "metadata": {
    "ExecuteTime": {
     "end_time": "2021-04-27T00:25:01.400654Z",
     "start_time": "2021-04-27T00:25:01.369Z"
    },
    "hidden": true
   },
   "outputs": [],
   "source": [
    "calculator = Dftb(\n",
    "            label='nh3',\n",
    "            Hamiltonian_MaxAngularMomentum_Ar='\"p\"',\n",
    "            Hamiltonian_MaxAngularMomentum_N='\"p\"',\n",
    "            Hamiltonian_MaxAngularMomentum_Si='\"p\"',\n",
    "            Hamiltonian_MaxAngularMomentum_H='\"s\"',\n",
    "            Hamiltonian_MaxAngularMomentum_C='\"p\"',\n",
    "            Hamiltonian_PolynomialRepulsive = \"{Si-Ar=Yes, Ar-Si=Yes}\",\n",
    "            Driver_='ConjugateGradient',\n",
    "            Driver_MaxForceComponent='1E10',\n",
    "            Driver_KeepStationary='No',\n",
    "            Driver_MaxSteps = 0\n",
    "        )\n",
    "calculator.write_input(atoms)"
   ]
  },
  {
   "cell_type": "markdown",
   "metadata": {
    "hidden": true
   },
   "source": [
    "Plotting DFT vs DFTB curves"
   ]
  },
  {
   "cell_type": "code",
   "execution_count": 54,
   "metadata": {
    "ExecuteTime": {
     "end_time": "2021-04-27T00:25:01.512986Z",
     "start_time": "2021-04-27T00:25:01.502888Z"
    },
    "cell_style": "center",
    "code_folding": [],
    "hidden": true
   },
   "outputs": [
    {
     "ename": "NameError",
     "evalue": "name 'data' is not defined",
     "output_type": "error",
     "traceback": [
      "\u001b[0;31m---------------------------------------------------------------------------\u001b[0m",
      "\u001b[0;31mNameError\u001b[0m                                 Traceback (most recent call last)",
      "\u001b[0;32m<ipython-input-54-65b133c44246>\u001b[0m in \u001b[0;36m<module>\u001b[0;34m\u001b[0m\n\u001b[0;32m----> 1\u001b[0;31m \u001b[0mplt\u001b[0m\u001b[0;34m.\u001b[0m\u001b[0mplot\u001b[0m\u001b[0;34m(\u001b[0m\u001b[0mdata\u001b[0m\u001b[0;34m.\u001b[0m\u001b[0mindex\u001b[0m\u001b[0;34m,\u001b[0m \u001b[0mdata\u001b[0m \u001b[0;34m,\u001b[0m \u001b[0mlabel\u001b[0m \u001b[0;34m=\u001b[0m \u001b[0;34m\"DFTB (repulsion corrected)\"\u001b[0m\u001b[0;34m)\u001b[0m\u001b[0;34m\u001b[0m\u001b[0;34m\u001b[0m\u001b[0m\n\u001b[0m\u001b[1;32m      2\u001b[0m \u001b[0mplt\u001b[0m\u001b[0;34m.\u001b[0m\u001b[0mplot\u001b[0m\u001b[0;34m(\u001b[0m\u001b[0mdftEnergies\u001b[0m \u001b[0;34m-\u001b[0m \u001b[0mdftEnergies\u001b[0m\u001b[0;34m.\u001b[0m\u001b[0mloc\u001b[0m\u001b[0;34m[\u001b[0m\u001b[0;36m4.0\u001b[0m\u001b[0;34m]\u001b[0m\u001b[0;34m[\u001b[0m\u001b[0;36m0\u001b[0m\u001b[0;34m]\u001b[0m\u001b[0;34m+\u001b[0m \u001b[0mdata\u001b[0m\u001b[0;34m.\u001b[0m\u001b[0miloc\u001b[0m\u001b[0;34m[\u001b[0m\u001b[0;34m-\u001b[0m\u001b[0;36m1\u001b[0m\u001b[0;34m,\u001b[0m \u001b[0;36m0\u001b[0m\u001b[0;34m]\u001b[0m\u001b[0;34m,\u001b[0m \u001b[0mlabel\u001b[0m \u001b[0;34m=\u001b[0m \u001b[0;34m\"DFT\"\u001b[0m\u001b[0;34m)\u001b[0m\u001b[0;34m\u001b[0m\u001b[0;34m\u001b[0m\u001b[0m\n\u001b[1;32m      3\u001b[0m \u001b[0mplt\u001b[0m\u001b[0;34m.\u001b[0m\u001b[0mtitle\u001b[0m\u001b[0;34m(\u001b[0m\u001b[0;34m\"E vs Si-Ar Distance; DFT vs DFTB\"\u001b[0m\u001b[0;34m)\u001b[0m\u001b[0;34m\u001b[0m\u001b[0;34m\u001b[0m\u001b[0m\n\u001b[1;32m      4\u001b[0m \u001b[0mplt\u001b[0m\u001b[0;34m.\u001b[0m\u001b[0mylim\u001b[0m\u001b[0;34m(\u001b[0m\u001b[0;34m-\u001b[0m\u001b[0;36m150\u001b[0m\u001b[0;34m,\u001b[0m \u001b[0;34m-\u001b[0m\u001b[0;36m100\u001b[0m\u001b[0;34m)\u001b[0m\u001b[0;34m\u001b[0m\u001b[0;34m\u001b[0m\u001b[0m\n\u001b[1;32m      5\u001b[0m \u001b[0mplt\u001b[0m\u001b[0;34m.\u001b[0m\u001b[0mlegend\u001b[0m\u001b[0;34m(\u001b[0m\u001b[0;34m)\u001b[0m\u001b[0;34m\u001b[0m\u001b[0;34m\u001b[0m\u001b[0m\n",
      "\u001b[0;31mNameError\u001b[0m: name 'data' is not defined"
     ]
    }
   ],
   "source": [
    "plt.plot(data.index, data , label = \"DFTB (repulsion corrected)\")\n",
    "plt.plot(dftEnergies - dftEnergies.loc[4.0][0]+ data.iloc[-1, 0], label = \"DFT\")\n",
    "plt.title(\"E vs Si-Ar Distance; DFT vs DFTB\")\n",
    "plt.ylim(-150, -100)\n",
    "plt.legend()\n",
    "plt.ylabel(\"Energy (eV)\")\n",
    "plt.savefig(\"Ecurves.png\")\n",
    "# view(images)"
   ]
  },
  {
   "cell_type": "code",
   "execution_count": null,
   "metadata": {
    "ExecuteTime": {
     "end_time": "2021-04-27T00:25:01.514573Z",
     "start_time": "2021-04-27T00:25:01.390Z"
    },
    "hidden": true
   },
   "outputs": [],
   "source": [
    "def repulsive(r, c2, c3, c4, c5, c6, c7, c8, c9):\n",
    "    rcut = 3\n",
    "    r = rcut - r\n",
    "    terms = np.array([c2, c3, c4, c5, c6, c7, c8, c9]) \n",
    "    exp = np.arange(2, 10)\n",
    "    return np.array([np.sum(terms * np.power(i, exp)) for i in r])"
   ]
  },
  {
   "cell_type": "code",
   "execution_count": null,
   "metadata": {
    "ExecuteTime": {
     "end_time": "2021-04-27T00:25:01.515624Z",
     "start_time": "2021-04-27T00:25:01.400Z"
    },
    "cell_style": "center",
    "code_folding": [],
    "hidden": true
   },
   "outputs": [],
   "source": [
    "dftb_0ed = data \n",
    "dftEnergies = dftEnergies.sort_index()\n",
    "dft_0ed = dftEnergies - dftEnergies.loc[4.0][0] + data.iloc[-1, 0]\n",
    "differences = np.array(dft_0ed[0]) - np.array(dftb_0ed['H'])\n",
    "\n",
    "params, cov = curve_fit(repulsive, list(data.index)[10:], differences[10:])\n",
    "print(params)\n",
    "plt.plot(data.index, repulsive(data.index, *params), label = \"fit\")\n",
    "plt.plot(data.index, differences, label = \"difference\")\n",
    "\n",
    "plt.title(\"difference in DFT/DFTB curves\")\n",
    "plt.ylim(-10, 20)\n",
    "plt.legend()\n",
    "plt.ylabel(\"Energy (eV)\")\n",
    "plt.savefig(\"Ecurves.png\")\n",
    "# view(images)"
   ]
  },
  {
   "cell_type": "code",
   "execution_count": null,
   "metadata": {
    "ExecuteTime": {
     "end_time": "2021-04-27T00:25:01.516821Z",
     "start_time": "2021-04-27T00:25:01.408Z"
    },
    "hidden": true
   },
   "outputs": [],
   "source": [
    "plt.plot(data.index, \n",
    "         np.ndarray.flatten(np.array(data - data.iloc[-1, 0])) + repulsive(data.index, *params), \n",
    "         label = \"DFTB + fitted difference\")\n",
    "\n",
    "plt.plot(dftEnergies - dftEnergies.loc[4.0][0], label = \"DFT\")\n",
    "plt.title(\"E vs N-Ar Distance; DFT vs DFTB\")\n",
    "plt.ylim(-5, 10)\n",
    "plt.legend()\n",
    "plt.ylabel(\"Energy (eV)\")\n",
    "plt.savefig(\"Ecurves.png\")\n",
    "# view(images)"
   ]
  },
  {
   "cell_type": "code",
   "execution_count": null,
   "metadata": {
    "ExecuteTime": {
     "end_time": "2021-04-27T00:25:01.518103Z",
     "start_time": "2021-04-27T00:25:01.416Z"
    },
    "hidden": true
   },
   "outputs": [],
   "source": [
    "images = []\n",
    "atomdata = np.array([])\n",
    "for d in distances:\n",
    "    calculator = Dftb(\n",
    "        label='nh3',\n",
    "        atoms=atoms,\n",
    "        Hamiltonian_MaxAngularMomentum_Ar='\"p\"',\n",
    "        Hamiltonian_MaxAngularMomentum_N='\"p\"',\n",
    "        Hamiltonian_MaxAngularMomentum_Si='\"p\"',\n",
    "        Hamiltonian_MaxAngularMomentum_H='\"p\"',\n",
    "        Hamiltonian_MaxAngularMomentum_C='\"p\"',\n",
    "        Driver_='ConjugateGradient',\n",
    "        Driver_MaxForceComponent='1E10',\n",
    "        Driver_KeepStationary='No',\n",
    "        Driver_MaxSteps = 0\n",
    "    )\n",
    "    atoms.set_calculator(calculator)\n",
    "    atomdata = np.append(atomdata, atoms.get_potential_energy())\n",
    "    images += [atoms]\n",
    "data[element] = atomdata\n",
    "data = pd.DataFrame(data)\n",
    "\n",
    "data.index = distances\n",
    "data.index.name = \"Distance (Å)\"\n",
    "p = data.plot()\n",
    "p.set_title(\"E vs N-Ar distance, NH3\")\n",
    "p.set_ylabel(\"Energy (eV)\")\n",
    "plt.savefig(\"Ecurves.png\")\n",
    "# view(images)"
   ]
  },
  {
   "cell_type": "markdown",
   "metadata": {
    "heading_collapsed": true
   },
   "source": [
    "# DFT energy curve"
   ]
  },
  {
   "cell_type": "code",
   "execution_count": null,
   "metadata": {
    "ExecuteTime": {
     "end_time": "2021-04-27T00:25:01.519600Z",
     "start_time": "2021-04-27T00:25:01.427Z"
    },
    "hidden": true
   },
   "outputs": [],
   "source": [
    "dftEnergies = pd.read_csv(\"../energies\", header = None)\n",
    "dftEnergies.index = 80 - np.array(dftEnergies.index)\n",
    "dftEnergies.index /= 20\n",
    "dftEnergies.plot();"
   ]
  },
  {
   "cell_type": "code",
   "execution_count": null,
   "metadata": {
    "ExecuteTime": {
     "end_time": "2021-04-27T00:25:01.521264Z",
     "start_time": "2021-04-27T00:25:01.435Z"
    },
    "hidden": true
   },
   "outputs": [],
   "source": [
    "dftEnergies = pd.read_csv(\"../energies\", header = None)\n",
    "dftEnergies.index = 80 - np.array(dftEnergies.index)\n",
    "dftEnergies.index /= 20\n",
    "p = dftEnergies.plot(xlim = (1, 4), ylim = (-1, 5),grid = True);"
   ]
  },
  {
   "cell_type": "markdown",
   "metadata": {},
   "source": [
    "# QUIPPY "
   ]
  },
  {
   "cell_type": "markdown",
   "metadata": {},
   "source": [
    "Tutorial from here:  https://libatoms.github.io/GAP/gap_si_surface.html\n"
   ]
  },
  {
   "cell_type": "markdown",
   "metadata": {},
   "source": [
    "Build silicon structure:"
   ]
  },
  {
   "cell_type": "code",
   "execution_count": null,
   "metadata": {
    "ExecuteTime": {
     "end_time": "2021-04-27T00:25:01.522752Z",
     "start_time": "2021-04-27T00:25:01.452Z"
    },
    "code_folding": []
   },
   "outputs": [],
   "source": [
    "from ase import Atoms, units\n",
    "from ase.lattice.cubic import Diamond\n",
    "from ase.build import add_vacuum\n",
    "def build_slab(size=(1,2,2), vacuum=10.):\n",
    "    # Build Si lattice.\n",
    "    # lattice = Diamond('Si', directions=([1, 0, 0], [0, 1, 0], [0, 0, 1]), latticeconstant=5.44, size=size)\n",
    "    lattice = Diamond('Si', latticeconstant=5.44, size=size)\n",
    "    atoms = Atoms(lattice)\n",
    "\n",
    "\n",
    "    # Fixing the bottom layer\n",
    "    bottom = atoms.positions[:,2].min()\n",
    "    fixed_mask = (abs(atoms.positions[:,2] - bottom) < 2.0)\n",
    "    atoms.set_constraint(FixAtoms(mask=fixed_mask))\n",
    "\n",
    "    # build surface by adding space to z direction\n",
    "    add_vacuum(atoms, vacuum)\n",
    "    # atoms.center(vacuum=10.0, axis=2)\n",
    "\n",
    "    return atoms\n",
    "\n",
    "\n",
    "atoms = build_slab()\n",
    "print('Number of atoms:', len(atoms))"
   ]
  },
  {
   "cell_type": "markdown",
   "metadata": {},
   "source": [
    "Run dynamics, verlet"
   ]
  },
  {
   "cell_type": "code",
   "execution_count": null,
   "metadata": {
    "ExecuteTime": {
     "end_time": "2021-04-27T00:25:01.524225Z",
     "start_time": "2021-04-27T00:25:01.463Z"
    },
    "code_folding": []
   },
   "outputs": [],
   "source": [
    "from ase.md.velocitydistribution import MaxwellBoltzmannDistribution\n",
    "from ase.md.verlet import VelocityVerlet\n",
    "from ase.md.langevin import Langevin\n",
    "\n",
    "atoms = build_slab()\n",
    "\n",
    "# view(atoms)\n",
    "\n",
    "T = 1000.0 # Temperature [Kelvin]\n",
    "timestep = 1.0 * units.fs\n",
    "\n",
    "# attach tight binding calculator\n",
    "\n",
    "MaxwellBoltzmannDistribution(atoms, 2.0 * T * units.kB)\n",
    "\n",
    "write_dftb_velocities(atoms, 'velocities.txt')\n",
    "\n",
    "calculator_quip = Dftb(label='mef',\n",
    "                      atoms=atoms,\n",
    "                      run_manyDftb_steps=True,\n",
    "                      Hamiltonian_MaxAngularMomentum_='',\n",
    "                      Hamiltonian_MaxAngularMomentum_Si='\"p\"',\n",
    "                      kpts = (1, 1, 1),\n",
    "                      Driver_='VelocityVerlet',\n",
    "                      Driver_MDRestartFrequency=1,\n",
    "                      Driver_Velocities_='',\n",
    "                      Driver_Velocities_empty='<<+ \"velocities.txt\"',\n",
    "                      Driver_Steps=1,\n",
    "                      Driver_KeepStationary='Yes',\n",
    "                      Driver_TimeStep=0.413413733365614E+02,\n",
    "                        Driver_Thermostat_='Berendsen',\n",
    "                        Driver_Thermostat_Temperature=1000* 0.316681534524639E-05,  # 800*1.5 deg Celcius\n",
    "                        Driver_Thermostat_CouplingStrength=0.001,\n",
    "                      )\n",
    "\n",
    "\n",
    "def print_status():\n",
    "    print('Step = {}, time = {} [fs], T = {} [K]'.format(\n",
    "        dynamics.nsteps,\n",
    "        dynamics.nsteps * dynamics.dt / units.fs,\n",
    "        atoms.get_kinetic_energy() / (1.5 * units.kB * len(atoms))\n",
    "    ))\n",
    "\n",
    "def print_energy(a=atoms):  # store a reference to atoms in the definition.\n",
    "    \"\"\"Function to print the potential, kinetic and total energy.\"\"\"\n",
    "    epot = a.get_potential_energy() / len(a)\n",
    "    ekin = a.get_kinetic_energy() / len(a)\n",
    "    print('Energy per atom: Epot = %.3feV  Ekin = %.3feV (T=%3.0fK)  '\n",
    "          'Etot = %.3feV' % (epot, ekin, ekin / (1.5 * units.kB), epot + ekin))\n",
    "    "
   ]
  },
  {
   "cell_type": "code",
   "execution_count": null,
   "metadata": {
    "ExecuteTime": {
     "end_time": "2021-04-27T00:25:01.525695Z",
     "start_time": "2021-04-27T00:25:01.471Z"
    },
    "code_folding": []
   },
   "outputs": [],
   "source": [
    "write_dftb_velocities(atoms, 'velocities.txt')\n",
    "os.system('rm md.log.* md.out* geo_end*xyz')\n",
    "atoms.set_calculator(calculator_quip)\n",
    "dynamics = VelocityVerlet(atoms, timestep)\n",
    "# dynamics.attach(print_status, interval=1)\n",
    "# dynamics.attach(print_energy, interval=20)\n",
    "# dynamics.run(steps = 1)  # run NVE ensemble using DFTB's own driver"
   ]
  },
  {
   "cell_type": "code",
   "execution_count": null,
   "metadata": {
    "ExecuteTime": {
     "end_time": "2021-04-27T00:25:01.526907Z",
     "start_time": "2021-04-27T00:25:01.479Z"
    }
   },
   "outputs": [],
   "source": [
    "db = []\n",
    "def collect_data():\n",
    "    db.append(atoms.copy())\n",
    "    db[-1].info = {'energy':atoms.get_potential_energy()}\n",
    "\n",
    "dynamics.attach(collect_data, interval=1)\n",
    "dynamics.run(1000)\n",
    "\n",
    "from ase.io import write\n",
    "write('/tmp/atoms_db1.xyz', db)"
   ]
  },
  {
   "cell_type": "markdown",
   "metadata": {},
   "source": [
    "Run dynamics, DFTB native"
   ]
  },
  {
   "cell_type": "code",
   "execution_count": null,
   "metadata": {
    "ExecuteTime": {
     "end_time": "2021-04-27T00:25:01.528268Z",
     "start_time": "2021-04-27T00:25:01.490Z"
    }
   },
   "outputs": [],
   "source": [
    "afrom ase.md.velocitydistribution import MaxwellBoltzmannDistribution\n",
    "from ase.md.verlet import VelocityVerlet\n",
    "from ase.md.langevin import Langevin\n",
    "\n",
    "atoms = build_slab()\n",
    "\n",
    "# view(atoms)\n",
    "\n",
    "T = 1000.0 # Temperature [Kelvin]\n",
    "timestep = 1.0 * units.fs\n",
    "\n",
    "# attach tight binding calculator\n",
    "\n",
    "MaxwellBoltzmannDistribution(atoms, 2.0 * T * units.kB)\n",
    "\n",
    "write_dftb_velocities(atoms, 'velocities.txt')\n",
    "\n",
    "calculator_quip = Dftb(label='mef',\n",
    "                      atoms=atoms,\n",
    "                      run_manyDftb_steps=True,\n",
    "                      Hamiltonian_MaxAngularMomentum_='',\n",
    "                      Hamiltonian_MaxAngularMomentum_Si='\"p\"',\n",
    "                      kpts = (1, 1, 1),\n",
    "                      Driver_='VelocityVerlet',\n",
    "                      Driver_MDRestartFrequency=1,\n",
    "                      Driver_Velocities_='',\n",
    "                      Driver_Velocities_empty='<<+ \"velocities.txt\"',\n",
    "                      Driver_Steps=1000,\n",
    "                      Driver_KeepStationary='Yes',\n",
    "                      Driver_TimeStep=0.413413733365614E+02,\n",
    "                        Driver_Thermostat_='Berendsen',\n",
    "                        Driver_Thermostat_Temperature=1000* 0.316681534524639E-05,  # 800*1.5 deg Celcius\n",
    "                        Driver_Thermostat_CouplingStrength=0.001,\n",
    "                      )\n",
    "    \n",
    "\n",
    "write_dftb_velocities(atoms, 'velocities.txt')\n",
    "os.system('rm md.log.* md.out* geo_end*xyz')\n",
    "atoms.set_calculator(calculator_quip)\n",
    "dynamics = VelocityVerlet(atoms, timestep)\n",
    "\n",
    "db = []\n",
    "def collect_data():\n",
    "    db.append(atoms.copy())\n",
    "    db[-1].info = {'energy':atoms.get_potential_energy()}\n",
    "\n",
    "dynamics.attach(collect_data, interval=1)\n",
    "dynamics.run(1)\n",
    "\n",
    "\n"
   ]
  },
  {
   "cell_type": "code",
   "execution_count": null,
   "metadata": {
    "ExecuteTime": {
     "end_time": "2021-04-27T00:25:01.529704Z",
     "start_time": "2021-04-27T00:25:01.499Z"
    }
   },
   "outputs": [],
   "source": [
    "db2 = [i for i in xyz.read_xyz(\"geo_end.xyz\",index = slice(0, -1))]"
   ]
  },
  {
   "cell_type": "code",
   "execution_count": null,
   "metadata": {
    "ExecuteTime": {
     "end_time": "2021-04-27T00:25:01.530768Z",
     "start_time": "2021-04-27T00:25:01.507Z"
    },
    "scrolled": true
   },
   "outputs": [],
   "source": [
    "from quippy.descriptors import Descriptor\n",
    "\n",
    "desc = Descriptor(\"soap cutoff=4 l_max=3 n_max=4 normalize=T atom_sigma=0.5 n_Z=1 Z={14} \")\n"
   ]
  },
  {
   "cell_type": "code",
   "execution_count": 55,
   "metadata": {
    "ExecuteTime": {
     "end_time": "2021-04-27T00:25:01.642233Z",
     "start_time": "2021-04-27T00:25:01.632346Z"
    }
   },
   "outputs": [
    {
     "ename": "NameError",
     "evalue": "name 'Atoms' is not defined",
     "output_type": "error",
     "traceback": [
      "\u001b[0;31m---------------------------------------------------------------------------\u001b[0m",
      "\u001b[0;31mNameError\u001b[0m                                 Traceback (most recent call last)",
      "\u001b[0;32m<ipython-input-55-2fd8a92019de>\u001b[0m in \u001b[0;36m<module>\u001b[0;34m\u001b[0m\n\u001b[0;32m----> 1\u001b[0;31m \u001b[0misolated_atom\u001b[0m \u001b[0;34m=\u001b[0m \u001b[0mAtoms\u001b[0m\u001b[0;34m(\u001b[0m\u001b[0;34m\"Si\"\u001b[0m\u001b[0;34m,\u001b[0m \u001b[0mpositions\u001b[0m\u001b[0;34m=\u001b[0m\u001b[0;34m[\u001b[0m\u001b[0;34m[\u001b[0m\u001b[0;36m0\u001b[0m\u001b[0;34m,\u001b[0m\u001b[0;36m0\u001b[0m\u001b[0;34m,\u001b[0m\u001b[0;36m0\u001b[0m\u001b[0;34m]\u001b[0m\u001b[0;34m]\u001b[0m\u001b[0;34m)\u001b[0m\u001b[0;34m\u001b[0m\u001b[0;34m\u001b[0m\u001b[0m\n\u001b[0m\u001b[1;32m      2\u001b[0m \u001b[0;34m\u001b[0m\u001b[0m\n\u001b[1;32m      3\u001b[0m calc = Dftb(label='Si', atoms=isolated_atom,\n\u001b[1;32m      4\u001b[0m             \u001b[0mrun_manyDftb_steps\u001b[0m\u001b[0;34m=\u001b[0m\u001b[0;32mTrue\u001b[0m\u001b[0;34m,\u001b[0m\u001b[0;34m\u001b[0m\u001b[0;34m\u001b[0m\u001b[0m\n\u001b[1;32m      5\u001b[0m             \u001b[0mDriver_\u001b[0m\u001b[0;34m=\u001b[0m\u001b[0;34m'ConjugateGradient'\u001b[0m\u001b[0;34m,\u001b[0m\u001b[0;34m\u001b[0m\u001b[0;34m\u001b[0m\u001b[0m\n",
      "\u001b[0;31mNameError\u001b[0m: name 'Atoms' is not defined"
     ]
    }
   ],
   "source": [
    "isolated_atom = Atoms(\"Si\", positions=[[0,0,0]])\n",
    "\n",
    "calc = Dftb(label='Si', atoms=isolated_atom,\n",
    "            run_manyDftb_steps=True,\n",
    "            Driver_='ConjugateGradient',\n",
    "            Driver_MaxForceComponent='1E-4',\n",
    "            Driver_MaxSteps=1000,\n",
    "            Hamiltonian_MaxAngularMomentum_='',\n",
    "            Hamiltonian_MaxAngularMomentum_Si='\"p\"',)\n",
    "\n",
    "\n",
    "isolated_atom.set_calculator(calc)\n",
    "E0 = isolated_atom.get_potential_energy()\n",
    "E0"
   ]
  },
  {
   "cell_type": "code",
   "execution_count": null,
   "metadata": {
    "ExecuteTime": {
     "end_time": "2021-04-27T00:25:01.643924Z",
     "start_time": "2021-04-27T00:25:01.527Z"
    }
   },
   "outputs": [],
   "source": [
    "!/home/erik/QUIP/build/linux_x86_64_gfortran/gap_fit --help"
   ]
  },
  {
   "cell_type": "code",
   "execution_count": null,
   "metadata": {
    "ExecuteTime": {
     "end_time": "2021-04-27T00:25:01.645044Z",
     "start_time": "2021-04-27T00:25:01.537Z"
    }
   },
   "outputs": [],
   "source": [
    "!/home/erik/QUIP/build/linux_x86_64_gfortran/gap_fit at_file=/tmp/atoms_db1.xyz \\\n",
    "gap={distance_Nb order=2 \\\n",
    "                 cutoff=5.0 \\\n",
    "                 covariance_type=ARD_SE \\\n",
    "                 theta_uniform=1.0 \\\n",
    "                 n_sparse=15 \\\n",
    "                 delta=1.0:\\\n",
    "     distance_Nb order=3 \\\n",
    "                 cutoff=4.0 \\\n",
    "                 covariance_type=ARD_SE \\\n",
    "                 theta_uniform=1.0 \\\n",
    "                 n_sparse=50 \\\n",
    "                 delta=0.004} \\\n",
    "e0=-29.716948405885105 \\\n",
    "default_sigma={0.005 0.5 0.0 0.0} \\\n",
    "do_copy_at_file=F sparse_separate_file=F \\\n",
    "gp_file=/tmp/gap_3b.xml"
   ]
  },
  {
   "cell_type": "code",
   "execution_count": null,
   "metadata": {
    "ExecuteTime": {
     "end_time": "2021-04-27T00:25:01.646098Z",
     "start_time": "2021-04-27T00:25:01.545Z"
    }
   },
   "outputs": [],
   "source": [
    "gap = Potential(param_filename='/tmp/gap_3b.xml')"
   ]
  },
  {
   "cell_type": "code",
   "execution_count": null,
   "metadata": {
    "ExecuteTime": {
     "end_time": "2021-04-27T00:25:01.647177Z",
     "start_time": "2021-04-27T00:25:01.554Z"
    }
   },
   "outputs": [],
   "source": [
    "db = [i for i in xyz.read_xyz(\"/tmp/atoms_db1.xyz\",index = slice(0, -1))]\n",
    "qm_energies = [at.info['energy'] for at in db]\n",
    "gap_energies = []\n",
    "for dba in db:\n",
    "    a = dba.copy()  \n",
    "    a.set_calculator(gap)\n",
    "    gap_energies.append(a.get_potential_energy())"
   ]
  },
  {
   "cell_type": "code",
   "execution_count": null,
   "metadata": {
    "ExecuteTime": {
     "end_time": "2021-04-27T00:25:01.648178Z",
     "start_time": "2021-04-27T00:25:01.565Z"
    }
   },
   "outputs": [],
   "source": [
    "Natoms = len(db[0])\n",
    "plt.scatter(np.array(qm_energies)/Natoms, np.array(gap_energies)/Natoms)\n",
    "plt.show()"
   ]
  },
  {
   "cell_type": "code",
   "execution_count": null,
   "metadata": {
    "ExecuteTime": {
     "end_time": "2021-04-27T00:25:01.649382Z",
     "start_time": "2021-04-27T00:25:01.576Z"
    }
   },
   "outputs": [],
   "source": [
    "np.sqrt(sum((np.array(qm_energies)/Natoms - np.array(gap_energies)/Natoms)**2)/len(gap_energies))\n"
   ]
  },
  {
   "cell_type": "code",
   "execution_count": null,
   "metadata": {
    "ExecuteTime": {
     "end_time": "2021-04-27T00:25:01.650256Z",
     "start_time": "2021-04-27T00:25:01.584Z"
    }
   },
   "outputs": [],
   "source": [
    "def show_atoms_grid(data, rotation = '-0x,0y,0z', save= False, filename = 'grid_configs'):\n",
    "    '''\n",
    "    Where data is list of Atoms objects\n",
    "    '''\n",
    "    dim = int(np.ceil(np.sqrt(len(data))))\n",
    "    fig, axarr = plt.subplots(dim, dim, figsize=(25, 25))\n",
    "    for i, config in enumerate(data):\n",
    "        plot_atoms(config, axarr[i%dim,i//dim], rotation = rotation)\n",
    "    if save:\n",
    "        fig.savefig(filename + \".png\")\n",
    "        \n",
    "def normalize(y,x):\n",
    "    \"\"\"\n",
    "    Takes y, x of data and returns normalized y\n",
    "    \"\"\"\n",
    "    return y/np.trapz(y,x)\n",
    "\n",
    "def KE(v_tot):\n",
    "    \"Returns KE of Ar+ in eV given total velocity\"\n",
    "    return 6.24E18 * 0.5 * 1.66E-27*39.95*(v_tot*1E5)**2\n",
    "\n",
    "def v_from_KE(E):\n",
    "    \"Returns v(z) of Ar+ in eV given KE\"\n",
    "    return np.sqrt(E/(6.24E18 * 0.5 * 1.66E-27*39.95))/1E5dimers = [Atoms(\"2Si\", positions=[[0,0,0], [x, 0,0]]) for x in np.linspace(1.6,6,100)]\n",
    "dimer_curve = []\n",
    "for dim in dimers:\n",
    "    dim.set_calculator(gap)\n",
    "    dimer_curve.append(dim.get_potential_energy())\n",
    "plt.plot([dim.positions[1,0] for dim in dimers], np.array(dimer_curve)/2.0)\n",
    "plt.show()"
   ]
  },
  {
   "cell_type": "code",
   "execution_count": null,
   "metadata": {
    "ExecuteTime": {
     "end_time": "2021-04-27T00:25:01.651543Z",
     "start_time": "2021-04-27T00:25:01.593Z"
    }
   },
   "outputs": [],
   "source": [
    "def show_atoms_grid(data, rotation = '-0x,0y,0z', save= False, filename = 'grid_configs'):\n",
    "    '''\n",
    "    Where data is list of Atoms objects\n",
    "    '''\n",
    "    dim = int(np.ceil(np.sqrt(len(data))))\n",
    "    fig, axarr = plt.subplots(dim, dim, figsize=(25, 25))\n",
    "    for i, config in enumerate(data):\n",
    "        plot_atoms(config, axarr[i%dim,i//dim], rotation = rotation)\n",
    "    if save:\n",
    "        fig.savefig(filename + \".png\")\n",
    "        \n",
    "def normalize(y,x):\n",
    "    \"\"\"\n",
    "    Takes y, x of data and returns normalized y\n",
    "    \"\"\"\n",
    "    return y/np.trapz(y,x)\n",
    "\n",
    "def KE(v_tot):\n",
    "    \"Returns KE of Ar+ in eV given total velocity\"\n",
    "    return 6.24E18 * 0.5 * 1.66E-27*39.95*(v_tot*1E5)**2\n",
    "\n",
    "def v_from_KE(E):\n",
    "    \"Returns v(z) of Ar+ in eV given KE\"\n",
    "    return np.sqrt(E/(6.24E18 * 0.5 * 1.66E-27*39.95))/1E5!/home/erik/QUIP/build/linux_x86_64_gfortran/gap_fit at_file=/tmp/atoms_db1.xyz \\\n",
    "gap={distance_Nb order=2 \\\n",
    "                 cutoff=5.0 \\\n",
    "                 covariance_type=ARD_SE \\\n",
    "                 theta_uniform=1.0 \\\n",
    "                 n_sparse=15 \\\n",
    "                 delta=1.0:\\\n",
    "     distance_Nb order=3 \\\n",
    "                 cutoff=4.0 \\\n",
    "                 covariance_type=ARD_SE \\\n",
    "                 theta_uniform=1.0 \\\n",
    "                 n_sparse=50 \\\n",
    "                 delta=0.004:\\\n",
    "     soap cutoff=4.0 \\\n",
    "          covariance_type=dot_product \\\n",
    "          zeta=2 \\\n",
    "          delta=0.016 \\\n",
    "          atom_sigma=0.7 \\\n",
    "          l_max=6 \\\n",
    "          n_max=6 \\\n",
    "          n_sparse=200 \\\n",
    "          sparse_method=cur_points} \\\n",
    "e0=-29.716948405885105 \\\n",
    "default_sigma={0.001 0.5 0.0 0.0} \\\n",
    "do_copy_at_file=F sparse_separate_file=F \\\n",
    "gp_file=/tmp/gap_2b3bsoap.xml 2>&1 | grep -v FoX"
   ]
  },
  {
   "cell_type": "code",
   "execution_count": null,
   "metadata": {
    "ExecuteTime": {
     "end_time": "2021-04-27T00:25:01.652275Z",
     "start_time": "2021-04-27T00:25:01.602Z"
    }
   },
   "outputs": [],
   "source": [
    "def show_atoms_grid(data, rotation = '-0x,0y,0z', save= False, filename = 'grid_configs'):\n",
    "    '''\n",
    "    Where data is list of Atoms objects\n",
    "    '''\n",
    "    dim = int(np.ceil(np.sqrt(len(data))))\n",
    "    fig, axarr = plt.subplots(dim, dim, figsize=(25, 25))\n",
    "    for i, config in enumerate(data):\n",
    "        plot_atoms(config, axarr[i%dim,i//dim], rotation = rotation)\n",
    "    if save:\n",
    "        fig.savefig(filename + \".png\")\n",
    "        \n",
    "def normalize(y,x):\n",
    "    \"\"\"\n",
    "    Takes y, x of data and returns normalized y\n",
    "    \"\"\"\n",
    "    return y/np.trapz(y,x)\n",
    "\n",
    "def KE(v_tot):\n",
    "    \"Returns KE of Ar+ in eV given total velocity\"\n",
    "    return 6.24E18 * 0.5 * 1.66E-27*39.95*(v_tot*1E5)**2\n",
    "\n",
    "def v_from_KE(E):\n",
    "    \"Returns v(z) of Ar+ in eV given KE\"\n",
    "    return np.sqrt(E/(6.24E18 * 0.5 * 1.66E-27*39.95))/1E5gap_soap = Potential(param_filename='/tmp/gap_2b3bsoap.xml')\n",
    "gap_energies = []\n",
    "for at in db:\n",
    "    a = at.copy()\n",
    "    a.set_calculator(gap_soap)\n",
    "    gap_energies.append(a.get_potential_energy())"
   ]
  },
  {
   "cell_type": "code",
   "execution_count": null,
   "metadata": {
    "ExecuteTime": {
     "end_time": "2021-04-27T00:25:01.653039Z",
     "start_time": "2021-04-27T00:25:01.610Z"
    }
   },
   "outputs": [],
   "source": [
    "np.sqrt(sum((np.array(qm_energies)/Natoms - np.array(gap_energies)/Natoms)**2)/len(gap_energies))"
   ]
  },
  {
   "cell_type": "code",
   "execution_count": 56,
   "metadata": {
    "ExecuteTime": {
     "end_time": "2021-04-27T00:25:02.707186Z",
     "start_time": "2021-04-27T00:25:02.471850Z"
    }
   },
   "outputs": [
    {
     "ename": "NameError",
     "evalue": "name 'qm_energies' is not defined",
     "output_type": "error",
     "traceback": [
      "\u001b[0;31m---------------------------------------------------------------------------\u001b[0m",
      "\u001b[0;31mNameError\u001b[0m                                 Traceback (most recent call last)",
      "\u001b[0;32m<ipython-input-56-1a8f36919da1>\u001b[0m in \u001b[0;36m<module>\u001b[0;34m\u001b[0m\n\u001b[1;32m      1\u001b[0m \u001b[0;32mfrom\u001b[0m \u001b[0mscipy\u001b[0m \u001b[0;32mimport\u001b[0m \u001b[0mstats\u001b[0m\u001b[0;34m\u001b[0m\u001b[0;34m\u001b[0m\u001b[0m\n\u001b[0;32m----> 2\u001b[0;31m \u001b[0msorted_energies\u001b[0m \u001b[0;34m=\u001b[0m \u001b[0mnp\u001b[0m\u001b[0;34m.\u001b[0m\u001b[0marray\u001b[0m\u001b[0;34m(\u001b[0m\u001b[0msorted\u001b[0m\u001b[0;34m(\u001b[0m\u001b[0mzip\u001b[0m\u001b[0;34m(\u001b[0m\u001b[0mqm_energies\u001b[0m\u001b[0;34m,\u001b[0m \u001b[0mgap_energies\u001b[0m\u001b[0;34m)\u001b[0m\u001b[0;34m,\u001b[0m \u001b[0mkey\u001b[0m \u001b[0;34m=\u001b[0m \u001b[0;32mlambda\u001b[0m \u001b[0mx\u001b[0m\u001b[0;34m:\u001b[0m \u001b[0mx\u001b[0m\u001b[0;34m[\u001b[0m\u001b[0;36m0\u001b[0m\u001b[0;34m]\u001b[0m\u001b[0;34m)\u001b[0m\u001b[0;34m)\u001b[0m\u001b[0;34m\u001b[0m\u001b[0;34m\u001b[0m\u001b[0m\n\u001b[0m\u001b[1;32m      3\u001b[0m slope, intercept, r_value, p_value, std_err = stats.linregress(\n\u001b[1;32m      4\u001b[0m     \u001b[0mnp\u001b[0m\u001b[0;34m.\u001b[0m\u001b[0marray\u001b[0m\u001b[0;34m(\u001b[0m\u001b[0msorted_energies\u001b[0m\u001b[0;34m[\u001b[0m\u001b[0;34m:\u001b[0m\u001b[0;34m,\u001b[0m\u001b[0;36m0\u001b[0m\u001b[0;34m]\u001b[0m\u001b[0;34m)\u001b[0m\u001b[0;34m/\u001b[0m\u001b[0mNatoms\u001b[0m\u001b[0;34m,\u001b[0m \u001b[0mnp\u001b[0m\u001b[0;34m.\u001b[0m\u001b[0marray\u001b[0m\u001b[0;34m(\u001b[0m\u001b[0msorted_energies\u001b[0m\u001b[0;34m[\u001b[0m\u001b[0;34m:\u001b[0m\u001b[0;34m,\u001b[0m\u001b[0;36m1\u001b[0m\u001b[0;34m]\u001b[0m\u001b[0;34m)\u001b[0m\u001b[0;34m/\u001b[0m\u001b[0mNatoms\u001b[0m\u001b[0;34m\u001b[0m\u001b[0;34m\u001b[0m\u001b[0m\n\u001b[1;32m      5\u001b[0m )\n",
      "\u001b[0;31mNameError\u001b[0m: name 'qm_energies' is not defined"
     ]
    }
   ],
   "source": [
    "from scipy import stats\n",
    "sorted_energies = np.array(sorted(zip(qm_energies, gap_energies), key = lambda x: x[0]))\n",
    "slope, intercept, r_value, p_value, std_err = stats.linregress(\n",
    "    np.array(sorted_energies[:,0])/Natoms, np.array(sorted_energies[:,1])/Natoms\n",
    ")"
   ]
  },
  {
   "cell_type": "code",
   "execution_count": null,
   "metadata": {
    "ExecuteTime": {
     "end_time": "2021-04-27T00:25:01.654814Z",
     "start_time": "2021-04-27T00:25:01.628Z"
    }
   },
   "outputs": [],
   "source": [
    "plt.scatter(np.array(qm_energies)/Natoms, np.array(gap_energies)/Natoms)\n",
    "plt.plot(np.array(sorted_energies[:,0])/Natoms, np.array(sorted_energies[:, 0])/Natoms * slope + intercept, \n",
    "         label = \"slope = %.2f, fit = %.2f\" % (round(slope, 5), round(r_value, 5)))\n",
    "plt.xlabel(\"TB energies\")\n",
    "plt.ylabel(\"GAP energies\")\n",
    "# plt.xlim([-34.78, -34.775])\n",
    "plt.legend()\n",
    "plt.show()"
   ]
  },
  {
   "cell_type": "code",
   "execution_count": null,
   "metadata": {
    "ExecuteTime": {
     "end_time": "2021-04-27T00:25:01.655674Z",
     "start_time": "2021-04-27T00:25:01.637Z"
    }
   },
   "outputs": [],
   "source": [
    "#attach gap calculator\n",
    "atoms.set_calculator(gap_soap)\n",
    "from ase.md.langevin import Langevin\n",
    "\n",
    "timestep = 1.0 * units.fs\n",
    "T = 1000\n",
    "\n",
    "# Thermalize atoms\n",
    "# MaxwellBoltzmannDistribution(atoms, 2.0* T * units.kB)\n",
    "\n",
    "# dynamics = VelocityVerlet(atoms, timestep)\n",
    "dynamics = Langevin(atoms, timestep, T * units.kB, 0.002)\n",
    "\n",
    "dynamics.attach(print_status, interval=10)\n",
    "dynamics.attach(print_energy, interval=10)\n",
    "dynamics.run(steps=100)"
   ]
  }
 ],
 "metadata": {
  "kernelspec": {
   "display_name": "Python 3",
   "language": "python",
   "name": "python3"
  },
  "language_info": {
   "codemirror_mode": {
    "name": "ipython",
    "version": 3
   },
   "file_extension": ".py",
   "mimetype": "text/x-python",
   "name": "python",
   "nbconvert_exporter": "python",
   "pygments_lexer": "ipython3",
   "version": "3.7.7"
  },
  "latex_envs": {
   "LaTeX_envs_menu_present": true,
   "autoclose": false,
   "autocomplete": true,
   "bibliofile": "biblio.bib",
   "cite_by": "apalike",
   "current_citInitial": 1,
   "eqLabelWithNumbers": true,
   "eqNumInitial": 1,
   "hotkeys": {
    "equation": "Ctrl-E",
    "itemize": "Ctrl-I"
   },
   "labels_anchors": false,
   "latex_user_defs": false,
   "report_style_numbering": false,
   "user_envs_cfg": false
  },
  "toc": {
   "base_numbering": 1,
   "nav_menu": {},
   "number_sections": true,
   "sideBar": true,
   "skip_h1_title": false,
   "title_cell": "Table of Contents",
   "title_sidebar": "Contents",
   "toc_cell": false,
   "toc_position": {
    "height": "796px",
    "left": "52px",
    "top": "110px",
    "width": "383.797px"
   },
   "toc_section_display": true,
   "toc_window_display": true
  },
  "varInspector": {
   "cols": {
    "lenName": 16,
    "lenType": 16,
    "lenVar": 40
   },
   "kernels_config": {
    "python": {
     "delete_cmd_postfix": "",
     "delete_cmd_prefix": "del ",
     "library": "var_list.py",
     "varRefreshCmd": "print(var_dic_list())"
    },
    "r": {
     "delete_cmd_postfix": ") ",
     "delete_cmd_prefix": "rm(",
     "library": "var_list.r",
     "varRefreshCmd": "cat(var_dic_list()) "
    }
   },
   "types_to_exclude": [
    "module",
    "function",
    "builtin_function_or_method",
    "instance",
    "_Feature"
   ],
   "window_display": false
  }
 },
 "nbformat": 4,
 "nbformat_minor": 4
}
