{
 "cells": [
  {
   "cell_type": "code",
   "execution_count": 2,
   "metadata": {
    "ExecuteTime": {
     "end_time": "2021-03-08T06:21:59.586962Z",
     "start_time": "2021-03-08T06:21:57.622704Z"
    },
    "scrolled": true
   },
   "outputs": [
    {
     "data": {
      "application/vnd.jupyter.widget-view+json": {
       "model_id": "29fee429e9694b7f88b2134c26ba1480",
       "version_major": 2,
       "version_minor": 0
      },
      "text/plain": [
       "_ColormakerRegistry()"
      ]
     },
     "metadata": {},
     "output_type": "display_data"
    }
   ],
   "source": [
    "from dependencies import *"
   ]
  },
  {
   "cell_type": "code",
   "execution_count": 7,
   "metadata": {
    "ExecuteTime": {
     "end_time": "2021-02-08T09:18:15.982893Z",
     "start_time": "2021-02-08T09:18:15.969749Z"
    }
   },
   "outputs": [
    {
     "data": {
      "text/plain": [
       "(61, 45, 0.20198675496688742, 0.1490066225165563)"
      ]
     },
     "execution_count": 7,
     "metadata": {},
     "output_type": "execute_result"
    }
   ],
   "source": [
    "temp = amorphous.copy()\n",
    "del temp[[atom.index for atom in temp if atom.symbol not in [\"Si\", \"N\"]]]\n",
    "zmax = max([atom.position[2] for atom in temp])\n",
    "Nsurf = len([atom for atom in temp if atom.symbol == \"N\" and atom.position[2] > zmax - 6])\n",
    "Sisurf = len([atom for atom in temp if atom.symbol == \"Si\" and atom.position[2] > zmax - 6])\n",
    "Nsurf, Sisurf, Nsurf/len(temp), Sisurf/len(temp)"
   ]
  },
  {
   "cell_type": "code",
   "execution_count": 16,
   "metadata": {
    "ExecuteTime": {
     "end_time": "2021-01-29T00:04:28.947263Z",
     "start_time": "2021-01-29T00:04:28.667562Z"
    }
   },
   "outputs": [
    {
     "data": {
      "text/plain": [
       "Text(0, 0.5, 'formation energy $\\\\Delta$ E')"
      ]
     },
     "execution_count": 16,
     "metadata": {},
     "output_type": "execute_result"
    },
    {
     "data": {
      "image/png": "[encoded data removed]",
      "text/plain": [
       "<Figure size 576x288 with 1 Axes>"
      ]
     },
     "metadata": {
      "needs_background": "light"
     },
     "output_type": "display_data"
    }
   ],
   "source": [
    "plt.figure(figsize = (8,4))\n",
    "x1 = np.array([-7.9332, -6.8634, -6.9211])\n",
    "x2 = x1 + 1.7427\n",
    "x3 = x1 + 6.5849\n",
    "x4 = x2 + 6.5849\n",
    "\n",
    "x = [0, 1, 2]\n",
    "\n",
    "plt.plot(x, x1, label = 'ref: F*', marker = 'o')\n",
    "plt.plot(x, x2, label = 'ref: 1/2 F2', marker = 'o')\n",
    "plt.plot(x, x3, label = 'ref: F* + MeF decomposition', marker = 'o')\n",
    "plt.plot(x, x4, label = 'ref: 1/2 F2 + MeF decomposition', marker = 'o')\n",
    "\n",
    "plt.grid()\n",
    "plt.legend()\n",
    "plt.title(r'formation energy for reaction $Si(NH_2)_3$ + F $\\rightarrow$ $Si(NH_2)_3F$ with different charges and reference energies')\n",
    "plt.xlabel('# excess electrons in system')\n",
    "plt.ylabel(r'formation energy $\\Delta$ E')"
   ]
  },
  {
   "cell_type": "markdown",
   "metadata": {},
   "source": [
    "\n",
    "# Analysis"
   ]
  },
  {
   "cell_type": "markdown",
   "metadata": {
    "heading_collapsed": true
   },
   "source": [
    "## Data read"
   ]
  },
  {
   "cell_type": "markdown",
   "metadata": {
    "hidden": true
   },
   "source": [
    "Read data (and wrap periodic images)"
   ]
  },
  {
   "cell_type": "code",
   "execution_count": 159,
   "metadata": {
    "ExecuteTime": {
     "end_time": "2020-11-17T20:53:35.166857Z",
     "start_time": "2020-11-17T20:53:35.137749Z"
    },
    "hidden": true
   },
   "outputs": [
    {
     "ename": "FileNotFoundError",
     "evalue": "[Errno 2] No such file or directory: '../output2.gen'",
     "output_type": "error",
     "traceback": [
      "\u001b[0;31m---------------------------------------------------------------------------\u001b[0m",
      "\u001b[0;31mFileNotFoundError\u001b[0m                         Traceback (most recent call last)",
      "\u001b[0;32m<ipython-input-159-a97f675bd4fb>\u001b[0m in \u001b[0;36m<module>\u001b[0;34m\u001b[0m\n\u001b[1;32m      3\u001b[0m \u001b[0mfile_nums\u001b[0m \u001b[0;34m=\u001b[0m \u001b[0;34m[\u001b[0m\u001b[0;36m2\u001b[0m\u001b[0;34m,\u001b[0m\u001b[0;36m4\u001b[0m\u001b[0;34m,\u001b[0m\u001b[0;36m5\u001b[0m\u001b[0;34m,\u001b[0m\u001b[0;36m7\u001b[0m\u001b[0;34m,\u001b[0m\u001b[0;36m11\u001b[0m\u001b[0;34m,\u001b[0m\u001b[0;36m14\u001b[0m\u001b[0;34m,\u001b[0m\u001b[0;36m15\u001b[0m\u001b[0;34m,\u001b[0m\u001b[0;36m16\u001b[0m\u001b[0;34m,\u001b[0m\u001b[0;36m17\u001b[0m\u001b[0;34m,\u001b[0m\u001b[0;36m20\u001b[0m\u001b[0;34m,\u001b[0m\u001b[0;36m21\u001b[0m\u001b[0;34m,\u001b[0m\u001b[0;36m22\u001b[0m\u001b[0;34m,\u001b[0m \u001b[0;36m24\u001b[0m\u001b[0;34m,\u001b[0m\u001b[0;36m25\u001b[0m\u001b[0;34m]\u001b[0m\u001b[0;34m\u001b[0m\u001b[0;34m\u001b[0m\u001b[0m\n\u001b[1;32m      4\u001b[0m \u001b[0;31m# file_nums = range(first_file_num, last_file_num + 1)\u001b[0m\u001b[0;34m\u001b[0m\u001b[0;34m\u001b[0m\u001b[0;34m\u001b[0m\u001b[0m\n\u001b[0;32m----> 5\u001b[0;31m \u001b[0mdata\u001b[0m \u001b[0;34m=\u001b[0m \u001b[0;34m[\u001b[0m\u001b[0mgen\u001b[0m\u001b[0;34m.\u001b[0m\u001b[0mread_gen\u001b[0m\u001b[0;34m(\u001b[0m\u001b[0;34m\"../\"\u001b[0m \u001b[0;34m+\u001b[0m \u001b[0mprefix\u001b[0m \u001b[0;34m+\u001b[0m \u001b[0mstr\u001b[0m\u001b[0;34m(\u001b[0m\u001b[0mi\u001b[0m\u001b[0;34m)\u001b[0m \u001b[0;34m+\u001b[0m \u001b[0;34m\".gen\"\u001b[0m\u001b[0;34m)\u001b[0m \u001b[0;32mfor\u001b[0m \u001b[0mi\u001b[0m \u001b[0;32min\u001b[0m \u001b[0mfile_nums\u001b[0m\u001b[0;34m]\u001b[0m\u001b[0;34m\u001b[0m\u001b[0;34m\u001b[0m\u001b[0m\n\u001b[0m\u001b[1;32m      6\u001b[0m \u001b[0;32mfor\u001b[0m \u001b[0mi\u001b[0m \u001b[0;32min\u001b[0m \u001b[0mdata\u001b[0m\u001b[0;34m:\u001b[0m\u001b[0;34m\u001b[0m\u001b[0;34m\u001b[0m\u001b[0m\n\u001b[1;32m      7\u001b[0m     \u001b[0mi\u001b[0m\u001b[0;34m.\u001b[0m\u001b[0mwrap\u001b[0m\u001b[0;34m(\u001b[0m\u001b[0;34m)\u001b[0m\u001b[0;34m\u001b[0m\u001b[0;34m\u001b[0m\u001b[0m\n",
      "\u001b[0;32m<ipython-input-159-a97f675bd4fb>\u001b[0m in \u001b[0;36m<listcomp>\u001b[0;34m(.0)\u001b[0m\n\u001b[1;32m      3\u001b[0m \u001b[0mfile_nums\u001b[0m \u001b[0;34m=\u001b[0m \u001b[0;34m[\u001b[0m\u001b[0;36m2\u001b[0m\u001b[0;34m,\u001b[0m\u001b[0;36m4\u001b[0m\u001b[0;34m,\u001b[0m\u001b[0;36m5\u001b[0m\u001b[0;34m,\u001b[0m\u001b[0;36m7\u001b[0m\u001b[0;34m,\u001b[0m\u001b[0;36m11\u001b[0m\u001b[0;34m,\u001b[0m\u001b[0;36m14\u001b[0m\u001b[0;34m,\u001b[0m\u001b[0;36m15\u001b[0m\u001b[0;34m,\u001b[0m\u001b[0;36m16\u001b[0m\u001b[0;34m,\u001b[0m\u001b[0;36m17\u001b[0m\u001b[0;34m,\u001b[0m\u001b[0;36m20\u001b[0m\u001b[0;34m,\u001b[0m\u001b[0;36m21\u001b[0m\u001b[0;34m,\u001b[0m\u001b[0;36m22\u001b[0m\u001b[0;34m,\u001b[0m \u001b[0;36m24\u001b[0m\u001b[0;34m,\u001b[0m\u001b[0;36m25\u001b[0m\u001b[0;34m]\u001b[0m\u001b[0;34m\u001b[0m\u001b[0;34m\u001b[0m\u001b[0m\n\u001b[1;32m      4\u001b[0m \u001b[0;31m# file_nums = range(first_file_num, last_file_num + 1)\u001b[0m\u001b[0;34m\u001b[0m\u001b[0;34m\u001b[0m\u001b[0;34m\u001b[0m\u001b[0m\n\u001b[0;32m----> 5\u001b[0;31m \u001b[0mdata\u001b[0m \u001b[0;34m=\u001b[0m \u001b[0;34m[\u001b[0m\u001b[0mgen\u001b[0m\u001b[0;34m.\u001b[0m\u001b[0mread_gen\u001b[0m\u001b[0;34m(\u001b[0m\u001b[0;34m\"../\"\u001b[0m \u001b[0;34m+\u001b[0m \u001b[0mprefix\u001b[0m \u001b[0;34m+\u001b[0m \u001b[0mstr\u001b[0m\u001b[0;34m(\u001b[0m\u001b[0mi\u001b[0m\u001b[0;34m)\u001b[0m \u001b[0;34m+\u001b[0m \u001b[0;34m\".gen\"\u001b[0m\u001b[0;34m)\u001b[0m \u001b[0;32mfor\u001b[0m \u001b[0mi\u001b[0m \u001b[0;32min\u001b[0m \u001b[0mfile_nums\u001b[0m\u001b[0;34m]\u001b[0m\u001b[0;34m\u001b[0m\u001b[0;34m\u001b[0m\u001b[0m\n\u001b[0m\u001b[1;32m      6\u001b[0m \u001b[0;32mfor\u001b[0m \u001b[0mi\u001b[0m \u001b[0;32min\u001b[0m \u001b[0mdata\u001b[0m\u001b[0;34m:\u001b[0m\u001b[0;34m\u001b[0m\u001b[0;34m\u001b[0m\u001b[0m\n\u001b[1;32m      7\u001b[0m     \u001b[0mi\u001b[0m\u001b[0;34m.\u001b[0m\u001b[0mwrap\u001b[0m\u001b[0;34m(\u001b[0m\u001b[0;34m)\u001b[0m\u001b[0;34m\u001b[0m\u001b[0;34m\u001b[0m\u001b[0m\n",
      "\u001b[0;32m~/miniconda3/lib/python3.7/site-packages/ase/io/gen.py\u001b[0m in \u001b[0;36mread_gen\u001b[0;34m(fileobj)\u001b[0m\n\u001b[1;32m     15\u001b[0m        Multiple snapshot are not allowed. \"\"\"\n\u001b[1;32m     16\u001b[0m     \u001b[0;32mif\u001b[0m \u001b[0misinstance\u001b[0m\u001b[0;34m(\u001b[0m\u001b[0mfileobj\u001b[0m\u001b[0;34m,\u001b[0m \u001b[0mbasestring\u001b[0m\u001b[0;34m)\u001b[0m\u001b[0;34m:\u001b[0m\u001b[0;34m\u001b[0m\u001b[0;34m\u001b[0m\u001b[0m\n\u001b[0;32m---> 17\u001b[0;31m         \u001b[0mfileobj\u001b[0m \u001b[0;34m=\u001b[0m \u001b[0mopen\u001b[0m\u001b[0;34m(\u001b[0m\u001b[0mfileobj\u001b[0m\u001b[0;34m)\u001b[0m\u001b[0;34m\u001b[0m\u001b[0;34m\u001b[0m\u001b[0m\n\u001b[0m\u001b[1;32m     18\u001b[0m \u001b[0;34m\u001b[0m\u001b[0m\n\u001b[1;32m     19\u001b[0m     \u001b[0mimage\u001b[0m \u001b[0;34m=\u001b[0m \u001b[0mAtoms\u001b[0m\u001b[0;34m(\u001b[0m\u001b[0;34m)\u001b[0m\u001b[0;34m\u001b[0m\u001b[0;34m\u001b[0m\u001b[0m\n",
      "\u001b[0;31mFileNotFoundError\u001b[0m: [Errno 2] No such file or directory: '../output2.gen'"
     ]
    }
   ],
   "source": [
    "first_file_num, last_file_num = 1, 25\n",
    "prefix = \"output\"\n",
    "file_nums = [2,4,5,7,11,14,15,16,17,20,21,22, 24,25]\n",
    "# file_nums = range(first_file_num, last_file_num + 1)\n",
    "data = [gen.read_gen(\"../\" + prefix + str(i) + \".gen\") for i in file_nums]\n",
    "for i in data:\n",
    "    i.wrap()\n",
    "#exclude errored runs\n",
    "# error_list = [6, 10, 12, 13, 21]"
   ]
  },
  {
   "cell_type": "markdown",
   "metadata": {
    "hidden": true
   },
   "source": [
    "Show atoms, save image"
   ]
  },
  {
   "cell_type": "code",
   "execution_count": null,
   "metadata": {
    "ExecuteTime": {
     "end_time": "2020-11-17T20:53:35.169111Z",
     "start_time": "2020-11-17T20:53:35.046Z"
    },
    "hidden": true
   },
   "outputs": [],
   "source": [
    "show_atoms_grid(data)\n",
    "    \n",
    "# fig.savefig(\"allconfigs.png\")"
   ]
  },
  {
   "cell_type": "markdown",
   "metadata": {
    "heading_collapsed": true
   },
   "source": [
    "## RDF"
   ]
  },
  {
   "cell_type": "code",
   "execution_count": null,
   "metadata": {
    "ExecuteTime": {
     "end_time": "2020-11-17T20:53:35.170243Z",
     "start_time": "2020-11-17T20:53:35.058Z"
    },
    "hidden": true
   },
   "outputs": [],
   "source": [
    "datadir = \"../bomb/\" #bare bombardment, v0.13 = 35.0 eV, 0.135 = 37.7 eV, .14 = 40.55 eV\n",
    "geometries = {}\n",
    "for i in os.listdir(datadir):\n",
    "    if \".gen\" in i:\n",
    "        key = re.search(r\"\\d+-\\d+\", i)\n",
    "#         key = re.search(r\"\\d+\", i)\n",
    "        if key:\n",
    "            key = key.group(0)\n",
    "#             print(key)\n",
    "            geometries[key] =  gen.read_gen(datadir + i)"
   ]
  },
  {
   "cell_type": "markdown",
   "metadata": {
    "hidden": true
   },
   "source": [
    "Make crystalline analysis object for reference"
   ]
  },
  {
   "cell_type": "code",
   "execution_count": null,
   "metadata": {
    "ExecuteTime": {
     "end_time": "2020-11-17T20:53:35.171749Z",
     "start_time": "2020-11-17T20:53:35.069Z"
    },
    "hidden": true
   },
   "outputs": [],
   "source": [
    "rmax_global = 5\n",
    "nbins_global = 100"
   ]
  },
  {
   "cell_type": "code",
   "execution_count": null,
   "metadata": {
    "ExecuteTime": {
     "end_time": "2020-11-17T20:53:35.172993Z",
     "start_time": "2020-11-17T20:53:35.078Z"
    },
    "hidden": true
   },
   "outputs": [],
   "source": [
    "# P = np.array([[2, 0, 0], \n",
    "#           [0, 2, 0], \n",
    "#           [0, 0, 1]]).reshape(3,-1)\n",
    "xtl_y, xtl_x = Analysis(xtl2x2).get_rdf(rmax = rmax_global, \n",
    "                                     nbins = nbins_global, \n",
    "                                     elements = [\"Si\", \"N\"], \n",
    "                                     return_dists = True)[0]\n",
    "xtl_y = normalize(xtl_y, xtl_x)\n",
    "plt.plot(xtl_x, xtl_y);"
   ]
  },
  {
   "cell_type": "markdown",
   "metadata": {
    "hidden": true
   },
   "source": [
    "Make amorphous analysis object for reference:"
   ]
  },
  {
   "cell_type": "code",
   "execution_count": null,
   "metadata": {
    "ExecuteTime": {
     "end_time": "2020-11-17T20:53:35.174061Z",
     "start_time": "2020-11-17T20:53:35.089Z"
    },
    "hidden": true
   },
   "outputs": [],
   "source": [
    "P = np.array([[2, 0, 0], \n",
    "          [0, 2, 0], \n",
    "          [0, 0, 2]]).reshape(3,-1)\n",
    "amorphous_y, amorphous_x = Analysis(amorphous).get_rdf(rmax = rmax_global, \n",
    "                                     nbins = nbins_global, \n",
    "                                     elements = [\"Si\", \"N\"], \n",
    "                                     return_dists = True)[0]\n",
    "amorphous_y = normalize(amorphous_y, amorphous_x)\n",
    "plt.plot(amorphous_x, amorphous_y);"
   ]
  },
  {
   "cell_type": "markdown",
   "metadata": {
    "hidden": true
   },
   "source": [
    "Construct analysis objects:"
   ]
  },
  {
   "cell_type": "code",
   "execution_count": null,
   "metadata": {
    "ExecuteTime": {
     "end_time": "2020-11-17T20:53:35.175521Z",
     "start_time": "2020-11-17T20:53:35.100Z"
    },
    "hidden": true
   },
   "outputs": [],
   "source": [
    "#construct supercells for analysis, otherwise RDF doesn't work\n",
    "data = list(geometries.values())\n",
    "\n",
    "xmult, ymult, zmult = 2, 2 , 1\n",
    "P = np.array([[xmult, 0, 0], \n",
    "          [0, ymult, 0], \n",
    "          [0, 0, zmult]]).reshape(3,-1)\n",
    "\n",
    "# anal = [Analysis(j) for i, j in enumerate(data, start = 1) if i not in error_list]\n",
    "anal = [Analysis(j) for i, j in enumerate(data, start = 1)]\n",
    "#took 22.9 seconds for a 2x2 cell to be multiplied to 4x4"
   ]
  },
  {
   "cell_type": "markdown",
   "metadata": {
    "hidden": true
   },
   "source": [
    "Get and plot RDF(s):"
   ]
  },
  {
   "cell_type": "code",
   "execution_count": null,
   "metadata": {
    "ExecuteTime": {
     "end_time": "2020-11-17T20:53:35.177235Z",
     "start_time": "2020-11-17T20:53:35.111Z"
    },
    "hidden": true
   },
   "outputs": [],
   "source": [
    "rmax = np.floor(data[0].cell[1,1] * xmult / 2)\n",
    "rdfs = np.array([i.get_rdf(rmax=rmax_global,\n",
    "                             nbins = nbins_global, \n",
    "                             elements = [\"Si\", \"N\"], \n",
    "                             return_dists = True)[0]\n",
    "        for i in anal\n",
    "       ])"
   ]
  },
  {
   "cell_type": "markdown",
   "metadata": {
    "hidden": true
   },
   "source": [
    "Process rdf files to get mean and 95% CI (assuming Gaussian error) "
   ]
  },
  {
   "cell_type": "code",
   "execution_count": null,
   "metadata": {
    "ExecuteTime": {
     "end_time": "2020-11-17T20:53:35.178690Z",
     "start_time": "2020-11-17T20:53:35.121Z"
    },
    "hidden": true
   },
   "outputs": [],
   "source": [
    "data_y_rdfs, data_x_rdf = rdfs[:,0], rdfs[:, 1][0] # x arrays are all identical \n",
    "data_y_rdfs = np.array([normalize(i, data_x_rdf) for i in data_y_rdfs])\n",
    "data_rdf_mean_y = np.mean(data_y_rdfs, axis=0)\n",
    "data_rdf_sd_y = np.std(data_y_rdfs, axis=0)"
   ]
  },
  {
   "cell_type": "code",
   "execution_count": null,
   "metadata": {
    "ExecuteTime": {
     "end_time": "2020-11-17T20:53:35.179851Z",
     "start_time": "2020-11-17T20:53:35.129Z"
    },
    "hidden": true,
    "scrolled": false
   },
   "outputs": [],
   "source": [
    "plt.plot(xtl_x, xtl_y, label = \"crystalline case\")\n",
    "# plt.plot(amorphous_x, amorphous_y, label = \"amorphous case (T=100K)\")\n",
    "\n",
    "plt.plot(data_x_rdf, data_rdf_mean_y, label = \"average bombarded case\")\n",
    "\n",
    "plt.fill_between(data_x_rdf, data_rdf_mean_y - 1.96*data_rdf_sd_y, data_rdf_mean_y + 1.96*data_rdf_sd_y,\n",
    "                 color='gray', alpha=0.2)\n",
    "\n",
    "plt.xlim(1, rmax_global)\n",
    "v = 0.13\n",
    "plt.title(\"Random bombardment of amorphous slab, v={}, KE = {} eV\".format(v, round(KE(v),2)), \n",
    "          fontsize = \"x-large\")\n",
    "plt.xlabel(\"r (Å)\", fontsize = 'x-large')\n",
    "plt.ylabel(\"g(r)\", fontsize = 'x-large')\n",
    "plt.legend(fontsize = 'x-large');"
   ]
  },
  {
   "cell_type": "markdown",
   "metadata": {
    "hidden": true
   },
   "source": [
    "Distance measures (extreme cases)"
   ]
  },
  {
   "cell_type": "code",
   "execution_count": null,
   "metadata": {
    "ExecuteTime": {
     "end_time": "2020-11-17T20:53:35.180824Z",
     "start_time": "2020-11-17T20:53:35.139Z"
    },
    "hidden": true
   },
   "outputs": [],
   "source": [
    "xtl_data = np.append(xtl_x, xtl_y).reshape((2, xtl_x.shape[-1])).T\n",
    "amorphous_data = np.append(amorphous_x, amorphous_y).reshape((2,amorphous_x.shape[-1])).T\n",
    "\n",
    "# data format: two columns, x and y\n",
    "\n",
    "pcm = similaritymeasures.pcm(xtl_data, amorphous_data)\n",
    "\n",
    "df = similaritymeasures.frechet_dist(xtl_data, amorphous_data)\n",
    "\n",
    "area = similaritymeasures.area_between_two_curves(xtl_data, amorphous_data)\n",
    "\n",
    "cl = similaritymeasures.curve_length_measure(xtl_data, amorphous_data)\n",
    "\n",
    "dtw, d = similaritymeasures.dtw(xtl_data, amorphous_data)\n",
    "\n",
    "tss = sum((xtl_y - amorphous_y)**2) #assume data points at same location!!!!\n",
    "tsa = sum(np.abs(xtl_y - amorphous_y)) #assume data points at same location!!!!\n",
    "dot = np.trapz(xtl_y * amorphous_y) #assume data points at same location!!!!\n",
    "\n",
    "# print the results\n",
    "print(\" PCM: {}\\n DF: {}\\n Area: {}\\n CL: {}\\n DTW: {}\\n TSS: {}\\n TSA: {}\\n <f*g>: {}\".format(\n",
    "    pcm, df, area, cl, dtw, tss, tsa, dot))"
   ]
  },
  {
   "cell_type": "markdown",
   "metadata": {
    "hidden": true
   },
   "source": [
    "Now comparing to thermal cases:"
   ]
  },
  {
   "cell_type": "code",
   "execution_count": null,
   "metadata": {
    "ExecuteTime": {
     "end_time": "2020-11-17T20:53:35.181908Z",
     "start_time": "2020-11-17T20:53:35.154Z"
    },
    "hidden": true
   },
   "outputs": [],
   "source": [
    "def ip(f, g, x):\n",
    "    fnorm = f / np.trapz(f * f, x)\n",
    "    gnorm = g / np.trapz(g * g, x)\n",
    "    return np.trapz(fnorm * gnorm, x)\n",
    "\n",
    "ip(xtl_y, xtl_y, xtl_x)"
   ]
  },
  {
   "cell_type": "markdown",
   "metadata": {
    "heading_collapsed": true
   },
   "source": [
    "## Descriptors"
   ]
  },
  {
   "cell_type": "code",
   "execution_count": 160,
   "metadata": {
    "ExecuteTime": {
     "end_time": "2020-11-17T20:53:35.340517Z",
     "start_time": "2020-11-17T20:53:35.283499Z"
    },
    "hidden": true
   },
   "outputs": [],
   "source": [
    "\"\"\"Demostrates how global similarity kernels can be built from local atomic\n",
    "environments.\n",
    "\"\"\"\n",
    "from dscribe.descriptors import SOAP\n",
    "from dscribe.descriptors import MBTR\n",
    "from dscribe.kernels import REMatchKernel\n",
    "from dscribe.kernels import AverageKernel\n",
    "\n",
    "from sklearn import preprocessing\n",
    "\n",
    "a = xtl_n\n",
    "b = xtl2x2\n",
    "compare = [xtl_n, xtl2x2, xtl_si, amorphous]\n",
    "# outlier = [gen.read_gen(\"../output6.gen\")]\n",
    "# compare = [xtl2x2]\n",
    "# temp = []\n",
    "xmult, ymult, zmult = 2, 2, 1\n",
    "P = np.array([[xmult, 0, 0], \n",
    "          [0, ymult, 0], \n",
    "          [0, 0, zmult]]).reshape(3,-1)\n",
    "supercell = make_supercell(xtl_n, P)\n",
    "\n",
    "temp = [supercell, heavy_bomb]\n",
    "compare = compare + temp \n",
    "\n",
    "#preprocess, only use Si and N structure\n",
    "for atoms in compare:\n",
    "    del atoms[[atom.index for atom in atoms if atom.symbol not in ['Si', 'N']]]\n",
    "    \n",
    "structlabels = [\"nrich\", \"2x2nrich\", \"sirich\", \"amorphous\", \"supercell\", \"heavy_bomb\", \"outlier\"]\n",
    "# show_atoms_grid(compare)"
   ]
  },
  {
   "cell_type": "code",
   "execution_count": 161,
   "metadata": {
    "ExecuteTime": {
     "end_time": "2020-11-17T20:53:37.009337Z",
     "start_time": "2020-11-17T20:53:35.348278Z"
    },
    "hidden": true
   },
   "outputs": [
    {
     "data": {
      "text/plain": [
       "[('amorphous', 0.9999988144246187),\n",
       " ('sirich', 0.9999993237308198),\n",
       " ('heavy_bomb', 0.9999994672572393),\n",
       " ('2x2nrich', 0.999999862318512),\n",
       " ('supercell', 1.0),\n",
       " ('nrich', 1.0000000000000002)]"
      ]
     },
     "execution_count": 161,
     "metadata": {},
     "output_type": "execute_result"
    }
   ],
   "source": [
    "#SOAP\n",
    "desc1 = SOAP(species=[7, 14, 6, 9], \n",
    "             rcut=5.0, \n",
    "             nmax=10, \n",
    "             lmax=9, \n",
    "             sigma=0.5, \n",
    "             periodic=True, \n",
    "             crossover=True, \n",
    "             sparse=False)\n",
    "features = [preprocessing.normalize(desc1.create(i)) for i in compare]\n",
    "re = REMatchKernel(metric=\"rbf\", alpha=1e-2, threshold=1e-6)\n",
    "\n",
    "\n",
    "sorted(zip(structlabels, re.create(features)[0]), key = lambda x: x[1])"
   ]
  },
  {
   "cell_type": "code",
   "execution_count": 162,
   "metadata": {
    "ExecuteTime": {
     "end_time": "2020-11-17T20:53:39.437001Z",
     "start_time": "2020-11-17T20:53:37.011173Z"
    },
    "code_folding": [],
    "hidden": true,
    "scrolled": false
   },
   "outputs": [
    {
     "ename": "KeyboardInterrupt",
     "evalue": "",
     "output_type": "error",
     "traceback": [
      "\u001b[0;31m---------------------------------------------------------------------------\u001b[0m",
      "\u001b[0;31mKeyboardInterrupt\u001b[0m                         Traceback (most recent call last)",
      "\u001b[0;32m<ipython-input-162-dc712ec18ae9>\u001b[0m in \u001b[0;36m<module>\u001b[0;34m\u001b[0m\n\u001b[1;32m     36\u001b[0m \u001b[0;34m\u001b[0m\u001b[0m\n\u001b[1;32m     37\u001b[0m \u001b[0mre\u001b[0m \u001b[0;34m=\u001b[0m \u001b[0mREMatchKernel\u001b[0m\u001b[0;34m(\u001b[0m\u001b[0mmetric\u001b[0m\u001b[0;34m=\u001b[0m\u001b[0;34m\"rbf\"\u001b[0m\u001b[0;34m,\u001b[0m \u001b[0malpha\u001b[0m\u001b[0;34m=\u001b[0m\u001b[0;36m1e-2\u001b[0m\u001b[0;34m,\u001b[0m \u001b[0mthreshold\u001b[0m\u001b[0;34m=\u001b[0m\u001b[0;36m1e-6\u001b[0m\u001b[0;34m)\u001b[0m\u001b[0;34m\u001b[0m\u001b[0;34m\u001b[0m\u001b[0m\n\u001b[0;32m---> 38\u001b[0;31m \u001b[0mre_kernel\u001b[0m \u001b[0;34m=\u001b[0m \u001b[0mre\u001b[0m\u001b[0;34m.\u001b[0m\u001b[0mcreate\u001b[0m\u001b[0;34m(\u001b[0m\u001b[0mfeatures\u001b[0m\u001b[0;34m)\u001b[0m\u001b[0;34m\u001b[0m\u001b[0;34m\u001b[0m\u001b[0m\n\u001b[0m\u001b[1;32m     39\u001b[0m \u001b[0max\u001b[0m \u001b[0;34m=\u001b[0m \u001b[0msns\u001b[0m\u001b[0;34m.\u001b[0m\u001b[0mheatmap\u001b[0m\u001b[0;34m(\u001b[0m\u001b[0mre_kernel\u001b[0m\u001b[0;34m,\u001b[0m \u001b[0mlinewidth\u001b[0m\u001b[0;34m=\u001b[0m\u001b[0;36m0.5\u001b[0m\u001b[0;34m,\u001b[0m \u001b[0mxticklabels\u001b[0m \u001b[0;34m=\u001b[0m \u001b[0mstructlabels\u001b[0m\u001b[0;34m,\u001b[0m \u001b[0myticklabels\u001b[0m \u001b[0;34m=\u001b[0m \u001b[0mstructlabels\u001b[0m\u001b[0;34m)\u001b[0m\u001b[0;34m\u001b[0m\u001b[0;34m\u001b[0m\u001b[0m\n\u001b[1;32m     40\u001b[0m \u001b[0;31m# plt.savefig(\"soap_linear_smallalpha.png\")\u001b[0m\u001b[0;34m\u001b[0m\u001b[0;34m\u001b[0m\u001b[0;34m\u001b[0m\u001b[0m\n",
      "\u001b[0;32m~/miniconda3/lib/python3.7/site-packages/dscribe/kernels/localsimilaritykernel.py\u001b[0m in \u001b[0;36mcreate\u001b[0;34m(self, x, y)\u001b[0m\n\u001b[1;32m     95\u001b[0m                 \u001b[0;32melse\u001b[0m\u001b[0;34m:\u001b[0m\u001b[0;34m\u001b[0m\u001b[0;34m\u001b[0m\u001b[0m\n\u001b[1;32m     96\u001b[0m                     \u001b[0my_j\u001b[0m \u001b[0;34m=\u001b[0m \u001b[0my\u001b[0m\u001b[0;34m[\u001b[0m\u001b[0mj\u001b[0m\u001b[0;34m]\u001b[0m\u001b[0;34m\u001b[0m\u001b[0;34m\u001b[0m\u001b[0m\n\u001b[0;32m---> 97\u001b[0;31m                 \u001b[0mC_ij\u001b[0m \u001b[0;34m=\u001b[0m \u001b[0mself\u001b[0m\u001b[0;34m.\u001b[0m\u001b[0mget_pairwise_matrix\u001b[0m\u001b[0;34m(\u001b[0m\u001b[0mx_i\u001b[0m\u001b[0;34m,\u001b[0m \u001b[0my_j\u001b[0m\u001b[0;34m)\u001b[0m\u001b[0;34m\u001b[0m\u001b[0;34m\u001b[0m\u001b[0m\n\u001b[0m\u001b[1;32m     98\u001b[0m                 \u001b[0mC_ij_dict\u001b[0m\u001b[0;34m[\u001b[0m\u001b[0mi\u001b[0m\u001b[0;34m,\u001b[0m \u001b[0mj\u001b[0m\u001b[0;34m]\u001b[0m \u001b[0;34m=\u001b[0m \u001b[0mC_ij\u001b[0m\u001b[0;34m\u001b[0m\u001b[0;34m\u001b[0m\u001b[0m\n\u001b[1;32m     99\u001b[0m \u001b[0;34m\u001b[0m\u001b[0m\n",
      "\u001b[0;32m~/miniconda3/lib/python3.7/site-packages/dscribe/kernels/localsimilaritykernel.py\u001b[0m in \u001b[0;36mget_pairwise_matrix\u001b[0;34m(self, X, Y)\u001b[0m\n\u001b[1;32m    165\u001b[0m                       \"coef0\": self.coef0}\n\u001b[1;32m    166\u001b[0m         return pairwise_kernels(X, Y, metric=self.metric,\n\u001b[0;32m--> 167\u001b[0;31m                                 filter_params=True, **params)\n\u001b[0m\u001b[1;32m    168\u001b[0m \u001b[0;34m\u001b[0m\u001b[0m\n\u001b[1;32m    169\u001b[0m     \u001b[0;34m@\u001b[0m\u001b[0mabstractmethod\u001b[0m\u001b[0;34m\u001b[0m\u001b[0;34m\u001b[0m\u001b[0m\n",
      "\u001b[0;32m~/miniconda3/lib/python3.7/site-packages/sklearn/metrics/pairwise.py\u001b[0m in \u001b[0;36mpairwise_kernels\u001b[0;34m(X, Y, metric, filter_params, n_jobs, **kwds)\u001b[0m\n\u001b[1;32m   1910\u001b[0m         \u001b[0;32mraise\u001b[0m \u001b[0mValueError\u001b[0m\u001b[0;34m(\u001b[0m\u001b[0;34m\"Unknown kernel %r\"\u001b[0m \u001b[0;34m%\u001b[0m \u001b[0mmetric\u001b[0m\u001b[0;34m)\u001b[0m\u001b[0;34m\u001b[0m\u001b[0;34m\u001b[0m\u001b[0m\n\u001b[1;32m   1911\u001b[0m \u001b[0;34m\u001b[0m\u001b[0m\n\u001b[0;32m-> 1912\u001b[0;31m     \u001b[0;32mreturn\u001b[0m \u001b[0m_parallel_pairwise\u001b[0m\u001b[0;34m(\u001b[0m\u001b[0mX\u001b[0m\u001b[0;34m,\u001b[0m \u001b[0mY\u001b[0m\u001b[0;34m,\u001b[0m \u001b[0mfunc\u001b[0m\u001b[0;34m,\u001b[0m \u001b[0mn_jobs\u001b[0m\u001b[0;34m,\u001b[0m \u001b[0;34m**\u001b[0m\u001b[0mkwds\u001b[0m\u001b[0;34m)\u001b[0m\u001b[0;34m\u001b[0m\u001b[0;34m\u001b[0m\u001b[0m\n\u001b[0m",
      "\u001b[0;32m~/miniconda3/lib/python3.7/site-packages/sklearn/metrics/pairwise.py\u001b[0m in \u001b[0;36m_parallel_pairwise\u001b[0;34m(X, Y, func, n_jobs, **kwds)\u001b[0m\n\u001b[1;32m   1346\u001b[0m \u001b[0;34m\u001b[0m\u001b[0m\n\u001b[1;32m   1347\u001b[0m     \u001b[0;32mif\u001b[0m \u001b[0meffective_n_jobs\u001b[0m\u001b[0;34m(\u001b[0m\u001b[0mn_jobs\u001b[0m\u001b[0;34m)\u001b[0m \u001b[0;34m==\u001b[0m \u001b[0;36m1\u001b[0m\u001b[0;34m:\u001b[0m\u001b[0;34m\u001b[0m\u001b[0;34m\u001b[0m\u001b[0m\n\u001b[0;32m-> 1348\u001b[0;31m         \u001b[0;32mreturn\u001b[0m \u001b[0mfunc\u001b[0m\u001b[0;34m(\u001b[0m\u001b[0mX\u001b[0m\u001b[0;34m,\u001b[0m \u001b[0mY\u001b[0m\u001b[0;34m,\u001b[0m \u001b[0;34m**\u001b[0m\u001b[0mkwds\u001b[0m\u001b[0;34m)\u001b[0m\u001b[0;34m\u001b[0m\u001b[0;34m\u001b[0m\u001b[0m\n\u001b[0m\u001b[1;32m   1349\u001b[0m \u001b[0;34m\u001b[0m\u001b[0m\n\u001b[1;32m   1350\u001b[0m     \u001b[0;31m# enforce a threading backend to prevent data communication overhead\u001b[0m\u001b[0;34m\u001b[0m\u001b[0;34m\u001b[0m\u001b[0;34m\u001b[0m\u001b[0m\n",
      "\u001b[0;32m~/miniconda3/lib/python3.7/site-packages/sklearn/metrics/pairwise.py\u001b[0m in \u001b[0;36mrbf_kernel\u001b[0;34m(X, Y, gamma)\u001b[0m\n\u001b[1;32m   1090\u001b[0m         \u001b[0mgamma\u001b[0m \u001b[0;34m=\u001b[0m \u001b[0;36m1.0\u001b[0m \u001b[0;34m/\u001b[0m \u001b[0mX\u001b[0m\u001b[0;34m.\u001b[0m\u001b[0mshape\u001b[0m\u001b[0;34m[\u001b[0m\u001b[0;36m1\u001b[0m\u001b[0;34m]\u001b[0m\u001b[0;34m\u001b[0m\u001b[0;34m\u001b[0m\u001b[0m\n\u001b[1;32m   1091\u001b[0m \u001b[0;34m\u001b[0m\u001b[0m\n\u001b[0;32m-> 1092\u001b[0;31m     \u001b[0mK\u001b[0m \u001b[0;34m=\u001b[0m \u001b[0meuclidean_distances\u001b[0m\u001b[0;34m(\u001b[0m\u001b[0mX\u001b[0m\u001b[0;34m,\u001b[0m \u001b[0mY\u001b[0m\u001b[0;34m,\u001b[0m \u001b[0msquared\u001b[0m\u001b[0;34m=\u001b[0m\u001b[0;32mTrue\u001b[0m\u001b[0;34m)\u001b[0m\u001b[0;34m\u001b[0m\u001b[0;34m\u001b[0m\u001b[0m\n\u001b[0m\u001b[1;32m   1093\u001b[0m     \u001b[0mK\u001b[0m \u001b[0;34m*=\u001b[0m \u001b[0;34m-\u001b[0m\u001b[0mgamma\u001b[0m\u001b[0;34m\u001b[0m\u001b[0;34m\u001b[0m\u001b[0m\n\u001b[1;32m   1094\u001b[0m     \u001b[0mnp\u001b[0m\u001b[0;34m.\u001b[0m\u001b[0mexp\u001b[0m\u001b[0;34m(\u001b[0m\u001b[0mK\u001b[0m\u001b[0;34m,\u001b[0m \u001b[0mK\u001b[0m\u001b[0;34m)\u001b[0m  \u001b[0;31m# exponentiate K in-place\u001b[0m\u001b[0;34m\u001b[0m\u001b[0;34m\u001b[0m\u001b[0m\n",
      "\u001b[0;32m~/miniconda3/lib/python3.7/site-packages/sklearn/metrics/pairwise.py\u001b[0m in \u001b[0;36meuclidean_distances\u001b[0;34m(X, Y, Y_norm_squared, squared, X_norm_squared)\u001b[0m\n\u001b[1;32m    298\u001b[0m         \u001b[0;31m# To minimize precision issues with float32, we compute the distance\u001b[0m\u001b[0;34m\u001b[0m\u001b[0;34m\u001b[0m\u001b[0;34m\u001b[0m\u001b[0m\n\u001b[1;32m    299\u001b[0m         \u001b[0;31m# matrix on chunks of X and Y upcast to float64\u001b[0m\u001b[0;34m\u001b[0m\u001b[0;34m\u001b[0m\u001b[0;34m\u001b[0m\u001b[0m\n\u001b[0;32m--> 300\u001b[0;31m         \u001b[0mdistances\u001b[0m \u001b[0;34m=\u001b[0m \u001b[0m_euclidean_distances_upcast\u001b[0m\u001b[0;34m(\u001b[0m\u001b[0mX\u001b[0m\u001b[0;34m,\u001b[0m \u001b[0mXX\u001b[0m\u001b[0;34m,\u001b[0m \u001b[0mY\u001b[0m\u001b[0;34m,\u001b[0m \u001b[0mYY\u001b[0m\u001b[0;34m)\u001b[0m\u001b[0;34m\u001b[0m\u001b[0;34m\u001b[0m\u001b[0m\n\u001b[0m\u001b[1;32m    301\u001b[0m     \u001b[0;32melse\u001b[0m\u001b[0;34m:\u001b[0m\u001b[0;34m\u001b[0m\u001b[0;34m\u001b[0m\u001b[0m\n\u001b[1;32m    302\u001b[0m         \u001b[0;31m# if dtype is already float64, no need to chunk and upcast\u001b[0m\u001b[0;34m\u001b[0m\u001b[0;34m\u001b[0m\u001b[0;34m\u001b[0m\u001b[0m\n",
      "\u001b[0;32m~/miniconda3/lib/python3.7/site-packages/sklearn/metrics/pairwise.py\u001b[0m in \u001b[0;36m_euclidean_distances_upcast\u001b[0;34m(X, XX, Y, YY, batch_size)\u001b[0m\n\u001b[1;32m    489\u001b[0m                     \u001b[0mYY_chunk\u001b[0m \u001b[0;34m=\u001b[0m \u001b[0mYY\u001b[0m\u001b[0;34m[\u001b[0m\u001b[0;34m:\u001b[0m\u001b[0;34m,\u001b[0m \u001b[0my_slice\u001b[0m\u001b[0;34m]\u001b[0m\u001b[0;34m\u001b[0m\u001b[0;34m\u001b[0m\u001b[0m\n\u001b[1;32m    490\u001b[0m \u001b[0;34m\u001b[0m\u001b[0m\n\u001b[0;32m--> 491\u001b[0;31m                 \u001b[0md\u001b[0m \u001b[0;34m=\u001b[0m \u001b[0;34m-\u001b[0m\u001b[0;36m2\u001b[0m \u001b[0;34m*\u001b[0m \u001b[0msafe_sparse_dot\u001b[0m\u001b[0;34m(\u001b[0m\u001b[0mX_chunk\u001b[0m\u001b[0;34m,\u001b[0m \u001b[0mY_chunk\u001b[0m\u001b[0;34m.\u001b[0m\u001b[0mT\u001b[0m\u001b[0;34m,\u001b[0m \u001b[0mdense_output\u001b[0m\u001b[0;34m=\u001b[0m\u001b[0;32mTrue\u001b[0m\u001b[0;34m)\u001b[0m\u001b[0;34m\u001b[0m\u001b[0;34m\u001b[0m\u001b[0m\n\u001b[0m\u001b[1;32m    492\u001b[0m                 \u001b[0md\u001b[0m \u001b[0;34m+=\u001b[0m \u001b[0mXX_chunk\u001b[0m\u001b[0;34m\u001b[0m\u001b[0;34m\u001b[0m\u001b[0m\n\u001b[1;32m    493\u001b[0m                 \u001b[0md\u001b[0m \u001b[0;34m+=\u001b[0m \u001b[0mYY_chunk\u001b[0m\u001b[0;34m\u001b[0m\u001b[0;34m\u001b[0m\u001b[0m\n",
      "\u001b[0;32m~/miniconda3/lib/python3.7/site-packages/sklearn/utils/extmath.py\u001b[0m in \u001b[0;36msafe_sparse_dot\u001b[0;34m(a, b, dense_output)\u001b[0m\n\u001b[1;32m    149\u001b[0m             \u001b[0mret\u001b[0m \u001b[0;34m=\u001b[0m \u001b[0mnp\u001b[0m\u001b[0;34m.\u001b[0m\u001b[0mdot\u001b[0m\u001b[0;34m(\u001b[0m\u001b[0ma\u001b[0m\u001b[0;34m,\u001b[0m \u001b[0mb\u001b[0m\u001b[0;34m)\u001b[0m\u001b[0;34m\u001b[0m\u001b[0;34m\u001b[0m\u001b[0m\n\u001b[1;32m    150\u001b[0m     \u001b[0;32melse\u001b[0m\u001b[0;34m:\u001b[0m\u001b[0;34m\u001b[0m\u001b[0;34m\u001b[0m\u001b[0m\n\u001b[0;32m--> 151\u001b[0;31m         \u001b[0mret\u001b[0m \u001b[0;34m=\u001b[0m \u001b[0ma\u001b[0m \u001b[0;34m@\u001b[0m \u001b[0mb\u001b[0m\u001b[0;34m\u001b[0m\u001b[0;34m\u001b[0m\u001b[0m\n\u001b[0m\u001b[1;32m    152\u001b[0m \u001b[0;34m\u001b[0m\u001b[0m\n\u001b[1;32m    153\u001b[0m     if (sparse.issparse(a) and sparse.issparse(b)\n",
      "\u001b[0;31mKeyboardInterrupt\u001b[0m: "
     ]
    }
   ],
   "source": [
    "#SOAP\n",
    "desc1 = SOAP(species=[7, 14, 6, 9], \n",
    "             rcut=5.0, \n",
    "             nmax=10, \n",
    "             lmax=9, \n",
    "             sigma=0.5, \n",
    "             periodic=True, \n",
    "             crossover=False, \n",
    "             sparse=False)\n",
    "# MTBR\n",
    "desc2 = MBTR(\n",
    "    species=[\"N\",\"Si\", \"C\", \"F\"],\n",
    "    periodic=True,\n",
    "#     k1={\n",
    "#         \"geometry\": {\"function\": \"atomic_number\"},\n",
    "#         \"grid\": {\"min\": 0, \"max\": 2, \"sigma\": 0.01, \"n\": 100},\n",
    "#     },\n",
    "    k2={\n",
    "        \"geometry\": {\"function\": \"distance\"},\n",
    "        \"grid\": {\"min\": 0, \"max\": 3.0, \"sigma\": 0.02, \"n\": 200},\n",
    "        \"weighting\": {\"function\": \"exponential\", \"scale\": 1.0, \"cutoff\": 1e-3},\n",
    "    },\n",
    "    k3={\n",
    "        \"geometry\": {\"function\": \"cosine\"},\n",
    "        \"grid\": {\"min\": -1.0, \"max\": 1.0, \"sigma\": 0.02, \"n\": 200},\n",
    "        \"weighting\": {\"function\": \"exponential\", \"scale\": 1.0, \"cutoff\": 1e-3},\n",
    "    },\n",
    "    flatten=True,\n",
    "    sparse=False,\n",
    ")\n",
    "desc2.normalization = \"l2_each\"\n",
    "output = [desc2.create(i) for i in compare]\n",
    "\n",
    "features = [preprocessing.normalize(desc1.create(i)) for i in compare]\n",
    "\n",
    "\n",
    "re = REMatchKernel(metric=\"rbf\", alpha=1e-2, threshold=1e-6)\n",
    "re_kernel = re.create(features)\n",
    "ax = sns.heatmap(re_kernel, linewidth=0.5, xticklabels = structlabels, yticklabels = structlabels)\n",
    "# plt.savefig(\"soap_linear_smallalpha.png\")\n",
    "plt.show()\n",
    "\n",
    "\n",
    "re = REMatchKernel(metric=\"rbf\", gamma=1, alpha=2, threshold=1e-6)\n",
    "re_kernel = re.create(features)\n",
    "ax = sns.heatmap(re_kernel, linewidth=0.5, xticklabels = structlabels, yticklabels = structlabels)\n",
    "# plt.savefig(\"soap_rbf_bigalpha.png\")\n",
    "plt.show()\n",
    "\n",
    "re = REMatchKernel(metric=\"rbf\", gamma=1, alpha=1e-2, threshold=1e-6)\n",
    "re_kernel = re.create(output)\n",
    "ax = sns.heatmap(re_kernel, linewidth=0.5, xticklabels = structlabels, yticklabels = structlabels)\n",
    "# plt.savefig(\"mtbr_rbf_smallalpha.png\")\n",
    "plt.show()\n",
    "\n",
    "re = REMatchKernel(metric=\"rbf\", gamma=1, alpha=1.5, threshold=1e-6)\n",
    "re_kernel = re.create(output)\n",
    "ax = sns.heatmap(re_kernel, linewidth=0.5, xticklabels = structlabels, yticklabels = structlabels)\n",
    "# plt.savefig(\"mtbr_rbf_bigalpha.png\")\n",
    "plt.show()"
   ]
  },
  {
   "cell_type": "code",
   "execution_count": null,
   "metadata": {
    "ExecuteTime": {
     "end_time": "2020-11-17T20:53:39.456310Z",
     "start_time": "2020-11-17T20:53:35.195Z"
    },
    "hidden": true
   },
   "outputs": [],
   "source": [
    "import ase.data\n",
    "from ase.build import bulk\n",
    "\n",
    "# The MBTR-object is configured with flatten=False so that we can easily\n",
    "# visualize the different terms.\n",
    "nacl = bulk(\"NaCl\", \"rocksalt\", a=5.64)\n",
    "decay = 0.5\n",
    "mbtr = MBTR(\n",
    "    species=[\"Na\", \"Cl\"],\n",
    "    k2={\n",
    "        \"geometry\": {\"function\": \"inverse_distance\"},\n",
    "        \"grid\": {\"min\": 0, \"max\": 0.5, \"sigma\": 0.01, \"n\": 200},\n",
    "        \"weighting\": {\"function\": \"exponential\", \"scale\": decay, \"cutoff\": 1e-3},\n",
    "    },\n",
    "    periodic=True,\n",
    "    flatten=False,\n",
    "    sparse=False\n",
    ")\n",
    "mbtr_output = mbtr.create(nacl)\n",
    "\n",
    "# Create the mapping between an index in the output and the corresponding\n",
    "# chemical symbol\n",
    "n_elements = len(mbtr.species)\n",
    "imap = mbtr.index_to_atomic_number\n",
    "x = np.linspace(0, 0.5, 200)\n",
    "smap = {index: ase.data.chemical_symbols[number] for index, number in imap.items()}\n",
    "\n",
    "# Plot k=2\n",
    "fig, ax = plt.subplots()\n",
    "for i in range(n_elements):\n",
    "    for j in range(n_elements):\n",
    "        if j >= i:\n",
    "            plt.plot(x, mbtr_output[\"k2\"][i, j, :], label=\"{}-{}\".format(smap[i], smap[j]))\n",
    "ax.set_xlabel(\"Inverse distance (1/angstrom)\")"
   ]
  },
  {
   "cell_type": "code",
   "execution_count": null,
   "metadata": {
    "ExecuteTime": {
     "end_time": "2020-11-17T20:53:39.466590Z",
     "start_time": "2020-11-17T20:53:35.202Z"
    },
    "hidden": true,
    "scrolled": false
   },
   "outputs": [],
   "source": [
    "# Plot k=2\n",
    "x = np.linspace(0, 3, 200)\n",
    "fig, ax = plt.subplots()\n",
    "for i in range(5):\n",
    "    for j in range(5):\n",
    "        if j >= i:\n",
    "            plt.plot(x, output[0][\"k2\"][i, j, :], label=\"{}-{}\".format(smap[i], smap[j]))\n",
    "ax.set_xlabel(\"Inverse distance (1/angstrom)\")"
   ]
  },
  {
   "cell_type": "markdown",
   "metadata": {
    "heading_collapsed": true
   },
   "source": [
    "## Damage analysis"
   ]
  },
  {
   "cell_type": "code",
   "execution_count": null,
   "metadata": {
    "ExecuteTime": {
     "end_time": "2020-11-17T20:53:39.468278Z",
     "start_time": "2020-11-17T20:53:35.212Z"
    },
    "hidden": true
   },
   "outputs": [],
   "source": [
    "copy = xtl_n.copy()\n",
    "del copy[[atom.index for atom in copy if atom.position[2] > 15]]\n",
    "view(copy)\n",
    "view(xtl_n)"
   ]
  },
  {
   "attachments": {
    "image.png": {
     "image/png": "[encoded data removed]"
    }
   },
   "cell_type": "markdown",
   "metadata": {
    "hidden": true
   },
   "source": [
    "Testing for heavy bombard: ![image.png](attachment:image.png)\n",
    "\n",
    "Visually estimate that it's between 0.36977 to 0.40572 C."
   ]
  },
  {
   "cell_type": "code",
   "execution_count": null,
   "metadata": {
    "ExecuteTime": {
     "end_time": "2020-11-17T20:53:39.469995Z",
     "start_time": "2020-11-17T20:53:35.222Z"
    },
    "hidden": true
   },
   "outputs": [],
   "source": [
    "np.array([0.36977, 0.40572]) * heavy_bomb.cell[2,2]"
   ]
  },
  {
   "cell_type": "code",
   "execution_count": null,
   "metadata": {
    "ExecuteTime": {
     "end_time": "2020-11-17T20:53:39.471528Z",
     "start_time": "2020-11-17T20:53:35.231Z"
    },
    "code_folding": [],
    "hidden": true,
    "scrolled": false
   },
   "outputs": [],
   "source": [
    "from scipy.interpolate import interp1d\n",
    "\n",
    "\n",
    "def damage_analysis(struct, crystal = xtl_n, \n",
    "                    resolution = 1, tolerance = 1e-2, \n",
    "                    rmax = 3, nbins = 200, \n",
    "                    elements = [\"Si\", \"N\"],\n",
    "                    species=[7, 14, 6, 9], \n",
    "                    mindist = 10,\n",
    "                    rcut=5.0, \n",
    "                    nmax=10,\n",
    "                    lmax=9, \n",
    "                    sigma=0.5, \n",
    "                    periodic=1, #bool \n",
    "                    crossover=1,#bool\n",
    "                    sparse=0, \n",
    "                    metric = 'rbf',\n",
    "                    alpha = 1e-2,\n",
    "                    threshold = 1e-6\n",
    "                   ):\n",
    "    \n",
    "    cellheight = struct.cell[2,2]\n",
    "    heights = np.arange(mindist, cellheight, resolution)\n",
    "    copies = []\n",
    "    rdfs = []\n",
    "    soap_similarities = []\n",
    "    \n",
    "    desc = SOAP(species=species, \n",
    "             rcut=rcut, \n",
    "             nmax=nmax, \n",
    "             lmax=lmax, \n",
    "             sigma=sigma, \n",
    "             periodic=1, \n",
    "             crossover=1, \n",
    "             sparse=0)\n",
    "\n",
    "\n",
    "    \n",
    "    for zi in heights:\n",
    "        copy = struct.copy()\n",
    "        del copy[[atom.index for atom in copy if atom.position[2] > zi]]\n",
    "        copies += [copy]\n",
    "        \n",
    "#         features = [preprocessing.normalize(desc.create(i)) for i in [crystal, copy]]\n",
    "#         re = REMatchKernel(metric=metric, alpha=alpha, threshold=threshold)\n",
    "#         soap_similarities += [re.create(features)[0, 1]]\n",
    "        rdfs += Analysis(copy).get_rdf(rmax = rmax, \n",
    "                             nbins = nbins, \n",
    "                             elements = elements, \n",
    "                             return_dists = True)\n",
    "#     plt.plot(heights, soap_similarities)\n",
    "#     plt.vlines([16.2, 17.8], min(soap_similarities), max(soap_similarities))\n",
    "#     plt.title('soap curve')\n",
    "#     plt.show()\n",
    "\n",
    "    xtlrdf, xtlr = Analysis(crystal).get_rdf(rmax = rmax, nbins = nbins, \n",
    "                                             elements = elements, return_dists = True)[0]\n",
    "    xtlrdf = normalize(xtlrdf, xtlr)\n",
    "    xtlrdf = interp1d(xtlr, xtlrdf)\n",
    "    \n",
    "    absdiffs = []\n",
    "    sqdiffs = []\n",
    "    \n",
    "    for rdf,r in rdfs:\n",
    "        rdf = normalize(rdf, r)\n",
    "        absdiffs += [np.sum(np.abs(xtlrdf(r) - rdf))]\n",
    "        sqdiffs += [np.sum((xtlrdf(r) - rdf)**2)]\n",
    "    plt.plot(heights, absdiffs, label = \"l1\")\n",
    "    plt.plot(heights, sqdiffs, label = \"l2\")\n",
    "    plt.hlines(0, rmax, cellheight)\n",
    "    plt.vlines([16.2, 17.8], 0, 30)\n",
    "    plt.legend()\n",
    "    plt.title('rdf comparison')\n",
    "    \n",
    "    return soap_similarities, absdiffs, sqdiffs, heights\n",
    "    \n",
    "    \n",
    "        \n",
    "damage_analysis_results = damage_analysis(heavy_bomb_copy, mindist=7)"
   ]
  },
  {
   "cell_type": "code",
   "execution_count": null,
   "metadata": {
    "ExecuteTime": {
     "end_time": "2020-11-17T20:53:39.473186Z",
     "start_time": "2020-11-17T20:53:35.238Z"
    },
    "hidden": true
   },
   "outputs": [],
   "source": [
    "damage_analyses = [damage_analysis(thicc_bombarded[i], mindist = 7) for i in range(5)]"
   ]
  },
  {
   "cell_type": "code",
   "execution_count": null,
   "metadata": {
    "ExecuteTime": {
     "end_time": "2020-11-17T20:53:39.474954Z",
     "start_time": "2020-11-17T20:53:35.246Z"
    },
    "code_folding": [
     0
    ],
    "hidden": true
   },
   "outputs": [],
   "source": [
    "def soap_fitter(struct, \n",
    "                species = [7, 14, 6, 0],\n",
    "                periodic=True, \n",
    "                crossover=True,\n",
    "                sparse=False, \n",
    "                metric = 'rbf', \n",
    "                crystal = xtl_n,\n",
    "                mindist = 5,\n",
    "               ):\n",
    "    \n",
    "    def soap_fitter_base(x,\n",
    "                    rcut=5.0, \n",
    "                    nmax=10,\n",
    "                    lmax=9, \n",
    "                    sigma=0.5, alpha = 1e-2,\n",
    "                    threshold = 1e-6\n",
    "                   ):\n",
    "        nmax, lmax = int(np.floor(nmax)), int(np.floor(lmax))\n",
    "    \n",
    "        cellheight = struct.cell[2,2]\n",
    "        heights = x\n",
    "        copies = []\n",
    "        soap_similarities = []\n",
    "\n",
    "        desc = SOAP(species=species, \n",
    "                 rcut=rcut, \n",
    "                 nmax=nmax, \n",
    "                 lmax=lmax, \n",
    "                 sigma=sigma, \n",
    "                 periodic=periodic, \n",
    "                 crossover=crossover, \n",
    "                 sparse=sparse)\n",
    "\n",
    "\n",
    "\n",
    "        for zi in heights:\n",
    "            copy = struct.copy()\n",
    "            del copy[[atom.index for atom in copy if atom.position[2] > zi]]\n",
    "            copies += [copy]\n",
    "\n",
    "            features = [preprocessing.normalize(desc.create(i)) for i in [crystal, copy]]\n",
    "            re = REMatchKernel(metric=metric, alpha=alpha, threshold=threshold)\n",
    "            soap_similarities += [re.create(features)[0, 1]]\n",
    "\n",
    "\n",
    "        return soap_similarities\n",
    "    \n",
    "    return soap_fitter_base\n",
    "\n",
    "def mbtr_fitter(struct, \n",
    "                species=[\"N\",\"Si\", \"C\", \"F\"],\n",
    "                periodic=True, \n",
    "                crossover=True,\n",
    "                sparse=False, \n",
    "                metric = 'rbf', \n",
    "                crystal = xtl_n,\n",
    "                mindist = 5,\n",
    "               ):\n",
    "    \n",
    "    def mbtr_fitter_base(x,\n",
    "                         amplitude, bias,\n",
    "                         rcut=5.0, \n",
    "                         n = 200,\n",
    "                         scale=1,\n",
    "                         sigma=0.02, \n",
    "                         alpha = 1e-2,\n",
    "                         cutoff = 1e-3,\n",
    "                         threshold = 1e-6,\n",
    "                   ):\n",
    "        n = int(n)\n",
    "        \n",
    "        del crystal[[atom.index for atom in crystal if atom.symbol not in species]]\n",
    "        cellheight = struct.cell[2,2]\n",
    "        heights = x\n",
    "        copies = []\n",
    "        similarities = []\n",
    "\n",
    "        desc = MBTR(\n",
    "            species = species,\n",
    "            periodic=True,\n",
    "            k2={\n",
    "                \"geometry\": {\"function\": \"distance\"},\n",
    "                \"grid\": {\"min\": 0, \"max\": rcut, \"sigma\": sigma, \"n\": n},\n",
    "                \"weighting\": {\"function\": \"exponential\", \"scale\": scale, \"cutoff\": cutoff},\n",
    "            },\n",
    "            k3={\n",
    "                \"geometry\": {\"function\": \"cosine\"},\n",
    "                \"grid\": {\"min\": -1.0, \"max\": 1.0, \"sigma\": sigma , \"n\": n},\n",
    "                \"weighting\": {\"function\": \"exponential\", \"scale\": scale, \"cutoff\": cutoff},\n",
    "            },\n",
    "            flatten=True,\n",
    "            sparse=False,\n",
    "        )\n",
    "        desc.normalization = \"l2_each\"\n",
    "\n",
    "\n",
    "        for zi in heights:\n",
    "            copy = struct.copy()\n",
    "            del copy[[atom.index for atom in copy if atom.position[2] > zi]]\n",
    "            copies += [copy]\n",
    "\n",
    "            features = [preprocessing.normalize(desc.create(i)) for i in [crystal, copy]]\n",
    "            re = REMatchKernel(metric=metric, alpha=alpha, threshold=threshold)\n",
    "            similarities += [re.create(features)[0, 1]]\n",
    "\n",
    "\n",
    "\n",
    "        return scale*(np.array(similarities) - bias)\n",
    "    \n",
    "    return mbtr_fitter_base\n",
    "\n",
    "\n"
   ]
  },
  {
   "cell_type": "code",
   "execution_count": null,
   "metadata": {
    "ExecuteTime": {
     "end_time": "2020-11-17T20:53:39.476497Z",
     "start_time": "2020-11-17T20:53:35.255Z"
    },
    "hidden": true,
    "scrolled": false
   },
   "outputs": [],
   "source": [
    "x = np.arange(7, thicc_bombarded[0].cell[2,2])\n",
    "plt.plot(x, soap_fitter(heavy_bomb_copy)(x))"
   ]
  },
  {
   "cell_type": "code",
   "execution_count": null,
   "metadata": {
    "ExecuteTime": {
     "end_time": "2020-11-17T20:53:39.477784Z",
     "start_time": "2020-11-17T20:53:35.264Z"
    },
    "hidden": true
   },
   "outputs": [],
   "source": [
    "thicc_bombarded = [vasp.read_vasp(\"../CONTCAR%d\" % (i)) for i in range(1,6)]\n",
    "for atoms in thicc_bombarded:\n",
    "    del atoms[[atom.index for atom in atoms if atom.symbol not in ['Si', 'N']]]\n",
    "\n",
    "x = np.arange(7, thicc_bombarded[0].cell[2,2])\n",
    "mbtr_curves = []\n",
    "for i, a in enumerate(thicc_bombarded):\n",
    "    mbtr_curves += [mbtr_fitter(a)(x, 1, 0, rcut=5.0, \n",
    "                         n = 200,\n",
    "                         scale=1,\n",
    "                         sigma=0.02, \n",
    "                         alpha = 2,\n",
    "                         cutoff = 1e-3,\n",
    "                         threshold = 1e-6)]"
   ]
  },
  {
   "cell_type": "code",
   "execution_count": null,
   "metadata": {
    "ExecuteTime": {
     "end_time": "2020-11-17T20:53:39.479128Z",
     "start_time": "2020-11-17T20:53:35.271Z"
    },
    "hidden": true
   },
   "outputs": [],
   "source": [
    "fig, axs = plt.subplots(5, 1, figsize = (30, 30))\n",
    "for i, data in enumerate(mbtr_curves):\n",
    "    axs[i].plot(x, data)"
   ]
  },
  {
   "cell_type": "code",
   "execution_count": null,
   "metadata": {
    "ExecuteTime": {
     "end_time": "2020-11-17T20:53:39.480459Z",
     "start_time": "2020-11-17T20:53:35.280Z"
    },
    "hidden": true
   },
   "outputs": [],
   "source": [
    "soap_curves = []\n",
    "for i, a in enumerate(thicc_bombarded):\n",
    "    soap_curves += [soap_fitter(a)(x)]"
   ]
  },
  {
   "cell_type": "code",
   "execution_count": null,
   "metadata": {
    "ExecuteTime": {
     "end_time": "2020-11-17T20:53:39.481724Z",
     "start_time": "2020-11-17T20:53:35.289Z"
    },
    "hidden": true
   },
   "outputs": [],
   "source": [
    "fig, axs = plt.subplots(5, 1, figsize = (30, 30))\n",
    "for i, data in enumerate(soap_curves):\n",
    "    axs[i].plot(x, data)"
   ]
  },
  {
   "cell_type": "code",
   "execution_count": null,
   "metadata": {
    "ExecuteTime": {
     "end_time": "2020-11-17T20:53:39.482948Z",
     "start_time": "2020-11-17T20:53:35.297Z"
    },
    "hidden": true
   },
   "outputs": [],
   "source": [
    "thicc_bombarded = [vasp.read_vasp(\"../CONTCAR%d\" % (i)) for i in range(1,6)]\n",
    "for atoms in thicc_bombarded:\n",
    "    del atoms[[atom.index for atom in atoms if atom.symbol not in ['Si', 'N']]]\n",
    "\n",
    "x = np.arange(0, thicc_bombarded[0].cell[2,2])\n",
    "for i, a in enumerate(thicc_bombarded):\n",
    "    damage_analysis(a)\n",
    "plt.legend()"
   ]
  },
  {
   "cell_type": "code",
   "execution_count": null,
   "metadata": {
    "ExecuteTime": {
     "end_time": "2020-11-17T20:53:39.484247Z",
     "start_time": "2020-11-17T20:53:35.305Z"
    },
    "hidden": true
   },
   "outputs": [],
   "source": [
    "heavy_bomb_copy = heavy_bomb.copy()\n",
    "del heavy_bomb_copy[[atom.index for atom in heavy_bomb_copy if atom.symbol not in [\"Si\", \"N\"]]]\n",
    "plt.plot(x, mbtr_fitter(heavy_bomb_copy)(x, 1, 0))"
   ]
  },
  {
   "cell_type": "markdown",
   "metadata": {
    "hidden": true
   },
   "source": [
    "Fitting curves:"
   ]
  },
  {
   "cell_type": "code",
   "execution_count": null,
   "metadata": {
    "ExecuteTime": {
     "end_time": "2020-11-17T20:53:39.488344Z",
     "start_time": "2020-11-17T20:53:35.316Z"
    },
    "hidden": true
   },
   "outputs": [],
   "source": [
    "x = damage_analysis_results[3]\n",
    "soap_trial_f = soap_fitter(heavy_bomb)\n",
    "mbtr_trial_f = mbtr_fitter(heavy_bomb)\n",
    "\n",
    "reference = max(damage_analysis_results[1]) - damage_analysis_results[1]\n",
    "reference = reference/max(reference)\n",
    "# soap_params, soap_cov = curve_fit(trial_f, x, reference, \n",
    "#                         bounds = (np.array([1, 1, 1, 1e-3, 1e-3, 1e-10]),\n",
    "#                                   np.array([30, 30, 9, 1e2, 1e2, 1])\n",
    "#                                  )\n",
    "#                        )\n",
    "mbtr_params, mbtr_cov = curve_fit(mbtr_trial_f, x, reference,\n",
    "                                  p0 = [20, .999, 5, 200, 1, .02, 1e-2, 1e-3, 1e-6],\n",
    "                                  bounds = (np.array([0, 0, 0, 1, 0, 0, 0, 0, 0]),\n",
    "                                            np.array([1e2, 1, 30, 1000, 9, 1e2, 1e2, 1e2, 1])\n",
    "                                           )\n",
    "                                 )"
   ]
  },
  {
   "cell_type": "code",
   "execution_count": null,
   "metadata": {
    "ExecuteTime": {
     "end_time": "2020-11-17T20:53:39.489230Z",
     "start_time": "2020-11-17T20:53:35.328Z"
    },
    "hidden": true
   },
   "outputs": [],
   "source": [
    "mbtr_params"
   ]
  },
  {
   "cell_type": "code",
   "execution_count": null,
   "metadata": {
    "ExecuteTime": {
     "end_time": "2020-11-17T20:53:39.490033Z",
     "start_time": "2020-11-17T20:53:35.343Z"
    },
    "hidden": true
   },
   "outputs": [],
   "source": [
    "plt.plot(x, 20*np.array(mbtr_fitter(heavy_bomb)(x, *mbtr_params)))\n",
    "plt.plot(x, reference)"
   ]
  },
  {
   "cell_type": "code",
   "execution_count": null,
   "metadata": {
    "ExecuteTime": {
     "end_time": "2020-11-17T20:53:39.490827Z",
     "start_time": "2020-11-17T20:53:35.363Z"
    },
    "hidden": true
   },
   "outputs": [],
   "source": [
    "fit_result_soap_curve = trial_f(x, *params)"
   ]
  },
  {
   "cell_type": "code",
   "execution_count": null,
   "metadata": {
    "ExecuteTime": {
     "end_time": "2020-11-17T20:53:39.491853Z",
     "start_time": "2020-11-17T20:53:35.379Z"
    },
    "hidden": true
   },
   "outputs": [],
   "source": [
    "plt.plot(x, fit_result_soap_curve)\n",
    "plt.show()\n",
    "plt.plot(x, reference);"
   ]
  },
  {
   "cell_type": "markdown",
   "metadata": {
    "heading_collapsed": true
   },
   "source": [
    "## Diffusion"
   ]
  },
  {
   "cell_type": "code",
   "execution_count": null,
   "metadata": {
    "ExecuteTime": {
     "end_time": "2020-11-17T20:53:39.493976Z",
     "start_time": "2020-11-17T20:53:35.393Z"
    },
    "hidden": true
   },
   "outputs": [],
   "source": [
    "from ase.md.analysis import DiffusionCoefficient\n",
    "from ase import units\n",
    "\n",
    "traj = vasp.read_vasp_xml(\"../vasprun.xml\", index = slice(0, -1))\n",
    "traj = [i for i in traj]\n",
    "timestep = 1 * units.fs\n",
    "natom = range(len(traj[0]) - 4, len(traj[0]))\n",
    "D = DiffusionCoefficient(traj, timestep, natom)"
   ]
  },
  {
   "cell_type": "code",
   "execution_count": null,
   "metadata": {
    "ExecuteTime": {
     "end_time": "2020-11-17T20:53:39.495399Z",
     "start_time": "2020-11-17T20:53:35.411Z"
    },
    "hidden": true
   },
   "outputs": [],
   "source": [
    "D.get_diffusion_coefficients()"
   ]
  },
  {
   "cell_type": "markdown",
   "metadata": {},
   "source": [
    "## Postprocessing for amorphous batch structure"
   ]
  },
  {
   "cell_type": "code",
   "execution_count": 57,
   "metadata": {
    "ExecuteTime": {
     "end_time": "2021-02-01T23:38:45.024575Z",
     "start_time": "2021-02-01T23:38:45.013044Z"
    }
   },
   "outputs": [],
   "source": [
    "aggregated['0-bomb'] -= pd.Series({\"Si\": 36, \n",
    "                        \"N\":57,\n",
    "                        \"H\":37,\n",
    "                        \"Ar\":1,\n",
    "                        \"F\":13,\n",
    "                        \"C\":14\n",
    "                       })"
   ]
  },
  {
   "cell_type": "code",
   "execution_count": 58,
   "metadata": {
    "ExecuteTime": {
     "end_time": "2021-02-01T23:38:45.877611Z",
     "start_time": "2021-02-01T23:38:45.870909Z"
    }
   },
   "outputs": [],
   "source": [
    "aggregated['0-quench'] -= pd.Series({\"Si\": 56, \n",
    "                        \"N\":75,\n",
    "                        \"H\":7,\n",
    "                        \"Ar\":1,\n",
    "                        \"F\":1,\n",
    "                        \"C\":2\n",
    "                       })"
   ]
  },
  {
   "cell_type": "code",
   "execution_count": 98,
   "metadata": {
    "ExecuteTime": {
     "end_time": "2021-02-18T21:01:44.214237Z",
     "start_time": "2021-02-18T21:01:44.160249Z"
    },
    "cell_style": "center"
   },
   "outputs": [
    {
     "name": "stdout",
     "output_type": "stream",
     "text": [
      "no eq data\n"
     ]
    },
    {
     "data": {
      "text/html": [
       "<style  type=\"text/css\" >\n",
       "</style><table id=\"T_81856abc_722c_11eb_9ddc_4074e049f0d4\" ><caption>removed species</caption><thead>    <tr>        <th class=\"blank level0\" ></th>        <th class=\"col_heading level0 col0\" >0-bomb</th>        <th class=\"col_heading level0 col1\" >0-quench</th>        <th class=\"col_heading level0 col2\" >0-eq</th>    </tr></thead><tbody>\n",
       "                <tr>\n",
       "                        <th id=\"T_81856abc_722c_11eb_9ddc_4074e049f0d4level0_row0\" class=\"row_heading level0 row0\" >Si</th>\n",
       "                        <td id=\"T_81856abc_722c_11eb_9ddc_4074e049f0d4row0_col0\" class=\"data row0 col0\" >2</td>\n",
       "                        <td id=\"T_81856abc_722c_11eb_9ddc_4074e049f0d4row0_col1\" class=\"data row0 col1\" >6</td>\n",
       "                        <td id=\"T_81856abc_722c_11eb_9ddc_4074e049f0d4row0_col2\" class=\"data row0 col2\" >0</td>\n",
       "            </tr>\n",
       "            <tr>\n",
       "                        <th id=\"T_81856abc_722c_11eb_9ddc_4074e049f0d4level0_row1\" class=\"row_heading level0 row1\" >N</th>\n",
       "                        <td id=\"T_81856abc_722c_11eb_9ddc_4074e049f0d4row1_col0\" class=\"data row1 col0\" >43</td>\n",
       "                        <td id=\"T_81856abc_722c_11eb_9ddc_4074e049f0d4row1_col1\" class=\"data row1 col1\" >15</td>\n",
       "                        <td id=\"T_81856abc_722c_11eb_9ddc_4074e049f0d4row1_col2\" class=\"data row1 col2\" >3</td>\n",
       "            </tr>\n",
       "            <tr>\n",
       "                        <th id=\"T_81856abc_722c_11eb_9ddc_4074e049f0d4level0_row2\" class=\"row_heading level0 row2\" >H</th>\n",
       "                        <td id=\"T_81856abc_722c_11eb_9ddc_4074e049f0d4row2_col0\" class=\"data row2 col0\" >34</td>\n",
       "                        <td id=\"T_81856abc_722c_11eb_9ddc_4074e049f0d4row2_col1\" class=\"data row2 col1\" >10</td>\n",
       "                        <td id=\"T_81856abc_722c_11eb_9ddc_4074e049f0d4row2_col2\" class=\"data row2 col2\" >0</td>\n",
       "            </tr>\n",
       "            <tr>\n",
       "                        <th id=\"T_81856abc_722c_11eb_9ddc_4074e049f0d4level0_row3\" class=\"row_heading level0 row3\" >Ar</th>\n",
       "                        <td id=\"T_81856abc_722c_11eb_9ddc_4074e049f0d4row3_col0\" class=\"data row3 col0\" >132</td>\n",
       "                        <td id=\"T_81856abc_722c_11eb_9ddc_4074e049f0d4row3_col1\" class=\"data row3 col1\" >21</td>\n",
       "                        <td id=\"T_81856abc_722c_11eb_9ddc_4074e049f0d4row3_col2\" class=\"data row3 col2\" >0</td>\n",
       "            </tr>\n",
       "            <tr>\n",
       "                        <th id=\"T_81856abc_722c_11eb_9ddc_4074e049f0d4level0_row4\" class=\"row_heading level0 row4\" >F</th>\n",
       "                        <td id=\"T_81856abc_722c_11eb_9ddc_4074e049f0d4row4_col0\" class=\"data row4 col0\" >427</td>\n",
       "                        <td id=\"T_81856abc_722c_11eb_9ddc_4074e049f0d4row4_col1\" class=\"data row4 col1\" >206</td>\n",
       "                        <td id=\"T_81856abc_722c_11eb_9ddc_4074e049f0d4row4_col2\" class=\"data row4 col2\" >180</td>\n",
       "            </tr>\n",
       "            <tr>\n",
       "                        <th id=\"T_81856abc_722c_11eb_9ddc_4074e049f0d4level0_row5\" class=\"row_heading level0 row5\" >C</th>\n",
       "                        <td id=\"T_81856abc_722c_11eb_9ddc_4074e049f0d4row5_col0\" class=\"data row5 col0\" >0</td>\n",
       "                        <td id=\"T_81856abc_722c_11eb_9ddc_4074e049f0d4row5_col1\" class=\"data row5 col1\" >0</td>\n",
       "                        <td id=\"T_81856abc_722c_11eb_9ddc_4074e049f0d4row5_col2\" class=\"data row5 col2\" >6</td>\n",
       "            </tr>\n",
       "    </tbody></table>"
      ],
      "text/plain": [
       "<pandas.io.formats.style.Styler at 0x7fdf3327aa10>"
      ]
     },
     "execution_count": 98,
     "metadata": {},
     "output_type": "execute_result"
    }
   ],
   "source": [
    "# simindices = np.append(np.arange(2, 10), np.arange(16, 22))\n",
    "simindices = [0]\n",
    "\n",
    "bombdata = {i :pd.read_csv(\"../aggregated_bomb%d.csv\" % i, \n",
    "                    index_col=0) \n",
    "        for i in simindices}\n",
    "quenchdata = {i : pd.read_csv(\"../aggregated_quench%d.csv\" % i, \n",
    "                    index_col=0) \n",
    "        for i in simindices}\n",
    "try:\n",
    "    eqdata = { i: pd.read_csv(\"../aggregated_eq%d.csv\" % i, \n",
    "                        index_col=0) \n",
    "            for i in simindices}\n",
    "except:\n",
    "    print('no eq data')\n",
    "data = {\"bomb\": bombdata, \"quench\": quenchdata, \"eq\":eqdata}\n",
    "\n",
    "\n",
    "aggregated = {}\n",
    "for i in simindices:\n",
    "    for step in [\"bomb\", \"quench\", \"eq\"]:\n",
    "        aggregated[\"%i-%s\" % (i, step)] = data[step][i].sum(axis = 1)\n",
    "aggregated = pd.DataFrame(aggregated)\n",
    "# aggregated = aggregated.sum()\n",
    "# aggregated\n",
    "aggregated.style.set_caption(\"removed species\")\n"
   ]
  },
  {
   "cell_type": "code",
   "execution_count": 99,
   "metadata": {
    "ExecuteTime": {
     "end_time": "2021-02-18T21:02:24.538696Z",
     "start_time": "2021-02-18T21:02:24.505980Z"
    }
   },
   "outputs": [
    {
     "data": {
      "text/plain": [
       "Si    0.047059\n",
       "N     0.358824\n",
       "H     0.258824\n",
       "Ar    0.900000\n",
       "F     4.782353\n",
       "C     0.035294\n",
       "dtype: float64"
      ]
     },
     "execution_count": 99,
     "metadata": {},
     "output_type": "execute_result"
    }
   ],
   "source": [
    "(aggregated/170).sum(axis = 1)"
   ]
  },
  {
   "cell_type": "code",
   "execution_count": 100,
   "metadata": {
    "ExecuteTime": {
     "end_time": "2021-02-18T21:02:25.932989Z",
     "start_time": "2021-02-18T21:02:25.918930Z"
    }
   },
   "outputs": [
    {
     "data": {
      "text/html": [
       "<style  type=\"text/css\" >\n",
       "</style><table id=\"T_9a62c0a2_722c_11eb_9ddc_4074e049f0d4\" ><caption>normalized by #runs</caption><thead>    <tr>        <th class=\"blank level0\" ></th>        <th class=\"col_heading level0 col0\" >0-bomb</th>        <th class=\"col_heading level0 col1\" >0-quench</th>        <th class=\"col_heading level0 col2\" >0-eq</th>    </tr></thead><tbody>\n",
       "                <tr>\n",
       "                        <th id=\"T_9a62c0a2_722c_11eb_9ddc_4074e049f0d4level0_row0\" class=\"row_heading level0 row0\" >Si</th>\n",
       "                        <td id=\"T_9a62c0a2_722c_11eb_9ddc_4074e049f0d4row0_col0\" class=\"data row0 col0\" >0.011765</td>\n",
       "                        <td id=\"T_9a62c0a2_722c_11eb_9ddc_4074e049f0d4row0_col1\" class=\"data row0 col1\" >0.035294</td>\n",
       "                        <td id=\"T_9a62c0a2_722c_11eb_9ddc_4074e049f0d4row0_col2\" class=\"data row0 col2\" >0.000000</td>\n",
       "            </tr>\n",
       "            <tr>\n",
       "                        <th id=\"T_9a62c0a2_722c_11eb_9ddc_4074e049f0d4level0_row1\" class=\"row_heading level0 row1\" >N</th>\n",
       "                        <td id=\"T_9a62c0a2_722c_11eb_9ddc_4074e049f0d4row1_col0\" class=\"data row1 col0\" >0.252941</td>\n",
       "                        <td id=\"T_9a62c0a2_722c_11eb_9ddc_4074e049f0d4row1_col1\" class=\"data row1 col1\" >0.088235</td>\n",
       "                        <td id=\"T_9a62c0a2_722c_11eb_9ddc_4074e049f0d4row1_col2\" class=\"data row1 col2\" >0.017647</td>\n",
       "            </tr>\n",
       "            <tr>\n",
       "                        <th id=\"T_9a62c0a2_722c_11eb_9ddc_4074e049f0d4level0_row2\" class=\"row_heading level0 row2\" >H</th>\n",
       "                        <td id=\"T_9a62c0a2_722c_11eb_9ddc_4074e049f0d4row2_col0\" class=\"data row2 col0\" >0.200000</td>\n",
       "                        <td id=\"T_9a62c0a2_722c_11eb_9ddc_4074e049f0d4row2_col1\" class=\"data row2 col1\" >0.058824</td>\n",
       "                        <td id=\"T_9a62c0a2_722c_11eb_9ddc_4074e049f0d4row2_col2\" class=\"data row2 col2\" >0.000000</td>\n",
       "            </tr>\n",
       "            <tr>\n",
       "                        <th id=\"T_9a62c0a2_722c_11eb_9ddc_4074e049f0d4level0_row3\" class=\"row_heading level0 row3\" >Ar</th>\n",
       "                        <td id=\"T_9a62c0a2_722c_11eb_9ddc_4074e049f0d4row3_col0\" class=\"data row3 col0\" >0.776471</td>\n",
       "                        <td id=\"T_9a62c0a2_722c_11eb_9ddc_4074e049f0d4row3_col1\" class=\"data row3 col1\" >0.123529</td>\n",
       "                        <td id=\"T_9a62c0a2_722c_11eb_9ddc_4074e049f0d4row3_col2\" class=\"data row3 col2\" >0.000000</td>\n",
       "            </tr>\n",
       "            <tr>\n",
       "                        <th id=\"T_9a62c0a2_722c_11eb_9ddc_4074e049f0d4level0_row4\" class=\"row_heading level0 row4\" >F</th>\n",
       "                        <td id=\"T_9a62c0a2_722c_11eb_9ddc_4074e049f0d4row4_col0\" class=\"data row4 col0\" >2.511765</td>\n",
       "                        <td id=\"T_9a62c0a2_722c_11eb_9ddc_4074e049f0d4row4_col1\" class=\"data row4 col1\" >1.211765</td>\n",
       "                        <td id=\"T_9a62c0a2_722c_11eb_9ddc_4074e049f0d4row4_col2\" class=\"data row4 col2\" >1.058824</td>\n",
       "            </tr>\n",
       "            <tr>\n",
       "                        <th id=\"T_9a62c0a2_722c_11eb_9ddc_4074e049f0d4level0_row5\" class=\"row_heading level0 row5\" >C</th>\n",
       "                        <td id=\"T_9a62c0a2_722c_11eb_9ddc_4074e049f0d4row5_col0\" class=\"data row5 col0\" >0.000000</td>\n",
       "                        <td id=\"T_9a62c0a2_722c_11eb_9ddc_4074e049f0d4row5_col1\" class=\"data row5 col1\" >0.000000</td>\n",
       "                        <td id=\"T_9a62c0a2_722c_11eb_9ddc_4074e049f0d4row5_col2\" class=\"data row5 col2\" >0.035294</td>\n",
       "            </tr>\n",
       "    </tbody></table>"
      ],
      "text/plain": [
       "<pandas.io.formats.style.Styler at 0x7fdf30dde890>"
      ]
     },
     "execution_count": 100,
     "metadata": {},
     "output_type": "execute_result"
    }
   ],
   "source": [
    "(aggregated/170).style.set_caption(\"normalized by #runs\")"
   ]
  },
  {
   "cell_type": "code",
   "execution_count": 86,
   "metadata": {
    "ExecuteTime": {
     "end_time": "2021-02-16T23:32:16.429631Z",
     "start_time": "2021-02-16T23:32:16.071139Z"
    }
   },
   "outputs": [
    {
     "data": {
      "text/plain": [
       "(0, 1)"
      ]
     },
     "execution_count": 86,
     "metadata": {},
     "output_type": "execute_result"
    },
    {
     "data": {
      "image/png": "[encoded data removed]",
      "text/plain": [
       "<Figure size 576x288 with 1 Axes>"
      ]
     },
     "metadata": {
      "needs_background": "light"
     },
     "output_type": "display_data"
    }
   ],
   "source": [
    "grouped = aggregated.groupby(by = lambda x: x[0], axis = 1).sum()/170\n",
    "grouped.T.plot(marker = 'o', figsize = (8,4))\n",
    "plt.ylim(0, 1)"
   ]
  },
  {
   "cell_type": "code",
   "execution_count": 76,
   "metadata": {
    "ExecuteTime": {
     "end_time": "2021-02-16T23:23:41.615189Z",
     "start_time": "2021-02-16T23:23:41.219739Z"
    }
   },
   "outputs": [
    {
     "data": {
      "text/plain": [
       "Text(0.5, 1.0, 'number of atoms per species, normalized by #runs')"
      ]
     },
     "execution_count": 76,
     "metadata": {},
     "output_type": "execute_result"
    },
    {
     "data": {
      "text/plain": [
       "<Figure size 576x288 with 0 Axes>"
      ]
     },
     "metadata": {},
     "output_type": "display_data"
    },
    {
     "data": {
      "image/png": "[encoded data removed]",
      "text/plain": [
       "<Figure size 576x288 with 1 Axes>"
      ]
     },
     "metadata": {
      "needs_background": "light"
     },
     "output_type": "display_data"
    }
   ],
   "source": [
    "(aggregated/170).T.plot(marker = 'o', figsize = (8,4))\n",
    "plt.ylim(0, 1)\n",
    "plt.title(\"number of atoms per species, normalized by #runs\")"
   ]
  },
  {
   "cell_type": "code",
   "execution_count": 17,
   "metadata": {
    "ExecuteTime": {
     "end_time": "2020-12-16T20:59:35.958201Z",
     "start_time": "2020-12-16T20:59:35.953542Z"
    }
   },
   "outputs": [
    {
     "data": {
      "text/plain": [
       "dict_keys([0])"
      ]
     },
     "execution_count": 17,
     "metadata": {},
     "output_type": "execute_result"
    }
   ],
   "source": [
    "bombdata.keys()"
   ]
  },
  {
   "cell_type": "code",
   "execution_count": 40,
   "metadata": {
    "ExecuteTime": {
     "end_time": "2020-12-16T21:40:43.108905Z",
     "start_time": "2020-12-16T21:40:43.103002Z"
    }
   },
   "outputs": [
    {
     "data": {
      "text/plain": [
       "0.2223529411764706"
      ]
     },
     "execution_count": 40,
     "metadata": {},
     "output_type": "execute_result"
    }
   ],
   "source": [
    "aggregated.sum()/ (170 * 360)"
   ]
  },
  {
   "cell_type": "code",
   "execution_count": null,
   "metadata": {
    "ExecuteTime": {
     "end_time": "2020-11-17T20:53:39.505283Z",
     "start_time": "2020-11-17T20:53:35.493Z"
    }
   },
   "outputs": [],
   "source": [
    "traj = [i for i in vasp.read_vasp_xml(\"../vasprun.xml\", index = slice(0, -1))]"
   ]
  },
  {
   "cell_type": "code",
   "execution_count": null,
   "metadata": {
    "ExecuteTime": {
     "end_time": "2020-11-17T20:53:39.506892Z",
     "start_time": "2020-11-17T20:53:35.500Z"
    }
   },
   "outputs": [],
   "source": [
    "view(traj)"
   ]
  },
  {
   "cell_type": "code",
   "execution_count": null,
   "metadata": {
    "ExecuteTime": {
     "end_time": "2020-11-17T20:53:39.508389Z",
     "start_time": "2020-11-17T20:53:35.507Z"
    }
   },
   "outputs": [],
   "source": [
    "out = traj[15]\n",
    "P = [[3, 0, 0], [0, 3, 0], [0, 0, 1]]\n",
    "out = make_supercell(out, P)\n",
    "xyz.write_xyz('../POSCAR0.xyz', out)"
   ]
  },
  {
   "cell_type": "code",
   "execution_count": null,
   "metadata": {
    "ExecuteTime": {
     "end_time": "2020-11-17T20:53:39.509764Z",
     "start_time": "2020-11-17T20:53:35.515Z"
    }
   },
   "outputs": [],
   "source": [
    "# plt.figure(figsize = (5, 2))\n",
    "(aggregated.T / (170 * 350)).plot(y = ['Si', 'N', 'H'], figsize = (10, 5));\n",
    "plt.ylabel(\"Sputter yield (# atoms ejected/total atoms)\")\n",
    "plt.xlabel(\"Bombardment progress\")"
   ]
  },
  {
   "cell_type": "code",
   "execution_count": null,
   "metadata": {
    "ExecuteTime": {
     "end_time": "2020-11-17T20:53:39.511546Z",
     "start_time": "2020-11-17T20:53:35.524Z"
    }
   },
   "outputs": [],
   "source": [
    "# for i, tbl in enumerate(bonds):\n",
    "#     tbl.to_csv(\"bonds%\")"
   ]
  },
  {
   "cell_type": "code",
   "execution_count": null,
   "metadata": {
    "ExecuteTime": {
     "end_time": "2020-11-17T20:53:39.513288Z",
     "start_time": "2020-11-17T20:53:35.532Z"
    }
   },
   "outputs": [],
   "source": [
    "siremoved = {key:i for key, i in enumerate(data) if sum(i.loc[\"Si\"]) > 0 }"
   ]
  },
  {
   "cell_type": "code",
   "execution_count": null,
   "metadata": {
    "ExecuteTime": {
     "end_time": "2020-11-17T20:53:39.515707Z",
     "start_time": "2020-11-17T20:53:35.539Z"
    }
   },
   "outputs": [],
   "source": [
    "siremoved.keys()"
   ]
  },
  {
   "cell_type": "code",
   "execution_count": null,
   "metadata": {
    "ExecuteTime": {
     "end_time": "2020-11-17T20:53:39.517942Z",
     "start_time": "2020-11-17T20:53:35.547Z"
    }
   },
   "outputs": [],
   "source": [
    "siremoved[8]"
   ]
  },
  {
   "cell_type": "code",
   "execution_count": null,
   "metadata": {
    "ExecuteTime": {
     "end_time": "2020-11-17T20:53:39.520110Z",
     "start_time": "2020-11-17T20:53:35.557Z"
    }
   },
   "outputs": [],
   "source": [
    "siremoved[9]"
   ]
  },
  {
   "cell_type": "code",
   "execution_count": null,
   "metadata": {
    "ExecuteTime": {
     "end_time": "2020-11-17T20:53:39.521974Z",
     "start_time": "2020-11-17T20:53:35.566Z"
    },
    "cell_style": "center"
   },
   "outputs": [],
   "source": [
    "print(sum(aggregated.loc[\"N\"]))\n",
    "print(sum(aggregated.loc[\"Si\"]))"
   ]
  },
  {
   "cell_type": "markdown",
   "metadata": {
    "heading_collapsed": true
   },
   "source": [
    "## Analyze composition change"
   ]
  },
  {
   "cell_type": "code",
   "execution_count": 155,
   "metadata": {
    "ExecuteTime": {
     "end_time": "2021-01-05T20:50:19.238381Z",
     "start_time": "2021-01-05T20:50:19.039225Z"
    },
    "hidden": true
   },
   "outputs": [],
   "source": [
    "datadir = \"../cf4_bomb/\" #bare bombardment, v0.13 = 35.0 eV, 0.135 = 37.7 eV, .14 = 40.55 eV\n",
    "geometries = {}\n",
    "for i in os.listdir(datadir):\n",
    "    if \".gen\" in i:\n",
    "        key = re.search(r\"\\d+-\\d+\", i)\n",
    "#         key = re.search(r\"\\d+\", i)\n",
    "        if key:\n",
    "            key = key.group(0)\n",
    "#             print(key)\n",
    "            geometries[key] =  gen.read_gen(datadir + i)\n",
    "# geometries = {'lol': xtl2x2}"
   ]
  },
  {
   "cell_type": "code",
   "execution_count": 156,
   "metadata": {
    "ExecuteTime": {
     "end_time": "2021-01-05T20:50:20.935754Z",
     "start_time": "2021-01-05T20:50:20.468253Z"
    },
    "hidden": true
   },
   "outputs": [],
   "source": [
    "view([geom for geom in geometries.values()])"
   ]
  },
  {
   "cell_type": "code",
   "execution_count": null,
   "metadata": {
    "ExecuteTime": {
     "end_time": "2020-11-17T20:53:39.529178Z",
     "start_time": "2020-11-17T20:53:35.595Z"
    },
    "hidden": true
   },
   "outputs": [],
   "source": [
    "view(xtl2x2)"
   ]
  },
  {
   "cell_type": "code",
   "execution_count": null,
   "metadata": {
    "ExecuteTime": {
     "end_time": "2020-11-17T20:53:39.531055Z",
     "start_time": "2020-11-17T20:53:35.602Z"
    },
    "hidden": true
   },
   "outputs": [],
   "source": [
    "# show distribution of undercoordination as a function of z\n",
    "import seaborn as sns\n",
    "sns.set_theme(style=\"darkgrid\")\n",
    "\n",
    "zs = []\n",
    "for i, frame in enumerate(geometries.values()):\n",
    "    Si = frame[[atom.index for atom in frame if atom.symbol == \"Si\"]]\n",
    "    zs += [atom.z for atom in Si]\n",
    "temp = sns.kdeplot(zs, bw_adjust = 0.5, label = i, common_norm=True)\n",
    "numSi = len(zs)\n",
    "# plt.legend()\n",
    "# plt.xlim(0, 22)\n",
    "plt.xlabel(\"z (Å)\")\n",
    "plt.ylabel(\"density\")\n",
    "plt.title(\"Z distribution of Si in amorphous bombardment\")"
   ]
  },
  {
   "cell_type": "code",
   "execution_count": null,
   "metadata": {
    "ExecuteTime": {
     "end_time": "2020-11-17T20:53:39.532692Z",
     "start_time": "2020-11-17T20:53:35.611Z"
    },
    "hidden": true
   },
   "outputs": [],
   "source": [
    "zs = []\n",
    "for i, frame in enumerate(geometries.values()):\n",
    "    Si = frame[[atom.index for atom in frame if atom.symbol == \"N\"]]\n",
    "    zs += [atom.z for atom in Si]\n",
    "temp2 = sns.kdeplot(zs, bw_adjust = 0.5, label = i, common_norm=True)\n",
    "numN = len(zs)\n",
    "# plt.legend()\n",
    "plt.xlabel(\"z (Å)\")\n",
    "plt.ylabel(\"density\")\n",
    "plt.title(\"Z distribution of N in amorphous bombardment\")\n"
   ]
  },
  {
   "cell_type": "code",
   "execution_count": null,
   "metadata": {
    "ExecuteTime": {
     "end_time": "2020-11-17T20:53:39.534737Z",
     "start_time": "2020-11-17T20:53:35.619Z"
    },
    "hidden": true
   },
   "outputs": [],
   "source": [
    "zs = []\n",
    "for i, frame in enumerate(geometries.values()):\n",
    "    N = frame[[atom.index for atom in frame if atom.symbol == \"N\"]]\n",
    "    Si = frame[[atom.index for atom in frame if atom.symbol == \"Si\"]]\n",
    "    zs += [atom.z for atom in Si]\n",
    "    zs += [atom.z for atom in N]\n",
    "temp3 = sns.kdeplot(zs, bw_adjust = 0.5, label = i, common_norm=True)\n",
    "# plt.legend()\n",
    "plt.xlabel(\"z (Å)\")\n",
    "plt.ylabel(\"density\")\n",
    "plt.title(\"Z distribution of all atoms in amorphous bombardment\")\n"
   ]
  },
  {
   "cell_type": "code",
   "execution_count": null,
   "metadata": {
    "ExecuteTime": {
     "end_time": "2020-11-17T20:53:39.537316Z",
     "start_time": "2020-11-17T20:53:35.628Z"
    },
    "hidden": true
   },
   "outputs": [],
   "source": [
    "# zs = []\n",
    "# for i, frame in enumerate(geometries.values()):\n",
    "#     N = frame[[atom.index for atom in frame if atom.symbol == \"N\"]]\n",
    "#     Si = frame[[atom.index for atom in frame if atom.symbol == \"Si\"]]\n",
    "#     zs += [atom.z for atom in Si]\n",
    "#     zs += [atom.z for atom in N]\n",
    "# numN = len(zs)\n",
    "# plt.legend()\n",
    "# plt.xlabel(\"z (Å)\")\n",
    "# plt.ylabel(\"density\")\n",
    "# plt.title(\"Z distribution of all atoms in amorphous bombardment\")"
   ]
  },
  {
   "cell_type": "code",
   "execution_count": null,
   "metadata": {
    "ExecuteTime": {
     "end_time": "2020-11-17T20:53:39.539323Z",
     "start_time": "2020-11-17T20:53:35.635Z"
    },
    "hidden": true
   },
   "outputs": [],
   "source": [
    "numSi/numN,numSi, numN"
   ]
  },
  {
   "cell_type": "code",
   "execution_count": null,
   "metadata": {
    "ExecuteTime": {
     "end_time": "2020-11-17T20:53:39.541205Z",
     "start_time": "2020-11-17T20:53:35.643Z"
    },
    "hidden": true
   },
   "outputs": [],
   "source": [
    "3/7"
   ]
  },
  {
   "cell_type": "code",
   "execution_count": null,
   "metadata": {
    "ExecuteTime": {
     "end_time": "2020-11-17T20:53:39.543385Z",
     "start_time": "2020-11-17T20:53:35.651Z"
    },
    "hidden": true
   },
   "outputs": [],
   "source": [
    "from scipy.integrate import quad,trapz\n",
    "quad(interp, min(plotx), max(plotx)), trapz(interp(plotx), x = plotx)"
   ]
  },
  {
   "cell_type": "code",
   "execution_count": null,
   "metadata": {
    "ExecuteTime": {
     "end_time": "2020-11-17T20:53:39.545269Z",
     "start_time": "2020-11-17T20:53:35.659Z"
    },
    "hidden": true,
    "scrolled": false
   },
   "outputs": [],
   "source": [
    "from scipy.interpolate import interp1d\n",
    "x, y = temp.lines[0].get_xdata(), temp.lines[0].get_ydata()\n",
    "x2, y2 = temp2.lines[0].get_xdata(), temp2.lines[0].get_ydata()\n",
    "interp = interp1d(x, y*1, kind = 'cubic')\n",
    "interp2 = interp1d(x2, y2*1, kind = 'cubic')\n",
    "minx = max(min(x), min(x2))\n",
    "maxx = min(max(x), max(x2))\n",
    "#     plotx = np.arange(minx, maxx, .1)    \n",
    "plotx = np.arange(minx, maxx, .1)\n",
    "plt.plot(plotx, numSi * interp(plotx)/(numSi * interp2(plotx) + numN * interp(plotx)), label = i)\n",
    "plt.hlines(3/7, minx, maxx)\n",
    "plt.xlim(minx, 22)\n",
    "plt.ylim(-0.0, 1)\n",
    "# plt.legend()\n",
    "plt.title(\"relative ratio of Si/N as estimated by KDE \")\n",
    "plt.xlabel(\"height in slab (Å)\")"
   ]
  },
  {
   "cell_type": "code",
   "execution_count": null,
   "metadata": {
    "ExecuteTime": {
     "end_time": "2020-11-17T20:53:39.547078Z",
     "start_time": "2020-11-17T20:53:35.666Z"
    },
    "hidden": true
   },
   "outputs": [],
   "source": [
    "plt.plot(plotx, interp(plotx))\n",
    "plt.plot(plotx, interp2(plotx) + interp(plotx))\n",
    "plt.legend(['Si dist', 'Si + N dist'])"
   ]
  },
  {
   "cell_type": "code",
   "execution_count": null,
   "metadata": {
    "ExecuteTime": {
     "end_time": "2020-11-17T20:53:39.548651Z",
     "start_time": "2020-11-17T20:53:35.674Z"
    },
    "hidden": true
   },
   "outputs": [],
   "source": [
    "plt.plot(plotx, 3 * interp(plotx))\n",
    "plt.plot(plotx, 4 * interp2(plotx) + 3 * interp(plotx))\n",
    "plt.legend(['Si dist', 'Si + N dist'])"
   ]
  },
  {
   "cell_type": "code",
   "execution_count": null,
   "metadata": {
    "ExecuteTime": {
     "end_time": "2020-11-17T20:53:39.550174Z",
     "start_time": "2020-11-17T20:53:35.682Z"
    },
    "hidden": true
   },
   "outputs": [],
   "source": [
    "plt.plot(plotx, interp2(plotx)/interp(plotx))\n",
    "plt.xlim(0, 20)\n",
    "plt.ylim(0, 5)"
   ]
  },
  {
   "cell_type": "code",
   "execution_count": null,
   "metadata": {
    "ExecuteTime": {
     "end_time": "2020-11-17T20:53:39.552206Z",
     "start_time": "2020-11-17T20:53:35.690Z"
    },
    "hidden": true
   },
   "outputs": [],
   "source": [
    "# show distribution of undercoordination as a function of z\n",
    "import seaborn as sns\n",
    "sns.set_theme(style=\"darkgrid\")\n",
    "\n",
    "\n",
    "\n",
    "for i, frame in enumerate(traj[::5]):\n",
    "    Si = frame[[atom.index for atom in frame if atom.symbol == \"Si\"]]\n",
    "    zs = [atom.z for atom in Si]\n",
    "    temp = sns.kdeplot(zs, bw_adjust = 0.1, label = i)\n",
    "plt.legend()\n",
    "plt.xlabel(\"z (Å)\")\n",
    "plt.ylabel(\"density\")\n",
    "plt.title(\"Z distribution of Si in amorphous bombardment\")"
   ]
  },
  {
   "cell_type": "code",
   "execution_count": null,
   "metadata": {
    "ExecuteTime": {
     "end_time": "2020-11-17T20:53:39.553506Z",
     "start_time": "2020-11-17T20:53:35.699Z"
    },
    "hidden": true,
    "scrolled": false
   },
   "outputs": [],
   "source": [
    "for i, frame in enumerate(traj[::5]):\n",
    "    Si = frame[[atom.index for atom in frame if atom.symbol == \"N\"]]\n",
    "    zs = [atom.z for atom in Si]\n",
    "    temp2 = sns.kdeplot(zs, bw_adjust = 0.1, label = i)\n",
    "plt.legend()\n",
    "plt.xlabel(\"z (Å)\")\n",
    "plt.ylabel(\"density\")\n",
    "plt.title(\"Z distribution of N in amorphous bombardment\")"
   ]
  },
  {
   "cell_type": "code",
   "execution_count": null,
   "metadata": {
    "ExecuteTime": {
     "end_time": "2020-11-17T20:53:39.554772Z",
     "start_time": "2020-11-17T20:53:35.706Z"
    },
    "hidden": true,
    "scrolled": false
   },
   "outputs": [],
   "source": [
    "from scipy.interpolate import interp1d\n",
    "for i in range(4):\n",
    "    x, y = temp.lines[i].get_xdata(), temp.lines[i].get_ydata()\n",
    "    x2, y2 = temp2.lines[i].get_xdata(), temp2.lines[i].get_ydata()\n",
    "    interp = interp1d(x, y, kind = 'cubic')\n",
    "    interp2 = interp1d(x2, y2, kind = 'cubic')\n",
    "    minx = max(min(x), min(x2))\n",
    "    maxx = min(max(x), max(x2))\n",
    "#     plotx = np.arange(minx, maxx, .1)    \n",
    "    plotx = np.arange(5, 16, .1)\n",
    "    plt.plot(plotx, interp(plotx)/interp2(plotx), label = i)\n",
    "    plt.hlines(1, 5, 15)\n",
    "plt.legend()\n",
    "plt.title(\"relative ratio of Si/N as estimated by KDE \")"
   ]
  },
  {
   "cell_type": "markdown",
   "metadata": {
    "heading_collapsed": true
   },
   "source": [
    "## Density calculation"
   ]
  },
  {
   "cell_type": "code",
   "execution_count": 97,
   "metadata": {
    "ExecuteTime": {
     "end_time": "2020-12-11T01:14:51.320034Z",
     "start_time": "2020-12-11T01:14:50.750049Z"
    },
    "hidden": true
   },
   "outputs": [],
   "source": [
    "datadir = \"../postbomb/\" #bare bombardment, v0.13 = 35.0 eV, 0.135 = 37.7 eV, .14 = 40.55 eV\n",
    "geometries = {}\n",
    "for i in os.listdir(datadir):\n",
    "    if \".gen\" in i:\n",
    "        key = re.search(r\"\\d+-\\d+\", i)\n",
    "#         key = re.search(r\"\\d+\", i)\n",
    "        if key:\n",
    "            key = key.group(0)\n",
    "#             print(key)\n",
    "            geometries[key] =  gen.read_gen(datadir + i)"
   ]
  },
  {
   "cell_type": "code",
   "execution_count": 99,
   "metadata": {
    "ExecuteTime": {
     "end_time": "2020-12-11T01:16:23.662608Z",
     "start_time": "2020-12-11T01:16:23.428671Z"
    },
    "hidden": true
   },
   "outputs": [
    {
     "data": {
      "text/plain": [
       "115"
      ]
     },
     "execution_count": 99,
     "metadata": {},
     "output_type": "execute_result"
    }
   ],
   "source": [
    "total = 0\n",
    "for i in geometries.values():\n",
    "    for atom in i:\n",
    "        if atom.symbol == \"C\" and atom.position[2] < 18.0:\n",
    "            total+=1\n",
    "            \n",
    "total\n",
    "        "
   ]
  },
  {
   "cell_type": "markdown",
   "metadata": {
    "hidden": true
   },
   "source": [
    "Calculate reference density:"
   ]
  },
  {
   "cell_type": "code",
   "execution_count": null,
   "metadata": {
    "ExecuteTime": {
     "end_time": "2020-11-17T20:53:39.560999Z",
     "start_time": "2020-11-17T20:53:35.728Z"
    },
    "hidden": true
   },
   "outputs": [],
   "source": [
    "view(amorphous)"
   ]
  },
  {
   "cell_type": "code",
   "execution_count": null,
   "metadata": {
    "ExecuteTime": {
     "end_time": "2020-11-17T20:53:39.562968Z",
     "start_time": "2020-11-17T20:53:35.736Z"
    },
    "hidden": true
   },
   "outputs": [],
   "source": [
    "# base density of silicon nitride = 3.17 g/cm^3 according to Google\n",
    "\n",
    "# maxz = np.max([atom.position[2] for atom in amorphous if atom.symbol in ['Si', 'N']])\n",
    "# minz = np.min([atom.position[2] for atom in amorphous if atom.symbol in ['Si', 'N']])\n",
    "height = maxz - minz\n",
    "boxlen = amorphous.cell[0, 0]\n",
    "np.sum(amorphous.get_masses() * amu2g)/ (boxlen ** 2 * height * a2cm**3)  "
   ]
  },
  {
   "cell_type": "code",
   "execution_count": 179,
   "metadata": {
    "ExecuteTime": {
     "end_time": "2020-11-17T21:24:00.539521Z",
     "start_time": "2020-11-17T21:24:00.534139Z"
    },
    "hidden": true
   },
   "outputs": [],
   "source": [
    "def density_dist(slab, binwidth = 2, maxz = 30, elems = None):\n",
    "    bins = np.arange(0, maxz, binwidth)\n",
    "    \n",
    "    boxlen = slab.cell[0, 0]\n",
    "    buckets = bins * 0\n",
    "    buckets = np.array(buckets)\n",
    "\n",
    "    for atom in slab:\n",
    "        if elems and atom.symbol not in elems:\n",
    "            continue\n",
    "        zpos = atom.position[2]\n",
    "        bucket = int(zpos//binwidth)\n",
    "        buckets[bucket] += atom.mass\n",
    "    volume = boxlen**2 * binwidth * a2cm**3\n",
    "    density = buckets * amu2g / volume\n",
    "    \n",
    "    return bins, density\n",
    "\n",
    "\n",
    "# plt.step(bins, density)\n",
    "# plt.xlabel(\"height (Å)\")\n",
    "# plt.ylabel(\"density (g/cm3)\")"
   ]
  },
  {
   "cell_type": "code",
   "execution_count": 197,
   "metadata": {
    "ExecuteTime": {
     "end_time": "2020-11-17T22:14:35.054890Z",
     "start_time": "2020-11-17T22:14:31.354996Z"
    },
    "hidden": true,
    "scrolled": true
   },
   "outputs": [
    {
     "data": {
      "image/png": "[encoded data removed]",
      "text/plain": [
       "<Figure size 720x360 with 1 Axes>"
      ]
     },
     "metadata": {
      "needs_background": "light"
     },
     "output_type": "display_data"
    }
   ],
   "source": [
    "plt.figure(figsize = (10, 5))\n",
    "binwidth,maxz = 1, 30\n",
    "\n",
    "bins, density = density_dist(amorphous, binwidth, maxz)\n",
    "\n",
    "for run, color in zip([2,9,16], ['lime', 'blue', 'red']):\n",
    "    datadir = \"../bomb%d_results/\" % run #bare bombardment, v0.13 = 35.0 eV, 0.135 = 37.7 eV, .14 = 40.55 eV\n",
    "    geometries = {}\n",
    "    for i in os.listdir(datadir):\n",
    "        if \".gen\" in i:\n",
    "            key = re.search(r\"\\d+-\\d+\", i)\n",
    "    #         key = re.search(r\"\\d+\", i)\n",
    "            if key:\n",
    "                key = key.group(0)\n",
    "    #             print(key)\n",
    "                geometries[key] =  gen.read_gen(datadir + i)\n",
    "\n",
    "    plotx = np.arange(0, maxz, binwidth)\n",
    "    \n",
    "    Sidensity = [density_dist(geom,binwidth, maxz, [\"Si\"])[1] for geom in geometries.values()]\n",
    "    totaldensity = [density_dist(geom, binwidth, maxz)[1] for geom in geometries.values()]\n",
    "    reldensities = [[x/y if y > 0 else 0 for x, y in zip(i, j)] \n",
    "                    for i, j in zip (Sidensity, totaldensity)]\n",
    "    \n",
    "#     densities = np.vstack(reldensities)\n",
    "    densities = np.vstack(totaldensity)\n",
    "                           \n",
    "    avg_densities = np.mean([i for i in densities], axis = 0)\n",
    "    sd_densities = np.std([i for i in densities], axis = 0)\n",
    "    plt.plot(plotx, avg_densities, color = color, label = 'bombarded densities %s' % run)\n",
    "#     plt.fill_between(plotx, avg_densities - 1.96*sd_densities, avg_densities + 1.96*sd_densities,\n",
    "#                      color=color, alpha=0.1, label = '95 percent CI, %d' % run)\n",
    "basebins, basedensity = density_dist(amorphous, binwidth, maxz)\n",
    "basebinsSi, basedensitySi = density_dist(amorphous, binwidth, maxz, ['Si'])\n",
    "baseRelDensity = [x/y if y > 0 else 0 for x,y in zip(basedensitySi, basedensity)]\n",
    "# plt.plot(basebins, baseRelDensity, label = 'amorphous base case', color = 'brown')\n",
    "plt.plot(basebins, basedensity)\n",
    "# plt.vlines(18, ymin = 0, ymax = 0.7, label = 'approximate slab surf')\n",
    "plt.vlines(18, ymin = 0, ymax = 4, label = 'approximate slab surf')\n",
    "plt.hlines(3.2, xmin = 0, xmax = maxz, label = 'bulk density')\n",
    "plt.title('Relative density of film (Si) vs height; binwidth = %d' % binwidth)\n",
    "plt.xlabel(\"height (Å)\")\n",
    "plt.ylabel(\"relative density, Si: total (g/cm3)/(g/cm3)\")\n",
    "plt.legend();"
   ]
  },
  {
   "cell_type": "code",
   "execution_count": 214,
   "metadata": {
    "ExecuteTime": {
     "end_time": "2020-11-17T23:24:48.630597Z",
     "start_time": "2020-11-17T23:24:48.626756Z"
    },
    "hidden": true
   },
   "outputs": [
    {
     "data": {
      "text/plain": [
       "3.092190805598879"
      ]
     },
     "execution_count": 214,
     "metadata": {},
     "output_type": "execute_result"
    }
   ],
   "source": [
    "np.mean(basedensity[np.bitwise_and(basebins < 15, basebins > 5)])"
   ]
  },
  {
   "cell_type": "markdown",
   "metadata": {
    "heading_collapsed": true
   },
   "source": [
    "## Charge distribution"
   ]
  },
  {
   "cell_type": "code",
   "execution_count": 90,
   "metadata": {
    "ExecuteTime": {
     "end_time": "2021-01-22T19:45:41.849152Z",
     "start_time": "2021-01-22T19:45:41.815054Z"
    },
    "hidden": true
   },
   "outputs": [
    {
     "data": {
      "text/html": [
       "<div>\n",
       "<style scoped>\n",
       "    .dataframe tbody tr th:only-of-type {\n",
       "        vertical-align: middle;\n",
       "    }\n",
       "\n",
       "    .dataframe tbody tr th {\n",
       "        vertical-align: top;\n",
       "    }\n",
       "\n",
       "    .dataframe thead th {\n",
       "        text-align: right;\n",
       "    }\n",
       "</style>\n",
       "<table border=\"1\" class=\"dataframe\">\n",
       "  <thead>\n",
       "    <tr style=\"text-align: right;\">\n",
       "      <th></th>\n",
       "      <th>geom</th>\n",
       "      <th>z</th>\n",
       "      <th>charges</th>\n",
       "    </tr>\n",
       "  </thead>\n",
       "  <tbody>\n",
       "    <tr>\n",
       "      <th>../withoutH.xyz</th>\n",
       "      <td>(Atom('H', [6.14105214, 11.22574118, 1.2153391...</td>\n",
       "      <td>[1.21533912, 0.45512612, 1.59616579, 1.0399228...</td>\n",
       "      <td>[1.14386847, 1.17377312, 1.239695, 1.16945496,...</td>\n",
       "    </tr>\n",
       "    <tr>\n",
       "      <th>../withH.xyz</th>\n",
       "      <td>(Atom('H', [6.14105214, 11.22574118, 1.2153391...</td>\n",
       "      <td>[1.21533912, 0.45512612, 1.59616579, 1.0399228...</td>\n",
       "      <td>[1.13585699, 1.17020164, 1.24179997, 1.1764522...</td>\n",
       "    </tr>\n",
       "  </tbody>\n",
       "</table>\n",
       "</div>"
      ],
      "text/plain": [
       "                                                              geom  \\\n",
       "../withoutH.xyz  (Atom('H', [6.14105214, 11.22574118, 1.2153391...   \n",
       "../withH.xyz     (Atom('H', [6.14105214, 11.22574118, 1.2153391...   \n",
       "\n",
       "                                                                 z  \\\n",
       "../withoutH.xyz  [1.21533912, 0.45512612, 1.59616579, 1.0399228...   \n",
       "../withH.xyz     [1.21533912, 0.45512612, 1.59616579, 1.0399228...   \n",
       "\n",
       "                                                           charges  \n",
       "../withoutH.xyz  [1.14386847, 1.17377312, 1.239695, 1.16945496,...  \n",
       "../withH.xyz     [1.13585699, 1.17020164, 1.24179997, 1.1764522...  "
      ]
     },
     "execution_count": 90,
     "metadata": {},
     "output_type": "execute_result"
    }
   ],
   "source": [
    "datadirs = [\"../withoutH.xyz\", \"../withH.xyz\"]\n",
    "data = pd.Series({path: list(xyz.read_xyz(path))[0]\n",
    "                  for path in datadirs})\n",
    "data = pd.DataFrame({'geom': data})\n",
    "data['z'] = data['geom'].apply(lambda geom: [i.position[2] for i in geom])\n",
    "data['charges'] = data['geom'].apply(lambda geom: geom.get_initial_charges())\n",
    "data"
   ]
  },
  {
   "cell_type": "code",
   "execution_count": 91,
   "metadata": {
    "ExecuteTime": {
     "end_time": "2021-01-22T19:45:42.632920Z",
     "start_time": "2021-01-22T19:45:42.628182Z"
    },
    "hidden": true
   },
   "outputs": [
    {
     "data": {
      "text/plain": [
       "(1390.00000001, 1395.99999993)"
      ]
     },
     "execution_count": 91,
     "metadata": {},
     "output_type": "execute_result"
    }
   ],
   "source": [
    "np.sum(data['charges'].iloc[0]), np.sum(data['charges'].iloc[1])"
   ]
  },
  {
   "cell_type": "code",
   "execution_count": 92,
   "metadata": {
    "ExecuteTime": {
     "end_time": "2021-01-22T19:45:43.283526Z",
     "start_time": "2021-01-22T19:45:43.265050Z"
    },
    "hidden": true
   },
   "outputs": [],
   "source": [
    "view(gen.read_gen(\"../bomb16_results/output0-0.gen\"))"
   ]
  },
  {
   "cell_type": "code",
   "execution_count": 95,
   "metadata": {
    "ExecuteTime": {
     "end_time": "2021-01-22T19:46:24.167583Z",
     "start_time": "2021-01-22T19:46:23.513283Z"
    },
    "hidden": true
   },
   "outputs": [
    {
     "data": {
      "image/png": "[encoded data removed]",
      "text/plain": [
       "<Figure size 720x720 with 4 Axes>"
      ]
     },
     "metadata": {
      "needs_background": "light"
     },
     "output_type": "display_data"
    }
   ],
   "source": [
    "plt.subplots(2, 2, figsize = (10, 10), sharex=True)\n",
    "\n",
    "\n",
    "nbins = 20\n",
    "bins = np.linspace(0, np.max([max(i) for i in data['z']]), nbins)\n",
    "plt.subplot(221)\n",
    "\n",
    "p1 = plt.hist(data['z'].loc[datadirs[0]], \n",
    "         weights = data['charges'].loc[datadirs[0]],\n",
    "         alpha = 0.5,\n",
    "         bins = bins,\n",
    "         label = datadirs[0],\n",
    "         density = True,\n",
    "         cumulative=False,\n",
    "        )\n",
    "p2 = plt.hist(data['z'].loc[datadirs[1]], \n",
    "         weights = data['charges'].loc[datadirs[1]],\n",
    "         alpha = 0.5,\n",
    "         bins = bins,\n",
    "         label = datadirs[1],\n",
    "         density = True,\n",
    "         cumulative=False,\n",
    "        )\n",
    "plt.xlabel(\"Slab position (z) (Å)\")\n",
    "plt.title(\"Density distribution vs height\")\n",
    "\n",
    "plt.subplot(222)\n",
    "for i in data.index:\n",
    "    plt.hist(data['z'].loc[i], \n",
    "             weights = data['charges'].loc[i],\n",
    "             alpha = 0.5,\n",
    "             label = i,\n",
    "             bins = bins,\n",
    "             density = True,\n",
    "             cumulative=True,\n",
    "             histtype='step'\n",
    "            )\n",
    "plt.title(\"Cumulative density\")\n",
    "plt.xlabel(\"Slab position (z) (Å)\")\n",
    "plt.legend()\n",
    "\n",
    "plt.subplot(223)\n",
    "diff=plt.bar(bins[:-1],\n",
    "             height=(p1[0]-p2[0]), \n",
    "             linewidth=1.2, width = 1, align = 'edge') \n",
    "plt.title(\"withoutH-withH (pointwise)\")\n",
    "plt.xlabel(\"Slab position (z) (Å)\")\n",
    "\n",
    "plt.subplot(224)\n",
    "diff=plt.bar(bins[:-1],\n",
    "             height=np.cumsum(p1[0]-p2[0]), \n",
    "             linewidth=1.2, width = 1, align = 'edge') \n",
    "plt.title(\"withoutH-withH (cumulative)\")\n",
    "plt.xlabel(\"Slab position (z) (Å)\")\n",
    "\n",
    "plt.show()"
   ]
  },
  {
   "cell_type": "markdown",
   "metadata": {
    "heading_collapsed": true
   },
   "source": [
    "## VASP"
   ]
  },
  {
   "cell_type": "code",
   "execution_count": 123,
   "metadata": {
    "ExecuteTime": {
     "end_time": "2021-01-26T22:40:19.469790Z",
     "start_time": "2021-01-26T22:40:09.072788Z"
    },
    "hidden": true
   },
   "outputs": [],
   "source": [
    "from ase.calculators.vasp import *\n",
    "C = VaspChargeDensity(\"../CHGCAR\")\n",
    "charge = C.chg[0]"
   ]
  },
  {
   "cell_type": "code",
   "execution_count": 129,
   "metadata": {
    "ExecuteTime": {
     "end_time": "2021-01-26T22:42:54.913559Z",
     "start_time": "2021-01-26T22:42:44.695506Z"
    },
    "hidden": true
   },
   "outputs": [],
   "source": [
    "C2 = VaspChargeDensity(\"../CHGCAR_withH\")\n",
    "charge2 = C2.chg[0]"
   ]
  },
  {
   "cell_type": "code",
   "execution_count": 133,
   "metadata": {
    "ExecuteTime": {
     "end_time": "2021-01-26T22:44:06.361762Z",
     "start_time": "2021-01-26T22:44:06.079066Z"
    },
    "hidden": true
   },
   "outputs": [
    {
     "data": {
      "text/plain": [
       "<matplotlib.legend.Legend at 0x7f5e29238850>"
      ]
     },
     "execution_count": 133,
     "metadata": {},
     "output_type": "execute_result"
    },
    {
     "data": {
      "image/png": "[encoded data removed]",
      "text/plain": [
       "<Figure size 720x360 with 1 Axes>"
      ]
     },
     "metadata": {
      "needs_background": "light"
     },
     "output_type": "display_data"
    }
   ],
   "source": [
    "plt.figure(figsize = (10,5))\n",
    "plt.plot(np.sum(charge, axis = (0,1)), label = 'without H')\n",
    "plt.plot(np.sum(charge2, axis = (0,1)), label = 'with H')\n",
    "plt.legend()"
   ]
  },
  {
   "cell_type": "code",
   "execution_count": 138,
   "metadata": {
    "ExecuteTime": {
     "end_time": "2021-01-26T22:45:27.518711Z",
     "start_time": "2021-01-26T22:45:27.225962Z"
    },
    "hidden": true
   },
   "outputs": [
    {
     "data": {
      "text/plain": [
       "<matplotlib.legend.Legend at 0x7f5e28ff3090>"
      ]
     },
     "execution_count": 138,
     "metadata": {},
     "output_type": "execute_result"
    },
    {
     "data": {
      "image/png": "[encoded data removed]",
      "text/plain": [
       "<Figure size 720x360 with 1 Axes>"
      ]
     },
     "metadata": {
      "needs_background": "light"
     },
     "output_type": "display_data"
    }
   ],
   "source": [
    "plt.figure(figsize = (10,5))\n",
    "plt.plot(np.cumsum(np.sum(charge, axis = (0,1))), label = 'without H')\n",
    "plt.plot(np.cumsum(np.sum(charge2, axis = (0,1))), label = 'with H')\n",
    "plt.ylim(100000, 1700000)\n",
    "plt.legend()"
   ]
  },
  {
   "cell_type": "code",
   "execution_count": 141,
   "metadata": {
    "ExecuteTime": {
     "end_time": "2021-01-26T22:46:59.770948Z",
     "start_time": "2021-01-26T22:46:59.532968Z"
    },
    "hidden": true
   },
   "outputs": [
    {
     "data": {
      "text/plain": [
       "<matplotlib.legend.Legend at 0x7f5e28eafe90>"
      ]
     },
     "execution_count": 141,
     "metadata": {},
     "output_type": "execute_result"
    },
    {
     "data": {
      "image/png": "[encoded data removed]",
      "text/plain": [
       "<Figure size 720x360 with 1 Axes>"
      ]
     },
     "metadata": {
      "needs_background": "light"
     },
     "output_type": "display_data"
    }
   ],
   "source": [
    "plt.figure(figsize = (10,5))\n",
    "plt.plot(np.cumsum(np.sum(charge, axis = (0,1))) - np.cumsum(np.sum(charge2, axis = (0,1))), \n",
    "         label = 'withoutH - withH')\n",
    "# plt.ylim(100000, 1700000)\n",
    "plt.legend()"
   ]
  },
  {
   "cell_type": "code",
   "execution_count": 143,
   "metadata": {
    "ExecuteTime": {
     "end_time": "2021-01-26T22:48:03.547368Z",
     "start_time": "2021-01-26T22:48:03.511810Z"
    },
    "hidden": true
   },
   "outputs": [
    {
     "data": {
      "text/plain": [
       "-7100.579014352532"
      ]
     },
     "execution_count": 143,
     "metadata": {},
     "output_type": "execute_result"
    }
   ],
   "source": [
    "np.sum(np.sum(charge, axis = (0,1)) - np.sum(charge2,axis = (0,1)))"
   ]
  },
  {
   "cell_type": "markdown",
   "metadata": {},
   "source": [
    "# Miscellaneous editing"
   ]
  },
  {
   "cell_type": "code",
   "execution_count": null,
   "metadata": {},
   "outputs": [],
   "source": [
    "tempstruct = Atoms(sorted(outstruct, key = lambda atom: atom.position[2]))\n",
    "del outstruct[[atom.index for atom in outstruct]]\n",
    "outstruct += tempstruct\n",
    "outstruct.constraints = FixAtoms(np.arange(32))\n",
    "view(outstruct)"
   ]
  },
  {
   "cell_type": "code",
   "execution_count": 23,
   "metadata": {
    "ExecuteTime": {
     "end_time": "2021-01-19T04:02:20.255381Z",
     "start_time": "2021-01-19T04:02:20.237385Z"
    }
   },
   "outputs": [],
   "source": [
    "temp = gen.read_gen(\"../thick_amorphous_bottomterm.gen\")\n",
    "order = [atom.index for atom in sorted(temp, key = lambda atom: atom.position[2])]\n",
    "temp.set_constraint(FixAtoms(np.arange(200)))\n",
    "view(temp)"
   ]
  },
  {
   "cell_type": "code",
   "execution_count": 117,
   "metadata": {
    "ExecuteTime": {
     "end_time": "2021-01-22T22:51:10.619485Z",
     "start_time": "2021-01-22T22:51:10.593141Z"
    }
   },
   "outputs": [],
   "source": [
    "temp = gen.read_gen(\"input.gen\")\n",
    "for atom in temp:\n",
    "    if atom.index >= 627:\n",
    "        atom.position[2] += 15\n",
    "view(temp)\n",
    "gen.write_gen(\"input.gen\", temp)"
   ]
  },
  {
   "cell_type": "code",
   "execution_count": 68,
   "metadata": {
    "ExecuteTime": {
     "end_time": "2021-02-16T10:07:23.546390Z",
     "start_time": "2021-02-16T10:07:23.520881Z"
    }
   },
   "outputs": [],
   "source": [
    "temp = gen.read_gen(\"../sifrich.gen\")\n",
    "temp.set_constraint(FixAtoms(np.arange(200)))\n",
    "# temp = vasp.read_vasp(\"../CONTCAR\")\n",
    "# add_vacuum(temp, 15)\n",
    "# gen.write_gen(\"../thickamorphous.gen\", temp)\n",
    "# vasp.write_vasp(\"../POSCAR\", temp, sort = True, vasp5 = True)\n",
    "view(temp)\n",
    "# temp.edit()"
   ]
  },
  {
   "cell_type": "code",
   "execution_count": 122,
   "metadata": {
    "ExecuteTime": {
     "end_time": "2021-01-26T00:39:30.783675Z",
     "start_time": "2021-01-26T00:39:30.777375Z"
    }
   },
   "outputs": [],
   "source": [
    "vasp.write_vasp(\"../POSCAR\", temp, sort = True, vasp5 = True)"
   ]
  },
  {
   "cell_type": "code",
   "execution_count": 119,
   "metadata": {
    "ExecuteTime": {
     "end_time": "2021-01-22T22:53:21.852276Z",
     "start_time": "2021-01-22T22:53:21.831097Z"
    }
   },
   "outputs": [],
   "source": [
    "view(gen.read_gen(\"input.gen\"))\n",
    "# view(vasp.read_vasp(\"../POSCAR\"))"
   ]
  },
  {
   "cell_type": "markdown",
   "metadata": {},
   "source": [
    "## DB detection"
   ]
  },
  {
   "cell_type": "markdown",
   "metadata": {
    "heading_collapsed": true
   },
   "source": [
    "### For a trajectory"
   ]
  },
  {
   "cell_type": "code",
   "execution_count": null,
   "metadata": {
    "ExecuteTime": {
     "end_time": "2020-11-17T20:53:39.568539Z",
     "start_time": "2020-11-17T20:53:36.628Z"
    },
    "hidden": true
   },
   "outputs": [],
   "source": [
    "traj = xyz.read_xyz(\"../0-0.xyz\", index = slice(0, -1, 1000))\n",
    "traj = [i for i in traj]\n",
    "for i in traj:\n",
    "    i.cell = gen.read_gen(\"../input_hterm.gen\").cell\n",
    "    i.pbc = [True, True, True]\n",
    "view(traj)"
   ]
  },
  {
   "cell_type": "code",
   "execution_count": null,
   "metadata": {
    "ExecuteTime": {
     "end_time": "2020-11-17T20:53:39.570281Z",
     "start_time": "2020-11-17T20:53:36.642Z"
    },
    "hidden": true
   },
   "outputs": [],
   "source": [
    "traj_coord = [coordLabeller(slab, 0, angle_tolerance = 0.25, bond_tolerance = 0.15) for slab in traj]\n",
    "for i, slab in enumerate(traj):\n",
    "    relCoord = traj_coord[i][0]\n",
    "    bonds = traj_coord[i][1]\n",
    "    slab.set_initial_charges([relCoord[atom.index] for atom in slab])\n",
    "view(traj)"
   ]
  },
  {
   "cell_type": "code",
   "execution_count": null,
   "metadata": {
    "ExecuteTime": {
     "end_time": "2020-11-17T20:53:39.572025Z",
     "start_time": "2020-11-17T20:53:36.657Z"
    },
    "hidden": true
   },
   "outputs": [],
   "source": [
    "unders = []\n",
    "overs = []\n",
    "for i, slab in enumerate(traj):\n",
    "    relCoord = traj_coord[i][0]\n",
    "    bonds = traj_coord[i][1]\n",
    "    unders += [np.sum([j == -1 for j in relCoord.values()])]\n",
    "    overs += [np.sum([j == 1 for j in relCoord.values()])]\n",
    "plt.plot(unders, label = 'unders')\n",
    "plt.plot(overs, label = 'overs')\n",
    "plt.legend()\n"
   ]
  },
  {
   "cell_type": "code",
   "execution_count": null,
   "metadata": {
    "ExecuteTime": {
     "end_time": "2020-11-17T20:53:39.574018Z",
     "start_time": "2020-11-17T20:53:36.673Z"
    },
    "hidden": true
   },
   "outputs": [],
   "source": [
    "fullbonds = {\"Si\": 4, \"N\": 3, \"H\":1, \"Ar\": 0}\n",
    "coordinationlists = {}\n",
    "for i in np.arange(-3, 4):\n",
    "    coordinationlists[i] = []\n",
    "\n",
    "for i, slab in enumerate(traj):\n",
    "    bonds = traj_coord[i][1]\n",
    "    charges = {}\n",
    "    for atom in slab:\n",
    "        idx = atom.index\n",
    "        species = atom.symbol\n",
    "        numbonds = len(bonds[idx])\n",
    "        charges[idx] = numbonds - fullbonds[species]\n",
    "    for i in coordinationlists.keys():\n",
    "        coordinationlists[i] += [sum([charges[j] == i for j in charges.keys()])]\n",
    "    \n",
    "    \n",
    "# slab.set_initial_charges([charges[atom.index] for atom in slab])\n",
    "# view(traj)\n",
    "        \n",
    "for i, values in coordinationlists.items():\n",
    "    if i == 0:\n",
    "        continue\n",
    "    plt.plot(np.linspace(0, 10, 22), np.array(values)/len(slab), label = i)\n",
    "plt.legend()\n",
    "plt.title(\"Coordination defects vs time\")\n",
    "plt.xlabel(\"bombardment progress\")\n",
    "plt.ylabel(\"number of atoms with {#} coordination defects\")\n",
    "        "
   ]
  },
  {
   "cell_type": "code",
   "execution_count": null,
   "metadata": {
    "ExecuteTime": {
     "end_time": "2020-11-17T20:53:39.575333Z",
     "start_time": "2020-11-17T20:53:36.691Z"
    },
    "hidden": true
   },
   "outputs": [],
   "source": [
    "np.unique(list(charges.values()))"
   ]
  },
  {
   "cell_type": "markdown",
   "metadata": {},
   "source": [
    "### For single structure"
   ]
  },
  {
   "cell_type": "code",
   "execution_count": 105,
   "metadata": {
    "ExecuteTime": {
     "end_time": "2021-01-22T20:25:38.627547Z",
     "start_time": "2021-01-22T20:25:38.613895Z"
    }
   },
   "outputs": [],
   "source": [
    "slab = gen.read_gen(\"../geom.out.gen\")\n",
    "# view(slab)"
   ]
  },
  {
   "cell_type": "code",
   "execution_count": 106,
   "metadata": {
    "ExecuteTime": {
     "end_time": "2021-01-22T20:26:07.651255Z",
     "start_time": "2021-01-22T20:25:43.241049Z"
    }
   },
   "outputs": [],
   "source": [
    "coords = coordLabeller(slab, 0, angle_tolerance = 0.15, bond_tolerance = 0.25, minz = 15)"
   ]
  },
  {
   "cell_type": "code",
   "execution_count": 107,
   "metadata": {
    "ExecuteTime": {
     "end_time": "2021-01-22T20:26:31.841345Z",
     "start_time": "2021-01-22T20:26:31.822225Z"
    }
   },
   "outputs": [],
   "source": [
    "slab.set_initial_charges([coords[0][atom.index] for atom in slab])\n",
    "view(slab)"
   ]
  },
  {
   "cell_type": "code",
   "execution_count": 11,
   "metadata": {
    "ExecuteTime": {
     "end_time": "2021-01-19T03:08:10.716496Z",
     "start_time": "2021-01-19T03:08:10.711416Z"
    }
   },
   "outputs": [
    {
     "data": {
      "text/plain": [
       "76.5"
      ]
     },
     "execution_count": 11,
     "metadata": {},
     "output_type": "execute_result"
    }
   ],
   "source": [
    ".85 * 90"
   ]
  },
  {
   "cell_type": "code",
   "execution_count": 9,
   "metadata": {
    "ExecuteTime": {
     "end_time": "2021-01-19T03:07:32.412753Z",
     "start_time": "2021-01-19T03:07:32.407681Z"
    }
   },
   "outputs": [
    {
     "data": {
      "text/plain": [
       "{202, 291}"
      ]
     },
     "execution_count": 9,
     "metadata": {},
     "output_type": "execute_result"
    }
   ],
   "source": [
    "coords[1][533]"
   ]
  },
  {
   "cell_type": "code",
   "execution_count": null,
   "metadata": {
    "ExecuteTime": {
     "end_time": "2020-11-17T20:53:39.582174Z",
     "start_time": "2020-11-17T20:53:36.787Z"
    },
    "scrolled": true
   },
   "outputs": [],
   "source": [
    "for tol in np.arange(0, .5, .05):\n",
    "    slab = gen.read_gen(\"../input_hterm.gen\") #crystalline, more bomb\n",
    "    slab = traj[0]\n",
    "    relCoord, bonds = coordLabeller(slab, 0, angle_tolerance=.25, bond_tolerance = tol)\n",
    "    slab.set_initial_charges([relCoord[atom.index] for atom in slab])\n",
    "    print(\"tol: \", tol, \"defects: \", sum([abs(i) for i in relCoord.values()]))\n",
    "    # slab.edit()\n",
    "    # view(slab)\n"
   ]
  },
  {
   "cell_type": "markdown",
   "metadata": {},
   "source": [
    "### For collection of geometries"
   ]
  },
  {
   "cell_type": "code",
   "execution_count": 210,
   "metadata": {
    "ExecuteTime": {
     "end_time": "2021-03-08T09:56:26.613837Z",
     "start_time": "2021-03-08T09:56:26.598129Z"
    }
   },
   "outputs": [
    {
     "ename": "TypeError",
     "evalue": "unsupported operand type(s) for /: 'list' and 'list'",
     "output_type": "error",
     "traceback": [
      "\u001b[0;31m---------------------------------------------------------------------------\u001b[0m",
      "\u001b[0;31mTypeError\u001b[0m                                 Traceback (most recent call last)",
      "\u001b[0;32m<ipython-input-210-5431bb638241>\u001b[0m in \u001b[0;36m<module>\u001b[0;34m\u001b[0m\n\u001b[0;32m----> 1\u001b[0;31m \u001b[0;34m[\u001b[0m\u001b[0matom\u001b[0m\u001b[0;34m.\u001b[0m\u001b[0msymbol\u001b[0m \u001b[0;34m==\u001b[0m \u001b[0;34m\"Si\"\u001b[0m \u001b[0;32mand\u001b[0m \u001b[0matom\u001b[0m\u001b[0;34m.\u001b[0m\u001b[0mposition\u001b[0m\u001b[0;34m[\u001b[0m\u001b[0;36m2\u001b[0m\u001b[0;34m]\u001b[0m \u001b[0;34m>\u001b[0m \u001b[0;36m15\u001b[0m \u001b[0;32mfor\u001b[0m \u001b[0matom\u001b[0m \u001b[0;32min\u001b[0m \u001b[0mamorphous\u001b[0m\u001b[0;34m]\u001b[0m\u001b[0;34m/\u001b[0m\u001b[0;34m[\u001b[0m\u001b[0matom\u001b[0m\u001b[0;34m.\u001b[0m\u001b[0msymbol\u001b[0m \u001b[0;34m==\u001b[0m \u001b[0;34m\"Si\"\u001b[0m \u001b[0;32mand\u001b[0m \u001b[0matom\u001b[0m\u001b[0;34m.\u001b[0m\u001b[0mposition\u001b[0m\u001b[0;34m[\u001b[0m\u001b[0;36m2\u001b[0m\u001b[0;34m]\u001b[0m \u001b[0;34m>\u001b[0m \u001b[0;36m15\u001b[0m \u001b[0;32mfor\u001b[0m \u001b[0matom\u001b[0m \u001b[0;32min\u001b[0m \u001b[0mamorphous\u001b[0m\u001b[0;34m]\u001b[0m\u001b[0;34m\u001b[0m\u001b[0;34m\u001b[0m\u001b[0m\n\u001b[0m",
      "\u001b[0;31mTypeError\u001b[0m: unsupported operand type(s) for /: 'list' and 'list'"
     ]
    }
   ],
   "source": [
    "[atom.symbol == \"Si\" and atom.position[2] > 15 for atom in amorphous]/[atom.symbol == \"Si\" and atom.position[2] > 15 for atom in amorphous]"
   ]
  },
  {
   "cell_type": "code",
   "execution_count": 7,
   "metadata": {
    "ExecuteTime": {
     "end_time": "2021-03-08T09:41:11.205274Z",
     "start_time": "2021-03-08T09:41:09.630425Z"
    }
   },
   "outputs": [
    {
     "name": "stdout",
     "output_type": "stream",
     "text": [
      "0.8215845290081097 15.494117647058824 18.858823529411765 2.1344431945744193 2.5628703631416663\n"
     ]
    }
   ],
   "source": [
    "for i in [19]:\n",
    "    surface = False\n",
    "    subset = False\n",
    "    zcut = 10\n",
    "    datadir = \"../bomb{}_results/\".format(i) #bare bombardment, v0.13 = 35.0 eV, 0.135 = 37.7 eV, .14 = 40.55 eV\n",
    "    geometries = {}\n",
    "    for i in os.listdir(datadir):\n",
    "        if \".gen\" in i:\n",
    "            key = re.search(r\"\\d+-\\d+\", i)\n",
    "            if key:\n",
    "                key = key.group(0)\n",
    "                geometries[key] =  gen.read_gen(datadir + i)\n",
    "\n",
    "    #subset:\n",
    "    if subset:\n",
    "        np.random.seed(429)\n",
    "        choices = np.random.choice(list(geometries.keys()), size = 50)\n",
    "        geometries = {choice: geometries[choice] for choice in choices}\n",
    "\n",
    "    if surface:\n",
    "        for key, value in geometries.items():\n",
    "            geometries[key] = value[[atom.position[2] > zcut for atom in value]]\n",
    "    \n",
    "    simean = np.mean([\n",
    "        np.sum(\n",
    "            [atom.symbol == \"Si\" and atom.position[2] > 15 for atom in g]\n",
    "        ) for g in geometries.values()\n",
    "    ])\n",
    "    sistd = np.std([\n",
    "        np.sum(\n",
    "            [atom.symbol == \"Si\" and atom.position[2] > 15 for atom in g]\n",
    "        ) for g in geometries.values()\n",
    "    ])\n",
    "    nmean = np.mean([\n",
    "        np.sum(\n",
    "            [atom.symbol == \"N\" and atom.position[2] > 15 for atom in g]\n",
    "        ) for g in geometries.values()\n",
    "    ])\n",
    "    nstd = np.std([\n",
    "        np.sum(\n",
    "            [atom.symbol == \"N\" and atom.position[2] > 15 for atom in g]\n",
    "        ) for g in geometries.values()\n",
    "    ])\n",
    "    print(simean/nmean, simean, nmean, sistd, nstd)"
   ]
  },
  {
   "cell_type": "code",
   "execution_count": 12,
   "metadata": {},
   "outputs": [
    {
     "data": {
      "text/plain": [
       "109"
      ]
     },
     "execution_count": 12,
     "metadata": {},
     "output_type": "execute_result"
    }
   ],
   "source": [
    "maxz = np.max([atom.position[2] for atom in amorphous])\n",
    "np.sum([atom.position[2] > maxz - 6 for atom in amorphous])"
   ]
  },
  {
   "cell_type": "code",
   "execution_count": 204,
   "metadata": {
    "ExecuteTime": {
     "end_time": "2021-03-08T09:47:25.362979Z",
     "start_time": "2021-03-08T09:47:25.359117Z"
    }
   },
   "outputs": [
    {
     "data": {
      "text/plain": [
       "15.494117647058824"
      ]
     },
     "execution_count": 204,
     "metadata": {},
     "output_type": "execute_result"
    }
   ],
   "source": [
    "simean"
   ]
  },
  {
   "cell_type": "code",
   "execution_count": 202,
   "metadata": {
    "ExecuteTime": {
     "end_time": "2021-03-08T09:43:51.638967Z",
     "start_time": "2021-03-08T09:43:51.631273Z"
    }
   },
   "outputs": [
    {
     "data": {
      "text/plain": [
       "0.1589835623330369"
      ]
     },
     "execution_count": 202,
     "metadata": {},
     "output_type": "execute_result"
    }
   ],
   "source": [
    "np.sqrt(\n",
    "    (1/nmean * sistd)**2 \\\n",
    "    + (-simean/nmean**2 * nstd)**2\n",
    ")"
   ]
  },
  {
   "cell_type": "code",
   "execution_count": 84,
   "metadata": {
    "ExecuteTime": {
     "end_time": "2021-03-08T07:27:50.261827Z",
     "start_time": "2021-03-08T07:27:49.872457Z"
    }
   },
   "outputs": [],
   "source": [
    "view(list(geometries.values()))\n"
   ]
  },
  {
   "cell_type": "code",
   "execution_count": 143,
   "metadata": {
    "ExecuteTime": {
     "end_time": "2021-03-08T08:33:22.933744Z",
     "start_time": "2021-03-08T08:32:42.356282Z"
    }
   },
   "outputs": [],
   "source": [
    "traj_coord = {key: coordLabeller(slab, 0, angle_tolerance = 0.25, bond_tolerance = 0.15, minz = 15 ) \n",
    "              for key, slab in geometries.items()}"
   ]
  },
  {
   "cell_type": "code",
   "execution_count": 144,
   "metadata": {
    "ExecuteTime": {
     "end_time": "2021-03-08T08:33:23.006475Z",
     "start_time": "2021-03-08T08:33:22.935113Z"
    }
   },
   "outputs": [
    {
     "data": {
      "text/plain": [
       "49.19512195121951"
      ]
     },
     "execution_count": 144,
     "metadata": {},
     "output_type": "execute_result"
    }
   ],
   "source": [
    "np.mean([np.sum([i.position[2] > 15 for i in g]) for g in geometries.values()])"
   ]
  },
  {
   "cell_type": "code",
   "execution_count": 37,
   "metadata": {
    "ExecuteTime": {
     "end_time": "2021-03-08T06:37:37.813051Z",
     "start_time": "2021-03-08T06:37:37.803915Z"
    }
   },
   "outputs": [],
   "source": [
    "overs2 = overs\n",
    "unders2 = unders"
   ]
  },
  {
   "cell_type": "code",
   "execution_count": 237,
   "metadata": {
    "ExecuteTime": {
     "end_time": "2020-11-17T23:35:32.138012Z",
     "start_time": "2020-11-17T23:35:32.135008Z"
    }
   },
   "outputs": [],
   "source": [
    "overs9 = overs\n",
    "unders9 = unders "
   ]
  },
  {
   "cell_type": "code",
   "execution_count": 245,
   "metadata": {
    "ExecuteTime": {
     "end_time": "2020-11-17T23:38:05.395574Z",
     "start_time": "2020-11-17T23:38:05.392796Z"
    }
   },
   "outputs": [],
   "source": [
    "overs16 = overs\n",
    "unders16 = unders"
   ]
  },
  {
   "cell_type": "code",
   "execution_count": 247,
   "metadata": {
    "ExecuteTime": {
     "end_time": "2020-11-17T23:38:25.429505Z",
     "start_time": "2020-11-17T23:38:25.425499Z"
    }
   },
   "outputs": [
    {
     "data": {
      "text/plain": [
       "(15.0, 17.7, 19.5)"
      ]
     },
     "execution_count": 247,
     "metadata": {},
     "output_type": "execute_result"
    }
   ],
   "source": [
    "np.mean(unders2), np.mean(unders9), np.mean(unders16)"
   ]
  },
  {
   "cell_type": "code",
   "execution_count": 146,
   "metadata": {
    "ExecuteTime": {
     "end_time": "2021-03-08T08:33:23.191875Z",
     "start_time": "2021-03-08T08:33:23.186103Z"
    }
   },
   "outputs": [
    {
     "data": {
      "text/plain": [
       "10.682926829268293"
      ]
     },
     "execution_count": 146,
     "metadata": {},
     "output_type": "execute_result"
    }
   ],
   "source": [
    "np.mean(unders)"
   ]
  },
  {
   "cell_type": "code",
   "execution_count": 188,
   "metadata": {
    "ExecuteTime": {
     "end_time": "2021-03-08T09:02:03.264728Z",
     "start_time": "2021-03-08T09:02:03.075548Z"
    }
   },
   "outputs": [
    {
     "data": {
      "text/plain": [
       "<matplotlib.collections.PathCollection at 0x7f510db1ec10>"
      ]
     },
     "execution_count": 188,
     "metadata": {},
     "output_type": "execute_result"
    },
    {
     "data": {
      "image/png": "[encoded data removed]",
      "text/plain": [
       "<Figure size 432x288 with 1 Axes>"
      ]
     },
     "metadata": {
      "needs_background": "light"
     },
     "output_type": "display_data"
    }
   ],
   "source": [
    "y = [0.7391304347826086,\n",
    "     0.7614574437802448,\n",
    "0.7821693907875186,\n",
    "0.8032886723507917,\n",
    "0.8215845290081097\n",
    "    ]\n",
    "plt.scatter(x, y)"
   ]
  },
  {
   "cell_type": "code",
   "execution_count": 6,
   "metadata": {
    "ExecuteTime": {
     "end_time": "2021-03-08T09:03:48.541149Z",
     "start_time": "2021-03-08T09:03:48.354465Z"
    }
   },
   "outputs": [
    {
     "data": {
      "text/plain": [
       "[<matplotlib.lines.Line2D at 0x7fbef5702910>]"
      ]
     },
     "execution_count": 6,
     "metadata": {},
     "output_type": "execute_result"
    },
    {
     "data": {
      "image/png": "[encoded data removed]",
      "text/plain": [
       "<Figure size 432x288 with 1 Axes>"
      ]
     },
     "metadata": {
      "needs_background": "light"
     },
     "output_type": "display_data"
    }
   ],
   "source": [
    "from scipy.optimize import curve_fit\n",
    "from scipy.special import expit\n",
    "def f(x, a, b, c):\n",
    "    return a * x**(1/c) + b\n",
    "\n",
    "# def f(x, a, b, c):\n",
    "#     return a * expit(x) + b\n",
    "\n",
    "x = [0, 2,9, 15, 20]\n",
    "y = [0, 21.7, 27.4, 30.78, 32.5] # percent of coordination defects\n",
    "# y = [3/4, \n",
    "#      0.7614574437802448,\n",
    "# 0.7821693907875186,\n",
    "# 0.8032886723507917,\n",
    "# 0.8215845290081097\n",
    "#     ] # Si stoichiometry\n",
    "params = curve_fit(f, x, y)[0]\n",
    "plotx = np.arange(30)\n",
    "plt.scatter(x, y)\n",
    "plt.plot(plotx, f(plotx, *params))"
   ]
  },
  {
   "cell_type": "code",
   "execution_count": 194,
   "metadata": {
    "ExecuteTime": {
     "end_time": "2021-03-08T09:03:51.258359Z",
     "start_time": "2021-03-08T09:03:51.249582Z"
    }
   },
   "outputs": [
    {
     "data": {
      "text/plain": [
       "array([1.89587823e+01, 1.06483910e-02, 5.63896493e+00])"
      ]
     },
     "execution_count": 194,
     "metadata": {},
     "output_type": "execute_result"
    }
   ],
   "source": [
    "params"
   ]
  },
  {
   "cell_type": "code",
   "execution_count": 145,
   "metadata": {
    "ExecuteTime": {
     "end_time": "2021-03-08T08:33:23.184104Z",
     "start_time": "2021-03-08T08:33:23.009280Z"
    }
   },
   "outputs": [
    {
     "data": {
      "image/png": "[encoded data removed]",
      "text/plain": [
       "<Figure size 360x720 with 1 Axes>"
      ]
     },
     "metadata": {
      "needs_background": "light"
     },
     "output_type": "display_data"
    }
   ],
   "source": [
    "overs = [np.sum([i == 1 for i in relCoord.values()]) for relCoord, bonds in traj_coord.values()]\n",
    "unders = [np.sum([i == -1 for i in relCoord.values()]) for relCoord, bonds in traj_coord.values()]\n",
    "plt.figure(figsize = (5, 10))\n",
    "plt.boxplot(np.array([overs,unders]).T, labels = ['overcoordinated', 'undercoordinated'], );\n",
    "# plt.yticks(np.arange(0, 25, 2));"
   ]
  },
  {
   "cell_type": "markdown",
   "metadata": {
    "heading_collapsed": true
   },
   "source": [
    "### From saved data"
   ]
  },
  {
   "cell_type": "code",
   "execution_count": null,
   "metadata": {
    "ExecuteTime": {
     "end_time": "2020-11-17T20:53:39.597350Z",
     "start_time": "2020-11-17T20:53:36.935Z"
    },
    "hidden": true
   },
   "outputs": [],
   "source": [
    "coordination_tables = [pd.read_csv(\"coordination_table%d.csv\" % i, index_col = 0) for i in range(7)]"
   ]
  },
  {
   "cell_type": "code",
   "execution_count": null,
   "metadata": {
    "ExecuteTime": {
     "end_time": "2020-11-17T20:53:39.599217Z",
     "start_time": "2020-11-17T20:53:36.950Z"
    },
    "hidden": true
   },
   "outputs": [],
   "source": [
    "relative_coordinations = [pd.read_csv(\"relativeCoordinations%d.csv\" % i, index_col = 0) for i in range(7)]"
   ]
  },
  {
   "cell_type": "code",
   "execution_count": null,
   "metadata": {
    "ExecuteTime": {
     "end_time": "2020-11-17T20:53:39.601931Z",
     "start_time": "2020-11-17T20:53:36.963Z"
    },
    "hidden": true
   },
   "outputs": [],
   "source": [
    "coordination_tables[0]"
   ]
  },
  {
   "cell_type": "code",
   "execution_count": null,
   "metadata": {
    "ExecuteTime": {
     "end_time": "2020-11-17T20:53:39.602938Z",
     "start_time": "2020-11-17T20:53:36.976Z"
    },
    "hidden": true,
    "scrolled": true
   },
   "outputs": [],
   "source": [
    "relative_coordinations[0]"
   ]
  },
  {
   "cell_type": "code",
   "execution_count": null,
   "metadata": {
    "ExecuteTime": {
     "end_time": "2020-11-17T20:53:39.603943Z",
     "start_time": "2020-11-17T20:53:36.990Z"
    },
    "hidden": true,
    "scrolled": true
   },
   "outputs": [],
   "source": [
    "coordination_zs = []\n",
    "for i, tbl in enumerate(relative_coordinations):\n",
    "    undercoordinated_z = []\n",
    "    overcoordinated_z = []\n",
    "    fully_coordinated_z = []\n",
    "    for trial in tbl.columns:\n",
    "        struct = gen.read_gen(\"../bomb%d/output%s.gen\" % (i, trial))\n",
    "        for idx in tbl.index:\n",
    "            if tbl[trial][idx] == -1:\n",
    "                zloc = struct[idx].z\n",
    "                if zloc > 0 and zloc < 13:\n",
    "                    undercoordinated_z += [zloc]\n",
    "            elif tbl[trial][idx] == 0:\n",
    "                zloc = struct[idx].z\n",
    "                if zloc > 0 and zloc < 13:\n",
    "                    fully_coordinated_z += [zloc]\n",
    "    coordination_zs += [(undercoordinated_z, overcoordinated_z, fully_coordinated_z)]"
   ]
  },
  {
   "cell_type": "code",
   "execution_count": null,
   "metadata": {
    "ExecuteTime": {
     "end_time": "2020-11-17T20:53:39.605117Z",
     "start_time": "2020-11-17T20:53:37.002Z"
    },
    "hidden": true,
    "scrolled": false
   },
   "outputs": [],
   "source": [
    "sns.set_theme(style=\"darkgrid\")\n",
    "for i, t in enumerate(coordination_zs):\n",
    "    if i % 2 != 0:\n",
    "        continue\n",
    "    u, o, f = t\n",
    "#     sns.kdeplot(u, bw_adjust = 0.1, label = 'undercoordinated atoms')\n",
    "#     sns.kdeplot(u, bw_adjust = 0.05, label = 'full - %d' % i, common_norm=True)\n",
    "    plt.hist(u, bins = np.arange(0, 13, 0.05), density = False, \n",
    "             histtype=u'step', label = 'batch %d' %i)\n",
    "#     print(min(u), max(u))\n",
    "    plt.legend()\n",
    "    plt.xlim(5, 13)\n",
    "    plt.ylim(0, 700)\n",
    "    plt.xlabel(\"z (Å)\")\n",
    "    plt.ylabel(\"density\")\n",
    "    plt.title(\"Total of undercoordinated atoms by batch\")"
   ]
  },
  {
   "cell_type": "code",
   "execution_count": null,
   "metadata": {
    "ExecuteTime": {
     "end_time": "2020-11-17T20:53:39.605982Z",
     "start_time": "2020-11-17T20:53:37.015Z"
    },
    "hidden": true
   },
   "outputs": [],
   "source": [
    "sns.set_theme(style=\"darkgrid\")\n",
    "for i, t in enumerate(coordination_zs):\n",
    "    if i % 2 != 0:\n",
    "        continue\n",
    "    u, o, f = t\n",
    "#     sns.kdeplot(u, bw_adjust = 0.1, label = 'undercoordinated atoms')\n",
    "#     sns.kdeplot(u, bw_adjust = 0.05, label = 'full - %d' % i, common_norm=True)\n",
    "    plt.hist(f, bins = np.arange(0, 13, 0.05), density = False, \n",
    "             histtype=u'step', label = 'full - %d' %i)\n",
    "#     print(min(u), max(u))\n",
    "    plt.legend()\n",
    "#     plt.xlim(0, 5)\n",
    "    \n",
    "    plt.xlabel(\"z (Å)\")\n",
    "    plt.ylabel(\"density\")\n",
    "    plt.title(\"Total of fully coordinated atoms by batch\")"
   ]
  },
  {
   "cell_type": "code",
   "execution_count": null,
   "metadata": {
    "ExecuteTime": {
     "end_time": "2020-11-17T20:53:39.607073Z",
     "start_time": "2020-11-17T20:53:37.030Z"
    },
    "hidden": true,
    "scrolled": false
   },
   "outputs": [],
   "source": [
    "# show distribution of undercoordination as a function of z\n",
    "import seaborn as sns\n",
    "# sns.set_theme(style=\"darkgrid\")\n",
    "\n",
    "path1 = \"../hterm_final.gen\"\n",
    "path2 = \"../amorphous_bombed_0.gen\"\n",
    "test1 = gen.read_gen(path1).copy()\n",
    "test2 = gen.read_gen(path2).copy()\n",
    "del test1[[atom.index for atom in test1 if atom.symbol not in [\"Si\", \"N\"]]]\n",
    "del test2[[atom.index for atom in test2 if atom.symbol not in [\"Si\", \"N\"]]]\n",
    "\n",
    "\n",
    "zs1 = [atom.z for atom in test1]\n",
    "zs2= [atom.z for atom in test2]\n",
    "sns.kdeplot(zs1, bw_adjust = 0.1, label = 'amorphous')\n",
    "sns.kdeplot(zs2, bw_adjust = 0.1, label = 'amorphous, bombed 0')\n",
    "plt.legend()\n",
    "plt.xlabel(\"z (Å)\")\n",
    "plt.ylabel(\"density\")\n",
    "plt.title(\"Z distribution of Si, N atoms in amorphous bombardment\")"
   ]
  },
  {
   "cell_type": "code",
   "execution_count": null,
   "metadata": {
    "ExecuteTime": {
     "end_time": "2020-11-17T20:53:39.608678Z",
     "start_time": "2020-11-17T20:53:37.046Z"
    },
    "hidden": true
   },
   "outputs": [],
   "source": [
    "bombfiles = [\"../bomb%d/\" % i for i in np.arange(7)]\n",
    "coordination_tables = []\n",
    "relCoords_all = []\n",
    "bonds_all = []\n",
    "for datadir in bombfiles:\n",
    "    coordination_dict = {}\n",
    "    relCoord_dict = {}\n",
    "    bonds_dict = {}\n",
    "    for i in os.listdir(datadir):\n",
    "        if \".gen\" in i:\n",
    "            key = re.search(r\"\\d+-\\d+\", i)\n",
    "            if key:\n",
    "                key = key.group(0)\n",
    "                struct = gen.read_gen(datadir + i)\n",
    "                relativeCoordinations, bonds = coordLabeller(struct, image = 0)\n",
    "                relcounts = {\n",
    "                    \"undercoordinated\": len([i for i in relativeCoordinations.values() if i == -1]),\n",
    "                    \"overcoordinated\": len([i for i in relativeCoordinations.values() if i == 1]),\n",
    "                    \"fully coordinated\": len([i for i in relativeCoordinations.values() if i == 0])}\n",
    "                coordination_dict[key] = relcounts\n",
    "                relCoord_dict[key] = relativeCoordinations\n",
    "                bonds_dict[key] = bonds\n",
    "    coordination_tables += [pd.DataFrame(coordination_dict)]\n",
    "    relCoords_all += [pd.DataFrame(relCoord_dict)]\n",
    "    bonds_all += [pd.DataFrame(bonds_dict)]\n",
    "    "
   ]
  },
  {
   "cell_type": "code",
   "execution_count": null,
   "metadata": {
    "ExecuteTime": {
     "end_time": "2020-11-17T20:53:39.611487Z",
     "start_time": "2020-11-17T20:53:37.059Z"
    },
    "hidden": true
   },
   "outputs": [],
   "source": [
    "for i in coordination_tables:\n",
    "    print(i.mean(axis = 1))\n",
    "plotx = np.arange(7)\n",
    "plt.plot(plotx, [i.mean(axis = 1)['undercoordinated'] for i in coordination_tables], label = 'undercoordinated')\n",
    "plt.plot(plotx, [i.mean(axis = 1)['overcoordinated'] for i in coordination_tables], label = 'overcoordinated')\n",
    "plt.plot(plotx, [i.mean(axis = 1)['fully coordinated'] for i in coordination_tables], label = 'fully coordinated')\n",
    "plt.legend()\n",
    "plt.xlabel(\"\")"
   ]
  },
  {
   "cell_type": "code",
   "execution_count": null,
   "metadata": {
    "ExecuteTime": {
     "end_time": "2020-11-17T20:53:39.615178Z",
     "start_time": "2020-11-17T20:53:37.072Z"
    },
    "hidden": true
   },
   "outputs": [],
   "source": [
    "from ase.neighborlist import neighbor_list\n",
    "nl = neighbor_list('i', slab, \n",
    "              cutoff = {\n",
    "                  (\"Si\", \"Si\"): 2.6,\n",
    "                  (\"Si\", \"H\"): 1.82002,\n",
    "                  (\"Si\", \"N\"): 2.12002,\n",
    "                  (\"N\", \"N\"): 1.8826,\n",
    "                  (\"H\", \"N\"): 1.2,\n",
    "              }\n",
    "             )\n",
    "print(np.bincount(nl))"
   ]
  },
  {
   "cell_type": "code",
   "execution_count": null,
   "metadata": {
    "ExecuteTime": {
     "end_time": "2020-11-17T20:53:39.616768Z",
     "start_time": "2020-11-17T20:53:37.085Z"
    },
    "hidden": true,
    "scrolled": true
   },
   "outputs": [],
   "source": [
    "#amorphous editing\n",
    "# slab = gen.read_gen(\"../amorphous_input.gen\")\n",
    "# slab = gen.read_gen(\"../amorphous_input_hterm.gen\")\n",
    "amorphous_slab = gen.read_gen(\"../geom.out.gen\")\n",
    "slab.constraints = FixAtoms(np.arange(80))\n",
    "# view(slab)\n",
    "# slab.edit()"
   ]
  },
  {
   "cell_type": "code",
   "execution_count": null,
   "metadata": {
    "ExecuteTime": {
     "end_time": "2020-11-17T20:53:39.618234Z",
     "start_time": "2020-11-17T20:53:37.099Z"
    },
    "hidden": true
   },
   "outputs": [],
   "source": [
    "view(slab)"
   ]
  },
  {
   "cell_type": "code",
   "execution_count": null,
   "metadata": {
    "ExecuteTime": {
     "end_time": "2020-11-17T20:53:39.619402Z",
     "start_time": "2020-11-17T20:53:37.112Z"
    },
    "hidden": true
   },
   "outputs": [],
   "source": [
    "view(heavy_bomb)"
   ]
  },
  {
   "cell_type": "code",
   "execution_count": null,
   "metadata": {
    "ExecuteTime": {
     "end_time": "2020-11-17T20:53:39.620981Z",
     "start_time": "2020-11-17T20:53:37.125Z"
    },
    "hidden": true
   },
   "outputs": [],
   "source": [
    "coordinations = [coordLabeller(slab, image = 0, tolerance = .25) for slab in \n",
    "                 [amorphous_slab, xtl2x2_sifterm, xtl2x2, heavy_bomb]]"
   ]
  },
  {
   "cell_type": "code",
   "execution_count": null,
   "metadata": {
    "ExecuteTime": {
     "end_time": "2020-11-17T20:53:39.623119Z",
     "start_time": "2020-11-17T20:53:37.137Z"
    },
    "hidden": true
   },
   "outputs": [],
   "source": [
    "relcounts = [(\n",
    "    len([i for i in relativeCoordinations.values() if i == -1]),\n",
    "    len([i for i in relativeCoordinations.values() if i == 1]),\n",
    "    len([i for i in relativeCoordinations.values() if i == 0])\n",
    " ) \n",
    " for relativeCoordinations, newBonds in coordinations]"
   ]
  },
  {
   "cell_type": "code",
   "execution_count": null,
   "metadata": {
    "ExecuteTime": {
     "end_time": "2020-11-17T20:53:39.627054Z",
     "start_time": "2020-11-17T20:53:37.150Z"
    },
    "hidden": true
   },
   "outputs": [],
   "source": [
    "relcounts"
   ]
  },
  {
   "cell_type": "code",
   "execution_count": null,
   "metadata": {
    "ExecuteTime": {
     "end_time": "2020-11-17T20:53:39.628156Z",
     "start_time": "2020-11-17T20:53:37.163Z"
    },
    "hidden": true
   },
   "outputs": [],
   "source": [
    "([slab[i] for i, value in coordinations.items() if value == -1])"
   ]
  },
  {
   "cell_type": "code",
   "execution_count": null,
   "metadata": {
    "ExecuteTime": {
     "end_time": "2020-11-17T20:53:39.629506Z",
     "start_time": "2020-11-17T20:53:37.176Z"
    },
    "hidden": true
   },
   "outputs": [],
   "source": [
    "([slab[i] for i, value in coordinations.items() if value == 1])"
   ]
  },
  {
   "cell_type": "code",
   "execution_count": null,
   "metadata": {
    "ExecuteTime": {
     "end_time": "2020-11-17T20:53:39.630649Z",
     "start_time": "2020-11-17T20:53:37.187Z"
    },
    "hidden": true,
    "scrolled": false
   },
   "outputs": [],
   "source": [
    "print(len([slab[i] for i, value in coordinations.items() if value == -1]))\n",
    "print(len([slab[i] for i, value in coordinations.items() if value == 1]))"
   ]
  },
  {
   "cell_type": "code",
   "execution_count": null,
   "metadata": {
    "ExecuteTime": {
     "end_time": "2020-11-17T20:53:39.631934Z",
     "start_time": "2020-11-17T20:53:37.203Z"
    },
    "hidden": true,
    "scrolled": false
   },
   "outputs": [],
   "source": [
    "coordinations, undercoordinated =  coordLabeller(slab)\n",
    "slab.set_initial_charges([int(coordinations[atom.index]) for atom in slab])\n",
    "view(slab)\n",
    "# sum([atom.charge for atom in slab])\n",
    "# slab.edit()"
   ]
  },
  {
   "cell_type": "code",
   "execution_count": null,
   "metadata": {
    "ExecuteTime": {
     "end_time": "2020-11-17T20:53:39.633104Z",
     "start_time": "2020-11-17T20:53:37.218Z"
    },
    "hidden": true
   },
   "outputs": [],
   "source": [
    "#EUV slab, no SCC\n",
    "energies = pd.read_csv(\"../euv/f2adsorbed/energies\", header = None)\n",
    "reference = -11015.3982\n",
    "f2ref = -234.4398\n",
    "energies = energies - reference - f2ref\n",
    "energies.describe()"
   ]
  },
  {
   "cell_type": "code",
   "execution_count": null,
   "metadata": {
    "ExecuteTime": {
     "end_time": "2020-11-17T20:53:39.634335Z",
     "start_time": "2020-11-17T20:53:37.233Z"
    },
    "hidden": true
   },
   "outputs": [],
   "source": [
    "#EUV slab, no SCC\n",
    "energies = pd.read_csv(\"../euv/fadsorbed/energies\", header = None)\n",
    "reference = -11015.3982\n",
    "# fref = -115.2462\n",
    "fref = f2ref/2 \n",
    "energies = energies - reference - fref\n",
    "energies.describe()"
   ]
  },
  {
   "cell_type": "code",
   "execution_count": null,
   "metadata": {
    "ExecuteTime": {
     "end_time": "2020-11-17T20:53:39.635716Z",
     "start_time": "2020-11-17T20:53:37.247Z"
    },
    "hidden": true
   },
   "outputs": [],
   "source": [
    "temp = gen.read_gen(\"../newinput.gen\")\n",
    "temp.constraints = FixAtoms(np.arange(80))\n",
    "# constrainedindices = np.concatenate((np.arange(4, 25), \n",
    "#                                     np.arange(29,69),\n",
    "#                                     np.arange(72, 93),\n",
    "#                                     np.arange(97, 137),\n",
    "#                                     np.arange(140, 161),\n",
    "#                                     np.arange(165, 205),\n",
    "#                                     np.arange(208, 229),\n",
    "#                                     np.arange(233, len(temp))\n",
    "#                                    ))\n",
    "# temp.constraints = FixAtoms(constrainedindices)\n",
    "view(temp)\n",
    "# temp.edit()"
   ]
  },
  {
   "cell_type": "code",
   "execution_count": null,
   "metadata": {
    "ExecuteTime": {
     "end_time": "2020-11-17T20:53:39.637028Z",
     "start_time": "2020-11-17T20:53:37.266Z"
    },
    "hidden": true
   },
   "outputs": [],
   "source": [
    "view(gen.read_gen(\"../input.gen\"))"
   ]
  },
  {
   "cell_type": "code",
   "execution_count": null,
   "metadata": {
    "ExecuteTime": {
     "end_time": "2020-11-17T20:53:39.638448Z",
     "start_time": "2020-11-17T20:53:37.279Z"
    },
    "hidden": true
   },
   "outputs": [],
   "source": [
    "gen.write_gen(\"../input.gen\", vasp.read_vasp(\"../CONTCAR_amorphous\"))"
   ]
  },
  {
   "cell_type": "code",
   "execution_count": null,
   "metadata": {
    "ExecuteTime": {
     "end_time": "2020-11-17T20:53:39.640444Z",
     "start_time": "2020-11-17T20:53:37.293Z"
    },
    "hidden": true
   },
   "outputs": [],
   "source": [
    "gen.write_gen(\"../h2nsif3.gen\", list(xyz.read_xyz(\"../h2nsif3.xyz\"))[0])"
   ]
  },
  {
   "cell_type": "code",
   "execution_count": null,
   "metadata": {
    "ExecuteTime": {
     "end_time": "2020-11-17T20:53:39.642183Z",
     "start_time": "2020-11-17T20:53:37.306Z"
    },
    "hidden": true
   },
   "outputs": [],
   "source": [
    "view(gen.read_gen(\"../h2nsif3.gen\"))"
   ]
  },
  {
   "cell_type": "code",
   "execution_count": null,
   "metadata": {
    "ExecuteTime": {
     "end_time": "2020-11-17T20:53:39.644152Z",
     "start_time": "2020-11-17T20:53:37.320Z"
    },
    "hidden": true
   },
   "outputs": [],
   "source": [
    "temp = gen.read_gen(\"../h2nsif3.gen\")\n",
    "temp.cell = Cell(np.array([[15,0,0],\n",
    "                  [0,15,0],\n",
    "                  [0,0,15]], dtype = float)\n",
    "                  )\n",
    "temp.pbc = True\n",
    "# vasp.write_vasp(\"../POSCAR\", temp, sort=True, vasp5=True)\n",
    "gen.write_gen(\"../h2nsif3.gen\", temp)"
   ]
  },
  {
   "cell_type": "code",
   "execution_count": null,
   "metadata": {
    "ExecuteTime": {
     "end_time": "2020-11-17T20:53:39.646010Z",
     "start_time": "2020-11-17T20:53:37.334Z"
    },
    "hidden": true
   },
   "outputs": [],
   "source": [
    "temp = list(xyz.read_xyz(\"../anneal0-0.xyz\", slice(0, -1)))\n",
    "for i in temp:\n",
    "    i.cell = xtl2x2.cell\n",
    "view(temp)"
   ]
  },
  {
   "cell_type": "code",
   "execution_count": null,
   "metadata": {
    "ExecuteTime": {
     "end_time": "2020-11-17T20:53:39.647159Z",
     "start_time": "2020-11-17T20:53:37.347Z"
    },
    "hidden": true
   },
   "outputs": [],
   "source": [
    "hindices = [atom.index for atom in temp[1002] if atom.symbol == \"H\"]\n",
    "hpositions = []\n",
    "for frame in temp:\n",
    "    hpositions += [[atom.position for atom in frame[hindices]]]\n",
    "hpositions = np.array(hpositions)"
   ]
  },
  {
   "cell_type": "code",
   "execution_count": null,
   "metadata": {
    "ExecuteTime": {
     "end_time": "2020-11-17T20:53:39.649142Z",
     "start_time": "2020-11-17T20:53:37.359Z"
    },
    "hidden": true
   },
   "outputs": [],
   "source": [
    "hpositions.shape"
   ]
  },
  {
   "cell_type": "markdown",
   "metadata": {
    "hidden": true
   },
   "source": [
    "Sanity check"
   ]
  },
  {
   "cell_type": "code",
   "execution_count": null,
   "metadata": {
    "ExecuteTime": {
     "end_time": "2020-11-17T20:53:39.651216Z",
     "start_time": "2020-11-17T20:53:37.370Z"
    },
    "hidden": true
   },
   "outputs": [],
   "source": [
    "np.all(np.array([atom.position for atom in temp[1002] if atom.symbol == 'H']) == hpositions[1002, :, :])"
   ]
  },
  {
   "cell_type": "code",
   "execution_count": null,
   "metadata": {
    "ExecuteTime": {
     "end_time": "2020-11-17T20:53:39.654304Z",
     "start_time": "2020-11-17T20:53:37.378Z"
    },
    "hidden": true
   },
   "outputs": [],
   "source": [
    "reference_positions = hpositions[2002, :, :]"
   ]
  },
  {
   "cell_type": "code",
   "execution_count": null,
   "metadata": {
    "ExecuteTime": {
     "end_time": "2020-11-17T20:53:39.655981Z",
     "start_time": "2020-11-17T20:53:37.385Z"
    },
    "hidden": true
   },
   "outputs": [],
   "source": [
    "differences = (hpositions - reference_positions)"
   ]
  },
  {
   "cell_type": "code",
   "execution_count": null,
   "metadata": {
    "ExecuteTime": {
     "end_time": "2020-11-17T20:53:39.658993Z",
     "start_time": "2020-11-17T20:53:37.393Z"
    },
    "hidden": true
   },
   "outputs": [],
   "source": [
    "distances = np.sum(differences**2, axis = 2)"
   ]
  },
  {
   "cell_type": "code",
   "execution_count": null,
   "metadata": {
    "ExecuteTime": {
     "end_time": "2020-11-17T20:53:39.661267Z",
     "start_time": "2020-11-17T20:53:37.402Z"
    },
    "hidden": true
   },
   "outputs": [],
   "source": [
    "distances.shape"
   ]
  },
  {
   "cell_type": "code",
   "execution_count": null,
   "metadata": {
    "ExecuteTime": {
     "end_time": "2020-11-17T20:53:39.663256Z",
     "start_time": "2020-11-17T20:53:37.410Z"
    },
    "hidden": true
   },
   "outputs": [],
   "source": [
    "for i in np.arange(distances.shape[1]):\n",
    "    plt.plot(np.arange(distances.shape[0])/2, distances[:, i])\n",
    "plt.xlabel(\"time (fs) from start of bombardment run\")\n",
    "plt.ylabel(\"displacement (Å)\")\n",
    "plt.title(\"H displacement (referenced to end of quench run) as a function of time;\\n\\\n",
    "0.5 ps NVE bombardment, 0.5 ps quench to 300 K, and 5 ps NVT;\\n Run 0-0\");"
   ]
  },
  {
   "cell_type": "markdown",
   "metadata": {},
   "source": [
    "### C deprivation"
   ]
  },
  {
   "cell_type": "code",
   "execution_count": 324,
   "metadata": {
    "ExecuteTime": {
     "end_time": "2021-01-12T22:47:26.622199Z",
     "start_time": "2021-01-12T22:47:26.470453Z"
    }
   },
   "outputs": [
    {
     "data": {
      "image/png": "[encoded data removed]",
      "text/plain": [
       "<Figure size 360x360 with 1 Axes>"
      ]
     },
     "metadata": {
      "needs_background": "light"
     },
     "output_type": "display_data"
    }
   ],
   "source": [
    "plt.figure(figsize = (5,5))\n",
    "plt.plot([2720, 708, 466, 348])\n",
    "plt.xlabel(\"bombardment step\")\n",
    "plt.ylabel(\"remaining C\");"
   ]
  },
  {
   "cell_type": "code",
   "execution_count": 53,
   "metadata": {
    "ExecuteTime": {
     "end_time": "2021-01-22T10:58:10.414430Z",
     "start_time": "2021-01-22T10:58:10.153463Z"
    }
   },
   "outputs": [
    {
     "data": {
      "text/plain": [
       "290"
      ]
     },
     "execution_count": 53,
     "metadata": {},
     "output_type": "execute_result"
    }
   ],
   "source": [
    "ccountdir = '../cf4_bomb3_inputs/'\n",
    "count = 0\n",
    "for i in os.listdir(ccountdir):\n",
    "# for i in os.listdir(datadir):\n",
    "    if \".gen\" in i:\n",
    "        key = re.search(r\"\\d+-\\d+\", i)\n",
    "        if key:\n",
    "            key = key.group(0)\n",
    "            try:\n",
    "                count +=  gen.read_gen(ccountdir + i).symbols.formula.count()['C']\n",
    "#                 count +=  gen.read_gen(datadir + i).symbols.formula.count()['C']\n",
    "            except:\n",
    "                count += 0\n",
    "count\n",
    "\n"
   ]
  },
  {
   "cell_type": "code",
   "execution_count": 287,
   "metadata": {
    "ExecuteTime": {
     "end_time": "2021-01-12T22:16:22.172968Z",
     "start_time": "2021-01-12T22:16:22.069257Z"
    },
    "scrolled": true
   },
   "outputs": [
    {
     "name": "stdout",
     "output_type": "stream",
     "text": [
      "Atoms(symbols='C2H69F2N170Si131', pbc=True, cell=[15.05980015, 15.05980015, 40.05979919])\n",
      "Atoms(symbols='C2H72ArFN170Si130', pbc=True, cell=[15.05980015, 15.05980015, 40.05979919])\n",
      "Atoms(symbols='C3H76F3N171Si131', pbc=True, cell=[15.05980015, 15.05980015, 40.05979919])\n",
      "Atoms(symbols='C3H73FN171Si131', pbc=True, cell=[15.05980015, 15.05980015, 40.05979919])\n",
      "Atoms(symbols='CH69ArF2N171Si131', pbc=True, cell=[15.05980015, 15.05980015, 40.05979919])\n",
      "Atoms(symbols='C4H81F4N171Si131', pbc=True, cell=[15.05980015, 15.05980015, 40.05979919])\n",
      "Atoms(symbols='C4H80ArF3N171Si131', pbc=True, cell=[15.05980015, 15.05980015, 40.05979919])\n",
      "Atoms(symbols='CH71F2N171Si131', pbc=True, cell=[15.05980015, 15.05980015, 40.05979919])\n",
      "Atoms(symbols='C2H71F2N169Si131', pbc=True, cell=[15.05980015, 15.05980015, 40.05979919])\n",
      "Atoms(symbols='C4H77F3N171Si131', pbc=True, cell=[15.05980015, 15.05980015, 40.05979919])\n",
      "Atoms(symbols='C2H73FN171Si131', pbc=True, cell=[15.05980015, 15.05980015, 40.05979919])\n",
      "Atoms(symbols='CH69ArF2N171Si131', pbc=True, cell=[15.05980015, 15.05980015, 40.05979919])\n",
      "Atoms(symbols='C2H73N171Si131', pbc=True, cell=[15.05980015, 15.05980015, 40.05979919])\n",
      "Atoms(symbols='C3H72ArF2N169Si130', pbc=True, cell=[15.05980015, 15.05980015, 40.05979919])\n",
      "Atoms(symbols='CH67ArFN168Si130', pbc=True, cell=[15.05980015, 15.05980015, 40.05979919])\n",
      "Atoms(symbols='C2H73ArFN171Si131', pbc=True, cell=[15.05980015, 15.05980015, 40.05979919])\n",
      "Atoms(symbols='C2H69F4N171Si131', pbc=True, cell=[15.05980015, 15.05980015, 40.05979919])\n",
      "Atoms(symbols='CH71FN171Si131', pbc=True, cell=[15.05980015, 15.05980015, 40.05979919])\n",
      "Atoms(symbols='C3H76F4N171Si131', pbc=True, cell=[15.05980015, 15.05980015, 40.05979919])\n",
      "Atoms(symbols='C2H74N171Si131', pbc=True, cell=[15.05980015, 15.05980015, 40.05979919])\n",
      "Atoms(symbols='CH67N171Si131', pbc=True, cell=[15.05980015, 15.05980015, 40.05979919])\n",
      "Atoms(symbols='C2H73ArFN171Si131', pbc=True, cell=[15.05980015, 15.05980015, 40.05979919])\n",
      "Atoms(symbols='CH70FN171Si131', pbc=True, cell=[15.05980015, 15.05980015, 40.05979919])\n",
      "Atoms(symbols='CH69ArN171Si131', pbc=True, cell=[15.05980015, 15.05980015, 40.05979919])\n",
      "Atoms(symbols='C3H72F4N170Si131', pbc=True, cell=[15.05980015, 15.05980015, 40.05979919])\n",
      "Atoms(symbols='CH69N171Si131', pbc=True, cell=[15.05980015, 15.05980015, 40.05979919])\n",
      "Atoms(symbols='C3H74ArFN171Si131', pbc=True, cell=[15.05980015, 15.05980015, 40.05979919])\n",
      "Atoms(symbols='C2H69N170Si131', pbc=True, cell=[15.05980015, 15.05980015, 40.05979919])\n",
      "Atoms(symbols='CH69F2N170Si131', pbc=True, cell=[15.05980015, 15.05980015, 40.05979919])\n",
      "Atoms(symbols='C3H76F4N171Si131', pbc=True, cell=[15.05980015, 15.05980015, 40.05979919])\n",
      "Atoms(symbols='C4H80F5N171Si131', pbc=True, cell=[15.05980015, 15.05980015, 40.05979919])\n",
      "Atoms(symbols='C2H72FN171Si131', pbc=True, cell=[15.05980015, 15.05980015, 40.05979919])\n",
      "Atoms(symbols='CH70FN171Si131', pbc=True, cell=[15.05980015, 15.05980015, 40.05979919])\n",
      "Atoms(symbols='C5H83FN171Si131', pbc=True, cell=[15.05980015, 15.05980015, 40.05979919])\n",
      "Atoms(symbols='H67N171Si131', pbc=True, cell=[15.05980015, 15.05980015, 40.05979919])\n",
      "Atoms(symbols='H67N170Si130', pbc=True, cell=[15.05980015, 15.05980015, 40.05979919])\n",
      "Atoms(symbols='CH70N170Si131', pbc=True, cell=[15.05980015, 15.05980015, 40.05979919])\n",
      "Atoms(symbols='C5H81F3N170Si131', pbc=True, cell=[15.05980015, 15.05980015, 40.05979919])\n",
      "Atoms(symbols='C3H73F2N169Si131', pbc=True, cell=[15.05980015, 15.05980015, 40.05979919])\n",
      "Atoms(symbols='H64N168Si130', pbc=True, cell=[15.05980015, 15.05980015, 40.05979919])\n",
      "Atoms(symbols='CH69N170Si130', pbc=True, cell=[15.05980015, 15.05980015, 40.05979919])\n",
      "Atoms(symbols='H65N169Si131', pbc=True, cell=[15.05980015, 15.05980015, 40.05979919])\n",
      "Atoms(symbols='CH70FN171Si131', pbc=True, cell=[15.05980015, 15.05980015, 40.05979919])\n",
      "Atoms(symbols='C3H76FN171Si131', pbc=True, cell=[15.05980015, 15.05980015, 40.05979919])\n",
      "Atoms(symbols='C3H77F3N171Si131', pbc=True, cell=[15.05980015, 15.05980015, 40.05979919])\n",
      "Atoms(symbols='C3H74ArF3N169Si130', pbc=True, cell=[15.05980015, 15.05980015, 40.05979919])\n",
      "Atoms(symbols='CH68FN170Si131', pbc=True, cell=[15.05980015, 15.05980015, 40.05979919])\n",
      "Atoms(symbols='C2H71FN171Si131', pbc=True, cell=[15.05980015, 15.05980015, 40.05979919])\n",
      "Atoms(symbols='H66N171Si131', pbc=True, cell=[15.05980015, 15.05980015, 40.05979919])\n",
      "Atoms(symbols='C2H72FN170Si131', pbc=True, cell=[15.05980015, 15.05980015, 40.05979919])\n",
      "Atoms(symbols='C4H78F4N170Si131', pbc=True, cell=[15.05980015, 15.05980015, 40.05979919])\n",
      "Atoms(symbols='CH70ArF4N171Si131', pbc=True, cell=[15.05980015, 15.05980015, 40.05979919])\n",
      "Atoms(symbols='CH70N171Si131', pbc=True, cell=[15.05980015, 15.05980015, 40.05979919])\n",
      "Atoms(symbols='CH69N170Si131', pbc=True, cell=[15.05980015, 15.05980015, 40.05979919])\n",
      "Atoms(symbols='H67N171Si131', pbc=True, cell=[15.05980015, 15.05980015, 40.05979919])\n",
      "Atoms(symbols='C4H78ArF3N170Si131', pbc=True, cell=[15.05980015, 15.05980015, 40.05979919])\n",
      "Atoms(symbols='CH69N170Si131', pbc=True, cell=[15.05980015, 15.05980015, 40.05979919])\n",
      "Atoms(symbols='H66ArFN171Si131', pbc=True, cell=[15.05980015, 15.05980015, 40.05979919])\n",
      "Atoms(symbols='C3H75F2N171Si131', pbc=True, cell=[15.05980015, 15.05980015, 40.05979919])\n",
      "Atoms(symbols='C2H72F2N171Si131', pbc=True, cell=[15.05980015, 15.05980015, 40.05979919])\n",
      "Atoms(symbols='C2H73F2N171Si131', pbc=True, cell=[15.05980015, 15.05980015, 40.05979919])\n",
      "Atoms(symbols='CH69FN171Si131', pbc=True, cell=[15.05980015, 15.05980015, 40.05979919])\n",
      "Atoms(symbols='C2H74F2N171Si131', pbc=True, cell=[15.05980015, 15.05980015, 40.05979919])\n",
      "Atoms(symbols='C3H75ArF2N171Si131', pbc=True, cell=[15.05980015, 15.05980015, 40.05979919])\n",
      "Atoms(symbols='CH69F3N171Si131', pbc=True, cell=[15.05980015, 15.05980015, 40.05979919])\n",
      "Atoms(symbols='C2H73F4N170Si131', pbc=True, cell=[15.05980015, 15.05980015, 40.05979919])\n",
      "Atoms(symbols='C2H73FN171Si131', pbc=True, cell=[15.05980015, 15.05980015, 40.05979919])\n",
      "Atoms(symbols='C3H75F2N171Si131', pbc=True, cell=[15.05980015, 15.05980015, 40.05979919])\n",
      "Atoms(symbols='CH67ArF2N170Si131', pbc=True, cell=[15.05980015, 15.05980015, 40.05979919])\n",
      "Atoms(symbols='C2H71N170Si131', pbc=True, cell=[15.05980015, 15.05980015, 40.05979919])\n",
      "Atoms(symbols='C3H76ArF2N171Si131', pbc=True, cell=[15.05980015, 15.05980015, 40.05979919])\n",
      "Atoms(symbols='C2H73ArFN171Si131', pbc=True, cell=[15.05980015, 15.05980015, 40.05979919])\n",
      "Atoms(symbols='C2H74FN171Si131', pbc=True, cell=[15.05980015, 15.05980015, 40.05979919])\n",
      "Atoms(symbols='C2H75F2N171Si131', pbc=True, cell=[15.05980015, 15.05980015, 40.05979919])\n",
      "Atoms(symbols='C2H73F3N171Si131', pbc=True, cell=[15.05980015, 15.05980015, 40.05979919])\n",
      "Atoms(symbols='C6H84F4N171Si131', pbc=True, cell=[15.05980015, 15.05980015, 40.05979919])\n",
      "Atoms(symbols='C2H73F3N171Si131', pbc=True, cell=[15.05980015, 15.05980015, 40.05979919])\n",
      "Atoms(symbols='C4H77F3N169Si130', pbc=True, cell=[15.05980015, 15.05980015, 40.05979919])\n",
      "Atoms(symbols='CH71ArN171Si131', pbc=True, cell=[15.05980015, 15.05980015, 40.05979919])\n",
      "Atoms(symbols='C2H71F2N170Si131', pbc=True, cell=[15.05980015, 15.05980015, 40.05979919])\n",
      "Atoms(symbols='C3H74F4N170Si131', pbc=True, cell=[15.05980015, 15.05980015, 40.05979919])\n",
      "Atoms(symbols='C2H73FN171Si131', pbc=True, cell=[15.05980015, 15.05980015, 40.05979919])\n",
      "Atoms(symbols='CH69FN170Si131', pbc=True, cell=[15.05980015, 15.05980015, 40.05979919])\n",
      "Atoms(symbols='C3H75F3N170Si131', pbc=True, cell=[15.05980015, 15.05980015, 40.05979919])\n",
      "Atoms(symbols='C2H73FN171Si131', pbc=True, cell=[15.05980015, 15.05980015, 40.05979919])\n",
      "Atoms(symbols='CH69FN171Si131', pbc=True, cell=[15.05980015, 15.05980015, 40.05979919])\n",
      "Atoms(symbols='C3H74F3N170Si131', pbc=True, cell=[15.05980015, 15.05980015, 40.05979919])\n",
      "Atoms(symbols='C2H69F2N170Si130', pbc=True, cell=[15.05980015, 15.05980015, 40.05979919])\n",
      "Atoms(symbols='C4H79ArF3N171Si131', pbc=True, cell=[15.05980015, 15.05980015, 40.05979919])\n",
      "Atoms(symbols='CH70ArF2N170Si131', pbc=True, cell=[15.05980015, 15.05980015, 40.05979919])\n",
      "Atoms(symbols='H66FN171Si131', pbc=True, cell=[15.05980015, 15.05980015, 40.05979919])\n",
      "Atoms(symbols='C3H76ArF2N171Si131', pbc=True, cell=[15.05980015, 15.05980015, 40.05979919])\n",
      "Atoms(symbols='C3H77F2N171Si131', pbc=True, cell=[15.05980015, 15.05980015, 40.05979919])\n",
      "Atoms(symbols='C2H73F3N170Si131', pbc=True, cell=[15.05980015, 15.05980015, 40.05979919])\n",
      "Atoms(symbols='C4H80ArF2N171Si131', pbc=True, cell=[15.05980015, 15.05980015, 40.05979919])\n",
      "Atoms(symbols='C3H77F3N171Si131', pbc=True, cell=[15.05980015, 15.05980015, 40.05979919])\n",
      "Atoms(symbols='C2H76N171Si131', pbc=True, cell=[15.05980015, 15.05980015, 40.05979919])\n",
      "Atoms(symbols='C2H72F3N170Si131', pbc=True, cell=[15.05980015, 15.05980015, 40.05979919])\n",
      "Atoms(symbols='C2H72F2N171Si131', pbc=True, cell=[15.05980015, 15.05980015, 40.05979919])\n",
      "Atoms(symbols='C4H80F2N171Si131', pbc=True, cell=[15.05980015, 15.05980015, 40.05979919])\n",
      "Atoms(symbols='CH70N171Si131', pbc=True, cell=[15.05980015, 15.05980015, 40.05979919])\n",
      "Atoms(symbols='CH71N171Si131', pbc=True, cell=[15.05980015, 15.05980015, 40.05979919])\n",
      "Atoms(symbols='CH68F3N170Si131', pbc=True, cell=[15.05980015, 15.05980015, 40.05979919])\n",
      "Atoms(symbols='C3H76ArN171Si131', pbc=True, cell=[15.05980015, 15.05980015, 40.05979919])\n",
      "Atoms(symbols='C3H76ArF3N171Si131', pbc=True, cell=[15.05980015, 15.05980015, 40.05979919])\n",
      "Atoms(symbols='CH69N171Si131', pbc=True, cell=[15.05980015, 15.05980015, 40.05979919])\n",
      "Atoms(symbols='H66FN170Si131', pbc=True, cell=[15.05980015, 15.05980015, 40.05979919])\n",
      "Atoms(symbols='CH69ArFN169Si130', pbc=True, cell=[15.05980015, 15.05980015, 40.05979919])\n",
      "Atoms(symbols='C3H71FN169Si131', pbc=True, cell=[15.05980015, 15.05980015, 40.05979919])\n",
      "Atoms(symbols='C2H71N169Si131', pbc=True, cell=[15.05980015, 15.05980015, 40.05979919])\n",
      "Atoms(symbols='C2H72ArF3N171Si131', pbc=True, cell=[15.05980015, 15.05980015, 40.05979919])\n",
      "Atoms(symbols='CH71F2N171Si131', pbc=True, cell=[15.05980015, 15.05980015, 40.05979919])\n",
      "Atoms(symbols='C2H74F3N171Si131', pbc=True, cell=[15.05980015, 15.05980015, 40.05979919])\n",
      "Atoms(symbols='CH69F3N171Si131', pbc=True, cell=[15.05980015, 15.05980015, 40.05979919])\n",
      "Atoms(symbols='C3H72F2N170Si131', pbc=True, cell=[15.05980015, 15.05980015, 40.05979919])\n",
      "Atoms(symbols='H67F2N171Si131', pbc=True, cell=[15.05980015, 15.05980015, 40.05979919])\n",
      "Atoms(symbols='C3H77F3N171Si131', pbc=True, cell=[15.05980015, 15.05980015, 40.05979919])\n",
      "Atoms(symbols='H66N170Si131', pbc=True, cell=[15.05980015, 15.05980015, 40.05979919])\n",
      "Atoms(symbols='CH68FN171Si131', pbc=True, cell=[15.05980015, 15.05980015, 40.05979919])\n",
      "Atoms(symbols='CH69N171Si131', pbc=True, cell=[15.05980015, 15.05980015, 40.05979919])\n",
      "Atoms(symbols='CH70F2N171Si131', pbc=True, cell=[15.05980015, 15.05980015, 40.05979919])\n",
      "Atoms(symbols='C3H73N171Si131', pbc=True, cell=[15.05980015, 15.05980015, 40.05979919])\n",
      "Atoms(symbols='CH70ArN171Si131', pbc=True, cell=[15.05980015, 15.05980015, 40.05979919])\n",
      "Atoms(symbols='C3H74F2N171Si131', pbc=True, cell=[15.05980015, 15.05980015, 40.05979919])\n",
      "Atoms(symbols='C5H82ArF2N170Si131', pbc=True, cell=[15.05980015, 15.05980015, 40.05979919])\n",
      "Atoms(symbols='C5H81F4N171Si131', pbc=True, cell=[15.05980015, 15.05980015, 40.05979919])\n",
      "Atoms(symbols='C3H76F4N170Si131', pbc=True, cell=[15.05980015, 15.05980015, 40.05979919])\n",
      "Atoms(symbols='C3H76FN171Si131', pbc=True, cell=[15.05980015, 15.05980015, 40.05979919])\n",
      "Atoms(symbols='C2H71ArF2N170Si131', pbc=True, cell=[15.05980015, 15.05980015, 40.05979919])\n",
      "Atoms(symbols='C3H77F4N171Si131', pbc=True, cell=[15.05980015, 15.05980015, 40.05979919])\n",
      "Atoms(symbols='C2H71FN170Si131', pbc=True, cell=[15.05980015, 15.05980015, 40.05979919])\n",
      "Atoms(symbols='C2H70F3N170Si131', pbc=True, cell=[15.05980015, 15.05980015, 40.05979919])\n",
      "Atoms(symbols='C2H73F2N171Si131', pbc=True, cell=[15.05980015, 15.05980015, 40.05979919])\n",
      "Atoms(symbols='C3H75FN171Si131', pbc=True, cell=[15.05980015, 15.05980015, 40.05979919])\n",
      "Atoms(symbols='CH69FN171Si131', pbc=True, cell=[15.05980015, 15.05980015, 40.05979919])\n",
      "Atoms(symbols='H67N171Si131', pbc=True, cell=[15.05980015, 15.05980015, 40.05979919])\n",
      "Atoms(symbols='C2H73F2N171Si131', pbc=True, cell=[15.05980015, 15.05980015, 40.05979919])\n",
      "Atoms(symbols='H65FN169Si131', pbc=True, cell=[15.05980015, 15.05980015, 40.05979919])\n",
      "Atoms(symbols='C3H77F2N171Si131', pbc=True, cell=[15.05980015, 15.05980015, 40.05979919])\n",
      "Atoms(symbols='C2H72F2N171Si131', pbc=True, cell=[15.05980015, 15.05980015, 40.05979919])\n",
      "Atoms(symbols='C3H74F3N170Si131', pbc=True, cell=[15.05980015, 15.05980015, 40.05979919])\n",
      "Atoms(symbols='H66ArN171Si131', pbc=True, cell=[15.05980015, 15.05980015, 40.05979919])\n",
      "Atoms(symbols='C4H78F4N171Si131', pbc=True, cell=[15.05980015, 15.05980015, 40.05979919])\n",
      "Atoms(symbols='CH70F2N171Si131', pbc=True, cell=[15.05980015, 15.05980015, 40.05979919])\n",
      "Atoms(symbols='C3H77F2N171Si131', pbc=True, cell=[15.05980015, 15.05980015, 40.05979919])\n",
      "Atoms(symbols='C3H71ArFN170Si131', pbc=True, cell=[15.05980015, 15.05980015, 40.05979919])\n",
      "Atoms(symbols='C2H72F2N171Si131', pbc=True, cell=[15.05980015, 15.05980015, 40.05979919])\n",
      "Atoms(symbols='CH65N170Si130', pbc=True, cell=[15.05980015, 15.05980015, 40.05979919])\n",
      "Atoms(symbols='C2H74N171Si131', pbc=True, cell=[15.05980015, 15.05980015, 40.05979919])\n",
      "Atoms(symbols='C3H79F2N171Si131', pbc=True, cell=[15.05980015, 15.05980015, 40.05979919])\n",
      "Atoms(symbols='C3H76FN171Si131', pbc=True, cell=[15.05980015, 15.05980015, 40.05979919])\n",
      "Atoms(symbols='C3H74F3N171Si131', pbc=True, cell=[15.05980015, 15.05980015, 40.05979919])\n",
      "Atoms(symbols='C4H80F3N170Si131', pbc=True, cell=[15.05980015, 15.05980015, 40.05979919])\n",
      "Atoms(symbols='C2H72FN171Si131', pbc=True, cell=[15.05980015, 15.05980015, 40.05979919])\n",
      "Atoms(symbols='CH69F2N170Si131', pbc=True, cell=[15.05980015, 15.05980015, 40.05979919])\n",
      "Atoms(symbols='C2H74F2N171Si131', pbc=True, cell=[15.05980015, 15.05980015, 40.05979919])\n",
      "Atoms(symbols='CH68F2N169Si130', pbc=True, cell=[15.05980015, 15.05980015, 40.05979919])\n",
      "Atoms(symbols='C4H78F2N171Si131', pbc=True, cell=[15.05980015, 15.05980015, 40.05979919])\n",
      "Atoms(symbols='C2H73FN170Si131', pbc=True, cell=[15.05980015, 15.05980015, 40.05979919])\n",
      "Atoms(symbols='C2H73F2N170Si131', pbc=True, cell=[15.05980015, 15.05980015, 40.05979919])\n",
      "Atoms(symbols='H67N171Si131', pbc=True, cell=[15.05980015, 15.05980015, 40.05979919])\n",
      "Atoms(symbols='CH68F3N171Si131', pbc=True, cell=[15.05980015, 15.05980015, 40.05979919])\n",
      "Atoms(symbols='CH70FN170Si131', pbc=True, cell=[15.05980015, 15.05980015, 40.05979919])\n",
      "Atoms(symbols='CH70FN169Si130', pbc=True, cell=[15.05980015, 15.05980015, 40.05979919])\n",
      "Atoms(symbols='C5H82F5N169Si130', pbc=True, cell=[15.05980015, 15.05980015, 40.05979919])\n",
      "Atoms(symbols='C4H76F3N170Si131', pbc=True, cell=[15.05980015, 15.05980015, 40.05979919])\n",
      "Atoms(symbols='H70N170Si131', pbc=True, cell=[15.05980015, 15.05980015, 40.05979919])\n",
      "Atoms(symbols='C4H76FN170Si130', pbc=True, cell=[15.05980015, 15.05980015, 40.05979919])\n",
      "Atoms(symbols='CH71FN171Si131', pbc=True, cell=[15.05980015, 15.05980015, 40.05979919])\n",
      "Atoms(symbols='CH65F2N168Si131', pbc=True, cell=[15.05980015, 15.05980015, 40.05979919])\n"
     ]
    }
   ],
   "source": [
    "for geom in geometries:\n",
    "    print(geom)"
   ]
  },
  {
   "cell_type": "markdown",
   "metadata": {},
   "source": [
    "### Bond formation"
   ]
  },
  {
   "cell_type": "code",
   "execution_count": 230,
   "metadata": {
    "ExecuteTime": {
     "end_time": "2021-03-08T23:40:53.526295Z",
     "start_time": "2021-03-08T23:40:53.522291Z"
    }
   },
   "outputs": [
    {
     "data": {
      "text/plain": [
       "'4-8'"
      ]
     },
     "execution_count": 230,
     "metadata": {},
     "output_type": "execute_result"
    }
   ],
   "source": [
    "(geometries.index[62])"
   ]
  },
  {
   "cell_type": "code",
   "execution_count": 254,
   "metadata": {
    "ExecuteTime": {
     "end_time": "2021-03-09T23:04:31.244397Z",
     "start_time": "2021-03-09T23:04:30.898564Z"
    }
   },
   "outputs": [
    {
     "name": "stdout",
     "output_type": "stream",
     "text": [
      "170\n"
     ]
    }
   ],
   "source": [
    "datadir = \"../c.15.bomb.in/\" #bare bombardment, v0.13 = 35.0 eV, 0.135 = 37.7 eV, .14 = 40.55 eV\n",
    "geometries = {}\n",
    "name = \"input\"\n",
    "for i in os.listdir(datadir):\n",
    "    if \".gen\" in i:\n",
    "        key = re.search(r\"{}.*(\\d+-\\d+)\".format(name), i)\n",
    "#         print(key if key else i)\n",
    "        if key:\n",
    "            key = key.group(1)\n",
    "#             print(key)\n",
    "            geometries[key] =  gen.read_gen(datadir + i)\n",
    "\n",
    "#subset:\n",
    "# np.random.seed(429)\n",
    "# choices = np.random.choice(list(geometries.keys()), size = 10)\n",
    "# geometries = {choice: geometries[choice] for choice in choices}\n",
    "\n",
    "# for key, value in geometries.items():\n",
    "#     geometries[key] = value[[atom.position[2] > zcut for atom in value]]\n",
    "geometries = pd.Series(geometries)\n",
    "print(len(geometries))"
   ]
  },
  {
   "cell_type": "code",
   "execution_count": 226,
   "metadata": {
    "ExecuteTime": {
     "end_time": "2021-03-08T23:39:50.159557Z",
     "start_time": "2021-03-08T23:39:49.676898Z"
    }
   },
   "outputs": [],
   "source": [
    "view([struct for struct in geometries])"
   ]
  },
  {
   "cell_type": "code",
   "execution_count": 231,
   "metadata": {
    "ExecuteTime": {
     "end_time": "2021-03-08T23:41:07.679279Z",
     "start_time": "2021-03-08T23:41:07.663319Z"
    }
   },
   "outputs": [],
   "source": [
    "view(geometries['4-8'])"
   ]
  },
  {
   "cell_type": "code",
   "execution_count": 255,
   "metadata": {
    "ExecuteTime": {
     "end_time": "2021-03-09T23:05:03.083420Z",
     "start_time": "2021-03-09T23:04:33.652616Z"
    }
   },
   "outputs": [],
   "source": [
    "analyses = {key: Analysis(item) for key, item in geometries.items()}\n",
    "analyses = pd.Series(analyses)"
   ]
  },
  {
   "cell_type": "code",
   "execution_count": 256,
   "metadata": {
    "ExecuteTime": {
     "end_time": "2021-03-09T23:10:25.320866Z",
     "start_time": "2021-03-09T23:05:03.085242Z"
    }
   },
   "outputs": [],
   "source": [
    "fragmentLists = []\n",
    "for struct in geometries:\n",
    "    adjmat = Analysis(struct).adjacency_matrix[0]\n",
    "    numnodes = adjmat.shape[0]\n",
    "    g = Graph(numnodes)\n",
    "    for i in range(numnodes):\n",
    "        for j in range(numnodes):\n",
    "            if adjmat[i,j]:\n",
    "                g.addEdge(i,j)\n",
    "    cc = g.connectedComponents()\n",
    "    isSmallgraph = np.array([len(i) for i in cc]) < 10\n",
    "    smallgraphs = []\n",
    "    for i, subgraph in enumerate(cc):\n",
    "        if isSmallgraph[i]:\n",
    "            smallgraphs += [struct[[atom.index for atom in struct if atom.index in subgraph]]]\n",
    "    fragmentLists += [smallgraphs]\n",
    "\n",
    "\n"
   ]
  },
  {
   "cell_type": "code",
   "execution_count": 257,
   "metadata": {
    "ExecuteTime": {
     "end_time": "2021-03-09T23:10:25.400063Z",
     "start_time": "2021-03-09T23:10:25.322679Z"
    }
   },
   "outputs": [
    {
     "data": {
      "text/html": [
       "<div>\n",
       "<style scoped>\n",
       "    .dataframe tbody tr th:only-of-type {\n",
       "        vertical-align: middle;\n",
       "    }\n",
       "\n",
       "    .dataframe tbody tr th {\n",
       "        vertical-align: top;\n",
       "    }\n",
       "\n",
       "    .dataframe thead th {\n",
       "        text-align: right;\n",
       "    }\n",
       "</style>\n",
       "<table border=\"1\" class=\"dataframe\">\n",
       "  <thead>\n",
       "    <tr style=\"text-align: right;\">\n",
       "      <th></th>\n",
       "      <th>Ar</th>\n",
       "      <th>C2</th>\n",
       "      <th>C3</th>\n",
       "      <th>C4</th>\n",
       "      <th>C5</th>\n",
       "      <th>CSi</th>\n",
       "    </tr>\n",
       "  </thead>\n",
       "  <tbody>\n",
       "    <tr>\n",
       "      <th>4-5</th>\n",
       "      <td>1</td>\n",
       "      <td>0</td>\n",
       "      <td>0</td>\n",
       "      <td>0</td>\n",
       "      <td>0</td>\n",
       "      <td>0</td>\n",
       "    </tr>\n",
       "    <tr>\n",
       "      <th>5-16</th>\n",
       "      <td>1</td>\n",
       "      <td>1</td>\n",
       "      <td>0</td>\n",
       "      <td>0</td>\n",
       "      <td>0</td>\n",
       "      <td>0</td>\n",
       "    </tr>\n",
       "    <tr>\n",
       "      <th>4-10</th>\n",
       "      <td>1</td>\n",
       "      <td>1</td>\n",
       "      <td>0</td>\n",
       "      <td>0</td>\n",
       "      <td>0</td>\n",
       "      <td>0</td>\n",
       "    </tr>\n",
       "    <tr>\n",
       "      <th>3-11</th>\n",
       "      <td>1</td>\n",
       "      <td>0</td>\n",
       "      <td>0</td>\n",
       "      <td>0</td>\n",
       "      <td>0</td>\n",
       "      <td>0</td>\n",
       "    </tr>\n",
       "    <tr>\n",
       "      <th>2-4</th>\n",
       "      <td>1</td>\n",
       "      <td>0</td>\n",
       "      <td>0</td>\n",
       "      <td>0</td>\n",
       "      <td>0</td>\n",
       "      <td>0</td>\n",
       "    </tr>\n",
       "    <tr>\n",
       "      <th>...</th>\n",
       "      <td>...</td>\n",
       "      <td>...</td>\n",
       "      <td>...</td>\n",
       "      <td>...</td>\n",
       "      <td>...</td>\n",
       "      <td>...</td>\n",
       "    </tr>\n",
       "    <tr>\n",
       "      <th>1-10</th>\n",
       "      <td>1</td>\n",
       "      <td>1</td>\n",
       "      <td>0</td>\n",
       "      <td>0</td>\n",
       "      <td>0</td>\n",
       "      <td>0</td>\n",
       "    </tr>\n",
       "    <tr>\n",
       "      <th>0-1</th>\n",
       "      <td>1</td>\n",
       "      <td>1</td>\n",
       "      <td>0</td>\n",
       "      <td>0</td>\n",
       "      <td>0</td>\n",
       "      <td>0</td>\n",
       "    </tr>\n",
       "    <tr>\n",
       "      <th>1-9</th>\n",
       "      <td>1</td>\n",
       "      <td>0</td>\n",
       "      <td>0</td>\n",
       "      <td>0</td>\n",
       "      <td>0</td>\n",
       "      <td>0</td>\n",
       "    </tr>\n",
       "    <tr>\n",
       "      <th>4-7</th>\n",
       "      <td>1</td>\n",
       "      <td>0</td>\n",
       "      <td>0</td>\n",
       "      <td>0</td>\n",
       "      <td>0</td>\n",
       "      <td>0</td>\n",
       "    </tr>\n",
       "    <tr>\n",
       "      <th>9-3</th>\n",
       "      <td>1</td>\n",
       "      <td>1</td>\n",
       "      <td>0</td>\n",
       "      <td>0</td>\n",
       "      <td>0</td>\n",
       "      <td>0</td>\n",
       "    </tr>\n",
       "  </tbody>\n",
       "</table>\n",
       "<p>170 rows × 6 columns</p>\n",
       "</div>"
      ],
      "text/plain": [
       "      Ar  C2  C3  C4  C5  CSi\n",
       "4-5    1   0   0   0   0    0\n",
       "5-16   1   1   0   0   0    0\n",
       "4-10   1   1   0   0   0    0\n",
       "3-11   1   0   0   0   0    0\n",
       "2-4    1   0   0   0   0    0\n",
       "...   ..  ..  ..  ..  ..  ...\n",
       "1-10   1   1   0   0   0    0\n",
       "0-1    1   1   0   0   0    0\n",
       "1-9    1   0   0   0   0    0\n",
       "4-7    1   0   0   0   0    0\n",
       "9-3    1   1   0   0   0    0\n",
       "\n",
       "[170 rows x 6 columns]"
      ]
     },
     "execution_count": 257,
     "metadata": {},
     "output_type": "execute_result"
    }
   ],
   "source": [
    "flatten = lambda t: [item for sublist in t for item in sublist]\n",
    "fragmentTypes = np.unique([i.symbols.get_chemical_formula() for i in flatten(fragmentLists)])\n",
    "fragdict = {i:j for i, j in zip(geometries.keys(), fragmentLists)}\n",
    "\n",
    "fragmentData = pd.DataFrame({key: [0] * len(geometries) for key in fragmentTypes})\n",
    "\n",
    "fragmentData.index = fragdict.keys()\n",
    "\n",
    "for key, fragmentList in fragdict.items():\n",
    "    for fragment in fragmentList:\n",
    "        _symbol = fragment.symbols.get_chemical_formula()\n",
    "        fragmentData[_symbol].loc[key] += 1\n",
    "fragmentData.to_csv(datadir + \"fragdata.csv\")\n",
    "        \n",
    "            \n",
    "            \n",
    "\n",
    "fragmentData"
   ]
  },
  {
   "cell_type": "markdown",
   "metadata": {},
   "source": [
    "View specific fragment "
   ]
  },
  {
   "cell_type": "code",
   "execution_count": 250,
   "metadata": {
    "ExecuteTime": {
     "end_time": "2021-03-09T23:00:51.204633Z",
     "start_time": "2021-03-09T23:00:51.142376Z"
    }
   },
   "outputs": [],
   "source": [
    "fragmentname = 'CSi'\n",
    "tempgeoms = [i.copy() for i in geometries.iloc[[i > 0 for i in fragmentData[fragmentname]]]]\n",
    "[i.wrap() for i in tempgeoms]\n",
    "view(tempgeoms)"
   ]
  },
  {
   "cell_type": "code",
   "execution_count": 245,
   "metadata": {
    "ExecuteTime": {
     "end_time": "2021-03-09T20:31:14.838858Z",
     "start_time": "2021-03-09T20:31:14.829720Z"
    }
   },
   "outputs": [
    {
     "data": {
      "text/plain": [
       "Ar       169\n",
       "C          1\n",
       "C2       152\n",
       "C3         3\n",
       "C3Si       1\n",
       "C4        11\n",
       "C4NSi      1\n",
       "C5         1\n",
       "CN         3\n",
       "CSi        4\n",
       "H         10\n",
       "H2N        1\n",
       "HN         1\n",
       "HNSi       2\n",
       "N          5\n",
       "NSi        2\n",
       "dtype: int64"
      ]
     },
     "execution_count": 245,
     "metadata": {},
     "output_type": "execute_result"
    }
   ],
   "source": [
    "fragmentData.sum(axis = 0)"
   ]
  },
  {
   "cell_type": "code",
   "execution_count": 88,
   "metadata": {
    "ExecuteTime": {
     "end_time": "2021-02-03T03:23:35.689563Z",
     "start_time": "2021-02-03T03:23:35.668784Z"
    }
   },
   "outputs": [
    {
     "data": {
      "text/plain": [
       "[[(319, 370)]]"
      ]
     },
     "execution_count": 88,
     "metadata": {},
     "output_type": "execute_result"
    }
   ],
   "source": [
    "analyses['0-0'].get_bonds(e1,e2)"
   ]
  },
  {
   "cell_type": "code",
   "execution_count": 251,
   "metadata": {
    "ExecuteTime": {
     "end_time": "2021-03-09T23:01:53.086569Z",
     "start_time": "2021-03-09T23:01:53.071885Z"
    }
   },
   "outputs": [
    {
     "data": {
      "text/plain": [
       "array([ 6,  8,  8,  9,  9,  9,  6,  9,  6,  9,  9,  6,  9,  8,  9,  9,  9,\n",
       "        8,  9,  8,  6,  9,  7, 12,  8,  8,  8,  7,  8,  8,  7,  7, 10,  6,\n",
       "        7,  9,  7,  8,  8, 11, 10,  6,  7,  6,  6,  8, 10,  7,  6,  8,  8,\n",
       "       11, 13,  7,  7,  7, 11,  6,  8,  8,  7,  6,  6,  8,  7,  8,  8,  9,\n",
       "        6,  9,  8,  7,  8,  9,  8,  8,  8,  9,  8,  8,  7,  8, 11,  6,  8,\n",
       "       10,  9,  6,  7,  8,  8,  8,  7,  6, 10,  6,  8,  9,  9,  8,  8,  6,\n",
       "        8,  7, 10,  7,  7,  6,  8,  7,  9,  7, 10,  8,  7,  8,  9,  7,  9,\n",
       "        8,  7,  8,  8,  6,  6,  7,  7,  8,  6,  7,  5,  8,  8,  6, 11,  8,\n",
       "        7,  9,  6,  8,  7, 10,  8,  9,  7,  8,  7,  6,  8,  9,  8,  9,  5,\n",
       "        6,  7,  7,  7,  9, 10,  8,  9,  7,  8,  8,  8,  6,  7,  7,  8,  8])"
      ]
     },
     "execution_count": 251,
     "metadata": {},
     "output_type": "execute_result"
    }
   ],
   "source": []
  },
  {
   "cell_type": "code",
   "execution_count": 258,
   "metadata": {
    "ExecuteTime": {
     "end_time": "2021-03-09T23:10:51.996431Z",
     "start_time": "2021-03-09T23:10:25.401955Z"
    },
    "scrolled": false
   },
   "outputs": [
    {
     "name": "stdout",
     "output_type": "stream",
     "text": [
      "average number of final C-C bonds = 8.117647058823529\n"
     ]
    },
    {
     "data": {
      "image/png": "[encoded data removed]",
      "text/plain": [
       "<Figure size 432x288 with 1 Axes>"
      ]
     },
     "metadata": {
      "needs_background": "light"
     },
     "output_type": "display_data"
    }
   ],
   "source": [
    "totalbonds = []\n",
    "bondcounts = {}\n",
    "e1 = \"C\"\n",
    "e2 = \"C\"\n",
    "form = False\n",
    "for key, analysis in analyses.items(): \n",
    "    try:\n",
    "        totalbonds += [len(analysis.get_bonds(e1, e2, unique = True)[0])]\n",
    "        bondcounts[key] =  len(analysis.get_bonds(e1, e2, unique = True)[0])\n",
    "    except:\n",
    "        print('error on {}'.format(key))\n",
    "totalbonds = np.array(totalbonds)\n",
    "if form:\n",
    "    print('percent runs with {}-{} bond formation = {}'.format(e1, e2, np.sum(totalbonds > 0)/170))\n",
    "else:\n",
    "    print('average number of final {}-{} bonds = {}'.format(e1, e2, np.sum(totalbonds)/170))\n",
    "# plt.hist(totalbonds, bins = np.arange(0, np.max(totalbonds) + 1))\n",
    "plt.hist(totalbonds, bins = np.arange(5, 14))\n",
    "if form:\n",
    "    plt.title('distribution of # of {}-{} bonds formed'.format(e1, e2));\n",
    "else:\n",
    "    plt.title('distribution of # of {}-{} bonds count'.format(e1, e2));"
   ]
  },
  {
   "cell_type": "code",
   "execution_count": 259,
   "metadata": {
    "ExecuteTime": {
     "end_time": "2021-03-09T23:11:38.589342Z",
     "start_time": "2021-03-09T23:10:51.998260Z"
    }
   },
   "outputs": [],
   "source": [
    "from itertools import combinations\n",
    "elems = [\"Si\", \"F\", \"N\", \"C\", \"H\", \"Ar\"]\n",
    "\n",
    "result = {}\n",
    "for e1, e2 in combinations(elems, 2):\n",
    "    bondcounts = {}\n",
    "    for key, analysis in analyses.items(): \n",
    "        bondcounts[key] =  len(analysis.get_bonds(e1, e2, unique = True)[0])\n",
    "    bondcounts = pd.Series(bondcounts)\n",
    "    result[\"{}-{}\".format(e1, e2)] = bondcounts\n"
   ]
  },
  {
   "cell_type": "code",
   "execution_count": 260,
   "metadata": {
    "ExecuteTime": {
     "end_time": "2021-03-09T23:11:38.598623Z",
     "start_time": "2021-03-09T23:11:38.590530Z"
    }
   },
   "outputs": [],
   "source": [
    "pd.DataFrame(result).to_csv(datadir+\"bondcounts.csv\")"
   ]
  },
  {
   "cell_type": "code",
   "execution_count": 105,
   "metadata": {
    "ExecuteTime": {
     "end_time": "2020-12-16T22:47:33.958825Z",
     "start_time": "2020-12-16T22:47:33.469847Z"
    }
   },
   "outputs": [
    {
     "data": {
      "text/plain": [
       "20"
      ]
     },
     "execution_count": 105,
     "metadata": {},
     "output_type": "execute_result"
    }
   ],
   "source": [
    "len(Analysis(gen.read_gen(\"../bomb_inputs/input0-0.gen\"))\\\n",
    "    .get_bonds(\"C\", \"F\", unique = True)[0])"
   ]
  },
  {
   "cell_type": "markdown",
   "metadata": {},
   "source": [
    "## xyz to POSCAR"
   ]
  },
  {
   "cell_type": "code",
   "execution_count": 18,
   "metadata": {
    "ExecuteTime": {
     "end_time": "2020-12-02T00:26:21.192543Z",
     "start_time": "2020-12-02T00:26:21.152130Z"
    },
    "scrolled": true
   },
   "outputs": [
    {
     "data": {
      "text/html": [
       "<div>\n",
       "<style scoped>\n",
       "    .dataframe tbody tr th:only-of-type {\n",
       "        vertical-align: middle;\n",
       "    }\n",
       "\n",
       "    .dataframe tbody tr th {\n",
       "        vertical-align: top;\n",
       "    }\n",
       "\n",
       "    .dataframe thead th {\n",
       "        text-align: right;\n",
       "    }\n",
       "</style>\n",
       "<table border=\"1\" class=\"dataframe\">\n",
       "  <thead>\n",
       "    <tr style=\"text-align: right;\">\n",
       "      <th></th>\n",
       "      <th>0</th>\n",
       "    </tr>\n",
       "  </thead>\n",
       "  <tbody>\n",
       "    <tr>\n",
       "      <th>0</th>\n",
       "      <td>-7.9332</td>\n",
       "    </tr>\n",
       "    <tr>\n",
       "      <th>1</th>\n",
       "      <td>-6.1905</td>\n",
       "    </tr>\n",
       "    <tr>\n",
       "      <th>2</th>\n",
       "      <td>-6.8660</td>\n",
       "    </tr>\n",
       "    <tr>\n",
       "      <th>3</th>\n",
       "      <td>-5.1233</td>\n",
       "    </tr>\n",
       "    <tr>\n",
       "      <th>4</th>\n",
       "      <td>-6.9211</td>\n",
       "    </tr>\n",
       "    <tr>\n",
       "      <th>5</th>\n",
       "      <td>-5.1784</td>\n",
       "    </tr>\n",
       "  </tbody>\n",
       "</table>\n",
       "</div>"
      ],
      "text/plain": [
       "        0\n",
       "0 -7.9332\n",
       "1 -6.1905\n",
       "2 -6.8660\n",
       "3 -5.1233\n",
       "4 -6.9211\n",
       "5 -5.1784"
      ]
     },
     "execution_count": 18,
     "metadata": {},
     "output_type": "execute_result"
    }
   ],
   "source": [
    "temp = pd.read_clipboard(header = None)\n",
    "temp"
   ]
  },
  {
   "cell_type": "code",
   "execution_count": 22,
   "metadata": {
    "ExecuteTime": {
     "end_time": "2020-12-02T00:27:33.837468Z",
     "start_time": "2020-12-02T00:27:33.675710Z"
    }
   },
   "outputs": [
    {
     "data": {
      "text/plain": [
       "<matplotlib.legend.Legend at 0x7f9ac7fead50>"
      ]
     },
     "execution_count": 22,
     "metadata": {},
     "output_type": "execute_result"
    },
    {
     "data": {
      "image/png": "[encoded data removed]",
      "text/plain": [
       "<Figure size 432x288 with 1 Axes>"
      ]
     },
     "metadata": {
      "needs_background": "light"
     },
     "output_type": "display_data"
    }
   ],
   "source": [
    "plt.plot(np.arange(3), temp[::2], label = 'F*')\n",
    "plt.plot(np.arange(3), temp[1::2], label = '1/2 F2')\n",
    "plt.legend()"
   ]
  },
  {
   "cell_type": "code",
   "execution_count": 15,
   "metadata": {
    "ExecuteTime": {
     "end_time": "2020-12-01T11:42:22.015284Z",
     "start_time": "2020-12-01T11:42:21.988674Z"
    }
   },
   "outputs": [],
   "source": [
    "s = xyz.read_xyz(\"../output.xyz\")\n",
    "s = list(s)[0]\n",
    "# s.euler_rotate(45, 0, 0, center = 'COM')\n",
    "s.translate([10, 10, 10])\n",
    "s.cell = [20,20,20]\n",
    "view(s)\n",
    "vasp.write_vasp(\"../POSCAR\", s, direct = True, sort=True, vasp5=True)\n",
    "# s.edit()"
   ]
  },
  {
   "cell_type": "code",
   "execution_count": null,
   "metadata": {
    "ExecuteTime": {
     "end_time": "2020-11-17T20:53:39.665952Z",
     "start_time": "2020-11-17T20:53:37.428Z"
    }
   },
   "outputs": [],
   "source": [
    "P = np.array([\n",
    "    [1, 0, 0],\n",
    "    [0, 2, 0],\n",
    "    [0, 0, 1]\n",
    "])\n",
    "supercell = make_supercell(s, P)\n",
    "view(supercell)\n",
    "# supercell.edit()"
   ]
  },
  {
   "cell_type": "markdown",
   "metadata": {
    "heading_collapsed": true
   },
   "source": [
    "## Basic optimization"
   ]
  },
  {
   "cell_type": "code",
   "execution_count": null,
   "metadata": {
    "ExecuteTime": {
     "end_time": "2020-11-17T20:53:39.668903Z",
     "start_time": "2020-11-17T20:53:37.438Z"
    },
    "hidden": true
   },
   "outputs": [],
   "source": [
    "from ase.build import molecule\n",
    "from ase.calculators.emt import EMT\n",
    "from ase.optimize.fire import FIRE as QuasiNewton\n",
    "\n",
    "# Optimise molecule\n",
    "initial = molecule('C2H6')\n",
    "initial.set_calculator(EMT())\n",
    "relax = QuasiNewton(initial)\n",
    "relax.run(fmax=0.05)\n",
    "\n",
    "initial.cell = xtl_n.cell\n",
    "\n",
    "vasp.write_vasp(\"../POSCAR_ethane\", initial, vasp5= True)\n",
    "\n",
    "view(initial)"
   ]
  },
  {
   "cell_type": "markdown",
   "metadata": {},
   "source": [
    "## Gridding"
   ]
  },
  {
   "cell_type": "markdown",
   "metadata": {},
   "source": [
    "### DFTB"
   ]
  },
  {
   "cell_type": "markdown",
   "metadata": {},
   "source": [
    "#### Random gridding"
   ]
  },
  {
   "cell_type": "code",
   "execution_count": 101,
   "metadata": {
    "ExecuteTime": {
     "end_time": "2021-02-27T03:41:20.652477Z",
     "start_time": "2021-02-27T03:41:20.494309Z"
    }
   },
   "outputs": [],
   "source": [
    "from ase.build import add_vacuum\n",
    "# ref = gen.read_gen(\"../16bomb_slabs/input8-7.gen\")\n",
    "# ref = gen.read_gen(\"../16bomb_slabs/input4-15.gen\")\n",
    "# ref = gen.read_gen(\"../16bomb_slabs/input1-11.gen\")\n",
    "# ref = gen.read_gen(\"../16bomb_slabs/input5-4.gen\")\n",
    "ref = gen.read_gen(\"../input.gen\")\n",
    "# ref = gen.read_gen(\"../bomb16_results/output0-0.gen\")\n",
    "# ref = gen.read_gen(\"../cf4bomb_slabs/input8-7.gen\")\n",
    "# ref = ref[:-1]\n",
    "ref.wrap()\n",
    "# ref = vasp.read_vasp(\"../CONTCAR\")\n",
    "# ref.constraints = FixAtoms(np.arange(80))\n",
    "# add_vacuum(ref, 15)\n",
    "del ref[[atom.index for atom in ref if atom.symbol in ['Ar']]]\n",
    "view(ref)\n",
    "\n",
    "# ref.edit()"
   ]
  },
  {
   "cell_type": "code",
   "execution_count": 44,
   "metadata": {
    "ExecuteTime": {
     "end_time": "2020-12-18T04:24:20.660817Z",
     "start_time": "2020-12-18T04:24:20.642778Z"
    }
   },
   "outputs": [],
   "source": [
    "vasp.write_vasp(\"../POSCAR\", ref, sort = True, vasp5 = True)"
   ]
  },
  {
   "cell_type": "markdown",
   "metadata": {},
   "source": [
    "Add adsorbate"
   ]
  },
  {
   "cell_type": "code",
   "execution_count": 45,
   "metadata": {
    "ExecuteTime": {
     "end_time": "2020-12-18T04:24:21.395150Z",
     "start_time": "2020-12-18T04:24:21.392774Z"
    }
   },
   "outputs": [],
   "source": [
    "refPosition = [8.9, 5.58]"
   ]
  },
  {
   "cell_type": "code",
   "execution_count": 126,
   "metadata": {
    "ExecuteTime": {
     "end_time": "2021-02-04T07:52:31.068913Z",
     "start_time": "2021-02-04T07:52:31.065051Z"
    }
   },
   "outputs": [],
   "source": [
    "mef = (vasp.read_vasp(('reference_files/CONTCAR_mef')))"
   ]
  },
  {
   "cell_type": "code",
   "execution_count": 147,
   "metadata": {
    "ExecuteTime": {
     "end_time": "2021-02-27T04:28:11.692397Z",
     "start_time": "2021-02-27T04:28:11.687042Z"
    }
   },
   "outputs": [
    {
     "data": {
      "text/plain": [
       "(3, 100)"
      ]
     },
     "execution_count": 147,
     "metadata": {},
     "output_type": "execute_result"
    }
   ],
   "source": [
    "points.shape"
   ]
  },
  {
   "cell_type": "code",
   "execution_count": 150,
   "metadata": {
    "ExecuteTime": {
     "end_time": "2021-02-27T04:29:35.121593Z",
     "start_time": "2021-02-27T04:29:35.109770Z"
    }
   },
   "outputs": [
    {
     "data": {
      "text/plain": [
       "array([[ 6.69324451,  5.01993338,  0.        ],\n",
       "       [ 0.        ,  6.69324451,  0.        ],\n",
       "       [11.71317789, 13.38648902,  0.        ],\n",
       "       [ 1.67331113,  8.36655564,  0.        ],\n",
       "       [ 3.34662226, 10.03986677,  0.        ],\n",
       "       [10.03986677,  8.36655564,  0.        ],\n",
       "       [ 3.34662226,  0.        ,  0.        ],\n",
       "       [ 1.67331113,  1.67331113,  0.        ],\n",
       "       [13.38648902,  6.69324451,  0.        ],\n",
       "       [11.71317789,  3.34662226,  0.        ],\n",
       "       [ 1.67331113,  6.69324451,  0.        ],\n",
       "       [ 6.69324451, 10.03986677,  0.        ],\n",
       "       [15.05980015, 10.03986677,  0.        ],\n",
       "       [13.38648902,  5.01993338,  0.        ],\n",
       "       [ 0.        , 15.05980015,  0.        ],\n",
       "       [ 6.69324451, 13.38648902,  0.        ],\n",
       "       [11.71317789,  0.        ,  0.        ],\n",
       "       [10.03986677, 13.38648902,  0.        ],\n",
       "       [ 8.36655564,  0.        ,  0.        ],\n",
       "       [ 0.        ,  8.36655564,  0.        ]])"
      ]
     },
     "execution_count": 150,
     "metadata": {},
     "output_type": "execute_result"
    }
   ],
   "source": [
    "x, y = np.meshgrid(np.linspace(0, 1, 10), \n",
    "            np.linspace(0, 1, 10)\n",
    "           )\n",
    "x, y = x.reshape(-1), y.reshape(-1)\n",
    "points = np.vstack([x, y])\n",
    "points = np.vstack([x, y, np.zeros(x.shape[0])])\n",
    "choices = np.random.choice(np.arange(points.shape[1]), size = numParticles, replace = False)\n",
    "positions = ref.cell.cartesian_positions(points[:, choices].T)\n",
    "positions"
   ]
  },
  {
   "cell_type": "code",
   "execution_count": 15,
   "metadata": {},
   "outputs": [
    {
     "data": {
      "text/plain": [
       "(0.46382724078667503, 0.6764430976486185)"
      ]
     },
     "execution_count": 15,
     "metadata": {},
     "output_type": "execute_result"
    }
   ],
   "source": [
    "x, y = np.random.random(size = 2)\n",
    "x, y"
   ]
  },
  {
   "cell_type": "code",
   "execution_count": 231,
   "metadata": {
    "ExecuteTime": {
     "end_time": "2021-03-02T23:13:34.392861Z",
     "start_time": "2021-03-02T23:13:33.042056Z"
    },
    "scrolled": true
   },
   "outputs": [],
   "source": [
    "np.random.seed(429)\n",
    "\n",
    "numParticles = 5\n",
    "gridspacing = 8\n",
    "\n",
    "assert numParticles < gridspacing **2 \n",
    "\n",
    "# ref = xtl2x2 \n",
    "num_dirs = 10\n",
    "runs_per_dir = 17 #4 cores per run, 68 cores on st2/ 24 cores on ls5\n",
    "output_dir = \"../inputs/\"\n",
    "i = 0\n",
    "# refz = ref.positions[-1,2]\n",
    "# s = ref.copy()\n",
    "for d in range(num_dirs):\n",
    "    for run in range(runs_per_dir):\n",
    "        s = gen.read_gen(\"\".copy()\n",
    "        x, y = np.meshgrid(np.linspace(0, 1, gridspacing, endpoint = False),\n",
    "                           np.linspace(0, 1, gridspacing, endpoint = False)\n",
    "                          )\n",
    "        x, y = x.reshape((-1)), y.reshape((-1))\n",
    "        points = np.vstack([x,y, np.zeros(x.shape[0])])\n",
    "        choices = np.random.choice(np.arange(points.shape[1]), size = numParticles, replace = False)\n",
    "        positions = ref.cell.cartesian_positions(points[:, choices].T)\n",
    "        \n",
    "        for p in positions:\n",
    "    #         P = np.array([[2, 0, 0],\n",
    "    #                       [0, 1, 0],\n",
    "    #                       [0, 0, 2]\n",
    "    #                      ])\n",
    "    #         supercell = make_supercell(s, P, wrap=False)\n",
    "    #         zcoord = 2\n",
    "    #         offset = 6\n",
    "    #         slabmax = max(s, key = lambda x: x.position[1]).position[1]\n",
    "    #         p = ref.cell.cartesian_positions(np.random.random(3)) #z coord needs dummy var\n",
    "    #         p = np.array(refPosition) + np.random.random(2) * offset - offset/2\n",
    "    #         add_adsorbate(s, 'Ar', height =  6, position = p[:2])\n",
    "            add_adsorbate(s, 'C', height =  1.5, position = p[:2])\n",
    "    #         hf = Atoms(\"HF\", positions = [[0,0,0], [1.0, 0,0 ]])\n",
    "    #         add_adsorbate(s, hf, height =  2, position = p[:2])\n",
    "    #         add_adsorbate(s, mef, height =  2, position = p[:2])\n",
    "    #         nearbyAtoms = [np.linalg.norm(p[::2] - atom.position[::2]) < 1.5 \n",
    "    #                        for atom in supercell] # hacky way of omitting y from list of x, y, z\n",
    "    #         try:\n",
    "    #             sitemax = max(supercell[nearbyAtoms], key = lambda x: x.position[1]).position[1]\n",
    "    #         except:\n",
    "    #             sitemax = max(s, key = lambda x: x.position[1]).position[1]\n",
    "    #         if sitemax > 50:\n",
    "    #             print(p)\n",
    "    #             print('%d-%d' % (d,run))\n",
    "\n",
    "    #         s.append(Atom('Ar', position = (p[0], slabmax + zcoord, p[2])))\n",
    "    #         s.append(Atom('F', position = (p[0], sitemax + zcoord, p[2])))\n",
    "    #         s.append(Atom('F', position = (p[0], sitemax + zcoord + 1.2, p[2])))\n",
    "        gen.write_gen(output_dir + \"input%d-%d.gen\" % (d, run), s)\n",
    "    #         gen.write_gen(output_dir + \"input%d.gen\" % (d * runs_per_dir + run), s)\n",
    "    #         gen.write_gen(output_dir + \"input%d\" % (run + 1), s)\n",
    "    #         i += 1\n",
    "\n",
    "#     vasp.write_vasp(\"../POSCAR\", s, sort = True, vasp5 = True)\n",
    "# view(s)\n",
    "view([gen.read_gen(output_dir + i) for i in os.listdir(output_dir)])"
   ]
  },
  {
   "cell_type": "code",
   "execution_count": 31,
   "metadata": {
    "ExecuteTime": {
     "end_time": "2020-12-06T05:51:39.527612Z",
     "start_time": "2020-12-06T05:51:39.515197Z"
    }
   },
   "outputs": [],
   "source": [
    "ref.constraints = FixAtoms(np.arange(80))\n",
    "view(ref)"
   ]
  },
  {
   "cell_type": "code",
   "execution_count": null,
   "metadata": {
    "ExecuteTime": {
     "end_time": "2020-11-17T20:53:39.680267Z",
     "start_time": "2020-11-17T20:53:37.501Z"
    }
   },
   "outputs": [],
   "source": [
    "len(os.listdir(output_dir))"
   ]
  },
  {
   "cell_type": "code",
   "execution_count": null,
   "metadata": {
    "ExecuteTime": {
     "end_time": "2020-11-17T20:53:39.682410Z",
     "start_time": "2020-11-17T20:53:37.510Z"
    }
   },
   "outputs": [],
   "source": [
    "temp = gen.read_gen('../inputs/input7-3')\n",
    "temp.constraints = FixAtoms(np.arange(32))\n",
    "view(temp)"
   ]
  },
  {
   "cell_type": "markdown",
   "metadata": {},
   "source": [
    "#### Regular gridding\n"
   ]
  },
  {
   "cell_type": "code",
   "execution_count": null,
   "metadata": {
    "ExecuteTime": {
     "end_time": "2020-11-17T20:53:39.683837Z",
     "start_time": "2020-11-17T20:53:37.526Z"
    }
   },
   "outputs": [],
   "source": [
    "view(xtl2x2)"
   ]
  },
  {
   "cell_type": "code",
   "execution_count": 71,
   "metadata": {
    "ExecuteTime": {
     "end_time": "2021-02-02T05:17:02.291941Z",
     "start_time": "2021-02-02T05:17:02.256737Z"
    }
   },
   "outputs": [],
   "source": [
    "# xtl2x2 = gen.read_gen(\"../input.gen\")\n",
    "# outstruct = list(xyz.read_xyz(\"../training/crystal/100K.xyz\"))[0]\n",
    "# outstruct = [i for i in xyz.read_xyz(\"../training/crystal/1000K.xyz\", index = -1)][0]\n",
    "# outstruct = vasp.read_vasp(\"../CONTCAR\")\n",
    "outstruct = gen.read_gen(\"../input.gen\")\n",
    "del outstruct[[atom.index for atom in outstruct if atom.symbol == 'Ar']]\n",
    "# outstruct.cell = xtl2x2.cell\n",
    "# outstruct.cell[2, 2] += 10\n",
    "outstruct.pbc = True\n",
    "order = [atom.index for atom in sorted(outstruct, key = lambda atom: atom.position[2])]\n",
    "\n",
    "tempstruct = Atoms(sorted(outstruct, key = lambda atom: atom.position[2]))\n",
    "del outstruct[[atom.index for atom in outstruct]]\n",
    "outstruct += tempstruct\n",
    "outstruct.constraints = FixAtoms(np.arange(32))\n",
    "# view(outstruct)\n",
    "\n",
    "hf = Atoms(\"HF\", positions=np.array([(0,0,0), (0,0,1)]))\n",
    "numpoints = 5\n",
    "gridpts = np.linspace(0, 1 - 1/numpoints, numpoints)\n",
    "x, y = np.meshgrid(gridpts, gridpts)\n",
    "z = np.zeros(x.shape)\n",
    "coords = list(zip(x.flatten(),y.flatten(),z.flatten()))\n",
    "coords = list(map(outstruct.cell.cartesian_positions, coords))\n",
    "adsorbedStructs= []\n",
    "for xi, yi, zi in coords:\n",
    "#     adsorbedStruct = outstruct.copy() \n",
    "    adsorbedStruct = outstruct\n",
    "    xi += np.random.normal(scale = 0.5)\n",
    "    yi += np.random.normal(scale = 0.5)\n",
    "    add_adsorbate(adsorbedStruct, hf, position = (xi, yi), height = 1 + np.random.normal())\n",
    "#     adsorbedStructs += [adsorbedStruct]\n",
    "    \n",
    "# view(adsorbedStructs)\n",
    "view(outstruct)\n",
    "# vasp.write_vasp(\"../POSCAR\", outstruct, sort = True, vasp5 = True)\n",
    "gen.write_gen(\"../hflayer.gen\", outstruct)\n",
    "# for i, s in enumerate(adsorbedStructs):\n",
    "#     gen.write_gen(\"input%d\" % i, s)\n",
    "#     vasp.write_vasp(\"input%d\"%i, s, sort = True, vasp5= True)"
   ]
  },
  {
   "cell_type": "code",
   "execution_count": 35,
   "metadata": {
    "ExecuteTime": {
     "end_time": "2021-01-04T11:06:28.962949Z",
     "start_time": "2021-01-04T11:06:28.947817Z"
    }
   },
   "outputs": [],
   "source": [
    "view(outstruct)"
   ]
  },
  {
   "cell_type": "markdown",
   "metadata": {
    "heading_collapsed": true
   },
   "source": [
    "### VASP"
   ]
  },
  {
   "cell_type": "code",
   "execution_count": null,
   "metadata": {
    "ExecuteTime": {
     "end_time": "2020-11-17T20:53:39.686663Z",
     "start_time": "2020-11-17T20:53:37.548Z"
    },
    "hidden": true,
    "scrolled": false
   },
   "outputs": [],
   "source": [
    "#for 25 grid pts\n",
    "\n",
    "i = 1\n",
    "for _x in np.arange(0, 1, .2):\n",
    "    for _y in np.arange(0, 1, .2):\n",
    "        s = xtl_si.copy()\n",
    "        x, y, z = xtl_si.cell.cartesian_positions([_x, _y, 0])\n",
    "        add_adsorbate(s, cf4, height = 2, position = (x, y))\n",
    "        s = Atoms(sorted(s, key = lambda x: x.symbol))\n",
    "        s.cell = xtl_si.cell\n",
    "        vasp.write_vasp(\"../POSCAR\" + str(i), s, \n",
    "                        label = 'cf4 on nrich', vasp5=True)\n",
    "        i += 1\n",
    "\n",
    "show_atoms_grid([vasp.read_vasp(\"../POSCAR\" + str(i)) for i in range(1,26)])"
   ]
  },
  {
   "cell_type": "markdown",
   "metadata": {},
   "source": [
    "## Seeding random velocities\n"
   ]
  },
  {
   "cell_type": "code",
   "execution_count": 10,
   "metadata": {
    "ExecuteTime": {
     "end_time": "2021-03-06T21:36:30.750499Z",
     "start_time": "2021-03-06T21:36:30.735013Z"
    }
   },
   "outputs": [
    {
     "data": {
      "text/plain": [
       "6.123233995736766e-17"
      ]
     },
     "execution_count": 10,
     "metadata": {},
     "output_type": "execute_result"
    }
   ],
   "source": [
    "np.cos(-np.pi/2)"
   ]
  },
  {
   "cell_type": "code",
   "execution_count": 6,
   "metadata": {
    "ExecuteTime": {
     "end_time": "2021-03-06T21:00:42.539796Z",
     "start_time": "2021-03-06T21:00:42.533232Z"
    }
   },
   "outputs": [
    {
     "data": {
      "text/plain": [
       "131"
      ]
     },
     "execution_count": 6,
     "metadata": {},
     "output_type": "execute_result"
    }
   ],
   "source": [
    "temp = vasp.read_vasp(\"../CONTCAR\")\n",
    "len(temp)"
   ]
  },
  {
   "cell_type": "code",
   "execution_count": null,
   "metadata": {
    "ExecuteTime": {
     "end_time": "2020-11-17T20:53:39.689346Z",
     "start_time": "2020-11-17T20:53:37.560Z"
    }
   },
   "outputs": [],
   "source": [
    "np.random.seed(429)\n",
    "velodir = \"../velodir/\"\n",
    "for i in os.listdir(velodir):\n",
    "    with open(velodir + i, 'a') as f:\n",
    "        print(f)\n",
    "        f.write(\" \".join(np.array([0, -np.random.randint(100, 200), 0], dtype = str)))"
   ]
  },
  {
   "cell_type": "markdown",
   "metadata": {},
   "source": [
    "## Finding atoms above/below some z coordinate"
   ]
  },
  {
   "cell_type": "markdown",
   "metadata": {
    "heading_collapsed": true
   },
   "source": [
    "### Create dangling bond on each site"
   ]
  },
  {
   "cell_type": "code",
   "execution_count": null,
   "metadata": {
    "ExecuteTime": {
     "end_time": "2020-11-17T20:53:39.690684Z",
     "start_time": "2020-11-17T20:53:37.573Z"
    },
    "hidden": true,
    "scrolled": false
   },
   "outputs": [],
   "source": [
    "src = vasp.read_vasp(\"reference_files/CONTCAR_sirich\") \n",
    "cutoff_elems = ['H']\n",
    "zcutoff = 10\n",
    "cutoff_atoms = [atom for atom in src if \n",
    " atom.symbol in cutoff_elems and atom.position[2] > zcutoff]\n",
    "cutoff_indices = [atom.index for atom in cutoff_atoms]\n",
    "\n",
    "db_structs = [src[[atom.index for atom in src if atom.index!=i]] \n",
    "              for i in cutoff_indices] #remove one H each\n",
    "for atom, struct in zip(cutoff_atoms, db_structs):\n",
    "    x, y, z = atom.position\n",
    "    add_adsorbate(struct, \"Cl\", height = 1, position = (x, y))\n",
    "\n",
    "show_atoms_grid(db_structs)\n",
    "\n",
    "for i, s in enumerate(db_structs, start = 1):\n",
    "    vasp.write_vasp(\"POSCAR_SiCl\" + str(i), s,vasp5=True)"
   ]
  },
  {
   "cell_type": "markdown",
   "metadata": {},
   "source": [
    "### Finding bottom layer"
   ]
  },
  {
   "cell_type": "code",
   "execution_count": 25,
   "metadata": {
    "ExecuteTime": {
     "end_time": "2021-01-19T04:05:30.084086Z",
     "start_time": "2021-01-19T04:05:30.043328Z"
    }
   },
   "outputs": [],
   "source": [
    "# src = gen.read_gen(\"geo_end.gen\")\n",
    "# # src = gen.read_gen(\"../training/bomb0.13/output0-0.gen\")\n",
    "# # src = gen.read_gen(\"../trimmedgeoms/input.gen\")\n",
    "# cutoff_elems = ['Si', 'N', 'H']\n",
    "# zcutoff = 4\n",
    "# cutoff_atoms = [atom for atom in src if \n",
    "#  atom.symbol in cutoff_elems and atom.position[2] < zcutoff]\n",
    "# cutoff_indices = [atom.index for atom in cutoff_atoms]\n",
    "\n",
    "# # db_structs = [src[[atom.index for atom in src if atom.index!=i]] \n",
    "# #               for i in cutoff_indices] #remove one H each\n",
    "\n",
    "# src.constraints = [FixAtoms(indices = cutoff_indices)]\n",
    "# view(src)\n",
    "\n",
    "\n",
    "# gen.write_gen(\"test.gen\", src)\n",
    "# print(np.array(cutoff_indices) + 1)\n",
    "# movedatoms = np.array([atom.index for atom in src if atom.index not in cutoff_indices]) + 1\n",
    "# \" \".join(np.array(movedatoms, dtype = str))\n",
    "\n",
    "\n",
    "src = gen.read_gen(\"../thick_amorphous_bottomterm.gen\")\n",
    "# src = xtl2x2\n",
    "order = [atom.index for atom in sorted(src, key = lambda atom: atom.position[2])]\n",
    "\n",
    "tempstruct = Atoms(sorted(src, key = lambda atom: atom.position[2]))\n",
    "del src[[atom.index for atom in src]]\n",
    "src += tempstruct\n",
    "src.constraints = FixAtoms(np.arange(80))\n",
    "view(src)\n",
    "gen.write_gen(\"../thick_amorphous_bottomterm.gen\", src)"
   ]
  },
  {
   "cell_type": "code",
   "execution_count": null,
   "metadata": {
    "ExecuteTime": {
     "end_time": "2020-11-17T20:53:39.693174Z",
     "start_time": "2020-11-17T20:53:37.592Z"
    }
   },
   "outputs": [],
   "source": [
    "view(xtl2x2)"
   ]
  },
  {
   "cell_type": "code",
   "execution_count": null,
   "metadata": {
    "ExecuteTime": {
     "end_time": "2020-11-17T20:53:39.695000Z",
     "start_time": "2020-11-17T20:53:37.600Z"
    }
   },
   "outputs": [],
   "source": [
    "\" \".join([str(a.index + 1) for a in gen.read_gen(\"../inputs/input1\") if a.position[2] > 3.4])"
   ]
  },
  {
   "cell_type": "code",
   "execution_count": null,
   "metadata": {
    "ExecuteTime": {
     "end_time": "2020-11-17T20:53:39.697187Z",
     "start_time": "2020-11-17T20:53:37.610Z"
    }
   },
   "outputs": [],
   "source": [
    "for i in range(len(src)):\n",
    "    if src[i].symbol == 'F':\n",
    "        src[i].symbol = 'H'\n",
    "view(src)\n",
    "gen.write_gen(\"../input.gen\", src)"
   ]
  },
  {
   "cell_type": "markdown",
   "metadata": {
    "heading_collapsed": true
   },
   "source": [
    "## Editing trajectories"
   ]
  },
  {
   "cell_type": "code",
   "execution_count": null,
   "metadata": {
    "ExecuteTime": {
     "end_time": "2020-11-17T20:53:39.698364Z",
     "start_time": "2020-11-17T20:53:37.619Z"
    },
    "hidden": true
   },
   "outputs": [],
   "source": [
    "temp = gen.read_gen(\"../geom.out.gen\")\n",
    "temp.wrap()\n",
    "xyz.write_xyz(\"../temp.xyz\", temp)"
   ]
  },
  {
   "cell_type": "code",
   "execution_count": null,
   "metadata": {
    "ExecuteTime": {
     "end_time": "2020-11-17T20:53:39.700796Z",
     "start_time": "2020-11-17T20:53:37.628Z"
    },
    "hidden": true
   },
   "outputs": [],
   "source": [
    "for i in range(10):\n",
    "    traj = xyz.read_xyz(\"../movie.xyz\", index = i)\n",
    "    print(next(traj))"
   ]
  },
  {
   "cell_type": "markdown",
   "metadata": {},
   "source": [
    "## File conversion"
   ]
  },
  {
   "cell_type": "markdown",
   "metadata": {},
   "source": [
    "DFTB to VASP"
   ]
  },
  {
   "cell_type": "code",
   "execution_count": 123,
   "metadata": {
    "ExecuteTime": {
     "end_time": "2021-01-05T04:35:36.390705Z",
     "start_time": "2021-01-05T04:35:36.380388Z"
    }
   },
   "outputs": [],
   "source": [
    "temp = gen.read_gen(\"../geom.out.gen\")\n",
    "# s.cell = temp.cell\n",
    "\n",
    "temp.constraints = FixAtoms(np.arange(80))\n",
    "vasp.write_vasp(\"../POSCAR\", temp, label = 'bomb16(0-0)', sort = True, vasp5=True)"
   ]
  },
  {
   "cell_type": "code",
   "execution_count": 124,
   "metadata": {
    "ExecuteTime": {
     "end_time": "2021-01-05T04:35:36.568472Z",
     "start_time": "2021-01-05T04:35:36.551808Z"
    }
   },
   "outputs": [],
   "source": [
    "view(temp)"
   ]
  },
  {
   "cell_type": "markdown",
   "metadata": {},
   "source": [
    "VASP to DFTB"
   ]
  },
  {
   "cell_type": "code",
   "execution_count": 50,
   "metadata": {
    "ExecuteTime": {
     "end_time": "2021-02-09T23:51:36.128971Z",
     "start_time": "2021-02-09T23:51:36.083105Z"
    }
   },
   "outputs": [],
   "source": [
    "temp = vasp.read_vasp(\"../POSCAR\")\n",
    "gen.write_gen(\"../input.gen\", temp)\n",
    "view(gen.read_gen(\"../input.gen\"))"
   ]
  },
  {
   "cell_type": "markdown",
   "metadata": {},
   "source": [
    "XYZ to VASP"
   ]
  },
  {
   "cell_type": "code",
   "execution_count": null,
   "metadata": {
    "ExecuteTime": {
     "end_time": "2020-11-17T20:53:39.706920Z",
     "start_time": "2020-11-17T20:53:37.659Z"
    }
   },
   "outputs": [],
   "source": [
    "temp = list(xyz.read_xyz(\"../GEOMETRY.xyz\"))[0]\n",
    "temp.cell = Cell([[11.29, 0, 0], [0, 11.29, 0], [0, 0, 11.29]])\n",
    "vasp.write_vasp(\"../POSCAR_ec\", temp, sort = True, vasp5=True)"
   ]
  },
  {
   "cell_type": "code",
   "execution_count": null,
   "metadata": {
    "ExecuteTime": {
     "end_time": "2020-11-17T20:53:39.708934Z",
     "start_time": "2020-11-17T20:53:37.668Z"
    }
   },
   "outputs": [],
   "source": [
    "temp.cell"
   ]
  },
  {
   "cell_type": "markdown",
   "metadata": {},
   "source": [
    "VASP (Direct) to VASP (Cartesian)"
   ]
  },
  {
   "cell_type": "code",
   "execution_count": 8,
   "metadata": {
    "ExecuteTime": {
     "end_time": "2020-12-15T11:07:18.664978Z",
     "start_time": "2020-12-15T11:07:18.655737Z"
    }
   },
   "outputs": [],
   "source": [
    "temp = vasp.read_vasp(\"../CONTCAR\")\n",
    "vasp.write_vasp(\"../POSCAR\", temp,sort = True,vasp5=True)"
   ]
  },
  {
   "cell_type": "markdown",
   "metadata": {},
   "source": [
    "## Makin a supercell and maybe shuffling some atoms around etc idk"
   ]
  },
  {
   "cell_type": "code",
   "execution_count": null,
   "metadata": {
    "ExecuteTime": {
     "end_time": "2020-11-17T20:53:39.710544Z",
     "start_time": "2020-11-17T20:53:37.676Z"
    },
    "scrolled": false
   },
   "outputs": [],
   "source": [
    "vasp.write_vasp(\"../POSCAR\", temp, sort = True, vasp5=True)"
   ]
  },
  {
   "cell_type": "code",
   "execution_count": 348,
   "metadata": {
    "ExecuteTime": {
     "end_time": "2021-01-15T23:28:55.234169Z",
     "start_time": "2021-01-15T23:28:55.168355Z"
    }
   },
   "outputs": [
    {
     "name": "stdout",
     "output_type": "stream",
     "text": [
      "216\n"
     ]
    }
   ],
   "source": [
    "tempsource = \"../POSCAR.gen\"\n",
    "# temp = vasp.read_vasp(tempsource) # for vasp\n",
    "temp = gen.read_gen(tempsource) # for gen\n",
    "# temp = list(xyz.read_xyz(tempsource))[0] # for xyz\n",
    "m = 3 \n",
    "P = np.array([[m, 0, 0],\n",
    "              [0, m, 0],\n",
    "              [0, 0, m]\n",
    "             ])\n",
    "s = make_supercell(temp, P)\n",
    "\n",
    "deletestuff = False\n",
    "\n",
    "# deletion operations go here\n",
    "if deletestuff:\n",
    "    atomstoremove = [70, 71, 72, 73, 74,\n",
    "                     145, 146, 147, 148, 149,\n",
    "                     295, 296, 297, 297, 298, 299\n",
    "                     , 220, 221, 222, 223, 224 #uncomment to get bare surface\n",
    "                    ]\n",
    "    del s[[atom.index for atom in s if atom.index in atomstoremove]]\n",
    "    \n",
    "\n",
    "# for sorting:\n",
    "outstruct = s\n",
    "order = [atom.index for atom in sorted(outstruct, key = lambda atom: atom.position[2])]\n",
    "\n",
    "tempstruct = Atoms(sorted(outstruct, key = lambda atom: atom.position[2]))\n",
    "del outstruct[[atom.index for atom in outstruct]]\n",
    "outstruct += tempstruct\n",
    "s = outstruct\n",
    "    \n",
    "    \n",
    "gen.write_gen(tempsource + \"%dx%dcell.gen\" % (m, m), s)\n",
    "temp = s\n",
    "# temp.constraints = FixAtoms(np.arange(72))\n",
    "\n",
    "#if cell modification/addition is needed\n",
    "# temp.cell = gen.read_gen(\"../geom.out.gen\").cell * np.array([1.5, 1.5, 1])\n",
    "# temp.pbc = True\n",
    "\n",
    "print(len(temp))\n",
    "view(temp)\n",
    "gen.write_gen(\"../input.gen\", temp)"
   ]
  },
  {
   "cell_type": "code",
   "execution_count": null,
   "metadata": {
    "ExecuteTime": {
     "end_time": "2020-11-17T20:53:39.713190Z",
     "start_time": "2020-11-17T20:53:37.692Z"
    }
   },
   "outputs": [],
   "source": [
    "view(gen.read_gen(\"../input.gen\"))"
   ]
  },
  {
   "cell_type": "code",
   "execution_count": null,
   "metadata": {
    "ExecuteTime": {
     "end_time": "2020-11-17T20:53:39.714584Z",
     "start_time": "2020-11-17T20:53:37.701Z"
    }
   },
   "outputs": [],
   "source": [
    "KE(.15), KE(.2)"
   ]
  },
  {
   "cell_type": "code",
   "execution_count": null,
   "metadata": {
    "ExecuteTime": {
     "end_time": "2020-11-17T20:53:39.716024Z",
     "start_time": "2020-11-17T20:53:37.710Z"
    }
   },
   "outputs": [],
   "source": [
    "temp.cell"
   ]
  },
  {
   "cell_type": "code",
   "execution_count": null,
   "metadata": {
    "ExecuteTime": {
     "end_time": "2020-11-17T20:53:39.717964Z",
     "start_time": "2020-11-17T20:53:37.720Z"
    }
   },
   "outputs": [],
   "source": [
    "from ase.build import add_vacuum\n",
    "\n",
    "tempsource = \"../harc/SiO2_mp-7000_computed.vasp\"\n",
    "temp = vasp.read_vasp(tempsource)\n",
    "\n",
    "m = 2\n",
    "n = 3\n",
    "P = np.array([[m, 0, 0],\n",
    "              [0, m, 0],\n",
    "              [0, 0, n]\n",
    "             ])\n",
    "s = make_supercell(temp, P)\n",
    "add_vacuum(s, 17)\n",
    "s.translate([0,0, 2])\n",
    "del s[[atom.index for atom in s if atom.symbol == \"O\" and atom.position[2] > 17]]\n",
    "# s.edit()\n",
    "view(s)"
   ]
  },
  {
   "cell_type": "code",
   "execution_count": null,
   "metadata": {
    "ExecuteTime": {
     "end_time": "2020-11-17T20:53:39.721672Z",
     "start_time": "2020-11-17T20:53:37.733Z"
    }
   },
   "outputs": [],
   "source": [
    "temp = gen.read_gen(\"../harc/fterm.gen\")\n",
    "temp.constraints = FixAtoms(indices = [atom.index for atom in temp if atom.position[2] < 3])\n",
    "view(temp)\n",
    "vasp.write_vasp(\"../harc/POSCAR_f\", temp, sort=True, vasp5= True)"
   ]
  },
  {
   "cell_type": "code",
   "execution_count": null,
   "metadata": {
    "ExecuteTime": {
     "end_time": "2020-11-17T20:53:39.723765Z",
     "start_time": "2020-11-17T20:53:37.743Z"
    }
   },
   "outputs": [],
   "source": [
    "from ase.build import add_vacuum\n",
    "\n",
    "tempsource = \"../CONTCAR\"\n",
    "temp = vasp.read_vasp(tempsource)\n",
    "\n",
    "m = 2\n",
    "n = 3\n",
    "P = np.array([[m, 0, 0],\n",
    "              [0, m, 0],\n",
    "              [0, 0, n]\n",
    "             ])\n",
    "s = make_supercell(temp, P)\n",
    "add_vacuum(s, 17)\n",
    "s.translate([0,0, 2])\n",
    "del s[[atom.index for atom in s if atom.symbol == \"O\" and atom.position[2] > 17]]\n",
    "s.edit()"
   ]
  },
  {
   "cell_type": "code",
   "execution_count": null,
   "metadata": {
    "ExecuteTime": {
     "end_time": "2020-11-17T20:53:39.725005Z",
     "start_time": "2020-11-17T20:53:37.752Z"
    }
   },
   "outputs": [],
   "source": [
    "s = gen.read_gen(\"sislab.gen\")\n",
    "s.edit()"
   ]
  },
  {
   "cell_type": "code",
   "execution_count": null,
   "metadata": {
    "ExecuteTime": {
     "end_time": "2020-11-17T20:53:39.726426Z",
     "start_time": "2020-11-17T20:53:37.763Z"
    }
   },
   "outputs": [],
   "source": [
    "calc = Dftb(label='relax', atoms=s,\n",
    "            run_manyDftb_steps=True,\n",
    "            Driver_='ConjugateGradient',\n",
    "            Driver_MaxForceComponent='1E-4',\n",
    "            Driver_MaxSteps=1000,\n",
    "            kpts = (1,1,1),\n",
    "            Hamiltonian_MaxAngularMomentum_='',\n",
    "            Hamiltonian_MaxAngularMomentum_Si='\"p\"',\n",
    "            Hamiltonian_MaxAngularMomentum_H='\"s\"',\n",
    "            Hamiltonian_MaxAngularMomentum_F='\"p\"')\n",
    "\n",
    "\n",
    "s.calc = calc\n",
    "calc.calculate(s)\n",
    "final = gen.read_gen('geo_end.gen')\n",
    "gen.write_gen('test.final.xyz', final)\n",
    "view(s)"
   ]
  },
  {
   "cell_type": "code",
   "execution_count": null,
   "metadata": {
    "ExecuteTime": {
     "end_time": "2020-11-17T20:53:39.727671Z",
     "start_time": "2020-11-17T20:53:37.772Z"
    }
   },
   "outputs": [],
   "source": [
    "temp"
   ]
  },
  {
   "cell_type": "code",
   "execution_count": null,
   "metadata": {
    "ExecuteTime": {
     "end_time": "2020-11-17T20:53:39.729215Z",
     "start_time": "2020-11-17T20:53:37.782Z"
    }
   },
   "outputs": [],
   "source": [
    "from ase.build import add_vacuum\n",
    "# temp = list(xyz.read_xyz(\"../euv/linearabab.xyz\"))[0]\n",
    "temp = gen.read_gen(\"../euv/euvslab.gen\")\n",
    "fixedatoms = [82, 172, 262, 352]\n",
    "temp.constraints = FixAtoms(fixedatoms)\n",
    "view(temp)\n",
    "\" \".join([str(atom.index + 1) for atom in temp if atom.index not in fixedatoms])"
   ]
  },
  {
   "cell_type": "code",
   "execution_count": null,
   "metadata": {
    "ExecuteTime": {
     "end_time": "2020-11-17T20:53:39.730520Z",
     "start_time": "2020-11-17T20:53:37.791Z"
    }
   },
   "outputs": [],
   "source": [
    "1.24 * 10000/3600"
   ]
  },
  {
   "cell_type": "markdown",
   "metadata": {
    "heading_collapsed": true
   },
   "source": [
    "## Miscellaneous molecule generation"
   ]
  },
  {
   "cell_type": "code",
   "execution_count": null,
   "metadata": {
    "ExecuteTime": {
     "end_time": "2020-11-17T20:53:39.731747Z",
     "start_time": "2020-11-17T20:53:37.803Z"
    },
    "hidden": true
   },
   "outputs": [],
   "source": [
    "template = gen.read_gen(\"../input.gen\")\n",
    "del template[[atom.index for atom in template if atom.symbol == \"F\"]]\n",
    "for atom in template:\n",
    "    if atom.symbol == \"C\":\n",
    "        atom.symbol = \"N\"\n",
    "view(template)\n",
    "gen.write_gen(\"../input_isobomb.gen\", template)\n",
    "vasp.write_vasp(\"../POSCAR_isobomb\", template, vasp5= True, sort = True)"
   ]
  },
  {
   "cell_type": "markdown",
   "metadata": {},
   "source": [
    "## Manual editing"
   ]
  },
  {
   "cell_type": "code",
   "execution_count": null,
   "metadata": {
    "ExecuteTime": {
     "end_time": "2020-11-17T20:53:39.733577Z",
     "start_time": "2020-11-17T20:53:37.816Z"
    }
   },
   "outputs": [],
   "source": [
    "temp = gen.read_gen(\"../geom.out.gen\")\n",
    "vasp.write_vasp(\"../POSCAR\", temp, sort = True, vasp5= True)\n",
    "view(temp)\n",
    "# temp.edit()"
   ]
  },
  {
   "cell_type": "markdown",
   "metadata": {},
   "source": [
    "## Angle/bond sweeps"
   ]
  },
  {
   "cell_type": "code",
   "execution_count": 55,
   "metadata": {
    "ExecuteTime": {
     "end_time": "2020-12-07T05:36:25.872602Z",
     "start_time": "2020-12-07T05:36:25.858682Z"
    }
   },
   "outputs": [
    {
     "data": {
      "text/plain": [
       "array([-0.08152338, -0.01430236, -0.9965688 ])"
      ]
     },
     "execution_count": 55,
     "metadata": {},
     "output_type": "execute_result"
    }
   ],
   "source": [
    "x"
   ]
  },
  {
   "cell_type": "code",
   "execution_count": 96,
   "metadata": {
    "ExecuteTime": {
     "end_time": "2020-12-10T23:09:38.139623Z",
     "start_time": "2020-12-10T23:09:37.981402Z"
    }
   },
   "outputs": [],
   "source": [
    "from numpy import cross, eye, dot\n",
    "from scipy.linalg import expm, norm\n",
    "\n",
    "\n",
    "\n",
    "temp = vasp.read_vasp(\"../CONTCAR\") # for si(nh2)_3\n",
    "si = temp[[atom.index for atom in temp if atom.symbol == \"Si\"]][0]\n",
    "ns = temp[[atom.index for atom in temp if atom.symbol == \"N\"]]\n",
    "x1, x2 = n1.position - n2.position, n2.position - n3.position\n",
    "x = np.cross(x1, x2)\n",
    "x = x/np.linalg.norm(x)\n",
    "if (si.position + x)[2] > si.position[2]:\n",
    "    x = -x\n",
    "    \n",
    "def M(axis, theta):\n",
    "    return expm(cross(eye(3), axis/norm(axis)*theta))\n",
    "\n",
    "newgeoms = []\n",
    "for i, angle in enumerate(np.linspace(0, -np.pi/2 * 1/3, 10)):\n",
    "    copy = temp.copy()\n",
    "    copy.append(Atom(\"F\", position = si.position + x * 1.5))\n",
    "    del copy[[atom.index for atom in temp if atom.symbol != 'Si']]\n",
    "    for n in ns:\n",
    "        axis = np.cross(x, si.position - n.position)\n",
    "        M0 = M(axis, angle)\n",
    "        copy.append(Atom(\"N\", position = si.position + np.dot(M0, n.position - si.position)))\n",
    "        for h in temp[[atom.index for atom in temp if atom.symbol == \"H\"]]:\n",
    "            if np.linalg.norm(n.position - h.position) < 1.5:\n",
    "                copy.append(Atom(\"H\", position = si.position + np.dot(M0, h.position - si.position)))\n",
    "        copy.constraints = FixAtoms([atom.index for atom in copy if atom.symbol != \"F\"])\n",
    "    vasp.write_vasp(\"../POSCAR{}\".format(i), copy, vasp5=True, sort = True)\n",
    "    newgeoms += [copy]\n",
    "view(newgeoms)"
   ]
  },
  {
   "cell_type": "markdown",
   "metadata": {},
   "source": [
    "# Visualization"
   ]
  },
  {
   "cell_type": "code",
   "execution_count": 153,
   "metadata": {
    "ExecuteTime": {
     "end_time": "2021-02-05T04:39:02.489969Z",
     "start_time": "2021-02-05T04:39:02.469325Z"
    }
   },
   "outputs": [],
   "source": [
    "view(gen.read_gen(\"../input4.gen\"))"
   ]
  },
  {
   "cell_type": "code",
   "execution_count": 2,
   "metadata": {
    "ExecuteTime": {
     "end_time": "2021-02-05T10:32:54.933082Z",
     "start_time": "2021-02-05T10:32:54.922283Z"
    }
   },
   "outputs": [],
   "source": [
    "view(vasp.read_vasp(\"../CONTCAR\"))"
   ]
  },
  {
   "cell_type": "code",
   "execution_count": 8,
   "metadata": {
    "ExecuteTime": {
     "end_time": "2021-02-05T10:42:42.640046Z",
     "start_time": "2021-02-05T10:42:42.623892Z"
    }
   },
   "outputs": [],
   "source": [
    "view([gen.read_gen(\"../input%d.gen\"%i) for i in range(4)])"
   ]
  },
  {
   "cell_type": "code",
   "execution_count": 9,
   "metadata": {
    "ExecuteTime": {
     "end_time": "2021-02-05T10:43:02.466570Z",
     "start_time": "2021-02-05T10:43:02.456748Z"
    }
   },
   "outputs": [],
   "source": [
    "for i in range(4):\n",
    "    temp = gen.read_gen(\"../slab%d.gen\"%i)\n",
    "    vasp.write_vasp(\"../POSCAR%i\"%(i), temp, sort= True, vasp5=True)"
   ]
  },
  {
   "cell_type": "code",
   "execution_count": 10,
   "metadata": {
    "ExecuteTime": {
     "end_time": "2021-02-05T10:43:03.802616Z",
     "start_time": "2021-02-05T10:43:03.789912Z"
    }
   },
   "outputs": [],
   "source": [
    "view([vasp.read_vasp(\"../POSCAR%i\" %i) for i in range (4)])"
   ]
  },
  {
   "cell_type": "markdown",
   "metadata": {
    "heading_collapsed": true
   },
   "source": [
    "## Adsorbate plotting + energy contour plot"
   ]
  },
  {
   "cell_type": "code",
   "execution_count": null,
   "metadata": {
    "ExecuteTime": {
     "end_time": "2020-11-17T20:53:39.737429Z",
     "start_time": "2020-11-17T20:53:37.841Z"
    },
    "hidden": true,
    "scrolled": false
   },
   "outputs": [],
   "source": [
    "from scipy.interpolate import griddata\n",
    "\n",
    "wrapvis = False\n",
    "num_structs = 25 # number of structures; meant for files with 0-indexed numbering scheme\n",
    "periodicity = 3\n",
    "zmax = 18.015 # for SiO2 fterm\n",
    "# zmax = 17.765 # for SiO2 hterm\n",
    "\n",
    "if periodicity == 1:\n",
    "    offset = np.array([-5.39811637, -1.34676731,  0.        ]) # for 1x1 SiO2 fterm surf\n",
    "if periodicity == 2:\n",
    "    offset = np.array([-10.79623274,   -1.56420473,    0.] ) # for 2x2 SiO2 fterm surf\n",
    "if periodicity == 3:\n",
    "    offset = np.array([[-16.19434911,  -1.78164215,   0.        ]]) # for 3x3 SiO2 fterm surf\n",
    "\n",
    "P = np.array([\n",
    "    [periodicity, 0, 0],\n",
    "    [0, periodicity, 0],\n",
    "    [0, 0, 1],\n",
    "])\n",
    "\n",
    "#read structures\n",
    "data1 = ([vasp.read_vasp(\"../CONTCAR\"+str(i)) for i in range(0, num_structs)])\n",
    "data2 = ([vasp.read_vasp(\"../POSCAR\"+str(i)) for i in range(0, num_structs)])\n",
    "slab = vasp.read_vasp(\"../CONTCAR\")\n",
    "tempcell = slab.copy().cell\n",
    "slab = make_supercell(slab.copy(), P)\n",
    "slab.cell = tempcell\n",
    "\n",
    "data1 = [make_supercell(i, P) for i in data1]\n",
    "data2 = [make_supercell(i, P) for i in data2]\n",
    "\n",
    "\n",
    "if wrapvis:\n",
    "    for i, j in zip(data1, data2):\n",
    "        i.wrap()\n",
    "        j.wrap()\n",
    "    slab.wrap()\n",
    "\n",
    "results = pd.read_csv(\"../results\", header = None)[0]\n",
    "results = pd.Series(np.repeat(results, periodicity ** 2))\n",
    "\n",
    "Eads = -7.9768\n",
    "Eslab = -.84373706E+03\n",
    "# Eslab = -.89020398E+03 \n",
    "results = results - (Eads + Eslab) # compute adsorption energies from raw energies\n",
    "htermresults = results\n",
    "\n",
    "positions1 = [[i.position for i in struct if i.symbol==\"H\" and i.position[2] > zmax] \n",
    "                         for struct in data1]\n",
    "positions2 = [[i.position for i in struct if i.symbol==\"H\" and i.position[2] > zmax]  \n",
    "                         for struct in data2]\n",
    "\n",
    "positions1 = np.array(positions1).reshape(-1, 3)\n",
    "positions2 = np.array(positions2).reshape(-1, 3)\n",
    "\n",
    "samplemask = [True]\n",
    "for i in np.arange(1, len(positions1)):\n",
    "    add = True\n",
    "    for j in np.arange(0, i): \n",
    "        pos1 = positions1[i][:2]\n",
    "        pos2 = positions1[j][:2]\n",
    "        if np.linalg.norm(pos1 - pos2) <  1:\n",
    "            add = False\n",
    "    samplemask += [add]\n",
    "\n",
    "positions1 = np.array(positions1)\n",
    "positions2 = np.array(positions2)\n",
    "vispositions1 = positions1[samplemask] - offset\n",
    "vispositions2 = positions2[samplemask] - offset\n",
    "visresults = results[samplemask]\n",
    "\n",
    "\n",
    "fig, ax = plt.subplots(figsize = (20,10))\n",
    "\n",
    "obj = plot_atoms(slab, ax, show_unit_cell = 0)\n",
    "\n",
    "\n",
    "print(len(vispositions1))\n",
    "ax.scatter(vispositions1[:, 0], vispositions1[:, 1], \n",
    "           s = 60, color = 'k', zorder = 2, label = \"final position\")\n",
    "\n",
    "# ax.scatter(vispositions2[:, 0], vispositions2[:, 1],\n",
    "#            s = 60, color = 'g', zorder = 2, label = \"initial position\")\n",
    "\n",
    "# for start, final in zip(vispositions2, vispositions1):\n",
    "#     ax.plot([start[0], final[0]], [start[1], final[1]], color = 'k')\n",
    "origin = np.array([0,0,0])\n",
    "vertices = np.array([ #center of 3x3\n",
    "    origin + slab.cell[0] + slab.cell[1],\n",
    "    origin + slab.cell[0] * 2 + slab.cell[1],\n",
    "    origin + (slab.cell[1] + slab.cell[0]) * 2,\n",
    "    origin + slab.cell[1] * 2 + slab.cell[0],\n",
    "    origin + slab.cell[0] + slab.cell[1]\n",
    "#     origin,\n",
    "#     origin + slab.cell[0],\n",
    "#     origin + (slab.cell[1] + slab.cell[0]) * 1,\n",
    "#     origin + slab.cell[1],\n",
    "#     origin\n",
    "])\n",
    "\n",
    "X, Y, Z = vispositions1[:, 0], vispositions1[:, 1], visresults\n",
    "\n",
    "# Zfunc = interp2d(X, Y, visresults, kind = 'linear', fill_value=0)\n",
    "# plotx, ploty = np.arange(0, 13, .1), np.arange(0, 8, .1)\n",
    "# plotx = np.arange(slab.cell[1,0] - .5, slab.cell[0, 0] + slab.cell[1,0] - .5 + 1, .1)\n",
    "# ploty = np.arange(-1, 8 , .1)\n",
    "\n",
    "npts = 10\n",
    "plotpts = []\n",
    "for i in np.linspace(0, 1, npts):\n",
    "    for j in np.linspace(0, 1, npts):\n",
    "        plotpts += [i * slab.cell[0] + j * slab.cell[1]] \n",
    "\n",
    "plotpts = sorted(plotpts, key = lambda x: (x[0], x[1]))\n",
    "plotpts = np.array(plotpts) - offset\n",
    "plotx = plotpts[:, 0]\n",
    "ploty = plotpts[:, 1]\n",
    "\n",
    "# ax.scatter(plotx, ploty, marker = 'x', s = 220, color = 'k')\n",
    "\n",
    "plotx = np.arange(ax.get_xlim()[0], ax.get_xlim()[1], .1)\n",
    "ploty = np.arange(ax.get_ylim()[0], ax.get_ylim()[1], .1)\n",
    "# plotz = Zfunc(plotx, ploty)\n",
    "# plotx, ploty = np.meshgrid(plotx, ploty)\n",
    "# plotz = Zfunc(X, Y)\n",
    "# plotz =  griddata(list(zip(X, Y)), visresults, list(zip(plotx,ploty)))\n",
    "plotz = griddata((X, Y), visresults, (plotx[None, :], ploty[:, None]), \n",
    "                 method='linear', fill_value=np.nan)\n",
    "plotx, ploty = np.meshgrid(plotx, ploty)\n",
    "\n",
    "\n",
    "for i in range(len(results)):\n",
    "    if samplemask[i]:\n",
    "#         text = str(i) + \"\\n\" + str(round(results.iloc[i], 3)) \n",
    "        text = str(round(results.iloc[i], 3)) \n",
    "        textpositions = positions1 - offset\n",
    "#         textpositions += np.array([0, np.random.normal(scale = .9), 0]) \n",
    "        ax.text((textpositions[i, 0]), (textpositions[i, 1]), s = text, fontsize = 12)\n",
    "    else:\n",
    "        continue\n",
    "visvertices = vertices - offset\n",
    "\n",
    "\n",
    "# ax.contour(plotx, ploty, plotz, levels=14, linewidths=0.5, colors='k')\n",
    "# cntr1 = ax.contourf(plotx,ploty,plotz, levels=3, cmap=\"RdBu_r\", zorder = 2, alpha = .5)\n",
    "cntr1 = ax.contourf(plotx,ploty,plotz, levels=np.linspace(np.min(results), 0, 12),\n",
    "                    cmap=\"RdBu_r\", zorder = 2, alpha = .4)\n",
    "fig.colorbar(cntr1, ax = ax, label = 'Adsorption Energy (eV)')\n",
    "ax.plot(visvertices[:, 0], visvertices[:, 1], linestyle = '-', color = 'k', zorder = 2)\n",
    "\n",
    "# cbar = fig.colorbar(cntr1, ax=ax, levels = np.linspace(np.min(results), 0, 6),\n",
    "#              label = \"adsorption energy (eV)\")\n",
    "\n",
    "\n",
    "# plt.title(\"Adsorption energy surface of HF on F-terminated SiO$_2$\")\n",
    "plt.title(\"Final vs initial positions of HF on surface (F-terminated)\")\n",
    "# plt.legend()\n",
    "plt.savefig(\"temp.png\", dpi = 400)\n",
    "\n",
    "\n",
    "# plt.legend();\n",
    "# ax.set_xlim(20, 40)\n",
    "# ax.set_ylim(5, 25)"
   ]
  },
  {
   "cell_type": "code",
   "execution_count": null,
   "metadata": {
    "ExecuteTime": {
     "end_time": "2020-11-17T20:53:39.738749Z",
     "start_time": "2020-11-17T20:53:37.850Z"
    },
    "hidden": true
   },
   "outputs": [],
   "source": [
    "plt.boxplot([htermresults, ftermresults], labels = ['H-terminated', 'F-terminated']);\n",
    "plt.ylabel(\"Adsorption energy (eV)\")\n",
    "plt.title(\"Energy variation compared: H-terminated vs. F-terminated SiO$_2$ surface\")"
   ]
  },
  {
   "cell_type": "code",
   "execution_count": null,
   "metadata": {
    "ExecuteTime": {
     "end_time": "2020-11-17T20:53:39.741297Z",
     "start_time": "2020-11-17T20:53:37.859Z"
    },
    "hidden": true
   },
   "outputs": [],
   "source": [
    "htermresults.describe()"
   ]
  },
  {
   "cell_type": "code",
   "execution_count": null,
   "metadata": {
    "ExecuteTime": {
     "end_time": "2020-11-17T20:53:39.742659Z",
     "start_time": "2020-11-17T20:53:37.867Z"
    },
    "hidden": true
   },
   "outputs": [],
   "source": [
    "dist = np.array([0, 0, 2])\n",
    "view(Atoms(\"HFOSi\", positions = [dist*0, dist*1, dist*2, dist*3] ))"
   ]
  },
  {
   "cell_type": "markdown",
   "metadata": {
    "heading_collapsed": true
   },
   "source": [
    "## Energy contour plots"
   ]
  },
  {
   "cell_type": "code",
   "execution_count": null,
   "metadata": {
    "ExecuteTime": {
     "end_time": "2020-11-17T20:53:39.744140Z",
     "start_time": "2020-11-17T20:53:37.879Z"
    },
    "hidden": true
   },
   "outputs": [],
   "source": [
    "from mpl_toolkits.mplot3d import Axes3D  # noqa: F401 unused import\n",
    "\n",
    "import matplotlib.pyplot as plt\n",
    "from matplotlib import cm\n",
    "from matplotlib.ticker import LinearLocator, FormatStrFormatter\n",
    "import numpy as np\n",
    "\n",
    "results = pd.read_csv(\"../results\", header = None)[0]\n",
    "\n",
    "fig = plt.figure()\n",
    "ax = fig.gca(projection='3d')\n",
    "\n",
    "X, Y, Z = positions1[:, 0], positions1[:, 1], results\n",
    "results = results - (Ecf4 + Enslab)\n",
    "\n",
    "\n",
    "Zfunc = interp2d(X, Y, results, kind = 'linear')\n",
    "plotx, ploty = np.arange(min(X), max(X), .1), np.arange(min(Y), max(Y) , .1)\n",
    "plotz = Zfunc(plotx, ploty)\n",
    "plotx, ploty = np.meshgrid(plotx, ploty)\n",
    "\n",
    "\n",
    "\n",
    "# Plot the surface.\n",
    "surf = ax.plot_surface(plotx, ploty, plotz, cmap=cm.coolwarm,\n",
    "                       linewidth=0, antialiased=False)\n",
    "\n",
    "\n",
    "# Add a color bar which maps values to colors.\n",
    "fig.colorbar(surf, shrink=0.5, aspect=5)\n",
    "\n",
    "plt.show()"
   ]
  },
  {
   "cell_type": "code",
   "execution_count": null,
   "metadata": {
    "ExecuteTime": {
     "end_time": "2020-11-17T20:53:39.745279Z",
     "start_time": "2020-11-17T20:53:37.888Z"
    },
    "hidden": true
   },
   "outputs": [],
   "source": [
    "from mpl_toolkits.mplot3d import Axes3D  # noqa: F401 unused import\n",
    "\n",
    "import matplotlib.pyplot as plt\n",
    "from matplotlib import cm\n",
    "from matplotlib.ticker import LinearLocator, FormatStrFormatter\n",
    "import numpy as np\n",
    "\n",
    "Ecf4 = -25.9547\n",
    "Enslab = -549.47\n",
    "results = pd.read_csv(\"../results\", header = None)[0]\n",
    "\n",
    "fig = plt.figure()\n",
    "ax = fig.gca(projection='3d')\n",
    "\n",
    "X, Y, Z = positions1[:, 0], positions1[:, 1], results\n",
    "results = results - (Ecf4 + Enslab)\n",
    "\n",
    "\n",
    "Zfunc = interp2d(X, Y, results, kind = 'cubic')\n",
    "plotx, ploty = np.arange(min(X), max(X) - 1, .1), np.arange(min(Y), max(Y) -1 , .1)\n",
    "plotz = Zfunc(plotx, ploty)\n",
    "plotx, ploty = np.meshgrid(plotx, ploty)\n",
    "\n",
    "\n",
    "\n",
    "# Plot the surface.\n",
    "surf = ax.plot_surface(plotx, ploty, plotz, cmap=cm.coolwarm,\n",
    "                       linewidth=0, antialiased=False)\n",
    "\n",
    "\n",
    "# Add a color bar which maps values to colors.\n",
    "fig.colorbar(surf, shrink=0.5, aspect=5)\n",
    "\n",
    "plt.show()"
   ]
  },
  {
   "cell_type": "code",
   "execution_count": null,
   "metadata": {
    "ExecuteTime": {
     "end_time": "2020-11-17T20:53:39.746220Z",
     "start_time": "2020-11-17T20:53:37.898Z"
    },
    "hidden": true
   },
   "outputs": [],
   "source": [
    "import plotly.graph_objects as go\n",
    "import pandas as pd\n",
    "import numpy as np\n",
    "# Read data from a csv\n",
    "fig = go.Figure(data=[go.Surface(z=plotz, x=plotx, y=ploty)])\n",
    "fig.update_layout(title='PES of CF4 on N rich surface', autosize=False,\n",
    "                  width=500, height=500,\n",
    "                  margin=dict(l=65, r=50, b=65, t=90))\n",
    "fig.show()\n"
   ]
  },
  {
   "cell_type": "code",
   "execution_count": null,
   "metadata": {
    "ExecuteTime": {
     "end_time": "2020-11-17T20:53:39.747089Z",
     "start_time": "2020-11-17T20:53:37.904Z"
    },
    "hidden": true
   },
   "outputs": [],
   "source": [
    "P = np.array([[2, 0, 0], \n",
    "          [0, 2, 0], \n",
    "          [0, 0, 1]]).reshape(3,-1)\n",
    "anal = [Analysis(make_supercell(i, P)) for i in data]"
   ]
  },
  {
   "cell_type": "code",
   "execution_count": null,
   "metadata": {
    "ExecuteTime": {
     "end_time": "2020-11-17T20:53:39.748291Z",
     "start_time": "2020-11-17T20:53:37.912Z"
    },
    "hidden": true
   },
   "outputs": [],
   "source": [
    "bonds = [i.get_bonds(\"Cl\", \"H\") for i in anal]"
   ]
  },
  {
   "cell_type": "code",
   "execution_count": null,
   "metadata": {
    "ExecuteTime": {
     "end_time": "2020-11-17T20:53:39.750422Z",
     "start_time": "2020-11-17T20:53:37.919Z"
    },
    "hidden": true
   },
   "outputs": [],
   "source": [
    "bondlengths = [i.get_values(j) for i, j in zip(anal, bonds)]\n",
    "np.std(bondlengths)"
   ]
  },
  {
   "cell_type": "code",
   "execution_count": null,
   "metadata": {
    "ExecuteTime": {
     "end_time": "2020-11-17T20:53:39.752194Z",
     "start_time": "2020-11-17T20:53:37.928Z"
    },
    "hidden": true
   },
   "outputs": [],
   "source": [
    "from ase.io import gaussian\n",
    "view(gaussian.read_gaussian(\"../vcproj/vc_li2\"))"
   ]
  },
  {
   "cell_type": "markdown",
   "metadata": {},
   "source": [
    "## Structure/trajectory visualization"
   ]
  },
  {
   "cell_type": "code",
   "execution_count": 343,
   "metadata": {
    "ExecuteTime": {
     "end_time": "2021-01-13T02:44:05.365672Z",
     "start_time": "2021-01-13T02:44:04.910743Z"
    }
   },
   "outputs": [
    {
     "data": {
      "image/png": "[encoded data removed]",
      "text/plain": [
       "<Figure size 1440x504 with 1 Axes>"
      ]
     },
     "metadata": {
      "needs_background": "light"
     },
     "output_type": "display_data"
    }
   ],
   "source": [
    "x = np.arange(3, 100)\n",
    "plt.plot(x, x * np.tan(np.pi/x))\n",
    "plt.plot(x, np.pi + x*0)\n",
    "plt.xscale(\"log\")\n",
    "plt.yscale(\"log\")"
   ]
  },
  {
   "cell_type": "code",
   "execution_count": 17,
   "metadata": {
    "ExecuteTime": {
     "end_time": "2021-02-01T03:33:06.072630Z",
     "start_time": "2021-02-01T03:33:06.052006Z"
    }
   },
   "outputs": [],
   "source": [
    "view(gen.read_gen(\"../input.gen\"))"
   ]
  },
  {
   "cell_type": "code",
   "execution_count": 42,
   "metadata": {
    "ExecuteTime": {
     "end_time": "2021-02-01T22:52:45.703078Z",
     "start_time": "2021-02-01T22:52:45.350959Z"
    }
   },
   "outputs": [
    {
     "data": {
      "text/plain": [
       "(0, 5)"
      ]
     },
     "execution_count": 42,
     "metadata": {},
     "output_type": "execute_result"
    },
    {
     "data": {
      "image/png": "[encoded data removed]",
      "text/plain": [
       "<Figure size 1440x504 with 1 Axes>"
      ]
     },
     "metadata": {
      "needs_background": "light"
     },
     "output_type": "display_data"
    }
   ],
   "source": [
    "plt.plot([frame.get_distance(702, 641, mic=1) for frame in traj])\n",
    "plt.ylim(0, 5)"
   ]
  },
  {
   "cell_type": "code",
   "execution_count": 41,
   "metadata": {
    "ExecuteTime": {
     "end_time": "2021-02-01T22:52:33.859407Z",
     "start_time": "2021-02-01T22:52:33.400418Z"
    }
   },
   "outputs": [
    {
     "data": {
      "text/plain": [
       "[<matplotlib.lines.Line2D at 0x7fc92c04f750>]"
      ]
     },
     "execution_count": 41,
     "metadata": {},
     "output_type": "execute_result"
    },
    {
     "data": {
      "image/png": "[encoded data removed]",
      "text/plain": [
       "<Figure size 1440x504 with 1 Axes>"
      ]
     },
     "metadata": {
      "needs_background": "light"
     },
     "output_type": "display_data"
    }
   ],
   "source": [
    "plt.plot(np.diff(\n",
    "    np.diff(\n",
    "        [frame.get_distance(702, 641, mic=1) for frame in traj]\n",
    "    )\n",
    "), marker = 'o'\n",
    ")"
   ]
  },
  {
   "cell_type": "code",
   "execution_count": 233,
   "metadata": {
    "ExecuteTime": {
     "end_time": "2021-03-02T23:55:39.826304Z",
     "start_time": "2021-03-02T23:55:37.936157Z"
    }
   },
   "outputs": [],
   "source": [
    "# traj = xyz.read_xyz(\"../heat.xyz\", index = slice(0, -1, 1))\n",
    "traj = xyz.read_xyz(\"../temp.xyz\", index = slice(0, -1, 5))\n",
    "# traj2 = xyz.read_xyz(\"../const.xyz\", index = slice(0, -1, 10))\n",
    "# ref = gen.read_gen(\"../input.gen\")\n",
    "refcell = Cell(np.array([[15.06, 0, 0], [0, 15.06, 0], [0, 0, 40.06]]), \n",
    "               pbc = np.array([True, True, True]))\n",
    "traj = [i for i in traj]\n",
    "# traj = traj + [i for i in traj2]\n",
    "# m = 2\n",
    "# P = [[m, 0, 0],\n",
    "#      [0, m, 0],\n",
    "#      [0, 0, 1]\n",
    "#     ]\n",
    "# newtraj = []\n",
    "for i in traj:\n",
    "    i.cell = ref.cell\n",
    "    i.pbc = True\n",
    "    i.wrap()\n",
    "#     newtraj += [make_supercell(i, P)]\n",
    "    \n",
    "view(traj)\n",
    "# view(newtraj)\n",
    "# xyz.write_xyz(\"newtraj.xyz\", newtraj)"
   ]
  },
  {
   "cell_type": "code",
   "execution_count": 42,
   "metadata": {
    "ExecuteTime": {
     "end_time": "2021-02-23T23:16:09.708309Z",
     "start_time": "2021-02-23T23:16:09.682718Z"
    }
   },
   "outputs": [],
   "source": [
    "view(traj[-1])"
   ]
  },
  {
   "cell_type": "markdown",
   "metadata": {
    "heading_collapsed": true
   },
   "source": [
    "# DFTB potential testing"
   ]
  },
  {
   "cell_type": "code",
   "execution_count": null,
   "metadata": {
    "ExecuteTime": {
     "end_time": "2020-11-17T20:53:39.755195Z",
     "start_time": "2020-11-17T20:53:37.947Z"
    },
    "cell_style": "center",
    "code_folding": [],
    "hidden": true
   },
   "outputs": [],
   "source": [
    "distances = np.arange(0.05, 4.05, 0.05)\n",
    "\n",
    "# nh3 = Atoms('NH3', positions =\n",
    "#               [(0,0,0), (1,0,-.3), (-.7, -.7, -.2), (-.7, .7, -.3)])\n",
    "\n",
    "\n",
    "\n",
    "\n",
    "# calculator = Dftb(\n",
    "#             label='nh3',\n",
    "#             atoms=nh3,\n",
    "#             Driver_MovedAtoms = \"2:-2\",\n",
    "#             Hamiltonian_MaxAngularMomentum_Ar='\"p\"',\n",
    "#             Hamiltonian_MaxAngularMomentum_N='\"p\"',\n",
    "#             Hamiltonian_MaxAngularMomentum_Si='\"p\"',\n",
    "#             Hamiltonian_MaxAngularMomentum_H='\"p\"',\n",
    "#             Hamiltonian_MaxAngularMomentum_C='\"p\"',\n",
    "#             Driver_='ConjugateGradient',\n",
    "#             Driver_KeepStationary='No',\n",
    "#             Driver_MaxForceComponent='1E-10',\n",
    "#             Driver_MaxSteps=1000,\n",
    "#         )\n",
    "\n",
    "# nh3.set_calculator(calculator)\n",
    "\n",
    "# calculator.calculate(nh3)\n",
    "# nh3 = gen.read_gen('geo_end.gen')\n",
    "\n",
    "data = {}\n",
    "\n",
    "\n",
    "cAtom = Atoms(\"C\", positions = [(0,0,0)])\n",
    "images = []\n",
    "for element in [\"C\"]:\n",
    "    atomdata = np.array([])\n",
    "    for d in distances:\n",
    "        atoms = cAtom.copy()\n",
    "        add_adsorbate(atoms, \"Ar\", height = d)\n",
    "        calculator = Dftb(\n",
    "            label='nh3',\n",
    "            atoms=atoms,\n",
    "            Hamiltonian_MaxAngularMomentum_Ar='\"p\"',\n",
    "            Hamiltonian_MaxAngularMomentum_N='\"p\"',\n",
    "            Hamiltonian_MaxAngularMomentum_Si='\"p\"',\n",
    "            Hamiltonian_MaxAngularMomentum_H='\"s\"',\n",
    "            Hamiltonian_MaxAngularMomentum_C='\"p\"',\n",
    "            Hamiltonian_PolynomialRepulsive = \"{C-Ar=Yes \\n Ar-C=Yes}\",\n",
    "            Driver_='ConjugateGradient',\n",
    "            Driver_MaxForceComponent='1E10',\n",
    "            Driver_KeepStationary='No',\n",
    "            Driver_MaxSteps = 0\n",
    "        )\n",
    "        atoms.set_calculator(calculator)\n",
    "        atomdata = np.append(atomdata, atoms.get_potential_energy())\n",
    "        images += [atoms]\n",
    "    data[element] = atomdata\n",
    "data = pd.DataFrame(data)\n",
    "data.index = distances\n",
    "data.index.name = \"Distance (Å)\""
   ]
  },
  {
   "cell_type": "code",
   "execution_count": null,
   "metadata": {
    "ExecuteTime": {
     "end_time": "2020-11-17T20:53:39.756861Z",
     "start_time": "2020-11-17T20:53:37.956Z"
    },
    "hidden": true
   },
   "outputs": [],
   "source": [
    "calculator = Dftb(\n",
    "            label='nh3',\n",
    "            Hamiltonian_MaxAngularMomentum_Ar='\"p\"',\n",
    "            Hamiltonian_MaxAngularMomentum_N='\"p\"',\n",
    "            Hamiltonian_MaxAngularMomentum_Si='\"p\"',\n",
    "            Hamiltonian_MaxAngularMomentum_H='\"s\"',\n",
    "            Hamiltonian_MaxAngularMomentum_C='\"p\"',\n",
    "            Hamiltonian_PolynomialRepulsive = \"{Si-Ar=Yes, Ar-Si=Yes}\",\n",
    "            Driver_='ConjugateGradient',\n",
    "            Driver_MaxForceComponent='1E10',\n",
    "            Driver_KeepStationary='No',\n",
    "            Driver_MaxSteps = 0\n",
    "        )\n",
    "calculator.write_input(atoms)"
   ]
  },
  {
   "cell_type": "markdown",
   "metadata": {
    "hidden": true
   },
   "source": [
    "Plotting DFT vs DFTB curves"
   ]
  },
  {
   "cell_type": "code",
   "execution_count": null,
   "metadata": {
    "ExecuteTime": {
     "end_time": "2020-11-17T20:53:39.759363Z",
     "start_time": "2020-11-17T20:53:37.967Z"
    },
    "cell_style": "center",
    "code_folding": [],
    "hidden": true
   },
   "outputs": [],
   "source": [
    "plt.plot(data.index, data , label = \"DFTB (repulsion corrected)\")\n",
    "plt.plot(dftEnergies - dftEnergies.loc[4.0][0]+ data.iloc[-1, 0], label = \"DFT\")\n",
    "plt.title(\"E vs Si-Ar Distance; DFT vs DFTB\")\n",
    "plt.ylim(-150, -100)\n",
    "plt.legend()\n",
    "plt.ylabel(\"Energy (eV)\")\n",
    "plt.savefig(\"Ecurves.png\")\n",
    "# view(images)"
   ]
  },
  {
   "cell_type": "code",
   "execution_count": null,
   "metadata": {
    "ExecuteTime": {
     "end_time": "2020-11-17T20:53:39.761185Z",
     "start_time": "2020-11-17T20:53:37.976Z"
    },
    "hidden": true
   },
   "outputs": [],
   "source": [
    "def repulsive(r, c2, c3, c4, c5, c6, c7, c8, c9):\n",
    "    rcut = 3\n",
    "    r = rcut - r\n",
    "    terms = np.array([c2, c3, c4, c5, c6, c7, c8, c9]) \n",
    "    exp = np.arange(2, 10)\n",
    "    return np.array([np.sum(terms * np.power(i, exp)) for i in r])"
   ]
  },
  {
   "cell_type": "code",
   "execution_count": null,
   "metadata": {
    "ExecuteTime": {
     "end_time": "2020-11-17T20:53:39.762972Z",
     "start_time": "2020-11-17T20:53:37.983Z"
    },
    "cell_style": "center",
    "code_folding": [],
    "hidden": true
   },
   "outputs": [],
   "source": [
    "dftb_0ed = data \n",
    "dftEnergies = dftEnergies.sort_index()\n",
    "dft_0ed = dftEnergies - dftEnergies.loc[4.0][0] + data.iloc[-1, 0]\n",
    "differences = np.array(dft_0ed[0]) - np.array(dftb_0ed['H'])\n",
    "\n",
    "params, cov = curve_fit(repulsive, list(data.index)[10:], differences[10:])\n",
    "print(params)\n",
    "plt.plot(data.index, repulsive(data.index, *params), label = \"fit\")\n",
    "plt.plot(data.index, differences, label = \"difference\")\n",
    "\n",
    "plt.title(\"difference in DFT/DFTB curves\")\n",
    "plt.ylim(-10, 20)\n",
    "plt.legend()\n",
    "plt.ylabel(\"Energy (eV)\")\n",
    "plt.savefig(\"Ecurves.png\")\n",
    "# view(images)"
   ]
  },
  {
   "cell_type": "code",
   "execution_count": null,
   "metadata": {
    "ExecuteTime": {
     "end_time": "2020-11-17T20:53:39.764495Z",
     "start_time": "2020-11-17T20:53:37.991Z"
    },
    "hidden": true
   },
   "outputs": [],
   "source": [
    "plt.plot(data.index, \n",
    "         np.ndarray.flatten(np.array(data - data.iloc[-1, 0])) + repulsive(data.index, *params), \n",
    "         label = \"DFTB + fitted difference\")\n",
    "\n",
    "plt.plot(dftEnergies - dftEnergies.loc[4.0][0], label = \"DFT\")\n",
    "plt.title(\"E vs N-Ar Distance; DFT vs DFTB\")\n",
    "plt.ylim(-5, 10)\n",
    "plt.legend()\n",
    "plt.ylabel(\"Energy (eV)\")\n",
    "plt.savefig(\"Ecurves.png\")\n",
    "# view(images)"
   ]
  },
  {
   "cell_type": "code",
   "execution_count": null,
   "metadata": {
    "ExecuteTime": {
     "end_time": "2020-11-17T20:53:39.766353Z",
     "start_time": "2020-11-17T20:53:37.999Z"
    },
    "hidden": true
   },
   "outputs": [],
   "source": [
    "images = []\n",
    "atomdata = np.array([])\n",
    "for d in distances:\n",
    "    calculator = Dftb(\n",
    "        label='nh3',\n",
    "        atoms=atoms,\n",
    "        Hamiltonian_MaxAngularMomentum_Ar='\"p\"',\n",
    "        Hamiltonian_MaxAngularMomentum_N='\"p\"',\n",
    "        Hamiltonian_MaxAngularMomentum_Si='\"p\"',\n",
    "        Hamiltonian_MaxAngularMomentum_H='\"p\"',\n",
    "        Hamiltonian_MaxAngularMomentum_C='\"p\"',\n",
    "        Driver_='ConjugateGradient',\n",
    "        Driver_MaxForceComponent='1E10',\n",
    "        Driver_KeepStationary='No',\n",
    "        Driver_MaxSteps = 0\n",
    "    )\n",
    "    atoms.set_calculator(calculator)\n",
    "    atomdata = np.append(atomdata, atoms.get_potential_energy())\n",
    "    images += [atoms]\n",
    "data[element] = atomdata\n",
    "data = pd.DataFrame(data)\n",
    "\n",
    "data.index = distances\n",
    "data.index.name = \"Distance (Å)\"\n",
    "p = data.plot()\n",
    "p.set_title(\"E vs N-Ar distance, NH3\")\n",
    "p.set_ylabel(\"Energy (eV)\")\n",
    "plt.savefig(\"Ecurves.png\")\n",
    "# view(images)"
   ]
  },
  {
   "cell_type": "markdown",
   "metadata": {
    "heading_collapsed": true
   },
   "source": [
    "# DFT energy curve"
   ]
  },
  {
   "cell_type": "code",
   "execution_count": null,
   "metadata": {
    "ExecuteTime": {
     "end_time": "2020-11-17T20:53:39.768679Z",
     "start_time": "2020-11-17T20:53:38.009Z"
    },
    "hidden": true
   },
   "outputs": [],
   "source": [
    "dftEnergies = pd.read_csv(\"../energies\", header = None)\n",
    "dftEnergies.index = 80 - np.array(dftEnergies.index)\n",
    "dftEnergies.index /= 20\n",
    "dftEnergies.plot();"
   ]
  },
  {
   "cell_type": "code",
   "execution_count": null,
   "metadata": {
    "ExecuteTime": {
     "end_time": "2020-11-17T20:53:39.770574Z",
     "start_time": "2020-11-17T20:53:38.017Z"
    },
    "hidden": true
   },
   "outputs": [],
   "source": [
    "dftEnergies = pd.read_csv(\"../energies\", header = None)\n",
    "dftEnergies.index = 80 - np.array(dftEnergies.index)\n",
    "dftEnergies.index /= 20\n",
    "p = dftEnergies.plot(xlim = (1, 4), ylim = (-1, 5),grid = True);"
   ]
  },
  {
   "cell_type": "markdown",
   "metadata": {
    "heading_collapsed": true
   },
   "source": [
    "# QUIPPY "
   ]
  },
  {
   "cell_type": "markdown",
   "metadata": {
    "hidden": true
   },
   "source": [
    "Tutorial from here:  https://libatoms.github.io/GAP/gap_si_surface.html\n"
   ]
  },
  {
   "cell_type": "markdown",
   "metadata": {
    "hidden": true
   },
   "source": [
    "Build silicon structure:"
   ]
  },
  {
   "cell_type": "code",
   "execution_count": null,
   "metadata": {
    "ExecuteTime": {
     "end_time": "2020-11-17T20:53:39.772558Z",
     "start_time": "2020-11-17T20:53:38.032Z"
    },
    "code_folding": [],
    "hidden": true
   },
   "outputs": [],
   "source": [
    "from ase import Atoms, units\n",
    "from ase.lattice.cubic import Diamond\n",
    "from ase.build import add_vacuum\n",
    "def build_slab(size=(1,2,2), vacuum=10.):\n",
    "    # Build Si lattice.\n",
    "    # lattice = Diamond('Si', directions=([1, 0, 0], [0, 1, 0], [0, 0, 1]), latticeconstant=5.44, size=size)\n",
    "    lattice = Diamond('Si', latticeconstant=5.44, size=size)\n",
    "    atoms = Atoms(lattice)\n",
    "\n",
    "\n",
    "    # Fixing the bottom layer\n",
    "    bottom = atoms.positions[:,2].min()\n",
    "    fixed_mask = (abs(atoms.positions[:,2] - bottom) < 2.0)\n",
    "    atoms.set_constraint(FixAtoms(mask=fixed_mask))\n",
    "\n",
    "    # build surface by adding space to z direction\n",
    "    add_vacuum(atoms, vacuum)\n",
    "    # atoms.center(vacuum=10.0, axis=2)\n",
    "\n",
    "    return atoms\n",
    "\n",
    "\n",
    "atoms = build_slab()\n",
    "print('Number of atoms:', len(atoms))"
   ]
  },
  {
   "cell_type": "markdown",
   "metadata": {
    "hidden": true
   },
   "source": [
    "Run dynamics, verlet"
   ]
  },
  {
   "cell_type": "code",
   "execution_count": null,
   "metadata": {
    "ExecuteTime": {
     "end_time": "2020-11-17T20:53:39.774609Z",
     "start_time": "2020-11-17T20:53:38.047Z"
    },
    "code_folding": [],
    "hidden": true
   },
   "outputs": [],
   "source": [
    "from ase.md.velocitydistribution import MaxwellBoltzmannDistribution\n",
    "from ase.md.verlet import VelocityVerlet\n",
    "from ase.md.langevin import Langevin\n",
    "\n",
    "atoms = build_slab()\n",
    "\n",
    "# view(atoms)\n",
    "\n",
    "T = 1000.0 # Temperature [Kelvin]\n",
    "timestep = 1.0 * units.fs\n",
    "\n",
    "# attach tight binding calculator\n",
    "\n",
    "MaxwellBoltzmannDistribution(atoms, 2.0 * T * units.kB)\n",
    "\n",
    "write_dftb_velocities(atoms, 'velocities.txt')\n",
    "\n",
    "calculator_quip = Dftb(label='mef',\n",
    "                      atoms=atoms,\n",
    "                      run_manyDftb_steps=True,\n",
    "                      Hamiltonian_MaxAngularMomentum_='',\n",
    "                      Hamiltonian_MaxAngularMomentum_Si='\"p\"',\n",
    "                      kpts = (1, 1, 1),\n",
    "                      Driver_='VelocityVerlet',\n",
    "                      Driver_MDRestartFrequency=1,\n",
    "                      Driver_Velocities_='',\n",
    "                      Driver_Velocities_empty='<<+ \"velocities.txt\"',\n",
    "                      Driver_Steps=1,\n",
    "                      Driver_KeepStationary='Yes',\n",
    "                      Driver_TimeStep=0.413413733365614E+02,\n",
    "                        Driver_Thermostat_='Berendsen',\n",
    "                        Driver_Thermostat_Temperature=1000* 0.316681534524639E-05,  # 800*1.5 deg Celcius\n",
    "                        Driver_Thermostat_CouplingStrength=0.001,\n",
    "                      )\n",
    "\n",
    "\n",
    "def print_status():\n",
    "    print('Step = {}, time = {} [fs], T = {} [K]'.format(\n",
    "        dynamics.nsteps,\n",
    "        dynamics.nsteps * dynamics.dt / units.fs,\n",
    "        atoms.get_kinetic_energy() / (1.5 * units.kB * len(atoms))\n",
    "    ))\n",
    "\n",
    "def print_energy(a=atoms):  # store a reference to atoms in the definition.\n",
    "    \"\"\"Function to print the potential, kinetic and total energy.\"\"\"\n",
    "    epot = a.get_potential_energy() / len(a)\n",
    "    ekin = a.get_kinetic_energy() / len(a)\n",
    "    print('Energy per atom: Epot = %.3feV  Ekin = %.3feV (T=%3.0fK)  '\n",
    "          'Etot = %.3feV' % (epot, ekin, ekin / (1.5 * units.kB), epot + ekin))\n",
    "    "
   ]
  },
  {
   "cell_type": "code",
   "execution_count": null,
   "metadata": {
    "ExecuteTime": {
     "end_time": "2020-11-17T20:53:39.776039Z",
     "start_time": "2020-11-17T20:53:38.060Z"
    },
    "code_folding": [],
    "hidden": true
   },
   "outputs": [],
   "source": [
    "write_dftb_velocities(atoms, 'velocities.txt')\n",
    "os.system('rm md.log.* md.out* geo_end*xyz')\n",
    "atoms.set_calculator(calculator_quip)\n",
    "dynamics = VelocityVerlet(atoms, timestep)\n",
    "# dynamics.attach(print_status, interval=1)\n",
    "# dynamics.attach(print_energy, interval=20)\n",
    "# dynamics.run(steps = 1)  # run NVE ensemble using DFTB's own driver"
   ]
  },
  {
   "cell_type": "code",
   "execution_count": null,
   "metadata": {
    "ExecuteTime": {
     "end_time": "2020-11-17T20:53:39.777685Z",
     "start_time": "2020-11-17T20:53:38.074Z"
    },
    "hidden": true
   },
   "outputs": [],
   "source": [
    "db = []\n",
    "def collect_data():\n",
    "    db.append(atoms.copy())\n",
    "    db[-1].info = {'energy':atoms.get_potential_energy()}\n",
    "\n",
    "dynamics.attach(collect_data, interval=1)\n",
    "dynamics.run(1000)\n",
    "\n",
    "from ase.io import write\n",
    "write('/tmp/atoms_db1.xyz', db)"
   ]
  },
  {
   "cell_type": "markdown",
   "metadata": {
    "hidden": true
   },
   "source": [
    "Run dynamics, DFTB native"
   ]
  },
  {
   "cell_type": "code",
   "execution_count": null,
   "metadata": {
    "ExecuteTime": {
     "end_time": "2020-11-17T20:53:39.779891Z",
     "start_time": "2020-11-17T20:53:38.091Z"
    },
    "hidden": true
   },
   "outputs": [],
   "source": [
    "afrom ase.md.velocitydistribution import MaxwellBoltzmannDistribution\n",
    "from ase.md.verlet import VelocityVerlet\n",
    "from ase.md.langevin import Langevin\n",
    "\n",
    "atoms = build_slab()\n",
    "\n",
    "# view(atoms)\n",
    "\n",
    "T = 1000.0 # Temperature [Kelvin]\n",
    "timestep = 1.0 * units.fs\n",
    "\n",
    "# attach tight binding calculator\n",
    "\n",
    "MaxwellBoltzmannDistribution(atoms, 2.0 * T * units.kB)\n",
    "\n",
    "write_dftb_velocities(atoms, 'velocities.txt')\n",
    "\n",
    "calculator_quip = Dftb(label='mef',\n",
    "                      atoms=atoms,\n",
    "                      run_manyDftb_steps=True,\n",
    "                      Hamiltonian_MaxAngularMomentum_='',\n",
    "                      Hamiltonian_MaxAngularMomentum_Si='\"p\"',\n",
    "                      kpts = (1, 1, 1),\n",
    "                      Driver_='VelocityVerlet',\n",
    "                      Driver_MDRestartFrequency=1,\n",
    "                      Driver_Velocities_='',\n",
    "                      Driver_Velocities_empty='<<+ \"velocities.txt\"',\n",
    "                      Driver_Steps=1000,\n",
    "                      Driver_KeepStationary='Yes',\n",
    "                      Driver_TimeStep=0.413413733365614E+02,\n",
    "                        Driver_Thermostat_='Berendsen',\n",
    "                        Driver_Thermostat_Temperature=1000* 0.316681534524639E-05,  # 800*1.5 deg Celcius\n",
    "                        Driver_Thermostat_CouplingStrength=0.001,\n",
    "                      )\n",
    "    \n",
    "\n",
    "write_dftb_velocities(atoms, 'velocities.txt')\n",
    "os.system('rm md.log.* md.out* geo_end*xyz')\n",
    "atoms.set_calculator(calculator_quip)\n",
    "dynamics = VelocityVerlet(atoms, timestep)\n",
    "\n",
    "db = []\n",
    "def collect_data():\n",
    "    db.append(atoms.copy())\n",
    "    db[-1].info = {'energy':atoms.get_potential_energy()}\n",
    "\n",
    "dynamics.attach(collect_data, interval=1)\n",
    "dynamics.run(1)\n",
    "\n",
    "\n"
   ]
  },
  {
   "cell_type": "code",
   "execution_count": null,
   "metadata": {
    "ExecuteTime": {
     "end_time": "2020-11-17T20:53:39.781214Z",
     "start_time": "2020-11-17T20:53:38.103Z"
    },
    "hidden": true
   },
   "outputs": [],
   "source": [
    "db2 = [i for i in xyz.read_xyz(\"geo_end.xyz\",index = slice(0, -1))]"
   ]
  },
  {
   "cell_type": "code",
   "execution_count": null,
   "metadata": {
    "ExecuteTime": {
     "end_time": "2020-11-17T20:53:39.782493Z",
     "start_time": "2020-11-17T20:53:38.116Z"
    },
    "hidden": true,
    "scrolled": true
   },
   "outputs": [],
   "source": [
    "from quippy.descriptors import Descriptor\n",
    "\n",
    "desc = Descriptor(\"soap cutoff=4 l_max=3 n_max=4 normalize=T atom_sigma=0.5 n_Z=1 Z={14} \")\n"
   ]
  },
  {
   "cell_type": "code",
   "execution_count": null,
   "metadata": {
    "ExecuteTime": {
     "end_time": "2020-11-17T20:53:39.784546Z",
     "start_time": "2020-11-17T20:53:38.127Z"
    },
    "hidden": true
   },
   "outputs": [],
   "source": [
    "isolated_atom = Atoms(\"Si\", positions=[[0,0,0]])\n",
    "\n",
    "calc = Dftb(label='Si', atoms=isolated_atom,\n",
    "            run_manyDftb_steps=True,\n",
    "            Driver_='ConjugateGradient',\n",
    "            Driver_MaxForceComponent='1E-4',\n",
    "            Driver_MaxSteps=1000,\n",
    "            Hamiltonian_MaxAngularMomentum_='',\n",
    "            Hamiltonian_MaxAngularMomentum_Si='\"p\"',)\n",
    "\n",
    "\n",
    "isolated_atom.set_calculator(calc)\n",
    "E0 = isolated_atom.get_potential_energy()\n",
    "E0"
   ]
  },
  {
   "cell_type": "code",
   "execution_count": null,
   "metadata": {
    "ExecuteTime": {
     "end_time": "2020-11-17T20:53:39.786209Z",
     "start_time": "2020-11-17T20:53:38.139Z"
    },
    "hidden": true
   },
   "outputs": [],
   "source": [
    "!/home/erik/QUIP/build/linux_x86_64_gfortran/gap_fit --help"
   ]
  },
  {
   "cell_type": "code",
   "execution_count": null,
   "metadata": {
    "ExecuteTime": {
     "end_time": "2020-11-17T20:53:39.787796Z",
     "start_time": "2020-11-17T20:53:38.152Z"
    },
    "hidden": true
   },
   "outputs": [],
   "source": [
    "!/home/erik/QUIP/build/linux_x86_64_gfortran/gap_fit at_file=/tmp/atoms_db1.xyz \\\n",
    "gap={distance_Nb order=2 \\\n",
    "                 cutoff=5.0 \\\n",
    "                 covariance_type=ARD_SE \\\n",
    "                 theta_uniform=1.0 \\\n",
    "                 n_sparse=15 \\\n",
    "                 delta=1.0:\\\n",
    "     distance_Nb order=3 \\\n",
    "                 cutoff=4.0 \\\n",
    "                 covariance_type=ARD_SE \\\n",
    "                 theta_uniform=1.0 \\\n",
    "                 n_sparse=50 \\\n",
    "                 delta=0.004} \\\n",
    "e0=-29.716948405885105 \\\n",
    "default_sigma={0.005 0.5 0.0 0.0} \\\n",
    "do_copy_at_file=F sparse_separate_file=F \\\n",
    "gp_file=/tmp/gap_3b.xml"
   ]
  },
  {
   "cell_type": "code",
   "execution_count": null,
   "metadata": {
    "ExecuteTime": {
     "end_time": "2020-11-17T20:53:39.789603Z",
     "start_time": "2020-11-17T20:53:38.164Z"
    },
    "hidden": true
   },
   "outputs": [],
   "source": [
    "gap = Potential(param_filename='/tmp/gap_3b.xml')"
   ]
  },
  {
   "cell_type": "code",
   "execution_count": null,
   "metadata": {
    "ExecuteTime": {
     "end_time": "2020-11-17T20:53:39.791047Z",
     "start_time": "2020-11-17T20:53:38.171Z"
    },
    "hidden": true
   },
   "outputs": [],
   "source": [
    "db = [i for i in xyz.read_xyz(\"/tmp/atoms_db1.xyz\",index = slice(0, -1))]\n",
    "qm_energies = [at.info['energy'] for at in db]\n",
    "gap_energies = []\n",
    "for dba in db:\n",
    "    a = dba.copy()  \n",
    "    a.set_calculator(gap)\n",
    "    gap_energies.append(a.get_potential_energy())"
   ]
  },
  {
   "cell_type": "code",
   "execution_count": null,
   "metadata": {
    "ExecuteTime": {
     "end_time": "2020-11-17T20:53:39.792810Z",
     "start_time": "2020-11-17T20:53:38.180Z"
    },
    "hidden": true
   },
   "outputs": [],
   "source": [
    "Natoms = len(db[0])\n",
    "plt.scatter(np.array(qm_energies)/Natoms, np.array(gap_energies)/Natoms)\n",
    "plt.show()"
   ]
  },
  {
   "cell_type": "code",
   "execution_count": null,
   "metadata": {
    "ExecuteTime": {
     "end_time": "2020-11-17T20:53:39.794818Z",
     "start_time": "2020-11-17T20:53:38.187Z"
    },
    "hidden": true
   },
   "outputs": [],
   "source": [
    "np.sqrt(sum((np.array(qm_energies)/Natoms - np.array(gap_energies)/Natoms)**2)/len(gap_energies))\n"
   ]
  },
  {
   "cell_type": "code",
   "execution_count": null,
   "metadata": {
    "ExecuteTime": {
     "end_time": "2020-11-17T20:53:39.796804Z",
     "start_time": "2020-11-17T20:53:38.195Z"
    },
    "hidden": true
   },
   "outputs": [],
   "source": [
    "def show_atoms_grid(data, rotation = '-0x,0y,0z', save= False, filename = 'grid_configs'):\n",
    "    '''\n",
    "    Where data is list of Atoms objects\n",
    "    '''\n",
    "    dim = int(np.ceil(np.sqrt(len(data))))\n",
    "    fig, axarr = plt.subplots(dim, dim, figsize=(25, 25))\n",
    "    for i, config in enumerate(data):\n",
    "        plot_atoms(config, axarr[i%dim,i//dim], rotation = rotation)\n",
    "    if save:\n",
    "        fig.savefig(filename + \".png\")\n",
    "        \n",
    "def normalize(y,x):\n",
    "    \"\"\"\n",
    "    Takes y, x of data and returns normalized y\n",
    "    \"\"\"\n",
    "    return y/np.trapz(y,x)\n",
    "\n",
    "def KE(v_tot):\n",
    "    \"Returns KE of Ar+ in eV given total velocity\"\n",
    "    return 6.24E18 * 0.5 * 1.66E-27*39.95*(v_tot*1E5)**2\n",
    "\n",
    "def v_from_KE(E):\n",
    "    \"Returns v(z) of Ar+ in eV given KE\"\n",
    "    return np.sqrt(E/(6.24E18 * 0.5 * 1.66E-27*39.95))/1E5dimers = [Atoms(\"2Si\", positions=[[0,0,0], [x, 0,0]]) for x in np.linspace(1.6,6,100)]\n",
    "dimer_curve = []\n",
    "for dim in dimers:\n",
    "    dim.set_calculator(gap)\n",
    "    dimer_curve.append(dim.get_potential_energy())\n",
    "plt.plot([dim.positions[1,0] for dim in dimers], np.array(dimer_curve)/2.0)\n",
    "plt.show()"
   ]
  },
  {
   "cell_type": "code",
   "execution_count": null,
   "metadata": {
    "ExecuteTime": {
     "end_time": "2020-11-17T20:53:39.798783Z",
     "start_time": "2020-11-17T20:53:38.202Z"
    },
    "hidden": true
   },
   "outputs": [],
   "source": [
    "def show_atoms_grid(data, rotation = '-0x,0y,0z', save= False, filename = 'grid_configs'):\n",
    "    '''\n",
    "    Where data is list of Atoms objects\n",
    "    '''\n",
    "    dim = int(np.ceil(np.sqrt(len(data))))\n",
    "    fig, axarr = plt.subplots(dim, dim, figsize=(25, 25))\n",
    "    for i, config in enumerate(data):\n",
    "        plot_atoms(config, axarr[i%dim,i//dim], rotation = rotation)\n",
    "    if save:\n",
    "        fig.savefig(filename + \".png\")\n",
    "        \n",
    "def normalize(y,x):\n",
    "    \"\"\"\n",
    "    Takes y, x of data and returns normalized y\n",
    "    \"\"\"\n",
    "    return y/np.trapz(y,x)\n",
    "\n",
    "def KE(v_tot):\n",
    "    \"Returns KE of Ar+ in eV given total velocity\"\n",
    "    return 6.24E18 * 0.5 * 1.66E-27*39.95*(v_tot*1E5)**2\n",
    "\n",
    "def v_from_KE(E):\n",
    "    \"Returns v(z) of Ar+ in eV given KE\"\n",
    "    return np.sqrt(E/(6.24E18 * 0.5 * 1.66E-27*39.95))/1E5!/home/erik/QUIP/build/linux_x86_64_gfortran/gap_fit at_file=/tmp/atoms_db1.xyz \\\n",
    "gap={distance_Nb order=2 \\\n",
    "                 cutoff=5.0 \\\n",
    "                 covariance_type=ARD_SE \\\n",
    "                 theta_uniform=1.0 \\\n",
    "                 n_sparse=15 \\\n",
    "                 delta=1.0:\\\n",
    "     distance_Nb order=3 \\\n",
    "                 cutoff=4.0 \\\n",
    "                 covariance_type=ARD_SE \\\n",
    "                 theta_uniform=1.0 \\\n",
    "                 n_sparse=50 \\\n",
    "                 delta=0.004:\\\n",
    "     soap cutoff=4.0 \\\n",
    "          covariance_type=dot_product \\\n",
    "          zeta=2 \\\n",
    "          delta=0.016 \\\n",
    "          atom_sigma=0.7 \\\n",
    "          l_max=6 \\\n",
    "          n_max=6 \\\n",
    "          n_sparse=200 \\\n",
    "          sparse_method=cur_points} \\\n",
    "e0=-29.716948405885105 \\\n",
    "default_sigma={0.001 0.5 0.0 0.0} \\\n",
    "do_copy_at_file=F sparse_separate_file=F \\\n",
    "gp_file=/tmp/gap_2b3bsoap.xml 2>&1 | grep -v FoX"
   ]
  },
  {
   "cell_type": "code",
   "execution_count": null,
   "metadata": {
    "ExecuteTime": {
     "end_time": "2020-11-17T20:53:39.800435Z",
     "start_time": "2020-11-17T20:53:38.210Z"
    },
    "hidden": true
   },
   "outputs": [],
   "source": [
    "def show_atoms_grid(data, rotation = '-0x,0y,0z', save= False, filename = 'grid_configs'):\n",
    "    '''\n",
    "    Where data is list of Atoms objects\n",
    "    '''\n",
    "    dim = int(np.ceil(np.sqrt(len(data))))\n",
    "    fig, axarr = plt.subplots(dim, dim, figsize=(25, 25))\n",
    "    for i, config in enumerate(data):\n",
    "        plot_atoms(config, axarr[i%dim,i//dim], rotation = rotation)\n",
    "    if save:\n",
    "        fig.savefig(filename + \".png\")\n",
    "        \n",
    "def normalize(y,x):\n",
    "    \"\"\"\n",
    "    Takes y, x of data and returns normalized y\n",
    "    \"\"\"\n",
    "    return y/np.trapz(y,x)\n",
    "\n",
    "def KE(v_tot):\n",
    "    \"Returns KE of Ar+ in eV given total velocity\"\n",
    "    return 6.24E18 * 0.5 * 1.66E-27*39.95*(v_tot*1E5)**2\n",
    "\n",
    "def v_from_KE(E):\n",
    "    \"Returns v(z) of Ar+ in eV given KE\"\n",
    "    return np.sqrt(E/(6.24E18 * 0.5 * 1.66E-27*39.95))/1E5gap_soap = Potential(param_filename='/tmp/gap_2b3bsoap.xml')\n",
    "gap_energies = []\n",
    "for at in db:\n",
    "    a = at.copy()\n",
    "    a.set_calculator(gap_soap)\n",
    "    gap_energies.append(a.get_potential_energy())"
   ]
  },
  {
   "cell_type": "code",
   "execution_count": null,
   "metadata": {
    "ExecuteTime": {
     "end_time": "2020-11-17T20:53:39.801462Z",
     "start_time": "2020-11-17T20:53:38.217Z"
    },
    "hidden": true
   },
   "outputs": [],
   "source": [
    "np.sqrt(sum((np.array(qm_energies)/Natoms - np.array(gap_energies)/Natoms)**2)/len(gap_energies))"
   ]
  },
  {
   "cell_type": "code",
   "execution_count": null,
   "metadata": {
    "ExecuteTime": {
     "end_time": "2020-11-17T20:53:39.802743Z",
     "start_time": "2020-11-17T20:53:38.226Z"
    },
    "hidden": true
   },
   "outputs": [],
   "source": [
    "from scipy import stats\n",
    "sorted_energies = np.array(sorted(zip(qm_energies, gap_energies), key = lambda x: x[0]))\n",
    "slope, intercept, r_value, p_value, std_err = stats.linregress(\n",
    "    np.array(sorted_energies[:,0])/Natoms, np.array(sorted_energies[:,1])/Natoms\n",
    ")"
   ]
  },
  {
   "cell_type": "code",
   "execution_count": null,
   "metadata": {
    "ExecuteTime": {
     "end_time": "2020-11-17T20:53:39.804173Z",
     "start_time": "2020-11-17T20:53:38.234Z"
    },
    "hidden": true
   },
   "outputs": [],
   "source": [
    "plt.scatter(np.array(qm_energies)/Natoms, np.array(gap_energies)/Natoms)\n",
    "plt.plot(np.array(sorted_energies[:,0])/Natoms, np.array(sorted_energies[:, 0])/Natoms * slope + intercept, \n",
    "         label = \"slope = %.2f, fit = %.2f\" % (round(slope, 5), round(r_value, 5)))\n",
    "plt.xlabel(\"TB energies\")\n",
    "plt.ylabel(\"GAP energies\")\n",
    "# plt.xlim([-34.78, -34.775])\n",
    "plt.legend()\n",
    "plt.show()"
   ]
  },
  {
   "cell_type": "code",
   "execution_count": null,
   "metadata": {
    "ExecuteTime": {
     "end_time": "2020-11-17T20:53:39.807051Z",
     "start_time": "2020-11-17T20:53:38.248Z"
    },
    "hidden": true
   },
   "outputs": [],
   "source": [
    "#attach gap calculator\n",
    "atoms.set_calculator(gap_soap)\n",
    "from ase.md.langevin import Langevin\n",
    "\n",
    "timestep = 1.0 * units.fs\n",
    "T = 1000\n",
    "\n",
    "# Thermalize atoms\n",
    "# MaxwellBoltzmannDistribution(atoms, 2.0* T * units.kB)\n",
    "\n",
    "# dynamics = VelocityVerlet(atoms, timestep)\n",
    "dynamics = Langevin(atoms, timestep, T * units.kB, 0.002)\n",
    "\n",
    "dynamics.attach(print_status, interval=10)\n",
    "dynamics.attach(print_energy, interval=10)\n",
    "dynamics.run(steps=100)"
   ]
  }
 ],
 "metadata": {
  "kernelspec": {
   "display_name": "Python 3",
   "language": "python",
   "name": "python3"
  },
  "language_info": {
   "codemirror_mode": {
    "name": "ipython",
    "version": 3
   },
   "file_extension": ".py",
   "mimetype": "text/x-python",
   "name": "python",
   "nbconvert_exporter": "python",
   "pygments_lexer": "ipython3",
   "version": "3.7.7"
  },
  "latex_envs": {
   "LaTeX_envs_menu_present": true,
   "autoclose": false,
   "autocomplete": true,
   "bibliofile": "biblio.bib",
   "cite_by": "apalike",
   "current_citInitial": 1,
   "eqLabelWithNumbers": true,
   "eqNumInitial": 1,
   "hotkeys": {
    "equation": "Ctrl-E",
    "itemize": "Ctrl-I"
   },
   "labels_anchors": false,
   "latex_user_defs": false,
   "report_style_numbering": false,
   "user_envs_cfg": false
  },
  "toc": {
   "base_numbering": 1,
   "nav_menu": {},
   "number_sections": true,
   "sideBar": true,
   "skip_h1_title": false,
   "title_cell": "Table of Contents",
   "title_sidebar": "Contents",
   "toc_cell": false,
   "toc_position": {
    "height": "796px",
    "left": "52px",
    "top": "110px",
    "width": "383.797px"
   },
   "toc_section_display": true,
   "toc_window_display": true
  },
  "varInspector": {
   "cols": {
    "lenName": 16,
    "lenType": 16,
    "lenVar": 40
   },
   "kernels_config": {
    "python": {
     "delete_cmd_postfix": "",
     "delete_cmd_prefix": "del ",
     "library": "var_list.py",
     "varRefreshCmd": "print(var_dic_list())"
    },
    "r": {
     "delete_cmd_postfix": ") ",
     "delete_cmd_prefix": "rm(",
     "library": "var_list.r",
     "varRefreshCmd": "cat(var_dic_list()) "
    }
   },
   "types_to_exclude": [
    "module",
    "function",
    "builtin_function_or_method",
    "instance",
    "_Feature"
   ],
   "window_display": false
  }
 },
 "nbformat": 4,
 "nbformat_minor": 4
}
