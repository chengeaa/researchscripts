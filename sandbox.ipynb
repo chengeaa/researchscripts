{
 "cells": [
  {
   "cell_type": "code",
   "execution_count": 231,
   "metadata": {
    "ExecuteTime": {
     "end_time": "2021-07-20T03:05:35.689203Z",
     "start_time": "2021-07-20T03:05:35.678412Z"
    }
   },
   "outputs": [],
   "source": [
    "from ase.geometry.analysis import Analysis\n",
    "from utils import readStructs"
   ]
  },
  {
   "cell_type": "code",
   "execution_count": 232,
   "metadata": {
    "ExecuteTime": {
     "end_time": "2021-07-20T03:05:37.672330Z",
     "start_time": "2021-07-20T03:05:35.690866Z"
    }
   },
   "outputs": [
    {
     "data": {
      "image/png": "[encoded data removed]",
      "text/plain": [
       "<Figure size 288x432 with 3 Axes>"
      ]
     },
     "metadata": {
      "needs_background": "light"
     },
     "output_type": "display_data"
    }
   ],
   "source": [
    "import pandas as pd\n",
    "import numpy as np\n",
    "import matplotlib.pyplot as plt \n",
    "\n",
    "fig, axes = plt.subplots(nrows=3, ncols=1, figsize = (4,6))\n",
    "\n",
    "species = \"cf4\"\n",
    "run = \"1\"\n",
    "rlim = 11\n",
    "data = pd.read_csv(\"../{}_bomb{}_inputs/bondcounts.csv\".format(species, run), index_col=0)\n",
    "fig.suptitle('Distribution of bond counts formed after \\n \\\n",
    "             3 bombardments on surfaces with physisorbed $\\mathregular{CF_4}$')\n",
    "data.plot(kind = 'hist', y = 'N-C', bins = np.arange(0, rlim), xticks = np.arange(0,rlim), density = True, ax=axes[0])\n",
    "data.plot(kind = 'hist', y = 'Si-F', bins = np.arange(0, rlim), xticks = np.arange(0,rlim), density = True, ax=axes[1])\n",
    "data.plot(kind = 'hist', y = 'Si-C', bins = np.arange(0, rlim), xticks = np.arange(0,rlim), density = True, ax=axes[2])\n",
    "plt.xlabel(\"# bonds per surface\")\n",
    "plt.savefig(\"{}_bomb{}_bonds.png\".format(species, run), bbox_inches = 'tight', dpi = 400)"
   ]
  },
  {
   "cell_type": "code",
   "execution_count": 233,
   "metadata": {
    "ExecuteTime": {
     "end_time": "2021-07-20T03:05:38.097188Z",
     "start_time": "2021-07-20T03:05:37.674469Z"
    }
   },
   "outputs": [
    {
     "ename": "KeyboardInterrupt",
     "evalue": "",
     "output_type": "error",
     "traceback": [
      "\u001b[0;31m---------------------------------------------------------------------------\u001b[0m",
      "\u001b[0;31mKeyboardInterrupt\u001b[0m                         Traceback (most recent call last)",
      "\u001b[0;32m<ipython-input-233-e383711acc46>\u001b[0m in \u001b[0;36m<module>\u001b[0;34m\u001b[0m\n\u001b[1;32m      1\u001b[0m \u001b[0;31m# data = readStructs(\"../sirich.nhpoor.frun/\", shallow = False, name = 'output')\u001b[0m\u001b[0;34m\u001b[0m\u001b[0;34m\u001b[0m\u001b[0;34m\u001b[0m\u001b[0m\n\u001b[1;32m      2\u001b[0m \u001b[0;31m# data['analysis'] = [Analysis(i) for i in data['geom']]\u001b[0m\u001b[0;34m\u001b[0m\u001b[0;34m\u001b[0m\u001b[0;34m\u001b[0m\u001b[0m\n\u001b[0;32m----> 3\u001b[0;31m \u001b[0mdata\u001b[0m \u001b[0;34m=\u001b[0m \u001b[0mpd\u001b[0m\u001b[0;34m.\u001b[0m\u001b[0mread_pickle\u001b[0m\u001b[0;34m(\u001b[0m\u001b[0;34m\"../sirich.nhpoor.frun/data.pkl\"\u001b[0m\u001b[0;34m)\u001b[0m\u001b[0;34m\u001b[0m\u001b[0;34m\u001b[0m\u001b[0m\n\u001b[0m\u001b[1;32m      4\u001b[0m \u001b[0mdata\u001b[0m\u001b[0;34m\u001b[0m\u001b[0;34m\u001b[0m\u001b[0m\n",
      "\u001b[0;32m~/miniconda3/lib/python3.7/site-packages/pandas/io/pickle.py\u001b[0m in \u001b[0;36mread_pickle\u001b[0;34m(filepath_or_buffer, compression)\u001b[0m\n\u001b[1;32m    180\u001b[0m                 \u001b[0;31m# We want to silence any warnings about, e.g. moved modules.\u001b[0m\u001b[0;34m\u001b[0m\u001b[0;34m\u001b[0m\u001b[0;34m\u001b[0m\u001b[0m\n\u001b[1;32m    181\u001b[0m                 \u001b[0mwarnings\u001b[0m\u001b[0;34m.\u001b[0m\u001b[0msimplefilter\u001b[0m\u001b[0;34m(\u001b[0m\u001b[0;34m\"ignore\"\u001b[0m\u001b[0;34m,\u001b[0m \u001b[0mWarning\u001b[0m\u001b[0;34m)\u001b[0m\u001b[0;34m\u001b[0m\u001b[0;34m\u001b[0m\u001b[0m\n\u001b[0;32m--> 182\u001b[0;31m                 \u001b[0;32mreturn\u001b[0m \u001b[0mpickle\u001b[0m\u001b[0;34m.\u001b[0m\u001b[0mload\u001b[0m\u001b[0;34m(\u001b[0m\u001b[0mf\u001b[0m\u001b[0;34m)\u001b[0m\u001b[0;34m\u001b[0m\u001b[0;34m\u001b[0m\u001b[0m\n\u001b[0m\u001b[1;32m    183\u001b[0m         \u001b[0;32mexcept\u001b[0m \u001b[0mexcs_to_catch\u001b[0m\u001b[0;34m:\u001b[0m\u001b[0;34m\u001b[0m\u001b[0;34m\u001b[0m\u001b[0m\n\u001b[1;32m    184\u001b[0m             \u001b[0;31m# e.g.\u001b[0m\u001b[0;34m\u001b[0m\u001b[0;34m\u001b[0m\u001b[0;34m\u001b[0m\u001b[0m\n",
      "\u001b[0;32m~/miniconda3/lib/python3.7/copyreg.py\u001b[0m in \u001b[0;36m_reconstructor\u001b[0;34m(cls, base, state)\u001b[0m\n\u001b[1;32m     39\u001b[0m \u001b[0;31m# Support for pickling new-style objects\u001b[0m\u001b[0;34m\u001b[0m\u001b[0;34m\u001b[0m\u001b[0;34m\u001b[0m\u001b[0m\n\u001b[1;32m     40\u001b[0m \u001b[0;34m\u001b[0m\u001b[0m\n\u001b[0;32m---> 41\u001b[0;31m \u001b[0;32mdef\u001b[0m \u001b[0m_reconstructor\u001b[0m\u001b[0;34m(\u001b[0m\u001b[0mcls\u001b[0m\u001b[0;34m,\u001b[0m \u001b[0mbase\u001b[0m\u001b[0;34m,\u001b[0m \u001b[0mstate\u001b[0m\u001b[0;34m)\u001b[0m\u001b[0;34m:\u001b[0m\u001b[0;34m\u001b[0m\u001b[0;34m\u001b[0m\u001b[0m\n\u001b[0m\u001b[1;32m     42\u001b[0m     \u001b[0;32mif\u001b[0m \u001b[0mbase\u001b[0m \u001b[0;32mis\u001b[0m \u001b[0mobject\u001b[0m\u001b[0;34m:\u001b[0m\u001b[0;34m\u001b[0m\u001b[0;34m\u001b[0m\u001b[0m\n\u001b[1;32m     43\u001b[0m         \u001b[0mobj\u001b[0m \u001b[0;34m=\u001b[0m \u001b[0mobject\u001b[0m\u001b[0;34m.\u001b[0m\u001b[0m__new__\u001b[0m\u001b[0;34m(\u001b[0m\u001b[0mcls\u001b[0m\u001b[0;34m)\u001b[0m\u001b[0;34m\u001b[0m\u001b[0;34m\u001b[0m\u001b[0m\n",
      "\u001b[0;31mKeyboardInterrupt\u001b[0m: "
     ]
    }
   ],
   "source": [
    "# data = readStructs(\"../sirich.nhpoor.frun/\", shallow = False, name = 'output')\n",
    "# data['analysis'] = [Analysis(i) for i in data['geom']]\n",
    "data = pd.read_pickle(\"../sirich.nhpoor.frun/data.pkl\")\n",
    "data"
   ]
  },
  {
   "cell_type": "code",
   "execution_count": null,
   "metadata": {
    "ExecuteTime": {
     "end_time": "2021-07-20T03:05:38.103198Z",
     "start_time": "2021-07-20T03:05:35.688Z"
    }
   },
   "outputs": [],
   "source": [
    "data['sifbonds'] = [i.get_bonds(\"Si\",\"F\") for i in data['analysis']]\n",
    "data['ffbonds'] = [i.get_bonds(\"F\",\"F\") for i in data['analysis']]"
   ]
  },
  {
   "cell_type": "code",
   "execution_count": null,
   "metadata": {
    "ExecuteTime": {
     "end_time": "2021-07-20T03:05:38.104616Z",
     "start_time": "2021-07-20T03:05:35.692Z"
    }
   },
   "outputs": [],
   "source": [
    "from structure import getslab\n",
    "data['slabs'] = [getslab(i) for i in data['geom']]"
   ]
  },
  {
   "cell_type": "code",
   "execution_count": null,
   "metadata": {
    "ExecuteTime": {
     "end_time": "2021-07-20T03:05:38.105926Z",
     "start_time": "2021-07-20T03:05:35.695Z"
    }
   },
   "outputs": [],
   "source": [
    "data"
   ]
  },
  {
   "cell_type": "code",
   "execution_count": null,
   "metadata": {
    "ExecuteTime": {
     "end_time": "2021-07-20T03:05:38.107172Z",
     "start_time": "2021-07-20T03:05:35.698Z"
    }
   },
   "outputs": [],
   "source": [
    "from ase.visualize import view\n",
    "view(gen.read_gen(\"../sirich.nhpoor.frun/input0-0.gen\"))"
   ]
  },
  {
   "cell_type": "code",
   "execution_count": null,
   "metadata": {
    "ExecuteTime": {
     "end_time": "2021-07-20T03:05:38.108478Z",
     "start_time": "2021-07-20T03:05:35.702Z"
    }
   },
   "outputs": [],
   "source": [
    "view(data['geom'])"
   ]
  },
  {
   "cell_type": "code",
   "execution_count": null,
   "metadata": {
    "ExecuteTime": {
     "end_time": "2021-07-20T03:05:38.110063Z",
     "start_time": "2021-07-20T03:05:35.705Z"
    }
   },
   "outputs": [],
   "source": [
    "from ase.formula import Formula\n",
    "import numpy as np\n",
    "data['slabFratio'] = [\n",
    "    np.sum([i.symbol == \"F\" for i in data['slabs'][i]])/np.sum([i.symbol == \"F\" for i in data['geom'][i]])\n",
    "    for i in data.index\n",
    "]\n",
    "data"
   ]
  },
  {
   "cell_type": "code",
   "execution_count": null,
   "metadata": {
    "ExecuteTime": {
     "end_time": "2021-07-20T03:05:38.111171Z",
     "start_time": "2021-07-20T03:05:35.709Z"
    }
   },
   "outputs": [],
   "source": [
    "%matplotlib inline\n",
    "bins = np.arange(0, 0.6, 0.05)\n",
    "adsData.plot(kind = 'hist', y = 'slabFratio', \n",
    "          bins = bins, xticks = bins, title = 'percent of F incorporated into slab')"
   ]
  },
  {
   "cell_type": "code",
   "execution_count": null,
   "metadata": {
    "ExecuteTime": {
     "end_time": "2021-07-20T03:05:38.112260Z",
     "start_time": "2021-07-20T03:05:35.713Z"
    }
   },
   "outputs": [],
   "source": [
    "data['isolatedFatoms'] =  [\n",
    "    np.sum([i.symbol == \"F\" for i in data['geom'][i]])\n",
    "    - len(data['ffbonds'][i]) - np.sum([i.symbol == \"F\" for i in data['slabs'][i]])\n",
    "    for i in data.index\n",
    "]"
   ]
  },
  {
   "cell_type": "code",
   "execution_count": null,
   "metadata": {
    "ExecuteTime": {
     "end_time": "2021-07-20T03:05:38.114038Z",
     "start_time": "2021-07-20T03:05:35.717Z"
    }
   },
   "outputs": [],
   "source": [
    "bins = np.arange(4, 20, 1)\n",
    "annealData.plot(kind = 'hist', y = 'isolatedFatoms', \n",
    "          bins = bins, xticks = bins, title = \"distribution of # of isolated F atoms / slab\")"
   ]
  },
  {
   "cell_type": "code",
   "execution_count": null,
   "metadata": {
    "ExecuteTime": {
     "end_time": "2021-07-20T03:05:38.115448Z",
     "start_time": "2021-07-20T03:05:35.720Z"
    }
   },
   "outputs": [],
   "source": [
    "data"
   ]
  },
  {
   "cell_type": "code",
   "execution_count": null,
   "metadata": {
    "ExecuteTime": {
     "end_time": "2021-07-20T03:05:38.116772Z",
     "start_time": "2021-07-20T03:05:35.723Z"
    }
   },
   "outputs": [],
   "source": [
    "data.to_pickle(\"../sirich.nhpoor.frun/data.pkl\")"
   ]
  },
  {
   "cell_type": "code",
   "execution_count": null,
   "metadata": {
    "ExecuteTime": {
     "end_time": "2021-07-20T03:05:38.117955Z",
     "start_time": "2021-07-20T03:05:35.726Z"
    }
   },
   "outputs": [],
   "source": [
    "adsData = pd.read_pickle(\"../sirich.nhpoor.fads/data.pkl\") "
   ]
  },
  {
   "cell_type": "code",
   "execution_count": null,
   "metadata": {
    "ExecuteTime": {
     "end_time": "2021-07-20T03:05:38.119016Z",
     "start_time": "2021-07-20T03:05:35.729Z"
    }
   },
   "outputs": [],
   "source": [
    "annealData = data"
   ]
  },
  {
   "cell_type": "code",
   "execution_count": null,
   "metadata": {},
   "outputs": [],
   "source": []
  },
  {
   "cell_type": "code",
   "execution_count": null,
   "metadata": {
    "ExecuteTime": {
     "end_time": "2021-07-20T03:05:38.120082Z",
     "start_time": "2021-07-20T03:05:35.734Z"
    }
   },
   "outputs": [],
   "source": [
    "annealData['numffbonds'] = [len(i[0]) for i in annealData['ffbonds']] \n",
    "# adsData['numffbonds'] = [len(i[0]) for i in adsData['ffbonds']] \n",
    "annealData['numsifbonds'] = [len(i[0]) for i in annealData['sifbonds']] \n",
    "# adsData['numsifbonds'] = [len(i[0]) for i in adsData['sifbonds']] "
   ]
  },
  {
   "cell_type": "code",
   "execution_count": null,
   "metadata": {
    "ExecuteTime": {
     "end_time": "2021-07-20T03:05:38.121116Z",
     "start_time": "2021-07-20T03:05:35.737Z"
    }
   },
   "outputs": [],
   "source": [
    "changes = [\n",
    "    np.sum(annealData['numffbonds'] > adsData['numffbonds'])/len(annealData),\n",
    "    np.sum(annealData['numffbonds'] < adsData['numffbonds'])/len(annealData),\n",
    "    np.sum(annealData['numffbonds'] == adsData['numffbonds'])/len(annealData),\n",
    "    np.sum(annealData['numsifbonds'] > adsData['numsifbonds'])/len(annealData),\n",
    "    np.sum(annealData['numsifbonds'] < adsData['numsifbonds'])/len(annealData),\n",
    "    np.sum(annealData['numsifbonds'] == adsData['numsifbonds'])/len(annealData)\n",
    "]\n",
    "\n",
    "outputStrings = [\n",
    "   \"% of runs with increase in FF bonds:{}\",\n",
    "   \"% of runs with decrease in FF bonds:{}\",\n",
    "   \"% of runs with no change in FF bonds:{}\", \n",
    "   \"% of runs with increase in SiF bonds:{}\",\n",
    "   \"% of runs with decrease in SiF bonds:{}\",\n",
    "   \"% of runs with no change in SiF bonds:{}\" \n",
    "]\n",
    "for i, j in zip(outputStrings, changes):\n",
    "    print(i.format(round(j,2)))"
   ]
  },
  {
   "cell_type": "code",
   "execution_count": null,
   "metadata": {
    "ExecuteTime": {
     "end_time": "2021-07-20T03:05:38.122118Z",
     "start_time": "2021-07-20T03:05:35.740Z"
    }
   },
   "outputs": [],
   "source": [
    "adsData.loc['9-13', 'sifbonds']"
   ]
  },
  {
   "cell_type": "code",
   "execution_count": null,
   "metadata": {
    "ExecuteTime": {
     "end_time": "2021-07-20T03:05:38.123146Z",
     "start_time": "2021-07-20T03:05:35.745Z"
    }
   },
   "outputs": [],
   "source": [
    "annealData.loc['9-13', 'sifbonds']"
   ]
  },
  {
   "cell_type": "code",
   "execution_count": null,
   "metadata": {
    "ExecuteTime": {
     "end_time": "2021-07-20T03:05:38.124184Z",
     "start_time": "2021-07-20T03:05:35.748Z"
    }
   },
   "outputs": [],
   "source": [
    "adsData.loc['2-1', 'sifbonds']"
   ]
  },
  {
   "cell_type": "code",
   "execution_count": null,
   "metadata": {
    "ExecuteTime": {
     "end_time": "2021-07-20T03:05:38.125207Z",
     "start_time": "2021-07-20T03:05:35.751Z"
    }
   },
   "outputs": [],
   "source": [
    "annealData.loc['2-1', 'sifbonds']"
   ]
  },
  {
   "cell_type": "code",
   "execution_count": null,
   "metadata": {
    "ExecuteTime": {
     "end_time": "2021-07-20T03:05:38.126221Z",
     "start_time": "2021-07-20T03:05:35.754Z"
    }
   },
   "outputs": [],
   "source": [
    "Fpositions = []\n",
    "for geom in annealData['geom']:\n",
    "    for atom in geom:\n",
    "        if atom.symbol == \"F\":\n",
    "            Fpositions += [atom.position[2]]\n",
    "plt.hist(Fpositions, bins = np.arange(12, 40, 1))"
   ]
  },
  {
   "cell_type": "code",
   "execution_count": null,
   "metadata": {
    "ExecuteTime": {
     "end_time": "2021-07-20T03:05:38.127198Z",
     "start_time": "2021-07-20T03:05:35.757Z"
    }
   },
   "outputs": [],
   "source": [
    "Sicounts = []\n",
    "for geom in annealData['geom']:\n",
    "    sicount = 0\n",
    "    for atom in geom:\n",
    "        if atom.symbol == \"Si\" and atom.position[2] > 15:\n",
    "            sicount += 1\n",
    "    Sicounts += [sicount]\n",
    "plt.hist(Sicounts)"
   ]
  },
  {
   "cell_type": "code",
   "execution_count": null,
   "metadata": {
    "ExecuteTime": {
     "end_time": "2021-07-20T03:05:38.128184Z",
     "start_time": "2021-07-20T03:05:35.760Z"
    }
   },
   "outputs": [],
   "source": [
    "np.mean(Sicounts)"
   ]
  },
  {
   "cell_type": "code",
   "execution_count": null,
   "metadata": {
    "ExecuteTime": {
     "end_time": "2021-07-20T03:05:38.129181Z",
     "start_time": "2021-07-20T03:05:35.763Z"
    }
   },
   "outputs": [],
   "source": [
    "np.mean(annealData['numsifbonds'])"
   ]
  },
  {
   "cell_type": "code",
   "execution_count": null,
   "metadata": {
    "ExecuteTime": {
     "end_time": "2021-07-20T03:05:38.130025Z",
     "start_time": "2021-07-20T03:05:35.765Z"
    }
   },
   "outputs": [],
   "source": [
    "annealData = data\n",
    "Fdensities = []\n",
    "for fsicount, geom in zip(annealData['numsifbonds'], annealData['geom']):\n",
    "    minFz = np.min([atom.position[2] for atom in geom if atom.symbol == \"F\"]) \n",
    "    sicount = len([i for i in geom if \n",
    "                   i.symbol == \"Si\" and i.position[2] > 15]) \n",
    "    #1.5 is fudge factor for F bonded above Si\n",
    "    if fsicount == 0:\n",
    "        Fdensities += [0]\n",
    "    else:\n",
    "        Fdensities += [fsicount/sicount]\n",
    "plt.hist(Fdensities)\n",
    "plt.title('by min F z coord')\n",
    "print(\"average density:{}\".format(np.mean(Fdensities)))"
   ]
  },
  {
   "cell_type": "code",
   "execution_count": null,
   "metadata": {
    "ExecuteTime": {
     "end_time": "2021-07-20T03:05:38.131314Z",
     "start_time": "2021-07-20T03:05:35.768Z"
    }
   },
   "outputs": [],
   "source": [
    "from ase.visualize import view\n",
    "view(annealData['geom'][annealData['numsifbonds'] == 8])"
   ]
  },
  {
   "cell_type": "code",
   "execution_count": null,
   "metadata": {
    "ExecuteTime": {
     "end_time": "2021-07-20T03:05:38.132147Z",
     "start_time": "2021-07-20T03:05:35.771Z"
    }
   },
   "outputs": [],
   "source": [
    "mostFslabs = annealData.sort_values(by = 'numsifbonds', ascending = False).iloc[:17, :]['slabs']"
   ]
  },
  {
   "cell_type": "code",
   "execution_count": null,
   "metadata": {
    "ExecuteTime": {
     "end_time": "2021-07-20T03:05:38.133218Z",
     "start_time": "2021-07-20T03:05:35.774Z"
    }
   },
   "outputs": [],
   "source": [
    "leastFslabs = annealData.sort_values(by = 'numsifbonds').iloc[:17, :]['slabs']"
   ]
  },
  {
   "cell_type": "code",
   "execution_count": null,
   "metadata": {
    "ExecuteTime": {
     "end_time": "2021-07-20T03:05:38.134188Z",
     "start_time": "2021-07-20T03:05:35.777Z"
    }
   },
   "outputs": [],
   "source": [
    "from ase.geometry.analysis import Analysis\n",
    "rdfs = []\n",
    "for slab in mostFslabs:\n",
    "    a = Analysis(slab)\n",
    "    rmax = 5\n",
    "    y, x = a.get_rdf(rmax, nbins = int(rmax // 0.02), elements = [\"Si\", \"N\"], return_dists=True)[0]\n",
    "    rdfs += [y]"
   ]
  },
  {
   "cell_type": "code",
   "execution_count": null,
   "metadata": {
    "ExecuteTime": {
     "end_time": "2021-07-20T03:05:38.135470Z",
     "start_time": "2021-07-20T03:05:35.779Z"
    }
   },
   "outputs": [],
   "source": [
    "meanrdf = np.mean(np.array(rdfs), axis = 0)\n",
    "plt.plot(x, meanrdf)\n",
    "peaks = find_peaks(meanrdf)[0]\n",
    "maxpeak = max(peaks, key = lambda x: meanrdf[x]) #1NN is highest peak\n",
    "plt.scatter(x[maxpeak], meanrdf[maxpeak])"
   ]
  },
  {
   "cell_type": "code",
   "execution_count": null,
   "metadata": {
    "ExecuteTime": {
     "end_time": "2021-07-20T03:05:38.136684Z",
     "start_time": "2021-07-20T03:05:35.782Z"
    }
   },
   "outputs": [],
   "source": [
    "avglens = []\n",
    "for slab in mostFslabs:\n",
    "    a = Analysis(slab)\n",
    "    rmax = 5\n",
    "    sifbonds = a.get_bonds(\"Si\", \"N\")\n",
    "    avglens += [np.mean(a.get_values(sifbonds))]"
   ]
  },
  {
   "cell_type": "code",
   "execution_count": null,
   "metadata": {
    "ExecuteTime": {
     "end_time": "2021-07-20T03:05:38.137756Z",
     "start_time": "2021-07-20T03:05:35.785Z"
    }
   },
   "outputs": [],
   "source": [
    "np.mean(avglens)"
   ]
  },
  {
   "cell_type": "code",
   "execution_count": null,
   "metadata": {
    "ExecuteTime": {
     "end_time": "2021-07-20T03:05:38.138811Z",
     "start_time": "2021-07-20T03:05:35.787Z"
    }
   },
   "outputs": [],
   "source": [
    "avglens = []\n",
    "for slab in leastFslabs:\n",
    "    a = Analysis(slab)\n",
    "    rmax = 5\n",
    "    sifbonds = a.get_bonds(\"Si\", \"N\")\n",
    "    avglens += [np.mean(a.get_values(sifbonds))]"
   ]
  },
  {
   "cell_type": "code",
   "execution_count": null,
   "metadata": {
    "ExecuteTime": {
     "end_time": "2021-07-20T03:05:38.139876Z",
     "start_time": "2021-07-20T03:05:35.790Z"
    }
   },
   "outputs": [],
   "source": [
    "np.mean(avglens)"
   ]
  },
  {
   "cell_type": "code",
   "execution_count": null,
   "metadata": {
    "ExecuteTime": {
     "end_time": "2021-07-20T03:05:38.140918Z",
     "start_time": "2021-07-20T03:05:35.793Z"
    }
   },
   "outputs": [],
   "source": [
    "(mostFslabspeakX - leastFslabspeakX)/mostFslabspeakX"
   ]
  },
  {
   "cell_type": "code",
   "execution_count": null,
   "metadata": {
    "ExecuteTime": {
     "end_time": "2021-07-20T03:05:38.141975Z",
     "start_time": "2021-07-20T03:05:35.796Z"
    }
   },
   "outputs": [],
   "source": [
    "from scipy.signal import find_peaks\n",
    "from ase.geometry.analysis import Analysis\n",
    "def averageRDF(structs):\n",
    "    rdfs = []\n",
    "    for slab in structs:\n",
    "        slab = slab[[atom.position[2] > 15 for atom in slab]]\n",
    "        a = Analysis(slab)\n",
    "        rmax = 5\n",
    "        y, x = a.get_rdf(rmax, nbins = int(rmax // 0.02), elements = [\"Si\", \"N\"], return_dists=True)[0]\n",
    "        rdfs += [y]\n",
    "    meanrdf = np.mean(np.array(rdfs), axis = 0)\n",
    "    plt.plot(x, meanrdf)\n",
    "    peaks = find_peaks(meanrdf)[0]\n",
    "    maxpeak = max(peaks, key = lambda x: meanrdf[x]) #1NN is highest peak\n",
    "    plt.scatter(x[maxpeak], meanrdf[maxpeak])\n",
    "    return x[maxpeak]\n",
    "plt.title(\"mostF\")\n",
    "mostFslabspeakX = averageRDF(mostFslabs)\n",
    "# plt.show()\n",
    "plt.title(\"leastF\")\n",
    "leastFslabspeakX = averageRDF(leastFslabs)\n",
    "plt.show()\n",
    "print(\"1NN peak locations and difference:\")\n",
    "print(mostFslabspeakX, leastFslabspeakX, mostFslabspeakX - leastFslabspeakX)"
   ]
  },
  {
   "cell_type": "code",
   "execution_count": null,
   "metadata": {
    "ExecuteTime": {
     "end_time": "2021-07-20T03:05:38.143045Z",
     "start_time": "2021-07-20T03:05:35.798Z"
    }
   },
   "outputs": [],
   "source": [
    "from ase.visualize import view\n",
    "temp = adsData.loc['7-2', 'geom'].copy()\n",
    "temp.wrap()\n",
    "view(temp)"
   ]
  },
  {
   "cell_type": "code",
   "execution_count": null,
   "metadata": {
    "ExecuteTime": {
     "end_time": "2021-07-20T03:05:38.144173Z",
     "start_time": "2021-07-20T03:05:35.801Z"
    }
   },
   "outputs": [],
   "source": [
    "annealData[annealData['numsifbonds'] < adsData['numsifbonds']].index"
   ]
  },
  {
   "cell_type": "code",
   "execution_count": null,
   "metadata": {
    "ExecuteTime": {
     "end_time": "2021-07-20T03:05:38.145591Z",
     "start_time": "2021-07-20T03:05:35.804Z"
    }
   },
   "outputs": [],
   "source": [
    "adsData.loc['6-13', 'sifbonds']"
   ]
  },
  {
   "cell_type": "code",
   "execution_count": null,
   "metadata": {
    "ExecuteTime": {
     "end_time": "2021-07-20T03:05:38.147060Z",
     "start_time": "2021-07-20T03:05:35.807Z"
    }
   },
   "outputs": [],
   "source": [
    "bins = np.arange(4)\n",
    "annealData.plot(kind = 'hist', y = 'numffbonds', xticks = bins, bins = bins)"
   ]
  },
  {
   "cell_type": "code",
   "execution_count": null,
   "metadata": {
    "ExecuteTime": {
     "end_time": "2021-07-20T03:05:38.148612Z",
     "start_time": "2021-07-20T03:05:35.809Z"
    }
   },
   "outputs": [],
   "source": [
    "mostFslabs"
   ]
  },
  {
   "cell_type": "code",
   "execution_count": null,
   "metadata": {
    "ExecuteTime": {
     "end_time": "2021-07-20T03:05:38.150123Z",
     "start_time": "2021-07-20T03:05:35.812Z"
    }
   },
   "outputs": [],
   "source": [
    "view(mostFslabs)"
   ]
  },
  {
   "cell_type": "code",
   "execution_count": null,
   "metadata": {
    "ExecuteTime": {
     "end_time": "2021-07-20T03:05:38.151456Z",
     "start_time": "2021-07-20T03:05:35.814Z"
    }
   },
   "outputs": [],
   "source": [
    "print(os.system(\"pwd\"))"
   ]
  },
  {
   "cell_type": "code",
   "execution_count": null,
   "metadata": {
    "ExecuteTime": {
     "end_time": "2021-07-20T03:05:38.152785Z",
     "start_time": "2021-07-20T03:05:35.817Z"
    }
   },
   "outputs": [],
   "source": [
    "import os\n",
    "from input_generation import randomGrid\n",
    "\n",
    "i = 0\n",
    "for idx, slab in mostFslabs.iloc[:10].items():\n",
    "    print(idx)\n",
    "    slab = gen.read_gen(\"../input{}.gen\".format(i))\n",
    "    del slab[[atom.index for atom in slab if atom.symbol == \"Ar\"]]\n",
    "    outdir = \"atomic.f.input{}/\".format(i)\n",
    "#     os.mkdir(outdir)\n",
    "    randomGrid(\"Ar\", slab, h = 6, outputDir = outdir, numDirs = 1, runsPerDir = 17)\n",
    "    i += 1"
   ]
  },
  {
   "cell_type": "code",
   "execution_count": null,
   "metadata": {
    "ExecuteTime": {
     "end_time": "2021-07-20T03:05:38.153964Z",
     "start_time": "2021-07-20T03:05:35.820Z"
    }
   },
   "outputs": [],
   "source": [
    "from ase.io import gen\n",
    "view([gen.read_gen(\"atomic.f.input1/\" + i) for i in os.listdir(\"atomic.f.input1\")])\n",
    "view([gen.read_gen(\"atomic.f.input0/\" + i) for i in os.listdir(\"atomic.f.input0\")])"
   ]
  },
  {
   "cell_type": "code",
   "execution_count": null,
   "metadata": {
    "ExecuteTime": {
     "end_time": "2021-07-20T03:05:38.154934Z",
     "start_time": "2021-07-20T03:05:35.822Z"
    }
   },
   "outputs": [],
   "source": [
    "# estimating atom removal -> etch rate (Å) conversion\n",
    "# 1 impact per s per cm^2 is 1E-16 impacts per Å^2 per second\n",
    "# The flux is 6E16 per s per cm^2, so 6 impact per Å^2 per second\n",
    "# So on a 15x15 surface, for 10 seconds, that's about 13,500 impacts over one cycle\n",
    "\n",
    "#calculate average number of N, Si atoms in 1Å of material (using the range 7.5-8.5 Å, halfway-ish in slab):\n",
    "\n",
    "\n",
    "ncounts = []\n",
    "sicounts = []\n",
    "for slab in annealData['geom']:\n",
    "    ncounts += [len([a for a in slab if a.symbol == \"N\" and 7.5 <= a.position[2] <= 8.5])]\n",
    "    sicounts += [len([a for a in slab if a.symbol == \"Si\" and 7.5 <= a.position[2] <= 8.5])]"
   ]
  },
  {
   "cell_type": "code",
   "execution_count": null,
   "metadata": {
    "ExecuteTime": {
     "end_time": "2021-07-20T03:05:38.156065Z",
     "start_time": "2021-07-20T03:05:35.826Z"
    }
   },
   "outputs": [],
   "source": [
    "np.mean(ncounts), np.std(ncounts)"
   ]
  },
  {
   "cell_type": "code",
   "execution_count": null,
   "metadata": {
    "ExecuteTime": {
     "end_time": "2021-07-20T03:05:38.156863Z",
     "start_time": "2021-07-20T03:05:35.828Z"
    }
   },
   "outputs": [],
   "source": [
    "plt.hist(ncounts, bins = np.arange(6, 16));"
   ]
  },
  {
   "cell_type": "code",
   "execution_count": null,
   "metadata": {
    "ExecuteTime": {
     "end_time": "2021-07-20T03:05:38.157649Z",
     "start_time": "2021-07-20T03:05:35.831Z"
    }
   },
   "outputs": [],
   "source": [
    "np.mean(sicounts), np.std(sicounts)"
   ]
  },
  {
   "cell_type": "code",
   "execution_count": null,
   "metadata": {
    "ExecuteTime": {
     "end_time": "2021-07-20T03:05:38.158664Z",
     "start_time": "2021-07-20T03:05:35.834Z"
    }
   },
   "outputs": [],
   "source": [
    "plt.hist(sicounts, bins = np.arange(4, 14));"
   ]
  },
  {
   "cell_type": "code",
   "execution_count": null,
   "metadata": {
    "ExecuteTime": {
     "end_time": "2021-07-20T03:05:38.159774Z",
     "start_time": "2021-07-20T03:05:35.836Z"
    }
   },
   "outputs": [],
   "source": [
    "7.9/ 10.4"
   ]
  },
  {
   "cell_type": "code",
   "execution_count": null,
   "metadata": {
    "ExecuteTime": {
     "end_time": "2021-07-20T03:05:38.160671Z",
     "start_time": "2021-07-20T03:05:35.839Z"
    }
   },
   "outputs": [],
   "source": [
    "annealData.head()"
   ]
  },
  {
   "cell_type": "code",
   "execution_count": null,
   "metadata": {
    "ExecuteTime": {
     "end_time": "2021-07-20T03:05:38.161819Z",
     "start_time": "2021-07-20T03:05:35.842Z"
    }
   },
   "outputs": [],
   "source": [
    "k = 10 #W/mK\n",
    "dT0 = 1000 - 100 #K\n",
    "dx = \n",
    "\n",
    "q0 = - "
   ]
  },
  {
   "cell_type": "code",
   "execution_count": null,
   "metadata": {
    "ExecuteTime": {
     "end_time": "2021-07-20T03:05:38.163334Z",
     "start_time": "2021-07-20T03:05:35.845Z"
    }
   },
   "outputs": [],
   "source": [
    "aggregatesinbondlengths = []\n",
    "for idx, row in annealData[['geom', 'analysis', 'sifbonds']].iterrows():\n",
    "    # get data for structure ``idx``\n",
    "    geom, ana, sifbonds = row['geom'], row['analysis'], row['sifbonds'][0]\n",
    "    sinbondlengths = []\n",
    "    allbonds = ana.all_bonds[0]\n",
    "    \n",
    "    # go through each SiF bond\n",
    "    for atom1, atom2 in sifbonds: # 0 index because each thing assumes some list of structs\n",
    "        if geom[atom1].symbol == \"Si\":\n",
    "            sibonds = allbonds[atom1]\n",
    "            siIdx = atom1\n",
    "        elif geom[atom2].symbol == \"Si\":\n",
    "            sibonds = allbonds[atom2]\n",
    "            siIdx = atom2\n",
    "        else:\n",
    "            raise Exception(\"oops\")\n",
    "        \n",
    "        #go through bondlist for each silicon atom (from list of SiF bonds); find which ones are N\n",
    "        sinbonds = [i for i in sibonds if geom[i].symbol == \"N\"]\n",
    "        \n",
    "        #get bond lengths for each\n",
    "        sinbondlengths += [ana.get_bond_value(0, [siIdx, i]) for i in sinbonds]\n",
    "#         print([ana.get_bond_value(0, [siIdx, i]) for i in sinbonds])\n",
    "#     print(sinbondlengths)\n",
    "    aggregatesinbondlengths += sinbondlengths"
   ]
  },
  {
   "cell_type": "code",
   "execution_count": null,
   "metadata": {
    "ExecuteTime": {
     "end_time": "2021-07-20T03:05:38.164574Z",
     "start_time": "2021-07-20T03:05:35.848Z"
    }
   },
   "outputs": [],
   "source": [
    "allbonds[0]"
   ]
  },
  {
   "cell_type": "code",
   "execution_count": null,
   "metadata": {
    "ExecuteTime": {
     "end_time": "2021-07-20T03:05:38.165541Z",
     "start_time": "2021-07-20T03:05:35.851Z"
    }
   },
   "outputs": [],
   "source": [
    "aggregatesinbondlengths = []\n",
    "for idx, row in annealData.loc[leastFslabs.index, ['geom', 'analysis', 'sifbonds']].iterrows():\n",
    "    # get data for structure ``idx``\n",
    "    geom, ana, sifbonds = row['geom'], row['analysis'], row['sifbonds'][0]\n",
    "    sinbondlengths = []\n",
    "    allbonds = ana.all_bonds[0]\n",
    "    \n",
    "    # go through every single bond\n",
    "    for atom1, bonds in enumerate(allbonds):\n",
    "        for atom2 in bonds: # 0 index because each thing assumes some list of structs\n",
    "            if geom[atom1].symbol == \"Si\":\n",
    "                sibonds = allbonds[atom1]\n",
    "                siIdx = atom1\n",
    "            elif geom[atom2].symbol == \"Si\":\n",
    "                sibonds = allbonds[atom2]\n",
    "                siIdx = atom2\n",
    "#             else:\n",
    "#                 raise Exception(\"oops\")\n",
    "\n",
    "            #go through bondlist for each silicon atom (from list of SiF bonds); find which ones are N\n",
    "            sinbonds = [i for i in sibonds if geom[i].symbol == \"N\"]\n",
    "\n",
    "            #get bond lengths for each\n",
    "            sinbondlengths += [ana.get_bond_value(0, [siIdx, i]) for i in sinbonds]\n",
    "    #         print([ana.get_bond_value(0, [siIdx, i]) for i in sinbonds])\n",
    "    #     print(sinbondlengths)\n",
    "    aggregatesinbondlengths += sinbondlengths"
   ]
  },
  {
   "cell_type": "code",
   "execution_count": null,
   "metadata": {
    "ExecuteTime": {
     "end_time": "2021-07-20T03:05:38.169547Z",
     "start_time": "2021-07-20T03:05:35.854Z"
    }
   },
   "outputs": [],
   "source": [
    "aggregatesinbondlengths = np.array(aggregatesinbondlengths)[np.array(aggregatesinbondlengths) < 2.0]\n",
    "plt.hist(aggregatesinbondlengths)\n",
    "plt.title(\"distribution of Si-N bond lengths for Si in structures SiF bond\")\n",
    "print(\"mean: {}, sd: {}\".format(np.mean(aggregatesinbondlengths), np.std(aggregatesinbondlengths)))"
   ]
  },
  {
   "cell_type": "code",
   "execution_count": null,
   "metadata": {
    "ExecuteTime": {
     "end_time": "2021-07-20T03:05:38.170715Z",
     "start_time": "2021-07-20T03:05:35.858Z"
    }
   },
   "outputs": [],
   "source": [
    "annealData[['geom', 'sifbonds']].iterrows()"
   ]
  },
  {
   "cell_type": "code",
   "execution_count": null,
   "metadata": {
    "ExecuteTime": {
     "end_time": "2021-07-20T03:05:38.171654Z",
     "start_time": "2021-07-20T03:05:35.861Z"
    }
   },
   "outputs": [],
   "source": [
    "import os\n",
    "from ase.io import gen\n",
    "path = \"../f.saturate/\"\n",
    "geoms = [gen.read_gen(path + i) for i in os.listdir(path) if \"max17\" in i]"
   ]
  },
  {
   "cell_type": "code",
   "execution_count": null,
   "metadata": {
    "ExecuteTime": {
     "end_time": "2021-07-20T03:05:38.172639Z",
     "start_time": "2021-07-20T03:05:35.864Z"
    }
   },
   "outputs": [],
   "source": [
    "from ase.visualize import view\n",
    "view(geoms)"
   ]
  },
  {
   "cell_type": "code",
   "execution_count": null,
   "metadata": {
    "ExecuteTime": {
     "end_time": "2021-07-20T03:05:38.173701Z",
     "start_time": "2021-07-20T03:05:35.867Z"
    }
   },
   "outputs": [],
   "source": [
    "s = gen.read_gen(\"../s0.1_r1.65_max17.5_min5.gen\")"
   ]
  },
  {
   "cell_type": "code",
   "execution_count": null,
   "metadata": {
    "ExecuteTime": {
     "end_time": "2021-07-20T03:05:38.175116Z",
     "start_time": "2021-07-20T03:05:35.870Z"
    }
   },
   "outputs": [],
   "source": [
    "import pandas as pd\n",
    "pd.Series(s.symbols.formula.count())"
   ]
  },
  {
   "cell_type": "code",
   "execution_count": null,
   "metadata": {
    "ExecuteTime": {
     "end_time": "2021-07-20T03:05:38.176330Z",
     "start_time": "2021-07-20T03:05:35.873Z"
    }
   },
   "outputs": [],
   "source": [
    "import matplotlib.pyplot as plt\n",
    "import numpy as np\n",
    "\n",
    "counts, ledges = np.histogram(a = [a.position[2] for a in s if a.symbol == \"F\"], bins = np.arange(4, 20))\n",
    "plt.hist(x = [a.position[2] for a in s if a.symbol == \"F\"], bins = np.arange(4,20))\n",
    "plt.title(\"F distribution\")\n"
   ]
  },
  {
   "cell_type": "code",
   "execution_count": null,
   "metadata": {
    "ExecuteTime": {
     "end_time": "2021-07-20T03:05:38.177238Z",
     "start_time": "2021-07-20T03:05:35.876Z"
    }
   },
   "outputs": [],
   "source": [
    "from scipy.stats import norm\n",
    "np.random.seed(429)\n",
    "temp = s.copy()\n",
    "del temp[[a.index for a in temp if \n",
    "          0.17 * np.random.random() > \n",
    "          norm(scale = 5, loc = 15).pdf(a.position[2])\n",
    "          and a.symbol == \"F\"]]\n",
    "# view(temp)\n",
    "temp"
   ]
  },
  {
   "cell_type": "code",
   "execution_count": null,
   "metadata": {
    "ExecuteTime": {
     "end_time": "2021-07-20T03:05:38.178079Z",
     "start_time": "2021-07-20T03:05:35.878Z"
    }
   },
   "outputs": [],
   "source": [
    "pd.Series(temp.symbols.formula.count())/131"
   ]
  },
  {
   "cell_type": "code",
   "execution_count": null,
   "metadata": {
    "ExecuteTime": {
     "end_time": "2021-07-20T03:05:38.178869Z",
     "start_time": "2021-07-20T03:05:35.881Z"
    }
   },
   "outputs": [],
   "source": [
    "pd.Series(temp.symbols.formula.count())"
   ]
  },
  {
   "cell_type": "code",
   "execution_count": null,
   "metadata": {
    "ExecuteTime": {
     "end_time": "2021-07-20T03:05:38.180069Z",
     "start_time": "2021-07-20T03:05:35.884Z"
    },
    "scrolled": true
   },
   "outputs": [],
   "source": [
    "plt.hist(x = [a.position[2] for a in temp if a.symbol == \"F\"], bins = np.arange(4,20))\n",
    "plt.title(\"F distribution\")"
   ]
  },
  {
   "cell_type": "code",
   "execution_count": null,
   "metadata": {
    "ExecuteTime": {
     "end_time": "2021-07-20T03:05:38.181078Z",
     "start_time": "2021-07-20T03:05:35.887Z"
    }
   },
   "outputs": [],
   "source": [
    "view(temp)"
   ]
  },
  {
   "cell_type": "code",
   "execution_count": null,
   "metadata": {
    "ExecuteTime": {
     "end_time": "2021-07-20T03:05:38.182066Z",
     "start_time": "2021-07-20T03:05:35.890Z"
    }
   },
   "outputs": [],
   "source": [
    "np.mean([a.position[2] for a in temp if a.symbol == \"F\"])"
   ]
  },
  {
   "cell_type": "code",
   "execution_count": null,
   "metadata": {
    "ExecuteTime": {
     "end_time": "2021-07-20T03:05:38.182853Z",
     "start_time": "2021-07-20T03:05:35.893Z"
    }
   },
   "outputs": [],
   "source": [
    "gen.write_gen(\"sif0.75.gen\", temp)"
   ]
  },
  {
   "cell_type": "code",
   "execution_count": null,
   "metadata": {
    "ExecuteTime": {
     "end_time": "2021-07-20T03:05:38.183881Z",
     "start_time": "2021-07-20T03:05:35.895Z"
    }
   },
   "outputs": [],
   "source": [
    "from ase.build import diamond100, diamond111, add_vacuum\n",
    "from ase.visualize import view\n",
    "slab = diamond100('Si', size=(8, 8, 4), vacuum = 10)\n",
    "for atom in slab:\n",
    "    atom.position[2] = atom.position[2] - 8 \n",
    "view(slab)\n",
    "slab"
   ]
  },
  {
   "cell_type": "code",
   "execution_count": null,
   "metadata": {
    "ExecuteTime": {
     "end_time": "2021-07-20T03:05:38.185420Z",
     "start_time": "2021-07-20T03:05:35.898Z"
    }
   },
   "outputs": [],
   "source": [
    "np.max(b.positions[:, 2])"
   ]
  },
  {
   "cell_type": "code",
   "execution_count": null,
   "metadata": {
    "ExecuteTime": {
     "end_time": "2021-07-20T03:05:38.186382Z",
     "start_time": "2021-07-20T03:05:35.901Z"
    }
   },
   "outputs": [],
   "source": [
    "from ase.build import bulk, make_supercell\n",
    "from ase.constraints import FixAtoms\n",
    "from ase.atom import Atom\n",
    "# b = bulk(\"Si\", 'diamond', orthorhombic=True)\n",
    "b = diamond111(\"Si\", size = (1,1,11))\n",
    "del b[[a.index for a in b if a.position[2] == np.max(b.positions[:, 2])]]\n",
    "#make unit cell\n",
    "# m1, m2 = 1, 2\n",
    "# b = make_supercell(b, P = np.array([[m1, 0, 0], [0, m1, 0], [0, 0, m2]]))\n",
    "\n",
    "# terminate \n",
    "topSi, botSi = np.array(sorted(b, key = lambda a: a.position[2], reverse = True))[np.array([0, -1])]\n",
    "temp = Atom(\"H\", position = topSi.position.copy())\n",
    "temp.position += np.array([0, 0, 1.4])\n",
    "b.append(temp)\n",
    "temp = Atom(\"H\", position = botSi.position.copy())\n",
    "temp.position -= np.array([0, 0, 1.4])\n",
    "b.append(temp)\n",
    "\n",
    "b.center(vacuum = 10, axis = (2))\n",
    "view(b)\n",
    "\n",
    "# #extend to supercell slab\n",
    "m1, m2 = 6, 1\n",
    "b = make_supercell(b, P = np.array([[m1, 0, 0], [0, m1, 0], [0, 0, m2]]))\n",
    "\n",
    "#constrain middle layer\n",
    "midZ = b.cell[2,2]/2 #assume Cell object is 3x3 array\n",
    "midDist = lambda atom: np.abs(atom.position[2] - midZ)\n",
    "b2 = sorted(b, key = midDist, reverse = False)\n",
    "b = b[[atom.index for atom in b2]]\n",
    "b.constraints = FixAtoms(np.arange(2 * 2 * 8 * 2))\n",
    "\n",
    "view(b)\n",
    "b\n",
    "# gen.write_gen(\"slab.gen\")"
   ]
  },
  {
   "cell_type": "code",
   "execution_count": null,
   "metadata": {
    "ExecuteTime": {
     "end_time": "2021-07-20T03:05:38.187573Z",
     "start_time": "2021-07-20T03:05:35.904Z"
    },
    "code_folding": []
   },
   "outputs": [],
   "source": [
    "from ase.io import vasp\n",
    "for i in range(5):\n",
    "    s = vasp.read_vasp(\"../POSCAR{}\".format(i))\n",
    "    \n",
    "    argons = [a for a in s if a.symbol == \"Ar\"]\n",
    "    minArZ = min([np.abs(a.position[2] - 17.422) for a in argons])\n",
    "    minAr = [a for a in s if np.abs(a.position[2] - 17.422) == minArZ][0]\n",
    "    \n",
    "    del s[[a.index for a in s if s.get_distance(a.index, minAr.index, mic = True) > 5]]\n",
    "#     view(s)\n",
    "    print(s)\n",
    "    vasp.write_vasp(\"../POSCAR{}_trimmed\".format(i), s, vasp5=True, sort = True)"
   ]
  },
  {
   "cell_type": "code",
   "execution_count": null,
   "metadata": {
    "ExecuteTime": {
     "end_time": "2021-07-20T03:05:38.188406Z",
     "start_time": "2021-07-20T03:05:35.907Z"
    }
   },
   "outputs": [],
   "source": [
    "from ase.io import gen\n",
    "import pandas as pd\n",
    "import numpy as np\n",
    "from ase.geometry.analysis import Analysis\n",
    "\n",
    "def getslab(struct):\n",
    "    \"\"\"\n",
    "    Input: \n",
    "        struct: structre from which we will trim unbound species (.gen file)\n",
    "    Output:\n",
    "        baseslab: structure with unbound species trimmed\n",
    "    \"\"\"\n",
    "    adjmat = Analysis(struct).adjacency_matrix[0]\n",
    "    numnodes = adjmat.shape[0]\n",
    "    g = Graph(numnodes)\n",
    "    for i in range(numnodes):\n",
    "        for j in range(numnodes):\n",
    "            if adjmat[i,j]:\n",
    "                g.addEdge(i,j)\n",
    "    cc = g.connectedComponents()\n",
    "    maingraph = np.array([i for i in cc if 0 in i][0])\n",
    "    return struct[[atom.index for atom in struct if atom.index in maingraph]]\n",
    "# Python program to print connected\n",
    "# components in an undirected graph\n",
    "# https://www.geeksforgeeks.org/connected-components-in-an-undirected-graph/\n",
    "\n",
    "def getslabs(data, directory, useInputs = False):\n",
    "    \"\"\"\n",
    "    Utility for getting and writing slab files from readData (utils.py) function\n",
    "    data is the df from readData function or any df with (struct, in) and (struct, out) columns\n",
    "    \"\"\"\n",
    "\n",
    "    if useInputs:\n",
    "        slabSource = data['struct']['in']\n",
    "    else:\n",
    "        slabSource = data['struct']['out']\n",
    "\n",
    "    dataDir = directory\n",
    "    slabs = {}\n",
    "\n",
    "    # # to generate slabs\n",
    "\n",
    "    for key, value in slabSource.iteritems():\n",
    "        slabs[key] = getslab(value)\n",
    "\n",
    "    for key, value in slabs.items():\n",
    "        gen.write_gen(dataDir + \"slab{}.gen\".format(key), value)\n",
    "\n",
    "    # to read slabs\n",
    "    for key in data.index:\n",
    "        slabs[key] = gen.read_gen(dataDir + \"slab{}.gen\".format(key))\n",
    "\n",
    "    if useInputs:\n",
    "        data.loc[:, ('struct', 'inslab')] = pd.Series(slabs)\n",
    "    else:\n",
    "        data.loc[:, ('struct', 'outslab')] = pd.Series(slabs)\n",
    "\n",
    "class Graph:\n",
    " \n",
    "    # init function to declare class variables\n",
    "    def __init__(self, V):\n",
    "        self.V = V\n",
    "        self.adj = [[] for i in range(V)]\n",
    " \n",
    "    def DFSUtil(self, temp, v, visited):\n",
    " \n",
    "        # Mark the current vertex as visited\n",
    "        visited[v] = True\n",
    " \n",
    "        # Store the vertex to list\n",
    "        temp.append(v)\n",
    " \n",
    "        # Repeat for all vertices adjacent\n",
    "        # to this vertex v\n",
    "        for i in self.adj[v]:\n",
    "            if visited[i] == False:\n",
    " \n",
    "                # Update the list\n",
    "                temp = self.DFSUtil(temp, i, visited)\n",
    "        return temp\n",
    " \n",
    "    # method to add an undirected edge\n",
    "    def addEdge(self, v, w):\n",
    "        self.adj[v].append(w)\n",
    "        self.adj[w].append(v)\n",
    " \n",
    "    # Method to retrieve connected components\n",
    "    # in an undirected graph\n",
    "    def connectedComponents(self):\n",
    "        visited = []\n",
    "        cc = []\n",
    "        for i in range(self.V):\n",
    "            visited.append(False)\n",
    "        for v in range(self.V):\n",
    "            if visited[v] == False:\n",
    "                temp = []\n",
    "                cc.append(self.DFSUtil(temp, v, visited))\n",
    "        return cc\n",
    "\n",
    "# This code is contributed by Abhishek Valsan"
   ]
  },
  {
   "cell_type": "code",
   "execution_count": null,
   "metadata": {
    "ExecuteTime": {
     "end_time": "2021-07-20T03:05:38.189253Z",
     "start_time": "2021-07-20T03:05:35.909Z"
    }
   },
   "outputs": [],
   "source": [
    "s = gen.read_gen(\"../geom.out.gen\")\n",
    "view(s)"
   ]
  },
  {
   "cell_type": "code",
   "execution_count": 257,
   "metadata": {
    "ExecuteTime": {
     "end_time": "2021-07-20T06:51:34.234447Z",
     "start_time": "2021-07-20T06:51:32.278903Z"
    }
   },
   "outputs": [
    {
     "data": {
      "text/plain": [
       "[[332, 406],\n",
       " [370, 371, 372, 373, 374],\n",
       " [375, 376, 377, 378, 379],\n",
       " [380, 381, 382, 383, 384],\n",
       " [385, 386, 387, 388, 389],\n",
       " [390, 391, 392, 393, 394],\n",
       " [395, 396, 397, 398, 399],\n",
       " [400, 401, 402, 403, 404],\n",
       " [405, 407, 408],\n",
       " [410, 411, 412, 413, 414],\n",
       " [415]]"
      ]
     },
     "execution_count": 257,
     "metadata": {},
     "output_type": "execute_result"
    }
   ],
   "source": [
    "zmincutoff = 0.1\n",
    "hbondrange = 3\n",
    "geom = s\n",
    "adjmat = Analysis(geom).adjacency_matrix[0]\n",
    "numnodes = adjmat.shape[0]\n",
    "g = Graph(numnodes)\n",
    "for i in range(numnodes):\n",
    "    for j in range(numnodes):\n",
    "        if adjmat[i,j]:\n",
    "            g.addEdge(i,j)\n",
    "cc = g.connectedComponents()\n",
    "maingraph = np.array([i for i in cc if 0 in i][0])\n",
    "slab = geom[[atom.index for atom in geom if atom.index in maingraph]]\n",
    "zcutoff = np.max([atom.position[2] for atom in slab]) + hbondrange\n",
    "fragGraphs = [i for i in cc if 0 not in i]\n",
    "fragGraphs"
   ]
  },
  {
   "cell_type": "code",
   "execution_count": 259,
   "metadata": {
    "ExecuteTime": {
     "end_time": "2021-07-20T06:51:39.639938Z",
     "start_time": "2021-07-20T06:51:39.634569Z"
    }
   },
   "outputs": [
    {
     "data": {
      "text/plain": [
       "[[30.94305269, 30.91306162],\n",
       " [18.73715783, 19.01606174, 19.455838, 19.05673817, 17.39201185],\n",
       " [19.67107969, 19.81566382, 19.76365667, 20.64472198, 18.42870266],\n",
       " [23.57178819, 24.56344366, 24.38548957, 23.28521734, 22.33560538],\n",
       " [22.19243605, 21.49761106, 22.57789795, 21.1708585, 23.31611807],\n",
       " [25.69639619, 26.38995213, 24.67736033, 24.91874807, 26.73625607],\n",
       " [21.70335856, 22.7657115, 21.32120148, 22.02017074, 20.78532815],\n",
       " [22.1118511, 21.5480909, 23.36543926, 21.2383696, 22.13556247],\n",
       " [18.71733052, 18.82500405, 18.02808122],\n",
       " [21.95326613, 22.56408393, 21.61094377, 22.80745148, 20.782576],\n",
       " [26.1875236]]"
      ]
     },
     "execution_count": 259,
     "metadata": {},
     "output_type": "execute_result"
    }
   ],
   "source": [
    "fragZs = [[geom[i].position[2] for i in frag] for frag in fragGraphs]\n",
    "fragZs"
   ]
  },
  {
   "cell_type": "code",
   "execution_count": 251,
   "metadata": {
    "ExecuteTime": {
     "end_time": "2021-07-20T06:47:21.161142Z",
     "start_time": "2021-07-20T06:47:21.147463Z"
    }
   },
   "outputs": [
    {
     "data": {
      "text/plain": [
       "[True, False, False, True, False, True, False, False, False, False, True]"
      ]
     },
     "execution_count": 251,
     "metadata": {},
     "output_type": "execute_result"
    }
   ],
   "source": [
    "removeFrag = [np.all(np.array(i) > zcutoff) or np.all(np.array(i) < zmincutoff)\n",
    "              for i in fragZs]\n",
    "removeFrag"
   ]
  },
  {
   "cell_type": "code",
   "execution_count": 252,
   "metadata": {
    "ExecuteTime": {
     "end_time": "2021-07-20T06:47:22.817880Z",
     "start_time": "2021-07-20T06:47:22.813678Z"
    }
   },
   "outputs": [
    {
     "data": {
      "text/plain": [
       "[332, 406, 380, 381, 382, 383, 384, 390, 391, 392, 393, 394, 415]"
      ]
     },
     "execution_count": 252,
     "metadata": {},
     "output_type": "execute_result"
    }
   ],
   "source": [
    "atomsToRemove = [i for g,r in zip(fragGraphs, removeFrag) if r for i in g]\n",
    "atomsToRemove"
   ]
  },
  {
   "cell_type": "code",
   "execution_count": 256,
   "metadata": {
    "ExecuteTime": {
     "end_time": "2021-07-20T06:48:08.610302Z",
     "start_time": "2021-07-20T06:48:08.605215Z"
    }
   },
   "outputs": [
    {
     "data": {
      "text/plain": [
       "{'Si': 0, 'N': 0, 'H': 1, 'Ar': 1, 'F': 9, 'C': 2}"
      ]
     },
     "execution_count": 256,
     "metadata": {},
     "output_type": "execute_result"
    }
   ],
   "source": [
    "removedAtoms = {'Si': 0, 'N': 0, 'H': 0, 'Ar': 0, 'F':0, 'C':0}\n",
    "for idx in atomsToRemove:\n",
    "    removedAtoms[s[idx].symbol] += 1\n",
    "removedAtoms"
   ]
  },
  {
   "cell_type": "code",
   "execution_count": 260,
   "metadata": {
    "ExecuteTime": {
     "end_time": "2021-07-20T21:45:32.619273Z",
     "start_time": "2021-07-20T21:45:32.601109Z"
    }
   },
   "outputs": [],
   "source": [
    "s2 = s.copy()\n",
    "del s2[[atom.index for atom in s2 if atom.index in atomsToRemove]]\n",
    "view([s, s2])"
   ]
  },
  {
   "cell_type": "code",
   "execution_count": null,
   "metadata": {},
   "outputs": [],
   "source": []
  }
 ],
 "metadata": {
  "kernelspec": {
   "display_name": "Python 3",
   "language": "python",
   "name": "python3"
  },
  "language_info": {
   "codemirror_mode": {
    "name": "ipython",
    "version": 3
   },
   "file_extension": ".py",
   "mimetype": "text/x-python",
   "name": "python",
   "nbconvert_exporter": "python",
   "pygments_lexer": "ipython3",
   "version": "3.7.7"
  },
  "toc": {
   "base_numbering": 1,
   "nav_menu": {},
   "number_sections": true,
   "sideBar": true,
   "skip_h1_title": false,
   "title_cell": "Table of Contents",
   "title_sidebar": "Contents",
   "toc_cell": false,
   "toc_position": {},
   "toc_section_display": true,
   "toc_window_display": false
  }
 },
 "nbformat": 4,
 "nbformat_minor": 4
}
