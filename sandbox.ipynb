{
 "cells": [
  {
   "cell_type": "code",
   "execution_count": 23,
   "metadata": {
    "ExecuteTime": {
     "end_time": "2021-04-07T05:25:54.365819Z",
     "start_time": "2021-04-07T05:25:54.347977Z"
    }
   },
   "outputs": [],
   "source": [
    "import numpy as np\n",
    "import pandas as pd\n",
    "import matplotlib.pyplot as plt\n",
    "%matplotlib inline\n",
    "\n",
    "from utils import readStructs\n",
    "from ase.visualize import view\n",
    "from ase.geometry.analysis import Analysis\n",
    "from analysis import coordLabeller"
   ]
  },
  {
   "cell_type": "code",
   "execution_count": 9,
   "metadata": {
    "ExecuteTime": {
     "end_time": "2021-04-07T00:10:19.530697Z",
     "start_time": "2021-04-07T00:10:19.510197Z"
    }
   },
   "outputs": [
    {
     "data": {
      "text/html": [
       "<div>\n",
       "<style scoped>\n",
       "    .dataframe tbody tr th:only-of-type {\n",
       "        vertical-align: middle;\n",
       "    }\n",
       "\n",
       "    .dataframe tbody tr th {\n",
       "        vertical-align: top;\n",
       "    }\n",
       "\n",
       "    .dataframe thead th {\n",
       "        text-align: right;\n",
       "    }\n",
       "</style>\n",
       "<table border=\"1\" class=\"dataframe\">\n",
       "  <thead>\n",
       "    <tr style=\"text-align: right;\">\n",
       "      <th></th>\n",
       "      <th>0</th>\n",
       "    </tr>\n",
       "  </thead>\n",
       "  <tbody>\n",
       "    <tr>\n",
       "      <th>count</th>\n",
       "      <td>10.000000</td>\n",
       "    </tr>\n",
       "    <tr>\n",
       "      <th>mean</th>\n",
       "      <td>-0.129680</td>\n",
       "    </tr>\n",
       "    <tr>\n",
       "      <th>std</th>\n",
       "      <td>0.012213</td>\n",
       "    </tr>\n",
       "    <tr>\n",
       "      <th>min</th>\n",
       "      <td>-0.145860</td>\n",
       "    </tr>\n",
       "    <tr>\n",
       "      <th>25%</th>\n",
       "      <td>-0.140877</td>\n",
       "    </tr>\n",
       "    <tr>\n",
       "      <th>50%</th>\n",
       "      <td>-0.128390</td>\n",
       "    </tr>\n",
       "    <tr>\n",
       "      <th>75%</th>\n",
       "      <td>-0.121755</td>\n",
       "    </tr>\n",
       "    <tr>\n",
       "      <th>max</th>\n",
       "      <td>-0.109550</td>\n",
       "    </tr>\n",
       "  </tbody>\n",
       "</table>\n",
       "</div>"
      ],
      "text/plain": [
       "               0\n",
       "count  10.000000\n",
       "mean   -0.129680\n",
       "std     0.012213\n",
       "min    -0.145860\n",
       "25%    -0.140877\n",
       "50%    -0.128390\n",
       "75%    -0.121755\n",
       "max    -0.109550"
      ]
     },
     "execution_count": 9,
     "metadata": {},
     "output_type": "execute_result"
    }
   ],
   "source": [
    "pd.read_csv(\"../energies\", header = None).describe()"
   ]
  },
  {
   "cell_type": "code",
   "execution_count": 14,
   "metadata": {
    "ExecuteTime": {
     "end_time": "2021-04-07T05:06:37.889302Z",
     "start_time": "2021-04-07T05:06:09.194041Z"
    }
   },
   "outputs": [
    {
     "data": {
      "text/html": [
       "<div>\n",
       "<style scoped>\n",
       "    .dataframe tbody tr th:only-of-type {\n",
       "        vertical-align: middle;\n",
       "    }\n",
       "\n",
       "    .dataframe tbody tr th {\n",
       "        vertical-align: top;\n",
       "    }\n",
       "\n",
       "    .dataframe thead th {\n",
       "        text-align: right;\n",
       "    }\n",
       "</style>\n",
       "<table border=\"1\" class=\"dataframe\">\n",
       "  <thead>\n",
       "    <tr style=\"text-align: right;\">\n",
       "      <th></th>\n",
       "      <th>geom</th>\n",
       "      <th>analysis</th>\n",
       "    </tr>\n",
       "  </thead>\n",
       "  <tbody>\n",
       "    <tr>\n",
       "      <th>2-13</th>\n",
       "      <td>(Atom('H', [6.141052145, 11.22574118, 1.215339...</td>\n",
       "      <td>&lt;ase.geometry.analysis.Analysis object at 0x7f...</td>\n",
       "    </tr>\n",
       "    <tr>\n",
       "      <th>5-7</th>\n",
       "      <td>(Atom('H', [6.141052145, 11.22574118, 1.215339...</td>\n",
       "      <td>&lt;ase.geometry.analysis.Analysis object at 0x7f...</td>\n",
       "    </tr>\n",
       "    <tr>\n",
       "      <th>6-6</th>\n",
       "      <td>(Atom('H', [6.141052145, 11.22574118, 1.215339...</td>\n",
       "      <td>&lt;ase.geometry.analysis.Analysis object at 0x7f...</td>\n",
       "    </tr>\n",
       "    <tr>\n",
       "      <th>7-8</th>\n",
       "      <td>(Atom('H', [6.141052145, 11.22574118, 1.215339...</td>\n",
       "      <td>&lt;ase.geometry.analysis.Analysis object at 0x7f...</td>\n",
       "    </tr>\n",
       "    <tr>\n",
       "      <th>0-4</th>\n",
       "      <td>(Atom('H', [6.141052145, 11.22574118, 1.215339...</td>\n",
       "      <td>&lt;ase.geometry.analysis.Analysis object at 0x7f...</td>\n",
       "    </tr>\n",
       "    <tr>\n",
       "      <th>...</th>\n",
       "      <td>...</td>\n",
       "      <td>...</td>\n",
       "    </tr>\n",
       "    <tr>\n",
       "      <th>9-7</th>\n",
       "      <td>(Atom('H', [6.141052145, 11.22574118, 1.215339...</td>\n",
       "      <td>&lt;ase.geometry.analysis.Analysis object at 0x7f...</td>\n",
       "    </tr>\n",
       "    <tr>\n",
       "      <th>1-3</th>\n",
       "      <td>(Atom('H', [6.141052145, 11.22574118, 1.215339...</td>\n",
       "      <td>&lt;ase.geometry.analysis.Analysis object at 0x7f...</td>\n",
       "    </tr>\n",
       "    <tr>\n",
       "      <th>0-8</th>\n",
       "      <td>(Atom('H', [6.141052145, 11.22574118, 1.215339...</td>\n",
       "      <td>&lt;ase.geometry.analysis.Analysis object at 0x7f...</td>\n",
       "    </tr>\n",
       "    <tr>\n",
       "      <th>3-13</th>\n",
       "      <td>(Atom('H', [6.141052145, 11.22574118, 1.215339...</td>\n",
       "      <td>&lt;ase.geometry.analysis.Analysis object at 0x7f...</td>\n",
       "    </tr>\n",
       "    <tr>\n",
       "      <th>7-15</th>\n",
       "      <td>(Atom('H', [6.141052145, 11.22574118, 1.215339...</td>\n",
       "      <td>&lt;ase.geometry.analysis.Analysis object at 0x7f...</td>\n",
       "    </tr>\n",
       "  </tbody>\n",
       "</table>\n",
       "<p>170 rows × 2 columns</p>\n",
       "</div>"
      ],
      "text/plain": [
       "                                                   geom  \\\n",
       "2-13  (Atom('H', [6.141052145, 11.22574118, 1.215339...   \n",
       "5-7   (Atom('H', [6.141052145, 11.22574118, 1.215339...   \n",
       "6-6   (Atom('H', [6.141052145, 11.22574118, 1.215339...   \n",
       "7-8   (Atom('H', [6.141052145, 11.22574118, 1.215339...   \n",
       "0-4   (Atom('H', [6.141052145, 11.22574118, 1.215339...   \n",
       "...                                                 ...   \n",
       "9-7   (Atom('H', [6.141052145, 11.22574118, 1.215339...   \n",
       "1-3   (Atom('H', [6.141052145, 11.22574118, 1.215339...   \n",
       "0-8   (Atom('H', [6.141052145, 11.22574118, 1.215339...   \n",
       "3-13  (Atom('H', [6.141052145, 11.22574118, 1.215339...   \n",
       "7-15  (Atom('H', [6.141052145, 11.22574118, 1.215339...   \n",
       "\n",
       "                                               analysis  \n",
       "2-13  <ase.geometry.analysis.Analysis object at 0x7f...  \n",
       "5-7   <ase.geometry.analysis.Analysis object at 0x7f...  \n",
       "6-6   <ase.geometry.analysis.Analysis object at 0x7f...  \n",
       "7-8   <ase.geometry.analysis.Analysis object at 0x7f...  \n",
       "0-4   <ase.geometry.analysis.Analysis object at 0x7f...  \n",
       "...                                                 ...  \n",
       "9-7   <ase.geometry.analysis.Analysis object at 0x7f...  \n",
       "1-3   <ase.geometry.analysis.Analysis object at 0x7f...  \n",
       "0-8   <ase.geometry.analysis.Analysis object at 0x7f...  \n",
       "3-13  <ase.geometry.analysis.Analysis object at 0x7f...  \n",
       "7-15  <ase.geometry.analysis.Analysis object at 0x7f...  \n",
       "\n",
       "[170 rows x 2 columns]"
      ]
     },
     "execution_count": 14,
     "metadata": {},
     "output_type": "execute_result"
    }
   ],
   "source": [
    "data = readStructs(\"../si.rich.hfpoor.bombout/\", shallow = False)\n",
    "data['analysis'] = [Analysis(geom) for geom in data['geom']]\n",
    "data"
   ]
  },
  {
   "cell_type": "code",
   "execution_count": 22,
   "metadata": {
    "ExecuteTime": {
     "end_time": "2021-04-07T05:25:18.113449Z",
     "start_time": "2021-04-07T05:25:18.031174Z"
    }
   },
   "outputs": [],
   "source": [
    "view(data['geom']['2-13'])"
   ]
  },
  {
   "cell_type": "code",
   "execution_count": 15,
   "metadata": {
    "ExecuteTime": {
     "end_time": "2021-04-07T05:11:29.500155Z",
     "start_time": "2021-04-07T05:10:34.986506Z"
    }
   },
   "outputs": [],
   "source": [
    "data['sin'] = [i.get_bonds(\"Si\", \"N\") for i in data['analysis']]\n",
    "data['sisi'] = [i.get_bonds(\"Si\", \"Si\") for i in data['analysis']]"
   ]
  },
  {
   "cell_type": "code",
   "execution_count": 24,
   "metadata": {
    "ExecuteTime": {
     "end_time": "2021-04-07T05:47:22.379006Z",
     "start_time": "2021-04-07T05:26:16.573882Z"
    }
   },
   "outputs": [],
   "source": [
    "data['coordlabels'] = [coordLabeller(i, minz = 10) for i in data['geom']]"
   ]
  },
  {
   "cell_type": "code",
   "execution_count": 130,
   "metadata": {
    "ExecuteTime": {
     "end_time": "2021-04-07T18:37:42.691770Z",
     "start_time": "2021-04-07T18:37:42.065705Z"
    }
   },
   "outputs": [
    {
     "data": {
      "text/html": [
       "<div>\n",
       "<style scoped>\n",
       "    .dataframe tbody tr th:only-of-type {\n",
       "        vertical-align: middle;\n",
       "    }\n",
       "\n",
       "    .dataframe tbody tr th {\n",
       "        vertical-align: top;\n",
       "    }\n",
       "\n",
       "    .dataframe thead th {\n",
       "        text-align: right;\n",
       "    }\n",
       "</style>\n",
       "<table border=\"1\" class=\"dataframe\">\n",
       "  <thead>\n",
       "    <tr style=\"text-align: right;\">\n",
       "      <th></th>\n",
       "      <th>geom</th>\n",
       "      <th>analysis</th>\n",
       "      <th>sin</th>\n",
       "      <th>sisi</th>\n",
       "      <th>coordlabels</th>\n",
       "      <th>wantedIndices</th>\n",
       "      <th>surfSibonds</th>\n",
       "      <th>surfSiSibonds</th>\n",
       "      <th>surfSiNbonds</th>\n",
       "      <th>surfSiHbonds</th>\n",
       "    </tr>\n",
       "  </thead>\n",
       "  <tbody>\n",
       "    <tr>\n",
       "      <th>2-13</th>\n",
       "      <td>(Atom('H', [6.141052145, 11.22574118, 1.215339...</td>\n",
       "      <td>&lt;ase.geometry.analysis.Analysis object at 0x7f...</td>\n",
       "      <td>[[(6, 28), (6, 29), (26, 20), (26, 53), (31, 2...</td>\n",
       "      <td>[[(26, 58), (31, 34), (31, 61), (32, 40), (32,...</td>\n",
       "      <td>({0: 0, 1: 0, 2: 0, 3: 0, 4: 0, 5: 0, 6: 0, 7:...</td>\n",
       "      <td>[254, 277, 285, 286, 288, 297, 299, 300, 301, ...</td>\n",
       "      <td>[5, 4, 3, 3, 3, 4, 4, 4, 4, 4, 3, 3, 2, 3, 2, 3]</td>\n",
       "      <td>[3, 2, 2, 2, 2, 2, 3, 0, 2, 1, 2, 1, 1, 2, 1, 1]</td>\n",
       "      <td>[2, 2, 1, 1, 1, 2, 1, 4, 2, 3, 1, 2, 1, 1, 1, 2]</td>\n",
       "      <td>[0, 0, 0, 0, 0, 0, 0, 0, 0, 0, 0, 0, 0, 0, 0, 0]</td>\n",
       "    </tr>\n",
       "    <tr>\n",
       "      <th>5-7</th>\n",
       "      <td>(Atom('H', [6.141052145, 11.22574118, 1.215339...</td>\n",
       "      <td>&lt;ase.geometry.analysis.Analysis object at 0x7f...</td>\n",
       "      <td>[[(6, 28), (6, 29), (26, 20), (26, 53), (31, 2...</td>\n",
       "      <td>[[(26, 58), (31, 34), (31, 61), (32, 40), (32,...</td>\n",
       "      <td>({0: 0, 1: 0, 2: 0, 3: 0, 4: 0, 5: 0, 6: 0, 7:...</td>\n",
       "      <td>[254, 261, 277, 285, 286, 288, 293, 294, 297, ...</td>\n",
       "      <td>[3, 3, 3, 4, 3, 3, 2, 3, 4, 4, 3, 3, 2, 4, 3, ...</td>\n",
       "      <td>[2, 1, 1, 2, 1, 2, 1, 2, 2, 3, 1, 1, 2, 2, 2, ...</td>\n",
       "      <td>[1, 2, 2, 2, 2, 1, 1, 1, 2, 1, 2, 2, 0, 2, 1, ...</td>\n",
       "      <td>[0, 0, 0, 0, 0, 0, 0, 0, 0, 0, 0, 0, 0, 0, 0, ...</td>\n",
       "    </tr>\n",
       "    <tr>\n",
       "      <th>6-6</th>\n",
       "      <td>(Atom('H', [6.141052145, 11.22574118, 1.215339...</td>\n",
       "      <td>&lt;ase.geometry.analysis.Analysis object at 0x7f...</td>\n",
       "      <td>[[(6, 28), (6, 29), (26, 20), (26, 53), (31, 2...</td>\n",
       "      <td>[[(26, 58), (31, 34), (31, 61), (32, 40), (32,...</td>\n",
       "      <td>({0: 0, 1: 0, 2: 0, 3: 0, 4: 0, 5: 0, 6: 0, 7:...</td>\n",
       "      <td>[254, 277, 285, 286, 288, 293, 294, 297, 298, ...</td>\n",
       "      <td>[3, 4, 4, 3, 4, 2, 4, 3, 4, 4, 4, 3, 4, 3, 3, ...</td>\n",
       "      <td>[1, 2, 2, 2, 3, 1, 1, 2, 3, 0, 2, 2, 3, 3, 3, ...</td>\n",
       "      <td>[2, 2, 2, 1, 1, 1, 2, 1, 1, 4, 2, 1, 1, 0, 0, ...</td>\n",
       "      <td>[0, 0, 0, 0, 0, 0, 1, 0, 0, 0, 0, 0, 0, 0, 0, ...</td>\n",
       "    </tr>\n",
       "    <tr>\n",
       "      <th>7-8</th>\n",
       "      <td>(Atom('H', [6.141052145, 11.22574118, 1.215339...</td>\n",
       "      <td>&lt;ase.geometry.analysis.Analysis object at 0x7f...</td>\n",
       "      <td>[[(6, 28), (6, 29), (26, 20), (26, 53), (31, 2...</td>\n",
       "      <td>[[(26, 58), (31, 34), (31, 61), (32, 40), (32,...</td>\n",
       "      <td>({0: 0, 1: 0, 2: 0, 3: 0, 4: 0, 5: 0, 6: 0, 7:...</td>\n",
       "      <td>[254, 261, 275, 277, 286, 288, 293, 294, 299, ...</td>\n",
       "      <td>[4, 3, 3, 2, 4, 3, 3, 3, 3, 4, 3, 3, 4, 2, 4, ...</td>\n",
       "      <td>[3, 1, 1, 0, 2, 1, 2, 1, 2, 0, 1, 2, 3, 2, 3, ...</td>\n",
       "      <td>[1, 2, 2, 2, 2, 2, 1, 2, 1, 4, 2, 1, 1, 0, 1, ...</td>\n",
       "      <td>[0, 0, 0, 0, 0, 0, 0, 0, 0, 0, 0, 0, 0, 0, 0, ...</td>\n",
       "    </tr>\n",
       "    <tr>\n",
       "      <th>0-4</th>\n",
       "      <td>(Atom('H', [6.141052145, 11.22574118, 1.215339...</td>\n",
       "      <td>&lt;ase.geometry.analysis.Analysis object at 0x7f...</td>\n",
       "      <td>[[(6, 28), (6, 29), (26, 20), (26, 53), (31, 2...</td>\n",
       "      <td>[[(26, 58), (31, 34), (31, 61), (32, 40), (32,...</td>\n",
       "      <td>({0: 0, 1: 0, 2: 0, 3: 0, 4: 0, 5: 0, 6: 0, 7:...</td>\n",
       "      <td>[254, 261, 263, 276, 284, 285, 287, 292, 295, ...</td>\n",
       "      <td>[3, 3, 3, 4, 3, 4, 3, 4, 4, 3, 4, 4, 2, 4, 3, ...</td>\n",
       "      <td>[1, 1, 1, 2, 1, 3, 2, 3, 2, 2, 0, 2, 1, 3, 2, ...</td>\n",
       "      <td>[2, 2, 2, 2, 2, 1, 1, 1, 2, 1, 4, 2, 1, 1, 1, ...</td>\n",
       "      <td>[0, 0, 0, 0, 0, 0, 0, 0, 0, 0, 0, 0, 0, 0, 0, ...</td>\n",
       "    </tr>\n",
       "    <tr>\n",
       "      <th>...</th>\n",
       "      <td>...</td>\n",
       "      <td>...</td>\n",
       "      <td>...</td>\n",
       "      <td>...</td>\n",
       "      <td>...</td>\n",
       "      <td>...</td>\n",
       "      <td>...</td>\n",
       "      <td>...</td>\n",
       "      <td>...</td>\n",
       "      <td>...</td>\n",
       "    </tr>\n",
       "    <tr>\n",
       "      <th>9-7</th>\n",
       "      <td>(Atom('H', [6.141052145, 11.22574118, 1.215339...</td>\n",
       "      <td>&lt;ase.geometry.analysis.Analysis object at 0x7f...</td>\n",
       "      <td>[[(6, 28), (6, 29), (26, 20), (26, 53), (31, 2...</td>\n",
       "      <td>[[(26, 58), (31, 34), (31, 61), (32, 40), (32,...</td>\n",
       "      <td>({0: 0, 1: 0, 2: 0, 3: 0, 4: 0, 5: 0, 6: 0, 7:...</td>\n",
       "      <td>[254, 261, 277, 285, 286, 288, 293, 294, 297, ...</td>\n",
       "      <td>[3, 4, 3, 4, 3, 4, 3, 4, 5, 4, 3, 3, 3, 4, 3, ...</td>\n",
       "      <td>[1, 0, 1, 2, 1, 3, 2, 1, 2, 3, 1, 2, 2, 3, 2, ...</td>\n",
       "      <td>[2, 3, 2, 2, 2, 1, 1, 3, 3, 1, 2, 1, 1, 1, 1, ...</td>\n",
       "      <td>[0, 1, 0, 0, 0, 0, 0, 0, 0, 0, 0, 0, 0, 0, 0, ...</td>\n",
       "    </tr>\n",
       "    <tr>\n",
       "      <th>1-3</th>\n",
       "      <td>(Atom('H', [6.141052145, 11.22574118, 1.215339...</td>\n",
       "      <td>&lt;ase.geometry.analysis.Analysis object at 0x7f...</td>\n",
       "      <td>[[(6, 28), (6, 29), (26, 20), (26, 53), (31, 2...</td>\n",
       "      <td>[[(26, 58), (31, 34), (31, 61), (32, 40), (32,...</td>\n",
       "      <td>({0: 0, 1: 0, 2: 0, 3: 0, 4: 0, 5: 0, 6: 0, 7:...</td>\n",
       "      <td>[256, 261, 277, 285, 286, 288, 293, 294, 297, ...</td>\n",
       "      <td>[3, 3, 4, 4, 3, 3, 2, 3, 4, 4, 4, 2, 3, 3, 3, ...</td>\n",
       "      <td>[1, 0, 2, 2, 1, 2, 1, 1, 2, 3, 0, 1, 2, 2, 2, ...</td>\n",
       "      <td>[2, 2, 2, 2, 2, 1, 1, 2, 2, 1, 4, 1, 1, 1, 1, ...</td>\n",
       "      <td>[0, 1, 0, 0, 0, 0, 0, 0, 0, 0, 0, 0, 0, 0, 0, ...</td>\n",
       "    </tr>\n",
       "    <tr>\n",
       "      <th>0-8</th>\n",
       "      <td>(Atom('H', [6.141052145, 11.22574118, 1.215339...</td>\n",
       "      <td>&lt;ase.geometry.analysis.Analysis object at 0x7f...</td>\n",
       "      <td>[[(6, 28), (6, 29), (26, 20), (26, 53), (31, 2...</td>\n",
       "      <td>[[(26, 58), (31, 34), (31, 61), (32, 40), (32,...</td>\n",
       "      <td>({0: 0, 1: 0, 2: 0, 3: 0, 4: 0, 5: 0, 6: 0, 7:...</td>\n",
       "      <td>[254, 259, 277, 285, 286, 288, 293, 294, 297, ...</td>\n",
       "      <td>[3, 4, 4, 3, 3, 3, 2, 3, 4, 4, 4, 3, 4, 3, 3, ...</td>\n",
       "      <td>[2, 2, 2, 1, 1, 2, 1, 0, 1, 3, 0, 2, 3, 1, 2, ...</td>\n",
       "      <td>[1, 2, 2, 2, 2, 1, 1, 3, 3, 1, 4, 1, 1, 2, 1, ...</td>\n",
       "      <td>[0, 0, 0, 0, 0, 0, 0, 0, 0, 0, 0, 0, 0, 0, 0, ...</td>\n",
       "    </tr>\n",
       "    <tr>\n",
       "      <th>3-13</th>\n",
       "      <td>(Atom('H', [6.141052145, 11.22574118, 1.215339...</td>\n",
       "      <td>&lt;ase.geometry.analysis.Analysis object at 0x7f...</td>\n",
       "      <td>[[(6, 28), (6, 29), (26, 20), (26, 53), (31, 2...</td>\n",
       "      <td>[[(26, 58), (31, 34), (31, 61), (32, 40), (32,...</td>\n",
       "      <td>({0: 0, 1: 0, 2: 0, 3: 0, 4: 0, 5: 0, 6: 0, 7:...</td>\n",
       "      <td>[254, 261, 273, 277, 288, 293, 294, 297, 299, ...</td>\n",
       "      <td>[3, 2, 4, 2, 3, 4, 4, 4, 3, 4, 2, 2, 3, 3, 4, ...</td>\n",
       "      <td>[2, 1, 1, 0, 2, 3, 2, 1, 2, 0, 1, 1, 2, 2, 2, ...</td>\n",
       "      <td>[1, 1, 3, 2, 1, 1, 2, 3, 1, 4, 1, 1, 1, 1, 2, ...</td>\n",
       "      <td>[0, 0, 0, 0, 0, 0, 0, 0, 0, 0, 0, 0, 0, 0, 0, ...</td>\n",
       "    </tr>\n",
       "    <tr>\n",
       "      <th>7-15</th>\n",
       "      <td>(Atom('H', [6.141052145, 11.22574118, 1.215339...</td>\n",
       "      <td>&lt;ase.geometry.analysis.Analysis object at 0x7f...</td>\n",
       "      <td>[[(6, 28), (6, 29), (26, 20), (26, 53), (31, 2...</td>\n",
       "      <td>[[(26, 58), (31, 34), (31, 61), (32, 40), (32,...</td>\n",
       "      <td>({0: 0, 1: 0, 2: 0, 3: 0, 4: 0, 5: 0, 6: 0, 7:...</td>\n",
       "      <td>[254, 261, 277, 285, 286, 288, 293, 294, 297, ...</td>\n",
       "      <td>[3, 3, 4, 3, 3, 4, 4, 4, 4, 4, 4, 2, 3, 3, 3, ...</td>\n",
       "      <td>[1, 2, 2, 2, 1, 3, 3, 1, 1, 3, 1, 1, 2, 2, 2, ...</td>\n",
       "      <td>[2, 1, 2, 1, 2, 1, 1, 3, 3, 1, 3, 1, 1, 1, 1, ...</td>\n",
       "      <td>[0, 0, 0, 0, 0, 0, 0, 0, 0, 0, 0, 0, 0, 0, 0, ...</td>\n",
       "    </tr>\n",
       "  </tbody>\n",
       "</table>\n",
       "<p>170 rows × 10 columns</p>\n",
       "</div>"
      ],
      "text/plain": [
       "                                                   geom  \\\n",
       "2-13  (Atom('H', [6.141052145, 11.22574118, 1.215339...   \n",
       "5-7   (Atom('H', [6.141052145, 11.22574118, 1.215339...   \n",
       "6-6   (Atom('H', [6.141052145, 11.22574118, 1.215339...   \n",
       "7-8   (Atom('H', [6.141052145, 11.22574118, 1.215339...   \n",
       "0-4   (Atom('H', [6.141052145, 11.22574118, 1.215339...   \n",
       "...                                                 ...   \n",
       "9-7   (Atom('H', [6.141052145, 11.22574118, 1.215339...   \n",
       "1-3   (Atom('H', [6.141052145, 11.22574118, 1.215339...   \n",
       "0-8   (Atom('H', [6.141052145, 11.22574118, 1.215339...   \n",
       "3-13  (Atom('H', [6.141052145, 11.22574118, 1.215339...   \n",
       "7-15  (Atom('H', [6.141052145, 11.22574118, 1.215339...   \n",
       "\n",
       "                                               analysis  \\\n",
       "2-13  <ase.geometry.analysis.Analysis object at 0x7f...   \n",
       "5-7   <ase.geometry.analysis.Analysis object at 0x7f...   \n",
       "6-6   <ase.geometry.analysis.Analysis object at 0x7f...   \n",
       "7-8   <ase.geometry.analysis.Analysis object at 0x7f...   \n",
       "0-4   <ase.geometry.analysis.Analysis object at 0x7f...   \n",
       "...                                                 ...   \n",
       "9-7   <ase.geometry.analysis.Analysis object at 0x7f...   \n",
       "1-3   <ase.geometry.analysis.Analysis object at 0x7f...   \n",
       "0-8   <ase.geometry.analysis.Analysis object at 0x7f...   \n",
       "3-13  <ase.geometry.analysis.Analysis object at 0x7f...   \n",
       "7-15  <ase.geometry.analysis.Analysis object at 0x7f...   \n",
       "\n",
       "                                                    sin  \\\n",
       "2-13  [[(6, 28), (6, 29), (26, 20), (26, 53), (31, 2...   \n",
       "5-7   [[(6, 28), (6, 29), (26, 20), (26, 53), (31, 2...   \n",
       "6-6   [[(6, 28), (6, 29), (26, 20), (26, 53), (31, 2...   \n",
       "7-8   [[(6, 28), (6, 29), (26, 20), (26, 53), (31, 2...   \n",
       "0-4   [[(6, 28), (6, 29), (26, 20), (26, 53), (31, 2...   \n",
       "...                                                 ...   \n",
       "9-7   [[(6, 28), (6, 29), (26, 20), (26, 53), (31, 2...   \n",
       "1-3   [[(6, 28), (6, 29), (26, 20), (26, 53), (31, 2...   \n",
       "0-8   [[(6, 28), (6, 29), (26, 20), (26, 53), (31, 2...   \n",
       "3-13  [[(6, 28), (6, 29), (26, 20), (26, 53), (31, 2...   \n",
       "7-15  [[(6, 28), (6, 29), (26, 20), (26, 53), (31, 2...   \n",
       "\n",
       "                                                   sisi  \\\n",
       "2-13  [[(26, 58), (31, 34), (31, 61), (32, 40), (32,...   \n",
       "5-7   [[(26, 58), (31, 34), (31, 61), (32, 40), (32,...   \n",
       "6-6   [[(26, 58), (31, 34), (31, 61), (32, 40), (32,...   \n",
       "7-8   [[(26, 58), (31, 34), (31, 61), (32, 40), (32,...   \n",
       "0-4   [[(26, 58), (31, 34), (31, 61), (32, 40), (32,...   \n",
       "...                                                 ...   \n",
       "9-7   [[(26, 58), (31, 34), (31, 61), (32, 40), (32,...   \n",
       "1-3   [[(26, 58), (31, 34), (31, 61), (32, 40), (32,...   \n",
       "0-8   [[(26, 58), (31, 34), (31, 61), (32, 40), (32,...   \n",
       "3-13  [[(26, 58), (31, 34), (31, 61), (32, 40), (32,...   \n",
       "7-15  [[(26, 58), (31, 34), (31, 61), (32, 40), (32,...   \n",
       "\n",
       "                                            coordlabels  \\\n",
       "2-13  ({0: 0, 1: 0, 2: 0, 3: 0, 4: 0, 5: 0, 6: 0, 7:...   \n",
       "5-7   ({0: 0, 1: 0, 2: 0, 3: 0, 4: 0, 5: 0, 6: 0, 7:...   \n",
       "6-6   ({0: 0, 1: 0, 2: 0, 3: 0, 4: 0, 5: 0, 6: 0, 7:...   \n",
       "7-8   ({0: 0, 1: 0, 2: 0, 3: 0, 4: 0, 5: 0, 6: 0, 7:...   \n",
       "0-4   ({0: 0, 1: 0, 2: 0, 3: 0, 4: 0, 5: 0, 6: 0, 7:...   \n",
       "...                                                 ...   \n",
       "9-7   ({0: 0, 1: 0, 2: 0, 3: 0, 4: 0, 5: 0, 6: 0, 7:...   \n",
       "1-3   ({0: 0, 1: 0, 2: 0, 3: 0, 4: 0, 5: 0, 6: 0, 7:...   \n",
       "0-8   ({0: 0, 1: 0, 2: 0, 3: 0, 4: 0, 5: 0, 6: 0, 7:...   \n",
       "3-13  ({0: 0, 1: 0, 2: 0, 3: 0, 4: 0, 5: 0, 6: 0, 7:...   \n",
       "7-15  ({0: 0, 1: 0, 2: 0, 3: 0, 4: 0, 5: 0, 6: 0, 7:...   \n",
       "\n",
       "                                          wantedIndices  \\\n",
       "2-13  [254, 277, 285, 286, 288, 297, 299, 300, 301, ...   \n",
       "5-7   [254, 261, 277, 285, 286, 288, 293, 294, 297, ...   \n",
       "6-6   [254, 277, 285, 286, 288, 293, 294, 297, 298, ...   \n",
       "7-8   [254, 261, 275, 277, 286, 288, 293, 294, 299, ...   \n",
       "0-4   [254, 261, 263, 276, 284, 285, 287, 292, 295, ...   \n",
       "...                                                 ...   \n",
       "9-7   [254, 261, 277, 285, 286, 288, 293, 294, 297, ...   \n",
       "1-3   [256, 261, 277, 285, 286, 288, 293, 294, 297, ...   \n",
       "0-8   [254, 259, 277, 285, 286, 288, 293, 294, 297, ...   \n",
       "3-13  [254, 261, 273, 277, 288, 293, 294, 297, 299, ...   \n",
       "7-15  [254, 261, 277, 285, 286, 288, 293, 294, 297, ...   \n",
       "\n",
       "                                            surfSibonds  \\\n",
       "2-13   [5, 4, 3, 3, 3, 4, 4, 4, 4, 4, 3, 3, 2, 3, 2, 3]   \n",
       "5-7   [3, 3, 3, 4, 3, 3, 2, 3, 4, 4, 3, 3, 2, 4, 3, ...   \n",
       "6-6   [3, 4, 4, 3, 4, 2, 4, 3, 4, 4, 4, 3, 4, 3, 3, ...   \n",
       "7-8   [4, 3, 3, 2, 4, 3, 3, 3, 3, 4, 3, 3, 4, 2, 4, ...   \n",
       "0-4   [3, 3, 3, 4, 3, 4, 3, 4, 4, 3, 4, 4, 2, 4, 3, ...   \n",
       "...                                                 ...   \n",
       "9-7   [3, 4, 3, 4, 3, 4, 3, 4, 5, 4, 3, 3, 3, 4, 3, ...   \n",
       "1-3   [3, 3, 4, 4, 3, 3, 2, 3, 4, 4, 4, 2, 3, 3, 3, ...   \n",
       "0-8   [3, 4, 4, 3, 3, 3, 2, 3, 4, 4, 4, 3, 4, 3, 3, ...   \n",
       "3-13  [3, 2, 4, 2, 3, 4, 4, 4, 3, 4, 2, 2, 3, 3, 4, ...   \n",
       "7-15  [3, 3, 4, 3, 3, 4, 4, 4, 4, 4, 4, 2, 3, 3, 3, ...   \n",
       "\n",
       "                                          surfSiSibonds  \\\n",
       "2-13   [3, 2, 2, 2, 2, 2, 3, 0, 2, 1, 2, 1, 1, 2, 1, 1]   \n",
       "5-7   [2, 1, 1, 2, 1, 2, 1, 2, 2, 3, 1, 1, 2, 2, 2, ...   \n",
       "6-6   [1, 2, 2, 2, 3, 1, 1, 2, 3, 0, 2, 2, 3, 3, 3, ...   \n",
       "7-8   [3, 1, 1, 0, 2, 1, 2, 1, 2, 0, 1, 2, 3, 2, 3, ...   \n",
       "0-4   [1, 1, 1, 2, 1, 3, 2, 3, 2, 2, 0, 2, 1, 3, 2, ...   \n",
       "...                                                 ...   \n",
       "9-7   [1, 0, 1, 2, 1, 3, 2, 1, 2, 3, 1, 2, 2, 3, 2, ...   \n",
       "1-3   [1, 0, 2, 2, 1, 2, 1, 1, 2, 3, 0, 1, 2, 2, 2, ...   \n",
       "0-8   [2, 2, 2, 1, 1, 2, 1, 0, 1, 3, 0, 2, 3, 1, 2, ...   \n",
       "3-13  [2, 1, 1, 0, 2, 3, 2, 1, 2, 0, 1, 1, 2, 2, 2, ...   \n",
       "7-15  [1, 2, 2, 2, 1, 3, 3, 1, 1, 3, 1, 1, 2, 2, 2, ...   \n",
       "\n",
       "                                           surfSiNbonds  \\\n",
       "2-13   [2, 2, 1, 1, 1, 2, 1, 4, 2, 3, 1, 2, 1, 1, 1, 2]   \n",
       "5-7   [1, 2, 2, 2, 2, 1, 1, 1, 2, 1, 2, 2, 0, 2, 1, ...   \n",
       "6-6   [2, 2, 2, 1, 1, 1, 2, 1, 1, 4, 2, 1, 1, 0, 0, ...   \n",
       "7-8   [1, 2, 2, 2, 2, 2, 1, 2, 1, 4, 2, 1, 1, 0, 1, ...   \n",
       "0-4   [2, 2, 2, 2, 2, 1, 1, 1, 2, 1, 4, 2, 1, 1, 1, ...   \n",
       "...                                                 ...   \n",
       "9-7   [2, 3, 2, 2, 2, 1, 1, 3, 3, 1, 2, 1, 1, 1, 1, ...   \n",
       "1-3   [2, 2, 2, 2, 2, 1, 1, 2, 2, 1, 4, 1, 1, 1, 1, ...   \n",
       "0-8   [1, 2, 2, 2, 2, 1, 1, 3, 3, 1, 4, 1, 1, 2, 1, ...   \n",
       "3-13  [1, 1, 3, 2, 1, 1, 2, 3, 1, 4, 1, 1, 1, 1, 2, ...   \n",
       "7-15  [2, 1, 2, 1, 2, 1, 1, 3, 3, 1, 3, 1, 1, 1, 1, ...   \n",
       "\n",
       "                                           surfSiHbonds  \n",
       "2-13   [0, 0, 0, 0, 0, 0, 0, 0, 0, 0, 0, 0, 0, 0, 0, 0]  \n",
       "5-7   [0, 0, 0, 0, 0, 0, 0, 0, 0, 0, 0, 0, 0, 0, 0, ...  \n",
       "6-6   [0, 0, 0, 0, 0, 0, 1, 0, 0, 0, 0, 0, 0, 0, 0, ...  \n",
       "7-8   [0, 0, 0, 0, 0, 0, 0, 0, 0, 0, 0, 0, 0, 0, 0, ...  \n",
       "0-4   [0, 0, 0, 0, 0, 0, 0, 0, 0, 0, 0, 0, 0, 0, 0, ...  \n",
       "...                                                 ...  \n",
       "9-7   [0, 1, 0, 0, 0, 0, 0, 0, 0, 0, 0, 0, 0, 0, 0, ...  \n",
       "1-3   [0, 1, 0, 0, 0, 0, 0, 0, 0, 0, 0, 0, 0, 0, 0, ...  \n",
       "0-8   [0, 0, 0, 0, 0, 0, 0, 0, 0, 0, 0, 0, 0, 0, 0, ...  \n",
       "3-13  [0, 0, 0, 0, 0, 0, 0, 0, 0, 0, 0, 0, 0, 0, 0, ...  \n",
       "7-15  [0, 0, 0, 0, 0, 0, 0, 0, 0, 0, 0, 0, 0, 0, 0, ...  \n",
       "\n",
       "[170 rows x 10 columns]"
      ]
     },
     "execution_count": 130,
     "metadata": {},
     "output_type": "execute_result"
    }
   ],
   "source": [
    "data"
   ]
  },
  {
   "cell_type": "code",
   "execution_count": 44,
   "metadata": {
    "ExecuteTime": {
     "end_time": "2021-04-07T06:19:53.018935Z",
     "start_time": "2021-04-07T06:19:52.762696Z"
    }
   },
   "outputs": [],
   "source": [
    "data['wantedIndices'] = [[atom.index for atom in geom if atom.position[2] > 15 and atom.symbol == \"Si\"]\n",
    "                         for geom in data['geom']] "
   ]
  },
  {
   "cell_type": "code",
   "execution_count": 43,
   "metadata": {
    "ExecuteTime": {
     "end_time": "2021-04-07T06:18:17.411792Z",
     "start_time": "2021-04-07T06:18:17.381491Z"
    }
   },
   "outputs": [],
   "source": [
    "view(data['geom']['2-13'])"
   ]
  },
  {
   "cell_type": "code",
   "execution_count": 51,
   "metadata": {
    "ExecuteTime": {
     "end_time": "2021-04-07T06:23:55.567124Z",
     "start_time": "2021-04-07T06:23:55.296665Z"
    }
   },
   "outputs": [],
   "source": [
    "data['surfSibonds'] = pd.Series({idx: \n",
    "    [len(value) for key, value in \n",
    "     pd.Series(data['coordlabels'][idx][1])[data['wantedIndices'][idx]].items()\n",
    "    ]\n",
    " for idx in data.index\n",
    "})"
   ]
  },
  {
   "cell_type": "code",
   "execution_count": 170,
   "metadata": {
    "ExecuteTime": {
     "end_time": "2021-04-07T19:10:07.316127Z",
     "start_time": "2021-04-07T19:10:06.721672Z"
    }
   },
   "outputs": [
    {
     "data": {
      "text/plain": [
       "(array([0.49466667, 0.47130802, 0.49802215, 0.37241379]),\n",
       " array([0.50266667, 0.52594937, 0.49802215, 0.62758621]))"
      ]
     },
     "execution_count": 170,
     "metadata": {},
     "output_type": "execute_result"
    }
   ],
   "source": [
    "sibonds = pd.Series({idx: \n",
    "    [(\n",
    "        np.array([data['geom'][idx][i].symbol for i in value])\n",
    "    ) for key, value in \n",
    "     pd.Series(data['coordlabels'][idx][1])[data['wantedIndices'][idx]].items()\n",
    "    ]\n",
    " for idx in data.index\n",
    "})\n",
    "\n",
    "nfrac = np.zeros(7)\n",
    "sifrac = np.zeros(7)\n",
    "ndatapoints = np.zeros(7)\n",
    "\n",
    "for key, item in sibonds.items():\n",
    "    for i in item:\n",
    "        idx = len(i)\n",
    "        ndatapoints[idx] += 1\n",
    "        nfrac[idx] += np.sum(np.array(i) == \"N\")/idx\n",
    "        sifrac[idx] += np.sum(np.array(i) == \"Si\")/idx\n",
    "ndatapoints = np.array([i if i > 0 else 1 for i in ndatapoints])\n",
    "nfrac /= ndatapoints\n",
    "sifrac /= ndatapoints\n",
    "\n",
    "mask = np.array([i > 10 for i in ndatapoints])\n",
    "nfrac, sifrac, ndatapoints = nfrac[mask], sifrac[mask], ndatapoints[mask]\n",
    "nfrac,sifrac\n"
   ]
  },
  {
   "cell_type": "code",
   "execution_count": 172,
   "metadata": {
    "ExecuteTime": {
     "end_time": "2021-04-07T19:10:39.901526Z",
     "start_time": "2021-04-07T19:10:39.147629Z"
    }
   },
   "outputs": [
    {
     "data": {
      "text/plain": [
       "<matplotlib.legend.Legend at 0x7f95bc066e90>"
      ]
     },
     "execution_count": 172,
     "metadata": {},
     "output_type": "execute_result"
    },
    {
     "data": {
      "image/png": "[encoded data removed]",
      "text/plain": [
       "<Figure size 720x360 with 1 Axes>"
      ]
     },
     "metadata": {
      "needs_background": "light"
     },
     "output_type": "display_data"
    }
   ],
   "source": [
    "plt.figure(figsize = (10,5))\n",
    "plt.hist(\n",
    "    [i for sublist in \n",
    "        pd.Series({idx: \n",
    "            [len(\n",
    "                np.array([data['geom'][idx][i].symbol for i in value])\n",
    "            ) for key, value in \n",
    "             pd.Series(data['coordlabels'][idx][1])[data['wantedIndices'][idx]].items()\n",
    "            ]\n",
    "         for idx in data.index\n",
    "        })\n",
    "     for i in sublist], bins = np.arange(7), density = True, label = 'total density'\n",
    ");\n",
    "plt.plot(np.arange(7)[mask], nfrac, marker = 'o', label = 'N fraction')\n",
    "plt.plot(np.arange(7)[mask], sifrac, marker = 'o', label = 'Si fraction')\n",
    "plt.title(\"Normed hist of Si bond counts with Si/N fraction\")\n",
    "plt.legend()"
   ]
  },
  {
   "cell_type": "code",
   "execution_count": 68,
   "metadata": {
    "ExecuteTime": {
     "end_time": "2021-04-07T16:28:36.719396Z",
     "start_time": "2021-04-07T16:28:36.241154Z"
    }
   },
   "outputs": [],
   "source": [
    "data['surfSiSibonds'] = pd.Series({idx: \n",
    "    [np.sum(\n",
    "        np.array([data['geom'][idx][i].symbol for i in value]) == \"Si\"\n",
    "    ) for key, value in \n",
    "     pd.Series(data['coordlabels'][idx][1])[data['wantedIndices'][idx]].items()\n",
    "    ]\n",
    " for idx in data.index\n",
    "})"
   ]
  },
  {
   "cell_type": "code",
   "execution_count": 69,
   "metadata": {
    "ExecuteTime": {
     "end_time": "2021-04-07T16:28:49.254816Z",
     "start_time": "2021-04-07T16:28:48.748199Z"
    }
   },
   "outputs": [],
   "source": [
    "data['surfSiNbonds'] = pd.Series({idx: \n",
    "    [np.sum(\n",
    "        np.array([data['geom'][idx][i].symbol for i in value]) == \"N\"\n",
    "    ) for key, value in \n",
    "     pd.Series(data['coordlabels'][idx][1])[data['wantedIndices'][idx]].items()\n",
    "    ]\n",
    " for idx in data.index\n",
    "})"
   ]
  },
  {
   "cell_type": "code",
   "execution_count": 78,
   "metadata": {
    "ExecuteTime": {
     "end_time": "2021-04-07T16:33:09.863883Z",
     "start_time": "2021-04-07T16:33:09.411521Z"
    }
   },
   "outputs": [],
   "source": [
    "data['surfSiHbonds'] = pd.Series({idx: \n",
    "    [np.sum(\n",
    "        np.array([data['geom'][idx][i].symbol for i in value]) == \"H\"\n",
    "    ) for key, value in \n",
    "     pd.Series(data['coordlabels'][idx][1])[data['wantedIndices'][idx]].items()\n",
    "    ]\n",
    " for idx in data.index\n",
    "})"
   ]
  },
  {
   "cell_type": "code",
   "execution_count": 109,
   "metadata": {
    "ExecuteTime": {
     "end_time": "2021-04-07T17:54:28.406471Z",
     "start_time": "2021-04-07T17:54:28.188565Z"
    }
   },
   "outputs": [
    {
     "data": {
      "text/plain": [
       "<matplotlib.legend.Legend at 0x7f95bc8ded90>"
      ]
     },
     "execution_count": 109,
     "metadata": {},
     "output_type": "execute_result"
    },
    {
     "data": {
      "image/png": "[encoded data removed]",
      "text/plain": [
       "<Figure size 432x288 with 1 Axes>"
      ]
     },
     "metadata": {
      "needs_background": "light"
     },
     "output_type": "display_data"
    }
   ],
   "source": [
    "flatten = lambda t: [item for sublist in t for item in sublist]\n",
    "plt.hist([flatten(data['surfSiSibonds']), flatten(data['surfSiNbonds'])], \n",
    "         bins = np.arange(7), stacked = False, label = [\"SiSi\", \"SiN\"]\n",
    "        )\n",
    "plt.title(\"bond counts of surf (>15 Å) Si atoms; counts on LHS\")\n",
    "plt.legend()"
   ]
  },
  {
   "cell_type": "code",
   "execution_count": 27,
   "metadata": {
    "ExecuteTime": {
     "end_time": "2021-04-07T05:50:24.076275Z",
     "start_time": "2021-04-07T05:50:23.810117Z"
    }
   },
   "outputs": [],
   "source": [
    "data.to_csv(\"../si.rich.hfpoor.bombout/data.csv\")"
   ]
  }
 ],
 "metadata": {
  "kernelspec": {
   "display_name": "Python 3",
   "language": "python",
   "name": "python3"
  },
  "language_info": {
   "codemirror_mode": {
    "name": "ipython",
    "version": 3
   },
   "file_extension": ".py",
   "mimetype": "text/x-python",
   "name": "python",
   "nbconvert_exporter": "python",
   "pygments_lexer": "ipython3",
   "version": "3.7.7"
  },
  "toc": {
   "base_numbering": 1,
   "nav_menu": {},
   "number_sections": true,
   "sideBar": true,
   "skip_h1_title": false,
   "title_cell": "Table of Contents",
   "title_sidebar": "Contents",
   "toc_cell": false,
   "toc_position": {},
   "toc_section_display": true,
   "toc_window_display": false
  }
 },
 "nbformat": 4,
 "nbformat_minor": 4
}
