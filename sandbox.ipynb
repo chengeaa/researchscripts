{
 "cells": [
  {
   "cell_type": "code",
   "execution_count": 7,
   "metadata": {
    "ExecuteTime": {
     "end_time": "2021-04-01T22:09:52.740522Z",
     "start_time": "2021-04-01T22:09:52.723135Z"
    }
   },
   "outputs": [],
   "source": [
    "from input_generation import randomGridDFTB\n",
    "from visualization import viewStructs\n",
    "from ase.build import molecule\n",
    "from ase.atoms import Atoms\n",
    "from ase.io import gen\n",
    "from ase.visualize import view\n",
    "from refstructs import amorphous"
   ]
  },
  {
   "cell_type": "code",
   "execution_count": 11,
   "metadata": {
    "ExecuteTime": {
     "end_time": "2021-04-01T22:11:20.058617Z",
     "start_time": "2021-04-01T22:11:20.000871Z"
    }
   },
   "outputs": [],
   "source": [
    "s1 = gen.read_gen(\"../input0.gen\")\n",
    "s2 = gen.read_gen(\"../input20.gen\")\n",
    "view([s1, s2])"
   ]
  },
  {
   "cell_type": "code",
   "execution_count": 14,
   "metadata": {
    "ExecuteTime": {
     "end_time": "2021-04-02T06:49:52.649457Z",
     "start_time": "2021-04-02T06:49:51.560272Z"
    },
    "scrolled": false
   },
   "outputs": [],
   "source": [
    "ar = Atoms('Ar')\n",
    "randomGridDFTB(ar, s1, shallow=True)\n",
    "viewStructs('input', 'tempout/')"
   ]
  },
  {
   "cell_type": "code",
   "execution_count": null,
   "metadata": {},
   "outputs": [],
   "source": []
  }
 ],
 "metadata": {
  "kernelspec": {
   "display_name": "Python 3",
   "language": "python",
   "name": "python3"
  },
  "language_info": {
   "codemirror_mode": {
    "name": "ipython",
    "version": 3
   },
   "file_extension": ".py",
   "mimetype": "text/x-python",
   "name": "python",
   "nbconvert_exporter": "python",
   "pygments_lexer": "ipython3",
   "version": "3.7.7"
  },
  "toc": {
   "base_numbering": 1,
   "nav_menu": {},
   "number_sections": true,
   "sideBar": true,
   "skip_h1_title": false,
   "title_cell": "Table of Contents",
   "title_sidebar": "Contents",
   "toc_cell": false,
   "toc_position": {},
   "toc_section_display": true,
   "toc_window_display": false
  }
 },
 "nbformat": 4,
 "nbformat_minor": 4
}
