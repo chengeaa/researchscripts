{
 "cells": [
  {
   "cell_type": "code",
   "execution_count": 25,
   "metadata": {
    "ExecuteTime": {
     "end_time": "2021-08-04T07:37:58.282063Z",
     "start_time": "2021-08-04T07:37:58.279052Z"
    }
   },
   "outputs": [],
   "source": [
    "from ase.geometry.analysis import Analysis\n",
    "from utils import readStructs"
   ]
  },
  {
   "cell_type": "code",
   "execution_count": 26,
   "metadata": {
    "ExecuteTime": {
     "end_time": "2021-08-04T07:38:00.184397Z",
     "start_time": "2021-08-04T07:37:58.291410Z"
    }
   },
   "outputs": [],
   "source": [
    "import pandas as pd\n",
    "import numpy as np\n",
    "import matplotlib.pyplot as plt \n",
    "\n",
    "fig, axes = plt.subplots(nrows=3, ncols=1, figsize = (4,6))\n",
    "\n",
    "species = \"cf4\"\n",
    "run = \"1\"\n",
    "rlim = 11\n",
    "data = pd.read_csv(\"../{}_bomb{}_inputs/bondcounts.csv\".format(species, run), index_col=0)\n",
    "fig.suptitle('Distribution of bond counts formed after \\n \\\n",
    "             3 bombardments on surfaces with physisorbed $\\mathregular{CF_4}$')\n",
    "data.plot(kind = 'hist', y = 'N-C', bins = np.arange(0, rlim), xticks = np.arange(0,rlim), density = True, ax=axes[0])\n",
    "data.plot(kind = 'hist', y = 'Si-F', bins = np.arange(0, rlim), xticks = np.arange(0,rlim), density = True, ax=axes[1])\n",
    "data.plot(kind = 'hist', y = 'Si-C', bins = np.arange(0, rlim), xticks = np.arange(0,rlim), density = True, ax=axes[2])\n",
    "plt.xlabel(\"# bonds per surface\")\n",
    "plt.savefig(\"{}_bomb{}_bonds.png\".format(species, run), bbox_inches = 'tight', dpi = 400)"
   ]
  },
  {
   "cell_type": "code",
   "execution_count": 27,
   "metadata": {
    "ExecuteTime": {
     "end_time": "2021-08-04T07:38:01.074906Z",
     "start_time": "2021-08-04T07:38:00.186206Z"
    }
   },
   "outputs": [
    {
     "data": {
      "text/html": [
       "<div>\n",
       "<style scoped>\n",
       "    .dataframe tbody tr th:only-of-type {\n",
       "        vertical-align: middle;\n",
       "    }\n",
       "\n",
       "    .dataframe tbody tr th {\n",
       "        vertical-align: top;\n",
       "    }\n",
       "\n",
       "    .dataframe thead th {\n",
       "        text-align: right;\n",
       "    }\n",
       "</style>\n",
       "<table border=\"1\" class=\"dataframe\">\n",
       "  <thead>\n",
       "    <tr style=\"text-align: right;\">\n",
       "      <th></th>\n",
       "      <th>geom</th>\n",
       "      <th>analysis</th>\n",
       "      <th>sifbonds</th>\n",
       "      <th>ffbonds</th>\n",
       "      <th>slabs</th>\n",
       "      <th>slabFratio</th>\n",
       "      <th>isolatedFatoms</th>\n",
       "    </tr>\n",
       "  </thead>\n",
       "  <tbody>\n",
       "    <tr>\n",
       "      <th>2-13</th>\n",
       "      <td>(Atom('H', [6.141052145, 11.22574118, 1.215339...</td>\n",
       "      <td>&lt;ase.geometry.analysis.Analysis object at 0x7f...</td>\n",
       "      <td>[[]]</td>\n",
       "      <td>[[]]</td>\n",
       "      <td>(Atom('H', [6.141052145, 11.22574118, 1.215339...</td>\n",
       "      <td>0.00</td>\n",
       "      <td>9</td>\n",
       "    </tr>\n",
       "    <tr>\n",
       "      <th>5-7</th>\n",
       "      <td>(Atom('H', [6.141052145, 11.22574118, 1.215339...</td>\n",
       "      <td>&lt;ase.geometry.analysis.Analysis object at 0x7f...</td>\n",
       "      <td>[[(286, 362), (301, 361)]]</td>\n",
       "      <td>[[(348, 351)]]</td>\n",
       "      <td>(Atom('H', [6.141052145, 11.22574118, 1.215339...</td>\n",
       "      <td>0.10</td>\n",
       "      <td>17</td>\n",
       "    </tr>\n",
       "    <tr>\n",
       "      <th>6-6</th>\n",
       "      <td>(Atom('H', [6.141052145, 11.22574118, 1.215339...</td>\n",
       "      <td>&lt;ase.geometry.analysis.Analysis object at 0x7f...</td>\n",
       "      <td>[[(299, 355), (311, 361)]]</td>\n",
       "      <td>[[]]</td>\n",
       "      <td>(Atom('H', [6.141052145, 11.22574118, 1.215339...</td>\n",
       "      <td>0.20</td>\n",
       "      <td>7</td>\n",
       "    </tr>\n",
       "    <tr>\n",
       "      <th>7-8</th>\n",
       "      <td>(Atom('H', [6.141052145, 11.22574118, 1.215339...</td>\n",
       "      <td>&lt;ase.geometry.analysis.Analysis object at 0x7f...</td>\n",
       "      <td>[[(241, 356), (263, 366), (285, 352), (286, 36...</td>\n",
       "      <td>[[]]</td>\n",
       "      <td>(Atom('H', [6.141052145, 11.22574118, 1.215339...</td>\n",
       "      <td>0.30</td>\n",
       "      <td>13</td>\n",
       "    </tr>\n",
       "    <tr>\n",
       "      <th>0-4</th>\n",
       "      <td>(Atom('H', [6.141052145, 11.22574118, 1.215339...</td>\n",
       "      <td>&lt;ase.geometry.analysis.Analysis object at 0x7f...</td>\n",
       "      <td>[[]]</td>\n",
       "      <td>[[]]</td>\n",
       "      <td>(Atom('H', [6.141052145, 11.22574118, 1.215339...</td>\n",
       "      <td>0.00</td>\n",
       "      <td>9</td>\n",
       "    </tr>\n",
       "    <tr>\n",
       "      <th>...</th>\n",
       "      <td>...</td>\n",
       "      <td>...</td>\n",
       "      <td>...</td>\n",
       "      <td>...</td>\n",
       "      <td>...</td>\n",
       "      <td>...</td>\n",
       "      <td>...</td>\n",
       "    </tr>\n",
       "    <tr>\n",
       "      <th>9-7</th>\n",
       "      <td>(Atom('H', [6.141052145, 11.22574118, 1.215339...</td>\n",
       "      <td>&lt;ase.geometry.analysis.Analysis object at 0x7f...</td>\n",
       "      <td>[[(301, 366)]]</td>\n",
       "      <td>[[(349, 352)]]</td>\n",
       "      <td>(Atom('H', [6.141052145, 11.22574118, 1.215339...</td>\n",
       "      <td>0.05</td>\n",
       "      <td>18</td>\n",
       "    </tr>\n",
       "    <tr>\n",
       "      <th>1-3</th>\n",
       "      <td>(Atom('H', [6.141052145, 11.22574118, 1.215339...</td>\n",
       "      <td>&lt;ase.geometry.analysis.Analysis object at 0x7f...</td>\n",
       "      <td>[[(275, 356), (277, 349), (289, 366), (301, 35...</td>\n",
       "      <td>[[]]</td>\n",
       "      <td>(Atom('H', [6.141052145, 11.22574118, 1.215339...</td>\n",
       "      <td>0.25</td>\n",
       "      <td>14</td>\n",
       "    </tr>\n",
       "    <tr>\n",
       "      <th>0-8</th>\n",
       "      <td>(Atom('H', [6.141052145, 11.22574118, 1.215339...</td>\n",
       "      <td>&lt;ase.geometry.analysis.Analysis object at 0x7f...</td>\n",
       "      <td>[[]]</td>\n",
       "      <td>[[]]</td>\n",
       "      <td>(Atom('H', [6.141052145, 11.22574118, 1.215339...</td>\n",
       "      <td>0.00</td>\n",
       "      <td>9</td>\n",
       "    </tr>\n",
       "    <tr>\n",
       "      <th>3-13</th>\n",
       "      <td>(Atom('H', [6.141052145, 11.22574118, 1.215339...</td>\n",
       "      <td>&lt;ase.geometry.analysis.Analysis object at 0x7f...</td>\n",
       "      <td>[[(262, 364), (293, 362), (305, 372)]]</td>\n",
       "      <td>[[]]</td>\n",
       "      <td>(Atom('H', [6.141052145, 11.22574118, 1.215339...</td>\n",
       "      <td>0.15</td>\n",
       "      <td>16</td>\n",
       "    </tr>\n",
       "    <tr>\n",
       "      <th>7-15</th>\n",
       "      <td>(Atom('H', [6.141052145, 11.22574118, 1.215339...</td>\n",
       "      <td>&lt;ase.geometry.analysis.Analysis object at 0x7f...</td>\n",
       "      <td>[[(241, 356), (263, 362), (285, 363), (288, 36...</td>\n",
       "      <td>[[]]</td>\n",
       "      <td>(Atom('H', [6.141052145, 11.22574118, 1.215339...</td>\n",
       "      <td>0.35</td>\n",
       "      <td>12</td>\n",
       "    </tr>\n",
       "  </tbody>\n",
       "</table>\n",
       "<p>167 rows × 7 columns</p>\n",
       "</div>"
      ],
      "text/plain": [
       "                                                   geom  \\\n",
       "2-13  (Atom('H', [6.141052145, 11.22574118, 1.215339...   \n",
       "5-7   (Atom('H', [6.141052145, 11.22574118, 1.215339...   \n",
       "6-6   (Atom('H', [6.141052145, 11.22574118, 1.215339...   \n",
       "7-8   (Atom('H', [6.141052145, 11.22574118, 1.215339...   \n",
       "0-4   (Atom('H', [6.141052145, 11.22574118, 1.215339...   \n",
       "...                                                 ...   \n",
       "9-7   (Atom('H', [6.141052145, 11.22574118, 1.215339...   \n",
       "1-3   (Atom('H', [6.141052145, 11.22574118, 1.215339...   \n",
       "0-8   (Atom('H', [6.141052145, 11.22574118, 1.215339...   \n",
       "3-13  (Atom('H', [6.141052145, 11.22574118, 1.215339...   \n",
       "7-15  (Atom('H', [6.141052145, 11.22574118, 1.215339...   \n",
       "\n",
       "                                               analysis  \\\n",
       "2-13  <ase.geometry.analysis.Analysis object at 0x7f...   \n",
       "5-7   <ase.geometry.analysis.Analysis object at 0x7f...   \n",
       "6-6   <ase.geometry.analysis.Analysis object at 0x7f...   \n",
       "7-8   <ase.geometry.analysis.Analysis object at 0x7f...   \n",
       "0-4   <ase.geometry.analysis.Analysis object at 0x7f...   \n",
       "...                                                 ...   \n",
       "9-7   <ase.geometry.analysis.Analysis object at 0x7f...   \n",
       "1-3   <ase.geometry.analysis.Analysis object at 0x7f...   \n",
       "0-8   <ase.geometry.analysis.Analysis object at 0x7f...   \n",
       "3-13  <ase.geometry.analysis.Analysis object at 0x7f...   \n",
       "7-15  <ase.geometry.analysis.Analysis object at 0x7f...   \n",
       "\n",
       "                                               sifbonds         ffbonds  \\\n",
       "2-13                                               [[]]            [[]]   \n",
       "5-7                          [[(286, 362), (301, 361)]]  [[(348, 351)]]   \n",
       "6-6                          [[(299, 355), (311, 361)]]            [[]]   \n",
       "7-8   [[(241, 356), (263, 366), (285, 352), (286, 36...            [[]]   \n",
       "0-4                                                [[]]            [[]]   \n",
       "...                                                 ...             ...   \n",
       "9-7                                      [[(301, 366)]]  [[(349, 352)]]   \n",
       "1-3   [[(275, 356), (277, 349), (289, 366), (301, 35...            [[]]   \n",
       "0-8                                                [[]]            [[]]   \n",
       "3-13             [[(262, 364), (293, 362), (305, 372)]]            [[]]   \n",
       "7-15  [[(241, 356), (263, 362), (285, 363), (288, 36...            [[]]   \n",
       "\n",
       "                                                  slabs  slabFratio  \\\n",
       "2-13  (Atom('H', [6.141052145, 11.22574118, 1.215339...        0.00   \n",
       "5-7   (Atom('H', [6.141052145, 11.22574118, 1.215339...        0.10   \n",
       "6-6   (Atom('H', [6.141052145, 11.22574118, 1.215339...        0.20   \n",
       "7-8   (Atom('H', [6.141052145, 11.22574118, 1.215339...        0.30   \n",
       "0-4   (Atom('H', [6.141052145, 11.22574118, 1.215339...        0.00   \n",
       "...                                                 ...         ...   \n",
       "9-7   (Atom('H', [6.141052145, 11.22574118, 1.215339...        0.05   \n",
       "1-3   (Atom('H', [6.141052145, 11.22574118, 1.215339...        0.25   \n",
       "0-8   (Atom('H', [6.141052145, 11.22574118, 1.215339...        0.00   \n",
       "3-13  (Atom('H', [6.141052145, 11.22574118, 1.215339...        0.15   \n",
       "7-15  (Atom('H', [6.141052145, 11.22574118, 1.215339...        0.35   \n",
       "\n",
       "      isolatedFatoms  \n",
       "2-13               9  \n",
       "5-7               17  \n",
       "6-6                7  \n",
       "7-8               13  \n",
       "0-4                9  \n",
       "...              ...  \n",
       "9-7               18  \n",
       "1-3               14  \n",
       "0-8                9  \n",
       "3-13              16  \n",
       "7-15              12  \n",
       "\n",
       "[167 rows x 7 columns]"
      ]
     },
     "execution_count": 27,
     "metadata": {},
     "output_type": "execute_result"
    }
   ],
   "source": [
    "# data = readStructs(\"../sirich.nhpoor.frun/\", shallow = False, name = 'output')\n",
    "# data['analysis'] = [Analysis(i) for i in data['geom']]\n",
    "data = pd.read_pickle(\"../sirich.nhpoor.frun/data.pkl\")\n",
    "data"
   ]
  },
  {
   "cell_type": "code",
   "execution_count": 28,
   "metadata": {
    "ExecuteTime": {
     "end_time": "2021-08-04T07:38:01.375255Z",
     "start_time": "2021-08-04T07:38:01.077031Z"
    }
   },
   "outputs": [
    {
     "ename": "KeyboardInterrupt",
     "evalue": "",
     "output_type": "error",
     "traceback": [
      "\u001b[0;31m---------------------------------------------------------------------------\u001b[0m",
      "\u001b[0;31mKeyboardInterrupt\u001b[0m                         Traceback (most recent call last)",
      "\u001b[0;32m<ipython-input-28-337db255e5ad>\u001b[0m in \u001b[0;36m<module>\u001b[0;34m\u001b[0m\n\u001b[0;32m----> 1\u001b[0;31m \u001b[0mdata\u001b[0m\u001b[0;34m[\u001b[0m\u001b[0;34m'sifbonds'\u001b[0m\u001b[0;34m]\u001b[0m \u001b[0;34m=\u001b[0m \u001b[0;34m[\u001b[0m\u001b[0mi\u001b[0m\u001b[0;34m.\u001b[0m\u001b[0mget_bonds\u001b[0m\u001b[0;34m(\u001b[0m\u001b[0;34m\"Si\"\u001b[0m\u001b[0;34m,\u001b[0m\u001b[0;34m\"F\"\u001b[0m\u001b[0;34m)\u001b[0m \u001b[0;32mfor\u001b[0m \u001b[0mi\u001b[0m \u001b[0;32min\u001b[0m \u001b[0mdata\u001b[0m\u001b[0;34m[\u001b[0m\u001b[0;34m'analysis'\u001b[0m\u001b[0;34m]\u001b[0m\u001b[0;34m]\u001b[0m\u001b[0;34m\u001b[0m\u001b[0;34m\u001b[0m\u001b[0m\n\u001b[0m\u001b[1;32m      2\u001b[0m \u001b[0mdata\u001b[0m\u001b[0;34m[\u001b[0m\u001b[0;34m'ffbonds'\u001b[0m\u001b[0;34m]\u001b[0m \u001b[0;34m=\u001b[0m \u001b[0;34m[\u001b[0m\u001b[0mi\u001b[0m\u001b[0;34m.\u001b[0m\u001b[0mget_bonds\u001b[0m\u001b[0;34m(\u001b[0m\u001b[0;34m\"F\"\u001b[0m\u001b[0;34m,\u001b[0m\u001b[0;34m\"F\"\u001b[0m\u001b[0;34m)\u001b[0m \u001b[0;32mfor\u001b[0m \u001b[0mi\u001b[0m \u001b[0;32min\u001b[0m \u001b[0mdata\u001b[0m\u001b[0;34m[\u001b[0m\u001b[0;34m'analysis'\u001b[0m\u001b[0;34m]\u001b[0m\u001b[0;34m]\u001b[0m\u001b[0;34m\u001b[0m\u001b[0;34m\u001b[0m\u001b[0m\n",
      "\u001b[0;32m<ipython-input-28-337db255e5ad>\u001b[0m in \u001b[0;36m<listcomp>\u001b[0;34m(.0)\u001b[0m\n\u001b[0;32m----> 1\u001b[0;31m \u001b[0mdata\u001b[0m\u001b[0;34m[\u001b[0m\u001b[0;34m'sifbonds'\u001b[0m\u001b[0;34m]\u001b[0m \u001b[0;34m=\u001b[0m \u001b[0;34m[\u001b[0m\u001b[0mi\u001b[0m\u001b[0;34m.\u001b[0m\u001b[0mget_bonds\u001b[0m\u001b[0;34m(\u001b[0m\u001b[0;34m\"Si\"\u001b[0m\u001b[0;34m,\u001b[0m\u001b[0;34m\"F\"\u001b[0m\u001b[0;34m)\u001b[0m \u001b[0;32mfor\u001b[0m \u001b[0mi\u001b[0m \u001b[0;32min\u001b[0m \u001b[0mdata\u001b[0m\u001b[0;34m[\u001b[0m\u001b[0;34m'analysis'\u001b[0m\u001b[0;34m]\u001b[0m\u001b[0;34m]\u001b[0m\u001b[0;34m\u001b[0m\u001b[0;34m\u001b[0m\u001b[0m\n\u001b[0m\u001b[1;32m      2\u001b[0m \u001b[0mdata\u001b[0m\u001b[0;34m[\u001b[0m\u001b[0;34m'ffbonds'\u001b[0m\u001b[0;34m]\u001b[0m \u001b[0;34m=\u001b[0m \u001b[0;34m[\u001b[0m\u001b[0mi\u001b[0m\u001b[0;34m.\u001b[0m\u001b[0mget_bonds\u001b[0m\u001b[0;34m(\u001b[0m\u001b[0;34m\"F\"\u001b[0m\u001b[0;34m,\u001b[0m\u001b[0;34m\"F\"\u001b[0m\u001b[0;34m)\u001b[0m \u001b[0;32mfor\u001b[0m \u001b[0mi\u001b[0m \u001b[0;32min\u001b[0m \u001b[0mdata\u001b[0m\u001b[0;34m[\u001b[0m\u001b[0;34m'analysis'\u001b[0m\u001b[0;34m]\u001b[0m\u001b[0;34m]\u001b[0m\u001b[0;34m\u001b[0m\u001b[0;34m\u001b[0m\u001b[0m\n",
      "\u001b[0;32m~/miniconda3/lib/python3.7/site-packages/ase/geometry/analysis.py\u001b[0m in \u001b[0;36mget_bonds\u001b[0;34m(self, A, B, unique)\u001b[0m\n\u001b[1;32m    330\u001b[0m                     \u001b[0mr\u001b[0m\u001b[0;34m[\u001b[0m\u001b[0;34m-\u001b[0m\u001b[0;36m1\u001b[0m\u001b[0;34m]\u001b[0m\u001b[0;34m.\u001b[0m\u001b[0mextend\u001b[0m\u001b[0;34m(\u001b[0m\u001b[0;34m[\u001b[0m \u001b[0;34m(\u001b[0m\u001b[0midx\u001b[0m\u001b[0;34m,\u001b[0m \u001b[0mx\u001b[0m\u001b[0;34m)\u001b[0m \u001b[0;32mfor\u001b[0m \u001b[0mx\u001b[0m \u001b[0;32min\u001b[0m \u001b[0mbonded\u001b[0m \u001b[0;32mif\u001b[0m \u001b[0;34m(\u001b[0m \u001b[0mx\u001b[0m \u001b[0;32min\u001b[0m \u001b[0maIdxs\u001b[0m \u001b[0;34m)\u001b[0m \u001b[0;32mand\u001b[0m \u001b[0;34m(\u001b[0m \u001b[0mx\u001b[0m \u001b[0;34m>\u001b[0m \u001b[0midx\u001b[0m \u001b[0;34m)\u001b[0m \u001b[0;34m]\u001b[0m\u001b[0;34m)\u001b[0m\u001b[0;34m\u001b[0m\u001b[0;34m\u001b[0m\u001b[0m\n\u001b[1;32m    331\u001b[0m                 \u001b[0;32melse\u001b[0m\u001b[0;34m:\u001b[0m\u001b[0;34m\u001b[0m\u001b[0;34m\u001b[0m\u001b[0m\n\u001b[0;32m--> 332\u001b[0;31m                     \u001b[0mr\u001b[0m\u001b[0;34m[\u001b[0m\u001b[0;34m-\u001b[0m\u001b[0;36m1\u001b[0m\u001b[0;34m]\u001b[0m\u001b[0;34m.\u001b[0m\u001b[0mextend\u001b[0m\u001b[0;34m(\u001b[0m\u001b[0;34m[\u001b[0m \u001b[0;34m(\u001b[0m\u001b[0midx\u001b[0m\u001b[0;34m,\u001b[0m \u001b[0mx\u001b[0m\u001b[0;34m)\u001b[0m \u001b[0;32mfor\u001b[0m \u001b[0mx\u001b[0m \u001b[0;32min\u001b[0m \u001b[0mbonded\u001b[0m \u001b[0;32mif\u001b[0m \u001b[0mx\u001b[0m \u001b[0;32min\u001b[0m \u001b[0mbIdxs\u001b[0m \u001b[0;34m]\u001b[0m\u001b[0;34m)\u001b[0m\u001b[0;34m\u001b[0m\u001b[0;34m\u001b[0m\u001b[0m\n\u001b[0m\u001b[1;32m    333\u001b[0m \u001b[0;34m\u001b[0m\u001b[0m\n\u001b[1;32m    334\u001b[0m             \u001b[0;32mif\u001b[0m \u001b[0;32mnot\u001b[0m \u001b[0munique\u001b[0m\u001b[0;34m:\u001b[0m\u001b[0;34m\u001b[0m\u001b[0;34m\u001b[0m\u001b[0m\n",
      "\u001b[0;32m~/miniconda3/lib/python3.7/site-packages/ase/geometry/analysis.py\u001b[0m in \u001b[0;36m<listcomp>\u001b[0;34m(.0)\u001b[0m\n\u001b[1;32m    330\u001b[0m                     \u001b[0mr\u001b[0m\u001b[0;34m[\u001b[0m\u001b[0;34m-\u001b[0m\u001b[0;36m1\u001b[0m\u001b[0;34m]\u001b[0m\u001b[0;34m.\u001b[0m\u001b[0mextend\u001b[0m\u001b[0;34m(\u001b[0m\u001b[0;34m[\u001b[0m \u001b[0;34m(\u001b[0m\u001b[0midx\u001b[0m\u001b[0;34m,\u001b[0m \u001b[0mx\u001b[0m\u001b[0;34m)\u001b[0m \u001b[0;32mfor\u001b[0m \u001b[0mx\u001b[0m \u001b[0;32min\u001b[0m \u001b[0mbonded\u001b[0m \u001b[0;32mif\u001b[0m \u001b[0;34m(\u001b[0m \u001b[0mx\u001b[0m \u001b[0;32min\u001b[0m \u001b[0maIdxs\u001b[0m \u001b[0;34m)\u001b[0m \u001b[0;32mand\u001b[0m \u001b[0;34m(\u001b[0m \u001b[0mx\u001b[0m \u001b[0;34m>\u001b[0m \u001b[0midx\u001b[0m \u001b[0;34m)\u001b[0m \u001b[0;34m]\u001b[0m\u001b[0;34m)\u001b[0m\u001b[0;34m\u001b[0m\u001b[0;34m\u001b[0m\u001b[0m\n\u001b[1;32m    331\u001b[0m                 \u001b[0;32melse\u001b[0m\u001b[0;34m:\u001b[0m\u001b[0;34m\u001b[0m\u001b[0;34m\u001b[0m\u001b[0m\n\u001b[0;32m--> 332\u001b[0;31m                     \u001b[0mr\u001b[0m\u001b[0;34m[\u001b[0m\u001b[0;34m-\u001b[0m\u001b[0;36m1\u001b[0m\u001b[0;34m]\u001b[0m\u001b[0;34m.\u001b[0m\u001b[0mextend\u001b[0m\u001b[0;34m(\u001b[0m\u001b[0;34m[\u001b[0m \u001b[0;34m(\u001b[0m\u001b[0midx\u001b[0m\u001b[0;34m,\u001b[0m \u001b[0mx\u001b[0m\u001b[0;34m)\u001b[0m \u001b[0;32mfor\u001b[0m \u001b[0mx\u001b[0m \u001b[0;32min\u001b[0m \u001b[0mbonded\u001b[0m \u001b[0;32mif\u001b[0m \u001b[0mx\u001b[0m \u001b[0;32min\u001b[0m \u001b[0mbIdxs\u001b[0m \u001b[0;34m]\u001b[0m\u001b[0;34m)\u001b[0m\u001b[0;34m\u001b[0m\u001b[0;34m\u001b[0m\u001b[0m\n\u001b[0m\u001b[1;32m    333\u001b[0m \u001b[0;34m\u001b[0m\u001b[0m\n\u001b[1;32m    334\u001b[0m             \u001b[0;32mif\u001b[0m \u001b[0;32mnot\u001b[0m \u001b[0munique\u001b[0m\u001b[0;34m:\u001b[0m\u001b[0;34m\u001b[0m\u001b[0;34m\u001b[0m\u001b[0m\n",
      "\u001b[0;31mKeyboardInterrupt\u001b[0m: "
     ]
    }
   ],
   "source": [
    "data['sifbonds'] = [i.get_bonds(\"Si\",\"F\") for i in data['analysis']]\n",
    "data['ffbonds'] = [i.get_bonds(\"F\",\"F\") for i in data['analysis']]"
   ]
  },
  {
   "cell_type": "code",
   "execution_count": null,
   "metadata": {
    "ExecuteTime": {
     "end_time": "2021-08-04T07:38:01.380088Z",
     "start_time": "2021-08-04T07:37:58.298Z"
    }
   },
   "outputs": [],
   "source": [
    "from structure import getslab\n",
    "data['slabs'] = [getslab(i) for i in data['geom']]"
   ]
  },
  {
   "cell_type": "code",
   "execution_count": null,
   "metadata": {
    "ExecuteTime": {
     "end_time": "2021-08-04T07:38:01.381169Z",
     "start_time": "2021-08-04T07:37:58.303Z"
    }
   },
   "outputs": [],
   "source": [
    "data"
   ]
  },
  {
   "cell_type": "code",
   "execution_count": null,
   "metadata": {
    "ExecuteTime": {
     "end_time": "2021-08-04T07:38:01.382296Z",
     "start_time": "2021-08-04T07:37:58.308Z"
    }
   },
   "outputs": [],
   "source": [
    "from ase.visualize import view\n",
    "view(gen.read_gen(\"../sirich.nhpoor.frun/input0-0.gen\"))"
   ]
  },
  {
   "cell_type": "code",
   "execution_count": null,
   "metadata": {
    "ExecuteTime": {
     "end_time": "2021-08-04T07:38:01.383726Z",
     "start_time": "2021-08-04T07:37:58.312Z"
    }
   },
   "outputs": [],
   "source": [
    "view(data['geom'])"
   ]
  },
  {
   "cell_type": "code",
   "execution_count": null,
   "metadata": {
    "ExecuteTime": {
     "end_time": "2021-08-04T07:38:01.385228Z",
     "start_time": "2021-08-04T07:37:58.317Z"
    }
   },
   "outputs": [],
   "source": [
    "from ase.formula import Formula\n",
    "import numpy as np\n",
    "data['slabFratio'] = [\n",
    "    np.sum([i.symbol == \"F\" for i in data['slabs'][i]])/np.sum([i.symbol == \"F\" for i in data['geom'][i]])\n",
    "    for i in data.index\n",
    "]\n",
    "data"
   ]
  },
  {
   "cell_type": "code",
   "execution_count": null,
   "metadata": {
    "ExecuteTime": {
     "end_time": "2021-08-04T07:38:01.387104Z",
     "start_time": "2021-08-04T07:37:58.320Z"
    }
   },
   "outputs": [],
   "source": [
    "%matplotlib inline\n",
    "bins = np.arange(0, 0.6, 0.05)\n",
    "adsData.plot(kind = 'hist', y = 'slabFratio', \n",
    "          bins = bins, xticks = bins, title = 'percent of F incorporated into slab')"
   ]
  },
  {
   "cell_type": "code",
   "execution_count": null,
   "metadata": {
    "ExecuteTime": {
     "end_time": "2021-08-04T07:38:01.389358Z",
     "start_time": "2021-08-04T07:37:58.324Z"
    }
   },
   "outputs": [],
   "source": [
    "data['isolatedFatoms'] =  [\n",
    "    np.sum([i.symbol == \"F\" for i in data['geom'][i]])\n",
    "    - len(data['ffbonds'][i]) - np.sum([i.symbol == \"F\" for i in data['slabs'][i]])\n",
    "    for i in data.index\n",
    "]"
   ]
  },
  {
   "cell_type": "code",
   "execution_count": null,
   "metadata": {
    "ExecuteTime": {
     "end_time": "2021-08-04T07:38:01.391669Z",
     "start_time": "2021-08-04T07:37:58.328Z"
    }
   },
   "outputs": [],
   "source": [
    "bins = np.arange(4, 20, 1)\n",
    "annealData.plot(kind = 'hist', y = 'isolatedFatoms', \n",
    "          bins = bins, xticks = bins, title = \"distribution of # of isolated F atoms / slab\")"
   ]
  },
  {
   "cell_type": "code",
   "execution_count": null,
   "metadata": {
    "ExecuteTime": {
     "end_time": "2021-08-04T07:38:01.393002Z",
     "start_time": "2021-08-04T07:37:58.331Z"
    }
   },
   "outputs": [],
   "source": [
    "data"
   ]
  },
  {
   "cell_type": "code",
   "execution_count": null,
   "metadata": {
    "ExecuteTime": {
     "end_time": "2021-08-04T07:38:01.394213Z",
     "start_time": "2021-08-04T07:37:58.334Z"
    }
   },
   "outputs": [],
   "source": [
    "data.to_pickle(\"../sirich.nhpoor.frun/data.pkl\")"
   ]
  },
  {
   "cell_type": "code",
   "execution_count": null,
   "metadata": {
    "ExecuteTime": {
     "end_time": "2021-08-04T07:38:01.395745Z",
     "start_time": "2021-08-04T07:37:58.337Z"
    }
   },
   "outputs": [],
   "source": [
    "adsData = pd.read_pickle(\"../sirich.nhpoor.fads/data.pkl\") "
   ]
  },
  {
   "cell_type": "code",
   "execution_count": null,
   "metadata": {
    "ExecuteTime": {
     "end_time": "2021-08-04T07:38:01.397602Z",
     "start_time": "2021-08-04T07:37:58.341Z"
    }
   },
   "outputs": [],
   "source": [
    "annealData = data"
   ]
  },
  {
   "cell_type": "code",
   "execution_count": null,
   "metadata": {},
   "outputs": [],
   "source": []
  },
  {
   "cell_type": "code",
   "execution_count": null,
   "metadata": {
    "ExecuteTime": {
     "end_time": "2021-08-04T07:38:01.400173Z",
     "start_time": "2021-08-04T07:37:58.346Z"
    }
   },
   "outputs": [],
   "source": [
    "annealData['numffbonds'] = [len(i[0]) for i in annealData['ffbonds']] \n",
    "# adsData['numffbonds'] = [len(i[0]) for i in adsData['ffbonds']] \n",
    "annealData['numsifbonds'] = [len(i[0]) for i in annealData['sifbonds']] \n",
    "# adsData['numsifbonds'] = [len(i[0]) for i in adsData['sifbonds']] "
   ]
  },
  {
   "cell_type": "code",
   "execution_count": null,
   "metadata": {
    "ExecuteTime": {
     "end_time": "2021-08-04T07:38:01.402290Z",
     "start_time": "2021-08-04T07:37:58.349Z"
    }
   },
   "outputs": [],
   "source": [
    "changes = [\n",
    "    np.sum(annealData['numffbonds'] > adsData['numffbonds'])/len(annealData),\n",
    "    np.sum(annealData['numffbonds'] < adsData['numffbonds'])/len(annealData),\n",
    "    np.sum(annealData['numffbonds'] == adsData['numffbonds'])/len(annealData),\n",
    "    np.sum(annealData['numsifbonds'] > adsData['numsifbonds'])/len(annealData),\n",
    "    np.sum(annealData['numsifbonds'] < adsData['numsifbonds'])/len(annealData),\n",
    "    np.sum(annealData['numsifbonds'] == adsData['numsifbonds'])/len(annealData)\n",
    "]\n",
    "\n",
    "outputStrings = [\n",
    "   \"% of runs with increase in FF bonds:{}\",\n",
    "   \"% of runs with decrease in FF bonds:{}\",\n",
    "   \"% of runs with no change in FF bonds:{}\", \n",
    "   \"% of runs with increase in SiF bonds:{}\",\n",
    "   \"% of runs with decrease in SiF bonds:{}\",\n",
    "   \"% of runs with no change in SiF bonds:{}\" \n",
    "]\n",
    "for i, j in zip(outputStrings, changes):\n",
    "    print(i.format(round(j,2)))"
   ]
  },
  {
   "cell_type": "code",
   "execution_count": null,
   "metadata": {
    "ExecuteTime": {
     "end_time": "2021-08-04T07:38:01.403988Z",
     "start_time": "2021-08-04T07:37:58.353Z"
    }
   },
   "outputs": [],
   "source": [
    "adsData.loc['9-13', 'sifbonds']"
   ]
  },
  {
   "cell_type": "code",
   "execution_count": null,
   "metadata": {
    "ExecuteTime": {
     "end_time": "2021-08-04T07:38:01.405447Z",
     "start_time": "2021-08-04T07:37:58.357Z"
    }
   },
   "outputs": [],
   "source": [
    "annealData.loc['9-13', 'sifbonds']"
   ]
  },
  {
   "cell_type": "code",
   "execution_count": null,
   "metadata": {
    "ExecuteTime": {
     "end_time": "2021-08-04T07:38:01.406492Z",
     "start_time": "2021-08-04T07:37:58.360Z"
    }
   },
   "outputs": [],
   "source": [
    "adsData.loc['2-1', 'sifbonds']"
   ]
  },
  {
   "cell_type": "code",
   "execution_count": null,
   "metadata": {
    "ExecuteTime": {
     "end_time": "2021-08-04T07:38:01.407849Z",
     "start_time": "2021-08-04T07:37:58.363Z"
    }
   },
   "outputs": [],
   "source": [
    "annealData.loc['2-1', 'sifbonds']"
   ]
  },
  {
   "cell_type": "code",
   "execution_count": null,
   "metadata": {
    "ExecuteTime": {
     "end_time": "2021-08-04T07:38:01.408937Z",
     "start_time": "2021-08-04T07:37:58.366Z"
    }
   },
   "outputs": [],
   "source": [
    "Fpositions = []\n",
    "for geom in annealData['geom']:\n",
    "    for atom in geom:\n",
    "        if atom.symbol == \"F\":\n",
    "            Fpositions += [atom.position[2]]\n",
    "plt.hist(Fpositions, bins = np.arange(12, 40, 1))"
   ]
  },
  {
   "cell_type": "code",
   "execution_count": null,
   "metadata": {
    "ExecuteTime": {
     "end_time": "2021-08-04T07:38:01.410209Z",
     "start_time": "2021-08-04T07:37:58.369Z"
    }
   },
   "outputs": [],
   "source": [
    "Sicounts = []\n",
    "for geom in annealData['geom']:\n",
    "    sicount = 0\n",
    "    for atom in geom:\n",
    "        if atom.symbol == \"Si\" and atom.position[2] > 15:\n",
    "            sicount += 1\n",
    "    Sicounts += [sicount]\n",
    "plt.hist(Sicounts)"
   ]
  },
  {
   "cell_type": "code",
   "execution_count": null,
   "metadata": {
    "ExecuteTime": {
     "end_time": "2021-08-04T07:38:01.411199Z",
     "start_time": "2021-08-04T07:37:58.371Z"
    }
   },
   "outputs": [],
   "source": [
    "np.mean(Sicounts)"
   ]
  },
  {
   "cell_type": "code",
   "execution_count": null,
   "metadata": {
    "ExecuteTime": {
     "end_time": "2021-08-04T07:38:01.412453Z",
     "start_time": "2021-08-04T07:37:58.374Z"
    }
   },
   "outputs": [],
   "source": [
    "np.mean(annealData['numsifbonds'])"
   ]
  },
  {
   "cell_type": "code",
   "execution_count": null,
   "metadata": {
    "ExecuteTime": {
     "end_time": "2021-08-04T07:38:01.413778Z",
     "start_time": "2021-08-04T07:37:58.377Z"
    }
   },
   "outputs": [],
   "source": [
    "annealData = data\n",
    "Fdensities = []\n",
    "for fsicount, geom in zip(annealData['numsifbonds'], annealData['geom']):\n",
    "    minFz = np.min([atom.position[2] for atom in geom if atom.symbol == \"F\"]) \n",
    "    sicount = len([i for i in geom if \n",
    "                   i.symbol == \"Si\" and i.position[2] > 15]) \n",
    "    #1.5 is fudge factor for F bonded above Si\n",
    "    if fsicount == 0:\n",
    "        Fdensities += [0]\n",
    "    else:\n",
    "        Fdensities += [fsicount/sicount]\n",
    "plt.hist(Fdensities)\n",
    "plt.title('by min F z coord')\n",
    "print(\"average density:{}\".format(np.mean(Fdensities)))"
   ]
  },
  {
   "cell_type": "code",
   "execution_count": null,
   "metadata": {
    "ExecuteTime": {
     "end_time": "2021-08-04T07:38:01.415186Z",
     "start_time": "2021-08-04T07:37:58.380Z"
    }
   },
   "outputs": [],
   "source": [
    "from ase.visualize import view\n",
    "view(annealData['geom'][annealData['numsifbonds'] == 8])"
   ]
  },
  {
   "cell_type": "code",
   "execution_count": null,
   "metadata": {
    "ExecuteTime": {
     "end_time": "2021-08-04T07:38:01.416595Z",
     "start_time": "2021-08-04T07:37:58.382Z"
    }
   },
   "outputs": [],
   "source": [
    "mostFslabs = annealData.sort_values(by = 'numsifbonds', ascending = False).iloc[:17, :]['slabs']"
   ]
  },
  {
   "cell_type": "code",
   "execution_count": null,
   "metadata": {
    "ExecuteTime": {
     "end_time": "2021-08-04T07:38:01.417848Z",
     "start_time": "2021-08-04T07:37:58.385Z"
    }
   },
   "outputs": [],
   "source": [
    "leastFslabs = annealData.sort_values(by = 'numsifbonds').iloc[:17, :]['slabs']"
   ]
  },
  {
   "cell_type": "code",
   "execution_count": null,
   "metadata": {
    "ExecuteTime": {
     "end_time": "2021-08-04T07:38:01.419188Z",
     "start_time": "2021-08-04T07:37:58.388Z"
    }
   },
   "outputs": [],
   "source": [
    "from ase.geometry.analysis import Analysis\n",
    "rdfs = []\n",
    "for slab in mostFslabs:\n",
    "    a = Analysis(slab)\n",
    "    rmax = 5\n",
    "    y, x = a.get_rdf(rmax, nbins = int(rmax // 0.02), elements = [\"Si\", \"N\"], return_dists=True)[0]\n",
    "    rdfs += [y]"
   ]
  },
  {
   "cell_type": "code",
   "execution_count": null,
   "metadata": {
    "ExecuteTime": {
     "end_time": "2021-08-04T07:38:01.420818Z",
     "start_time": "2021-08-04T07:37:58.391Z"
    }
   },
   "outputs": [],
   "source": [
    "meanrdf = np.mean(np.array(rdfs), axis = 0)\n",
    "plt.plot(x, meanrdf)\n",
    "peaks = find_peaks(meanrdf)[0]\n",
    "maxpeak = max(peaks, key = lambda x: meanrdf[x]) #1NN is highest peak\n",
    "plt.scatter(x[maxpeak], meanrdf[maxpeak])"
   ]
  },
  {
   "cell_type": "code",
   "execution_count": null,
   "metadata": {
    "ExecuteTime": {
     "end_time": "2021-08-04T07:38:01.422618Z",
     "start_time": "2021-08-04T07:37:58.394Z"
    }
   },
   "outputs": [],
   "source": [
    "avglens = []\n",
    "for slab in mostFslabs:\n",
    "    a = Analysis(slab)\n",
    "    rmax = 5\n",
    "    sifbonds = a.get_bonds(\"Si\", \"N\")\n",
    "    avglens += [np.mean(a.get_values(sifbonds))]"
   ]
  },
  {
   "cell_type": "code",
   "execution_count": null,
   "metadata": {
    "ExecuteTime": {
     "end_time": "2021-08-04T07:38:01.424271Z",
     "start_time": "2021-08-04T07:37:58.397Z"
    }
   },
   "outputs": [],
   "source": [
    "np.mean(avglens)"
   ]
  },
  {
   "cell_type": "code",
   "execution_count": null,
   "metadata": {
    "ExecuteTime": {
     "end_time": "2021-08-04T07:38:01.425565Z",
     "start_time": "2021-08-04T07:37:58.399Z"
    }
   },
   "outputs": [],
   "source": [
    "avglens = []\n",
    "for slab in leastFslabs:\n",
    "    a = Analysis(slab)\n",
    "    rmax = 5\n",
    "    sifbonds = a.get_bonds(\"Si\", \"N\")\n",
    "    avglens += [np.mean(a.get_values(sifbonds))]"
   ]
  },
  {
   "cell_type": "code",
   "execution_count": null,
   "metadata": {
    "ExecuteTime": {
     "end_time": "2021-08-04T07:38:01.427433Z",
     "start_time": "2021-08-04T07:37:58.402Z"
    }
   },
   "outputs": [],
   "source": [
    "np.mean(avglens)"
   ]
  },
  {
   "cell_type": "code",
   "execution_count": null,
   "metadata": {
    "ExecuteTime": {
     "end_time": "2021-08-04T07:38:01.428974Z",
     "start_time": "2021-08-04T07:37:58.405Z"
    }
   },
   "outputs": [],
   "source": [
    "(mostFslabspeakX - leastFslabspeakX)/mostFslabspeakX"
   ]
  },
  {
   "cell_type": "code",
   "execution_count": null,
   "metadata": {
    "ExecuteTime": {
     "end_time": "2021-08-04T07:38:01.430295Z",
     "start_time": "2021-08-04T07:37:58.410Z"
    }
   },
   "outputs": [],
   "source": [
    "from scipy.signal import find_peaks\n",
    "from ase.geometry.analysis import Analysis\n",
    "def averageRDF(structs):\n",
    "    rdfs = []\n",
    "    for slab in structs:\n",
    "        slab = slab[[atom.position[2] > 15 for atom in slab]]\n",
    "        a = Analysis(slab)\n",
    "        rmax = 5\n",
    "        y, x = a.get_rdf(rmax, nbins = int(rmax // 0.02), elements = [\"Si\", \"N\"], return_dists=True)[0]\n",
    "        rdfs += [y]\n",
    "    meanrdf = np.mean(np.array(rdfs), axis = 0)\n",
    "    plt.plot(x, meanrdf)\n",
    "    peaks = find_peaks(meanrdf)[0]\n",
    "    maxpeak = max(peaks, key = lambda x: meanrdf[x]) #1NN is highest peak\n",
    "    plt.scatter(x[maxpeak], meanrdf[maxpeak])\n",
    "    return x[maxpeak]\n",
    "plt.title(\"mostF\")\n",
    "mostFslabspeakX = averageRDF(mostFslabs)\n",
    "# plt.show()\n",
    "plt.title(\"leastF\")\n",
    "leastFslabspeakX = averageRDF(leastFslabs)\n",
    "plt.show()\n",
    "print(\"1NN peak locations and difference:\")\n",
    "print(mostFslabspeakX, leastFslabspeakX, mostFslabspeakX - leastFslabspeakX)"
   ]
  },
  {
   "cell_type": "code",
   "execution_count": null,
   "metadata": {
    "ExecuteTime": {
     "end_time": "2021-08-04T07:38:01.431932Z",
     "start_time": "2021-08-04T07:37:58.413Z"
    }
   },
   "outputs": [],
   "source": [
    "from ase.visualize import view\n",
    "temp = adsData.loc['7-2', 'geom'].copy()\n",
    "temp.wrap()\n",
    "view(temp)"
   ]
  },
  {
   "cell_type": "code",
   "execution_count": null,
   "metadata": {
    "ExecuteTime": {
     "end_time": "2021-08-04T07:38:01.433401Z",
     "start_time": "2021-08-04T07:37:58.416Z"
    }
   },
   "outputs": [],
   "source": [
    "annealData[annealData['numsifbonds'] < adsData['numsifbonds']].index"
   ]
  },
  {
   "cell_type": "code",
   "execution_count": null,
   "metadata": {
    "ExecuteTime": {
     "end_time": "2021-08-04T07:38:01.434575Z",
     "start_time": "2021-08-04T07:37:58.419Z"
    }
   },
   "outputs": [],
   "source": [
    "adsData.loc['6-13', 'sifbonds']"
   ]
  },
  {
   "cell_type": "code",
   "execution_count": null,
   "metadata": {
    "ExecuteTime": {
     "end_time": "2021-08-04T07:38:01.435795Z",
     "start_time": "2021-08-04T07:37:58.421Z"
    }
   },
   "outputs": [],
   "source": [
    "bins = np.arange(4)\n",
    "annealData.plot(kind = 'hist', y = 'numffbonds', xticks = bins, bins = bins)"
   ]
  },
  {
   "cell_type": "code",
   "execution_count": null,
   "metadata": {
    "ExecuteTime": {
     "end_time": "2021-08-04T07:38:01.436911Z",
     "start_time": "2021-08-04T07:37:58.424Z"
    }
   },
   "outputs": [],
   "source": [
    "mostFslabs"
   ]
  },
  {
   "cell_type": "code",
   "execution_count": null,
   "metadata": {
    "ExecuteTime": {
     "end_time": "2021-08-04T07:38:01.437960Z",
     "start_time": "2021-08-04T07:37:58.427Z"
    }
   },
   "outputs": [],
   "source": [
    "view(mostFslabs)"
   ]
  },
  {
   "cell_type": "code",
   "execution_count": null,
   "metadata": {
    "ExecuteTime": {
     "end_time": "2021-08-04T07:38:01.439186Z",
     "start_time": "2021-08-04T07:37:58.430Z"
    }
   },
   "outputs": [],
   "source": [
    "print(os.system(\"pwd\"))"
   ]
  },
  {
   "cell_type": "code",
   "execution_count": null,
   "metadata": {
    "ExecuteTime": {
     "end_time": "2021-08-04T07:38:01.440183Z",
     "start_time": "2021-08-04T07:37:58.432Z"
    }
   },
   "outputs": [],
   "source": [
    "import os\n",
    "from input_generation import randomGrid\n",
    "\n",
    "i = 0\n",
    "for idx, slab in mostFslabs.iloc[:10].items():\n",
    "    print(idx)\n",
    "    slab = gen.read_gen(\"../input{}.gen\".format(i))\n",
    "    del slab[[atom.index for atom in slab if atom.symbol == \"Ar\"]]\n",
    "    outdir = \"atomic.f.input{}/\".format(i)\n",
    "#     os.mkdir(outdir)\n",
    "    randomGrid(\"Ar\", slab, h = 6, outputDir = outdir, numDirs = 1, runsPerDir = 17)\n",
    "    i += 1"
   ]
  },
  {
   "cell_type": "code",
   "execution_count": null,
   "metadata": {
    "ExecuteTime": {
     "end_time": "2021-08-04T07:38:01.441358Z",
     "start_time": "2021-08-04T07:37:58.435Z"
    }
   },
   "outputs": [],
   "source": [
    "from ase.io import gen\n",
    "view([gen.read_gen(\"atomic.f.input1/\" + i) for i in os.listdir(\"atomic.f.input1\")])\n",
    "view([gen.read_gen(\"atomic.f.input0/\" + i) for i in os.listdir(\"atomic.f.input0\")])"
   ]
  },
  {
   "cell_type": "code",
   "execution_count": null,
   "metadata": {
    "ExecuteTime": {
     "end_time": "2021-08-04T07:38:01.442914Z",
     "start_time": "2021-08-04T07:37:58.439Z"
    }
   },
   "outputs": [],
   "source": [
    "# estimating atom removal -> etch rate (Å) conversion\n",
    "# 1 impact per s per cm^2 is 1E-16 impacts per Å^2 per second\n",
    "# The flux is 6E16 per s per cm^2, so 6 impact per Å^2 per second\n",
    "# So on a 15x15 surface, for 10 seconds, that's about 13,500 impacts over one cycle\n",
    "\n",
    "#calculate average number of N, Si atoms in 1Å of material (using the range 7.5-8.5 Å, halfway-ish in slab):\n",
    "\n",
    "\n",
    "ncounts = []\n",
    "sicounts = []\n",
    "for slab in annealData['geom']:\n",
    "    ncounts += [len([a for a in slab if a.symbol == \"N\" and 7.5 <= a.position[2] <= 8.5])]\n",
    "    sicounts += [len([a for a in slab if a.symbol == \"Si\" and 7.5 <= a.position[2] <= 8.5])]"
   ]
  },
  {
   "cell_type": "code",
   "execution_count": null,
   "metadata": {
    "ExecuteTime": {
     "end_time": "2021-08-04T07:38:01.444321Z",
     "start_time": "2021-08-04T07:37:58.443Z"
    }
   },
   "outputs": [],
   "source": [
    "np.mean(ncounts), np.std(ncounts)"
   ]
  },
  {
   "cell_type": "code",
   "execution_count": null,
   "metadata": {
    "ExecuteTime": {
     "end_time": "2021-08-04T07:38:01.445801Z",
     "start_time": "2021-08-04T07:37:58.447Z"
    }
   },
   "outputs": [],
   "source": [
    "plt.hist(ncounts, bins = np.arange(6, 16));"
   ]
  },
  {
   "cell_type": "code",
   "execution_count": null,
   "metadata": {
    "ExecuteTime": {
     "end_time": "2021-08-04T07:38:01.452939Z",
     "start_time": "2021-08-04T07:37:58.452Z"
    }
   },
   "outputs": [],
   "source": [
    "np.mean(sicounts), np.std(sicounts)"
   ]
  },
  {
   "cell_type": "code",
   "execution_count": null,
   "metadata": {
    "ExecuteTime": {
     "end_time": "2021-08-04T07:38:01.456052Z",
     "start_time": "2021-08-04T07:37:58.455Z"
    }
   },
   "outputs": [],
   "source": [
    "plt.hist(sicounts, bins = np.arange(4, 14));"
   ]
  },
  {
   "cell_type": "code",
   "execution_count": null,
   "metadata": {
    "ExecuteTime": {
     "end_time": "2021-08-04T07:38:01.458190Z",
     "start_time": "2021-08-04T07:37:58.459Z"
    }
   },
   "outputs": [],
   "source": [
    "7.9/ 10.4"
   ]
  },
  {
   "cell_type": "code",
   "execution_count": null,
   "metadata": {
    "ExecuteTime": {
     "end_time": "2021-08-04T07:38:01.460212Z",
     "start_time": "2021-08-04T07:37:58.462Z"
    }
   },
   "outputs": [],
   "source": [
    "annealData.head()"
   ]
  },
  {
   "cell_type": "code",
   "execution_count": null,
   "metadata": {
    "ExecuteTime": {
     "end_time": "2021-08-04T07:38:01.461974Z",
     "start_time": "2021-08-04T07:37:58.466Z"
    }
   },
   "outputs": [],
   "source": [
    "k = 10 #W/mK\n",
    "dT0 = 1000 - 100 #K\n",
    "dx = \n",
    "\n",
    "q0 = - "
   ]
  },
  {
   "cell_type": "code",
   "execution_count": null,
   "metadata": {
    "ExecuteTime": {
     "end_time": "2021-08-04T07:38:01.463919Z",
     "start_time": "2021-08-04T07:37:58.469Z"
    }
   },
   "outputs": [],
   "source": [
    "aggregatesinbondlengths = []\n",
    "for idx, row in annealData[['geom', 'analysis', 'sifbonds']].iterrows():\n",
    "    # get data for structure ``idx``\n",
    "    geom, ana, sifbonds = row['geom'], row['analysis'], row['sifbonds'][0]\n",
    "    sinbondlengths = []\n",
    "    allbonds = ana.all_bonds[0]\n",
    "    \n",
    "    # go through each SiF bond\n",
    "    for atom1, atom2 in sifbonds: # 0 index because each thing assumes some list of structs\n",
    "        if geom[atom1].symbol == \"Si\":\n",
    "            sibonds = allbonds[atom1]\n",
    "            siIdx = atom1\n",
    "        elif geom[atom2].symbol == \"Si\":\n",
    "            sibonds = allbonds[atom2]\n",
    "            siIdx = atom2\n",
    "        else:\n",
    "            raise Exception(\"oops\")\n",
    "        \n",
    "        #go through bondlist for each silicon atom (from list of SiF bonds); find which ones are N\n",
    "        sinbonds = [i for i in sibonds if geom[i].symbol == \"N\"]\n",
    "        \n",
    "        #get bond lengths for each\n",
    "        sinbondlengths += [ana.get_bond_value(0, [siIdx, i]) for i in sinbonds]\n",
    "#         print([ana.get_bond_value(0, [siIdx, i]) for i in sinbonds])\n",
    "#     print(sinbondlengths)\n",
    "    aggregatesinbondlengths += sinbondlengths"
   ]
  },
  {
   "cell_type": "code",
   "execution_count": null,
   "metadata": {
    "ExecuteTime": {
     "end_time": "2021-08-04T07:38:01.465761Z",
     "start_time": "2021-08-04T07:37:58.472Z"
    }
   },
   "outputs": [],
   "source": [
    "allbonds[0]"
   ]
  },
  {
   "cell_type": "code",
   "execution_count": null,
   "metadata": {
    "ExecuteTime": {
     "end_time": "2021-08-04T07:38:01.467501Z",
     "start_time": "2021-08-04T07:37:58.476Z"
    }
   },
   "outputs": [],
   "source": [
    "aggregatesinbondlengths = []\n",
    "for idx, row in annealData.loc[leastFslabs.index, ['geom', 'analysis', 'sifbonds']].iterrows():\n",
    "    # get data for structure ``idx``\n",
    "    geom, ana, sifbonds = row['geom'], row['analysis'], row['sifbonds'][0]\n",
    "    sinbondlengths = []\n",
    "    allbonds = ana.all_bonds[0]\n",
    "    \n",
    "    # go through every single bond\n",
    "    for atom1, bonds in enumerate(allbonds):\n",
    "        for atom2 in bonds: # 0 index because each thing assumes some list of structs\n",
    "            if geom[atom1].symbol == \"Si\":\n",
    "                sibonds = allbonds[atom1]\n",
    "                siIdx = atom1\n",
    "            elif geom[atom2].symbol == \"Si\":\n",
    "                sibonds = allbonds[atom2]\n",
    "                siIdx = atom2\n",
    "#             else:\n",
    "#                 raise Exception(\"oops\")\n",
    "\n",
    "            #go through bondlist for each silicon atom (from list of SiF bonds); find which ones are N\n",
    "            sinbonds = [i for i in sibonds if geom[i].symbol == \"N\"]\n",
    "\n",
    "            #get bond lengths for each\n",
    "            sinbondlengths += [ana.get_bond_value(0, [siIdx, i]) for i in sinbonds]\n",
    "    #         print([ana.get_bond_value(0, [siIdx, i]) for i in sinbonds])\n",
    "    #     print(sinbondlengths)\n",
    "    aggregatesinbondlengths += sinbondlengths"
   ]
  },
  {
   "cell_type": "code",
   "execution_count": null,
   "metadata": {
    "ExecuteTime": {
     "end_time": "2021-08-04T07:38:01.469517Z",
     "start_time": "2021-08-04T07:37:58.480Z"
    }
   },
   "outputs": [],
   "source": [
    "aggregatesinbondlengths = np.array(aggregatesinbondlengths)[np.array(aggregatesinbondlengths) < 2.0]\n",
    "plt.hist(aggregatesinbondlengths)\n",
    "plt.title(\"distribution of Si-N bond lengths for Si in structures SiF bond\")\n",
    "print(\"mean: {}, sd: {}\".format(np.mean(aggregatesinbondlengths), np.std(aggregatesinbondlengths)))"
   ]
  },
  {
   "cell_type": "code",
   "execution_count": null,
   "metadata": {
    "ExecuteTime": {
     "end_time": "2021-08-04T07:38:01.471432Z",
     "start_time": "2021-08-04T07:37:58.483Z"
    }
   },
   "outputs": [],
   "source": [
    "annealData[['geom', 'sifbonds']].iterrows()"
   ]
  },
  {
   "cell_type": "code",
   "execution_count": null,
   "metadata": {
    "ExecuteTime": {
     "end_time": "2021-08-04T07:38:01.473590Z",
     "start_time": "2021-08-04T07:37:58.486Z"
    }
   },
   "outputs": [],
   "source": [
    "import os\n",
    "from ase.io import gen\n",
    "path = \"../f.saturate/\"\n",
    "geoms = [gen.read_gen(path + i) for i in os.listdir(path) if \"max17\" in i]"
   ]
  },
  {
   "cell_type": "code",
   "execution_count": null,
   "metadata": {
    "ExecuteTime": {
     "end_time": "2021-08-04T07:38:01.475208Z",
     "start_time": "2021-08-04T07:37:58.489Z"
    }
   },
   "outputs": [],
   "source": [
    "from ase.visualize import view\n",
    "view(geoms)"
   ]
  },
  {
   "cell_type": "code",
   "execution_count": null,
   "metadata": {
    "ExecuteTime": {
     "end_time": "2021-08-04T07:38:01.476630Z",
     "start_time": "2021-08-04T07:37:58.492Z"
    }
   },
   "outputs": [],
   "source": [
    "s = gen.read_gen(\"../s0.1_r1.65_max17.5_min5.gen\")"
   ]
  },
  {
   "cell_type": "code",
   "execution_count": null,
   "metadata": {
    "ExecuteTime": {
     "end_time": "2021-08-04T07:38:01.478072Z",
     "start_time": "2021-08-04T07:37:58.495Z"
    }
   },
   "outputs": [],
   "source": [
    "import pandas as pd\n",
    "pd.Series(s.symbols.formula.count())"
   ]
  },
  {
   "cell_type": "code",
   "execution_count": null,
   "metadata": {
    "ExecuteTime": {
     "end_time": "2021-08-04T07:38:01.479550Z",
     "start_time": "2021-08-04T07:37:58.498Z"
    }
   },
   "outputs": [],
   "source": [
    "import matplotlib.pyplot as plt\n",
    "import numpy as np\n",
    "\n",
    "counts, ledges = np.histogram(a = [a.position[2] for a in s if a.symbol == \"F\"], bins = np.arange(4, 20))\n",
    "plt.hist(x = [a.position[2] for a in s if a.symbol == \"F\"], bins = np.arange(4,20))\n",
    "plt.title(\"F distribution\")\n"
   ]
  },
  {
   "cell_type": "code",
   "execution_count": null,
   "metadata": {
    "ExecuteTime": {
     "end_time": "2021-08-04T07:38:01.481087Z",
     "start_time": "2021-08-04T07:37:58.500Z"
    }
   },
   "outputs": [],
   "source": [
    "from scipy.stats import norm\n",
    "np.random.seed(429)\n",
    "temp = s.copy()\n",
    "del temp[[a.index for a in temp if \n",
    "          0.17 * np.random.random() > \n",
    "          norm(scale = 5, loc = 15).pdf(a.position[2])\n",
    "          and a.symbol == \"F\"]]\n",
    "# view(temp)\n",
    "temp"
   ]
  },
  {
   "cell_type": "code",
   "execution_count": null,
   "metadata": {
    "ExecuteTime": {
     "end_time": "2021-08-04T07:38:01.482817Z",
     "start_time": "2021-08-04T07:37:58.504Z"
    }
   },
   "outputs": [],
   "source": [
    "pd.Series(temp.symbols.formula.count())/131"
   ]
  },
  {
   "cell_type": "code",
   "execution_count": null,
   "metadata": {
    "ExecuteTime": {
     "end_time": "2021-08-04T07:38:01.484893Z",
     "start_time": "2021-08-04T07:37:58.507Z"
    }
   },
   "outputs": [],
   "source": [
    "pd.Series(temp.symbols.formula.count())"
   ]
  },
  {
   "cell_type": "code",
   "execution_count": null,
   "metadata": {
    "ExecuteTime": {
     "end_time": "2021-08-04T07:38:01.486191Z",
     "start_time": "2021-08-04T07:37:58.510Z"
    },
    "scrolled": true
   },
   "outputs": [],
   "source": [
    "plt.hist(x = [a.position[2] for a in temp if a.symbol == \"F\"], bins = np.arange(4,20))\n",
    "plt.title(\"F distribution\")"
   ]
  },
  {
   "cell_type": "code",
   "execution_count": null,
   "metadata": {
    "ExecuteTime": {
     "end_time": "2021-08-04T07:38:01.487314Z",
     "start_time": "2021-08-04T07:37:58.513Z"
    }
   },
   "outputs": [],
   "source": [
    "view(temp)"
   ]
  },
  {
   "cell_type": "code",
   "execution_count": null,
   "metadata": {
    "ExecuteTime": {
     "end_time": "2021-08-04T07:38:01.489131Z",
     "start_time": "2021-08-04T07:37:58.515Z"
    }
   },
   "outputs": [],
   "source": [
    "np.mean([a.position[2] for a in temp if a.symbol == \"F\"])"
   ]
  },
  {
   "cell_type": "code",
   "execution_count": null,
   "metadata": {
    "ExecuteTime": {
     "end_time": "2021-08-04T07:38:01.492981Z",
     "start_time": "2021-08-04T07:37:58.520Z"
    }
   },
   "outputs": [],
   "source": [
    "gen.write_gen(\"sif0.75.gen\", temp)"
   ]
  },
  {
   "cell_type": "code",
   "execution_count": null,
   "metadata": {
    "ExecuteTime": {
     "end_time": "2021-08-04T07:38:01.494254Z",
     "start_time": "2021-08-04T07:37:58.525Z"
    }
   },
   "outputs": [],
   "source": [
    "from ase.build import diamond100, diamond111, add_vacuum\n",
    "from ase.visualize import view\n",
    "slab = diamond100('Si', size=(8, 8, 4), vacuum = 10)\n",
    "for atom in slab:\n",
    "    atom.position[2] = atom.position[2] - 8 \n",
    "view(slab)\n",
    "slab"
   ]
  },
  {
   "cell_type": "code",
   "execution_count": null,
   "metadata": {
    "ExecuteTime": {
     "end_time": "2021-08-04T07:38:01.495410Z",
     "start_time": "2021-08-04T07:37:58.531Z"
    }
   },
   "outputs": [],
   "source": [
    "np.max(b.positions[:, 2])"
   ]
  },
  {
   "cell_type": "code",
   "execution_count": null,
   "metadata": {
    "ExecuteTime": {
     "end_time": "2021-08-04T07:38:01.496574Z",
     "start_time": "2021-08-04T07:37:58.536Z"
    }
   },
   "outputs": [],
   "source": [
    "from ase.build import bulk, make_supercell\n",
    "from ase.constraints import FixAtoms\n",
    "from ase.atom import Atom\n",
    "# b = bulk(\"Si\", 'diamond', orthorhombic=True)\n",
    "b = diamond111(\"Si\", size = (1,1,11))\n",
    "del b[[a.index for a in b if a.position[2] == np.max(b.positions[:, 2])]]\n",
    "#make unit cell\n",
    "# m1, m2 = 1, 2\n",
    "# b = make_supercell(b, P = np.array([[m1, 0, 0], [0, m1, 0], [0, 0, m2]]))\n",
    "\n",
    "# terminate \n",
    "topSi, botSi = np.array(sorted(b, key = lambda a: a.position[2], reverse = True))[np.array([0, -1])]\n",
    "temp = Atom(\"H\", position = topSi.position.copy())\n",
    "temp.position += np.array([0, 0, 1.4])\n",
    "b.append(temp)\n",
    "temp = Atom(\"H\", position = botSi.position.copy())\n",
    "temp.position -= np.array([0, 0, 1.4])\n",
    "b.append(temp)\n",
    "\n",
    "b.center(vacuum = 10, axis = (2))\n",
    "view(b)\n",
    "\n",
    "# #extend to supercell slab\n",
    "m1, m2 = 6, 1\n",
    "b = make_supercell(b, P = np.array([[m1, 0, 0], [0, m1, 0], [0, 0, m2]]))\n",
    "\n",
    "#constrain middle layer\n",
    "midZ = b.cell[2,2]/2 #assume Cell object is 3x3 array\n",
    "midDist = lambda atom: np.abs(atom.position[2] - midZ)\n",
    "b2 = sorted(b, key = midDist, reverse = False)\n",
    "b = b[[atom.index for atom in b2]]\n",
    "b.constraints = FixAtoms(np.arange(2 * 2 * 8 * 2))\n",
    "\n",
    "view(b)\n",
    "b\n",
    "# gen.write_gen(\"slab.gen\")"
   ]
  },
  {
   "cell_type": "code",
   "execution_count": null,
   "metadata": {
    "ExecuteTime": {
     "end_time": "2021-08-04T07:38:01.497682Z",
     "start_time": "2021-08-04T07:37:58.541Z"
    },
    "code_folding": []
   },
   "outputs": [],
   "source": [
    "from ase.io import vasp\n",
    "for i in range(5):\n",
    "    s = vasp.read_vasp(\"../POSCAR{}\".format(i))\n",
    "    \n",
    "    argons = [a for a in s if a.symbol == \"Ar\"]\n",
    "    minArZ = min([np.abs(a.position[2] - 17.422) for a in argons])\n",
    "    minAr = [a for a in s if np.abs(a.position[2] - 17.422) == minArZ][0]\n",
    "    \n",
    "    del s[[a.index for a in s if s.get_distance(a.index, minAr.index, mic = True) > 5]]\n",
    "#     view(s)\n",
    "    print(s)\n",
    "    vasp.write_vasp(\"../POSCAR{}_trimmed\".format(i), s, vasp5=True, sort = True)"
   ]
  },
  {
   "cell_type": "code",
   "execution_count": null,
   "metadata": {
    "ExecuteTime": {
     "end_time": "2021-08-04T07:38:01.499152Z",
     "start_time": "2021-08-04T07:37:58.547Z"
    }
   },
   "outputs": [],
   "source": [
    "from ase.io import gen\n",
    "import pandas as pd\n",
    "import numpy as np\n",
    "from ase.geometry.analysis import Analysis\n",
    "\n",
    "def getslab(struct):\n",
    "    \"\"\"\n",
    "    Input: \n",
    "        struct: structre from which we will trim unbound species (.gen file)\n",
    "    Output:\n",
    "        baseslab: structure with unbound species trimmed\n",
    "    \"\"\"\n",
    "    adjmat = Analysis(struct).adjacency_matrix[0]\n",
    "    numnodes = adjmat.shape[0]\n",
    "    g = Graph(numnodes)\n",
    "    for i in range(numnodes):\n",
    "        for j in range(numnodes):\n",
    "            if adjmat[i,j]:\n",
    "                g.addEdge(i,j)\n",
    "    cc = g.connectedComponents()\n",
    "    maingraph = np.array([i for i in cc if 0 in i][0])\n",
    "    return struct[[atom.index for atom in struct if atom.index in maingraph]]\n",
    "# Python program to print connected\n",
    "# components in an undirected graph\n",
    "# https://www.geeksforgeeks.org/connected-components-in-an-undirected-graph/\n",
    "\n",
    "def getslabs(data, directory, useInputs = False):\n",
    "    \"\"\"\n",
    "    Utility for getting and writing slab files from readData (utils.py) function\n",
    "    data is the df from readData function or any df with (struct, in) and (struct, out) columns\n",
    "    \"\"\"\n",
    "\n",
    "    if useInputs:\n",
    "        slabSource = data['struct']['in']\n",
    "    else:\n",
    "        slabSource = data['struct']['out']\n",
    "\n",
    "    dataDir = directory\n",
    "    slabs = {}\n",
    "\n",
    "    # # to generate slabs\n",
    "\n",
    "    for key, value in slabSource.iteritems():\n",
    "        slabs[key] = getslab(value)\n",
    "\n",
    "    for key, value in slabs.items():\n",
    "        gen.write_gen(dataDir + \"slab{}.gen\".format(key), value)\n",
    "\n",
    "    # to read slabs\n",
    "    for key in data.index:\n",
    "        slabs[key] = gen.read_gen(dataDir + \"slab{}.gen\".format(key))\n",
    "\n",
    "    if useInputs:\n",
    "        data.loc[:, ('struct', 'inslab')] = pd.Series(slabs)\n",
    "    else:\n",
    "        data.loc[:, ('struct', 'outslab')] = pd.Series(slabs)\n",
    "\n",
    "class Graph:\n",
    " \n",
    "    # init function to declare class variables\n",
    "    def __init__(self, V):\n",
    "        self.V = V\n",
    "        self.adj = [[] for i in range(V)]\n",
    " \n",
    "    def DFSUtil(self, temp, v, visited):\n",
    " \n",
    "        # Mark the current vertex as visited\n",
    "        visited[v] = True\n",
    " \n",
    "        # Store the vertex to list\n",
    "        temp.append(v)\n",
    " \n",
    "        # Repeat for all vertices adjacent\n",
    "        # to this vertex v\n",
    "        for i in self.adj[v]:\n",
    "            if visited[i] == False:\n",
    " \n",
    "                # Update the list\n",
    "                temp = self.DFSUtil(temp, i, visited)\n",
    "        return temp\n",
    " \n",
    "    # method to add an undirected edge\n",
    "    def addEdge(self, v, w):\n",
    "        self.adj[v].append(w)\n",
    "        self.adj[w].append(v)\n",
    " \n",
    "    # Method to retrieve connected components\n",
    "    # in an undirected graph\n",
    "    def connectedComponents(self):\n",
    "        visited = []\n",
    "        cc = []\n",
    "        for i in range(self.V):\n",
    "            visited.append(False)\n",
    "        for v in range(self.V):\n",
    "            if visited[v] == False:\n",
    "                temp = []\n",
    "                cc.append(self.DFSUtil(temp, v, visited))\n",
    "        return cc\n",
    "\n",
    "# This code is contributed by Abhishek Valsan"
   ]
  },
  {
   "cell_type": "code",
   "execution_count": null,
   "metadata": {
    "ExecuteTime": {
     "end_time": "2021-08-04T07:38:01.500511Z",
     "start_time": "2021-08-04T07:37:58.552Z"
    }
   },
   "outputs": [],
   "source": [
    "s = gen.read_gen(\"../geom.out.gen\")\n",
    "view(s)"
   ]
  },
  {
   "cell_type": "code",
   "execution_count": null,
   "metadata": {
    "ExecuteTime": {
     "end_time": "2021-08-04T07:38:01.501807Z",
     "start_time": "2021-08-04T07:37:58.557Z"
    }
   },
   "outputs": [],
   "source": [
    "zmincutoff = 0.1\n",
    "hbondrange = 3\n",
    "geom = s\n",
    "adjmat = Analysis(geom).adjacency_matrix[0]\n",
    "numnodes = adjmat.shape[0]\n",
    "g = Graph(numnodes)\n",
    "for i in range(numnodes):\n",
    "    for j in range(numnodes):\n",
    "        if adjmat[i,j]:\n",
    "            g.addEdge(i,j)\n",
    "cc = g.connectedComponents()\n",
    "maingraph = np.array([i for i in cc if 0 in i][0])\n",
    "slab = geom[[atom.index for atom in geom if atom.index in maingraph]]\n",
    "zcutoff = np.max([atom.position[2] for atom in slab]) + hbondrange\n",
    "fragGraphs = [i for i in cc if 0 not in i]\n",
    "fragGraphs"
   ]
  },
  {
   "cell_type": "code",
   "execution_count": null,
   "metadata": {
    "ExecuteTime": {
     "end_time": "2021-08-04T07:38:01.503173Z",
     "start_time": "2021-08-04T07:37:58.561Z"
    }
   },
   "outputs": [],
   "source": [
    "fragZs = [[geom[i].position[2] for i in frag] for frag in fragGraphs]\n",
    "fragZs"
   ]
  },
  {
   "cell_type": "code",
   "execution_count": null,
   "metadata": {
    "ExecuteTime": {
     "end_time": "2021-08-04T07:38:01.504779Z",
     "start_time": "2021-08-04T07:37:58.564Z"
    }
   },
   "outputs": [],
   "source": [
    "removeFrag = [np.all(np.array(i) > zcutoff) or np.all(np.array(i) < zmincutoff)\n",
    "              for i in fragZs]\n",
    "removeFrag"
   ]
  },
  {
   "cell_type": "code",
   "execution_count": null,
   "metadata": {
    "ExecuteTime": {
     "end_time": "2021-08-04T07:38:01.506339Z",
     "start_time": "2021-08-04T07:37:58.570Z"
    }
   },
   "outputs": [],
   "source": [
    "atomsToRemove = [i for g,r in zip(fragGraphs, removeFrag) if r for i in g]\n",
    "atomsToRemove"
   ]
  },
  {
   "cell_type": "code",
   "execution_count": null,
   "metadata": {
    "ExecuteTime": {
     "end_time": "2021-08-04T07:38:01.507994Z",
     "start_time": "2021-08-04T07:37:58.577Z"
    }
   },
   "outputs": [],
   "source": [
    "removedAtoms = {'Si': 0, 'N': 0, 'H': 0, 'Ar': 0, 'F':0, 'C':0}\n",
    "for idx in atomsToRemove:\n",
    "    removedAtoms[s[idx].symbol] += 1\n",
    "removedAtoms"
   ]
  },
  {
   "cell_type": "code",
   "execution_count": null,
   "metadata": {
    "ExecuteTime": {
     "end_time": "2021-08-04T07:38:01.509396Z",
     "start_time": "2021-08-04T07:37:58.583Z"
    }
   },
   "outputs": [],
   "source": [
    "s2 = s.copy()\n",
    "del s2[[atom.index for atom in s2 if atom.index in atomsToRemove]]\n",
    "view([s, s2])"
   ]
  },
  {
   "cell_type": "markdown",
   "metadata": {},
   "source": [
    "# Fragment trajectory analysis"
   ]
  },
  {
   "cell_type": "code",
   "execution_count": 1,
   "metadata": {
    "ExecuteTime": {
     "end_time": "2021-08-04T08:24:42.856244Z",
     "start_time": "2021-08-04T08:24:41.777420Z"
    },
    "code_folding": []
   },
   "outputs": [],
   "source": [
    "# Imports\n",
    "import numpy as np\n",
    "from structure import getFragIndices\n",
    "import matplotlib.pyplot as plt\n",
    "\n",
    "from utils import vAngle, KE\n",
    "from ase.io import xyz\n",
    "import pandas as pd\n",
    "\n",
    "# Preprocess trajectory .xyz file (default geom.out.xyz), replace 'MD iter' line with extxyz header \n",
    "# Output file written as temp.xyz by default\n",
    "\n",
    "originalFile = \"../geom.out.xyz\"\n",
    "newFile = \"../temp.xyz\"\n",
    "verbose = False\n",
    "keyPoints = [\"start\", \"maxfrag\", \"end\"] # Key time points in the trajectory to consider\n",
    "exclusions = ['CF4', 'Ar', 'CH3F'] # When the subgraph is one of these, don't count it as a 'fragment'\n",
    "numPointstoCheck = 10 # Number of timesteps to check for max fragmentation after Ar loses KE\n",
    "KEcutoff = 0.05 # Fraction of starting KE to use as 'low energy' cutoff\n",
    "ArIndex = -1 # Unless something has changed drastically, the bombarding Ar is always the last atom in the bombardment simulation\n",
    "veloConversionFactor = 1/1000 # Multiplicative factor for velocity; 1/1000 is dftb -> VASP conversion\n",
    "\n",
    "# Load in temp.xyz as `traj`\n",
    "with open(originalFile, 'r') as f:\n",
    "    with open(newFile, 'w') as g:\n",
    "        for line in f:\n",
    "            if \"MD iter\" in line:\n",
    "                g.write('Lattice=\"15.06 0.0 0.0 0.0 15.06 0.0 0.0 0.0 40.06\" Properties=species:S:1:pos:R:3:charge:R:1:vel:R:3 \\n')\n",
    "            else:\n",
    "                g.write(line)\n",
    "\n",
    "\n",
    "traj = list(xyz.read_xyz(newFile, index = slice(0, -1))) # Read trajectory\n",
    "trajVelos = np.array([i.arrays['vel'] for i in traj]) # Read velocities; shape is (T, N, 3)"
   ]
  },
  {
   "cell_type": "code",
   "execution_count": 10,
   "metadata": {
    "ExecuteTime": {
     "end_time": "2021-08-04T08:33:12.562854Z",
     "start_time": "2021-08-04T08:33:12.547462Z"
    }
   },
   "outputs": [],
   "source": [
    "from ase.visualize import view\n",
    "view(traj[45])"
   ]
  },
  {
   "cell_type": "code",
   "execution_count": 3,
   "metadata": {
    "ExecuteTime": {
     "end_time": "2021-08-04T08:25:19.599315Z",
     "start_time": "2021-08-04T08:24:48.208571Z"
    }
   },
   "outputs": [],
   "source": [
    "from analysis import getFragsTraj\n",
    "trajFrags, trajFragLabels =  getFragsTraj(traj)"
   ]
  },
  {
   "cell_type": "code",
   "execution_count": 32,
   "metadata": {
    "ExecuteTime": {
     "end_time": "2021-08-04T08:50:23.262751Z",
     "start_time": "2021-08-04T08:50:22.548598Z"
    },
    "scrolled": false
   },
   "outputs": [
    {
     "data": {
      "image/png": "[encoded data removed]",
      "text/plain": [
       "<Figure size 720x720 with 1 Axes>"
      ]
     },
     "metadata": {
      "needs_background": "light"
     },
     "output_type": "display_data"
    },
    {
     "data": {
      "image/png": "[encoded data removed]",
      "text/plain": [
       "<Figure size 720x720 with 1 Axes>"
      ]
     },
     "metadata": {
      "needs_background": "light"
     },
     "output_type": "display_data"
    },
    {
     "data": {
      "image/png": "[encoded data removed]",
      "text/plain": [
       "<Figure size 720x720 with 1 Axes>"
      ]
     },
     "metadata": {
      "needs_background": "light"
     },
     "output_type": "display_data"
    }
   ],
   "source": [
    "from utils import flatten\n",
    "import matplotlib.pyplot as plt\n",
    "%matplotlib inline\n",
    "\n",
    "plt.figure(figsize = (10,10))\n",
    "trajFragCountsByName = {key: [] for key in np.unique(flatten(trajFragLabels))}\n",
    "for i, labels in enumerate(trajFragLabels):\n",
    "#     print(i, labels)\n",
    "    frameDict = {}\n",
    "    for label in labels:\n",
    "        frameDict[label] = frameDict.get(label, 0) + 1\n",
    "    for key, value in trajFragCountsByName.items():\n",
    "        trajFragCountsByName[key] += [frameDict.get(key, 0)]\n",
    "for key, value in trajFragCountsByName.items():\n",
    "    if \"C\" in key:\n",
    "        plt.plot(np.arange(len(value)) * 5, value, label = key)\n",
    "plt.title(\"C containing fragments\")\n",
    "plt.yticks(np.arange(2))\n",
    "plt.xlabel(\"time (fs)\")\n",
    "plt.xlabel(\"count\")\n",
    "plt.legend()\n",
    "plt.show()\n",
    "\n",
    "plt.figure(figsize = (10,10))\n",
    "for key, value in trajFragCountsByName.items():\n",
    "    if \"C\" not in key:\n",
    "        plt.plot(np.arange(len(value)) * 5, value, label = key)\n",
    "plt.title(\"Fragments with no C\")\n",
    "plt.yticks(np.arange(3))\n",
    "plt.xlabel(\"time (fs)\")\n",
    "plt.xlabel(\"count\")\n",
    "plt.legend()\n",
    "plt.show()\n",
    "\n",
    "plt.figure(figsize = (10,10))\n",
    "for key, value in trajFragCountsByName.items():\n",
    "    plt.plot(np.arange(len(value)) * 5, value, label = key)\n",
    "plt.title(\"all fragments\")\n",
    "plt.yticks(np.arange(3))\n",
    "plt.xlabel(\"time (fs)\")\n",
    "plt.xlabel(\"count\")\n",
    "plt.legend()\n",
    "plt.show()"
   ]
  },
  {
   "cell_type": "code",
   "execution_count": null,
   "metadata": {
    "ExecuteTime": {
     "end_time": "2021-08-04T07:38:01.518117Z",
     "start_time": "2021-08-04T07:37:58.631Z"
    }
   },
   "outputs": [],
   "source": [
    "# Identify which atoms are in fragments at each stage of the simulation\n",
    "from analysis import getFragsByPoint\n",
    "pointIndices, fragsByPoint = getFragsByPoint(traj, keyPoints)\n",
    "fragsByPoint"
   ]
  },
  {
   "cell_type": "code",
   "execution_count": null,
   "metadata": {
    "ExecuteTime": {
     "end_time": "2021-08-04T07:38:01.519624Z",
     "start_time": "2021-08-04T07:37:58.636Z"
    },
    "code_folding": []
   },
   "outputs": [],
   "source": [
    "from analysis import getFragStats\n",
    "fragPointStats, fragTrajStats = getFragStats(traj, fragsByPoint, pointIndices, verbose = False)\n",
    "fragPointStats"
   ]
  },
  {
   "cell_type": "code",
   "execution_count": null,
   "metadata": {
    "ExecuteTime": {
     "end_time": "2021-08-04T07:38:01.521559Z",
     "start_time": "2021-08-04T07:37:58.641Z"
    }
   },
   "outputs": [],
   "source": [
    "# Track specific set of fragments through whole trajectory\n",
    "mainFrags = fragsByPoint['maxfrag']\n",
    "mainPositions = [] # Only consider xy position\n",
    "mainVelos = []\n",
    "mainVeloMags = []\n",
    "mainAngles = []\n",
    "mainLabels = []\n",
    "for frag in mainFrags:\n",
    "    mainPositions += [np.mean(\n",
    "        [i.positions[frag, :] for i in traj], \n",
    "        axis = 1)] # Obtain position at each timestep, averaged across all atoms in frag\n",
    "    mainVelos += [np.mean(\n",
    "        [i.arrays['vel'][frag, :]/1000 for i in traj], \n",
    "        axis = 1\n",
    "    )]\n",
    "    mainAngles += [[vAngle(i) for i in mainVelos[-1]]]\n",
    "    mainVeloMags += [np.linalg.norm(mainVelos[-1], axis = 1)]\n",
    "    mainLabels += [traj[0][frag].symbols.get_chemical_formula()] # 0 is a dummy index; just need 1 frame for atom labels"
   ]
  },
  {
   "cell_type": "code",
   "execution_count": null,
   "metadata": {
    "ExecuteTime": {
     "end_time": "2021-08-04T07:38:01.523010Z",
     "start_time": "2021-08-04T07:37:58.645Z"
    }
   },
   "outputs": [],
   "source": [
    "plt.figure(figsize = (10,10))\n",
    "for i, label in zip(mainPositions, mainLabels):\n",
    "    plt.plot(i[:, 0], i[:, 1])\n",
    "    plt.scatter(i[:, 0], i[:, 1], marker = 'o', s = np.linspace(100, 1, len(i[:,0])),\n",
    "             label = \"Position of {}\".format(label))\n",
    "    plt.xlabel(\"x (Å)\")\n",
    "    plt.ylabel(\"y (Å)\")\n",
    "plt.plot([], [], ' ', label=\"Size of dot corresponds to time; smaller dots are longer time\")\n",
    "plt.legend()\n",
    "plt.title(\"Fragment trajectories over bombardment stage\")\n",
    "plt.show()"
   ]
  },
  {
   "cell_type": "code",
   "execution_count": null,
   "metadata": {
    "ExecuteTime": {
     "end_time": "2021-08-04T07:38:01.524338Z",
     "start_time": "2021-08-04T07:37:58.650Z"
    }
   },
   "outputs": [],
   "source": [
    "# Import libraries\n",
    "from mpl_toolkits import mplot3d\n",
    "import plotly.express as px\n",
    "\n",
    "# ax = plt.axes(projection='3d')\n",
    "\n",
    "plotx = np.array([])\n",
    "ploty = np.array([])\n",
    "plotz = np.array([])\n",
    "plotlabel = np.array([])\n",
    "plotsize = np.array([])\n",
    "\n",
    "fragnum = 0\n",
    "\n",
    "for i, label in zip(mainPositions, mainLabels):\n",
    "    plotx = np.append(plotx, i[:, 0])\n",
    "    ploty = np.append(ploty, i[:, 1])\n",
    "    plotz = np.append(plotz, i[:, 2])\n",
    "    plotlabel = np.append(plotlabel, [\"{}-{}\".format(label, fragnum) for i in i[:, 0]])\n",
    "    plotsize = np.append(plotsize, np.linspace(100, 0, i.shape[0]))\n",
    "    fragnum += 1\n",
    "fig = px.scatter_3d(x = plotx, y = ploty, z = plotz, color = plotlabel, size = plotsize)\n",
    "fig.show()\n",
    "    \n",
    "#     ax.plot3D(x, y, z, 'gray')\n",
    "#     ax.scatter3D(x, y, z, s = np.linspace(100, 1, len(x)));"
   ]
  },
  {
   "cell_type": "code",
   "execution_count": null,
   "metadata": {
    "ExecuteTime": {
     "end_time": "2021-08-04T07:38:01.526424Z",
     "start_time": "2021-08-04T07:37:58.654Z"
    }
   },
   "outputs": [],
   "source": [
    "for i, label in zip(mainPositions, mainLabels):\n",
    "    dist = np.sqrt(np.sum(i - i[0], axis = 1)**2)\n",
    "    plt.plot(np.arange(len(i)) * 5, dist, label = \"xy displacement of {}\".format(label))\n",
    "    plt.xlabel(\"time (fs)\")\n",
    "    plt.ylabel(\"|d| (Å)\")\n",
    "plt.legend()"
   ]
  },
  {
   "cell_type": "code",
   "execution_count": null,
   "metadata": {
    "ExecuteTime": {
     "end_time": "2021-08-04T07:38:01.529567Z",
     "start_time": "2021-08-04T07:37:58.659Z"
    }
   },
   "outputs": [],
   "source": [
    "for i, label in zip(mainPositions, mainLabels):\n",
    "    dist = np.sqrt(np.sum(i - i[0], axis = 1)**2)\n",
    "    dDist = np.diff(dist)/5\n",
    "    plt.plot(np.arange(len(dDist)) * 5, dDist, label = \"xy displacement velocity of {}\".format(label))\n",
    "    plt.xlabel(\"time (fs)\")\n",
    "    plt.ylabel(r\"$\\frac{\\Delta |d|}{\\Delta t}$ (Å/fs)\")\n",
    "plt.legend()\n",
    "plt.show()"
   ]
  },
  {
   "cell_type": "code",
   "execution_count": null,
   "metadata": {
    "ExecuteTime": {
     "end_time": "2021-08-04T07:38:01.530754Z",
     "start_time": "2021-08-04T07:37:58.663Z"
    }
   },
   "outputs": [],
   "source": [
    "for angles, label, velMag in zip(mainAngles, mainLabels, mainVeloMags):\n",
    "    plt.plot(velMag, angles)\n",
    "    plt.scatter(velMag, angles, marker = 'o', s = np.linspace(100, 1, len(angle)),\n",
    "             label = \"Angle and velocity for {}\".format(label))\n",
    "    plt.scatter(velMag[pointIndices['maxfrag']], angles[pointIndices['maxfrag']], \n",
    "                label = \"fragmentation point\", marker = 'v')\n",
    "    plt.scatter(velMag[0], angles[0], \n",
    "                label = \"start point\", marker = 's')\n",
    "    plt.xlabel(\"|v| (Å/fs)\")\n",
    "    plt.ylabel(r\"angle ($\\degree$)\")\n",
    "    plt.legend()\n",
    "    plt.show()\n"
   ]
  },
  {
   "cell_type": "code",
   "execution_count": null,
   "metadata": {
    "ExecuteTime": {
     "end_time": "2021-08-04T07:38:01.532182Z",
     "start_time": "2021-08-04T07:37:58.667Z"
    }
   },
   "outputs": [],
   "source": [
    "fragPointStats['fragIndices']['maxfrag'][0]"
   ]
  },
  {
   "cell_type": "code",
   "execution_count": null,
   "metadata": {
    "ExecuteTime": {
     "end_time": "2021-08-04T07:38:01.533282Z",
     "start_time": "2021-08-04T07:37:58.672Z"
    }
   },
   "outputs": [],
   "source": [
    "np.array(trajVelos).shape"
   ]
  },
  {
   "cell_type": "code",
   "execution_count": null,
   "metadata": {
    "ExecuteTime": {
     "end_time": "2021-08-04T07:38:01.535143Z",
     "start_time": "2021-08-04T07:37:58.678Z"
    }
   },
   "outputs": [],
   "source": [
    "fragVelos.keys()"
   ]
  },
  {
   "cell_type": "code",
   "execution_count": null,
   "metadata": {},
   "outputs": [],
   "source": []
  }
 ],
 "metadata": {
  "kernelspec": {
   "display_name": "Python 3",
   "language": "python",
   "name": "python3"
  },
  "language_info": {
   "codemirror_mode": {
    "name": "ipython",
    "version": 3
   },
   "file_extension": ".py",
   "mimetype": "text/x-python",
   "name": "python",
   "nbconvert_exporter": "python",
   "pygments_lexer": "ipython3",
   "version": "3.7.7"
  },
  "toc": {
   "base_numbering": 1,
   "nav_menu": {},
   "number_sections": true,
   "sideBar": true,
   "skip_h1_title": false,
   "title_cell": "Table of Contents",
   "title_sidebar": "Contents",
   "toc_cell": false,
   "toc_position": {},
   "toc_section_display": true,
   "toc_window_display": false
  }
 },
 "nbformat": 4,
 "nbformat_minor": 4
}
