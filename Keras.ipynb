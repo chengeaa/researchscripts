{
 "cells": [
  {
   "cell_type": "code",
   "execution_count": 6,
   "metadata": {
    "ExecuteTime": {
     "end_time": "2020-09-18T00:08:12.971250Z",
     "start_time": "2020-09-18T00:08:03.288364Z"
    }
   },
   "outputs": [
    {
     "name": "stdout",
     "output_type": "stream",
     "text": [
      "WARNING:tensorflow:From /home/erik/miniconda3/lib/python3.7/site-packages/keras/backend/tensorflow_backend.py:422: The name tf.global_variables is deprecated. Please use tf.compat.v1.global_variables instead.\n",
      "\n",
      "Train on 25000 samples, validate on 25000 samples\n",
      "Epoch 1/3\n",
      "25000/25000 [==============================] - 1s 28us/step - loss: 0.4475 - accuracy: 0.7988 - val_loss: 0.3392 - val_accuracy: 0.8562\n",
      "Epoch 2/3\n",
      "25000/25000 [==============================] - 1s 28us/step - loss: 0.3240 - accuracy: 0.8669 - val_loss: 0.3335 - val_accuracy: 0.8574\n",
      "Epoch 3/3\n",
      "25000/25000 [==============================] - 1s 29us/step - loss: 0.3109 - accuracy: 0.8722 - val_loss: 0.3355 - val_accuracy: 0.8576\n"
     ]
    }
   ],
   "source": [
    "import numpy as np\n",
    "from keras.datasets import imdb\n",
    "from keras.preprocessing.text import Tokenizer\n",
    "from keras import models\n",
    "from keras import layers\n",
    "\n",
    "np.random.seed(429)\n",
    "\n",
    "num_features = 1000\n",
    "\n",
    "(train_x, train_y), (test_x, test_y) = imdb.load_data(num_words = num_features)\n",
    "\n",
    "tokenizer = Tokenizer(num_words = num_features)\n",
    "features_train = tokenizer.sequences_to_matrix(train_x, mode = \"binary\")\n",
    "features_test = tokenizer.sequences_to_matrix(test_x, mode = \"binary\")\n",
    "\n",
    "network = models.Sequential()\n",
    "\n",
    "network.add(layers.Dense(units = 16, activation = \"relu\", input_shape = (num_features, )))\n",
    "network.add(layers.Dense(units = 16, activation = \"relu\"))\n",
    "network.add(layers.Dense(units = 1, activation = \"sigmoid\"))\n",
    "\n",
    "network.compile(loss = \"binary_crossentropy\", optimizer = \"rmsprop\", metrics = [\"accuracy\"])\n",
    "\n",
    "history = network.fit(features_train, \n",
    "                      train_y, \n",
    "                      epochs = 3, \n",
    "                      verbose = 1, \n",
    "                      batch_size = 100, \n",
    "                      validation_data = (features_test, test_y))\n"
   ]
  },
  {
   "cell_type": "code",
   "execution_count": null,
   "metadata": {},
   "outputs": [],
   "source": []
  }
 ],
 "metadata": {
  "kernelspec": {
   "display_name": "Python 3",
   "language": "python",
   "name": "python3"
  },
  "language_info": {
   "codemirror_mode": {
    "name": "ipython",
    "version": 3
   },
   "file_extension": ".py",
   "mimetype": "text/x-python",
   "name": "python",
   "nbconvert_exporter": "python",
   "pygments_lexer": "ipython3",
   "version": "3.7.7"
  },
  "toc": {
   "base_numbering": 1,
   "nav_menu": {},
   "number_sections": true,
   "sideBar": true,
   "skip_h1_title": false,
   "title_cell": "Table of Contents",
   "title_sidebar": "Contents",
   "toc_cell": false,
   "toc_position": {},
   "toc_section_display": true,
   "toc_window_display": false
  }
 },
 "nbformat": 4,
 "nbformat_minor": 4
}
