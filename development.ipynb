{
 "cells": [
  {
   "cell_type": "markdown",
   "metadata": {},
   "source": [
    "# Bond length distributions "
   ]
  },
  {
   "cell_type": "code",
   "execution_count": 3,
   "metadata": {
    "ExecuteTime": {
     "end_time": "2021-03-31T18:34:45.211785Z",
     "start_time": "2021-03-31T18:34:45.176680Z"
    }
   },
   "outputs": [],
   "source": [
    "from utils import readStructs\n",
    "from ase.geometry.analysis import Analysis\n",
    "import numpy as np\n",
    "import matplotlib.pyplot as plt \n",
    "import itertools\n",
    "\n",
    "def getBondDists(directories, names, e1, e2, zcut = 10, **kwargs):\n",
    "    dfs = []\n",
    "    bondLengthLists = []\n",
    "    for directory, name in zip(directories,names):\n",
    "        data = readStructs(directory, name = name, **kwargs)\n",
    "        # don't want bond data for the bottom z Å of slab\n",
    "        for geom in data['geom']:\n",
    "            del geom[[i.index for i in geom if i.position[2] < zcut]]\n",
    "        data['analysis'] = [Analysis(i) for i in data['geom']]\n",
    "        data['SiN bonds'] = [i.get_bonds(\"Si\", \"N\") for i in data['analysis']]\n",
    "        data['SiN bond lengths'] = [i.get_values(j) for i,j in zip(data['analysis'], data['SiN bonds'])]\n",
    "        aggregatedBondLengths = [i[0] for i in data['SiN bond lengths']]\n",
    "        aggregatedBondLengths = list(itertools.chain(*aggregatedBondLengths))\n",
    "        dfs += [data]\n",
    "        bondLengthLists += [aggregatedBondLengths]\n",
    "    return dfs, bondLengthLists"
   ]
  },
  {
   "cell_type": "code",
   "execution_count": 5,
   "metadata": {
    "ExecuteTime": {
     "end_time": "2021-03-31T18:37:42.932320Z",
     "start_time": "2021-03-31T18:35:12.815115Z"
    }
   },
   "outputs": [],
   "source": [
    "dirs = [\"../transmuted.k=2/\", \n",
    "        \"../transmuted.k=2.outslab0/\", \n",
    "        \"../transmuted.k=2.outslab1/\", \n",
    "        \"../transmuted.k=2.outslab2/\"]\n",
    "names = [\"input\", \"output\", \"output\", \"output\"]\n",
    "dfsSiN, bondLengthsSiN = getBondDists(dirs, names, \"Si\", \"N\", zcut = 10, shallow = False)\n",
    "dfsSiC, bondLengthsSiC = getBondDists(dirs, names, \"Si\", \"C\", zcut = 10, shallow = False)"
   ]
  },
  {
   "cell_type": "code",
   "execution_count": 35,
   "metadata": {
    "ExecuteTime": {
     "end_time": "2021-03-31T18:25:45.585943Z",
     "start_time": "2021-03-31T18:25:45.305698Z"
    }
   },
   "outputs": [
    {
     "data": {
      "text/plain": [
       "(array([ 425., 3706., 7854., 6222., 2074.,  663.,  255.,   85.,   34.,\n",
       "          17.]),\n",
       " array([1.6923873 , 1.73759946, 1.78281162, 1.82802378, 1.87323594,\n",
       "        1.9184481 , 1.96366026, 2.00887242, 2.05408458, 2.09929674,\n",
       "        2.1445089 ]),\n",
       " <a list of 10 Patch objects>)"
      ]
     },
     "execution_count": 35,
     "metadata": {},
     "output_type": "execute_result"
    },
    {
     "data": {
      "image/png": "[encoded data removed]",
      "text/plain": [
       "<Figure size 432x288 with 1 Axes>"
      ]
     },
     "metadata": {
      "needs_background": "light"
     },
     "output_type": "display_data"
    }
   ],
   "source": [
    "for i in bondLengths:\n",
    "    plt.hist(i);"
   ]
  },
  {
   "cell_type": "markdown",
   "metadata": {},
   "source": [
    "# Transmutation"
   ]
  },
  {
   "cell_type": "code",
   "execution_count": null,
   "metadata": {
    "ExecuteTime": {
     "start_time": "2021-03-28T05:01:02.890Z"
    }
   },
   "outputs": [],
   "source": [
    "from transmute import transmute, write_transmuted\n",
    "\n",
    "output = transmute(1, surfDepth = 10, numStructs=-1, numOut = -1, transmute=True,\n",
    "                datadir = \"../bomb21_inputs/\", shallow = False, name = 'input')\n",
    "output"
   ]
  },
  {
   "cell_type": "code",
   "execution_count": 349,
   "metadata": {
    "ExecuteTime": {
     "end_time": "2021-03-23T21:50:30.516369Z",
     "start_time": "2021-03-23T21:50:30.512456Z"
    }
   },
   "outputs": [
    {
     "data": {
      "text/plain": [
       "Index(['1-13', '1-5', '1-3', '1-6', '9-1', '6-16', '7-4', '7-0', '5-7', '3-3'], dtype='object')"
      ]
     },
     "execution_count": 349,
     "metadata": {},
     "output_type": "execute_result"
    }
   ],
   "source": [
    "output.index[:10]"
   ]
  },
  {
   "cell_type": "code",
   "execution_count": 350,
   "metadata": {
    "ExecuteTime": {
     "end_time": "2021-03-23T21:50:30.900429Z",
     "start_time": "2021-03-23T21:50:30.519002Z"
    }
   },
   "outputs": [
    {
     "data": {
      "text/plain": [
       "<matplotlib.axes._subplots.AxesSubplot at 0x7fb84797ea90>"
      ]
     },
     "execution_count": 350,
     "metadata": {},
     "output_type": "execute_result"
    },
    {
     "data": {
      "image/png": "[encoded data removed]",
      "text/plain": [
       "<Figure size 432x288 with 1 Axes>"
      ]
     },
     "metadata": {
      "needs_background": "light"
     },
     "output_type": "display_data"
    }
   ],
   "source": [
    "output.plot(kind='hist')"
   ]
  },
  {
   "cell_type": "code",
   "execution_count": 356,
   "metadata": {
    "ExecuteTime": {
     "end_time": "2021-03-23T22:15:39.240889Z",
     "start_time": "2021-03-23T22:15:37.078364Z"
    }
   },
   "outputs": [],
   "source": [
    "inTransmuteDir2 = \"../transmuted.k=2/\"\n",
    "inTransmuteDir1 = \"../transmuted.k=1/\"\n",
    "outTransmuteDir1 = \"../transmuted.k=1.bombout/\"\n",
    "outTransmuteDir2 = \"../transmuted.k=2.bombout/\"\n",
    "outOriginalDir = \"../bomb21_bombout/\"\n",
    "inTransmuted2 = readStructs(inTransmuteDir2, shallow = False, name = 'input')['geom']\n",
    "outTransmuted2 = readStructs(outTransmuteDir2, shallow = False, name = 'output')['geom']\n",
    "inTransmuted1 = readStructs(inTransmuteDir1, shallow = False, name = 'input')['geom']\n",
    "outTransmuted1 = readStructs(outTransmuteDir1, shallow = False, name = 'output')['geom']\n",
    "outOriginal = readStructs(outOriginalDir, shallow = False, name = 'output')['geom']"
   ]
  },
  {
   "cell_type": "code",
   "execution_count": 357,
   "metadata": {
    "ExecuteTime": {
     "end_time": "2021-03-23T22:15:44.640957Z",
     "start_time": "2021-03-23T22:15:43.833275Z"
    }
   },
   "outputs": [],
   "source": [
    "view(outTransmuted1)"
   ]
  },
  {
   "cell_type": "code",
   "execution_count": 358,
   "metadata": {
    "ExecuteTime": {
     "end_time": "2021-03-23T22:22:19.118682Z",
     "start_time": "2021-03-23T22:22:19.112667Z"
    }
   },
   "outputs": [
    {
     "data": {
      "text/plain": [
       "85"
      ]
     },
     "execution_count": 358,
     "metadata": {},
     "output_type": "execute_result"
    }
   ],
   "source": [
    "len(outTransmuted1)"
   ]
  }
 ],
 "metadata": {
  "kernelspec": {
   "display_name": "Python 3",
   "language": "python",
   "name": "python3"
  },
  "language_info": {
   "codemirror_mode": {
    "name": "ipython",
    "version": 3
   },
   "file_extension": ".py",
   "mimetype": "text/x-python",
   "name": "python",
   "nbconvert_exporter": "python",
   "pygments_lexer": "ipython3",
   "version": "3.7.7"
  },
  "toc": {
   "base_numbering": 1,
   "nav_menu": {},
   "number_sections": true,
   "sideBar": true,
   "skip_h1_title": false,
   "title_cell": "Table of Contents",
   "title_sidebar": "Contents",
   "toc_cell": false,
   "toc_position": {},
   "toc_section_display": true,
   "toc_window_display": false
  }
 },
 "nbformat": 4,
 "nbformat_minor": 4
}
