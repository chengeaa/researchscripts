{
 "cells": [
  {
   "cell_type": "code",
   "execution_count": 1,
   "metadata": {
    "ExecuteTime": {
     "end_time": "2021-03-20T22:41:05.122173Z",
     "start_time": "2021-03-20T22:41:03.401646Z"
    }
   },
   "outputs": [
    {
     "data": {
      "application/vnd.jupyter.widget-view+json": {
       "model_id": "9c6c841d60ed40b98501fa2cc6e55010",
       "version_major": 2,
       "version_minor": 0
      },
      "text/plain": [
       "_ColormakerRegistry()"
      ]
     },
     "metadata": {},
     "output_type": "display_data"
    }
   ],
   "source": [
    "from dependencies import * "
   ]
  },
  {
   "cell_type": "code",
   "execution_count": 348,
   "metadata": {
    "ExecuteTime": {
     "end_time": "2021-03-23T21:50:30.510090Z",
     "start_time": "2021-03-23T21:49:25.340688Z"
    }
   },
   "outputs": [
    {
     "data": {
      "text/html": [
       "<div>\n",
       "<style scoped>\n",
       "    .dataframe tbody tr th:only-of-type {\n",
       "        vertical-align: middle;\n",
       "    }\n",
       "\n",
       "    .dataframe tbody tr th {\n",
       "        vertical-align: top;\n",
       "    }\n",
       "\n",
       "    .dataframe thead th {\n",
       "        text-align: right;\n",
       "    }\n",
       "</style>\n",
       "<table border=\"1\" class=\"dataframe\">\n",
       "  <thead>\n",
       "    <tr style=\"text-align: right;\">\n",
       "      <th></th>\n",
       "      <th>geom</th>\n",
       "      <th>n</th>\n",
       "    </tr>\n",
       "  </thead>\n",
       "  <tbody>\n",
       "    <tr>\n",
       "      <th>1-13</th>\n",
       "      <td>(Atom('H', [6.141052145000001, 11.225741180000...</td>\n",
       "      <td>42</td>\n",
       "    </tr>\n",
       "    <tr>\n",
       "      <th>1-5</th>\n",
       "      <td>(Atom('H', [6.141052145000001, 11.225741180000...</td>\n",
       "      <td>39</td>\n",
       "    </tr>\n",
       "    <tr>\n",
       "      <th>1-3</th>\n",
       "      <td>(Atom('H', [6.141052145000001, 11.225741180000...</td>\n",
       "      <td>39</td>\n",
       "    </tr>\n",
       "    <tr>\n",
       "      <th>1-6</th>\n",
       "      <td>(Atom('H', [6.141052145000001, 11.225741180000...</td>\n",
       "      <td>37</td>\n",
       "    </tr>\n",
       "    <tr>\n",
       "      <th>9-1</th>\n",
       "      <td>(Atom('H', [6.141052145000001, 11.225741180000...</td>\n",
       "      <td>37</td>\n",
       "    </tr>\n",
       "    <tr>\n",
       "      <th>...</th>\n",
       "      <td>...</td>\n",
       "      <td>...</td>\n",
       "    </tr>\n",
       "    <tr>\n",
       "      <th>9-11</th>\n",
       "      <td>(Atom('H', [6.141052145000001, 11.225741180000...</td>\n",
       "      <td>24</td>\n",
       "    </tr>\n",
       "    <tr>\n",
       "      <th>6-15</th>\n",
       "      <td>(Atom('H', [6.141052145000001, 11.225741180000...</td>\n",
       "      <td>24</td>\n",
       "    </tr>\n",
       "    <tr>\n",
       "      <th>8-9</th>\n",
       "      <td>(Atom('H', [6.141052145000001, 11.225741180000...</td>\n",
       "      <td>23</td>\n",
       "    </tr>\n",
       "    <tr>\n",
       "      <th>3-7</th>\n",
       "      <td>(Atom('H', [6.141052145000001, 11.225741180000...</td>\n",
       "      <td>22</td>\n",
       "    </tr>\n",
       "    <tr>\n",
       "      <th>2-8</th>\n",
       "      <td>(Atom('H', [6.141052145000001, 11.225741180000...</td>\n",
       "      <td>20</td>\n",
       "    </tr>\n",
       "  </tbody>\n",
       "</table>\n",
       "<p>170 rows × 2 columns</p>\n",
       "</div>"
      ],
      "text/plain": [
       "                                                   geom   n\n",
       "1-13  (Atom('H', [6.141052145000001, 11.225741180000...  42\n",
       "1-5   (Atom('H', [6.141052145000001, 11.225741180000...  39\n",
       "1-3   (Atom('H', [6.141052145000001, 11.225741180000...  39\n",
       "1-6   (Atom('H', [6.141052145000001, 11.225741180000...  37\n",
       "9-1   (Atom('H', [6.141052145000001, 11.225741180000...  37\n",
       "...                                                 ...  ..\n",
       "9-11  (Atom('H', [6.141052145000001, 11.225741180000...  24\n",
       "6-15  (Atom('H', [6.141052145000001, 11.225741180000...  24\n",
       "8-9   (Atom('H', [6.141052145000001, 11.225741180000...  23\n",
       "3-7   (Atom('H', [6.141052145000001, 11.225741180000...  22\n",
       "2-8   (Atom('H', [6.141052145000001, 11.225741180000...  20\n",
       "\n",
       "[170 rows x 2 columns]"
      ]
     },
     "execution_count": 348,
     "metadata": {},
     "output_type": "execute_result"
    }
   ],
   "source": [
    "from transmute import transmute, write_transmuted\n",
    "\n",
    "output = transmute(2, surfDepth = 10, numStructs=-1, numOut = -1, transmute=True,\n",
    "                datadir = \"../bomb21_inputs/\", shallow = False, name = 'input')\n",
    "output"
   ]
  },
  {
   "cell_type": "code",
   "execution_count": 349,
   "metadata": {
    "ExecuteTime": {
     "end_time": "2021-03-23T21:50:30.516369Z",
     "start_time": "2021-03-23T21:50:30.512456Z"
    }
   },
   "outputs": [
    {
     "data": {
      "text/plain": [
       "Index(['1-13', '1-5', '1-3', '1-6', '9-1', '6-16', '7-4', '7-0', '5-7', '3-3'], dtype='object')"
      ]
     },
     "execution_count": 349,
     "metadata": {},
     "output_type": "execute_result"
    }
   ],
   "source": [
    "output.index[:10]"
   ]
  },
  {
   "cell_type": "code",
   "execution_count": 350,
   "metadata": {
    "ExecuteTime": {
     "end_time": "2021-03-23T21:50:30.900429Z",
     "start_time": "2021-03-23T21:50:30.519002Z"
    }
   },
   "outputs": [
    {
     "data": {
      "text/plain": [
       "<matplotlib.axes._subplots.AxesSubplot at 0x7fb84797ea90>"
      ]
     },
     "execution_count": 350,
     "metadata": {},
     "output_type": "execute_result"
    },
    {
     "data": {
      "image/png": "[encoded data removed]",
      "text/plain": [
       "<Figure size 432x288 with 1 Axes>"
      ]
     },
     "metadata": {
      "needs_background": "light"
     },
     "output_type": "display_data"
    }
   ],
   "source": [
    "output.plot(kind='hist')"
   ]
  },
  {
   "cell_type": "code",
   "execution_count": 356,
   "metadata": {
    "ExecuteTime": {
     "end_time": "2021-03-23T22:15:39.240889Z",
     "start_time": "2021-03-23T22:15:37.078364Z"
    }
   },
   "outputs": [],
   "source": [
    "inTransmuteDir2 = \"../transmuted.k=2/\"\n",
    "inTransmuteDir1 = \"../transmuted.k=1/\"\n",
    "outTransmuteDir1 = \"../transmuted.k=1.bombout/\"\n",
    "outTransmuteDir2 = \"../transmuted.k=2.bombout/\"\n",
    "outOriginalDir = \"../bomb21_bombout/\"\n",
    "inTransmuted2 = readStructs(inTransmuteDir2, shallow = False, name = 'input')['geom']\n",
    "outTransmuted2 = readStructs(outTransmuteDir2, shallow = False, name = 'output')['geom']\n",
    "inTransmuted1 = readStructs(inTransmuteDir1, shallow = False, name = 'input')['geom']\n",
    "outTransmuted1 = readStructs(outTransmuteDir1, shallow = False, name = 'output')['geom']\n",
    "outOriginal = readStructs(outOriginalDir, shallow = False, name = 'output')['geom']"
   ]
  },
  {
   "cell_type": "code",
   "execution_count": 357,
   "metadata": {
    "ExecuteTime": {
     "end_time": "2021-03-23T22:15:44.640957Z",
     "start_time": "2021-03-23T22:15:43.833275Z"
    }
   },
   "outputs": [],
   "source": [
    "view(outTransmuted1)"
   ]
  },
  {
   "cell_type": "code",
   "execution_count": 358,
   "metadata": {
    "ExecuteTime": {
     "end_time": "2021-03-23T22:22:19.118682Z",
     "start_time": "2021-03-23T22:22:19.112667Z"
    }
   },
   "outputs": [
    {
     "data": {
      "text/plain": [
       "85"
      ]
     },
     "execution_count": 358,
     "metadata": {},
     "output_type": "execute_result"
    }
   ],
   "source": [
    "len(outTransmuted1)"
   ]
  }
 ],
 "metadata": {
  "kernelspec": {
   "display_name": "Python 3",
   "language": "python",
   "name": "python3"
  },
  "language_info": {
   "codemirror_mode": {
    "name": "ipython",
    "version": 3
   },
   "file_extension": ".py",
   "mimetype": "text/x-python",
   "name": "python",
   "nbconvert_exporter": "python",
   "pygments_lexer": "ipython3",
   "version": "3.7.7"
  },
  "toc": {
   "base_numbering": 1,
   "nav_menu": {},
   "number_sections": true,
   "sideBar": true,
   "skip_h1_title": false,
   "title_cell": "Table of Contents",
   "title_sidebar": "Contents",
   "toc_cell": false,
   "toc_position": {},
   "toc_section_display": true,
   "toc_window_display": false
  }
 },
 "nbformat": 4,
 "nbformat_minor": 4
}
