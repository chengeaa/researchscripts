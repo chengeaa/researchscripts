{
 "cells": [
  {
   "cell_type": "markdown",
   "metadata": {
    "heading_collapsed": true
   },
   "source": [
    "# Dependencies"
   ]
  },
  {
   "cell_type": "markdown",
   "metadata": {
    "hidden": true
   },
   "source": [
    "## Imports"
   ]
  },
  {
   "cell_type": "code",
   "execution_count": 2,
   "metadata": {
    "ExecuteTime": {
     "end_time": "2020-06-15T20:16:46.125169Z",
     "start_time": "2020-06-15T20:16:44.687931Z"
    },
    "hidden": true
   },
   "outputs": [
    {
     "data": {
      "application/vnd.jupyter.widget-view+json": {
       "model_id": "fc3a74ff6cef4e18bc040eba2b4d7900",
       "version_major": 2,
       "version_minor": 0
      },
      "text/plain": [
       "_ColormakerRegistry()"
      ]
     },
     "metadata": {},
     "output_type": "display_data"
    }
   ],
   "source": [
    "# imports \n",
    "# base python\n",
    "import os\n",
    "import copy\n",
    "from sys import getsizeof\n",
    "\n",
    "# scipy\n",
    "import numpy as np\n",
    "import pandas as pd\n",
    "import matplotlib.pyplot as plt\n",
    "import seaborn as sns\n",
    "from pathlib import Path\n",
    "from scipy.optimize import curve_fit\n",
    "from scipy.interpolate import interp1d, interp2d\n",
    "from sklearn import preprocessing\n",
    "import matplotlib.tri as tri\n",
    "\n",
    "plt.rcParams[\"figure.figsize\"] = (20,7)\n",
    "\n",
    "#ase\n",
    "from ase.io import gen, vasp, xyz, extxyz, dftb\n",
    "from ase.io.dftb import read_dftb_velocities, write_dftb_velocities\n",
    "from ase.calculators.dftb import Dftb\n",
    "from ase import Atoms, Atom\n",
    "from ase.constraints import FixAtoms\n",
    "from ase.visualize import view\n",
    "from ase.build import make_supercell\n",
    "from ase.visualize.plot import plot_atoms\n",
    "from ase.build import add_adsorbate\n",
    "import nglview\n",
    "from ase.geometry.analysis import Analysis\n",
    "\n",
    "#dscribe\n",
    "from dscribe.descriptors import SOAP\n",
    "from dscribe.descriptors import MBTR\n",
    "from dscribe.kernels import REMatchKernel\n",
    "from dscribe.kernels import AverageKernel\n",
    "\n",
    "from sklearn import preprocessing\n",
    "\n",
    "\n",
    "#quippy \n",
    "from ase.build import bulk\n",
    "from ase.optimize import LBFGS\n",
    "from ase.visualize import view\n",
    "from quippy.potential import Potential\n",
    "\n",
    "\n",
    "#misc\n",
    "import similaritymeasures\n"
   ]
  },
  {
   "cell_type": "markdown",
   "metadata": {
    "hidden": true
   },
   "source": [
    "## Functions"
   ]
  },
  {
   "cell_type": "code",
   "execution_count": 3,
   "metadata": {
    "ExecuteTime": {
     "end_time": "2020-06-15T20:16:46.136522Z",
     "start_time": "2020-06-15T20:16:46.126913Z"
    },
    "hidden": true
   },
   "outputs": [],
   "source": [
    "def show_atoms_grid(data, rotation = '-0x,0y,0z', save= False, filename = 'grid_configs'):\n",
    "    '''\n",
    "    Where data is list of Atoms objects\n",
    "    '''\n",
    "    dim = int(np.ceil(np.sqrt(len(data))))\n",
    "    fig, axarr = plt.subplots(dim, dim, figsize=(25, 25))\n",
    "    for i, config in enumerate(data):\n",
    "        plot_atoms(config, axarr[i%dim,i//dim], rotation = rotation)\n",
    "    if save:\n",
    "        fig.savefig(filename + \".png\")\n",
    "        \n",
    "def normalize(y,x):\n",
    "    \"\"\"\n",
    "    Takes y, x of data and returns normalized y\n",
    "    \"\"\"\n",
    "    return y/np.trapz(y,x)\n",
    "\n",
    "def KE(v_tot):\n",
    "    \"Returns KE of Ar+ in eV given total velocity\"\n",
    "    return 6.24E18 * 0.5 * 1.66E-27*39.95*(v_tot*1E5)**2\n",
    "\n",
    "def v_from_KE(E):\n",
    "    \"Returns v(z) of Ar+ in eV given KE\"\n",
    "    return np.sqrt(E/(6.24E18 * 0.5 * 1.66E-27*39.95))/1E5"
   ]
  },
  {
   "cell_type": "markdown",
   "metadata": {
    "hidden": true
   },
   "source": [
    "## Structures"
   ]
  },
  {
   "cell_type": "code",
   "execution_count": 4,
   "metadata": {
    "ExecuteTime": {
     "end_time": "2020-06-15T20:16:46.154585Z",
     "start_time": "2020-06-15T20:16:46.138244Z"
    },
    "hidden": true
   },
   "outputs": [],
   "source": [
    "mef = vasp.read_vasp(\"reference_files/CONTCAR_mef\")\n",
    "cf4 = vasp.read_vasp(\"reference_files/CONTCAR_cf4\")\n",
    "amorphous = vasp.read_vasp(\"reference_files/CONTCAR_amorphous_cubic\")\n",
    "xtl_n = vasp.read_vasp(\"reference_files/CONTCAR_nrich\")\n",
    "xtl_si = vasp.read_vasp(\"reference_files/CONTCAR_sirich\")\n",
    "xtl_si_fterm = vasp.read_vasp(\"reference_files/CONTCAR_sirich_fterm\")\n",
    "xtl2x2 = gen.read_gen(\"reference_files/2x2xtl.gen\")\n",
    "heavy_bomb = vasp.read_vasp(\"reference_files/CONTCAR_heavy_bombard\")"
   ]
  },
  {
   "cell_type": "markdown",
   "metadata": {},
   "source": [
    "# Fitting "
   ]
  },
  {
   "cell_type": "markdown",
   "metadata": {},
   "source": [
    "Tutorial from here:  https://libatoms.github.io/GAP/gap_si_surface.html"
   ]
  },
  {
   "cell_type": "markdown",
   "metadata": {},
   "source": [
    "## Generate data"
   ]
  },
  {
   "cell_type": "markdown",
   "metadata": {},
   "source": [
    "Build silicon structure:"
   ]
  },
  {
   "cell_type": "code",
   "execution_count": 5,
   "metadata": {
    "ExecuteTime": {
     "end_time": "2020-06-15T20:16:49.606138Z",
     "start_time": "2020-06-15T20:16:49.570317Z"
    },
    "code_folding": []
   },
   "outputs": [
    {
     "name": "stdout",
     "output_type": "stream",
     "text": [
      "Number of atoms: 32\n"
     ]
    }
   ],
   "source": [
    "from ase import Atoms, units\n",
    "from ase.lattice.cubic import Diamond\n",
    "from ase.build import add_vacuum\n",
    "def build_slab(size=(1,2,2), vacuum=10.):\n",
    "    # Build Si lattice.\n",
    "    # lattice = Diamond('Si', directions=([1, 0, 0], [0, 1, 0], [0, 0, 1]), latticeconstant=5.44, size=size)\n",
    "    lattice = Diamond('Si', latticeconstant=5.44, size=size)\n",
    "    atoms = Atoms(lattice)\n",
    "\n",
    "\n",
    "    # Fixing the bottom layer\n",
    "    bottom = atoms.positions[:,2].min()\n",
    "    fixed_mask = (abs(atoms.positions[:,2] - bottom) < 2.0)\n",
    "    atoms.set_constraint(FixAtoms(mask=fixed_mask))\n",
    "\n",
    "    # build surface by adding space to z direction\n",
    "    add_vacuum(atoms, vacuum)\n",
    "    # atoms.center(vacuum=10.0, axis=2)\n",
    "\n",
    "    return atoms\n",
    "\n",
    "\n",
    "atoms = build_slab()\n",
    "print('Number of atoms:', len(atoms))"
   ]
  },
  {
   "cell_type": "markdown",
   "metadata": {},
   "source": [
    "Run dynamics, verlet"
   ]
  },
  {
   "cell_type": "code",
   "execution_count": 6,
   "metadata": {
    "ExecuteTime": {
     "end_time": "2020-06-15T20:16:52.836925Z",
     "start_time": "2020-06-15T20:16:52.804506Z"
    },
    "code_folding": []
   },
   "outputs": [],
   "source": [
    "from ase.md.velocitydistribution import MaxwellBoltzmannDistribution\n",
    "from ase.md.verlet import VelocityVerlet\n",
    "from ase.md.langevin import Langevin\n",
    "\n",
    "atoms = build_slab()\n",
    "\n",
    "# view(atoms)\n",
    "\n",
    "T = 1000.0 # Temperature [Kelvin]\n",
    "timestep = 1.0 * units.fs\n",
    "\n",
    "# attach tight binding calculator\n",
    "\n",
    "MaxwellBoltzmannDistribution(atoms, 2.0 * T * units.kB)\n",
    "\n",
    "write_dftb_velocities(atoms, 'velocities.txt')\n",
    "\n",
    "calculator_quip = Dftb(label='mef',\n",
    "                      atoms=atoms,\n",
    "                      run_manyDftb_steps=True,\n",
    "                      Hamiltonian_MaxAngularMomentum_='',\n",
    "                      Hamiltonian_MaxAngularMomentum_Si='\"p\"',\n",
    "                      kpts = (1, 1, 1),\n",
    "                      Driver_='VelocityVerlet',\n",
    "                      Driver_MDRestartFrequency=1,\n",
    "                      Driver_Velocities_='',\n",
    "                      Driver_Velocities_empty='<<+ \"velocities.txt\"',\n",
    "                      Driver_Steps=1,\n",
    "                      Driver_KeepStationary='Yes',\n",
    "                      Driver_TimeStep=0.413413733365614E+02,\n",
    "                        Driver_Thermostat_='Berendsen',\n",
    "                        Driver_Thermostat_Temperature=1000* 0.316681534524639E-05,  # 800*1.5 deg Celcius\n",
    "                        Driver_Thermostat_CouplingStrength=0.001,\n",
    "                      )\n",
    "\n",
    "\n",
    "def print_status():\n",
    "    print('Step = {}, time = {} [fs], T = {} [K]'.format(\n",
    "        dynamics.nsteps,\n",
    "        dynamics.nsteps * dynamics.dt / units.fs,\n",
    "        atoms.get_kinetic_energy() / (1.5 * units.kB * len(atoms))\n",
    "    ))\n",
    "\n",
    "def print_energy(a=atoms):  # store a reference to atoms in the definition.\n",
    "    \"\"\"Function to print the potential, kinetic and total energy.\"\"\"\n",
    "    epot = a.get_potential_energy() / len(a)\n",
    "    ekin = a.get_kinetic_energy() / len(a)\n",
    "    print('Energy per atom: Epot = %.3feV  Ekin = %.3feV (T=%3.0fK)  '\n",
    "          'Etot = %.3feV' % (epot, ekin, ekin / (1.5 * units.kB), epot + ekin))\n",
    "    "
   ]
  },
  {
   "cell_type": "code",
   "execution_count": 7,
   "metadata": {
    "ExecuteTime": {
     "end_time": "2020-06-15T20:16:54.246582Z",
     "start_time": "2020-06-15T20:16:54.206924Z"
    },
    "code_folding": []
   },
   "outputs": [],
   "source": [
    "write_dftb_velocities(atoms, 'velocities.txt')\n",
    "os.system('rm md.log.* md.out* geo_end*xyz')\n",
    "atoms.set_calculator(calculator_quip)\n",
    "dynamics = VelocityVerlet(atoms, timestep)\n",
    "# dynamics.attach(print_status, interval=1)\n",
    "# dynamics.attach(print_energy, interval=20)\n",
    "# dynamics.run(steps = 1)  # run NVE ensemble using DFTB's own driver"
   ]
  },
  {
   "cell_type": "code",
   "execution_count": 8,
   "metadata": {
    "ExecuteTime": {
     "end_time": "2020-06-15T20:20:59.161462Z",
     "start_time": "2020-06-15T20:16:55.251324Z"
    }
   },
   "outputs": [],
   "source": [
    "db = []\n",
    "def collect_data():\n",
    "    db.append(atoms.copy())\n",
    "    db[-1].info = {'energy':atoms.get_potential_energy()}\n",
    "\n",
    "dynamics.attach(collect_data, interval=1)\n",
    "dynamics.run(1000)\n",
    "\n",
    "from ase.io import write\n",
    "write('/tmp/atoms_db1.xyz', db)"
   ]
  },
  {
   "cell_type": "markdown",
   "metadata": {},
   "source": [
    "Run dynamics, DFTB native"
   ]
  },
  {
   "cell_type": "code",
   "execution_count": 9,
   "metadata": {
    "ExecuteTime": {
     "end_time": "2020-06-15T21:58:45.656455Z",
     "start_time": "2020-06-15T21:55:01.808088Z"
    }
   },
   "outputs": [
    {
     "data": {
      "text/plain": [
       "True"
      ]
     },
     "execution_count": 9,
     "metadata": {},
     "output_type": "execute_result"
    }
   ],
   "source": [
    "from ase.md.velocitydistribution import MaxwellBoltzmannDistribution\n",
    "from ase.md.verlet import VelocityVerlet\n",
    "from ase.md.langevin import Langevin\n",
    "\n",
    "atoms = build_slab()\n",
    "\n",
    "# view(atoms)\n",
    "\n",
    "T = 1000.0 # Temperature [Kelvin]\n",
    "timestep = 1.0 * units.fs\n",
    "\n",
    "# attach tight binding calculator\n",
    "\n",
    "MaxwellBoltzmannDistribution(atoms, 2.0 * T * units.kB)\n",
    "\n",
    "write_dftb_velocities(atoms, 'velocities.txt')\n",
    "\n",
    "calculator_quip = Dftb(label='mef',\n",
    "                      atoms=atoms,\n",
    "                      run_manyDftb_steps=True,\n",
    "                      Hamiltonian_MaxAngularMomentum_='',\n",
    "                      Hamiltonian_MaxAngularMomentum_Si='\"p\"',\n",
    "                      kpts = (1, 1, 1),\n",
    "                      Driver_='VelocityVerlet',\n",
    "                      Driver_MDRestartFrequency=1,\n",
    "                      Driver_Velocities_='',\n",
    "                      Driver_Velocities_empty='<<+ \"velocities.txt\"',\n",
    "                      Driver_Steps=1000,\n",
    "                      Driver_KeepStationary='Yes',\n",
    "                      Driver_TimeStep=0.413413733365614E+02,\n",
    "                        Driver_Thermostat_='Berendsen',\n",
    "                        Driver_Thermostat_Temperature=1000* 0.316681534524639E-05,  # 800*1.5 deg Celcius\n",
    "                        Driver_Thermostat_CouplingStrength=0.001,\n",
    "                      )\n",
    "    \n",
    "\n",
    "write_dftb_velocities(atoms, 'velocities.txt')\n",
    "os.system('rm md.log.* md.out* geo_end*xyz')\n",
    "atoms.set_calculator(calculator_quip)\n",
    "dynamics = VelocityVerlet(atoms, timestep)\n",
    "\n",
    "db = []\n",
    "def collect_data():\n",
    "    db.append(atoms.copy())\n",
    "    db[-1].info = {'energy':atoms.get_potential_energy()}\n",
    "\n",
    "dynamics.attach(collect_data, interval=1)\n",
    "dynamics.run(1)\n",
    "\n",
    "\n"
   ]
  },
  {
   "cell_type": "code",
   "execution_count": null,
   "metadata": {
    "ExecuteTime": {
     "end_time": "2020-05-17T06:47:48.624060Z",
     "start_time": "2020-05-17T06:44:06.901Z"
    }
   },
   "outputs": [],
   "source": [
    "db2 = [i for i in xyz.read_xyz(\"geo_end.xyz\",index = slice(0, -1))]"
   ]
  },
  {
   "cell_type": "markdown",
   "metadata": {},
   "source": [
    "## Fit and use GAP"
   ]
  },
  {
   "cell_type": "code",
   "execution_count": null,
   "metadata": {
    "ExecuteTime": {
     "end_time": "2020-05-17T06:47:48.624803Z",
     "start_time": "2020-05-17T06:44:06.906Z"
    },
    "scrolled": true
   },
   "outputs": [],
   "source": [
    "from quippy.descriptors import Descriptor\n",
    "\n",
    "desc = Descriptor(\"soap cutoff=4 l_max=3 n_max=4 normalize=T atom_sigma=0.5 n_Z=1 Z={14} \")\n"
   ]
  },
  {
   "cell_type": "code",
   "execution_count": null,
   "metadata": {
    "ExecuteTime": {
     "end_time": "2020-05-17T06:47:48.625649Z",
     "start_time": "2020-05-17T06:44:06.912Z"
    }
   },
   "outputs": [],
   "source": [
    "isolated_atom = Atoms(\"Si\", positions=[[0,0,0]])\n",
    "\n",
    "calc = Dftb(label='Si', atoms=isolated_atom,\n",
    "            run_manyDftb_steps=True,\n",
    "            Driver_='ConjugateGradient',\n",
    "            Driver_MaxForceComponent='1E-4',\n",
    "            Driver_MaxSteps=1000,\n",
    "            Hamiltonian_MaxAngularMomentum_='',\n",
    "            Hamiltonian_MaxAngularMomentum_Si='\"p\"',)\n",
    "\n",
    "\n",
    "isolated_atom.set_calculator(calc)\n",
    "E0 = isolated_atom.get_potential_energy()\n",
    "E0"
   ]
  },
  {
   "cell_type": "code",
   "execution_count": null,
   "metadata": {
    "ExecuteTime": {
     "end_time": "2020-05-17T06:47:48.626436Z",
     "start_time": "2020-05-17T06:44:06.918Z"
    },
    "scrolled": true
   },
   "outputs": [],
   "source": [
    "!/home/erik/QUIP/build/linux_x86_64_gfortran/gap_fit --help"
   ]
  },
  {
   "cell_type": "markdown",
   "metadata": {},
   "source": [
    "In the example below, the .xyz file referenced needs to be in the extended xyz format with an \"Energy\" field."
   ]
  },
  {
   "cell_type": "code",
   "execution_count": null,
   "metadata": {
    "ExecuteTime": {
     "end_time": "2020-05-17T06:47:48.627307Z",
     "start_time": "2020-05-17T06:44:06.924Z"
    },
    "scrolled": true
   },
   "outputs": [],
   "source": [
    "!/home/erik/QUIP/build/linux_x86_64_gfortran/gap_fit at_file=/tmp/atoms_db1.xyz \\\n",
    "gap={distance_Nb order=2 \\\n",
    "                 cutoff=5.0 \\\n",
    "                 covariance_type=ARD_SE \\\n",
    "                 theta_uniform=1.0 \\\n",
    "                 n_sparse=15 \\\n",
    "                 delta=1.0:\\\n",
    "     distance_Nb order=3 \\\n",
    "                 cutoff=4.0 \\\n",
    "                 covariance_type=ARD_SE \\\n",
    "                 theta_uniform=1.0 \\\n",
    "                 n_sparse=50 \\\n",
    "                 delta=0.004} \\\n",
    "e0=-29.716948405885105 \\\n",
    "default_sigma={0.005 0.5 0.0 0.0} \\\n",
    "do_copy_at_file=F sparse_separate_file=F \\\n",
    "gp_file=/tmp/gap_3b.xml"
   ]
  },
  {
   "cell_type": "code",
   "execution_count": null,
   "metadata": {
    "ExecuteTime": {
     "end_time": "2020-05-17T06:47:48.628555Z",
     "start_time": "2020-05-17T06:44:06.929Z"
    }
   },
   "outputs": [],
   "source": [
    "gap = Potential(param_filename='/tmp/gap_3b.xml')"
   ]
  },
  {
   "cell_type": "code",
   "execution_count": null,
   "metadata": {
    "ExecuteTime": {
     "end_time": "2020-05-17T06:47:48.629331Z",
     "start_time": "2020-05-17T06:44:06.934Z"
    }
   },
   "outputs": [],
   "source": [
    "db = [i for i in xyz.read_xyz(\"/tmp/atoms_db1.xyz\",index = slice(0, -1))]\n",
    "qm_energies = [at.info['energy'] for at in db]\n",
    "gap_energies = []\n",
    "for dba in db:\n",
    "    a = dba.copy()  \n",
    "    a.set_calculator(gap)\n",
    "    gap_energies.append(a.get_potential_energy())"
   ]
  },
  {
   "cell_type": "code",
   "execution_count": null,
   "metadata": {
    "ExecuteTime": {
     "end_time": "2020-05-17T06:47:48.630154Z",
     "start_time": "2020-05-17T06:44:06.939Z"
    }
   },
   "outputs": [],
   "source": [
    "Natoms = len(db[0])\n",
    "plt.scatter(np.array(qm_energies)/Natoms, np.array(gap_energies)/Natoms)\n",
    "plt.show()"
   ]
  },
  {
   "cell_type": "code",
   "execution_count": null,
   "metadata": {
    "ExecuteTime": {
     "end_time": "2020-05-17T06:47:48.630831Z",
     "start_time": "2020-05-17T06:44:06.963Z"
    }
   },
   "outputs": [],
   "source": [
    "np.sqrt(sum((np.array(qm_energies)/Natoms - np.array(gap_energies)/Natoms)**2)/len(gap_energies))\n"
   ]
  },
  {
   "cell_type": "code",
   "execution_count": null,
   "metadata": {
    "ExecuteTime": {
     "end_time": "2020-05-17T06:47:48.631487Z",
     "start_time": "2020-05-17T06:44:06.976Z"
    }
   },
   "outputs": [],
   "source": [
    "dimer_curve = []\n",
    "for dim in dimers:\n",
    "    dim.set_calculator(gap)\n",
    "    dimer_curve.append(dim.get_potential_energy())\n",
    "plt.plot([dim.positions[1,0] for dim in dimers], np.array(dimer_curve)/2.0)\n",
    "plt.show()"
   ]
  },
  {
   "cell_type": "code",
   "execution_count": null,
   "metadata": {
    "ExecuteTime": {
     "end_time": "2020-05-17T06:47:48.632159Z",
     "start_time": "2020-05-17T06:44:06.980Z"
    }
   },
   "outputs": [],
   "source": [
    "gap={distance_Nb order=2 \\\n",
    "                 cutoff=5.0 \\\n",
    "                 covariance_type=ARD_SE \\\n",
    "                 theta_uniform=1.0 \\\n",
    "                 n_sparse=15 \\\n",
    "                 delta=1.0:\\\n",
    "     distance_Nb order=3 \\\n",
    "                 cutoff=4.0 \\\n",
    "                 covariance_type=ARD_SE \\\n",
    "                 theta_uniform=1.0 \\\n",
    "                 n_sparse=50 \\\n",
    "                 delta=0.004:\\\n",
    "     soap cutoff=4.0 \\\n",
    "          covariance_type=dot_product \\\n",
    "          zeta=2 \\\n",
    "          delta=0.016 \\\n",
    "          atom_sigma=0.7 \\\n",
    "          l_max=6 \\\n",
    "          n_max=6 \\\n",
    "          n_sparse=200 \\\n",
    "          sparse_method=cur_points} \\\n",
    "e0=-29.716948405885105 \\\n",
    "default_sigma={0.001 0.5 0.0 0.0} \\\n",
    "do_copy_at_file=F sparse_separate_file=F \\\n",
    "gp_file=/tmp/gap_2b3bsoap.xml 2>&1 | grep -v FoX"
   ]
  },
  {
   "cell_type": "code",
   "execution_count": null,
   "metadata": {
    "ExecuteTime": {
     "end_time": "2020-05-17T06:47:48.632775Z",
     "start_time": "2020-05-17T06:44:06.984Z"
    }
   },
   "outputs": [],
   "source": [
    "gap_energies = []\n",
    "for at in db:\n",
    "    a = at.copy()\n",
    "    a.set_calculator(gap_soap)\n",
    "    gap_energies.append(a.get_potential_energy())"
   ]
  },
  {
   "cell_type": "code",
   "execution_count": null,
   "metadata": {
    "ExecuteTime": {
     "end_time": "2020-05-17T06:47:48.633526Z",
     "start_time": "2020-05-17T06:44:06.991Z"
    }
   },
   "outputs": [],
   "source": [
    "np.sqrt(sum((np.array(qm_energies)/Natoms - np.array(gap_energies)/Natoms)**2)/len(gap_energies))"
   ]
  },
  {
   "cell_type": "code",
   "execution_count": null,
   "metadata": {
    "ExecuteTime": {
     "end_time": "2020-05-17T06:47:48.634154Z",
     "start_time": "2020-05-17T06:44:06.995Z"
    }
   },
   "outputs": [],
   "source": [
    "from scipy import stats\n",
    "sorted_energies = np.array(sorted(zip(qm_energies, gap_energies), key = lambda x: x[0]))\n",
    "slope, intercept, r_value, p_value, std_err = stats.linregress(\n",
    "    np.array(sorted_energies[:,0])/Natoms, np.array(sorted_energies[:,1])/Natoms\n",
    ")"
   ]
  },
  {
   "cell_type": "code",
   "execution_count": null,
   "metadata": {
    "ExecuteTime": {
     "end_time": "2020-05-17T06:47:48.635244Z",
     "start_time": "2020-05-17T06:44:06.999Z"
    }
   },
   "outputs": [],
   "source": [
    "plt.scatter(np.array(qm_energies)/Natoms, np.array(gap_energies)/Natoms)\n",
    "plt.plot(np.array(sorted_energies[:,0])/Natoms, np.array(sorted_energies[:, 0])/Natoms * slope + intercept, \n",
    "         label = \"slope = %.2f, fit = %.2f\" % (round(slope, 5), round(r_value, 5)))\n",
    "plt.xlabel(\"TB energies\")\n",
    "plt.ylabel(\"GAP energies\")\n",
    "# plt.xlim([-34.78, -34.775])\n",
    "plt.legend()\n",
    "plt.show()"
   ]
  },
  {
   "cell_type": "code",
   "execution_count": null,
   "metadata": {
    "ExecuteTime": {
     "end_time": "2020-05-17T06:47:48.636416Z",
     "start_time": "2020-05-17T06:44:07.004Z"
    }
   },
   "outputs": [],
   "source": [
    "#attach gap calculator\n",
    "atoms.set_calculator(gap_soap)\n",
    "from ase.md.langevin import Langevin\n",
    "\n",
    "timestep = 1.0 * units.fs\n",
    "T = 1000\n",
    "\n",
    "# Thermalize atoms\n",
    "# MaxwellBoltzmannDistribution(atoms, 2.0* T * units.kB)\n",
    "\n",
    "# dynamics = VelocityVerlet(atoms, timestep)\n",
    "dynamics = Langevin(atoms, timestep, T * units.kB, 0.002)\n",
    "\n",
    "dynamics.attach(print_status, interval=10)\n",
    "dynamics.attach(print_energy, interval=10)\n",
    "dynamics.run(steps=100)"
   ]
  },
  {
   "cell_type": "code",
   "execution_count": null,
   "metadata": {},
   "outputs": [],
   "source": []
  }
 ],
 "metadata": {
  "kernelspec": {
   "display_name": "Python 3",
   "language": "python",
   "name": "python3"
  },
  "language_info": {
   "codemirror_mode": {
    "name": "ipython",
    "version": 3
   },
   "file_extension": ".py",
   "mimetype": "text/x-python",
   "name": "python",
   "nbconvert_exporter": "python",
   "pygments_lexer": "ipython3",
   "version": "3.7.7"
  },
  "toc": {
   "base_numbering": 1,
   "nav_menu": {},
   "number_sections": true,
   "sideBar": true,
   "skip_h1_title": false,
   "title_cell": "Table of Contents",
   "title_sidebar": "Contents",
   "toc_cell": false,
   "toc_position": {},
   "toc_section_display": true,
   "toc_window_display": false
  }
 },
 "nbformat": 4,
 "nbformat_minor": 4
}
