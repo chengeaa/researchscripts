{
 "cells": [
  {
   "cell_type": "code",
   "execution_count": 1,
   "metadata": {
    "ExecuteTime": {
     "end_time": "2021-03-23T06:31:09.970357Z",
     "start_time": "2021-03-23T06:31:08.276589Z"
    }
   },
   "outputs": [
    {
     "data": {
      "application/vnd.jupyter.widget-view+json": {
       "model_id": "b19094a13b6d43018d4a4c8f5c7f3b92",
       "version_major": 2,
       "version_minor": 0
      },
      "text/plain": [
       "_ColormakerRegistry()"
      ]
     },
     "metadata": {},
     "output_type": "display_data"
    }
   ],
   "source": [
    "from dependencies import *"
   ]
  },
  {
   "cell_type": "code",
   "execution_count": 3,
   "metadata": {
    "ExecuteTime": {
     "end_time": "2021-03-23T06:37:43.162585Z",
     "start_time": "2021-03-23T06:37:43.132393Z"
    }
   },
   "outputs": [
    {
     "data": {
      "text/plain": [
       "15400"
      ]
     },
     "execution_count": 3,
     "metadata": {},
     "output_type": "execute_result"
    }
   ],
   "source": [
    "species = [\"Si\", \"N\", \"H\", \"C\", \"F\", \"Ar\", \"He\"]\n",
    "soap = SOAP(\n",
    "    species=species,\n",
    "    periodic=True,\n",
    "    rcut=5,\n",
    "    nmax=10,\n",
    "    lmax=9,\n",
    ")\n",
    "soap.get_number_of_features()"
   ]
  },
  {
   "cell_type": "code",
   "execution_count": 12,
   "metadata": {
    "ExecuteTime": {
     "end_time": "2021-03-23T06:49:51.321035Z",
     "start_time": "2021-03-23T06:49:50.345508Z"
    }
   },
   "outputs": [
    {
     "data": {
      "text/html": [
       "<div>\n",
       "<style scoped>\n",
       "    .dataframe tbody tr th:only-of-type {\n",
       "        vertical-align: middle;\n",
       "    }\n",
       "\n",
       "    .dataframe tbody tr th {\n",
       "        vertical-align: top;\n",
       "    }\n",
       "\n",
       "    .dataframe thead th {\n",
       "        text-align: right;\n",
       "    }\n",
       "</style>\n",
       "<table border=\"1\" class=\"dataframe\">\n",
       "  <thead>\n",
       "    <tr style=\"text-align: right;\">\n",
       "      <th></th>\n",
       "      <th>E</th>\n",
       "      <th>E_ads</th>\n",
       "      <th>geom</th>\n",
       "      <th>processed</th>\n",
       "      <th>ads_position</th>\n",
       "      <th>soap_indices</th>\n",
       "    </tr>\n",
       "  </thead>\n",
       "  <tbody>\n",
       "    <tr>\n",
       "      <th>0</th>\n",
       "      <td>-17355.0308</td>\n",
       "      <td>-0.2900</td>\n",
       "      <td>(Atom('H', [5.687816897, 11.8095906, 0.4501787...</td>\n",
       "      <td>(Atom('H', [5.687816897, 11.8095906, 0.4501787...</td>\n",
       "      <td>[5.468603081, 5.039843148]</td>\n",
       "      <td>[2, 4, 8, 13, 14, 16, 18, 20, 26, 31, 33, 34, ...</td>\n",
       "    </tr>\n",
       "    <tr>\n",
       "      <th>1</th>\n",
       "      <td>-17354.9154</td>\n",
       "      <td>-0.1746</td>\n",
       "      <td>(Atom('H', [5.687816897, 11.8095906, 0.4501787...</td>\n",
       "      <td>(Atom('H', [5.687816897, 11.8095906, 0.4501787...</td>\n",
       "      <td>[11.20257705, 1.831604262]</td>\n",
       "      <td>[4, 11, 12, 13, 27, 33, 35, 38, 41, 59, 62, 66...</td>\n",
       "    </tr>\n",
       "    <tr>\n",
       "      <th>2</th>\n",
       "      <td>-17354.9170</td>\n",
       "      <td>-0.1762</td>\n",
       "      <td>(Atom('H', [5.687816897, 11.8095906, 0.4501787...</td>\n",
       "      <td>(Atom('H', [5.687816897, 11.8095906, 0.4501787...</td>\n",
       "      <td>[11.58678762, 7.868247458]</td>\n",
       "      <td>[3, 4, 13, 15, 26, 35, 42, 47, 48, 52, 54, 55,...</td>\n",
       "    </tr>\n",
       "    <tr>\n",
       "      <th>3</th>\n",
       "      <td>-17354.8291</td>\n",
       "      <td>-0.0883</td>\n",
       "      <td>(Atom('H', [5.687816897, 11.8095906, 0.4501787...</td>\n",
       "      <td>(Atom('H', [5.687816897, 11.8095906, 0.4501787...</td>\n",
       "      <td>[8.024713031, 0.8921075379]</td>\n",
       "      <td>[11, 13, 14, 18, 27, 33, 35, 38, 39, 41, 49, 5...</td>\n",
       "    </tr>\n",
       "    <tr>\n",
       "      <th>4</th>\n",
       "      <td>-17354.9063</td>\n",
       "      <td>-0.1655</td>\n",
       "      <td>(Atom('H', [5.687816897, 11.8095906, 0.4501787...</td>\n",
       "      <td>(Atom('H', [5.687816897, 11.8095906, 0.4501787...</td>\n",
       "      <td>[1.461470922, 9.974551352]</td>\n",
       "      <td>[0, 2, 6, 9, 17, 20, 22, 24, 29, 30, 31, 43, 4...</td>\n",
       "    </tr>\n",
       "    <tr>\n",
       "      <th>...</th>\n",
       "      <td>...</td>\n",
       "      <td>...</td>\n",
       "      <td>...</td>\n",
       "      <td>...</td>\n",
       "      <td>...</td>\n",
       "      <td>...</td>\n",
       "    </tr>\n",
       "    <tr>\n",
       "      <th>63</th>\n",
       "      <td>-17354.9204</td>\n",
       "      <td>-0.1796</td>\n",
       "      <td>(Atom('H', [5.687816897, 11.8095906, 0.4501787...</td>\n",
       "      <td>(Atom('H', [5.687816897, 11.8095906, 0.4501787...</td>\n",
       "      <td>[10.30573163, 3.508483415]</td>\n",
       "      <td>[4, 11, 12, 13, 27, 33, 35, 38, 41, 52, 56, 58...</td>\n",
       "    </tr>\n",
       "    <tr>\n",
       "      <th>64</th>\n",
       "      <td>-17354.9088</td>\n",
       "      <td>-0.1680</td>\n",
       "      <td>(Atom('H', [5.687816897, 11.8095906, 0.4501787...</td>\n",
       "      <td>(Atom('H', [5.687816897, 11.8095906, 0.4501787...</td>\n",
       "      <td>[14.46761898, 1.568592562]</td>\n",
       "      <td>[11, 12, 13, 27, 62, 66, 76, 80, 82, 84, 90, 9...</td>\n",
       "    </tr>\n",
       "    <tr>\n",
       "      <th>65</th>\n",
       "      <td>-17354.8897</td>\n",
       "      <td>-0.1489</td>\n",
       "      <td>(Atom('H', [5.687816897, 11.8095906, 0.4501787...</td>\n",
       "      <td>(Atom('H', [5.687816897, 11.8095906, 0.4501787...</td>\n",
       "      <td>[10.78841027, 12.3959481]</td>\n",
       "      <td>[3, 5, 7, 15, 19, 21, 23, 25, 26, 28, 32, 40, ...</td>\n",
       "    </tr>\n",
       "    <tr>\n",
       "      <th>66</th>\n",
       "      <td>-17354.9084</td>\n",
       "      <td>-0.1676</td>\n",
       "      <td>(Atom('H', [5.687816897, 11.8095906, 0.4501787...</td>\n",
       "      <td>(Atom('H', [5.687816897, 11.8095906, 0.4501787...</td>\n",
       "      <td>[11.78983217, 6.857191817]</td>\n",
       "      <td>[3, 4, 13, 15, 35, 38, 42, 47, 48, 52, 54, 55,...</td>\n",
       "    </tr>\n",
       "    <tr>\n",
       "      <th>67</th>\n",
       "      <td>-17354.9140</td>\n",
       "      <td>-0.1732</td>\n",
       "      <td>(Atom('H', [5.687816897, 11.8095906, 0.4501787...</td>\n",
       "      <td>(Atom('H', [5.687816897, 11.8095906, 0.4501787...</td>\n",
       "      <td>[0.09590304205, 4.674343708]</td>\n",
       "      <td>[9, 10, 16, 22, 36, 37, 43, 45, 51, 57, 61, 65...</td>\n",
       "    </tr>\n",
       "  </tbody>\n",
       "</table>\n",
       "<p>68 rows × 6 columns</p>\n",
       "</div>"
      ],
      "text/plain": [
       "             E   E_ads                                               geom  \\\n",
       "0  -17355.0308 -0.2900  (Atom('H', [5.687816897, 11.8095906, 0.4501787...   \n",
       "1  -17354.9154 -0.1746  (Atom('H', [5.687816897, 11.8095906, 0.4501787...   \n",
       "2  -17354.9170 -0.1762  (Atom('H', [5.687816897, 11.8095906, 0.4501787...   \n",
       "3  -17354.8291 -0.0883  (Atom('H', [5.687816897, 11.8095906, 0.4501787...   \n",
       "4  -17354.9063 -0.1655  (Atom('H', [5.687816897, 11.8095906, 0.4501787...   \n",
       "..         ...     ...                                                ...   \n",
       "63 -17354.9204 -0.1796  (Atom('H', [5.687816897, 11.8095906, 0.4501787...   \n",
       "64 -17354.9088 -0.1680  (Atom('H', [5.687816897, 11.8095906, 0.4501787...   \n",
       "65 -17354.8897 -0.1489  (Atom('H', [5.687816897, 11.8095906, 0.4501787...   \n",
       "66 -17354.9084 -0.1676  (Atom('H', [5.687816897, 11.8095906, 0.4501787...   \n",
       "67 -17354.9140 -0.1732  (Atom('H', [5.687816897, 11.8095906, 0.4501787...   \n",
       "\n",
       "                                            processed  \\\n",
       "0   (Atom('H', [5.687816897, 11.8095906, 0.4501787...   \n",
       "1   (Atom('H', [5.687816897, 11.8095906, 0.4501787...   \n",
       "2   (Atom('H', [5.687816897, 11.8095906, 0.4501787...   \n",
       "3   (Atom('H', [5.687816897, 11.8095906, 0.4501787...   \n",
       "4   (Atom('H', [5.687816897, 11.8095906, 0.4501787...   \n",
       "..                                                ...   \n",
       "63  (Atom('H', [5.687816897, 11.8095906, 0.4501787...   \n",
       "64  (Atom('H', [5.687816897, 11.8095906, 0.4501787...   \n",
       "65  (Atom('H', [5.687816897, 11.8095906, 0.4501787...   \n",
       "66  (Atom('H', [5.687816897, 11.8095906, 0.4501787...   \n",
       "67  (Atom('H', [5.687816897, 11.8095906, 0.4501787...   \n",
       "\n",
       "                    ads_position  \\\n",
       "0     [5.468603081, 5.039843148]   \n",
       "1     [11.20257705, 1.831604262]   \n",
       "2     [11.58678762, 7.868247458]   \n",
       "3    [8.024713031, 0.8921075379]   \n",
       "4     [1.461470922, 9.974551352]   \n",
       "..                           ...   \n",
       "63    [10.30573163, 3.508483415]   \n",
       "64    [14.46761898, 1.568592562]   \n",
       "65     [10.78841027, 12.3959481]   \n",
       "66    [11.78983217, 6.857191817]   \n",
       "67  [0.09590304205, 4.674343708]   \n",
       "\n",
       "                                         soap_indices  \n",
       "0   [2, 4, 8, 13, 14, 16, 18, 20, 26, 31, 33, 34, ...  \n",
       "1   [4, 11, 12, 13, 27, 33, 35, 38, 41, 59, 62, 66...  \n",
       "2   [3, 4, 13, 15, 26, 35, 42, 47, 48, 52, 54, 55,...  \n",
       "3   [11, 13, 14, 18, 27, 33, 35, 38, 39, 41, 49, 5...  \n",
       "4   [0, 2, 6, 9, 17, 20, 22, 24, 29, 30, 31, 43, 4...  \n",
       "..                                                ...  \n",
       "63  [4, 11, 12, 13, 27, 33, 35, 38, 41, 52, 56, 58...  \n",
       "64  [11, 12, 13, 27, 62, 66, 76, 80, 82, 84, 90, 9...  \n",
       "65  [3, 5, 7, 15, 19, 21, 23, 25, 26, 28, 32, 40, ...  \n",
       "66  [3, 4, 13, 15, 35, 38, 42, 47, 48, 52, 54, 55,...  \n",
       "67  [9, 10, 16, 22, 36, 37, 43, 45, 51, 57, 61, 65...  \n",
       "\n",
       "[68 rows x 6 columns]"
      ]
     },
     "execution_count": 12,
     "metadata": {},
     "output_type": "execute_result"
    }
   ],
   "source": [
    "datadirs = ['../cf4_adsorb/']\n",
    "adslen = 5\n",
    "\n",
    "datalist = []\n",
    "for datadir in datadirs:\n",
    "    data = readStructs(datadir) #MeF, amorphous slab, DFTB\n",
    "    data['processed'] = [\n",
    "        convertAdsorbateToHe(\n",
    "            i, len(i) - adslen, np.arange(len(i) - adslen, len(i))\n",
    "        ) for i in data['geom']\n",
    "    ]\n",
    "    data['ads_position'] = [\n",
    "        geom[-1].position[:2] for geom in data['processed']\n",
    "    ]\n",
    "    data['soap_indices'] = [\n",
    "        [atom.index for atom in geom if np.sqrt(np.sum((atom.position[:2] - position)**2)) < 5] \n",
    "        for geom, position in zip(data['geom'], data['ads_position'])\n",
    "    ]\n",
    "data"
   ]
  },
  {
   "cell_type": "code",
   "execution_count": 21,
   "metadata": {
    "ExecuteTime": {
     "end_time": "2021-03-23T06:53:33.756739Z",
     "start_time": "2021-03-23T06:53:33.482084Z"
    }
   },
   "outputs": [],
   "source": [
    "nsamples = 2\n",
    "soaps = soap.create(data['geom'][:nsamples], positions = data['soap_indices'][:nsamples])"
   ]
  },
  {
   "cell_type": "code",
   "execution_count": 22,
   "metadata": {
    "ExecuteTime": {
     "end_time": "2021-03-23T06:53:33.921728Z",
     "start_time": "2021-03-23T06:53:33.907587Z"
    }
   },
   "outputs": [
    {
     "data": {
      "text/plain": [
       "(217, 15400)"
      ]
     },
     "execution_count": 22,
     "metadata": {},
     "output_type": "execute_result"
    }
   ],
   "source": [
    "soaps.shape"
   ]
  },
  {
   "cell_type": "code",
   "execution_count": 23,
   "metadata": {
    "ExecuteTime": {
     "end_time": "2021-03-24T17:25:08.892314Z",
     "start_time": "2021-03-24T17:25:08.629566Z"
    }
   },
   "outputs": [],
   "source": [
    "from ase.build import fcc111, add_adsorbate\n",
    "slab_pure = fcc111('Al', size=(2, 2, 3), vacuum=10.0)\n",
    "slab_ads = slab_pure.copy()\n",
    "add_adsorbate(slab_ads, 'H', 1.5, 'ontop')\n",
    "ontop_pos = slab_ads.get_positions()[-1]\n",
    "add_adsorbate(slab_ads, 'H', 1.5, 'bridge')\n",
    "bridge_pos = slab_ads.get_positions()[-1]\n",
    "add_adsorbate(slab_ads, 'H', 1.5, 'hcp')\n",
    "hcp_pos = slab_ads.get_positions()[-1]\n",
    "add_adsorbate(slab_ads, 'H', 1.5, 'fcc')\n",
    "fcc_pos = slab_ads.get_positions()[-1]"
   ]
  },
  {
   "cell_type": "code",
   "execution_count": 24,
   "metadata": {
    "ExecuteTime": {
     "end_time": "2021-03-24T17:25:29.205823Z",
     "start_time": "2021-03-24T17:25:29.139925Z"
    }
   },
   "outputs": [],
   "source": [
    "view(slab_ads)"
   ]
  }
 ],
 "metadata": {
  "kernelspec": {
   "display_name": "Python 3",
   "language": "python",
   "name": "python3"
  },
  "language_info": {
   "codemirror_mode": {
    "name": "ipython",
    "version": 3
   },
   "file_extension": ".py",
   "mimetype": "text/x-python",
   "name": "python",
   "nbconvert_exporter": "python",
   "pygments_lexer": "ipython3",
   "version": "3.7.7"
  },
  "toc": {
   "base_numbering": 1,
   "nav_menu": {},
   "number_sections": true,
   "sideBar": true,
   "skip_h1_title": false,
   "title_cell": "Table of Contents",
   "title_sidebar": "Contents",
   "toc_cell": false,
   "toc_position": {},
   "toc_section_display": true,
   "toc_window_display": false
  }
 },
 "nbformat": 4,
 "nbformat_minor": 4
}
