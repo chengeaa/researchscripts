{
 "cells": [
  {
   "cell_type": "code",
   "execution_count": 2,
   "metadata": {
    "ExecuteTime": {
     "end_time": "2021-04-01T21:38:14.002406Z",
     "start_time": "2021-04-01T21:38:13.316056Z"
    },
    "scrolled": true
   },
   "outputs": [
    {
     "data": {
      "application/vnd.jupyter.widget-view+json": {
       "model_id": "bca480e7f6b149bfbdd8f672d841c18a",
       "version_major": 2,
       "version_minor": 0
      },
      "text/plain": [
       "_ColormakerRegistry()"
      ]
     },
     "metadata": {},
     "output_type": "display_data"
    }
   ],
   "source": [
    "#imports \n",
    "import numpy as np\n",
    "import pandas as pd\n",
    "from scipy.special import factorial\n",
    "import matplotlib.pyplot as plt\n",
    "from pathlib import Path\n",
    "# plt.rcParams[\"figure.figsize\"] = (20,20)\n",
    "# plt.rcParams[\"font.size\"] = 20\n",
    "\n",
    "from ase.io import gen, vasp, xyz\n",
    "from ase.visualize import view\n",
    "from ase.build import make_supercell\n",
    "from ase.visualize.plot import plot_atoms\n",
    "from ase.build import add_adsorbate\n",
    "import nglview"
   ]
  },
  {
   "cell_type": "code",
   "execution_count": 2,
   "metadata": {
    "ExecuteTime": {
     "end_time": "2021-04-01T21:36:40.514443Z",
     "start_time": "2021-04-01T21:36:40.492176Z"
    }
   },
   "outputs": [
    {
     "data": {
      "text/plain": [
       "Column 1\n",
       "110      [55, 0.5]\n",
       "120     [63, 0.52]\n",
       "130     [70, 0.54]\n",
       "140     [78, 0.56]\n",
       "150     [85, 0.57]\n",
       "160     [92, 0.58]\n",
       "170     [99, 0.58]\n",
       "180    [106, 0.59]\n",
       "190    [113, 0.59]\n",
       "200     [119, 0.6]\n",
       "210     [126, 0.6]\n",
       "220     [132, 0.6]\n",
       "230     [138, 0.6]\n",
       "240     [144, 0.6]\n",
       "250     [150, 0.6]\n",
       "260     [156, 0.6]\n",
       "270     [161, 0.6]\n",
       "280     [167, 0.6]\n",
       "290    [172, 0.59]\n",
       "300    [177, 0.59]\n",
       "310    [183, 0.59]\n",
       "110      [55, 0.5]\n",
       "120     [63, 0.52]\n",
       "130     [70, 0.54]\n",
       "140     [78, 0.56]\n",
       "150     [85, 0.57]\n",
       "160     [92, 0.58]\n",
       "170     [99, 0.58]\n",
       "180    [106, 0.59]\n",
       "190    [113, 0.59]\n",
       "200     [119, 0.6]\n",
       "210     [126, 0.6]\n",
       "220     [132, 0.6]\n",
       "230     [138, 0.6]\n",
       "240     [144, 0.6]\n",
       "250     [150, 0.6]\n",
       "260     [156, 0.6]\n",
       "270     [161, 0.6]\n",
       "280     [167, 0.6]\n",
       "290    [172, 0.59]\n",
       "300    [177, 0.59]\n",
       "310    [183, 0.59]\n",
       "Name: Column 2, dtype: object"
      ]
     },
     "execution_count": 2,
     "metadata": {},
     "output_type": "execute_result"
    }
   ],
   "source": [
    "data = pd.read_csv(\"../cleanjerkdata.csv\", index_col=0)\n",
    "data = data.iloc[:, 0]\n",
    "data = data.str.split(r'\\s+x')\n",
    "data"
   ]
  },
  {
   "cell_type": "code",
   "execution_count": 3,
   "metadata": {
    "ExecuteTime": {
     "end_time": "2021-04-01T21:36:40.745485Z",
     "start_time": "2021-04-01T21:36:40.516527Z"
    }
   },
   "outputs": [
    {
     "data": {
      "text/plain": [
       "Text(0.5, 0, 'bodyweight (lbs)')"
      ]
     },
     "execution_count": 3,
     "metadata": {},
     "output_type": "execute_result"
    },
    {
     "data": {
      "image/png": "[encoded data removed]",
      "text/plain": [
       "<Figure size 504x504 with 1 Axes>"
      ]
     },
     "metadata": {
      "needs_background": "light"
     },
     "output_type": "display_data"
    }
   ],
   "source": [
    "plt.figure(figsize = (7,7))\n",
    "plt.scatter(data.index, [i[1] for i in data], marker = 'o')\n",
    "plt.ylabel(\"beginner bodyweight benchmark\")\n",
    "plt.xlabel(\"bodyweight (lbs)\")"
   ]
  },
  {
   "cell_type": "markdown",
   "metadata": {},
   "source": [
    "## Physical constants"
   ]
  },
  {
   "cell_type": "code",
   "execution_count": 4,
   "metadata": {
    "ExecuteTime": {
     "end_time": "2021-04-01T21:36:40.751959Z",
     "start_time": "2021-04-01T21:36:40.748025Z"
    }
   },
   "outputs": [],
   "source": [
    "kb = 8.617e-5 #eV/K\n",
    "T = 80 + 273 #80 C -> K\n",
    "h = 4.136e-15 #eV*s\n",
    "m = 5.7e-26 #mass of MeF, kg\n",
    "Na = 6.022e23 #avagadro's number\n",
    "R = 8.617e-5 #eV/K (molecular gas constant)"
   ]
  },
  {
   "cell_type": "markdown",
   "metadata": {
    "heading_collapsed": true
   },
   "source": [
    "# ASE"
   ]
  },
  {
   "cell_type": "code",
   "execution_count": 5,
   "metadata": {
    "ExecuteTime": {
     "end_time": "2021-04-01T21:36:40.763737Z",
     "start_time": "2021-04-01T21:36:40.753480Z"
    },
    "hidden": true
   },
   "outputs": [],
   "source": [
    "struct = [i for i in xyz.read_xyz(\"../TRAJEC.xyz\", index = 0)][0]\n",
    "boxlen = 11.29\n",
    "\n",
    "struct.set_cell([boxlen] * 3)\n",
    "\n",
    "\n",
    "vasp.write_vasp(\"POSCAR_vc\", struct, vasp5= True)"
   ]
  },
  {
   "cell_type": "code",
   "execution_count": 6,
   "metadata": {
    "ExecuteTime": {
     "end_time": "2021-04-01T21:36:40.782685Z",
     "start_time": "2021-04-01T21:36:40.765166Z"
    },
    "hidden": true
   },
   "outputs": [],
   "source": [
    "#to visualize input.gen\n",
    "view(gen.read_gen(\"../input.gen\"))"
   ]
  },
  {
   "cell_type": "code",
   "execution_count": 7,
   "metadata": {
    "ExecuteTime": {
     "end_time": "2021-04-01T21:36:40.804019Z",
     "start_time": "2021-04-01T21:36:40.784592Z"
    },
    "hidden": true
   },
   "outputs": [],
   "source": [
    "struct = gen.read_gen(\"../geom.out\" + \".gen\")\n",
    "\n",
    "#construct \n",
    "xmult, ymult, zmult = 2, 2, 1\n",
    "P = np.array([[xmult, 0, 0], \n",
    "          [0, ymult, 0], \n",
    "          [0, 0, zmult]]).reshape(3,-1)\n",
    "supercell = make_supercell(struct, P)\n",
    "# view(supercell, viewer = \"x3d\")\n",
    "\n",
    "np.random.seed(429)\n",
    "a, b, c, alpha, beta, gamma = supercell.get_cell_lengths_and_angles()\n",
    "supercell_cell = supercell.get_cell()\n",
    "\n",
    "results_dir_name = \"temp\"\n",
    "results_dir = Path(results_dir_name)\n",
    "results_dir.mkdir(parents=True, exist_ok=True)"
   ]
  },
  {
   "cell_type": "code",
   "execution_count": 8,
   "metadata": {
    "ExecuteTime": {
     "end_time": "2021-04-01T21:36:40.830718Z",
     "start_time": "2021-04-01T21:36:40.808457Z"
    },
    "hidden": true
   },
   "outputs": [],
   "source": [
    "view(supercell)\n",
    "gen.write_gen(\"2x2input.gen\", supercell)"
   ]
  },
  {
   "cell_type": "code",
   "execution_count": 9,
   "metadata": {
    "ExecuteTime": {
     "end_time": "2021-04-01T21:36:41.640933Z",
     "start_time": "2021-04-01T21:36:40.834025Z"
    },
    "hidden": true
   },
   "outputs": [],
   "source": [
    "np.random.seed(429)\n",
    "for i in range(25):\n",
    "    del supercell[[atom.index for atom in supercell if atom.symbol == 'Ar']]\n",
    "    x_rand, y_rand, z_rand = supercell_cell.cartesian_positions(np.random.random(size = 3))\n",
    "    add_adsorbate(supercell, adsorbate = 'Ar', height = 7, position = (x_rand, y_rand))\n",
    "    filename = \"output\" + str(i) + \".gen\"\n",
    "    filepath = results_dir / filename\n",
    "    \n",
    "    with filepath.open(\"w\") as f: \n",
    "        gen.write_gen(f, supercell) #write gen file\n",
    "        \n",
    "#         fig, ax = plt.subplots()\n",
    "#         plot_atoms(supercell, ax)\n",
    "#         fig.savefig(\"output\")\n",
    "\n",
    "\n",
    "view(supercell)\n",
    "# view(supercell, viewer = \"x3d\")"
   ]
  },
  {
   "cell_type": "code",
   "execution_count": 10,
   "metadata": {
    "ExecuteTime": {
     "end_time": "2021-04-01T21:36:41.887374Z",
     "start_time": "2021-04-01T21:36:41.645534Z"
    },
    "hidden": true,
    "scrolled": false
   },
   "outputs": [
    {
     "ename": "KeyboardInterrupt",
     "evalue": "",
     "output_type": "error",
     "traceback": [
      "\u001b[0;31m---------------------------------------------------------------------------\u001b[0m",
      "\u001b[0;31mKeyboardInterrupt\u001b[0m                         Traceback (most recent call last)",
      "\u001b[0;32m<ipython-input-10-8056f7ef2b73>\u001b[0m in \u001b[0;36m<module>\u001b[0;34m\u001b[0m\n\u001b[1;32m     16\u001b[0m \u001b[0;34m\u001b[0m\u001b[0m\n\u001b[1;32m     17\u001b[0m \u001b[0;34m\u001b[0m\u001b[0m\n\u001b[0;32m---> 18\u001b[0;31m \u001b[0manal\u001b[0m \u001b[0;34m=\u001b[0m \u001b[0mAnalysis\u001b[0m\u001b[0;34m(\u001b[0m\u001b[0mstruct\u001b[0m\u001b[0;34m,\u001b[0m \u001b[0mcutoffs\u001b[0m \u001b[0;34m=\u001b[0m \u001b[0mdefault_cutoffs\u001b[0m\u001b[0;34m)\u001b[0m\u001b[0;34m\u001b[0m\u001b[0;34m\u001b[0m\u001b[0m\n\u001b[0m\u001b[1;32m     19\u001b[0m \u001b[0;31m# # anal.get_angles(\"N\", \"Si\", \"N\")\u001b[0m\u001b[0;34m\u001b[0m\u001b[0;34m\u001b[0m\u001b[0;34m\u001b[0m\u001b[0m\n\u001b[1;32m     20\u001b[0m \u001b[0;31m# for i in range(len(struct)):\u001b[0m\u001b[0;34m\u001b[0m\u001b[0;34m\u001b[0m\u001b[0;34m\u001b[0m\u001b[0m\n",
      "\u001b[0;32m~/miniconda3/lib/python3.7/site-packages/ase/geometry/analysis.py\u001b[0m in \u001b[0;36m__init__\u001b[0;34m(self, images, nl, **kwargs)\u001b[0m\n\u001b[1;32m     39\u001b[0m             \u001b[0mself\u001b[0m\u001b[0;34m.\u001b[0m\u001b[0m_nl\u001b[0m \u001b[0;34m=\u001b[0m \u001b[0;34m[\u001b[0m \u001b[0mnl\u001b[0m \u001b[0;34m]\u001b[0m\u001b[0;34m\u001b[0m\u001b[0;34m\u001b[0m\u001b[0m\n\u001b[1;32m     40\u001b[0m         \u001b[0;32melse\u001b[0m\u001b[0;34m:\u001b[0m\u001b[0;34m\u001b[0m\u001b[0;34m\u001b[0m\u001b[0m\n\u001b[0;32m---> 41\u001b[0;31m             \u001b[0mself\u001b[0m\u001b[0;34m.\u001b[0m\u001b[0m_nl\u001b[0m \u001b[0;34m=\u001b[0m \u001b[0;34m[\u001b[0m \u001b[0mbuild_neighbor_list\u001b[0m\u001b[0;34m(\u001b[0m\u001b[0mself\u001b[0m\u001b[0;34m.\u001b[0m\u001b[0mimages\u001b[0m\u001b[0;34m[\u001b[0m\u001b[0;36m0\u001b[0m\u001b[0;34m]\u001b[0m\u001b[0;34m,\u001b[0m \u001b[0;34m**\u001b[0m\u001b[0mkwargs\u001b[0m\u001b[0;34m)\u001b[0m \u001b[0;34m]\u001b[0m\u001b[0;34m\u001b[0m\u001b[0;34m\u001b[0m\u001b[0m\n\u001b[0m\u001b[1;32m     42\u001b[0m \u001b[0;34m\u001b[0m\u001b[0m\n\u001b[1;32m     43\u001b[0m         \u001b[0mself\u001b[0m\u001b[0;34m.\u001b[0m\u001b[0m_cache\u001b[0m \u001b[0;34m=\u001b[0m \u001b[0;34m{\u001b[0m\u001b[0;34m}\u001b[0m\u001b[0;34m\u001b[0m\u001b[0;34m\u001b[0m\u001b[0m\n",
      "\u001b[0;32m~/miniconda3/lib/python3.7/site-packages/ase/neighborlist.py\u001b[0m in \u001b[0;36mbuild_neighbor_list\u001b[0;34m(atoms, cutoffs, **kwargs)\u001b[0m\n\u001b[1;32m     46\u001b[0m \u001b[0;34m\u001b[0m\u001b[0m\n\u001b[1;32m     47\u001b[0m     \u001b[0mnl\u001b[0m \u001b[0;34m=\u001b[0m \u001b[0mNeighborList\u001b[0m\u001b[0;34m(\u001b[0m\u001b[0mcutoffs\u001b[0m\u001b[0;34m,\u001b[0m \u001b[0;34m**\u001b[0m\u001b[0mkwargs\u001b[0m\u001b[0;34m)\u001b[0m\u001b[0;34m\u001b[0m\u001b[0;34m\u001b[0m\u001b[0m\n\u001b[0;32m---> 48\u001b[0;31m     \u001b[0mnl\u001b[0m\u001b[0;34m.\u001b[0m\u001b[0mupdate\u001b[0m\u001b[0;34m(\u001b[0m\u001b[0matoms\u001b[0m\u001b[0;34m)\u001b[0m\u001b[0;34m\u001b[0m\u001b[0;34m\u001b[0m\u001b[0m\n\u001b[0m\u001b[1;32m     49\u001b[0m \u001b[0;34m\u001b[0m\u001b[0m\n\u001b[1;32m     50\u001b[0m     \u001b[0;32mreturn\u001b[0m \u001b[0mnl\u001b[0m\u001b[0;34m\u001b[0m\u001b[0;34m\u001b[0m\u001b[0m\n",
      "\u001b[0;32m~/miniconda3/lib/python3.7/site-packages/ase/neighborlist.py\u001b[0m in \u001b[0;36mupdate\u001b[0;34m(self, atoms)\u001b[0m\n\u001b[1;32m   1044\u001b[0m         \"\"\"\n\u001b[1;32m   1045\u001b[0m         return self.nl.update(atoms.pbc, atoms.get_cell(complete=True),\n\u001b[0;32m-> 1046\u001b[0;31m                               atoms.positions)\n\u001b[0m\u001b[1;32m   1047\u001b[0m \u001b[0;34m\u001b[0m\u001b[0m\n\u001b[1;32m   1048\u001b[0m     \u001b[0;32mdef\u001b[0m \u001b[0mget_neighbors\u001b[0m\u001b[0;34m(\u001b[0m\u001b[0mself\u001b[0m\u001b[0;34m,\u001b[0m \u001b[0ma\u001b[0m\u001b[0;34m)\u001b[0m\u001b[0;34m:\u001b[0m\u001b[0;34m\u001b[0m\u001b[0;34m\u001b[0m\u001b[0m\n",
      "\u001b[0;32m~/miniconda3/lib/python3.7/site-packages/ase/neighborlist.py\u001b[0m in \u001b[0;36mupdate\u001b[0;34m(self, pbc, cell, coordinates)\u001b[0m\n\u001b[1;32m    863\u001b[0m \u001b[0;34m\u001b[0m\u001b[0m\n\u001b[1;32m    864\u001b[0m         \u001b[0;32mif\u001b[0m \u001b[0mself\u001b[0m\u001b[0;34m.\u001b[0m\u001b[0mnupdates\u001b[0m \u001b[0;34m==\u001b[0m \u001b[0;36m0\u001b[0m\u001b[0;34m:\u001b[0m\u001b[0;34m\u001b[0m\u001b[0;34m\u001b[0m\u001b[0m\n\u001b[0;32m--> 865\u001b[0;31m             \u001b[0mself\u001b[0m\u001b[0;34m.\u001b[0m\u001b[0mbuild\u001b[0m\u001b[0;34m(\u001b[0m\u001b[0mpbc\u001b[0m\u001b[0;34m,\u001b[0m \u001b[0mcell\u001b[0m\u001b[0;34m,\u001b[0m \u001b[0mcoordinates\u001b[0m\u001b[0;34m)\u001b[0m\u001b[0;34m\u001b[0m\u001b[0;34m\u001b[0m\u001b[0m\n\u001b[0m\u001b[1;32m    866\u001b[0m             \u001b[0;32mreturn\u001b[0m \u001b[0;32mTrue\u001b[0m\u001b[0;34m\u001b[0m\u001b[0;34m\u001b[0m\u001b[0m\n\u001b[1;32m    867\u001b[0m \u001b[0;34m\u001b[0m\u001b[0m\n",
      "\u001b[0;32m~/miniconda3/lib/python3.7/site-packages/ase/neighborlist.py\u001b[0m in \u001b[0;36mbuild\u001b[0;34m(self, pbc, cell, coordinates)\u001b[0m\n\u001b[1;32m    933\u001b[0m             \u001b[0;32mfor\u001b[0m \u001b[0ma\u001b[0m \u001b[0;32min\u001b[0m \u001b[0mrange\u001b[0m\u001b[0;34m(\u001b[0m\u001b[0mnatoms\u001b[0m\u001b[0;34m)\u001b[0m\u001b[0;34m:\u001b[0m\u001b[0;34m\u001b[0m\u001b[0;34m\u001b[0m\u001b[0m\n\u001b[1;32m    934\u001b[0m \u001b[0;34m\u001b[0m\u001b[0m\n\u001b[0;32m--> 935\u001b[0;31m                 indices = tree.query_ball_point(positions[a] - displacement,\n\u001b[0m\u001b[1;32m    936\u001b[0m                                                 r=self.cutoffs[a] + rcmax)\n\u001b[1;32m    937\u001b[0m                 \u001b[0;32mif\u001b[0m \u001b[0;32mnot\u001b[0m \u001b[0mlen\u001b[0m\u001b[0;34m(\u001b[0m\u001b[0mindices\u001b[0m\u001b[0;34m)\u001b[0m\u001b[0;34m:\u001b[0m\u001b[0;34m\u001b[0m\u001b[0;34m\u001b[0m\u001b[0m\n",
      "\u001b[0;31mKeyboardInterrupt\u001b[0m: "
     ]
    }
   ],
   "source": [
    "from ase.geometry.analysis import Analysis\n",
    "from ase.neighborlist import natural_cutoffs\n",
    "\n",
    "default_cutoffs = natural_cutoffs(struct, bothways= True)\n",
    "my_cutoffs = default_cutoffs\n",
    "\n",
    "for i in range(len(my_cutoffs)):\n",
    "    if default_cutoffs[i] == 1.11: #Si\n",
    "        my_cutoffs[i] = 1.2\n",
    "    elif default_cutoffs[i] == 0.71: #N\n",
    "        my_cutoffs[i] = 0.74\n",
    "    elif default_cutoffs[i] == 0.31: #H\n",
    "        my_cutoffs[i] = 0.46\n",
    "    elif default_cutoffs[i] == 0.57: #C\n",
    "        my_cutoffs[i] = 0.77\n",
    "\n",
    "\n",
    "anal = Analysis(struct, cutoffs = default_cutoffs)\n",
    "# # anal.get_angles(\"N\", \"Si\", \"N\")\n",
    "# for i in range(len(struct)):\n",
    "# #     print(struct[i])\n",
    "#     print(np.sum(anal.adjacency_matrix[0][i,:].todense()), \":\", struct[i])\n",
    "numpoints = 120\n",
    "plt.plot(np.linspace(0, 6.77/2, numpoints), anal.get_rdf(6.77/2, numpoints)[0])"
   ]
  },
  {
   "cell_type": "code",
   "execution_count": null,
   "metadata": {
    "ExecuteTime": {
     "end_time": "2021-04-01T21:36:41.890713Z",
     "start_time": "2021-04-01T21:36:38.831Z"
    },
    "hidden": true,
    "scrolled": false
   },
   "outputs": [],
   "source": [
    "sin_bonds = anal.get_bonds(\"Si\",\"N\")[0]\n",
    "counts = dict()\n",
    "for bond in sin_bonds:\n",
    "    i, j = bond\n",
    "    counts[i] = counts.get(i, 0) + 1\n",
    "    counts[j] = counts.get(j, 0) + 1\n",
    "counts"
   ]
  },
  {
   "cell_type": "markdown",
   "metadata": {
    "hidden": true
   },
   "source": [
    "## HCl adsorbate"
   ]
  },
  {
   "cell_type": "code",
   "execution_count": null,
   "metadata": {
    "ExecuteTime": {
     "end_time": "2021-04-01T21:36:41.891537Z",
     "start_time": "2021-04-01T21:36:38.836Z"
    },
    "hidden": true
   },
   "outputs": [],
   "source": [
    "# print(sirich)\n",
    "from ase import Atoms\n",
    "d = 1.27\n",
    "i = 1\n",
    "for x in np.arange(0, 1, .2):\n",
    "    for y in np.arange(0, 1, .2):\n",
    "        sirich = vasp.read_vasp(\"../CONTCAR\")\n",
    "        x, y, z = sirich.cell.cartesian_positions([x, y, 0])\n",
    "        hcl = Atoms('HCl', positions=[(x, y, 0), (x, y + d, 0)])\n",
    "        add_adsorbate(sirich, adsorbate = hcl, height = 2, position = (x, y))\n",
    "#         view(sirich)\n",
    "        vasp.write_vasp(\"../POSCAR\" + str(i), sirich, vasp5=True)\n",
    "        i += 1"
   ]
  },
  {
   "cell_type": "markdown",
   "metadata": {
    "heading_collapsed": true
   },
   "source": [
    "# Water box generation"
   ]
  },
  {
   "cell_type": "markdown",
   "metadata": {
    "hidden": true
   },
   "source": [
    "Wolfram alpha query:\n",
    "https://www.wolframalpha.com/input/?i=%287.666+angstroms%29+*+%2822.981+angstroms%29+*+%285.85+angstroms%29+*+1+gram%2Fcm%5E3+*+%2818+g%2Fmol%29%5E%28-1%29+*+N_A\n"
   ]
  },
  {
   "cell_type": "markdown",
   "metadata": {
    "hidden": true
   },
   "source": [
    "For the box \n",
    "\n",
    "    22.980921000000000  000000000000000000  000000000000000000\n",
    "    -3.8301539999999998    6.6340209999999997    0.0000000000000000\n",
    "    000000000000000000  000000000000000000  5.8501700000000000\n",
    "\n",
    "the above query tells us we need 34.48 -> 34 water molecules"
   ]
  },
  {
   "cell_type": "code",
   "execution_count": null,
   "metadata": {
    "ExecuteTime": {
     "end_time": "2021-04-01T21:36:41.892520Z",
     "start_time": "2021-04-01T21:36:38.842Z"
    },
    "hidden": true
   },
   "outputs": [],
   "source": [
    "#generation parameters\n",
    "n = 34 #number of waters\n",
    "num_per_layer = 2\n",
    "correction = 1 # set to 1 if you miss a layer; otherwise, 0\n",
    "\n",
    "#reference water location\n",
    "initial_O = np.array([0.01, 0.01, 0.01]) \n",
    "initial_H1 = np.array([0.01, 0.01, 0.18]) \n",
    "initial_H2 = np.array([0.01, 0.14, 0.01]) \n",
    "\n",
    "#initialize ouptut lists\n",
    "O_output = np.array([])\n",
    "H_output = np.array([])\n",
    "\n",
    "#reference to a vector\n",
    "lowerlim = 0.16\n",
    "upperlim = 0.60 \n",
    "vacuum_height = 1 - (upperlim - lowerlim)\n",
    "\n",
    "#set spacings\n",
    "a_space = vacuum_height/(n / num_per_layer) #assume even n and 2 waters per layer\n",
    "b_space = 1/2 \n",
    "c_space = 1/4 \n",
    "\n",
    "for i in np.arange(int(1/a_space) + correction):\n",
    "    for j in np.arange(num_per_layer):\n",
    "        #offsets a and c locations in step, b location within the layer\n",
    "        if i * a_space < lowerlim or i * a_space > upperlim:\n",
    "            O_output = np.append(O_output, np.array(initial_O + np.array([i * a_space, j * b_space + i*c_space, i*c_space])))\n",
    "            O_output = np.append(O_output, np.array([\"  T\"]*3 ))\n",
    "            H_output = np.append(H_output, np.array(initial_H1 + np.array([i * a_space, j * b_space+ i*c_space, i*c_space])))\n",
    "            H_output = np.append(H_output, np.array([\"  T\"]*3 ))\n",
    "            H_output = np.append(H_output, np.array(initial_H2 + np.array([i * a_space, j * b_space+ i*c_space, i*c_space])))\n",
    "            H_output = np.append(H_output, np.array([\"  T\"]*3 ))\n",
    "O_output = O_output.reshape(-1, 6)\n",
    "H_output = H_output.reshape(-1, 6)"
   ]
  },
  {
   "cell_type": "code",
   "execution_count": null,
   "metadata": {
    "ExecuteTime": {
     "end_time": "2021-04-01T21:36:41.893480Z",
     "start_time": "2021-04-01T21:36:38.846Z"
    },
    "hidden": true
   },
   "outputs": [],
   "source": [
    "np.array(O_output, dtype = str).shape"
   ]
  },
  {
   "cell_type": "code",
   "execution_count": null,
   "metadata": {
    "ExecuteTime": {
     "end_time": "2021-04-01T21:36:41.894337Z",
     "start_time": "2021-04-01T21:36:38.850Z"
    },
    "hidden": true
   },
   "outputs": [],
   "source": [
    "np.savetxt(\"../o_test.txt\", O_output, fmt = \"%s\")"
   ]
  },
  {
   "cell_type": "code",
   "execution_count": null,
   "metadata": {
    "ExecuteTime": {
     "end_time": "2021-04-01T21:36:41.895158Z",
     "start_time": "2021-04-01T21:36:38.854Z"
    },
    "hidden": true
   },
   "outputs": [],
   "source": [
    "np.savetxt(\"../h_test.txt\", H_output, fmt = \"%s\")"
   ]
  },
  {
   "cell_type": "markdown",
   "metadata": {
    "heading_collapsed": true
   },
   "source": [
    "#  Sticking probability calculation"
   ]
  },
  {
   "cell_type": "markdown",
   "metadata": {
    "hidden": true
   },
   "source": [
    "Forward rate constant from physisorbed to chemisorbed state: \n",
    "$$\n",
    "    k_A = \\frac{k_B T}{h}\\exp{\\left(\\Delta S^{\\ddagger}/R\\right)} \\exp{\\left(-E_A/RT\\right)}\n",
    "$$"
   ]
  },
  {
   "cell_type": "markdown",
   "metadata": {
    "hidden": true
   },
   "source": [
    "Backwards rate constant, desorption:\n",
    "$$\n",
    "k_D = \\left(\n",
    "            \\frac{k_BT}{2\\pi m}\n",
    "      \\right)^{1/2}\n",
    "      \\exp\\left(\\Delta S/R \\right)\n",
    "      \\exp\\left(-E_D/RT\\right)\n",
    "$$"
   ]
  },
  {
   "cell_type": "markdown",
   "metadata": {
    "hidden": true
   },
   "source": [
    "By Vineyard (eq 23),\n",
    "$$\n",
    "\\Delta S^\\ddagger = k_B\\ln\\left(\\frac{\\prod v_i^0}{\\prod v_i'}\\right) = k_B\\left(\\sum \\ln v_i^0 - \\sum \\ln v_i' \\right) \n",
    "$$"
   ]
  },
  {
   "cell_type": "markdown",
   "metadata": {
    "hidden": true
   },
   "source": [
    "We approximate these values by taking the ratio of the sum of the normal modes of the system, i.e., the eigenvalues of each state's dynamical matrix:\n",
    "\n",
    "$$\n",
    "    k_A = \\frac{k_B T}{h}\\frac{\\sum_{TS}\\lambda_i}{\\sum_{init}\\lambda_i}\\exp{\\left(-E_A/RT\\right)}\n",
    "$$\n",
    "\n",
    "\n",
    "$$\n",
    "k_D = \\left(\n",
    "            \\frac{k_BT}{2\\pi m}\n",
    "      \\right)^{1/2}\n",
    "      \\exp\\left(\\Delta S_{literature}/R\\right)\n",
    "      \\exp\\left(-E_D/RT\\right)\n",
    "$$"
   ]
  },
  {
   "cell_type": "markdown",
   "metadata": {
    "hidden": true
   },
   "source": [
    "Then, these figures can be used to calculate the sticking probabiility as \n",
    "$$\n",
    "    p = \\frac{k_A}{k_A + k_D}\n",
    "$$"
   ]
  },
  {
   "cell_type": "code",
   "execution_count": null,
   "metadata": {
    "ExecuteTime": {
     "end_time": "2021-04-01T21:36:41.895918Z",
     "start_time": "2021-04-01T21:36:38.864Z"
    },
    "hidden": true,
    "scrolled": true
   },
   "outputs": [],
   "source": [
    "from eigenval_analyze import eigenval_analyze\n",
    "unit = \"THz\"\n",
    "initial_eigenvals = eigenval_analyze(\"../OUTCAR_init\", unit)\n",
    "ts_eigenvals = eigenval_analyze(\"../OUTCAR_ts\", unit )\n",
    "S_adsorb = kb * np.log(np.prod(initial_eigenvals)/np.prod(ts_eigenvals))\n",
    "S_adsorb"
   ]
  },
  {
   "cell_type": "code",
   "execution_count": null,
   "metadata": {
    "ExecuteTime": {
     "end_time": "2021-04-01T21:36:41.896828Z",
     "start_time": "2021-04-01T21:36:38.868Z"
    },
    "hidden": true
   },
   "outputs": [],
   "source": [
    "kb*T/h"
   ]
  },
  {
   "cell_type": "code",
   "execution_count": null,
   "metadata": {
    "ExecuteTime": {
     "end_time": "2021-04-01T21:36:41.897589Z",
     "start_time": "2021-04-01T21:36:38.873Z"
    },
    "hidden": true
   },
   "outputs": [],
   "source": [
    "k_A =  np.exp(-0.96/(R * T))\n",
    "print(\"k_A is\", k_A)"
   ]
  },
  {
   "cell_type": "markdown",
   "metadata": {
    "hidden": true
   },
   "source": [
    "Entropy of a diatomic ideal gas: https://www.usna.edu/Users/physics/mungan/_files/documents/Scholarship/ClassicalIdealGas.pdf\n",
    "\n",
    "They assume that the potential and kinetic vibrational degrees of freedom are \"frozen out\": this is okay for us, because these degrees of freedom should basically factor out in the sticking probability calculation.\n",
    "If anything, this will overestimate the sticking probability, since $k_D(no~vib. DoF) < k_D(vib. DoF)$"
   ]
  },
  {
   "cell_type": "markdown",
   "metadata": {
    "ExecuteTime": {
     "end_time": "2020-01-07T10:36:27.511323Z",
     "start_time": "2020-01-07T10:36:27.488748Z"
    },
    "hidden": true
   },
   "source": [
    "$$\n",
    "\\begin{align*}\n",
    "    S &= Nk\\left[\n",
    "        7/2 + \\ln \\frac{V(2\\pi mkT)^{5/2}4\\pi I/m}\n",
    "        {Nh^5}\n",
    "    \\right]\\\\\n",
    "    &= Nk\\left[\n",
    "        7/2 + \\ln \\frac{kT(2\\pi mkT)^{5/2}4\\pi I/m}  \n",
    "        {p\\cdot h^5}\n",
    "    \\right]& \\left(\\text{since } \\frac{N}{V} = \\frac{p}{kT}\\right) \\\\\n",
    "    &= Nk\\left[\n",
    "        7/2 + \\ln \\frac{kT(2\\pi mkT)^{5/2}4\\pi \\left(1/4 r^2 \\right)}   \n",
    "        {p\\cdot h^5}\n",
    "    \\right]& \\left(I = 1/4 mr^2 \\right)\\\\\n",
    "    &= Nk\\left[\n",
    "        7/2 + \\ln \\frac{kT(2\\pi mkT)^{5/2}\\pi r^2 }   \n",
    "        {p\\cdot h^5}\n",
    "    \\right]& \\left(I = 1/4 mr^2 \\right)\n",
    "\\end{align*}\n",
    "$$"
   ]
  },
  {
   "cell_type": "code",
   "execution_count": null,
   "metadata": {
    "ExecuteTime": {
     "end_time": "2021-04-01T21:36:41.898482Z",
     "start_time": "2021-04-01T21:36:38.882Z"
    },
    "hidden": true
   },
   "outputs": [],
   "source": [
    "N = 1 #number of molecules considered\n",
    "r = 1.35e-10 # C-F bond length, meters\n",
    "p = .004 #kPa\n",
    "\n",
    "S_desorb_total = N*kb * (\n",
    "    7/2 + np.log(\n",
    "            (kb * T * (2 * np.pi * m * kb * T)**(5/2) * np.pi * r**2)/\n",
    "            (p * h**5)\n",
    "    )\n",
    ") # J/K to eV/K\n",
    "\n",
    "S_desorb_translational = N*kb * (\n",
    "    5/2 + np.log(\n",
    "            (kb * T * (2 * np.pi * m * kb * T)**(3/2) * np.pi * r**2)/\n",
    "            (p * h**3)\n",
    "    )\n",
    ") # J/K to eV/K\n",
    "\n",
    "\n",
    "S_desorb_total"
   ]
  },
  {
   "cell_type": "code",
   "execution_count": null,
   "metadata": {
    "ExecuteTime": {
     "end_time": "2021-04-01T21:36:41.899346Z",
     "start_time": "2021-04-01T21:36:38.889Z"
    },
    "hidden": true
   },
   "outputs": [],
   "source": [
    "k_D = np.exp(-0.21/(R*T))\n",
    "print(\"k_D is \", k_D) "
   ]
  },
  {
   "cell_type": "code",
   "execution_count": null,
   "metadata": {
    "ExecuteTime": {
     "end_time": "2021-04-01T21:36:41.900561Z",
     "start_time": "2021-04-01T21:36:38.900Z"
    },
    "hidden": true
   },
   "outputs": [],
   "source": [
    "eb = -0.48\n",
    "np.exp(eb/(R*T))/(np.exp(eb/(R*T)) + np.exp(-.21/(R*T)))"
   ]
  },
  {
   "cell_type": "markdown",
   "metadata": {
    "heading_collapsed": true
   },
   "source": [
    "# Green-Kubo/VACF"
   ]
  },
  {
   "cell_type": "markdown",
   "metadata": {
    "hidden": true
   },
   "source": [
    "Read data, find split between vacf and fft data, apply split, give column names"
   ]
  },
  {
   "cell_type": "code",
   "execution_count": null,
   "metadata": {
    "ExecuteTime": {
     "end_time": "2021-04-01T21:36:41.901471Z",
     "start_time": "2021-04-01T21:36:38.909Z"
    },
    "hidden": true,
    "scrolled": false
   },
   "outputs": [],
   "source": [
    "vacf_data = pd.read_csv(\"../vacf_hf\", delim_whitespace=True)\n",
    "split_idx = vacf_data.loc[vacf_data[\"0\"] == 0, :].index[0]\n",
    "vacf_fft = vacf_data[split_idx:].reset_index(drop = True)\n",
    "vacf_data = vacf_data[:split_idx]\n",
    "vacf_data.columns = [\"Time (fs)\", \"Value\"]\n",
    "vacf_fft.columns = [\"Wavenumber\", \"Value\"]\n",
    "vacf_data"
   ]
  },
  {
   "cell_type": "code",
   "execution_count": null,
   "metadata": {
    "ExecuteTime": {
     "end_time": "2021-04-01T21:36:41.902386Z",
     "start_time": "2021-04-01T21:36:38.916Z"
    },
    "hidden": true
   },
   "outputs": [],
   "source": [
    "vacf_fft"
   ]
  },
  {
   "cell_type": "code",
   "execution_count": null,
   "metadata": {
    "ExecuteTime": {
     "end_time": "2021-04-01T21:36:41.903148Z",
     "start_time": "2021-04-01T21:36:38.924Z"
    },
    "hidden": true
   },
   "outputs": [],
   "source": [
    "vacf_data.plot(\"Time (fs)\", \"Value\");\n",
    "vacf_fft.plot(\"Wavenumber\", \"Value\");"
   ]
  },
  {
   "cell_type": "markdown",
   "metadata": {
    "hidden": true
   },
   "source": [
    "Green-Kubo relation for determining coefficient of diffusion:"
   ]
  },
  {
   "cell_type": "code",
   "execution_count": null,
   "metadata": {
    "hidden": true
   },
   "outputs": [],
   "source": []
  },
  {
   "cell_type": "markdown",
   "metadata": {
    "heading_collapsed": true
   },
   "source": [
    "# Kinetic energy of ion "
   ]
  },
  {
   "cell_type": "code",
   "execution_count": null,
   "metadata": {
    "ExecuteTime": {
     "end_time": "2021-04-01T21:36:41.904070Z",
     "start_time": "2021-04-01T21:36:38.937Z"
    },
    "hidden": true
   },
   "outputs": [],
   "source": [
    "v = 0.15\n",
    "6240000000000000000 * 0.5 * 1.66E-27*39.95*(v*100000)**2"
   ]
  },
  {
   "cell_type": "markdown",
   "metadata": {
    "heading_collapsed": true
   },
   "source": [
    "# NELECT calculator"
   ]
  },
  {
   "cell_type": "code",
   "execution_count": null,
   "metadata": {
    "ExecuteTime": {
     "end_time": "2021-04-01T21:36:41.904963Z",
     "start_time": "2021-04-01T21:36:38.945Z"
    },
    "hidden": true
   },
   "outputs": [],
   "source": [
    "import warnings\n",
    "warnings.filterwarnings('ignore')\n",
    "\n",
    "from ipywidgets import interact, interactive, fixed, interact_manual, Layout\n",
    "import ipywidgets as widgets\n",
    "\n",
    "def calc_nelect(Si, N, H, C, F, Ar, charge):    \n",
    "    return Si*4 + N*5 + H*1 + C*4 + F*7 + Ar*8 - charge \n",
    "\n",
    "interact(calc_nelect,\n",
    "         Si = widgets.IntText(value = 0),\n",
    "         N = widgets.IntText(value = 0),\n",
    "         H = widgets.IntText(value = 0),\n",
    "         C = widgets.IntText(value = 0),\n",
    "         F = widgets.IntText(value = 0),\n",
    "         Ar = widgets.IntText(value = 0),\n",
    "         charge = widgets.IntText(value = 0)\n",
    "        );"
   ]
  },
  {
   "cell_type": "markdown",
   "metadata": {
    "heading_collapsed": true
   },
   "source": [
    "# Energy analysis "
   ]
  },
  {
   "cell_type": "code",
   "execution_count": null,
   "metadata": {
    "ExecuteTime": {
     "end_time": "2021-04-01T21:36:41.905805Z",
     "start_time": "2021-04-01T21:36:38.953Z"
    },
    "hidden": true
   },
   "outputs": [],
   "source": [
    "from energyanimator import *\n",
    "energies = oszicarSearch(\"../OSZICAR\", \"E0\")"
   ]
  },
  {
   "cell_type": "code",
   "execution_count": null,
   "metadata": {
    "ExecuteTime": {
     "end_time": "2021-04-01T21:36:41.906524Z",
     "start_time": "2021-04-01T21:36:38.961Z"
    },
    "hidden": true
   },
   "outputs": [],
   "source": [
    "plt.plot(np.arange(len(energies)), energies)\n",
    "plt.xlabel(\"timestep (fs)\")\n",
    "plt.ylabel(\"Internal energy, E0 (eV)\");"
   ]
  },
  {
   "cell_type": "code",
   "execution_count": null,
   "metadata": {
    "ExecuteTime": {
     "end_time": "2021-04-01T21:36:41.907498Z",
     "start_time": "2021-04-01T21:36:38.967Z"
    },
    "hidden": true
   },
   "outputs": [],
   "source": [
    "plt.plot(np.arange(len(energies)), oszicarSearch(\"../OSZICAR\", \"E\"))\n",
    "plt.xlabel(\"timestep (fs)\")\n",
    "plt.ylabel(\"Free energy, E (eV)\");"
   ]
  },
  {
   "cell_type": "code",
   "execution_count": null,
   "metadata": {
    "ExecuteTime": {
     "end_time": "2021-04-01T21:36:41.908265Z",
     "start_time": "2021-04-01T21:36:38.974Z"
    },
    "hidden": true
   },
   "outputs": [],
   "source": [
    "plt.plot(np.arange(len(energies)), oszicarSearch(\"../OSZICAR\", \"EK\"))\n",
    "plt.xlabel(\"timestep (fs)\")\n",
    "plt.ylabel(\"Kinetic Energy, EK (eV)\");"
   ]
  },
  {
   "cell_type": "markdown",
   "metadata": {},
   "source": [
    "# 2D collision Monte Carlo\n"
   ]
  },
  {
   "cell_type": "code",
   "execution_count": null,
   "metadata": {
    "ExecuteTime": {
     "end_time": "2021-04-01T21:36:41.909287Z",
     "start_time": "2021-04-01T21:36:38.986Z"
    }
   },
   "outputs": [],
   "source": [
    "import numpy as np\n",
    "import matplotlib.pyplot as plt\n",
    "import matplotlib.animation as animation\n",
    "%matplotlib notebook"
   ]
  },
  {
   "cell_type": "code",
   "execution_count": null,
   "metadata": {
    "ExecuteTime": {
     "end_time": "2021-04-01T21:36:41.910088Z",
     "start_time": "2021-04-01T21:36:38.993Z"
    }
   },
   "outputs": [],
   "source": [
    "import numpy as np\n",
    "import matplotlib.pyplot as plt\n",
    "from matplotlib.animation import FuncAnimation\n",
    "\n",
    "# Fixing random state for reproducibility\n",
    "np.random.seed(19680801)\n",
    "\n",
    "\n",
    "# Create new Figure and an Axes which fills it.\n",
    "fig = plt.figure(figsize=(7, 7))\n",
    "ax = fig.add_axes([0, 0, 1, 1], frameon=False)\n",
    "ax.set_xlim(0, 1), ax.set_xticks([])\n",
    "ax.set_ylim(0, 1), ax.set_yticks([])\n",
    "\n",
    "# Create rain data\n",
    "n_drops = 50\n",
    "rain_drops = np.zeros(n_drops, dtype=[('position', float, 2),\n",
    "                                      ('size',     float, 1),\n",
    "                                      ('growth',   float, 1),\n",
    "                                      ('color',    float, 4)])\n",
    "\n",
    "# Initialize the raindrops in random positions and with\n",
    "# random growth rates.\n",
    "rain_drops['position'] = np.random.uniform(0, 1, (n_drops, 2))\n",
    "rain_drops['growth'] = np.random.uniform(50, 200, n_drops)\n",
    "\n",
    "# Construct the scatter which we will update during animation\n",
    "# as the raindrops develop.\n",
    "scat = ax.scatter(rain_drops['position'][:, 0], rain_drops['position'][:, 1],\n",
    "                  s=rain_drops['size'], lw=0.5, edgecolors=rain_drops['color'],\n",
    "                  facecolors='none')\n",
    "\n",
    "\n",
    "def update(frame_number):\n",
    "    # Get an index which we can use to re-spawn the oldest raindrop.\n",
    "    current_index = frame_number % n_drops\n",
    "\n",
    "    # Make all colors more transparent as time progresses.\n",
    "    rain_drops['color'][:, 3] -= 1.0/len(rain_drops)\n",
    "    rain_drops['color'][:, 3] = np.clip(rain_drops['color'][:, 3], 0, 1)\n",
    "\n",
    "    # Make all circles bigger.\n",
    "    rain_drops['size'] += rain_drops['growth']\n",
    "\n",
    "    # Pick a new position for oldest rain drop, resetting its size,\n",
    "    # color and growth factor.\n",
    "    rain_drops['position'][current_index] = np.random.uniform(0, 1, 2)\n",
    "    rain_drops['size'][current_index] = 5\n",
    "    rain_drops['color'][current_index] = (0, 0, 0, 1)\n",
    "    rain_drops['growth'][current_index] = np.random.uniform(50, 200)\n",
    "\n",
    "    # Update the scatter collection, with the new colors, sizes and positions.\n",
    "    scat.set_edgecolors(rain_drops['color'])\n",
    "    scat.set_sizes(rain_drops['size'])\n",
    "    scat.set_offsets(rain_drops['position'])\n",
    "\n",
    "\n",
    "# Construct the animation, using the update function as the animation director.\n",
    "animation = FuncAnimation(fig, update, interval=10)\n",
    "plt.show()"
   ]
  },
  {
   "cell_type": "markdown",
   "metadata": {},
   "source": [
    "# Birthday simulation "
   ]
  },
  {
   "cell_type": "code",
   "execution_count": 3,
   "metadata": {
    "ExecuteTime": {
     "end_time": "2021-04-01T21:38:38.928869Z",
     "start_time": "2021-04-01T21:38:37.926638Z"
    },
    "scrolled": false
   },
   "outputs": [
    {
     "data": {
      "image/png": "[encoded data removed]",
      "text/plain": [
       "<Figure size 432x288 with 1 Axes>"
      ]
     },
     "metadata": {
      "needs_background": "light"
     },
     "output_type": "display_data"
    }
   ],
   "source": [
    "sample = np.arange(10, 3000, 30)\n",
    "num_reps = 500\n",
    "prop_birthday_array = np.array([])\n",
    "for num_followers in sample:\n",
    "    birthdays = np.random.randint(365, size = num_followers)\n",
    "    birthday_today_sum = 0\n",
    "    for i in range(num_reps): #1000 replications per given follower count    \n",
    "        random_today = np.random.randint(365)\n",
    "        birthday_today_sum += random_today in birthdays #check if any birthdays are \"today\"\n",
    "    prop_birthday_array = np.append(prop_birthday_array, birthday_today_sum/num_reps)\n",
    "plt.scatter(sample, prop_birthday_array);\n",
    "plt.plot(sample, 1 - (364/365)**sample);\n",
    "plt.legend([\"Analytical solution\", \"Simulated data\"]);"
   ]
  },
  {
   "cell_type": "code",
   "execution_count": 4,
   "metadata": {
    "ExecuteTime": {
     "end_time": "2021-04-01T21:38:41.726982Z",
     "start_time": "2021-04-01T21:38:39.034433Z"
    }
   },
   "outputs": [
    {
     "data": {
      "image/png": "[encoded data removed]",
      "text/plain": [
       "<Figure size 432x288 with 1 Axes>"
      ]
     },
     "metadata": {
      "needs_background": "light"
     },
     "output_type": "display_data"
    }
   ],
   "source": [
    "sample = np.arange(1, 80)\n",
    "num_reps = 1000\n",
    "prop_birthday_array = np.array([])\n",
    "for num_people in sample:\n",
    "    birthday_match_sum = 0 \n",
    "    for i in range(num_reps):\n",
    "        birthdays = np.random.randint(365, size = num_people) #simulate birthdays of random group\n",
    "        birthday_match_sum += len(set(birthdays)) != len(birthdays)\n",
    "    prop_birthday_array = np.append(prop_birthday_array, birthday_match_sum/num_reps)\n",
    "plt.scatter(sample, prop_birthday_array);"
   ]
  },
  {
   "cell_type": "code",
   "execution_count": 13,
   "metadata": {
    "ExecuteTime": {
     "end_time": "2021-04-01T21:37:53.446423Z",
     "start_time": "2021-04-01T21:37:53.440636Z"
    }
   },
   "outputs": [
    {
     "data": {
      "text/plain": [
       "array([10,  9,  8,  7,  6,  5,  4,  3,  2,  1])"
      ]
     },
     "execution_count": 13,
     "metadata": {},
     "output_type": "execute_result"
    }
   ],
   "source": [
    "np.arange(10, 0, -1)"
   ]
  },
  {
   "cell_type": "markdown",
   "metadata": {
    "heading_collapsed": true
   },
   "source": [
    "# Decomposition threshold calculation/visualization"
   ]
  },
  {
   "cell_type": "code",
   "execution_count": null,
   "metadata": {
    "ExecuteTime": {
     "end_time": "2021-04-01T21:36:41.913492Z",
     "start_time": "2021-04-01T21:36:39.018Z"
    },
    "hidden": true
   },
   "outputs": [],
   "source": [
    "#list format: [highest nondecomp velo, lowest decomp velo]\n",
    "v_ch3f = np.array([.05, .075])\n",
    "v_ch2f2 = np.array([.1, .103])\n",
    "v_chf3 = np.array([.09, .1])\n",
    "v_cf4 = np.array([.08, .09])\n",
    "\n",
    "def KE(v_tot):\n",
    "    \"Returns KE of Ar+ in eV given total velocity\"\n",
    "    return 6240000000000000000 * 0.5 * 1.66E-27*39.95*(v_tot*100000)**2\n",
    "\n",
    "def v_from_KE(E):\n",
    "    \"Returns v(z) of Ar+ in eV given KE\"\n",
    "    return np.sqrt(E/(6240000000000000000 * 0.5 * 1.66E-27*39.95))/100000\n",
    "\n",
    "Ed_ch3f = KE(v_ch3f)\n",
    "Ed_ch2f2 = KE(v_ch2f2)\n",
    "Ed_chf3 = KE(v_chf3)\n",
    "Ed_cf4 = KE(v_cf4)\n",
    "\n",
    "plt.figure(figsize=(3, 6))\n",
    "Ed = np.vstack((Ed_ch3f, Ed_ch2f2, Ed_chf3, Ed_cf4))\n",
    "xrange = range(1, 5)\n",
    "plt.vlines(xrange, Ed[:, 0], Ed[:, 1], linewidth = 3)\n",
    "plt.xticks(ticks = xrange, labels = [\"CH3F\", \"CH2F2\", \"CHF3\", \"CF4\"])\n",
    "plt.ylabel(\"Dissociation energy threshold (eV)\")\n",
    "plt.grid(axis = 'x')"
   ]
  },
  {
   "cell_type": "code",
   "execution_count": null,
   "metadata": {
    "ExecuteTime": {
     "end_time": "2021-04-01T21:36:41.915017Z",
     "start_time": "2021-04-01T21:36:39.023Z"
    },
    "hidden": true
   },
   "outputs": [],
   "source": [
    "v_from_KE(np.arange(Ed_ch3f[0], Ed_ch2f2[1], .5))"
   ]
  },
  {
   "cell_type": "code",
   "execution_count": null,
   "metadata": {
    "ExecuteTime": {
     "end_time": "2021-04-01T21:36:41.917254Z",
     "start_time": "2021-04-01T21:36:39.029Z"
    },
    "hidden": true
   },
   "outputs": [],
   "source": [
    "(29.2392359999999982 * (0.7299277018045487 - 0.5319035085506911))/(v_from_KE(np.arange(*Ed_cf4, step = .5)))"
   ]
  },
  {
   "cell_type": "markdown",
   "metadata": {
    "heading_collapsed": true
   },
   "source": [
    "# Rotating molecules"
   ]
  },
  {
   "cell_type": "code",
   "execution_count": null,
   "metadata": {
    "ExecuteTime": {
     "end_time": "2021-04-01T21:36:41.919406Z",
     "start_time": "2021-04-01T21:36:39.033Z"
    },
    "hidden": true
   },
   "outputs": [],
   "source": [
    "import matplotlib.pyplot as plt\n",
    "from mpl_toolkits.mplot3d import Axes3D\n",
    "fig = plt.figure(figsize = (10, 10))\n",
    "ax = fig.add_subplot(111, projection='3d')\n",
    "#cartesian coordinates\n",
    "c = np.array([-0.07080961517377,   4.39791093730960,   15.55245221574159])\n",
    "f1 = np.array([-1.29252093562230,   4.38985564638638,   15.86091698258102])\n",
    "f2 = np.array([0.46655734032090,   3.27409499032153,   16.05264845711701])\n",
    "f3 = np.array([0.45543942453280,   5.52631694772198,   16.05346389416853])\n",
    "f4 = np.array([-0.03996298251498,   4.40464583205707,   14.20939151614791])\n",
    "\n",
    "cf4 = np.vstack((c, f1, f2, f3, f4))\n",
    "cf4_xs, cf4_ys, cf4_zs = np.split(cf4, 3, axis = 1)\n",
    "\n",
    "ax.set_xlim(min(cf4_xs), max(cf4_xs))\n",
    "ax.set_ylim(min(cf4_ys), max(cf4_ys))\n",
    "ax.set_zlim(min(cf4_zs), max(cf4_zs))\n",
    "ax.scatter(cf4_xs, cf4_ys, cf4_zs, s = 500)"
   ]
  },
  {
   "cell_type": "markdown",
   "metadata": {
    "hidden": true
   },
   "source": [
    "Rotation matrix: https://en.wikipedia.org/wiki/Rotation_matrix#General_rotations"
   ]
  },
  {
   "cell_type": "code",
   "execution_count": null,
   "metadata": {
    "ExecuteTime": {
     "end_time": "2021-04-01T21:36:41.920902Z",
     "start_time": "2021-04-01T21:36:39.038Z"
    },
    "hidden": true
   },
   "outputs": [],
   "source": [
    "from scipy.spatial.transform import Rotation as R\n",
    "r = R.from_euler('zyx', [90, 0, 0], degrees=True)\n",
    "\n",
    "r_cf4 = np.vstack([r.apply(i) for i in cf4])\n",
    "\n",
    "\n",
    "fig = plt.figure(figsize = (10, 10))\n",
    "ax = fig.add_subplot(111, projection='3d')\n",
    "\n",
    "r_cf4_xs, r_cf4_ys, r_cf4_zs = np.split(r_cf4, 3, axis = 1)\n",
    "\n",
    "ax.set_xlim(min(r_cf4_xs), max(r_cf4_xs))\n",
    "ax.set_ylim(min(r_cf4_ys), max(r_cf4_ys))\n",
    "ax.set_zlim(min(r_cf4_zs), max(r_cf4_zs))\n",
    "ax.scatter(r_cf4_xs, r_cf4_ys, r_cf4_zs, s = 500)"
   ]
  },
  {
   "cell_type": "code",
   "execution_count": null,
   "metadata": {
    "ExecuteTime": {
     "end_time": "2021-04-01T21:36:41.922162Z",
     "start_time": "2021-04-01T21:36:39.043Z"
    },
    "hidden": true
   },
   "outputs": [],
   "source": [
    "from scipy.stats import maxwell\n",
    "x = np.linspace(0, 4, 100)\n",
    "plt.plot(x, maxwell.pdf(x));"
   ]
  },
  {
   "cell_type": "markdown",
   "metadata": {
    "heading_collapsed": true
   },
   "source": [
    "# Energy calculations "
   ]
  },
  {
   "cell_type": "code",
   "execution_count": null,
   "metadata": {
    "ExecuteTime": {
     "end_time": "2021-04-01T21:36:41.923339Z",
     "start_time": "2021-04-01T21:36:39.049Z"
    },
    "hidden": true
   },
   "outputs": [],
   "source": [
    "no_vdw_adsorbed = -.56052502E+03\n",
    "vdw_adsorbed = -.57382237E+03\n",
    "no_vdw_slab = -.53641007E+03\n",
    "vdw_slab = -.54946959E+03\n",
    "no_vdw_ch3f = -.24118519E+02\n",
    "vdw_ch3f = -.24155344E+02"
   ]
  },
  {
   "cell_type": "code",
   "execution_count": null,
   "metadata": {
    "ExecuteTime": {
     "end_time": "2021-04-01T21:36:41.926068Z",
     "start_time": "2021-04-01T21:36:39.052Z"
    },
    "hidden": true
   },
   "outputs": [],
   "source": [
    "no_vdw_adsorbed - (no_vdw_slab + no_vdw_ch3f)"
   ]
  },
  {
   "cell_type": "code",
   "execution_count": null,
   "metadata": {
    "ExecuteTime": {
     "end_time": "2021-04-01T21:36:41.928146Z",
     "start_time": "2021-04-01T21:36:39.056Z"
    },
    "hidden": true
   },
   "outputs": [],
   "source": [
    "vdw_adsorbed - (vdw_ch3f + vdw_slab)"
   ]
  },
  {
   "cell_type": "code",
   "execution_count": null,
   "metadata": {
    "ExecuteTime": {
     "end_time": "2021-04-01T21:36:41.929613Z",
     "start_time": "2021-04-01T21:36:39.062Z"
    },
    "hidden": true
   },
   "outputs": [],
   "source": [
    "unit_cell_product = -.57381823E+03\n",
    "unit_cell_product - (vdw_ch3f + vdw_slab)\n"
   ]
  },
  {
   "cell_type": "markdown",
   "metadata": {},
   "source": [
    "# OSZICAR plotting"
   ]
  },
  {
   "cell_type": "markdown",
   "metadata": {},
   "source": [
    "Distances"
   ]
  },
  {
   "cell_type": "code",
   "execution_count": null,
   "metadata": {
    "ExecuteTime": {
     "end_time": "2021-04-01T21:36:41.930978Z",
     "start_time": "2021-04-01T21:36:39.069Z"
    }
   },
   "outputs": [],
   "source": [
    "dist = pd.read_csv(\"9-16ArNdist.dat\", sep = \"\\s+\", header = None, index_col = 0)"
   ]
  },
  {
   "cell_type": "code",
   "execution_count": null,
   "metadata": {
    "ExecuteTime": {
     "end_time": "2021-04-01T21:36:41.932339Z",
     "start_time": "2021-04-01T21:36:39.074Z"
    }
   },
   "outputs": [],
   "source": [
    "dist.plot()"
   ]
  },
  {
   "cell_type": "code",
   "execution_count": null,
   "metadata": {
    "ExecuteTime": {
     "end_time": "2021-04-01T21:36:41.933775Z",
     "start_time": "2021-04-01T21:36:39.080Z"
    }
   },
   "outputs": [],
   "source": [
    "from energyanimator import oszicarSearch\n",
    "# energies = oszicarSearch(\"../OSZICAR\")\n",
    "energies = pd.read_csv(\"energies\", header = None).iloc[:, 0]\n",
    "energies = energies - energies[0]\n",
    "plt.plot(np.arange(len(energies)), energies)\n",
    "plt.ylabel(\"relative potential energy\")\n",
    "plt.xlabel(\"time (fs)\");"
   ]
  },
  {
   "cell_type": "code",
   "execution_count": null,
   "metadata": {
    "ExecuteTime": {
     "end_time": "2021-04-01T21:36:41.935333Z",
     "start_time": "2021-04-01T21:36:39.085Z"
    }
   },
   "outputs": [],
   "source": [
    "kinetic = pd.read_csv(\"kinetic\", header = None).iloc[:, 0]\n",
    "kinetic = kinetic - kinetic[0]\n",
    "plt.plot(np.arange(len(kinetic)), kinetic)\n",
    "plt.ylabel(\"relative kinetic energy\")\n",
    "plt.xlabel(\"time (fs)\");"
   ]
  },
  {
   "cell_type": "code",
   "execution_count": null,
   "metadata": {
    "ExecuteTime": {
     "end_time": "2021-04-01T21:36:41.936756Z",
     "start_time": "2021-04-01T21:36:39.090Z"
    }
   },
   "outputs": [],
   "source": [
    "import numpy as np\n",
    "import matplotlib.pyplot as plt\n",
    "\n",
    "s = slice(50, -1)\n",
    "x = dist.index[s]/2\n",
    "y1 = dist.iloc[s, 0]\n",
    "y2 = energies[s]\n",
    "y3 = kinetic[s]\n",
    "y4 = y2 + y3\n",
    "\n",
    "fig, ax1 = plt.subplots()\n",
    "\n",
    "ax2 = ax1.twinx()\n",
    "ax1.plot(x, y1, 'g-')\n",
    "ax2.plot(x, y2, 'b-', label = 'potential E')\n",
    "ax2.plot(x, y3, 'r-', label = 'kinetic E')\n",
    "ax2.plot(x, y4, 'c-', label = 'total E')\n",
    "\n",
    "ax1.set_xlabel('time (fs)')\n",
    "ax1.set_ylabel('Ar-N distance (Å)', color='g')\n",
    "ax2.set_ylabel('Relative energy (eV)', color='b')\n",
    "ax1.set_title(\"Distance vs E\")\n",
    "ax1.set_ylim(0, 10)\n",
    "plt.legend()\n",
    "plt.show()"
   ]
  },
  {
   "cell_type": "code",
   "execution_count": null,
   "metadata": {
    "ExecuteTime": {
     "end_time": "2021-04-01T21:36:41.938466Z",
     "start_time": "2021-04-01T21:36:39.096Z"
    }
   },
   "outputs": [],
   "source": [
    "dDiffs = np.diff(y1)\n",
    "plt.plot(x[:-1], dDiffs)\n",
    "plt.xlabel(\"time (fs)\")"
   ]
  },
  {
   "cell_type": "code",
   "execution_count": null,
   "metadata": {
    "ExecuteTime": {
     "end_time": "2021-04-01T21:36:41.940907Z",
     "start_time": "2021-04-01T21:36:39.101Z"
    }
   },
   "outputs": [],
   "source": [
    "plt.figure(figsize = (10, 4))\n",
    "lpdata = pd.read_csv(\"../energies.normal.silane\", header = None)\n",
    "sidedata = pd.read_csv(\"../energies.dangle.silane\", header = None)\n",
    "distances = np.arange(4, 0, -.05)\n",
    "mask = distances >= 1.5\n",
    "plt.plot(distances[mask], lpdata.iloc[:, 0][mask], label = \"normal silane\")\n",
    "plt.legend()\n",
    "plt.show()\n",
    "plt.figure(figsize = (10, 4))\n",
    "plt.plot(distances[mask], sidedata.iloc[:, 0][mask], label = \"silane with DB\");\n",
    "plt.legend();\n",
    "# plt.ylim(-100, 100)"
   ]
  },
  {
   "cell_type": "markdown",
   "metadata": {
    "heading_collapsed": true
   },
   "source": [
    "# Energy diagram\n"
   ]
  },
  {
   "cell_type": "markdown",
   "metadata": {
    "heading_collapsed": true,
    "hidden": true
   },
   "source": [
    "## For full MeF decomp process"
   ]
  },
  {
   "cell_type": "code",
   "execution_count": null,
   "metadata": {
    "ExecuteTime": {
     "end_time": "2021-04-01T21:36:41.943652Z",
     "start_time": "2021-04-01T21:36:39.108Z"
    },
    "hidden": true
   },
   "outputs": [],
   "source": [
    "import matplotlib.pyplot as plt\n",
    "from energydiagram import ED\n",
    "diagram = ED(linewidth = 1)\n",
    "diagram.add_level(0, top_text = '')\n",
    "diagram.add_level(-0.2,top_text='')\n",
    "diagram.add_level(.77,top_text='')\n",
    "diagram.add_level(-.08,top_text='')\n",
    "diagram.add_level(-.94,top_text='')\n",
    "diagram.add_link(0, 1)\n",
    "diagram.add_link(1, 2)\n",
    "diagram.add_link(2, 3)\n",
    "diagram.add_link(3, 4)\n",
    "\n",
    "fig, ax = diagram.plot()\n",
    "plt.savefig('temp.png',dpi = 300)"
   ]
  },
  {
   "cell_type": "markdown",
   "metadata": {
    "heading_collapsed": true,
    "hidden": true
   },
   "source": [
    "## For comparison of dangling bond sites"
   ]
  },
  {
   "cell_type": "code",
   "execution_count": null,
   "metadata": {
    "ExecuteTime": {
     "end_time": "2021-04-01T21:36:41.946546Z",
     "start_time": "2021-04-01T21:36:39.114Z"
    },
    "hidden": true
   },
   "outputs": [],
   "source": [
    "from energydiagram import ED\n",
    "plt.figure(figsize = (10,10))\n",
    "diagram = ED()\n",
    "\n",
    "E = -np.round(-532.5637 - np.array([-.53286625E+03, -.53292514E+03, -.53256365E+03, -532.7026]), decimals = 4)\n",
    "diagram.add_level(E[0],'config 1')\n",
    "diagram.add_level(E[1],'config 2', position = 'last')\n",
    "diagram.add_level(E[2],'config 3', position = 'last')\n",
    "diagram.add_level(E[3],'config 4', position = 'last')\n",
    "\n",
    "diagram.plot()"
   ]
  },
  {
   "cell_type": "markdown",
   "metadata": {
    "heading_collapsed": true,
    "hidden": true
   },
   "source": [
    "## For physisorption of MeF"
   ]
  },
  {
   "cell_type": "code",
   "execution_count": null,
   "metadata": {
    "ExecuteTime": {
     "end_time": "2021-04-01T21:36:41.948747Z",
     "start_time": "2021-04-01T21:36:39.120Z"
    },
    "hidden": true
   },
   "outputs": [],
   "source": [
    "from energydiagram import ED\n",
    "\n",
    "\n",
    "plt.rcParams.update({'font.size': 16})\n",
    "plt.rcParams.update({'ytick.labelsize': 16})\n",
    "plt.rcParams.update({'axes.labelsize': 22})\n",
    "\n",
    "diagram = ED()\n",
    "\n",
    "e1 = -0.2\n",
    "e2 = 0\n",
    "e3 = -0.23\n",
    "e4 = -0.18\n",
    "e5 = -0.18\n",
    "\n",
    "diagram.add_level(e1,'1 MeF \\n adsorbed')\n",
    "diagram.add_level(e2)\n",
    "diagram.add_level(e3,'3 MeF \\n adsorbed')\n",
    "diagram.add_level(e4,'4 MeF \\n adsorbed')\n",
    "diagram.add_level(e5,'5 MeF \\n adsorbed')\n",
    "\n",
    "\n",
    "# diagram.add_link(0, 1)\n",
    "diagram.add_link(2, 3)\n",
    "diagram.add_link(3, 4)\n",
    "# diagram.add_link(4, 5)\n",
    "\n",
    "diagram.plot()\n"
   ]
  },
  {
   "cell_type": "code",
   "execution_count": null,
   "metadata": {
    "ExecuteTime": {
     "end_time": "2021-04-01T21:36:41.950439Z",
     "start_time": "2021-04-01T21:36:39.125Z"
    },
    "hidden": true
   },
   "outputs": [],
   "source": [
    "from energydiagram import ED\n",
    "\n",
    "\n",
    "plt.rcParams.update({'font.size': 16})\n",
    "plt.rcParams.update({'ytick.labelsize': 16})\n",
    "plt.rcParams.update({'axes.labelsize': 22})\n",
    "\n",
    "diagram = ED()\n",
    "\n",
    "e1 = -0.2\n",
    "e2 = 0\n",
    "e3 = round(-0.23*3, 2)\n",
    "e4 = -0.18*4\n",
    "e5 = round(-0.18*5, 2)\n",
    "\n",
    "diagram.add_level(e1,'1 MeF \\n adsorbed')\n",
    "diagram.add_level(e2)\n",
    "diagram.add_level(e3,'3 MeF \\n adsorbed')\n",
    "diagram.add_level(e4,'4 MeF \\n adsorbed')\n",
    "diagram.add_level(e5,'5 MeF \\n adsorbed')\n",
    "\n",
    "\n",
    "# diagram.add_link(0, 1)\n",
    "diagram.add_link(2, 3)\n",
    "diagram.add_link(3, 4)\n",
    "# diagram.add_link(4, 5)\n",
    "\n",
    "diagram.plot()\n"
   ]
  },
  {
   "cell_type": "code",
   "execution_count": null,
   "metadata": {
    "hidden": true
   },
   "outputs": [],
   "source": []
  },
  {
   "cell_type": "markdown",
   "metadata": {
    "heading_collapsed": true
   },
   "source": [
    "# Distance plots (vmd output)"
   ]
  },
  {
   "cell_type": "code",
   "execution_count": null,
   "metadata": {
    "ExecuteTime": {
     "end_time": "2021-04-01T21:36:41.952303Z",
     "start_time": "2021-04-01T21:36:39.132Z"
    },
    "hidden": true
   },
   "outputs": [],
   "source": [
    "filename = \"../NHdist-nonSCC.dat\"\n",
    "data = pd.read_csv(filename, header = None, sep = \"\\t\")\n",
    "lefttime, righttime = 0, np.inf\n",
    "timeslice = np.logical_and(np.array(data[0]) < righttime, lefttime < np.array(data[0]))\n",
    "plt.plot(data[0][timeslice], data[1][timeslice])\n",
    "plt.title(filename)\n",
    "plt.xlabel('time (fs)')\n",
    "plt.ylabel(\"distance (Å)\");"
   ]
  },
  {
   "cell_type": "markdown",
   "metadata": {},
   "source": [
    "# Deepchem :0 \n",
    "\n",
    "Tutorials here https://github.com/deepchem/deepchem/tree/master/examples/tutorials"
   ]
  },
  {
   "cell_type": "code",
   "execution_count": null,
   "metadata": {
    "ExecuteTime": {
     "end_time": "2021-04-01T21:36:41.953671Z",
     "start_time": "2021-04-01T21:36:39.137Z"
    }
   },
   "outputs": [],
   "source": [
    "import warnings\n",
    "warnings.filterwarnings('ignore',category=FutureWarning)\n",
    "import deepchem as dc"
   ]
  },
  {
   "cell_type": "markdown",
   "metadata": {},
   "source": [
    "# Configurational entropy"
   ]
  },
  {
   "cell_type": "code",
   "execution_count": null,
   "metadata": {
    "ExecuteTime": {
     "end_time": "2021-04-01T21:36:41.955037Z",
     "start_time": "2021-04-01T21:36:39.142Z"
    }
   },
   "outputs": [],
   "source": [
    "free = lambda N: N * (N-1) * (N-2)/factorial(3)\n",
    "cluster = lambda N: N* (N-1)/2"
   ]
  },
  {
   "cell_type": "code",
   "execution_count": null,
   "metadata": {
    "ExecuteTime": {
     "end_time": "2021-04-01T21:36:41.956509Z",
     "start_time": "2021-04-01T21:36:39.147Z"
    }
   },
   "outputs": [],
   "source": [
    "x = np.arange(50)\n",
    "plt.plot(x, (free(x) - cluster(x)));"
   ]
  },
  {
   "cell_type": "code",
   "execution_count": null,
   "metadata": {
    "ExecuteTime": {
     "end_time": "2021-04-01T21:36:41.957885Z",
     "start_time": "2021-04-01T21:36:39.150Z"
    }
   },
   "outputs": [],
   "source": [
    "(free(x) - cluster(x))"
   ]
  },
  {
   "cell_type": "code",
   "execution_count": null,
   "metadata": {},
   "outputs": [],
   "source": []
  }
 ],
 "metadata": {
  "kernelspec": {
   "display_name": "Python 3",
   "language": "python",
   "name": "python3"
  },
  "language_info": {
   "codemirror_mode": {
    "name": "ipython",
    "version": 3
   },
   "file_extension": ".py",
   "mimetype": "text/x-python",
   "name": "python",
   "nbconvert_exporter": "python",
   "pygments_lexer": "ipython3",
   "version": "3.7.7"
  },
  "latex_envs": {
   "LaTeX_envs_menu_present": true,
   "autoclose": false,
   "autocomplete": true,
   "bibliofile": "biblio.bib",
   "cite_by": "apalike",
   "current_citInitial": 1,
   "eqLabelWithNumbers": true,
   "eqNumInitial": 1,
   "hotkeys": {
    "equation": "Ctrl-E",
    "itemize": "Ctrl-I"
   },
   "labels_anchors": false,
   "latex_user_defs": false,
   "report_style_numbering": false,
   "user_envs_cfg": false
  },
  "toc": {
   "base_numbering": 1,
   "nav_menu": {},
   "number_sections": true,
   "sideBar": true,
   "skip_h1_title": false,
   "title_cell": "Table of Contents",
   "title_sidebar": "Contents",
   "toc_cell": false,
   "toc_position": {
    "height": "calc(100% - 180px)",
    "left": "10px",
    "top": "150px",
    "width": "208.594px"
   },
   "toc_section_display": true,
   "toc_window_display": true
  },
  "varInspector": {
   "cols": {
    "lenName": 16,
    "lenType": 16,
    "lenVar": 40
   },
   "kernels_config": {
    "python": {
     "delete_cmd_postfix": "",
     "delete_cmd_prefix": "del ",
     "library": "var_list.py",
     "varRefreshCmd": "print(var_dic_list())"
    },
    "r": {
     "delete_cmd_postfix": ") ",
     "delete_cmd_prefix": "rm(",
     "library": "var_list.r",
     "varRefreshCmd": "cat(var_dic_list()) "
    }
   },
   "types_to_exclude": [
    "module",
    "function",
    "builtin_function_or_method",
    "instance",
    "_Feature"
   ],
   "window_display": false
  }
 },
 "nbformat": 4,
 "nbformat_minor": 2
}
