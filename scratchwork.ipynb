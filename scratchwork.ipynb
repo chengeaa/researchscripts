{
 "cells": [
  {
   "cell_type": "code",
   "execution_count": 1,
   "metadata": {
    "ExecuteTime": {
     "end_time": "2019-11-21T07:44:11.668228Z",
     "start_time": "2019-11-21T07:44:11.664266Z"
    }
   },
   "outputs": [],
   "source": [
    "import numpy as np"
   ]
  },
  {
   "cell_type": "markdown",
   "metadata": {},
   "source": [
    "# Water box generation"
   ]
  },
  {
   "cell_type": "markdown",
   "metadata": {},
   "source": [
    "Wolfram alpha query:\n",
    "https://www.wolframalpha.com/input/?i=%287.666+angstroms%29+*+%2822.981+angstroms%29+*+%285.85+angstroms%29+*+1+gram%2Fcm%5E3+*+%2818+g%2Fmol%29%5E%28-1%29+*+N_A\n"
   ]
  },
  {
   "cell_type": "markdown",
   "metadata": {},
   "source": [
    "For the box \n",
    "\n",
    "    22.980921000000000  000000000000000000  000000000000000000\n",
    "    -3.8301539999999998    6.6340209999999997    0.0000000000000000\n",
    "    000000000000000000  000000000000000000  5.8501700000000000\n",
    "\n",
    "the above query tells us we need 34.48 -> 34 water molecules"
   ]
  },
  {
   "cell_type": "code",
   "execution_count": 88,
   "metadata": {
    "ExecuteTime": {
     "end_time": "2019-11-21T09:14:40.533554Z",
     "start_time": "2019-11-21T09:14:40.513597Z"
    }
   },
   "outputs": [],
   "source": [
    "#generation parameters\n",
    "n = 34 #number of waters\n",
    "num_per_layer = 2\n",
    "correction = 1 # set to 1 if you miss a layer; otherwise, 0\n",
    "\n",
    "#reference water location\n",
    "initial_O = np.array([0.01, 0.01, 0.01]) \n",
    "initial_H1 = np.array([0.01, 0.01, 0.18]) \n",
    "initial_H2 = np.array([0.01, 0.14, 0.01]) \n",
    "\n",
    "#initialize ouptut lists\n",
    "O_output = np.array([])\n",
    "H_output = np.array([])\n",
    "\n",
    "#reference to a vector\n",
    "lowerlim = 0.16\n",
    "upperlim = 0.60 \n",
    "vacuum_height = 1 - (upperlim - lowerlim)\n",
    "\n",
    "#set spacings\n",
    "a_space = vacuum_height/(n / num_per_layer) #assume even n and 2 waters per layer\n",
    "b_space = 1/2 \n",
    "c_space = 1/4 \n",
    "\n",
    "for i in np.arange(int(1/a_space) + correction):\n",
    "    for j in np.arange(num_per_layer):\n",
    "        #offsets a and c locations in step, b location within the layer\n",
    "        if i * a_space < lowerlim or i * a_space > upperlim:\n",
    "            O_output = np.append(O_output, np.array(initial_O + np.array([i * a_space, j * b_space + i*c_space, i*c_space])))\n",
    "            O_output = np.append(O_output, np.array([\"  T\"]*3 ))\n",
    "            H_output = np.append(H_output, np.array(initial_H1 + np.array([i * a_space, j * b_space+ i*c_space, i*c_space])))\n",
    "            H_output = np.append(H_output, np.array([\"  T\"]*3 ))\n",
    "            H_output = np.append(H_output, np.array(initial_H2 + np.array([i * a_space, j * b_space+ i*c_space, i*c_space])))\n",
    "            H_output = np.append(H_output, np.array([\"  T\"]*3 ))\n",
    "O_output = O_output.reshape(-1, 6)\n",
    "H_output = H_output.reshape(-1, 6)"
   ]
  },
  {
   "cell_type": "code",
   "execution_count": 86,
   "metadata": {
    "ExecuteTime": {
     "end_time": "2019-11-21T09:13:19.745469Z",
     "start_time": "2019-11-21T09:13:19.739456Z"
    }
   },
   "outputs": [
    {
     "data": {
      "text/plain": [
       "(34, 6)"
      ]
     },
     "execution_count": 86,
     "metadata": {},
     "output_type": "execute_result"
    }
   ],
   "source": [
    "np.array(O_output, dtype = str).shape"
   ]
  },
  {
   "cell_type": "code",
   "execution_count": 87,
   "metadata": {
    "ExecuteTime": {
     "end_time": "2019-11-21T09:13:20.416046Z",
     "start_time": "2019-11-21T09:13:20.410026Z"
    }
   },
   "outputs": [],
   "source": [
    "np.savetxt(\"../o_test.txt\", O_output, fmt = \"%s\")"
   ]
  },
  {
   "cell_type": "code",
   "execution_count": 89,
   "metadata": {
    "ExecuteTime": {
     "end_time": "2019-11-21T09:15:02.093765Z",
     "start_time": "2019-11-21T09:15:02.088794Z"
    }
   },
   "outputs": [],
   "source": [
    "np.savetxt(\"../h_test.txt\", H_output, fmt = \"%s\")"
   ]
  },
  {
   "cell_type": "code",
   "execution_count": null,
   "metadata": {},
   "outputs": [],
   "source": []
  }
 ],
 "metadata": {
  "kernelspec": {
   "display_name": "Python 3",
   "language": "python",
   "name": "python3"
  },
  "language_info": {
   "codemirror_mode": {
    "name": "ipython",
    "version": 3
   },
   "file_extension": ".py",
   "mimetype": "text/x-python",
   "name": "python",
   "nbconvert_exporter": "python",
   "pygments_lexer": "ipython3",
   "version": "3.7.2"
  },
  "latex_envs": {
   "LaTeX_envs_menu_present": true,
   "autoclose": false,
   "autocomplete": true,
   "bibliofile": "biblio.bib",
   "cite_by": "apalike",
   "current_citInitial": 1,
   "eqLabelWithNumbers": true,
   "eqNumInitial": 1,
   "hotkeys": {
    "equation": "Ctrl-E",
    "itemize": "Ctrl-I"
   },
   "labels_anchors": false,
   "latex_user_defs": false,
   "report_style_numbering": false,
   "user_envs_cfg": false
  },
  "toc": {
   "base_numbering": 1,
   "nav_menu": {},
   "number_sections": true,
   "sideBar": true,
   "skip_h1_title": false,
   "title_cell": "Table of Contents",
   "title_sidebar": "Contents",
   "toc_cell": false,
   "toc_position": {},
   "toc_section_display": true,
   "toc_window_display": false
  },
  "varInspector": {
   "cols": {
    "lenName": 16,
    "lenType": 16,
    "lenVar": 40
   },
   "kernels_config": {
    "python": {
     "delete_cmd_postfix": "",
     "delete_cmd_prefix": "del ",
     "library": "var_list.py",
     "varRefreshCmd": "print(var_dic_list())"
    },
    "r": {
     "delete_cmd_postfix": ") ",
     "delete_cmd_prefix": "rm(",
     "library": "var_list.r",
     "varRefreshCmd": "cat(var_dic_list()) "
    }
   },
   "types_to_exclude": [
    "module",
    "function",
    "builtin_function_or_method",
    "instance",
    "_Feature"
   ],
   "window_display": false
  }
 },
 "nbformat": 4,
 "nbformat_minor": 2
}
