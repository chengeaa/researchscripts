{
 "cells": [
  {
   "cell_type": "markdown",
   "metadata": {},
   "source": [
    "# Dependencies"
   ]
  },
  {
   "cell_type": "markdown",
   "metadata": {
    "heading_collapsed": true
   },
   "source": [
    "## Imports"
   ]
  },
  {
   "cell_type": "code",
   "execution_count": 1,
   "metadata": {
    "ExecuteTime": {
     "end_time": "2020-05-17T06:44:08.148545Z",
     "start_time": "2020-05-17T06:44:06.858534Z"
    },
    "hidden": true
   },
   "outputs": [
    {
     "data": {
      "application/vnd.jupyter.widget-view+json": {
       "model_id": "cf9950b00bc64a5b829579766a5492e9",
       "version_major": 2,
       "version_minor": 0
      },
      "text/plain": [
       "_ColormakerRegistry()"
      ]
     },
     "metadata": {},
     "output_type": "display_data"
    }
   ],
   "source": [
    "# imports \n",
    "# base python\n",
    "import os\n",
    "import copy\n",
    "from sys import getsizeof\n",
    "\n",
    "# scipy\n",
    "import numpy as np\n",
    "import pandas as pd\n",
    "import matplotlib.pyplot as plt\n",
    "import seaborn as sns\n",
    "from pathlib import Path\n",
    "from scipy.optimize import curve_fit\n",
    "from scipy.interpolate import interp1d, interp2d\n",
    "from sklearn import preprocessing\n",
    "import matplotlib.tri as tri\n",
    "\n",
    "plt.rcParams[\"figure.figsize\"] = (20,7)\n",
    "\n",
    "#ase\n",
    "from ase.io import gen, vasp, xyz, extxyz, dftb\n",
    "from ase.io.dftb import read_dftb_velocities, write_dftb_velocities\n",
    "from ase.calculators.dftb import Dftb\n",
    "from ase import Atoms, Atom\n",
    "from ase.constraints import FixAtoms\n",
    "from ase.visualize import view\n",
    "from ase.build import make_supercell\n",
    "from ase.visualize.plot import plot_atoms\n",
    "from ase.build import add_adsorbate\n",
    "import nglview\n",
    "from ase.geometry.analysis import Analysis\n",
    "\n",
    "#dscribe\n",
    "from dscribe.descriptors import SOAP\n",
    "from dscribe.descriptors import MBTR\n",
    "from dscribe.kernels import REMatchKernel\n",
    "from dscribe.kernels import AverageKernel\n",
    "\n",
    "from sklearn import preprocessing\n",
    "\n",
    "\n",
    "#quippy \n",
    "from ase.build import bulk\n",
    "from ase.optimize import LBFGS\n",
    "from ase.visualize import view\n",
    "from quippy.potential import Potential\n",
    "\n",
    "\n",
    "#misc\n",
    "import similaritymeasures\n"
   ]
  },
  {
   "cell_type": "markdown",
   "metadata": {
    "heading_collapsed": true
   },
   "source": [
    "## Functions"
   ]
  },
  {
   "cell_type": "code",
   "execution_count": 2,
   "metadata": {
    "ExecuteTime": {
     "end_time": "2020-05-17T06:44:08.165004Z",
     "start_time": "2020-05-17T06:44:08.151129Z"
    },
    "hidden": true
   },
   "outputs": [],
   "source": [
    "def show_atoms_grid(data, rotation = '-0x,0y,0z', save= False, filename = 'grid_configs'):\n",
    "    '''\n",
    "    Where data is list of Atoms objects\n",
    "    '''\n",
    "    dim = int(np.ceil(np.sqrt(len(data))))\n",
    "    fig, axarr = plt.subplots(dim, dim, figsize=(25, 25))\n",
    "    for i, config in enumerate(data):\n",
    "        plot_atoms(config, axarr[i%dim,i//dim], rotation = rotation)\n",
    "    if save:\n",
    "        fig.savefig(filename + \".png\")\n",
    "        \n",
    "def normalize(y,x):\n",
    "    \"\"\"\n",
    "    Takes y, x of data and returns normalized y\n",
    "    \"\"\"\n",
    "    return y/np.trapz(y,x)\n",
    "\n",
    "def KE(v_tot):\n",
    "    \"Returns KE of Ar+ in eV given total velocity\"\n",
    "    return 6.24E18 * 0.5 * 1.66E-27*39.95*(v_tot*1E5)**2\n",
    "\n",
    "def v_from_KE(E):\n",
    "    \"Returns v(z) of Ar+ in eV given KE\"\n",
    "    return np.sqrt(E/(6.24E18 * 0.5 * 1.66E-27*39.95))/1E5"
   ]
  },
  {
   "cell_type": "markdown",
   "metadata": {
    "heading_collapsed": true
   },
   "source": [
    "## Structures"
   ]
  },
  {
   "cell_type": "code",
   "execution_count": 3,
   "metadata": {
    "ExecuteTime": {
     "end_time": "2020-05-17T06:44:08.188256Z",
     "start_time": "2020-05-17T06:44:08.166646Z"
    },
    "hidden": true
   },
   "outputs": [],
   "source": [
    "mef = vasp.read_vasp(\"reference_files/CONTCAR_mef\")\n",
    "cf4 = vasp.read_vasp(\"reference_files/CONTCAR_cf4\")\n",
    "amorphous = vasp.read_vasp(\"reference_files/CONTCAR_amorphous_cubic\")\n",
    "xtl_n = vasp.read_vasp(\"reference_files/CONTCAR_nrich\")\n",
    "xtl_si = vasp.read_vasp(\"reference_files/CONTCAR_sirich\")\n",
    "xtl_si_fterm = vasp.read_vasp(\"reference_files/CONTCAR_sirich_fterm\")\n",
    "xtl2x2 = gen.read_gen(\"reference_files/2x2xtl.gen\")\n",
    "heavy_bomb = vasp.read_vasp(\"reference_files/CONTCAR_heavy_bombard\")"
   ]
  },
  {
   "cell_type": "markdown",
   "metadata": {},
   "source": [
    "# Fitting "
   ]
  },
  {
   "cell_type": "code",
   "execution_count": null,
   "metadata": {
    "ExecuteTime": {
     "end_time": "2020-05-17T06:47:48.631487Z",
     "start_time": "2020-05-17T06:44:06.976Z"
    }
   },
   "outputs": [],
   "source": [
    "def show_atoms_grid(data, rotation = '-0x,0y,0z', save= False, filename = 'grid_configs'):\n",
    "    '''\n",
    "    Where data is list of Atoms objects\n",
    "    '''\n",
    "    dim = int(np.ceil(np.sqrt(len(data))))\n",
    "    fig, axarr = plt.subplots(dim, dim, figsize=(25, 25))\n",
    "    for i, config in enumerate(data):\n",
    "        plot_atoms(config, axarr[i%dim,i//dim], rotation = rotation)\n",
    "    if save:\n",
    "        fig.savefig(filename + \".png\")\n",
    "        \n",
    "def normalize(y,x):\n",
    "    \"\"\"\n",
    "    Takes y, x of data and returns normalized y\n",
    "    \"\"\"\n",
    "    return y/np.trapz(y,x)\n",
    "\n",
    "def KE(v_tot):\n",
    "    \"Returns KE of Ar+ in eV given total velocity\"\n",
    "    return 6.24E18 * 0.5 * 1.66E-27*39.95*(v_tot*1E5)**2\n",
    "\n",
    "def v_from_KE(E):\n",
    "    \"Returns v(z) of Ar+ in eV given KE\"\n",
    "    return np.sqrt(E/(6.24E18 * 0.5 * 1.66E-27*39.95))/1E5dimers = [Atoms(\"2Si\", positions=[[0,0,0], [x, 0,0]]) for x in np.linspace(1.6,6,100)]\n",
    "\n",
    "dimer_curve = []\n",
    "for dim in dimers:\n",
    "    dim.set_calculator(gap)\n",
    "    dimer_curve.append(dim.get_potential_energy())\n",
    "plt.plot([dim.positions[1,0] for dim in dimers], np.array(dimer_curve)/2.0)\n",
    "plt.show()"
   ]
  },
  {
   "cell_type": "code",
   "execution_count": null,
   "metadata": {
    "ExecuteTime": {
     "end_time": "2020-05-17T06:47:48.632159Z",
     "start_time": "2020-05-17T06:44:06.980Z"
    }
   },
   "outputs": [],
   "source": [
    "def show_atoms_grid(data, rotation = '-0x,0y,0z', save= False, filename = 'grid_configs'):\n",
    "    '''\n",
    "    Where data is list of Atoms objects\n",
    "    '''\n",
    "    dim = int(np.ceil(np.sqrt(len(data))))\n",
    "    fig, axarr = plt.subplots(dim, dim, figsize=(25, 25))\n",
    "    for i, config in enumerate(data):\n",
    "        plot_atoms(config, axarr[i%dim,i//dim], rotation = rotation)\n",
    "    if save:\n",
    "        fig.savefig(filename + \".png\")\n",
    "        \n",
    "def normalize(y,x):\n",
    "    \"\"\"\n",
    "    Takes y, x of data and returns normalized y\n",
    "    \"\"\"\n",
    "    return y/np.trapz(y,x)\n",
    "\n",
    "def KE(v_tot):\n",
    "    \"Returns KE of Ar+ in eV given total velocity\"\n",
    "    return 6.24E18 * 0.5 * 1.66E-27*39.95*(v_tot*1E5)**2\n",
    "\n",
    "def v_from_KE(E):\n",
    "    \"Returns v(z) of Ar+ in eV given KE\"\n",
    "    return np.sqrt(E/(6.24E18 * 0.5 * 1.66E-27*39.95))/1E5"
   ]
  },
  {
   "cell_type": "code",
   "execution_count": null,
   "metadata": {
    "ExecuteTime": {
     "end_time": "2020-05-17T06:47:48.632159Z",
     "start_time": "2020-05-17T06:44:06.980Z"
    }
   },
   "outputs": [],
   "source": [
    "!/home/erik/QUIP/build/linux_x86_64_gfortran/gap_fit at_file=/tmp/atoms_db1.xyz \\\n",
    "gap={distance_Nb order=2 \\\n",
    "                 cutoff=5.0 \\\n",
    "                 covariance_type=ARD_SE \\\n",
    "                 theta_uniform=1.0 \\\n",
    "                 n_sparse=15 \\\n",
    "                 delta=1.0:\\\n",
    "     distance_Nb order=3 \\\n",
    "                 cutoff=4.0 \\\n",
    "                 covariance_type=ARD_SE \\\n",
    "                 theta_uniform=1.0 \\\n",
    "                 n_sparse=50 \\\n",
    "                 delta=0.004:\\\n",
    "     soap cutoff=4.0 \\\n",
    "          covariance_type=dot_product \\\n",
    "          zeta=2 \\\n",
    "          delta=0.016 \\\n",
    "          atom_sigma=0.7 \\\n",
    "          l_max=6 \\\n",
    "          n_max=6 \\\n",
    "          n_sparse=200 \\\n",
    "          sparse_method=cur_points} \\\n",
    "e0=-29.716948405885105 \\\n",
    "default_sigma={0.001 0.5 0.0 0.0} \\\n",
    "do_copy_at_file=F sparse_separate_file=F \\\n",
    "gp_file=/tmp/gap_2b3bsoap.xml 2>&1 | grep -v FoX"
   ]
  },
  {
   "cell_type": "code",
   "execution_count": null,
   "metadata": {
    "ExecuteTime": {
     "end_time": "2020-05-17T06:47:48.632775Z",
     "start_time": "2020-05-17T06:44:06.984Z"
    }
   },
   "outputs": [],
   "source": [
    "def show_atoms_grid(data, rotation = '-0x,0y,0z', save= False, filename = 'grid_configs'):\n",
    "    '''\n",
    "    Where data is list of Atoms objects\n",
    "    '''\n",
    "    dim = int(np.ceil(np.sqrt(len(data))))\n",
    "    fig, axarr = plt.subplots(dim, dim, figsize=(25, 25))\n",
    "    for i, config in enumerate(data):\n",
    "        plot_atoms(config, axarr[i%dim,i//dim], rotation = rotation)\n",
    "    if save:\n",
    "        fig.savefig(filename + \".png\")\n",
    "        \n",
    "def normalize(y,x):\n",
    "    \"\"\"\n",
    "    Takes y, x of data and returns normalized y\n",
    "    \"\"\"\n",
    "    return y/np.trapz(y,x)\n",
    "\n",
    "def KE(v_tot):\n",
    "    \"Returns KE of Ar+ in eV given total velocity\"\n",
    "    return 6.24E18 * 0.5 * 1.66E-27*39.95*(v_tot*1E5)**2\n",
    "\n",
    "def v_from_KE(E):\n",
    "    \"Returns v(z) of Ar+ in eV given KE\"\n",
    "    return np.sqrt(E/(6.24E18 * 0.5 * 1.66E-27*39.95))/1E5\n",
    "gap_energies = []\n",
    "for at in db:\n",
    "    a = at.copy()\n",
    "    a.set_calculator(gap_soap)\n",
    "    gap_energies.append(a.get_potential_energy())"
   ]
  },
  {
   "cell_type": "code",
   "execution_count": null,
   "metadata": {
    "ExecuteTime": {
     "end_time": "2020-05-17T06:47:48.633526Z",
     "start_time": "2020-05-17T06:44:06.991Z"
    }
   },
   "outputs": [],
   "source": [
    "np.sqrt(sum((np.array(qm_energies)/Natoms - np.array(gap_energies)/Natoms)**2)/len(gap_energies))"
   ]
  },
  {
   "cell_type": "code",
   "execution_count": null,
   "metadata": {
    "ExecuteTime": {
     "end_time": "2020-05-17T06:47:48.634154Z",
     "start_time": "2020-05-17T06:44:06.995Z"
    }
   },
   "outputs": [],
   "source": [
    "from scipy import stats\n",
    "sorted_energies = np.array(sorted(zip(qm_energies, gap_energies), key = lambda x: x[0]))\n",
    "slope, intercept, r_value, p_value, std_err = stats.linregress(\n",
    "    np.array(sorted_energies[:,0])/Natoms, np.array(sorted_energies[:,1])/Natoms\n",
    ")"
   ]
  },
  {
   "cell_type": "code",
   "execution_count": null,
   "metadata": {
    "ExecuteTime": {
     "end_time": "2020-05-17T06:47:48.635244Z",
     "start_time": "2020-05-17T06:44:06.999Z"
    }
   },
   "outputs": [],
   "source": [
    "plt.scatter(np.array(qm_energies)/Natoms, np.array(gap_energies)/Natoms)\n",
    "plt.plot(np.array(sorted_energies[:,0])/Natoms, np.array(sorted_energies[:, 0])/Natoms * slope + intercept, \n",
    "         label = \"slope = %.2f, fit = %.2f\" % (round(slope, 5), round(r_value, 5)))\n",
    "plt.xlabel(\"TB energies\")\n",
    "plt.ylabel(\"GAP energies\")\n",
    "# plt.xlim([-34.78, -34.775])\n",
    "plt.legend()\n",
    "plt.show()"
   ]
  },
  {
   "cell_type": "code",
   "execution_count": null,
   "metadata": {
    "ExecuteTime": {
     "end_time": "2020-05-17T06:47:48.636416Z",
     "start_time": "2020-05-17T06:44:07.004Z"
    }
   },
   "outputs": [],
   "source": [
    "#attach gap calculator\n",
    "atoms.set_calculator(gap_soap)\n",
    "from ase.md.langevin import Langevin\n",
    "\n",
    "timestep = 1.0 * units.fs\n",
    "T = 1000\n",
    "\n",
    "# Thermalize atoms\n",
    "# MaxwellBoltzmannDistribution(atoms, 2.0* T * units.kB)\n",
    "\n",
    "# dynamics = VelocityVerlet(atoms, timestep)\n",
    "dynamics = Langevin(atoms, timestep, T * units.kB, 0.002)\n",
    "\n",
    "dynamics.attach(print_status, interval=10)\n",
    "dynamics.attach(print_energy, interval=10)\n",
    "dynamics.run(steps=100)"
   ]
  },
  {
   "cell_type": "code",
   "execution_count": null,
   "metadata": {},
   "outputs": [],
   "source": []
  }
 ],
 "metadata": {
  "kernelspec": {
   "display_name": "Python 3",
   "language": "python",
   "name": "python3"
  },
  "language_info": {
   "codemirror_mode": {
    "name": "ipython",
    "version": 3
   },
   "file_extension": ".py",
   "mimetype": "text/x-python",
   "name": "python",
   "nbconvert_exporter": "python",
   "pygments_lexer": "ipython3",
   "version": "3.7.7"
  },
  "toc": {
   "base_numbering": 1,
   "nav_menu": {},
   "number_sections": true,
   "sideBar": true,
   "skip_h1_title": false,
   "title_cell": "Table of Contents",
   "title_sidebar": "Contents",
   "toc_cell": false,
   "toc_position": {},
   "toc_section_display": true,
   "toc_window_display": false
  }
 },
 "nbformat": 4,
 "nbformat_minor": 4
}
