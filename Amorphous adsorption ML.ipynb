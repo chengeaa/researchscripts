{
 "cells": [
  {
   "cell_type": "code",
   "execution_count": 1,
   "metadata": {
    "ExecuteTime": {
     "end_time": "2020-12-17T22:13:28.107374Z",
     "start_time": "2020-12-17T22:13:27.252176Z"
    }
   },
   "outputs": [
    {
     "data": {
      "application/vnd.jupyter.widget-view+json": {
       "model_id": "20b1f5f538124d548a0723daf40a2f20",
       "version_major": 2,
       "version_minor": 0
      },
      "text/plain": [
       "_ColormakerRegistry()"
      ]
     },
     "metadata": {},
     "output_type": "display_data"
    }
   ],
   "source": [
    "from dependencies import *"
   ]
  },
  {
   "cell_type": "markdown",
   "metadata": {},
   "source": [
    "# Preprocess data"
   ]
  },
  {
   "cell_type": "markdown",
   "metadata": {},
   "source": [
    "Read in geometries"
   ]
  },
  {
   "cell_type": "code",
   "execution_count": 256,
   "metadata": {
    "ExecuteTime": {
     "end_time": "2020-11-20T00:30:14.127666Z",
     "start_time": "2020-11-20T00:30:12.526005Z"
    }
   },
   "outputs": [],
   "source": [
    "np.random.seed(429)\n",
    "\n",
    "data = readStructs(\"../adsorb_amorphous/\", -196.0817, -16828.7803) #MeF, amorphous slab, DFTB\n",
    "data['processed'] = [\n",
    "    convertAdsorbateToHe(i, 370, np.arange(370, 375)) for i in data['geom']\n",
    "]\n",
    "\n",
    "# for struct in data['processed']:\n",
    "#     struct[-1].position[2] += np.random.normal(scale = 0.5) # add a bit of noise to z coord; reduce overfitting\n",
    "\n",
    "data = pd.concat([data, getSOAPs(data['processed'])], axis = 1)\n",
    "\n",
    "originalColumns = data.columns\n",
    "\n",
    "data = pd.concat([pd.DataFrame(data['SOAP'].to_list(), index = data.index), data], axis = 1)"
   ]
  },
  {
   "cell_type": "markdown",
   "metadata": {},
   "source": [
    "Independent test data:"
   ]
  },
  {
   "cell_type": "code",
   "execution_count": 5,
   "metadata": {
    "ExecuteTime": {
     "end_time": "2020-11-15T11:41:56.597144Z",
     "start_time": "2020-11-15T11:41:56.591040Z"
    },
    "code_folding": [
     0
    ],
    "scrolled": true
   },
   "outputs": [],
   "source": [
    "# data2 = readStructs(\"../adsorb_amorphous2/\", -196.0817, -16286.2542) #MeF, amorphous slab 2, DFTB\n",
    "\n",
    "# data2['processed'] = [\n",
    "#     convertAdsorbateToHe(i, 355, np.arange(355, 360)) for i in data2['geom']\n",
    "# ]\n",
    "\n",
    "# data2 = pd.concat([data2, getSOAPs(data2['processed'])], axis = 1)\n",
    "\n",
    "# originalColumns = data2.columns\n",
    "\n",
    "# data2 = pd.concat([pd.DataFrame(data2['SOAP'].to_list(), index = data2.index), data2], axis = 1)"
   ]
  },
  {
   "cell_type": "markdown",
   "metadata": {
    "heading_collapsed": true
   },
   "source": [
    "# Visualize data"
   ]
  },
  {
   "cell_type": "markdown",
   "metadata": {
    "hidden": true
   },
   "source": [
    "Summarize data:"
   ]
  },
  {
   "cell_type": "code",
   "execution_count": 5,
   "metadata": {
    "ExecuteTime": {
     "end_time": "2020-11-17T18:51:36.874996Z",
     "start_time": "2020-11-17T18:51:36.857660Z"
    },
    "hidden": true,
    "scrolled": false
   },
   "outputs": [
    {
     "data": {
      "text/plain": [
       "count    93.000000\n",
       "mean      0.409439\n",
       "std       0.814419\n",
       "min      -0.458600\n",
       "25%      -0.180300\n",
       "50%      -0.122800\n",
       "75%       1.495000\n",
       "max       1.621400\n",
       "Name: E_ads, dtype: float64"
      ]
     },
     "execution_count": 5,
     "metadata": {},
     "output_type": "execute_result"
    }
   ],
   "source": [
    "data[\"E_ads\"].describe()"
   ]
  },
  {
   "cell_type": "code",
   "execution_count": 20,
   "metadata": {
    "ExecuteTime": {
     "end_time": "2020-11-17T19:46:43.899608Z",
     "start_time": "2020-11-17T19:46:43.828636Z"
    },
    "hidden": true,
    "scrolled": true
   },
   "outputs": [
    {
     "data": {
      "text/html": [
       "<div>\n",
       "<style scoped>\n",
       "    .dataframe tbody tr th:only-of-type {\n",
       "        vertical-align: middle;\n",
       "    }\n",
       "\n",
       "    .dataframe tbody tr th {\n",
       "        vertical-align: top;\n",
       "    }\n",
       "\n",
       "    .dataframe thead th {\n",
       "        text-align: right;\n",
       "    }\n",
       "</style>\n",
       "<table border=\"1\" class=\"dataframe\">\n",
       "  <thead>\n",
       "    <tr style=\"text-align: right;\">\n",
       "      <th></th>\n",
       "      <th>E</th>\n",
       "      <th>geom</th>\n",
       "      <th>E_ads</th>\n",
       "      <th>processed</th>\n",
       "      <th>SOAP</th>\n",
       "    </tr>\n",
       "  </thead>\n",
       "  <tbody>\n",
       "    <tr>\n",
       "      <th>6</th>\n",
       "      <td>-17025.2714</td>\n",
       "      <td>(Atom('H', [5.687816897, 11.8095906, 0.4501787...</td>\n",
       "      <td>-0.4094</td>\n",
       "      <td>(Atom('H', [5.687816897, 11.8095906, 0.4501787...</td>\n",
       "      <td>[8.0048074e-10, -6.624648e-09, 3.145716e-08, -...</td>\n",
       "    </tr>\n",
       "    <tr>\n",
       "      <th>24</th>\n",
       "      <td>-17025.3206</td>\n",
       "      <td>(Atom('H', [5.687816897, 11.8095906, 0.4501787...</td>\n",
       "      <td>-0.4586</td>\n",
       "      <td>(Atom('H', [5.687816897, 11.8095906, 0.4501787...</td>\n",
       "      <td>[2.6356706e-09, -1.5346345e-08, 3.7105632e-08,...</td>\n",
       "    </tr>\n",
       "  </tbody>\n",
       "</table>\n",
       "</div>"
      ],
      "text/plain": [
       "             E                                               geom   E_ads  \\\n",
       "6  -17025.2714  (Atom('H', [5.687816897, 11.8095906, 0.4501787... -0.4094   \n",
       "24 -17025.3206  (Atom('H', [5.687816897, 11.8095906, 0.4501787... -0.4586   \n",
       "\n",
       "                                            processed  \\\n",
       "6   (Atom('H', [5.687816897, 11.8095906, 0.4501787...   \n",
       "24  (Atom('H', [5.687816897, 11.8095906, 0.4501787...   \n",
       "\n",
       "                                                 SOAP  \n",
       "6   [8.0048074e-10, -6.624648e-09, 3.145716e-08, -...  \n",
       "24  [2.6356706e-09, -1.5346345e-08, 3.7105632e-08,...  "
      ]
     },
     "execution_count": 20,
     "metadata": {},
     "output_type": "execute_result"
    }
   ],
   "source": [
    "data.loc[data['E_ads'] < -0.4, originalColumns]"
   ]
  },
  {
   "cell_type": "code",
   "execution_count": 28,
   "metadata": {
    "ExecuteTime": {
     "end_time": "2020-11-17T19:51:49.098804Z",
     "start_time": "2020-11-17T19:51:49.092756Z"
    },
    "hidden": true
   },
   "outputs": [
    {
     "data": {
      "text/plain": [
       "0      False\n",
       "1      False\n",
       "2      False\n",
       "3       True\n",
       "4      False\n",
       "       ...  \n",
       "102     True\n",
       "103    False\n",
       "104    False\n",
       "105    False\n",
       "106    False\n",
       "Name: E_ads, Length: 93, dtype: bool"
      ]
     },
     "execution_count": 28,
     "metadata": {},
     "output_type": "execute_result"
    }
   ],
   "source": [
    "np.bitwise_and(data['E_ads'] < 0 , data['E_ads'] > -0.1)"
   ]
  },
  {
   "cell_type": "code",
   "execution_count": 35,
   "metadata": {
    "ExecuteTime": {
     "end_time": "2020-11-17T20:20:13.326182Z",
     "start_time": "2020-11-17T20:20:13.310092Z"
    },
    "hidden": true
   },
   "outputs": [],
   "source": [
    "view(data.loc[np.bitwise_and(data['E_ads'] < 0, data['E_ads'] < -0.4), 'geom'])"
   ]
  },
  {
   "cell_type": "code",
   "execution_count": 37,
   "metadata": {
    "ExecuteTime": {
     "end_time": "2020-11-17T20:28:20.224592Z",
     "start_time": "2020-11-17T20:28:20.205873Z"
    },
    "hidden": true
   },
   "outputs": [],
   "source": [
    "view(data.loc[6, 'geom'])"
   ]
  },
  {
   "cell_type": "code",
   "execution_count": 33,
   "metadata": {
    "ExecuteTime": {
     "end_time": "2020-11-17T20:09:25.090588Z",
     "start_time": "2020-11-17T20:09:25.069729Z"
    },
    "hidden": true
   },
   "outputs": [],
   "source": [
    "view(gen.read_gen('../adsorb_amorphous/output3.gen'))"
   ]
  },
  {
   "cell_type": "code",
   "execution_count": 34,
   "metadata": {
    "ExecuteTime": {
     "end_time": "2020-11-17T20:20:03.414197Z",
     "start_time": "2020-11-17T20:20:03.374128Z"
    },
    "hidden": true
   },
   "outputs": [
    {
     "data": {
      "text/html": [
       "<div>\n",
       "<style scoped>\n",
       "    .dataframe tbody tr th:only-of-type {\n",
       "        vertical-align: middle;\n",
       "    }\n",
       "\n",
       "    .dataframe tbody tr th {\n",
       "        vertical-align: top;\n",
       "    }\n",
       "\n",
       "    .dataframe thead th {\n",
       "        text-align: right;\n",
       "    }\n",
       "</style>\n",
       "<table border=\"1\" class=\"dataframe\">\n",
       "  <thead>\n",
       "    <tr style=\"text-align: right;\">\n",
       "      <th></th>\n",
       "      <th>E</th>\n",
       "      <th>geom</th>\n",
       "      <th>E_ads</th>\n",
       "      <th>processed</th>\n",
       "      <th>SOAP</th>\n",
       "    </tr>\n",
       "  </thead>\n",
       "  <tbody>\n",
       "    <tr>\n",
       "      <th>6</th>\n",
       "      <td>-17025.2714</td>\n",
       "      <td>(Atom('H', [5.687816897, 11.8095906, 0.4501787...</td>\n",
       "      <td>-0.4094</td>\n",
       "      <td>(Atom('H', [5.687816897, 11.8095906, 0.4501787...</td>\n",
       "      <td>[8.0048074e-10, -6.624648e-09, 3.145716e-08, -...</td>\n",
       "    </tr>\n",
       "    <tr>\n",
       "      <th>24</th>\n",
       "      <td>-17025.3206</td>\n",
       "      <td>(Atom('H', [5.687816897, 11.8095906, 0.4501787...</td>\n",
       "      <td>-0.4586</td>\n",
       "      <td>(Atom('H', [5.687816897, 11.8095906, 0.4501787...</td>\n",
       "      <td>[2.6356706e-09, -1.5346345e-08, 3.7105632e-08,...</td>\n",
       "    </tr>\n",
       "  </tbody>\n",
       "</table>\n",
       "</div>"
      ],
      "text/plain": [
       "             E                                               geom   E_ads  \\\n",
       "6  -17025.2714  (Atom('H', [5.687816897, 11.8095906, 0.4501787... -0.4094   \n",
       "24 -17025.3206  (Atom('H', [5.687816897, 11.8095906, 0.4501787... -0.4586   \n",
       "\n",
       "                                            processed  \\\n",
       "6   (Atom('H', [5.687816897, 11.8095906, 0.4501787...   \n",
       "24  (Atom('H', [5.687816897, 11.8095906, 0.4501787...   \n",
       "\n",
       "                                                 SOAP  \n",
       "6   [8.0048074e-10, -6.624648e-09, 3.145716e-08, -...  \n",
       "24  [2.6356706e-09, -1.5346345e-08, 3.7105632e-08,...  "
      ]
     },
     "execution_count": 34,
     "metadata": {},
     "output_type": "execute_result"
    }
   ],
   "source": [
    "(data.loc[np.bitwise_and(data['E_ads'] < 0, data['E_ads'] < -0.4), originalColumns])"
   ]
  },
  {
   "cell_type": "markdown",
   "metadata": {
    "heading_collapsed": true
   },
   "source": [
    "# Adaptive sampling?"
   ]
  },
  {
   "cell_type": "markdown",
   "metadata": {},
   "source": [
    "# Train"
   ]
  },
  {
   "cell_type": "markdown",
   "metadata": {},
   "source": [
    "For now, just remove points that have positive adsorption energy "
   ]
  },
  {
   "cell_type": "code",
   "execution_count": 257,
   "metadata": {
    "ExecuteTime": {
     "end_time": "2020-11-20T00:30:18.472477Z",
     "start_time": "2020-11-20T00:30:18.447967Z"
    },
    "scrolled": true
   },
   "outputs": [],
   "source": [
    "from sklearn.model_selection import train_test_split\n",
    "validData = data['E_ads'] < 0\n",
    "X_train = data.loc[validData, ~np.isin(data.columns, originalColumns)]\n",
    "y_train = data.loc[validData, 'E_ads']\n",
    "# X_train, X_test, y_train, y_test = train_test_split(\n",
    "#     data.loc[validData, ~np.isin(data.columns, originalColumns)], \n",
    "#     data.loc[validData, 'E_ads'], random_state = 429)\n",
    "# print(\"# points total: %d; #train points: %d; #test points: %d\" % \n",
    "#       (sum(validData), len(X_train), len(X_test)))"
   ]
  },
  {
   "cell_type": "markdown",
   "metadata": {},
   "source": [
    "Run KRR with grid CV search"
   ]
  },
  {
   "cell_type": "code",
   "execution_count": 258,
   "metadata": {
    "ExecuteTime": {
     "end_time": "2020-11-20T00:30:22.613831Z",
     "start_time": "2020-11-20T00:30:20.719509Z"
    }
   },
   "outputs": [
    {
     "data": {
      "text/plain": [
       "GridSearchCV(cv=5, error_score=nan,\n",
       "             estimator=KernelRidge(alpha=1, coef0=1, degree=3, gamma=None,\n",
       "                                   kernel='linear', kernel_params=None),\n",
       "             iid='deprecated', n_jobs=None,\n",
       "             param_grid=[{'alpha': array([1.00000000e-10, 1.45634848e-10, 2.12095089e-10, 3.08884360e-10,\n",
       "       4.49843267e-10, 6.55128557e-10, 9.54095476e-10, 1.38949549e-09,\n",
       "       2.02358965e-09, 2.94705170e-09, 4.29193426e-09,...\n",
       "       1.67683294e-05, 2.44205309e-05, 3.55648031e-05, 5.17947468e-05,\n",
       "       7.54312006e-05, 1.09854114e-04, 1.59985872e-04, 2.32995181e-04,\n",
       "       3.39322177e-04, 4.94171336e-04, 7.19685673e-04, 1.04811313e-03,\n",
       "       1.52641797e-03, 2.22299648e-03, 3.23745754e-03, 4.71486636e-03,\n",
       "       6.86648845e-03, 1.00000000e-02])}],\n",
       "             pre_dispatch='2*n_jobs', refit=True, return_train_score=False,\n",
       "             scoring=None, verbose=0)"
      ]
     },
     "execution_count": 258,
     "metadata": {},
     "output_type": "execute_result"
    }
   ],
   "source": [
    "alphas = np.logspace(-10, -2, 50)\n",
    "krr = KernelRidge()  # gamma automatically set by sklearn.metrics.pairwise.rbf_kernel\n",
    "Emodel = GridSearchCV(krr, [{\"alpha\":alphas}], cv = 5)\n",
    "Emodel.fit(np.array(X_train), np.array(y_train))"
   ]
  },
  {
   "cell_type": "markdown",
   "metadata": {},
   "source": [
    "Optimal model result:"
   ]
  },
  {
   "cell_type": "code",
   "execution_count": 259,
   "metadata": {
    "ExecuteTime": {
     "end_time": "2020-11-20T00:30:24.219779Z",
     "start_time": "2020-11-20T00:30:24.211972Z"
    }
   },
   "outputs": [
    {
     "data": {
      "text/plain": [
       "{'alpha': 1.6768329368110066e-05}"
      ]
     },
     "execution_count": 259,
     "metadata": {},
     "output_type": "execute_result"
    }
   ],
   "source": [
    "Emodel.best_params_"
   ]
  },
  {
   "cell_type": "code",
   "execution_count": 260,
   "metadata": {
    "ExecuteTime": {
     "end_time": "2020-11-20T00:30:35.990130Z",
     "start_time": "2020-11-20T00:30:35.973743Z"
    }
   },
   "outputs": [],
   "source": [
    "# with open('Emodel.pkl', 'wb') as f:\n",
    "#     pickle.dump(Emodel, f)"
   ]
  },
  {
   "cell_type": "markdown",
   "metadata": {
    "heading_collapsed": true
   },
   "source": [
    "## Optimizing SOAP"
   ]
  },
  {
   "cell_type": "code",
   "execution_count": 10,
   "metadata": {
    "ExecuteTime": {
     "end_time": "2020-11-15T11:42:15.780856Z",
     "start_time": "2020-11-15T11:42:15.763432Z"
    },
    "hidden": true
   },
   "outputs": [],
   "source": [
    "def predictZs(slabs):\n",
    "    bareslab = slabs[0].copy()\n",
    "    del bareslab[-1]\n",
    "    \n",
    "    testZstructs = []\n",
    "    \n",
    "    for slab in slabs:\n",
    "        x, y, z = slab[-1].position\n",
    "        maxz = 0\n",
    "        for atom in slab:\n",
    "            if atom.symbol == \"He\": # don't use He position to determine max Z position \n",
    "                continue\n",
    "            _x, _y, _z = atom.position\n",
    "            if ((x - _x)**2 + (y - _y)**2) ** 0.5 < 2.2:\n",
    "                if _z > maxz:\n",
    "                    maxz = _z\n",
    "\n",
    "        newstruct = bareslab.copy()\n",
    "        newheight = maxz + 2.5 #mean height from test; \n",
    "        # see https://docs.google.com/presentation/d/13NdBmWkxwG0ZvL7BgYsGo-x-3CzZp8JymnF8yTitdCg/edit#slide=id.ga11af18809_0_13\n",
    "\n",
    "        newstruct.append(Atom(\"He\", position = (x, y, newheight)))\n",
    "        testZstructs += [newstruct]    \n",
    "        \n",
    "    return testZstructs\n",
    "# predictZs(data['processed']) == testZstructs"
   ]
  },
  {
   "cell_type": "code",
   "execution_count": 58,
   "metadata": {
    "ExecuteTime": {
     "end_time": "2020-11-11T04:19:00.754734Z",
     "start_time": "2020-11-11T04:11:49.342609Z"
    },
    "code_folding": [],
    "hidden": true,
    "scrolled": false
   },
   "outputs": [
    {
     "name": "stdout",
     "output_type": "stream",
     "text": [
      "0.0012777788752003972 5.0 0.1 0.5\n",
      "0.0022917501414224735 5.00000001 0.1 0.5\n",
      "0.00050135852914354 5.0 0.10000001 0.5\n",
      "5.5357097479043675e-05 5.0 0.1 0.50000001\n",
      "6.144074524486362e-05 4.999972378585766 0.6361456999627331 1.3441254572920593\n",
      "0.016283310356580274 4.999972388585766 0.6361456999627331 1.3441254572920593\n",
      "0.005245694457853478 4.999972378585766 0.6361457099627331 1.3441254572920593\n",
      "0.030477123300663975 4.999972378585766 0.6361456999627331 1.3441254672920593\n",
      "0.0167471184476662 4.9999840133755065 0.41030851304173477 0.9885599483334109\n",
      "0.018630920060651708 4.999984023375506 0.41030851304173477 0.9885599483334109\n",
      "0.023372309054812933 4.9999840133755065 0.41030852304173476 0.9885599483334109\n",
      "0.02558383158889533 4.9999840133755065 0.41030851304173477 0.9885599583334109\n",
      "0.014844434049679122 4.999990854991042 0.2775092754973011 0.7794764526940281\n",
      "0.030761909149031326 4.999990864991042 0.2775092754973011 0.7794764526940281\n",
      "0.041217915481462725 4.999990854991042 0.2775092854973011 0.7794764526940281\n",
      "0.01678766368550265 4.999990854991042 0.2775092754973011 0.7794764626940281\n",
      "0.02650726901425363 4.999994736872841 0.20215997524470192 0.6608440314384199\n",
      "0.022381643806121215 4.999994746872841 0.20215997524470192 0.6608440314384199\n",
      "0.04785993555493118 4.999994736872841 0.2021599852447019 0.6608440314384199\n",
      "0.03748028113017489 4.999994736872841 0.20215997524470192 0.6608440414384199\n",
      "0.03187855745153468 4.9999969610274535 0.15898800290842327 0.5928726555734368\n",
      "0.014785646552866953 4.999996971027453 0.15898800290842327 0.5928726555734368\n",
      "0.009678126027878401 4.9999969610274535 0.15898801290842327 0.5928726555734368\n",
      "0.01122279930316618 4.9999969610274535 0.15898800290842327 0.5928726655734369\n",
      "0.01500258999145565 4.9999999293844795 0.10137068318037114 0.5021580487664338\n",
      "0.015633168517655054 4.999999939384479 0.10137068318037114 0.5021580487664338\n",
      "0.007897473116171009 4.9999999293844795 0.10137069318037113 0.5021580487664338\n",
      "0.006355008085508966 4.9999999293844795 0.10137068318037114 0.5021580587664338\n",
      "0.00014401441688403812 4.999999996052367 0.10007662556446462 0.500120641813687\n",
      "0.0026962828092978934 5.000000006052367 0.10007662556446462 0.500120641813687\n",
      "0.0014701046525335214 4.999999996052367 0.10007663556446461 0.500120641813687\n",
      "0.003382432887195345 4.999999996052367 0.10007662556446462 0.500120651813687\n",
      "0.0016457765391578506 4.999999997846535 0.1000417998507583 0.500065811062438\n",
      "0.003348945314141183 5.000000007846535 0.1000417998507583 0.500065811062438\n",
      "0.0025569791553132623 4.999999997846535 0.10004180985075829 0.500065811062438\n",
      "0.006216035787445939 4.999999997846535 0.1000417998507583 0.500065821062438\n",
      "0.0002739124561395911 4.999999998807383 0.1000231492946869 0.5000364470123791\n",
      "0.0018333573596102325 5.000000008807383 0.1000231492946869 0.5000364470123791\n",
      "0.01080238011655427 4.999999998807383 0.1000231592946869 0.5000364470123791\n",
      "0.026807951920152107 4.999999998807383 0.1000231492946869 0.5000364570123792\n",
      "0.028535736811574945 4.999999999309766 0.10001339778314518 0.5000210939112725\n",
      "0.036795418715705824 5.000000009309766 0.10001339778314518 0.5000210939112725\n",
      "0.02444732479030929 4.999999999309766 0.10001340778314517 0.5000210939112725\n",
      "0.015778256427164225 4.999999999309766 0.10001339778314518 0.5000211039112725\n",
      "0.01575229900373077 4.999999999966307 0.10000065400428453 0.5000010296858965\n",
      "0.011211804366837323 5.000000009966307 0.10000065400428453 0.5000010296858965\n",
      "0.002152757948681276 4.999999999966307 0.10000066400428452 0.5000010296858965\n",
      "0.0009174867344182048 4.999999999966307 0.10000065400428453 0.5000010396858966\n",
      "0.006198548811656253 4.9999999999988916 0.10000002152064541 0.5000000338828133\n",
      "0.007427021416670124 5.0000000099988915 0.10000002152064541 0.5000000338828133\n",
      "0.020676635507794423 4.9999999999988916 0.1000000315206454 0.5000000338828133\n",
      "0.02486545007319547 4.9999999999988916 0.10000002152064541 0.5000000438828134\n",
      "0.024733341301648705 4.999999999999509 0.10000000953944298 0.5000000150192133\n",
      "0.022739934831349846 5.000000009999509 0.10000000953944298 0.5000000150192133\n",
      "0.01837755808088968 4.999999999999509 0.10000001953944297 0.5000000150192133\n",
      "0.024264388786456426 4.999999999999509 0.10000000953944298 0.5000000250192134\n",
      "0.028148236175674444 4.999999999999992 0.10000000015183415 0.5000000002390527\n",
      "0.014035246178597542 5.000000009999992 0.10000000015183415 0.5000000002390527\n",
      "0.02001215374637792 4.999999999999992 0.10000001015183414 0.5000000002390527\n",
      "0.007400979237987689 4.999999999999992 0.10000000015183415 0.5000000102390527\n",
      "0.005545445359605416 5.0 0.10000000000003831 0.5000000000000603\n",
      "0.00018662084539702306 5.00000001 0.10000000000003831 0.5000000000000603\n",
      "0.0011808145202263512 5.0 0.1000000100000383 0.5000000000000603\n",
      "0.00032994983809283933 5.0 0.10000000000003831 0.5000000100000603\n",
      "0.009503349526237473 5.0 0.1 0.5\n",
      "0.013831206286996493 5.00000001 0.1 0.5\n",
      "0.013324679603495445 5.0 0.10000001 0.5\n",
      "0.010532575433137717 5.0 0.1 0.50000001\n",
      "0.0122880677444788 5.0 0.1 0.5\n",
      "0.011566942284734042 5.00000001 0.1 0.5\n",
      "0.009826698397674723 5.0 0.10000001 0.5\n",
      "0.007707975915656225 5.0 0.1 0.50000001\n",
      "0.009842652443744389 5.0 0.1 0.5\n",
      "0.0006891011063551389 5.00000001 0.1 0.5\n",
      "0.0015912175314608608 5.0 0.10000001 0.5\n",
      "0.008571782510469342 5.0 0.1 0.50000001\n"
     ]
    }
   ],
   "source": [
    "from scipy.optimize import minimize\n",
    "from sklearn.model_selection import train_test_split\n",
    "from sklearn.kernel_ridge import KernelRidge\n",
    "from sklearn.model_selection import GridSearchCV\n",
    "\n",
    "def f(args, data):\n",
    "    np.random.seed(429)\n",
    "#     rcut,nmax,lmax,sigma, scale = args\n",
    "#     nmax = int(nmax)\n",
    "#     lmax = int(lmax)\n",
    "    rcut, sigma, scale = args\n",
    "    nmax = 10\n",
    "    lmax = 9\n",
    "    for struct in data['processed']:\n",
    "        struct[-1].position[2] += np.random.normal(scale = scale) # add a bit of noise to z coord; reduce overfitting\n",
    "\n",
    "    data = pd.concat([data, getSOAPs(data['processed'], \n",
    "                                     rcut = rcut, \n",
    "                                     nmax = nmax, \n",
    "                                     lmax = lmax, \n",
    "                                     sigma = sigma\n",
    "                                    )], axis = 1)\n",
    "\n",
    "    originalColumns = data.columns\n",
    "\n",
    "    data = pd.concat([pd.DataFrame(data['SOAP'].to_list(), index = data.index), data], axis = 1)\n",
    "\n",
    "    validData = data['E_ads'] < 0\n",
    "\n",
    "    #train KRR on whole dataset\n",
    "    X_train = data.loc[validData, ~np.isin(data.columns, originalColumns)] \n",
    "    Y_train = data.loc[validData, 'E_ads']\n",
    "#     print(X_train, Y_train)\n",
    "\n",
    "    alphas = np.logspace(-10, -2, 50)\n",
    "    krr = KernelRidge()  # gamma automatically set by sklearn.metrics.pairwise.rbf_kernel\n",
    "    model = GridSearchCV(krr, [{\"alpha\":alphas}], cv = 5, n_jobs = 4)\n",
    "    model.fit(np.array(X_train), np.array(Y_train))\n",
    "\n",
    "    # generate the 'noisy/test' data\n",
    "    newdata = data[originalColumns]\n",
    "    newdata = newdata.drop('SOAP', axis = 1)\n",
    "    newdata['testZstructs'] = predictZs(data['processed'])\n",
    "    newdata = pd.concat([newdata, \n",
    "                         getSOAPs(newdata['testZstructs'],\n",
    "                                  rcut = rcut,\n",
    "                                  nmax = nmax, \n",
    "                                  lmax = lmax,\n",
    "                                  sigma = sigma\n",
    "                                 )], axis = 1)\n",
    "    newdata = newdata[newdata[\"E_ads\"] < 0] # filter valid structs\n",
    "    newX = pd.DataFrame(newdata['SOAP'].to_list(), index = newdata.index)\n",
    "\n",
    "    newdata['testEads'] = model.predict(newX)\n",
    "    newdata['errors'] = newdata['E_ads'] - newdata['testEads']\n",
    "    print(np.abs(np.mean(newdata['errors'])), rcut, sigma, scale)\n",
    "\n",
    "    return np.abs(np.mean(newdata['errors']))\n",
    "\n",
    "mydata = readStructs(\"../adsorb_amorphous/\", -196.0817, -16828.7803) #MeF, amorphous slab, DFTB\n",
    "mydata['processed'] = [\n",
    "    convertAdsorbateToHe(i, 370, np.arange(370, 375)) for i in mydata['geom']\n",
    "]\n",
    "\n",
    "# guesses = [5, 10, 9, .1, 0.5]\n",
    "guesses = [5, .1, 0.5]\n",
    "bounds = [(1, None),\n",
    "          (0, None),\n",
    "          (0, None)\n",
    "]\n",
    "result = minimize(f, x0 = guesses, args = (mydata), bounds = bounds)"
   ]
  },
  {
   "cell_type": "code",
   "execution_count": 49,
   "metadata": {
    "ExecuteTime": {
     "end_time": "2020-11-11T03:59:40.060026Z",
     "start_time": "2020-11-11T03:59:40.053483Z"
    },
    "hidden": true
   },
   "outputs": [
    {
     "data": {
      "text/plain": [
       "array([5. , 0.1, 0.5])"
      ]
     },
     "execution_count": 49,
     "metadata": {},
     "output_type": "execute_result"
    }
   ],
   "source": [
    "result.x"
   ]
  },
  {
   "cell_type": "code",
   "execution_count": 55,
   "metadata": {
    "ExecuteTime": {
     "end_time": "2020-11-11T04:06:27.041883Z",
     "start_time": "2020-11-11T04:06:21.059934Z"
    },
    "hidden": true
   },
   "outputs": [
    {
     "name": "stdout",
     "output_type": "stream",
     "text": [
      "0.002346843025654266 5 0.1 0.5\n"
     ]
    },
    {
     "data": {
      "text/plain": [
       "0.002346843025654266"
      ]
     },
     "execution_count": 55,
     "metadata": {},
     "output_type": "execute_result"
    }
   ],
   "source": [
    "data = readStructs(\"../adsorb_amorphous/\", -196.0817, -16828.7803) #MeF, amorphous slab, DFTB\n",
    "data['processed'] = [\n",
    "    convertAdsorbateToHe(i, 370, np.arange(370, 375)) for i in data['geom']\n",
    "]\n",
    "f([5, .1, 0.5],data)"
   ]
  },
  {
   "cell_type": "code",
   "execution_count": 56,
   "metadata": {
    "ExecuteTime": {
     "end_time": "2020-11-11T04:06:50.346903Z",
     "start_time": "2020-11-11T04:06:45.233818Z"
    },
    "hidden": true
   },
   "outputs": [
    {
     "name": "stdout",
     "output_type": "stream",
     "text": [
      "0.00394504982176187 5 0.1 0.5\n"
     ]
    },
    {
     "data": {
      "text/plain": [
       "0.00394504982176187"
      ]
     },
     "execution_count": 56,
     "metadata": {},
     "output_type": "execute_result"
    }
   ],
   "source": [
    "f([5, .1, 0.5],data)"
   ]
  },
  {
   "cell_type": "markdown",
   "metadata": {
    "heading_collapsed": true
   },
   "source": [
    "# Assess"
   ]
  },
  {
   "cell_type": "code",
   "execution_count": 9,
   "metadata": {
    "ExecuteTime": {
     "end_time": "2020-11-17T19:12:38.568658Z",
     "start_time": "2020-11-17T19:12:38.180413Z"
    },
    "hidden": true,
    "scrolled": false
   },
   "outputs": [
    {
     "ename": "NameError",
     "evalue": "name 'y_test' is not defined",
     "output_type": "error",
     "traceback": [
      "\u001b[0;31m---------------------------------------------------------------------------\u001b[0m",
      "\u001b[0;31mNameError\u001b[0m                                 Traceback (most recent call last)",
      "\u001b[0;32m<ipython-input-9-97ccb434680f>\u001b[0m in \u001b[0;36m<module>\u001b[0;34m\u001b[0m\n\u001b[1;32m     13\u001b[0m \u001b[0mplt\u001b[0m\u001b[0;34m.\u001b[0m\u001b[0mylabel\u001b[0m\u001b[0;34m(\u001b[0m\u001b[0;34m\"predicted energy (eV)\"\u001b[0m\u001b[0;34m)\u001b[0m\u001b[0;34m\u001b[0m\u001b[0;34m\u001b[0m\u001b[0m\n\u001b[1;32m     14\u001b[0m \u001b[0mplt\u001b[0m\u001b[0;34m.\u001b[0m\u001b[0mxlabel\u001b[0m\u001b[0;34m(\u001b[0m\u001b[0;34m\"calculated energy (eV)\"\u001b[0m\u001b[0;34m)\u001b[0m\u001b[0;34m\u001b[0m\u001b[0;34m\u001b[0m\u001b[0m\n\u001b[0;32m---> 15\u001b[0;31m \u001b[0mplt\u001b[0m\u001b[0;34m.\u001b[0m\u001b[0mscatter\u001b[0m\u001b[0;34m(\u001b[0m\u001b[0my_test\u001b[0m\u001b[0;34m,\u001b[0m \u001b[0mmodel\u001b[0m\u001b[0;34m.\u001b[0m\u001b[0mpredict\u001b[0m\u001b[0;34m(\u001b[0m\u001b[0mX_test\u001b[0m\u001b[0;34m)\u001b[0m\u001b[0;34m)\u001b[0m\u001b[0;34m\u001b[0m\u001b[0;34m\u001b[0m\u001b[0m\n\u001b[0m\u001b[1;32m     16\u001b[0m \u001b[0mplt\u001b[0m\u001b[0;34m.\u001b[0m\u001b[0mplot\u001b[0m\u001b[0;34m(\u001b[0m\u001b[0mlineparams\u001b[0m\u001b[0;34m,\u001b[0m \u001b[0mlineparams\u001b[0m\u001b[0;34m)\u001b[0m\u001b[0;34m;\u001b[0m\u001b[0;34m\u001b[0m\u001b[0;34m\u001b[0m\u001b[0m\n",
      "\u001b[0;31mNameError\u001b[0m: name 'y_test' is not defined"
     ]
    },
    {
     "data": {
      "image/png": "[encoded data removed]",
      "text/plain": [
       "<Figure size 720x720 with 2 Axes>"
      ]
     },
     "metadata": {
      "needs_background": "light"
     },
     "output_type": "display_data"
    }
   ],
   "source": [
    "plt.subplots(2, 1, figsize = (10, 10))\n",
    "\n",
    "plt.subplot(211)\n",
    "plt.title('train')\n",
    "plt.ylabel(\"predicted energy (eV)\")\n",
    "plt.xlabel(\"calculated energy (eV)\")\n",
    "train_predict = model.predict(X_train)\n",
    "plt.scatter(y_train, train_predict)\n",
    "lineparams = [min(y_train), max(y_train)]\n",
    "plt.plot(lineparams, lineparams)\n",
    "plt.subplot(212)\n",
    "plt.title(\"test\")\n",
    "plt.ylabel(\"predicted energy (eV)\")\n",
    "plt.xlabel(\"calculated energy (eV)\")\n",
    "plt.scatter(y_test, model.predict(X_test))\n",
    "plt.plot(lineparams, lineparams);"
   ]
  },
  {
   "cell_type": "markdown",
   "metadata": {
    "hidden": true
   },
   "source": [
    "## Plot residuals\n",
    "\n",
    "Considering the true model should simply be y = x, we can plot residuals and assess MAE easily:"
   ]
  },
  {
   "cell_type": "code",
   "execution_count": 10,
   "metadata": {
    "ExecuteTime": {
     "end_time": "2020-11-17T19:12:42.722043Z",
     "start_time": "2020-11-17T19:12:42.707405Z"
    },
    "hidden": true
   },
   "outputs": [],
   "source": [
    "train_errs = y_train - model.predict(X_train)"
   ]
  },
  {
   "cell_type": "code",
   "execution_count": 11,
   "metadata": {
    "ExecuteTime": {
     "end_time": "2020-11-17T19:12:43.270641Z",
     "start_time": "2020-11-17T19:12:43.240316Z"
    },
    "hidden": true
   },
   "outputs": [
    {
     "ename": "NameError",
     "evalue": "name 'y_test' is not defined",
     "output_type": "error",
     "traceback": [
      "\u001b[0;31m---------------------------------------------------------------------------\u001b[0m",
      "\u001b[0;31mNameError\u001b[0m                                 Traceback (most recent call last)",
      "\u001b[0;32m<ipython-input-11-9ffb56fc289c>\u001b[0m in \u001b[0;36m<module>\u001b[0;34m\u001b[0m\n\u001b[0;32m----> 1\u001b[0;31m \u001b[0mtest_errs\u001b[0m \u001b[0;34m=\u001b[0m \u001b[0my_test\u001b[0m \u001b[0;34m-\u001b[0m \u001b[0mmodel\u001b[0m\u001b[0;34m.\u001b[0m\u001b[0mpredict\u001b[0m\u001b[0;34m(\u001b[0m\u001b[0mX_test\u001b[0m\u001b[0;34m)\u001b[0m\u001b[0;34m\u001b[0m\u001b[0;34m\u001b[0m\u001b[0m\n\u001b[0m",
      "\u001b[0;31mNameError\u001b[0m: name 'y_test' is not defined"
     ]
    }
   ],
   "source": [
    "test_errs = y_test - model.predict(X_test)"
   ]
  },
  {
   "cell_type": "code",
   "execution_count": 12,
   "metadata": {
    "ExecuteTime": {
     "end_time": "2020-11-17T19:12:44.354263Z",
     "start_time": "2020-11-17T19:12:44.077108Z"
    },
    "hidden": true
   },
   "outputs": [
    {
     "ename": "NameError",
     "evalue": "name 'y_test' is not defined",
     "output_type": "error",
     "traceback": [
      "\u001b[0;31m---------------------------------------------------------------------------\u001b[0m",
      "\u001b[0;31mNameError\u001b[0m                                 Traceback (most recent call last)",
      "\u001b[0;32m<ipython-input-12-7a1dc045dcaa>\u001b[0m in \u001b[0;36m<module>\u001b[0;34m\u001b[0m\n\u001b[1;32m      7\u001b[0m \u001b[0mplt\u001b[0m\u001b[0;34m.\u001b[0m\u001b[0mtitle\u001b[0m\u001b[0;34m(\u001b[0m\u001b[0;34m\"KRR residuals, test\"\u001b[0m\u001b[0;34m)\u001b[0m\u001b[0;34m\u001b[0m\u001b[0;34m\u001b[0m\u001b[0m\n\u001b[1;32m      8\u001b[0m \u001b[0mplt\u001b[0m\u001b[0;34m.\u001b[0m\u001b[0mhlines\u001b[0m\u001b[0;34m(\u001b[0m\u001b[0;36m0\u001b[0m\u001b[0;34m,\u001b[0m \u001b[0;34m*\u001b[0m\u001b[0mlineparams\u001b[0m\u001b[0;34m)\u001b[0m\u001b[0;34m\u001b[0m\u001b[0;34m\u001b[0m\u001b[0m\n\u001b[0;32m----> 9\u001b[0;31m \u001b[0mplt\u001b[0m\u001b[0;34m.\u001b[0m\u001b[0mscatter\u001b[0m\u001b[0;34m(\u001b[0m\u001b[0my_test\u001b[0m\u001b[0;34m,\u001b[0m \u001b[0mtest_errs\u001b[0m\u001b[0;34m)\u001b[0m\u001b[0;34m;\u001b[0m\u001b[0;34m\u001b[0m\u001b[0;34m\u001b[0m\u001b[0m\n\u001b[0m",
      "\u001b[0;31mNameError\u001b[0m: name 'y_test' is not defined"
     ]
    },
    {
     "data": {
      "image/png": "[encoded data removed]",
      "text/plain": [
       "<Figure size 720x720 with 2 Axes>"
      ]
     },
     "metadata": {
      "needs_background": "light"
     },
     "output_type": "display_data"
    }
   ],
   "source": [
    "plt.subplots(2, 1, figsize = (10, 10))\n",
    "plt.subplot(211)\n",
    "plt.title(\"KRR residuals, train\")\n",
    "plt.scatter(y_train, train_errs);\n",
    "plt.hlines(0, *lineparams)\n",
    "plt.subplot(212)\n",
    "plt.title(\"KRR residuals, test\")\n",
    "plt.hlines(0, *lineparams)\n",
    "plt.scatter(y_test, test_errs);"
   ]
  },
  {
   "cell_type": "code",
   "execution_count": 13,
   "metadata": {
    "ExecuteTime": {
     "end_time": "2020-11-17T19:12:48.246326Z",
     "start_time": "2020-11-17T19:12:48.227412Z"
    },
    "hidden": true
   },
   "outputs": [
    {
     "ename": "NameError",
     "evalue": "name 'test_errs' is not defined",
     "output_type": "error",
     "traceback": [
      "\u001b[0;31m---------------------------------------------------------------------------\u001b[0m",
      "\u001b[0;31mNameError\u001b[0m                                 Traceback (most recent call last)",
      "\u001b[0;32m<ipython-input-13-91a2c9dbccef>\u001b[0m in \u001b[0;36m<module>\u001b[0;34m\u001b[0m\n\u001b[1;32m      2\u001b[0m \u001b[0mMAE\u001b[0m \u001b[0mtest\u001b[0m \u001b[0;34m(\u001b[0m\u001b[0meV\u001b[0m\u001b[0;34m)\u001b[0m\u001b[0;34m:\u001b[0m \u001b[0;34m%\u001b[0m\u001b[0mf\u001b[0m\u001b[0;31m\"\u001b[0m \u001b[0;34m%\u001b[0m\u001b[0;34m\u001b[0m\u001b[0;34m\u001b[0m\u001b[0m\n\u001b[1;32m      3\u001b[0m       (np.mean(np.abs(train_errs)),\n\u001b[0;32m----> 4\u001b[0;31m        \u001b[0mnp\u001b[0m\u001b[0;34m.\u001b[0m\u001b[0mmean\u001b[0m\u001b[0;34m(\u001b[0m\u001b[0mnp\u001b[0m\u001b[0;34m.\u001b[0m\u001b[0mabs\u001b[0m\u001b[0;34m(\u001b[0m\u001b[0mtest_errs\u001b[0m\u001b[0;34m)\u001b[0m\u001b[0;34m)\u001b[0m\u001b[0;34m\u001b[0m\u001b[0;34m\u001b[0m\u001b[0m\n\u001b[0m\u001b[1;32m      5\u001b[0m       ))\n",
      "\u001b[0;31mNameError\u001b[0m: name 'test_errs' is not defined"
     ]
    }
   ],
   "source": [
    "print(\"MAE train (eV): %f \\n\\\n",
    "MAE test (eV): %f\" % \n",
    "      (np.mean(np.abs(train_errs)),\n",
    "       np.mean(np.abs(test_errs))\n",
    "      ))"
   ]
  },
  {
   "cell_type": "code",
   "execution_count": 14,
   "metadata": {
    "ExecuteTime": {
     "end_time": "2020-11-17T19:12:48.564671Z",
     "start_time": "2020-11-17T19:12:48.550941Z"
    },
    "hidden": true
   },
   "outputs": [
    {
     "ename": "NameError",
     "evalue": "name 'test_errs' is not defined",
     "output_type": "error",
     "traceback": [
      "\u001b[0;31m---------------------------------------------------------------------------\u001b[0m",
      "\u001b[0;31mNameError\u001b[0m                                 Traceback (most recent call last)",
      "\u001b[0;32m<ipython-input-14-f57749f7faff>\u001b[0m in \u001b[0;36m<module>\u001b[0;34m\u001b[0m\n\u001b[1;32m      2\u001b[0m \u001b[0mRelative\u001b[0m \u001b[0mabsolute\u001b[0m \u001b[0merror\u001b[0m \u001b[0mtest\u001b[0m \u001b[0;34m(\u001b[0m\u001b[0meV\u001b[0m\u001b[0;34m)\u001b[0m\u001b[0;34m:\u001b[0m \u001b[0;34m%\u001b[0m\u001b[0mf\u001b[0m\u001b[0;31m\"\u001b[0m \u001b[0;34m%\u001b[0m\u001b[0;34m\u001b[0m\u001b[0;34m\u001b[0m\u001b[0m\n\u001b[1;32m      3\u001b[0m       (np.mean(np.abs(train_errs))/np.abs(np.mean(y_train)),\n\u001b[0;32m----> 4\u001b[0;31m        \u001b[0mnp\u001b[0m\u001b[0;34m.\u001b[0m\u001b[0mmean\u001b[0m\u001b[0;34m(\u001b[0m\u001b[0mnp\u001b[0m\u001b[0;34m.\u001b[0m\u001b[0mabs\u001b[0m\u001b[0;34m(\u001b[0m\u001b[0mtest_errs\u001b[0m\u001b[0;34m)\u001b[0m\u001b[0;34m/\u001b[0m\u001b[0mnp\u001b[0m\u001b[0;34m.\u001b[0m\u001b[0mabs\u001b[0m\u001b[0;34m(\u001b[0m\u001b[0mnp\u001b[0m\u001b[0;34m.\u001b[0m\u001b[0mmean\u001b[0m\u001b[0;34m(\u001b[0m\u001b[0my_test\u001b[0m\u001b[0;34m)\u001b[0m\u001b[0;34m)\u001b[0m\u001b[0;34m)\u001b[0m\u001b[0;34m\u001b[0m\u001b[0;34m\u001b[0m\u001b[0m\n\u001b[0m\u001b[1;32m      5\u001b[0m       ))\n",
      "\u001b[0;31mNameError\u001b[0m: name 'test_errs' is not defined"
     ]
    }
   ],
   "source": [
    "print(\"Relative absolute error train (eV): %f \\n\\\n",
    "Relative absolute error test (eV): %f\" % \n",
    "      (np.mean(np.abs(train_errs))/np.abs(np.mean(y_train)),\n",
    "       np.mean(np.abs(test_errs)/np.abs(np.mean(y_test)))\n",
    "      ))"
   ]
  },
  {
   "cell_type": "markdown",
   "metadata": {
    "heading_collapsed": true
   },
   "source": [
    "# Apply"
   ]
  },
  {
   "cell_type": "markdown",
   "metadata": {
    "hidden": true
   },
   "source": [
    "Obtain the bare slab:"
   ]
  },
  {
   "cell_type": "code",
   "execution_count": 15,
   "metadata": {
    "ExecuteTime": {
     "end_time": "2020-11-15T11:42:37.753714Z",
     "start_time": "2020-11-15T11:42:37.739372Z"
    },
    "hidden": true
   },
   "outputs": [],
   "source": [
    "bareslab = data['processed'][0].copy()\n",
    "del bareslab[[atom.symbol == 'He' for atom in bareslab]]\n",
    "view(bareslab)"
   ]
  },
  {
   "cell_type": "markdown",
   "metadata": {
    "hidden": true
   },
   "source": [
    "Try to predict z coordinate based on (x,y) position, using rule based method:"
   ]
  },
  {
   "cell_type": "code",
   "execution_count": 79,
   "metadata": {
    "ExecuteTime": {
     "end_time": "2020-11-11T04:54:19.093023Z",
     "start_time": "2020-11-11T04:54:10.845826Z"
    },
    "code_folding": [],
    "hidden": true
   },
   "outputs": [
    {
     "ename": "KeyboardInterrupt",
     "evalue": "",
     "output_type": "error",
     "traceback": [
      "\u001b[0;31m---------------------------------------------------------------------------\u001b[0m",
      "\u001b[0;31mKeyboardInterrupt\u001b[0m                         Traceback (most recent call last)",
      "\u001b[0;32m<ipython-input-79-87af98e7a600>\u001b[0m in \u001b[0;36m<module>\u001b[0;34m\u001b[0m\n\u001b[1;32m      7\u001b[0m         \u001b[0mmaxz\u001b[0m \u001b[0;34m=\u001b[0m \u001b[0;36m0\u001b[0m\u001b[0;34m\u001b[0m\u001b[0;34m\u001b[0m\u001b[0m\n\u001b[1;32m      8\u001b[0m         \u001b[0;32mfor\u001b[0m \u001b[0matom\u001b[0m \u001b[0;32min\u001b[0m \u001b[0mslab\u001b[0m\u001b[0;34m:\u001b[0m\u001b[0;34m\u001b[0m\u001b[0;34m\u001b[0m\u001b[0m\n\u001b[0;32m----> 9\u001b[0;31m             \u001b[0;32mif\u001b[0m \u001b[0matom\u001b[0m\u001b[0;34m.\u001b[0m\u001b[0msymbol\u001b[0m \u001b[0;34m==\u001b[0m \u001b[0;34m\"He\"\u001b[0m\u001b[0;34m:\u001b[0m \u001b[0;31m# don't use He position to determine max Z position\u001b[0m\u001b[0;34m\u001b[0m\u001b[0;34m\u001b[0m\u001b[0m\n\u001b[0m\u001b[1;32m     10\u001b[0m                 \u001b[0;32mcontinue\u001b[0m\u001b[0;34m\u001b[0m\u001b[0;34m\u001b[0m\u001b[0m\n\u001b[1;32m     11\u001b[0m             \u001b[0m_x\u001b[0m\u001b[0;34m,\u001b[0m \u001b[0m_y\u001b[0m\u001b[0;34m,\u001b[0m \u001b[0m_z\u001b[0m \u001b[0;34m=\u001b[0m \u001b[0matom\u001b[0m\u001b[0;34m.\u001b[0m\u001b[0mposition\u001b[0m\u001b[0;34m\u001b[0m\u001b[0;34m\u001b[0m\u001b[0m\n",
      "\u001b[0;32m~/miniconda3/lib/python3.7/site-packages/ase/atom.py\u001b[0m in \u001b[0;36mgetter\u001b[0;34m(self)\u001b[0m\n\u001b[1;32m     20\u001b[0m \u001b[0;34m\u001b[0m\u001b[0m\n\u001b[1;32m     21\u001b[0m     \u001b[0;32mdef\u001b[0m \u001b[0mgetter\u001b[0m\u001b[0;34m(\u001b[0m\u001b[0mself\u001b[0m\u001b[0;34m)\u001b[0m\u001b[0;34m:\u001b[0m\u001b[0;34m\u001b[0m\u001b[0;34m\u001b[0m\u001b[0m\n\u001b[0;32m---> 22\u001b[0;31m         \u001b[0;32mreturn\u001b[0m \u001b[0mself\u001b[0m\u001b[0;34m.\u001b[0m\u001b[0mget\u001b[0m\u001b[0;34m(\u001b[0m\u001b[0mname\u001b[0m\u001b[0;34m)\u001b[0m\u001b[0;34m\u001b[0m\u001b[0;34m\u001b[0m\u001b[0m\n\u001b[0m\u001b[1;32m     23\u001b[0m \u001b[0;34m\u001b[0m\u001b[0m\n\u001b[1;32m     24\u001b[0m     \u001b[0;32mdef\u001b[0m \u001b[0msetter\u001b[0m\u001b[0;34m(\u001b[0m\u001b[0mself\u001b[0m\u001b[0;34m,\u001b[0m \u001b[0mvalue\u001b[0m\u001b[0;34m)\u001b[0m\u001b[0;34m:\u001b[0m\u001b[0;34m\u001b[0m\u001b[0;34m\u001b[0m\u001b[0m\n",
      "\u001b[0;32m~/miniconda3/lib/python3.7/site-packages/ase/atom.py\u001b[0m in \u001b[0;36mget\u001b[0;34m(self, name)\u001b[0m\n\u001b[1;32m    144\u001b[0m     \u001b[0;32mdef\u001b[0m \u001b[0mget\u001b[0m\u001b[0;34m(\u001b[0m\u001b[0mself\u001b[0m\u001b[0;34m,\u001b[0m \u001b[0mname\u001b[0m\u001b[0;34m)\u001b[0m\u001b[0;34m:\u001b[0m\u001b[0;34m\u001b[0m\u001b[0;34m\u001b[0m\u001b[0m\n\u001b[1;32m    145\u001b[0m         \u001b[0;34m\"\"\"Get name attribute, return default if not explicitely set.\"\"\"\u001b[0m\u001b[0;34m\u001b[0m\u001b[0;34m\u001b[0m\u001b[0m\n\u001b[0;32m--> 146\u001b[0;31m         \u001b[0mvalue\u001b[0m \u001b[0;34m=\u001b[0m \u001b[0mself\u001b[0m\u001b[0;34m.\u001b[0m\u001b[0mget_raw\u001b[0m\u001b[0;34m(\u001b[0m\u001b[0mname\u001b[0m\u001b[0;34m)\u001b[0m\u001b[0;34m\u001b[0m\u001b[0;34m\u001b[0m\u001b[0m\n\u001b[0m\u001b[1;32m    147\u001b[0m         \u001b[0;32mif\u001b[0m \u001b[0mvalue\u001b[0m \u001b[0;32mis\u001b[0m \u001b[0;32mNone\u001b[0m\u001b[0;34m:\u001b[0m\u001b[0;34m\u001b[0m\u001b[0;34m\u001b[0m\u001b[0m\n\u001b[1;32m    148\u001b[0m             \u001b[0;32mif\u001b[0m \u001b[0mname\u001b[0m \u001b[0;34m==\u001b[0m \u001b[0;34m'mass'\u001b[0m\u001b[0;34m:\u001b[0m\u001b[0;34m\u001b[0m\u001b[0;34m\u001b[0m\u001b[0m\n",
      "\u001b[0;32m~/miniconda3/lib/python3.7/site-packages/ase/atom.py\u001b[0m in \u001b[0;36mget_raw\u001b[0;34m(self, name)\u001b[0m\n\u001b[1;32m    131\u001b[0m         \u001b[0;34m\"\"\"Get name attribute, return None if not explicitely set.\"\"\"\u001b[0m\u001b[0;34m\u001b[0m\u001b[0;34m\u001b[0m\u001b[0m\n\u001b[1;32m    132\u001b[0m         \u001b[0;32mif\u001b[0m \u001b[0mname\u001b[0m \u001b[0;34m==\u001b[0m \u001b[0;34m'symbol'\u001b[0m\u001b[0;34m:\u001b[0m\u001b[0;34m\u001b[0m\u001b[0;34m\u001b[0m\u001b[0m\n\u001b[0;32m--> 133\u001b[0;31m             \u001b[0;32mreturn\u001b[0m \u001b[0mchemical_symbols\u001b[0m\u001b[0;34m[\u001b[0m\u001b[0mself\u001b[0m\u001b[0;34m.\u001b[0m\u001b[0mget_raw\u001b[0m\u001b[0;34m(\u001b[0m\u001b[0;34m'number'\u001b[0m\u001b[0;34m)\u001b[0m\u001b[0;34m]\u001b[0m\u001b[0;34m\u001b[0m\u001b[0;34m\u001b[0m\u001b[0m\n\u001b[0m\u001b[1;32m    134\u001b[0m \u001b[0;34m\u001b[0m\u001b[0m\n\u001b[1;32m    135\u001b[0m         \u001b[0;32mif\u001b[0m \u001b[0mself\u001b[0m\u001b[0;34m.\u001b[0m\u001b[0matoms\u001b[0m \u001b[0;32mis\u001b[0m \u001b[0;32mNone\u001b[0m\u001b[0;34m:\u001b[0m\u001b[0;34m\u001b[0m\u001b[0;34m\u001b[0m\u001b[0m\n",
      "\u001b[0;31mKeyboardInterrupt\u001b[0m: "
     ]
    }
   ],
   "source": [
    "# find optimal rcut\n",
    "stds = []\n",
    "for searchR in np.arange(0, 4, 0.1):\n",
    "    errors = []\n",
    "    for slab in data['processed']:\n",
    "        x, y, z = slab[-1].position\n",
    "        maxz = 0\n",
    "        for atom in slab:\n",
    "            if atom.symbol == \"He\": # don't use He position to determine max Z position \n",
    "                continue\n",
    "            _x, _y, _z = atom.position\n",
    "            if ((x - _x)**2 + (y - _y)**2) ** 0.5 < searchR:\n",
    "                if _z > maxz:\n",
    "                    maxz = _z\n",
    "\n",
    "        errors += [z - maxz]\n",
    "    stds += [np.std(errors)]\n",
    "plt.plot(np.arange(0, 4, 0.1), stds)\n",
    "plt.vlines(2.2, 0.5, 6, label = 'min at 2.2')\n",
    "plt.legend()\n",
    "plt.xlabel('radial cutoff')\n",
    "plt.ylabel('SD of (z_surfmax - z_ads)')"
   ]
  },
  {
   "cell_type": "code",
   "execution_count": 81,
   "metadata": {
    "ExecuteTime": {
     "end_time": "2020-11-11T04:54:27.287040Z",
     "start_time": "2020-11-11T04:54:26.869603Z"
    },
    "code_folding": [],
    "hidden": true
   },
   "outputs": [
    {
     "name": "stdout",
     "output_type": "stream",
     "text": [
      "2.401963612489196\n"
     ]
    },
    {
     "data": {
      "text/plain": [
       "Text(0, 0.5, 'z_surfmax - z_ads')"
      ]
     },
     "execution_count": 81,
     "metadata": {},
     "output_type": "execute_result"
    },
    {
     "data": {
      "image/png": "[encoded data removed]",
      "text/plain": [
       "<Figure size 360x720 with 1 Axes>"
      ]
     },
     "metadata": {
      "needs_background": "light"
     },
     "output_type": "display_data"
    }
   ],
   "source": [
    "# use optimal rcut to find z offset and generate structs with that offset\n",
    "plt.figure(figsize = (5,10))\n",
    "searchR = 2.2\n",
    "testZstructs = []\n",
    "actualZstructs = []\n",
    "\n",
    "errors = []\n",
    "for slab in data['processed']:\n",
    "    x, y, z = slab[-1].position\n",
    "    maxz = 0\n",
    "    for atom in slab:\n",
    "        if atom.symbol == \"He\": # don't use He position to determine max Z position \n",
    "            continue\n",
    "        _x, _y, _z = atom.position\n",
    "        if ((x - _x)**2 + (y - _y)**2) ** 0.5 < searchR:\n",
    "            if _z > maxz:\n",
    "                maxz = _z\n",
    "\n",
    "    errors += [z - maxz]\n",
    "    newstruct = bareslab.copy()\n",
    "    newheight = maxz + 2.5 #mean height from test; \n",
    "    # see https://docs.google.com/presentation/d/13NdBmWkxwG0ZvL7BgYsGo-x-3CzZp8JymnF8yTitdCg/edit#slide=id.ga11af18809_0_13\n",
    "    \n",
    "    newstruct.append(Atom(\"He\", position = (x, y, newheight)))\n",
    "    testZstructs += [newstruct]    \n",
    "#     actualZstructs += [bareslab.copy()]\n",
    "#     add_adsorbate(acutalZstructs[-1], \"He\", height = \n",
    "plt.boxplot(errors)\n",
    "# plt.legend()\n",
    "print(np.mean(errors))\n",
    "plt.ylabel('z_surfmax - z_ads')"
   ]
  },
  {
   "cell_type": "markdown",
   "metadata": {
    "hidden": true
   },
   "source": [
    "## Assess mean error across sampled points"
   ]
  },
  {
   "cell_type": "markdown",
   "metadata": {
    "hidden": true
   },
   "source": [
    "### Using rule based system"
   ]
  },
  {
   "cell_type": "code",
   "execution_count": 82,
   "metadata": {
    "ExecuteTime": {
     "end_time": "2020-11-11T04:54:30.916794Z",
     "start_time": "2020-11-11T04:54:29.305771Z"
    },
    "hidden": true
   },
   "outputs": [
    {
     "data": {
      "text/plain": [
       "[<matplotlib.lines.Line2D at 0x7f436d75fed0>]"
      ]
     },
     "execution_count": 82,
     "metadata": {},
     "output_type": "execute_result"
    },
    {
     "data": {
      "image/png": "[encoded data removed]",
      "text/plain": [
       "<Figure size 432x288 with 1 Axes>"
      ]
     },
     "metadata": {
      "needs_background": "light"
     },
     "output_type": "display_data"
    },
    {
     "data": {
      "image/png": "[encoded data removed]",
      "text/plain": [
       "<Figure size 432x288 with 1 Axes>"
      ]
     },
     "metadata": {
      "needs_background": "light"
     },
     "output_type": "display_data"
    }
   ],
   "source": [
    "# append newstructs to data\n",
    "newdata = data[originalColumns]\n",
    "newdata = newdata.drop('SOAP', axis = 1)\n",
    "newdata['testZstructs'] = testZstructs\n",
    "newdata = pd.concat([newdata, \n",
    "                     getSOAPs(newdata['testZstructs'])], axis = 1)\n",
    "newdata_cols = newdata.columns\n",
    "newdata = newdata[newdata[\"E_ads\"] < 0] # filter valid structs\n",
    "newX = pd.DataFrame(newdata['SOAP'].to_list(), index = newdata.index)\n",
    "\n",
    "newdata['testEads'] = model.predict(newX)\n",
    "newdata['errors'] = newdata['E_ads'] - newdata['testEads']\n",
    "\n",
    "newdata.plot('E_ads', 'errors', kind = 'scatter')\n",
    "plt.hlines(0, -0.5, 0)\n",
    "\n",
    "newdata.plot('E_ads', 'testEads', kind = 'scatter')\n",
    "plotx = np.arange(-0.5, 0, 0.01)\n",
    "plt.plot(plotx, plotx)"
   ]
  },
  {
   "cell_type": "code",
   "execution_count": 83,
   "metadata": {
    "ExecuteTime": {
     "end_time": "2020-11-11T04:54:37.053318Z",
     "start_time": "2020-11-11T04:54:37.040042Z"
    },
    "hidden": true
   },
   "outputs": [
    {
     "name": "stdout",
     "output_type": "stream",
     "text": [
      "MAE rule-based (eV): 0.027297 \n"
     ]
    }
   ],
   "source": [
    "print(\"MAE rule-based (eV): %f \" % \n",
    "      (np.mean(np.abs(newdata[\"E_ads\"] - newdata[\"testEads\"]))\n",
    "      ))"
   ]
  },
  {
   "cell_type": "markdown",
   "metadata": {
    "heading_collapsed": true,
    "hidden": true
   },
   "source": [
    "### By minimizing energy"
   ]
  },
  {
   "cell_type": "code",
   "execution_count": null,
   "metadata": {
    "ExecuteTime": {
     "end_time": "2020-11-11T02:28:02.746004Z",
     "start_time": "2020-11-11T02:28:00.221Z"
    },
    "hidden": true
   },
   "outputs": [],
   "source": [
    "# set range around guessed Z position to search for min E\n",
    "Zrange = 2\n",
    "# set range around guessed Z position to search for min E\n",
    "numsearch = 10\n",
    "\n",
    "newdata = data[originalColumns].drop('SOAP', axis = 1)\n",
    "newdata['testZstructs'] = testZstructs\n",
    "newdata = newdata[newdata[\"E_ads\"] < 0] # filter valid structs\n",
    "i = 0\n",
    "minZs, minEs = [], []\n",
    "for struct in newdata['testZstructs']: #iterate through the testZstruct for each original strcut\n",
    "    \n",
    "    \n",
    "    x, y, z = struct[-1].position # assume adsorbate is last thing in list\n",
    "    tempstructs = []\n",
    "    zSearch = np.linspace(z - Zrange/2, z + Zrange/2, numsearch)\n",
    "    for zTemp in zSearch:\n",
    "        tempstruct = struct.copy()\n",
    "        tempstruct[-1].position = [x, y, zTemp]\n",
    "        tempstructs += [tempstruct]\n",
    "    tempstructs = pd.Series(tempstructs)\n",
    "    \n",
    "    tempSOAPs = getSOAPs(tempstructs)\n",
    "    tempdata = pd.DataFrame(tempSOAPs.to_list())\n",
    "    tempEs = model.predict(tempdata)\n",
    "    minE = np.min(tempEs)\n",
    "#     minZ = zSearch[tempEs == minE][0]\n",
    "#     minZs += [minZ]\n",
    "    minEs += [minE]\n",
    "# newdata['minZ'] = minZs\n",
    "newdata['minE'] = minEs\n",
    "# newdata['actualZ'] = [slab[-1].position[-1] for slab in newdata['processed']]\n",
    "newdata.head()"
   ]
  },
  {
   "cell_type": "code",
   "execution_count": null,
   "metadata": {
    "ExecuteTime": {
     "end_time": "2020-11-11T02:28:02.747534Z",
     "start_time": "2020-11-11T02:28:00.225Z"
    },
    "hidden": true
   },
   "outputs": [],
   "source": [
    "newdata.plot('E_ads', 'minE', kind = 'scatter')\n",
    "plt.plot(newdata['E_ads'], newdata['E_ads'])"
   ]
  },
  {
   "cell_type": "code",
   "execution_count": null,
   "metadata": {
    "ExecuteTime": {
     "end_time": "2020-11-11T02:28:02.749169Z",
     "start_time": "2020-11-11T02:28:00.230Z"
    },
    "hidden": true
   },
   "outputs": [],
   "source": [
    "plt.scatter(newdata[\"E_ads\"], newdata[\"E_ads\"] - newdata[\"minE\"])\n",
    "plt.hlines(0, -0.5, 0)\n",
    "plt.xlabel(\"E_ads\")\n",
    "plt.ylabel(\"E_ads - avg(E_pred)\")"
   ]
  },
  {
   "cell_type": "code",
   "execution_count": null,
   "metadata": {
    "ExecuteTime": {
     "end_time": "2020-11-11T02:28:02.750470Z",
     "start_time": "2020-11-11T02:28:00.233Z"
    },
    "hidden": true
   },
   "outputs": [],
   "source": [
    "print(\"MAE min (eV): %f \" % \n",
    "      (np.mean(np.abs(newdata[\"E_ads\"] - newdata[\"minE\"]))\n",
    "      ))"
   ]
  },
  {
   "cell_type": "markdown",
   "metadata": {
    "heading_collapsed": true
   },
   "source": [
    "# Prediction of z coordinate"
   ]
  },
  {
   "cell_type": "markdown",
   "metadata": {
    "hidden": true
   },
   "source": [
    "Some pseudocode:\n",
    "\n",
    "    1) Take all training points, isolate their (x,y) coordinates; generate range of points at $ z_{surf} + 2.5 \\pm 1 Å $. \n",
    "    2) Set $z_true$ for all those points to be actual z value. \n",
    "    3) Run the predictive model; hope it works??? "
   ]
  },
  {
   "cell_type": "code",
   "execution_count": 22,
   "metadata": {
    "ExecuteTime": {
     "end_time": "2020-11-23T23:58:48.916571Z",
     "start_time": "2020-11-23T23:58:31.348246Z"
    },
    "hidden": true,
    "scrolled": false
   },
   "outputs": [],
   "source": [
    "np.random.seed(429)\n",
    "\n",
    "zrange = 3\n",
    "zstep = 0.25\n",
    "zdiffs = np.arange(-zrange, zrange, zstep)\n",
    "\n",
    "data = readStructs(\"../adsorb_amorphous/\", -196.0817, -16828.7803) #MeF, amorphous slab, DFTB\n",
    "validData = data['E_ads'] < 0\n",
    "data = data.loc[validData, :]\n",
    "data['processed'] = [\n",
    "    convertAdsorbateToHe(i, 370, np.arange(370, 375)) for i in data['geom']\n",
    "]\n",
    "data['truez'] = [s[-1].position[2] for s in data['processed']]\n",
    "\n",
    "newdata = data.copy()\n",
    "newdata = newdata.iloc[0:0]\n",
    "\n",
    "\n",
    "for idx, row in data.iterrows():\n",
    "    truez = row['truez']\n",
    "    for zdiff in zdiffs:\n",
    "        newrow = row.copy()\n",
    "        tempStruct = newrow['processed'].copy()\n",
    "        tempStruct[-1].position[2] = truez + zdiff\n",
    "        newrow['processed'] = tempStruct\n",
    "        newdata = newdata.append(newrow) \n",
    "    \n",
    "newdata = newdata.reset_index(drop = True)\n",
    "\n",
    "newdata = newdata.sample(frac = 1)\n",
    "\n",
    "newdata = pd.concat([newdata, getSOAPs(newdata['processed'])], axis = 1)\n",
    "\n",
    "\n",
    "originalColumns = newdata.columns\n",
    "\n",
    "X = pd.DataFrame(newdata['SOAP'].to_list(), index = newdata.index)\n",
    "y = newdata['truez']\n",
    "newdata = pd.concat([X, newdata], axis = 1)"
   ]
  },
  {
   "cell_type": "code",
   "execution_count": 6,
   "metadata": {
    "ExecuteTime": {
     "end_time": "2020-11-23T22:07:16.996767Z",
     "start_time": "2020-11-23T22:07:16.993147Z"
    },
    "hidden": true
   },
   "outputs": [],
   "source": [
    "# X_train = newdata.loc[:, ~np.isin(newdata.columns, originalColumns)]\n",
    "# y_train = newdata.loc[:, 'truez']\n",
    "# X_train, X_test, y_train, y_test = train_test_split(\n",
    "#     newdata.loc[:, ~np.isin(newdata.columns, originalColumns)], \n",
    "#     newdata.loc[:, 'truez'], test_size= 0.0001, random_state = 429)\n",
    "# print(\"# points total: %d; #train points: %d; #test points: %d\" % \n",
    "#       (sum(validData), len(X_train), len(X_test)))"
   ]
  },
  {
   "cell_type": "code",
   "execution_count": 23,
   "metadata": {
    "ExecuteTime": {
     "end_time": "2020-11-23T23:58:59.012582Z",
     "start_time": "2020-11-23T23:58:52.245340Z"
    },
    "hidden": true
   },
   "outputs": [
    {
     "name": "stdout",
     "output_type": "stream",
     "text": [
      "(1440, 5500)\n",
      "{'alpha': 0.0001}\n"
     ]
    }
   ],
   "source": [
    "## load model\n",
    "# with open('zmodel.pkl', 'rb') as f:\n",
    "#     zmodel = pickle.load(f)\n",
    "\n",
    "#fit model\n",
    "\n",
    "print(X.shape)\n",
    "\n",
    "# X = X.sample(frac = 1)\n",
    "    \n",
    "alphas = np.logspace(-10, -2, 5)\n",
    "krr = KernelRidge()  # gamma automatically set by sklearn.metrics.pairwise.rbf_kernel\n",
    "zmodel = GridSearchCV(krr, [{\"alpha\":alphas}], cv = 5)\n",
    "zmodel.fit(np.array(X), np.array(y))\n",
    "\n",
    "print(zmodel.best_params_)\n",
    "\n",
    "#save model \n",
    "\n",
    "# with open('zmodel.pkl', 'wb') as f:\n",
    "#     pickle.dump(zmodel, f)"
   ]
  },
  {
   "cell_type": "code",
   "execution_count": 24,
   "metadata": {
    "ExecuteTime": {
     "end_time": "2020-11-23T23:59:14.646987Z",
     "start_time": "2020-11-23T23:59:14.519486Z"
    },
    "hidden": true
   },
   "outputs": [],
   "source": [
    "with open('zmodel.pkl', 'wb') as f:\n",
    "    pickle.dump(zmodel, f)"
   ]
  },
  {
   "cell_type": "code",
   "execution_count": 25,
   "metadata": {
    "ExecuteTime": {
     "end_time": "2020-11-23T23:59:16.806928Z",
     "start_time": "2020-11-23T23:59:16.338509Z"
    },
    "hidden": true
   },
   "outputs": [
    {
     "data": {
      "image/png": "[encoded data removed]",
      "text/plain": [
       "<Figure size 432x288 with 1 Axes>"
      ]
     },
     "metadata": {
      "needs_background": "light"
     },
     "output_type": "display_data"
    }
   ],
   "source": [
    "# plt.subplots(2, 1, figsize = (10, 10))\n",
    "\n",
    "# print(X_train.shape)\n",
    "\n",
    "# plt.subplot(211)\n",
    "plt.title('train')\n",
    "plt.ylabel(\"predicted z (Å)\")\n",
    "plt.xlabel(\"calculated z (Å)\")\n",
    "train_predict = zmodel.predict(X)\n",
    "plt.scatter(y, train_predict)\n",
    "lineparams = [min(y), max(y)]\n",
    "plt.plot(lineparams, lineparams)\n",
    "# plt.subplot(212)\n",
    "# plt.title(\"test\")\n",
    "# plt.ylabel(\"predicted z (Å)\")\n",
    "# plt.xlabel(\"calculated z (Å)\")\n",
    "# plt.scatter(y_test, zmodel.predict(X_test))\n",
    "plt.plot(lineparams, lineparams);"
   ]
  },
  {
   "cell_type": "code",
   "execution_count": 45,
   "metadata": {
    "ExecuteTime": {
     "end_time": "2020-11-23T22:04:33.754925Z",
     "start_time": "2020-11-23T22:04:33.744615Z"
    },
    "hidden": true
   },
   "outputs": [
    {
     "ename": "NameError",
     "evalue": "name 'y_train' is not defined",
     "output_type": "error",
     "traceback": [
      "\u001b[0;31m---------------------------------------------------------------------------\u001b[0m",
      "\u001b[0;31mNameError\u001b[0m                                 Traceback (most recent call last)",
      "\u001b[0;32m<ipython-input-45-2b6c8d302eb6>\u001b[0m in \u001b[0;36m<module>\u001b[0;34m\u001b[0m\n\u001b[0;32m----> 1\u001b[0;31m \u001b[0mtrain_errs\u001b[0m \u001b[0;34m=\u001b[0m \u001b[0my_train\u001b[0m \u001b[0;34m-\u001b[0m \u001b[0mzmodel\u001b[0m\u001b[0;34m.\u001b[0m\u001b[0mpredict\u001b[0m\u001b[0;34m(\u001b[0m\u001b[0mX_train\u001b[0m\u001b[0;34m)\u001b[0m\u001b[0;34m\u001b[0m\u001b[0;34m\u001b[0m\u001b[0m\n\u001b[0m",
      "\u001b[0;31mNameError\u001b[0m: name 'y_train' is not defined"
     ]
    }
   ],
   "source": [
    "train_errs = y_train - zmodel.predict(X_train)"
   ]
  },
  {
   "cell_type": "code",
   "execution_count": 46,
   "metadata": {
    "ExecuteTime": {
     "end_time": "2020-11-23T22:04:34.689742Z",
     "start_time": "2020-11-23T22:04:34.679052Z"
    },
    "hidden": true
   },
   "outputs": [
    {
     "ename": "NameError",
     "evalue": "name 'y_test' is not defined",
     "output_type": "error",
     "traceback": [
      "\u001b[0;31m---------------------------------------------------------------------------\u001b[0m",
      "\u001b[0;31mNameError\u001b[0m                                 Traceback (most recent call last)",
      "\u001b[0;32m<ipython-input-46-d19d4679831e>\u001b[0m in \u001b[0;36m<module>\u001b[0;34m\u001b[0m\n\u001b[0;32m----> 1\u001b[0;31m \u001b[0mtest_errs\u001b[0m \u001b[0;34m=\u001b[0m \u001b[0my_test\u001b[0m \u001b[0;34m-\u001b[0m \u001b[0mzmodel\u001b[0m\u001b[0;34m.\u001b[0m\u001b[0mpredict\u001b[0m\u001b[0;34m(\u001b[0m\u001b[0mX_test\u001b[0m\u001b[0;34m)\u001b[0m\u001b[0;34m\u001b[0m\u001b[0;34m\u001b[0m\u001b[0m\n\u001b[0m",
      "\u001b[0;31mNameError\u001b[0m: name 'y_test' is not defined"
     ]
    }
   ],
   "source": [
    "test_errs = y_test - zmodel.predict(X_test)"
   ]
  },
  {
   "cell_type": "code",
   "execution_count": 47,
   "metadata": {
    "ExecuteTime": {
     "end_time": "2020-11-23T22:04:35.415127Z",
     "start_time": "2020-11-23T22:04:35.119529Z"
    },
    "hidden": true
   },
   "outputs": [
    {
     "ename": "NameError",
     "evalue": "name 'y_train' is not defined",
     "output_type": "error",
     "traceback": [
      "\u001b[0;31m---------------------------------------------------------------------------\u001b[0m",
      "\u001b[0;31mNameError\u001b[0m                                 Traceback (most recent call last)",
      "\u001b[0;32m<ipython-input-47-7a1dc045dcaa>\u001b[0m in \u001b[0;36m<module>\u001b[0;34m\u001b[0m\n\u001b[1;32m      2\u001b[0m \u001b[0mplt\u001b[0m\u001b[0;34m.\u001b[0m\u001b[0msubplot\u001b[0m\u001b[0;34m(\u001b[0m\u001b[0;36m211\u001b[0m\u001b[0;34m)\u001b[0m\u001b[0;34m\u001b[0m\u001b[0;34m\u001b[0m\u001b[0m\n\u001b[1;32m      3\u001b[0m \u001b[0mplt\u001b[0m\u001b[0;34m.\u001b[0m\u001b[0mtitle\u001b[0m\u001b[0;34m(\u001b[0m\u001b[0;34m\"KRR residuals, train\"\u001b[0m\u001b[0;34m)\u001b[0m\u001b[0;34m\u001b[0m\u001b[0;34m\u001b[0m\u001b[0m\n\u001b[0;32m----> 4\u001b[0;31m \u001b[0mplt\u001b[0m\u001b[0;34m.\u001b[0m\u001b[0mscatter\u001b[0m\u001b[0;34m(\u001b[0m\u001b[0my_train\u001b[0m\u001b[0;34m,\u001b[0m \u001b[0mtrain_errs\u001b[0m\u001b[0;34m)\u001b[0m\u001b[0;34m;\u001b[0m\u001b[0;34m\u001b[0m\u001b[0;34m\u001b[0m\u001b[0m\n\u001b[0m\u001b[1;32m      5\u001b[0m \u001b[0mplt\u001b[0m\u001b[0;34m.\u001b[0m\u001b[0mhlines\u001b[0m\u001b[0;34m(\u001b[0m\u001b[0;36m0\u001b[0m\u001b[0;34m,\u001b[0m \u001b[0;34m*\u001b[0m\u001b[0mlineparams\u001b[0m\u001b[0;34m)\u001b[0m\u001b[0;34m\u001b[0m\u001b[0;34m\u001b[0m\u001b[0m\n\u001b[1;32m      6\u001b[0m \u001b[0mplt\u001b[0m\u001b[0;34m.\u001b[0m\u001b[0msubplot\u001b[0m\u001b[0;34m(\u001b[0m\u001b[0;36m212\u001b[0m\u001b[0;34m)\u001b[0m\u001b[0;34m\u001b[0m\u001b[0;34m\u001b[0m\u001b[0m\n",
      "\u001b[0;31mNameError\u001b[0m: name 'y_train' is not defined"
     ]
    },
    {
     "data": {
      "image/png": "[encoded data removed]",
      "text/plain": [
       "<Figure size 720x720 with 2 Axes>"
      ]
     },
     "metadata": {
      "needs_background": "light"
     },
     "output_type": "display_data"
    }
   ],
   "source": [
    "plt.subplots(2, 1, figsize = (10, 10))\n",
    "plt.subplot(211)\n",
    "plt.title(\"KRR residuals, train\")\n",
    "plt.scatter(y_train, train_errs);\n",
    "plt.hlines(0, *lineparams)\n",
    "plt.subplot(212)\n",
    "plt.title(\"KRR residuals, test\")\n",
    "plt.hlines(0, *lineparams)\n",
    "plt.scatter(y_test, test_errs);"
   ]
  },
  {
   "cell_type": "code",
   "execution_count": 202,
   "metadata": {
    "ExecuteTime": {
     "end_time": "2020-11-19T22:57:45.818640Z",
     "start_time": "2020-11-19T22:57:45.810720Z"
    },
    "hidden": true
   },
   "outputs": [
    {
     "name": "stdout",
     "output_type": "stream",
     "text": [
      "MAE train (Å): 0.080613 \n",
      "MAE test (Å): 0.514757\n"
     ]
    }
   ],
   "source": [
    "print(\"MAE train (Å): %f \\n\\\n",
    "MAE test (Å): %f\" % \n",
    "      (np.mean(np.abs(train_errs)),\n",
    "       np.mean(np.abs(test_errs))\n",
    "      ))"
   ]
  },
  {
   "cell_type": "markdown",
   "metadata": {
    "heading_collapsed": true
   },
   "source": [
    "# Apply both models, chained"
   ]
  },
  {
   "cell_type": "markdown",
   "metadata": {
    "hidden": true
   },
   "source": [
    "First, load the models"
   ]
  },
  {
   "cell_type": "code",
   "execution_count": 5,
   "metadata": {
    "ExecuteTime": {
     "end_time": "2020-11-24T00:32:11.848502Z",
     "start_time": "2020-11-24T00:32:11.769818Z"
    },
    "code_folding": [
     2
    ],
    "hidden": true
   },
   "outputs": [],
   "source": [
    "with open('zmodel.pkl', 'rb') as f:\n",
    "    zmodel = pickle.load(f)\n",
    "with open('Emodel.pkl', 'rb') as f:\n",
    "    Emodel = pickle.load(f)"
   ]
  },
  {
   "cell_type": "markdown",
   "metadata": {
    "hidden": true
   },
   "source": [
    "Next, read and process the training data that we have:\n",
    "\n",
    "    1) Read training structures\n",
    "    2) Filter data to only keep valid data\n",
    "    3) Convert adsorbates to He points\n",
    "    4) Use rule-based method and set the height of the He point to be result\n",
    "    5) Obtain SOAP representation of each training structure, now with He\n",
    "    6) Get the SOAP matrix and corresponding data for each training structure"
   ]
  },
  {
   "cell_type": "code",
   "execution_count": 6,
   "metadata": {
    "ExecuteTime": {
     "end_time": "2020-11-24T00:32:14.033846Z",
     "start_time": "2020-11-24T00:32:12.786383Z"
    },
    "hidden": true
   },
   "outputs": [],
   "source": [
    "np.random.seed(429)\n",
    "searchR = 2.2\n",
    "\n",
    " actual structures (training points) \n",
    "data = readStructs(\"../adsorb_amorphous/\", -196.0817, -16828.7803) #MeF, amorphous slab, DFTB\n",
    "\n",
    "## filter out wrong adsorption energies\n",
    "validData = data['E_ads'] < 0\n",
    "data = data.loc[validData, :]\n",
    "\n",
    "## turn adsorbate molecule \n",
    "data['processed'] = [\n",
    "    convertAdsorbateToHe(i, 370, np.arange(370, 375)) for i in data['geom']\n",
    "]\n",
    "\n",
    "ztrue = np.array([])\n",
    "\n",
    "for struct in data['processed']:\n",
    "    ## calculate initial guess for z position of adsorbate\n",
    "    \n",
    "    maxz = 0\n",
    "    x,y,z = struct[-1].position\n",
    "    ztrue = np.append(ztrue, z)\n",
    "    \n",
    "    for atom in struct:\n",
    "        if atom.symbol == \"He\": # don't use He position to determine max Z position \n",
    "            continue\n",
    "        _x, _y, _z = atom.position\n",
    "        if ((x - _x)**2 + (y - _y)**2) ** 0.5 < searchR:\n",
    "            if _z > maxz:\n",
    "                maxz = _z \n",
    "    newheight = maxz + 2.5\n",
    "    \n",
    "    ## set the rule based guess as the z position of adsorbate\n",
    "    \n",
    "    struct[-1].position[2] = newheight \n",
    "data['ztrue'] = ztrue\n",
    "    \n",
    "originalColumns = data.columns\n",
    "\n",
    "## generate SOAP representations\n",
    "    \n",
    "data = pd.concat([data, getSOAPs(data['processed'])], axis = 1)\n",
    "\n",
    "# data = data.sample(frac = 1)\n",
    "\n",
    "## generate data matrix for assessment via ML \n",
    "X = pd.DataFrame(data['SOAP'].to_list(), index = data.index)\n",
    "\n",
    "## generate target vectors\n",
    "\n",
    "Eads = data['E_ads']\n",
    "ztrue =  data['ztrue']"
   ]
  },
  {
   "cell_type": "markdown",
   "metadata": {
    "hidden": true
   },
   "source": [
    "First, get KRR predicted z value and show prediction improvement"
   ]
  },
  {
   "cell_type": "code",
   "execution_count": 7,
   "metadata": {
    "ExecuteTime": {
     "end_time": "2020-11-24T00:32:16.738400Z",
     "start_time": "2020-11-24T00:32:16.289744Z"
    },
    "hidden": true
   },
   "outputs": [
    {
     "data": {
      "text/plain": [
       "<matplotlib.legend.Legend at 0x7f4a655666d0>"
      ]
     },
     "execution_count": 7,
     "metadata": {},
     "output_type": "execute_result"
    },
    {
     "data": {
      "image/png": "[encoded data removed]",
      "text/plain": [
       "<Figure size 720x720 with 2 Axes>"
      ]
     },
     "metadata": {
      "needs_background": "light"
     },
     "output_type": "display_data"
    }
   ],
   "source": [
    "data['predicted z'] = zmodel.predict(X)\n",
    "lineparams = [min(ztrue), max(ztrue)]\n",
    "currzs = [atoms[-1].position[2] for atoms in data['processed']]\n",
    "\n",
    "fig, ax = plt.subplots(2, 1, figsize = (10, 10))\n",
    "\n",
    "plt.subplot(211)\n",
    "plt.title('true vs predicted plot')\n",
    "plt.xlabel(\"true z\")\n",
    "plt.ylabel(\"predicted z\")\n",
    "plt.plot(lineparams, lineparams)\n",
    "plt.scatter(data['ztrue'], data['predicted z'])\n",
    "plt.plot(lineparams, lineparams)\n",
    "plt.subplot(212)\n",
    "plt.title(\"residual plot\")\n",
    "plt.xlabel(\"actual value\")\n",
    "plt.ylabel(\"actual - predicted\")\n",
    "plt.scatter(ztrue, (data['predicted z'] - data['ztrue']), label = 'KRR predicted')\n",
    "# plt.scatter(ztrue, np.abs(currzs - data['ztrue']), label = 'rule based')\n",
    "plt.plot(ztrue, ztrue * 0)\n",
    "plt.legend()\n",
    "\n",
    "\n",
    "# print(\"MAE test (Å): %f\" % \n",
    "#       (np.mean(np.abs(train_predict - Eads)),\n",
    "#       ))"
   ]
  },
  {
   "cell_type": "markdown",
   "metadata": {
    "hidden": true
   },
   "source": [
    "Replace the z positions with the predicted z; regenerate SOAP for that "
   ]
  },
  {
   "cell_type": "code",
   "execution_count": 8,
   "metadata": {
    "ExecuteTime": {
     "end_time": "2020-11-24T00:32:25.869405Z",
     "start_time": "2020-11-24T00:32:25.203936Z"
    },
    "hidden": true
   },
   "outputs": [],
   "source": [
    "data = data.drop('SOAP', axis = 1)\n",
    "for i, row in data.iterrows():\n",
    "    atoms = row['processed']\n",
    "    row['processed'][-1].position[2] = row['predicted z']\n",
    "    \n",
    "data = pd.concat([data, getSOAPs(data['processed'])], axis = 1)\n",
    "\n",
    "\n",
    "X = pd.DataFrame(data['SOAP'].to_list(), index = data.index)\n"
   ]
  },
  {
   "cell_type": "code",
   "execution_count": 9,
   "metadata": {
    "ExecuteTime": {
     "end_time": "2020-11-24T00:32:26.879529Z",
     "start_time": "2020-11-24T00:32:26.696081Z"
    },
    "hidden": true
   },
   "outputs": [
    {
     "name": "stdout",
     "output_type": "stream",
     "text": [
      "MAE test (Å): 0.012580\n"
     ]
    },
    {
     "data": {
      "image/png": "[encoded data removed]",
      "text/plain": [
       "<Figure size 432x288 with 1 Axes>"
      ]
     },
     "metadata": {
      "needs_background": "light"
     },
     "output_type": "display_data"
    }
   ],
   "source": [
    "# plt.subplots(2, 1, figsize = (10, 10))\n",
    "\n",
    "# plt.subplot(211)\n",
    "plt.title('train')\n",
    "plt.ylabel(\"predicted energy (eV)\")\n",
    "plt.xlabel(\"calculated energy (eV)\")\n",
    "train_predict = Emodel.predict(X)\n",
    "plt.scatter(Eads, train_predict)\n",
    "lineparams = [min(Eads), max(Eads)]\n",
    "plt.plot(lineparams, lineparams)\n",
    "# plt.subplot(212)\n",
    "# plt.title(\"test\")\n",
    "# plt.ylabel(\"predicted energy (eV)\")\n",
    "# plt.xlabel(\"calculated energy (eV)\")\n",
    "# plt.scatter(y_test, Emodel.predict(X_test))\n",
    "# plt.plot(lineparams, lineparams);\n",
    "\n",
    "print(\"MAE test (Å): %f\" % \n",
    "      (np.mean(np.abs(train_predict - Eads)),\n",
    "      ))"
   ]
  },
  {
   "cell_type": "markdown",
   "metadata": {},
   "source": [
    "# Use zpred and Epred to map the energy surface"
   ]
  },
  {
   "cell_type": "code",
   "execution_count": 16,
   "metadata": {
    "ExecuteTime": {
     "end_time": "2020-12-15T11:38:10.338996Z",
     "start_time": "2020-12-15T11:38:10.264614Z"
    },
    "code_folding": []
   },
   "outputs": [],
   "source": [
    "with open('zmodel.pkl', 'rb') as f:\n",
    "    zmodel = pickle.load(f)\n",
    "with open('Emodel.pkl', 'rb') as f:\n",
    "    Emodel = pickle.load(f)"
   ]
  },
  {
   "cell_type": "markdown",
   "metadata": {},
   "source": [
    "Generate base slab structure"
   ]
  },
  {
   "cell_type": "code",
   "execution_count": 9,
   "metadata": {
    "ExecuteTime": {
     "end_time": "2020-12-15T11:26:20.002783Z",
     "start_time": "2020-12-15T11:26:19.481233Z"
    }
   },
   "outputs": [],
   "source": [
    "### read actual structures (training points) \n",
    "data = readStructs(\"../adsorb_amorphous/\", -196.0817, -16828.7803) #MeF, amorphous slab, DFTB\n",
    "\n",
    "## filter out wrong adsorption energies\n",
    "validData = data['E_ads'] < 0\n",
    "data = data.loc[validData, :]\n",
    "\n",
    "## turn adsorbate molecule \n",
    "data['processed'] = [\n",
    "    convertAdsorbateToHe(i, 370, np.arange(370, 375)) for i in data['geom']\n",
    "]\n",
    "\n",
    "base = data['processed'][0].copy()\n",
    "# base = gen.read_gen(\"../bomb0/output0-0.gen\")\n",
    "del base[[atom.index for atom in base if atom.symbol in ['He', 'Ar']]]\n",
    "base.wrap()\n",
    "view(base)"
   ]
  },
  {
   "cell_type": "markdown",
   "metadata": {},
   "source": [
    "Grid over surface to map"
   ]
  },
  {
   "cell_type": "code",
   "execution_count": 10,
   "metadata": {
    "ExecuteTime": {
     "end_time": "2020-12-15T11:36:38.515215Z",
     "start_time": "2020-12-15T11:36:38.505087Z"
    }
   },
   "outputs": [],
   "source": [
    "def predictz(surf, x, y, zmodel = 'zmodel.pkl'):\n",
    "    \"\"\"\n",
    "    surf: bare substrate\n",
    "    x, y: position at which to place adsorbate\n",
    "    zmodel: Path object pointing to the model pickle\n",
    "    \"\"\"\n",
    "    searchR = 2.2\n",
    "    surf = surf.copy()\n",
    "    add_adsorbate(surf, 'He', height = 0, position = (x, y))\n",
    "    \n",
    "    maxz = 0\n",
    "    for atom in surf:\n",
    "        if atom.symbol == \"He\": # don't use He position to determine max Z position \n",
    "            continue\n",
    "        _x, _y, _z = atom.position\n",
    "        if ((x - _x)**2 + (y - _y)**2) ** 0.5 < searchR:\n",
    "            if _z > maxz:\n",
    "                maxz = _z + 2.5\n",
    "                \n",
    "    surf[-1].position[2] = maxz\n",
    "    \n",
    "    X = getSOAPs(pd.Series({0: surf}))[0].reshape(1, -1) #reshape because just one sample\n",
    "    if zmodel: \n",
    "        with open('zmodel.pkl', 'rb') as f:\n",
    "            zmodel = pickle.load(f)\n",
    "        \n",
    "        predz = zmodel.predict(X)\n",
    "    else:\n",
    "#         TODO: implement me hehe \n",
    "        predz = maxz\n",
    "    return predz"
   ]
  },
  {
   "cell_type": "code",
   "execution_count": 11,
   "metadata": {
    "ExecuteTime": {
     "end_time": "2020-12-15T11:37:44.948343Z",
     "start_time": "2020-12-15T11:36:39.945452Z"
    }
   },
   "outputs": [],
   "source": [
    "# assume cubic structure for cell\n",
    "\n",
    "a,b,c = base.cell\n",
    "a,b,c = np.linalg.norm(a), np.linalg.norm(b), np.linalg.norm(c)\n",
    "npoints = 20\n",
    "apoints = np.linspace(0, a, npoints)\n",
    "bpoints = np.linspace(0, b, npoints)\n",
    "\n",
    "# originalData = readStructs(\"../adsorb_amorphous/\", -196.0817, -16828.7803) #MeF, amorphous slab, DFTB\n",
    "# originalData = originalData.loc[originalData['E_ads'] < 0, :]\n",
    "\n",
    "gridpoints = []\n",
    "for apoint in apoints:\n",
    "    for bpoint in bpoints:\n",
    "        newstruct = base.copy()\n",
    "        zhat = predictz(newstruct, apoint, bpoint)\n",
    "        newstruct.append(Atom('He', position = (apoint, bpoint, zhat)))\n",
    "        gridpoints += [newstruct]\n",
    "        \n",
    "\n",
    "# originalZs = []\n",
    "# for geom in originalData['geom']:\n",
    "#     newstruct = base.copy()\n",
    "#     apoint, bpoint, originalZ = geom[370].position\n",
    "#     originalZs += [originalZ]\n",
    "#     zhat = predictz(newstruct, apoint, bpoint, zmodel=\"zmodel.pkl\")\n",
    "# #     print(np.abs(originalZ - zhat))\n",
    "#     newstruct.append(Atom('He', position = (apoint, bpoint, zhat)))\n",
    "#     gridpoints += [newstruct]\n",
    "        \n",
    "gridpoints = pd.Series(gridpoints)\n",
    "gridpoints = pd.DataFrame({'geom': gridpoints})"
   ]
  },
  {
   "cell_type": "code",
   "execution_count": 12,
   "metadata": {
    "ExecuteTime": {
     "end_time": "2020-12-15T11:37:50.327567Z",
     "start_time": "2020-12-15T11:37:49.982309Z"
    }
   },
   "outputs": [],
   "source": [
    "view(gridpoints['geom'])"
   ]
  },
  {
   "cell_type": "code",
   "execution_count": 13,
   "metadata": {
    "ExecuteTime": {
     "end_time": "2020-12-15T11:38:04.056236Z",
     "start_time": "2020-12-15T11:38:01.339602Z"
    }
   },
   "outputs": [
    {
     "data": {
      "text/html": [
       "<div>\n",
       "<style scoped>\n",
       "    .dataframe tbody tr th:only-of-type {\n",
       "        vertical-align: middle;\n",
       "    }\n",
       "\n",
       "    .dataframe tbody tr th {\n",
       "        vertical-align: top;\n",
       "    }\n",
       "\n",
       "    .dataframe thead th {\n",
       "        text-align: right;\n",
       "    }\n",
       "</style>\n",
       "<table border=\"1\" class=\"dataframe\">\n",
       "  <thead>\n",
       "    <tr style=\"text-align: right;\">\n",
       "      <th></th>\n",
       "      <th>geom</th>\n",
       "      <th>SOAP</th>\n",
       "    </tr>\n",
       "  </thead>\n",
       "  <tbody>\n",
       "    <tr>\n",
       "      <th>0</th>\n",
       "      <td>(Atom('H', [5.687816897, 11.8095906, 0.4501787...</td>\n",
       "      <td>[3.064327e-08, -1.0571978e-07, -1.4709317e-07,...</td>\n",
       "    </tr>\n",
       "    <tr>\n",
       "      <th>1</th>\n",
       "      <td>(Atom('H', [5.687816897, 11.8095906, 0.4501787...</td>\n",
       "      <td>[8.213191e-11, 3.6122585e-09, -3.4000994e-08, ...</td>\n",
       "    </tr>\n",
       "    <tr>\n",
       "      <th>2</th>\n",
       "      <td>(Atom('H', [5.687816897, 11.8095906, 0.4501787...</td>\n",
       "      <td>[3.1361363e-08, -8.26679e-08, -4.1391553e-07, ...</td>\n",
       "    </tr>\n",
       "    <tr>\n",
       "      <th>3</th>\n",
       "      <td>(Atom('H', [5.687816897, 11.8095906, 0.4501787...</td>\n",
       "      <td>[3.7687133e-09, 1.1047682e-08, -2.2662132e-07,...</td>\n",
       "    </tr>\n",
       "    <tr>\n",
       "      <th>4</th>\n",
       "      <td>(Atom('H', [5.687816897, 11.8095906, 0.4501787...</td>\n",
       "      <td>[4.8717523e-09, -3.179345e-08, 9.560936e-08, 7...</td>\n",
       "    </tr>\n",
       "  </tbody>\n",
       "</table>\n",
       "</div>"
      ],
      "text/plain": [
       "                                                geom  \\\n",
       "0  (Atom('H', [5.687816897, 11.8095906, 0.4501787...   \n",
       "1  (Atom('H', [5.687816897, 11.8095906, 0.4501787...   \n",
       "2  (Atom('H', [5.687816897, 11.8095906, 0.4501787...   \n",
       "3  (Atom('H', [5.687816897, 11.8095906, 0.4501787...   \n",
       "4  (Atom('H', [5.687816897, 11.8095906, 0.4501787...   \n",
       "\n",
       "                                                SOAP  \n",
       "0  [3.064327e-08, -1.0571978e-07, -1.4709317e-07,...  \n",
       "1  [8.213191e-11, 3.6122585e-09, -3.4000994e-08, ...  \n",
       "2  [3.1361363e-08, -8.26679e-08, -4.1391553e-07, ...  \n",
       "3  [3.7687133e-09, 1.1047682e-08, -2.2662132e-07,...  \n",
       "4  [4.8717523e-09, -3.179345e-08, 9.560936e-08, 7...  "
      ]
     },
     "execution_count": 13,
     "metadata": {},
     "output_type": "execute_result"
    }
   ],
   "source": [
    "gridpoints = pd.concat([gridpoints, getSOAPs(gridpoints['geom'])], axis = 1)\n",
    "gridpoints.head()"
   ]
  },
  {
   "cell_type": "code",
   "execution_count": 14,
   "metadata": {
    "ExecuteTime": {
     "end_time": "2020-12-15T11:38:04.927317Z",
     "start_time": "2020-12-15T11:38:04.057703Z"
    }
   },
   "outputs": [
    {
     "data": {
      "text/html": [
       "<div>\n",
       "<style scoped>\n",
       "    .dataframe tbody tr th:only-of-type {\n",
       "        vertical-align: middle;\n",
       "    }\n",
       "\n",
       "    .dataframe tbody tr th {\n",
       "        vertical-align: top;\n",
       "    }\n",
       "\n",
       "    .dataframe thead th {\n",
       "        text-align: right;\n",
       "    }\n",
       "</style>\n",
       "<table border=\"1\" class=\"dataframe\">\n",
       "  <thead>\n",
       "    <tr style=\"text-align: right;\">\n",
       "      <th></th>\n",
       "      <th>0</th>\n",
       "      <th>1</th>\n",
       "      <th>2</th>\n",
       "      <th>3</th>\n",
       "      <th>4</th>\n",
       "      <th>5</th>\n",
       "      <th>6</th>\n",
       "      <th>7</th>\n",
       "      <th>8</th>\n",
       "      <th>9</th>\n",
       "      <th>...</th>\n",
       "      <th>5490</th>\n",
       "      <th>5491</th>\n",
       "      <th>5492</th>\n",
       "      <th>5493</th>\n",
       "      <th>5494</th>\n",
       "      <th>5495</th>\n",
       "      <th>5496</th>\n",
       "      <th>5497</th>\n",
       "      <th>5498</th>\n",
       "      <th>5499</th>\n",
       "    </tr>\n",
       "  </thead>\n",
       "  <tbody>\n",
       "    <tr>\n",
       "      <th>0</th>\n",
       "      <td>3.064327e-08</td>\n",
       "      <td>-1.057198e-07</td>\n",
       "      <td>-1.470932e-07</td>\n",
       "      <td>1.844229e-06</td>\n",
       "      <td>-4.090615e-07</td>\n",
       "      <td>-3.139774e-06</td>\n",
       "      <td>-6.885270e-06</td>\n",
       "      <td>3.083769e-07</td>\n",
       "      <td>1.863786e-06</td>\n",
       "      <td>1.183898e-05</td>\n",
       "      <td>...</td>\n",
       "      <td>0.000780</td>\n",
       "      <td>-0.001112</td>\n",
       "      <td>0.001108</td>\n",
       "      <td>-0.000555</td>\n",
       "      <td>0.001752</td>\n",
       "      <td>-0.001852</td>\n",
       "      <td>0.000961</td>\n",
       "      <td>0.002020</td>\n",
       "      <td>-0.001065</td>\n",
       "      <td>0.000566</td>\n",
       "    </tr>\n",
       "    <tr>\n",
       "      <th>1</th>\n",
       "      <td>8.213191e-11</td>\n",
       "      <td>3.612258e-09</td>\n",
       "      <td>-3.400099e-08</td>\n",
       "      <td>1.129564e-07</td>\n",
       "      <td>-4.757247e-08</td>\n",
       "      <td>-1.146004e-07</td>\n",
       "      <td>-8.431510e-08</td>\n",
       "      <td>-1.336889e-07</td>\n",
       "      <td>-4.132656e-08</td>\n",
       "      <td>4.985039e-07</td>\n",
       "      <td>...</td>\n",
       "      <td>0.000331</td>\n",
       "      <td>-0.000317</td>\n",
       "      <td>0.000217</td>\n",
       "      <td>-0.000078</td>\n",
       "      <td>0.000304</td>\n",
       "      <td>-0.000208</td>\n",
       "      <td>0.000075</td>\n",
       "      <td>0.000142</td>\n",
       "      <td>-0.000051</td>\n",
       "      <td>0.000019</td>\n",
       "    </tr>\n",
       "    <tr>\n",
       "      <th>2</th>\n",
       "      <td>3.136136e-08</td>\n",
       "      <td>-8.266790e-08</td>\n",
       "      <td>-4.139155e-07</td>\n",
       "      <td>3.195697e-06</td>\n",
       "      <td>-3.556459e-06</td>\n",
       "      <td>-3.179361e-06</td>\n",
       "      <td>-4.027245e-07</td>\n",
       "      <td>1.149188e-06</td>\n",
       "      <td>-2.027394e-06</td>\n",
       "      <td>9.027733e-06</td>\n",
       "      <td>...</td>\n",
       "      <td>0.000316</td>\n",
       "      <td>-0.000298</td>\n",
       "      <td>0.000201</td>\n",
       "      <td>-0.000072</td>\n",
       "      <td>0.000282</td>\n",
       "      <td>-0.000190</td>\n",
       "      <td>0.000068</td>\n",
       "      <td>0.000128</td>\n",
       "      <td>-0.000046</td>\n",
       "      <td>0.000016</td>\n",
       "    </tr>\n",
       "    <tr>\n",
       "      <th>3</th>\n",
       "      <td>3.768713e-09</td>\n",
       "      <td>1.104768e-08</td>\n",
       "      <td>-2.266213e-07</td>\n",
       "      <td>9.086839e-07</td>\n",
       "      <td>-3.532762e-07</td>\n",
       "      <td>-1.872875e-06</td>\n",
       "      <td>2.869276e-07</td>\n",
       "      <td>2.486676e-07</td>\n",
       "      <td>-8.239413e-07</td>\n",
       "      <td>2.887975e-06</td>\n",
       "      <td>...</td>\n",
       "      <td>0.000174</td>\n",
       "      <td>-0.000155</td>\n",
       "      <td>0.000098</td>\n",
       "      <td>-0.000033</td>\n",
       "      <td>0.000138</td>\n",
       "      <td>-0.000087</td>\n",
       "      <td>0.000029</td>\n",
       "      <td>0.000055</td>\n",
       "      <td>-0.000019</td>\n",
       "      <td>0.000006</td>\n",
       "    </tr>\n",
       "    <tr>\n",
       "      <th>4</th>\n",
       "      <td>4.871752e-09</td>\n",
       "      <td>-3.179345e-08</td>\n",
       "      <td>9.560936e-08</td>\n",
       "      <td>7.325063e-08</td>\n",
       "      <td>-1.184580e-06</td>\n",
       "      <td>1.560686e-06</td>\n",
       "      <td>1.765605e-07</td>\n",
       "      <td>2.484651e-07</td>\n",
       "      <td>1.641037e-06</td>\n",
       "      <td>-3.260657e-06</td>\n",
       "      <td>...</td>\n",
       "      <td>0.000060</td>\n",
       "      <td>-0.000050</td>\n",
       "      <td>0.000029</td>\n",
       "      <td>-0.000009</td>\n",
       "      <td>0.000042</td>\n",
       "      <td>-0.000024</td>\n",
       "      <td>0.000008</td>\n",
       "      <td>0.000014</td>\n",
       "      <td>-0.000004</td>\n",
       "      <td>0.000001</td>\n",
       "    </tr>\n",
       "  </tbody>\n",
       "</table>\n",
       "<p>5 rows × 5500 columns</p>\n",
       "</div>"
      ],
      "text/plain": [
       "           0             1             2             3             4     \\\n",
       "0  3.064327e-08 -1.057198e-07 -1.470932e-07  1.844229e-06 -4.090615e-07   \n",
       "1  8.213191e-11  3.612258e-09 -3.400099e-08  1.129564e-07 -4.757247e-08   \n",
       "2  3.136136e-08 -8.266790e-08 -4.139155e-07  3.195697e-06 -3.556459e-06   \n",
       "3  3.768713e-09  1.104768e-08 -2.266213e-07  9.086839e-07 -3.532762e-07   \n",
       "4  4.871752e-09 -3.179345e-08  9.560936e-08  7.325063e-08 -1.184580e-06   \n",
       "\n",
       "           5             6             7             8             9     ...  \\\n",
       "0 -3.139774e-06 -6.885270e-06  3.083769e-07  1.863786e-06  1.183898e-05  ...   \n",
       "1 -1.146004e-07 -8.431510e-08 -1.336889e-07 -4.132656e-08  4.985039e-07  ...   \n",
       "2 -3.179361e-06 -4.027245e-07  1.149188e-06 -2.027394e-06  9.027733e-06  ...   \n",
       "3 -1.872875e-06  2.869276e-07  2.486676e-07 -8.239413e-07  2.887975e-06  ...   \n",
       "4  1.560686e-06  1.765605e-07  2.484651e-07  1.641037e-06 -3.260657e-06  ...   \n",
       "\n",
       "       5490      5491      5492      5493      5494      5495      5496  \\\n",
       "0  0.000780 -0.001112  0.001108 -0.000555  0.001752 -0.001852  0.000961   \n",
       "1  0.000331 -0.000317  0.000217 -0.000078  0.000304 -0.000208  0.000075   \n",
       "2  0.000316 -0.000298  0.000201 -0.000072  0.000282 -0.000190  0.000068   \n",
       "3  0.000174 -0.000155  0.000098 -0.000033  0.000138 -0.000087  0.000029   \n",
       "4  0.000060 -0.000050  0.000029 -0.000009  0.000042 -0.000024  0.000008   \n",
       "\n",
       "       5497      5498      5499  \n",
       "0  0.002020 -0.001065  0.000566  \n",
       "1  0.000142 -0.000051  0.000019  \n",
       "2  0.000128 -0.000046  0.000016  \n",
       "3  0.000055 -0.000019  0.000006  \n",
       "4  0.000014 -0.000004  0.000001  \n",
       "\n",
       "[5 rows x 5500 columns]"
      ]
     },
     "execution_count": 14,
     "metadata": {},
     "output_type": "execute_result"
    }
   ],
   "source": [
    "X = pd.DataFrame(gridpoints['SOAP'].to_list(), index = gridpoints.index)\n",
    "X.head()"
   ]
  },
  {
   "cell_type": "code",
   "execution_count": 17,
   "metadata": {
    "ExecuteTime": {
     "end_time": "2020-12-15T11:38:13.615897Z",
     "start_time": "2020-12-15T11:38:13.589665Z"
    }
   },
   "outputs": [],
   "source": [
    "predEs = Emodel.predict(X)"
   ]
  },
  {
   "cell_type": "code",
   "execution_count": 18,
   "metadata": {
    "ExecuteTime": {
     "end_time": "2020-12-15T11:38:14.485516Z",
     "start_time": "2020-12-15T11:38:14.416292Z"
    },
    "scrolled": false
   },
   "outputs": [
    {
     "data": {
      "text/html": [
       "<div>\n",
       "<style scoped>\n",
       "    .dataframe tbody tr th:only-of-type {\n",
       "        vertical-align: middle;\n",
       "    }\n",
       "\n",
       "    .dataframe tbody tr th {\n",
       "        vertical-align: top;\n",
       "    }\n",
       "\n",
       "    .dataframe thead th {\n",
       "        text-align: right;\n",
       "    }\n",
       "</style>\n",
       "<table border=\"1\" class=\"dataframe\">\n",
       "  <thead>\n",
       "    <tr style=\"text-align: right;\">\n",
       "      <th></th>\n",
       "      <th>geom</th>\n",
       "      <th>SOAP</th>\n",
       "      <th>predE</th>\n",
       "    </tr>\n",
       "  </thead>\n",
       "  <tbody>\n",
       "    <tr>\n",
       "      <th>0</th>\n",
       "      <td>(Atom('H', [5.687816897, 11.8095906, 0.4501787...</td>\n",
       "      <td>[3.064327e-08, -1.0571978e-07, -1.4709317e-07,...</td>\n",
       "      <td>-0.249615</td>\n",
       "    </tr>\n",
       "    <tr>\n",
       "      <th>1</th>\n",
       "      <td>(Atom('H', [5.687816897, 11.8095906, 0.4501787...</td>\n",
       "      <td>[8.213191e-11, 3.6122585e-09, -3.4000994e-08, ...</td>\n",
       "      <td>-0.140592</td>\n",
       "    </tr>\n",
       "    <tr>\n",
       "      <th>2</th>\n",
       "      <td>(Atom('H', [5.687816897, 11.8095906, 0.4501787...</td>\n",
       "      <td>[3.1361363e-08, -8.26679e-08, -4.1391553e-07, ...</td>\n",
       "      <td>-0.166568</td>\n",
       "    </tr>\n",
       "    <tr>\n",
       "      <th>3</th>\n",
       "      <td>(Atom('H', [5.687816897, 11.8095906, 0.4501787...</td>\n",
       "      <td>[3.7687133e-09, 1.1047682e-08, -2.2662132e-07,...</td>\n",
       "      <td>-0.157800</td>\n",
       "    </tr>\n",
       "    <tr>\n",
       "      <th>4</th>\n",
       "      <td>(Atom('H', [5.687816897, 11.8095906, 0.4501787...</td>\n",
       "      <td>[4.8717523e-09, -3.179345e-08, 9.560936e-08, 7...</td>\n",
       "      <td>-0.148129</td>\n",
       "    </tr>\n",
       "    <tr>\n",
       "      <th>...</th>\n",
       "      <td>...</td>\n",
       "      <td>...</td>\n",
       "      <td>...</td>\n",
       "    </tr>\n",
       "    <tr>\n",
       "      <th>395</th>\n",
       "      <td>(Atom('H', [5.687816897, 11.8095906, 0.4501787...</td>\n",
       "      <td>[1.800102e-09, -9.1894545e-09, 9.471556e-09, 1...</td>\n",
       "      <td>-0.221563</td>\n",
       "    </tr>\n",
       "    <tr>\n",
       "      <th>396</th>\n",
       "      <td>(Atom('H', [5.687816897, 11.8095906, 0.4501787...</td>\n",
       "      <td>[3.121737e-09, -1.8003904e-08, 3.8727993e-08, ...</td>\n",
       "      <td>-0.197281</td>\n",
       "    </tr>\n",
       "    <tr>\n",
       "      <th>397</th>\n",
       "      <td>(Atom('H', [5.687816897, 11.8095906, 0.4501787...</td>\n",
       "      <td>[1.2053543e-09, 1.1757077e-08, -1.4773269e-07,...</td>\n",
       "      <td>-0.214862</td>\n",
       "    </tr>\n",
       "    <tr>\n",
       "      <th>398</th>\n",
       "      <td>(Atom('H', [5.687816897, 11.8095906, 0.4501787...</td>\n",
       "      <td>[6.3065224e-09, -4.697195e-08, 1.6783822e-07, ...</td>\n",
       "      <td>-0.222954</td>\n",
       "    </tr>\n",
       "    <tr>\n",
       "      <th>399</th>\n",
       "      <td>(Atom('H', [5.687816897, 11.8095906, 0.4501787...</td>\n",
       "      <td>[4.501606e-09, 1.4037149e-09, -1.5100349e-07, ...</td>\n",
       "      <td>-0.235114</td>\n",
       "    </tr>\n",
       "  </tbody>\n",
       "</table>\n",
       "<p>400 rows × 3 columns</p>\n",
       "</div>"
      ],
      "text/plain": [
       "                                                  geom  \\\n",
       "0    (Atom('H', [5.687816897, 11.8095906, 0.4501787...   \n",
       "1    (Atom('H', [5.687816897, 11.8095906, 0.4501787...   \n",
       "2    (Atom('H', [5.687816897, 11.8095906, 0.4501787...   \n",
       "3    (Atom('H', [5.687816897, 11.8095906, 0.4501787...   \n",
       "4    (Atom('H', [5.687816897, 11.8095906, 0.4501787...   \n",
       "..                                                 ...   \n",
       "395  (Atom('H', [5.687816897, 11.8095906, 0.4501787...   \n",
       "396  (Atom('H', [5.687816897, 11.8095906, 0.4501787...   \n",
       "397  (Atom('H', [5.687816897, 11.8095906, 0.4501787...   \n",
       "398  (Atom('H', [5.687816897, 11.8095906, 0.4501787...   \n",
       "399  (Atom('H', [5.687816897, 11.8095906, 0.4501787...   \n",
       "\n",
       "                                                  SOAP     predE  \n",
       "0    [3.064327e-08, -1.0571978e-07, -1.4709317e-07,... -0.249615  \n",
       "1    [8.213191e-11, 3.6122585e-09, -3.4000994e-08, ... -0.140592  \n",
       "2    [3.1361363e-08, -8.26679e-08, -4.1391553e-07, ... -0.166568  \n",
       "3    [3.7687133e-09, 1.1047682e-08, -2.2662132e-07,... -0.157800  \n",
       "4    [4.8717523e-09, -3.179345e-08, 9.560936e-08, 7... -0.148129  \n",
       "..                                                 ...       ...  \n",
       "395  [1.800102e-09, -9.1894545e-09, 9.471556e-09, 1... -0.221563  \n",
       "396  [3.121737e-09, -1.8003904e-08, 3.8727993e-08, ... -0.197281  \n",
       "397  [1.2053543e-09, 1.1757077e-08, -1.4773269e-07,... -0.214862  \n",
       "398  [6.3065224e-09, -4.697195e-08, 1.6783822e-07, ... -0.222954  \n",
       "399  [4.501606e-09, 1.4037149e-09, -1.5100349e-07, ... -0.235114  \n",
       "\n",
       "[400 rows x 3 columns]"
      ]
     },
     "execution_count": 18,
     "metadata": {},
     "output_type": "execute_result"
    }
   ],
   "source": [
    "gridpoints['predE'] = predEs\n",
    "gridpoints"
   ]
  },
  {
   "cell_type": "code",
   "execution_count": 19,
   "metadata": {
    "ExecuteTime": {
     "end_time": "2020-12-15T11:38:15.929520Z",
     "start_time": "2020-12-15T11:38:15.845730Z"
    }
   },
   "outputs": [],
   "source": [
    "charges = np.append(np.zeros(len(base)), gridpoints['predE'])\n",
    "visbase = base.copy()\n",
    "for geom in gridpoints['geom']:\n",
    "    visbase.append(Atom(\"He\", position = geom[-1].position)) \n",
    "visbase.set_initial_charges(charges)\n",
    "view(visbase)"
   ]
  },
  {
   "cell_type": "code",
   "execution_count": 20,
   "metadata": {
    "ExecuteTime": {
     "end_time": "2020-12-15T11:38:34.077399Z",
     "start_time": "2020-12-15T11:38:34.070974Z"
    }
   },
   "outputs": [
    {
     "data": {
      "text/plain": [
       "(-0.4370635688632092, 0.0)"
      ]
     },
     "execution_count": 20,
     "metadata": {},
     "output_type": "execute_result"
    }
   ],
   "source": [
    "min(charges), max(charges)"
   ]
  },
  {
   "cell_type": "code",
   "execution_count": 21,
   "metadata": {
    "ExecuteTime": {
     "end_time": "2020-12-15T11:38:35.483908Z",
     "start_time": "2020-12-15T11:38:35.275659Z"
    }
   },
   "outputs": [
    {
     "name": "stdout",
     "output_type": "stream",
     "text": [
      "(0.8520906340905918, 5.817755831346991e-114)\n"
     ]
    },
    {
     "data": {
      "image/png": "[encoded data removed]",
      "text/plain": [
       "<Figure size 432x288 with 1 Axes>"
      ]
     },
     "metadata": {
      "needs_background": "light"
     },
     "output_type": "display_data"
    }
   ],
   "source": [
    "plt.scatter([geom[-1].position[2] for geom in gridpoints['geom']],\n",
    "         gridpoints['predE']\n",
    "        )\n",
    "print(\n",
    "pearsonr([geom[-1].position[2] for geom in gridpoints['geom']],\n",
    "         gridpoints['predE']\n",
    "        )\n",
    ")"
   ]
  },
  {
   "cell_type": "markdown",
   "metadata": {},
   "source": [
    "# Adaptive sampling based on Epred"
   ]
  },
  {
   "cell_type": "code",
   "execution_count": 22,
   "metadata": {
    "ExecuteTime": {
     "end_time": "2020-12-15T11:38:42.668247Z",
     "start_time": "2020-12-15T11:38:42.596532Z"
    }
   },
   "outputs": [
    {
     "data": {
      "text/html": [
       "<div>\n",
       "<style scoped>\n",
       "    .dataframe tbody tr th:only-of-type {\n",
       "        vertical-align: middle;\n",
       "    }\n",
       "\n",
       "    .dataframe tbody tr th {\n",
       "        vertical-align: top;\n",
       "    }\n",
       "\n",
       "    .dataframe thead th {\n",
       "        text-align: right;\n",
       "    }\n",
       "</style>\n",
       "<table border=\"1\" class=\"dataframe\">\n",
       "  <thead>\n",
       "    <tr style=\"text-align: right;\">\n",
       "      <th></th>\n",
       "      <th>geom</th>\n",
       "      <th>SOAP</th>\n",
       "      <th>predE</th>\n",
       "    </tr>\n",
       "  </thead>\n",
       "  <tbody>\n",
       "    <tr>\n",
       "      <th>195</th>\n",
       "      <td>(Atom('H', [5.687816897, 11.8095906, 0.4501787...</td>\n",
       "      <td>[3.6382697e-09, -1.9743231e-08, 2.6733927e-08,...</td>\n",
       "      <td>-0.437064</td>\n",
       "    </tr>\n",
       "    <tr>\n",
       "      <th>215</th>\n",
       "      <td>(Atom('H', [5.687816897, 11.8095906, 0.4501787...</td>\n",
       "      <td>[3.12802e-11, -4.726763e-10, 3.2690313e-09, -8...</td>\n",
       "      <td>-0.396863</td>\n",
       "    </tr>\n",
       "    <tr>\n",
       "      <th>147</th>\n",
       "      <td>(Atom('H', [5.687816897, 11.8095906, 0.4501787...</td>\n",
       "      <td>[7.0423284e-10, -2.467503e-10, -3.0958862e-08,...</td>\n",
       "      <td>-0.391573</td>\n",
       "    </tr>\n",
       "    <tr>\n",
       "      <th>236</th>\n",
       "      <td>(Atom('H', [5.687816897, 11.8095906, 0.4501787...</td>\n",
       "      <td>[9.032491e-09, -6.4968106e-08, 2.1738117e-07, ...</td>\n",
       "      <td>-0.383273</td>\n",
       "    </tr>\n",
       "    <tr>\n",
       "      <th>128</th>\n",
       "      <td>(Atom('H', [5.687816897, 11.8095906, 0.4501787...</td>\n",
       "      <td>[8.098747e-10, -3.446277e-09, -2.3059834e-09, ...</td>\n",
       "      <td>-0.381468</td>\n",
       "    </tr>\n",
       "    <tr>\n",
       "      <th>...</th>\n",
       "      <td>...</td>\n",
       "      <td>...</td>\n",
       "      <td>...</td>\n",
       "    </tr>\n",
       "    <tr>\n",
       "      <th>202</th>\n",
       "      <td>(Atom('H', [5.687816897, 11.8095906, 0.4501787...</td>\n",
       "      <td>[4.531258e-09, -3.9727627e-08, 1.7419737e-07, ...</td>\n",
       "      <td>-0.078098</td>\n",
       "    </tr>\n",
       "    <tr>\n",
       "      <th>136</th>\n",
       "      <td>(Atom('H', [5.687816897, 11.8095906, 0.4501787...</td>\n",
       "      <td>[4.9455666e-09, -3.2489485e-08, 1.0117405e-07,...</td>\n",
       "      <td>-0.074719</td>\n",
       "    </tr>\n",
       "    <tr>\n",
       "      <th>156</th>\n",
       "      <td>(Atom('H', [5.687816897, 11.8095906, 0.4501787...</td>\n",
       "      <td>[3.35695e-09, -1.9410766e-08, 3.8746304e-08, 1...</td>\n",
       "      <td>-0.071507</td>\n",
       "    </tr>\n",
       "    <tr>\n",
       "      <th>137</th>\n",
       "      <td>(Atom('H', [5.687816897, 11.8095906, 0.4501787...</td>\n",
       "      <td>[5.3237375e-09, -3.966178e-08, 1.479871e-07, -...</td>\n",
       "      <td>-0.069087</td>\n",
       "    </tr>\n",
       "    <tr>\n",
       "      <th>155</th>\n",
       "      <td>(Atom('H', [5.687816897, 11.8095906, 0.4501787...</td>\n",
       "      <td>[3.442201e-09, -2.5037373e-08, 8.4964725e-08, ...</td>\n",
       "      <td>-0.068608</td>\n",
       "    </tr>\n",
       "  </tbody>\n",
       "</table>\n",
       "<p>400 rows × 3 columns</p>\n",
       "</div>"
      ],
      "text/plain": [
       "                                                  geom  \\\n",
       "195  (Atom('H', [5.687816897, 11.8095906, 0.4501787...   \n",
       "215  (Atom('H', [5.687816897, 11.8095906, 0.4501787...   \n",
       "147  (Atom('H', [5.687816897, 11.8095906, 0.4501787...   \n",
       "236  (Atom('H', [5.687816897, 11.8095906, 0.4501787...   \n",
       "128  (Atom('H', [5.687816897, 11.8095906, 0.4501787...   \n",
       "..                                                 ...   \n",
       "202  (Atom('H', [5.687816897, 11.8095906, 0.4501787...   \n",
       "136  (Atom('H', [5.687816897, 11.8095906, 0.4501787...   \n",
       "156  (Atom('H', [5.687816897, 11.8095906, 0.4501787...   \n",
       "137  (Atom('H', [5.687816897, 11.8095906, 0.4501787...   \n",
       "155  (Atom('H', [5.687816897, 11.8095906, 0.4501787...   \n",
       "\n",
       "                                                  SOAP     predE  \n",
       "195  [3.6382697e-09, -1.9743231e-08, 2.6733927e-08,... -0.437064  \n",
       "215  [3.12802e-11, -4.726763e-10, 3.2690313e-09, -8... -0.396863  \n",
       "147  [7.0423284e-10, -2.467503e-10, -3.0958862e-08,... -0.391573  \n",
       "236  [9.032491e-09, -6.4968106e-08, 2.1738117e-07, ... -0.383273  \n",
       "128  [8.098747e-10, -3.446277e-09, -2.3059834e-09, ... -0.381468  \n",
       "..                                                 ...       ...  \n",
       "202  [4.531258e-09, -3.9727627e-08, 1.7419737e-07, ... -0.078098  \n",
       "136  [4.9455666e-09, -3.2489485e-08, 1.0117405e-07,... -0.074719  \n",
       "156  [3.35695e-09, -1.9410766e-08, 3.8746304e-08, 1... -0.071507  \n",
       "137  [5.3237375e-09, -3.966178e-08, 1.479871e-07, -... -0.069087  \n",
       "155  [3.442201e-09, -2.5037373e-08, 8.4964725e-08, ... -0.068608  \n",
       "\n",
       "[400 rows x 3 columns]"
      ]
     },
     "execution_count": 22,
     "metadata": {},
     "output_type": "execute_result"
    }
   ],
   "source": [
    "gridpoints = gridpoints.sort_values(by = 'predE')\n",
    "gridpoints"
   ]
  },
  {
   "cell_type": "code",
   "execution_count": 23,
   "metadata": {
    "ExecuteTime": {
     "end_time": "2020-12-15T11:38:43.693787Z",
     "start_time": "2020-12-15T11:38:43.679905Z"
    }
   },
   "outputs": [],
   "source": [
    "gridpoints['xpos'] = [geom[-1].position[0] for geom in gridpoints['geom']]\n",
    "gridpoints['ypos'] = [geom[-1].position[1] for geom in gridpoints['geom']]\n",
    "gridpoints['zpos'] = [geom[-1].position[2] for geom in gridpoints['geom']]"
   ]
  },
  {
   "cell_type": "code",
   "execution_count": 24,
   "metadata": {
    "ExecuteTime": {
     "end_time": "2020-12-15T11:38:44.336394Z",
     "start_time": "2020-12-15T11:38:44.258048Z"
    },
    "scrolled": true
   },
   "outputs": [
    {
     "data": {
      "text/html": [
       "<div>\n",
       "<style scoped>\n",
       "    .dataframe tbody tr th:only-of-type {\n",
       "        vertical-align: middle;\n",
       "    }\n",
       "\n",
       "    .dataframe tbody tr th {\n",
       "        vertical-align: top;\n",
       "    }\n",
       "\n",
       "    .dataframe thead th {\n",
       "        text-align: right;\n",
       "    }\n",
       "</style>\n",
       "<table border=\"1\" class=\"dataframe\">\n",
       "  <thead>\n",
       "    <tr style=\"text-align: right;\">\n",
       "      <th></th>\n",
       "      <th>geom</th>\n",
       "      <th>SOAP</th>\n",
       "      <th>predE</th>\n",
       "      <th>xpos</th>\n",
       "      <th>ypos</th>\n",
       "      <th>zpos</th>\n",
       "    </tr>\n",
       "  </thead>\n",
       "  <tbody>\n",
       "    <tr>\n",
       "      <th>195</th>\n",
       "      <td>(Atom('H', [5.687816897, 11.8095906, 0.4501787...</td>\n",
       "      <td>[3.6382697e-09, -1.9743231e-08, 2.6733927e-08,...</td>\n",
       "      <td>-0.437064</td>\n",
       "      <td>7.133590</td>\n",
       "      <td>11.889316</td>\n",
       "      <td>17.473442</td>\n",
       "    </tr>\n",
       "    <tr>\n",
       "      <th>215</th>\n",
       "      <td>(Atom('H', [5.687816897, 11.8095906, 0.4501787...</td>\n",
       "      <td>[3.12802e-11, -4.726763e-10, 3.2690313e-09, -8...</td>\n",
       "      <td>-0.396863</td>\n",
       "      <td>7.926211</td>\n",
       "      <td>11.889316</td>\n",
       "      <td>17.033941</td>\n",
       "    </tr>\n",
       "    <tr>\n",
       "      <th>147</th>\n",
       "      <td>(Atom('H', [5.687816897, 11.8095906, 0.4501787...</td>\n",
       "      <td>[7.0423284e-10, -2.467503e-10, -3.0958862e-08,...</td>\n",
       "      <td>-0.391573</td>\n",
       "      <td>5.548347</td>\n",
       "      <td>5.548347</td>\n",
       "      <td>17.216012</td>\n",
       "    </tr>\n",
       "    <tr>\n",
       "      <th>236</th>\n",
       "      <td>(Atom('H', [5.687816897, 11.8095906, 0.4501787...</td>\n",
       "      <td>[9.032491e-09, -6.4968106e-08, 2.1738117e-07, ...</td>\n",
       "      <td>-0.383273</td>\n",
       "      <td>8.718832</td>\n",
       "      <td>12.681937</td>\n",
       "      <td>17.585063</td>\n",
       "    </tr>\n",
       "    <tr>\n",
       "      <th>128</th>\n",
       "      <td>(Atom('H', [5.687816897, 11.8095906, 0.4501787...</td>\n",
       "      <td>[8.098747e-10, -3.446277e-09, -2.3059834e-09, ...</td>\n",
       "      <td>-0.381468</td>\n",
       "      <td>4.755726</td>\n",
       "      <td>6.340968</td>\n",
       "      <td>18.072694</td>\n",
       "    </tr>\n",
       "    <tr>\n",
       "      <th>...</th>\n",
       "      <td>...</td>\n",
       "      <td>...</td>\n",
       "      <td>...</td>\n",
       "      <td>...</td>\n",
       "      <td>...</td>\n",
       "      <td>...</td>\n",
       "    </tr>\n",
       "    <tr>\n",
       "      <th>202</th>\n",
       "      <td>(Atom('H', [5.687816897, 11.8095906, 0.4501787...</td>\n",
       "      <td>[4.531258e-09, -3.9727627e-08, 1.7419737e-07, ...</td>\n",
       "      <td>-0.078098</td>\n",
       "      <td>7.926211</td>\n",
       "      <td>1.585242</td>\n",
       "      <td>20.562712</td>\n",
       "    </tr>\n",
       "    <tr>\n",
       "      <th>136</th>\n",
       "      <td>(Atom('H', [5.687816897, 11.8095906, 0.4501787...</td>\n",
       "      <td>[4.9455666e-09, -3.2489485e-08, 1.0117405e-07,...</td>\n",
       "      <td>-0.074719</td>\n",
       "      <td>4.755726</td>\n",
       "      <td>12.681937</td>\n",
       "      <td>21.012271</td>\n",
       "    </tr>\n",
       "    <tr>\n",
       "      <th>156</th>\n",
       "      <td>(Atom('H', [5.687816897, 11.8095906, 0.4501787...</td>\n",
       "      <td>[3.35695e-09, -1.9410766e-08, 3.8746304e-08, 1...</td>\n",
       "      <td>-0.071507</td>\n",
       "      <td>5.548347</td>\n",
       "      <td>12.681937</td>\n",
       "      <td>20.886609</td>\n",
       "    </tr>\n",
       "    <tr>\n",
       "      <th>137</th>\n",
       "      <td>(Atom('H', [5.687816897, 11.8095906, 0.4501787...</td>\n",
       "      <td>[5.3237375e-09, -3.966178e-08, 1.479871e-07, -...</td>\n",
       "      <td>-0.069087</td>\n",
       "      <td>4.755726</td>\n",
       "      <td>13.474558</td>\n",
       "      <td>20.966857</td>\n",
       "    </tr>\n",
       "    <tr>\n",
       "      <th>155</th>\n",
       "      <td>(Atom('H', [5.687816897, 11.8095906, 0.4501787...</td>\n",
       "      <td>[3.442201e-09, -2.5037373e-08, 8.4964725e-08, ...</td>\n",
       "      <td>-0.068608</td>\n",
       "      <td>5.548347</td>\n",
       "      <td>11.889316</td>\n",
       "      <td>20.479055</td>\n",
       "    </tr>\n",
       "  </tbody>\n",
       "</table>\n",
       "<p>400 rows × 6 columns</p>\n",
       "</div>"
      ],
      "text/plain": [
       "                                                  geom  \\\n",
       "195  (Atom('H', [5.687816897, 11.8095906, 0.4501787...   \n",
       "215  (Atom('H', [5.687816897, 11.8095906, 0.4501787...   \n",
       "147  (Atom('H', [5.687816897, 11.8095906, 0.4501787...   \n",
       "236  (Atom('H', [5.687816897, 11.8095906, 0.4501787...   \n",
       "128  (Atom('H', [5.687816897, 11.8095906, 0.4501787...   \n",
       "..                                                 ...   \n",
       "202  (Atom('H', [5.687816897, 11.8095906, 0.4501787...   \n",
       "136  (Atom('H', [5.687816897, 11.8095906, 0.4501787...   \n",
       "156  (Atom('H', [5.687816897, 11.8095906, 0.4501787...   \n",
       "137  (Atom('H', [5.687816897, 11.8095906, 0.4501787...   \n",
       "155  (Atom('H', [5.687816897, 11.8095906, 0.4501787...   \n",
       "\n",
       "                                                  SOAP     predE      xpos  \\\n",
       "195  [3.6382697e-09, -1.9743231e-08, 2.6733927e-08,... -0.437064  7.133590   \n",
       "215  [3.12802e-11, -4.726763e-10, 3.2690313e-09, -8... -0.396863  7.926211   \n",
       "147  [7.0423284e-10, -2.467503e-10, -3.0958862e-08,... -0.391573  5.548347   \n",
       "236  [9.032491e-09, -6.4968106e-08, 2.1738117e-07, ... -0.383273  8.718832   \n",
       "128  [8.098747e-10, -3.446277e-09, -2.3059834e-09, ... -0.381468  4.755726   \n",
       "..                                                 ...       ...       ...   \n",
       "202  [4.531258e-09, -3.9727627e-08, 1.7419737e-07, ... -0.078098  7.926211   \n",
       "136  [4.9455666e-09, -3.2489485e-08, 1.0117405e-07,... -0.074719  4.755726   \n",
       "156  [3.35695e-09, -1.9410766e-08, 3.8746304e-08, 1... -0.071507  5.548347   \n",
       "137  [5.3237375e-09, -3.966178e-08, 1.479871e-07, -... -0.069087  4.755726   \n",
       "155  [3.442201e-09, -2.5037373e-08, 8.4964725e-08, ... -0.068608  5.548347   \n",
       "\n",
       "          ypos       zpos  \n",
       "195  11.889316  17.473442  \n",
       "215  11.889316  17.033941  \n",
       "147   5.548347  17.216012  \n",
       "236  12.681937  17.585063  \n",
       "128   6.340968  18.072694  \n",
       "..         ...        ...  \n",
       "202   1.585242  20.562712  \n",
       "136  12.681937  21.012271  \n",
       "156  12.681937  20.886609  \n",
       "137  13.474558  20.966857  \n",
       "155  11.889316  20.479055  \n",
       "\n",
       "[400 rows x 6 columns]"
      ]
     },
     "execution_count": 24,
     "metadata": {},
     "output_type": "execute_result"
    }
   ],
   "source": [
    "gridpoints"
   ]
  },
  {
   "cell_type": "code",
   "execution_count": 31,
   "metadata": {
    "ExecuteTime": {
     "end_time": "2020-12-16T21:26:12.185557Z",
     "start_time": "2020-12-16T21:26:11.796373Z"
    }
   },
   "outputs": [
    {
     "data": {
      "text/plain": [
       "([array([ 7.13358954, 11.88931591, 17.47344207]),\n",
       "  array([ 5.54834742,  5.54834742, 17.21601196]),\n",
       "  array([14.26717909, 11.09669485, 18.4012302 ]),\n",
       "  array([12.68193697,  3.9631053 , 17.55901647]),\n",
       "  array([ 3.9631053 ,  1.58524212, 18.96352119]),\n",
       "  array([ 0.        ,  0.        , 19.71449663]),\n",
       "  array([10.30407379, 15.05980015, 18.83973582]),\n",
       "  array([ 9.51145273,  7.13358954, 20.41596068]),\n",
       "  array([ 3.17048424, 10.30407379, 20.06587646]),\n",
       "  array([ 1.58524212,  6.34096848, 20.11343636])],\n",
       " 10)"
      ]
     },
     "execution_count": 31,
     "metadata": {},
     "output_type": "execute_result"
    }
   ],
   "source": [
    "mefCutoff = 4\n",
    "adsorbatePoints = []\n",
    "a = visbase.cell[0]\n",
    "b = visbase.cell[1]\n",
    "for i, row in gridpoints.iterrows():\n",
    "    isclose = False\n",
    "    point1 = np.array([row['xpos'], row['ypos']]) \n",
    "    for x, y, z in adsorbatePoints: \n",
    "        for dispx in [-a, a*0, a]:\n",
    "            for dispy in [-b, b*0, b]:\n",
    "                point2 = np.array([x, y])\n",
    "                point2 = point2 + dispx[:2] + dispy[:2]\n",
    "        \n",
    "                if np.linalg.norm(point1 - point2) < mefCutoff:\n",
    "                    isclose = True\n",
    "    if not isclose:\n",
    "        adsorbatePoints.append(np.append(point1, row['zpos']))\n",
    "adsorbatePoints, len(adsorbatePoints)"
   ]
  },
  {
   "cell_type": "code",
   "execution_count": 26,
   "metadata": {
    "ExecuteTime": {
     "end_time": "2020-12-15T11:38:52.722381Z",
     "start_time": "2020-12-15T11:38:52.700972Z"
    }
   },
   "outputs": [],
   "source": [
    "adsvisbase = base.copy()\n",
    "maxz = np.max([atom.position[2] for atom in adsvisbase])\n",
    "for point in adsorbatePoints:\n",
    "    add_adsorbate(adsvisbase, mef, height = point[2] - maxz + 1, position = (point[0], point[1]))\n",
    "view(adsvisbase)"
   ]
  },
  {
   "cell_type": "code",
   "execution_count": 27,
   "metadata": {
    "ExecuteTime": {
     "end_time": "2020-12-15T11:52:19.873640Z",
     "start_time": "2020-12-15T11:52:19.864249Z"
    }
   },
   "outputs": [],
   "source": [
    "gen.write_gen(\"../input.gen\", adsvisbase)"
   ]
  },
  {
   "cell_type": "code",
   "execution_count": 66,
   "metadata": {
    "ExecuteTime": {
     "end_time": "2020-12-01T06:53:30.085104Z",
     "start_time": "2020-12-01T06:53:30.069159Z"
    }
   },
   "outputs": [],
   "source": [
    "view(adsvisbase)"
   ]
  },
  {
   "cell_type": "code",
   "execution_count": 28,
   "metadata": {
    "ExecuteTime": {
     "end_time": "2020-12-15T11:52:59.421668Z",
     "start_time": "2020-12-15T11:52:59.399487Z"
    }
   },
   "outputs": [],
   "source": [
    "view(gen.read_gen(\"../input.gen\"))"
   ]
  },
  {
   "cell_type": "code",
   "execution_count": null,
   "metadata": {},
   "outputs": [],
   "source": []
  }
 ],
 "metadata": {
  "kernelspec": {
   "display_name": "Python 3",
   "language": "python",
   "name": "python3"
  },
  "language_info": {
   "codemirror_mode": {
    "name": "ipython",
    "version": 3
   },
   "file_extension": ".py",
   "mimetype": "text/x-python",
   "name": "python",
   "nbconvert_exporter": "python",
   "pygments_lexer": "ipython3",
   "version": "3.7.7"
  },
  "toc": {
   "base_numbering": 1,
   "nav_menu": {},
   "number_sections": true,
   "sideBar": true,
   "skip_h1_title": false,
   "title_cell": "Table of Contents",
   "title_sidebar": "Contents",
   "toc_cell": false,
   "toc_position": {},
   "toc_section_display": true,
   "toc_window_display": true
  }
 },
 "nbformat": 4,
 "nbformat_minor": 4
}
