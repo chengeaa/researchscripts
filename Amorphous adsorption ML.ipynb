{
 "cells": [
  {
   "cell_type": "markdown",
   "metadata": {
    "heading_collapsed": true,
    "slideshow": {
     "slide_type": "skip"
    }
   },
   "source": [
    "# Dependencies "
   ]
  },
  {
   "cell_type": "markdown",
   "metadata": {
    "heading_collapsed": true,
    "hidden": true,
    "slideshow": {
     "slide_type": "skip"
    }
   },
   "source": [
    "## Imports "
   ]
  },
  {
   "cell_type": "code",
   "execution_count": 1,
   "metadata": {
    "ExecuteTime": {
     "end_time": "2020-10-30T04:00:55.980272Z",
     "start_time": "2020-10-30T04:00:54.078748Z"
    },
    "hidden": true,
    "slideshow": {
     "slide_type": "skip"
    }
   },
   "outputs": [
    {
     "data": {
      "application/vnd.jupyter.widget-view+json": {
       "model_id": "faf6b07f68134d1db5996a849e61ce81",
       "version_major": 2,
       "version_minor": 0
      },
      "text/plain": [
       "_ColormakerRegistry()"
      ]
     },
     "metadata": {},
     "output_type": "display_data"
    }
   ],
   "source": [
    "# imports \n",
    "# base python\n",
    "import os\n",
    "import copy\n",
    "import re\n",
    "from sys import getsizeof\n",
    "import random\n",
    "\n",
    "# scipy\n",
    "import numpy as np\n",
    "import pandas as pd\n",
    "import matplotlib.pyplot as plt, mpld3\n",
    "%matplotlib inline\n",
    "import seaborn as sns\n",
    "from pathlib import Path\n",
    "from scipy.optimize import curve_fit\n",
    "from scipy.interpolate import interp1d, interp2d\n",
    "from sklearn.metrics.pairwise import rbf_kernel\n",
    "from sklearn import preprocessing\n",
    "import matplotlib.tri as tri\n",
    "from sklearn.manifold import MDS\n",
    "from sklearn.manifold import TSNE\n",
    "\n",
    "plt.rcParams[\"figure.figsize\"] = (20,7)\n",
    "\n",
    "#ase\n",
    "from ase.io import gen, vasp, xyz, extxyz, dftb\n",
    "from ase.io.dftb import read_dftb_velocities, write_dftb_velocities\n",
    "from ase.calculators.dftb import Dftb\n",
    "from ase import Atoms, Atom\n",
    "from ase.constraints import FixAtoms\n",
    "from ase.visualize import view\n",
    "from ase.build import make_supercell\n",
    "from ase.visualize.plot import plot_atoms\n",
    "from ase.build import add_adsorbate\n",
    "import nglview\n",
    "from ase.geometry.analysis import Analysis\n",
    "\n",
    "#dscribe\n",
    "from dscribe.descriptors import SOAP\n",
    "from dscribe.descriptors import MBTR\n",
    "from dscribe.kernels import REMatchKernel\n",
    "from dscribe.kernels import AverageKernel\n",
    "\n",
    "from sklearn import preprocessing\n",
    "\n",
    "\n",
    "#quippy \n",
    "from ase.build import bulk\n",
    "from ase.optimize import LBFGS\n",
    "from ase.visualize import view\n",
    "from quippy.potential import Potential\n",
    "\n",
    "\n",
    "#misc\n",
    "import similaritymeasures\n"
   ]
  },
  {
   "cell_type": "markdown",
   "metadata": {
    "heading_collapsed": true,
    "hidden": true,
    "slideshow": {
     "slide_type": "skip"
    }
   },
   "source": [
    "## Functions"
   ]
  },
  {
   "cell_type": "code",
   "execution_count": 121,
   "metadata": {
    "ExecuteTime": {
     "end_time": "2020-10-30T22:39:33.182126Z",
     "start_time": "2020-10-30T22:39:33.158713Z"
    },
    "code_folding": [
     0,
     11,
     17,
     25,
     65
    ],
    "hidden": true,
    "slideshow": {
     "slide_type": "skip"
    }
   },
   "outputs": [],
   "source": [
    "def show_atoms_grid(data, rotation = '-0x,0y,0z', save= False, filename = 'grid_configs'):\n",
    "    '''\n",
    "    Where data is list of Atoms objects\n",
    "    '''\n",
    "    dim = int(np.ceil(np.sqrt(len(data))))\n",
    "    fig, axarr = plt.subplots(dim, dim, figsize=(25, 25))\n",
    "    for i, config in enumerate(data):\n",
    "        plot_atoms(config, axarr[i%dim,i//dim], rotation = rotation)\n",
    "    if save:\n",
    "        fig.savefig(filename + \".png\")\n",
    "        \n",
    "def normalize(y,x):\n",
    "    \"\"\"\n",
    "    Takes y, x of data and returns normalized y\n",
    "    \"\"\"\n",
    "    return y/np.trapz(y,x)\n",
    "\n",
    "def KE(v_tot):\n",
    "    \"Returns KE of Ar+ in eV given total velocity\"\n",
    "    return 6.24E18 * 0.5 * 1.66E-27*39.95*(v_tot*1E5)**2\n",
    "\n",
    "def v_from_KE(E):\n",
    "    \"Returns v(z) of Ar+ in eV given KE\"\n",
    "    return np.sqrt(E/(6.24E18 * 0.5 * 1.66E-27*39.95))/1E5\n",
    "\n",
    "def readStructs(datadir, slabEnergy, adsorbateEnergy):\n",
    "    \"\"\"\n",
    "        Currently designed for output from single layer directory trees \n",
    "        Reads in final adsorption geometries and energy data,\n",
    "            returns dataframe with geometry and energy data\n",
    "            \n",
    "        Input:\n",
    "            datadir: string that points to directory containing the following:\n",
    "                - convergence: each line i has convergence status of run i\n",
    "                - energies: each line i has final total energy from run i\n",
    "                - output{indices}.gen: final geometries for each index\n",
    "            slabEnergy: energy of slab\n",
    "            adsorbateEnergy: energy of the adsorbate in the system\n",
    "        Output:\n",
    "            output: pd Dataframe with:\n",
    "                - index: indices for runs that worked\n",
    "                - geometry: final geometry of run\n",
    "                - total energy: raw energy from file\n",
    "                - adsorption energy: energy as adjusted by adsorbate_energy\n",
    "    \"\"\"\n",
    "    geometries = {}\n",
    "    convergence = pd.read_csv(datadir + \"convergence\", header = None)\n",
    "    energies = pd.read_csv(datadir + \"energies\", header = None)\n",
    "    output =  pd.concat([energies, convergence], axis = 1)\n",
    "    output.columns = [\"E\", \"conv\"]\n",
    "    \n",
    "    for i in os.listdir(datadir):\n",
    "        key = re.search(r\"output(\\d+).gen\", i)\n",
    "        if key:\n",
    "            key = int(key.group(1))\n",
    "            geometries[key] =  gen.read_gen(datadir + i)\n",
    "    output['geom'] = pd.Series(geometries)\n",
    "    \n",
    "    output = output[output['conv'] == \"Geometry converged\"]\n",
    "    output = output.drop(\"conv\", axis = 1)\n",
    "    \n",
    "    output['E_ads'] = output[\"E\"] - (adsorbateEnergy + slabEnergy)\n",
    "    return output\n",
    "\n",
    "\n",
    "def convertAdsorbateToHe(struct, centerIndex, molIndices, height = None):\n",
    "    \"\"\"\n",
    "    Preprocess final relaxed adsorption structures; replace adsorbate with He \n",
    "    Input:\n",
    "        struct: total structure (Atoms object)\n",
    "        centerIndex: index of central atom (where He will be) (int)\n",
    "        molIndices: list of indices to delete from the slab\n",
    "        height(float) : height of He to be placed\n",
    "    Output:\n",
    "        output: Atoms object with He representing the location of the adsorbate\n",
    "    \"\"\"\n",
    "    x, y, z = struct[centerIndex].position\n",
    "    output = struct.copy()\n",
    "    del output[[atom.index for atom in output if atom.index in molIndices]]\n",
    "    if height:\n",
    "        add_adsorbate(output, \"He\", height = height, position = (x, y))\n",
    "    else:\n",
    "        output.append(Atom(\"He\", position=[x,y,z])) # adds to exact position of centeratom \n",
    "    return output\n",
    "\n",
    "\n",
    "def getSOAPs(geometries, rcut = 5, nmax = 10, lmax = 9, sigma = 0.1, \n",
    "             periodic = True, crossover = True, sparse = False):\n",
    "    \"\"\"\n",
    "    Takes a Series of geometries with one He present, \n",
    "        returns SOAP representation of the chemical environment of He for each item\n",
    "    Assumes any given structure in `geometries` has the same collection of elements \n",
    "        as all the other structures\n",
    "    Assumes any given structure in `geometries` has the same number of atoms as all \n",
    "        the other structures\n",
    "    \n",
    "    Input:\n",
    "        geometries: Series of Atoms objects; each must contain exactly 1 He atom\n",
    "        rcut, nmax, lmax, sigma, periodic, crossover, sparse: SOAP parameters\n",
    "    Output:\n",
    "        output: Series of SOAP matrices, each corresponding to the appropriate index\n",
    "    \"\"\"\n",
    "    refgeom = geometries.iloc[0] #use the first geometry as a reference geometry\n",
    "    \n",
    "    ## set up descriptor\n",
    "    species = np.unique([i.symbol for i in refgeom])\n",
    "    desc = SOAP(species=species, rcut = rcut, nmax = nmax, lmax = lmax, \n",
    "                sigma = sigma, periodic = periodic, crossover = crossover, sparse = sparse)\n",
    "    ## apply descriptor\n",
    "    soaps = {}\n",
    "    HeLoc = len(refgeom) - 1  # assume He atom is last one in Atoms list\n",
    "    for i, geom in geometries.iteritems():\n",
    "        tempSOAP = preprocessing.normalize(\n",
    "            desc.create(geom, positions = [HeLoc])) # SOAP representation of temp \n",
    "        soaps[i] = tempSOAP[0]\n",
    "    return pd.Series(soaps,name = 'SOAP')"
   ]
  },
  {
   "cell_type": "markdown",
   "metadata": {
    "heading_collapsed": true,
    "hidden": true,
    "slideshow": {
     "slide_type": "notes"
    }
   },
   "source": [
    "## Structures"
   ]
  },
  {
   "cell_type": "code",
   "execution_count": 98,
   "metadata": {
    "ExecuteTime": {
     "end_time": "2020-10-30T21:10:51.333253Z",
     "start_time": "2020-10-30T21:10:51.296198Z"
    },
    "hidden": true,
    "slideshow": {
     "slide_type": "notes"
    }
   },
   "outputs": [],
   "source": [
    "mef = vasp.read_vasp(\"reference_files/CONTCAR_mef\")\n",
    "cf4 = vasp.read_vasp(\"reference_files/CONTCAR_cf4\")\n",
    "amorphous = vasp.read_vasp(\"reference_files/CONTCAR_amorphous_cubic\")\n",
    "xtl_n = vasp.read_vasp(\"reference_files/CONTCAR_nrich\")\n",
    "xtl_si = vasp.read_vasp(\"reference_files/CONTCAR_sirich\")\n",
    "xtl2x2 = gen.read_gen(\"reference_files/2x2xtl.gen\")\n",
    "xtl2x2_sifterm = gen.read_gen(\"reference_files/2x2xtl_sifterm.gen\")\n",
    "heavy_bomb = vasp.read_vasp(\"reference_files/CONTCAR_heavy_bombard\")\n",
    "bulk222 = vasp.read_vasp(\"reference_files/CONTCAR_222bulk\")\n",
    "annealed = vasp.read_vasp(\"reference_files/CONTCAR_annealed_unitcell\")"
   ]
  },
  {
   "cell_type": "markdown",
   "metadata": {},
   "source": [
    "# Preprocess data"
   ]
  },
  {
   "cell_type": "markdown",
   "metadata": {},
   "source": [
    "Read in geometries"
   ]
  },
  {
   "cell_type": "code",
   "execution_count": 186,
   "metadata": {
    "ExecuteTime": {
     "end_time": "2020-10-30T23:18:12.166137Z",
     "start_time": "2020-10-30T23:18:10.681918Z"
    }
   },
   "outputs": [],
   "source": [
    "data = readStructs(\"../adsorb_amorphous/\", -196.0817, -16828.7803) #MeF, amorphous slab, DFTB\n",
    "data['processed'] = [\n",
    "    convertAdsorbateToHe(i, 370, np.arange(370, 375)) for i in data['geom']\n",
    "]\n",
    "\n",
    "data = pd.concat([data, getSOAPs(data['processed'])], axis = 1)\n",
    "\n",
    "originalColumns = data.columns\n",
    "\n",
    "data = pd.concat([pd.DataFrame(data['SOAP'].to_list(), index = data.index), data], axis = 1)"
   ]
  },
  {
   "cell_type": "markdown",
   "metadata": {},
   "source": [
    "# Visualize data"
   ]
  },
  {
   "cell_type": "markdown",
   "metadata": {},
   "source": [
    "Check for positive adsorption energies:"
   ]
  },
  {
   "cell_type": "code",
   "execution_count": 187,
   "metadata": {
    "ExecuteTime": {
     "end_time": "2020-10-30T23:18:31.643426Z",
     "start_time": "2020-10-30T23:18:31.356809Z"
    },
    "collapsed": true
   },
   "outputs": [
    {
     "data": {
      "text/html": [
       "<div>\n",
       "<style scoped>\n",
       "    .dataframe tbody tr th:only-of-type {\n",
       "        vertical-align: middle;\n",
       "    }\n",
       "\n",
       "    .dataframe tbody tr th {\n",
       "        vertical-align: top;\n",
       "    }\n",
       "\n",
       "    .dataframe thead th {\n",
       "        text-align: right;\n",
       "    }\n",
       "</style>\n",
       "<table border=\"1\" class=\"dataframe\">\n",
       "  <thead>\n",
       "    <tr style=\"text-align: right;\">\n",
       "      <th></th>\n",
       "      <th>E</th>\n",
       "      <th>geom</th>\n",
       "      <th>E_ads</th>\n",
       "      <th>processed</th>\n",
       "      <th>SOAP</th>\n",
       "    </tr>\n",
       "  </thead>\n",
       "  <tbody>\n",
       "    <tr>\n",
       "      <th>7</th>\n",
       "      <td>-17024.5855</td>\n",
       "      <td>(Atom('H', [5.687816897, 11.8095906, 0.4501787...</td>\n",
       "      <td>0.2765</td>\n",
       "      <td>(Atom('H', [5.687816897, 11.8095906, 0.4501787...</td>\n",
       "      <td>[3.8773076e-10, -2.8960547e-09, 1.07410685e-08...</td>\n",
       "    </tr>\n",
       "    <tr>\n",
       "      <th>42</th>\n",
       "      <td>-17023.3445</td>\n",
       "      <td>(Atom('H', [5.687816897, 11.8095906, 0.4501787...</td>\n",
       "      <td>1.5175</td>\n",
       "      <td>(Atom('H', [5.687816897, 11.8095906, 0.4501787...</td>\n",
       "      <td>[1.2610807e-11, -1.0335893e-09, 7.199541e-09, ...</td>\n",
       "    </tr>\n",
       "    <tr>\n",
       "      <th>44</th>\n",
       "      <td>-17023.3552</td>\n",
       "      <td>(Atom('H', [5.687816897, 11.8095906, 0.4501787...</td>\n",
       "      <td>1.5068</td>\n",
       "      <td>(Atom('H', [5.687816897, 11.8095906, 0.4501787...</td>\n",
       "      <td>[3.980705e-10, -6.139825e-09, 4.5810843e-08, -...</td>\n",
       "    </tr>\n",
       "    <tr>\n",
       "      <th>45</th>\n",
       "      <td>-17023.4530</td>\n",
       "      <td>(Atom('H', [5.687816897, 11.8095906, 0.4501787...</td>\n",
       "      <td>1.4090</td>\n",
       "      <td>(Atom('H', [5.687816897, 11.8095906, 0.4501787...</td>\n",
       "      <td>[4.3263764e-11, -4.030708e-10, 2.0436997e-09, ...</td>\n",
       "    </tr>\n",
       "    <tr>\n",
       "      <th>46</th>\n",
       "      <td>-17023.3341</td>\n",
       "      <td>(Atom('H', [5.687816897, 11.8095906, 0.4501787...</td>\n",
       "      <td>1.5279</td>\n",
       "      <td>(Atom('H', [5.687816897, 11.8095906, 0.4501787...</td>\n",
       "      <td>[9.240166e-11, -5.0285864e-09, 4.0425714e-08, ...</td>\n",
       "    </tr>\n",
       "    <tr>\n",
       "      <th>47</th>\n",
       "      <td>-17023.2953</td>\n",
       "      <td>(Atom('H', [5.687816897, 11.8095906, 0.4501787...</td>\n",
       "      <td>1.5667</td>\n",
       "      <td>(Atom('H', [5.687816897, 11.8095906, 0.4501787...</td>\n",
       "      <td>[7.5724965e-10, -1.546233e-08, 1.0510201e-07, ...</td>\n",
       "    </tr>\n",
       "    <tr>\n",
       "      <th>48</th>\n",
       "      <td>-17023.2569</td>\n",
       "      <td>(Atom('H', [5.687816897, 11.8095906, 0.4501787...</td>\n",
       "      <td>1.6051</td>\n",
       "      <td>(Atom('H', [5.687816897, 11.8095906, 0.4501787...</td>\n",
       "      <td>[4.500972e-09, -3.016053e-08, 9.173593e-08, 8....</td>\n",
       "    </tr>\n",
       "    <tr>\n",
       "      <th>49</th>\n",
       "      <td>-17023.3570</td>\n",
       "      <td>(Atom('H', [5.687816897, 11.8095906, 0.4501787...</td>\n",
       "      <td>1.5050</td>\n",
       "      <td>(Atom('H', [5.687816897, 11.8095906, 0.4501787...</td>\n",
       "      <td>[1.2691453e-11, 5.200569e-11, -8.765282e-10, 2...</td>\n",
       "    </tr>\n",
       "    <tr>\n",
       "      <th>50</th>\n",
       "      <td>-17023.3615</td>\n",
       "      <td>(Atom('H', [5.687816897, 11.8095906, 0.4501787...</td>\n",
       "      <td>1.5005</td>\n",
       "      <td>(Atom('H', [5.687816897, 11.8095906, 0.4501787...</td>\n",
       "      <td>[4.8403788e-09, -3.044454e-08, 7.810141e-08, 1...</td>\n",
       "    </tr>\n",
       "    <tr>\n",
       "      <th>51</th>\n",
       "      <td>-17023.2962</td>\n",
       "      <td>(Atom('H', [5.687816897, 11.8095906, 0.4501787...</td>\n",
       "      <td>1.5658</td>\n",
       "      <td>(Atom('H', [5.687816897, 11.8095906, 0.4501787...</td>\n",
       "      <td>[6.5946354e-10, -1.41879255e-08, 9.766472e-08,...</td>\n",
       "    </tr>\n",
       "    <tr>\n",
       "      <th>52</th>\n",
       "      <td>-17023.2973</td>\n",
       "      <td>(Atom('H', [5.687816897, 11.8095906, 0.4501787...</td>\n",
       "      <td>1.5647</td>\n",
       "      <td>(Atom('H', [5.687816897, 11.8095906, 0.4501787...</td>\n",
       "      <td>[1.61808e-09, 1.1137737e-08, -1.5054977e-07, 5...</td>\n",
       "    </tr>\n",
       "    <tr>\n",
       "      <th>54</th>\n",
       "      <td>-17023.4283</td>\n",
       "      <td>(Atom('H', [5.687816897, 11.8095906, 0.4501787...</td>\n",
       "      <td>1.4337</td>\n",
       "      <td>(Atom('H', [5.687816897, 11.8095906, 0.4501787...</td>\n",
       "      <td>[2.9266318e-09, -2.3707404e-08, 8.091785e-08, ...</td>\n",
       "    </tr>\n",
       "    <tr>\n",
       "      <th>55</th>\n",
       "      <td>-17023.2709</td>\n",
       "      <td>(Atom('H', [5.687816897, 11.8095906, 0.4501787...</td>\n",
       "      <td>1.5911</td>\n",
       "      <td>(Atom('H', [5.687816897, 11.8095906, 0.4501787...</td>\n",
       "      <td>[3.1748204e-09, -3.3859084e-08, 1.7456306e-07,...</td>\n",
       "    </tr>\n",
       "    <tr>\n",
       "      <th>56</th>\n",
       "      <td>-17023.3102</td>\n",
       "      <td>(Atom('H', [5.687816897, 11.8095906, 0.4501787...</td>\n",
       "      <td>1.5518</td>\n",
       "      <td>(Atom('H', [5.687816897, 11.8095906, 0.4501787...</td>\n",
       "      <td>[3.338169e-09, -2.2122963e-08, 6.405964e-08, 7...</td>\n",
       "    </tr>\n",
       "    <tr>\n",
       "      <th>57</th>\n",
       "      <td>-17023.3896</td>\n",
       "      <td>(Atom('H', [5.687816897, 11.8095906, 0.4501787...</td>\n",
       "      <td>1.4724</td>\n",
       "      <td>(Atom('H', [5.687816897, 11.8095906, 0.4501787...</td>\n",
       "      <td>[9.6400644e-11, -5.3719984e-10, 5.6369814e-10,...</td>\n",
       "    </tr>\n",
       "    <tr>\n",
       "      <th>58</th>\n",
       "      <td>-17023.3786</td>\n",
       "      <td>(Atom('H', [5.687816897, 11.8095906, 0.4501787...</td>\n",
       "      <td>1.4834</td>\n",
       "      <td>(Atom('H', [5.687816897, 11.8095906, 0.4501787...</td>\n",
       "      <td>[2.4713408e-11, -8.033826e-10, 7.1528232e-09, ...</td>\n",
       "    </tr>\n",
       "    <tr>\n",
       "      <th>63</th>\n",
       "      <td>-17023.3534</td>\n",
       "      <td>(Atom('H', [5.687816897, 11.8095906, 0.4501787...</td>\n",
       "      <td>1.5086</td>\n",
       "      <td>(Atom('H', [5.687816897, 11.8095906, 0.4501787...</td>\n",
       "      <td>[5.804232e-10, -3.7908787e-10, -2.4296755e-08,...</td>\n",
       "    </tr>\n",
       "    <tr>\n",
       "      <th>64</th>\n",
       "      <td>-17023.3169</td>\n",
       "      <td>(Atom('H', [5.687816897, 11.8095906, 0.4501787...</td>\n",
       "      <td>1.5451</td>\n",
       "      <td>(Atom('H', [5.687816897, 11.8095906, 0.4501787...</td>\n",
       "      <td>[4.0821457e-09, -2.7960718e-08, 8.2543195e-08,...</td>\n",
       "    </tr>\n",
       "    <tr>\n",
       "      <th>65</th>\n",
       "      <td>-17023.3067</td>\n",
       "      <td>(Atom('H', [5.687816897, 11.8095906, 0.4501787...</td>\n",
       "      <td>1.5553</td>\n",
       "      <td>(Atom('H', [5.687816897, 11.8095906, 0.4501787...</td>\n",
       "      <td>[3.749951e-09, -2.9624415e-08, 1.1473657e-07, ...</td>\n",
       "    </tr>\n",
       "    <tr>\n",
       "      <th>66</th>\n",
       "      <td>-17023.3431</td>\n",
       "      <td>(Atom('H', [5.687816897, 11.8095906, 0.4501787...</td>\n",
       "      <td>1.5189</td>\n",
       "      <td>(Atom('H', [5.687816897, 11.8095906, 0.4501787...</td>\n",
       "      <td>[9.652101e-09, -5.4362722e-08, 9.7670195e-08, ...</td>\n",
       "    </tr>\n",
       "    <tr>\n",
       "      <th>67</th>\n",
       "      <td>-17023.3430</td>\n",
       "      <td>(Atom('H', [5.687816897, 11.8095906, 0.4501787...</td>\n",
       "      <td>1.5190</td>\n",
       "      <td>(Atom('H', [5.687816897, 11.8095906, 0.4501787...</td>\n",
       "      <td>[9.6133025e-11, -4.414651e-10, -5.5336025e-10,...</td>\n",
       "    </tr>\n",
       "    <tr>\n",
       "      <th>68</th>\n",
       "      <td>-17023.2913</td>\n",
       "      <td>(Atom('H', [5.687816897, 11.8095906, 0.4501787...</td>\n",
       "      <td>1.5707</td>\n",
       "      <td>(Atom('H', [5.687816897, 11.8095906, 0.4501787...</td>\n",
       "      <td>[1.6172254e-10, -1.4412617e-09, 7.537539e-09, ...</td>\n",
       "    </tr>\n",
       "    <tr>\n",
       "      <th>69</th>\n",
       "      <td>-17023.4544</td>\n",
       "      <td>(Atom('H', [5.687816897, 11.8095906, 0.4501787...</td>\n",
       "      <td>1.4076</td>\n",
       "      <td>(Atom('H', [5.687816897, 11.8095906, 0.4501787...</td>\n",
       "      <td>[1.239639e-12, 5.771943e-11, -6.3133354e-10, 2...</td>\n",
       "    </tr>\n",
       "    <tr>\n",
       "      <th>70</th>\n",
       "      <td>-17023.3020</td>\n",
       "      <td>(Atom('H', [5.687816897, 11.8095906, 0.4501787...</td>\n",
       "      <td>1.5600</td>\n",
       "      <td>(Atom('H', [5.687816897, 11.8095906, 0.4501787...</td>\n",
       "      <td>[2.7477243e-09, -1.7095765e-08, 4.040909e-08, ...</td>\n",
       "    </tr>\n",
       "    <tr>\n",
       "      <th>71</th>\n",
       "      <td>-17023.4304</td>\n",
       "      <td>(Atom('H', [5.687816897, 11.8095906, 0.4501787...</td>\n",
       "      <td>1.4316</td>\n",
       "      <td>(Atom('H', [5.687816897, 11.8095906, 0.4501787...</td>\n",
       "      <td>[1.0237404e-13, -1.848124e-11, 1.8431436e-10, ...</td>\n",
       "    </tr>\n",
       "    <tr>\n",
       "      <th>72</th>\n",
       "      <td>-17023.2406</td>\n",
       "      <td>(Atom('H', [5.687816897, 11.8095906, 0.4501787...</td>\n",
       "      <td>1.6214</td>\n",
       "      <td>(Atom('H', [5.687816897, 11.8095906, 0.4501787...</td>\n",
       "      <td>[2.5748031e-10, -4.4203113e-10, -7.042161e-09,...</td>\n",
       "    </tr>\n",
       "    <tr>\n",
       "      <th>73</th>\n",
       "      <td>-17023.2983</td>\n",
       "      <td>(Atom('H', [5.687816897, 11.8095906, 0.4501787...</td>\n",
       "      <td>1.5637</td>\n",
       "      <td>(Atom('H', [5.687816897, 11.8095906, 0.4501787...</td>\n",
       "      <td>[3.0868199e-12, 1.974991e-11, -5.10441e-10, 4....</td>\n",
       "    </tr>\n",
       "    <tr>\n",
       "      <th>74</th>\n",
       "      <td>-17023.4075</td>\n",
       "      <td>(Atom('H', [5.687816897, 11.8095906, 0.4501787...</td>\n",
       "      <td>1.4545</td>\n",
       "      <td>(Atom('H', [5.687816897, 11.8095906, 0.4501787...</td>\n",
       "      <td>[3.689445e-10, 9.775989e-10, -2.7859965e-08, 1...</td>\n",
       "    </tr>\n",
       "    <tr>\n",
       "      <th>75</th>\n",
       "      <td>-17023.2619</td>\n",
       "      <td>(Atom('H', [5.687816897, 11.8095906, 0.4501787...</td>\n",
       "      <td>1.6001</td>\n",
       "      <td>(Atom('H', [5.687816897, 11.8095906, 0.4501787...</td>\n",
       "      <td>[4.632737e-09, -3.6196983e-08, 1.3867874e-07, ...</td>\n",
       "    </tr>\n",
       "    <tr>\n",
       "      <th>76</th>\n",
       "      <td>-17023.3670</td>\n",
       "      <td>(Atom('H', [5.687816897, 11.8095906, 0.4501787...</td>\n",
       "      <td>1.4950</td>\n",
       "      <td>(Atom('H', [5.687816897, 11.8095906, 0.4501787...</td>\n",
       "      <td>[2.0238765e-10, -9.848842e-10, -3.794304e-10, ...</td>\n",
       "    </tr>\n",
       "    <tr>\n",
       "      <th>77</th>\n",
       "      <td>-17023.3813</td>\n",
       "      <td>(Atom('H', [5.687816897, 11.8095906, 0.4501787...</td>\n",
       "      <td>1.4807</td>\n",
       "      <td>(Atom('H', [5.687816897, 11.8095906, 0.4501787...</td>\n",
       "      <td>[2.9321947e-09, -1.7359607e-08, 4.0481364e-08,...</td>\n",
       "    </tr>\n",
       "    <tr>\n",
       "      <th>79</th>\n",
       "      <td>-17023.3523</td>\n",
       "      <td>(Atom('H', [5.687816897, 11.8095906, 0.4501787...</td>\n",
       "      <td>1.5097</td>\n",
       "      <td>(Atom('H', [5.687816897, 11.8095906, 0.4501787...</td>\n",
       "      <td>[1.2099182e-08, -7.0017464e-08, 1.4113444e-07,...</td>\n",
       "    </tr>\n",
       "    <tr>\n",
       "      <th>80</th>\n",
       "      <td>-17023.3111</td>\n",
       "      <td>(Atom('H', [5.687816897, 11.8095906, 0.4501787...</td>\n",
       "      <td>1.5509</td>\n",
       "      <td>(Atom('H', [5.687816897, 11.8095906, 0.4501787...</td>\n",
       "      <td>[2.447519e-10, -5.8341235e-11, -1.1677835e-08,...</td>\n",
       "    </tr>\n",
       "  </tbody>\n",
       "</table>\n",
       "</div>"
      ],
      "text/plain": [
       "             E                                               geom   E_ads  \\\n",
       "7  -17024.5855  (Atom('H', [5.687816897, 11.8095906, 0.4501787...  0.2765   \n",
       "42 -17023.3445  (Atom('H', [5.687816897, 11.8095906, 0.4501787...  1.5175   \n",
       "44 -17023.3552  (Atom('H', [5.687816897, 11.8095906, 0.4501787...  1.5068   \n",
       "45 -17023.4530  (Atom('H', [5.687816897, 11.8095906, 0.4501787...  1.4090   \n",
       "46 -17023.3341  (Atom('H', [5.687816897, 11.8095906, 0.4501787...  1.5279   \n",
       "47 -17023.2953  (Atom('H', [5.687816897, 11.8095906, 0.4501787...  1.5667   \n",
       "48 -17023.2569  (Atom('H', [5.687816897, 11.8095906, 0.4501787...  1.6051   \n",
       "49 -17023.3570  (Atom('H', [5.687816897, 11.8095906, 0.4501787...  1.5050   \n",
       "50 -17023.3615  (Atom('H', [5.687816897, 11.8095906, 0.4501787...  1.5005   \n",
       "51 -17023.2962  (Atom('H', [5.687816897, 11.8095906, 0.4501787...  1.5658   \n",
       "52 -17023.2973  (Atom('H', [5.687816897, 11.8095906, 0.4501787...  1.5647   \n",
       "54 -17023.4283  (Atom('H', [5.687816897, 11.8095906, 0.4501787...  1.4337   \n",
       "55 -17023.2709  (Atom('H', [5.687816897, 11.8095906, 0.4501787...  1.5911   \n",
       "56 -17023.3102  (Atom('H', [5.687816897, 11.8095906, 0.4501787...  1.5518   \n",
       "57 -17023.3896  (Atom('H', [5.687816897, 11.8095906, 0.4501787...  1.4724   \n",
       "58 -17023.3786  (Atom('H', [5.687816897, 11.8095906, 0.4501787...  1.4834   \n",
       "63 -17023.3534  (Atom('H', [5.687816897, 11.8095906, 0.4501787...  1.5086   \n",
       "64 -17023.3169  (Atom('H', [5.687816897, 11.8095906, 0.4501787...  1.5451   \n",
       "65 -17023.3067  (Atom('H', [5.687816897, 11.8095906, 0.4501787...  1.5553   \n",
       "66 -17023.3431  (Atom('H', [5.687816897, 11.8095906, 0.4501787...  1.5189   \n",
       "67 -17023.3430  (Atom('H', [5.687816897, 11.8095906, 0.4501787...  1.5190   \n",
       "68 -17023.2913  (Atom('H', [5.687816897, 11.8095906, 0.4501787...  1.5707   \n",
       "69 -17023.4544  (Atom('H', [5.687816897, 11.8095906, 0.4501787...  1.4076   \n",
       "70 -17023.3020  (Atom('H', [5.687816897, 11.8095906, 0.4501787...  1.5600   \n",
       "71 -17023.4304  (Atom('H', [5.687816897, 11.8095906, 0.4501787...  1.4316   \n",
       "72 -17023.2406  (Atom('H', [5.687816897, 11.8095906, 0.4501787...  1.6214   \n",
       "73 -17023.2983  (Atom('H', [5.687816897, 11.8095906, 0.4501787...  1.5637   \n",
       "74 -17023.4075  (Atom('H', [5.687816897, 11.8095906, 0.4501787...  1.4545   \n",
       "75 -17023.2619  (Atom('H', [5.687816897, 11.8095906, 0.4501787...  1.6001   \n",
       "76 -17023.3670  (Atom('H', [5.687816897, 11.8095906, 0.4501787...  1.4950   \n",
       "77 -17023.3813  (Atom('H', [5.687816897, 11.8095906, 0.4501787...  1.4807   \n",
       "79 -17023.3523  (Atom('H', [5.687816897, 11.8095906, 0.4501787...  1.5097   \n",
       "80 -17023.3111  (Atom('H', [5.687816897, 11.8095906, 0.4501787...  1.5509   \n",
       "\n",
       "                                            processed  \\\n",
       "7   (Atom('H', [5.687816897, 11.8095906, 0.4501787...   \n",
       "42  (Atom('H', [5.687816897, 11.8095906, 0.4501787...   \n",
       "44  (Atom('H', [5.687816897, 11.8095906, 0.4501787...   \n",
       "45  (Atom('H', [5.687816897, 11.8095906, 0.4501787...   \n",
       "46  (Atom('H', [5.687816897, 11.8095906, 0.4501787...   \n",
       "47  (Atom('H', [5.687816897, 11.8095906, 0.4501787...   \n",
       "48  (Atom('H', [5.687816897, 11.8095906, 0.4501787...   \n",
       "49  (Atom('H', [5.687816897, 11.8095906, 0.4501787...   \n",
       "50  (Atom('H', [5.687816897, 11.8095906, 0.4501787...   \n",
       "51  (Atom('H', [5.687816897, 11.8095906, 0.4501787...   \n",
       "52  (Atom('H', [5.687816897, 11.8095906, 0.4501787...   \n",
       "54  (Atom('H', [5.687816897, 11.8095906, 0.4501787...   \n",
       "55  (Atom('H', [5.687816897, 11.8095906, 0.4501787...   \n",
       "56  (Atom('H', [5.687816897, 11.8095906, 0.4501787...   \n",
       "57  (Atom('H', [5.687816897, 11.8095906, 0.4501787...   \n",
       "58  (Atom('H', [5.687816897, 11.8095906, 0.4501787...   \n",
       "63  (Atom('H', [5.687816897, 11.8095906, 0.4501787...   \n",
       "64  (Atom('H', [5.687816897, 11.8095906, 0.4501787...   \n",
       "65  (Atom('H', [5.687816897, 11.8095906, 0.4501787...   \n",
       "66  (Atom('H', [5.687816897, 11.8095906, 0.4501787...   \n",
       "67  (Atom('H', [5.687816897, 11.8095906, 0.4501787...   \n",
       "68  (Atom('H', [5.687816897, 11.8095906, 0.4501787...   \n",
       "69  (Atom('H', [5.687816897, 11.8095906, 0.4501787...   \n",
       "70  (Atom('H', [5.687816897, 11.8095906, 0.4501787...   \n",
       "71  (Atom('H', [5.687816897, 11.8095906, 0.4501787...   \n",
       "72  (Atom('H', [5.687816897, 11.8095906, 0.4501787...   \n",
       "73  (Atom('H', [5.687816897, 11.8095906, 0.4501787...   \n",
       "74  (Atom('H', [5.687816897, 11.8095906, 0.4501787...   \n",
       "75  (Atom('H', [5.687816897, 11.8095906, 0.4501787...   \n",
       "76  (Atom('H', [5.687816897, 11.8095906, 0.4501787...   \n",
       "77  (Atom('H', [5.687816897, 11.8095906, 0.4501787...   \n",
       "79  (Atom('H', [5.687816897, 11.8095906, 0.4501787...   \n",
       "80  (Atom('H', [5.687816897, 11.8095906, 0.4501787...   \n",
       "\n",
       "                                                 SOAP  \n",
       "7   [3.8773076e-10, -2.8960547e-09, 1.07410685e-08...  \n",
       "42  [1.2610807e-11, -1.0335893e-09, 7.199541e-09, ...  \n",
       "44  [3.980705e-10, -6.139825e-09, 4.5810843e-08, -...  \n",
       "45  [4.3263764e-11, -4.030708e-10, 2.0436997e-09, ...  \n",
       "46  [9.240166e-11, -5.0285864e-09, 4.0425714e-08, ...  \n",
       "47  [7.5724965e-10, -1.546233e-08, 1.0510201e-07, ...  \n",
       "48  [4.500972e-09, -3.016053e-08, 9.173593e-08, 8....  \n",
       "49  [1.2691453e-11, 5.200569e-11, -8.765282e-10, 2...  \n",
       "50  [4.8403788e-09, -3.044454e-08, 7.810141e-08, 1...  \n",
       "51  [6.5946354e-10, -1.41879255e-08, 9.766472e-08,...  \n",
       "52  [1.61808e-09, 1.1137737e-08, -1.5054977e-07, 5...  \n",
       "54  [2.9266318e-09, -2.3707404e-08, 8.091785e-08, ...  \n",
       "55  [3.1748204e-09, -3.3859084e-08, 1.7456306e-07,...  \n",
       "56  [3.338169e-09, -2.2122963e-08, 6.405964e-08, 7...  \n",
       "57  [9.6400644e-11, -5.3719984e-10, 5.6369814e-10,...  \n",
       "58  [2.4713408e-11, -8.033826e-10, 7.1528232e-09, ...  \n",
       "63  [5.804232e-10, -3.7908787e-10, -2.4296755e-08,...  \n",
       "64  [4.0821457e-09, -2.7960718e-08, 8.2543195e-08,...  \n",
       "65  [3.749951e-09, -2.9624415e-08, 1.1473657e-07, ...  \n",
       "66  [9.652101e-09, -5.4362722e-08, 9.7670195e-08, ...  \n",
       "67  [9.6133025e-11, -4.414651e-10, -5.5336025e-10,...  \n",
       "68  [1.6172254e-10, -1.4412617e-09, 7.537539e-09, ...  \n",
       "69  [1.239639e-12, 5.771943e-11, -6.3133354e-10, 2...  \n",
       "70  [2.7477243e-09, -1.7095765e-08, 4.040909e-08, ...  \n",
       "71  [1.0237404e-13, -1.848124e-11, 1.8431436e-10, ...  \n",
       "72  [2.5748031e-10, -4.4203113e-10, -7.042161e-09,...  \n",
       "73  [3.0868199e-12, 1.974991e-11, -5.10441e-10, 4....  \n",
       "74  [3.689445e-10, 9.775989e-10, -2.7859965e-08, 1...  \n",
       "75  [4.632737e-09, -3.6196983e-08, 1.3867874e-07, ...  \n",
       "76  [2.0238765e-10, -9.848842e-10, -3.794304e-10, ...  \n",
       "77  [2.9321947e-09, -1.7359607e-08, 4.0481364e-08,...  \n",
       "79  [1.2099182e-08, -7.0017464e-08, 1.4113444e-07,...  \n",
       "80  [2.447519e-10, -5.8341235e-11, -1.1677835e-08,...  "
      ]
     },
     "execution_count": 187,
     "metadata": {},
     "output_type": "execute_result"
    }
   ],
   "source": [
    "data[data[\"E_ads\"] > 0][originalColumns]"
   ]
  },
  {
   "cell_type": "markdown",
   "metadata": {},
   "source": [
    "Summarize data:"
   ]
  },
  {
   "cell_type": "code",
   "execution_count": 180,
   "metadata": {
    "ExecuteTime": {
     "end_time": "2020-10-30T23:11:31.932206Z",
     "start_time": "2020-10-30T23:11:31.922282Z"
    },
    "scrolled": true
   },
   "outputs": [
    {
     "data": {
      "text/plain": [
       "count    93.000000\n",
       "mean      0.409439\n",
       "std       0.814419\n",
       "min      -0.458600\n",
       "25%      -0.180300\n",
       "50%      -0.122800\n",
       "75%       1.495000\n",
       "max       1.621400\n",
       "Name: E_ads, dtype: float64"
      ]
     },
     "execution_count": 180,
     "metadata": {},
     "output_type": "execute_result"
    }
   ],
   "source": [
    "data[\"E_ads\"].describe()"
   ]
  },
  {
   "cell_type": "markdown",
   "metadata": {},
   "source": [
    "# Adaptive sampling?"
   ]
  },
  {
   "cell_type": "markdown",
   "metadata": {},
   "source": [
    "# Train"
   ]
  },
  {
   "cell_type": "markdown",
   "metadata": {},
   "source": [
    "For now, just remove points that have positive adsorption energy "
   ]
  },
  {
   "cell_type": "code",
   "execution_count": 252,
   "metadata": {
    "ExecuteTime": {
     "end_time": "2020-10-31T00:48:43.630391Z",
     "start_time": "2020-10-31T00:48:43.609836Z"
    },
    "scrolled": true
   },
   "outputs": [
    {
     "name": "stdout",
     "output_type": "stream",
     "text": [
      "# points total: 60; #train points: 45; #test points: 15\n"
     ]
    }
   ],
   "source": [
    "from sklearn.model_selection import train_test_split\n",
    "validData = data['E_ads'] < 0\n",
    "X_train, X_test, y_train, y_test = train_test_split(\n",
    "    data.loc[validData, ~np.in1d(data.columns, originalColumns)], \n",
    "    data.loc[validData, 'E_ads'], random_state = 429)\n",
    "print(\"# points total: %d; #train points: %d; #test points: %d\" % \n",
    "      (sum(validData), len(X_train), len(X_test)))"
   ]
  },
  {
   "cell_type": "markdown",
   "metadata": {},
   "source": [
    "Run KRR with grid CV search"
   ]
  },
  {
   "cell_type": "code",
   "execution_count": 274,
   "metadata": {
    "ExecuteTime": {
     "end_time": "2020-10-31T01:04:02.710676Z",
     "start_time": "2020-10-31T01:04:00.911067Z"
    }
   },
   "outputs": [
    {
     "data": {
      "text/plain": [
       "GridSearchCV(cv=5, error_score=nan,\n",
       "             estimator=KernelRidge(alpha=1, coef0=1, degree=3, gamma=None,\n",
       "                                   kernel='linear', kernel_params=None),\n",
       "             iid='deprecated', n_jobs=None,\n",
       "             param_grid=[{'alpha': array([1.00000000e-10, 1.45634848e-10, 2.12095089e-10, 3.08884360e-10,\n",
       "       4.49843267e-10, 6.55128557e-10, 9.54095476e-10, 1.38949549e-09,\n",
       "       2.02358965e-09, 2.94705170e-09, 4.29193426e-09,...\n",
       "       1.67683294e-05, 2.44205309e-05, 3.55648031e-05, 5.17947468e-05,\n",
       "       7.54312006e-05, 1.09854114e-04, 1.59985872e-04, 2.32995181e-04,\n",
       "       3.39322177e-04, 4.94171336e-04, 7.19685673e-04, 1.04811313e-03,\n",
       "       1.52641797e-03, 2.22299648e-03, 3.23745754e-03, 4.71486636e-03,\n",
       "       6.86648845e-03, 1.00000000e-02])}],\n",
       "             pre_dispatch='2*n_jobs', refit=True, return_train_score=False,\n",
       "             scoring=None, verbose=0)"
      ]
     },
     "execution_count": 274,
     "metadata": {},
     "output_type": "execute_result"
    }
   ],
   "source": [
    "from sklearn.kernel_ridge import KernelRidge\n",
    "from sklearn.model_selection import GridSearchCV\n",
    "alphas = np.logspace(-10, -2, 50)\n",
    "krr = KernelRidge()  # gamma automatically set by sklearn.metrics.pairwise.rbf_kernel\n",
    "model = GridSearchCV(krr, [{\"alpha\":alphas}], cv = 5)\n",
    "model.fit(np.array(X_train), np.array(y_train))"
   ]
  },
  {
   "cell_type": "markdown",
   "metadata": {},
   "source": [
    "Optimal model result:"
   ]
  },
  {
   "cell_type": "code",
   "execution_count": 276,
   "metadata": {
    "ExecuteTime": {
     "end_time": "2020-10-31T01:05:10.599599Z",
     "start_time": "2020-10-31T01:05:10.595438Z"
    }
   },
   "outputs": [
    {
     "data": {
      "text/plain": [
       "{'alpha': 5.428675439323859e-06}"
      ]
     },
     "execution_count": 276,
     "metadata": {},
     "output_type": "execute_result"
    }
   ],
   "source": [
    "model.best_params_"
   ]
  },
  {
   "cell_type": "markdown",
   "metadata": {},
   "source": [
    "# Assess"
   ]
  },
  {
   "cell_type": "code",
   "execution_count": 277,
   "metadata": {
    "ExecuteTime": {
     "end_time": "2020-10-31T01:05:12.670886Z",
     "start_time": "2020-10-31T01:05:12.315664Z"
    },
    "scrolled": false
   },
   "outputs": [
    {
     "data": {
      "image/png": "[encoded data removed]",
      "text/plain": [
       "<Figure size 720x720 with 2 Axes>"
      ]
     },
     "metadata": {
      "needs_background": "light"
     },
     "output_type": "display_data"
    }
   ],
   "source": [
    "plt.subplots(2, 1, figsize = (10, 10))\n",
    "\n",
    "plt.subplot(211)\n",
    "plt.title('train')\n",
    "plt.ylabel(\"predicted energy (eV)\")\n",
    "plt.xlabel(\"calculated energy (eV)\")\n",
    "train_predict = model.predict(X_train)\n",
    "plt.scatter(y_train, train_predict)\n",
    "lineparams = [min(y_train), max(train_predict)]\n",
    "plt.plot(lineparams, lineparams)\n",
    "plt.subplot(212)\n",
    "plt.title(\"test\")\n",
    "plt.ylabel(\"predicted energy (eV)\")\n",
    "plt.xlabel(\"calculated energy (eV)\")\n",
    "plt.scatter(y_test, model.predict(X_test))\n",
    "plt.plot(lineparams, lineparams);"
   ]
  },
  {
   "cell_type": "markdown",
   "metadata": {
    "heading_collapsed": true
   },
   "source": [
    "## Plot residuals\n",
    "\n",
    "Considering the true model should simply be y = x, we can plot residuals and assess MAE easily:"
   ]
  },
  {
   "cell_type": "code",
   "execution_count": 281,
   "metadata": {
    "ExecuteTime": {
     "end_time": "2020-10-31T01:05:20.868774Z",
     "start_time": "2020-10-31T01:05:20.858046Z"
    },
    "hidden": true
   },
   "outputs": [],
   "source": [
    "train_errs = y_train - model.predict(X_train)"
   ]
  },
  {
   "cell_type": "code",
   "execution_count": 282,
   "metadata": {
    "ExecuteTime": {
     "end_time": "2020-10-31T01:05:23.145608Z",
     "start_time": "2020-10-31T01:05:23.134864Z"
    },
    "hidden": true
   },
   "outputs": [],
   "source": [
    "test_errs = y_test - model.predict(X_test)"
   ]
  },
  {
   "cell_type": "code",
   "execution_count": 283,
   "metadata": {
    "ExecuteTime": {
     "end_time": "2020-10-31T01:05:25.810665Z",
     "start_time": "2020-10-31T01:05:25.510825Z"
    },
    "hidden": true
   },
   "outputs": [
    {
     "data": {
      "image/png": "[encoded data removed]",
      "text/plain": [
       "<Figure size 720x720 with 2 Axes>"
      ]
     },
     "metadata": {
      "needs_background": "light"
     },
     "output_type": "display_data"
    }
   ],
   "source": [
    "plt.subplots(2, 1, figsize = (10, 10))\n",
    "plt.subplot(211)\n",
    "plt.title(\"KRR residuals, train\")\n",
    "plt.scatter(y_train, train_errs);\n",
    "plt.hlines(0, *lineparams)\n",
    "plt.subplot(212)\n",
    "plt.title(\"KRR residuals, test\")\n",
    "plt.hlines(0, *lineparams)\n",
    "plt.scatter(y_test, test_errs);"
   ]
  },
  {
   "cell_type": "code",
   "execution_count": 285,
   "metadata": {
    "ExecuteTime": {
     "end_time": "2020-10-31T01:05:44.920344Z",
     "start_time": "2020-10-31T01:05:44.915814Z"
    },
    "hidden": true
   },
   "outputs": [
    {
     "name": "stdout",
     "output_type": "stream",
     "text": [
      "MAE train (eV): 0.000977 \n",
      "MAE test (eV): 0.018077\n"
     ]
    }
   ],
   "source": [
    "print(\"MAE train (eV): %f \\n\\\n",
    "MAE test (eV): %f\" % \n",
    "      (np.mean(np.abs(train_errs)),\n",
    "       np.mean(np.abs(test_errs))\n",
    "      ))"
   ]
  },
  {
   "cell_type": "code",
   "execution_count": 289,
   "metadata": {
    "ExecuteTime": {
     "end_time": "2020-10-31T02:10:32.591830Z",
     "start_time": "2020-10-31T02:10:32.585120Z"
    },
    "hidden": true
   },
   "outputs": [
    {
     "name": "stdout",
     "output_type": "stream",
     "text": [
      "Relative absolute error train (eV): 0.005350 \n",
      "Relative absolute error test (eV): 0.101325\n"
     ]
    }
   ],
   "source": [
    "print(\"Relative absolute error train (eV): %f \\n\\\n",
    "Relative absolute error test (eV): %f\" % \n",
    "      (np.mean(np.abs(train_errs))/np.abs(np.mean(y_train)),\n",
    "       np.mean(np.abs(test_errs)/np.abs(np.mean(y_test)))\n",
    "      ))"
   ]
  },
  {
   "cell_type": "code",
   "execution_count": null,
   "metadata": {
    "hidden": true
   },
   "outputs": [],
   "source": []
  }
 ],
 "metadata": {
  "kernelspec": {
   "display_name": "Python 3",
   "language": "python",
   "name": "python3"
  },
  "language_info": {
   "codemirror_mode": {
    "name": "ipython",
    "version": 3
   },
   "file_extension": ".py",
   "mimetype": "text/x-python",
   "name": "python",
   "nbconvert_exporter": "python",
   "pygments_lexer": "ipython3",
   "version": "3.7.7"
  },
  "toc": {
   "base_numbering": 1,
   "nav_menu": {},
   "number_sections": true,
   "sideBar": true,
   "skip_h1_title": false,
   "title_cell": "Table of Contents",
   "title_sidebar": "Contents",
   "toc_cell": false,
   "toc_position": {},
   "toc_section_display": true,
   "toc_window_display": true
  }
 },
 "nbformat": 4,
 "nbformat_minor": 4
}
