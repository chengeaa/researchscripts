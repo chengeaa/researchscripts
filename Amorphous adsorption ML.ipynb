{
 "cells": [
  {
   "cell_type": "code",
   "execution_count": 1,
   "metadata": {
    "ExecuteTime": {
     "end_time": "2021-03-15T06:29:54.408008Z",
     "start_time": "2021-03-15T06:29:52.838582Z"
    }
   },
   "outputs": [
    {
     "data": {
      "application/vnd.jupyter.widget-view+json": {
       "model_id": "cebbac7d47e4498382b8093e34b6fa6b",
       "version_major": 2,
       "version_minor": 0
      },
      "text/plain": [
       "_ColormakerRegistry()"
      ]
     },
     "metadata": {},
     "output_type": "display_data"
    }
   ],
   "source": [
    "from dependencies import *"
   ]
  },
  {
   "cell_type": "markdown",
   "metadata": {},
   "source": [
    "# Preprocess data"
   ]
  },
  {
   "cell_type": "markdown",
   "metadata": {},
   "source": [
    "Read in geometries"
   ]
  },
  {
   "cell_type": "code",
   "execution_count": 12,
   "metadata": {
    "ExecuteTime": {
     "end_time": "2021-03-17T22:03:33.777229Z",
     "start_time": "2021-03-17T22:03:33.765454Z"
    }
   },
   "outputs": [
    {
     "data": {
      "text/plain": [
       "15400"
      ]
     },
     "execution_count": 12,
     "metadata": {},
     "output_type": "execute_result"
    }
   ],
   "source": [
    "soap = SOAP(\n",
    "    species=species,\n",
    "    periodic=True,\n",
    "    rcut=5,\n",
    "    nmax=10,\n",
    "    lmax=9,\n",
    ")\n",
    "soap.get_number_of_features()"
   ]
  },
  {
   "cell_type": "code",
   "execution_count": null,
   "metadata": {},
   "outputs": [],
   "source": [
    "getSOAPs()"
   ]
  },
  {
   "cell_type": "code",
   "execution_count": 8,
   "metadata": {
    "ExecuteTime": {
     "end_time": "2021-03-17T21:59:46.507313Z",
     "start_time": "2021-03-17T21:59:40.800964Z"
    },
    "scrolled": true
   },
   "outputs": [
    {
     "data": {
      "text/html": [
       "<div>\n",
       "<style scoped>\n",
       "    .dataframe tbody tr th:only-of-type {\n",
       "        vertical-align: middle;\n",
       "    }\n",
       "\n",
       "    .dataframe tbody tr th {\n",
       "        vertical-align: top;\n",
       "    }\n",
       "\n",
       "    .dataframe thead th {\n",
       "        text-align: right;\n",
       "    }\n",
       "</style>\n",
       "<table border=\"1\" class=\"dataframe\">\n",
       "  <thead>\n",
       "    <tr style=\"text-align: right;\">\n",
       "      <th></th>\n",
       "      <th>0</th>\n",
       "      <th>1</th>\n",
       "      <th>2</th>\n",
       "      <th>3</th>\n",
       "      <th>4</th>\n",
       "      <th>5</th>\n",
       "      <th>6</th>\n",
       "      <th>7</th>\n",
       "      <th>8</th>\n",
       "      <th>9</th>\n",
       "      <th>...</th>\n",
       "      <th>15395</th>\n",
       "      <th>15396</th>\n",
       "      <th>15397</th>\n",
       "      <th>15398</th>\n",
       "      <th>15399</th>\n",
       "      <th>E</th>\n",
       "      <th>E_ads</th>\n",
       "      <th>geom</th>\n",
       "      <th>processed</th>\n",
       "      <th>SOAP</th>\n",
       "    </tr>\n",
       "  </thead>\n",
       "  <tbody>\n",
       "    <tr>\n",
       "      <th>0</th>\n",
       "      <td>4.353228e-11</td>\n",
       "      <td>-9.761211e-10</td>\n",
       "      <td>7.905594e-09</td>\n",
       "      <td>-2.844079e-08</td>\n",
       "      <td>6.282483e-09</td>\n",
       "      <td>1.895700e-07</td>\n",
       "      <td>-1.763073e-07</td>\n",
       "      <td>-2.046005e-07</td>\n",
       "      <td>-1.969790e-07</td>\n",
       "      <td>4.707813e-07</td>\n",
       "      <td>...</td>\n",
       "      <td>0.0</td>\n",
       "      <td>0.0</td>\n",
       "      <td>0.0</td>\n",
       "      <td>0.0</td>\n",
       "      <td>0.0</td>\n",
       "      <td>-16767.6256</td>\n",
       "      <td>-1.5866</td>\n",
       "      <td>(Atom('H', [5.687816897, 11.8095906, 0.4501787...</td>\n",
       "      <td>(Atom('H', [5.687816897, 11.8095906, 0.4501787...</td>\n",
       "      <td>[4.3532275e-11, -9.761211e-10, 7.9055935e-09, ...</td>\n",
       "    </tr>\n",
       "    <tr>\n",
       "      <th>1</th>\n",
       "      <td>7.607364e-09</td>\n",
       "      <td>-9.992135e-08</td>\n",
       "      <td>5.802353e-07</td>\n",
       "      <td>-1.236764e-06</td>\n",
       "      <td>-1.529618e-06</td>\n",
       "      <td>4.555576e-06</td>\n",
       "      <td>2.258254e-06</td>\n",
       "      <td>-1.302319e-06</td>\n",
       "      <td>1.219160e-07</td>\n",
       "      <td>-5.623986e-06</td>\n",
       "      <td>...</td>\n",
       "      <td>0.0</td>\n",
       "      <td>0.0</td>\n",
       "      <td>0.0</td>\n",
       "      <td>0.0</td>\n",
       "      <td>0.0</td>\n",
       "      <td>-16766.1852</td>\n",
       "      <td>-0.1462</td>\n",
       "      <td>(Atom('H', [5.687816897, 11.8095906, 0.4501787...</td>\n",
       "      <td>(Atom('H', [5.687816897, 11.8095906, 0.4501787...</td>\n",
       "      <td>[7.607364e-09, -9.992135e-08, 5.8023534e-07, -...</td>\n",
       "    </tr>\n",
       "    <tr>\n",
       "      <th>2</th>\n",
       "      <td>8.391851e-11</td>\n",
       "      <td>4.454390e-10</td>\n",
       "      <td>-8.317685e-09</td>\n",
       "      <td>4.233181e-08</td>\n",
       "      <td>-4.714301e-08</td>\n",
       "      <td>-2.303692e-07</td>\n",
       "      <td>4.270018e-07</td>\n",
       "      <td>6.357941e-08</td>\n",
       "      <td>3.113139e-08</td>\n",
       "      <td>-3.543174e-07</td>\n",
       "      <td>...</td>\n",
       "      <td>0.0</td>\n",
       "      <td>0.0</td>\n",
       "      <td>0.0</td>\n",
       "      <td>0.0</td>\n",
       "      <td>0.0</td>\n",
       "      <td>-16766.2098</td>\n",
       "      <td>-0.1708</td>\n",
       "      <td>(Atom('H', [5.687816897, 11.8095906, 0.4501787...</td>\n",
       "      <td>(Atom('H', [5.687816897, 11.8095906, 0.4501787...</td>\n",
       "      <td>[8.391851e-11, 4.4543896e-10, -8.317685e-09, 4...</td>\n",
       "    </tr>\n",
       "    <tr>\n",
       "      <th>3</th>\n",
       "      <td>2.847526e-09</td>\n",
       "      <td>-1.677239e-08</td>\n",
       "      <td>4.058898e-08</td>\n",
       "      <td>8.008856e-08</td>\n",
       "      <td>-5.763775e-07</td>\n",
       "      <td>3.532773e-07</td>\n",
       "      <td>1.643088e-07</td>\n",
       "      <td>9.943318e-07</td>\n",
       "      <td>1.858888e-06</td>\n",
       "      <td>-3.459410e-06</td>\n",
       "      <td>...</td>\n",
       "      <td>0.0</td>\n",
       "      <td>0.0</td>\n",
       "      <td>0.0</td>\n",
       "      <td>0.0</td>\n",
       "      <td>0.0</td>\n",
       "      <td>-16766.1837</td>\n",
       "      <td>-0.1447</td>\n",
       "      <td>(Atom('H', [5.687816897, 11.8095906, 0.4501787...</td>\n",
       "      <td>(Atom('H', [5.687816897, 11.8095906, 0.4501787...</td>\n",
       "      <td>[2.8475262e-09, -1.6772388e-08, 4.0588983e-08,...</td>\n",
       "    </tr>\n",
       "    <tr>\n",
       "      <th>4</th>\n",
       "      <td>3.838045e-09</td>\n",
       "      <td>-3.024889e-08</td>\n",
       "      <td>1.170131e-07</td>\n",
       "      <td>-6.144818e-08</td>\n",
       "      <td>-8.713209e-07</td>\n",
       "      <td>9.953122e-07</td>\n",
       "      <td>6.548893e-07</td>\n",
       "      <td>5.098966e-07</td>\n",
       "      <td>2.522805e-06</td>\n",
       "      <td>-4.764007e-06</td>\n",
       "      <td>...</td>\n",
       "      <td>0.0</td>\n",
       "      <td>0.0</td>\n",
       "      <td>0.0</td>\n",
       "      <td>0.0</td>\n",
       "      <td>0.0</td>\n",
       "      <td>-16766.2209</td>\n",
       "      <td>-0.1819</td>\n",
       "      <td>(Atom('H', [5.687816897, 11.8095906, 0.4501787...</td>\n",
       "      <td>(Atom('H', [5.687816897, 11.8095906, 0.4501787...</td>\n",
       "      <td>[3.8380454e-09, -3.0248888e-08, 1.17013094e-07...</td>\n",
       "    </tr>\n",
       "    <tr>\n",
       "      <th>...</th>\n",
       "      <td>...</td>\n",
       "      <td>...</td>\n",
       "      <td>...</td>\n",
       "      <td>...</td>\n",
       "      <td>...</td>\n",
       "      <td>...</td>\n",
       "      <td>...</td>\n",
       "      <td>...</td>\n",
       "      <td>...</td>\n",
       "      <td>...</td>\n",
       "      <td>...</td>\n",
       "      <td>...</td>\n",
       "      <td>...</td>\n",
       "      <td>...</td>\n",
       "      <td>...</td>\n",
       "      <td>...</td>\n",
       "      <td>...</td>\n",
       "      <td>...</td>\n",
       "      <td>...</td>\n",
       "      <td>...</td>\n",
       "      <td>...</td>\n",
       "    </tr>\n",
       "    <tr>\n",
       "      <th>63</th>\n",
       "      <td>2.965279e-09</td>\n",
       "      <td>-1.850123e-08</td>\n",
       "      <td>4.562659e-08</td>\n",
       "      <td>1.195156e-07</td>\n",
       "      <td>-8.266827e-07</td>\n",
       "      <td>4.529262e-07</td>\n",
       "      <td>8.936792e-07</td>\n",
       "      <td>9.714616e-07</td>\n",
       "      <td>6.789587e-07</td>\n",
       "      <td>-2.980368e-06</td>\n",
       "      <td>...</td>\n",
       "      <td>0.0</td>\n",
       "      <td>0.0</td>\n",
       "      <td>0.0</td>\n",
       "      <td>0.0</td>\n",
       "      <td>0.0</td>\n",
       "      <td>-16767.4932</td>\n",
       "      <td>-1.4542</td>\n",
       "      <td>(Atom('H', [5.687816897, 11.8095906, 0.4501787...</td>\n",
       "      <td>(Atom('H', [5.687816897, 11.8095906, 0.4501787...</td>\n",
       "      <td>[2.965279e-09, -1.8501234e-08, 4.5626585e-08, ...</td>\n",
       "    </tr>\n",
       "    <tr>\n",
       "      <th>64</th>\n",
       "      <td>5.332725e-10</td>\n",
       "      <td>-5.904607e-10</td>\n",
       "      <td>-1.867550e-08</td>\n",
       "      <td>1.310667e-07</td>\n",
       "      <td>-2.385101e-07</td>\n",
       "      <td>-4.916511e-07</td>\n",
       "      <td>1.357381e-06</td>\n",
       "      <td>-3.141832e-07</td>\n",
       "      <td>4.456674e-07</td>\n",
       "      <td>-1.094002e-06</td>\n",
       "      <td>...</td>\n",
       "      <td>0.0</td>\n",
       "      <td>0.0</td>\n",
       "      <td>0.0</td>\n",
       "      <td>0.0</td>\n",
       "      <td>0.0</td>\n",
       "      <td>-16766.1742</td>\n",
       "      <td>-0.1352</td>\n",
       "      <td>(Atom('H', [5.687816897, 11.8095906, 0.4501787...</td>\n",
       "      <td>(Atom('H', [5.687816897, 11.8095906, 0.4501787...</td>\n",
       "      <td>[5.3327254e-10, -5.904607e-10, -1.8675502e-08,...</td>\n",
       "    </tr>\n",
       "    <tr>\n",
       "      <th>65</th>\n",
       "      <td>3.474001e-09</td>\n",
       "      <td>-2.205357e-08</td>\n",
       "      <td>6.058986e-08</td>\n",
       "      <td>8.829564e-08</td>\n",
       "      <td>-8.498182e-07</td>\n",
       "      <td>6.752736e-07</td>\n",
       "      <td>9.445916e-07</td>\n",
       "      <td>-2.467963e-07</td>\n",
       "      <td>2.065028e-06</td>\n",
       "      <td>-3.335990e-06</td>\n",
       "      <td>...</td>\n",
       "      <td>0.0</td>\n",
       "      <td>0.0</td>\n",
       "      <td>0.0</td>\n",
       "      <td>0.0</td>\n",
       "      <td>0.0</td>\n",
       "      <td>-16766.1551</td>\n",
       "      <td>-0.1161</td>\n",
       "      <td>(Atom('H', [5.687816897, 11.8095906, 0.4501787...</td>\n",
       "      <td>(Atom('H', [5.687816897, 11.8095906, 0.4501787...</td>\n",
       "      <td>[3.4740013e-09, -2.2053573e-08, 6.058986e-08, ...</td>\n",
       "    </tr>\n",
       "    <tr>\n",
       "      <th>66</th>\n",
       "      <td>3.307610e-10</td>\n",
       "      <td>-2.251950e-09</td>\n",
       "      <td>7.274817e-09</td>\n",
       "      <td>1.015500e-08</td>\n",
       "      <td>-1.818418e-07</td>\n",
       "      <td>5.163769e-07</td>\n",
       "      <td>-1.857476e-07</td>\n",
       "      <td>-6.362795e-07</td>\n",
       "      <td>-2.557520e-08</td>\n",
       "      <td>5.786108e-07</td>\n",
       "      <td>...</td>\n",
       "      <td>0.0</td>\n",
       "      <td>0.0</td>\n",
       "      <td>0.0</td>\n",
       "      <td>0.0</td>\n",
       "      <td>0.0</td>\n",
       "      <td>-16766.2013</td>\n",
       "      <td>-0.1623</td>\n",
       "      <td>(Atom('H', [5.687816897, 11.8095906, 0.4501787...</td>\n",
       "      <td>(Atom('H', [5.687816897, 11.8095906, 0.4501787...</td>\n",
       "      <td>[3.30761e-10, -2.2519502e-09, 7.274817e-09, 1....</td>\n",
       "    </tr>\n",
       "    <tr>\n",
       "      <th>67</th>\n",
       "      <td>2.560306e-10</td>\n",
       "      <td>-1.976867e-09</td>\n",
       "      <td>7.909033e-09</td>\n",
       "      <td>-8.890252e-10</td>\n",
       "      <td>-1.351796e-07</td>\n",
       "      <td>4.276410e-07</td>\n",
       "      <td>-1.160108e-07</td>\n",
       "      <td>-5.446458e-07</td>\n",
       "      <td>-3.321736e-07</td>\n",
       "      <td>7.884987e-07</td>\n",
       "      <td>...</td>\n",
       "      <td>0.0</td>\n",
       "      <td>0.0</td>\n",
       "      <td>0.0</td>\n",
       "      <td>0.0</td>\n",
       "      <td>0.0</td>\n",
       "      <td>-16766.2101</td>\n",
       "      <td>-0.1711</td>\n",
       "      <td>(Atom('H', [5.687816897, 11.8095906, 0.4501787...</td>\n",
       "      <td>(Atom('H', [5.687816897, 11.8095906, 0.4501787...</td>\n",
       "      <td>[2.560306e-10, -1.9768671e-09, 7.9090325e-09, ...</td>\n",
       "    </tr>\n",
       "  </tbody>\n",
       "</table>\n",
       "<p>68 rows × 15405 columns</p>\n",
       "</div>"
      ],
      "text/plain": [
       "               0             1             2             3             4  \\\n",
       "0   4.353228e-11 -9.761211e-10  7.905594e-09 -2.844079e-08  6.282483e-09   \n",
       "1   7.607364e-09 -9.992135e-08  5.802353e-07 -1.236764e-06 -1.529618e-06   \n",
       "2   8.391851e-11  4.454390e-10 -8.317685e-09  4.233181e-08 -4.714301e-08   \n",
       "3   2.847526e-09 -1.677239e-08  4.058898e-08  8.008856e-08 -5.763775e-07   \n",
       "4   3.838045e-09 -3.024889e-08  1.170131e-07 -6.144818e-08 -8.713209e-07   \n",
       "..           ...           ...           ...           ...           ...   \n",
       "63  2.965279e-09 -1.850123e-08  4.562659e-08  1.195156e-07 -8.266827e-07   \n",
       "64  5.332725e-10 -5.904607e-10 -1.867550e-08  1.310667e-07 -2.385101e-07   \n",
       "65  3.474001e-09 -2.205357e-08  6.058986e-08  8.829564e-08 -8.498182e-07   \n",
       "66  3.307610e-10 -2.251950e-09  7.274817e-09  1.015500e-08 -1.818418e-07   \n",
       "67  2.560306e-10 -1.976867e-09  7.909033e-09 -8.890252e-10 -1.351796e-07   \n",
       "\n",
       "               5             6             7             8             9  ...  \\\n",
       "0   1.895700e-07 -1.763073e-07 -2.046005e-07 -1.969790e-07  4.707813e-07  ...   \n",
       "1   4.555576e-06  2.258254e-06 -1.302319e-06  1.219160e-07 -5.623986e-06  ...   \n",
       "2  -2.303692e-07  4.270018e-07  6.357941e-08  3.113139e-08 -3.543174e-07  ...   \n",
       "3   3.532773e-07  1.643088e-07  9.943318e-07  1.858888e-06 -3.459410e-06  ...   \n",
       "4   9.953122e-07  6.548893e-07  5.098966e-07  2.522805e-06 -4.764007e-06  ...   \n",
       "..           ...           ...           ...           ...           ...  ...   \n",
       "63  4.529262e-07  8.936792e-07  9.714616e-07  6.789587e-07 -2.980368e-06  ...   \n",
       "64 -4.916511e-07  1.357381e-06 -3.141832e-07  4.456674e-07 -1.094002e-06  ...   \n",
       "65  6.752736e-07  9.445916e-07 -2.467963e-07  2.065028e-06 -3.335990e-06  ...   \n",
       "66  5.163769e-07 -1.857476e-07 -6.362795e-07 -2.557520e-08  5.786108e-07  ...   \n",
       "67  4.276410e-07 -1.160108e-07 -5.446458e-07 -3.321736e-07  7.884987e-07  ...   \n",
       "\n",
       "    15395  15396  15397  15398  15399           E   E_ads  \\\n",
       "0     0.0    0.0    0.0    0.0    0.0 -16767.6256 -1.5866   \n",
       "1     0.0    0.0    0.0    0.0    0.0 -16766.1852 -0.1462   \n",
       "2     0.0    0.0    0.0    0.0    0.0 -16766.2098 -0.1708   \n",
       "3     0.0    0.0    0.0    0.0    0.0 -16766.1837 -0.1447   \n",
       "4     0.0    0.0    0.0    0.0    0.0 -16766.2209 -0.1819   \n",
       "..    ...    ...    ...    ...    ...         ...     ...   \n",
       "63    0.0    0.0    0.0    0.0    0.0 -16767.4932 -1.4542   \n",
       "64    0.0    0.0    0.0    0.0    0.0 -16766.1742 -0.1352   \n",
       "65    0.0    0.0    0.0    0.0    0.0 -16766.1551 -0.1161   \n",
       "66    0.0    0.0    0.0    0.0    0.0 -16766.2013 -0.1623   \n",
       "67    0.0    0.0    0.0    0.0    0.0 -16766.2101 -0.1711   \n",
       "\n",
       "                                                 geom  \\\n",
       "0   (Atom('H', [5.687816897, 11.8095906, 0.4501787...   \n",
       "1   (Atom('H', [5.687816897, 11.8095906, 0.4501787...   \n",
       "2   (Atom('H', [5.687816897, 11.8095906, 0.4501787...   \n",
       "3   (Atom('H', [5.687816897, 11.8095906, 0.4501787...   \n",
       "4   (Atom('H', [5.687816897, 11.8095906, 0.4501787...   \n",
       "..                                                ...   \n",
       "63  (Atom('H', [5.687816897, 11.8095906, 0.4501787...   \n",
       "64  (Atom('H', [5.687816897, 11.8095906, 0.4501787...   \n",
       "65  (Atom('H', [5.687816897, 11.8095906, 0.4501787...   \n",
       "66  (Atom('H', [5.687816897, 11.8095906, 0.4501787...   \n",
       "67  (Atom('H', [5.687816897, 11.8095906, 0.4501787...   \n",
       "\n",
       "                                            processed  \\\n",
       "0   (Atom('H', [5.687816897, 11.8095906, 0.4501787...   \n",
       "1   (Atom('H', [5.687816897, 11.8095906, 0.4501787...   \n",
       "2   (Atom('H', [5.687816897, 11.8095906, 0.4501787...   \n",
       "3   (Atom('H', [5.687816897, 11.8095906, 0.4501787...   \n",
       "4   (Atom('H', [5.687816897, 11.8095906, 0.4501787...   \n",
       "..                                                ...   \n",
       "63  (Atom('H', [5.687816897, 11.8095906, 0.4501787...   \n",
       "64  (Atom('H', [5.687816897, 11.8095906, 0.4501787...   \n",
       "65  (Atom('H', [5.687816897, 11.8095906, 0.4501787...   \n",
       "66  (Atom('H', [5.687816897, 11.8095906, 0.4501787...   \n",
       "67  (Atom('H', [5.687816897, 11.8095906, 0.4501787...   \n",
       "\n",
       "                                                 SOAP  \n",
       "0   [4.3532275e-11, -9.761211e-10, 7.9055935e-09, ...  \n",
       "1   [7.607364e-09, -9.992135e-08, 5.8023534e-07, -...  \n",
       "2   [8.391851e-11, 4.4543896e-10, -8.317685e-09, 4...  \n",
       "3   [2.8475262e-09, -1.6772388e-08, 4.0588983e-08,...  \n",
       "4   [3.8380454e-09, -3.0248888e-08, 1.17013094e-07...  \n",
       "..                                                ...  \n",
       "63  [2.965279e-09, -1.8501234e-08, 4.5626585e-08, ...  \n",
       "64  [5.3327254e-10, -5.904607e-10, -1.8675502e-08,...  \n",
       "65  [3.4740013e-09, -2.2053573e-08, 6.058986e-08, ...  \n",
       "66  [3.30761e-10, -2.2519502e-09, 7.274817e-09, 1....  \n",
       "67  [2.560306e-10, -1.9768671e-09, 7.9090325e-09, ...  \n",
       "\n",
       "[68 rows x 15405 columns]"
      ]
     },
     "execution_count": 8,
     "metadata": {},
     "output_type": "execute_result"
    }
   ],
   "source": [
    "# globals\n",
    "jitter = True\n",
    "jitterscale = 0.25\n",
    "adslen = 5\n",
    "# adsIdx = 370\n",
    "\n",
    "species = [\"Si\", \"N\", \"H\", \"C\", \"F\", \"Ar\", \"He\"]\n",
    "\n",
    "# specifics\n",
    "# datadir = \"../slab0/\"\n",
    "datadirs = [\"temp\"]\n",
    "datadirs = [\"../mef.noH.bulk/\"]\n",
    "# datadirs = ['../cf4_adsorb/']\n",
    "\n",
    "datalist = []\n",
    "for datadir in datadirs:\n",
    "    data = readStructs(datadir) #MeF, amorphous slab, DFTB\n",
    "    data['processed'] = [\n",
    "        convertAdsorbateToHe(\n",
    "            i, len(i) - adslen, np.arange(len(i) - adslen, len(i))\n",
    "        ) for i in data['geom']\n",
    "    ]\n",
    "\n",
    "    if jitter:\n",
    "        np.random.seed(429)\n",
    "        for struct in data['processed']:\n",
    "            struct[-1].position[2] += np.random.normal(scale = jitterscale) \n",
    "            # add a bit of noise to z coord; reduce overfitting\n",
    "\n",
    "    data = pd.concat([data, getSOAPs(data['processed'], species = species)], axis = 1)\n",
    "\n",
    "    originalColumns = data.columns\n",
    "\n",
    "    datalist += [pd.concat([pd.DataFrame(data['SOAP'].to_list(), index = data.index), data], axis = 1)]\n",
    "data = pd.concat(datalist).reset_index(drop = True).fillna(0)\n",
    "data"
   ]
  },
  {
   "cell_type": "code",
   "execution_count": 19,
   "metadata": {
    "ExecuteTime": {
     "end_time": "2021-02-02T20:00:19.202187Z",
     "start_time": "2021-02-02T20:00:18.748784Z"
    }
   },
   "outputs": [],
   "source": [
    "view(data['processed'])"
   ]
  },
  {
   "cell_type": "code",
   "execution_count": 5,
   "metadata": {
    "ExecuteTime": {
     "end_time": "2021-02-02T04:45:38.558870Z",
     "start_time": "2021-02-02T04:45:38.216172Z"
    }
   },
   "outputs": [],
   "source": [
    "view(data['geom'])"
   ]
  },
  {
   "cell_type": "markdown",
   "metadata": {},
   "source": [
    "Independent test data:"
   ]
  },
  {
   "cell_type": "code",
   "execution_count": 5,
   "metadata": {
    "ExecuteTime": {
     "end_time": "2020-11-15T11:41:56.597144Z",
     "start_time": "2020-11-15T11:41:56.591040Z"
    },
    "code_folding": [
     0
    ],
    "scrolled": true
   },
   "outputs": [],
   "source": [
    "# data2 = readStructs(\"../adsorb_amorphous2/\", -196.0817, -16286.2542) #MeF, amorphous slab 2, DFTB\n",
    "\n",
    "# data2['processed'] = [\n",
    "#     convertAdsorbateToHe(i, 355, np.arange(355, 360)) for i in data2['geom']\n",
    "# ]\n",
    "\n",
    "# data2 = pd.concat([data2, getSOAPs(data2['processed'])], axis = 1)\n",
    "\n",
    "# originalColumns = data2.columns\n",
    "\n",
    "# data2 = pd.concat([pd.DataFrame(data2['SOAP'].to_list(), index = data2.index), data2], axis = 1)"
   ]
  },
  {
   "cell_type": "markdown",
   "metadata": {
    "heading_collapsed": true
   },
   "source": [
    "# Visualize data"
   ]
  },
  {
   "cell_type": "markdown",
   "metadata": {
    "hidden": true
   },
   "source": [
    "Summarize data:"
   ]
  },
  {
   "cell_type": "code",
   "execution_count": 27,
   "metadata": {
    "ExecuteTime": {
     "end_time": "2021-02-04T22:41:49.768040Z",
     "start_time": "2021-02-04T22:41:49.759161Z"
    },
    "hidden": true,
    "scrolled": false
   },
   "outputs": [
    {
     "data": {
      "text/plain": [
       "count    68.000000\n",
       "mean     -0.291743\n",
       "std       0.415505\n",
       "min      -1.589000\n",
       "25%      -0.181750\n",
       "50%      -0.157100\n",
       "75%      -0.127050\n",
       "max      -0.077800\n",
       "Name: E_ads, dtype: float64"
      ]
     },
     "execution_count": 27,
     "metadata": {},
     "output_type": "execute_result"
    }
   ],
   "source": [
    "data[\"E_ads\"].describe()"
   ]
  },
  {
   "cell_type": "code",
   "execution_count": 31,
   "metadata": {
    "ExecuteTime": {
     "end_time": "2020-12-29T12:11:35.037676Z",
     "start_time": "2020-12-29T12:11:35.009483Z"
    },
    "hidden": true
   },
   "outputs": [],
   "source": [
    "view(data['geom'][279])"
   ]
  },
  {
   "cell_type": "code",
   "execution_count": 30,
   "metadata": {
    "ExecuteTime": {
     "end_time": "2021-02-04T22:53:01.632602Z",
     "start_time": "2021-02-04T22:53:01.102405Z"
    },
    "hidden": true,
    "scrolled": false
   },
   "outputs": [],
   "source": [
    "view(data.loc[data['E_ads'] < -0.3, originalColumns]['geom'])"
   ]
  },
  {
   "cell_type": "code",
   "execution_count": 31,
   "metadata": {
    "ExecuteTime": {
     "end_time": "2021-02-04T22:56:50.454939Z",
     "start_time": "2021-02-04T22:56:50.447933Z"
    },
    "hidden": true
   },
   "outputs": [
    {
     "data": {
      "text/plain": [
       "0    -1.5866\n",
       "6    -1.5013\n",
       "22   -1.4295\n",
       "24   -1.5890\n",
       "27   -1.4759\n",
       "29   -1.4832\n",
       "32   -0.3032\n",
       "63   -1.4542\n",
       "Name: E_ads, dtype: float64"
      ]
     },
     "execution_count": 31,
     "metadata": {},
     "output_type": "execute_result"
    }
   ],
   "source": [
    "data.loc[data['E_ads'] < -0.3, 'E_ads']"
   ]
  },
  {
   "cell_type": "code",
   "execution_count": 32,
   "metadata": {
    "ExecuteTime": {
     "end_time": "2021-02-04T23:04:07.229368Z",
     "start_time": "2021-02-04T23:04:07.222413Z"
    },
    "hidden": true
   },
   "outputs": [
    {
     "data": {
      "text/plain": [
       "10   -0.0811\n",
       "15   -0.0778\n",
       "48   -0.0955\n",
       "Name: E_ads, dtype: float64"
      ]
     },
     "execution_count": 32,
     "metadata": {},
     "output_type": "execute_result"
    }
   ],
   "source": [
    "data.loc[np.bitwise_and(data['E_ads'] < 0, data['E_ads'] > -0.1), 'E_ads']"
   ]
  },
  {
   "cell_type": "code",
   "execution_count": 33,
   "metadata": {
    "ExecuteTime": {
     "end_time": "2021-02-04T23:04:09.235223Z",
     "start_time": "2021-02-04T23:04:09.212724Z"
    },
    "hidden": true
   },
   "outputs": [],
   "source": [
    "view(data.loc[np.bitwise_and(data['E_ads'] < 0, data['E_ads'] > -0.1), 'geom'])"
   ]
  },
  {
   "cell_type": "code",
   "execution_count": 37,
   "metadata": {
    "ExecuteTime": {
     "end_time": "2020-11-17T20:28:20.224592Z",
     "start_time": "2020-11-17T20:28:20.205873Z"
    },
    "hidden": true
   },
   "outputs": [],
   "source": [
    "view(data.loc[6, 'geom'])"
   ]
  },
  {
   "cell_type": "code",
   "execution_count": 33,
   "metadata": {
    "ExecuteTime": {
     "end_time": "2020-11-17T20:09:25.090588Z",
     "start_time": "2020-11-17T20:09:25.069729Z"
    },
    "hidden": true
   },
   "outputs": [],
   "source": [
    "view(gen.read_gen('../adsorb_amorphous/output3.gen'))"
   ]
  },
  {
   "cell_type": "code",
   "execution_count": 34,
   "metadata": {
    "ExecuteTime": {
     "end_time": "2020-11-17T20:20:03.414197Z",
     "start_time": "2020-11-17T20:20:03.374128Z"
    },
    "hidden": true
   },
   "outputs": [
    {
     "data": {
      "text/html": [
       "<div>\n",
       "<style scoped>\n",
       "    .dataframe tbody tr th:only-of-type {\n",
       "        vertical-align: middle;\n",
       "    }\n",
       "\n",
       "    .dataframe tbody tr th {\n",
       "        vertical-align: top;\n",
       "    }\n",
       "\n",
       "    .dataframe thead th {\n",
       "        text-align: right;\n",
       "    }\n",
       "</style>\n",
       "<table border=\"1\" class=\"dataframe\">\n",
       "  <thead>\n",
       "    <tr style=\"text-align: right;\">\n",
       "      <th></th>\n",
       "      <th>E</th>\n",
       "      <th>geom</th>\n",
       "      <th>E_ads</th>\n",
       "      <th>processed</th>\n",
       "      <th>SOAP</th>\n",
       "    </tr>\n",
       "  </thead>\n",
       "  <tbody>\n",
       "    <tr>\n",
       "      <th>6</th>\n",
       "      <td>-17025.2714</td>\n",
       "      <td>(Atom('H', [5.687816897, 11.8095906, 0.4501787...</td>\n",
       "      <td>-0.4094</td>\n",
       "      <td>(Atom('H', [5.687816897, 11.8095906, 0.4501787...</td>\n",
       "      <td>[8.0048074e-10, -6.624648e-09, 3.145716e-08, -...</td>\n",
       "    </tr>\n",
       "    <tr>\n",
       "      <th>24</th>\n",
       "      <td>-17025.3206</td>\n",
       "      <td>(Atom('H', [5.687816897, 11.8095906, 0.4501787...</td>\n",
       "      <td>-0.4586</td>\n",
       "      <td>(Atom('H', [5.687816897, 11.8095906, 0.4501787...</td>\n",
       "      <td>[2.6356706e-09, -1.5346345e-08, 3.7105632e-08,...</td>\n",
       "    </tr>\n",
       "  </tbody>\n",
       "</table>\n",
       "</div>"
      ],
      "text/plain": [
       "             E                                               geom   E_ads  \\\n",
       "6  -17025.2714  (Atom('H', [5.687816897, 11.8095906, 0.4501787... -0.4094   \n",
       "24 -17025.3206  (Atom('H', [5.687816897, 11.8095906, 0.4501787... -0.4586   \n",
       "\n",
       "                                            processed  \\\n",
       "6   (Atom('H', [5.687816897, 11.8095906, 0.4501787...   \n",
       "24  (Atom('H', [5.687816897, 11.8095906, 0.4501787...   \n",
       "\n",
       "                                                 SOAP  \n",
       "6   [8.0048074e-10, -6.624648e-09, 3.145716e-08, -...  \n",
       "24  [2.6356706e-09, -1.5346345e-08, 3.7105632e-08,...  "
      ]
     },
     "execution_count": 34,
     "metadata": {},
     "output_type": "execute_result"
    }
   ],
   "source": [
    "(data.loc[np.bitwise_and(data['E_ads'] < 0, data['E_ads'] < -0.4), originalColumns])"
   ]
  },
  {
   "cell_type": "markdown",
   "metadata": {
    "heading_collapsed": true
   },
   "source": [
    "# Adaptive sampling?"
   ]
  },
  {
   "cell_type": "markdown",
   "metadata": {},
   "source": [
    "# Train"
   ]
  },
  {
   "cell_type": "markdown",
   "metadata": {},
   "source": [
    "For now, just remove points that have positive adsorption energy "
   ]
  },
  {
   "cell_type": "code",
   "execution_count": 5,
   "metadata": {
    "ExecuteTime": {
     "end_time": "2021-01-26T01:16:44.101983Z",
     "start_time": "2021-01-26T01:16:43.969601Z"
    },
    "scrolled": true
   },
   "outputs": [
    {
     "name": "stdout",
     "output_type": "stream",
     "text": [
      "# points total: 300; #train points: 225; #test points: 75\n"
     ]
    }
   ],
   "source": [
    "from sklearn.model_selection import train_test_split, GridSearchCV\n",
    "from sklearn.kernel_ridge import KernelRidge\n",
    "validData = data['E_ads'] < 0\n",
    "# X_train = data.loc[validData, ~np.isin(data.columns, originalColumns)]\n",
    "# y_train = data.loc[validData, 'E_ads']\n",
    "X_train, X_test, y_train, y_test = train_test_split(\n",
    "    data.loc[validData, ~np.isin(data.columns, originalColumns)], \n",
    "    data.loc[validData, 'E_ads'], random_state = 429)\n",
    "print(\"# points total: %d; #train points: %d; #test points: %d\" % \n",
    "      (sum(validData), len(X_train), len(X_test)))"
   ]
  },
  {
   "cell_type": "code",
   "execution_count": 6,
   "metadata": {
    "ExecuteTime": {
     "end_time": "2021-01-26T01:16:44.914362Z",
     "start_time": "2021-01-26T01:16:44.883030Z"
    },
    "scrolled": true
   },
   "outputs": [
    {
     "data": {
      "text/html": [
       "<div>\n",
       "<style scoped>\n",
       "    .dataframe tbody tr th:only-of-type {\n",
       "        vertical-align: middle;\n",
       "    }\n",
       "\n",
       "    .dataframe tbody tr th {\n",
       "        vertical-align: top;\n",
       "    }\n",
       "\n",
       "    .dataframe thead th {\n",
       "        text-align: right;\n",
       "    }\n",
       "</style>\n",
       "<table border=\"1\" class=\"dataframe\">\n",
       "  <thead>\n",
       "    <tr style=\"text-align: right;\">\n",
       "      <th></th>\n",
       "      <th>0</th>\n",
       "      <th>1</th>\n",
       "      <th>2</th>\n",
       "      <th>3</th>\n",
       "      <th>4</th>\n",
       "      <th>5</th>\n",
       "      <th>6</th>\n",
       "      <th>7</th>\n",
       "      <th>8</th>\n",
       "      <th>9</th>\n",
       "      <th>...</th>\n",
       "      <th>15390</th>\n",
       "      <th>15391</th>\n",
       "      <th>15392</th>\n",
       "      <th>15393</th>\n",
       "      <th>15394</th>\n",
       "      <th>15395</th>\n",
       "      <th>15396</th>\n",
       "      <th>15397</th>\n",
       "      <th>15398</th>\n",
       "      <th>15399</th>\n",
       "    </tr>\n",
       "  </thead>\n",
       "  <tbody>\n",
       "    <tr>\n",
       "      <th>258</th>\n",
       "      <td>1.815447e-12</td>\n",
       "      <td>-3.158739e-11</td>\n",
       "      <td>2.573180e-10</td>\n",
       "      <td>-1.140364e-09</td>\n",
       "      <td>1.270609e-09</td>\n",
       "      <td>1.091704e-08</td>\n",
       "      <td>-4.197369e-08</td>\n",
       "      <td>3.054351e-08</td>\n",
       "      <td>4.419032e-08</td>\n",
       "      <td>-4.674955e-08</td>\n",
       "      <td>...</td>\n",
       "      <td>0.000000</td>\n",
       "      <td>0.000000</td>\n",
       "      <td>0.000000</td>\n",
       "      <td>0.000000</td>\n",
       "      <td>0.000000</td>\n",
       "      <td>0.000000</td>\n",
       "      <td>0.000000</td>\n",
       "      <td>0.000000</td>\n",
       "      <td>0.000000</td>\n",
       "      <td>0.000000</td>\n",
       "    </tr>\n",
       "    <tr>\n",
       "      <th>199</th>\n",
       "      <td>5.606738e-11</td>\n",
       "      <td>5.662895e-10</td>\n",
       "      <td>-8.116053e-09</td>\n",
       "      <td>3.772891e-08</td>\n",
       "      <td>-3.491013e-08</td>\n",
       "      <td>-2.008935e-07</td>\n",
       "      <td>3.164138e-07</td>\n",
       "      <td>1.324712e-08</td>\n",
       "      <td>3.651395e-07</td>\n",
       "      <td>-5.680119e-07</td>\n",
       "      <td>...</td>\n",
       "      <td>0.000000</td>\n",
       "      <td>0.000000</td>\n",
       "      <td>0.000000</td>\n",
       "      <td>0.000000</td>\n",
       "      <td>0.000000</td>\n",
       "      <td>0.000000</td>\n",
       "      <td>0.000000</td>\n",
       "      <td>0.000000</td>\n",
       "      <td>0.000000</td>\n",
       "      <td>0.000000</td>\n",
       "    </tr>\n",
       "    <tr>\n",
       "      <th>284</th>\n",
       "      <td>4.457202e-09</td>\n",
       "      <td>-1.972164e-08</td>\n",
       "      <td>-1.027219e-08</td>\n",
       "      <td>5.218718e-07</td>\n",
       "      <td>-1.835957e-06</td>\n",
       "      <td>5.146284e-07</td>\n",
       "      <td>3.399620e-06</td>\n",
       "      <td>-9.959998e-07</td>\n",
       "      <td>1.100307e-06</td>\n",
       "      <td>-3.564744e-06</td>\n",
       "      <td>...</td>\n",
       "      <td>0.000000</td>\n",
       "      <td>0.000000</td>\n",
       "      <td>0.000000</td>\n",
       "      <td>0.000000</td>\n",
       "      <td>0.000000</td>\n",
       "      <td>0.000000</td>\n",
       "      <td>0.000000</td>\n",
       "      <td>0.000000</td>\n",
       "      <td>0.000000</td>\n",
       "      <td>0.000000</td>\n",
       "    </tr>\n",
       "    <tr>\n",
       "      <th>137</th>\n",
       "      <td>6.730261e-13</td>\n",
       "      <td>-1.795998e-11</td>\n",
       "      <td>1.973100e-10</td>\n",
       "      <td>-1.337311e-09</td>\n",
       "      <td>5.522935e-09</td>\n",
       "      <td>-1.329977e-08</td>\n",
       "      <td>2.201634e-08</td>\n",
       "      <td>-4.205664e-08</td>\n",
       "      <td>6.325300e-08</td>\n",
       "      <td>-3.571113e-08</td>\n",
       "      <td>...</td>\n",
       "      <td>0.000000</td>\n",
       "      <td>0.000000</td>\n",
       "      <td>0.000000</td>\n",
       "      <td>0.000000</td>\n",
       "      <td>0.000000</td>\n",
       "      <td>0.000000</td>\n",
       "      <td>0.000000</td>\n",
       "      <td>0.000000</td>\n",
       "      <td>0.000000</td>\n",
       "      <td>0.000000</td>\n",
       "    </tr>\n",
       "    <tr>\n",
       "      <th>83</th>\n",
       "      <td>3.529154e-09</td>\n",
       "      <td>-2.624558e-08</td>\n",
       "      <td>9.343935e-08</td>\n",
       "      <td>-5.878081e-09</td>\n",
       "      <td>-8.233440e-07</td>\n",
       "      <td>6.133091e-07</td>\n",
       "      <td>1.633452e-06</td>\n",
       "      <td>-5.700138e-07</td>\n",
       "      <td>1.515161e-06</td>\n",
       "      <td>-3.155809e-06</td>\n",
       "      <td>...</td>\n",
       "      <td>0.000124</td>\n",
       "      <td>-0.000112</td>\n",
       "      <td>0.000071</td>\n",
       "      <td>-0.000024</td>\n",
       "      <td>0.000100</td>\n",
       "      <td>-0.000064</td>\n",
       "      <td>0.000022</td>\n",
       "      <td>0.000041</td>\n",
       "      <td>-0.000014</td>\n",
       "      <td>0.000005</td>\n",
       "    </tr>\n",
       "    <tr>\n",
       "      <th>...</th>\n",
       "      <td>...</td>\n",
       "      <td>...</td>\n",
       "      <td>...</td>\n",
       "      <td>...</td>\n",
       "      <td>...</td>\n",
       "      <td>...</td>\n",
       "      <td>...</td>\n",
       "      <td>...</td>\n",
       "      <td>...</td>\n",
       "      <td>...</td>\n",
       "      <td>...</td>\n",
       "      <td>...</td>\n",
       "      <td>...</td>\n",
       "      <td>...</td>\n",
       "      <td>...</td>\n",
       "      <td>...</td>\n",
       "      <td>...</td>\n",
       "      <td>...</td>\n",
       "      <td>...</td>\n",
       "      <td>...</td>\n",
       "      <td>...</td>\n",
       "    </tr>\n",
       "    <tr>\n",
       "      <th>101</th>\n",
       "      <td>0.000000e+00</td>\n",
       "      <td>0.000000e+00</td>\n",
       "      <td>0.000000e+00</td>\n",
       "      <td>0.000000e+00</td>\n",
       "      <td>0.000000e+00</td>\n",
       "      <td>0.000000e+00</td>\n",
       "      <td>0.000000e+00</td>\n",
       "      <td>0.000000e+00</td>\n",
       "      <td>0.000000e+00</td>\n",
       "      <td>0.000000e+00</td>\n",
       "      <td>...</td>\n",
       "      <td>0.000000</td>\n",
       "      <td>0.000000</td>\n",
       "      <td>0.000000</td>\n",
       "      <td>0.000000</td>\n",
       "      <td>0.000000</td>\n",
       "      <td>0.000000</td>\n",
       "      <td>0.000000</td>\n",
       "      <td>0.000000</td>\n",
       "      <td>0.000000</td>\n",
       "      <td>0.000000</td>\n",
       "    </tr>\n",
       "    <tr>\n",
       "      <th>141</th>\n",
       "      <td>5.245168e-09</td>\n",
       "      <td>-4.142764e-08</td>\n",
       "      <td>1.625453e-07</td>\n",
       "      <td>-8.473738e-08</td>\n",
       "      <td>-1.453749e-06</td>\n",
       "      <td>2.924227e-06</td>\n",
       "      <td>-8.810478e-07</td>\n",
       "      <td>-5.876803e-07</td>\n",
       "      <td>3.777944e-06</td>\n",
       "      <td>-4.668774e-06</td>\n",
       "      <td>...</td>\n",
       "      <td>0.000000</td>\n",
       "      <td>0.000000</td>\n",
       "      <td>0.000000</td>\n",
       "      <td>0.000000</td>\n",
       "      <td>0.000000</td>\n",
       "      <td>0.000000</td>\n",
       "      <td>0.000000</td>\n",
       "      <td>0.000000</td>\n",
       "      <td>0.000000</td>\n",
       "      <td>0.000000</td>\n",
       "    </tr>\n",
       "    <tr>\n",
       "      <th>98</th>\n",
       "      <td>7.224400e-12</td>\n",
       "      <td>-6.336827e-11</td>\n",
       "      <td>3.545257e-10</td>\n",
       "      <td>-1.199306e-09</td>\n",
       "      <td>1.139600e-09</td>\n",
       "      <td>7.127744e-09</td>\n",
       "      <td>-2.133617e-08</td>\n",
       "      <td>-1.128179e-09</td>\n",
       "      <td>5.313376e-08</td>\n",
       "      <td>-3.973086e-08</td>\n",
       "      <td>...</td>\n",
       "      <td>0.000471</td>\n",
       "      <td>-0.000737</td>\n",
       "      <td>0.000753</td>\n",
       "      <td>-0.000375</td>\n",
       "      <td>0.001154</td>\n",
       "      <td>-0.001178</td>\n",
       "      <td>0.000586</td>\n",
       "      <td>0.001202</td>\n",
       "      <td>-0.000598</td>\n",
       "      <td>0.000298</td>\n",
       "    </tr>\n",
       "    <tr>\n",
       "      <th>52</th>\n",
       "      <td>6.504120e-12</td>\n",
       "      <td>-4.308866e-11</td>\n",
       "      <td>9.127864e-11</td>\n",
       "      <td>6.978783e-10</td>\n",
       "      <td>-6.801208e-09</td>\n",
       "      <td>2.194299e-08</td>\n",
       "      <td>-6.673361e-09</td>\n",
       "      <td>-1.170892e-07</td>\n",
       "      <td>2.307847e-07</td>\n",
       "      <td>-1.263461e-07</td>\n",
       "      <td>...</td>\n",
       "      <td>0.000000</td>\n",
       "      <td>0.000000</td>\n",
       "      <td>0.000000</td>\n",
       "      <td>0.000000</td>\n",
       "      <td>0.000000</td>\n",
       "      <td>0.000000</td>\n",
       "      <td>0.000000</td>\n",
       "      <td>0.000000</td>\n",
       "      <td>0.000000</td>\n",
       "      <td>0.000000</td>\n",
       "    </tr>\n",
       "    <tr>\n",
       "      <th>254</th>\n",
       "      <td>8.984485e-10</td>\n",
       "      <td>-7.579441e-09</td>\n",
       "      <td>3.542537e-08</td>\n",
       "      <td>-4.864540e-08</td>\n",
       "      <td>-3.570163e-07</td>\n",
       "      <td>1.604620e-06</td>\n",
       "      <td>-1.542859e-06</td>\n",
       "      <td>-4.057688e-07</td>\n",
       "      <td>-9.041139e-07</td>\n",
       "      <td>1.876172e-06</td>\n",
       "      <td>...</td>\n",
       "      <td>0.000000</td>\n",
       "      <td>0.000000</td>\n",
       "      <td>0.000000</td>\n",
       "      <td>0.000000</td>\n",
       "      <td>0.000000</td>\n",
       "      <td>0.000000</td>\n",
       "      <td>0.000000</td>\n",
       "      <td>0.000000</td>\n",
       "      <td>0.000000</td>\n",
       "      <td>0.000000</td>\n",
       "    </tr>\n",
       "  </tbody>\n",
       "</table>\n",
       "<p>225 rows × 15400 columns</p>\n",
       "</div>"
      ],
      "text/plain": [
       "            0             1             2             3             4      \\\n",
       "258  1.815447e-12 -3.158739e-11  2.573180e-10 -1.140364e-09  1.270609e-09   \n",
       "199  5.606738e-11  5.662895e-10 -8.116053e-09  3.772891e-08 -3.491013e-08   \n",
       "284  4.457202e-09 -1.972164e-08 -1.027219e-08  5.218718e-07 -1.835957e-06   \n",
       "137  6.730261e-13 -1.795998e-11  1.973100e-10 -1.337311e-09  5.522935e-09   \n",
       "83   3.529154e-09 -2.624558e-08  9.343935e-08 -5.878081e-09 -8.233440e-07   \n",
       "..            ...           ...           ...           ...           ...   \n",
       "101  0.000000e+00  0.000000e+00  0.000000e+00  0.000000e+00  0.000000e+00   \n",
       "141  5.245168e-09 -4.142764e-08  1.625453e-07 -8.473738e-08 -1.453749e-06   \n",
       "98   7.224400e-12 -6.336827e-11  3.545257e-10 -1.199306e-09  1.139600e-09   \n",
       "52   6.504120e-12 -4.308866e-11  9.127864e-11  6.978783e-10 -6.801208e-09   \n",
       "254  8.984485e-10 -7.579441e-09  3.542537e-08 -4.864540e-08 -3.570163e-07   \n",
       "\n",
       "            5             6             7             8             9      \\\n",
       "258  1.091704e-08 -4.197369e-08  3.054351e-08  4.419032e-08 -4.674955e-08   \n",
       "199 -2.008935e-07  3.164138e-07  1.324712e-08  3.651395e-07 -5.680119e-07   \n",
       "284  5.146284e-07  3.399620e-06 -9.959998e-07  1.100307e-06 -3.564744e-06   \n",
       "137 -1.329977e-08  2.201634e-08 -4.205664e-08  6.325300e-08 -3.571113e-08   \n",
       "83   6.133091e-07  1.633452e-06 -5.700138e-07  1.515161e-06 -3.155809e-06   \n",
       "..            ...           ...           ...           ...           ...   \n",
       "101  0.000000e+00  0.000000e+00  0.000000e+00  0.000000e+00  0.000000e+00   \n",
       "141  2.924227e-06 -8.810478e-07 -5.876803e-07  3.777944e-06 -4.668774e-06   \n",
       "98   7.127744e-09 -2.133617e-08 -1.128179e-09  5.313376e-08 -3.973086e-08   \n",
       "52   2.194299e-08 -6.673361e-09 -1.170892e-07  2.307847e-07 -1.263461e-07   \n",
       "254  1.604620e-06 -1.542859e-06 -4.057688e-07 -9.041139e-07  1.876172e-06   \n",
       "\n",
       "     ...     15390     15391     15392     15393     15394     15395  \\\n",
       "258  ...  0.000000  0.000000  0.000000  0.000000  0.000000  0.000000   \n",
       "199  ...  0.000000  0.000000  0.000000  0.000000  0.000000  0.000000   \n",
       "284  ...  0.000000  0.000000  0.000000  0.000000  0.000000  0.000000   \n",
       "137  ...  0.000000  0.000000  0.000000  0.000000  0.000000  0.000000   \n",
       "83   ...  0.000124 -0.000112  0.000071 -0.000024  0.000100 -0.000064   \n",
       "..   ...       ...       ...       ...       ...       ...       ...   \n",
       "101  ...  0.000000  0.000000  0.000000  0.000000  0.000000  0.000000   \n",
       "141  ...  0.000000  0.000000  0.000000  0.000000  0.000000  0.000000   \n",
       "98   ...  0.000471 -0.000737  0.000753 -0.000375  0.001154 -0.001178   \n",
       "52   ...  0.000000  0.000000  0.000000  0.000000  0.000000  0.000000   \n",
       "254  ...  0.000000  0.000000  0.000000  0.000000  0.000000  0.000000   \n",
       "\n",
       "        15396     15397     15398     15399  \n",
       "258  0.000000  0.000000  0.000000  0.000000  \n",
       "199  0.000000  0.000000  0.000000  0.000000  \n",
       "284  0.000000  0.000000  0.000000  0.000000  \n",
       "137  0.000000  0.000000  0.000000  0.000000  \n",
       "83   0.000022  0.000041 -0.000014  0.000005  \n",
       "..        ...       ...       ...       ...  \n",
       "101  0.000000  0.000000  0.000000  0.000000  \n",
       "141  0.000000  0.000000  0.000000  0.000000  \n",
       "98   0.000586  0.001202 -0.000598  0.000298  \n",
       "52   0.000000  0.000000  0.000000  0.000000  \n",
       "254  0.000000  0.000000  0.000000  0.000000  \n",
       "\n",
       "[225 rows x 15400 columns]"
      ]
     },
     "execution_count": 6,
     "metadata": {},
     "output_type": "execute_result"
    }
   ],
   "source": [
    "X_train"
   ]
  },
  {
   "cell_type": "markdown",
   "metadata": {},
   "source": [
    "Run KRR with grid CV search"
   ]
  },
  {
   "cell_type": "code",
   "execution_count": 7,
   "metadata": {
    "ExecuteTime": {
     "end_time": "2021-01-26T01:16:53.534523Z",
     "start_time": "2021-01-26T01:16:46.202022Z"
    }
   },
   "outputs": [
    {
     "data": {
      "text/plain": [
       "GridSearchCV(cv=5, error_score=nan,\n",
       "             estimator=KernelRidge(alpha=1, coef0=1, degree=3, gamma=None,\n",
       "                                   kernel='linear', kernel_params=None),\n",
       "             iid='deprecated', n_jobs=None,\n",
       "             param_grid=[{'alpha': array([1.00000000e-10, 2.37137371e-10, 5.62341325e-10, 1.33352143e-09,\n",
       "       3.16227766e-09, 7.49894209e-09, 1.77827941e-08, 4.21696503e-08,\n",
       "       1.00000000e-07, 2.37137371e-07, 5.62341325e-07, 1.33352143e-06,\n",
       "       3.16227766e-06, 7.49894209e-06, 1.77827941e-05, 4.21696503e-05,\n",
       "       1.00000000e-04, 2.37137371e-04, 5.62341325e-04, 1.33352143e-03,\n",
       "       3.16227766e-03, 7.49894209e-03, 1.77827941e-02, 4.21696503e-02,\n",
       "       1.00000000e-01])}],\n",
       "             pre_dispatch='2*n_jobs', refit=True, return_train_score=False,\n",
       "             scoring=None, verbose=0)"
      ]
     },
     "execution_count": 7,
     "metadata": {},
     "output_type": "execute_result"
    }
   ],
   "source": [
    "alphas = np.logspace(-10, -1, 25)\n",
    "krr = KernelRidge()  # gamma automatically set by sklearn.metrics.pairwise.rbf_kernel\n",
    "Emodel = GridSearchCV(krr, [{\"alpha\":alphas}], cv = 5)\n",
    "Emodel.fit(np.array(X_train), np.array(y_train))"
   ]
  },
  {
   "cell_type": "markdown",
   "metadata": {},
   "source": [
    "Optimal model result:"
   ]
  },
  {
   "cell_type": "code",
   "execution_count": 242,
   "metadata": {
    "ExecuteTime": {
     "end_time": "2021-01-04T08:52:42.158694Z",
     "start_time": "2021-01-04T08:52:42.146387Z"
    }
   },
   "outputs": [
    {
     "data": {
      "text/plain": [
       "{'alpha': 0.007498942093324558}"
      ]
     },
     "execution_count": 242,
     "metadata": {},
     "output_type": "execute_result"
    }
   ],
   "source": [
    "Emodel.best_params_"
   ]
  },
  {
   "cell_type": "code",
   "execution_count": 8,
   "metadata": {
    "ExecuteTime": {
     "end_time": "2021-01-26T01:18:27.746575Z",
     "start_time": "2021-01-26T01:18:27.696603Z"
    }
   },
   "outputs": [],
   "source": [
    "import pickle\n",
    "with open('Emodel_fragments', 'wb') as f:\n",
    "    pickle.dump(Emodel, f)"
   ]
  },
  {
   "cell_type": "markdown",
   "metadata": {
    "heading_collapsed": true
   },
   "source": [
    "## Optimizing SOAP"
   ]
  },
  {
   "cell_type": "code",
   "execution_count": 10,
   "metadata": {
    "ExecuteTime": {
     "end_time": "2020-11-15T11:42:15.780856Z",
     "start_time": "2020-11-15T11:42:15.763432Z"
    },
    "hidden": true
   },
   "outputs": [],
   "source": [
    "def predictZs(slabs):\n",
    "    bareslab = slabs[0].copy()\n",
    "    del bareslab[-1]\n",
    "    \n",
    "    testZstructs = []\n",
    "    \n",
    "    for slab in slabs:\n",
    "        x, y, z = slab[-1].position\n",
    "        maxz = 0\n",
    "        for atom in slab:\n",
    "            if atom.symbol == \"He\": # don't use He position to determine max Z position \n",
    "                continue\n",
    "            _x, _y, _z = atom.position\n",
    "            if ((x - _x)**2 + (y - _y)**2) ** 0.5 < 2.2:\n",
    "                if _z > maxz:\n",
    "                    maxz = _z\n",
    "\n",
    "        newstruct = bareslab.copy()\n",
    "        newheight = maxz + 2.5 #mean height from test; \n",
    "        # see https://docs.google.com/presentation/d/13NdBmWkxwG0ZvL7BgYsGo-x-3CzZp8JymnF8yTitdCg/edit#slide=id.ga11af18809_0_13\n",
    "\n",
    "        newstruct.append(Atom(\"He\", position = (x, y, newheight)))\n",
    "        testZstructs += [newstruct]    \n",
    "        \n",
    "    return testZstructs\n",
    "# predictZs(data['processed']) == testZstructs"
   ]
  },
  {
   "cell_type": "code",
   "execution_count": 58,
   "metadata": {
    "ExecuteTime": {
     "end_time": "2020-11-11T04:19:00.754734Z",
     "start_time": "2020-11-11T04:11:49.342609Z"
    },
    "code_folding": [],
    "hidden": true,
    "scrolled": false
   },
   "outputs": [
    {
     "name": "stdout",
     "output_type": "stream",
     "text": [
      "0.0012777788752003972 5.0 0.1 0.5\n",
      "0.0022917501414224735 5.00000001 0.1 0.5\n",
      "0.00050135852914354 5.0 0.10000001 0.5\n",
      "5.5357097479043675e-05 5.0 0.1 0.50000001\n",
      "6.144074524486362e-05 4.999972378585766 0.6361456999627331 1.3441254572920593\n",
      "0.016283310356580274 4.999972388585766 0.6361456999627331 1.3441254572920593\n",
      "0.005245694457853478 4.999972378585766 0.6361457099627331 1.3441254572920593\n",
      "0.030477123300663975 4.999972378585766 0.6361456999627331 1.3441254672920593\n",
      "0.0167471184476662 4.9999840133755065 0.41030851304173477 0.9885599483334109\n",
      "0.018630920060651708 4.999984023375506 0.41030851304173477 0.9885599483334109\n",
      "0.023372309054812933 4.9999840133755065 0.41030852304173476 0.9885599483334109\n",
      "0.02558383158889533 4.9999840133755065 0.41030851304173477 0.9885599583334109\n",
      "0.014844434049679122 4.999990854991042 0.2775092754973011 0.7794764526940281\n",
      "0.030761909149031326 4.999990864991042 0.2775092754973011 0.7794764526940281\n",
      "0.041217915481462725 4.999990854991042 0.2775092854973011 0.7794764526940281\n",
      "0.01678766368550265 4.999990854991042 0.2775092754973011 0.7794764626940281\n",
      "0.02650726901425363 4.999994736872841 0.20215997524470192 0.6608440314384199\n",
      "0.022381643806121215 4.999994746872841 0.20215997524470192 0.6608440314384199\n",
      "0.04785993555493118 4.999994736872841 0.2021599852447019 0.6608440314384199\n",
      "0.03748028113017489 4.999994736872841 0.20215997524470192 0.6608440414384199\n",
      "0.03187855745153468 4.9999969610274535 0.15898800290842327 0.5928726555734368\n",
      "0.014785646552866953 4.999996971027453 0.15898800290842327 0.5928726555734368\n",
      "0.009678126027878401 4.9999969610274535 0.15898801290842327 0.5928726555734368\n",
      "0.01122279930316618 4.9999969610274535 0.15898800290842327 0.5928726655734369\n",
      "0.01500258999145565 4.9999999293844795 0.10137068318037114 0.5021580487664338\n",
      "0.015633168517655054 4.999999939384479 0.10137068318037114 0.5021580487664338\n",
      "0.007897473116171009 4.9999999293844795 0.10137069318037113 0.5021580487664338\n",
      "0.006355008085508966 4.9999999293844795 0.10137068318037114 0.5021580587664338\n",
      "0.00014401441688403812 4.999999996052367 0.10007662556446462 0.500120641813687\n",
      "0.0026962828092978934 5.000000006052367 0.10007662556446462 0.500120641813687\n",
      "0.0014701046525335214 4.999999996052367 0.10007663556446461 0.500120641813687\n",
      "0.003382432887195345 4.999999996052367 0.10007662556446462 0.500120651813687\n",
      "0.0016457765391578506 4.999999997846535 0.1000417998507583 0.500065811062438\n",
      "0.003348945314141183 5.000000007846535 0.1000417998507583 0.500065811062438\n",
      "0.0025569791553132623 4.999999997846535 0.10004180985075829 0.500065811062438\n",
      "0.006216035787445939 4.999999997846535 0.1000417998507583 0.500065821062438\n",
      "0.0002739124561395911 4.999999998807383 0.1000231492946869 0.5000364470123791\n",
      "0.0018333573596102325 5.000000008807383 0.1000231492946869 0.5000364470123791\n",
      "0.01080238011655427 4.999999998807383 0.1000231592946869 0.5000364470123791\n",
      "0.026807951920152107 4.999999998807383 0.1000231492946869 0.5000364570123792\n",
      "0.028535736811574945 4.999999999309766 0.10001339778314518 0.5000210939112725\n",
      "0.036795418715705824 5.000000009309766 0.10001339778314518 0.5000210939112725\n",
      "0.02444732479030929 4.999999999309766 0.10001340778314517 0.5000210939112725\n",
      "0.015778256427164225 4.999999999309766 0.10001339778314518 0.5000211039112725\n",
      "0.01575229900373077 4.999999999966307 0.10000065400428453 0.5000010296858965\n",
      "0.011211804366837323 5.000000009966307 0.10000065400428453 0.5000010296858965\n",
      "0.002152757948681276 4.999999999966307 0.10000066400428452 0.5000010296858965\n",
      "0.0009174867344182048 4.999999999966307 0.10000065400428453 0.5000010396858966\n",
      "0.006198548811656253 4.9999999999988916 0.10000002152064541 0.5000000338828133\n",
      "0.007427021416670124 5.0000000099988915 0.10000002152064541 0.5000000338828133\n",
      "0.020676635507794423 4.9999999999988916 0.1000000315206454 0.5000000338828133\n",
      "0.02486545007319547 4.9999999999988916 0.10000002152064541 0.5000000438828134\n",
      "0.024733341301648705 4.999999999999509 0.10000000953944298 0.5000000150192133\n",
      "0.022739934831349846 5.000000009999509 0.10000000953944298 0.5000000150192133\n",
      "0.01837755808088968 4.999999999999509 0.10000001953944297 0.5000000150192133\n",
      "0.024264388786456426 4.999999999999509 0.10000000953944298 0.5000000250192134\n",
      "0.028148236175674444 4.999999999999992 0.10000000015183415 0.5000000002390527\n",
      "0.014035246178597542 5.000000009999992 0.10000000015183415 0.5000000002390527\n",
      "0.02001215374637792 4.999999999999992 0.10000001015183414 0.5000000002390527\n",
      "0.007400979237987689 4.999999999999992 0.10000000015183415 0.5000000102390527\n",
      "0.005545445359605416 5.0 0.10000000000003831 0.5000000000000603\n",
      "0.00018662084539702306 5.00000001 0.10000000000003831 0.5000000000000603\n",
      "0.0011808145202263512 5.0 0.1000000100000383 0.5000000000000603\n",
      "0.00032994983809283933 5.0 0.10000000000003831 0.5000000100000603\n",
      "0.009503349526237473 5.0 0.1 0.5\n",
      "0.013831206286996493 5.00000001 0.1 0.5\n",
      "0.013324679603495445 5.0 0.10000001 0.5\n",
      "0.010532575433137717 5.0 0.1 0.50000001\n",
      "0.0122880677444788 5.0 0.1 0.5\n",
      "0.011566942284734042 5.00000001 0.1 0.5\n",
      "0.009826698397674723 5.0 0.10000001 0.5\n",
      "0.007707975915656225 5.0 0.1 0.50000001\n",
      "0.009842652443744389 5.0 0.1 0.5\n",
      "0.0006891011063551389 5.00000001 0.1 0.5\n",
      "0.0015912175314608608 5.0 0.10000001 0.5\n",
      "0.008571782510469342 5.0 0.1 0.50000001\n"
     ]
    }
   ],
   "source": [
    "from scipy.optimize import minimize\n",
    "from sklearn.model_selection import train_test_split\n",
    "from sklearn.kernel_ridge import KernelRidge\n",
    "from sklearn.model_selection import GridSearchCV\n",
    "\n",
    "def f(args, data):\n",
    "    np.random.seed(429)\n",
    "#     rcut,nmax,lmax,sigma, scale = args\n",
    "#     nmax = int(nmax)\n",
    "#     lmax = int(lmax)\n",
    "    rcut, sigma, scale = args\n",
    "    nmax = 10\n",
    "    lmax = 9\n",
    "    for struct in data['processed']:\n",
    "        struct[-1].position[2] += np.random.normal(scale = scale) # add a bit of noise to z coord; reduce overfitting\n",
    "\n",
    "    data = pd.concat([data, getSOAPs(data['processed'], \n",
    "                                     rcut = rcut, \n",
    "                                     nmax = nmax, \n",
    "                                     lmax = lmax, \n",
    "                                     sigma = sigma\n",
    "                                    )], axis = 1)\n",
    "\n",
    "    originalColumns = data.columns\n",
    "\n",
    "    data = pd.concat([pd.DataFrame(data['SOAP'].to_list(), index = data.index), data], axis = 1)\n",
    "\n",
    "    validData = data['E_ads'] < 0\n",
    "\n",
    "    #train KRR on whole dataset\n",
    "    X_train = data.loc[validData, ~np.isin(data.columns, originalColumns)] \n",
    "    Y_train = data.loc[validData, 'E_ads']\n",
    "#     print(X_train, Y_train)\n",
    "\n",
    "    alphas = np.logspace(-10, -2, 50)\n",
    "    krr = KernelRidge()  # gamma automatically set by sklearn.metrics.pairwise.rbf_kernel\n",
    "    model = GridSearchCV(krr, [{\"alpha\":alphas}], cv = 5, n_jobs = 4)\n",
    "    model.fit(np.array(X_train), np.array(Y_train))\n",
    "\n",
    "    # generate the 'noisy/test' data\n",
    "    newdata = data[originalColumns]\n",
    "    newdata = newdata.drop('SOAP', axis = 1)\n",
    "    newdata['testZstructs'] = predictZs(data['processed'])\n",
    "    newdata = pd.concat([newdata, \n",
    "                         getSOAPs(newdata['testZstructs'],\n",
    "                                  rcut = rcut,\n",
    "                                  nmax = nmax, \n",
    "                                  lmax = lmax,\n",
    "                                  sigma = sigma\n",
    "                                 )], axis = 1)\n",
    "    newdata = newdata[newdata[\"E_ads\"] < 0] # filter valid structs\n",
    "    newX = pd.DataFrame(newdata['SOAP'].to_list(), index = newdata.index)\n",
    "\n",
    "    newdata['testEads'] = model.predict(newX)\n",
    "    newdata['errors'] = newdata['E_ads'] - newdata['testEads']\n",
    "    print(np.abs(np.mean(newdata['errors'])), rcut, sigma, scale)\n",
    "\n",
    "    return np.abs(np.mean(newdata['errors']))\n",
    "\n",
    "mydata = readStructs(\"../adsorb_amorphous/\", -196.0817, -16828.7803) #MeF, amorphous slab, DFTB\n",
    "mydata['processed'] = [\n",
    "    convertAdsorbateToHe(i, 370, np.arange(370, 375)) for i in mydata['geom']\n",
    "]\n",
    "\n",
    "# guesses = [5, 10, 9, .1, 0.5]\n",
    "guesses = [5, .1, 0.5]\n",
    "bounds = [(1, None),\n",
    "          (0, None),\n",
    "          (0, None)\n",
    "]\n",
    "result = minimize(f, x0 = guesses, args = (mydata), bounds = bounds)"
   ]
  },
  {
   "cell_type": "code",
   "execution_count": 49,
   "metadata": {
    "ExecuteTime": {
     "end_time": "2020-11-11T03:59:40.060026Z",
     "start_time": "2020-11-11T03:59:40.053483Z"
    },
    "hidden": true
   },
   "outputs": [
    {
     "data": {
      "text/plain": [
       "array([5. , 0.1, 0.5])"
      ]
     },
     "execution_count": 49,
     "metadata": {},
     "output_type": "execute_result"
    }
   ],
   "source": [
    "result.x"
   ]
  },
  {
   "cell_type": "code",
   "execution_count": 55,
   "metadata": {
    "ExecuteTime": {
     "end_time": "2020-11-11T04:06:27.041883Z",
     "start_time": "2020-11-11T04:06:21.059934Z"
    },
    "hidden": true
   },
   "outputs": [
    {
     "name": "stdout",
     "output_type": "stream",
     "text": [
      "0.002346843025654266 5 0.1 0.5\n"
     ]
    },
    {
     "data": {
      "text/plain": [
       "0.002346843025654266"
      ]
     },
     "execution_count": 55,
     "metadata": {},
     "output_type": "execute_result"
    }
   ],
   "source": [
    "data = readStructs(\"../adsorb_amorphous/\", -196.0817, -16828.7803) #MeF, amorphous slab, DFTB\n",
    "data['processed'] = [\n",
    "    convertAdsorbateToHe(i, 370, np.arange(370, 375)) for i in data['geom']\n",
    "]\n",
    "f([5, .1, 0.5],data)"
   ]
  },
  {
   "cell_type": "code",
   "execution_count": 56,
   "metadata": {
    "ExecuteTime": {
     "end_time": "2020-11-11T04:06:50.346903Z",
     "start_time": "2020-11-11T04:06:45.233818Z"
    },
    "hidden": true
   },
   "outputs": [
    {
     "name": "stdout",
     "output_type": "stream",
     "text": [
      "0.00394504982176187 5 0.1 0.5\n"
     ]
    },
    {
     "data": {
      "text/plain": [
       "0.00394504982176187"
      ]
     },
     "execution_count": 56,
     "metadata": {},
     "output_type": "execute_result"
    }
   ],
   "source": [
    "f([5, .1, 0.5],data)"
   ]
  },
  {
   "cell_type": "markdown",
   "metadata": {
    "heading_collapsed": true
   },
   "source": [
    "# Assess"
   ]
  },
  {
   "cell_type": "code",
   "execution_count": 91,
   "metadata": {
    "ExecuteTime": {
     "end_time": "2020-12-29T13:54:23.071896Z",
     "start_time": "2020-12-29T13:54:22.598832Z"
    },
    "hidden": true,
    "scrolled": false
   },
   "outputs": [
    {
     "data": {
      "image/png": "[encoded data removed]",
      "text/plain": [
       "<Figure size 720x720 with 2 Axes>"
      ]
     },
     "metadata": {
      "needs_background": "light"
     },
     "output_type": "display_data"
    }
   ],
   "source": [
    "plt.subplots(2, 1, figsize = (10, 10))\n",
    "\n",
    "plt.subplot(211)\n",
    "plt.title('train')\n",
    "plt.ylabel(\"predicted energy (eV)\")\n",
    "plt.xlabel(\"calculated energy (eV)\")\n",
    "train_predict = Emodel.predict(X_train)\n",
    "plt.scatter(y_train, train_predict)\n",
    "lineparams = [min(y_train), max(y_train)]\n",
    "plt.plot(lineparams, lineparams)\n",
    "plt.subplot(212)\n",
    "plt.title(\"test\")\n",
    "plt.ylabel(\"predicted energy (eV)\")\n",
    "plt.xlabel(\"calculated energy (eV)\")\n",
    "plt.scatter(y_test, Emodel.predict(X_test))\n",
    "plt.plot(lineparams, lineparams);"
   ]
  },
  {
   "cell_type": "markdown",
   "metadata": {
    "hidden": true
   },
   "source": [
    "## Plot residuals\n",
    "\n",
    "Considering the true model should simply be y = x, we can plot residuals and assess MAE easily:"
   ]
  },
  {
   "cell_type": "code",
   "execution_count": 92,
   "metadata": {
    "ExecuteTime": {
     "end_time": "2020-12-29T13:54:24.811756Z",
     "start_time": "2020-12-29T13:54:24.765572Z"
    },
    "hidden": true
   },
   "outputs": [],
   "source": [
    "train_errs = y_train - Emodel.predict(X_train)"
   ]
  },
  {
   "cell_type": "code",
   "execution_count": 93,
   "metadata": {
    "ExecuteTime": {
     "end_time": "2020-12-29T13:54:25.001719Z",
     "start_time": "2020-12-29T13:54:24.976367Z"
    },
    "hidden": true
   },
   "outputs": [],
   "source": [
    "test_errs = y_test - Emodel.predict(X_test)"
   ]
  },
  {
   "cell_type": "code",
   "execution_count": 94,
   "metadata": {
    "ExecuteTime": {
     "end_time": "2020-12-29T13:54:25.969294Z",
     "start_time": "2020-12-29T13:54:25.573729Z"
    },
    "hidden": true
   },
   "outputs": [
    {
     "data": {
      "image/png": "[encoded data removed]",
      "text/plain": [
       "<Figure size 720x720 with 2 Axes>"
      ]
     },
     "metadata": {
      "needs_background": "light"
     },
     "output_type": "display_data"
    }
   ],
   "source": [
    "plt.subplots(2, 1, figsize = (10, 10))\n",
    "plt.subplot(211)\n",
    "plt.title(\"KRR residuals, train\")\n",
    "plt.scatter(y_train, train_errs);\n",
    "plt.hlines(0, *lineparams)\n",
    "plt.subplot(212)\n",
    "plt.title(\"KRR residuals, test\")\n",
    "plt.hlines(0, *lineparams)\n",
    "plt.scatter(y_test, test_errs);"
   ]
  },
  {
   "cell_type": "code",
   "execution_count": 79,
   "metadata": {
    "ExecuteTime": {
     "end_time": "2020-12-29T13:53:14.991353Z",
     "start_time": "2020-12-29T13:53:14.986574Z"
    },
    "hidden": true
   },
   "outputs": [
    {
     "name": "stdout",
     "output_type": "stream",
     "text": [
      "MAE train (eV): 0.027097 \n",
      "MAE test (eV): 0.024433\n"
     ]
    }
   ],
   "source": [
    "print(\"MAE train (eV): %f \\n\\\n",
    "MAE test (eV): %f\" % \n",
    "      (np.mean(np.abs(train_errs)),\n",
    "       np.mean(np.abs(test_errs))\n",
    "      ))"
   ]
  },
  {
   "cell_type": "code",
   "execution_count": 80,
   "metadata": {
    "ExecuteTime": {
     "end_time": "2020-12-29T13:53:17.110007Z",
     "start_time": "2020-12-29T13:53:17.103802Z"
    },
    "hidden": true
   },
   "outputs": [
    {
     "name": "stdout",
     "output_type": "stream",
     "text": [
      "Relative absolute error train (eV): 0.123533 \n",
      "Relative absolute error test (eV): 0.101305\n"
     ]
    }
   ],
   "source": [
    "print(\"Relative absolute error train (eV): %f \\n\\\n",
    "Relative absolute error test (eV): %f\" % \n",
    "      (np.mean(np.abs(train_errs))/np.abs(np.mean(y_train)),\n",
    "       np.mean(np.abs(test_errs)/np.abs(np.mean(y_test)))\n",
    "      ))"
   ]
  },
  {
   "cell_type": "markdown",
   "metadata": {
    "heading_collapsed": true
   },
   "source": [
    "# Apply"
   ]
  },
  {
   "cell_type": "markdown",
   "metadata": {
    "hidden": true
   },
   "source": [
    "Obtain the bare slab:"
   ]
  },
  {
   "cell_type": "code",
   "execution_count": 15,
   "metadata": {
    "ExecuteTime": {
     "end_time": "2020-11-15T11:42:37.753714Z",
     "start_time": "2020-11-15T11:42:37.739372Z"
    },
    "hidden": true
   },
   "outputs": [],
   "source": [
    "bareslab = data['processed'][0].copy()\n",
    "del bareslab[[atom.symbol == 'He' for atom in bareslab]]\n",
    "view(bareslab)"
   ]
  },
  {
   "cell_type": "markdown",
   "metadata": {
    "hidden": true
   },
   "source": [
    "Try to predict z coordinate based on (x,y) position, using rule based method:"
   ]
  },
  {
   "cell_type": "code",
   "execution_count": 79,
   "metadata": {
    "ExecuteTime": {
     "end_time": "2020-11-11T04:54:19.093023Z",
     "start_time": "2020-11-11T04:54:10.845826Z"
    },
    "code_folding": [],
    "hidden": true
   },
   "outputs": [
    {
     "ename": "KeyboardInterrupt",
     "evalue": "",
     "output_type": "error",
     "traceback": [
      "\u001b[0;31m---------------------------------------------------------------------------\u001b[0m",
      "\u001b[0;31mKeyboardInterrupt\u001b[0m                         Traceback (most recent call last)",
      "\u001b[0;32m<ipython-input-79-87af98e7a600>\u001b[0m in \u001b[0;36m<module>\u001b[0;34m\u001b[0m\n\u001b[1;32m      7\u001b[0m         \u001b[0mmaxz\u001b[0m \u001b[0;34m=\u001b[0m \u001b[0;36m0\u001b[0m\u001b[0;34m\u001b[0m\u001b[0;34m\u001b[0m\u001b[0m\n\u001b[1;32m      8\u001b[0m         \u001b[0;32mfor\u001b[0m \u001b[0matom\u001b[0m \u001b[0;32min\u001b[0m \u001b[0mslab\u001b[0m\u001b[0;34m:\u001b[0m\u001b[0;34m\u001b[0m\u001b[0;34m\u001b[0m\u001b[0m\n\u001b[0;32m----> 9\u001b[0;31m             \u001b[0;32mif\u001b[0m \u001b[0matom\u001b[0m\u001b[0;34m.\u001b[0m\u001b[0msymbol\u001b[0m \u001b[0;34m==\u001b[0m \u001b[0;34m\"He\"\u001b[0m\u001b[0;34m:\u001b[0m \u001b[0;31m# don't use He position to determine max Z position\u001b[0m\u001b[0;34m\u001b[0m\u001b[0;34m\u001b[0m\u001b[0m\n\u001b[0m\u001b[1;32m     10\u001b[0m                 \u001b[0;32mcontinue\u001b[0m\u001b[0;34m\u001b[0m\u001b[0;34m\u001b[0m\u001b[0m\n\u001b[1;32m     11\u001b[0m             \u001b[0m_x\u001b[0m\u001b[0;34m,\u001b[0m \u001b[0m_y\u001b[0m\u001b[0;34m,\u001b[0m \u001b[0m_z\u001b[0m \u001b[0;34m=\u001b[0m \u001b[0matom\u001b[0m\u001b[0;34m.\u001b[0m\u001b[0mposition\u001b[0m\u001b[0;34m\u001b[0m\u001b[0;34m\u001b[0m\u001b[0m\n",
      "\u001b[0;32m~/miniconda3/lib/python3.7/site-packages/ase/atom.py\u001b[0m in \u001b[0;36mgetter\u001b[0;34m(self)\u001b[0m\n\u001b[1;32m     20\u001b[0m \u001b[0;34m\u001b[0m\u001b[0m\n\u001b[1;32m     21\u001b[0m     \u001b[0;32mdef\u001b[0m \u001b[0mgetter\u001b[0m\u001b[0;34m(\u001b[0m\u001b[0mself\u001b[0m\u001b[0;34m)\u001b[0m\u001b[0;34m:\u001b[0m\u001b[0;34m\u001b[0m\u001b[0;34m\u001b[0m\u001b[0m\n\u001b[0;32m---> 22\u001b[0;31m         \u001b[0;32mreturn\u001b[0m \u001b[0mself\u001b[0m\u001b[0;34m.\u001b[0m\u001b[0mget\u001b[0m\u001b[0;34m(\u001b[0m\u001b[0mname\u001b[0m\u001b[0;34m)\u001b[0m\u001b[0;34m\u001b[0m\u001b[0;34m\u001b[0m\u001b[0m\n\u001b[0m\u001b[1;32m     23\u001b[0m \u001b[0;34m\u001b[0m\u001b[0m\n\u001b[1;32m     24\u001b[0m     \u001b[0;32mdef\u001b[0m \u001b[0msetter\u001b[0m\u001b[0;34m(\u001b[0m\u001b[0mself\u001b[0m\u001b[0;34m,\u001b[0m \u001b[0mvalue\u001b[0m\u001b[0;34m)\u001b[0m\u001b[0;34m:\u001b[0m\u001b[0;34m\u001b[0m\u001b[0;34m\u001b[0m\u001b[0m\n",
      "\u001b[0;32m~/miniconda3/lib/python3.7/site-packages/ase/atom.py\u001b[0m in \u001b[0;36mget\u001b[0;34m(self, name)\u001b[0m\n\u001b[1;32m    144\u001b[0m     \u001b[0;32mdef\u001b[0m \u001b[0mget\u001b[0m\u001b[0;34m(\u001b[0m\u001b[0mself\u001b[0m\u001b[0;34m,\u001b[0m \u001b[0mname\u001b[0m\u001b[0;34m)\u001b[0m\u001b[0;34m:\u001b[0m\u001b[0;34m\u001b[0m\u001b[0;34m\u001b[0m\u001b[0m\n\u001b[1;32m    145\u001b[0m         \u001b[0;34m\"\"\"Get name attribute, return default if not explicitely set.\"\"\"\u001b[0m\u001b[0;34m\u001b[0m\u001b[0;34m\u001b[0m\u001b[0m\n\u001b[0;32m--> 146\u001b[0;31m         \u001b[0mvalue\u001b[0m \u001b[0;34m=\u001b[0m \u001b[0mself\u001b[0m\u001b[0;34m.\u001b[0m\u001b[0mget_raw\u001b[0m\u001b[0;34m(\u001b[0m\u001b[0mname\u001b[0m\u001b[0;34m)\u001b[0m\u001b[0;34m\u001b[0m\u001b[0;34m\u001b[0m\u001b[0m\n\u001b[0m\u001b[1;32m    147\u001b[0m         \u001b[0;32mif\u001b[0m \u001b[0mvalue\u001b[0m \u001b[0;32mis\u001b[0m \u001b[0;32mNone\u001b[0m\u001b[0;34m:\u001b[0m\u001b[0;34m\u001b[0m\u001b[0;34m\u001b[0m\u001b[0m\n\u001b[1;32m    148\u001b[0m             \u001b[0;32mif\u001b[0m \u001b[0mname\u001b[0m \u001b[0;34m==\u001b[0m \u001b[0;34m'mass'\u001b[0m\u001b[0;34m:\u001b[0m\u001b[0;34m\u001b[0m\u001b[0;34m\u001b[0m\u001b[0m\n",
      "\u001b[0;32m~/miniconda3/lib/python3.7/site-packages/ase/atom.py\u001b[0m in \u001b[0;36mget_raw\u001b[0;34m(self, name)\u001b[0m\n\u001b[1;32m    131\u001b[0m         \u001b[0;34m\"\"\"Get name attribute, return None if not explicitely set.\"\"\"\u001b[0m\u001b[0;34m\u001b[0m\u001b[0;34m\u001b[0m\u001b[0m\n\u001b[1;32m    132\u001b[0m         \u001b[0;32mif\u001b[0m \u001b[0mname\u001b[0m \u001b[0;34m==\u001b[0m \u001b[0;34m'symbol'\u001b[0m\u001b[0;34m:\u001b[0m\u001b[0;34m\u001b[0m\u001b[0;34m\u001b[0m\u001b[0m\n\u001b[0;32m--> 133\u001b[0;31m             \u001b[0;32mreturn\u001b[0m \u001b[0mchemical_symbols\u001b[0m\u001b[0;34m[\u001b[0m\u001b[0mself\u001b[0m\u001b[0;34m.\u001b[0m\u001b[0mget_raw\u001b[0m\u001b[0;34m(\u001b[0m\u001b[0;34m'number'\u001b[0m\u001b[0;34m)\u001b[0m\u001b[0;34m]\u001b[0m\u001b[0;34m\u001b[0m\u001b[0;34m\u001b[0m\u001b[0m\n\u001b[0m\u001b[1;32m    134\u001b[0m \u001b[0;34m\u001b[0m\u001b[0m\n\u001b[1;32m    135\u001b[0m         \u001b[0;32mif\u001b[0m \u001b[0mself\u001b[0m\u001b[0;34m.\u001b[0m\u001b[0matoms\u001b[0m \u001b[0;32mis\u001b[0m \u001b[0;32mNone\u001b[0m\u001b[0;34m:\u001b[0m\u001b[0;34m\u001b[0m\u001b[0;34m\u001b[0m\u001b[0m\n",
      "\u001b[0;31mKeyboardInterrupt\u001b[0m: "
     ]
    }
   ],
   "source": [
    "# find optimal rcut\n",
    "stds = []\n",
    "for searchR in np.arange(0, 4, 0.1):\n",
    "    errors = []\n",
    "    for slab in data['processed']:\n",
    "        x, y, z = slab[-1].position\n",
    "        maxz = 0\n",
    "        for atom in slab:\n",
    "            if atom.symbol == \"He\": # don't use He position to determine max Z position \n",
    "                continue\n",
    "            _x, _y, _z = atom.position\n",
    "            if ((x - _x)**2 + (y - _y)**2) ** 0.5 < searchR:\n",
    "                if _z > maxz:\n",
    "                    maxz = _z\n",
    "\n",
    "        errors += [z - maxz]\n",
    "    stds += [np.std(errors)]\n",
    "plt.plot(np.arange(0, 4, 0.1), stds)\n",
    "plt.vlines(2.2, 0.5, 6, label = 'min at 2.2')\n",
    "plt.legend()\n",
    "plt.xlabel('radial cutoff')\n",
    "plt.ylabel('SD of (z_surfmax - z_ads)')"
   ]
  },
  {
   "cell_type": "code",
   "execution_count": 81,
   "metadata": {
    "ExecuteTime": {
     "end_time": "2020-11-11T04:54:27.287040Z",
     "start_time": "2020-11-11T04:54:26.869603Z"
    },
    "code_folding": [],
    "hidden": true
   },
   "outputs": [
    {
     "name": "stdout",
     "output_type": "stream",
     "text": [
      "2.401963612489196\n"
     ]
    },
    {
     "data": {
      "text/plain": [
       "Text(0, 0.5, 'z_surfmax - z_ads')"
      ]
     },
     "execution_count": 81,
     "metadata": {},
     "output_type": "execute_result"
    },
    {
     "data": {
      "image/png": "[encoded data removed]",
      "text/plain": [
       "<Figure size 360x720 with 1 Axes>"
      ]
     },
     "metadata": {
      "needs_background": "light"
     },
     "output_type": "display_data"
    }
   ],
   "source": [
    "# use optimal rcut to find z offset and generate structs with that offset\n",
    "plt.figure(figsize = (5,10))\n",
    "searchR = 2.2\n",
    "testZstructs = []\n",
    "actualZstructs = []\n",
    "\n",
    "errors = []\n",
    "for slab in data['processed']:\n",
    "    x, y, z = slab[-1].position\n",
    "    maxz = 0\n",
    "    for atom in slab:\n",
    "        if atom.symbol == \"He\": # don't use He position to determine max Z position \n",
    "            continue\n",
    "        _x, _y, _z = atom.position\n",
    "        if ((x - _x)**2 + (y - _y)**2) ** 0.5 < searchR:\n",
    "            if _z > maxz:\n",
    "                maxz = _z\n",
    "\n",
    "    errors += [z - maxz]\n",
    "    newstruct = bareslab.copy()\n",
    "    newheight = maxz + 2.5 #mean height from test; \n",
    "    # see https://docs.google.com/presentation/d/13NdBmWkxwG0ZvL7BgYsGo-x-3CzZp8JymnF8yTitdCg/edit#slide=id.ga11af18809_0_13\n",
    "    \n",
    "    newstruct.append(Atom(\"He\", position = (x, y, newheight)))\n",
    "    testZstructs += [newstruct]    \n",
    "#     actualZstructs += [bareslab.copy()]\n",
    "#     add_adsorbate(acutalZstructs[-1], \"He\", height = \n",
    "plt.boxplot(errors)\n",
    "# plt.legend()\n",
    "print(np.mean(errors))\n",
    "plt.ylabel('z_surfmax - z_ads')"
   ]
  },
  {
   "cell_type": "markdown",
   "metadata": {
    "hidden": true
   },
   "source": [
    "## Assess mean error across sampled points"
   ]
  },
  {
   "cell_type": "markdown",
   "metadata": {
    "hidden": true
   },
   "source": [
    "### Using rule based system"
   ]
  },
  {
   "cell_type": "code",
   "execution_count": 82,
   "metadata": {
    "ExecuteTime": {
     "end_time": "2020-11-11T04:54:30.916794Z",
     "start_time": "2020-11-11T04:54:29.305771Z"
    },
    "hidden": true
   },
   "outputs": [
    {
     "data": {
      "text/plain": [
       "[<matplotlib.lines.Line2D at 0x7f436d75fed0>]"
      ]
     },
     "execution_count": 82,
     "metadata": {},
     "output_type": "execute_result"
    },
    {
     "data": {
      "image/png": "[encoded data removed]",
      "text/plain": [
       "<Figure size 432x288 with 1 Axes>"
      ]
     },
     "metadata": {
      "needs_background": "light"
     },
     "output_type": "display_data"
    },
    {
     "data": {
      "image/png": "[encoded data removed]",
      "text/plain": [
       "<Figure size 432x288 with 1 Axes>"
      ]
     },
     "metadata": {
      "needs_background": "light"
     },
     "output_type": "display_data"
    }
   ],
   "source": [
    "# append newstructs to data\n",
    "newdata = data[originalColumns]\n",
    "newdata = newdata.drop('SOAP', axis = 1)\n",
    "newdata['testZstructs'] = testZstructs\n",
    "newdata = pd.concat([newdata, \n",
    "                     getSOAPs(newdata['testZstructs'])], axis = 1)\n",
    "newdata_cols = newdata.columns\n",
    "newdata = newdata[newdata[\"E_ads\"] < 0] # filter valid structs\n",
    "newX = pd.DataFrame(newdata['SOAP'].to_list(), index = newdata.index)\n",
    "\n",
    "newdata['testEads'] = model.predict(newX)\n",
    "newdata['errors'] = newdata['E_ads'] - newdata['testEads']\n",
    "\n",
    "newdata.plot('E_ads', 'errors', kind = 'scatter')\n",
    "plt.hlines(0, -0.5, 0)\n",
    "\n",
    "newdata.plot('E_ads', 'testEads', kind = 'scatter')\n",
    "plotx = np.arange(-0.5, 0, 0.01)\n",
    "plt.plot(plotx, plotx)"
   ]
  },
  {
   "cell_type": "code",
   "execution_count": 83,
   "metadata": {
    "ExecuteTime": {
     "end_time": "2020-11-11T04:54:37.053318Z",
     "start_time": "2020-11-11T04:54:37.040042Z"
    },
    "hidden": true
   },
   "outputs": [
    {
     "name": "stdout",
     "output_type": "stream",
     "text": [
      "MAE rule-based (eV): 0.027297 \n"
     ]
    }
   ],
   "source": [
    "print(\"MAE rule-based (eV): %f \" % \n",
    "      (np.mean(np.abs(newdata[\"E_ads\"] - newdata[\"testEads\"]))\n",
    "      ))"
   ]
  },
  {
   "cell_type": "markdown",
   "metadata": {
    "heading_collapsed": true,
    "hidden": true
   },
   "source": [
    "### By minimizing energy"
   ]
  },
  {
   "cell_type": "code",
   "execution_count": null,
   "metadata": {
    "ExecuteTime": {
     "end_time": "2020-11-11T02:28:02.746004Z",
     "start_time": "2020-11-11T02:28:00.221Z"
    },
    "hidden": true
   },
   "outputs": [],
   "source": [
    "# set range around guessed Z position to search for min E\n",
    "Zrange = 2\n",
    "# set range around guessed Z position to search for min E\n",
    "numsearch = 10\n",
    "\n",
    "newdata = data[originalColumns].drop('SOAP', axis = 1)\n",
    "newdata['testZstructs'] = testZstructs\n",
    "newdata = newdata[newdata[\"E_ads\"] < 0] # filter valid structs\n",
    "i = 0\n",
    "minZs, minEs = [], []\n",
    "for struct in newdata['testZstructs']: #iterate through the testZstruct for each original strcut\n",
    "    \n",
    "    \n",
    "    x, y, z = struct[-1].position # assume adsorbate is last thing in list\n",
    "    tempstructs = []\n",
    "    zSearch = np.linspace(z - Zrange/2, z + Zrange/2, numsearch)\n",
    "    for zTemp in zSearch:\n",
    "        tempstruct = struct.copy()\n",
    "        tempstruct[-1].position = [x, y, zTemp]\n",
    "        tempstructs += [tempstruct]\n",
    "    tempstructs = pd.Series(tempstructs)\n",
    "    \n",
    "    tempSOAPs = getSOAPs(tempstructs)\n",
    "    tempdata = pd.DataFrame(tempSOAPs.to_list())\n",
    "    tempEs = model.predict(tempdata)\n",
    "    minE = np.min(tempEs)\n",
    "#     minZ = zSearch[tempEs == minE][0]\n",
    "#     minZs += [minZ]\n",
    "    minEs += [minE]\n",
    "# newdata['minZ'] = minZs\n",
    "newdata['minE'] = minEs\n",
    "# newdata['actualZ'] = [slab[-1].position[-1] for slab in newdata['processed']]\n",
    "newdata.head()"
   ]
  },
  {
   "cell_type": "code",
   "execution_count": null,
   "metadata": {
    "ExecuteTime": {
     "end_time": "2020-11-11T02:28:02.747534Z",
     "start_time": "2020-11-11T02:28:00.225Z"
    },
    "hidden": true
   },
   "outputs": [],
   "source": [
    "newdata.plot('E_ads', 'minE', kind = 'scatter')\n",
    "plt.plot(newdata['E_ads'], newdata['E_ads'])"
   ]
  },
  {
   "cell_type": "code",
   "execution_count": null,
   "metadata": {
    "ExecuteTime": {
     "end_time": "2020-11-11T02:28:02.749169Z",
     "start_time": "2020-11-11T02:28:00.230Z"
    },
    "hidden": true
   },
   "outputs": [],
   "source": [
    "plt.scatter(newdata[\"E_ads\"], newdata[\"E_ads\"] - newdata[\"minE\"])\n",
    "plt.hlines(0, -0.5, 0)\n",
    "plt.xlabel(\"E_ads\")\n",
    "plt.ylabel(\"E_ads - avg(E_pred)\")"
   ]
  },
  {
   "cell_type": "code",
   "execution_count": null,
   "metadata": {
    "ExecuteTime": {
     "end_time": "2020-11-11T02:28:02.750470Z",
     "start_time": "2020-11-11T02:28:00.233Z"
    },
    "hidden": true
   },
   "outputs": [],
   "source": [
    "print(\"MAE min (eV): %f \" % \n",
    "      (np.mean(np.abs(newdata[\"E_ads\"] - newdata[\"minE\"]))\n",
    "      ))"
   ]
  },
  {
   "cell_type": "markdown",
   "metadata": {},
   "source": [
    "# Prediction of z coordinate"
   ]
  },
  {
   "cell_type": "markdown",
   "metadata": {},
   "source": [
    "Some pseudocode:\n",
    "\n",
    "    1) Take all training points, isolate their (x,y) coordinates; generate range of points at $ z_{surf} + 2.5 \\pm 1 Å $. \n",
    "    2) Set $z_true$ for all those points to be actual z value. \n",
    "    3) Run the predictive model; hope it works??? "
   ]
  },
  {
   "cell_type": "code",
   "execution_count": 9,
   "metadata": {
    "ExecuteTime": {
     "end_time": "2021-01-26T01:21:33.079159Z",
     "start_time": "2021-01-26T01:21:31.491971Z"
    }
   },
   "outputs": [],
   "source": [
    "np.random.seed(429)\n",
    "\n",
    "zrange = 2 #3\n",
    "zstep = 0.25 #.25\n",
    "zdiffs = np.arange(-zrange, zrange, zstep)\n",
    "\n",
    "# data = readStructs(\"../adsorb_amorphous/\", -196.0817, -16828.7803) #MeF, amorphous slab, DFTB\n",
    "# validData = data['E_ads'] < 0\n",
    "# data = data.loc[validData, :]\n",
    "# data['processed'] = [\n",
    "#     convertAdsorbateToHe(i, 370, np.arange(370, 375)) for i in data['geom']\n",
    "# ]\n",
    "\n",
    "\n",
    "# globals\n",
    "adslen = 5\n",
    "# adsIdx = 370\n",
    "\n",
    "# specifics\n",
    "# datadir = \"../slab0/\"\n",
    "datadirs = [\"../slab%d/\" % i for i in range(5)]\n",
    "# datadirs = ['../cf4_adsorb/']\n",
    "\n",
    "datalist = []\n",
    "for datadir in datadirs:\n",
    "    data = readStructs(datadir) #MeF, amorphous slab, DFTB\n",
    "    data['processed'] = [\n",
    "        convertAdsorbateToHe(\n",
    "            i, len(i) - adslen, np.arange(len(i) - adslen, len(i))\n",
    "        ) for i in data['geom']\n",
    "    ]\n",
    "\n",
    "    datalist += [data]\n",
    "data = pd.concat(datalist).reset_index(drop = True).fillna(0)\n",
    "\n",
    "data['truez'] = [s[-1].position[2] for s in data['processed']]"
   ]
  },
  {
   "cell_type": "code",
   "execution_count": 10,
   "metadata": {
    "ExecuteTime": {
     "end_time": "2021-01-26T01:22:03.887887Z",
     "start_time": "2021-01-26T01:21:46.268408Z"
    }
   },
   "outputs": [
    {
     "data": {
      "text/html": [
       "<div>\n",
       "<style scoped>\n",
       "    .dataframe tbody tr th:only-of-type {\n",
       "        vertical-align: middle;\n",
       "    }\n",
       "\n",
       "    .dataframe tbody tr th {\n",
       "        vertical-align: top;\n",
       "    }\n",
       "\n",
       "    .dataframe thead th {\n",
       "        text-align: right;\n",
       "    }\n",
       "</style>\n",
       "<table border=\"1\" class=\"dataframe\">\n",
       "  <thead>\n",
       "    <tr style=\"text-align: right;\">\n",
       "      <th></th>\n",
       "      <th>E</th>\n",
       "      <th>E_ads</th>\n",
       "      <th>geom</th>\n",
       "      <th>processed</th>\n",
       "      <th>truez</th>\n",
       "    </tr>\n",
       "  </thead>\n",
       "  <tbody>\n",
       "    <tr>\n",
       "      <th>134</th>\n",
       "      <td>-17094.2579</td>\n",
       "      <td>-0.1562</td>\n",
       "      <td>(Atom('H', [6.141052145, 11.22574118, 1.215339...</td>\n",
       "      <td>(Atom('H', [6.141052145, 11.22574118, 1.215339...</td>\n",
       "      <td>18.053646</td>\n",
       "    </tr>\n",
       "    <tr>\n",
       "      <th>387</th>\n",
       "      <td>-17094.3887</td>\n",
       "      <td>-0.2870</td>\n",
       "      <td>(Atom('H', [6.141052145, 11.22574118, 1.215339...</td>\n",
       "      <td>(Atom('H', [6.141052145, 11.22574118, 1.215339...</td>\n",
       "      <td>20.251200</td>\n",
       "    </tr>\n",
       "    <tr>\n",
       "      <th>2007</th>\n",
       "      <td>-17106.1682</td>\n",
       "      <td>-0.2315</td>\n",
       "      <td>(Atom('H', [6.141052145, 11.22574118, 1.215339...</td>\n",
       "      <td>(Atom('H', [6.141052145, 11.22574118, 1.215339...</td>\n",
       "      <td>19.559609</td>\n",
       "    </tr>\n",
       "    <tr>\n",
       "      <th>4710</th>\n",
       "      <td>-17102.5218</td>\n",
       "      <td>-0.2455</td>\n",
       "      <td>(Atom('H', [6.141052145, 11.22574118, 1.215339...</td>\n",
       "      <td>(Atom('H', [6.141052145, 11.22574118, 1.215339...</td>\n",
       "      <td>21.711942</td>\n",
       "    </tr>\n",
       "    <tr>\n",
       "      <th>3200</th>\n",
       "      <td>-17105.3717</td>\n",
       "      <td>-0.3154</td>\n",
       "      <td>(Atom('H', [6.141052145, 11.22574118, 1.215339...</td>\n",
       "      <td>(Atom('H', [6.141052145, 11.22574118, 1.215339...</td>\n",
       "      <td>21.656793</td>\n",
       "    </tr>\n",
       "  </tbody>\n",
       "</table>\n",
       "</div>"
      ],
      "text/plain": [
       "               E   E_ads                                               geom  \\\n",
       "134  -17094.2579 -0.1562  (Atom('H', [6.141052145, 11.22574118, 1.215339...   \n",
       "387  -17094.3887 -0.2870  (Atom('H', [6.141052145, 11.22574118, 1.215339...   \n",
       "2007 -17106.1682 -0.2315  (Atom('H', [6.141052145, 11.22574118, 1.215339...   \n",
       "4710 -17102.5218 -0.2455  (Atom('H', [6.141052145, 11.22574118, 1.215339...   \n",
       "3200 -17105.3717 -0.3154  (Atom('H', [6.141052145, 11.22574118, 1.215339...   \n",
       "\n",
       "                                              processed      truez  \n",
       "134   (Atom('H', [6.141052145, 11.22574118, 1.215339...  18.053646  \n",
       "387   (Atom('H', [6.141052145, 11.22574118, 1.215339...  20.251200  \n",
       "2007  (Atom('H', [6.141052145, 11.22574118, 1.215339...  19.559609  \n",
       "4710  (Atom('H', [6.141052145, 11.22574118, 1.215339...  21.711942  \n",
       "3200  (Atom('H', [6.141052145, 11.22574118, 1.215339...  21.656793  "
      ]
     },
     "execution_count": 10,
     "metadata": {},
     "output_type": "execute_result"
    }
   ],
   "source": [
    "newdata = data.copy()\n",
    "newdata = newdata.iloc[0:0]\n",
    "\n",
    "\n",
    "for idx, row in data.iterrows():\n",
    "    truez = row['truez']\n",
    "    for zdiff in zdiffs:\n",
    "        newrow = row.copy()\n",
    "        tempStruct = newrow['processed'].copy()\n",
    "        tempStruct[-1].position[2] = truez + zdiff\n",
    "        newrow['processed'] = tempStruct\n",
    "        newdata = newdata.append(newrow) \n",
    "    \n",
    "newdata = newdata.reset_index(drop = True)\n",
    "\n",
    "newdata = newdata.sample(frac = 1)\n",
    "newdata.head()"
   ]
  },
  {
   "cell_type": "code",
   "execution_count": 246,
   "metadata": {
    "ExecuteTime": {
     "end_time": "2021-01-04T08:54:36.302213Z",
     "start_time": "2021-01-04T08:54:36.289442Z"
    }
   },
   "outputs": [
    {
     "data": {
      "text/plain": [
       "(1088, 5)"
      ]
     },
     "execution_count": 246,
     "metadata": {},
     "output_type": "execute_result"
    }
   ],
   "source": [
    "newdata.shape"
   ]
  },
  {
   "cell_type": "code",
   "execution_count": 12,
   "metadata": {
    "ExecuteTime": {
     "end_time": "2021-01-26T01:23:34.241851Z",
     "start_time": "2021-01-26T01:22:21.158992Z"
    },
    "scrolled": false
   },
   "outputs": [
    {
     "data": {
      "text/html": [
       "<div>\n",
       "<style scoped>\n",
       "    .dataframe tbody tr th:only-of-type {\n",
       "        vertical-align: middle;\n",
       "    }\n",
       "\n",
       "    .dataframe tbody tr th {\n",
       "        vertical-align: top;\n",
       "    }\n",
       "\n",
       "    .dataframe thead th {\n",
       "        text-align: right;\n",
       "    }\n",
       "</style>\n",
       "<table border=\"1\" class=\"dataframe\">\n",
       "  <thead>\n",
       "    <tr style=\"text-align: right;\">\n",
       "      <th></th>\n",
       "      <th>0</th>\n",
       "      <th>1</th>\n",
       "      <th>2</th>\n",
       "      <th>3</th>\n",
       "      <th>4</th>\n",
       "      <th>5</th>\n",
       "      <th>6</th>\n",
       "      <th>7</th>\n",
       "      <th>8</th>\n",
       "      <th>9</th>\n",
       "      <th>...</th>\n",
       "      <th>15396</th>\n",
       "      <th>15397</th>\n",
       "      <th>15398</th>\n",
       "      <th>15399</th>\n",
       "      <th>E</th>\n",
       "      <th>E_ads</th>\n",
       "      <th>geom</th>\n",
       "      <th>processed</th>\n",
       "      <th>truez</th>\n",
       "      <th>SOAP</th>\n",
       "    </tr>\n",
       "  </thead>\n",
       "  <tbody>\n",
       "    <tr>\n",
       "      <th>134</th>\n",
       "      <td>4.808112e-11</td>\n",
       "      <td>-2.952992e-09</td>\n",
       "      <td>2.313785e-08</td>\n",
       "      <td>-6.509271e-08</td>\n",
       "      <td>-1.247748e-08</td>\n",
       "      <td>1.021118e-07</td>\n",
       "      <td>1.817500e-07</td>\n",
       "      <td>-8.970070e-08</td>\n",
       "      <td>7.169325e-08</td>\n",
       "      <td>-3.186038e-07</td>\n",
       "      <td>...</td>\n",
       "      <td>4.019595e-07</td>\n",
       "      <td>7.620040e-07</td>\n",
       "      <td>-2.275382e-07</td>\n",
       "      <td>6.794402e-08</td>\n",
       "      <td>-17094.2579</td>\n",
       "      <td>-0.1562</td>\n",
       "      <td>(Atom('H', [6.141052145, 11.22574118, 1.215339...</td>\n",
       "      <td>(Atom('H', [6.141052145, 11.22574118, 1.215339...</td>\n",
       "      <td>18.053646</td>\n",
       "      <td>[4.8081115e-11, -2.9529923e-09, 2.3137845e-08,...</td>\n",
       "    </tr>\n",
       "    <tr>\n",
       "      <th>387</th>\n",
       "      <td>1.157644e-12</td>\n",
       "      <td>-8.275235e-12</td>\n",
       "      <td>3.110126e-11</td>\n",
       "      <td>-7.592910e-11</td>\n",
       "      <td>3.810700e-10</td>\n",
       "      <td>-3.887778e-09</td>\n",
       "      <td>2.188259e-08</td>\n",
       "      <td>-5.996286e-08</td>\n",
       "      <td>7.540447e-08</td>\n",
       "      <td>-3.443432e-08</td>\n",
       "      <td>...</td>\n",
       "      <td>6.279616e-04</td>\n",
       "      <td>1.310019e-03</td>\n",
       "      <td>-6.740679e-04</td>\n",
       "      <td>3.468404e-04</td>\n",
       "      <td>-17094.3887</td>\n",
       "      <td>-0.2870</td>\n",
       "      <td>(Atom('H', [6.141052145, 11.22574118, 1.215339...</td>\n",
       "      <td>(Atom('H', [6.141052145, 11.22574118, 1.215339...</td>\n",
       "      <td>20.251200</td>\n",
       "      <td>[1.1576436e-12, -8.275235e-12, 3.110126e-11, -...</td>\n",
       "    </tr>\n",
       "    <tr>\n",
       "      <th>2007</th>\n",
       "      <td>7.741200e-09</td>\n",
       "      <td>1.424161e-09</td>\n",
       "      <td>-2.816745e-07</td>\n",
       "      <td>1.297790e-06</td>\n",
       "      <td>-8.031602e-07</td>\n",
       "      <td>-1.884577e-06</td>\n",
       "      <td>8.175147e-08</td>\n",
       "      <td>-1.079627e-06</td>\n",
       "      <td>-4.137240e-07</td>\n",
       "      <td>4.815311e-06</td>\n",
       "      <td>...</td>\n",
       "      <td>0.000000e+00</td>\n",
       "      <td>0.000000e+00</td>\n",
       "      <td>0.000000e+00</td>\n",
       "      <td>0.000000e+00</td>\n",
       "      <td>-17106.1682</td>\n",
       "      <td>-0.2315</td>\n",
       "      <td>(Atom('H', [6.141052145, 11.22574118, 1.215339...</td>\n",
       "      <td>(Atom('H', [6.141052145, 11.22574118, 1.215339...</td>\n",
       "      <td>19.559609</td>\n",
       "      <td>[7.7412e-09, 1.4241608e-09, -2.8167452e-07, 1....</td>\n",
       "    </tr>\n",
       "    <tr>\n",
       "      <th>4710</th>\n",
       "      <td>1.106026e-09</td>\n",
       "      <td>7.727417e-09</td>\n",
       "      <td>-9.826697e-08</td>\n",
       "      <td>3.024094e-07</td>\n",
       "      <td>2.273520e-07</td>\n",
       "      <td>-9.016561e-07</td>\n",
       "      <td>-8.558869e-07</td>\n",
       "      <td>6.265334e-07</td>\n",
       "      <td>-6.355109e-07</td>\n",
       "      <td>2.004319e-06</td>\n",
       "      <td>...</td>\n",
       "      <td>0.000000e+00</td>\n",
       "      <td>0.000000e+00</td>\n",
       "      <td>0.000000e+00</td>\n",
       "      <td>0.000000e+00</td>\n",
       "      <td>-17102.5218</td>\n",
       "      <td>-0.2455</td>\n",
       "      <td>(Atom('H', [6.141052145, 11.22574118, 1.215339...</td>\n",
       "      <td>(Atom('H', [6.141052145, 11.22574118, 1.215339...</td>\n",
       "      <td>21.711942</td>\n",
       "      <td>[1.1060263e-09, 7.727417e-09, -9.826697e-08, 3...</td>\n",
       "    </tr>\n",
       "    <tr>\n",
       "      <th>3200</th>\n",
       "      <td>4.222452e-06</td>\n",
       "      <td>-1.945955e-05</td>\n",
       "      <td>-2.121619e-05</td>\n",
       "      <td>1.727219e-04</td>\n",
       "      <td>1.343031e-06</td>\n",
       "      <td>-5.036493e-05</td>\n",
       "      <td>1.985634e-05</td>\n",
       "      <td>-9.377832e-05</td>\n",
       "      <td>-1.140008e-05</td>\n",
       "      <td>-2.445248e-04</td>\n",
       "      <td>...</td>\n",
       "      <td>0.000000e+00</td>\n",
       "      <td>0.000000e+00</td>\n",
       "      <td>0.000000e+00</td>\n",
       "      <td>0.000000e+00</td>\n",
       "      <td>-17105.3717</td>\n",
       "      <td>-0.3154</td>\n",
       "      <td>(Atom('H', [6.141052145, 11.22574118, 1.215339...</td>\n",
       "      <td>(Atom('H', [6.141052145, 11.22574118, 1.215339...</td>\n",
       "      <td>21.656793</td>\n",
       "      <td>[4.2224524e-06, -1.9459549e-05, -2.1216189e-05...</td>\n",
       "    </tr>\n",
       "  </tbody>\n",
       "</table>\n",
       "<p>5 rows × 15406 columns</p>\n",
       "</div>"
      ],
      "text/plain": [
       "                 0             1             2             3             4  \\\n",
       "134   4.808112e-11 -2.952992e-09  2.313785e-08 -6.509271e-08 -1.247748e-08   \n",
       "387   1.157644e-12 -8.275235e-12  3.110126e-11 -7.592910e-11  3.810700e-10   \n",
       "2007  7.741200e-09  1.424161e-09 -2.816745e-07  1.297790e-06 -8.031602e-07   \n",
       "4710  1.106026e-09  7.727417e-09 -9.826697e-08  3.024094e-07  2.273520e-07   \n",
       "3200  4.222452e-06 -1.945955e-05 -2.121619e-05  1.727219e-04  1.343031e-06   \n",
       "\n",
       "                 5             6             7             8             9  \\\n",
       "134   1.021118e-07  1.817500e-07 -8.970070e-08  7.169325e-08 -3.186038e-07   \n",
       "387  -3.887778e-09  2.188259e-08 -5.996286e-08  7.540447e-08 -3.443432e-08   \n",
       "2007 -1.884577e-06  8.175147e-08 -1.079627e-06 -4.137240e-07  4.815311e-06   \n",
       "4710 -9.016561e-07 -8.558869e-07  6.265334e-07 -6.355109e-07  2.004319e-06   \n",
       "3200 -5.036493e-05  1.985634e-05 -9.377832e-05 -1.140008e-05 -2.445248e-04   \n",
       "\n",
       "      ...         15396         15397         15398         15399           E  \\\n",
       "134   ...  4.019595e-07  7.620040e-07 -2.275382e-07  6.794402e-08 -17094.2579   \n",
       "387   ...  6.279616e-04  1.310019e-03 -6.740679e-04  3.468404e-04 -17094.3887   \n",
       "2007  ...  0.000000e+00  0.000000e+00  0.000000e+00  0.000000e+00 -17106.1682   \n",
       "4710  ...  0.000000e+00  0.000000e+00  0.000000e+00  0.000000e+00 -17102.5218   \n",
       "3200  ...  0.000000e+00  0.000000e+00  0.000000e+00  0.000000e+00 -17105.3717   \n",
       "\n",
       "       E_ads                                               geom  \\\n",
       "134  -0.1562  (Atom('H', [6.141052145, 11.22574118, 1.215339...   \n",
       "387  -0.2870  (Atom('H', [6.141052145, 11.22574118, 1.215339...   \n",
       "2007 -0.2315  (Atom('H', [6.141052145, 11.22574118, 1.215339...   \n",
       "4710 -0.2455  (Atom('H', [6.141052145, 11.22574118, 1.215339...   \n",
       "3200 -0.3154  (Atom('H', [6.141052145, 11.22574118, 1.215339...   \n",
       "\n",
       "                                              processed      truez  \\\n",
       "134   (Atom('H', [6.141052145, 11.22574118, 1.215339...  18.053646   \n",
       "387   (Atom('H', [6.141052145, 11.22574118, 1.215339...  20.251200   \n",
       "2007  (Atom('H', [6.141052145, 11.22574118, 1.215339...  19.559609   \n",
       "4710  (Atom('H', [6.141052145, 11.22574118, 1.215339...  21.711942   \n",
       "3200  (Atom('H', [6.141052145, 11.22574118, 1.215339...  21.656793   \n",
       "\n",
       "                                                   SOAP  \n",
       "134   [4.8081115e-11, -2.9529923e-09, 2.3137845e-08,...  \n",
       "387   [1.1576436e-12, -8.275235e-12, 3.110126e-11, -...  \n",
       "2007  [7.7412e-09, 1.4241608e-09, -2.8167452e-07, 1....  \n",
       "4710  [1.1060263e-09, 7.727417e-09, -9.826697e-08, 3...  \n",
       "3200  [4.2224524e-06, -1.9459549e-05, -2.1216189e-05...  \n",
       "\n",
       "[5 rows x 15406 columns]"
      ]
     },
     "execution_count": 12,
     "metadata": {},
     "output_type": "execute_result"
    }
   ],
   "source": [
    "newdata = newdata[[\"E\", \"E_ads\", \"geom\", \"processed\", \"truez\"]]\n",
    "newdata.head()\n",
    "\n",
    "newdata = pd.concat([newdata, getSOAPs(newdata['processed'], species = species)], axis = 1)\n",
    "\n",
    "originalColumns = newdata.columns\n",
    "\n",
    "X = pd.DataFrame(newdata['SOAP'].to_list(), index = newdata.index)\n",
    "y = newdata['truez']\n",
    "newdata = pd.concat([X, newdata], axis = 1)\n",
    "newdata.head()"
   ]
  },
  {
   "cell_type": "code",
   "execution_count": 124,
   "metadata": {
    "ExecuteTime": {
     "end_time": "2021-01-01T00:45:17.991274Z",
     "start_time": "2021-01-01T00:45:16.551327Z"
    }
   },
   "outputs": [],
   "source": [
    "with open('newdata.pkl', 'wb') as f:\n",
    "    pickle.dump(newdata, f)"
   ]
  },
  {
   "cell_type": "code",
   "execution_count": 125,
   "metadata": {
    "ExecuteTime": {
     "end_time": "2021-01-01T00:45:19.695596Z",
     "start_time": "2021-01-01T00:45:18.783093Z"
    }
   },
   "outputs": [
    {
     "name": "stdout",
     "output_type": "stream",
     "text": [
      "(4800, 15406)\n"
     ]
    }
   ],
   "source": [
    "with open('newdata.pkl', 'rb') as f:\n",
    "    newdata = pickle.load(f)\n",
    "print(newdata.shape)"
   ]
  },
  {
   "cell_type": "code",
   "execution_count": 13,
   "metadata": {
    "ExecuteTime": {
     "end_time": "2021-01-26T01:23:37.334581Z",
     "start_time": "2021-01-26T01:23:34.244755Z"
    }
   },
   "outputs": [
    {
     "name": "stdout",
     "output_type": "stream",
     "text": [
      "# points total: 4800; #train points: 3600; #test points: 1200\n"
     ]
    }
   ],
   "source": [
    "X_train = newdata.loc[:, ~np.isin(newdata.columns, originalColumns)]\n",
    "y_train = newdata.loc[:, 'truez']\n",
    "X_train, X_test, y_train, y_test = train_test_split(\n",
    "    newdata.loc[:, ~np.isin(newdata.columns, originalColumns)], \n",
    "    newdata.loc[:, 'truez'], test_size= 0.25, random_state = 429)\n",
    "print(\"# points total: %d; #train points: %d; #test points: %d\" % \n",
    "      (len(newdata), len(X_train), len(X_test)))"
   ]
  },
  {
   "cell_type": "code",
   "execution_count": 14,
   "metadata": {
    "ExecuteTime": {
     "end_time": "2021-01-26T01:30:27.796358Z",
     "start_time": "2021-01-26T01:24:30.562764Z"
    }
   },
   "outputs": [
    {
     "name": "stdout",
     "output_type": "stream",
     "text": [
      "(4800, 15400)\n",
      "{'alpha': 0.00016681005372000556}\n"
     ]
    }
   ],
   "source": [
    "## load model\n",
    "# with open('zmodel.pkl', 'rb') as f:\n",
    "#     zmodel = pickle.load(f)\n",
    "\n",
    "#fit model\n",
    "\n",
    "print(X.shape)\n",
    "\n",
    "# X = X.sample(frac = 1)\n",
    "    \n",
    "alphas = np.logspace(-10, -2, 10)\n",
    "krr = KernelRidge()  # gamma automatically set by sklearn.metrics.pairwise.rbf_kernel\n",
    "zmodel = GridSearchCV(krr, [{\"alpha\":alphas}], cv = 5)\n",
    "zmodel.fit(np.array(X), np.array(y))\n",
    "\n",
    "print(zmodel.best_params_)"
   ]
  },
  {
   "cell_type": "code",
   "execution_count": 15,
   "metadata": {
    "ExecuteTime": {
     "end_time": "2021-01-26T01:30:28.903949Z",
     "start_time": "2021-01-26T01:30:27.798895Z"
    }
   },
   "outputs": [],
   "source": [
    "zpath = 'zmodel_fragments.pkl'\n",
    "with open(zpath, 'wb') as f:\n",
    "    pickle.dump(zmodel, f)"
   ]
  },
  {
   "cell_type": "code",
   "execution_count": 16,
   "metadata": {
    "ExecuteTime": {
     "end_time": "2021-01-26T01:34:54.995750Z",
     "start_time": "2021-01-26T01:34:53.857664Z"
    }
   },
   "outputs": [],
   "source": [
    "with open(zpath, 'rb') as f:\n",
    "    zmodel = pickle.load(f)"
   ]
  },
  {
   "cell_type": "code",
   "execution_count": 17,
   "metadata": {
    "ExecuteTime": {
     "end_time": "2021-01-26T01:35:05.522789Z",
     "start_time": "2021-01-26T01:34:56.441917Z"
    }
   },
   "outputs": [
    {
     "data": {
      "image/png": "[encoded data removed]",
      "text/plain": [
       "<Figure size 720x720 with 2 Axes>"
      ]
     },
     "metadata": {
      "needs_background": "light"
     },
     "output_type": "display_data"
    }
   ],
   "source": [
    "plt.subplots(2, 1, figsize = (10, 10))\n",
    "\n",
    "# print(X_train.shape)\n",
    "\n",
    "plt.subplot(211)\n",
    "plt.title('train')\n",
    "plt.ylabel(\"predicted z (Å)\")\n",
    "plt.xlabel(\"calculated z (Å)\")\n",
    "train_predict = zmodel.predict(X)\n",
    "plt.scatter(y, train_predict)\n",
    "lineparams = [min(y), max(y)]\n",
    "plt.plot(lineparams, lineparams)\n",
    "plt.subplot(212)\n",
    "plt.title(\"test\")\n",
    "plt.ylabel(\"predicted z (Å)\")\n",
    "plt.xlabel(\"calculated z (Å)\")\n",
    "plt.scatter(y_test, zmodel.predict(X_test))\n",
    "plt.plot(lineparams, lineparams);"
   ]
  },
  {
   "cell_type": "code",
   "execution_count": 253,
   "metadata": {
    "ExecuteTime": {
     "end_time": "2021-01-04T09:01:10.568340Z",
     "start_time": "2021-01-04T09:01:10.146207Z"
    }
   },
   "outputs": [],
   "source": [
    "train_errs = y_train - zmodel.predict(X_train)"
   ]
  },
  {
   "cell_type": "code",
   "execution_count": 254,
   "metadata": {
    "ExecuteTime": {
     "end_time": "2021-01-04T09:01:10.841226Z",
     "start_time": "2021-01-04T09:01:10.606811Z"
    }
   },
   "outputs": [],
   "source": [
    "test_errs = y_test - zmodel.predict(X_test)"
   ]
  },
  {
   "cell_type": "code",
   "execution_count": 255,
   "metadata": {
    "ExecuteTime": {
     "end_time": "2021-01-04T09:01:15.534617Z",
     "start_time": "2021-01-04T09:01:11.633443Z"
    }
   },
   "outputs": [
    {
     "data": {
      "image/png": "[encoded data removed]",
      "text/plain": [
       "<Figure size 720x720 with 2 Axes>"
      ]
     },
     "metadata": {
      "needs_background": "light"
     },
     "output_type": "display_data"
    }
   ],
   "source": [
    "plt.subplots(2, 1, figsize = (10, 10))\n",
    "plt.subplot(211)\n",
    "plt.title(\"KRR residuals, train\")\n",
    "plt.scatter(y_train, train_errs);\n",
    "plt.hlines(0, *lineparams)\n",
    "plt.subplot(212)\n",
    "plt.title(\"KRR residuals, test\")\n",
    "plt.hlines(0, *lineparams)\n",
    "plt.scatter(y_test, test_errs);"
   ]
  },
  {
   "cell_type": "code",
   "execution_count": 139,
   "metadata": {
    "ExecuteTime": {
     "end_time": "2021-01-01T01:03:57.866377Z",
     "start_time": "2021-01-01T01:03:57.856718Z"
    }
   },
   "outputs": [
    {
     "name": "stdout",
     "output_type": "stream",
     "text": [
      "MAE train (Å): 0.138398 \n",
      "MAE test (Å): 0.138437\n"
     ]
    }
   ],
   "source": [
    "print(\"MAE train (Å): %f \\n\\\n",
    "MAE test (Å): %f\" % \n",
    "      (np.mean(np.abs(train_errs)),\n",
    "       np.mean(np.abs(test_errs))\n",
    "      ))"
   ]
  },
  {
   "cell_type": "markdown",
   "metadata": {},
   "source": [
    "# Apply both models, chained"
   ]
  },
  {
   "cell_type": "markdown",
   "metadata": {},
   "source": [
    "First, load the models"
   ]
  },
  {
   "cell_type": "code",
   "execution_count": 5,
   "metadata": {
    "ExecuteTime": {
     "end_time": "2020-11-24T00:32:11.848502Z",
     "start_time": "2020-11-24T00:32:11.769818Z"
    },
    "code_folding": [
     2
    ]
   },
   "outputs": [],
   "source": [
    "with open('zmodel.pkl', 'rb') as f:\n",
    "    zmodel = pickle.load(f)\n",
    "with open('Emodel.pkl', 'rb') as f:\n",
    "    Emodel = pickle.load(f)"
   ]
  },
  {
   "cell_type": "markdown",
   "metadata": {},
   "source": [
    "Next, read and process the training data that we have:\n",
    "\n",
    "    1) Read training structures\n",
    "    2) Filter data to only keep valid data\n",
    "    3) Convert adsorbates to He points\n",
    "    4) Use rule-based method and set the height of the He point to be result\n",
    "    5) Obtain SOAP representation of each training structure, now with He\n",
    "    6) Get the SOAP matrix and corresponding data for each training structure"
   ]
  },
  {
   "cell_type": "code",
   "execution_count": 6,
   "metadata": {
    "ExecuteTime": {
     "end_time": "2020-11-24T00:32:14.033846Z",
     "start_time": "2020-11-24T00:32:12.786383Z"
    }
   },
   "outputs": [],
   "source": [
    "np.random.seed(429)\n",
    "searchR = 2.2\n",
    "\n",
    " actual structures (training points) \n",
    "data = readStructs(\"../adsorb_amorphous/\", -196.0817, -16828.7803) #MeF, amorphous slab, DFTB\n",
    "\n",
    "## filter out wrong adsorption energies\n",
    "validData = data['E_ads'] < 0\n",
    "data = data.loc[validData, :]\n",
    "\n",
    "## turn adsorbate molecule \n",
    "data['processed'] = [\n",
    "    convertAdsorbateToHe(i, 370, np.arange(370, 375)) for i in data['geom']\n",
    "]\n",
    "\n",
    "ztrue = np.array([])\n",
    "\n",
    "for struct in data['processed']:\n",
    "    ## calculate initial guess for z position of adsorbate\n",
    "    \n",
    "    maxz = 0\n",
    "    x,y,z = struct[-1].position\n",
    "    ztrue = np.append(ztrue, z)\n",
    "    \n",
    "    for atom in struct:\n",
    "        if atom.symbol == \"He\": # don't use He position to determine max Z position \n",
    "            continue\n",
    "        _x, _y, _z = atom.position\n",
    "        if ((x - _x)**2 + (y - _y)**2) ** 0.5 < searchR:\n",
    "            if _z > maxz:\n",
    "                maxz = _z \n",
    "    newheight = maxz + 2.5\n",
    "    \n",
    "    ## set the rule based guess as the z position of adsorbate\n",
    "    \n",
    "    struct[-1].position[2] = newheight \n",
    "data['ztrue'] = ztrue\n",
    "    \n",
    "originalColumns = data.columns\n",
    "\n",
    "## generate SOAP representations\n",
    "    \n",
    "data = pd.concat([data, getSOAPs(data['processed'])], axis = 1)\n",
    "\n",
    "# data = data.sample(frac = 1)\n",
    "\n",
    "## generate data matrix for assessment via ML \n",
    "X = pd.DataFrame(data['SOAP'].to_list(), index = data.index)\n",
    "\n",
    "## generate target vectors\n",
    "\n",
    "Eads = data['E_ads']\n",
    "ztrue =  data['ztrue']"
   ]
  },
  {
   "cell_type": "markdown",
   "metadata": {},
   "source": [
    "First, get KRR predicted z value and show prediction improvement"
   ]
  },
  {
   "cell_type": "code",
   "execution_count": 7,
   "metadata": {
    "ExecuteTime": {
     "end_time": "2020-11-24T00:32:16.738400Z",
     "start_time": "2020-11-24T00:32:16.289744Z"
    }
   },
   "outputs": [
    {
     "data": {
      "text/plain": [
       "<matplotlib.legend.Legend at 0x7f4a655666d0>"
      ]
     },
     "execution_count": 7,
     "metadata": {},
     "output_type": "execute_result"
    },
    {
     "data": {
      "image/png": "[encoded data removed]",
      "text/plain": [
       "<Figure size 720x720 with 2 Axes>"
      ]
     },
     "metadata": {
      "needs_background": "light"
     },
     "output_type": "display_data"
    }
   ],
   "source": [
    "data['predicted z'] = zmodel.predict(X)\n",
    "lineparams = [min(ztrue), max(ztrue)]\n",
    "currzs = [atoms[-1].position[2] for atoms in data['processed']]\n",
    "\n",
    "fig, ax = plt.subplots(2, 1, figsize = (10, 10))\n",
    "\n",
    "plt.subplot(211)\n",
    "plt.title('true vs predicted plot')\n",
    "plt.xlabel(\"true z\")\n",
    "plt.ylabel(\"predicted z\")\n",
    "plt.plot(lineparams, lineparams)\n",
    "plt.scatter(data['ztrue'], data['predicted z'])\n",
    "plt.plot(lineparams, lineparams)\n",
    "plt.subplot(212)\n",
    "plt.title(\"residual plot\")\n",
    "plt.xlabel(\"actual value\")\n",
    "plt.ylabel(\"actual - predicted\")\n",
    "plt.scatter(ztrue, (data['predicted z'] - data['ztrue']), label = 'KRR predicted')\n",
    "# plt.scatter(ztrue, np.abs(currzs - data['ztrue']), label = 'rule based')\n",
    "plt.plot(ztrue, ztrue * 0)\n",
    "plt.legend()\n",
    "\n",
    "\n",
    "# print(\"MAE test (Å): %f\" % \n",
    "#       (np.mean(np.abs(train_predict - Eads)),\n",
    "#       ))"
   ]
  },
  {
   "cell_type": "markdown",
   "metadata": {},
   "source": [
    "Replace the z positions with the predicted z; regenerate SOAP for that "
   ]
  },
  {
   "cell_type": "code",
   "execution_count": 8,
   "metadata": {
    "ExecuteTime": {
     "end_time": "2020-11-24T00:32:25.869405Z",
     "start_time": "2020-11-24T00:32:25.203936Z"
    }
   },
   "outputs": [],
   "source": [
    "data = data.drop('SOAP', axis = 1)\n",
    "for i, row in data.iterrows():\n",
    "    atoms = row['processed']\n",
    "    row['processed'][-1].position[2] = row['predicted z']\n",
    "    \n",
    "data = pd.concat([data, getSOAPs(data['processed'])], axis = 1)\n",
    "\n",
    "\n",
    "X = pd.DataFrame(data['SOAP'].to_list(), index = data.index)\n"
   ]
  },
  {
   "cell_type": "code",
   "execution_count": 9,
   "metadata": {
    "ExecuteTime": {
     "end_time": "2020-11-24T00:32:26.879529Z",
     "start_time": "2020-11-24T00:32:26.696081Z"
    }
   },
   "outputs": [
    {
     "name": "stdout",
     "output_type": "stream",
     "text": [
      "MAE test (Å): 0.012580\n"
     ]
    },
    {
     "data": {
      "image/png": "[encoded data removed]",
      "text/plain": [
       "<Figure size 432x288 with 1 Axes>"
      ]
     },
     "metadata": {
      "needs_background": "light"
     },
     "output_type": "display_data"
    }
   ],
   "source": [
    "# plt.subplots(2, 1, figsize = (10, 10))\n",
    "\n",
    "# plt.subplot(211)\n",
    "plt.title('train')\n",
    "plt.ylabel(\"predicted energy (eV)\")\n",
    "plt.xlabel(\"calculated energy (eV)\")\n",
    "train_predict = Emodel.predict(X)\n",
    "plt.scatter(Eads, train_predict)\n",
    "lineparams = [min(Eads), max(Eads)]\n",
    "plt.plot(lineparams, lineparams)\n",
    "# plt.subplot(212)\n",
    "# plt.title(\"test\")\n",
    "# plt.ylabel(\"predicted energy (eV)\")\n",
    "# plt.xlabel(\"calculated energy (eV)\")\n",
    "# plt.scatter(y_test, Emodel.predict(X_test))\n",
    "# plt.plot(lineparams, lineparams);\n",
    "\n",
    "print(\"MAE test (Å): %f\" % \n",
    "      (np.mean(np.abs(train_predict - Eads)),\n",
    "      ))"
   ]
  },
  {
   "cell_type": "markdown",
   "metadata": {},
   "source": [
    "# Use zpred and Epred to map the energy surface"
   ]
  },
  {
   "cell_type": "code",
   "execution_count": 15,
   "metadata": {
    "ExecuteTime": {
     "end_time": "2021-03-19T00:03:41.469159Z",
     "start_time": "2021-03-19T00:03:40.481168Z"
    },
    "code_folding": []
   },
   "outputs": [],
   "source": [
    "zpath ='zmodel_withC_range2.pkl' \n",
    "with open(zpath, 'rb') as f:\n",
    "    zmodel = pickle.load(f)\n",
    "with open('Emodel_fragments.pkl', 'rb') as f:\n",
    "    Emodel = pickle.load(f)"
   ]
  },
  {
   "cell_type": "markdown",
   "metadata": {},
   "source": [
    "Generate base slab structure"
   ]
  },
  {
   "cell_type": "code",
   "execution_count": 16,
   "metadata": {
    "ExecuteTime": {
     "end_time": "2021-03-19T00:03:46.669969Z",
     "start_time": "2021-03-19T00:03:42.542581Z"
    }
   },
   "outputs": [
    {
     "name": "stdout",
     "output_type": "stream",
     "text": [
      "(300, 4)\n"
     ]
    },
    {
     "data": {
      "text/html": [
       "<div>\n",
       "<style scoped>\n",
       "    .dataframe tbody tr th:only-of-type {\n",
       "        vertical-align: middle;\n",
       "    }\n",
       "\n",
       "    .dataframe tbody tr th {\n",
       "        vertical-align: top;\n",
       "    }\n",
       "\n",
       "    .dataframe thead th {\n",
       "        text-align: right;\n",
       "    }\n",
       "</style>\n",
       "<table border=\"1\" class=\"dataframe\">\n",
       "  <thead>\n",
       "    <tr style=\"text-align: right;\">\n",
       "      <th></th>\n",
       "      <th>E</th>\n",
       "      <th>E_ads</th>\n",
       "      <th>geom</th>\n",
       "      <th>processed</th>\n",
       "    </tr>\n",
       "  </thead>\n",
       "  <tbody>\n",
       "    <tr>\n",
       "      <th>0</th>\n",
       "      <td>-17094.4259</td>\n",
       "      <td>-0.3242</td>\n",
       "      <td>(Atom('H', [6.141052145, 11.22574118, 1.215339...</td>\n",
       "      <td>(Atom('H', [6.141052145, 11.22574118, 1.215339...</td>\n",
       "    </tr>\n",
       "    <tr>\n",
       "      <th>1</th>\n",
       "      <td>-17094.2084</td>\n",
       "      <td>-0.1067</td>\n",
       "      <td>(Atom('H', [6.141052145, 11.22574118, 1.215339...</td>\n",
       "      <td>(Atom('H', [6.141052145, 11.22574118, 1.215339...</td>\n",
       "    </tr>\n",
       "    <tr>\n",
       "      <th>2</th>\n",
       "      <td>-17094.2711</td>\n",
       "      <td>-0.1694</td>\n",
       "      <td>(Atom('H', [6.141052145, 11.22574118, 1.215339...</td>\n",
       "      <td>(Atom('H', [6.141052145, 11.22574118, 1.215339...</td>\n",
       "    </tr>\n",
       "    <tr>\n",
       "      <th>3</th>\n",
       "      <td>-17094.2458</td>\n",
       "      <td>-0.1441</td>\n",
       "      <td>(Atom('H', [6.141052145, 11.22574118, 1.215339...</td>\n",
       "      <td>(Atom('H', [6.141052145, 11.22574118, 1.215339...</td>\n",
       "    </tr>\n",
       "    <tr>\n",
       "      <th>4</th>\n",
       "      <td>-17094.2840</td>\n",
       "      <td>-0.1823</td>\n",
       "      <td>(Atom('H', [6.141052145, 11.22574118, 1.215339...</td>\n",
       "      <td>(Atom('H', [6.141052145, 11.22574118, 1.215339...</td>\n",
       "    </tr>\n",
       "  </tbody>\n",
       "</table>\n",
       "</div>"
      ],
      "text/plain": [
       "            E   E_ads                                               geom  \\\n",
       "0 -17094.4259 -0.3242  (Atom('H', [6.141052145, 11.22574118, 1.215339...   \n",
       "1 -17094.2084 -0.1067  (Atom('H', [6.141052145, 11.22574118, 1.215339...   \n",
       "2 -17094.2711 -0.1694  (Atom('H', [6.141052145, 11.22574118, 1.215339...   \n",
       "3 -17094.2458 -0.1441  (Atom('H', [6.141052145, 11.22574118, 1.215339...   \n",
       "4 -17094.2840 -0.1823  (Atom('H', [6.141052145, 11.22574118, 1.215339...   \n",
       "\n",
       "                                           processed  \n",
       "0  (Atom('H', [6.141052145, 11.22574118, 1.215339...  \n",
       "1  (Atom('H', [6.141052145, 11.22574118, 1.215339...  \n",
       "2  (Atom('H', [6.141052145, 11.22574118, 1.215339...  \n",
       "3  (Atom('H', [6.141052145, 11.22574118, 1.215339...  \n",
       "4  (Atom('H', [6.141052145, 11.22574118, 1.215339...  "
      ]
     },
     "execution_count": 16,
     "metadata": {},
     "output_type": "execute_result"
    }
   ],
   "source": [
    "datadirs = [\"../slab%d/\" % i for i in range(5)]\n",
    "baseslabs = []\n",
    "\n",
    "datalist = []\n",
    "for datadir in datadirs:\n",
    "    data = readStructs(datadir) #MeF, amorphous slab, DFTB\n",
    "    data['processed'] = [\n",
    "        convertAdsorbateToHe(\n",
    "            i, len(i) - adslen, np.arange(len(i) - adslen, len(i))\n",
    "        ) for i in data['geom']\n",
    "    ]\n",
    "\n",
    "    datalist += [data]\n",
    "    base = data['processed'].iloc[0].copy()\n",
    "    del base[[atom.index for atom in base if atom.symbol in ['He', 'Ar']]]\n",
    "    base.wrap()\n",
    "    baseslabs += [base]\n",
    "\n",
    "data = pd.concat(datalist).reset_index(drop = True).fillna(0)\n",
    "\n",
    "# view(baseslabs)\n",
    "print(data.shape)\n",
    "\n",
    "data.head()"
   ]
  },
  {
   "cell_type": "code",
   "execution_count": 9,
   "metadata": {
    "ExecuteTime": {
     "end_time": "2020-12-15T11:26:20.002783Z",
     "start_time": "2020-12-15T11:26:19.481233Z"
    }
   },
   "outputs": [],
   "source": [
    "# ### read actual structures (training points) \n",
    "# data = readStructs(\"../adsorb_amorphous/\", -196.0817, -16828.7803) #MeF, amorphous slab, DFTB\n",
    "\n",
    "# ## filter out wrong adsorption energies\n",
    "# validData = data['E_ads'] < 0\n",
    "# data = data.loc[validData, :]\n",
    "\n",
    "# ## turn adsorbate molecule \n",
    "# data['processed'] = [\n",
    "#     convertAdsorbateToHe(i, 370, np.arange(370, 375)) for i in data['geom']\n",
    "# ]\n",
    "\n",
    "# base = data['processed'][0].copy()\n",
    "# # base = gen.read_gen(\"../bomb0/output0-0.gen\")\n",
    "# del base[[atom.index for atom in base if atom.symbol in ['He', 'Ar']]]\n",
    "# base.wrap()\n",
    "# view(base)"
   ]
  },
  {
   "cell_type": "markdown",
   "metadata": {},
   "source": [
    "Grid over surface to map"
   ]
  },
  {
   "cell_type": "code",
   "execution_count": 23,
   "metadata": {
    "ExecuteTime": {
     "end_time": "2021-01-26T01:51:22.695751Z",
     "start_time": "2021-01-26T01:46:41.335748Z"
    }
   },
   "outputs": [
    {
     "name": "stdout",
     "output_type": "stream",
     "text": [
      "22.744913780000005 [23.17781226]\n",
      "22.744913780000005 [22.38042464]\n",
      "22.744913780000005 [21.98440178]\n",
      "19.26485912 [19.92443099]\n",
      "18.31565922 [18.20338419]\n",
      "18.31565922 [18.13093016]\n",
      "18.31565922 [19.71532173]\n",
      "16.57900402 [19.94530869]\n",
      "16.57900402 [19.16135309]\n",
      "19.20485324 [20.98117766]\n",
      "19.20485324 [22.30545269]\n",
      "19.20485324 [21.99891973]\n",
      "19.20485324 [21.48888581]\n",
      "19.20485324 [18.54122037]\n",
      "20.1686734 [21.15717361]\n",
      "20.1686734 [21.20419385]\n",
      "21.714857570000003 [22.53349744]\n",
      "22.97921959 [21.93672644]\n",
      "22.97921959 [22.61013505]\n",
      "22.97921959 [22.71525798]\n",
      "22.744913780000005 [23.90615478]\n",
      "22.744913780000005 [23.09586654]\n",
      "22.744913780000005 [22.26388245]\n",
      "22.744913780000005 [21.48599483]\n",
      "18.31565922 [18.84162644]\n",
      "18.31565922 [18.24987015]\n",
      "18.31565922 [19.12887284]\n",
      "18.31565922 [20.35786237]\n",
      "16.57900402 [18.3732618]\n",
      "19.20485324 [19.80237107]\n",
      "19.20485324 [20.63316898]\n",
      "19.20485324 [22.15409079]\n",
      "19.20485324 [21.68516952]\n",
      "19.20485324 [21.04240689]\n",
      "18.98897645 [21.96188807]\n",
      "21.714857570000003 [21.96849208]\n",
      "22.97921959 [21.93997101]\n",
      "22.97921959 [22.78916535]\n",
      "22.97921959 [23.71550595]\n",
      "22.97921959 [23.72191988]\n",
      "22.744913780000005 [23.70923798]\n",
      "22.744913780000005 [23.2349298]\n",
      "22.744913780000005 [22.18766382]\n",
      "19.26485912 [20.50804332]\n",
      "18.31565922 [19.39324427]\n",
      "18.31565922 [18.22414525]\n",
      "18.31565922 [19.32537422]\n",
      "18.31565922 [19.28908234]\n",
      "16.57900402 [20.15282914]\n",
      "19.20485324 [20.64871752]\n",
      "19.20485324 [20.32262477]\n",
      "19.20485324 [19.92360584]\n",
      "19.20485324 [20.98276609]\n",
      "18.98897645 [20.40800557]\n",
      "21.98914533 [21.63474762]\n",
      "21.714857570000003 [22.0641296]\n",
      "22.97921959 [22.46990013]\n",
      "22.97921959 [23.02313096]\n",
      "22.97921959 [23.486822]\n",
      "22.97921959 [23.58038386]\n",
      "22.744913780000005 [23.55999507]\n",
      "22.744913780000005 [23.18285677]\n",
      "22.744913780000005 [22.23206589]\n",
      "20.05652367 [20.58324076]\n",
      "18.31565922 [19.48742643]\n",
      "18.31565922 [19.18467796]\n",
      "18.31565922 [18.3798088]\n",
      "18.31565922 [19.27760286]\n",
      "18.378318880000002 [19.24008371]\n",
      "19.20485324 [20.42784398]\n",
      "19.20485324 [20.40467603]\n",
      "19.20485324 [21.43578176]\n",
      "19.20485324 [20.42260154]\n",
      "18.98897645 [20.32029172]\n",
      "21.98914533 [21.13662037]\n",
      "21.714857570000003 [22.13540702]\n",
      "22.97921959 [22.63960076]\n",
      "22.97921959 [22.83831052]\n",
      "22.97921959 [23.14268947]\n",
      "22.97921959 [23.23663645]\n",
      "22.744913780000005 [23.03429389]\n",
      "14.4131428 [17.53305424]\n",
      "20.05652367 [21.00571674]\n",
      "18.31565922 [18.72237264]\n",
      "18.31565922 [19.53521818]\n",
      "18.31565922 [19.00948601]\n",
      "18.31565922 [19.32778496]\n",
      "18.31565922 [19.64009284]\n",
      "19.78654985 [19.262847]\n",
      "17.75163189 [18.72629785]\n",
      "19.20485324 [20.19086982]\n",
      "19.20485324 [20.02221107]\n",
      "19.56745489 [19.39720429]\n",
      "20.1686734 [19.94476897]\n",
      "20.1686734 [19.90824166]\n",
      "21.98914533 [21.73889242]\n",
      "19.96751257 [21.94622255]\n",
      "22.97921959 [22.77351671]\n",
      "22.97921959 [22.7286665]\n",
      "22.97921959 [22.75497467]\n",
      "14.4131428 [19.26590281]\n",
      "16.69412527 [18.73546489]\n",
      "16.69412527 [19.09080674]\n",
      "16.69412527 [18.32595317]\n",
      "19.11777845 [18.88649336]\n",
      "18.31565922 [19.04949734]\n",
      "16.68457951 [19.42447241]\n",
      "19.11777845 [18.9721358]\n",
      "19.78654985 [19.73835688]\n",
      "17.75163189 [18.97415413]\n",
      "20.32503109 [20.97669209]\n",
      "19.56745489 [20.02524888]\n",
      "19.56745489 [19.61488854]\n",
      "18.234326380000002 [19.72557974]\n",
      "19.56745489 [19.05995316]\n",
      "20.1686734 [20.87278603]\n",
      "19.96751257 [22.07806589]\n",
      "23.41463231 [21.83476595]\n",
      "23.41463231 [22.10265104]\n",
      "23.41463231 [22.05024266]\n",
      "15.98809609 [20.14186048]\n",
      "16.69412527 [18.77834904]\n",
      "16.69412527 [19.91384794]\n",
      "16.69412527 [18.88733522]\n",
      "18.22211647 [19.33173791]\n",
      "18.22211647 [19.6452366]\n",
      "18.22211647 [18.43231934]\n",
      "17.75163189 [17.86479943]\n",
      "19.78654985 [19.60578442]\n",
      "17.75163189 [19.02031662]\n",
      "19.56745489 [21.20602112]\n",
      "20.32503109 [19.97781286]\n",
      "18.234326380000002 [21.38384754]\n",
      "18.234326380000002 [21.47521942]\n",
      "20.32503109 [19.18111823]\n",
      "19.96751257 [19.28659991]\n",
      "19.96751257 [20.665829]\n",
      "19.96751257 [21.53657136]\n",
      "19.96751257 [21.96889818]\n",
      "19.96751257 [21.70534118]\n",
      "13.582148600000002 [18.23845168]\n",
      "16.69412527 [18.7086248]\n",
      "16.69412527 [20.53731633]\n",
      "16.69412527 [19.55553161]\n",
      "18.22211647 [19.85912657]\n",
      "18.22211647 [19.97020645]\n",
      "18.22211647 [19.50264682]\n",
      "17.73140734 [18.64495443]\n",
      "17.73140734 [18.9980931]\n",
      "17.73140734 [19.17625021]\n",
      "18.44239906 [21.00493438]\n",
      "18.44239906 [20.25555671]\n",
      "18.44239906 [20.78227749]\n",
      "18.44239906 [20.88541643]\n",
      "19.23968381 [19.84392726]\n",
      "19.96751257 [19.41807298]\n",
      "19.96751257 [19.70949281]\n",
      "19.96751257 [19.67059445]\n",
      "19.96751257 [20.65158858]\n",
      "19.96751257 [20.96941965]\n",
      "16.79298599 [18.20100038]\n",
      "16.79298599 [17.78558373]\n",
      "16.69412527 [19.65564255]\n",
      "18.22211647 [19.85817666]\n",
      "18.22211647 [20.5300245]\n",
      "17.762078960000004 [20.26034778]\n",
      "17.762078960000004 [19.75889259]\n",
      "17.762078960000004 [18.62322729]\n",
      "17.762078960000004 [19.20640648]\n",
      "18.44239906 [20.36394889]\n",
      "18.44239906 [19.76256415]\n",
      "18.44239906 [20.98237984]\n",
      "20.6286143 [19.98272185]\n",
      "20.6286143 [19.77942599]\n",
      "20.6286143 [19.93350218]\n",
      "19.23968381 [20.12402862]\n",
      "19.96751257 [19.40554415]\n",
      "19.96751257 [19.44897333]\n",
      "19.96751257 [19.93275288]\n",
      "19.96751257 [20.13963208]\n",
      "15.98809609 [17.50348375]\n",
      "18.357664650000004 [19.21042314]\n",
      "18.357664650000004 [18.73472213]\n",
      "15.98809609 [18.83733696]\n",
      "18.22211647 [19.73980096]\n",
      "17.762078960000004 [20.2097052]\n",
      "17.762078960000004 [20.90098825]\n",
      "17.762078960000004 [20.57710796]\n",
      "17.762078960000004 [19.84620962]\n",
      "19.06340826 [20.58366737]\n",
      "19.06340826 [20.83161212]\n",
      "20.6286143 [20.42832651]\n",
      "20.6286143 [20.63006067]\n",
      "20.6286143 [20.32646821]\n",
      "20.6286143 [20.07831326]\n",
      "20.6286143 [20.16552256]\n",
      "18.234326380000002 [19.8198417]\n",
      "19.96751257 [19.29187136]\n",
      "19.96751257 [19.60831691]\n",
      "12.33725804 [19.29980165]\n",
      "15.80076336 [16.99280181]\n",
      "15.80076336 [17.04563288]\n",
      "18.357664650000004 [18.36926699]\n",
      "18.357664650000004 [18.26984267]\n",
      "18.357664650000004 [18.21149477]\n",
      "16.154527379999998 [18.90421821]\n",
      "17.762078960000004 [20.03600878]\n",
      "20.21108191 [20.33959492]\n",
      "17.762078960000004 [18.62243752]\n",
      "19.06340826 [20.08581038]\n",
      "19.06340826 [21.41555271]\n",
      "20.6286143 [20.27408496]\n",
      "20.6286143 [20.42050841]\n",
      "20.6286143 [20.5344394]\n",
      "20.6286143 [20.55803654]\n",
      "20.6286143 [20.32735845]\n",
      "17.215721000000002 [19.44259504]\n",
      "17.215721000000002 [17.4338516]\n",
      "15.000177620000002 [17.14715813]\n",
      "12.596291780000001 [20.36212]\n",
      "17.059248680000003 [17.4275822]\n",
      "17.059248680000003 [17.62855508]\n",
      "17.059248680000003 [18.3138181]\n",
      "18.357664650000004 [18.07907645]\n",
      "18.357664650000004 [17.79782078]\n",
      "16.154527379999998 [17.54048089]\n",
      "20.21108191 [19.69039003]\n",
      "20.21108191 [19.76604961]\n",
      "20.21108191 [19.9613052]\n",
      "19.06340826 [19.40746703]\n",
      "19.06340826 [21.05583793]\n",
      "20.6286143 [20.18615245]\n",
      "20.6286143 [20.20691074]\n",
      "20.6286143 [20.05851255]\n",
      "20.6286143 [20.3190087]\n",
      "20.6286143 [20.23510857]\n",
      "16.511247429999997 [18.98416971]\n",
      "16.511247429999997 [18.28263998]\n",
      "14.40587699 [17.86095174]\n",
      "12.596291780000001 [17.44680103]\n",
      "17.059248680000003 [17.71556448]\n",
      "17.059248680000003 [17.86873082]\n",
      "17.059248680000003 [18.60014154]\n",
      "17.059248680000003 [18.69589031]\n",
      "15.80076336 [17.73335375]\n",
      "17.72559055 [17.60142657]\n",
      "20.21108191 [19.48320438]\n",
      "20.21108191 [19.37262319]\n",
      "20.21108191 [19.60581061]\n",
      "19.92208818 [19.64658783]\n",
      "19.92208818 [19.86274001]\n",
      "20.6286143 [20.25884635]\n",
      "20.6286143 [19.7412439]\n",
      "20.6286143 [19.72333286]\n",
      "20.6286143 [19.79739272]\n",
      "20.6286143 [20.09065963]\n",
      "19.0523674 [19.42203747]\n",
      "17.99531237 [17.94541539]\n",
      "14.76056031 [16.74329176]\n",
      "14.76056031 [17.54594875]\n",
      "17.059248680000003 [17.66773537]\n",
      "20.31314416 [21.39084383]\n",
      "20.31314416 [22.12583528]\n",
      "20.31314416 [21.26228253]\n",
      "20.31314416 [20.95171277]\n",
      "17.72559055 [18.60464069]\n",
      "17.72559055 [21.09671648]\n",
      "20.21108191 [19.38074879]\n",
      "18.59824015 [20.34265699]\n",
      "18.59824015 [20.25558838]\n",
      "20.16335426 [19.49874139]\n",
      "18.502850200000005 [20.13087781]\n",
      "20.16335426 [19.65593318]\n",
      "20.6286143 [20.03497533]\n",
      "18.502850200000005 [20.81179968]\n",
      "19.55130049 [20.13732231]\n",
      "19.55130049 [19.63486753]\n",
      "19.55130049 [19.09910149]\n",
      "14.68976221 [17.4701964]\n",
      "14.76056031 [15.45559887]\n",
      "20.31314416 [20.23856931]\n",
      "20.31314416 [21.12127856]\n",
      "20.27299764 [21.72994256]\n",
      "20.27299764 [21.75088108]\n",
      "18.95042538 [21.44087212]\n",
      "18.95042538 [21.54755743]\n",
      "18.95042538 [20.95344855]\n",
      "19.62750394 [20.65765261]\n",
      "19.62750394 [20.84050135]\n",
      "19.92208818 [19.90579493]\n",
      "20.16335426 [19.97870908]\n",
      "20.16335426 [19.90574504]\n",
      "18.502850200000005 [21.52551362]\n",
      "18.502850200000005 [20.22813353]\n",
      "18.502850200000005 [20.54607429]\n",
      "18.502850200000005 [20.58514268]\n",
      "19.55130049 [19.17789082]\n",
      "19.55130049 [19.22899924]\n",
      "19.55130049 [19.26976746]\n",
      "14.76056031 [18.14816171]\n",
      "20.31314416 [19.55747041]\n",
      "20.27299764 [20.10421835]\n"
     ]
    },
    {
     "name": "stdout",
     "output_type": "stream",
     "text": [
      "20.27299764 [21.22273239]\n",
      "18.95042538 [22.43082602]\n",
      "18.95042538 [21.59901408]\n",
      "18.95042538 [22.30388224]\n",
      "18.95042538 [21.103963]\n",
      "18.95042538 [20.88630763]\n",
      "19.62750394 [20.38981103]\n",
      "19.62750394 [21.15531815]\n",
      "20.16335426 [20.27626747]\n",
      "20.16335426 [20.38445792]\n",
      "21.00997942 [21.04635652]\n",
      "20.16335426 [21.55608942]\n",
      "20.16335426 [21.00477858]\n",
      "19.55130049 [21.23927034]\n",
      "18.470304640000002 [20.51453515]\n",
      "18.470304640000002 [19.58806754]\n",
      "19.55130049 [19.38615033]\n",
      "14.76056031 [17.90543591]\n",
      "20.31314416 [19.84381769]\n",
      "20.27299764 [20.34392735]\n",
      "18.95042538 [20.28251471]\n",
      "18.95042538 [21.18118995]\n",
      "18.95042538 [21.06587694]\n",
      "18.95042538 [20.52072107]\n",
      "18.95042538 [21.15844311]\n",
      "18.95042538 [20.22441687]\n",
      "19.62750394 [20.41582518]\n",
      "19.62750394 [20.72550804]\n",
      "20.62296404 [20.41405038]\n",
      "20.62296404 [20.77731888]\n",
      "21.46245536 [21.98017464]\n",
      "20.36161618 [21.55608675]\n",
      "19.55130049 [21.45168901]\n",
      "19.55130049 [21.10270654]\n",
      "19.41314443 [20.75013362]\n",
      "19.41314443 [19.34130159]\n",
      "19.41314443 [19.30728089]\n",
      "15.960688330000002 [18.01568242]\n",
      "20.08024372 [20.07964314]\n",
      "20.27299764 [20.541859]\n",
      "20.27299764 [20.94002863]\n",
      "18.95042538 [21.20148367]\n",
      "18.95042538 [20.48273897]\n",
      "18.95042538 [20.87471324]\n",
      "18.95042538 [20.83970682]\n",
      "18.95042538 [20.25834424]\n",
      "19.2673737 [20.84011595]\n",
      "20.62296404 [20.40071787]\n",
      "20.62296404 [21.11954694]\n",
      "20.62296404 [21.30531838]\n",
      "21.46245536 [22.06741895]\n",
      "20.36161618 [21.90026206]\n",
      "22.403230910000005 [21.34184764]\n",
      "19.41314443 [20.04204091]\n",
      "19.41314443 [19.68232284]\n",
      "19.41314443 [20.44610018]\n",
      "19.41314443 [19.59134592]\n",
      "19.41314443 [19.85659378]\n",
      "20.08024372 [20.11472599]\n",
      "20.08024372 [20.72487855]\n",
      "20.27299764 [20.97751555]\n",
      "18.95042538 [21.09771205]\n",
      "18.95042538 [19.9532013]\n",
      "18.95042538 [19.77780939]\n",
      "18.95042538 [20.08128044]\n",
      "19.2673737 [19.90386309]\n",
      "19.2673737 [20.41190243]\n",
      "20.62296404 [20.5502071]\n",
      "20.62296404 [21.41973917]\n",
      "20.62296404 [21.96102455]\n",
      "20.62296404 [22.11692741]\n",
      "21.46245536 [22.53916841]\n",
      "20.36161618 [20.48092187]\n",
      "19.41314443 [19.20713125]\n",
      "19.41314443 [20.99311594]\n",
      "19.41314443 [19.92097339]\n",
      "19.41314443 [19.16120393]\n",
      "19.41314443 [19.50620855]\n",
      "16.95991275 [20.01655082]\n",
      "20.08024372 [21.23057526]\n",
      "20.08024372 [21.00523998]\n",
      "18.08705524 [20.73313332]\n",
      "21.253278250000005 [20.10116509]\n",
      "18.08705524 [18.85088377]\n",
      "20.26034219 [19.56781926]\n",
      "19.2673737 [20.13076645]\n",
      "20.62296404 [20.40998972]\n",
      "20.62296404 [20.82968621]\n",
      "20.62296404 [21.26299981]\n",
      "20.62296404 [21.95262703]\n",
      "21.46245536 [21.63602506]\n",
      "21.46245536 [21.70226458]\n",
      "21.46245536 [22.1466956]\n",
      "19.41314443 [20.39896286]\n",
      "19.41314443 [21.4293789]\n",
      "19.41314443 [22.21440417]\n",
      "19.41314443 [21.30041835]\n",
      "19.41314443 [20.93907838]\n",
      "19.37995161 [19.47047653]\n",
      "19.37995161 [19.42141265]\n",
      "19.37995161 [19.9584558]\n",
      "19.37995161 [20.06260891]\n",
      "16.78380893 [17.45372517]\n",
      "19.16181143 [19.38647845]\n",
      "19.16181143 [19.47011111]\n",
      "19.16181143 [19.3248975]\n",
      "19.20712397 [20.44622855]\n",
      "19.040469730000005 [20.19773294]\n",
      "19.040469730000005 [19.75713874]\n",
      "21.90480757 [21.02399075]\n",
      "19.62270994 [20.85411508]\n",
      "19.62270994 [20.4824448]\n",
      "19.62270994 [17.19551999]\n",
      "21.90480757 [22.01349096]\n",
      "21.90480757 [21.35587463]\n",
      "18.31639699 [19.9025828]\n",
      "18.31639699 [18.39466023]\n",
      "18.468178200000004 [19.15899909]\n",
      "19.37995161 [19.31063708]\n",
      "19.37995161 [19.51979909]\n",
      "19.16181143 [19.88766554]\n",
      "19.16181143 [20.04434009]\n",
      "16.78380893 [18.02613167]\n",
      "17.900850600000002 [19.39693335]\n",
      "17.900850600000002 [18.82197271]\n",
      "17.900850600000002 [20.38900505]\n",
      "19.20712397 [20.03259396]\n",
      "19.040469730000005 [20.27397712]\n",
      "19.040469730000005 [20.41417725]\n",
      "21.90480757 [21.96697596]\n",
      "22.89525621 [20.97097331]\n",
      "21.90480757 [21.81415005]\n",
      "21.90480757 [21.84608214]\n",
      "21.90480757 [21.34112321]\n",
      "21.90480757 [21.70940962]\n",
      "18.31639699 [19.81132767]\n",
      "18.31639699 [19.43218978]\n",
      "18.31639699 [19.89956362]\n",
      "19.37995161 [19.02563815]\n",
      "18.369301820000004 [19.34796188]\n",
      "18.369301820000004 [19.9392484]\n",
      "19.16181143 [19.81456923]\n",
      "17.900850600000002 [19.29948951]\n",
      "17.900850600000002 [19.46424651]\n",
      "17.900850600000002 [19.83369501]\n",
      "17.900850600000002 [21.3922407]\n",
      "17.900850600000002 [20.25676591]\n",
      "19.040469730000005 [20.43196289]\n",
      "22.89525621 [21.00553994]\n",
      "21.57887872 [21.5015693]\n",
      "21.90480757 [22.07566136]\n",
      "21.90480757 [22.02559447]\n",
      "21.90480757 [22.40223894]\n",
      "21.90480757 [22.07174143]\n",
      "18.31639699 [20.666639]\n",
      "18.31639699 [19.74400615]\n",
      "18.31639699 [18.41399003]\n",
      "18.31639699 [19.27167854]\n",
      "19.37995161 [18.774285]\n",
      "18.369301820000004 [18.61859251]\n",
      "19.37995161 [19.21533661]\n",
      "19.16181143 [19.03680719]\n",
      "17.900850600000002 [20.26897205]\n",
      "17.900850600000002 [18.78103002]\n",
      "17.900850600000002 [19.44207231]\n",
      "17.900850600000002 [19.31178055]\n",
      "17.900850600000002 [20.10196017]\n",
      "19.040469730000005 [20.13193522]\n",
      "21.57887872 [21.87677479]\n",
      "21.57887872 [22.40640743]\n",
      "21.90480757 [22.63105927]\n",
      "21.90480757 [22.81225075]\n",
      "21.90480757 [22.68379781]\n",
      "21.90480757 [22.10398539]\n",
      "21.389633450000005 [21.34535736]\n",
      "18.31639699 [18.6001646]\n",
      "18.31639699 [18.43336561]\n",
      "18.31639699 [18.57129586]\n",
      "14.390428920000002 [19.80920857]\n",
      "14.390428920000002 [18.75447438]\n",
      "15.879127760000001 [17.6074458]\n",
      "14.390428920000002 [19.09322919]\n",
      "17.900850600000002 [18.62010147]\n",
      "17.900850600000002 [20.7933243]\n",
      "17.900850600000002 [20.95639517]\n",
      "17.900850600000002 [19.79253897]\n",
      "17.900850600000002 [19.33985554]\n",
      "19.040469730000005 [19.71585703]\n",
      "21.57887872 [22.63162203]\n",
      "21.57887872 [22.80529026]\n",
      "21.57887872 [23.61524028]\n",
      "21.57887872 [23.84101805]\n",
      "21.57887872 [23.16431389]\n",
      "21.57887872 [22.36240115]\n",
      "21.389633450000005 [21.33444138]\n",
      "18.77424203 [19.15000022]\n",
      "18.31639699 [18.918088]\n",
      "15.996712490000002 [18.06933852]\n",
      "14.390428920000002 [19.24481038]\n",
      "13.56761849 [19.58954179]\n",
      "16.87461589 [18.1225793]\n",
      "16.87461589 [18.06182602]\n",
      "17.900850600000002 [19.0672998]\n",
      "17.900850600000002 [20.81320086]\n",
      "17.900850600000002 [20.12801699]\n",
      "17.900850600000002 [20.14258698]\n",
      "17.900850600000002 [19.66199624]\n",
      "17.45128938 [18.27916317]\n",
      "21.57887872 [22.43529318]\n",
      "21.57887872 [22.95348178]\n",
      "21.57887872 [23.38173295]\n",
      "21.57887872 [23.51619593]\n",
      "21.57887872 [22.92308802]\n",
      "21.389633450000005 [21.99708874]\n",
      "19.09905347 [20.1944845]\n",
      "19.09905347 [19.74199735]\n",
      "19.09905347 [18.89221833]\n",
      "15.906421440000003 [17.55928656]\n",
      "14.390428920000002 [19.83894635]\n",
      "16.87461589 [18.113245]\n",
      "16.87461589 [19.41648354]\n",
      "16.87461589 [18.50301495]\n",
      "19.86951488 [21.10184641]\n",
      "17.900850600000002 [20.43532928]\n",
      "17.900850600000002 [16.05596672]\n",
      "17.900850600000002 [16.49886805]\n",
      "17.45128938 [18.33081368]\n",
      "17.45128938 [18.47954813]\n",
      "21.63380463 [21.94210311]\n",
      "19.96027528 [21.39357957]\n",
      "21.57887872 [22.47486049]\n",
      "21.57887872 [21.74919052]\n",
      "21.57887872 [21.80516455]\n",
      "19.00334426 [20.0440633]\n",
      "19.09905347 [20.08838355]\n",
      "19.09905347 [20.29467273]\n",
      "19.09905347 [19.89947025]\n",
      "19.09905347 [19.18093649]\n",
      "13.56761849 [16.65704194]\n",
      "16.87461589 [19.02746909]\n",
      "16.87461589 [18.91682078]\n",
      "16.87461589 [17.52804504]\n",
      "19.86951488 [21.2765754]\n",
      "17.955500980000004 [20.97060169]\n",
      "17.955500980000004 [16.17930482]\n",
      "17.955500980000004 [17.1049652]\n",
      "17.955500980000004 [21.59372922]\n",
      "18.51590078 [21.11625681]\n",
      "21.63380463 [20.8253219]\n",
      "21.63380463 [21.39535742]\n",
      "21.63380463 [21.29806758]\n",
      "21.63380463 [21.31775266]\n",
      "21.63380463 [21.28608901]\n",
      "19.00334426 [19.71932616]\n",
      "19.09905347 [19.81822114]\n",
      "19.09905347 [19.76363455]\n",
      "19.09905347 [19.82272933]\n",
      "19.09905347 [19.62820805]\n",
      "16.5901901 [19.39674109]\n",
      "19.13647551 [19.93303209]\n",
      "16.87461589 [18.82704629]\n",
      "19.10661641 [21.1607391]\n",
      "19.10661641 [21.28171386]\n",
      "17.736988630000003 [20.92936649]\n",
      "17.736988630000003 [19.95618402]\n",
      "17.736988630000003 [19.20398099]\n",
      "18.51590078 [20.40742196]\n",
      "18.51590078 [20.14242078]\n",
      "18.51590078 [20.29644071]\n",
      "19.00334426 [20.71615214]\n",
      "19.00334426 [20.43754817]\n",
      "19.00334426 [21.04642744]\n",
      "19.00334426 [19.85275393]\n",
      "19.00334426 [19.1319838]\n",
      "19.00334426 [19.47195795]\n",
      "19.09905347 [19.29508058]\n",
      "19.09905347 [19.54692462]\n",
      "19.09905347 [19.65121619]\n",
      "19.13647551 [19.19795333]\n",
      "19.10661641 [20.46593212]\n",
      "19.10661641 [20.95159985]\n",
      "20.48956592 [21.18741606]\n",
      "20.48956592 [20.76950044]\n",
      "20.48956592 [20.43239505]\n",
      "17.736988630000003 [18.77652224]\n",
      "17.736988630000003 [18.33492043]\n",
      "20.09588266 [20.28403124]\n",
      "19.96027528 [20.69036063]\n",
      "19.96027528 [21.01164233]\n",
      "19.00334426 [21.02175088]\n",
      "19.00334426 [20.70633453]\n",
      "19.00334426 [21.34970265]\n",
      "19.00334426 [20.43987585]\n",
      "19.00334426 [19.16619548]\n",
      "19.09905347 [19.39922305]\n",
      "19.09905347 [18.9086665]\n",
      "19.09905347 [18.90698356]\n",
      "17.91372926 [19.75074467]\n",
      "19.13647551 [19.19580036]\n",
      "19.10661641 [20.58880311]\n",
      "19.10661641 [21.12971469]\n"
     ]
    },
    {
     "name": "stdout",
     "output_type": "stream",
     "text": [
      "19.10661641 [21.42843157]\n",
      "20.48956592 [21.22691098]\n",
      "20.09588266 [21.2819087]\n",
      "20.31017714 [20.8593134]\n",
      "20.31017714 [20.86603225]\n",
      "20.31017714 [20.4911938]\n",
      "20.31017714 [21.05642706]\n",
      "19.96027528 [20.63231739]\n",
      "19.96027528 [21.48373028]\n",
      "22.01543693 [21.11808633]\n",
      "22.01543693 [21.26614707]\n",
      "22.01543693 [21.36248634]\n",
      "19.00334426 [20.10502306]\n",
      "17.191510980000004 [19.86378212]\n",
      "17.191510980000004 [19.20602216]\n",
      "17.91372926 [18.92217002]\n",
      "16.9212488 [18.30329393]\n",
      "16.849487520000004 [19.09750032]\n",
      "20.48956592 [20.56260797]\n",
      "20.48956592 [21.38564917]\n",
      "19.10661641 [20.39112993]\n",
      "19.10661641 [20.4310247]\n",
      "20.09588266 [21.79672687]\n",
      "20.31017714 [21.30520319]\n",
      "20.31017714 [21.09468376]\n",
      "20.31017714 [20.82848503]\n",
      "21.65935175 [21.3200357]\n",
      "21.65935175 [21.27375814]\n",
      "21.65935175 [21.1615425]\n",
      "20.92562548 [21.78453492]\n",
      "20.92562548 [21.41680147]\n",
      "20.92562548 [21.23119854]\n",
      "22.01543693 [21.43044256]\n",
      "20.339436170000003 [19.84788044]\n",
      "16.9212488 [19.26377886]\n",
      "16.9212488 [19.48840429]\n",
      "16.9212488 [19.01153582]\n",
      "16.849487520000004 [19.3681277]\n",
      "16.849487520000004 [20.28504978]\n",
      "20.48956592 [20.52148779]\n",
      "20.48956592 [21.09578122]\n",
      "20.48956592 [21.06169763]\n",
      "20.48956592 [21.12123124]\n",
      "21.65935175 [21.47270412]\n",
      "20.31017714 [21.58167139]\n",
      "20.31017714 [20.78776607]\n",
      "20.31017714 [21.30104442]\n",
      "20.31017714 [21.11945197]\n",
      "21.65935175 [21.24135744]\n",
      "20.92562548 [22.74620653]\n",
      "20.92562548 [22.02569883]\n",
      "20.108027510000003 [22.15550278]\n",
      "20.108027510000003 [21.94689753]\n",
      "17.91372926 [20.71732929]\n",
      "17.91372926 [20.42105026]\n",
      "17.91372926 [19.26535208]\n",
      "17.91372926 [19.39878399]\n",
      "16.849487520000004 [19.29899457]\n",
      "16.849487520000004 [19.21144252]\n",
      "16.849487520000004 [19.88929775]\n",
      "20.48956592 [19.75659276]\n",
      "20.48956592 [19.99454043]\n",
      "17.906503800000003 [21.23920359]\n",
      "21.65935175 [21.00450113]\n",
      "20.31017714 [21.10344943]\n",
      "20.31017714 [20.82093578]\n",
      "20.31017714 [20.63375451]\n",
      "20.31017714 [19.99740475]\n",
      "22.01543693 [21.47775906]\n",
      "22.01543693 [21.15870209]\n",
      "20.108027510000003 [22.32516816]\n",
      "21.26814737 [21.79875147]\n",
      "21.26814737 [21.71500521]\n",
      "17.903116830000002 [20.06623262]\n",
      "17.91372926 [20.32473426]\n",
      "17.91372926 [18.82673249]\n",
      "17.91372926 [20.02299696]\n",
      "16.849487520000004 [16.76597617]\n",
      "16.849487520000004 [18.93265483]\n",
      "16.849487520000004 [18.73812303]\n",
      "16.849487520000004 [21.20130638]\n",
      "18.76131665 [19.16298824]\n",
      "18.76131665 [20.99127311]\n",
      "18.76131665 [21.4864741]\n",
      "19.5559828 [22.36923609]\n",
      "19.5559828 [21.63075138]\n",
      "21.65935175 [19.81659986]\n",
      "19.08257699 [20.50057365]\n",
      "22.01543693 [20.92453917]\n",
      "21.26814737 [20.87134671]\n",
      "21.26814737 [21.30283579]\n",
      "21.26814737 [21.71571492]\n",
      "21.26814737 [21.5589734]\n",
      "21.26814737 [21.44413606]\n",
      "20.108027510000003 [20.63313314]\n",
      "18.26442464 [19.39261348]\n",
      "19.4002954 [19.29992856]\n",
      "16.849487520000004 [17.94375583]\n",
      "16.849487520000004 [17.19740382]\n",
      "16.849487520000004 [17.91396558]\n",
      "16.849487520000004 [18.72060178]\n",
      "18.76131665 [19.45730282]\n",
      "18.76131665 [20.1303392]\n",
      "18.76131665 [21.04404309]\n",
      "18.76131665 [20.9267596]\n",
      "19.5559828 [20.73625322]\n",
      "19.5559828 [19.73113916]\n",
      "19.08257699 [18.76360334]\n",
      "19.08257699 [18.72011231]\n",
      "21.26814737 [21.08414963]\n",
      "20.108027510000003 [21.50554273]\n",
      "20.108027510000003 [21.60333931]\n",
      "20.108027510000003 [21.40609492]\n",
      "21.26814737 [21.4725756]\n",
      "21.26814737 [20.67754616]\n",
      "18.26442464 [18.89710283]\n",
      "19.4002954 [19.25335745]\n",
      "16.9666451 [18.27451754]\n",
      "20.09388526 [18.96424507]\n",
      "18.76131665 [18.32826137]\n",
      "18.76131665 [19.33525345]\n",
      "18.76131665 [19.67977822]\n",
      "18.76131665 [19.43496356]\n",
      "18.76131665 [20.40468499]\n",
      "18.76131665 [20.59315906]\n",
      "19.5559828 [20.59237864]\n",
      "20.20460442 [19.44762504]\n",
      "18.038486400000004 [19.9071077]\n",
      "21.389369820000002 [19.4875678]\n",
      "21.26814737 [20.93891035]\n",
      "21.26814737 [21.50106121]\n",
      "20.108027510000003 [21.16556368]\n",
      "21.92560449 [21.51983827]\n",
      "21.92560449 [20.96282609]\n",
      "19.12006392 [19.42507343]\n",
      "19.12006392 [20.09397284]\n",
      "19.4002954 [19.46364338]\n",
      "20.09388526 [19.45653996]\n",
      "20.09388526 [19.11961959]\n",
      "18.76131665 [18.58021415]\n",
      "18.76131665 [19.67611003]\n",
      "18.76131665 [19.97201447]\n",
      "18.76131665 [19.29803627]\n",
      "18.76131665 [20.26087578]\n",
      "18.76131665 [19.5589412]\n",
      "19.5559828 [20.49999336]\n",
      "20.54640189 [19.35258456]\n",
      "20.54640189 [18.65569736]\n",
      "20.54640189 [19.49159416]\n",
      "19.08257699 [21.18604821]\n",
      "21.26814737 [21.20125389]\n",
      "21.92560449 [21.57744576]\n",
      "21.92560449 [21.42188641]\n",
      "21.92560449 [20.86972664]\n",
      "21.92560449 [21.20937766]\n",
      "19.12006392 [19.46923949]\n",
      "19.12006392 [19.54503692]\n",
      "20.09388526 [19.36061142]\n",
      "20.09388526 [19.72009766]\n",
      "20.09388526 [19.67344095]\n",
      "18.76131665 [19.95794563]\n",
      "18.76131665 [19.7321939]\n",
      "18.76131665 [19.72262897]\n",
      "18.76131665 [20.23451751]\n",
      "19.5559828 [20.0803469]\n",
      "20.54640189 [19.66710347]\n",
      "20.54640189 [19.73317845]\n",
      "20.54640189 [19.31540411]\n",
      "20.54640189 [19.86598575]\n",
      "21.37487202 [21.15280596]\n",
      "21.37487202 [21.78310113]\n",
      "21.92560449 [21.73088914]\n",
      "21.92560449 [21.82397842]\n",
      "21.92560449 [20.99199079]\n",
      "21.92560449 [21.02197666]\n",
      "19.12006392 [19.87796116]\n",
      "19.12006392 [19.6387272]\n",
      "20.09388526 [19.53907263]\n",
      "20.09388526 [19.95420538]\n",
      "20.09388526 [20.18761839]\n",
      "20.09388526 [19.94990065]\n",
      "20.09388526 [19.53592574]\n",
      "16.68444594 [19.09049789]\n",
      "20.20460442 [19.69839411]\n",
      "20.20460442 [19.53129377]\n",
      "20.54640189 [19.73689458]\n",
      "20.54640189 [20.10152893]\n",
      "20.54640189 [19.50547559]\n",
      "20.54640189 [20.41307342]\n",
      "21.37487202 [21.60461352]\n",
      "21.37487202 [22.45672216]\n",
      "21.92560449 [21.85254685]\n",
      "21.92560449 [21.97454311]\n",
      "21.92560449 [21.58705264]\n",
      "21.92560449 [21.21002138]\n",
      "19.12006392 [19.64566802]\n",
      "14.35280071 [19.76692094]\n",
      "19.22017438 [19.7229528]\n",
      "19.22017438 [19.87856233]\n",
      "22.01397826 [20.95848241]\n",
      "22.01397826 [21.47048486]\n",
      "22.01397826 [21.59246736]\n",
      "21.11883753 [21.85328188]\n",
      "21.11883753 [21.85456833]\n",
      "19.14145403 [21.15336506]\n",
      "19.14145403 [20.4071002]\n",
      "19.04043704 [21.02416683]\n",
      "19.04043704 [20.34403113]\n",
      "19.04043704 [20.47229137]\n",
      "19.04043704 [18.90007745]\n",
      "19.04043704 [19.48214218]\n",
      "19.978918650000004 [19.76233559]\n",
      "19.978918650000004 [20.02005848]\n",
      "18.53854448 [20.09727421]\n",
      "18.49295756 [20.22283261]\n",
      "18.49295756 [20.50789734]\n",
      "18.49295756 [19.29896503]\n",
      "19.22017438 [19.05755864]\n",
      "19.22017438 [18.86917269]\n",
      "22.01397826 [20.99289876]\n",
      "22.01397826 [21.35129724]\n",
      "21.11883753 [21.75422469]\n",
      "21.11883753 [22.20993881]\n",
      "21.11883753 [22.13647596]\n",
      "21.11883753 [22.0396722]\n",
      "19.14145403 [20.61512015]\n",
      "19.04043704 [19.45073317]\n",
      "19.04043704 [20.52591551]\n",
      "19.04043704 [18.92523218]\n",
      "19.04043704 [19.1331439]\n",
      "19.04043704 [18.73648763]\n",
      "18.82413559 [18.83125566]\n",
      "18.82413559 [20.0646791]\n",
      "18.49295756 [20.16505718]\n",
      "18.49295756 [19.71813957]\n",
      "18.49295756 [20.18351386]\n",
      "18.49295756 [19.88391864]\n",
      "19.22017438 [19.46116935]\n",
      "20.5281915 [20.78557598]\n",
      "22.01397826 [21.36944713]\n",
      "22.01397826 [21.56165676]\n",
      "21.11883753 [22.28913956]\n",
      "21.11883753 [23.1136274]\n",
      "21.11883753 [22.69148378]\n",
      "21.11883753 [21.89736094]\n",
      "21.45196416 [20.92357838]\n",
      "19.04043704 [18.6819385]\n",
      "19.04043704 [19.40040837]\n",
      "19.04043704 [19.07152931]\n",
      "19.04043704 [18.9441641]\n",
      "18.82413559 [19.44901216]\n",
      "18.82413559 [19.32464831]\n",
      "18.49295756 [19.73168164]\n",
      "18.49295756 [20.47446789]\n",
      "18.49295756 [20.19811452]\n",
      "18.49295756 [19.52831564]\n",
      "18.49295756 [21.17809698]\n",
      "20.5281915 [20.80232878]\n",
      "19.22017438 [20.65211106]\n",
      "22.01397826 [21.67332384]\n",
      "21.11883753 [22.35633106]\n",
      "21.11883753 [21.97835233]\n",
      "21.11883753 [22.67878107]\n",
      "21.11883753 [22.00348213]\n",
      "21.11883753 [21.81593169]\n",
      "21.45196416 [20.92510893]\n",
      "19.04043704 [20.32655887]\n",
      "19.04043704 [19.57645709]\n",
      "19.04043704 [20.2277107]\n",
      "19.04043704 [19.57838705]\n",
      "18.93660341 [18.87855037]\n",
      "18.82413559 [19.51816859]\n",
      "18.49295756 [19.49709674]\n",
      "18.49295756 [19.90257504]\n",
      "18.49295756 [19.49610784]\n",
      "18.49295756 [20.99380632]\n",
      "18.49295756 [19.54011878]\n",
      "20.5281915 [20.95791897]\n",
      "20.5281915 [21.71582187]\n",
      "20.5281915 [21.91363721]\n",
      "20.27666942 [23.02229373]\n",
      "22.01397826 [21.68878506]\n",
      "21.11883753 [21.89295817]\n",
      "21.45196416 [21.72141346]\n",
      "21.45196416 [21.16986626]\n",
      "21.29995789 [20.71246662]\n",
      "21.29995789 [21.34933685]\n",
      "19.04043704 [19.39057878]\n",
      "18.93660341 [20.67529726]\n",
      "21.75291282 [22.34885623]\n",
      "21.75291282 [22.01560925]\n",
      "19.978918650000004 [19.61695702]\n",
      "18.93660341 [19.72866042]\n",
      "18.82413559 [20.50477449]\n",
      "19.348560590000005 [19.76476905]\n",
      "19.348560590000005 [20.07703125]\n",
      "20.98870444 [21.54056932]\n",
      "20.5281915 [21.39922852]\n",
      "20.5281915 [21.75729617]\n",
      "20.5281915 [22.22944594]\n",
      "20.5281915 [22.17418844]\n",
      "20.5281915 [21.49062938]\n",
      "21.384230640000002 [21.31703957]\n",
      "18.279156490000002 [17.47178621]\n",
      "18.279156490000002 [19.09225972]\n",
      "21.29995789 [21.65249429]\n",
      "22.828969220000005 [21.74419178]\n"
     ]
    },
    {
     "name": "stdout",
     "output_type": "stream",
     "text": [
      "21.80068751 [22.899353]\n",
      "21.80068751 [23.15130726]\n",
      "21.80068751 [23.18912961]\n",
      "21.75291282 [22.43755215]\n",
      "21.75291282 [21.70652181]\n",
      "16.966379970000002 [19.76671869]\n",
      "19.348560590000005 [20.59770317]\n",
      "19.348560590000005 [20.73642415]\n",
      "19.348560590000005 [20.48769919]\n",
      "19.348560590000005 [21.30411829]\n",
      "20.5281915 [21.72478996]\n",
      "20.5281915 [22.06550088]\n",
      "20.5281915 [22.01561163]\n",
      "20.5281915 [22.30912802]\n",
      "21.384230640000002 [21.40141853]\n",
      "17.508334480000002 [17.67765104]\n",
      "17.508334480000002 [18.57099114]\n",
      "17.508334480000002 [18.7196471]\n",
      "21.29995789 [21.9757044]\n",
      "21.80068751 [22.54304822]\n",
      "21.80068751 [23.14947431]\n",
      "21.80068751 [23.55787789]\n",
      "22.828969220000005 [22.30701573]\n",
      "22.828969220000005 [22.03924465]\n",
      "19.32337708 [21.40757062]\n",
      "19.32337708 [19.64330941]\n",
      "19.348560590000005 [20.07746946]\n",
      "19.348560590000005 [20.99194082]\n",
      "19.348560590000005 [20.80086512]\n",
      "19.348560590000005 [22.01687428]\n",
      "17.12552677 [17.3081691]\n",
      "19.70352954 [21.29102271]\n",
      "21.384230640000002 [21.81428372]\n",
      "21.384230640000002 [21.6924801]\n",
      "17.508334480000002 [18.7775777]\n",
      "17.508334480000002 [17.70123763]\n",
      "17.698235840000002 [17.14942622]\n",
      "17.698235840000002 [17.34622184]\n",
      "22.828969220000005 [21.95584597]\n",
      "21.80068751 [22.44041279]\n",
      "21.80068751 [23.61592013]\n",
      "21.80068751 [23.60260717]\n",
      "22.828969220000005 [22.31755428]\n",
      "22.828969220000005 [22.13317599]\n",
      "19.32337708 [23.81340869]\n",
      "19.32337708 [19.97992285]\n",
      "19.32337708 [19.80820104]\n",
      "19.348560590000005 [20.43343712]\n",
      "19.348560590000005 [20.71313339]\n",
      "19.348560590000005 [20.94450397]\n",
      "17.12552677 [18.70598631]\n",
      "17.12552677 [19.6316409]\n",
      "16.724579040000002 [19.60420058]\n",
      "17.508334480000002 [19.11857014]\n",
      "18.49480046 [17.89903441]\n",
      "17.698235840000002 [19.57859578]\n",
      "17.698235840000002 [18.43459932]\n",
      "17.698235840000002 [19.00559799]\n",
      "21.14333131 [22.67155395]\n",
      "21.80068751 [22.43825932]\n",
      "21.80068751 [23.11723942]\n",
      "21.80068751 [23.58264793]\n",
      "22.828969220000005 [22.05994954]\n",
      "22.828969220000005 [21.79450131]\n",
      "19.32337708 [22.13941231]\n",
      "19.32337708 [20.10447111]\n",
      "19.32337708 [19.88714136]\n",
      "19.348560590000005 [19.57605377]\n",
      "19.348560590000005 [19.38626196]\n",
      "19.348560590000005 [19.97317876]\n",
      "17.12552677 [18.41558696]\n",
      "17.07897127 [18.73772772]\n",
      "18.86256093 [19.3418552]\n",
      "18.86256093 [18.92616146]\n",
      "18.86256093 [19.53493633]\n",
      "18.86256093 [20.38923581]\n",
      "20.73633057 [20.26829964]\n",
      "20.281440120000003 [21.17148332]\n",
      "20.281440120000003 [21.60901271]\n",
      "22.828969220000005 [21.59700289]\n",
      "21.80068751 [21.97154447]\n",
      "21.80068751 [22.27364055]\n",
      "22.828969220000005 [21.78860223]\n",
      "19.32337708 [22.53085026]\n",
      "19.32337708 [19.92570334]\n",
      "19.32337708 [20.04204437]\n",
      "19.32337708 [19.20318959]\n",
      "19.348560590000005 [19.25760903]\n",
      "19.348560590000005 [18.86058338]\n",
      "12.333117805 [20.67231396]\n",
      "17.12552677 [18.38212873]\n",
      "18.86256093 [18.27003132]\n",
      "18.86256093 [19.09754677]\n",
      "18.86256093 [19.28974562]\n",
      "18.86256093 [20.31317829]\n",
      "18.86256093 [20.49080475]\n",
      "20.281440120000003 [21.45304651]\n",
      "20.281440120000003 [22.01592167]\n",
      "20.281440120000003 [21.35067246]\n",
      "20.281440120000003 [21.38722233]\n",
      "21.09983007 [21.70708973]\n",
      "21.09983007 [21.4823511]\n",
      "19.32337708 [21.69245486]\n",
      "19.32337708 [20.83763503]\n",
      "19.32337708 [20.83025315]\n",
      "19.32337708 [21.68812044]\n",
      "20.078939 [21.03388784]\n",
      "17.15313339 [18.50563824]\n",
      "15.14790682 [17.47131553]\n",
      "15.14790682 [18.6036119]\n",
      "17.12552677 [17.84257727]\n",
      "18.86256093 [18.14549551]\n",
      "18.86256093 [19.1847588]\n",
      "18.86256093 [19.79940941]\n",
      "18.86256093 [19.99676862]\n",
      "18.86256093 [20.26725855]\n",
      "18.86256093 [19.91093506]\n",
      "20.281440120000003 [21.43522869]\n",
      "20.281440120000003 [21.14415151]\n",
      "20.281440120000003 [20.55390261]\n",
      "20.281440120000003 [20.08257082]\n",
      "21.09983007 [20.18283145]\n",
      "21.36455951 [20.21366062]\n",
      "20.986487840000002 [20.50125966]\n",
      "19.53744751 [21.42682641]\n",
      "20.986487840000002 [21.06331145]\n",
      "20.986487840000002 [21.67953157]\n",
      "20.078939 [21.25689444]\n",
      "15.14790682 [15.71327521]\n",
      "15.14790682 [18.17587371]\n",
      "16.09147924 [16.88750668]\n",
      "18.86256093 [18.04539699]\n",
      "18.86256093 [19.24032166]\n",
      "18.86256093 [19.58968453]\n",
      "18.86256093 [19.67749423]\n",
      "18.86256093 [19.89812053]\n",
      "20.281440120000003 [20.74045079]\n",
      "20.281440120000003 [20.78338346]\n",
      "20.281440120000003 [21.1159643]\n",
      "20.281440120000003 [19.93959829]\n",
      "20.281440120000003 [19.54461209]\n",
      "20.281440120000003 [19.34643355]\n",
      "20.986487840000002 [19.95893693]\n",
      "20.986487840000002 [20.40758828]\n",
      "20.986487840000002 [20.85146258]\n",
      "20.986487840000002 [21.46340467]\n",
      "20.986487840000002 [22.26900968]\n",
      "20.986487840000002 [22.38188669]\n",
      "20.078939 [21.63780943]\n",
      "15.14790682 [18.46228842]\n",
      "16.09147924 [16.93930556]\n",
      "16.09147924 [17.63901955]\n",
      "18.86256093 [18.23156826]\n",
      "18.86256093 [19.31333996]\n",
      "18.86256093 [19.59350987]\n",
      "18.86256093 [19.41829154]\n",
      "20.73633057 [20.41366536]\n",
      "20.281440120000003 [20.18981614]\n",
      "18.68896293 [21.22152508]\n",
      "20.281440120000003 [19.79363882]\n",
      "20.281440120000003 [19.56643385]\n",
      "21.09983007 [19.67653159]\n",
      "20.986487840000002 [20.6287397]\n",
      "19.84980044 [21.14370601]\n",
      "19.84980044 [21.34296599]\n",
      "20.528693310000005 [21.83785058]\n",
      "20.528693310000005 [22.6487811]\n",
      "20.986487840000002 [21.78006005]\n",
      "20.078939 [21.17485973]\n",
      "15.14790682 [18.4540556]\n",
      "16.09147924 [15.37726579]\n",
      "16.09147924 [17.80131783]\n",
      "17.97734345 [17.59898105]\n",
      "17.97734345 [19.66522296]\n",
      "19.3009322 [19.61119811]\n",
      "19.3009322 [19.75241728]\n",
      "19.3009322 [20.37601824]\n",
      "19.64955424 [20.85527978]\n",
      "19.64955424 [20.75283393]\n",
      "20.06461835 [20.33213954]\n",
      "20.06461835 [19.69994526]\n",
      "19.84980044 [19.71622676]\n",
      "19.84980044 [21.09980356]\n",
      "19.84980044 [21.57356665]\n",
      "19.84980044 [21.39647186]\n",
      "19.84980044 [21.83368149]\n",
      "20.09738699 [22.53496117]\n",
      "20.528693310000005 [21.62772625]\n",
      "15.14790682 [15.83390626]\n",
      "15.14790682 [18.32151039]\n",
      "16.09147924 [16.36487305]\n",
      "16.09147924 [16.42459975]\n",
      "17.97734345 [18.01173791]\n",
      "19.3009322 [19.74658793]\n",
      "19.3009322 [20.2708244]\n",
      "19.3009322 [20.20548495]\n",
      "19.3009322 [20.64384389]\n",
      "19.3009322 [20.96272737]\n",
      "19.64955424 [20.88765916]\n",
      "19.64955424 [20.74622118]\n",
      "19.84980044 [20.02878866]\n",
      "19.84980044 [20.27521559]\n",
      "19.84980044 [20.64037221]\n",
      "19.84980044 [21.39281975]\n",
      "19.84980044 [21.24816339]\n",
      "19.84980044 [21.70158165]\n",
      "21.76790982 [20.9664156]\n",
      "20.528693310000005 [20.85442797]\n",
      "20.528693310000005 [20.14314257]\n",
      "14.865650010000001 [18.38043044]\n",
      "16.92518448 [17.87873356]\n",
      "19.89231062 [18.6741568]\n",
      "19.89231062 [18.93010709]\n",
      "19.3009322 [20.28647905]\n",
      "19.3009322 [20.5882974]\n",
      "19.3009322 [20.47123328]\n",
      "19.3009322 [20.63589148]\n",
      "19.3009322 [21.34281516]\n",
      "19.64955424 [21.04499114]\n",
      "19.64955424 [21.23316474]\n",
      "20.50657738 [20.25223497]\n",
      "18.109961900000002 [18.75986724]\n",
      "20.75695255 [20.07528139]\n",
      "20.09738699 [20.08617458]\n",
      "19.84980044 [21.18813766]\n",
      "19.84980044 [20.36228554]\n",
      "20.09738699 [20.82760915]\n",
      "19.42970478 [20.4373466]\n",
      "19.42970478 [19.88895884]\n",
      "14.865650010000001 [18.30055192]\n",
      "19.89231062 [19.11672904]\n",
      "19.89231062 [19.08644088]\n",
      "19.89231062 [19.72003531]\n",
      "19.3009322 [20.73237051]\n",
      "19.3009322 [21.33068026]\n",
      "19.3009322 [20.72646243]\n",
      "19.3009322 [20.71605853]\n",
      "19.3009322 [21.10303756]\n",
      "19.64955424 [21.38880284]\n",
      "19.64955424 [20.62951456]\n",
      "20.50657738 [19.7436273]\n",
      "20.06461835 [19.99841654]\n",
      "19.84980044 [20.10286147]\n",
      "20.09738699 [20.08299557]\n",
      "19.84980044 [20.45504848]\n",
      "20.09738699 [20.7421673]\n",
      "20.09738699 [20.65717175]\n",
      "20.09738699 [20.23217656]\n",
      "16.93330597 [20.17928682]\n",
      "19.42970478 [19.2080616]\n",
      "19.89231062 [19.03603478]\n",
      "19.89231062 [19.55536995]\n",
      "19.89231062 [20.27730769]\n",
      "19.3009322 [19.70395696]\n",
      "19.3009322 [21.48038998]\n",
      "19.3009322 [21.72341766]\n",
      "19.3009322 [20.85820823]\n",
      "19.64955424 [20.97403361]\n",
      "19.64955424 [20.88833629]\n",
      "20.50657738 [19.93866643]\n",
      "20.50936705 [19.85558939]\n",
      "20.50936705 [19.27763964]\n",
      "20.50936705 [19.62149508]\n",
      "20.09738699 [19.74727295]\n",
      "20.09738699 [20.42329294]\n",
      "20.09738699 [20.65202163]\n",
      "20.09738699 [20.34648888]\n",
      "16.93330597 [13.04261027]\n",
      "16.93330597 [18.77421341]\n",
      "19.42970478 [19.48630834]\n",
      "19.89231062 [19.19050607]\n",
      "19.89231062 [20.00146575]\n",
      "19.89231062 [20.91023786]\n",
      "20.83901892 [21.5013621]\n",
      "19.89231062 [20.90461173]\n",
      "19.3009322 [21.3667016]\n",
      "20.83901892 [21.61475417]\n",
      "20.50657738 [21.18160236]\n",
      "20.50657738 [20.65379269]\n",
      "20.50657738 [20.07633883]\n",
      "20.50936705 [19.6551172]\n",
      "20.50936705 [19.2633984]\n",
      "20.50936705 [19.4613018]\n",
      "20.75695255 [19.20594944]\n",
      "18.54861616 [20.48074319]\n",
      "19.42970478 [20.23032615]\n",
      "20.75695255 [19.56636383]\n",
      "19.42970478 [20.34054526]\n",
      "19.42970478 [19.56019071]\n",
      "19.42970478 [19.33220161]\n",
      "17.85774979 [20.84532187]\n",
      "19.44685334 [20.38812524]\n",
      "19.44685334 [20.08352102]\n",
      "19.44685334 [20.09681562]\n",
      "20.17950965 [19.35330888]\n",
      "20.13304091 [20.54867974]\n",
      "20.13304091 [21.11207858]\n",
      "20.13304091 [20.28480248]\n"
     ]
    },
    {
     "name": "stdout",
     "output_type": "stream",
     "text": [
      "20.13304091 [20.16840735]\n",
      "20.13304091 [21.38618963]\n",
      "22.112274980000002 [21.92334686]\n",
      "22.112274980000002 [22.82524802]\n",
      "22.112274980000002 [22.91338088]\n",
      "20.673043 [22.87889107]\n",
      "20.673043 [22.54814377]\n",
      "20.673043 [21.63869766]\n",
      "20.673043 [22.56686947]\n",
      "20.673043 [23.03517937]\n",
      "21.85074176 [20.35304388]\n",
      "18.7658434 [20.8330767]\n",
      "19.44685334 [20.74313509]\n",
      "19.44685334 [19.71457986]\n",
      "19.44685334 [19.98296165]\n",
      "19.44685334 [20.72984819]\n",
      "18.46702235 [21.64361062]\n",
      "20.97798827 [20.6490734]\n",
      "20.97798827 [20.86939815]\n",
      "20.97798827 [21.15509235]\n",
      "20.13304091 [20.81395963]\n",
      "19.21972926 [20.4485171]\n",
      "22.112274980000002 [22.17279206]\n",
      "22.112274980000002 [22.65508428]\n",
      "22.112274980000002 [23.00050513]\n",
      "20.673043 [23.55447492]\n",
      "22.112274980000002 [23.22362321]\n",
      "22.73505964 [21.75531183]\n",
      "21.95228576 [22.41692313]\n",
      "21.95228576 [21.92990601]\n",
      "21.95228576 [21.22250985]\n",
      "22.79201578 [21.54987175]\n",
      "20.85790619 [21.5524067]\n",
      "20.85790619 [21.06171743]\n",
      "19.44685334 [21.03985983]\n",
      "18.46702235 [20.76462406]\n",
      "18.46702235 [20.53130579]\n",
      "20.97798827 [20.19042465]\n",
      "20.97798827 [20.61853017]\n",
      "20.97798827 [20.48908176]\n",
      "20.13304091 [20.70805775]\n",
      "19.21972926 [21.41907953]\n",
      "22.112274980000002 [21.71357952]\n",
      "22.112274980000002 [22.23073547]\n",
      "22.112274980000002 [22.92552353]\n",
      "22.112274980000002 [22.94354317]\n",
      "22.112274980000002 [23.05612773]\n",
      "22.73505964 [21.82287379]\n",
      "21.95228576 [22.67697156]\n",
      "21.95228576 [22.24468222]\n",
      "21.95228576 [21.49820487]\n",
      "21.95228576 [21.40737278]\n",
      "19.44685334 [21.83291833]\n",
      "19.44685334 [20.4898735]\n",
      "19.44685334 [20.6401213]\n",
      "18.46702235 [21.13265422]\n",
      "18.46702235 [20.43327286]\n",
      "20.97798827 [20.02494012]\n",
      "20.97798827 [20.59749729]\n",
      "20.97798827 [20.29081865]\n",
      "20.97798827 [20.43470179]\n",
      "19.21972926 [20.30467149]\n",
      "19.21972926 [21.57269965]\n",
      "22.112274980000002 [21.76502647]\n",
      "22.112274980000002 [22.08545618]\n",
      "22.112274980000002 [21.93551766]\n",
      "22.73505964 [21.45733269]\n",
      "22.73505964 [21.57308035]\n",
      "21.95228576 [22.74992072]\n",
      "21.95228576 [22.67881594]\n",
      "21.95228576 [22.4069861]\n",
      "21.95228576 [21.77504799]\n",
      "19.92851475 [21.05068639]\n",
      "19.92851475 [21.14785303]\n",
      "19.92851475 [20.34208345]\n",
      "18.46702235 [19.75164834]\n",
      "18.46702235 [19.70695731]\n",
      "18.46702235 [20.0226332]\n",
      "18.46702235 [19.20894191]\n",
      "20.97798827 [20.31466082]\n",
      "18.5455474 [20.81772118]\n",
      "18.76268206 [19.40596126]\n",
      "19.21972926 [20.08662872]\n",
      "19.75929995 [20.97514582]\n",
      "22.73505964 [21.74842533]\n",
      "22.73505964 [21.67761328]\n",
      "22.73505964 [21.34780612]\n",
      "21.95228576 [22.11752467]\n",
      "21.95228576 [22.46723136]\n",
      "21.95228576 [23.25474928]\n",
      "21.95228576 [22.91607565]\n",
      "21.95228576 [22.45945282]\n",
      "20.85790619 [21.46682218]\n",
      "19.92851475 [20.78998819]\n",
      "19.09774239 [19.35500188]\n",
      "19.92851475 [19.81430931]\n",
      "18.46702235 [20.00856703]\n",
      "18.46702235 [19.04441613]\n",
      "18.46702235 [19.72364337]\n",
      "18.46702235 [20.02883501]\n",
      "18.76268206 [20.89412833]\n",
      "18.76268206 [20.20967618]\n",
      "18.76268206 [19.0517336]\n",
      "19.57423167 [20.08873212]\n",
      "19.57423167 [20.58548828]\n",
      "22.13723229 [21.3408834]\n",
      "22.13723229 [21.64644901]\n",
      "22.13723229 [22.20983376]\n",
      "21.95228576 [22.31305812]\n",
      "21.95228576 [22.83387069]\n",
      "21.95228576 [22.77358429]\n",
      "22.79201578 [21.84616771]\n",
      "20.25923328 [20.54731828]\n",
      "20.25923328 [19.70289542]\n",
      "20.25923328 [19.46509846]\n",
      "18.20740285 [18.37681889]\n",
      "16.736832229999997 [18.99210647]\n",
      "18.96698681 [19.21833243]\n",
      "18.96698681 [19.75114745]\n",
      "19.75929995 [19.69985693]\n",
      "19.75929995 [19.37300553]\n",
      "18.76268206 [19.94222948]\n",
      "18.76268206 [19.72578917]\n",
      "19.57423167 [19.7616944]\n",
      "19.57423167 [19.75836566]\n",
      "19.94662551 [19.36524781]\n",
      "19.94662551 [20.10034193]\n",
      "22.13723229 [21.58311279]\n",
      "22.13723229 [22.27791052]\n",
      "21.95228576 [22.0221712]\n",
      "22.79201578 [21.74786066]\n",
      "19.00976312 [19.15765027]\n",
      "19.98115184 [19.8536027]\n",
      "19.98115184 [20.47083188]\n",
      "19.98115184 [19.73150683]\n",
      "20.25923328 [19.82881559]\n",
      "16.736832229999997 [18.84266062]\n",
      "16.736832229999997 [19.76346012]\n",
      "17.27383803 [19.21896165]\n",
      "17.27383803 [17.45107549]\n",
      "19.75929995 [19.18272141]\n",
      "19.75929995 [18.90262154]\n",
      "18.49236028 [19.00054137]\n",
      "19.57423167 [19.93099733]\n",
      "19.94662551 [19.30884816]\n",
      "19.94662551 [19.71371177]\n",
      "19.94662551 [20.0027652]\n",
      "19.94662551 [19.43750513]\n",
      "19.00976312 [19.68533729]\n",
      "19.00976312 [19.84661537]\n",
      "19.00976312 [20.84081329]\n",
      "19.00976312 [19.49624619]\n",
      "19.98115184 [20.29113535]\n",
      "19.98115184 [20.70580983]\n",
      "19.98115184 [20.53115253]\n",
      "19.98115184 [20.77604408]\n",
      "20.27697598 [20.77483924]\n",
      "16.736832229999997 [17.72097576]\n",
      "17.27383803 [19.49486076]\n",
      "17.27383803 [19.36473961]\n",
      "15.896570120000002 [19.6673658]\n",
      "18.49236028 [18.87345813]\n",
      "18.49236028 [19.53078303]\n",
      "19.94662551 [19.75095185]\n",
      "19.94662551 [19.86122463]\n",
      "19.94662551 [19.88862555]\n",
      "19.94662551 [19.53401844]\n",
      "19.94662551 [19.72113004]\n",
      "19.94662551 [19.45319274]\n",
      "19.00976312 [19.30839234]\n",
      "19.00976312 [20.62923931]\n",
      "19.00976312 [20.46676306]\n",
      "19.98115184 [20.46557439]\n",
      "19.98115184 [21.62476244]\n",
      "19.98115184 [22.37602104]\n",
      "19.98115184 [22.33842014]\n",
      "20.27697598 [21.42457375]\n",
      "19.09774239 [20.6397675]\n",
      "19.27550002 [18.77077894]\n",
      "17.27383803 [19.26005264]\n",
      "18.49236028 [18.58349497]\n",
      "18.49236028 [19.83169877]\n",
      "18.49236028 [19.98695466]\n",
      "19.94662551 [19.90200396]\n",
      "19.94662551 [20.16484191]\n",
      "19.94662551 [20.60290713]\n",
      "19.94662551 [20.1985148]\n",
      "19.94662551 [19.62444088]\n",
      "19.94662551 [19.29687134]\n",
      "19.00976312 [19.73320448]\n",
      "19.00976312 [19.95730015]\n",
      "20.73413011 [21.14937232]\n",
      "19.98115184 [21.48803007]\n",
      "19.98115184 [22.93802293]\n",
      "19.98115184 [23.3442895]\n",
      "19.98115184 [22.57448762]\n",
      "20.27697598 [21.50205752]\n",
      "20.27697598 [20.80854846]\n",
      "17.27383803 [19.11743809]\n",
      "19.27550002 [18.31635252]\n",
      "17.27383803 [16.34907714]\n",
      "18.49236028 [19.74361349]\n",
      "18.49236028 [19.9458247]\n",
      "18.49236028 [20.58534178]\n",
      "19.94662551 [20.81712247]\n",
      "19.94662551 [21.31863872]\n",
      "19.94662551 [21.69190793]\n",
      "19.94662551 [21.01832891]\n",
      "19.94662551 [19.30623744]\n",
      "19.00976312 [19.3235631]\n",
      "20.73413011 [20.1534708]\n",
      "20.73413011 [21.86306496]\n",
      "19.98115184 [20.5725695]\n",
      "19.98115184 [22.15377717]\n",
      "19.98115184 [22.89156161]\n",
      "19.98115184 [22.31260018]\n",
      "20.27697598 [21.31964694]\n",
      "19.27550002 [19.11937432]\n",
      "19.27550002 [18.83167121]\n",
      "19.27550002 [19.10079743]\n",
      "17.395820060000002 [15.9507667]\n",
      "18.49236028 [20.13564344]\n",
      "18.49236028 [20.53241668]\n",
      "22.22645358 [21.74029562]\n",
      "19.77569452 [22.48325165]\n",
      "19.94662551 [22.4495468]\n",
      "19.94662551 [21.90581106]\n",
      "19.94662551 [22.04198791]\n",
      "21.007480880000003 [21.06984512]\n",
      "21.007480880000003 [20.40603569]\n",
      "20.73413011 [20.36643292]\n",
      "20.73413011 [21.47458574]\n",
      "17.0282568 [20.08197721]\n",
      "19.98115184 [21.37169272]\n",
      "19.98115184 [21.96880196]\n",
      "20.27697598 [21.76797708]\n",
      "20.27697598 [20.90426498]\n",
      "16.04027858 [16.98169132]\n",
      "17.395820060000002 [18.5822936]\n",
      "19.27550002 [19.46759169]\n",
      "19.9055057 [19.44992759]\n",
      "19.9055057 [19.84202504]\n",
      "19.77569452 [20.42084628]\n",
      "19.77569452 [21.45084932]\n",
      "19.77569452 [22.38008257]\n",
      "22.527853010000005 [22.49607001]\n",
      "21.77179087 [22.39777069]\n",
      "21.77179087 [22.23946788]\n",
      "21.77179087 [22.52481521]\n",
      "21.007480880000003 [20.89137475]\n",
      "20.73413011 [20.44564123]\n",
      "20.73413011 [20.57819869]\n",
      "17.0282568 [19.13199486]\n",
      "17.0282568 [19.33797504]\n",
      "17.0282568 [19.17901479]\n",
      "17.0282568 [17.51208743]\n",
      "17.0282568 [17.32302333]\n",
      "17.395820060000002 [18.55389638]\n",
      "17.395820060000002 [20.06447729]\n",
      "19.20893503 [20.44109957]\n",
      "18.5522904 [20.5236282]\n",
      "19.77569452 [20.16034121]\n",
      "19.77569452 [20.80559052]\n",
      "22.22645358 [21.3702987]\n",
      "21.77179087 [22.06051372]\n",
      "21.77179087 [22.35487216]\n",
      "21.77179087 [22.82764785]\n",
      "21.77179087 [22.91081047]\n",
      "22.527853010000005 [21.88043801]\n",
      "20.3379717 [20.876603]\n",
      "20.73413011 [19.98676696]\n",
      "20.73413011 [19.60036113]\n",
      "17.0282568 [19.19719016]\n",
      "17.0282568 [18.40432577]\n",
      "17.0282568 [18.22701314]\n",
      "17.0282568 [18.3955095]\n",
      "17.0282568 [19.54793156]\n",
      "17.395820060000002 [19.0417251]\n",
      "19.27307673 [20.47257952]\n",
      "19.27307673 [21.16551291]\n",
      "19.27307673 [21.12384604]\n",
      "19.9055057 [20.23305211]\n",
      "19.77569452 [20.99563774]\n",
      "19.77569452 [22.09106663]\n",
      "21.77179087 [21.51672827]\n",
      "21.77179087 [22.07068861]\n",
      "21.77179087 [22.36005758]\n",
      "21.77179087 [22.22225925]\n",
      "22.527853010000005 [21.74557381]\n",
      "22.527853010000005 [21.50756249]\n",
      "20.3379717 [19.6944605]\n",
      "14.8146761 [18.05142827]\n",
      "17.0282568 [17.08395148]\n",
      "17.0282568 [16.66449145]\n",
      "17.0282568 [18.14525875]\n",
      "17.0282568 [19.4686069]\n",
      "19.20893503 [19.31170241]\n",
      "19.27307673 [19.80476806]\n",
      "17.395820060000002 [19.08219585]\n",
      "17.395820060000002 [19.9269518]\n",
      "19.27307673 [20.70982928]\n",
      "19.27307673 [20.40007746]\n",
      "19.77569452 [20.53242672]\n",
      "19.77569452 [21.23862286]\n",
      "21.77179087 [21.23806421]\n",
      "22.527853010000005 [21.56449663]\n",
      "22.527853010000005 [21.37101309]\n",
      "22.527853010000005 [21.17147508]\n"
     ]
    },
    {
     "name": "stdout",
     "output_type": "stream",
     "text": [
      "22.527853010000005 [21.34766919]\n",
      "19.60574467 [20.77371746]\n",
      "19.60574467 [19.69274057]\n",
      "14.8146761 [19.85339913]\n",
      "19.31971162 [19.3460777]\n",
      "19.31971162 [19.33311552]\n",
      "19.31971162 [19.65409796]\n",
      "19.31971162 [19.72638531]\n",
      "18.32169511 [19.23735945]\n",
      "18.32169511 [19.85500544]\n",
      "20.126200290000003 [20.33527936]\n",
      "20.30364392 [20.62417698]\n",
      "19.9055057 [19.6618975]\n",
      "19.9055057 [19.54719236]\n",
      "17.7612944 [20.896821]\n",
      "20.59806521 [20.59685331]\n",
      "20.59806521 [21.17502372]\n",
      "21.3767467 [21.56926861]\n",
      "21.3767467 [21.63103642]\n",
      "22.527853010000005 [20.83887729]\n",
      "22.527853010000005 [20.72463779]\n",
      "19.58888754 [19.74287559]\n",
      "19.60574467 [19.21051531]\n",
      "20.3379717 [19.00894836]\n",
      "19.31971162 [20.27086318]\n",
      "19.31971162 [19.90816844]\n",
      "19.31971162 [19.89757901]\n",
      "16.955040020000002 [20.80002598]\n",
      "18.32169511 [19.58217519]\n",
      "18.32169511 [20.85424118]\n",
      "18.32169511 [21.12993883]\n",
      "20.126200290000003 [20.83934907]\n",
      "20.30364392 [19.43934016]\n",
      "17.81923562 [19.11403444]\n",
      "20.30364392 [19.92524093]\n",
      "20.59806521 [20.58338867]\n",
      "21.3767467 [21.58842862]\n",
      "21.3767467 [21.70648811]\n",
      "21.3767467 [22.31156417]\n",
      "19.58888754 [20.73297098]\n",
      "19.58888754 [19.91890493]\n",
      "19.58888754 [20.5386656]\n",
      "19.58888754 [20.46683922]\n",
      "16.07617956 [21.21171565]\n",
      "19.31971162 [20.72132687]\n",
      "19.31971162 [20.48489437]\n",
      "18.32169511 [21.10790481]\n",
      "16.955040020000002 [18.56047231]\n",
      "18.32169511 [19.42592765]\n",
      "18.32169511 [21.3661735]\n",
      "18.32169511 [20.91247104]\n",
      "20.126200290000003 [20.31616631]\n",
      "17.81923562 [20.99051446]\n",
      "17.81923562 [19.38644122]\n",
      "20.30364392 [20.68986565]\n",
      "21.3767467 [22.45652393]\n",
      "21.3767467 [22.93088282]\n",
      "21.3767467 [22.65055636]\n",
      "19.58888754 [16.18513982]\n",
      "19.58888754 [22.50980475]\n",
      "19.58888754 [21.56177511]\n",
      "19.58888754 [22.08882224]\n",
      "19.58888754 [21.91449962]\n",
      "17.31698468 [19.39437888]\n",
      "10.308474867000001 [16.26388943]\n",
      "15.65951913 [19.85070295]\n",
      "18.32169511 [20.05617569]\n",
      "20.126200290000003 [19.25453615]\n",
      "20.126200290000003 [19.3771754]\n",
      "18.32169511 [21.23025439]\n",
      "18.32169511 [18.99606556]\n",
      "20.126200290000003 [20.27750337]\n",
      "17.81923562 [17.49771025]\n",
      "17.81923562 [19.87955674]\n",
      "17.81923562 [19.38461412]\n",
      "21.3767467 [22.88482409]\n",
      "21.3767467 [23.10802651]\n",
      "21.3767467 [23.40179252]\n",
      "19.58888754 [20.79344955]\n",
      "19.58888754 [22.66664617]\n",
      "19.58888754 [21.76365855]\n",
      "19.58888754 [23.82456303]\n",
      "17.31698468 [20.9788919]\n",
      "17.31698468 [20.06169868]\n",
      "19.30870475 [22.50450909]\n",
      "16.84704925 [15.545294]\n",
      "20.63308317 [20.81743873]\n",
      "19.84635913 [19.83689294]\n",
      "19.84635913 [19.94854916]\n",
      "20.31292395 [19.65366428]\n",
      "20.31292395 [19.34342244]\n",
      "16.55492599 [20.74561978]\n",
      "16.55492599 [19.63246836]\n",
      "19.15931535 [20.49424028]\n",
      "19.15931535 [20.18250668]\n",
      "19.15931535 [20.78302374]\n",
      "19.15931535 [20.94849845]\n",
      "19.15931535 [20.25868282]\n",
      "21.56547686 [21.97716102]\n",
      "21.56547686 [22.4180768]\n",
      "21.56547686 [22.52263527]\n",
      "21.56547686 [22.62908863]\n",
      "21.69675827 [21.92457411]\n",
      "21.69675827 [21.76142432]\n",
      "22.392493 [21.69335949]\n",
      "22.392493 [21.50861561]\n",
      "22.392493 [21.3124448]\n",
      "18.492186620000002 [20.91077382]\n",
      "19.84635913 [19.94585082]\n",
      "20.63308317 [19.41248931]\n",
      "18.037847230000004 [20.99537955]\n",
      "18.037847230000004 [20.42756979]\n",
      "18.037847230000004 [21.01760333]\n",
      "19.15931535 [20.12108642]\n",
      "19.15931535 [19.99209005]\n",
      "19.15931535 [19.70553723]\n",
      "19.15931535 [20.15994642]\n",
      "19.15931535 [20.49818378]\n",
      "19.22018205 [20.48327351]\n",
      "22.08996237 [22.03123874]\n",
      "21.56547686 [22.36743707]\n",
      "21.56547686 [22.9159858]\n",
      "21.69675827 [22.89606213]\n",
      "21.69675827 [22.36395885]\n",
      "22.392493 [22.09313668]\n",
      "22.392493 [21.99555904]\n",
      "22.392493 [21.77935829]\n",
      "18.492186620000002 [20.45585224]\n",
      "20.63308317 [20.70460364]\n",
      "20.63308317 [20.21807056]\n",
      "18.037847230000004 [21.12589616]\n",
      "18.037847230000004 [19.741336]\n",
      "18.037847230000004 [21.80784971]\n",
      "19.15931535 [19.88224998]\n",
      "19.15931535 [19.77648576]\n",
      "19.15931535 [19.67057563]\n",
      "19.15931535 [20.07528205]\n",
      "19.22018205 [20.58709335]\n",
      "19.22018205 [21.73651716]\n",
      "21.56547686 [22.14430001]\n",
      "21.56547686 [22.3832001]\n",
      "21.56547686 [22.96860055]\n",
      "21.69675827 [23.00640255]\n",
      "21.69675827 [22.66640412]\n",
      "20.63308317 [23.35464046]\n",
      "22.392493 [22.20477026]\n",
      "22.392493 [21.77262918]\n",
      "18.492186620000002 [19.85142223]\n",
      "20.63308317 [21.42037266]\n",
      "20.63308317 [20.7487053]\n",
      "18.037847230000004 [19.93227184]\n",
      "18.037847230000004 [19.69868222]\n",
      "18.037847230000004 [19.58935471]\n",
      "19.15931535 [19.87491576]\n",
      "19.15931535 [19.39962173]\n",
      "19.15931535 [19.08304798]\n",
      "19.15931535 [19.52740129]\n",
      "19.22018205 [20.11258787]\n",
      "19.22018205 [20.85435031]\n",
      "21.56547686 [21.97191862]\n",
      "21.69675827 [22.50287794]\n",
      "21.69675827 [22.5981273]\n",
      "21.69675827 [22.89571045]\n",
      "21.69675827 [23.01519553]\n",
      "22.392493 [22.25096493]\n",
      "20.63308317 [23.5208578]\n",
      "22.392493 [21.74443163]\n",
      "19.84635913 [21.43633325]\n",
      "20.63308317 [21.72026997]\n",
      "18.037847230000004 [21.23409054]\n",
      "18.037847230000004 [20.73352195]\n",
      "18.037847230000004 [19.83824273]\n",
      "18.037847230000004 [18.37846287]\n",
      "18.81105367 [18.8373075]\n",
      "19.15931535 [18.52232778]\n",
      "18.24656487 [19.12463152]\n",
      "16.76022214 [19.68812084]\n",
      "16.76022214 [20.31853939]\n",
      "16.76022214 [19.87960536]\n",
      "22.08996237 [21.60014557]\n",
      "21.69675827 [21.86709168]\n",
      "21.69675827 [22.41841173]\n",
      "21.69675827 [22.69861781]\n",
      "21.69675827 [23.05985904]\n"
     ]
    },
    {
     "ename": "KeyboardInterrupt",
     "evalue": "",
     "output_type": "error",
     "traceback": [
      "\u001b[0;31m---------------------------------------------------------------------------\u001b[0m",
      "\u001b[0;31mKeyboardInterrupt\u001b[0m                         Traceback (most recent call last)",
      "\u001b[0;32m<ipython-input-23-58d93773e38d>\u001b[0m in \u001b[0;36m<module>\u001b[0;34m\u001b[0m\n\u001b[1;32m     14\u001b[0m         \u001b[0;32mfor\u001b[0m \u001b[0mbpoint\u001b[0m \u001b[0;32min\u001b[0m \u001b[0mbpoints\u001b[0m\u001b[0;34m:\u001b[0m\u001b[0;34m\u001b[0m\u001b[0;34m\u001b[0m\u001b[0m\n\u001b[1;32m     15\u001b[0m             \u001b[0mnewstruct\u001b[0m \u001b[0;34m=\u001b[0m \u001b[0mbase\u001b[0m\u001b[0;34m.\u001b[0m\u001b[0mcopy\u001b[0m\u001b[0;34m(\u001b[0m\u001b[0;34m)\u001b[0m\u001b[0;34m\u001b[0m\u001b[0;34m\u001b[0m\u001b[0m\n\u001b[0;32m---> 16\u001b[0;31m             \u001b[0mzhat\u001b[0m \u001b[0;34m=\u001b[0m \u001b[0mpredictz\u001b[0m\u001b[0;34m(\u001b[0m\u001b[0mnewstruct\u001b[0m\u001b[0;34m,\u001b[0m \u001b[0mapoint\u001b[0m\u001b[0;34m,\u001b[0m \u001b[0mbpoint\u001b[0m\u001b[0;34m,\u001b[0m \u001b[0mzmodel\u001b[0m \u001b[0;34m=\u001b[0m \u001b[0mzmodel\u001b[0m\u001b[0;34m,\u001b[0m \u001b[0mspecies\u001b[0m \u001b[0;34m=\u001b[0m \u001b[0mspecies\u001b[0m\u001b[0;34m)\u001b[0m\u001b[0;34m\u001b[0m\u001b[0;34m\u001b[0m\u001b[0m\n\u001b[0m\u001b[1;32m     17\u001b[0m             \u001b[0mnewstruct\u001b[0m\u001b[0;34m.\u001b[0m\u001b[0mappend\u001b[0m\u001b[0;34m(\u001b[0m\u001b[0mAtom\u001b[0m\u001b[0;34m(\u001b[0m\u001b[0;34m'He'\u001b[0m\u001b[0;34m,\u001b[0m \u001b[0mposition\u001b[0m \u001b[0;34m=\u001b[0m \u001b[0;34m(\u001b[0m\u001b[0mapoint\u001b[0m\u001b[0;34m,\u001b[0m \u001b[0mbpoint\u001b[0m\u001b[0;34m,\u001b[0m \u001b[0mzhat\u001b[0m\u001b[0;34m)\u001b[0m\u001b[0;34m)\u001b[0m\u001b[0;34m)\u001b[0m\u001b[0;34m\u001b[0m\u001b[0;34m\u001b[0m\u001b[0m\n\u001b[1;32m     18\u001b[0m             \u001b[0m_gridpoints\u001b[0m \u001b[0;34m+=\u001b[0m \u001b[0;34m[\u001b[0m\u001b[0mnewstruct\u001b[0m\u001b[0;34m]\u001b[0m\u001b[0;34m\u001b[0m\u001b[0;34m\u001b[0m\u001b[0m\n",
      "\u001b[0;32m~/Desktop/researchtemp/researchscripts/dependencies.py\u001b[0m in \u001b[0;36mpredictz\u001b[0;34m(surf, x, y, zmodel, species)\u001b[0m\n\u001b[1;32m    268\u001b[0m         \u001b[0;32mif\u001b[0m \u001b[0matom\u001b[0m\u001b[0;34m.\u001b[0m\u001b[0msymbol\u001b[0m \u001b[0;34m==\u001b[0m \u001b[0;34m\"He\"\u001b[0m\u001b[0;34m:\u001b[0m \u001b[0;31m# don't use He position to determine max Z position\u001b[0m\u001b[0;34m\u001b[0m\u001b[0;34m\u001b[0m\u001b[0m\n\u001b[1;32m    269\u001b[0m             \u001b[0;32mcontinue\u001b[0m\u001b[0;34m\u001b[0m\u001b[0;34m\u001b[0m\u001b[0m\n\u001b[0;32m--> 270\u001b[0;31m         \u001b[0m_x\u001b[0m\u001b[0;34m,\u001b[0m \u001b[0m_y\u001b[0m\u001b[0;34m,\u001b[0m \u001b[0m_z\u001b[0m \u001b[0;34m=\u001b[0m \u001b[0matom\u001b[0m\u001b[0;34m.\u001b[0m\u001b[0mposition\u001b[0m\u001b[0;34m\u001b[0m\u001b[0;34m\u001b[0m\u001b[0m\n\u001b[0m\u001b[1;32m    271\u001b[0m         \u001b[0;32mif\u001b[0m \u001b[0;34m(\u001b[0m\u001b[0;34m(\u001b[0m\u001b[0mx\u001b[0m \u001b[0;34m-\u001b[0m \u001b[0m_x\u001b[0m\u001b[0;34m)\u001b[0m\u001b[0;34m**\u001b[0m\u001b[0;36m2\u001b[0m \u001b[0;34m+\u001b[0m \u001b[0;34m(\u001b[0m\u001b[0my\u001b[0m \u001b[0;34m-\u001b[0m \u001b[0m_y\u001b[0m\u001b[0;34m)\u001b[0m\u001b[0;34m**\u001b[0m\u001b[0;36m2\u001b[0m\u001b[0;34m)\u001b[0m \u001b[0;34m**\u001b[0m \u001b[0;36m0.5\u001b[0m \u001b[0;34m<\u001b[0m \u001b[0msearchR\u001b[0m\u001b[0;34m:\u001b[0m\u001b[0;34m\u001b[0m\u001b[0;34m\u001b[0m\u001b[0m\n\u001b[1;32m    272\u001b[0m             \u001b[0;32mif\u001b[0m \u001b[0m_z\u001b[0m \u001b[0;34m>\u001b[0m \u001b[0mmaxz\u001b[0m\u001b[0;34m:\u001b[0m\u001b[0;34m\u001b[0m\u001b[0;34m\u001b[0m\u001b[0m\n",
      "\u001b[0;32m~/miniconda3/lib/python3.7/site-packages/ase/atom.py\u001b[0m in \u001b[0;36mgetter\u001b[0;34m(self)\u001b[0m\n\u001b[1;32m     20\u001b[0m \u001b[0;34m\u001b[0m\u001b[0m\n\u001b[1;32m     21\u001b[0m     \u001b[0;32mdef\u001b[0m \u001b[0mgetter\u001b[0m\u001b[0;34m(\u001b[0m\u001b[0mself\u001b[0m\u001b[0;34m)\u001b[0m\u001b[0;34m:\u001b[0m\u001b[0;34m\u001b[0m\u001b[0;34m\u001b[0m\u001b[0m\n\u001b[0;32m---> 22\u001b[0;31m         \u001b[0;32mreturn\u001b[0m \u001b[0mself\u001b[0m\u001b[0;34m.\u001b[0m\u001b[0mget\u001b[0m\u001b[0;34m(\u001b[0m\u001b[0mname\u001b[0m\u001b[0;34m)\u001b[0m\u001b[0;34m\u001b[0m\u001b[0;34m\u001b[0m\u001b[0m\n\u001b[0m\u001b[1;32m     23\u001b[0m \u001b[0;34m\u001b[0m\u001b[0m\n\u001b[1;32m     24\u001b[0m     \u001b[0;32mdef\u001b[0m \u001b[0msetter\u001b[0m\u001b[0;34m(\u001b[0m\u001b[0mself\u001b[0m\u001b[0;34m,\u001b[0m \u001b[0mvalue\u001b[0m\u001b[0;34m)\u001b[0m\u001b[0;34m:\u001b[0m\u001b[0;34m\u001b[0m\u001b[0;34m\u001b[0m\u001b[0m\n",
      "\u001b[0;32m~/miniconda3/lib/python3.7/site-packages/ase/atom.py\u001b[0m in \u001b[0;36mget\u001b[0;34m(self, name)\u001b[0m\n\u001b[1;32m    144\u001b[0m     \u001b[0;32mdef\u001b[0m \u001b[0mget\u001b[0m\u001b[0;34m(\u001b[0m\u001b[0mself\u001b[0m\u001b[0;34m,\u001b[0m \u001b[0mname\u001b[0m\u001b[0;34m)\u001b[0m\u001b[0;34m:\u001b[0m\u001b[0;34m\u001b[0m\u001b[0;34m\u001b[0m\u001b[0m\n\u001b[1;32m    145\u001b[0m         \u001b[0;34m\"\"\"Get name attribute, return default if not explicitely set.\"\"\"\u001b[0m\u001b[0;34m\u001b[0m\u001b[0;34m\u001b[0m\u001b[0m\n\u001b[0;32m--> 146\u001b[0;31m         \u001b[0mvalue\u001b[0m \u001b[0;34m=\u001b[0m \u001b[0mself\u001b[0m\u001b[0;34m.\u001b[0m\u001b[0mget_raw\u001b[0m\u001b[0;34m(\u001b[0m\u001b[0mname\u001b[0m\u001b[0;34m)\u001b[0m\u001b[0;34m\u001b[0m\u001b[0;34m\u001b[0m\u001b[0m\n\u001b[0m\u001b[1;32m    147\u001b[0m         \u001b[0;32mif\u001b[0m \u001b[0mvalue\u001b[0m \u001b[0;32mis\u001b[0m \u001b[0;32mNone\u001b[0m\u001b[0;34m:\u001b[0m\u001b[0;34m\u001b[0m\u001b[0;34m\u001b[0m\u001b[0m\n\u001b[1;32m    148\u001b[0m             \u001b[0;32mif\u001b[0m \u001b[0mname\u001b[0m \u001b[0;34m==\u001b[0m \u001b[0;34m'mass'\u001b[0m\u001b[0;34m:\u001b[0m\u001b[0;34m\u001b[0m\u001b[0;34m\u001b[0m\u001b[0m\n",
      "\u001b[0;32m~/miniconda3/lib/python3.7/site-packages/ase/atom.py\u001b[0m in \u001b[0;36mget_raw\u001b[0;34m(self, name)\u001b[0m\n\u001b[1;32m    138\u001b[0m         \u001b[0mplural\u001b[0m \u001b[0;34m=\u001b[0m \u001b[0mnames\u001b[0m\u001b[0;34m[\u001b[0m\u001b[0mname\u001b[0m\u001b[0;34m]\u001b[0m\u001b[0;34m[\u001b[0m\u001b[0;36m0\u001b[0m\u001b[0;34m]\u001b[0m\u001b[0;34m\u001b[0m\u001b[0;34m\u001b[0m\u001b[0m\n\u001b[1;32m    139\u001b[0m         \u001b[0;32mif\u001b[0m \u001b[0mplural\u001b[0m \u001b[0;32min\u001b[0m \u001b[0mself\u001b[0m\u001b[0;34m.\u001b[0m\u001b[0matoms\u001b[0m\u001b[0;34m.\u001b[0m\u001b[0marrays\u001b[0m\u001b[0;34m:\u001b[0m\u001b[0;34m\u001b[0m\u001b[0;34m\u001b[0m\u001b[0m\n\u001b[0;32m--> 140\u001b[0;31m             \u001b[0;32mreturn\u001b[0m \u001b[0mself\u001b[0m\u001b[0;34m.\u001b[0m\u001b[0matoms\u001b[0m\u001b[0;34m.\u001b[0m\u001b[0marrays\u001b[0m\u001b[0;34m[\u001b[0m\u001b[0mplural\u001b[0m\u001b[0;34m]\u001b[0m\u001b[0;34m[\u001b[0m\u001b[0mself\u001b[0m\u001b[0;34m.\u001b[0m\u001b[0mindex\u001b[0m\u001b[0;34m]\u001b[0m\u001b[0;34m\u001b[0m\u001b[0;34m\u001b[0m\u001b[0m\n\u001b[0m\u001b[1;32m    141\u001b[0m         \u001b[0;32melse\u001b[0m\u001b[0;34m:\u001b[0m\u001b[0;34m\u001b[0m\u001b[0;34m\u001b[0m\u001b[0m\n\u001b[1;32m    142\u001b[0m             \u001b[0;32mreturn\u001b[0m \u001b[0;32mNone\u001b[0m\u001b[0;34m\u001b[0m\u001b[0;34m\u001b[0m\u001b[0m\n",
      "\u001b[0;31mKeyboardInterrupt\u001b[0m: "
     ]
    }
   ],
   "source": [
    "# assume cubic structure for cell\n",
    "\n",
    "gridpoints = []\n",
    "for base in baseslabs:\n",
    "    a,b,c = base.cell\n",
    "    a,b,c = np.linalg.norm(a), np.linalg.norm(b), np.linalg.norm(c)\n",
    "    npoints = 20\n",
    "    apoints = np.linspace(0, a, npoints)\n",
    "    bpoints = np.linspace(0, b, npoints)\n",
    "\n",
    "\n",
    "    _gridpoints = []\n",
    "    for apoint in apoints:\n",
    "        for bpoint in bpoints:\n",
    "            newstruct = base.copy()\n",
    "            zhat = predictz(newstruct, apoint, bpoint, zmodel = zmodel, species = species)\n",
    "            newstruct.append(Atom('He', position = (apoint, bpoint, zhat)))\n",
    "            _gridpoints += [newstruct]\n",
    "\n",
    "\n",
    "    _gridpoints = pd.Series(_gridpoints)\n",
    "    _gridpoints = pd.DataFrame({'geom': _gridpoints})\n",
    "    gridpoints += [_gridpoints]"
   ]
  },
  {
   "cell_type": "code",
   "execution_count": 198,
   "metadata": {
    "ExecuteTime": {
     "end_time": "2021-01-01T03:58:40.685463Z",
     "start_time": "2021-01-01T03:58:40.559804Z"
    }
   },
   "outputs": [],
   "source": [
    "with open('gridpoints.pkl', 'wb') as f:\n",
    "    pickle.dump(gridpoints, f)"
   ]
  },
  {
   "cell_type": "code",
   "execution_count": 161,
   "metadata": {
    "ExecuteTime": {
     "end_time": "2021-01-01T03:19:57.433434Z",
     "start_time": "2021-01-01T03:19:56.870550Z"
    }
   },
   "outputs": [],
   "source": [
    "view(gridpoints[1]['geom'])"
   ]
  },
  {
   "cell_type": "code",
   "execution_count": 171,
   "metadata": {
    "ExecuteTime": {
     "end_time": "2021-01-01T03:40:26.553317Z",
     "start_time": "2021-01-01T03:40:26.421345Z"
    }
   },
   "outputs": [],
   "source": [
    "view(gridpoints[0]['geom'][0])"
   ]
  },
  {
   "cell_type": "code",
   "execution_count": 182,
   "metadata": {
    "ExecuteTime": {
     "end_time": "2021-01-01T03:51:36.045546Z",
     "start_time": "2021-01-01T03:51:35.886671Z"
    }
   },
   "outputs": [],
   "source": [
    "view(gridpoints[0]['geom'][0])"
   ]
  },
  {
   "cell_type": "code",
   "execution_count": 178,
   "metadata": {
    "ExecuteTime": {
     "end_time": "2021-01-01T03:51:11.110864Z",
     "start_time": "2021-01-01T03:51:07.348151Z"
    }
   },
   "outputs": [
    {
     "data": {
      "text/plain": [
       "15400"
      ]
     },
     "execution_count": 178,
     "metadata": {},
     "output_type": "execute_result"
    }
   ],
   "source": [
    "len(getSOAPs(gridpoints[0]['geom'])[0])"
   ]
  },
  {
   "cell_type": "code",
   "execution_count": 199,
   "metadata": {
    "ExecuteTime": {
     "end_time": "2021-01-01T03:58:59.590882Z",
     "start_time": "2021-01-01T03:58:43.412329Z"
    }
   },
   "outputs": [
    {
     "data": {
      "text/html": [
       "<div>\n",
       "<style scoped>\n",
       "    .dataframe tbody tr th:only-of-type {\n",
       "        vertical-align: middle;\n",
       "    }\n",
       "\n",
       "    .dataframe tbody tr th {\n",
       "        vertical-align: top;\n",
       "    }\n",
       "\n",
       "    .dataframe thead th {\n",
       "        text-align: right;\n",
       "    }\n",
       "</style>\n",
       "<table border=\"1\" class=\"dataframe\">\n",
       "  <thead>\n",
       "    <tr style=\"text-align: right;\">\n",
       "      <th></th>\n",
       "      <th>geom</th>\n",
       "      <th>SOAP</th>\n",
       "    </tr>\n",
       "  </thead>\n",
       "  <tbody>\n",
       "    <tr>\n",
       "      <th>0</th>\n",
       "      <td>(Atom('H', [5.687816897, 11.8095906, 0.4501787...</td>\n",
       "      <td>[7.004225e-08, -3.2115395e-07, 2.1015839e-07, ...</td>\n",
       "    </tr>\n",
       "    <tr>\n",
       "      <th>1</th>\n",
       "      <td>(Atom('H', [5.687816897, 11.8095906, 0.4501787...</td>\n",
       "      <td>[5.6426088e-12, -1.6839649e-10, 1.4222811e-09,...</td>\n",
       "    </tr>\n",
       "    <tr>\n",
       "      <th>2</th>\n",
       "      <td>(Atom('H', [5.687816897, 11.8095906, 0.4501787...</td>\n",
       "      <td>[9.25844e-10, -3.2435095e-09, -9.628624e-09, 1...</td>\n",
       "    </tr>\n",
       "    <tr>\n",
       "      <th>3</th>\n",
       "      <td>(Atom('H', [5.687816897, 11.8095906, 0.4501787...</td>\n",
       "      <td>[2.9114322e-09, 1.17317445e-08, -2.0268891e-07...</td>\n",
       "    </tr>\n",
       "    <tr>\n",
       "      <th>4</th>\n",
       "      <td>(Atom('H', [5.687816897, 11.8095906, 0.4501787...</td>\n",
       "      <td>[2.8485478e-09, -1.2005167e-08, -1.0927992e-08...</td>\n",
       "    </tr>\n",
       "  </tbody>\n",
       "</table>\n",
       "</div>"
      ],
      "text/plain": [
       "                                                geom  \\\n",
       "0  (Atom('H', [5.687816897, 11.8095906, 0.4501787...   \n",
       "1  (Atom('H', [5.687816897, 11.8095906, 0.4501787...   \n",
       "2  (Atom('H', [5.687816897, 11.8095906, 0.4501787...   \n",
       "3  (Atom('H', [5.687816897, 11.8095906, 0.4501787...   \n",
       "4  (Atom('H', [5.687816897, 11.8095906, 0.4501787...   \n",
       "\n",
       "                                                SOAP  \n",
       "0  [7.004225e-08, -3.2115395e-07, 2.1015839e-07, ...  \n",
       "1  [5.6426088e-12, -1.6839649e-10, 1.4222811e-09,...  \n",
       "2  [9.25844e-10, -3.2435095e-09, -9.628624e-09, 1...  \n",
       "3  [2.9114322e-09, 1.17317445e-08, -2.0268891e-07...  \n",
       "4  [2.8485478e-09, -1.2005167e-08, -1.0927992e-08...  "
      ]
     },
     "execution_count": 199,
     "metadata": {},
     "output_type": "execute_result"
    }
   ],
   "source": [
    "gridpoints_dfs = [pd.concat([i, getSOAPs(i['geom'])], axis = 1) \n",
    "              for i in gridpoints]\n",
    "gridpoints_dfs[0].head()"
   ]
  },
  {
   "cell_type": "code",
   "execution_count": 200,
   "metadata": {
    "ExecuteTime": {
     "end_time": "2021-01-01T03:59:15.159421Z",
     "start_time": "2021-01-01T03:59:03.314420Z"
    }
   },
   "outputs": [
    {
     "data": {
      "text/html": [
       "<div>\n",
       "<style scoped>\n",
       "    .dataframe tbody tr th:only-of-type {\n",
       "        vertical-align: middle;\n",
       "    }\n",
       "\n",
       "    .dataframe tbody tr th {\n",
       "        vertical-align: top;\n",
       "    }\n",
       "\n",
       "    .dataframe thead th {\n",
       "        text-align: right;\n",
       "    }\n",
       "</style>\n",
       "<table border=\"1\" class=\"dataframe\">\n",
       "  <thead>\n",
       "    <tr style=\"text-align: right;\">\n",
       "      <th></th>\n",
       "      <th>0</th>\n",
       "      <th>1</th>\n",
       "      <th>2</th>\n",
       "      <th>3</th>\n",
       "      <th>4</th>\n",
       "      <th>5</th>\n",
       "      <th>6</th>\n",
       "      <th>7</th>\n",
       "      <th>8</th>\n",
       "      <th>9</th>\n",
       "      <th>...</th>\n",
       "      <th>15390</th>\n",
       "      <th>15391</th>\n",
       "      <th>15392</th>\n",
       "      <th>15393</th>\n",
       "      <th>15394</th>\n",
       "      <th>15395</th>\n",
       "      <th>15396</th>\n",
       "      <th>15397</th>\n",
       "      <th>15398</th>\n",
       "      <th>15399</th>\n",
       "    </tr>\n",
       "  </thead>\n",
       "  <tbody>\n",
       "    <tr>\n",
       "      <th>0</th>\n",
       "      <td>7.004225e-08</td>\n",
       "      <td>-3.211539e-07</td>\n",
       "      <td>2.101584e-07</td>\n",
       "      <td>3.432295e-06</td>\n",
       "      <td>-2.980652e-06</td>\n",
       "      <td>-9.307265e-06</td>\n",
       "      <td>-3.354767e-06</td>\n",
       "      <td>9.228272e-06</td>\n",
       "      <td>-7.605903e-06</td>\n",
       "      <td>1.848075e-05</td>\n",
       "      <td>...</td>\n",
       "      <td>0.0</td>\n",
       "      <td>0.0</td>\n",
       "      <td>0.0</td>\n",
       "      <td>0.0</td>\n",
       "      <td>0.0</td>\n",
       "      <td>0.0</td>\n",
       "      <td>0.0</td>\n",
       "      <td>0.0</td>\n",
       "      <td>0.0</td>\n",
       "      <td>0.0</td>\n",
       "    </tr>\n",
       "    <tr>\n",
       "      <th>1</th>\n",
       "      <td>5.642609e-12</td>\n",
       "      <td>-1.683965e-10</td>\n",
       "      <td>1.422281e-09</td>\n",
       "      <td>-5.136852e-09</td>\n",
       "      <td>3.752760e-10</td>\n",
       "      <td>4.284997e-08</td>\n",
       "      <td>-7.215085e-08</td>\n",
       "      <td>3.890247e-08</td>\n",
       "      <td>-8.654467e-08</td>\n",
       "      <td>9.102256e-08</td>\n",
       "      <td>...</td>\n",
       "      <td>0.0</td>\n",
       "      <td>0.0</td>\n",
       "      <td>0.0</td>\n",
       "      <td>0.0</td>\n",
       "      <td>0.0</td>\n",
       "      <td>0.0</td>\n",
       "      <td>0.0</td>\n",
       "      <td>0.0</td>\n",
       "      <td>0.0</td>\n",
       "      <td>0.0</td>\n",
       "    </tr>\n",
       "    <tr>\n",
       "      <th>2</th>\n",
       "      <td>9.258440e-10</td>\n",
       "      <td>-3.243509e-09</td>\n",
       "      <td>-9.628624e-09</td>\n",
       "      <td>1.316131e-07</td>\n",
       "      <td>-3.586892e-07</td>\n",
       "      <td>-1.985860e-07</td>\n",
       "      <td>1.502827e-06</td>\n",
       "      <td>-1.411944e-06</td>\n",
       "      <td>1.393362e-06</td>\n",
       "      <td>-1.243065e-06</td>\n",
       "      <td>...</td>\n",
       "      <td>0.0</td>\n",
       "      <td>0.0</td>\n",
       "      <td>0.0</td>\n",
       "      <td>0.0</td>\n",
       "      <td>0.0</td>\n",
       "      <td>0.0</td>\n",
       "      <td>0.0</td>\n",
       "      <td>0.0</td>\n",
       "      <td>0.0</td>\n",
       "      <td>0.0</td>\n",
       "    </tr>\n",
       "    <tr>\n",
       "      <th>3</th>\n",
       "      <td>2.911432e-09</td>\n",
       "      <td>1.173174e-08</td>\n",
       "      <td>-2.026889e-07</td>\n",
       "      <td>7.905552e-07</td>\n",
       "      <td>-3.057746e-07</td>\n",
       "      <td>-1.512161e-06</td>\n",
       "      <td>-1.893466e-07</td>\n",
       "      <td>1.209419e-06</td>\n",
       "      <td>-2.041668e-06</td>\n",
       "      <td>3.187194e-06</td>\n",
       "      <td>...</td>\n",
       "      <td>0.0</td>\n",
       "      <td>0.0</td>\n",
       "      <td>0.0</td>\n",
       "      <td>0.0</td>\n",
       "      <td>0.0</td>\n",
       "      <td>0.0</td>\n",
       "      <td>0.0</td>\n",
       "      <td>0.0</td>\n",
       "      <td>0.0</td>\n",
       "      <td>0.0</td>\n",
       "    </tr>\n",
       "    <tr>\n",
       "      <th>4</th>\n",
       "      <td>2.848548e-09</td>\n",
       "      <td>-1.200517e-08</td>\n",
       "      <td>-1.092799e-08</td>\n",
       "      <td>3.326298e-07</td>\n",
       "      <td>-1.031892e-06</td>\n",
       "      <td>-1.691209e-07</td>\n",
       "      <td>2.250036e-06</td>\n",
       "      <td>3.470285e-07</td>\n",
       "      <td>7.772144e-07</td>\n",
       "      <td>-3.185645e-06</td>\n",
       "      <td>...</td>\n",
       "      <td>0.0</td>\n",
       "      <td>0.0</td>\n",
       "      <td>0.0</td>\n",
       "      <td>0.0</td>\n",
       "      <td>0.0</td>\n",
       "      <td>0.0</td>\n",
       "      <td>0.0</td>\n",
       "      <td>0.0</td>\n",
       "      <td>0.0</td>\n",
       "      <td>0.0</td>\n",
       "    </tr>\n",
       "  </tbody>\n",
       "</table>\n",
       "<p>5 rows × 15400 columns</p>\n",
       "</div>"
      ],
      "text/plain": [
       "          0             1             2             3             4      \\\n",
       "0  7.004225e-08 -3.211539e-07  2.101584e-07  3.432295e-06 -2.980652e-06   \n",
       "1  5.642609e-12 -1.683965e-10  1.422281e-09 -5.136852e-09  3.752760e-10   \n",
       "2  9.258440e-10 -3.243509e-09 -9.628624e-09  1.316131e-07 -3.586892e-07   \n",
       "3  2.911432e-09  1.173174e-08 -2.026889e-07  7.905552e-07 -3.057746e-07   \n",
       "4  2.848548e-09 -1.200517e-08 -1.092799e-08  3.326298e-07 -1.031892e-06   \n",
       "\n",
       "          5             6             7             8             9      ...  \\\n",
       "0 -9.307265e-06 -3.354767e-06  9.228272e-06 -7.605903e-06  1.848075e-05  ...   \n",
       "1  4.284997e-08 -7.215085e-08  3.890247e-08 -8.654467e-08  9.102256e-08  ...   \n",
       "2 -1.985860e-07  1.502827e-06 -1.411944e-06  1.393362e-06 -1.243065e-06  ...   \n",
       "3 -1.512161e-06 -1.893466e-07  1.209419e-06 -2.041668e-06  3.187194e-06  ...   \n",
       "4 -1.691209e-07  2.250036e-06  3.470285e-07  7.772144e-07 -3.185645e-06  ...   \n",
       "\n",
       "   15390  15391  15392  15393  15394  15395  15396  15397  15398  15399  \n",
       "0    0.0    0.0    0.0    0.0    0.0    0.0    0.0    0.0    0.0    0.0  \n",
       "1    0.0    0.0    0.0    0.0    0.0    0.0    0.0    0.0    0.0    0.0  \n",
       "2    0.0    0.0    0.0    0.0    0.0    0.0    0.0    0.0    0.0    0.0  \n",
       "3    0.0    0.0    0.0    0.0    0.0    0.0    0.0    0.0    0.0    0.0  \n",
       "4    0.0    0.0    0.0    0.0    0.0    0.0    0.0    0.0    0.0    0.0  \n",
       "\n",
       "[5 rows x 15400 columns]"
      ]
     },
     "execution_count": 200,
     "metadata": {},
     "output_type": "execute_result"
    }
   ],
   "source": [
    "Xs = [pd.DataFrame(i['SOAP'].to_list(), index = i.index) for i in gridpoints_dfs]\n",
    "Xs[0].head()"
   ]
  },
  {
   "cell_type": "code",
   "execution_count": 201,
   "metadata": {
    "ExecuteTime": {
     "end_time": "2021-01-01T03:59:27.557130Z",
     "start_time": "2021-01-01T03:59:27.242368Z"
    }
   },
   "outputs": [],
   "source": [
    "predEs = [Emodel.predict(X) for X in Xs]"
   ]
  },
  {
   "cell_type": "code",
   "execution_count": 212,
   "metadata": {
    "ExecuteTime": {
     "end_time": "2021-01-01T04:12:48.510965Z",
     "start_time": "2021-01-01T04:12:48.461243Z"
    },
    "scrolled": false
   },
   "outputs": [
    {
     "data": {
      "text/html": [
       "<div>\n",
       "<style scoped>\n",
       "    .dataframe tbody tr th:only-of-type {\n",
       "        vertical-align: middle;\n",
       "    }\n",
       "\n",
       "    .dataframe tbody tr th {\n",
       "        vertical-align: top;\n",
       "    }\n",
       "\n",
       "    .dataframe thead th {\n",
       "        text-align: right;\n",
       "    }\n",
       "</style>\n",
       "<table border=\"1\" class=\"dataframe\">\n",
       "  <thead>\n",
       "    <tr style=\"text-align: right;\">\n",
       "      <th></th>\n",
       "      <th>geom</th>\n",
       "      <th>SOAP</th>\n",
       "      <th>predE</th>\n",
       "    </tr>\n",
       "  </thead>\n",
       "  <tbody>\n",
       "    <tr>\n",
       "      <th>0</th>\n",
       "      <td>(Atom('H', [5.687816897, 11.8095906, 0.4501787...</td>\n",
       "      <td>[7.004225e-08, -3.2115395e-07, 2.1015839e-07, ...</td>\n",
       "      <td>-0.193910</td>\n",
       "    </tr>\n",
       "    <tr>\n",
       "      <th>1</th>\n",
       "      <td>(Atom('H', [5.687816897, 11.8095906, 0.4501787...</td>\n",
       "      <td>[5.6426088e-12, -1.6839649e-10, 1.4222811e-09,...</td>\n",
       "      <td>-0.136332</td>\n",
       "    </tr>\n",
       "    <tr>\n",
       "      <th>2</th>\n",
       "      <td>(Atom('H', [5.687816897, 11.8095906, 0.4501787...</td>\n",
       "      <td>[9.25844e-10, -3.2435095e-09, -9.628624e-09, 1...</td>\n",
       "      <td>-0.146350</td>\n",
       "    </tr>\n",
       "    <tr>\n",
       "      <th>3</th>\n",
       "      <td>(Atom('H', [5.687816897, 11.8095906, 0.4501787...</td>\n",
       "      <td>[2.9114322e-09, 1.17317445e-08, -2.0268891e-07...</td>\n",
       "      <td>-0.134773</td>\n",
       "    </tr>\n",
       "    <tr>\n",
       "      <th>4</th>\n",
       "      <td>(Atom('H', [5.687816897, 11.8095906, 0.4501787...</td>\n",
       "      <td>[2.8485478e-09, -1.2005167e-08, -1.0927992e-08...</td>\n",
       "      <td>-0.208329</td>\n",
       "    </tr>\n",
       "  </tbody>\n",
       "</table>\n",
       "</div>"
      ],
      "text/plain": [
       "                                                geom  \\\n",
       "0  (Atom('H', [5.687816897, 11.8095906, 0.4501787...   \n",
       "1  (Atom('H', [5.687816897, 11.8095906, 0.4501787...   \n",
       "2  (Atom('H', [5.687816897, 11.8095906, 0.4501787...   \n",
       "3  (Atom('H', [5.687816897, 11.8095906, 0.4501787...   \n",
       "4  (Atom('H', [5.687816897, 11.8095906, 0.4501787...   \n",
       "\n",
       "                                                SOAP     predE  \n",
       "0  [7.004225e-08, -3.2115395e-07, 2.1015839e-07, ... -0.193910  \n",
       "1  [5.6426088e-12, -1.6839649e-10, 1.4222811e-09,... -0.136332  \n",
       "2  [9.25844e-10, -3.2435095e-09, -9.628624e-09, 1... -0.146350  \n",
       "3  [2.9114322e-09, 1.17317445e-08, -2.0268891e-07... -0.134773  \n",
       "4  [2.8485478e-09, -1.2005167e-08, -1.0927992e-08... -0.208329  "
      ]
     },
     "execution_count": 212,
     "metadata": {},
     "output_type": "execute_result"
    }
   ],
   "source": [
    "for i, j in zip(gridpoints_dfs, predEs):\n",
    "    i['predE'] = j\n",
    "gridpoints_dfs[0].head()"
   ]
  },
  {
   "cell_type": "code",
   "execution_count": 213,
   "metadata": {
    "ExecuteTime": {
     "end_time": "2021-01-01T04:12:56.630230Z",
     "start_time": "2021-01-01T04:12:55.931601Z"
    }
   },
   "outputs": [],
   "source": [
    "visbases = []\n",
    "for i, j in zip(baseslabs, gridpoints_dfs):\n",
    "    charges = np.append(np.zeros(len(i)), j['predE'])\n",
    "    visbase = i.copy()\n",
    "    for geom in j['geom']:\n",
    "        visbase.append(Atom(\"He\", position = geom[-1].position)) \n",
    "    visbase.set_initial_charges(charges)\n",
    "    visbases += [visbase]\n",
    "view(visbases)"
   ]
  },
  {
   "cell_type": "code",
   "execution_count": 256,
   "metadata": {
    "ExecuteTime": {
     "end_time": "2021-01-13T22:43:35.476355Z",
     "start_time": "2021-01-13T22:43:34.675081Z"
    }
   },
   "outputs": [],
   "source": [
    "view(visbases)"
   ]
  },
  {
   "cell_type": "code",
   "execution_count": 20,
   "metadata": {
    "ExecuteTime": {
     "end_time": "2020-12-15T11:38:34.077399Z",
     "start_time": "2020-12-15T11:38:34.070974Z"
    }
   },
   "outputs": [
    {
     "data": {
      "text/plain": [
       "(-0.4370635688632092, 0.0)"
      ]
     },
     "execution_count": 20,
     "metadata": {},
     "output_type": "execute_result"
    }
   ],
   "source": [
    "min(charges), max(charges)"
   ]
  },
  {
   "cell_type": "code",
   "execution_count": 208,
   "metadata": {
    "ExecuteTime": {
     "end_time": "2021-01-01T04:10:18.915027Z",
     "start_time": "2021-01-01T04:10:17.518611Z"
    },
    "scrolled": false
   },
   "outputs": [
    {
     "data": {
      "image/png": "[encoded data removed]",
      "text/plain": [
       "<Figure size 1440x504 with 1 Axes>"
      ]
     },
     "metadata": {
      "needs_background": "light"
     },
     "output_type": "display_data"
    },
    {
     "name": "stdout",
     "output_type": "stream",
     "text": [
      "(0.8396398278672665, 1.4900939795625467e-107)\n"
     ]
    },
    {
     "data": {
      "image/png": "[encoded data removed]",
      "text/plain": [
       "<Figure size 1440x504 with 1 Axes>"
      ]
     },
     "metadata": {
      "needs_background": "light"
     },
     "output_type": "display_data"
    },
    {
     "name": "stdout",
     "output_type": "stream",
     "text": [
      "(0.861387174447881, 3.824170000748275e-119)\n"
     ]
    },
    {
     "data": {
      "image/png": "[encoded data removed]",
      "text/plain": [
       "<Figure size 1440x504 with 1 Axes>"
      ]
     },
     "metadata": {
      "needs_background": "light"
     },
     "output_type": "display_data"
    },
    {
     "name": "stdout",
     "output_type": "stream",
     "text": [
      "(0.8381372305245522, 8.117209210041773e-107)\n"
     ]
    },
    {
     "data": {
      "image/png": "[encoded data removed]",
      "text/plain": [
       "<Figure size 1440x504 with 1 Axes>"
      ]
     },
     "metadata": {
      "needs_background": "light"
     },
     "output_type": "display_data"
    },
    {
     "name": "stdout",
     "output_type": "stream",
     "text": [
      "(0.8638228282277429, 1.4528171719939441e-120)\n"
     ]
    },
    {
     "data": {
      "image/png": "[encoded data removed]",
      "text/plain": [
       "<Figure size 1440x504 with 1 Axes>"
      ]
     },
     "metadata": {
      "needs_background": "light"
     },
     "output_type": "display_data"
    },
    {
     "name": "stdout",
     "output_type": "stream",
     "text": [
      "(0.8784616170335122, 1.0053618535486293e-129)\n"
     ]
    }
   ],
   "source": [
    "from scipy.stats import pearsonr \n",
    "for i in gridpoints:\n",
    "    plt.scatter([geom[-1].position[2] for geom in i['geom']],\n",
    "             i['predE']\n",
    "            )\n",
    "    plt.show()\n",
    "    print(\n",
    "    pearsonr([geom[-1].position[2] for geom in i['geom']],\n",
    "             i['predE']\n",
    "            )\n",
    "    )"
   ]
  },
  {
   "cell_type": "markdown",
   "metadata": {},
   "source": [
    "# Adaptive sampling based on Epred"
   ]
  },
  {
   "cell_type": "code",
   "execution_count": 214,
   "metadata": {
    "ExecuteTime": {
     "end_time": "2021-01-01T04:13:02.025241Z",
     "start_time": "2021-01-01T04:13:01.879902Z"
    }
   },
   "outputs": [
    {
     "data": {
      "text/html": [
       "<div>\n",
       "<style scoped>\n",
       "    .dataframe tbody tr th:only-of-type {\n",
       "        vertical-align: middle;\n",
       "    }\n",
       "\n",
       "    .dataframe tbody tr th {\n",
       "        vertical-align: top;\n",
       "    }\n",
       "\n",
       "    .dataframe thead th {\n",
       "        text-align: right;\n",
       "    }\n",
       "</style>\n",
       "<table border=\"1\" class=\"dataframe\">\n",
       "  <thead>\n",
       "    <tr style=\"text-align: right;\">\n",
       "      <th></th>\n",
       "      <th>geom</th>\n",
       "      <th>SOAP</th>\n",
       "      <th>predE</th>\n",
       "    </tr>\n",
       "  </thead>\n",
       "  <tbody>\n",
       "    <tr>\n",
       "      <th>377</th>\n",
       "      <td>(Atom('H', [5.687816897, 11.8095906, 0.4501787...</td>\n",
       "      <td>[1.3365887e-09, 1.9650301e-08, -2.1144331e-07,...</td>\n",
       "      <td>-0.502441</td>\n",
       "    </tr>\n",
       "    <tr>\n",
       "      <th>306</th>\n",
       "      <td>(Atom('H', [5.687816897, 11.8095906, 0.4501787...</td>\n",
       "      <td>[3.0601693e-15, -1.8019449e-12, 2.0491081e-11,...</td>\n",
       "      <td>-0.498455</td>\n",
       "    </tr>\n",
       "    <tr>\n",
       "      <th>81</th>\n",
       "      <td>(Atom('H', [5.687816897, 11.8095906, 0.4501787...</td>\n",
       "      <td>[3.0957588e-06, -1.4019675e-05, -1.3837271e-06...</td>\n",
       "      <td>-0.479263</td>\n",
       "    </tr>\n",
       "    <tr>\n",
       "      <th>102</th>\n",
       "      <td>(Atom('H', [5.687816897, 11.8095906, 0.4501787...</td>\n",
       "      <td>[2.026489e-06, -8.509304e-06, -9.202264e-06, 5...</td>\n",
       "      <td>-0.454075</td>\n",
       "    </tr>\n",
       "    <tr>\n",
       "      <th>143</th>\n",
       "      <td>(Atom('H', [5.687816897, 11.8095906, 0.4501787...</td>\n",
       "      <td>[0.0065697297, -0.003354505, -0.010326623, -0....</td>\n",
       "      <td>-0.438138</td>\n",
       "    </tr>\n",
       "    <tr>\n",
       "      <th>...</th>\n",
       "      <td>...</td>\n",
       "      <td>...</td>\n",
       "      <td>...</td>\n",
       "    </tr>\n",
       "    <tr>\n",
       "      <th>47</th>\n",
       "      <td>(Atom('H', [5.687816897, 11.8095906, 0.4501787...</td>\n",
       "      <td>[1.332621e-12, -1.0450656e-11, 5.960025e-11, -...</td>\n",
       "      <td>-0.074960</td>\n",
       "    </tr>\n",
       "    <tr>\n",
       "      <th>169</th>\n",
       "      <td>(Atom('H', [5.687816897, 11.8095906, 0.4501787...</td>\n",
       "      <td>[4.2296717e-12, -3.608603e-11, 2.3843286e-10, ...</td>\n",
       "      <td>-0.073415</td>\n",
       "    </tr>\n",
       "    <tr>\n",
       "      <th>268</th>\n",
       "      <td>(Atom('H', [5.687816897, 11.8095906, 0.4501787...</td>\n",
       "      <td>[8.030823e-12, -7.1355415e-11, 5.24325e-10, -3...</td>\n",
       "      <td>-0.072530</td>\n",
       "    </tr>\n",
       "    <tr>\n",
       "      <th>226</th>\n",
       "      <td>(Atom('H', [5.687816897, 11.8095906, 0.4501787...</td>\n",
       "      <td>[8.112578e-09, -6.789572e-10, -2.6393116e-07, ...</td>\n",
       "      <td>-0.072497</td>\n",
       "    </tr>\n",
       "    <tr>\n",
       "      <th>207</th>\n",
       "      <td>(Atom('H', [5.687816897, 11.8095906, 0.4501787...</td>\n",
       "      <td>[1.5771843e-07, -1.1523274e-06, 3.515697e-06, ...</td>\n",
       "      <td>-0.070198</td>\n",
       "    </tr>\n",
       "  </tbody>\n",
       "</table>\n",
       "<p>400 rows × 3 columns</p>\n",
       "</div>"
      ],
      "text/plain": [
       "                                                  geom  \\\n",
       "377  (Atom('H', [5.687816897, 11.8095906, 0.4501787...   \n",
       "306  (Atom('H', [5.687816897, 11.8095906, 0.4501787...   \n",
       "81   (Atom('H', [5.687816897, 11.8095906, 0.4501787...   \n",
       "102  (Atom('H', [5.687816897, 11.8095906, 0.4501787...   \n",
       "143  (Atom('H', [5.687816897, 11.8095906, 0.4501787...   \n",
       "..                                                 ...   \n",
       "47   (Atom('H', [5.687816897, 11.8095906, 0.4501787...   \n",
       "169  (Atom('H', [5.687816897, 11.8095906, 0.4501787...   \n",
       "268  (Atom('H', [5.687816897, 11.8095906, 0.4501787...   \n",
       "226  (Atom('H', [5.687816897, 11.8095906, 0.4501787...   \n",
       "207  (Atom('H', [5.687816897, 11.8095906, 0.4501787...   \n",
       "\n",
       "                                                  SOAP     predE  \n",
       "377  [1.3365887e-09, 1.9650301e-08, -2.1144331e-07,... -0.502441  \n",
       "306  [3.0601693e-15, -1.8019449e-12, 2.0491081e-11,... -0.498455  \n",
       "81   [3.0957588e-06, -1.4019675e-05, -1.3837271e-06... -0.479263  \n",
       "102  [2.026489e-06, -8.509304e-06, -9.202264e-06, 5... -0.454075  \n",
       "143  [0.0065697297, -0.003354505, -0.010326623, -0.... -0.438138  \n",
       "..                                                 ...       ...  \n",
       "47   [1.332621e-12, -1.0450656e-11, 5.960025e-11, -... -0.074960  \n",
       "169  [4.2296717e-12, -3.608603e-11, 2.3843286e-10, ... -0.073415  \n",
       "268  [8.030823e-12, -7.1355415e-11, 5.24325e-10, -3... -0.072530  \n",
       "226  [8.112578e-09, -6.789572e-10, -2.6393116e-07, ... -0.072497  \n",
       "207  [1.5771843e-07, -1.1523274e-06, 3.515697e-06, ... -0.070198  \n",
       "\n",
       "[400 rows x 3 columns]"
      ]
     },
     "execution_count": 214,
     "metadata": {},
     "output_type": "execute_result"
    }
   ],
   "source": [
    "for i, val in enumerate(gridpoints_dfs):\n",
    "    gridpoints_dfs[i] = val.sort_values(by = 'predE')\n",
    "gridpoints_dfs[0]"
   ]
  },
  {
   "cell_type": "code",
   "execution_count": 215,
   "metadata": {
    "ExecuteTime": {
     "end_time": "2021-01-01T04:13:29.961909Z",
     "start_time": "2021-01-01T04:13:29.912636Z"
    }
   },
   "outputs": [],
   "source": [
    "for i in gridpoints_dfs:\n",
    "    i['xpos'] = [geom[-1].position[0] for geom in i['geom']]\n",
    "    i['ypos'] = [geom[-1].position[1] for geom in i['geom']]\n",
    "    i['zpos'] = [geom[-1].position[2] for geom in i['geom']]"
   ]
  },
  {
   "cell_type": "code",
   "execution_count": 216,
   "metadata": {
    "ExecuteTime": {
     "end_time": "2021-01-01T04:13:40.185065Z",
     "start_time": "2021-01-01T04:13:40.104183Z"
    },
    "collapsed": true
   },
   "outputs": [
    {
     "data": {
      "text/html": [
       "<div>\n",
       "<style scoped>\n",
       "    .dataframe tbody tr th:only-of-type {\n",
       "        vertical-align: middle;\n",
       "    }\n",
       "\n",
       "    .dataframe tbody tr th {\n",
       "        vertical-align: top;\n",
       "    }\n",
       "\n",
       "    .dataframe thead th {\n",
       "        text-align: right;\n",
       "    }\n",
       "</style>\n",
       "<table border=\"1\" class=\"dataframe\">\n",
       "  <thead>\n",
       "    <tr style=\"text-align: right;\">\n",
       "      <th></th>\n",
       "      <th>geom</th>\n",
       "      <th>SOAP</th>\n",
       "      <th>predE</th>\n",
       "      <th>xpos</th>\n",
       "      <th>ypos</th>\n",
       "      <th>zpos</th>\n",
       "    </tr>\n",
       "  </thead>\n",
       "  <tbody>\n",
       "    <tr>\n",
       "      <th>377</th>\n",
       "      <td>(Atom('H', [5.687816897, 11.8095906, 0.4501787...</td>\n",
       "      <td>[1.3365887e-09, 1.9650301e-08, -2.1144331e-07,...</td>\n",
       "      <td>-0.502441</td>\n",
       "      <td>14.267179</td>\n",
       "      <td>13.474558</td>\n",
       "      <td>17.717990</td>\n",
       "    </tr>\n",
       "    <tr>\n",
       "      <th>306</th>\n",
       "      <td>(Atom('H', [5.687816897, 11.8095906, 0.4501787...</td>\n",
       "      <td>[3.0601693e-15, -1.8019449e-12, 2.0491081e-11,...</td>\n",
       "      <td>-0.498455</td>\n",
       "      <td>11.889316</td>\n",
       "      <td>4.755726</td>\n",
       "      <td>15.453934</td>\n",
       "    </tr>\n",
       "    <tr>\n",
       "      <th>81</th>\n",
       "      <td>(Atom('H', [5.687816897, 11.8095906, 0.4501787...</td>\n",
       "      <td>[3.0957588e-06, -1.4019675e-05, -1.3837271e-06...</td>\n",
       "      <td>-0.479263</td>\n",
       "      <td>3.170484</td>\n",
       "      <td>0.792621</td>\n",
       "      <td>17.975896</td>\n",
       "    </tr>\n",
       "    <tr>\n",
       "      <th>102</th>\n",
       "      <td>(Atom('H', [5.687816897, 11.8095906, 0.4501787...</td>\n",
       "      <td>[2.026489e-06, -8.509304e-06, -9.202264e-06, 5...</td>\n",
       "      <td>-0.454075</td>\n",
       "      <td>3.963105</td>\n",
       "      <td>1.585242</td>\n",
       "      <td>18.078412</td>\n",
       "    </tr>\n",
       "    <tr>\n",
       "      <th>143</th>\n",
       "      <td>(Atom('H', [5.687816897, 11.8095906, 0.4501787...</td>\n",
       "      <td>[0.0065697297, -0.003354505, -0.010326623, -0....</td>\n",
       "      <td>-0.438138</td>\n",
       "      <td>5.548347</td>\n",
       "      <td>2.377863</td>\n",
       "      <td>17.816379</td>\n",
       "    </tr>\n",
       "    <tr>\n",
       "      <th>...</th>\n",
       "      <td>...</td>\n",
       "      <td>...</td>\n",
       "      <td>...</td>\n",
       "      <td>...</td>\n",
       "      <td>...</td>\n",
       "      <td>...</td>\n",
       "    </tr>\n",
       "    <tr>\n",
       "      <th>47</th>\n",
       "      <td>(Atom('H', [5.687816897, 11.8095906, 0.4501787...</td>\n",
       "      <td>[1.332621e-12, -1.0450656e-11, 5.960025e-11, -...</td>\n",
       "      <td>-0.074960</td>\n",
       "      <td>1.585242</td>\n",
       "      <td>5.548347</td>\n",
       "      <td>22.189038</td>\n",
       "    </tr>\n",
       "    <tr>\n",
       "      <th>169</th>\n",
       "      <td>(Atom('H', [5.687816897, 11.8095906, 0.4501787...</td>\n",
       "      <td>[4.2296717e-12, -3.608603e-11, 2.3843286e-10, ...</td>\n",
       "      <td>-0.073415</td>\n",
       "      <td>6.340968</td>\n",
       "      <td>7.133590</td>\n",
       "      <td>21.882445</td>\n",
       "    </tr>\n",
       "    <tr>\n",
       "      <th>268</th>\n",
       "      <td>(Atom('H', [5.687816897, 11.8095906, 0.4501787...</td>\n",
       "      <td>[8.030823e-12, -7.1355415e-11, 5.24325e-10, -3...</td>\n",
       "      <td>-0.072530</td>\n",
       "      <td>10.304074</td>\n",
       "      <td>6.340968</td>\n",
       "      <td>22.202124</td>\n",
       "    </tr>\n",
       "    <tr>\n",
       "      <th>226</th>\n",
       "      <td>(Atom('H', [5.687816897, 11.8095906, 0.4501787...</td>\n",
       "      <td>[8.112578e-09, -6.789572e-10, -2.6393116e-07, ...</td>\n",
       "      <td>-0.072497</td>\n",
       "      <td>8.718832</td>\n",
       "      <td>4.755726</td>\n",
       "      <td>20.618492</td>\n",
       "    </tr>\n",
       "    <tr>\n",
       "      <th>207</th>\n",
       "      <td>(Atom('H', [5.687816897, 11.8095906, 0.4501787...</td>\n",
       "      <td>[1.5771843e-07, -1.1523274e-06, 3.515697e-06, ...</td>\n",
       "      <td>-0.070198</td>\n",
       "      <td>7.926211</td>\n",
       "      <td>5.548347</td>\n",
       "      <td>20.456094</td>\n",
       "    </tr>\n",
       "  </tbody>\n",
       "</table>\n",
       "<p>400 rows × 6 columns</p>\n",
       "</div>"
      ],
      "text/plain": [
       "                                                  geom  \\\n",
       "377  (Atom('H', [5.687816897, 11.8095906, 0.4501787...   \n",
       "306  (Atom('H', [5.687816897, 11.8095906, 0.4501787...   \n",
       "81   (Atom('H', [5.687816897, 11.8095906, 0.4501787...   \n",
       "102  (Atom('H', [5.687816897, 11.8095906, 0.4501787...   \n",
       "143  (Atom('H', [5.687816897, 11.8095906, 0.4501787...   \n",
       "..                                                 ...   \n",
       "47   (Atom('H', [5.687816897, 11.8095906, 0.4501787...   \n",
       "169  (Atom('H', [5.687816897, 11.8095906, 0.4501787...   \n",
       "268  (Atom('H', [5.687816897, 11.8095906, 0.4501787...   \n",
       "226  (Atom('H', [5.687816897, 11.8095906, 0.4501787...   \n",
       "207  (Atom('H', [5.687816897, 11.8095906, 0.4501787...   \n",
       "\n",
       "                                                  SOAP     predE       xpos  \\\n",
       "377  [1.3365887e-09, 1.9650301e-08, -2.1144331e-07,... -0.502441  14.267179   \n",
       "306  [3.0601693e-15, -1.8019449e-12, 2.0491081e-11,... -0.498455  11.889316   \n",
       "81   [3.0957588e-06, -1.4019675e-05, -1.3837271e-06... -0.479263   3.170484   \n",
       "102  [2.026489e-06, -8.509304e-06, -9.202264e-06, 5... -0.454075   3.963105   \n",
       "143  [0.0065697297, -0.003354505, -0.010326623, -0.... -0.438138   5.548347   \n",
       "..                                                 ...       ...        ...   \n",
       "47   [1.332621e-12, -1.0450656e-11, 5.960025e-11, -... -0.074960   1.585242   \n",
       "169  [4.2296717e-12, -3.608603e-11, 2.3843286e-10, ... -0.073415   6.340968   \n",
       "268  [8.030823e-12, -7.1355415e-11, 5.24325e-10, -3... -0.072530  10.304074   \n",
       "226  [8.112578e-09, -6.789572e-10, -2.6393116e-07, ... -0.072497   8.718832   \n",
       "207  [1.5771843e-07, -1.1523274e-06, 3.515697e-06, ... -0.070198   7.926211   \n",
       "\n",
       "          ypos       zpos  \n",
       "377  13.474558  17.717990  \n",
       "306   4.755726  15.453934  \n",
       "81    0.792621  17.975896  \n",
       "102   1.585242  18.078412  \n",
       "143   2.377863  17.816379  \n",
       "..         ...        ...  \n",
       "47    5.548347  22.189038  \n",
       "169   7.133590  21.882445  \n",
       "268   6.340968  22.202124  \n",
       "226   4.755726  20.618492  \n",
       "207   5.548347  20.456094  \n",
       "\n",
       "[400 rows x 6 columns]"
      ]
     },
     "execution_count": 216,
     "metadata": {},
     "output_type": "execute_result"
    }
   ],
   "source": [
    "gridpoints_dfs[0]"
   ]
  },
  {
   "cell_type": "code",
   "execution_count": 219,
   "metadata": {
    "ExecuteTime": {
     "end_time": "2021-01-02T00:12:27.817388Z",
     "start_time": "2021-01-02T00:12:25.550332Z"
    }
   },
   "outputs": [
    {
     "name": "stdout",
     "output_type": "stream",
     "text": [
      "[array([14.26717909, 13.47455803, 17.71798969]), array([11.88931591,  4.75572636, 15.45393372]), array([ 3.17048424,  0.79262106, 17.9758956 ]), array([ 8.71883167, 11.88931591, 17.93987436]), array([ 4.75572636,  6.34096848, 16.61615185]), array([ 0.        ,  9.51145273, 19.15182571]), array([ 7.92621061,  2.37786318, 19.89089693]), array([ 0.79262106,  5.54834742, 20.73254907]), array([ 3.9631053 , 10.30407379, 20.40569568])] 9\n",
      "[array([ 7.13358954,  4.75572636, 15.9153871 ]), array([ 7.92621061, 14.26717909, 17.97965984]), array([15.05980015,  3.17048424, 16.01570008]), array([14.26717909, 14.26717909, 18.3052624 ]), array([ 0.        ,  7.92621061, 17.97447493]), array([ 3.9631053 ,  0.        , 19.98194725]), array([ 3.9631053 ,  8.71883167, 18.79146826]), array([11.09669485, 10.30407379, 19.77679001]), array([11.09669485,  2.37786318, 19.97613811])] 9\n",
      "[array([ 7.13358954, 11.88931591, 16.65652977]), array([ 4.75572636,  5.54834742, 17.31710251]), array([14.26717909, 14.26717909, 18.26683284]), array([13.47455803,  3.9631053 , 18.48740524]), array([ 0.        ,  9.51145273, 19.09054364]), array([ 3.17048424,  0.79262106, 19.06531982]), array([11.09669485, 11.09669485, 19.51658702]), array([ 8.71883167,  2.37786318, 19.43399222]), array([ 8.71883167,  7.13358954, 20.88263626])] 9\n",
      "[array([ 3.17048424,  0.79262106, 17.622899  ]), array([14.26717909, 13.47455803, 14.6284791 ]), array([ 7.13358954, 11.88931591, 17.52879717]), array([ 4.75572636,  5.54834742, 17.48373133]), array([ 0.        ,  7.92621061, 18.20695249]), array([12.68193697,  2.37786318, 18.20043211]), array([11.09669485,  9.51145273, 18.66412917]), array([ 8.71883167,  3.17048424, 19.63307344]), array([ 3.17048424, 11.09669485, 21.1728778 ])] 9\n",
      "[array([14.26717909, 13.47455803, 16.90597544]), array([ 7.13358954, 13.47455803, 16.10414725]), array([15.05980015,  2.37786318, 17.93817519]), array([ 5.54834742,  3.9631053 , 17.49995298]), array([ 0.79262106,  6.34096848, 18.10813432]), array([12.68193697,  9.51145273, 18.60681816]), array([11.09669485,  4.75572636, 18.9688353 ]), array([ 4.75572636,  7.92621061, 18.73428331]), array([ 8.71883167,  8.71883167, 21.43659113]), array([ 3.17048424, 12.68193697, 21.2812117 ])] 10\n"
     ]
    }
   ],
   "source": [
    "adsorbatePoints = []\n",
    "mefCutoff = 4\n",
    "for i, j in zip(gridpoints_dfs, visbases):\n",
    "    _adsorbatePoints = []\n",
    "    a = j.cell[0]\n",
    "    b = j.cell[1]\n",
    "    for i, row in i.iterrows():\n",
    "        isclose = False\n",
    "        point1 = np.array([row['xpos'], row['ypos']]) \n",
    "        for x, y, z in _adsorbatePoints: \n",
    "            for dispx in [-a, a*0, a]:\n",
    "                for dispy in [-b, b*0, b]:\n",
    "                    point2 = np.array([x, y])\n",
    "                    point2 = point2 + dispx[:2] + dispy[:2]\n",
    "\n",
    "                    if np.linalg.norm(point1 - point2) < mefCutoff:\n",
    "                        isclose = True\n",
    "        if not isclose:\n",
    "            _adsorbatePoints.append(np.append(point1, row['zpos']))\n",
    "    print(_adsorbatePoints, len(_adsorbatePoints))\n",
    "    adsorbatePoints += [_adsorbatePoints]"
   ]
  },
  {
   "cell_type": "code",
   "execution_count": 220,
   "metadata": {
    "ExecuteTime": {
     "end_time": "2021-01-02T00:12:43.890486Z",
     "start_time": "2021-01-02T00:12:43.876004Z"
    }
   },
   "outputs": [
    {
     "data": {
      "text/plain": [
       "[[array([14.26717909, 13.47455803, 17.71798969]),\n",
       "  array([11.88931591,  4.75572636, 15.45393372]),\n",
       "  array([ 3.17048424,  0.79262106, 17.9758956 ]),\n",
       "  array([ 8.71883167, 11.88931591, 17.93987436]),\n",
       "  array([ 4.75572636,  6.34096848, 16.61615185]),\n",
       "  array([ 0.        ,  9.51145273, 19.15182571]),\n",
       "  array([ 7.92621061,  2.37786318, 19.89089693]),\n",
       "  array([ 0.79262106,  5.54834742, 20.73254907]),\n",
       "  array([ 3.9631053 , 10.30407379, 20.40569568])],\n",
       " [array([ 7.13358954,  4.75572636, 15.9153871 ]),\n",
       "  array([ 7.92621061, 14.26717909, 17.97965984]),\n",
       "  array([15.05980015,  3.17048424, 16.01570008]),\n",
       "  array([14.26717909, 14.26717909, 18.3052624 ]),\n",
       "  array([ 0.        ,  7.92621061, 17.97447493]),\n",
       "  array([ 3.9631053 ,  0.        , 19.98194725]),\n",
       "  array([ 3.9631053 ,  8.71883167, 18.79146826]),\n",
       "  array([11.09669485, 10.30407379, 19.77679001]),\n",
       "  array([11.09669485,  2.37786318, 19.97613811])],\n",
       " [array([ 7.13358954, 11.88931591, 16.65652977]),\n",
       "  array([ 4.75572636,  5.54834742, 17.31710251]),\n",
       "  array([14.26717909, 14.26717909, 18.26683284]),\n",
       "  array([13.47455803,  3.9631053 , 18.48740524]),\n",
       "  array([ 0.        ,  9.51145273, 19.09054364]),\n",
       "  array([ 3.17048424,  0.79262106, 19.06531982]),\n",
       "  array([11.09669485, 11.09669485, 19.51658702]),\n",
       "  array([ 8.71883167,  2.37786318, 19.43399222]),\n",
       "  array([ 8.71883167,  7.13358954, 20.88263626])],\n",
       " [array([ 3.17048424,  0.79262106, 17.622899  ]),\n",
       "  array([14.26717909, 13.47455803, 14.6284791 ]),\n",
       "  array([ 7.13358954, 11.88931591, 17.52879717]),\n",
       "  array([ 4.75572636,  5.54834742, 17.48373133]),\n",
       "  array([ 0.        ,  7.92621061, 18.20695249]),\n",
       "  array([12.68193697,  2.37786318, 18.20043211]),\n",
       "  array([11.09669485,  9.51145273, 18.66412917]),\n",
       "  array([ 8.71883167,  3.17048424, 19.63307344]),\n",
       "  array([ 3.17048424, 11.09669485, 21.1728778 ])],\n",
       " [array([14.26717909, 13.47455803, 16.90597544]),\n",
       "  array([ 7.13358954, 13.47455803, 16.10414725]),\n",
       "  array([15.05980015,  2.37786318, 17.93817519]),\n",
       "  array([ 5.54834742,  3.9631053 , 17.49995298]),\n",
       "  array([ 0.79262106,  6.34096848, 18.10813432]),\n",
       "  array([12.68193697,  9.51145273, 18.60681816]),\n",
       "  array([11.09669485,  4.75572636, 18.9688353 ]),\n",
       "  array([ 4.75572636,  7.92621061, 18.73428331]),\n",
       "  array([ 8.71883167,  8.71883167, 21.43659113]),\n",
       "  array([ 3.17048424, 12.68193697, 21.2812117 ])]]"
      ]
     },
     "execution_count": 220,
     "metadata": {},
     "output_type": "execute_result"
    }
   ],
   "source": [
    "adsorbatePoints"
   ]
  },
  {
   "cell_type": "code",
   "execution_count": 225,
   "metadata": {
    "ExecuteTime": {
     "end_time": "2021-01-02T00:22:46.439197Z",
     "start_time": "2021-01-02T00:22:45.909158Z"
    }
   },
   "outputs": [],
   "source": [
    "adsvisbases = []\n",
    "idx = 0\n",
    "for i, j in zip(baseslabs, adsorbatePoints):\n",
    "    adsvisbase = i.copy()\n",
    "    maxz = np.max([atom.position[2] for atom in adsvisbase])\n",
    "    for point in j:\n",
    "        add_adsorbate(adsvisbase, mef, height = point[2] - maxz + 1, position = (point[0], point[1]))\n",
    "\n",
    "    gen.write_gen(\"../input%d.gen\" % idx, adsvisbase)\n",
    "    idx += 1\n",
    "    adsvisbases += [adsvisbase]\n",
    "view(adsvisbasesng)"
   ]
  },
  {
   "cell_type": "code",
   "execution_count": null,
   "metadata": {},
   "outputs": [],
   "source": []
  }
 ],
 "metadata": {
  "kernelspec": {
   "display_name": "Python 3",
   "language": "python",
   "name": "python3"
  },
  "language_info": {
   "codemirror_mode": {
    "name": "ipython",
    "version": 3
   },
   "file_extension": ".py",
   "mimetype": "text/x-python",
   "name": "python",
   "nbconvert_exporter": "python",
   "pygments_lexer": "ipython3",
   "version": "3.7.7"
  },
  "toc": {
   "base_numbering": 1,
   "nav_menu": {},
   "number_sections": true,
   "sideBar": true,
   "skip_h1_title": false,
   "title_cell": "Table of Contents",
   "title_sidebar": "Contents",
   "toc_cell": false,
   "toc_position": {
    "height": "calc(100% - 180px)",
    "left": "10px",
    "top": "150px",
    "width": "370.594px"
   },
   "toc_section_display": true,
   "toc_window_display": false
  }
 },
 "nbformat": 4,
 "nbformat_minor": 4
}
